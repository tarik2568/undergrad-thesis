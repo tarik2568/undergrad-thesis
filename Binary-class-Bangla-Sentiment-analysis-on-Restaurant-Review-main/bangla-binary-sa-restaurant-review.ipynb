{
 "cells": [
  {
   "cell_type": "code",
   "execution_count": 1,
   "id": "eae31a9c",
   "metadata": {
    "execution": {
     "iopub.execute_input": "2022-04-17T20:56:46.830138Z",
     "iopub.status.busy": "2022-04-17T20:56:46.829334Z",
     "iopub.status.idle": "2022-04-17T20:56:53.439640Z",
     "shell.execute_reply": "2022-04-17T20:56:53.438431Z"
    },
    "papermill": {
     "duration": 6.647176,
     "end_time": "2022-04-17T20:56:53.442612",
     "exception": false,
     "start_time": "2022-04-17T20:56:46.795436",
     "status": "completed"
    },
    "tags": []
   },
   "outputs": [],
   "source": [
    "import numpy as np\n",
    "import keras\n",
    "import pandas as pd \n",
    "from keras.models import Sequential\n",
    "from keras.layers import Dense, Dropout, Embedding, LSTM,Bidirectional\n",
    "import re\n",
    "import tensorflow as tf\n",
    "from keras.preprocessing.text import Tokenizer"
   ]
  },
  {
   "cell_type": "code",
   "execution_count": 2,
   "id": "4ca06007",
   "metadata": {
    "execution": {
     "iopub.execute_input": "2022-04-17T20:56:53.508948Z",
     "iopub.status.busy": "2022-04-17T20:56:53.508555Z",
     "iopub.status.idle": "2022-04-17T20:56:54.972792Z",
     "shell.execute_reply": "2022-04-17T20:56:54.971795Z"
    },
    "papermill": {
     "duration": 1.503085,
     "end_time": "2022-04-17T20:56:54.975233",
     "exception": false,
     "start_time": "2022-04-17T20:56:53.472148",
     "status": "completed"
    },
    "tags": []
   },
   "outputs": [],
   "source": [
    "from keras.preprocessing.sequence import pad_sequences\n",
    "from keras.layers import Activation, Conv2D, Input, Embedding, Reshape, MaxPool1D, Concatenate, Flatten, Dropout, Dense, Conv1D\n",
    "from keras.models import Model\n",
    "from keras.callbacks import ModelCheckpoint\n",
    "from tensorflow.keras.optimizers import Adam,SGD\n",
    "import warnings\n",
    "warnings.filterwarnings('ignore')\n",
    "import seaborn as sns"
   ]
  },
  {
   "cell_type": "code",
   "execution_count": 3,
   "id": "5a99c950",
   "metadata": {
    "execution": {
     "iopub.execute_input": "2022-04-17T20:56:55.033478Z",
     "iopub.status.busy": "2022-04-17T20:56:55.032862Z",
     "iopub.status.idle": "2022-04-17T20:56:55.045330Z",
     "shell.execute_reply": "2022-04-17T20:56:55.044552Z"
    },
    "papermill": {
     "duration": 0.045466,
     "end_time": "2022-04-17T20:56:55.048131",
     "exception": false,
     "start_time": "2022-04-17T20:56:55.002665",
     "status": "completed"
    },
    "tags": []
   },
   "outputs": [
    {
     "name": "stdout",
     "output_type": "stream",
     "text": [
      "/kaggle/input/sa-bangla-binary-restaurant-review/Bert_Preprocessed_Restaurant_Review_Dataset.xlsx\n"
     ]
    }
   ],
   "source": [
    "import os\n",
    "for dirname, _, filenames in os.walk('/kaggle/input'):\n",
    "    for filename in filenames:\n",
    "        print(os.path.join(dirname, filename))"
   ]
  },
  {
   "cell_type": "code",
   "execution_count": 4,
   "id": "6b0d949b",
   "metadata": {
    "execution": {
     "iopub.execute_input": "2022-04-17T20:56:55.108472Z",
     "iopub.status.busy": "2022-04-17T20:56:55.108137Z",
     "iopub.status.idle": "2022-04-17T20:57:11.426570Z",
     "shell.execute_reply": "2022-04-17T20:57:11.425112Z"
    },
    "papermill": {
     "duration": 16.350955,
     "end_time": "2022-04-17T20:57:11.429681",
     "exception": false,
     "start_time": "2022-04-17T20:56:55.078726",
     "status": "completed"
    },
    "tags": []
   },
   "outputs": [
    {
     "name": "stdout",
     "output_type": "stream",
     "text": [
      "Collecting openpyxl\r\n",
      "  Downloading openpyxl-3.0.9-py2.py3-none-any.whl (242 kB)\r\n",
      "\u001b[2K     \u001b[90m━━━━━━━━━━━━━━━━━━━━━━━━━━━━━━━━━━━━━\u001b[0m \u001b[32m242.2/242.2 KB\u001b[0m \u001b[31m514.1 kB/s\u001b[0m eta \u001b[36m0:00:00\u001b[0m\r\n",
      "\u001b[?25hCollecting et-xmlfile\r\n",
      "  Downloading et_xmlfile-1.1.0-py3-none-any.whl (4.7 kB)\r\n",
      "Installing collected packages: et-xmlfile, openpyxl\r\n",
      "Successfully installed et-xmlfile-1.1.0 openpyxl-3.0.9\r\n",
      "\u001b[33mWARNING: Running pip as the 'root' user can result in broken permissions and conflicting behaviour with the system package manager. It is recommended to use a virtual environment instead: https://pip.pypa.io/warnings/venv\u001b[0m\u001b[33m\r\n",
      "\u001b[0mNote: you may need to restart the kernel to use updated packages.\n"
     ]
    }
   ],
   "source": [
    "pip install openpyxl"
   ]
  },
  {
   "cell_type": "code",
   "execution_count": 5,
   "id": "01c0e2d2",
   "metadata": {
    "execution": {
     "iopub.execute_input": "2022-04-17T20:57:11.507294Z",
     "iopub.status.busy": "2022-04-17T20:57:11.506392Z",
     "iopub.status.idle": "2022-04-17T20:57:12.267322Z",
     "shell.execute_reply": "2022-04-17T20:57:12.266269Z"
    },
    "papermill": {
     "duration": 0.802788,
     "end_time": "2022-04-17T20:57:12.269992",
     "exception": false,
     "start_time": "2022-04-17T20:57:11.467204",
     "status": "completed"
    },
    "tags": []
   },
   "outputs": [
    {
     "name": "stdout",
     "output_type": "stream",
     "text": [
      "<class 'pandas.core.frame.DataFrame'>\n",
      "RangeIndex: 1431 entries, 0 to 1430\n",
      "Data columns (total 8 columns):\n",
      " #   Column        Non-Null Count  Dtype \n",
      "---  ------        --------------  ----- \n",
      " 0   Unnamed: 0    1431 non-null   int64 \n",
      " 1   Unnamed: 0.1  1431 non-null   int64 \n",
      " 2   Reviews       1431 non-null   object\n",
      " 3   Sentiment     1431 non-null   object\n",
      " 4   Text          1431 non-null   object\n",
      " 5   Label         1431 non-null   int64 \n",
      " 6   Token         1431 non-null   object\n",
      " 7   Token_ID      1431 non-null   object\n",
      "dtypes: int64(3), object(5)\n",
      "memory usage: 89.6+ KB\n"
     ]
    }
   ],
   "source": [
    "df=pd.read_excel('/kaggle/input/sa-bangla-binary-restaurant-review/Bert_Preprocessed_Restaurant_Review_Dataset.xlsx')\n",
    "df.info()"
   ]
  },
  {
   "cell_type": "code",
   "execution_count": 6,
   "id": "5c0b8158",
   "metadata": {
    "execution": {
     "iopub.execute_input": "2022-04-17T20:57:12.339527Z",
     "iopub.status.busy": "2022-04-17T20:57:12.338420Z",
     "iopub.status.idle": "2022-04-17T20:57:12.360294Z",
     "shell.execute_reply": "2022-04-17T20:57:12.359079Z"
    },
    "papermill": {
     "duration": 0.059517,
     "end_time": "2022-04-17T20:57:12.363209",
     "exception": false,
     "start_time": "2022-04-17T20:57:12.303692",
     "status": "completed"
    },
    "tags": []
   },
   "outputs": [
    {
     "data": {
      "text/html": [
       "<div>\n",
       "<style scoped>\n",
       "    .dataframe tbody tr th:only-of-type {\n",
       "        vertical-align: middle;\n",
       "    }\n",
       "\n",
       "    .dataframe tbody tr th {\n",
       "        vertical-align: top;\n",
       "    }\n",
       "\n",
       "    .dataframe thead th {\n",
       "        text-align: right;\n",
       "    }\n",
       "</style>\n",
       "<table border=\"1\" class=\"dataframe\">\n",
       "  <thead>\n",
       "    <tr style=\"text-align: right;\">\n",
       "      <th></th>\n",
       "      <th>Unnamed: 0</th>\n",
       "      <th>Unnamed: 0.1</th>\n",
       "      <th>Reviews</th>\n",
       "      <th>Sentiment</th>\n",
       "      <th>Text</th>\n",
       "      <th>Label</th>\n",
       "      <th>Token</th>\n",
       "      <th>Token_ID</th>\n",
       "    </tr>\n",
       "  </thead>\n",
       "  <tbody>\n",
       "    <tr>\n",
       "      <th>0</th>\n",
       "      <td>501</td>\n",
       "      <td>501</td>\n",
       "      <td>পরিবেশ খাদ্য ও সেবা ছিল মহান</td>\n",
       "      <td>positive</td>\n",
       "      <td>পরিবেশ খাদ্য ও সেবা ছিল মহান</td>\n",
       "      <td>1</td>\n",
       "      <td>['পরিবেশ', 'খাদ', '##য', 'ও', 'সেবা', 'ছিল', '...</td>\n",
       "      <td>[2679, 19673, 9294, 2038, 2872, 2072, 4444]</td>\n",
       "    </tr>\n",
       "    <tr>\n",
       "      <th>1</th>\n",
       "      <td>264</td>\n",
       "      <td>264</td>\n",
       "      <td>খাবারগুলো এত ইয়াম্মিইইইই...ইচ্ছে করে প্রতিদিন ...</td>\n",
       "      <td>positive</td>\n",
       "      <td>খাবারগুলো এত ইয়াম্মিইইইইইচ্ছে করে প্রতিদিন খাই</td>\n",
       "      <td>1</td>\n",
       "      <td>['খাবার', '##গলে', '##া', 'এত', 'ই', '##যাম', ...</td>\n",
       "      <td>[2545, 64716, 2395, 2592, 2554, 71968, 6968, 2...</td>\n",
       "    </tr>\n",
       "    <tr>\n",
       "      <th>2</th>\n",
       "      <td>405</td>\n",
       "      <td>405</td>\n",
       "      <td>শহরে সেরা মুরগির রেসিপি জন্য নিঃসন্দেহে জায়গা</td>\n",
       "      <td>positive</td>\n",
       "      <td>শহরে সেরা মুরগির রেসিপি জন্য নিঃসন্দেহে জায়গা</td>\n",
       "      <td>1</td>\n",
       "      <td>['শহরে', 'সেরা', 'মর', '##গির', 'রেসিপি', 'জন'...</td>\n",
       "      <td>[2881, 2617, 18849, 25654, 10643, 2181, 9294, ...</td>\n",
       "    </tr>\n",
       "    <tr>\n",
       "      <th>3</th>\n",
       "      <td>435</td>\n",
       "      <td>435</td>\n",
       "      <td>আজ রাতে আমি কাবাব ও খাদ্য এ আমার পরিবারের সাথে...</td>\n",
       "      <td>positive</td>\n",
       "      <td>আজ রাতে আমি কাবাব ও খাদ্য এ আমার পরিবারের সাথে...</td>\n",
       "      <td>1</td>\n",
       "      <td>['আজ', 'রাতে', 'আমি', 'কাবাব', 'ও', 'খাদ', '##...</td>\n",
       "      <td>[2145, 2736, 2169, 12677, 2038, 19673, 9294, 2...</td>\n",
       "    </tr>\n",
       "    <tr>\n",
       "      <th>4</th>\n",
       "      <td>1001</td>\n",
       "      <td>1001</td>\n",
       "      <td>বেইলি রোড শাখাতে সুপার ধীর সেবা</td>\n",
       "      <td>negative</td>\n",
       "      <td>বেইলি রোড শাখাতে সুপার ধীর সেবা</td>\n",
       "      <td>0</td>\n",
       "      <td>['বেইলি', 'রে', '##াড', 'শাখা', '##তে', 'সপ', ...</td>\n",
       "      <td>[14379, 4972, 35897, 3574, 2200, 73835, 3187, ...</td>\n",
       "    </tr>\n",
       "  </tbody>\n",
       "</table>\n",
       "</div>"
      ],
      "text/plain": [
       "   Unnamed: 0  Unnamed: 0.1  \\\n",
       "0         501           501   \n",
       "1         264           264   \n",
       "2         405           405   \n",
       "3         435           435   \n",
       "4        1001          1001   \n",
       "\n",
       "                                             Reviews Sentiment  \\\n",
       "0                       পরিবেশ খাদ্য ও সেবা ছিল মহান  positive   \n",
       "1  খাবারগুলো এত ইয়াম্মিইইইই...ইচ্ছে করে প্রতিদিন ...  positive   \n",
       "2     শহরে সেরা মুরগির রেসিপি জন্য নিঃসন্দেহে জায়গা  positive   \n",
       "3  আজ রাতে আমি কাবাব ও খাদ্য এ আমার পরিবারের সাথে...  positive   \n",
       "4                    বেইলি রোড শাখাতে সুপার ধীর সেবা  negative   \n",
       "\n",
       "                                                Text  Label  \\\n",
       "0                       পরিবেশ খাদ্য ও সেবা ছিল মহান      1   \n",
       "1     খাবারগুলো এত ইয়াম্মিইইইইইচ্ছে করে প্রতিদিন খাই      1   \n",
       "2     শহরে সেরা মুরগির রেসিপি জন্য নিঃসন্দেহে জায়গা      1   \n",
       "3  আজ রাতে আমি কাবাব ও খাদ্য এ আমার পরিবারের সাথে...      1   \n",
       "4                    বেইলি রোড শাখাতে সুপার ধীর সেবা      0   \n",
       "\n",
       "                                               Token  \\\n",
       "0  ['পরিবেশ', 'খাদ', '##য', 'ও', 'সেবা', 'ছিল', '...   \n",
       "1  ['খাবার', '##গলে', '##া', 'এত', 'ই', '##যাম', ...   \n",
       "2  ['শহরে', 'সেরা', 'মর', '##গির', 'রেসিপি', 'জন'...   \n",
       "3  ['আজ', 'রাতে', 'আমি', 'কাবাব', 'ও', 'খাদ', '##...   \n",
       "4  ['বেইলি', 'রে', '##াড', 'শাখা', '##তে', 'সপ', ...   \n",
       "\n",
       "                                            Token_ID  \n",
       "0        [2679, 19673, 9294, 2038, 2872, 2072, 4444]  \n",
       "1  [2545, 64716, 2395, 2592, 2554, 71968, 6968, 2...  \n",
       "2  [2881, 2617, 18849, 25654, 10643, 2181, 9294, ...  \n",
       "3  [2145, 2736, 2169, 12677, 2038, 19673, 9294, 2...  \n",
       "4  [14379, 4972, 35897, 3574, 2200, 73835, 3187, ...  "
      ]
     },
     "execution_count": 6,
     "metadata": {},
     "output_type": "execute_result"
    }
   ],
   "source": [
    "df.head()"
   ]
  },
  {
   "cell_type": "code",
   "execution_count": 7,
   "id": "a00ca00a",
   "metadata": {
    "execution": {
     "iopub.execute_input": "2022-04-17T20:57:12.442185Z",
     "iopub.status.busy": "2022-04-17T20:57:12.441721Z",
     "iopub.status.idle": "2022-04-17T20:57:12.708391Z",
     "shell.execute_reply": "2022-04-17T20:57:12.706767Z"
    },
    "papermill": {
     "duration": 0.310543,
     "end_time": "2022-04-17T20:57:12.710954",
     "exception": false,
     "start_time": "2022-04-17T20:57:12.400411",
     "status": "completed"
    },
    "tags": []
   },
   "outputs": [
    {
     "data": {
      "text/plain": [
       "<AxesSubplot:xlabel='Sentiment', ylabel='count'>"
      ]
     },
     "execution_count": 7,
     "metadata": {},
     "output_type": "execute_result"
    },
    {
     "data": {
      "image/png": "[encoded data removed]",
      "text/plain": [
       "<Figure size 432x288 with 1 Axes>"
      ]
     },
     "metadata": {
      "needs_background": "light"
     },
     "output_type": "display_data"
    }
   ],
   "source": [
    "sns.countplot(df['Sentiment'])"
   ]
  },
  {
   "cell_type": "code",
   "execution_count": 8,
   "id": "739a4f65",
   "metadata": {
    "execution": {
     "iopub.execute_input": "2022-04-17T20:57:12.790642Z",
     "iopub.status.busy": "2022-04-17T20:57:12.789946Z",
     "iopub.status.idle": "2022-04-17T20:57:12.799280Z",
     "shell.execute_reply": "2022-04-17T20:57:12.798221Z"
    },
    "papermill": {
     "duration": 0.052165,
     "end_time": "2022-04-17T20:57:12.801690",
     "exception": false,
     "start_time": "2022-04-17T20:57:12.749525",
     "status": "completed"
    },
    "tags": []
   },
   "outputs": [
    {
     "data": {
      "text/plain": [
       "(negative    794\n",
       " positive    637\n",
       " Name: Sentiment, dtype: int64,\n",
       " 1431)"
      ]
     },
     "execution_count": 8,
     "metadata": {},
     "output_type": "execute_result"
    }
   ],
   "source": [
    "df.Sentiment.value_counts(), len(df)"
   ]
  },
  {
   "cell_type": "code",
   "execution_count": 9,
   "id": "910e6103",
   "metadata": {
    "execution": {
     "iopub.execute_input": "2022-04-17T20:57:12.882163Z",
     "iopub.status.busy": "2022-04-17T20:57:12.881222Z",
     "iopub.status.idle": "2022-04-17T20:57:12.885662Z",
     "shell.execute_reply": "2022-04-17T20:57:12.884934Z"
    },
    "papermill": {
     "duration": 0.046321,
     "end_time": "2022-04-17T20:57:12.888364",
     "exception": false,
     "start_time": "2022-04-17T20:57:12.842043",
     "status": "completed"
    },
    "tags": []
   },
   "outputs": [],
   "source": [
    "maxlen = 200\n",
    "max_features = 10000\n",
    "batch_size = 32"
   ]
  },
  {
   "cell_type": "code",
   "execution_count": 10,
   "id": "19b753f0",
   "metadata": {
    "execution": {
     "iopub.execute_input": "2022-04-17T20:57:12.971144Z",
     "iopub.status.busy": "2022-04-17T20:57:12.970584Z",
     "iopub.status.idle": "2022-04-17T20:57:12.977255Z",
     "shell.execute_reply": "2022-04-17T20:57:12.976412Z"
    },
    "papermill": {
     "duration": 0.050275,
     "end_time": "2022-04-17T20:57:12.980202",
     "exception": false,
     "start_time": "2022-04-17T20:57:12.929927",
     "status": "completed"
    },
    "tags": []
   },
   "outputs": [],
   "source": [
    "df['Text']=df['Text'].astype('str')"
   ]
  },
  {
   "cell_type": "code",
   "execution_count": 11,
   "id": "98a1db35",
   "metadata": {
    "execution": {
     "iopub.execute_input": "2022-04-17T20:57:13.065037Z",
     "iopub.status.busy": "2022-04-17T20:57:13.063335Z",
     "iopub.status.idle": "2022-04-17T20:57:13.326992Z",
     "shell.execute_reply": "2022-04-17T20:57:13.325933Z"
    },
    "papermill": {
     "duration": 0.30697,
     "end_time": "2022-04-17T20:57:13.329665",
     "exception": false,
     "start_time": "2022-04-17T20:57:13.022695",
     "status": "completed"
    },
    "tags": []
   },
   "outputs": [],
   "source": [
    "from sklearn.model_selection import train_test_split\n",
    "x_train, x_test, y_train, y_test = train_test_split(df['Text'],df['Label'] , test_size=0.1,random_state=2)\n",
    "x_train, x_validation, y_train, y_validation = train_test_split(x_train,y_train,test_size=0.1,random_state=42)"
   ]
  },
  {
   "cell_type": "code",
   "execution_count": 12,
   "id": "a7bd2b5e",
   "metadata": {
    "execution": {
     "iopub.execute_input": "2022-04-17T20:57:13.405261Z",
     "iopub.status.busy": "2022-04-17T20:57:13.404904Z",
     "iopub.status.idle": "2022-04-17T20:57:13.409394Z",
     "shell.execute_reply": "2022-04-17T20:57:13.408346Z"
    },
    "papermill": {
     "duration": 0.04429,
     "end_time": "2022-04-17T20:57:13.411722",
     "exception": false,
     "start_time": "2022-04-17T20:57:13.367432",
     "status": "completed"
    },
    "tags": []
   },
   "outputs": [],
   "source": [
    "vocab_size=15000"
   ]
  },
  {
   "cell_type": "code",
   "execution_count": 13,
   "id": "0e3c800c",
   "metadata": {
    "execution": {
     "iopub.execute_input": "2022-04-17T20:57:13.491973Z",
     "iopub.status.busy": "2022-04-17T20:57:13.491447Z",
     "iopub.status.idle": "2022-04-17T20:57:13.618120Z",
     "shell.execute_reply": "2022-04-17T20:57:13.616222Z"
    },
    "papermill": {
     "duration": 0.170778,
     "end_time": "2022-04-17T20:57:13.620813",
     "exception": false,
     "start_time": "2022-04-17T20:57:13.450035",
     "status": "completed"
    },
    "tags": []
   },
   "outputs": [],
   "source": [
    "tokenizer  = Tokenizer(num_words = max_features,oov_token = \"<OOV>\")\n",
    "tokenizer.fit_on_texts(df['Text'])\n",
    "\n",
    "train_seq =  tokenizer.texts_to_sequences(x_train)\n",
    "val_seq =  tokenizer.texts_to_sequences(x_validation)\n",
    "test_seq = tokenizer.texts_to_sequences(x_test)"
   ]
  },
  {
   "cell_type": "code",
   "execution_count": 14,
   "id": "e26773e9",
   "metadata": {
    "execution": {
     "iopub.execute_input": "2022-04-17T20:57:13.700506Z",
     "iopub.status.busy": "2022-04-17T20:57:13.700052Z",
     "iopub.status.idle": "2022-04-17T20:57:13.719014Z",
     "shell.execute_reply": "2022-04-17T20:57:13.717983Z"
    },
    "papermill": {
     "duration": 0.0654,
     "end_time": "2022-04-17T20:57:13.721944",
     "exception": false,
     "start_time": "2022-04-17T20:57:13.656544",
     "status": "completed"
    },
    "tags": []
   },
   "outputs": [],
   "source": [
    "x_train = pad_sequences(train_seq, maxlen=maxlen, dtype='int32', padding='post',truncating='post') #maxlen = maxlen, padding='post')\n",
    "x_validation = pad_sequences(val_seq, maxlen=maxlen, dtype='int32', padding='post',truncating='post') #maxlen = maxlen, padding='post')\n",
    "x_test = pad_sequences(test_seq, maxlen=maxlen, dtype='int32', padding='post',truncating='post') #maxlen = maxlen, padding='post')"
   ]
  },
  {
   "cell_type": "code",
   "execution_count": 15,
   "id": "32f8822b",
   "metadata": {
    "execution": {
     "iopub.execute_input": "2022-04-17T20:57:13.815493Z",
     "iopub.status.busy": "2022-04-17T20:57:13.814024Z",
     "iopub.status.idle": "2022-04-17T20:57:15.197219Z",
     "shell.execute_reply": "2022-04-17T20:57:15.195715Z"
    },
    "papermill": {
     "duration": 1.43351,
     "end_time": "2022-04-17T20:57:15.200201",
     "exception": false,
     "start_time": "2022-04-17T20:57:13.766691",
     "status": "completed"
    },
    "tags": []
   },
   "outputs": [
    {
     "name": "stderr",
     "output_type": "stream",
     "text": [
      "2022-04-17 20:57:13.867481: I tensorflow/core/common_runtime/process_util.cc:146] Creating new thread pool with default inter op setting: 2. Tune using inter_op_parallelism_threads for best performance.\n"
     ]
    },
    {
     "name": "stdout",
     "output_type": "stream",
     "text": [
      "Model: \"sequential\"\n",
      "_________________________________________________________________\n",
      "Layer (type)                 Output Shape              Param #   \n",
      "=================================================================\n",
      "Embedding (Embedding)        (None, 200, 40)           600000    \n",
      "_________________________________________________________________\n",
      "conv1d (Conv1D)              (None, 198, 200)          24200     \n",
      "_________________________________________________________________\n",
      "bidirectional (Bidirectional (None, 198, 256)          336896    \n",
      "_________________________________________________________________\n",
      "dropout (Dropout)            (None, 198, 256)          0         \n",
      "_________________________________________________________________\n",
      "bidirectional_1 (Bidirection (None, 128)               164352    \n",
      "_________________________________________________________________\n",
      "dropout_1 (Dropout)          (None, 128)               0         \n",
      "_________________________________________________________________\n",
      "dense (Dense)                (None, 50)                6450      \n",
      "_________________________________________________________________\n",
      "dropout_2 (Dropout)          (None, 50)                0         \n",
      "_________________________________________________________________\n",
      "dense_1 (Dense)              (None, 25)                1275      \n",
      "_________________________________________________________________\n",
      "dropout_3 (Dropout)          (None, 25)                0         \n",
      "_________________________________________________________________\n",
      "dense_2 (Dense)              (None, 12)                312       \n",
      "_________________________________________________________________\n",
      "flatten (Flatten)            (None, 12)                0         \n",
      "_________________________________________________________________\n",
      "dense_3 (Dense)              (None, 1)                 13        \n",
      "=================================================================\n",
      "Total params: 1,133,498\n",
      "Trainable params: 1,133,498\n",
      "Non-trainable params: 0\n",
      "_________________________________________________________________\n"
     ]
    }
   ],
   "source": [
    "model= Sequential()\n",
    "model.add(Embedding(vocab_size,40,input_length=maxlen,name='Embedding'))\n",
    "model.add(Conv1D(200, kernel_size=3, activation = \"relu\"))\n",
    "model.add(Bidirectional(LSTM(128, return_sequences=True)))\n",
    "model.add(Dropout(0.25))\n",
    "model.add(Bidirectional(LSTM(64)))\n",
    "model.add(Dropout(0.1))\n",
    "model.add(Dense(50, activation='relu'))\n",
    "model.add(Dropout(0.2))\n",
    "model.add(Dense(25, activation='relu'))\n",
    "model.add(Dropout(0.1))\n",
    "model.add(Dense(12, activation='relu'))\n",
    "model.add(Flatten())\n",
    "model.add(Dense(units=1, activation='sigmoid'))\n",
    "adam=Adam(learning_rate=0.003)\n",
    "model.summary()\n",
    "model.compile(loss='binary_crossentropy',optimizer='adam',metrics=['binary_accuracy'])"
   ]
  },
  {
   "cell_type": "code",
   "execution_count": 16,
   "id": "42e6fd36",
   "metadata": {
    "execution": {
     "iopub.execute_input": "2022-04-17T20:57:15.279802Z",
     "iopub.status.busy": "2022-04-17T20:57:15.279017Z",
     "iopub.status.idle": "2022-04-17T20:57:15.284446Z",
     "shell.execute_reply": "2022-04-17T20:57:15.283583Z"
    },
    "papermill": {
     "duration": 0.047119,
     "end_time": "2022-04-17T20:57:15.286709",
     "exception": false,
     "start_time": "2022-04-17T20:57:15.239590",
     "status": "completed"
    },
    "tags": []
   },
   "outputs": [],
   "source": [
    "early_stopping = keras.callbacks.EarlyStopping(\n",
    "    patience=5,\n",
    "    min_delta=0.001,\n",
    "    restore_best_weights=True,\n",
    ")"
   ]
  },
  {
   "cell_type": "code",
   "execution_count": 17,
   "id": "f6bb24fe",
   "metadata": {
    "execution": {
     "iopub.execute_input": "2022-04-17T20:57:15.364798Z",
     "iopub.status.busy": "2022-04-17T20:57:15.364315Z",
     "iopub.status.idle": "2022-04-17T21:02:55.334791Z",
     "shell.execute_reply": "2022-04-17T21:02:55.333575Z"
    },
    "papermill": {
     "duration": 340.012805,
     "end_time": "2022-04-17T21:02:55.337673",
     "exception": false,
     "start_time": "2022-04-17T20:57:15.324868",
     "status": "completed"
    },
    "tags": []
   },
   "outputs": [
    {
     "name": "stderr",
     "output_type": "stream",
     "text": [
      "2022-04-17 20:57:15.754819: I tensorflow/compiler/mlir/mlir_graph_optimization_pass.cc:185] None of the MLIR Optimization Passes are enabled (registered 2)\n"
     ]
    },
    {
     "name": "stdout",
     "output_type": "stream",
     "text": [
      "Epoch 1/30\n",
      "37/37 [==============================] - 51s 1s/step - loss: 0.6762 - binary_accuracy: 0.5656 - val_loss: 0.5320 - val_binary_accuracy: 0.7364\n",
      "Epoch 2/30\n",
      "37/37 [==============================] - 40s 1s/step - loss: 0.4996 - binary_accuracy: 0.7625 - val_loss: 0.4650 - val_binary_accuracy: 0.7597\n",
      "Epoch 3/30\n",
      "37/37 [==============================] - 38s 1s/step - loss: 0.2855 - binary_accuracy: 0.8834 - val_loss: 0.3481 - val_binary_accuracy: 0.8760\n",
      "Epoch 4/30\n",
      "37/37 [==============================] - 38s 1s/step - loss: 0.1671 - binary_accuracy: 0.9456 - val_loss: 0.3632 - val_binary_accuracy: 0.8915\n",
      "Epoch 5/30\n",
      "37/37 [==============================] - 41s 1s/step - loss: 0.1048 - binary_accuracy: 0.9715 - val_loss: 0.3497 - val_binary_accuracy: 0.8760\n",
      "Epoch 6/30\n",
      "37/37 [==============================] - 41s 1s/step - loss: 0.0448 - binary_accuracy: 0.9905 - val_loss: 0.5748 - val_binary_accuracy: 0.8605\n",
      "Epoch 7/30\n",
      "37/37 [==============================] - 43s 1s/step - loss: 0.0340 - binary_accuracy: 0.9845 - val_loss: 0.5923 - val_binary_accuracy: 0.8450\n",
      "Epoch 8/30\n",
      "37/37 [==============================] - 46s 1s/step - loss: 0.0160 - binary_accuracy: 0.9940 - val_loss: 0.5902 - val_binary_accuracy: 0.8605\n"
     ]
    }
   ],
   "source": [
    "history = model.fit(x_train, y_train, batch_size=batch_size, epochs=30, callbacks=[early_stopping],verbose=1, validation_data=(x_validation, y_validation))"
   ]
  },
  {
   "cell_type": "code",
   "execution_count": 18,
   "id": "51d1d3d3",
   "metadata": {
    "execution": {
     "iopub.execute_input": "2022-04-17T21:02:55.652328Z",
     "iopub.status.busy": "2022-04-17T21:02:55.651966Z",
     "iopub.status.idle": "2022-04-17T21:02:57.246830Z",
     "shell.execute_reply": "2022-04-17T21:02:57.245427Z"
    },
    "papermill": {
     "duration": 1.751936,
     "end_time": "2022-04-17T21:02:57.249386",
     "exception": false,
     "start_time": "2022-04-17T21:02:55.497450",
     "status": "completed"
    },
    "tags": []
   },
   "outputs": [
    {
     "data": {
      "image/png": "[encoded data removed]",
      "text/plain": [
       "<IPython.core.display.Image object>"
      ]
     },
     "execution_count": 18,
     "metadata": {},
     "output_type": "execute_result"
    }
   ],
   "source": [
    "tf.keras.utils.plot_model(model, to_file='model.png', show_shapes=False,show_layer_names=True, rankdir='TB', expand_nested=False, dpi=96)"
   ]
  },
  {
   "cell_type": "code",
   "execution_count": 19,
   "id": "5ab7ef8b",
   "metadata": {
    "execution": {
     "iopub.execute_input": "2022-04-17T21:02:57.568391Z",
     "iopub.status.busy": "2022-04-17T21:02:57.568031Z",
     "iopub.status.idle": "2022-04-17T21:02:59.095267Z",
     "shell.execute_reply": "2022-04-17T21:02:59.094192Z"
    },
    "papermill": {
     "duration": 1.690237,
     "end_time": "2022-04-17T21:02:59.097628",
     "exception": false,
     "start_time": "2022-04-17T21:02:57.407391",
     "status": "completed"
    },
    "tags": []
   },
   "outputs": [
    {
     "name": "stdout",
     "output_type": "stream",
     "text": [
      "5/5 [==============================] - 1s 283ms/step - loss: 0.3420 - binary_accuracy: 0.9167\n"
     ]
    },
    {
     "data": {
      "text/plain": [
       "[0.3419656753540039, 0.9166666865348816]"
      ]
     },
     "execution_count": 19,
     "metadata": {},
     "output_type": "execute_result"
    }
   ],
   "source": [
    "model.evaluate(x_test, y_test)"
   ]
  },
  {
   "cell_type": "code",
   "execution_count": 20,
   "id": "017b4d44",
   "metadata": {
    "execution": {
     "iopub.execute_input": "2022-04-17T21:02:59.433157Z",
     "iopub.status.busy": "2022-04-17T21:02:59.432481Z",
     "iopub.status.idle": "2022-04-17T21:02:59.730173Z",
     "shell.execute_reply": "2022-04-17T21:02:59.729024Z"
    },
    "papermill": {
     "duration": 0.463979,
     "end_time": "2022-04-17T21:02:59.733347",
     "exception": false,
     "start_time": "2022-04-17T21:02:59.269368",
     "status": "completed"
    },
    "tags": []
   },
   "outputs": [
    {
     "data": {
      "image/png": "[encoded data removed]",
      "text/plain": [
       "<Figure size 432x288 with 1 Axes>"
      ]
     },
     "metadata": {
      "needs_background": "light"
     },
     "output_type": "display_data"
    }
   ],
   "source": [
    "import matplotlib.pyplot as plt\n",
    "\n",
    "plt.plot(history.history['binary_accuracy'], label=\"Accuracy\")\n",
    "plt.plot(history.history['val_binary_accuracy'], label=\"Validation accuracy\")\n",
    "plt.title('Accuracy')\n",
    "plt.xlabel('Epoch')\n",
    "plt.ylabel('Accuracy')\n",
    "plt.legend()\n",
    "plt.tight_layout()\n",
    "plt.show()"
   ]
  },
  {
   "cell_type": "code",
   "execution_count": 21,
   "id": "bdf22d14",
   "metadata": {
    "execution": {
     "iopub.execute_input": "2022-04-17T21:03:00.066847Z",
     "iopub.status.busy": "2022-04-17T21:03:00.066256Z",
     "iopub.status.idle": "2022-04-17T21:03:00.360263Z",
     "shell.execute_reply": "2022-04-17T21:03:00.359300Z"
    },
    "papermill": {
     "duration": 0.464293,
     "end_time": "2022-04-17T21:03:00.362478",
     "exception": false,
     "start_time": "2022-04-17T21:02:59.898185",
     "status": "completed"
    },
    "tags": []
   },
   "outputs": [
    {
     "data": {
      "image/png": "[encoded data removed]",
      "text/plain": [
       "<Figure size 432x288 with 1 Axes>"
      ]
     },
     "metadata": {
      "needs_background": "light"
     },
     "output_type": "display_data"
    }
   ],
   "source": [
    "import matplotlib.pyplot as plt\n",
    "\n",
    "plt.plot(history.history['loss'], label=\"Train loss\")\n",
    "plt.plot(history.history['val_loss'], label=\"Validation loss\")\n",
    "plt.title('Loss')\n",
    "plt.xlabel('Epoch')\n",
    "plt.ylabel('Loss')\n",
    "plt.legend()\n",
    "plt.tight_layout()\n",
    "plt.show()"
   ]
  },
  {
   "cell_type": "code",
   "execution_count": 22,
   "id": "b3ab8a12",
   "metadata": {
    "execution": {
     "iopub.execute_input": "2022-04-17T21:03:00.693108Z",
     "iopub.status.busy": "2022-04-17T21:03:00.692763Z",
     "iopub.status.idle": "2022-04-17T21:03:03.990660Z",
     "shell.execute_reply": "2022-04-17T21:03:03.989232Z"
    },
    "papermill": {
     "duration": 3.464927,
     "end_time": "2022-04-17T21:03:03.993474",
     "exception": false,
     "start_time": "2022-04-17T21:03:00.528547",
     "status": "completed"
    },
    "tags": []
   },
   "outputs": [],
   "source": [
    "from sklearn.metrics import classification_report\n",
    "\n",
    "y_pred = model.predict(x_test)"
   ]
  },
  {
   "cell_type": "code",
   "execution_count": 23,
   "id": "e83ee105",
   "metadata": {
    "execution": {
     "iopub.execute_input": "2022-04-17T21:03:04.320842Z",
     "iopub.status.busy": "2022-04-17T21:03:04.319957Z",
     "iopub.status.idle": "2022-04-17T21:03:04.325228Z",
     "shell.execute_reply": "2022-04-17T21:03:04.324190Z"
    },
    "papermill": {
     "duration": 0.168267,
     "end_time": "2022-04-17T21:03:04.327772",
     "exception": false,
     "start_time": "2022-04-17T21:03:04.159505",
     "status": "completed"
    },
    "tags": []
   },
   "outputs": [],
   "source": [
    "y_pred = y_pred.reshape(-1,1)\n",
    "y_pred = np.round(y_pred)"
   ]
  },
  {
   "cell_type": "code",
   "execution_count": 24,
   "id": "12d2ffa2",
   "metadata": {
    "execution": {
     "iopub.execute_input": "2022-04-17T21:03:04.664975Z",
     "iopub.status.busy": "2022-04-17T21:03:04.664625Z",
     "iopub.status.idle": "2022-04-17T21:03:04.675065Z",
     "shell.execute_reply": "2022-04-17T21:03:04.673774Z"
    },
    "papermill": {
     "duration": 0.18063,
     "end_time": "2022-04-17T21:03:04.677747",
     "exception": false,
     "start_time": "2022-04-17T21:03:04.497117",
     "status": "completed"
    },
    "tags": []
   },
   "outputs": [
    {
     "name": "stdout",
     "output_type": "stream",
     "text": [
      "[[0.]\n",
      " [0.]\n",
      " [0.]\n",
      " [0.]\n",
      " [0.]\n",
      " [1.]\n",
      " [1.]\n",
      " [1.]\n",
      " [0.]\n",
      " [1.]\n",
      " [1.]\n",
      " [1.]\n",
      " [0.]\n",
      " [1.]\n",
      " [0.]\n",
      " [1.]\n",
      " [1.]\n",
      " [1.]\n",
      " [0.]\n",
      " [0.]\n",
      " [1.]\n",
      " [1.]\n",
      " [0.]\n",
      " [1.]\n",
      " [0.]\n",
      " [0.]\n",
      " [1.]\n",
      " [1.]\n",
      " [0.]\n",
      " [0.]\n",
      " [1.]\n",
      " [0.]\n",
      " [0.]\n",
      " [1.]\n",
      " [1.]\n",
      " [1.]\n",
      " [0.]\n",
      " [1.]\n",
      " [1.]\n",
      " [0.]\n",
      " [0.]\n",
      " [0.]\n",
      " [0.]\n",
      " [1.]\n",
      " [1.]\n",
      " [0.]\n",
      " [0.]\n",
      " [0.]\n",
      " [0.]\n",
      " [1.]\n",
      " [0.]\n",
      " [0.]\n",
      " [1.]\n",
      " [0.]\n",
      " [0.]\n",
      " [0.]\n",
      " [1.]\n",
      " [0.]\n",
      " [0.]\n",
      " [1.]\n",
      " [0.]\n",
      " [1.]\n",
      " [0.]\n",
      " [1.]\n",
      " [0.]\n",
      " [1.]\n",
      " [1.]\n",
      " [1.]\n",
      " [0.]\n",
      " [1.]\n",
      " [1.]\n",
      " [0.]\n",
      " [0.]\n",
      " [0.]\n",
      " [1.]\n",
      " [1.]\n",
      " [1.]\n",
      " [1.]\n",
      " [0.]\n",
      " [0.]\n",
      " [1.]\n",
      " [1.]\n",
      " [1.]\n",
      " [0.]\n",
      " [1.]\n",
      " [1.]\n",
      " [1.]\n",
      " [0.]\n",
      " [0.]\n",
      " [0.]\n",
      " [0.]\n",
      " [0.]\n",
      " [0.]\n",
      " [0.]\n",
      " [1.]\n",
      " [0.]\n",
      " [1.]\n",
      " [1.]\n",
      " [0.]\n",
      " [1.]\n",
      " [0.]\n",
      " [0.]\n",
      " [0.]\n",
      " [1.]\n",
      " [1.]\n",
      " [0.]\n",
      " [1.]\n",
      " [0.]\n",
      " [0.]\n",
      " [1.]\n",
      " [0.]\n",
      " [0.]\n",
      " [0.]\n",
      " [0.]\n",
      " [0.]\n",
      " [1.]\n",
      " [0.]\n",
      " [0.]\n",
      " [0.]\n",
      " [0.]\n",
      " [0.]\n",
      " [1.]\n",
      " [1.]\n",
      " [1.]\n",
      " [1.]\n",
      " [1.]\n",
      " [1.]\n",
      " [0.]\n",
      " [0.]\n",
      " [1.]\n",
      " [0.]\n",
      " [1.]\n",
      " [1.]\n",
      " [0.]\n",
      " [0.]\n",
      " [0.]\n",
      " [0.]\n",
      " [0.]\n",
      " [0.]\n",
      " [1.]\n",
      " [0.]\n",
      " [0.]\n",
      " [0.]\n",
      " [1.]]\n",
      "1355    0\n",
      "553     0\n",
      "1195    0\n",
      "1389    1\n",
      "551     0\n",
      "       ..\n",
      "801     1\n",
      "365     0\n",
      "477     0\n",
      "839     0\n",
      "1064    1\n",
      "Name: Label, Length: 144, dtype: int64\n"
     ]
    }
   ],
   "source": [
    "print(y_pred)\n",
    "print(y_test)"
   ]
  },
  {
   "cell_type": "code",
   "execution_count": 25,
   "id": "ae1140a0",
   "metadata": {
    "execution": {
     "iopub.execute_input": "2022-04-17T21:03:05.010381Z",
     "iopub.status.busy": "2022-04-17T21:03:05.010063Z",
     "iopub.status.idle": "2022-04-17T21:03:05.024054Z",
     "shell.execute_reply": "2022-04-17T21:03:05.023326Z"
    },
    "papermill": {
     "duration": 0.183453,
     "end_time": "2022-04-17T21:03:05.026182",
     "exception": false,
     "start_time": "2022-04-17T21:03:04.842729",
     "status": "completed"
    },
    "tags": []
   },
   "outputs": [
    {
     "name": "stdout",
     "output_type": "stream",
     "text": [
      "              precision    recall  f1-score   support\n",
      "\n",
      "    negative       0.89      0.96      0.92        74\n",
      "    positive       0.95      0.87      0.91        70\n",
      "\n",
      "    accuracy                           0.92       144\n",
      "   macro avg       0.92      0.92      0.92       144\n",
      "weighted avg       0.92      0.92      0.92       144\n",
      "\n"
     ]
    }
   ],
   "source": [
    "categories = ['negative','positive']\n",
    "print(classification_report(y_test, y_pred, target_names=categories))"
   ]
  },
  {
   "cell_type": "code",
   "execution_count": 26,
   "id": "0066315a",
   "metadata": {
    "execution": {
     "iopub.execute_input": "2022-04-17T21:03:05.359413Z",
     "iopub.status.busy": "2022-04-17T21:03:05.359049Z",
     "iopub.status.idle": "2022-04-17T21:03:05.799367Z",
     "shell.execute_reply": "2022-04-17T21:03:05.798257Z"
    },
    "papermill": {
     "duration": 0.610546,
     "end_time": "2022-04-17T21:03:05.801778",
     "exception": false,
     "start_time": "2022-04-17T21:03:05.191232",
     "status": "completed"
    },
    "tags": []
   },
   "outputs": [
    {
     "data": {
      "image/png": "[encoded data removed]",
      "text/plain": [
       "<Figure size 1152x1008 with 2 Axes>"
      ]
     },
     "metadata": {
      "needs_background": "light"
     },
     "output_type": "display_data"
    }
   ],
   "source": [
    "import seaborn as sns\n",
    "import matplotlib.pyplot as plt\n",
    "\n",
    "### Confusion Matrix\n",
    "from sklearn.metrics import confusion_matrix\n",
    "#predictions = model.predict(x_test, steps=len(x_test), verbose=0)\n",
    "#y_pred=model.predict(x_test)\n",
    "#y_pred = np.round(y_pred)\n",
    "\n",
    "\n",
    "cm = confusion_matrix(y_test, y_pred)\n",
    "\n",
    "## Get Class Labels\n",
    "labels = 2\n",
    "#[0,1,2,3,4,5]_\n",
    "class_names = categories \n",
    "\n",
    "# Plot confusion matrix in a beautiful manner\n",
    "fig = plt.figure(figsize=(16, 14))\n",
    "ax= plt.subplot()\n",
    "sns.heatmap(cm, annot=True, ax = ax, fmt = 'g'); #annot=True to annotate cells\n",
    "# labels, title and ticks\n",
    "ax.set_xlabel('Predicted', fontsize=20)\n",
    "ax.xaxis.set_label_position('bottom')\n",
    "plt.xticks(rotation=90)\n",
    "ax.xaxis.set_ticklabels(class_names, fontsize = 10)\n",
    "ax.xaxis.tick_bottom()\n",
    "\n",
    "ax.set_ylabel('True', fontsize=20)\n",
    "ax.yaxis.set_ticklabels(class_names, fontsize = 10)\n",
    "plt.yticks(rotation=0)\n",
    "\n",
    "plt.title('Refined Confusion Matrix', fontsize=20)\n",
    "\n",
    "plt.savefig('ConMat24.png')\n",
    "plt.show()"
   ]
  }
 ],
 "metadata": {
  "kernelspec": {
   "display_name": "Python 3",
   "language": "python",
   "name": "python3"
  },
  "language_info": {
   "codemirror_mode": {
    "name": "ipython",
    "version": 3
   },
   "file_extension": ".py",
   "mimetype": "text/x-python",
   "name": "python",
   "nbconvert_exporter": "python",
   "pygments_lexer": "ipython3",
   "version": "3.7.12"
  },
  "papermill": {
   "default_parameters": {},
   "duration": 395.039808,
   "end_time": "2022-04-17T21:03:09.485524",
   "environment_variables": {},
   "exception": null,
   "input_path": "__notebook__.ipynb",
   "output_path": "__notebook__.ipynb",
   "parameters": {},
   "start_time": "2022-04-17T20:56:34.445716",
   "version": "2.3.4"
  }
 },
 "nbformat": 4,
 "nbformat_minor": 5
}
