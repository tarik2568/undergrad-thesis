{
 "cells": [
  {
   "cell_type": "code",
   "execution_count": 1,
   "id": "b9df2318",
   "metadata": {
    "execution": {
     "iopub.execute_input": "2022-04-20T14:39:27.747013Z",
     "iopub.status.busy": "2022-04-20T14:39:27.745524Z",
     "iopub.status.idle": "2022-04-20T14:39:32.655837Z",
     "shell.execute_reply": "2022-04-20T14:39:32.654815Z",
     "shell.execute_reply.started": "2022-04-20T14:37:26.930344Z"
    },
    "papermill": {
     "duration": 4.937848,
     "end_time": "2022-04-20T14:39:32.656040",
     "exception": false,
     "start_time": "2022-04-20T14:39:27.718192",
     "status": "completed"
    },
    "tags": []
   },
   "outputs": [],
   "source": [
    "import numpy as np\n",
    "import keras\n",
    "import pandas as pd \n",
    "from keras.models import Sequential\n",
    "from keras.layers import Dense, Dropout, Embedding, LSTM,Bidirectional\n",
    "import re\n",
    "import tensorflow as tf\n",
    "from keras.preprocessing.text import Tokenizer"
   ]
  },
  {
   "cell_type": "code",
   "execution_count": 2,
   "id": "1b147037",
   "metadata": {
    "execution": {
     "iopub.execute_input": "2022-04-20T14:39:32.706479Z",
     "iopub.status.busy": "2022-04-20T14:39:32.705690Z",
     "iopub.status.idle": "2022-04-20T14:39:33.510825Z",
     "shell.execute_reply": "2022-04-20T14:39:33.510350Z",
     "shell.execute_reply.started": "2022-04-20T14:37:31.750600Z"
    },
    "papermill": {
     "duration": 0.831887,
     "end_time": "2022-04-20T14:39:33.510989",
     "exception": false,
     "start_time": "2022-04-20T14:39:32.679102",
     "status": "completed"
    },
    "tags": []
   },
   "outputs": [],
   "source": [
    "from keras.preprocessing.sequence import pad_sequences\n",
    "from keras.layers import Activation, Conv2D, Input, Embedding, Reshape, MaxPool1D, Concatenate, Flatten, Dropout, Dense, Conv1D\n",
    "from keras.models import Model\n",
    "from keras.callbacks import ModelCheckpoint\n",
    "from tensorflow.keras.optimizers import Adam,SGD\n",
    "import warnings\n",
    "warnings.filterwarnings('ignore')\n",
    "import seaborn as sns"
   ]
  },
  {
   "cell_type": "code",
   "execution_count": 3,
   "id": "af817585",
   "metadata": {
    "execution": {
     "iopub.execute_input": "2022-04-20T14:39:33.561756Z",
     "iopub.status.busy": "2022-04-20T14:39:33.561212Z",
     "iopub.status.idle": "2022-04-20T14:39:33.568105Z",
     "shell.execute_reply": "2022-04-20T14:39:33.568552Z",
     "shell.execute_reply.started": "2022-04-20T14:37:32.629391Z"
    },
    "papermill": {
     "duration": 0.034974,
     "end_time": "2022-04-20T14:39:33.568681",
     "exception": false,
     "start_time": "2022-04-20T14:39:33.533707",
     "status": "completed"
    },
    "tags": []
   },
   "outputs": [
    {
     "name": "stdout",
     "output_type": "stream",
     "text": [
      "/kaggle/input/sa-bangla-binary-restaurant-review/Bert_Preprocessed_Restaurant_Review_Dataset.xlsx\n"
     ]
    }
   ],
   "source": [
    "import os\n",
    "for dirname, _, filenames in os.walk('/kaggle/input'):\n",
    "    for filename in filenames:\n",
    "        print(os.path.join(dirname, filename))"
   ]
  },
  {
   "cell_type": "code",
   "execution_count": 4,
   "id": "2ab75a2e",
   "metadata": {
    "execution": {
     "iopub.execute_input": "2022-04-20T14:39:33.618057Z",
     "iopub.status.busy": "2022-04-20T14:39:33.617331Z",
     "iopub.status.idle": "2022-04-20T14:39:42.759726Z",
     "shell.execute_reply": "2022-04-20T14:39:42.760326Z",
     "shell.execute_reply.started": "2022-04-20T14:37:32.647779Z"
    },
    "papermill": {
     "duration": 9.169124,
     "end_time": "2022-04-20T14:39:42.760521",
     "exception": false,
     "start_time": "2022-04-20T14:39:33.591397",
     "status": "completed"
    },
    "tags": []
   },
   "outputs": [
    {
     "name": "stdout",
     "output_type": "stream",
     "text": [
      "Collecting openpyxl\r\n",
      "  Downloading openpyxl-3.0.9-py2.py3-none-any.whl (242 kB)\r\n",
      "     |████████████████████████████████| 242 kB 5.1 MB/s            \r\n",
      "\u001b[?25hCollecting et-xmlfile\r\n",
      "  Downloading et_xmlfile-1.1.0-py3-none-any.whl (4.7 kB)\r\n",
      "Installing collected packages: et-xmlfile, openpyxl\r\n",
      "Successfully installed et-xmlfile-1.1.0 openpyxl-3.0.9\r\n",
      "\u001b[33mWARNING: Running pip as the 'root' user can result in broken permissions and conflicting behaviour with the system package manager. It is recommended to use a virtual environment instead: https://pip.pypa.io/warnings/venv\u001b[0m\r\n",
      "Note: you may need to restart the kernel to use updated packages.\n"
     ]
    }
   ],
   "source": [
    "pip install openpyxl"
   ]
  },
  {
   "cell_type": "code",
   "execution_count": 5,
   "id": "259804ab",
   "metadata": {
    "execution": {
     "iopub.execute_input": "2022-04-20T14:39:42.815986Z",
     "iopub.status.busy": "2022-04-20T14:39:42.815140Z",
     "iopub.status.idle": "2022-04-20T14:39:43.393446Z",
     "shell.execute_reply": "2022-04-20T14:39:43.393856Z",
     "shell.execute_reply.started": "2022-04-20T14:37:42.058328Z"
    },
    "papermill": {
     "duration": 0.608198,
     "end_time": "2022-04-20T14:39:43.394074",
     "exception": false,
     "start_time": "2022-04-20T14:39:42.785876",
     "status": "completed"
    },
    "tags": []
   },
   "outputs": [
    {
     "name": "stdout",
     "output_type": "stream",
     "text": [
      "<class 'pandas.core.frame.DataFrame'>\n",
      "RangeIndex: 1431 entries, 0 to 1430\n",
      "Data columns (total 8 columns):\n",
      " #   Column        Non-Null Count  Dtype \n",
      "---  ------        --------------  ----- \n",
      " 0   Unnamed: 0    1431 non-null   int64 \n",
      " 1   Unnamed: 0.1  1431 non-null   int64 \n",
      " 2   Reviews       1431 non-null   object\n",
      " 3   Sentiment     1431 non-null   object\n",
      " 4   Text          1431 non-null   object\n",
      " 5   Label         1431 non-null   int64 \n",
      " 6   Token         1431 non-null   object\n",
      " 7   Token_ID      1431 non-null   object\n",
      "dtypes: int64(3), object(5)\n",
      "memory usage: 89.6+ KB\n"
     ]
    }
   ],
   "source": [
    "df=pd.read_excel('/kaggle/input/sa-bangla-binary-restaurant-review/Bert_Preprocessed_Restaurant_Review_Dataset.xlsx')\n",
    "df.info()"
   ]
  },
  {
   "cell_type": "code",
   "execution_count": 6,
   "id": "73c0011a",
   "metadata": {
    "execution": {
     "iopub.execute_input": "2022-04-20T14:39:43.451554Z",
     "iopub.status.busy": "2022-04-20T14:39:43.450893Z",
     "iopub.status.idle": "2022-04-20T14:39:43.463554Z",
     "shell.execute_reply": "2022-04-20T14:39:43.463978Z",
     "shell.execute_reply.started": "2022-04-20T14:37:42.671912Z"
    },
    "papermill": {
     "duration": 0.044159,
     "end_time": "2022-04-20T14:39:43.464110",
     "exception": false,
     "start_time": "2022-04-20T14:39:43.419951",
     "status": "completed"
    },
    "tags": []
   },
   "outputs": [
    {
     "data": {
      "text/html": [
       "<div>\n",
       "<style scoped>\n",
       "    .dataframe tbody tr th:only-of-type {\n",
       "        vertical-align: middle;\n",
       "    }\n",
       "\n",
       "    .dataframe tbody tr th {\n",
       "        vertical-align: top;\n",
       "    }\n",
       "\n",
       "    .dataframe thead th {\n",
       "        text-align: right;\n",
       "    }\n",
       "</style>\n",
       "<table border=\"1\" class=\"dataframe\">\n",
       "  <thead>\n",
       "    <tr style=\"text-align: right;\">\n",
       "      <th></th>\n",
       "      <th>Unnamed: 0</th>\n",
       "      <th>Unnamed: 0.1</th>\n",
       "      <th>Reviews</th>\n",
       "      <th>Sentiment</th>\n",
       "      <th>Text</th>\n",
       "      <th>Label</th>\n",
       "      <th>Token</th>\n",
       "      <th>Token_ID</th>\n",
       "    </tr>\n",
       "  </thead>\n",
       "  <tbody>\n",
       "    <tr>\n",
       "      <th>0</th>\n",
       "      <td>501</td>\n",
       "      <td>501</td>\n",
       "      <td>পরিবেশ খাদ্য ও সেবা ছিল মহান</td>\n",
       "      <td>positive</td>\n",
       "      <td>পরিবেশ খাদ্য ও সেবা ছিল মহান</td>\n",
       "      <td>1</td>\n",
       "      <td>['পরিবেশ', 'খাদ', '##য', 'ও', 'সেবা', 'ছিল', '...</td>\n",
       "      <td>[2679, 19673, 9294, 2038, 2872, 2072, 4444]</td>\n",
       "    </tr>\n",
       "    <tr>\n",
       "      <th>1</th>\n",
       "      <td>264</td>\n",
       "      <td>264</td>\n",
       "      <td>খাবারগুলো এত ইয়াম্মিইইইই...ইচ্ছে করে প্রতিদিন ...</td>\n",
       "      <td>positive</td>\n",
       "      <td>খাবারগুলো এত ইয়াম্মিইইইইইচ্ছে করে প্রতিদিন খাই</td>\n",
       "      <td>1</td>\n",
       "      <td>['খাবার', '##গলে', '##া', 'এত', 'ই', '##যাম', ...</td>\n",
       "      <td>[2545, 64716, 2395, 2592, 2554, 71968, 6968, 2...</td>\n",
       "    </tr>\n",
       "    <tr>\n",
       "      <th>2</th>\n",
       "      <td>405</td>\n",
       "      <td>405</td>\n",
       "      <td>শহরে সেরা মুরগির রেসিপি জন্য নিঃসন্দেহে জায়গা</td>\n",
       "      <td>positive</td>\n",
       "      <td>শহরে সেরা মুরগির রেসিপি জন্য নিঃসন্দেহে জায়গা</td>\n",
       "      <td>1</td>\n",
       "      <td>['শহরে', 'সেরা', 'মর', '##গির', 'রেসিপি', 'জন'...</td>\n",
       "      <td>[2881, 2617, 18849, 25654, 10643, 2181, 9294, ...</td>\n",
       "    </tr>\n",
       "    <tr>\n",
       "      <th>3</th>\n",
       "      <td>435</td>\n",
       "      <td>435</td>\n",
       "      <td>আজ রাতে আমি কাবাব ও খাদ্য এ আমার পরিবারের সাথে...</td>\n",
       "      <td>positive</td>\n",
       "      <td>আজ রাতে আমি কাবাব ও খাদ্য এ আমার পরিবারের সাথে...</td>\n",
       "      <td>1</td>\n",
       "      <td>['আজ', 'রাতে', 'আমি', 'কাবাব', 'ও', 'খাদ', '##...</td>\n",
       "      <td>[2145, 2736, 2169, 12677, 2038, 19673, 9294, 2...</td>\n",
       "    </tr>\n",
       "    <tr>\n",
       "      <th>4</th>\n",
       "      <td>1001</td>\n",
       "      <td>1001</td>\n",
       "      <td>বেইলি রোড শাখাতে সুপার ধীর সেবা</td>\n",
       "      <td>negative</td>\n",
       "      <td>বেইলি রোড শাখাতে সুপার ধীর সেবা</td>\n",
       "      <td>0</td>\n",
       "      <td>['বেইলি', 'রে', '##াড', 'শাখা', '##তে', 'সপ', ...</td>\n",
       "      <td>[14379, 4972, 35897, 3574, 2200, 73835, 3187, ...</td>\n",
       "    </tr>\n",
       "  </tbody>\n",
       "</table>\n",
       "</div>"
      ],
      "text/plain": [
       "   Unnamed: 0  Unnamed: 0.1  \\\n",
       "0         501           501   \n",
       "1         264           264   \n",
       "2         405           405   \n",
       "3         435           435   \n",
       "4        1001          1001   \n",
       "\n",
       "                                             Reviews Sentiment  \\\n",
       "0                       পরিবেশ খাদ্য ও সেবা ছিল মহান  positive   \n",
       "1  খাবারগুলো এত ইয়াম্মিইইইই...ইচ্ছে করে প্রতিদিন ...  positive   \n",
       "2     শহরে সেরা মুরগির রেসিপি জন্য নিঃসন্দেহে জায়গা  positive   \n",
       "3  আজ রাতে আমি কাবাব ও খাদ্য এ আমার পরিবারের সাথে...  positive   \n",
       "4                    বেইলি রোড শাখাতে সুপার ধীর সেবা  negative   \n",
       "\n",
       "                                                Text  Label  \\\n",
       "0                       পরিবেশ খাদ্য ও সেবা ছিল মহান      1   \n",
       "1     খাবারগুলো এত ইয়াম্মিইইইইইচ্ছে করে প্রতিদিন খাই      1   \n",
       "2     শহরে সেরা মুরগির রেসিপি জন্য নিঃসন্দেহে জায়গা      1   \n",
       "3  আজ রাতে আমি কাবাব ও খাদ্য এ আমার পরিবারের সাথে...      1   \n",
       "4                    বেইলি রোড শাখাতে সুপার ধীর সেবা      0   \n",
       "\n",
       "                                               Token  \\\n",
       "0  ['পরিবেশ', 'খাদ', '##য', 'ও', 'সেবা', 'ছিল', '...   \n",
       "1  ['খাবার', '##গলে', '##া', 'এত', 'ই', '##যাম', ...   \n",
       "2  ['শহরে', 'সেরা', 'মর', '##গির', 'রেসিপি', 'জন'...   \n",
       "3  ['আজ', 'রাতে', 'আমি', 'কাবাব', 'ও', 'খাদ', '##...   \n",
       "4  ['বেইলি', 'রে', '##াড', 'শাখা', '##তে', 'সপ', ...   \n",
       "\n",
       "                                            Token_ID  \n",
       "0        [2679, 19673, 9294, 2038, 2872, 2072, 4444]  \n",
       "1  [2545, 64716, 2395, 2592, 2554, 71968, 6968, 2...  \n",
       "2  [2881, 2617, 18849, 25654, 10643, 2181, 9294, ...  \n",
       "3  [2145, 2736, 2169, 12677, 2038, 19673, 9294, 2...  \n",
       "4  [14379, 4972, 35897, 3574, 2200, 73835, 3187, ...  "
      ]
     },
     "execution_count": 6,
     "metadata": {},
     "output_type": "execute_result"
    }
   ],
   "source": [
    "df.head()"
   ]
  },
  {
   "cell_type": "code",
   "execution_count": 7,
   "id": "11c56b76",
   "metadata": {
    "execution": {
     "iopub.execute_input": "2022-04-20T14:39:43.523970Z",
     "iopub.status.busy": "2022-04-20T14:39:43.523123Z",
     "iopub.status.idle": "2022-04-20T14:39:43.717572Z",
     "shell.execute_reply": "2022-04-20T14:39:43.718214Z",
     "shell.execute_reply.started": "2022-04-20T14:37:42.692202Z"
    },
    "papermill": {
     "duration": 0.228291,
     "end_time": "2022-04-20T14:39:43.718376",
     "exception": false,
     "start_time": "2022-04-20T14:39:43.490085",
     "status": "completed"
    },
    "tags": []
   },
   "outputs": [
    {
     "data": {
      "text/plain": [
       "<AxesSubplot:xlabel='Sentiment', ylabel='count'>"
      ]
     },
     "execution_count": 7,
     "metadata": {},
     "output_type": "execute_result"
    },
    {
     "data": {
      "image/png": "[encoded data removed]",
      "text/plain": [
       "<Figure size 432x288 with 1 Axes>"
      ]
     },
     "metadata": {
      "needs_background": "light"
     },
     "output_type": "display_data"
    }
   ],
   "source": [
    "sns.countplot(df['Sentiment'])"
   ]
  },
  {
   "cell_type": "code",
   "execution_count": 8,
   "id": "4688a85a",
   "metadata": {
    "execution": {
     "iopub.execute_input": "2022-04-20T14:39:43.778365Z",
     "iopub.status.busy": "2022-04-20T14:39:43.777567Z",
     "iopub.status.idle": "2022-04-20T14:39:43.781143Z",
     "shell.execute_reply": "2022-04-20T14:39:43.780711Z",
     "shell.execute_reply.started": "2022-04-20T14:37:42.903976Z"
    },
    "papermill": {
     "duration": 0.035735,
     "end_time": "2022-04-20T14:39:43.781252",
     "exception": false,
     "start_time": "2022-04-20T14:39:43.745517",
     "status": "completed"
    },
    "tags": []
   },
   "outputs": [
    {
     "data": {
      "text/plain": [
       "(negative    794\n",
       " positive    637\n",
       " Name: Sentiment, dtype: int64,\n",
       " 1431)"
      ]
     },
     "execution_count": 8,
     "metadata": {},
     "output_type": "execute_result"
    }
   ],
   "source": [
    "df.Sentiment.value_counts(), len(df)"
   ]
  },
  {
   "cell_type": "code",
   "execution_count": 9,
   "id": "b336957b",
   "metadata": {
    "execution": {
     "iopub.execute_input": "2022-04-20T14:39:43.840408Z",
     "iopub.status.busy": "2022-04-20T14:39:43.839651Z",
     "iopub.status.idle": "2022-04-20T14:39:43.841584Z",
     "shell.execute_reply": "2022-04-20T14:39:43.842003Z",
     "shell.execute_reply.started": "2022-04-20T14:37:42.913253Z"
    },
    "papermill": {
     "duration": 0.033396,
     "end_time": "2022-04-20T14:39:43.842129",
     "exception": false,
     "start_time": "2022-04-20T14:39:43.808733",
     "status": "completed"
    },
    "tags": []
   },
   "outputs": [],
   "source": [
    "maxlen = 200\n",
    "max_features = 10000\n",
    "batch_size = 32"
   ]
  },
  {
   "cell_type": "code",
   "execution_count": 10,
   "id": "4faeafe3",
   "metadata": {
    "execution": {
     "iopub.execute_input": "2022-04-20T14:39:43.901829Z",
     "iopub.status.busy": "2022-04-20T14:39:43.901056Z",
     "iopub.status.idle": "2022-04-20T14:39:43.903428Z",
     "shell.execute_reply": "2022-04-20T14:39:43.902995Z",
     "shell.execute_reply.started": "2022-04-20T14:37:42.924739Z"
    },
    "papermill": {
     "duration": 0.033861,
     "end_time": "2022-04-20T14:39:43.903527",
     "exception": false,
     "start_time": "2022-04-20T14:39:43.869666",
     "status": "completed"
    },
    "tags": []
   },
   "outputs": [],
   "source": [
    "df['Token']=df['Token'].astype('str')"
   ]
  },
  {
   "cell_type": "code",
   "execution_count": 11,
   "id": "ae6dfa20",
   "metadata": {
    "execution": {
     "iopub.execute_input": "2022-04-20T14:39:43.963306Z",
     "iopub.status.busy": "2022-04-20T14:39:43.962675Z",
     "iopub.status.idle": "2022-04-20T14:39:44.108627Z",
     "shell.execute_reply": "2022-04-20T14:39:44.109092Z",
     "shell.execute_reply.started": "2022-04-20T14:37:42.933241Z"
    },
    "papermill": {
     "duration": 0.178067,
     "end_time": "2022-04-20T14:39:44.109245",
     "exception": false,
     "start_time": "2022-04-20T14:39:43.931178",
     "status": "completed"
    },
    "tags": []
   },
   "outputs": [],
   "source": [
    "from sklearn.model_selection import train_test_split\n",
    "x_train, x_test, y_train, y_test = train_test_split(df['Token'],df['Label'] , test_size=0.1,random_state=2)\n",
    "x_train, x_validation, y_train, y_validation = train_test_split(x_train,y_train,test_size=0.1,random_state=42)"
   ]
  },
  {
   "cell_type": "code",
   "execution_count": 12,
   "id": "bc396022",
   "metadata": {
    "execution": {
     "iopub.execute_input": "2022-04-20T14:39:44.171022Z",
     "iopub.status.busy": "2022-04-20T14:39:44.170139Z",
     "iopub.status.idle": "2022-04-20T14:39:44.172324Z",
     "shell.execute_reply": "2022-04-20T14:39:44.172957Z",
     "shell.execute_reply.started": "2022-04-20T14:37:43.094691Z"
    },
    "papermill": {
     "duration": 0.033943,
     "end_time": "2022-04-20T14:39:44.173089",
     "exception": false,
     "start_time": "2022-04-20T14:39:44.139146",
     "status": "completed"
    },
    "tags": []
   },
   "outputs": [],
   "source": [
    "vocab_size=15000"
   ]
  },
  {
   "cell_type": "code",
   "execution_count": 13,
   "id": "ba44a0fb",
   "metadata": {
    "execution": {
     "iopub.execute_input": "2022-04-20T14:39:44.265622Z",
     "iopub.status.busy": "2022-04-20T14:39:44.244827Z",
     "iopub.status.idle": "2022-04-20T14:39:44.385265Z",
     "shell.execute_reply": "2022-04-20T14:39:44.385647Z",
     "shell.execute_reply.started": "2022-04-20T14:37:43.100571Z"
    },
    "papermill": {
     "duration": 0.185359,
     "end_time": "2022-04-20T14:39:44.385774",
     "exception": false,
     "start_time": "2022-04-20T14:39:44.200415",
     "status": "completed"
    },
    "tags": []
   },
   "outputs": [],
   "source": [
    "tokenizer  = Tokenizer(num_words = max_features,oov_token = \"<OOV>\")\n",
    "tokenizer.fit_on_texts(df['Token'])\n",
    "\n",
    "train_seq =  tokenizer.texts_to_sequences(x_train)\n",
    "val_seq =  tokenizer.texts_to_sequences(x_validation)\n",
    "test_seq = tokenizer.texts_to_sequences(x_test)"
   ]
  },
  {
   "cell_type": "code",
   "execution_count": 14,
   "id": "d1aa1e07",
   "metadata": {
    "execution": {
     "iopub.execute_input": "2022-04-20T14:39:44.445623Z",
     "iopub.status.busy": "2022-04-20T14:39:44.444867Z",
     "iopub.status.idle": "2022-04-20T14:39:44.458504Z",
     "shell.execute_reply": "2022-04-20T14:39:44.458894Z",
     "shell.execute_reply.started": "2022-04-20T14:37:43.271990Z"
    },
    "papermill": {
     "duration": 0.045714,
     "end_time": "2022-04-20T14:39:44.459036",
     "exception": false,
     "start_time": "2022-04-20T14:39:44.413322",
     "status": "completed"
    },
    "tags": []
   },
   "outputs": [],
   "source": [
    "x_train = pad_sequences(train_seq, maxlen=maxlen, dtype='int32', padding='post',truncating='post') #maxlen = maxlen, padding='post')\n",
    "x_validation = pad_sequences(val_seq, maxlen=maxlen, dtype='int32', padding='post',truncating='post') #maxlen = maxlen, padding='post')\n",
    "x_test = pad_sequences(test_seq, maxlen=maxlen, dtype='int32', padding='post',truncating='post') #maxlen = maxlen, padding='post')"
   ]
  },
  {
   "cell_type": "code",
   "execution_count": 15,
   "id": "1d0d6fd2",
   "metadata": {
    "execution": {
     "iopub.execute_input": "2022-04-20T14:39:44.520540Z",
     "iopub.status.busy": "2022-04-20T14:39:44.520003Z",
     "iopub.status.idle": "2022-04-20T14:39:47.985675Z",
     "shell.execute_reply": "2022-04-20T14:39:47.986115Z",
     "shell.execute_reply.started": "2022-04-20T14:37:43.298508Z"
    },
    "papermill": {
     "duration": 3.500325,
     "end_time": "2022-04-20T14:39:47.986277",
     "exception": false,
     "start_time": "2022-04-20T14:39:44.485952",
     "status": "completed"
    },
    "tags": []
   },
   "outputs": [
    {
     "name": "stderr",
     "output_type": "stream",
     "text": [
      "2022-04-20 14:39:44.604950: I tensorflow/stream_executor/cuda/cuda_gpu_executor.cc:937] successful NUMA node read from SysFS had negative value (-1), but there must be at least one NUMA node, so returning NUMA node zero\n",
      "2022-04-20 14:39:44.697042: I tensorflow/stream_executor/cuda/cuda_gpu_executor.cc:937] successful NUMA node read from SysFS had negative value (-1), but there must be at least one NUMA node, so returning NUMA node zero\n",
      "2022-04-20 14:39:44.697972: I tensorflow/stream_executor/cuda/cuda_gpu_executor.cc:937] successful NUMA node read from SysFS had negative value (-1), but there must be at least one NUMA node, so returning NUMA node zero\n",
      "2022-04-20 14:39:44.699796: I tensorflow/core/platform/cpu_feature_guard.cc:142] This TensorFlow binary is optimized with oneAPI Deep Neural Network Library (oneDNN) to use the following CPU instructions in performance-critical operations:  AVX2 AVX512F FMA\n",
      "To enable them in other operations, rebuild TensorFlow with the appropriate compiler flags.\n",
      "2022-04-20 14:39:44.701099: I tensorflow/stream_executor/cuda/cuda_gpu_executor.cc:937] successful NUMA node read from SysFS had negative value (-1), but there must be at least one NUMA node, so returning NUMA node zero\n",
      "2022-04-20 14:39:44.701807: I tensorflow/stream_executor/cuda/cuda_gpu_executor.cc:937] successful NUMA node read from SysFS had negative value (-1), but there must be at least one NUMA node, so returning NUMA node zero\n",
      "2022-04-20 14:39:44.702516: I tensorflow/stream_executor/cuda/cuda_gpu_executor.cc:937] successful NUMA node read from SysFS had negative value (-1), but there must be at least one NUMA node, so returning NUMA node zero\n",
      "2022-04-20 14:39:46.527840: I tensorflow/stream_executor/cuda/cuda_gpu_executor.cc:937] successful NUMA node read from SysFS had negative value (-1), but there must be at least one NUMA node, so returning NUMA node zero\n",
      "2022-04-20 14:39:46.528854: I tensorflow/stream_executor/cuda/cuda_gpu_executor.cc:937] successful NUMA node read from SysFS had negative value (-1), but there must be at least one NUMA node, so returning NUMA node zero\n",
      "2022-04-20 14:39:46.529626: I tensorflow/stream_executor/cuda/cuda_gpu_executor.cc:937] successful NUMA node read from SysFS had negative value (-1), but there must be at least one NUMA node, so returning NUMA node zero\n",
      "2022-04-20 14:39:46.530228: I tensorflow/core/common_runtime/gpu/gpu_device.cc:1510] Created device /job:localhost/replica:0/task:0/device:GPU:0 with 15403 MB memory:  -> device: 0, name: Tesla P100-PCIE-16GB, pci bus id: 0000:00:04.0, compute capability: 6.0\n"
     ]
    },
    {
     "name": "stdout",
     "output_type": "stream",
     "text": [
      "Model: \"sequential\"\n",
      "_________________________________________________________________\n",
      "Layer (type)                 Output Shape              Param #   \n",
      "=================================================================\n",
      "Embedding (Embedding)        (None, 200, 40)           600000    \n",
      "_________________________________________________________________\n",
      "conv1d (Conv1D)              (None, 198, 200)          24200     \n",
      "_________________________________________________________________\n",
      "bidirectional (Bidirectional (None, 198, 256)          336896    \n",
      "_________________________________________________________________\n",
      "dropout (Dropout)            (None, 198, 256)          0         \n",
      "_________________________________________________________________\n",
      "bidirectional_1 (Bidirection (None, 128)               164352    \n",
      "_________________________________________________________________\n",
      "dropout_1 (Dropout)          (None, 128)               0         \n",
      "_________________________________________________________________\n",
      "dense (Dense)                (None, 50)                6450      \n",
      "_________________________________________________________________\n",
      "dropout_2 (Dropout)          (None, 50)                0         \n",
      "_________________________________________________________________\n",
      "dense_1 (Dense)              (None, 25)                1275      \n",
      "_________________________________________________________________\n",
      "dropout_3 (Dropout)          (None, 25)                0         \n",
      "_________________________________________________________________\n",
      "dense_2 (Dense)              (None, 12)                312       \n",
      "_________________________________________________________________\n",
      "flatten (Flatten)            (None, 12)                0         \n",
      "_________________________________________________________________\n",
      "dense_3 (Dense)              (None, 1)                 13        \n",
      "=================================================================\n",
      "Total params: 1,133,498\n",
      "Trainable params: 1,133,498\n",
      "Non-trainable params: 0\n",
      "_________________________________________________________________\n"
     ]
    }
   ],
   "source": [
    "model= Sequential()\n",
    "model.add(Embedding(vocab_size,40,input_length=maxlen,name='Embedding'))\n",
    "model.add(Conv1D(200, kernel_size=3, activation = \"relu\"))\n",
    "model.add(Bidirectional(LSTM(128, return_sequences=True)))\n",
    "model.add(Dropout(0.25))\n",
    "model.add(Bidirectional(LSTM(64)))\n",
    "model.add(Dropout(0.1))\n",
    "model.add(Dense(50, activation='relu'))\n",
    "model.add(Dropout(0.2))\n",
    "model.add(Dense(25, activation='relu'))\n",
    "model.add(Dropout(0.1))\n",
    "model.add(Dense(12, activation='relu'))\n",
    "model.add(Flatten())\n",
    "model.add(Dense(units=1, activation='sigmoid'))\n",
    "adam=Adam(learning_rate=0.003)\n",
    "model.summary()\n",
    "model.compile(loss='binary_crossentropy',optimizer='adam',metrics=['binary_accuracy'])"
   ]
  },
  {
   "cell_type": "code",
   "execution_count": 16,
   "id": "f1bd41b8",
   "metadata": {
    "execution": {
     "iopub.execute_input": "2022-04-20T14:39:48.048799Z",
     "iopub.status.busy": "2022-04-20T14:39:48.048272Z",
     "iopub.status.idle": "2022-04-20T14:39:48.051654Z",
     "shell.execute_reply": "2022-04-20T14:39:48.051239Z",
     "shell.execute_reply.started": "2022-04-20T14:37:46.580693Z"
    },
    "papermill": {
     "duration": 0.036896,
     "end_time": "2022-04-20T14:39:48.051762",
     "exception": false,
     "start_time": "2022-04-20T14:39:48.014866",
     "status": "completed"
    },
    "tags": []
   },
   "outputs": [],
   "source": [
    "early_stopping = keras.callbacks.EarlyStopping(\n",
    "    patience=5,\n",
    "    min_delta=0.001,\n",
    "    restore_best_weights=True,\n",
    ")"
   ]
  },
  {
   "cell_type": "code",
   "execution_count": 17,
   "id": "2c1d7270",
   "metadata": {
    "execution": {
     "iopub.execute_input": "2022-04-20T14:39:48.112141Z",
     "iopub.status.busy": "2022-04-20T14:39:48.111450Z",
     "iopub.status.idle": "2022-04-20T14:40:15.072835Z",
     "shell.execute_reply": "2022-04-20T14:40:15.072324Z",
     "shell.execute_reply.started": "2022-04-20T14:37:46.587322Z"
    },
    "papermill": {
     "duration": 26.993519,
     "end_time": "2022-04-20T14:40:15.072990",
     "exception": false,
     "start_time": "2022-04-20T14:39:48.079471",
     "status": "completed"
    },
    "tags": []
   },
   "outputs": [
    {
     "name": "stderr",
     "output_type": "stream",
     "text": [
      "2022-04-20 14:39:48.156647: I tensorflow/compiler/mlir/mlir_graph_optimization_pass.cc:185] None of the MLIR Optimization Passes are enabled (registered 2)\n"
     ]
    },
    {
     "name": "stdout",
     "output_type": "stream",
     "text": [
      "Epoch 1/30\n"
     ]
    },
    {
     "name": "stderr",
     "output_type": "stream",
     "text": [
      "2022-04-20 14:39:53.555835: I tensorflow/stream_executor/cuda/cuda_dnn.cc:369] Loaded cuDNN version 8005\n"
     ]
    },
    {
     "name": "stdout",
     "output_type": "stream",
     "text": [
      "37/37 [==============================] - 14s 80ms/step - loss: 0.6798 - binary_accuracy: 0.5622 - val_loss: 0.7399 - val_binary_accuracy: 0.3876\n",
      "Epoch 2/30\n",
      "37/37 [==============================] - 2s 48ms/step - loss: 0.6887 - binary_accuracy: 0.5345 - val_loss: 0.6648 - val_binary_accuracy: 0.6202\n",
      "Epoch 3/30\n",
      "37/37 [==============================] - 2s 42ms/step - loss: 0.6122 - binary_accuracy: 0.6848 - val_loss: 0.4088 - val_binary_accuracy: 0.8295\n",
      "Epoch 4/30\n",
      "37/37 [==============================] - 2s 42ms/step - loss: 0.3941 - binary_accuracy: 0.8264 - val_loss: 0.3778 - val_binary_accuracy: 0.8760\n",
      "Epoch 5/30\n",
      "37/37 [==============================] - 2s 42ms/step - loss: 0.2841 - binary_accuracy: 0.8739 - val_loss: 0.4441 - val_binary_accuracy: 0.7442\n",
      "Epoch 6/30\n",
      "37/37 [==============================] - 2s 42ms/step - loss: 0.2225 - binary_accuracy: 0.9085 - val_loss: 0.3790 - val_binary_accuracy: 0.8760\n",
      "Epoch 7/30\n",
      "37/37 [==============================] - 2s 42ms/step - loss: 0.1469 - binary_accuracy: 0.9516 - val_loss: 0.4132 - val_binary_accuracy: 0.8915\n",
      "Epoch 8/30\n",
      "37/37 [==============================] - 2s 44ms/step - loss: 0.1096 - binary_accuracy: 0.9611 - val_loss: 0.5164 - val_binary_accuracy: 0.8760\n",
      "Epoch 9/30\n",
      "37/37 [==============================] - 2s 42ms/step - loss: 0.0472 - binary_accuracy: 0.9862 - val_loss: 0.6954 - val_binary_accuracy: 0.8837\n"
     ]
    }
   ],
   "source": [
    "history = model.fit(x_train, y_train, batch_size=batch_size, epochs=30, callbacks=[early_stopping],verbose=1, validation_data=(x_validation, y_validation))"
   ]
  },
  {
   "cell_type": "code",
   "execution_count": 18,
   "id": "6d6d1f66",
   "metadata": {
    "execution": {
     "iopub.execute_input": "2022-04-20T14:40:15.274950Z",
     "iopub.status.busy": "2022-04-20T14:40:15.274401Z",
     "iopub.status.idle": "2022-04-20T14:40:34.553926Z",
     "shell.execute_reply": "2022-04-20T14:40:34.554340Z",
     "shell.execute_reply.started": "2022-04-20T14:38:16.902944Z"
    },
    "papermill": {
     "duration": 19.382172,
     "end_time": "2022-04-20T14:40:34.554506",
     "exception": false,
     "start_time": "2022-04-20T14:40:15.172334",
     "status": "completed"
    },
    "tags": []
   },
   "outputs": [
    {
     "data": {
      "image/png": "[encoded data removed]",
      "text/plain": [
       "<IPython.core.display.Image object>"
      ]
     },
     "execution_count": 18,
     "metadata": {},
     "output_type": "execute_result"
    }
   ],
   "source": [
    "tf.keras.utils.plot_model(model, to_file='model.png', show_shapes=False,show_layer_names=True, rankdir='TB', expand_nested=False, dpi=96)"
   ]
  },
  {
   "cell_type": "code",
   "execution_count": 19,
   "id": "2c17e94b",
   "metadata": {
    "execution": {
     "iopub.execute_input": "2022-04-20T14:40:34.737264Z",
     "iopub.status.busy": "2022-04-20T14:40:34.736693Z",
     "iopub.status.idle": "2022-04-20T14:40:34.895568Z",
     "shell.execute_reply": "2022-04-20T14:40:34.895958Z",
     "shell.execute_reply.started": "2022-04-20T14:38:33.253650Z"
    },
    "papermill": {
     "duration": 0.252605,
     "end_time": "2022-04-20T14:40:34.896130",
     "exception": false,
     "start_time": "2022-04-20T14:40:34.643525",
     "status": "completed"
    },
    "tags": []
   },
   "outputs": [
    {
     "name": "stdout",
     "output_type": "stream",
     "text": [
      "5/5 [==============================] - 0s 21ms/step - loss: 0.4018 - binary_accuracy: 0.8681\n"
     ]
    },
    {
     "data": {
      "text/plain": [
       "[0.40183740854263306, 0.8680555820465088]"
      ]
     },
     "execution_count": 19,
     "metadata": {},
     "output_type": "execute_result"
    }
   ],
   "source": [
    "model.evaluate(x_test, y_test)"
   ]
  },
  {
   "cell_type": "code",
   "execution_count": 20,
   "id": "b6fbf3a1",
   "metadata": {
    "execution": {
     "iopub.execute_input": "2022-04-20T14:40:35.083958Z",
     "iopub.status.busy": "2022-04-20T14:40:35.083432Z",
     "iopub.status.idle": "2022-04-20T14:40:35.404027Z",
     "shell.execute_reply": "2022-04-20T14:40:35.405100Z",
     "shell.execute_reply.started": "2022-04-20T14:38:33.424595Z"
    },
    "papermill": {
     "duration": 0.418584,
     "end_time": "2022-04-20T14:40:35.405298",
     "exception": false,
     "start_time": "2022-04-20T14:40:34.986714",
     "status": "completed"
    },
    "tags": []
   },
   "outputs": [
    {
     "data": {
      "image/png": "[encoded data removed]",
      "text/plain": [
       "<Figure size 432x288 with 1 Axes>"
      ]
     },
     "metadata": {
      "needs_background": "light"
     },
     "output_type": "display_data"
    }
   ],
   "source": [
    "import matplotlib.pyplot as plt\n",
    "\n",
    "plt.plot(history.history['binary_accuracy'], label=\"Accuracy\")\n",
    "plt.plot(history.history['val_binary_accuracy'], label=\"Validation accuracy\")\n",
    "plt.title('Accuracy')\n",
    "plt.xlabel('Epoch')\n",
    "plt.ylabel('Accuracy')\n",
    "plt.legend()\n",
    "plt.tight_layout()\n",
    "plt.show()"
   ]
  },
  {
   "cell_type": "code",
   "execution_count": 21,
   "id": "194f2bc8",
   "metadata": {
    "execution": {
     "iopub.execute_input": "2022-04-20T14:40:35.725412Z",
     "iopub.status.busy": "2022-04-20T14:40:35.724613Z",
     "iopub.status.idle": "2022-04-20T14:40:36.012563Z",
     "shell.execute_reply": "2022-04-20T14:40:36.013017Z",
     "shell.execute_reply.started": "2022-04-20T14:38:33.687294Z"
    },
    "papermill": {
     "duration": 0.445787,
     "end_time": "2022-04-20T14:40:36.013230",
     "exception": false,
     "start_time": "2022-04-20T14:40:35.567443",
     "status": "completed"
    },
    "tags": []
   },
   "outputs": [
    {
     "data": {
      "image/png": "[encoded data removed]",
      "text/plain": [
       "<Figure size 432x288 with 1 Axes>"
      ]
     },
     "metadata": {
      "needs_background": "light"
     },
     "output_type": "display_data"
    }
   ],
   "source": [
    "import matplotlib.pyplot as plt\n",
    "\n",
    "plt.plot(history.history['loss'], label=\"Train loss\")\n",
    "plt.plot(history.history['val_loss'], label=\"Validation loss\")\n",
    "plt.title('Loss')\n",
    "plt.xlabel('Epoch')\n",
    "plt.ylabel('Loss')\n",
    "plt.legend()\n",
    "plt.tight_layout()\n",
    "plt.show()"
   ]
  },
  {
   "cell_type": "code",
   "execution_count": 22,
   "id": "9aeb64ec",
   "metadata": {
    "execution": {
     "iopub.execute_input": "2022-04-20T14:40:36.203552Z",
     "iopub.status.busy": "2022-04-20T14:40:36.202761Z",
     "iopub.status.idle": "2022-04-20T14:40:37.541233Z",
     "shell.execute_reply": "2022-04-20T14:40:37.540618Z",
     "shell.execute_reply.started": "2022-04-20T14:38:34.179159Z"
    },
    "papermill": {
     "duration": 1.435204,
     "end_time": "2022-04-20T14:40:37.541372",
     "exception": false,
     "start_time": "2022-04-20T14:40:36.106168",
     "status": "completed"
    },
    "tags": []
   },
   "outputs": [],
   "source": [
    "from sklearn.metrics import classification_report\n",
    "\n",
    "y_pred = model.predict(x_test)"
   ]
  },
  {
   "cell_type": "code",
   "execution_count": 23,
   "id": "2bb2b636",
   "metadata": {
    "execution": {
     "iopub.execute_input": "2022-04-20T14:40:37.736649Z",
     "iopub.status.busy": "2022-04-20T14:40:37.735600Z",
     "iopub.status.idle": "2022-04-20T14:40:37.737604Z",
     "shell.execute_reply": "2022-04-20T14:40:37.738096Z",
     "shell.execute_reply.started": "2022-04-20T14:38:35.552010Z"
    },
    "papermill": {
     "duration": 0.101467,
     "end_time": "2022-04-20T14:40:37.738241",
     "exception": false,
     "start_time": "2022-04-20T14:40:37.636774",
     "status": "completed"
    },
    "tags": []
   },
   "outputs": [],
   "source": [
    "y_pred = y_pred.reshape(-1,1)\n",
    "y_pred = np.round(y_pred)"
   ]
  },
  {
   "cell_type": "code",
   "execution_count": 24,
   "id": "607175dd",
   "metadata": {
    "execution": {
     "iopub.execute_input": "2022-04-20T14:40:37.953512Z",
     "iopub.status.busy": "2022-04-20T14:40:37.952959Z",
     "iopub.status.idle": "2022-04-20T14:40:37.958785Z",
     "shell.execute_reply": "2022-04-20T14:40:37.959198Z",
     "shell.execute_reply.started": "2022-04-20T14:38:35.558695Z"
    },
    "papermill": {
     "duration": 0.111829,
     "end_time": "2022-04-20T14:40:37.959338",
     "exception": false,
     "start_time": "2022-04-20T14:40:37.847509",
     "status": "completed"
    },
    "tags": []
   },
   "outputs": [
    {
     "name": "stdout",
     "output_type": "stream",
     "text": [
      "[[0.]\n",
      " [0.]\n",
      " [0.]\n",
      " [0.]\n",
      " [0.]\n",
      " [1.]\n",
      " [1.]\n",
      " [0.]\n",
      " [0.]\n",
      " [1.]\n",
      " [0.]\n",
      " [1.]\n",
      " [0.]\n",
      " [0.]\n",
      " [0.]\n",
      " [1.]\n",
      " [1.]\n",
      " [1.]\n",
      " [0.]\n",
      " [0.]\n",
      " [1.]\n",
      " [1.]\n",
      " [0.]\n",
      " [1.]\n",
      " [0.]\n",
      " [0.]\n",
      " [1.]\n",
      " [1.]\n",
      " [0.]\n",
      " [0.]\n",
      " [1.]\n",
      " [1.]\n",
      " [0.]\n",
      " [1.]\n",
      " [1.]\n",
      " [1.]\n",
      " [0.]\n",
      " [1.]\n",
      " [1.]\n",
      " [0.]\n",
      " [0.]\n",
      " [0.]\n",
      " [0.]\n",
      " [1.]\n",
      " [0.]\n",
      " [0.]\n",
      " [0.]\n",
      " [0.]\n",
      " [0.]\n",
      " [1.]\n",
      " [0.]\n",
      " [0.]\n",
      " [1.]\n",
      " [0.]\n",
      " [0.]\n",
      " [1.]\n",
      " [0.]\n",
      " [0.]\n",
      " [0.]\n",
      " [1.]\n",
      " [0.]\n",
      " [1.]\n",
      " [0.]\n",
      " [1.]\n",
      " [0.]\n",
      " [1.]\n",
      " [1.]\n",
      " [1.]\n",
      " [0.]\n",
      " [0.]\n",
      " [1.]\n",
      " [0.]\n",
      " [0.]\n",
      " [0.]\n",
      " [1.]\n",
      " [1.]\n",
      " [1.]\n",
      " [1.]\n",
      " [0.]\n",
      " [0.]\n",
      " [1.]\n",
      " [1.]\n",
      " [0.]\n",
      " [0.]\n",
      " [1.]\n",
      " [1.]\n",
      " [1.]\n",
      " [0.]\n",
      " [0.]\n",
      " [0.]\n",
      " [0.]\n",
      " [0.]\n",
      " [0.]\n",
      " [0.]\n",
      " [1.]\n",
      " [0.]\n",
      " [1.]\n",
      " [1.]\n",
      " [0.]\n",
      " [0.]\n",
      " [0.]\n",
      " [0.]\n",
      " [0.]\n",
      " [1.]\n",
      " [1.]\n",
      " [0.]\n",
      " [1.]\n",
      " [0.]\n",
      " [0.]\n",
      " [1.]\n",
      " [0.]\n",
      " [0.]\n",
      " [0.]\n",
      " [0.]\n",
      " [0.]\n",
      " [1.]\n",
      " [1.]\n",
      " [0.]\n",
      " [0.]\n",
      " [0.]\n",
      " [0.]\n",
      " [1.]\n",
      " [1.]\n",
      " [1.]\n",
      " [1.]\n",
      " [1.]\n",
      " [0.]\n",
      " [0.]\n",
      " [0.]\n",
      " [1.]\n",
      " [0.]\n",
      " [1.]\n",
      " [1.]\n",
      " [0.]\n",
      " [0.]\n",
      " [0.]\n",
      " [0.]\n",
      " [0.]\n",
      " [0.]\n",
      " [0.]\n",
      " [0.]\n",
      " [0.]\n",
      " [0.]\n",
      " [1.]]\n",
      "1355    0\n",
      "553     0\n",
      "1195    0\n",
      "1389    1\n",
      "551     0\n",
      "       ..\n",
      "801     1\n",
      "365     0\n",
      "477     0\n",
      "839     0\n",
      "1064    1\n",
      "Name: Label, Length: 144, dtype: int64\n"
     ]
    }
   ],
   "source": [
    "print(y_pred)\n",
    "print(y_test)"
   ]
  },
  {
   "cell_type": "code",
   "execution_count": 25,
   "id": "765d90c6",
   "metadata": {
    "execution": {
     "iopub.execute_input": "2022-04-20T14:40:38.149753Z",
     "iopub.status.busy": "2022-04-20T14:40:38.148919Z",
     "iopub.status.idle": "2022-04-20T14:40:38.158555Z",
     "shell.execute_reply": "2022-04-20T14:40:38.157974Z",
     "shell.execute_reply.started": "2022-04-20T14:38:35.575649Z"
    },
    "papermill": {
     "duration": 0.105773,
     "end_time": "2022-04-20T14:40:38.158702",
     "exception": false,
     "start_time": "2022-04-20T14:40:38.052929",
     "status": "completed"
    },
    "tags": []
   },
   "outputs": [
    {
     "name": "stdout",
     "output_type": "stream",
     "text": [
      "              precision    recall  f1-score   support\n",
      "\n",
      "    negative       0.82      0.96      0.88        74\n",
      "    positive       0.95      0.77      0.85        70\n",
      "\n",
      "    accuracy                           0.87       144\n",
      "   macro avg       0.88      0.87      0.87       144\n",
      "weighted avg       0.88      0.87      0.87       144\n",
      "\n"
     ]
    }
   ],
   "source": [
    "categories = ['negative','positive']\n",
    "print(classification_report(y_test, y_pred, target_names=categories))"
   ]
  },
  {
   "cell_type": "code",
   "execution_count": 26,
   "id": "b9806010",
   "metadata": {
    "execution": {
     "iopub.execute_input": "2022-04-20T14:40:38.353966Z",
     "iopub.status.busy": "2022-04-20T14:40:38.353082Z",
     "iopub.status.idle": "2022-04-20T14:40:38.718339Z",
     "shell.execute_reply": "2022-04-20T14:40:38.717575Z",
     "shell.execute_reply.started": "2022-04-20T14:38:35.590211Z"
    },
    "papermill": {
     "duration": 0.46659,
     "end_time": "2022-04-20T14:40:38.718471",
     "exception": false,
     "start_time": "2022-04-20T14:40:38.251881",
     "status": "completed"
    },
    "tags": []
   },
   "outputs": [
    {
     "data": {
      "image/png": "[encoded data removed]",
      "text/plain": [
       "<Figure size 1152x1008 with 2 Axes>"
      ]
     },
     "metadata": {
      "needs_background": "light"
     },
     "output_type": "display_data"
    }
   ],
   "source": [
    "import seaborn as sns\n",
    "import matplotlib.pyplot as plt\n",
    "\n",
    "### Confusion Matrix\n",
    "from sklearn.metrics import confusion_matrix\n",
    "#predictions = model.predict(x_test, steps=len(x_test), verbose=0)\n",
    "#y_pred=model.predict(x_test)\n",
    "#y_pred = np.round(y_pred)\n",
    "\n",
    "\n",
    "cm = confusion_matrix(y_test, y_pred)\n",
    "\n",
    "## Get Class Labels\n",
    "labels = 2\n",
    "#[0,1,2,3,4,5]_\n",
    "class_names = categories \n",
    "\n",
    "# Plot confusion matrix in a beautiful manner\n",
    "fig = plt.figure(figsize=(16, 14))\n",
    "ax= plt.subplot()\n",
    "sns.heatmap(cm, annot=True, ax = ax, fmt = 'g'); #annot=True to annotate cells\n",
    "# labels, title and ticks\n",
    "ax.set_xlabel('Predicted', fontsize=20)\n",
    "ax.xaxis.set_label_position('bottom')\n",
    "plt.xticks(rotation=90)\n",
    "ax.xaxis.set_ticklabels(class_names, fontsize = 10)\n",
    "ax.xaxis.tick_bottom()\n",
    "\n",
    "ax.set_ylabel('True', fontsize=20)\n",
    "ax.yaxis.set_ticklabels(class_names, fontsize = 10)\n",
    "plt.yticks(rotation=0)\n",
    "\n",
    "plt.title('Refined Confusion Matrix', fontsize=20)\n",
    "\n",
    "plt.savefig('ConMat24.png')\n",
    "plt.show()"
   ]
  }
 ],
 "metadata": {
  "kernelspec": {
   "display_name": "Python 3",
   "language": "python",
   "name": "python3"
  },
  "language_info": {
   "codemirror_mode": {
    "name": "ipython",
    "version": 3
   },
   "file_extension": ".py",
   "mimetype": "text/x-python",
   "name": "python",
   "nbconvert_exporter": "python",
   "pygments_lexer": "ipython3",
   "version": "3.7.12"
  },
  "papermill": {
   "default_parameters": {},
   "duration": 82.347972,
   "end_time": "2022-04-20T14:40:42.019520",
   "environment_variables": {},
   "exception": null,
   "input_path": "__notebook__.ipynb",
   "output_path": "__notebook__.ipynb",
   "parameters": {},
   "start_time": "2022-04-20T14:39:19.671548",
   "version": "2.3.3"
  }
 },
 "nbformat": 4,
 "nbformat_minor": 5
}
