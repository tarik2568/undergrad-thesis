{
 "cells": [
  {
   "cell_type": "code",
   "execution_count": 1,
   "id": "60c865a4",
   "metadata": {
    "execution": {
     "iopub.execute_input": "2022-04-19T06:22:03.048824Z",
     "iopub.status.busy": "2022-04-19T06:22:03.048231Z",
     "iopub.status.idle": "2022-04-19T06:22:13.341882Z",
     "shell.execute_reply": "2022-04-19T06:22:13.341083Z"
    },
    "id": "UqULQnXLjUXh",
    "outputId": "d76042fb-0b7e-44f7-ec0c-ed40e24ec0c3",
    "papermill": {
     "duration": 10.334369,
     "end_time": "2022-04-19T06:22:13.344104",
     "exception": false,
     "start_time": "2022-04-19T06:22:03.009735",
     "status": "completed"
    },
    "tags": []
   },
   "outputs": [
    {
     "name": "stdout",
     "output_type": "stream",
     "text": [
      "Requirement already satisfied: transformers in /opt/conda/lib/python3.7/site-packages (4.17.0)\r\n",
      "Requirement already satisfied: sacremoses in /opt/conda/lib/python3.7/site-packages (from transformers) (0.0.49)\r\n",
      "Requirement already satisfied: regex!=2019.12.17 in /opt/conda/lib/python3.7/site-packages (from transformers) (2021.11.10)\r\n",
      "Requirement already satisfied: huggingface-hub<1.0,>=0.1.0 in /opt/conda/lib/python3.7/site-packages (from transformers) (0.5.1)\r\n",
      "Requirement already satisfied: requests in /opt/conda/lib/python3.7/site-packages (from transformers) (2.27.1)\r\n",
      "Requirement already satisfied: tokenizers!=0.11.3,>=0.11.1 in /opt/conda/lib/python3.7/site-packages (from transformers) (0.11.6)\r\n",
      "Requirement already satisfied: packaging>=20.0 in /opt/conda/lib/python3.7/site-packages (from transformers) (21.3)\r\n",
      "Requirement already satisfied: importlib-metadata in /opt/conda/lib/python3.7/site-packages (from transformers) (4.11.3)\r\n",
      "Requirement already satisfied: numpy>=1.17 in /opt/conda/lib/python3.7/site-packages (from transformers) (1.21.5)\r\n",
      "Requirement already satisfied: pyyaml>=5.1 in /opt/conda/lib/python3.7/site-packages (from transformers) (6.0)\r\n",
      "Requirement already satisfied: filelock in /opt/conda/lib/python3.7/site-packages (from transformers) (3.6.0)\r\n",
      "Requirement already satisfied: tqdm>=4.27 in /opt/conda/lib/python3.7/site-packages (from transformers) (4.63.0)\r\n",
      "Requirement already satisfied: typing-extensions>=3.7.4.3 in /opt/conda/lib/python3.7/site-packages (from huggingface-hub<1.0,>=0.1.0->transformers) (4.1.1)\r\n",
      "Requirement already satisfied: pyparsing!=3.0.5,>=2.0.2 in /opt/conda/lib/python3.7/site-packages (from packaging>=20.0->transformers) (3.0.7)\r\n",
      "Requirement already satisfied: zipp>=0.5 in /opt/conda/lib/python3.7/site-packages (from importlib-metadata->transformers) (3.7.0)\r\n",
      "Requirement already satisfied: charset-normalizer~=2.0.0 in /opt/conda/lib/python3.7/site-packages (from requests->transformers) (2.0.12)\r\n",
      "Requirement already satisfied: idna<4,>=2.5 in /opt/conda/lib/python3.7/site-packages (from requests->transformers) (3.3)\r\n",
      "Requirement already satisfied: urllib3<1.27,>=1.21.1 in /opt/conda/lib/python3.7/site-packages (from requests->transformers) (1.26.8)\r\n",
      "Requirement already satisfied: certifi>=2017.4.17 in /opt/conda/lib/python3.7/site-packages (from requests->transformers) (2021.10.8)\r\n",
      "Requirement already satisfied: six in /opt/conda/lib/python3.7/site-packages (from sacremoses->transformers) (1.16.0)\r\n",
      "Requirement already satisfied: joblib in /opt/conda/lib/python3.7/site-packages (from sacremoses->transformers) (1.0.1)\r\n",
      "Requirement already satisfied: click in /opt/conda/lib/python3.7/site-packages (from sacremoses->transformers) (8.0.4)\r\n",
      "\u001b[33mWARNING: Running pip as the 'root' user can result in broken permissions and conflicting behaviour with the system package manager. It is recommended to use a virtual environment instead: https://pip.pypa.io/warnings/venv\u001b[0m\u001b[33m\r\n",
      "\u001b[0m"
     ]
    }
   ],
   "source": [
    " !pip install transformers"
   ]
  },
  {
   "cell_type": "code",
   "execution_count": 2,
   "id": "432894c7",
   "metadata": {
    "execution": {
     "iopub.execute_input": "2022-04-19T06:22:13.394821Z",
     "iopub.status.busy": "2022-04-19T06:22:13.394167Z",
     "iopub.status.idle": "2022-04-19T06:22:20.505180Z",
     "shell.execute_reply": "2022-04-19T06:22:20.504466Z"
    },
    "id": "IKC0neHDgSGG",
    "papermill": {
     "duration": 7.138396,
     "end_time": "2022-04-19T06:22:20.507539",
     "exception": false,
     "start_time": "2022-04-19T06:22:13.369143",
     "status": "completed"
    },
    "tags": []
   },
   "outputs": [],
   "source": [
    "import tensorflow as tf\n",
    "import logging\n",
    "from tensorflow.keras.layers import (\n",
    "    Dense,\n",
    "    Flatten,\n",
    "    Conv1D,\n",
    "    Dropout,\n",
    "    Input,\n",
    "    LSTM,\n",
    "    Bidirectional\n",
    ")\n",
    "from tensorflow.keras.models import Sequential\n",
    "from tensorflow.keras.optimizers import Adam\n",
    "from tensorflow.keras import Model\n",
    "from tensorflow.keras import regularizers\n",
    "from transformers import BertTokenizer, TFBertModel\n",
    "from sklearn.linear_model import LogisticRegression\n",
    "import os\n",
    "import pandas as pd\n",
    "import numpy as np\n",
    "import keras\n",
    "import torch\n",
    "from sklearn.model_selection import train_test_split\n",
    "from tqdm import tqdm\n",
    "tqdm.pandas()\n",
    "import re\n",
    "import random\n",
    "import torch"
   ]
  },
  {
   "cell_type": "code",
   "execution_count": 3,
   "id": "492fce9b",
   "metadata": {
    "execution": {
     "iopub.execute_input": "2022-04-19T06:22:20.557994Z",
     "iopub.status.busy": "2022-04-19T06:22:20.557775Z",
     "iopub.status.idle": "2022-04-19T06:22:30.236359Z",
     "shell.execute_reply": "2022-04-19T06:22:30.235587Z"
    },
    "papermill": {
     "duration": 9.70604,
     "end_time": "2022-04-19T06:22:30.238382",
     "exception": false,
     "start_time": "2022-04-19T06:22:20.532342",
     "status": "completed"
    },
    "tags": []
   },
   "outputs": [
    {
     "name": "stdout",
     "output_type": "stream",
     "text": [
      "Collecting openpyxl\r\n",
      "  Downloading openpyxl-3.0.9-py2.py3-none-any.whl (242 kB)\r\n",
      "\u001b[2K     \u001b[90m━━━━━━━━━━━━━━━━━━━━━━━━━━━━━━━━━━━━━━━\u001b[0m \u001b[32m242.2/242.2 KB\u001b[0m \u001b[31m1.5 MB/s\u001b[0m eta \u001b[36m0:00:00\u001b[0m\r\n",
      "\u001b[?25hCollecting et-xmlfile\r\n",
      "  Downloading et_xmlfile-1.1.0-py3-none-any.whl (4.7 kB)\r\n",
      "Installing collected packages: et-xmlfile, openpyxl\r\n",
      "Successfully installed et-xmlfile-1.1.0 openpyxl-3.0.9\r\n",
      "\u001b[33mWARNING: Running pip as the 'root' user can result in broken permissions and conflicting behaviour with the system package manager. It is recommended to use a virtual environment instead: https://pip.pypa.io/warnings/venv\u001b[0m\u001b[33m\r\n",
      "\u001b[0mNote: you may need to restart the kernel to use updated packages.\n"
     ]
    }
   ],
   "source": [
    "pip install openpyxl"
   ]
  },
  {
   "cell_type": "code",
   "execution_count": 4,
   "id": "156613f7",
   "metadata": {
    "execution": {
     "iopub.execute_input": "2022-04-19T06:22:30.293381Z",
     "iopub.status.busy": "2022-04-19T06:22:30.293152Z",
     "iopub.status.idle": "2022-04-19T06:22:30.306228Z",
     "shell.execute_reply": "2022-04-19T06:22:30.305569Z"
    },
    "papermill": {
     "duration": 0.042567,
     "end_time": "2022-04-19T06:22:30.307877",
     "exception": false,
     "start_time": "2022-04-19T06:22:30.265310",
     "status": "completed"
    },
    "tags": []
   },
   "outputs": [
    {
     "name": "stdout",
     "output_type": "stream",
     "text": [
      "/kaggle/input/6-class-bert-preprocessed-dataset/Bert_Preprocessed_Dataset.xlsx\n"
     ]
    }
   ],
   "source": [
    "import os\n",
    "for dirname, _, filenames in os.walk('/kaggle/input'):\n",
    "    for filename in filenames:\n",
    "        print(os.path.join(dirname, filename))"
   ]
  },
  {
   "cell_type": "code",
   "execution_count": 5,
   "id": "7ca9b111",
   "metadata": {
    "execution": {
     "iopub.execute_input": "2022-04-19T06:22:30.365313Z",
     "iopub.status.busy": "2022-04-19T06:22:30.365119Z",
     "iopub.status.idle": "2022-04-19T06:22:30.368701Z",
     "shell.execute_reply": "2022-04-19T06:22:30.367986Z"
    },
    "id": "9XhD8p2fkCwI",
    "papermill": {
     "duration": 0.034517,
     "end_time": "2022-04-19T06:22:30.370205",
     "exception": false,
     "start_time": "2022-04-19T06:22:30.335688",
     "status": "completed"
    },
    "tags": []
   },
   "outputs": [],
   "source": [
    "max_length = 100\n",
    "batch_size = 32\n",
    "test_size = 0.1\n",
    "num_class = 6"
   ]
  },
  {
   "cell_type": "code",
   "execution_count": 6,
   "id": "06c94e82",
   "metadata": {
    "execution": {
     "iopub.execute_input": "2022-04-19T06:22:30.425944Z",
     "iopub.status.busy": "2022-04-19T06:22:30.425753Z",
     "iopub.status.idle": "2022-04-19T06:22:33.488294Z",
     "shell.execute_reply": "2022-04-19T06:22:33.487572Z"
    },
    "id": "y0fiXx7Pjpff",
    "papermill": {
     "duration": 3.093243,
     "end_time": "2022-04-19T06:22:33.490387",
     "exception": false,
     "start_time": "2022-04-19T06:22:30.397144",
     "status": "completed"
    },
    "tags": []
   },
   "outputs": [
    {
     "data": {
      "application/vnd.jupyter.widget-view+json": {
       "model_id": "0a623a5f27a3478aa35e25dc1cdc96fc",
       "version_major": 2,
       "version_minor": 0
      },
      "text/plain": [
       "Downloading:   0%|          | 0.00/2.13M [00:00<?, ?B/s]"
      ]
     },
     "metadata": {},
     "output_type": "display_data"
    },
    {
     "data": {
      "application/vnd.jupyter.widget-view+json": {
       "model_id": "e4b27bfec534412f8e649b8446610fb5",
       "version_major": 2,
       "version_minor": 0
      },
      "text/plain": [
       "Downloading:   0%|          | 0.00/491 [00:00<?, ?B/s]"
      ]
     },
     "metadata": {},
     "output_type": "display_data"
    }
   ],
   "source": [
    "model_name = \"sagorsarker/bangla-bert-base\"\n",
    "tokenizer = BertTokenizer.from_pretrained(model_name)"
   ]
  },
  {
   "cell_type": "code",
   "execution_count": 7,
   "id": "6ad43837",
   "metadata": {
    "execution": {
     "iopub.execute_input": "2022-04-19T06:22:33.548566Z",
     "iopub.status.busy": "2022-04-19T06:22:33.547957Z",
     "iopub.status.idle": "2022-04-19T06:22:35.210599Z",
     "shell.execute_reply": "2022-04-19T06:22:35.209835Z"
    },
    "id": "eb9yHAcXkX3n",
    "outputId": "5f16681a-c5e7-4271-e34a-2d0eefbf30d0",
    "papermill": {
     "duration": 1.69493,
     "end_time": "2022-04-19T06:22:35.213898",
     "exception": false,
     "start_time": "2022-04-19T06:22:33.518968",
     "status": "completed"
    },
    "tags": []
   },
   "outputs": [
    {
     "name": "stdout",
     "output_type": "stream",
     "text": [
      "<class 'pandas.core.frame.DataFrame'>\n",
      "RangeIndex: 6405 entries, 0 to 6404\n",
      "Data columns (total 7 columns):\n",
      " #   Column      Non-Null Count  Dtype \n",
      "---  ------      --------------  ----- \n",
      " 0   Unnamed: 0  6405 non-null   int64 \n",
      " 1   ID          6404 non-null   object\n",
      " 2   Text        6404 non-null   object\n",
      " 3   Sentiment   6405 non-null   object\n",
      " 4   Label       6405 non-null   int64 \n",
      " 5   Token       6405 non-null   object\n",
      " 6   Token_ID    6405 non-null   object\n",
      "dtypes: int64(2), object(5)\n",
      "memory usage: 350.4+ KB\n"
     ]
    }
   ],
   "source": [
    "df=pd.read_excel('/kaggle/input/6-class-bert-preprocessed-dataset/Bert_Preprocessed_Dataset.xlsx')\n",
    "df.info()\n"
   ]
  },
  {
   "cell_type": "code",
   "execution_count": 8,
   "id": "896b7e53",
   "metadata": {
    "execution": {
     "iopub.execute_input": "2022-04-19T06:22:35.273501Z",
     "iopub.status.busy": "2022-04-19T06:22:35.272977Z",
     "iopub.status.idle": "2022-04-19T06:22:35.289048Z",
     "shell.execute_reply": "2022-04-19T06:22:35.288370Z"
    },
    "id": "0Q9URyIu0wBc",
    "outputId": "1f5ec511-0678-411f-e9bf-8ae25762f51c",
    "papermill": {
     "duration": 0.047158,
     "end_time": "2022-04-19T06:22:35.290744",
     "exception": false,
     "start_time": "2022-04-19T06:22:35.243586",
     "status": "completed"
    },
    "tags": []
   },
   "outputs": [
    {
     "data": {
      "text/html": [
       "<div>\n",
       "<style scoped>\n",
       "    .dataframe tbody tr th:only-of-type {\n",
       "        vertical-align: middle;\n",
       "    }\n",
       "\n",
       "    .dataframe tbody tr th {\n",
       "        vertical-align: top;\n",
       "    }\n",
       "\n",
       "    .dataframe thead th {\n",
       "        text-align: right;\n",
       "    }\n",
       "</style>\n",
       "<table border=\"1\" class=\"dataframe\">\n",
       "  <thead>\n",
       "    <tr style=\"text-align: right;\">\n",
       "      <th></th>\n",
       "      <th>Unnamed: 0</th>\n",
       "      <th>ID</th>\n",
       "      <th>Text</th>\n",
       "      <th>Sentiment</th>\n",
       "      <th>Label</th>\n",
       "      <th>Token</th>\n",
       "      <th>Token_ID</th>\n",
       "    </tr>\n",
       "  </thead>\n",
       "  <tbody>\n",
       "    <tr>\n",
       "      <th>0</th>\n",
       "      <td>479</td>\n",
       "      <td>939195189512152_939206382844366</td>\n",
       "      <td>উনারে লাথথায়ে মিরপুর চিড়িয়াখানার প্রধান সিকিউর...</td>\n",
       "      <td>angry</td>\n",
       "      <td>0</td>\n",
       "      <td>['উনার', '##ে', 'লা', '##থ', '##থা', '##যে', '...</td>\n",
       "      <td>[36081, 2094, 3853, 7740, 12969, 8844, 15638, ...</td>\n",
       "    </tr>\n",
       "    <tr>\n",
       "      <th>1</th>\n",
       "      <td>1750</td>\n",
       "      <td>935156429916028_935165096581828</td>\n",
       "      <td>কই এখন আপনি লেকচার থেমে গেল কেন ভাই</td>\n",
       "      <td>angry</td>\n",
       "      <td>0</td>\n",
       "      <td>['কই', 'এখন', 'আপনি', 'লেকচার', 'থেমে', 'গেল',...</td>\n",
       "      <td>[6852, 2112, 2536, 22174, 3214, 2590, 2304, 2570]</td>\n",
       "    </tr>\n",
       "    <tr>\n",
       "      <th>2</th>\n",
       "      <td>1855</td>\n",
       "      <td>987743164678331_1529633654011820</td>\n",
       "      <td>সুন্দর জোক্স</td>\n",
       "      <td>happy</td>\n",
       "      <td>3</td>\n",
       "      <td>['সনদ', '##র', 'জে', '##াক', '##স']</td>\n",
       "      <td>[5391, 2046, 4803, 15547, 2388]</td>\n",
       "    </tr>\n",
       "    <tr>\n",
       "      <th>3</th>\n",
       "      <td>1382</td>\n",
       "      <td>935324716565866_935576566540681</td>\n",
       "      <td>বেশির ভাগ ক্ষেত্রে যাত্রী গন কম ভুল করে আর বেশ...</td>\n",
       "      <td>sad</td>\n",
       "      <td>4</td>\n",
       "      <td>['বেশির', 'ভাগ', 'কষে', '##তর', '##ে', 'যা', '...</td>\n",
       "      <td>[3217, 2516, 19675, 12499, 2094, 2120, 42396, ...</td>\n",
       "    </tr>\n",
       "    <tr>\n",
       "      <th>4</th>\n",
       "      <td>3388</td>\n",
       "      <td>987743164678331_552808888211836</td>\n",
       "      <td>বাংলাদেশের হিন্দু মুসলিম সবাই ভাই ভাই যে অন্যন...</td>\n",
       "      <td>sad</td>\n",
       "      <td>4</td>\n",
       "      <td>['বাংলাদেশের', 'হিন', '##দ', 'মস', '##লিম', 'স...</td>\n",
       "      <td>[2119, 50082, 5718, 23143, 33783, 2553, 2570, ...</td>\n",
       "    </tr>\n",
       "  </tbody>\n",
       "</table>\n",
       "</div>"
      ],
      "text/plain": [
       "   Unnamed: 0                                ID  \\\n",
       "0         479   939195189512152_939206382844366   \n",
       "1        1750   935156429916028_935165096581828   \n",
       "2        1855  987743164678331_1529633654011820   \n",
       "3        1382   935324716565866_935576566540681   \n",
       "4        3388   987743164678331_552808888211836   \n",
       "\n",
       "                                                Text Sentiment  Label  \\\n",
       "0  উনারে লাথথায়ে মিরপুর চিড়িয়াখানার প্রধান সিকিউর...     angry      0   \n",
       "1                কই এখন আপনি লেকচার থেমে গেল কেন ভাই     angry      0   \n",
       "2                                       সুন্দর জোক্স     happy      3   \n",
       "3  বেশির ভাগ ক্ষেত্রে যাত্রী গন কম ভুল করে আর বেশ...       sad      4   \n",
       "4  বাংলাদেশের হিন্দু মুসলিম সবাই ভাই ভাই যে অন্যন...       sad      4   \n",
       "\n",
       "                                               Token  \\\n",
       "0  ['উনার', '##ে', 'লা', '##থ', '##থা', '##যে', '...   \n",
       "1  ['কই', 'এখন', 'আপনি', 'লেকচার', 'থেমে', 'গেল',...   \n",
       "2                ['সনদ', '##র', 'জে', '##াক', '##স']   \n",
       "3  ['বেশির', 'ভাগ', 'কষে', '##তর', '##ে', 'যা', '...   \n",
       "4  ['বাংলাদেশের', 'হিন', '##দ', 'মস', '##লিম', 'স...   \n",
       "\n",
       "                                            Token_ID  \n",
       "0  [36081, 2094, 3853, 7740, 12969, 8844, 15638, ...  \n",
       "1  [6852, 2112, 2536, 22174, 3214, 2590, 2304, 2570]  \n",
       "2                    [5391, 2046, 4803, 15547, 2388]  \n",
       "3  [3217, 2516, 19675, 12499, 2094, 2120, 42396, ...  \n",
       "4  [2119, 50082, 5718, 23143, 33783, 2553, 2570, ...  "
      ]
     },
     "execution_count": 8,
     "metadata": {},
     "output_type": "execute_result"
    }
   ],
   "source": [
    "df.head()"
   ]
  },
  {
   "cell_type": "code",
   "execution_count": 9,
   "id": "e2346411",
   "metadata": {
    "execution": {
     "iopub.execute_input": "2022-04-19T06:22:35.349197Z",
     "iopub.status.busy": "2022-04-19T06:22:35.349002Z",
     "iopub.status.idle": "2022-04-19T06:22:35.352164Z",
     "shell.execute_reply": "2022-04-19T06:22:35.351457Z"
    },
    "id": "3B6F3uafmjEh",
    "papermill": {
     "duration": 0.034352,
     "end_time": "2022-04-19T06:22:35.353905",
     "exception": false,
     "start_time": "2022-04-19T06:22:35.319553",
     "status": "completed"
    },
    "tags": []
   },
   "outputs": [],
   "source": [
    "#df=df.drop_duplicates(subset=['Text'],inplace=True)"
   ]
  },
  {
   "cell_type": "code",
   "execution_count": 10,
   "id": "bbe3f9fa",
   "metadata": {
    "execution": {
     "iopub.execute_input": "2022-04-19T06:22:35.412383Z",
     "iopub.status.busy": "2022-04-19T06:22:35.412192Z",
     "iopub.status.idle": "2022-04-19T06:22:35.417107Z",
     "shell.execute_reply": "2022-04-19T06:22:35.416490Z"
    },
    "id": "08CCn_Hxy8il",
    "papermill": {
     "duration": 0.036039,
     "end_time": "2022-04-19T06:22:35.418820",
     "exception": false,
     "start_time": "2022-04-19T06:22:35.382781",
     "status": "completed"
    },
    "tags": []
   },
   "outputs": [],
   "source": [
    "from sklearn.utils import shuffle\n",
    "df = shuffle(df)"
   ]
  },
  {
   "cell_type": "code",
   "execution_count": 11,
   "id": "91a46f04",
   "metadata": {
    "execution": {
     "iopub.execute_input": "2022-04-19T06:22:35.478199Z",
     "iopub.status.busy": "2022-04-19T06:22:35.477999Z",
     "iopub.status.idle": "2022-04-19T06:22:35.484041Z",
     "shell.execute_reply": "2022-04-19T06:22:35.483438Z"
    },
    "id": "QSzKEE7jkay2",
    "papermill": {
     "duration": 0.03716,
     "end_time": "2022-04-19T06:22:35.485640",
     "exception": false,
     "start_time": "2022-04-19T06:22:35.448480",
     "status": "completed"
    },
    "tags": []
   },
   "outputs": [],
   "source": [
    "train=df[:int(.8*len(df))]\n",
    "test=df[int(.8*len(df)):int(.9*len(df))]\n",
    "validation=df[int(.9*len(df)):]\n",
    "x_train=train['Text']\n",
    "y_train=train['Label']\n",
    "x_validation=validation['Text']\n",
    "y_validation=validation['Label']\n",
    "x_test=test['Text']\n",
    "y_test=test['Label']"
   ]
  },
  {
   "cell_type": "markdown",
   "id": "80a70f86",
   "metadata": {
    "id": "18Hmuun9HosX",
    "papermill": {
     "duration": 0.028731,
     "end_time": "2022-04-19T06:22:35.542899",
     "exception": false,
     "start_time": "2022-04-19T06:22:35.514168",
     "status": "completed"
    },
    "tags": []
   },
   "source": [
    "from sklearn.model_selection import train_test_split\n",
    "x_train, x_test, y_train, y_test = train_test_split(df['Text'],df['Label'] , test_size=0.1)\n",
    "x_train, x_validation, y_train, y_validation = train_test_split(x_train,y_train,test_size=0.1)"
   ]
  },
  {
   "cell_type": "code",
   "execution_count": 12,
   "id": "2f237fc1",
   "metadata": {
    "execution": {
     "iopub.execute_input": "2022-04-19T06:22:35.601259Z",
     "iopub.status.busy": "2022-04-19T06:22:35.601057Z",
     "iopub.status.idle": "2022-04-19T06:22:35.605120Z",
     "shell.execute_reply": "2022-04-19T06:22:35.604494Z"
    },
    "id": "hndRAHill_R4",
    "papermill": {
     "duration": 0.035134,
     "end_time": "2022-04-19T06:22:35.606737",
     "exception": false,
     "start_time": "2022-04-19T06:22:35.571603",
     "status": "completed"
    },
    "tags": []
   },
   "outputs": [],
   "source": [
    "x_train = x_train.astype(str)\n",
    "#y_train = y_train.astype(str)\n",
    "x_validation = x_validation.astype(str)\n",
    "x_test = x_test.astype(str)\n",
    "#y_test = y_test.astype(str)"
   ]
  },
  {
   "cell_type": "code",
   "execution_count": 13,
   "id": "69a58604",
   "metadata": {
    "execution": {
     "iopub.execute_input": "2022-04-19T06:22:35.665231Z",
     "iopub.status.busy": "2022-04-19T06:22:35.665033Z",
     "iopub.status.idle": "2022-04-19T06:22:45.197141Z",
     "shell.execute_reply": "2022-04-19T06:22:45.196474Z"
    },
    "id": "ZC-PuZO7k0C1",
    "papermill": {
     "duration": 9.563672,
     "end_time": "2022-04-19T06:22:45.199205",
     "exception": false,
     "start_time": "2022-04-19T06:22:35.635533",
     "status": "completed"
    },
    "tags": []
   },
   "outputs": [
    {
     "name": "stderr",
     "output_type": "stream",
     "text": [
      "2022-04-19 06:22:39.446520: I tensorflow/stream_executor/cuda/cuda_gpu_executor.cc:937] successful NUMA node read from SysFS had negative value (-1), but there must be at least one NUMA node, so returning NUMA node zero\n",
      "2022-04-19 06:22:39.447759: I tensorflow/stream_executor/cuda/cuda_gpu_executor.cc:937] successful NUMA node read from SysFS had negative value (-1), but there must be at least one NUMA node, so returning NUMA node zero\n",
      "2022-04-19 06:22:39.448728: I tensorflow/stream_executor/cuda/cuda_gpu_executor.cc:937] successful NUMA node read from SysFS had negative value (-1), but there must be at least one NUMA node, so returning NUMA node zero\n",
      "2022-04-19 06:22:39.451258: I tensorflow/core/platform/cpu_feature_guard.cc:142] This TensorFlow binary is optimized with oneAPI Deep Neural Network Library (oneDNN) to use the following CPU instructions in performance-critical operations:  AVX2 AVX512F FMA\n",
      "To enable them in other operations, rebuild TensorFlow with the appropriate compiler flags.\n",
      "2022-04-19 06:22:39.451613: I tensorflow/stream_executor/cuda/cuda_gpu_executor.cc:937] successful NUMA node read from SysFS had negative value (-1), but there must be at least one NUMA node, so returning NUMA node zero\n",
      "2022-04-19 06:22:39.452335: I tensorflow/stream_executor/cuda/cuda_gpu_executor.cc:937] successful NUMA node read from SysFS had negative value (-1), but there must be at least one NUMA node, so returning NUMA node zero\n",
      "2022-04-19 06:22:39.453305: I tensorflow/stream_executor/cuda/cuda_gpu_executor.cc:937] successful NUMA node read from SysFS had negative value (-1), but there must be at least one NUMA node, so returning NUMA node zero\n",
      "2022-04-19 06:22:43.981776: I tensorflow/stream_executor/cuda/cuda_gpu_executor.cc:937] successful NUMA node read from SysFS had negative value (-1), but there must be at least one NUMA node, so returning NUMA node zero\n",
      "2022-04-19 06:22:43.982621: I tensorflow/stream_executor/cuda/cuda_gpu_executor.cc:937] successful NUMA node read from SysFS had negative value (-1), but there must be at least one NUMA node, so returning NUMA node zero\n",
      "2022-04-19 06:22:43.983303: I tensorflow/stream_executor/cuda/cuda_gpu_executor.cc:937] successful NUMA node read from SysFS had negative value (-1), but there must be at least one NUMA node, so returning NUMA node zero\n",
      "2022-04-19 06:22:43.984514: I tensorflow/core/common_runtime/gpu/gpu_device.cc:1510] Created device /job:localhost/replica:0/task:0/device:GPU:0 with 14969 MB memory:  -> device: 0, name: Tesla P100-PCIE-16GB, pci bus id: 0000:00:04.0, compute capability: 6.0\n"
     ]
    }
   ],
   "source": [
    "def bert_encode(data):\n",
    "    tokens = tokenizer.batch_encode_plus(\n",
    "        data, max_length=max_length, padding=\"max_length\", truncation=True\n",
    "    )\n",
    "    return tf.constant(tokens[\"input_ids\"])\n",
    "train_encoded = bert_encode(x_train)\n",
    "validation_encoded=bert_encode(x_validation)\n",
    "test_encoded = bert_encode(x_test)\n",
    "\n",
    "train_dataset = (\n",
    "    tf.data.Dataset.from_tensor_slices((train_encoded, y_train))\n",
    "    .shuffle(100)\n",
    "    .batch(batch_size)\n",
    ").cache()\n",
    "validation_dataset = (\n",
    "    tf.data.Dataset.from_tensor_slices((validation_encoded,y_validation))\n",
    "    .shuffle(100)\n",
    "    .batch(batch_size)\n",
    ").cache()\n",
    "\n",
    "test_dataset = (\n",
    "    tf.data.Dataset.from_tensor_slices((test_encoded,y_test))\n",
    "    .shuffle(100)\n",
    "    .batch(batch_size)\n",
    ").cache()\n"
   ]
  },
  {
   "cell_type": "code",
   "execution_count": 14,
   "id": "c4507e84",
   "metadata": {
    "execution": {
     "iopub.execute_input": "2022-04-19T06:22:45.259226Z",
     "iopub.status.busy": "2022-04-19T06:22:45.259004Z",
     "iopub.status.idle": "2022-04-19T06:22:45.262363Z",
     "shell.execute_reply": "2022-04-19T06:22:45.261713Z"
    },
    "id": "Clvx6Q2QJpyF",
    "papermill": {
     "duration": 0.035383,
     "end_time": "2022-04-19T06:22:45.264025",
     "exception": false,
     "start_time": "2022-04-19T06:22:45.228642",
     "status": "completed"
    },
    "tags": []
   },
   "outputs": [],
   "source": [
    "from keras.utils.vis_utils import plot_model"
   ]
  },
  {
   "cell_type": "code",
   "execution_count": 15,
   "id": "4d4c0748",
   "metadata": {
    "execution": {
     "iopub.execute_input": "2022-04-19T06:22:45.323517Z",
     "iopub.status.busy": "2022-04-19T06:22:45.323309Z",
     "iopub.status.idle": "2022-04-19T06:22:45.328988Z",
     "shell.execute_reply": "2022-04-19T06:22:45.328372Z"
    },
    "id": "8dhhI8lDmUO4",
    "papermill": {
     "duration": 0.037131,
     "end_time": "2022-04-19T06:22:45.330680",
     "exception": false,
     "start_time": "2022-04-19T06:22:45.293549",
     "status": "completed"
    },
    "tags": []
   },
   "outputs": [],
   "source": [
    "def bert_bangla_sentiment_model():\n",
    "    bert_encoder = TFBertModel.from_pretrained(model_name, output_attentions=True)\n",
    "    input_word_ids = Input(\n",
    "        shape=(max_length,), dtype=tf.int32, name=\"input_ids\"\n",
    "    )\n",
    "    last_hidden_states = bert_encoder(input_word_ids)[0]\n",
    "    #clf_output = Flatten()(last_hidden_states)\n",
    "    net= Conv1D(200, kernel_size=3, activation = \"relu\")(last_hidden_states)\n",
    "    net = Bidirectional(LSTM(128, return_sequences=True))(net)\n",
    "    net = Flatten()(net)\n",
    "    output = Dense(6, activation=\"softmax\")(net)\n",
    "    model = Model(inputs=input_word_ids, outputs=output)\n",
    "    return model"
   ]
  },
  {
   "cell_type": "code",
   "execution_count": 16,
   "id": "adaeaff4",
   "metadata": {
    "execution": {
     "iopub.execute_input": "2022-04-19T06:22:45.389914Z",
     "iopub.status.busy": "2022-04-19T06:22:45.389690Z",
     "iopub.status.idle": "2022-04-19T06:23:18.241635Z",
     "shell.execute_reply": "2022-04-19T06:23:18.240919Z"
    },
    "id": "Po97cKiK3QQm",
    "outputId": "1a673d34-c9db-4f0f-b789-8827932ba394",
    "papermill": {
     "duration": 32.914797,
     "end_time": "2022-04-19T06:23:18.274599",
     "exception": false,
     "start_time": "2022-04-19T06:22:45.359802",
     "status": "completed"
    },
    "tags": []
   },
   "outputs": [
    {
     "data": {
      "application/vnd.jupyter.widget-view+json": {
       "model_id": "c84ee009e2eb4444a55ccd3103d20507",
       "version_major": 2,
       "version_minor": 0
      },
      "text/plain": [
       "Downloading:   0%|          | 0.00/930M [00:00<?, ?B/s]"
      ]
     },
     "metadata": {},
     "output_type": "display_data"
    },
    {
     "name": "stderr",
     "output_type": "stream",
     "text": [
      "Some layers from the model checkpoint at sagorsarker/bangla-bert-base were not used when initializing TFBertModel: ['mlm___cls']\n",
      "- This IS expected if you are initializing TFBertModel from the checkpoint of a model trained on another task or with another architecture (e.g. initializing a BertForSequenceClassification model from a BertForPreTraining model).\n",
      "- This IS NOT expected if you are initializing TFBertModel from the checkpoint of a model that you expect to be exactly identical (initializing a BertForSequenceClassification model from a BertForSequenceClassification model).\n",
      "All the layers of TFBertModel were initialized from the model checkpoint at sagorsarker/bangla-bert-base.\n",
      "If your task is similar to the task the model of the checkpoint was trained on, you can already use TFBertModel for predictions without further training.\n"
     ]
    },
    {
     "name": "stdout",
     "output_type": "stream",
     "text": [
      "Model: \"model\"\n",
      "_________________________________________________________________\n",
      "Layer (type)                 Output Shape              Param #   \n",
      "=================================================================\n",
      "input_ids (InputLayer)       [(None, 100)]             0         \n",
      "_________________________________________________________________\n",
      "tf_bert_model (TFBertModel)  TFBaseModelOutputWithPool 164396544 \n",
      "_________________________________________________________________\n",
      "conv1d (Conv1D)              (None, 98, 200)           461000    \n",
      "_________________________________________________________________\n",
      "bidirectional (Bidirectional (None, 98, 256)           336896    \n",
      "_________________________________________________________________\n",
      "flatten (Flatten)            (None, 25088)             0         \n",
      "_________________________________________________________________\n",
      "dense (Dense)                (None, 6)                 150534    \n",
      "=================================================================\n",
      "Total params: 165,344,974\n",
      "Trainable params: 165,344,974\n",
      "Non-trainable params: 0\n",
      "_________________________________________________________________\n"
     ]
    }
   ],
   "source": [
    "\n",
    "    model = bert_bangla_sentiment_model()\n",
    "    adam_optimizer = Adam(learning_rate=1e-5)\n",
    "    model.compile(\n",
    "        loss=\"sparse_categorical_crossentropy\", optimizer=adam_optimizer, metrics=[\"accuracy\"]\n",
    "    )\n",
    "    model.summary()"
   ]
  },
  {
   "cell_type": "code",
   "execution_count": 17,
   "id": "87edea0d",
   "metadata": {
    "execution": {
     "iopub.execute_input": "2022-04-19T06:23:18.337520Z",
     "iopub.status.busy": "2022-04-19T06:23:18.336949Z",
     "iopub.status.idle": "2022-04-19T06:23:19.114192Z",
     "shell.execute_reply": "2022-04-19T06:23:19.113360Z"
    },
    "id": "q_W_JzYCKsD-",
    "outputId": "c1dfb7f4-24b0-40ef-afae-3b17cbd7d3d3",
    "papermill": {
     "duration": 0.810842,
     "end_time": "2022-04-19T06:23:19.116168",
     "exception": false,
     "start_time": "2022-04-19T06:23:18.305326",
     "status": "completed"
    },
    "tags": []
   },
   "outputs": [
    {
     "data": {
      "image/png": "[encoded data removed]",
      "text/plain": [
       "<IPython.core.display.Image object>"
      ]
     },
     "execution_count": 17,
     "metadata": {},
     "output_type": "execute_result"
    }
   ],
   "source": [
    "tf.keras.utils.plot_model(model, to_file='model.png', show_shapes=False, show_dtype=False,show_layer_names=True, rankdir='TB', expand_nested=False, dpi=96)"
   ]
  },
  {
   "cell_type": "code",
   "execution_count": 18,
   "id": "84ffb942",
   "metadata": {
    "execution": {
     "iopub.execute_input": "2022-04-19T06:23:19.181808Z",
     "iopub.status.busy": "2022-04-19T06:23:19.181022Z",
     "iopub.status.idle": "2022-04-19T07:01:02.541980Z",
     "shell.execute_reply": "2022-04-19T07:01:02.541194Z"
    },
    "id": "tpp4Sjta5IP1",
    "outputId": "9833ce2b-8386-49aa-f6cc-2d290941dae7",
    "papermill": {
     "duration": 2263.395269,
     "end_time": "2022-04-19T07:01:02.544046",
     "exception": false,
     "start_time": "2022-04-19T06:23:19.148777",
     "status": "completed"
    },
    "tags": []
   },
   "outputs": [
    {
     "name": "stdout",
     "output_type": "stream",
     "text": [
      "Epoch 1/30\n"
     ]
    },
    {
     "name": "stderr",
     "output_type": "stream",
     "text": [
      "2022-04-19 06:23:31.423410: I tensorflow/compiler/mlir/mlir_graph_optimization_pass.cc:185] None of the MLIR Optimization Passes are enabled (registered 2)\n",
      "2022-04-19 06:23:35.436147: I tensorflow/stream_executor/cuda/cuda_dnn.cc:369] Loaded cuDNN version 8005\n"
     ]
    },
    {
     "name": "stdout",
     "output_type": "stream",
     "text": [
      "161/161 [==============================] - 92s 439ms/step - loss: 1.6257 - accuracy: 0.3333 - val_loss: 1.5133 - val_accuracy: 0.4025\n",
      "Epoch 2/30\n",
      "161/161 [==============================] - 67s 418ms/step - loss: 1.4417 - accuracy: 0.4448 - val_loss: 1.3871 - val_accuracy: 0.4774\n",
      "Epoch 3/30\n",
      "161/161 [==============================] - 67s 418ms/step - loss: 1.2731 - accuracy: 0.5232 - val_loss: 1.3343 - val_accuracy: 0.4789\n",
      "Epoch 4/30\n",
      "161/161 [==============================] - 67s 418ms/step - loss: 1.1111 - accuracy: 0.5935 - val_loss: 1.2986 - val_accuracy: 0.4992\n",
      "Epoch 5/30\n",
      "161/161 [==============================] - 67s 418ms/step - loss: 0.9513 - accuracy: 0.6604 - val_loss: 1.3732 - val_accuracy: 0.4977\n",
      "Epoch 6/30\n",
      "161/161 [==============================] - 67s 418ms/step - loss: 0.7814 - accuracy: 0.7352 - val_loss: 1.6293 - val_accuracy: 0.4758\n",
      "Epoch 7/30\n",
      "161/161 [==============================] - 67s 418ms/step - loss: 0.6481 - accuracy: 0.7830 - val_loss: 1.7249 - val_accuracy: 0.4821\n",
      "Epoch 8/30\n",
      "161/161 [==============================] - 67s 418ms/step - loss: 0.5677 - accuracy: 0.8097 - val_loss: 1.8428 - val_accuracy: 0.4555\n",
      "Epoch 9/30\n",
      "161/161 [==============================] - 67s 418ms/step - loss: 0.4550 - accuracy: 0.8445 - val_loss: 1.9224 - val_accuracy: 0.5023\n",
      "Epoch 10/30\n",
      "161/161 [==============================] - 67s 418ms/step - loss: 0.3425 - accuracy: 0.8921 - val_loss: 1.9700 - val_accuracy: 0.5023\n",
      "Epoch 11/30\n",
      "161/161 [==============================] - 67s 418ms/step - loss: 0.2579 - accuracy: 0.9251 - val_loss: 2.1556 - val_accuracy: 0.4758\n",
      "Epoch 12/30\n",
      "161/161 [==============================] - 67s 418ms/step - loss: 0.2214 - accuracy: 0.9288 - val_loss: 2.1376 - val_accuracy: 0.4618\n",
      "Epoch 13/30\n",
      "161/161 [==============================] - 67s 418ms/step - loss: 0.1478 - accuracy: 0.9520 - val_loss: 2.4889 - val_accuracy: 0.4821\n",
      "Epoch 14/30\n",
      "161/161 [==============================] - 67s 418ms/step - loss: 0.1197 - accuracy: 0.9635 - val_loss: 2.5796 - val_accuracy: 0.4961\n",
      "Epoch 15/30\n",
      "161/161 [==============================] - 67s 418ms/step - loss: 0.0931 - accuracy: 0.9717 - val_loss: 2.7846 - val_accuracy: 0.4883\n",
      "Epoch 16/30\n",
      "161/161 [==============================] - 67s 418ms/step - loss: 0.0859 - accuracy: 0.9742 - val_loss: 2.5095 - val_accuracy: 0.4743\n",
      "Epoch 17/30\n",
      "161/161 [==============================] - 67s 419ms/step - loss: 0.0677 - accuracy: 0.9803 - val_loss: 2.7449 - val_accuracy: 0.4665\n",
      "Epoch 18/30\n",
      "161/161 [==============================] - 67s 419ms/step - loss: 0.0638 - accuracy: 0.9795 - val_loss: 2.6999 - val_accuracy: 0.4649\n",
      "Epoch 19/30\n",
      "161/161 [==============================] - 67s 418ms/step - loss: 0.0614 - accuracy: 0.9787 - val_loss: 2.6997 - val_accuracy: 0.4743\n",
      "Epoch 20/30\n",
      "161/161 [==============================] - 67s 419ms/step - loss: 0.0464 - accuracy: 0.9858 - val_loss: 2.7980 - val_accuracy: 0.4789\n",
      "Epoch 21/30\n",
      "161/161 [==============================] - 68s 420ms/step - loss: 0.0506 - accuracy: 0.9834 - val_loss: 2.8078 - val_accuracy: 0.4743\n",
      "Epoch 22/30\n",
      "161/161 [==============================] - 68s 420ms/step - loss: 0.0463 - accuracy: 0.9834 - val_loss: 2.9993 - val_accuracy: 0.4821\n",
      "Epoch 23/30\n",
      "161/161 [==============================] - 67s 418ms/step - loss: 0.0509 - accuracy: 0.9850 - val_loss: 2.9333 - val_accuracy: 0.4743\n",
      "Epoch 24/30\n",
      "161/161 [==============================] - 68s 420ms/step - loss: 0.0500 - accuracy: 0.9817 - val_loss: 2.7323 - val_accuracy: 0.4867\n",
      "Epoch 25/30\n",
      "161/161 [==============================] - 67s 419ms/step - loss: 0.0362 - accuracy: 0.9875 - val_loss: 2.9362 - val_accuracy: 0.4805\n",
      "Epoch 26/30\n",
      "161/161 [==============================] - 67s 418ms/step - loss: 0.0444 - accuracy: 0.9854 - val_loss: 3.0398 - val_accuracy: 0.4774\n",
      "Epoch 27/30\n",
      "161/161 [==============================] - 67s 419ms/step - loss: 0.0344 - accuracy: 0.9881 - val_loss: 2.9444 - val_accuracy: 0.4945\n",
      "Epoch 28/30\n",
      "161/161 [==============================] - 67s 418ms/step - loss: 0.0357 - accuracy: 0.9883 - val_loss: 2.9341 - val_accuracy: 0.4977\n",
      "Epoch 29/30\n",
      "161/161 [==============================] - 68s 420ms/step - loss: 0.0461 - accuracy: 0.9844 - val_loss: 3.1907 - val_accuracy: 0.4711\n",
      "Epoch 30/30\n",
      "161/161 [==============================] - 67s 419ms/step - loss: 0.0416 - accuracy: 0.9844 - val_loss: 2.9144 - val_accuracy: 0.4852\n"
     ]
    }
   ],
   "source": [
    "history = model.fit(\n",
    "    train_dataset,\n",
    "    batch_size=batch_size,\n",
    "    epochs=30,\n",
    "    validation_data=validation_dataset,\n",
    "    verbose=1,\n",
    ")"
   ]
  },
  {
   "cell_type": "code",
   "execution_count": 19,
   "id": "286d2e3b",
   "metadata": {
    "execution": {
     "iopub.execute_input": "2022-04-19T07:01:05.640820Z",
     "iopub.status.busy": "2022-04-19T07:01:05.640567Z",
     "iopub.status.idle": "2022-04-19T07:01:05.644165Z",
     "shell.execute_reply": "2022-04-19T07:01:05.643453Z"
    },
    "id": "cDdGkbf5n1mY",
    "papermill": {
     "duration": 1.566637,
     "end_time": "2022-04-19T07:01:05.645908",
     "exception": false,
     "start_time": "2022-04-19T07:01:04.079271",
     "status": "completed"
    },
    "tags": []
   },
   "outputs": [],
   "source": [
    "#model.save_weights('weights.h5', overwrite=True)"
   ]
  },
  {
   "cell_type": "code",
   "execution_count": 20,
   "id": "234fa96c",
   "metadata": {
    "execution": {
     "iopub.execute_input": "2022-04-19T07:01:09.130577Z",
     "iopub.status.busy": "2022-04-19T07:01:09.130045Z",
     "iopub.status.idle": "2022-04-19T07:01:09.135497Z",
     "shell.execute_reply": "2022-04-19T07:01:09.133127Z"
    },
    "id": "f7HUoVjyrh-E",
    "papermill": {
     "duration": 1.92433,
     "end_time": "2022-04-19T07:01:09.137460",
     "exception": false,
     "start_time": "2022-04-19T07:01:07.213130",
     "status": "completed"
    },
    "tags": []
   },
   "outputs": [],
   "source": [
    "#model.evaluate(x_test, y_test)"
   ]
  },
  {
   "cell_type": "code",
   "execution_count": 21,
   "id": "f0396818",
   "metadata": {
    "execution": {
     "iopub.execute_input": "2022-04-19T07:01:12.279171Z",
     "iopub.status.busy": "2022-04-19T07:01:12.278904Z",
     "iopub.status.idle": "2022-04-19T07:01:12.658899Z",
     "shell.execute_reply": "2022-04-19T07:01:12.658252Z"
    },
    "id": "h4h8-pUGn3Y4",
    "outputId": "0716edd2-318d-4acc-dd50-298713b71ef4",
    "papermill": {
     "duration": 1.921854,
     "end_time": "2022-04-19T07:01:12.660521",
     "exception": false,
     "start_time": "2022-04-19T07:01:10.738667",
     "status": "completed"
    },
    "tags": []
   },
   "outputs": [
    {
     "data": {
      "image/png": "[encoded data removed]",
      "text/plain": [
       "<Figure size 432x288 with 1 Axes>"
      ]
     },
     "metadata": {
      "needs_background": "light"
     },
     "output_type": "display_data"
    },
    {
     "data": {
      "image/png": "[encoded data removed]",
      "text/plain": [
       "<Figure size 432x288 with 1 Axes>"
      ]
     },
     "metadata": {
      "needs_background": "light"
     },
     "output_type": "display_data"
    }
   ],
   "source": [
    "import matplotlib.pyplot as plt\n",
    "def plot_graphs(history, string):\n",
    "    plt.plot(history.history[string])\n",
    "    plt.plot(history.history[\"val_\" + string])\n",
    "    plt.xlabel(\"Epochs\")\n",
    "    plt.ylabel(string)\n",
    "    plt.legend([string, \"val_\" + string])\n",
    "    plt.show()\n",
    "plot_graphs(history, \"accuracy\")\n",
    "plot_graphs(history, \"loss\")"
   ]
  },
  {
   "cell_type": "code",
   "execution_count": 22,
   "id": "655730bc",
   "metadata": {
    "execution": {
     "iopub.execute_input": "2022-04-19T07:01:15.770537Z",
     "iopub.status.busy": "2022-04-19T07:01:15.770274Z",
     "iopub.status.idle": "2022-04-19T07:01:21.392571Z",
     "shell.execute_reply": "2022-04-19T07:01:21.391812Z"
    },
    "id": "OFIuraJ0r_8s",
    "papermill": {
     "duration": 7.176887,
     "end_time": "2022-04-19T07:01:21.394705",
     "exception": false,
     "start_time": "2022-04-19T07:01:14.217818",
     "status": "completed"
    },
    "tags": []
   },
   "outputs": [],
   "source": [
    "from sklearn.metrics import classification_report\n",
    "y_pred=model.predict(test_dataset, batch_size=batch_size)\n",
    "y_pred = np.argmax(y_pred,axis=1)"
   ]
  },
  {
   "cell_type": "code",
   "execution_count": 23,
   "id": "db9d8614",
   "metadata": {
    "execution": {
     "iopub.execute_input": "2022-04-19T07:01:24.998534Z",
     "iopub.status.busy": "2022-04-19T07:01:24.998263Z",
     "iopub.status.idle": "2022-04-19T07:01:25.001878Z",
     "shell.execute_reply": "2022-04-19T07:01:25.001198Z"
    },
    "id": "TI99UD8asULc",
    "papermill": {
     "duration": 1.542252,
     "end_time": "2022-04-19T07:01:25.003736",
     "exception": false,
     "start_time": "2022-04-19T07:01:23.461484",
     "status": "completed"
    },
    "tags": []
   },
   "outputs": [],
   "source": [
    "y_pred = y_pred.reshape(-1,1)"
   ]
  },
  {
   "cell_type": "code",
   "execution_count": 24,
   "id": "7d339ec5",
   "metadata": {
    "execution": {
     "iopub.execute_input": "2022-04-19T07:01:28.098421Z",
     "iopub.status.busy": "2022-04-19T07:01:28.098149Z",
     "iopub.status.idle": "2022-04-19T07:01:28.110397Z",
     "shell.execute_reply": "2022-04-19T07:01:28.108943Z"
    },
    "id": "vvESk8_GsWXY",
    "outputId": "c06489c8-6051-4927-a43d-e9a934d9588e",
    "papermill": {
     "duration": 1.573708,
     "end_time": "2022-04-19T07:01:28.112891",
     "exception": false,
     "start_time": "2022-04-19T07:01:26.539183",
     "status": "completed"
    },
    "tags": []
   },
   "outputs": [
    {
     "name": "stdout",
     "output_type": "stream",
     "text": [
      "              precision    recall  f1-score   support\n",
      "\n",
      "         sad       0.21      0.22      0.21       132\n",
      "       angry       0.15      0.09      0.12        64\n",
      "    surprise       0.04      0.06      0.05        36\n",
      "       happy       0.30      0.31      0.31       192\n",
      "        fear       0.24      0.27      0.25       146\n",
      "     disgust       0.08      0.06      0.07        70\n",
      "\n",
      "    accuracy                           0.22       640\n",
      "   macro avg       0.17      0.17      0.17       640\n",
      "weighted avg       0.21      0.22      0.22       640\n",
      "\n"
     ]
    }
   ],
   "source": [
    "categories = ['sad', 'angry','surprise','happy','fear','disgust']\n",
    "print(classification_report(y_test, y_pred, target_names=categories))"
   ]
  },
  {
   "cell_type": "code",
   "execution_count": 25,
   "id": "7e2ddd8b",
   "metadata": {
    "execution": {
     "iopub.execute_input": "2022-04-19T07:01:31.631776Z",
     "iopub.status.busy": "2022-04-19T07:01:31.631529Z",
     "iopub.status.idle": "2022-04-19T07:01:32.191901Z",
     "shell.execute_reply": "2022-04-19T07:01:32.191264Z"
    },
    "id": "Zvm19Hz9saKx",
    "outputId": "79405b88-ab54-4a77-a8d4-91a48b89ae56",
    "papermill": {
     "duration": 2.361338,
     "end_time": "2022-04-19T07:01:32.193713",
     "exception": false,
     "start_time": "2022-04-19T07:01:29.832375",
     "status": "completed"
    },
    "tags": []
   },
   "outputs": [
    {
     "data": {
      "image/png": "[encoded data removed]",
      "text/plain": [
       "<Figure size 1152x1008 with 2 Axes>"
      ]
     },
     "metadata": {
      "needs_background": "light"
     },
     "output_type": "display_data"
    }
   ],
   "source": [
    "import seaborn as sns\n",
    "import matplotlib.pyplot as plt\n",
    "\n",
    "### Confusion Matrix\n",
    "from sklearn.metrics import confusion_matrix\n",
    "#predictions = model.predict(x_test, steps=len(x_test), verbose=0)\n",
    "#y_pred=model.predict(x_test)\n",
    "#y_pred = np.round(y_pred)\n",
    "\n",
    "\n",
    "cm = confusion_matrix(y_test, y_pred)\n",
    "\n",
    "## Get Class Labels\n",
    "labels = 6\n",
    "#[0,1,2,3,4,5]_\n",
    "class_names = categories \n",
    "\n",
    "# Plot confusion matrix in a beautiful manner\n",
    "fig = plt.figure(figsize=(16, 14))\n",
    "ax= plt.subplot()\n",
    "sns.heatmap(cm, annot=True, ax = ax, fmt = 'g'); #annot=True to annotate cells\n",
    "# labels, title and ticks\n",
    "ax.set_xlabel('Predicted', fontsize=20)\n",
    "ax.xaxis.set_label_position('bottom')\n",
    "plt.xticks(rotation=90)\n",
    "ax.xaxis.set_ticklabels(class_names, fontsize = 10)\n",
    "ax.xaxis.tick_bottom()\n",
    "\n",
    "ax.set_ylabel('True', fontsize=20)\n",
    "ax.yaxis.set_ticklabels(class_names, fontsize = 10)\n",
    "plt.yticks(rotation=0)\n",
    "\n",
    "plt.title('Refined Confusion Matrix', fontsize=20)\n",
    "\n",
    "plt.savefig('ConMat24.png')\n",
    "plt.show()"
   ]
  },
  {
   "cell_type": "markdown",
   "id": "30fd4d61",
   "metadata": {
    "id": "8oRMvXXkyiji",
    "papermill": {
     "duration": 1.522687,
     "end_time": "2022-04-19T07:01:35.237875",
     "exception": false,
     "start_time": "2022-04-19T07:01:33.715188",
     "status": "completed"
    },
    "tags": []
   },
   "source": [
    "Influenced by:\n",
    "Kaggle Notebook:https://www.kaggle.com/code/lmasca/disaster-tweets-using-bert-embeddings-and-lstm/notebook"
   ]
  }
 ],
 "metadata": {
  "kernelspec": {
   "display_name": "Python 3",
   "language": "python",
   "name": "python3"
  },
  "language_info": {
   "codemirror_mode": {
    "name": "ipython",
    "version": 3
   },
   "file_extension": ".py",
   "mimetype": "text/x-python",
   "name": "python",
   "nbconvert_exporter": "python",
   "pygments_lexer": "ipython3",
   "version": "3.7.12"
  },
  "papermill": {
   "default_parameters": {},
   "duration": 2385.28794,
   "end_time": "2022-04-19T07:01:40.326017",
   "environment_variables": {},
   "exception": null,
   "input_path": "__notebook__.ipynb",
   "output_path": "__notebook__.ipynb",
   "parameters": {},
   "start_time": "2022-04-19T06:21:55.038077",
   "version": "2.3.4"
  },
  "widgets": {
   "application/vnd.jupyter.widget-state+json": {
    "state": {
     "000e642482524ca08dcfc7af27de27bb": {
      "model_module": "@jupyter-widgets/controls",
      "model_module_version": "1.5.0",
      "model_name": "DescriptionStyleModel",
      "state": {
       "_model_module": "@jupyter-widgets/controls",
       "_model_module_version": "1.5.0",
       "_model_name": "DescriptionStyleModel",
       "_view_count": null,
       "_view_module": "@jupyter-widgets/base",
       "_view_module_version": "1.2.0",
       "_view_name": "StyleView",
       "description_width": ""
      }
     },
     "0a623a5f27a3478aa35e25dc1cdc96fc": {
      "model_module": "@jupyter-widgets/controls",
      "model_module_version": "1.5.0",
      "model_name": "HBoxModel",
      "state": {
       "_dom_classes": [],
       "_model_module": "@jupyter-widgets/controls",
       "_model_module_version": "1.5.0",
       "_model_name": "HBoxModel",
       "_view_count": null,
       "_view_module": "@jupyter-widgets/controls",
       "_view_module_version": "1.5.0",
       "_view_name": "HBoxView",
       "box_style": "",
       "children": [
        "IPY_MODEL_1918d2a8942d4a19abf64671a52ea026",
        "IPY_MODEL_120155787cf3494cb588bd061d3d0c15",
        "IPY_MODEL_58ac2875e1264e2ea21583edae43368b"
       ],
       "layout": "IPY_MODEL_44ceeb4dedd64b739b0301269681227f"
      }
     },
     "120155787cf3494cb588bd061d3d0c15": {
      "model_module": "@jupyter-widgets/controls",
      "model_module_version": "1.5.0",
      "model_name": "FloatProgressModel",
      "state": {
       "_dom_classes": [],
       "_model_module": "@jupyter-widgets/controls",
       "_model_module_version": "1.5.0",
       "_model_name": "FloatProgressModel",
       "_view_count": null,
       "_view_module": "@jupyter-widgets/controls",
       "_view_module_version": "1.5.0",
       "_view_name": "ProgressView",
       "bar_style": "success",
       "description": "",
       "description_tooltip": null,
       "layout": "IPY_MODEL_caaadfcce7a84b999a1d75f131781305",
       "max": 2237676.0,
       "min": 0.0,
       "orientation": "horizontal",
       "style": "IPY_MODEL_eb573aaa30bc4531be0be36f7ce8f313",
       "value": 2237676.0
      }
     },
     "1803025152ff47efb8d5def9419c5674": {
      "model_module": "@jupyter-widgets/base",
      "model_module_version": "1.2.0",
      "model_name": "LayoutModel",
      "state": {
       "_model_module": "@jupyter-widgets/base",
       "_model_module_version": "1.2.0",
       "_model_name": "LayoutModel",
       "_view_count": null,
       "_view_module": "@jupyter-widgets/base",
       "_view_module_version": "1.2.0",
       "_view_name": "LayoutView",
       "align_content": null,
       "align_items": null,
       "align_self": null,
       "border": null,
       "bottom": null,
       "display": null,
       "flex": null,
       "flex_flow": null,
       "grid_area": null,
       "grid_auto_columns": null,
       "grid_auto_flow": null,
       "grid_auto_rows": null,
       "grid_column": null,
       "grid_gap": null,
       "grid_row": null,
       "grid_template_areas": null,
       "grid_template_columns": null,
       "grid_template_rows": null,
       "height": null,
       "justify_content": null,
       "justify_items": null,
       "left": null,
       "margin": null,
       "max_height": null,
       "max_width": null,
       "min_height": null,
       "min_width": null,
       "object_fit": null,
       "object_position": null,
       "order": null,
       "overflow": null,
       "overflow_x": null,
       "overflow_y": null,
       "padding": null,
       "right": null,
       "top": null,
       "visibility": null,
       "width": null
      }
     },
     "1918d2a8942d4a19abf64671a52ea026": {
      "model_module": "@jupyter-widgets/controls",
      "model_module_version": "1.5.0",
      "model_name": "HTMLModel",
      "state": {
       "_dom_classes": [],
       "_model_module": "@jupyter-widgets/controls",
       "_model_module_version": "1.5.0",
       "_model_name": "HTMLModel",
       "_view_count": null,
       "_view_module": "@jupyter-widgets/controls",
       "_view_module_version": "1.5.0",
       "_view_name": "HTMLView",
       "description": "",
       "description_tooltip": null,
       "layout": "IPY_MODEL_78b37c4133ba4ae889d518c85e711e90",
       "placeholder": "​",
       "style": "IPY_MODEL_9b49009360534518a94253e00d7a588a",
       "value": "Downloading: 100%"
      }
     },
     "3d6c9e70839740d28c5c3e1a4445a233": {
      "model_module": "@jupyter-widgets/base",
      "model_module_version": "1.2.0",
      "model_name": "LayoutModel",
      "state": {
       "_model_module": "@jupyter-widgets/base",
       "_model_module_version": "1.2.0",
       "_model_name": "LayoutModel",
       "_view_count": null,
       "_view_module": "@jupyter-widgets/base",
       "_view_module_version": "1.2.0",
       "_view_name": "LayoutView",
       "align_content": null,
       "align_items": null,
       "align_self": null,
       "border": null,
       "bottom": null,
       "display": null,
       "flex": null,
       "flex_flow": null,
       "grid_area": null,
       "grid_auto_columns": null,
       "grid_auto_flow": null,
       "grid_auto_rows": null,
       "grid_column": null,
       "grid_gap": null,
       "grid_row": null,
       "grid_template_areas": null,
       "grid_template_columns": null,
       "grid_template_rows": null,
       "height": null,
       "justify_content": null,
       "justify_items": null,
       "left": null,
       "margin": null,
       "max_height": null,
       "max_width": null,
       "min_height": null,
       "min_width": null,
       "object_fit": null,
       "object_position": null,
       "order": null,
       "overflow": null,
       "overflow_x": null,
       "overflow_y": null,
       "padding": null,
       "right": null,
       "top": null,
       "visibility": null,
       "width": null
      }
     },
     "40c3a4a97d37415f9a263fd4c52cc48c": {
      "model_module": "@jupyter-widgets/controls",
      "model_module_version": "1.5.0",
      "model_name": "DescriptionStyleModel",
      "state": {
       "_model_module": "@jupyter-widgets/controls",
       "_model_module_version": "1.5.0",
       "_model_name": "DescriptionStyleModel",
       "_view_count": null,
       "_view_module": "@jupyter-widgets/base",
       "_view_module_version": "1.2.0",
       "_view_name": "StyleView",
       "description_width": ""
      }
     },
     "44ceeb4dedd64b739b0301269681227f": {
      "model_module": "@jupyter-widgets/base",
      "model_module_version": "1.2.0",
      "model_name": "LayoutModel",
      "state": {
       "_model_module": "@jupyter-widgets/base",
       "_model_module_version": "1.2.0",
       "_model_name": "LayoutModel",
       "_view_count": null,
       "_view_module": "@jupyter-widgets/base",
       "_view_module_version": "1.2.0",
       "_view_name": "LayoutView",
       "align_content": null,
       "align_items": null,
       "align_self": null,
       "border": null,
       "bottom": null,
       "display": null,
       "flex": null,
       "flex_flow": null,
       "grid_area": null,
       "grid_auto_columns": null,
       "grid_auto_flow": null,
       "grid_auto_rows": null,
       "grid_column": null,
       "grid_gap": null,
       "grid_row": null,
       "grid_template_areas": null,
       "grid_template_columns": null,
       "grid_template_rows": null,
       "height": null,
       "justify_content": null,
       "justify_items": null,
       "left": null,
       "margin": null,
       "max_height": null,
       "max_width": null,
       "min_height": null,
       "min_width": null,
       "object_fit": null,
       "object_position": null,
       "order": null,
       "overflow": null,
       "overflow_x": null,
       "overflow_y": null,
       "padding": null,
       "right": null,
       "top": null,
       "visibility": null,
       "width": null
      }
     },
     "493595d408604e26a18c845dfc5eecdd": {
      "model_module": "@jupyter-widgets/controls",
      "model_module_version": "1.5.0",
      "model_name": "HTMLModel",
      "state": {
       "_dom_classes": [],
       "_model_module": "@jupyter-widgets/controls",
       "_model_module_version": "1.5.0",
       "_model_name": "HTMLModel",
       "_view_count": null,
       "_view_module": "@jupyter-widgets/controls",
       "_view_module_version": "1.5.0",
       "_view_name": "HTMLView",
       "description": "",
       "description_tooltip": null,
       "layout": "IPY_MODEL_3d6c9e70839740d28c5c3e1a4445a233",
       "placeholder": "​",
       "style": "IPY_MODEL_8792982c720d46a582da7f4b93864eb2",
       "value": " 491/491 [00:00&lt;00:00, 20.5kB/s]"
      }
     },
     "58ac2875e1264e2ea21583edae43368b": {
      "model_module": "@jupyter-widgets/controls",
      "model_module_version": "1.5.0",
      "model_name": "HTMLModel",
      "state": {
       "_dom_classes": [],
       "_model_module": "@jupyter-widgets/controls",
       "_model_module_version": "1.5.0",
       "_model_name": "HTMLModel",
       "_view_count": null,
       "_view_module": "@jupyter-widgets/controls",
       "_view_module_version": "1.5.0",
       "_view_name": "HTMLView",
       "description": "",
       "description_tooltip": null,
       "layout": "IPY_MODEL_a5b8a67844a54049929d44d15d954e65",
       "placeholder": "​",
       "style": "IPY_MODEL_78ae3881e9b644c09ed27f126a2d5e2a",
       "value": " 2.13M/2.13M [00:00&lt;00:00, 5.55MB/s]"
      }
     },
     "78ae3881e9b644c09ed27f126a2d5e2a": {
      "model_module": "@jupyter-widgets/controls",
      "model_module_version": "1.5.0",
      "model_name": "DescriptionStyleModel",
      "state": {
       "_model_module": "@jupyter-widgets/controls",
       "_model_module_version": "1.5.0",
       "_model_name": "DescriptionStyleModel",
       "_view_count": null,
       "_view_module": "@jupyter-widgets/base",
       "_view_module_version": "1.2.0",
       "_view_name": "StyleView",
       "description_width": ""
      }
     },
     "78b37c4133ba4ae889d518c85e711e90": {
      "model_module": "@jupyter-widgets/base",
      "model_module_version": "1.2.0",
      "model_name": "LayoutModel",
      "state": {
       "_model_module": "@jupyter-widgets/base",
       "_model_module_version": "1.2.0",
       "_model_name": "LayoutModel",
       "_view_count": null,
       "_view_module": "@jupyter-widgets/base",
       "_view_module_version": "1.2.0",
       "_view_name": "LayoutView",
       "align_content": null,
       "align_items": null,
       "align_self": null,
       "border": null,
       "bottom": null,
       "display": null,
       "flex": null,
       "flex_flow": null,
       "grid_area": null,
       "grid_auto_columns": null,
       "grid_auto_flow": null,
       "grid_auto_rows": null,
       "grid_column": null,
       "grid_gap": null,
       "grid_row": null,
       "grid_template_areas": null,
       "grid_template_columns": null,
       "grid_template_rows": null,
       "height": null,
       "justify_content": null,
       "justify_items": null,
       "left": null,
       "margin": null,
       "max_height": null,
       "max_width": null,
       "min_height": null,
       "min_width": null,
       "object_fit": null,
       "object_position": null,
       "order": null,
       "overflow": null,
       "overflow_x": null,
       "overflow_y": null,
       "padding": null,
       "right": null,
       "top": null,
       "visibility": null,
       "width": null
      }
     },
     "8165af6009c843278cfdd9f62819411c": {
      "model_module": "@jupyter-widgets/base",
      "model_module_version": "1.2.0",
      "model_name": "LayoutModel",
      "state": {
       "_model_module": "@jupyter-widgets/base",
       "_model_module_version": "1.2.0",
       "_model_name": "LayoutModel",
       "_view_count": null,
       "_view_module": "@jupyter-widgets/base",
       "_view_module_version": "1.2.0",
       "_view_name": "LayoutView",
       "align_content": null,
       "align_items": null,
       "align_self": null,
       "border": null,
       "bottom": null,
       "display": null,
       "flex": null,
       "flex_flow": null,
       "grid_area": null,
       "grid_auto_columns": null,
       "grid_auto_flow": null,
       "grid_auto_rows": null,
       "grid_column": null,
       "grid_gap": null,
       "grid_row": null,
       "grid_template_areas": null,
       "grid_template_columns": null,
       "grid_template_rows": null,
       "height": null,
       "justify_content": null,
       "justify_items": null,
       "left": null,
       "margin": null,
       "max_height": null,
       "max_width": null,
       "min_height": null,
       "min_width": null,
       "object_fit": null,
       "object_position": null,
       "order": null,
       "overflow": null,
       "overflow_x": null,
       "overflow_y": null,
       "padding": null,
       "right": null,
       "top": null,
       "visibility": null,
       "width": null
      }
     },
     "860d27d0a41f4cd7bd57cdddb48b5775": {
      "model_module": "@jupyter-widgets/controls",
      "model_module_version": "1.5.0",
      "model_name": "FloatProgressModel",
      "state": {
       "_dom_classes": [],
       "_model_module": "@jupyter-widgets/controls",
       "_model_module_version": "1.5.0",
       "_model_name": "FloatProgressModel",
       "_view_count": null,
       "_view_module": "@jupyter-widgets/controls",
       "_view_module_version": "1.5.0",
       "_view_name": "ProgressView",
       "bar_style": "success",
       "description": "",
       "description_tooltip": null,
       "layout": "IPY_MODEL_886358fe022245c0b88851dbb65e22d5",
       "max": 975649908.0,
       "min": 0.0,
       "orientation": "horizontal",
       "style": "IPY_MODEL_c0b2723f8d284bbc8f3165b445264e6f",
       "value": 975649908.0
      }
     },
     "8792982c720d46a582da7f4b93864eb2": {
      "model_module": "@jupyter-widgets/controls",
      "model_module_version": "1.5.0",
      "model_name": "DescriptionStyleModel",
      "state": {
       "_model_module": "@jupyter-widgets/controls",
       "_model_module_version": "1.5.0",
       "_model_name": "DescriptionStyleModel",
       "_view_count": null,
       "_view_module": "@jupyter-widgets/base",
       "_view_module_version": "1.2.0",
       "_view_name": "StyleView",
       "description_width": ""
      }
     },
     "886358fe022245c0b88851dbb65e22d5": {
      "model_module": "@jupyter-widgets/base",
      "model_module_version": "1.2.0",
      "model_name": "LayoutModel",
      "state": {
       "_model_module": "@jupyter-widgets/base",
       "_model_module_version": "1.2.0",
       "_model_name": "LayoutModel",
       "_view_count": null,
       "_view_module": "@jupyter-widgets/base",
       "_view_module_version": "1.2.0",
       "_view_name": "LayoutView",
       "align_content": null,
       "align_items": null,
       "align_self": null,
       "border": null,
       "bottom": null,
       "display": null,
       "flex": null,
       "flex_flow": null,
       "grid_area": null,
       "grid_auto_columns": null,
       "grid_auto_flow": null,
       "grid_auto_rows": null,
       "grid_column": null,
       "grid_gap": null,
       "grid_row": null,
       "grid_template_areas": null,
       "grid_template_columns": null,
       "grid_template_rows": null,
       "height": null,
       "justify_content": null,
       "justify_items": null,
       "left": null,
       "margin": null,
       "max_height": null,
       "max_width": null,
       "min_height": null,
       "min_width": null,
       "object_fit": null,
       "object_position": null,
       "order": null,
       "overflow": null,
       "overflow_x": null,
       "overflow_y": null,
       "padding": null,
       "right": null,
       "top": null,
       "visibility": null,
       "width": null
      }
     },
     "8a584eb47a2f4093851155e371f97230": {
      "model_module": "@jupyter-widgets/controls",
      "model_module_version": "1.5.0",
      "model_name": "DescriptionStyleModel",
      "state": {
       "_model_module": "@jupyter-widgets/controls",
       "_model_module_version": "1.5.0",
       "_model_name": "DescriptionStyleModel",
       "_view_count": null,
       "_view_module": "@jupyter-widgets/base",
       "_view_module_version": "1.2.0",
       "_view_name": "StyleView",
       "description_width": ""
      }
     },
     "8fa5c927b08749de9949169ec92d7dc6": {
      "model_module": "@jupyter-widgets/controls",
      "model_module_version": "1.5.0",
      "model_name": "FloatProgressModel",
      "state": {
       "_dom_classes": [],
       "_model_module": "@jupyter-widgets/controls",
       "_model_module_version": "1.5.0",
       "_model_name": "FloatProgressModel",
       "_view_count": null,
       "_view_module": "@jupyter-widgets/controls",
       "_view_module_version": "1.5.0",
       "_view_name": "ProgressView",
       "bar_style": "success",
       "description": "",
       "description_tooltip": null,
       "layout": "IPY_MODEL_8165af6009c843278cfdd9f62819411c",
       "max": 491.0,
       "min": 0.0,
       "orientation": "horizontal",
       "style": "IPY_MODEL_aabd7c3d302243ce96ba76b25229c3ee",
       "value": 491.0
      }
     },
     "9b49009360534518a94253e00d7a588a": {
      "model_module": "@jupyter-widgets/controls",
      "model_module_version": "1.5.0",
      "model_name": "DescriptionStyleModel",
      "state": {
       "_model_module": "@jupyter-widgets/controls",
       "_model_module_version": "1.5.0",
       "_model_name": "DescriptionStyleModel",
       "_view_count": null,
       "_view_module": "@jupyter-widgets/base",
       "_view_module_version": "1.2.0",
       "_view_name": "StyleView",
       "description_width": ""
      }
     },
     "a4bee29219c04f83b2187c921463f70a": {
      "model_module": "@jupyter-widgets/base",
      "model_module_version": "1.2.0",
      "model_name": "LayoutModel",
      "state": {
       "_model_module": "@jupyter-widgets/base",
       "_model_module_version": "1.2.0",
       "_model_name": "LayoutModel",
       "_view_count": null,
       "_view_module": "@jupyter-widgets/base",
       "_view_module_version": "1.2.0",
       "_view_name": "LayoutView",
       "align_content": null,
       "align_items": null,
       "align_self": null,
       "border": null,
       "bottom": null,
       "display": null,
       "flex": null,
       "flex_flow": null,
       "grid_area": null,
       "grid_auto_columns": null,
       "grid_auto_flow": null,
       "grid_auto_rows": null,
       "grid_column": null,
       "grid_gap": null,
       "grid_row": null,
       "grid_template_areas": null,
       "grid_template_columns": null,
       "grid_template_rows": null,
       "height": null,
       "justify_content": null,
       "justify_items": null,
       "left": null,
       "margin": null,
       "max_height": null,
       "max_width": null,
       "min_height": null,
       "min_width": null,
       "object_fit": null,
       "object_position": null,
       "order": null,
       "overflow": null,
       "overflow_x": null,
       "overflow_y": null,
       "padding": null,
       "right": null,
       "top": null,
       "visibility": null,
       "width": null
      }
     },
     "a5b8a67844a54049929d44d15d954e65": {
      "model_module": "@jupyter-widgets/base",
      "model_module_version": "1.2.0",
      "model_name": "LayoutModel",
      "state": {
       "_model_module": "@jupyter-widgets/base",
       "_model_module_version": "1.2.0",
       "_model_name": "LayoutModel",
       "_view_count": null,
       "_view_module": "@jupyter-widgets/base",
       "_view_module_version": "1.2.0",
       "_view_name": "LayoutView",
       "align_content": null,
       "align_items": null,
       "align_self": null,
       "border": null,
       "bottom": null,
       "display": null,
       "flex": null,
       "flex_flow": null,
       "grid_area": null,
       "grid_auto_columns": null,
       "grid_auto_flow": null,
       "grid_auto_rows": null,
       "grid_column": null,
       "grid_gap": null,
       "grid_row": null,
       "grid_template_areas": null,
       "grid_template_columns": null,
       "grid_template_rows": null,
       "height": null,
       "justify_content": null,
       "justify_items": null,
       "left": null,
       "margin": null,
       "max_height": null,
       "max_width": null,
       "min_height": null,
       "min_width": null,
       "object_fit": null,
       "object_position": null,
       "order": null,
       "overflow": null,
       "overflow_x": null,
       "overflow_y": null,
       "padding": null,
       "right": null,
       "top": null,
       "visibility": null,
       "width": null
      }
     },
     "aabd7c3d302243ce96ba76b25229c3ee": {
      "model_module": "@jupyter-widgets/controls",
      "model_module_version": "1.5.0",
      "model_name": "ProgressStyleModel",
      "state": {
       "_model_module": "@jupyter-widgets/controls",
       "_model_module_version": "1.5.0",
       "_model_name": "ProgressStyleModel",
       "_view_count": null,
       "_view_module": "@jupyter-widgets/base",
       "_view_module_version": "1.2.0",
       "_view_name": "StyleView",
       "bar_color": null,
       "description_width": ""
      }
     },
     "ac11bda690314c8faa39bce33599d104": {
      "model_module": "@jupyter-widgets/controls",
      "model_module_version": "1.5.0",
      "model_name": "HTMLModel",
      "state": {
       "_dom_classes": [],
       "_model_module": "@jupyter-widgets/controls",
       "_model_module_version": "1.5.0",
       "_model_name": "HTMLModel",
       "_view_count": null,
       "_view_module": "@jupyter-widgets/controls",
       "_view_module_version": "1.5.0",
       "_view_name": "HTMLView",
       "description": "",
       "description_tooltip": null,
       "layout": "IPY_MODEL_ecf0e9636d684c99852e9420d6813d49",
       "placeholder": "​",
       "style": "IPY_MODEL_40c3a4a97d37415f9a263fd4c52cc48c",
       "value": "Downloading: 100%"
      }
     },
     "c0b2723f8d284bbc8f3165b445264e6f": {
      "model_module": "@jupyter-widgets/controls",
      "model_module_version": "1.5.0",
      "model_name": "ProgressStyleModel",
      "state": {
       "_model_module": "@jupyter-widgets/controls",
       "_model_module_version": "1.5.0",
       "_model_name": "ProgressStyleModel",
       "_view_count": null,
       "_view_module": "@jupyter-widgets/base",
       "_view_module_version": "1.2.0",
       "_view_name": "StyleView",
       "bar_color": null,
       "description_width": ""
      }
     },
     "c1c86633918b4a55bdeaf0ea019a361a": {
      "model_module": "@jupyter-widgets/controls",
      "model_module_version": "1.5.0",
      "model_name": "HTMLModel",
      "state": {
       "_dom_classes": [],
       "_model_module": "@jupyter-widgets/controls",
       "_model_module_version": "1.5.0",
       "_model_name": "HTMLModel",
       "_view_count": null,
       "_view_module": "@jupyter-widgets/controls",
       "_view_module_version": "1.5.0",
       "_view_name": "HTMLView",
       "description": "",
       "description_tooltip": null,
       "layout": "IPY_MODEL_a4bee29219c04f83b2187c921463f70a",
       "placeholder": "​",
       "style": "IPY_MODEL_000e642482524ca08dcfc7af27de27bb",
       "value": "Downloading: 100%"
      }
     },
     "c84ee009e2eb4444a55ccd3103d20507": {
      "model_module": "@jupyter-widgets/controls",
      "model_module_version": "1.5.0",
      "model_name": "HBoxModel",
      "state": {
       "_dom_classes": [],
       "_model_module": "@jupyter-widgets/controls",
       "_model_module_version": "1.5.0",
       "_model_name": "HBoxModel",
       "_view_count": null,
       "_view_module": "@jupyter-widgets/controls",
       "_view_module_version": "1.5.0",
       "_view_name": "HBoxView",
       "box_style": "",
       "children": [
        "IPY_MODEL_c1c86633918b4a55bdeaf0ea019a361a",
        "IPY_MODEL_860d27d0a41f4cd7bd57cdddb48b5775",
        "IPY_MODEL_dfef63134fbf492797a883d96e59a5f5"
       ],
       "layout": "IPY_MODEL_1803025152ff47efb8d5def9419c5674"
      }
     },
     "caaadfcce7a84b999a1d75f131781305": {
      "model_module": "@jupyter-widgets/base",
      "model_module_version": "1.2.0",
      "model_name": "LayoutModel",
      "state": {
       "_model_module": "@jupyter-widgets/base",
       "_model_module_version": "1.2.0",
       "_model_name": "LayoutModel",
       "_view_count": null,
       "_view_module": "@jupyter-widgets/base",
       "_view_module_version": "1.2.0",
       "_view_name": "LayoutView",
       "align_content": null,
       "align_items": null,
       "align_self": null,
       "border": null,
       "bottom": null,
       "display": null,
       "flex": null,
       "flex_flow": null,
       "grid_area": null,
       "grid_auto_columns": null,
       "grid_auto_flow": null,
       "grid_auto_rows": null,
       "grid_column": null,
       "grid_gap": null,
       "grid_row": null,
       "grid_template_areas": null,
       "grid_template_columns": null,
       "grid_template_rows": null,
       "height": null,
       "justify_content": null,
       "justify_items": null,
       "left": null,
       "margin": null,
       "max_height": null,
       "max_width": null,
       "min_height": null,
       "min_width": null,
       "object_fit": null,
       "object_position": null,
       "order": null,
       "overflow": null,
       "overflow_x": null,
       "overflow_y": null,
       "padding": null,
       "right": null,
       "top": null,
       "visibility": null,
       "width": null
      }
     },
     "d4cea2854da94a49a1ba762cef3b9b05": {
      "model_module": "@jupyter-widgets/base",
      "model_module_version": "1.2.0",
      "model_name": "LayoutModel",
      "state": {
       "_model_module": "@jupyter-widgets/base",
       "_model_module_version": "1.2.0",
       "_model_name": "LayoutModel",
       "_view_count": null,
       "_view_module": "@jupyter-widgets/base",
       "_view_module_version": "1.2.0",
       "_view_name": "LayoutView",
       "align_content": null,
       "align_items": null,
       "align_self": null,
       "border": null,
       "bottom": null,
       "display": null,
       "flex": null,
       "flex_flow": null,
       "grid_area": null,
       "grid_auto_columns": null,
       "grid_auto_flow": null,
       "grid_auto_rows": null,
       "grid_column": null,
       "grid_gap": null,
       "grid_row": null,
       "grid_template_areas": null,
       "grid_template_columns": null,
       "grid_template_rows": null,
       "height": null,
       "justify_content": null,
       "justify_items": null,
       "left": null,
       "margin": null,
       "max_height": null,
       "max_width": null,
       "min_height": null,
       "min_width": null,
       "object_fit": null,
       "object_position": null,
       "order": null,
       "overflow": null,
       "overflow_x": null,
       "overflow_y": null,
       "padding": null,
       "right": null,
       "top": null,
       "visibility": null,
       "width": null
      }
     },
     "dfef63134fbf492797a883d96e59a5f5": {
      "model_module": "@jupyter-widgets/controls",
      "model_module_version": "1.5.0",
      "model_name": "HTMLModel",
      "state": {
       "_dom_classes": [],
       "_model_module": "@jupyter-widgets/controls",
       "_model_module_version": "1.5.0",
       "_model_name": "HTMLModel",
       "_view_count": null,
       "_view_module": "@jupyter-widgets/controls",
       "_view_module_version": "1.5.0",
       "_view_name": "HTMLView",
       "description": "",
       "description_tooltip": null,
       "layout": "IPY_MODEL_e38852ced8a84af1a6d3252e6cd5963e",
       "placeholder": "​",
       "style": "IPY_MODEL_8a584eb47a2f4093851155e371f97230",
       "value": " 930M/930M [00:22&lt;00:00, 49.6MB/s]"
      }
     },
     "e38852ced8a84af1a6d3252e6cd5963e": {
      "model_module": "@jupyter-widgets/base",
      "model_module_version": "1.2.0",
      "model_name": "LayoutModel",
      "state": {
       "_model_module": "@jupyter-widgets/base",
       "_model_module_version": "1.2.0",
       "_model_name": "LayoutModel",
       "_view_count": null,
       "_view_module": "@jupyter-widgets/base",
       "_view_module_version": "1.2.0",
       "_view_name": "LayoutView",
       "align_content": null,
       "align_items": null,
       "align_self": null,
       "border": null,
       "bottom": null,
       "display": null,
       "flex": null,
       "flex_flow": null,
       "grid_area": null,
       "grid_auto_columns": null,
       "grid_auto_flow": null,
       "grid_auto_rows": null,
       "grid_column": null,
       "grid_gap": null,
       "grid_row": null,
       "grid_template_areas": null,
       "grid_template_columns": null,
       "grid_template_rows": null,
       "height": null,
       "justify_content": null,
       "justify_items": null,
       "left": null,
       "margin": null,
       "max_height": null,
       "max_width": null,
       "min_height": null,
       "min_width": null,
       "object_fit": null,
       "object_position": null,
       "order": null,
       "overflow": null,
       "overflow_x": null,
       "overflow_y": null,
       "padding": null,
       "right": null,
       "top": null,
       "visibility": null,
       "width": null
      }
     },
     "e4b27bfec534412f8e649b8446610fb5": {
      "model_module": "@jupyter-widgets/controls",
      "model_module_version": "1.5.0",
      "model_name": "HBoxModel",
      "state": {
       "_dom_classes": [],
       "_model_module": "@jupyter-widgets/controls",
       "_model_module_version": "1.5.0",
       "_model_name": "HBoxModel",
       "_view_count": null,
       "_view_module": "@jupyter-widgets/controls",
       "_view_module_version": "1.5.0",
       "_view_name": "HBoxView",
       "box_style": "",
       "children": [
        "IPY_MODEL_ac11bda690314c8faa39bce33599d104",
        "IPY_MODEL_8fa5c927b08749de9949169ec92d7dc6",
        "IPY_MODEL_493595d408604e26a18c845dfc5eecdd"
       ],
       "layout": "IPY_MODEL_d4cea2854da94a49a1ba762cef3b9b05"
      }
     },
     "eb573aaa30bc4531be0be36f7ce8f313": {
      "model_module": "@jupyter-widgets/controls",
      "model_module_version": "1.5.0",
      "model_name": "ProgressStyleModel",
      "state": {
       "_model_module": "@jupyter-widgets/controls",
       "_model_module_version": "1.5.0",
       "_model_name": "ProgressStyleModel",
       "_view_count": null,
       "_view_module": "@jupyter-widgets/base",
       "_view_module_version": "1.2.0",
       "_view_name": "StyleView",
       "bar_color": null,
       "description_width": ""
      }
     },
     "ecf0e9636d684c99852e9420d6813d49": {
      "model_module": "@jupyter-widgets/base",
      "model_module_version": "1.2.0",
      "model_name": "LayoutModel",
      "state": {
       "_model_module": "@jupyter-widgets/base",
       "_model_module_version": "1.2.0",
       "_model_name": "LayoutModel",
       "_view_count": null,
       "_view_module": "@jupyter-widgets/base",
       "_view_module_version": "1.2.0",
       "_view_name": "LayoutView",
       "align_content": null,
       "align_items": null,
       "align_self": null,
       "border": null,
       "bottom": null,
       "display": null,
       "flex": null,
       "flex_flow": null,
       "grid_area": null,
       "grid_auto_columns": null,
       "grid_auto_flow": null,
       "grid_auto_rows": null,
       "grid_column": null,
       "grid_gap": null,
       "grid_row": null,
       "grid_template_areas": null,
       "grid_template_columns": null,
       "grid_template_rows": null,
       "height": null,
       "justify_content": null,
       "justify_items": null,
       "left": null,
       "margin": null,
       "max_height": null,
       "max_width": null,
       "min_height": null,
       "min_width": null,
       "object_fit": null,
       "object_position": null,
       "order": null,
       "overflow": null,
       "overflow_x": null,
       "overflow_y": null,
       "padding": null,
       "right": null,
       "top": null,
       "visibility": null,
       "width": null
      }
     }
    },
    "version_major": 2,
    "version_minor": 0
   }
  }
 },
 "nbformat": 4,
 "nbformat_minor": 5
}
