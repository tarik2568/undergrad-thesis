{
 "cells": [
  {
   "cell_type": "code",
   "execution_count": 1,
   "id": "f79a9250",
   "metadata": {
    "execution": {
     "iopub.execute_input": "2022-04-20T14:42:33.354156Z",
     "iopub.status.busy": "2022-04-20T14:42:33.352699Z",
     "iopub.status.idle": "2022-04-20T14:42:38.171877Z",
     "shell.execute_reply": "2022-04-20T14:42:38.171264Z",
     "shell.execute_reply.started": "2022-04-20T14:39:55.619074Z"
    },
    "papermill": {
     "duration": 4.846773,
     "end_time": "2022-04-20T14:42:38.172027",
     "exception": false,
     "start_time": "2022-04-20T14:42:33.325254",
     "status": "completed"
    },
    "tags": []
   },
   "outputs": [],
   "source": [
    "import numpy as np\n",
    "import keras\n",
    "import pandas as pd \n",
    "from keras.models import Sequential\n",
    "from keras.layers import Dense, Dropout, Embedding, LSTM,Bidirectional\n",
    "import re\n",
    "import tensorflow as tf\n",
    "from keras.preprocessing.text import Tokenizer"
   ]
  },
  {
   "cell_type": "code",
   "execution_count": 2,
   "id": "9e68cc70",
   "metadata": {
    "execution": {
     "iopub.execute_input": "2022-04-20T14:42:38.221827Z",
     "iopub.status.busy": "2022-04-20T14:42:38.221072Z",
     "iopub.status.idle": "2022-04-20T14:42:39.010540Z",
     "shell.execute_reply": "2022-04-20T14:42:39.011333Z",
     "shell.execute_reply.started": "2022-04-20T14:39:55.647975Z"
    },
    "papermill": {
     "duration": 0.81678,
     "end_time": "2022-04-20T14:42:39.011493",
     "exception": false,
     "start_time": "2022-04-20T14:42:38.194713",
     "status": "completed"
    },
    "tags": []
   },
   "outputs": [],
   "source": [
    "from keras.preprocessing.sequence import pad_sequences\n",
    "from keras.layers import Activation, Conv2D, Input, Embedding, Reshape, MaxPool1D, Concatenate, Flatten, Dropout, Dense, Conv1D\n",
    "from keras.models import Model\n",
    "from keras.callbacks import ModelCheckpoint\n",
    "from tensorflow.keras.optimizers import Adam,SGD\n",
    "import warnings\n",
    "warnings.filterwarnings('ignore')\n",
    "import seaborn as sns"
   ]
  },
  {
   "cell_type": "code",
   "execution_count": 3,
   "id": "be8e8f1d",
   "metadata": {
    "execution": {
     "iopub.execute_input": "2022-04-20T14:42:39.059363Z",
     "iopub.status.busy": "2022-04-20T14:42:39.057357Z",
     "iopub.status.idle": "2022-04-20T14:42:39.069543Z",
     "shell.execute_reply": "2022-04-20T14:42:39.070138Z",
     "shell.execute_reply.started": "2022-04-20T14:39:55.669218Z"
    },
    "papermill": {
     "duration": 0.036851,
     "end_time": "2022-04-20T14:42:39.070297",
     "exception": false,
     "start_time": "2022-04-20T14:42:39.033446",
     "status": "completed"
    },
    "tags": []
   },
   "outputs": [
    {
     "name": "stdout",
     "output_type": "stream",
     "text": [
      "/kaggle/input/sa-bangla-binary-restaurant-review/Bert_Preprocessed_Restaurant_Review_Dataset.xlsx\n"
     ]
    }
   ],
   "source": [
    "import os\n",
    "for dirname, _, filenames in os.walk('/kaggle/input'):\n",
    "    for filename in filenames:\n",
    "        print(os.path.join(dirname, filename))"
   ]
  },
  {
   "cell_type": "code",
   "execution_count": 4,
   "id": "707ea9be",
   "metadata": {
    "execution": {
     "iopub.execute_input": "2022-04-20T14:42:39.119750Z",
     "iopub.status.busy": "2022-04-20T14:42:39.118049Z",
     "iopub.status.idle": "2022-04-20T14:42:49.043703Z",
     "shell.execute_reply": "2022-04-20T14:42:49.043042Z",
     "shell.execute_reply.started": "2022-04-20T14:39:55.690325Z"
    },
    "papermill": {
     "duration": 9.950521,
     "end_time": "2022-04-20T14:42:49.043858",
     "exception": false,
     "start_time": "2022-04-20T14:42:39.093337",
     "status": "completed"
    },
    "tags": []
   },
   "outputs": [
    {
     "name": "stdout",
     "output_type": "stream",
     "text": [
      "Collecting openpyxl\r\n",
      "  Downloading openpyxl-3.0.9-py2.py3-none-any.whl (242 kB)\r\n",
      "     |████████████████████████████████| 242 kB 928 kB/s            \r\n",
      "\u001b[?25hCollecting et-xmlfile\r\n",
      "  Downloading et_xmlfile-1.1.0-py3-none-any.whl (4.7 kB)\r\n",
      "Installing collected packages: et-xmlfile, openpyxl\r\n",
      "Successfully installed et-xmlfile-1.1.0 openpyxl-3.0.9\r\n",
      "\u001b[33mWARNING: Running pip as the 'root' user can result in broken permissions and conflicting behaviour with the system package manager. It is recommended to use a virtual environment instead: https://pip.pypa.io/warnings/venv\u001b[0m\r\n",
      "Note: you may need to restart the kernel to use updated packages.\n"
     ]
    }
   ],
   "source": [
    "pip install openpyxl"
   ]
  },
  {
   "cell_type": "code",
   "execution_count": 5,
   "id": "0147310c",
   "metadata": {
    "execution": {
     "iopub.execute_input": "2022-04-20T14:42:49.100525Z",
     "iopub.status.busy": "2022-04-20T14:42:49.099682Z",
     "iopub.status.idle": "2022-04-20T14:42:49.679827Z",
     "shell.execute_reply": "2022-04-20T14:42:49.679184Z",
     "shell.execute_reply.started": "2022-04-20T14:40:03.890469Z"
    },
    "papermill": {
     "duration": 0.610023,
     "end_time": "2022-04-20T14:42:49.679986",
     "exception": false,
     "start_time": "2022-04-20T14:42:49.069963",
     "status": "completed"
    },
    "tags": []
   },
   "outputs": [
    {
     "name": "stdout",
     "output_type": "stream",
     "text": [
      "<class 'pandas.core.frame.DataFrame'>\n",
      "RangeIndex: 1431 entries, 0 to 1430\n",
      "Data columns (total 8 columns):\n",
      " #   Column        Non-Null Count  Dtype \n",
      "---  ------        --------------  ----- \n",
      " 0   Unnamed: 0    1431 non-null   int64 \n",
      " 1   Unnamed: 0.1  1431 non-null   int64 \n",
      " 2   Reviews       1431 non-null   object\n",
      " 3   Sentiment     1431 non-null   object\n",
      " 4   Text          1431 non-null   object\n",
      " 5   Label         1431 non-null   int64 \n",
      " 6   Token         1431 non-null   object\n",
      " 7   Token_ID      1431 non-null   object\n",
      "dtypes: int64(3), object(5)\n",
      "memory usage: 89.6+ KB\n"
     ]
    }
   ],
   "source": [
    "df=pd.read_excel('/kaggle/input/sa-bangla-binary-restaurant-review/Bert_Preprocessed_Restaurant_Review_Dataset.xlsx')\n",
    "df.info()"
   ]
  },
  {
   "cell_type": "code",
   "execution_count": 6,
   "id": "2b50f55a",
   "metadata": {
    "execution": {
     "iopub.execute_input": "2022-04-20T14:42:49.739345Z",
     "iopub.status.busy": "2022-04-20T14:42:49.738532Z",
     "iopub.status.idle": "2022-04-20T14:42:49.750915Z",
     "shell.execute_reply": "2022-04-20T14:42:49.751312Z",
     "shell.execute_reply.started": "2022-04-20T14:40:04.313041Z"
    },
    "papermill": {
     "duration": 0.045085,
     "end_time": "2022-04-20T14:42:49.751430",
     "exception": false,
     "start_time": "2022-04-20T14:42:49.706345",
     "status": "completed"
    },
    "tags": []
   },
   "outputs": [
    {
     "data": {
      "text/html": [
       "<div>\n",
       "<style scoped>\n",
       "    .dataframe tbody tr th:only-of-type {\n",
       "        vertical-align: middle;\n",
       "    }\n",
       "\n",
       "    .dataframe tbody tr th {\n",
       "        vertical-align: top;\n",
       "    }\n",
       "\n",
       "    .dataframe thead th {\n",
       "        text-align: right;\n",
       "    }\n",
       "</style>\n",
       "<table border=\"1\" class=\"dataframe\">\n",
       "  <thead>\n",
       "    <tr style=\"text-align: right;\">\n",
       "      <th></th>\n",
       "      <th>Unnamed: 0</th>\n",
       "      <th>Unnamed: 0.1</th>\n",
       "      <th>Reviews</th>\n",
       "      <th>Sentiment</th>\n",
       "      <th>Text</th>\n",
       "      <th>Label</th>\n",
       "      <th>Token</th>\n",
       "      <th>Token_ID</th>\n",
       "    </tr>\n",
       "  </thead>\n",
       "  <tbody>\n",
       "    <tr>\n",
       "      <th>0</th>\n",
       "      <td>501</td>\n",
       "      <td>501</td>\n",
       "      <td>পরিবেশ খাদ্য ও সেবা ছিল মহান</td>\n",
       "      <td>positive</td>\n",
       "      <td>পরিবেশ খাদ্য ও সেবা ছিল মহান</td>\n",
       "      <td>1</td>\n",
       "      <td>['পরিবেশ', 'খাদ', '##য', 'ও', 'সেবা', 'ছিল', '...</td>\n",
       "      <td>[2679, 19673, 9294, 2038, 2872, 2072, 4444]</td>\n",
       "    </tr>\n",
       "    <tr>\n",
       "      <th>1</th>\n",
       "      <td>264</td>\n",
       "      <td>264</td>\n",
       "      <td>খাবারগুলো এত ইয়াম্মিইইইই...ইচ্ছে করে প্রতিদিন ...</td>\n",
       "      <td>positive</td>\n",
       "      <td>খাবারগুলো এত ইয়াম্মিইইইইইচ্ছে করে প্রতিদিন খাই</td>\n",
       "      <td>1</td>\n",
       "      <td>['খাবার', '##গলে', '##া', 'এত', 'ই', '##যাম', ...</td>\n",
       "      <td>[2545, 64716, 2395, 2592, 2554, 71968, 6968, 2...</td>\n",
       "    </tr>\n",
       "    <tr>\n",
       "      <th>2</th>\n",
       "      <td>405</td>\n",
       "      <td>405</td>\n",
       "      <td>শহরে সেরা মুরগির রেসিপি জন্য নিঃসন্দেহে জায়গা</td>\n",
       "      <td>positive</td>\n",
       "      <td>শহরে সেরা মুরগির রেসিপি জন্য নিঃসন্দেহে জায়গা</td>\n",
       "      <td>1</td>\n",
       "      <td>['শহরে', 'সেরা', 'মর', '##গির', 'রেসিপি', 'জন'...</td>\n",
       "      <td>[2881, 2617, 18849, 25654, 10643, 2181, 9294, ...</td>\n",
       "    </tr>\n",
       "    <tr>\n",
       "      <th>3</th>\n",
       "      <td>435</td>\n",
       "      <td>435</td>\n",
       "      <td>আজ রাতে আমি কাবাব ও খাদ্য এ আমার পরিবারের সাথে...</td>\n",
       "      <td>positive</td>\n",
       "      <td>আজ রাতে আমি কাবাব ও খাদ্য এ আমার পরিবারের সাথে...</td>\n",
       "      <td>1</td>\n",
       "      <td>['আজ', 'রাতে', 'আমি', 'কাবাব', 'ও', 'খাদ', '##...</td>\n",
       "      <td>[2145, 2736, 2169, 12677, 2038, 19673, 9294, 2...</td>\n",
       "    </tr>\n",
       "    <tr>\n",
       "      <th>4</th>\n",
       "      <td>1001</td>\n",
       "      <td>1001</td>\n",
       "      <td>বেইলি রোড শাখাতে সুপার ধীর সেবা</td>\n",
       "      <td>negative</td>\n",
       "      <td>বেইলি রোড শাখাতে সুপার ধীর সেবা</td>\n",
       "      <td>0</td>\n",
       "      <td>['বেইলি', 'রে', '##াড', 'শাখা', '##তে', 'সপ', ...</td>\n",
       "      <td>[14379, 4972, 35897, 3574, 2200, 73835, 3187, ...</td>\n",
       "    </tr>\n",
       "  </tbody>\n",
       "</table>\n",
       "</div>"
      ],
      "text/plain": [
       "   Unnamed: 0  Unnamed: 0.1  \\\n",
       "0         501           501   \n",
       "1         264           264   \n",
       "2         405           405   \n",
       "3         435           435   \n",
       "4        1001          1001   \n",
       "\n",
       "                                             Reviews Sentiment  \\\n",
       "0                       পরিবেশ খাদ্য ও সেবা ছিল মহান  positive   \n",
       "1  খাবারগুলো এত ইয়াম্মিইইইই...ইচ্ছে করে প্রতিদিন ...  positive   \n",
       "2     শহরে সেরা মুরগির রেসিপি জন্য নিঃসন্দেহে জায়গা  positive   \n",
       "3  আজ রাতে আমি কাবাব ও খাদ্য এ আমার পরিবারের সাথে...  positive   \n",
       "4                    বেইলি রোড শাখাতে সুপার ধীর সেবা  negative   \n",
       "\n",
       "                                                Text  Label  \\\n",
       "0                       পরিবেশ খাদ্য ও সেবা ছিল মহান      1   \n",
       "1     খাবারগুলো এত ইয়াম্মিইইইইইচ্ছে করে প্রতিদিন খাই      1   \n",
       "2     শহরে সেরা মুরগির রেসিপি জন্য নিঃসন্দেহে জায়গা      1   \n",
       "3  আজ রাতে আমি কাবাব ও খাদ্য এ আমার পরিবারের সাথে...      1   \n",
       "4                    বেইলি রোড শাখাতে সুপার ধীর সেবা      0   \n",
       "\n",
       "                                               Token  \\\n",
       "0  ['পরিবেশ', 'খাদ', '##য', 'ও', 'সেবা', 'ছিল', '...   \n",
       "1  ['খাবার', '##গলে', '##া', 'এত', 'ই', '##যাম', ...   \n",
       "2  ['শহরে', 'সেরা', 'মর', '##গির', 'রেসিপি', 'জন'...   \n",
       "3  ['আজ', 'রাতে', 'আমি', 'কাবাব', 'ও', 'খাদ', '##...   \n",
       "4  ['বেইলি', 'রে', '##াড', 'শাখা', '##তে', 'সপ', ...   \n",
       "\n",
       "                                            Token_ID  \n",
       "0        [2679, 19673, 9294, 2038, 2872, 2072, 4444]  \n",
       "1  [2545, 64716, 2395, 2592, 2554, 71968, 6968, 2...  \n",
       "2  [2881, 2617, 18849, 25654, 10643, 2181, 9294, ...  \n",
       "3  [2145, 2736, 2169, 12677, 2038, 19673, 9294, 2...  \n",
       "4  [14379, 4972, 35897, 3574, 2200, 73835, 3187, ...  "
      ]
     },
     "execution_count": 6,
     "metadata": {},
     "output_type": "execute_result"
    }
   ],
   "source": [
    "df.head()"
   ]
  },
  {
   "cell_type": "code",
   "execution_count": 7,
   "id": "f83bcbcd",
   "metadata": {
    "execution": {
     "iopub.execute_input": "2022-04-20T14:42:49.812002Z",
     "iopub.status.busy": "2022-04-20T14:42:49.809958Z",
     "iopub.status.idle": "2022-04-20T14:42:50.000150Z",
     "shell.execute_reply": "2022-04-20T14:42:50.000863Z",
     "shell.execute_reply.started": "2022-04-20T14:40:04.329780Z"
    },
    "papermill": {
     "duration": 0.221913,
     "end_time": "2022-04-20T14:42:50.001008",
     "exception": false,
     "start_time": "2022-04-20T14:42:49.779095",
     "status": "completed"
    },
    "tags": []
   },
   "outputs": [
    {
     "data": {
      "text/plain": [
       "<AxesSubplot:xlabel='Sentiment', ylabel='count'>"
      ]
     },
     "execution_count": 7,
     "metadata": {},
     "output_type": "execute_result"
    },
    {
     "data": {
      "image/png": "[encoded data removed]",
      "text/plain": [
       "<Figure size 432x288 with 1 Axes>"
      ]
     },
     "metadata": {
      "needs_background": "light"
     },
     "output_type": "display_data"
    }
   ],
   "source": [
    "sns.countplot(df['Sentiment'])"
   ]
  },
  {
   "cell_type": "code",
   "execution_count": 8,
   "id": "aaa02859",
   "metadata": {
    "execution": {
     "iopub.execute_input": "2022-04-20T14:42:50.062147Z",
     "iopub.status.busy": "2022-04-20T14:42:50.061380Z",
     "iopub.status.idle": "2022-04-20T14:42:50.064101Z",
     "shell.execute_reply": "2022-04-20T14:42:50.064582Z",
     "shell.execute_reply.started": "2022-04-20T14:40:04.536215Z"
    },
    "papermill": {
     "duration": 0.036105,
     "end_time": "2022-04-20T14:42:50.064738",
     "exception": false,
     "start_time": "2022-04-20T14:42:50.028633",
     "status": "completed"
    },
    "tags": []
   },
   "outputs": [
    {
     "data": {
      "text/plain": [
       "(negative    794\n",
       " positive    637\n",
       " Name: Sentiment, dtype: int64,\n",
       " 1431)"
      ]
     },
     "execution_count": 8,
     "metadata": {},
     "output_type": "execute_result"
    }
   ],
   "source": [
    "df.Sentiment.value_counts(), len(df)"
   ]
  },
  {
   "cell_type": "code",
   "execution_count": 9,
   "id": "acd6fc79",
   "metadata": {
    "execution": {
     "iopub.execute_input": "2022-04-20T14:42:50.123517Z",
     "iopub.status.busy": "2022-04-20T14:42:50.122804Z",
     "iopub.status.idle": "2022-04-20T14:42:50.125211Z",
     "shell.execute_reply": "2022-04-20T14:42:50.124775Z",
     "shell.execute_reply.started": "2022-04-20T14:40:04.551727Z"
    },
    "papermill": {
     "duration": 0.033242,
     "end_time": "2022-04-20T14:42:50.125310",
     "exception": false,
     "start_time": "2022-04-20T14:42:50.092068",
     "status": "completed"
    },
    "tags": []
   },
   "outputs": [],
   "source": [
    "maxlen = 200\n",
    "max_features = 10000\n",
    "batch_size = 32"
   ]
  },
  {
   "cell_type": "code",
   "execution_count": 10,
   "id": "2585198a",
   "metadata": {
    "execution": {
     "iopub.execute_input": "2022-04-20T14:42:50.184810Z",
     "iopub.status.busy": "2022-04-20T14:42:50.184091Z",
     "iopub.status.idle": "2022-04-20T14:42:50.186470Z",
     "shell.execute_reply": "2022-04-20T14:42:50.186061Z",
     "shell.execute_reply.started": "2022-04-20T14:40:42.522378Z"
    },
    "papermill": {
     "duration": 0.033908,
     "end_time": "2022-04-20T14:42:50.186567",
     "exception": false,
     "start_time": "2022-04-20T14:42:50.152659",
     "status": "completed"
    },
    "tags": []
   },
   "outputs": [],
   "source": [
    "df['Token_ID']=df['Token_ID'].astype('str')"
   ]
  },
  {
   "cell_type": "code",
   "execution_count": 11,
   "id": "61ae72eb",
   "metadata": {
    "execution": {
     "iopub.execute_input": "2022-04-20T14:42:50.245050Z",
     "iopub.status.busy": "2022-04-20T14:42:50.244272Z",
     "iopub.status.idle": "2022-04-20T14:42:50.395340Z",
     "shell.execute_reply": "2022-04-20T14:42:50.394878Z",
     "shell.execute_reply.started": "2022-04-20T14:40:49.180603Z"
    },
    "papermill": {
     "duration": 0.181023,
     "end_time": "2022-04-20T14:42:50.395459",
     "exception": false,
     "start_time": "2022-04-20T14:42:50.214436",
     "status": "completed"
    },
    "tags": []
   },
   "outputs": [],
   "source": [
    "from sklearn.model_selection import train_test_split\n",
    "x_train, x_test, y_train, y_test = train_test_split(df['Token_ID'],df['Label'] , test_size=0.1,random_state=2)\n",
    "x_train, x_validation, y_train, y_validation = train_test_split(x_train,y_train,test_size=0.1,random_state=42)"
   ]
  },
  {
   "cell_type": "code",
   "execution_count": 12,
   "id": "50fea86e",
   "metadata": {
    "execution": {
     "iopub.execute_input": "2022-04-20T14:42:50.455094Z",
     "iopub.status.busy": "2022-04-20T14:42:50.454375Z",
     "iopub.status.idle": "2022-04-20T14:42:50.456822Z",
     "shell.execute_reply": "2022-04-20T14:42:50.456362Z",
     "shell.execute_reply.started": "2022-04-20T14:40:52.457913Z"
    },
    "papermill": {
     "duration": 0.033153,
     "end_time": "2022-04-20T14:42:50.456922",
     "exception": false,
     "start_time": "2022-04-20T14:42:50.423769",
     "status": "completed"
    },
    "tags": []
   },
   "outputs": [],
   "source": [
    "vocab_size=15000"
   ]
  },
  {
   "cell_type": "code",
   "execution_count": 13,
   "id": "ca14ed3d",
   "metadata": {
    "execution": {
     "iopub.execute_input": "2022-04-20T14:42:50.554475Z",
     "iopub.status.busy": "2022-04-20T14:42:50.534082Z",
     "iopub.status.idle": "2022-04-20T14:42:50.599495Z",
     "shell.execute_reply": "2022-04-20T14:42:50.598736Z",
     "shell.execute_reply.started": "2022-04-20T14:40:59.964812Z"
    },
    "papermill": {
     "duration": 0.11539,
     "end_time": "2022-04-20T14:42:50.599624",
     "exception": false,
     "start_time": "2022-04-20T14:42:50.484234",
     "status": "completed"
    },
    "tags": []
   },
   "outputs": [],
   "source": [
    "tokenizer  = Tokenizer(num_words = max_features,oov_token = \"<OOV>\")\n",
    "tokenizer.fit_on_texts(df['Token_ID'])\n",
    "\n",
    "train_seq =  tokenizer.texts_to_sequences(x_train)\n",
    "val_seq =  tokenizer.texts_to_sequences(x_validation)\n",
    "test_seq = tokenizer.texts_to_sequences(x_test)"
   ]
  },
  {
   "cell_type": "code",
   "execution_count": 14,
   "id": "5ea6e692",
   "metadata": {
    "execution": {
     "iopub.execute_input": "2022-04-20T14:42:50.659558Z",
     "iopub.status.busy": "2022-04-20T14:42:50.658843Z",
     "iopub.status.idle": "2022-04-20T14:42:50.671415Z",
     "shell.execute_reply": "2022-04-20T14:42:50.671019Z",
     "shell.execute_reply.started": "2022-04-20T14:41:05.572125Z"
    },
    "papermill": {
     "duration": 0.044465,
     "end_time": "2022-04-20T14:42:50.671516",
     "exception": false,
     "start_time": "2022-04-20T14:42:50.627051",
     "status": "completed"
    },
    "tags": []
   },
   "outputs": [],
   "source": [
    "x_train = pad_sequences(train_seq, maxlen=maxlen, dtype='int32', padding='post',truncating='post') #maxlen = maxlen, padding='post')\n",
    "x_validation = pad_sequences(val_seq, maxlen=maxlen, dtype='int32', padding='post',truncating='post') #maxlen = maxlen, padding='post')\n",
    "x_test = pad_sequences(test_seq, maxlen=maxlen, dtype='int32', padding='post',truncating='post') #maxlen = maxlen, padding='post')"
   ]
  },
  {
   "cell_type": "code",
   "execution_count": 15,
   "id": "88f3b819",
   "metadata": {
    "execution": {
     "iopub.execute_input": "2022-04-20T14:42:50.734416Z",
     "iopub.status.busy": "2022-04-20T14:42:50.733915Z",
     "iopub.status.idle": "2022-04-20T14:42:54.193102Z",
     "shell.execute_reply": "2022-04-20T14:42:54.192204Z",
     "shell.execute_reply.started": "2022-04-20T14:41:07.619270Z"
    },
    "papermill": {
     "duration": 3.494036,
     "end_time": "2022-04-20T14:42:54.193241",
     "exception": false,
     "start_time": "2022-04-20T14:42:50.699205",
     "status": "completed"
    },
    "tags": []
   },
   "outputs": [
    {
     "name": "stderr",
     "output_type": "stream",
     "text": [
      "2022-04-20 14:42:50.827586: I tensorflow/stream_executor/cuda/cuda_gpu_executor.cc:937] successful NUMA node read from SysFS had negative value (-1), but there must be at least one NUMA node, so returning NUMA node zero\n",
      "2022-04-20 14:42:50.910650: I tensorflow/stream_executor/cuda/cuda_gpu_executor.cc:937] successful NUMA node read from SysFS had negative value (-1), but there must be at least one NUMA node, so returning NUMA node zero\n",
      "2022-04-20 14:42:50.911387: I tensorflow/stream_executor/cuda/cuda_gpu_executor.cc:937] successful NUMA node read from SysFS had negative value (-1), but there must be at least one NUMA node, so returning NUMA node zero\n",
      "2022-04-20 14:42:50.913201: I tensorflow/core/platform/cpu_feature_guard.cc:142] This TensorFlow binary is optimized with oneAPI Deep Neural Network Library (oneDNN) to use the following CPU instructions in performance-critical operations:  AVX2 AVX512F FMA\n",
      "To enable them in other operations, rebuild TensorFlow with the appropriate compiler flags.\n",
      "2022-04-20 14:42:50.914089: I tensorflow/stream_executor/cuda/cuda_gpu_executor.cc:937] successful NUMA node read from SysFS had negative value (-1), but there must be at least one NUMA node, so returning NUMA node zero\n",
      "2022-04-20 14:42:50.915037: I tensorflow/stream_executor/cuda/cuda_gpu_executor.cc:937] successful NUMA node read from SysFS had negative value (-1), but there must be at least one NUMA node, so returning NUMA node zero\n",
      "2022-04-20 14:42:50.915998: I tensorflow/stream_executor/cuda/cuda_gpu_executor.cc:937] successful NUMA node read from SysFS had negative value (-1), but there must be at least one NUMA node, so returning NUMA node zero\n",
      "2022-04-20 14:42:52.743355: I tensorflow/stream_executor/cuda/cuda_gpu_executor.cc:937] successful NUMA node read from SysFS had negative value (-1), but there must be at least one NUMA node, so returning NUMA node zero\n",
      "2022-04-20 14:42:52.744237: I tensorflow/stream_executor/cuda/cuda_gpu_executor.cc:937] successful NUMA node read from SysFS had negative value (-1), but there must be at least one NUMA node, so returning NUMA node zero\n",
      "2022-04-20 14:42:52.744913: I tensorflow/stream_executor/cuda/cuda_gpu_executor.cc:937] successful NUMA node read from SysFS had negative value (-1), but there must be at least one NUMA node, so returning NUMA node zero\n",
      "2022-04-20 14:42:52.745493: I tensorflow/core/common_runtime/gpu/gpu_device.cc:1510] Created device /job:localhost/replica:0/task:0/device:GPU:0 with 15403 MB memory:  -> device: 0, name: Tesla P100-PCIE-16GB, pci bus id: 0000:00:04.0, compute capability: 6.0\n"
     ]
    },
    {
     "name": "stdout",
     "output_type": "stream",
     "text": [
      "Model: \"sequential\"\n",
      "_________________________________________________________________\n",
      "Layer (type)                 Output Shape              Param #   \n",
      "=================================================================\n",
      "Embedding (Embedding)        (None, 200, 40)           600000    \n",
      "_________________________________________________________________\n",
      "conv1d (Conv1D)              (None, 198, 200)          24200     \n",
      "_________________________________________________________________\n",
      "bidirectional (Bidirectional (None, 198, 256)          336896    \n",
      "_________________________________________________________________\n",
      "dropout (Dropout)            (None, 198, 256)          0         \n",
      "_________________________________________________________________\n",
      "bidirectional_1 (Bidirection (None, 128)               164352    \n",
      "_________________________________________________________________\n",
      "dropout_1 (Dropout)          (None, 128)               0         \n",
      "_________________________________________________________________\n",
      "dense (Dense)                (None, 50)                6450      \n",
      "_________________________________________________________________\n",
      "dropout_2 (Dropout)          (None, 50)                0         \n",
      "_________________________________________________________________\n",
      "dense_1 (Dense)              (None, 25)                1275      \n",
      "_________________________________________________________________\n",
      "dropout_3 (Dropout)          (None, 25)                0         \n",
      "_________________________________________________________________\n",
      "dense_2 (Dense)              (None, 12)                312       \n",
      "_________________________________________________________________\n",
      "flatten (Flatten)            (None, 12)                0         \n",
      "_________________________________________________________________\n",
      "dense_3 (Dense)              (None, 1)                 13        \n",
      "=================================================================\n",
      "Total params: 1,133,498\n",
      "Trainable params: 1,133,498\n",
      "Non-trainable params: 0\n",
      "_________________________________________________________________\n"
     ]
    }
   ],
   "source": [
    "model= Sequential()\n",
    "model.add(Embedding(vocab_size,40,input_length=maxlen,name='Embedding'))\n",
    "model.add(Conv1D(200, kernel_size=3, activation = \"relu\"))\n",
    "model.add(Bidirectional(LSTM(128, return_sequences=True)))\n",
    "model.add(Dropout(0.25))\n",
    "model.add(Bidirectional(LSTM(64)))\n",
    "model.add(Dropout(0.1))\n",
    "model.add(Dense(50, activation='relu'))\n",
    "model.add(Dropout(0.2))\n",
    "model.add(Dense(25, activation='relu'))\n",
    "model.add(Dropout(0.1))\n",
    "model.add(Dense(12, activation='relu'))\n",
    "model.add(Flatten())\n",
    "model.add(Dense(units=1, activation='sigmoid'))\n",
    "adam=Adam(learning_rate=0.003)\n",
    "model.summary()\n",
    "model.compile(loss='binary_crossentropy',optimizer='adam',metrics=['binary_accuracy'])"
   ]
  },
  {
   "cell_type": "code",
   "execution_count": 16,
   "id": "f08eedb0",
   "metadata": {
    "execution": {
     "iopub.execute_input": "2022-04-20T14:42:54.256545Z",
     "iopub.status.busy": "2022-04-20T14:42:54.255674Z",
     "iopub.status.idle": "2022-04-20T14:42:54.257905Z",
     "shell.execute_reply": "2022-04-20T14:42:54.257389Z",
     "shell.execute_reply.started": "2022-04-20T14:41:14.139752Z"
    },
    "papermill": {
     "duration": 0.035841,
     "end_time": "2022-04-20T14:42:54.258012",
     "exception": false,
     "start_time": "2022-04-20T14:42:54.222171",
     "status": "completed"
    },
    "tags": []
   },
   "outputs": [],
   "source": [
    "early_stopping = keras.callbacks.EarlyStopping(\n",
    "    patience=5,\n",
    "    min_delta=0.001,\n",
    "    restore_best_weights=True,\n",
    ")"
   ]
  },
  {
   "cell_type": "code",
   "execution_count": 17,
   "id": "bc21174b",
   "metadata": {
    "execution": {
     "iopub.execute_input": "2022-04-20T14:42:54.321251Z",
     "iopub.status.busy": "2022-04-20T14:42:54.320750Z",
     "iopub.status.idle": "2022-04-20T14:43:18.009269Z",
     "shell.execute_reply": "2022-04-20T14:43:18.009902Z",
     "shell.execute_reply.started": "2022-04-20T14:41:16.147834Z"
    },
    "papermill": {
     "duration": 23.722849,
     "end_time": "2022-04-20T14:43:18.010109",
     "exception": false,
     "start_time": "2022-04-20T14:42:54.287260",
     "status": "completed"
    },
    "tags": []
   },
   "outputs": [
    {
     "name": "stderr",
     "output_type": "stream",
     "text": [
      "2022-04-20 14:42:54.368475: I tensorflow/compiler/mlir/mlir_graph_optimization_pass.cc:185] None of the MLIR Optimization Passes are enabled (registered 2)\n"
     ]
    },
    {
     "name": "stdout",
     "output_type": "stream",
     "text": [
      "Epoch 1/30\n"
     ]
    },
    {
     "name": "stderr",
     "output_type": "stream",
     "text": [
      "2022-04-20 14:42:59.777475: I tensorflow/stream_executor/cuda/cuda_dnn.cc:369] Loaded cuDNN version 8005\n"
     ]
    },
    {
     "name": "stdout",
     "output_type": "stream",
     "text": [
      "37/37 [==============================] - 14s 83ms/step - loss: 0.6703 - binary_accuracy: 0.5492 - val_loss: 0.5710 - val_binary_accuracy: 0.7364\n",
      "Epoch 2/30\n",
      "37/37 [==============================] - 2s 41ms/step - loss: 0.5358 - binary_accuracy: 0.7314 - val_loss: 0.4013 - val_binary_accuracy: 0.8295\n",
      "Epoch 3/30\n",
      "37/37 [==============================] - 2s 42ms/step - loss: 0.2967 - binary_accuracy: 0.8912 - val_loss: 0.4273 - val_binary_accuracy: 0.8295\n",
      "Epoch 4/30\n",
      "37/37 [==============================] - 2s 42ms/step - loss: 0.1656 - binary_accuracy: 0.9482 - val_loss: 0.4346 - val_binary_accuracy: 0.8682\n",
      "Epoch 5/30\n",
      "37/37 [==============================] - 2s 42ms/step - loss: 0.1038 - binary_accuracy: 0.9663 - val_loss: 0.4878 - val_binary_accuracy: 0.8605\n",
      "Epoch 6/30\n",
      "37/37 [==============================] - 2s 42ms/step - loss: 0.0655 - binary_accuracy: 0.9810 - val_loss: 0.6339 - val_binary_accuracy: 0.8682\n",
      "Epoch 7/30\n",
      "37/37 [==============================] - 2s 44ms/step - loss: 0.0493 - binary_accuracy: 0.9845 - val_loss: 0.6948 - val_binary_accuracy: 0.8605\n"
     ]
    }
   ],
   "source": [
    "history = model.fit(x_train, y_train, batch_size=batch_size, epochs=30, callbacks=[early_stopping],verbose=1, validation_data=(x_validation, y_validation))"
   ]
  },
  {
   "cell_type": "code",
   "execution_count": 18,
   "id": "65ada078",
   "metadata": {
    "execution": {
     "iopub.execute_input": "2022-04-20T14:43:18.270532Z",
     "iopub.status.busy": "2022-04-20T14:43:18.267952Z",
     "iopub.status.idle": "2022-04-20T14:43:19.093291Z",
     "shell.execute_reply": "2022-04-20T14:43:19.092438Z",
     "shell.execute_reply.started": "2022-04-20T14:41:35.195243Z"
    },
    "papermill": {
     "duration": 0.957379,
     "end_time": "2022-04-20T14:43:19.093424",
     "exception": false,
     "start_time": "2022-04-20T14:43:18.136045",
     "status": "completed"
    },
    "tags": []
   },
   "outputs": [
    {
     "data": {
      "image/png": "[encoded data removed]",
      "text/plain": [
       "<IPython.core.display.Image object>"
      ]
     },
     "execution_count": 18,
     "metadata": {},
     "output_type": "execute_result"
    }
   ],
   "source": [
    "tf.keras.utils.plot_model(model, to_file='model.png', show_shapes=False,show_layer_names=True, rankdir='TB', expand_nested=False, dpi=96)"
   ]
  },
  {
   "cell_type": "code",
   "execution_count": 19,
   "id": "a3211903",
   "metadata": {
    "execution": {
     "iopub.execute_input": "2022-04-20T14:43:19.250559Z",
     "iopub.status.busy": "2022-04-20T14:43:19.249779Z",
     "iopub.status.idle": "2022-04-20T14:43:19.439815Z",
     "shell.execute_reply": "2022-04-20T14:43:19.441329Z",
     "shell.execute_reply.started": "2022-04-20T14:41:41.597697Z"
    },
    "papermill": {
     "duration": 0.271592,
     "end_time": "2022-04-20T14:43:19.441557",
     "exception": false,
     "start_time": "2022-04-20T14:43:19.169965",
     "status": "completed"
    },
    "tags": []
   },
   "outputs": [
    {
     "name": "stdout",
     "output_type": "stream",
     "text": [
      "5/5 [==============================] - 0s 21ms/step - loss: 0.3061 - binary_accuracy: 0.8889\n"
     ]
    },
    {
     "data": {
      "text/plain": [
       "[0.3061223328113556, 0.8888888955116272]"
      ]
     },
     "execution_count": 19,
     "metadata": {},
     "output_type": "execute_result"
    }
   ],
   "source": [
    "model.evaluate(x_test, y_test)"
   ]
  },
  {
   "cell_type": "code",
   "execution_count": 20,
   "id": "d01d30fa",
   "metadata": {
    "execution": {
     "iopub.execute_input": "2022-04-20T14:43:19.705737Z",
     "iopub.status.busy": "2022-04-20T14:43:19.701401Z",
     "iopub.status.idle": "2022-04-20T14:43:19.980017Z",
     "shell.execute_reply": "2022-04-20T14:43:19.979534Z",
     "shell.execute_reply.started": "2022-04-20T14:41:41.762696Z"
    },
    "papermill": {
     "duration": 0.406396,
     "end_time": "2022-04-20T14:43:19.980143",
     "exception": false,
     "start_time": "2022-04-20T14:43:19.573747",
     "status": "completed"
    },
    "tags": []
   },
   "outputs": [
    {
     "data": {
      "image/png": "[encoded data removed]",
      "text/plain": [
       "<Figure size 432x288 with 1 Axes>"
      ]
     },
     "metadata": {
      "needs_background": "light"
     },
     "output_type": "display_data"
    }
   ],
   "source": [
    "import matplotlib.pyplot as plt\n",
    "\n",
    "plt.plot(history.history['binary_accuracy'], label=\"Accuracy\")\n",
    "plt.plot(history.history['val_binary_accuracy'], label=\"Validation accuracy\")\n",
    "plt.title('Accuracy')\n",
    "plt.xlabel('Epoch')\n",
    "plt.ylabel('Accuracy')\n",
    "plt.legend()\n",
    "plt.tight_layout()\n",
    "plt.show()"
   ]
  },
  {
   "cell_type": "code",
   "execution_count": 21,
   "id": "bb139894",
   "metadata": {
    "execution": {
     "iopub.execute_input": "2022-04-20T14:43:20.151752Z",
     "iopub.status.busy": "2022-04-20T14:43:20.145475Z",
     "iopub.status.idle": "2022-04-20T14:43:20.374399Z",
     "shell.execute_reply": "2022-04-20T14:43:20.373988Z",
     "shell.execute_reply.started": "2022-04-20T14:41:42.021003Z"
    },
    "papermill": {
     "duration": 0.317647,
     "end_time": "2022-04-20T14:43:20.374514",
     "exception": false,
     "start_time": "2022-04-20T14:43:20.056867",
     "status": "completed"
    },
    "tags": []
   },
   "outputs": [
    {
     "data": {
      "image/png": "[encoded data removed]",
      "text/plain": [
       "<Figure size 432x288 with 1 Axes>"
      ]
     },
     "metadata": {
      "needs_background": "light"
     },
     "output_type": "display_data"
    }
   ],
   "source": [
    "import matplotlib.pyplot as plt\n",
    "\n",
    "plt.plot(history.history['loss'], label=\"Train loss\")\n",
    "plt.plot(history.history['val_loss'], label=\"Validation loss\")\n",
    "plt.title('Loss')\n",
    "plt.xlabel('Epoch')\n",
    "plt.ylabel('Loss')\n",
    "plt.legend()\n",
    "plt.tight_layout()\n",
    "plt.show()"
   ]
  },
  {
   "cell_type": "code",
   "execution_count": 22,
   "id": "e255a1fc",
   "metadata": {
    "execution": {
     "iopub.execute_input": "2022-04-20T14:43:20.535041Z",
     "iopub.status.busy": "2022-04-20T14:43:20.534264Z",
     "iopub.status.idle": "2022-04-20T14:43:21.690713Z",
     "shell.execute_reply": "2022-04-20T14:43:21.691229Z",
     "shell.execute_reply.started": "2022-04-20T14:41:42.289701Z"
    },
    "papermill": {
     "duration": 1.23848,
     "end_time": "2022-04-20T14:43:21.691384",
     "exception": false,
     "start_time": "2022-04-20T14:43:20.452904",
     "status": "completed"
    },
    "tags": []
   },
   "outputs": [],
   "source": [
    "from sklearn.metrics import classification_report\n",
    "\n",
    "y_pred = model.predict(x_test)"
   ]
  },
  {
   "cell_type": "code",
   "execution_count": 23,
   "id": "8b6d3b5e",
   "metadata": {
    "execution": {
     "iopub.execute_input": "2022-04-20T14:43:21.852760Z",
     "iopub.status.busy": "2022-04-20T14:43:21.851970Z",
     "iopub.status.idle": "2022-04-20T14:43:21.854113Z",
     "shell.execute_reply": "2022-04-20T14:43:21.854521Z",
     "shell.execute_reply.started": "2022-04-20T14:41:43.613476Z"
    },
    "papermill": {
     "duration": 0.084281,
     "end_time": "2022-04-20T14:43:21.854690",
     "exception": false,
     "start_time": "2022-04-20T14:43:21.770409",
     "status": "completed"
    },
    "tags": []
   },
   "outputs": [],
   "source": [
    "y_pred = y_pred.reshape(-1,1)\n",
    "y_pred = np.round(y_pred)"
   ]
  },
  {
   "cell_type": "code",
   "execution_count": 24,
   "id": "77f48227",
   "metadata": {
    "execution": {
     "iopub.execute_input": "2022-04-20T14:43:22.021398Z",
     "iopub.status.busy": "2022-04-20T14:43:22.019850Z",
     "iopub.status.idle": "2022-04-20T14:43:22.022024Z",
     "shell.execute_reply": "2022-04-20T14:43:22.022427Z",
     "shell.execute_reply.started": "2022-04-20T14:40:04.992460Z"
    },
    "papermill": {
     "duration": 0.085301,
     "end_time": "2022-04-20T14:43:22.022552",
     "exception": false,
     "start_time": "2022-04-20T14:43:21.937251",
     "status": "completed"
    },
    "tags": []
   },
   "outputs": [],
   "source": [
    "#print(y_pred)\n",
    "#print(y_test)"
   ]
  },
  {
   "cell_type": "code",
   "execution_count": 25,
   "id": "22703674",
   "metadata": {
    "execution": {
     "iopub.execute_input": "2022-04-20T14:43:22.189590Z",
     "iopub.status.busy": "2022-04-20T14:43:22.188692Z",
     "iopub.status.idle": "2022-04-20T14:43:22.198910Z",
     "shell.execute_reply": "2022-04-20T14:43:22.198070Z",
     "shell.execute_reply.started": "2022-04-20T14:41:43.620763Z"
    },
    "papermill": {
     "duration": 0.098052,
     "end_time": "2022-04-20T14:43:22.199070",
     "exception": false,
     "start_time": "2022-04-20T14:43:22.101018",
     "status": "completed"
    },
    "tags": []
   },
   "outputs": [
    {
     "name": "stdout",
     "output_type": "stream",
     "text": [
      "              precision    recall  f1-score   support\n",
      "\n",
      "    negative       0.93      0.85      0.89        74\n",
      "    positive       0.86      0.93      0.89        70\n",
      "\n",
      "    accuracy                           0.89       144\n",
      "   macro avg       0.89      0.89      0.89       144\n",
      "weighted avg       0.89      0.89      0.89       144\n",
      "\n"
     ]
    }
   ],
   "source": [
    "categories = ['negative','positive']\n",
    "print(classification_report(y_test, y_pred, target_names=categories))"
   ]
  },
  {
   "cell_type": "code",
   "execution_count": 26,
   "id": "06ceecb7",
   "metadata": {
    "execution": {
     "iopub.execute_input": "2022-04-20T14:43:22.385143Z",
     "iopub.status.busy": "2022-04-20T14:43:22.384324Z",
     "iopub.status.idle": "2022-04-20T14:43:22.730812Z",
     "shell.execute_reply": "2022-04-20T14:43:22.730377Z",
     "shell.execute_reply.started": "2022-04-20T14:41:43.637701Z"
    },
    "papermill": {
     "duration": 0.440553,
     "end_time": "2022-04-20T14:43:22.730934",
     "exception": false,
     "start_time": "2022-04-20T14:43:22.290381",
     "status": "completed"
    },
    "tags": []
   },
   "outputs": [
    {
     "data": {
      "image/png": "[encoded data removed]",
      "text/plain": [
       "<Figure size 1152x1008 with 2 Axes>"
      ]
     },
     "metadata": {
      "needs_background": "light"
     },
     "output_type": "display_data"
    }
   ],
   "source": [
    "import seaborn as sns\n",
    "import matplotlib.pyplot as plt\n",
    "\n",
    "### Confusion Matrix\n",
    "from sklearn.metrics import confusion_matrix\n",
    "#predictions = model.predict(x_test, steps=len(x_test), verbose=0)\n",
    "#y_pred=model.predict(x_test)\n",
    "#y_pred = np.round(y_pred)\n",
    "\n",
    "\n",
    "cm = confusion_matrix(y_test, y_pred)\n",
    "\n",
    "## Get Class Labels\n",
    "labels = 2\n",
    "#[0,1,2,3,4,5]_\n",
    "class_names = categories \n",
    "\n",
    "# Plot confusion matrix in a beautiful manner\n",
    "fig = plt.figure(figsize=(16, 14))\n",
    "ax= plt.subplot()\n",
    "sns.heatmap(cm, annot=True, ax = ax, fmt = 'g'); #annot=True to annotate cells\n",
    "# labels, title and ticks\n",
    "ax.set_xlabel('Predicted', fontsize=20)\n",
    "ax.xaxis.set_label_position('bottom')\n",
    "plt.xticks(rotation=90)\n",
    "ax.xaxis.set_ticklabels(class_names, fontsize = 10)\n",
    "ax.xaxis.tick_bottom()\n",
    "\n",
    "ax.set_ylabel('True', fontsize=20)\n",
    "ax.yaxis.set_ticklabels(class_names, fontsize = 10)\n",
    "plt.yticks(rotation=0)\n",
    "\n",
    "plt.title('Refined Confusion Matrix', fontsize=20)\n",
    "\n",
    "plt.savefig('ConMat24.png')\n",
    "plt.show()"
   ]
  }
 ],
 "metadata": {
  "kernelspec": {
   "display_name": "Python 3",
   "language": "python",
   "name": "python3"
  },
  "language_info": {
   "codemirror_mode": {
    "name": "ipython",
    "version": 3
   },
   "file_extension": ".py",
   "mimetype": "text/x-python",
   "name": "python",
   "nbconvert_exporter": "python",
   "pygments_lexer": "ipython3",
   "version": "3.7.12"
  },
  "papermill": {
   "default_parameters": {},
   "duration": 60.348358,
   "end_time": "2022-04-20T14:43:25.765575",
   "environment_variables": {},
   "exception": null,
   "input_path": "__notebook__.ipynb",
   "output_path": "__notebook__.ipynb",
   "parameters": {},
   "start_time": "2022-04-20T14:42:25.417217",
   "version": "2.3.3"
  }
 },
 "nbformat": 4,
 "nbformat_minor": 5
}
