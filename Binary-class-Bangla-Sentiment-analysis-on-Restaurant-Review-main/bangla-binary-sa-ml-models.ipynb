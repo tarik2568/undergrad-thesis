{
 "cells": [
  {
   "cell_type": "code",
   "execution_count": 1,
   "id": "166e6306",
   "metadata": {
    "execution": {
     "iopub.execute_input": "2022-04-17T20:56:22.219065Z",
     "iopub.status.busy": "2022-04-17T20:56:22.217823Z",
     "iopub.status.idle": "2022-04-17T20:56:29.793480Z",
     "shell.execute_reply": "2022-04-17T20:56:29.792355Z"
    },
    "id": "SjeOxTHPyX5k",
    "papermill": {
     "duration": 7.598887,
     "end_time": "2022-04-17T20:56:29.796115",
     "exception": false,
     "start_time": "2022-04-17T20:56:22.197228",
     "status": "completed"
    },
    "tags": []
   },
   "outputs": [
    {
     "name": "stdout",
     "output_type": "stream",
     "text": [
      "No Warning Shown\n"
     ]
    }
   ],
   "source": [
    "import pandas as pd\n",
    "import seaborn as sns\n",
    "import re,json,nltk\n",
    "import numpy as np\n",
    "import matplotlib.pyplot as plt\n",
    "%matplotlib inline\n",
    "import tensorflow as tf\n",
    "import warnings\n",
    "warnings.filterwarnings('ignore')\n",
    "warnings.warn('DelftStack')\n",
    "warnings.warn('Do not show this message')\n",
    "print(\"No Warning Shown\")\n",
    "\n",
    "from sklearn.linear_model import SGDClassifier\n",
    "from sklearn.linear_model import LogisticRegression, LogisticRegressionCV\n",
    "from sklearn.tree import DecisionTreeClassifier\n",
    "from sklearn.neighbors import KNeighborsClassifier\n",
    "from sklearn.ensemble import RandomForestClassifier, AdaBoostClassifier\n",
    "from sklearn.naive_bayes import MultinomialNB\n",
    "from sklearn.svm import SVC\n",
    "from sklearn.model_selection import GridSearchCV\n",
    "from xgboost import XGBClassifier\n",
    "\n",
    "from sklearn.pipeline import Pipeline\n",
    "from sklearn.feature_extraction.text import TfidfVectorizer, CountVectorizer, TfidfTransformer\n",
    "from sklearn.metrics import classification_report\n",
    "from sklearn.model_selection import train_test_split"
   ]
  },
  {
   "cell_type": "code",
   "execution_count": 2,
   "id": "ba5a9593",
   "metadata": {
    "execution": {
     "iopub.execute_input": "2022-04-17T20:56:29.836139Z",
     "iopub.status.busy": "2022-04-17T20:56:29.835101Z",
     "iopub.status.idle": "2022-04-17T20:56:29.847491Z",
     "shell.execute_reply": "2022-04-17T20:56:29.846536Z"
    },
    "id": "fsmpggesJM0O",
    "outputId": "56a681fc-c298-43a8-b2ca-000f7868904f",
    "papermill": {
     "duration": 0.033815,
     "end_time": "2022-04-17T20:56:29.849485",
     "exception": false,
     "start_time": "2022-04-17T20:56:29.815670",
     "status": "completed"
    },
    "tags": []
   },
   "outputs": [
    {
     "name": "stdout",
     "output_type": "stream",
     "text": [
      "/kaggle/input/sa-bangla-binary-restaurant-review/Bert_Preprocessed_Restaurant_Review_Dataset.xlsx\n"
     ]
    }
   ],
   "source": [
    "import os\n",
    "for dirname, _, filenames in os.walk('/kaggle/input'):\n",
    "    for filename in filenames:\n",
    "        print(os.path.join(dirname, filename))"
   ]
  },
  {
   "cell_type": "code",
   "execution_count": 3,
   "id": "51f6b809",
   "metadata": {
    "execution": {
     "iopub.execute_input": "2022-04-17T20:56:29.888289Z",
     "iopub.status.busy": "2022-04-17T20:56:29.887949Z",
     "iopub.status.idle": "2022-04-17T20:56:43.105638Z",
     "shell.execute_reply": "2022-04-17T20:56:43.104377Z"
    },
    "papermill": {
     "duration": 13.240014,
     "end_time": "2022-04-17T20:56:43.108015",
     "exception": false,
     "start_time": "2022-04-17T20:56:29.868001",
     "status": "completed"
    },
    "tags": []
   },
   "outputs": [
    {
     "name": "stdout",
     "output_type": "stream",
     "text": [
      "Collecting openpyxl\r\n",
      "  Downloading openpyxl-3.0.9-py2.py3-none-any.whl (242 kB)\r\n",
      "\u001b[2K     \u001b[90m━━━━━━━━━━━━━━━━━━━━━━━━━━━━━━━━━━━━━\u001b[0m \u001b[32m242.2/242.2 KB\u001b[0m \u001b[31m469.4 kB/s\u001b[0m eta \u001b[36m0:00:00\u001b[0m\r\n",
      "\u001b[?25hCollecting et-xmlfile\r\n",
      "  Downloading et_xmlfile-1.1.0-py3-none-any.whl (4.7 kB)\r\n",
      "Installing collected packages: et-xmlfile, openpyxl\r\n",
      "Successfully installed et-xmlfile-1.1.0 openpyxl-3.0.9\r\n",
      "\u001b[33mWARNING: Running pip as the 'root' user can result in broken permissions and conflicting behaviour with the system package manager. It is recommended to use a virtual environment instead: https://pip.pypa.io/warnings/venv\u001b[0m\u001b[33m\r\n",
      "\u001b[0mNote: you may need to restart the kernel to use updated packages.\n"
     ]
    }
   ],
   "source": [
    "pip install openpyxl"
   ]
  },
  {
   "cell_type": "code",
   "execution_count": 4,
   "id": "0dbc88e5",
   "metadata": {
    "execution": {
     "iopub.execute_input": "2022-04-17T20:56:43.157272Z",
     "iopub.status.busy": "2022-04-17T20:56:43.156891Z",
     "iopub.status.idle": "2022-04-17T20:56:43.756886Z",
     "shell.execute_reply": "2022-04-17T20:56:43.755905Z"
    },
    "id": "9lG3sIOoynXz",
    "outputId": "df4485f0-688b-4c2a-b01a-d69fa0a80121",
    "papermill": {
     "duration": 0.627938,
     "end_time": "2022-04-17T20:56:43.759373",
     "exception": false,
     "start_time": "2022-04-17T20:56:43.131435",
     "status": "completed"
    },
    "tags": []
   },
   "outputs": [
    {
     "name": "stdout",
     "output_type": "stream",
     "text": [
      "<class 'pandas.core.frame.DataFrame'>\n",
      "RangeIndex: 1431 entries, 0 to 1430\n",
      "Data columns (total 8 columns):\n",
      " #   Column        Non-Null Count  Dtype \n",
      "---  ------        --------------  ----- \n",
      " 0   Unnamed: 0    1431 non-null   int64 \n",
      " 1   Unnamed: 0.1  1431 non-null   int64 \n",
      " 2   Reviews       1431 non-null   object\n",
      " 3   Sentiment     1431 non-null   object\n",
      " 4   Text          1431 non-null   object\n",
      " 5   Label         1431 non-null   int64 \n",
      " 6   Token         1431 non-null   object\n",
      " 7   Token_ID      1431 non-null   object\n",
      "dtypes: int64(3), object(5)\n",
      "memory usage: 89.6+ KB\n"
     ]
    }
   ],
   "source": [
    "df=pd.read_excel('/kaggle/input/sa-bangla-binary-restaurant-review/Bert_Preprocessed_Restaurant_Review_Dataset.xlsx')\n",
    "df.info()\n"
   ]
  },
  {
   "cell_type": "code",
   "execution_count": 5,
   "id": "2317bf25",
   "metadata": {
    "execution": {
     "iopub.execute_input": "2022-04-17T20:56:43.810156Z",
     "iopub.status.busy": "2022-04-17T20:56:43.809520Z",
     "iopub.status.idle": "2022-04-17T20:56:43.830041Z",
     "shell.execute_reply": "2022-04-17T20:56:43.829097Z"
    },
    "id": "-4Ckkg1azIgh",
    "outputId": "1acb9e8d-f780-47d6-d3eb-5ab4e26977d0",
    "papermill": {
     "duration": 0.04902,
     "end_time": "2022-04-17T20:56:43.832347",
     "exception": false,
     "start_time": "2022-04-17T20:56:43.783327",
     "status": "completed"
    },
    "tags": []
   },
   "outputs": [
    {
     "data": {
      "text/html": [
       "<div>\n",
       "<style scoped>\n",
       "    .dataframe tbody tr th:only-of-type {\n",
       "        vertical-align: middle;\n",
       "    }\n",
       "\n",
       "    .dataframe tbody tr th {\n",
       "        vertical-align: top;\n",
       "    }\n",
       "\n",
       "    .dataframe thead th {\n",
       "        text-align: right;\n",
       "    }\n",
       "</style>\n",
       "<table border=\"1\" class=\"dataframe\">\n",
       "  <thead>\n",
       "    <tr style=\"text-align: right;\">\n",
       "      <th></th>\n",
       "      <th>Unnamed: 0</th>\n",
       "      <th>Unnamed: 0.1</th>\n",
       "      <th>Reviews</th>\n",
       "      <th>Sentiment</th>\n",
       "      <th>Text</th>\n",
       "      <th>Label</th>\n",
       "      <th>Token</th>\n",
       "      <th>Token_ID</th>\n",
       "    </tr>\n",
       "  </thead>\n",
       "  <tbody>\n",
       "    <tr>\n",
       "      <th>0</th>\n",
       "      <td>501</td>\n",
       "      <td>501</td>\n",
       "      <td>পরিবেশ খাদ্য ও সেবা ছিল মহান</td>\n",
       "      <td>positive</td>\n",
       "      <td>পরিবেশ খাদ্য ও সেবা ছিল মহান</td>\n",
       "      <td>1</td>\n",
       "      <td>['পরিবেশ', 'খাদ', '##য', 'ও', 'সেবা', 'ছিল', '...</td>\n",
       "      <td>[2679, 19673, 9294, 2038, 2872, 2072, 4444]</td>\n",
       "    </tr>\n",
       "    <tr>\n",
       "      <th>1</th>\n",
       "      <td>264</td>\n",
       "      <td>264</td>\n",
       "      <td>খাবারগুলো এত ইয়াম্মিইইইই...ইচ্ছে করে প্রতিদিন ...</td>\n",
       "      <td>positive</td>\n",
       "      <td>খাবারগুলো এত ইয়াম্মিইইইইইচ্ছে করে প্রতিদিন খাই</td>\n",
       "      <td>1</td>\n",
       "      <td>['খাবার', '##গলে', '##া', 'এত', 'ই', '##যাম', ...</td>\n",
       "      <td>[2545, 64716, 2395, 2592, 2554, 71968, 6968, 2...</td>\n",
       "    </tr>\n",
       "    <tr>\n",
       "      <th>2</th>\n",
       "      <td>405</td>\n",
       "      <td>405</td>\n",
       "      <td>শহরে সেরা মুরগির রেসিপি জন্য নিঃসন্দেহে জায়গা</td>\n",
       "      <td>positive</td>\n",
       "      <td>শহরে সেরা মুরগির রেসিপি জন্য নিঃসন্দেহে জায়গা</td>\n",
       "      <td>1</td>\n",
       "      <td>['শহরে', 'সেরা', 'মর', '##গির', 'রেসিপি', 'জন'...</td>\n",
       "      <td>[2881, 2617, 18849, 25654, 10643, 2181, 9294, ...</td>\n",
       "    </tr>\n",
       "    <tr>\n",
       "      <th>3</th>\n",
       "      <td>435</td>\n",
       "      <td>435</td>\n",
       "      <td>আজ রাতে আমি কাবাব ও খাদ্য এ আমার পরিবারের সাথে...</td>\n",
       "      <td>positive</td>\n",
       "      <td>আজ রাতে আমি কাবাব ও খাদ্য এ আমার পরিবারের সাথে...</td>\n",
       "      <td>1</td>\n",
       "      <td>['আজ', 'রাতে', 'আমি', 'কাবাব', 'ও', 'খাদ', '##...</td>\n",
       "      <td>[2145, 2736, 2169, 12677, 2038, 19673, 9294, 2...</td>\n",
       "    </tr>\n",
       "    <tr>\n",
       "      <th>4</th>\n",
       "      <td>1001</td>\n",
       "      <td>1001</td>\n",
       "      <td>বেইলি রোড শাখাতে সুপার ধীর সেবা</td>\n",
       "      <td>negative</td>\n",
       "      <td>বেইলি রোড শাখাতে সুপার ধীর সেবা</td>\n",
       "      <td>0</td>\n",
       "      <td>['বেইলি', 'রে', '##াড', 'শাখা', '##তে', 'সপ', ...</td>\n",
       "      <td>[14379, 4972, 35897, 3574, 2200, 73835, 3187, ...</td>\n",
       "    </tr>\n",
       "  </tbody>\n",
       "</table>\n",
       "</div>"
      ],
      "text/plain": [
       "   Unnamed: 0  Unnamed: 0.1  \\\n",
       "0         501           501   \n",
       "1         264           264   \n",
       "2         405           405   \n",
       "3         435           435   \n",
       "4        1001          1001   \n",
       "\n",
       "                                             Reviews Sentiment  \\\n",
       "0                       পরিবেশ খাদ্য ও সেবা ছিল মহান  positive   \n",
       "1  খাবারগুলো এত ইয়াম্মিইইইই...ইচ্ছে করে প্রতিদিন ...  positive   \n",
       "2     শহরে সেরা মুরগির রেসিপি জন্য নিঃসন্দেহে জায়গা  positive   \n",
       "3  আজ রাতে আমি কাবাব ও খাদ্য এ আমার পরিবারের সাথে...  positive   \n",
       "4                    বেইলি রোড শাখাতে সুপার ধীর সেবা  negative   \n",
       "\n",
       "                                                Text  Label  \\\n",
       "0                       পরিবেশ খাদ্য ও সেবা ছিল মহান      1   \n",
       "1     খাবারগুলো এত ইয়াম্মিইইইইইচ্ছে করে প্রতিদিন খাই      1   \n",
       "2     শহরে সেরা মুরগির রেসিপি জন্য নিঃসন্দেহে জায়গা      1   \n",
       "3  আজ রাতে আমি কাবাব ও খাদ্য এ আমার পরিবারের সাথে...      1   \n",
       "4                    বেইলি রোড শাখাতে সুপার ধীর সেবা      0   \n",
       "\n",
       "                                               Token  \\\n",
       "0  ['পরিবেশ', 'খাদ', '##য', 'ও', 'সেবা', 'ছিল', '...   \n",
       "1  ['খাবার', '##গলে', '##া', 'এত', 'ই', '##যাম', ...   \n",
       "2  ['শহরে', 'সেরা', 'মর', '##গির', 'রেসিপি', 'জন'...   \n",
       "3  ['আজ', 'রাতে', 'আমি', 'কাবাব', 'ও', 'খাদ', '##...   \n",
       "4  ['বেইলি', 'রে', '##াড', 'শাখা', '##তে', 'সপ', ...   \n",
       "\n",
       "                                            Token_ID  \n",
       "0        [2679, 19673, 9294, 2038, 2872, 2072, 4444]  \n",
       "1  [2545, 64716, 2395, 2592, 2554, 71968, 6968, 2...  \n",
       "2  [2881, 2617, 18849, 25654, 10643, 2181, 9294, ...  \n",
       "3  [2145, 2736, 2169, 12677, 2038, 19673, 9294, 2...  \n",
       "4  [14379, 4972, 35897, 3574, 2200, 73835, 3187, ...  "
      ]
     },
     "execution_count": 5,
     "metadata": {},
     "output_type": "execute_result"
    }
   ],
   "source": [
    "df.head()"
   ]
  },
  {
   "cell_type": "code",
   "execution_count": 6,
   "id": "ea1aaf7d",
   "metadata": {
    "execution": {
     "iopub.execute_input": "2022-04-17T20:56:43.881610Z",
     "iopub.status.busy": "2022-04-17T20:56:43.881074Z",
     "iopub.status.idle": "2022-04-17T20:56:44.099571Z",
     "shell.execute_reply": "2022-04-17T20:56:44.098567Z"
    },
    "id": "2YmJDMCSzKMu",
    "outputId": "f490462b-e189-404e-cbb8-15041bd8f634",
    "papermill": {
     "duration": 0.245901,
     "end_time": "2022-04-17T20:56:44.101838",
     "exception": false,
     "start_time": "2022-04-17T20:56:43.855937",
     "status": "completed"
    },
    "tags": []
   },
   "outputs": [
    {
     "data": {
      "text/plain": [
       "<AxesSubplot:xlabel='Sentiment', ylabel='count'>"
      ]
     },
     "execution_count": 6,
     "metadata": {},
     "output_type": "execute_result"
    },
    {
     "data": {
      "image/png": "[encoded data removed]",
      "text/plain": [
       "<Figure size 432x288 with 1 Axes>"
      ]
     },
     "metadata": {
      "needs_background": "light"
     },
     "output_type": "display_data"
    }
   ],
   "source": [
    "sns.countplot(df['Sentiment'])"
   ]
  },
  {
   "cell_type": "code",
   "execution_count": 7,
   "id": "0a766570",
   "metadata": {
    "execution": {
     "iopub.execute_input": "2022-04-17T20:56:44.155921Z",
     "iopub.status.busy": "2022-04-17T20:56:44.155604Z",
     "iopub.status.idle": "2022-04-17T20:56:44.163451Z",
     "shell.execute_reply": "2022-04-17T20:56:44.162408Z"
    },
    "id": "_Da_P-U4zgXB",
    "outputId": "0695aacb-1d19-4f39-f1c7-91f18cf0e2de",
    "papermill": {
     "duration": 0.038492,
     "end_time": "2022-04-17T20:56:44.165539",
     "exception": false,
     "start_time": "2022-04-17T20:56:44.127047",
     "status": "completed"
    },
    "tags": []
   },
   "outputs": [
    {
     "data": {
      "text/plain": [
       "(negative    794\n",
       " positive    637\n",
       " Name: Sentiment, dtype: int64,\n",
       " 1431)"
      ]
     },
     "execution_count": 7,
     "metadata": {},
     "output_type": "execute_result"
    }
   ],
   "source": [
    "df.Sentiment.value_counts(), len(df)"
   ]
  },
  {
   "cell_type": "code",
   "execution_count": 8,
   "id": "c494c1a8",
   "metadata": {
    "execution": {
     "iopub.execute_input": "2022-04-17T20:56:44.218115Z",
     "iopub.status.busy": "2022-04-17T20:56:44.217803Z",
     "iopub.status.idle": "2022-04-17T20:56:44.227758Z",
     "shell.execute_reply": "2022-04-17T20:56:44.226891Z"
    },
    "id": "SgwD_mQJizOk",
    "papermill": {
     "duration": 0.039037,
     "end_time": "2022-04-17T20:56:44.230105",
     "exception": false,
     "start_time": "2022-04-17T20:56:44.191068",
     "status": "completed"
    },
    "tags": []
   },
   "outputs": [],
   "source": [
    "df=df.dropna(axis=0, how='any', thresh=None, subset=None, inplace=False)"
   ]
  },
  {
   "cell_type": "code",
   "execution_count": 9,
   "id": "d394d99d",
   "metadata": {
    "execution": {
     "iopub.execute_input": "2022-04-17T20:56:44.284837Z",
     "iopub.status.busy": "2022-04-17T20:56:44.283909Z",
     "iopub.status.idle": "2022-04-17T20:56:44.288348Z",
     "shell.execute_reply": "2022-04-17T20:56:44.287651Z"
    },
    "id": "aRyFayZ1iyMT",
    "papermill": {
     "duration": 0.034392,
     "end_time": "2022-04-17T20:56:44.290279",
     "exception": false,
     "start_time": "2022-04-17T20:56:44.255887",
     "status": "completed"
    },
    "tags": []
   },
   "outputs": [],
   "source": [
    "df.reset_index(drop=True, inplace=True)"
   ]
  },
  {
   "cell_type": "code",
   "execution_count": 10,
   "id": "eb1d156c",
   "metadata": {
    "execution": {
     "iopub.execute_input": "2022-04-17T20:56:44.341856Z",
     "iopub.status.busy": "2022-04-17T20:56:44.341298Z",
     "iopub.status.idle": "2022-04-17T20:56:44.349970Z",
     "shell.execute_reply": "2022-04-17T20:56:44.349318Z"
    },
    "id": "N7bcX0oWjDfT",
    "papermill": {
     "duration": 0.036916,
     "end_time": "2022-04-17T20:56:44.351955",
     "exception": false,
     "start_time": "2022-04-17T20:56:44.315039",
     "status": "completed"
    },
    "tags": []
   },
   "outputs": [],
   "source": [
    "from sklearn import svm\n",
    "from sklearn.ensemble import RandomForestClassifier\n",
    "from sklearn.linear_model import LogisticRegression\n",
    "\n",
    "model_params = {\n",
    "    'svm': {\n",
    "        'model': svm.SVC(gamma='auto'),\n",
    "        'params' : {\n",
    "            'C': [1,10,20],\n",
    "            'kernel': ['rbf','linear','sigmoid']\n",
    "        }  \n",
    "    },\n",
    "    'random_forest': {\n",
    "        'model': RandomForestClassifier(),\n",
    "        'params' : {\n",
    "            'n_estimators': [1,5,10]\n",
    "        }\n",
    "    },\n",
    "    'decision tree':{\n",
    "        'model':DecisionTreeClassifier(),\n",
    "        'params':{\n",
    "            'criterion':['entropy']\n",
    "        }\n",
    "    },\n",
    "    'logistic_regression' : {\n",
    "        'model': LogisticRegression(solver='liblinear',multi_class='auto'),\n",
    "        'params': {\n",
    "            'C': [1,5,10]\n",
    "        }\n",
    "    },\n",
    "    'multinomial naive bayes':{\n",
    "        'model':MultinomialNB(),\n",
    "        'params':{\n",
    "            'alpha':[.10,.15,.20,.25]\n",
    "        }\n",
    "    },\n",
    "    'k nearest neibourgh':{\n",
    "        'model':KNeighborsClassifier(),\n",
    "        'params':{\n",
    "            'n_neighbors': [3,4,5,6,7]\n",
    "            \n",
    "        }\n",
    "    },\n",
    "    'Stochastic Gradient Descent':{\n",
    "        'model':SGDClassifier(),\n",
    "        'params':{\n",
    "            'loss':['log']\n",
    "\n",
    "        }\n",
    "    },\n",
    "    'XGBoost':{\n",
    "        'model': XGBClassifier(),\n",
    "        'params':{\n",
    "            'booster':['gbtree', 'gblinear','dart']\n",
    "        }\n",
    "    }\n",
    "\n",
    "}"
   ]
  },
  {
   "cell_type": "code",
   "execution_count": 11,
   "id": "637fc709",
   "metadata": {
    "execution": {
     "iopub.execute_input": "2022-04-17T20:56:44.403326Z",
     "iopub.status.busy": "2022-04-17T20:56:44.402971Z",
     "iopub.status.idle": "2022-04-17T20:56:44.442607Z",
     "shell.execute_reply": "2022-04-17T20:56:44.441544Z"
    },
    "id": "6LzmSry0h6Xc",
    "papermill": {
     "duration": 0.068394,
     "end_time": "2022-04-17T20:56:44.445215",
     "exception": false,
     "start_time": "2022-04-17T20:56:44.376821",
     "status": "completed"
    },
    "tags": []
   },
   "outputs": [],
   "source": [
    "from sklearn.feature_extraction.text import CountVectorizer\n",
    "vect = CountVectorizer()\n",
    "x_bow = vect.fit_transform(df['Text'])\n",
    "x_train, x_test, y_train, y_test = train_test_split(x_bow,df['Label'] , test_size=0.2, random_state=42)"
   ]
  },
  {
   "cell_type": "code",
   "execution_count": 12,
   "id": "cd537934",
   "metadata": {
    "execution": {
     "iopub.execute_input": "2022-04-17T20:56:44.497812Z",
     "iopub.status.busy": "2022-04-17T20:56:44.497182Z",
     "iopub.status.idle": "2022-04-17T20:57:00.364820Z",
     "shell.execute_reply": "2022-04-17T20:57:00.364197Z"
    },
    "id": "iKgKTmXEioeb",
    "outputId": "182ca62b-ae17-4cb8-a97b-1838acf1c40f",
    "papermill": {
     "duration": 15.896325,
     "end_time": "2022-04-17T20:57:00.366669",
     "exception": false,
     "start_time": "2022-04-17T20:56:44.470344",
     "status": "completed"
    },
    "tags": []
   },
   "outputs": [
    {
     "name": "stdout",
     "output_type": "stream",
     "text": [
      "[20:56:51] WARNING: ../src/learner.cc:1115: Starting in XGBoost 1.3.0, the default evaluation metric used with the objective 'binary:logistic' was changed from 'error' to 'logloss'. Explicitly set eval_metric if you'd like to restore the old behavior.\n",
      "[20:56:51] WARNING: ../src/learner.cc:1115: Starting in XGBoost 1.3.0, the default evaluation metric used with the objective 'binary:logistic' was changed from 'error' to 'logloss'. Explicitly set eval_metric if you'd like to restore the old behavior.\n",
      "[20:56:52] WARNING: ../src/learner.cc:1115: Starting in XGBoost 1.3.0, the default evaluation metric used with the objective 'binary:logistic' was changed from 'error' to 'logloss'. Explicitly set eval_metric if you'd like to restore the old behavior.\n",
      "[20:56:52] WARNING: ../src/learner.cc:1115: Starting in XGBoost 1.3.0, the default evaluation metric used with the objective 'binary:logistic' was changed from 'error' to 'logloss'. Explicitly set eval_metric if you'd like to restore the old behavior.\n",
      "[20:56:53] WARNING: ../src/learner.cc:1115: Starting in XGBoost 1.3.0, the default evaluation metric used with the objective 'binary:logistic' was changed from 'error' to 'logloss'. Explicitly set eval_metric if you'd like to restore the old behavior.\n",
      "[20:56:53] WARNING: ../src/learner.cc:1115: Starting in XGBoost 1.3.0, the default evaluation metric used with the objective 'binary:logistic' was changed from 'error' to 'logloss'. Explicitly set eval_metric if you'd like to restore the old behavior.\n",
      "[20:56:53] WARNING: ../src/learner.cc:1115: Starting in XGBoost 1.3.0, the default evaluation metric used with the objective 'binary:logistic' was changed from 'error' to 'logloss'. Explicitly set eval_metric if you'd like to restore the old behavior.\n",
      "[20:56:54] WARNING: ../src/learner.cc:1115: Starting in XGBoost 1.3.0, the default evaluation metric used with the objective 'binary:logistic' was changed from 'error' to 'logloss'. Explicitly set eval_metric if you'd like to restore the old behavior.\n",
      "[20:56:54] WARNING: ../src/learner.cc:1115: Starting in XGBoost 1.3.0, the default evaluation metric used with the objective 'binary:logistic' was changed from 'error' to 'logloss'. Explicitly set eval_metric if you'd like to restore the old behavior.\n",
      "[20:56:55] WARNING: ../src/learner.cc:1115: Starting in XGBoost 1.3.0, the default evaluation metric used with the objective 'binary:logistic' was changed from 'error' to 'logloss'. Explicitly set eval_metric if you'd like to restore the old behavior.\n",
      "[20:56:55] WARNING: ../src/learner.cc:1115: Starting in XGBoost 1.3.0, the default evaluation metric used with the objective 'binary:logistic' was changed from 'error' to 'logloss'. Explicitly set eval_metric if you'd like to restore the old behavior.\n",
      "[20:56:56] WARNING: ../src/learner.cc:1115: Starting in XGBoost 1.3.0, the default evaluation metric used with the objective 'binary:logistic' was changed from 'error' to 'logloss'. Explicitly set eval_metric if you'd like to restore the old behavior.\n",
      "[20:56:57] WARNING: ../src/learner.cc:1115: Starting in XGBoost 1.3.0, the default evaluation metric used with the objective 'binary:logistic' was changed from 'error' to 'logloss'. Explicitly set eval_metric if you'd like to restore the old behavior.\n",
      "[20:56:58] WARNING: ../src/learner.cc:1115: Starting in XGBoost 1.3.0, the default evaluation metric used with the objective 'binary:logistic' was changed from 'error' to 'logloss'. Explicitly set eval_metric if you'd like to restore the old behavior.\n",
      "[20:56:58] WARNING: ../src/learner.cc:1115: Starting in XGBoost 1.3.0, the default evaluation metric used with the objective 'binary:logistic' was changed from 'error' to 'logloss'. Explicitly set eval_metric if you'd like to restore the old behavior.\n",
      "[20:56:59] WARNING: ../src/learner.cc:1115: Starting in XGBoost 1.3.0, the default evaluation metric used with the objective 'binary:logistic' was changed from 'error' to 'logloss'. Explicitly set eval_metric if you'd like to restore the old behavior.\n"
     ]
    },
    {
     "data": {
      "text/html": [
       "<div>\n",
       "<style scoped>\n",
       "    .dataframe tbody tr th:only-of-type {\n",
       "        vertical-align: middle;\n",
       "    }\n",
       "\n",
       "    .dataframe tbody tr th {\n",
       "        vertical-align: top;\n",
       "    }\n",
       "\n",
       "    .dataframe thead th {\n",
       "        text-align: right;\n",
       "    }\n",
       "</style>\n",
       "<table border=\"1\" class=\"dataframe\">\n",
       "  <thead>\n",
       "    <tr style=\"text-align: right;\">\n",
       "      <th></th>\n",
       "      <th>model</th>\n",
       "      <th>best_score</th>\n",
       "      <th>best_params</th>\n",
       "    </tr>\n",
       "  </thead>\n",
       "  <tbody>\n",
       "    <tr>\n",
       "      <th>3</th>\n",
       "      <td>logistic_regression</td>\n",
       "      <td>0.782349</td>\n",
       "      <td>{'C': 1}</td>\n",
       "    </tr>\n",
       "    <tr>\n",
       "      <th>0</th>\n",
       "      <td>svm</td>\n",
       "      <td>0.773615</td>\n",
       "      <td>{'C': 20, 'kernel': 'rbf'}</td>\n",
       "    </tr>\n",
       "    <tr>\n",
       "      <th>7</th>\n",
       "      <td>XGBoost</td>\n",
       "      <td>0.770999</td>\n",
       "      <td>{'booster': 'gbtree'}</td>\n",
       "    </tr>\n",
       "    <tr>\n",
       "      <th>4</th>\n",
       "      <td>multinomial naive bayes</td>\n",
       "      <td>0.759622</td>\n",
       "      <td>{'alpha': 0.1}</td>\n",
       "    </tr>\n",
       "    <tr>\n",
       "      <th>1</th>\n",
       "      <td>random_forest</td>\n",
       "      <td>0.748215</td>\n",
       "      <td>{'n_estimators': 10}</td>\n",
       "    </tr>\n",
       "    <tr>\n",
       "      <th>6</th>\n",
       "      <td>Stochastic Gradient Descent</td>\n",
       "      <td>0.743005</td>\n",
       "      <td>{'loss': 'log'}</td>\n",
       "    </tr>\n",
       "    <tr>\n",
       "      <th>2</th>\n",
       "      <td>decision tree</td>\n",
       "      <td>0.708040</td>\n",
       "      <td>{'criterion': 'entropy'}</td>\n",
       "    </tr>\n",
       "    <tr>\n",
       "      <th>5</th>\n",
       "      <td>k nearest neibourgh</td>\n",
       "      <td>0.650341</td>\n",
       "      <td>{'n_neighbors': 4}</td>\n",
       "    </tr>\n",
       "  </tbody>\n",
       "</table>\n",
       "</div>"
      ],
      "text/plain": [
       "                         model  best_score                 best_params\n",
       "3          logistic_regression    0.782349                    {'C': 1}\n",
       "0                          svm    0.773615  {'C': 20, 'kernel': 'rbf'}\n",
       "7                      XGBoost    0.770999       {'booster': 'gbtree'}\n",
       "4      multinomial naive bayes    0.759622              {'alpha': 0.1}\n",
       "1                random_forest    0.748215        {'n_estimators': 10}\n",
       "6  Stochastic Gradient Descent    0.743005             {'loss': 'log'}\n",
       "2                decision tree    0.708040    {'criterion': 'entropy'}\n",
       "5          k nearest neibourgh    0.650341          {'n_neighbors': 4}"
      ]
     },
     "execution_count": 12,
     "metadata": {},
     "output_type": "execute_result"
    }
   ],
   "source": [
    "scores = []\n",
    "\n",
    "for model_name, mp in model_params.items():\n",
    "    clf =  GridSearchCV(mp['model'], mp['params'], cv=5, return_train_score=False)\n",
    "    clf.fit(x_train,y_train)\n",
    "    scores.append({\n",
    "        'model': model_name,\n",
    "        'best_score': clf.best_score_,\n",
    "        'best_params': clf.best_params_\n",
    "    })\n",
    "    \n",
    "df_score = pd.DataFrame(scores,columns=['model','best_score','best_params'])\n",
    "df_score.sort_values(by=['best_score'],ascending=False) "
   ]
  },
  {
   "cell_type": "code",
   "execution_count": 13,
   "id": "e7c60a6c",
   "metadata": {
    "execution": {
     "iopub.execute_input": "2022-04-17T20:57:00.428882Z",
     "iopub.status.busy": "2022-04-17T20:57:00.428315Z",
     "iopub.status.idle": "2022-04-17T20:57:00.443642Z",
     "shell.execute_reply": "2022-04-17T20:57:00.442712Z"
    },
    "id": "KehcUomdPv1-",
    "outputId": "6563dd58-09b9-424d-d674-9a7a778972cc",
    "papermill": {
     "duration": 0.048804,
     "end_time": "2022-04-17T20:57:00.445800",
     "exception": false,
     "start_time": "2022-04-17T20:57:00.396996",
     "status": "completed"
    },
    "tags": []
   },
   "outputs": [
    {
     "name": "stdout",
     "output_type": "stream",
     "text": [
      "Classification Report BOW\n",
      "              precision    recall  f1-score   support\n",
      "\n",
      "           0       0.79      0.80      0.80       154\n",
      "           1       0.77      0.76      0.76       133\n",
      "\n",
      "    accuracy                           0.78       287\n",
      "   macro avg       0.78      0.78      0.78       287\n",
      "weighted avg       0.78      0.78      0.78       287\n",
      "\n"
     ]
    }
   ],
   "source": [
    "y_pred=clf.best_estimator_.predict(x_test)\n",
    "y_pred = y_pred.reshape(-1,1)\n",
    "print('Classification Report BOW')\n",
    "print(classification_report(y_test,y_pred))"
   ]
  },
  {
   "cell_type": "code",
   "execution_count": 14,
   "id": "ae8311e5",
   "metadata": {
    "execution": {
     "iopub.execute_input": "2022-04-17T20:57:00.508969Z",
     "iopub.status.busy": "2022-04-17T20:57:00.508645Z",
     "iopub.status.idle": "2022-04-17T20:57:00.549131Z",
     "shell.execute_reply": "2022-04-17T20:57:00.548268Z"
    },
    "id": "47-rk_iGjxUX",
    "papermill": {
     "duration": 0.07496,
     "end_time": "2022-04-17T20:57:00.551556",
     "exception": false,
     "start_time": "2022-04-17T20:57:00.476596",
     "status": "completed"
    },
    "tags": []
   },
   "outputs": [],
   "source": [
    "#TF-IDF unigram\n",
    "tfidf_unigram = TfidfVectorizer(use_idf=True,tokenizer=lambda x: x.split()) \n",
    "x_tfidf_unigram= tfidf_unigram.fit_transform(df['Text'])\n",
    "x_train, x_test, y_train, y_test = train_test_split(x_tfidf_unigram,df['Label'] , test_size=0.2, random_state=42)"
   ]
  },
  {
   "cell_type": "code",
   "execution_count": 15,
   "id": "86552647",
   "metadata": {
    "execution": {
     "iopub.execute_input": "2022-04-17T20:57:00.615892Z",
     "iopub.status.busy": "2022-04-17T20:57:00.614895Z",
     "iopub.status.idle": "2022-04-17T20:57:22.058384Z",
     "shell.execute_reply": "2022-04-17T20:57:22.057428Z"
    },
    "id": "sXHy9pWIiBu0",
    "outputId": "35ae65c6-7238-4050-f238-75955d963eeb",
    "papermill": {
     "duration": 21.477742,
     "end_time": "2022-04-17T20:57:22.060390",
     "exception": false,
     "start_time": "2022-04-17T20:57:00.582648",
     "status": "completed"
    },
    "tags": []
   },
   "outputs": [
    {
     "name": "stdout",
     "output_type": "stream",
     "text": [
      "[20:57:10] WARNING: ../src/learner.cc:1115: Starting in XGBoost 1.3.0, the default evaluation metric used with the objective 'binary:logistic' was changed from 'error' to 'logloss'. Explicitly set eval_metric if you'd like to restore the old behavior.\n",
      "[20:57:11] WARNING: ../src/learner.cc:1115: Starting in XGBoost 1.3.0, the default evaluation metric used with the objective 'binary:logistic' was changed from 'error' to 'logloss'. Explicitly set eval_metric if you'd like to restore the old behavior.\n",
      "[20:57:11] WARNING: ../src/learner.cc:1115: Starting in XGBoost 1.3.0, the default evaluation metric used with the objective 'binary:logistic' was changed from 'error' to 'logloss'. Explicitly set eval_metric if you'd like to restore the old behavior.\n",
      "[20:57:12] WARNING: ../src/learner.cc:1115: Starting in XGBoost 1.3.0, the default evaluation metric used with the objective 'binary:logistic' was changed from 'error' to 'logloss'. Explicitly set eval_metric if you'd like to restore the old behavior.\n",
      "[20:57:13] WARNING: ../src/learner.cc:1115: Starting in XGBoost 1.3.0, the default evaluation metric used with the objective 'binary:logistic' was changed from 'error' to 'logloss'. Explicitly set eval_metric if you'd like to restore the old behavior.\n",
      "[20:57:13] WARNING: ../src/learner.cc:1115: Starting in XGBoost 1.3.0, the default evaluation metric used with the objective 'binary:logistic' was changed from 'error' to 'logloss'. Explicitly set eval_metric if you'd like to restore the old behavior.\n",
      "[20:57:14] WARNING: ../src/learner.cc:1115: Starting in XGBoost 1.3.0, the default evaluation metric used with the objective 'binary:logistic' was changed from 'error' to 'logloss'. Explicitly set eval_metric if you'd like to restore the old behavior.\n",
      "[20:57:14] WARNING: ../src/learner.cc:1115: Starting in XGBoost 1.3.0, the default evaluation metric used with the objective 'binary:logistic' was changed from 'error' to 'logloss'. Explicitly set eval_metric if you'd like to restore the old behavior.\n",
      "[20:57:15] WARNING: ../src/learner.cc:1115: Starting in XGBoost 1.3.0, the default evaluation metric used with the objective 'binary:logistic' was changed from 'error' to 'logloss'. Explicitly set eval_metric if you'd like to restore the old behavior.\n",
      "[20:57:15] WARNING: ../src/learner.cc:1115: Starting in XGBoost 1.3.0, the default evaluation metric used with the objective 'binary:logistic' was changed from 'error' to 'logloss'. Explicitly set eval_metric if you'd like to restore the old behavior.\n",
      "[20:57:15] WARNING: ../src/learner.cc:1115: Starting in XGBoost 1.3.0, the default evaluation metric used with the objective 'binary:logistic' was changed from 'error' to 'logloss'. Explicitly set eval_metric if you'd like to restore the old behavior.\n",
      "[20:57:17] WARNING: ../src/learner.cc:1115: Starting in XGBoost 1.3.0, the default evaluation metric used with the objective 'binary:logistic' was changed from 'error' to 'logloss'. Explicitly set eval_metric if you'd like to restore the old behavior.\n",
      "[20:57:18] WARNING: ../src/learner.cc:1115: Starting in XGBoost 1.3.0, the default evaluation metric used with the objective 'binary:logistic' was changed from 'error' to 'logloss'. Explicitly set eval_metric if you'd like to restore the old behavior.\n",
      "[20:57:19] WARNING: ../src/learner.cc:1115: Starting in XGBoost 1.3.0, the default evaluation metric used with the objective 'binary:logistic' was changed from 'error' to 'logloss'. Explicitly set eval_metric if you'd like to restore the old behavior.\n",
      "[20:57:20] WARNING: ../src/learner.cc:1115: Starting in XGBoost 1.3.0, the default evaluation metric used with the objective 'binary:logistic' was changed from 'error' to 'logloss'. Explicitly set eval_metric if you'd like to restore the old behavior.\n",
      "[20:57:21] WARNING: ../src/learner.cc:1115: Starting in XGBoost 1.3.0, the default evaluation metric used with the objective 'binary:logistic' was changed from 'error' to 'logloss'. Explicitly set eval_metric if you'd like to restore the old behavior.\n"
     ]
    },
    {
     "data": {
      "text/html": [
       "<div>\n",
       "<style scoped>\n",
       "    .dataframe tbody tr th:only-of-type {\n",
       "        vertical-align: middle;\n",
       "    }\n",
       "\n",
       "    .dataframe tbody tr th {\n",
       "        vertical-align: top;\n",
       "    }\n",
       "\n",
       "    .dataframe thead th {\n",
       "        text-align: right;\n",
       "    }\n",
       "</style>\n",
       "<table border=\"1\" class=\"dataframe\">\n",
       "  <thead>\n",
       "    <tr style=\"text-align: right;\">\n",
       "      <th></th>\n",
       "      <th>model</th>\n",
       "      <th>best_score</th>\n",
       "      <th>best_params</th>\n",
       "    </tr>\n",
       "  </thead>\n",
       "  <tbody>\n",
       "    <tr>\n",
       "      <th>0</th>\n",
       "      <td>svm</td>\n",
       "      <td>0.876752</td>\n",
       "      <td>{'C': 1, 'kernel': 'linear'}</td>\n",
       "    </tr>\n",
       "    <tr>\n",
       "      <th>4</th>\n",
       "      <td>multinomial naive bayes</td>\n",
       "      <td>0.874125</td>\n",
       "      <td>{'alpha': 0.25}</td>\n",
       "    </tr>\n",
       "    <tr>\n",
       "      <th>6</th>\n",
       "      <td>Stochastic Gradient Descent</td>\n",
       "      <td>0.870635</td>\n",
       "      <td>{'loss': 'log'}</td>\n",
       "    </tr>\n",
       "    <tr>\n",
       "      <th>3</th>\n",
       "      <td>logistic_regression</td>\n",
       "      <td>0.869769</td>\n",
       "      <td>{'C': 5}</td>\n",
       "    </tr>\n",
       "    <tr>\n",
       "      <th>5</th>\n",
       "      <td>k nearest neibourgh</td>\n",
       "      <td>0.853137</td>\n",
       "      <td>{'n_neighbors': 6}</td>\n",
       "    </tr>\n",
       "    <tr>\n",
       "      <th>7</th>\n",
       "      <td>XGBoost</td>\n",
       "      <td>0.847047</td>\n",
       "      <td>{'booster': 'gblinear'}</td>\n",
       "    </tr>\n",
       "    <tr>\n",
       "      <th>1</th>\n",
       "      <td>random_forest</td>\n",
       "      <td>0.797162</td>\n",
       "      <td>{'n_estimators': 10}</td>\n",
       "    </tr>\n",
       "    <tr>\n",
       "      <th>2</th>\n",
       "      <td>decision tree</td>\n",
       "      <td>0.779717</td>\n",
       "      <td>{'criterion': 'entropy'}</td>\n",
       "    </tr>\n",
       "  </tbody>\n",
       "</table>\n",
       "</div>"
      ],
      "text/plain": [
       "                         model  best_score                   best_params\n",
       "0                          svm    0.876752  {'C': 1, 'kernel': 'linear'}\n",
       "4      multinomial naive bayes    0.874125               {'alpha': 0.25}\n",
       "6  Stochastic Gradient Descent    0.870635               {'loss': 'log'}\n",
       "3          logistic_regression    0.869769                      {'C': 5}\n",
       "5          k nearest neibourgh    0.853137            {'n_neighbors': 6}\n",
       "7                      XGBoost    0.847047       {'booster': 'gblinear'}\n",
       "1                random_forest    0.797162          {'n_estimators': 10}\n",
       "2                decision tree    0.779717      {'criterion': 'entropy'}"
      ]
     },
     "execution_count": 15,
     "metadata": {},
     "output_type": "execute_result"
    }
   ],
   "source": [
    "scores = []\n",
    "\n",
    "for model_name, mp in model_params.items():\n",
    "    clf =  GridSearchCV(mp['model'], mp['params'], cv=5, return_train_score=False)\n",
    "    clf.fit(x_train,y_train)\n",
    "    scores.append({\n",
    "        'model': model_name,\n",
    "        'best_score': clf.best_score_,\n",
    "        'best_params': clf.best_params_\n",
    "    })\n",
    "    \n",
    "df_score = pd.DataFrame(scores,columns=['model','best_score','best_params'])\n",
    "df_score.sort_values(by=['best_score'],ascending=False) \n"
   ]
  },
  {
   "cell_type": "code",
   "execution_count": 16,
   "id": "6ee63616",
   "metadata": {
    "execution": {
     "iopub.execute_input": "2022-04-17T20:57:22.135377Z",
     "iopub.status.busy": "2022-04-17T20:57:22.135020Z",
     "iopub.status.idle": "2022-04-17T20:57:22.156804Z",
     "shell.execute_reply": "2022-04-17T20:57:22.155925Z"
    },
    "id": "oSwcsGOE5ruk",
    "outputId": "6e2b056e-8c9f-4ae9-da67-99caa861fa55",
    "papermill": {
     "duration": 0.061992,
     "end_time": "2022-04-17T20:57:22.158970",
     "exception": false,
     "start_time": "2022-04-17T20:57:22.096978",
     "status": "completed"
    },
    "tags": []
   },
   "outputs": [
    {
     "name": "stdout",
     "output_type": "stream",
     "text": [
      "Classification Report TF-IDF Unigram\n",
      "              precision    recall  f1-score   support\n",
      "\n",
      "           0       0.87      0.94      0.90       154\n",
      "           1       0.92      0.84      0.88       133\n",
      "\n",
      "    accuracy                           0.89       287\n",
      "   macro avg       0.90      0.89      0.89       287\n",
      "weighted avg       0.89      0.89      0.89       287\n",
      "\n"
     ]
    }
   ],
   "source": [
    "y_pred=clf.best_estimator_.predict(x_test)\n",
    "y_pred = y_pred.reshape(-1,1)\n",
    "print('Classification Report TF-IDF Unigram')\n",
    "print(classification_report(y_test,y_pred))"
   ]
  },
  {
   "cell_type": "code",
   "execution_count": 17,
   "id": "42bcd1df",
   "metadata": {
    "execution": {
     "iopub.execute_input": "2022-04-17T20:57:22.231620Z",
     "iopub.status.busy": "2022-04-17T20:57:22.231282Z",
     "iopub.status.idle": "2022-04-17T20:57:22.370670Z",
     "shell.execute_reply": "2022-04-17T20:57:22.369578Z"
    },
    "id": "3445pu3GjXDb",
    "papermill": {
     "duration": 0.179046,
     "end_time": "2022-04-17T20:57:22.373124",
     "exception": false,
     "start_time": "2022-04-17T20:57:22.194078",
     "status": "completed"
    },
    "tags": []
   },
   "outputs": [],
   "source": [
    "#TF-IDF Bigram\n",
    "tfidf_bigram = TfidfVectorizer(ngram_range=(1,2),use_idf=True,tokenizer=lambda x: x.split()) \n",
    "x_tfidf_bigram = tfidf_bigram.fit_transform(df['Text'])\n",
    "from sklearn.model_selection import train_test_split\n",
    "x_train, x_test, y_train, y_test = train_test_split(x_tfidf_bigram,df['Label'] , test_size=0.2, random_state=42)"
   ]
  },
  {
   "cell_type": "code",
   "execution_count": 18,
   "id": "469ecc6a",
   "metadata": {
    "execution": {
     "iopub.execute_input": "2022-04-17T20:57:22.446572Z",
     "iopub.status.busy": "2022-04-17T20:57:22.446183Z",
     "iopub.status.idle": "2022-04-17T20:57:55.553094Z",
     "shell.execute_reply": "2022-04-17T20:57:55.552034Z"
    },
    "id": "nvyLcPKhsIGf",
    "outputId": "b450e67c-429a-4aa9-f1bd-8c2ea9490657",
    "papermill": {
     "duration": 33.145846,
     "end_time": "2022-04-17T20:57:55.555471",
     "exception": false,
     "start_time": "2022-04-17T20:57:22.409625",
     "status": "completed"
    },
    "tags": []
   },
   "outputs": [
    {
     "name": "stdout",
     "output_type": "stream",
     "text": [
      "[20:57:38] WARNING: ../src/learner.cc:1115: Starting in XGBoost 1.3.0, the default evaluation metric used with the objective 'binary:logistic' was changed from 'error' to 'logloss'. Explicitly set eval_metric if you'd like to restore the old behavior.\n",
      "[20:57:39] WARNING: ../src/learner.cc:1115: Starting in XGBoost 1.3.0, the default evaluation metric used with the objective 'binary:logistic' was changed from 'error' to 'logloss'. Explicitly set eval_metric if you'd like to restore the old behavior.\n",
      "[20:57:40] WARNING: ../src/learner.cc:1115: Starting in XGBoost 1.3.0, the default evaluation metric used with the objective 'binary:logistic' was changed from 'error' to 'logloss'. Explicitly set eval_metric if you'd like to restore the old behavior.\n",
      "[20:57:41] WARNING: ../src/learner.cc:1115: Starting in XGBoost 1.3.0, the default evaluation metric used with the objective 'binary:logistic' was changed from 'error' to 'logloss'. Explicitly set eval_metric if you'd like to restore the old behavior.\n",
      "[20:57:42] WARNING: ../src/learner.cc:1115: Starting in XGBoost 1.3.0, the default evaluation metric used with the objective 'binary:logistic' was changed from 'error' to 'logloss'. Explicitly set eval_metric if you'd like to restore the old behavior.\n",
      "[20:57:44] WARNING: ../src/learner.cc:1115: Starting in XGBoost 1.3.0, the default evaluation metric used with the objective 'binary:logistic' was changed from 'error' to 'logloss'. Explicitly set eval_metric if you'd like to restore the old behavior.\n",
      "[20:57:44] WARNING: ../src/learner.cc:1115: Starting in XGBoost 1.3.0, the default evaluation metric used with the objective 'binary:logistic' was changed from 'error' to 'logloss'. Explicitly set eval_metric if you'd like to restore the old behavior.\n",
      "[20:57:44] WARNING: ../src/learner.cc:1115: Starting in XGBoost 1.3.0, the default evaluation metric used with the objective 'binary:logistic' was changed from 'error' to 'logloss'. Explicitly set eval_metric if you'd like to restore the old behavior.\n",
      "[20:57:45] WARNING: ../src/learner.cc:1115: Starting in XGBoost 1.3.0, the default evaluation metric used with the objective 'binary:logistic' was changed from 'error' to 'logloss'. Explicitly set eval_metric if you'd like to restore the old behavior.\n",
      "[20:57:45] WARNING: ../src/learner.cc:1115: Starting in XGBoost 1.3.0, the default evaluation metric used with the objective 'binary:logistic' was changed from 'error' to 'logloss'. Explicitly set eval_metric if you'd like to restore the old behavior.\n",
      "[20:57:46] WARNING: ../src/learner.cc:1115: Starting in XGBoost 1.3.0, the default evaluation metric used with the objective 'binary:logistic' was changed from 'error' to 'logloss'. Explicitly set eval_metric if you'd like to restore the old behavior.\n",
      "[20:57:47] WARNING: ../src/learner.cc:1115: Starting in XGBoost 1.3.0, the default evaluation metric used with the objective 'binary:logistic' was changed from 'error' to 'logloss'. Explicitly set eval_metric if you'd like to restore the old behavior.\n",
      "[20:57:49] WARNING: ../src/learner.cc:1115: Starting in XGBoost 1.3.0, the default evaluation metric used with the objective 'binary:logistic' was changed from 'error' to 'logloss'. Explicitly set eval_metric if you'd like to restore the old behavior.\n",
      "[20:57:51] WARNING: ../src/learner.cc:1115: Starting in XGBoost 1.3.0, the default evaluation metric used with the objective 'binary:logistic' was changed from 'error' to 'logloss'. Explicitly set eval_metric if you'd like to restore the old behavior.\n",
      "[20:57:53] WARNING: ../src/learner.cc:1115: Starting in XGBoost 1.3.0, the default evaluation metric used with the objective 'binary:logistic' was changed from 'error' to 'logloss'. Explicitly set eval_metric if you'd like to restore the old behavior.\n",
      "[20:57:55] WARNING: ../src/learner.cc:1115: Starting in XGBoost 1.3.0, the default evaluation metric used with the objective 'binary:logistic' was changed from 'error' to 'logloss'. Explicitly set eval_metric if you'd like to restore the old behavior.\n"
     ]
    },
    {
     "data": {
      "text/html": [
       "<div>\n",
       "<style scoped>\n",
       "    .dataframe tbody tr th:only-of-type {\n",
       "        vertical-align: middle;\n",
       "    }\n",
       "\n",
       "    .dataframe tbody tr th {\n",
       "        vertical-align: top;\n",
       "    }\n",
       "\n",
       "    .dataframe thead th {\n",
       "        text-align: right;\n",
       "    }\n",
       "</style>\n",
       "<table border=\"1\" class=\"dataframe\">\n",
       "  <thead>\n",
       "    <tr style=\"text-align: right;\">\n",
       "      <th></th>\n",
       "      <th>model</th>\n",
       "      <th>best_score</th>\n",
       "      <th>best_params</th>\n",
       "    </tr>\n",
       "  </thead>\n",
       "  <tbody>\n",
       "    <tr>\n",
       "      <th>0</th>\n",
       "      <td>svm</td>\n",
       "      <td>0.884624</td>\n",
       "      <td>{'C': 10, 'kernel': 'linear'}</td>\n",
       "    </tr>\n",
       "    <tr>\n",
       "      <th>4</th>\n",
       "      <td>multinomial naive bayes</td>\n",
       "      <td>0.877633</td>\n",
       "      <td>{'alpha': 0.2}</td>\n",
       "    </tr>\n",
       "    <tr>\n",
       "      <th>6</th>\n",
       "      <td>Stochastic Gradient Descent</td>\n",
       "      <td>0.875879</td>\n",
       "      <td>{'loss': 'log'}</td>\n",
       "    </tr>\n",
       "    <tr>\n",
       "      <th>3</th>\n",
       "      <td>logistic_regression</td>\n",
       "      <td>0.870639</td>\n",
       "      <td>{'C': 10}</td>\n",
       "    </tr>\n",
       "    <tr>\n",
       "      <th>5</th>\n",
       "      <td>k nearest neibourgh</td>\n",
       "      <td>0.868004</td>\n",
       "      <td>{'n_neighbors': 6}</td>\n",
       "    </tr>\n",
       "    <tr>\n",
       "      <th>7</th>\n",
       "      <td>XGBoost</td>\n",
       "      <td>0.847889</td>\n",
       "      <td>{'booster': 'gblinear'}</td>\n",
       "    </tr>\n",
       "    <tr>\n",
       "      <th>2</th>\n",
       "      <td>decision tree</td>\n",
       "      <td>0.798100</td>\n",
       "      <td>{'criterion': 'entropy'}</td>\n",
       "    </tr>\n",
       "    <tr>\n",
       "      <th>1</th>\n",
       "      <td>random_forest</td>\n",
       "      <td>0.792833</td>\n",
       "      <td>{'n_estimators': 10}</td>\n",
       "    </tr>\n",
       "  </tbody>\n",
       "</table>\n",
       "</div>"
      ],
      "text/plain": [
       "                         model  best_score                    best_params\n",
       "0                          svm    0.884624  {'C': 10, 'kernel': 'linear'}\n",
       "4      multinomial naive bayes    0.877633                 {'alpha': 0.2}\n",
       "6  Stochastic Gradient Descent    0.875879                {'loss': 'log'}\n",
       "3          logistic_regression    0.870639                      {'C': 10}\n",
       "5          k nearest neibourgh    0.868004             {'n_neighbors': 6}\n",
       "7                      XGBoost    0.847889        {'booster': 'gblinear'}\n",
       "2                decision tree    0.798100       {'criterion': 'entropy'}\n",
       "1                random_forest    0.792833           {'n_estimators': 10}"
      ]
     },
     "execution_count": 18,
     "metadata": {},
     "output_type": "execute_result"
    }
   ],
   "source": [
    "scores = []\n",
    "\n",
    "for model_name, mp in model_params.items():\n",
    "    clf =  GridSearchCV(mp['model'], mp['params'], cv=5, return_train_score=False)\n",
    "    clf.fit(x_train,y_train)\n",
    "    scores.append({\n",
    "        'model': model_name,\n",
    "        'best_score': clf.best_score_,\n",
    "        'best_params': clf.best_params_\n",
    "    })\n",
    "    \n",
    "df_score = pd.DataFrame(scores,columns=['model','best_score','best_params'])\n",
    "df_score.sort_values(by=['best_score'],ascending=False) \n"
   ]
  },
  {
   "cell_type": "code",
   "execution_count": 19,
   "id": "43338800",
   "metadata": {
    "execution": {
     "iopub.execute_input": "2022-04-17T20:57:55.639979Z",
     "iopub.status.busy": "2022-04-17T20:57:55.639646Z",
     "iopub.status.idle": "2022-04-17T20:57:55.661696Z",
     "shell.execute_reply": "2022-04-17T20:57:55.660660Z"
    },
    "id": "JMcAbRq-5xAH",
    "outputId": "f1b195ef-e847-43cb-e89d-617891a05da7",
    "papermill": {
     "duration": 0.066556,
     "end_time": "2022-04-17T20:57:55.664099",
     "exception": false,
     "start_time": "2022-04-17T20:57:55.597543",
     "status": "completed"
    },
    "tags": []
   },
   "outputs": [
    {
     "name": "stdout",
     "output_type": "stream",
     "text": [
      "Classification Report TF-IDF Bigram\n",
      "              precision    recall  f1-score   support\n",
      "\n",
      "           0       0.84      0.90      0.87       154\n",
      "           1       0.88      0.80      0.83       133\n",
      "\n",
      "    accuracy                           0.85       287\n",
      "   macro avg       0.86      0.85      0.85       287\n",
      "weighted avg       0.86      0.85      0.85       287\n",
      "\n"
     ]
    }
   ],
   "source": [
    "y_pred=clf.best_estimator_.predict(x_test)\n",
    "y_pred = y_pred.reshape(-1,1)\n",
    "print('Classification Report TF-IDF Bigram')\n",
    "print(classification_report(y_test,y_pred))"
   ]
  },
  {
   "cell_type": "code",
   "execution_count": 20,
   "id": "c0b8b53d",
   "metadata": {
    "execution": {
     "iopub.execute_input": "2022-04-17T20:57:55.747801Z",
     "iopub.status.busy": "2022-04-17T20:57:55.747068Z",
     "iopub.status.idle": "2022-04-17T20:57:56.018486Z",
     "shell.execute_reply": "2022-04-17T20:57:56.017596Z"
    },
    "id": "bfAO_fBnLpjM",
    "papermill": {
     "duration": 0.31611,
     "end_time": "2022-04-17T20:57:56.020854",
     "exception": false,
     "start_time": "2022-04-17T20:57:55.704744",
     "status": "completed"
    },
    "tags": []
   },
   "outputs": [],
   "source": [
    "#TF-IDF Trigram\n",
    "tfidf_trigram = TfidfVectorizer(ngram_range=(1,3),use_idf=True,tokenizer=lambda x: x.split()) \n",
    "x_tfidf_trigram = tfidf_trigram.fit_transform(df['Text'])\n",
    "from sklearn.model_selection import train_test_split\n",
    "x_train, x_test, y_train, y_test = train_test_split(x_tfidf_trigram,df['Label'] , test_size=0.2, random_state=42)"
   ]
  },
  {
   "cell_type": "code",
   "execution_count": 21,
   "id": "3761d87a",
   "metadata": {
    "execution": {
     "iopub.execute_input": "2022-04-17T20:57:56.104759Z",
     "iopub.status.busy": "2022-04-17T20:57:56.103828Z",
     "iopub.status.idle": "2022-04-17T20:58:39.416493Z",
     "shell.execute_reply": "2022-04-17T20:58:39.415738Z"
    },
    "id": "MiI_bwnBs6On",
    "outputId": "c3536850-dc8d-411f-f912-9b57b693bad5",
    "papermill": {
     "duration": 43.355574,
     "end_time": "2022-04-17T20:58:39.418371",
     "exception": false,
     "start_time": "2022-04-17T20:57:56.062797",
     "status": "completed"
    },
    "tags": []
   },
   "outputs": [
    {
     "name": "stdout",
     "output_type": "stream",
     "text": [
      "[20:58:15] WARNING: ../src/learner.cc:1115: Starting in XGBoost 1.3.0, the default evaluation metric used with the objective 'binary:logistic' was changed from 'error' to 'logloss'. Explicitly set eval_metric if you'd like to restore the old behavior.\n",
      "[20:58:17] WARNING: ../src/learner.cc:1115: Starting in XGBoost 1.3.0, the default evaluation metric used with the objective 'binary:logistic' was changed from 'error' to 'logloss'. Explicitly set eval_metric if you'd like to restore the old behavior.\n",
      "[20:58:19] WARNING: ../src/learner.cc:1115: Starting in XGBoost 1.3.0, the default evaluation metric used with the objective 'binary:logistic' was changed from 'error' to 'logloss'. Explicitly set eval_metric if you'd like to restore the old behavior.\n",
      "[20:58:20] WARNING: ../src/learner.cc:1115: Starting in XGBoost 1.3.0, the default evaluation metric used with the objective 'binary:logistic' was changed from 'error' to 'logloss'. Explicitly set eval_metric if you'd like to restore the old behavior.\n",
      "[20:58:22] WARNING: ../src/learner.cc:1115: Starting in XGBoost 1.3.0, the default evaluation metric used with the objective 'binary:logistic' was changed from 'error' to 'logloss'. Explicitly set eval_metric if you'd like to restore the old behavior.\n",
      "[20:58:24] WARNING: ../src/learner.cc:1115: Starting in XGBoost 1.3.0, the default evaluation metric used with the objective 'binary:logistic' was changed from 'error' to 'logloss'. Explicitly set eval_metric if you'd like to restore the old behavior.\n",
      "[20:58:24] WARNING: ../src/learner.cc:1115: Starting in XGBoost 1.3.0, the default evaluation metric used with the objective 'binary:logistic' was changed from 'error' to 'logloss'. Explicitly set eval_metric if you'd like to restore the old behavior.\n",
      "[20:58:25] WARNING: ../src/learner.cc:1115: Starting in XGBoost 1.3.0, the default evaluation metric used with the objective 'binary:logistic' was changed from 'error' to 'logloss'. Explicitly set eval_metric if you'd like to restore the old behavior.\n",
      "[20:58:25] WARNING: ../src/learner.cc:1115: Starting in XGBoost 1.3.0, the default evaluation metric used with the objective 'binary:logistic' was changed from 'error' to 'logloss'. Explicitly set eval_metric if you'd like to restore the old behavior.\n",
      "[20:58:26] WARNING: ../src/learner.cc:1115: Starting in XGBoost 1.3.0, the default evaluation metric used with the objective 'binary:logistic' was changed from 'error' to 'logloss'. Explicitly set eval_metric if you'd like to restore the old behavior.\n",
      "[20:58:26] WARNING: ../src/learner.cc:1115: Starting in XGBoost 1.3.0, the default evaluation metric used with the objective 'binary:logistic' was changed from 'error' to 'logloss'. Explicitly set eval_metric if you'd like to restore the old behavior.\n",
      "[20:58:29] WARNING: ../src/learner.cc:1115: Starting in XGBoost 1.3.0, the default evaluation metric used with the objective 'binary:logistic' was changed from 'error' to 'logloss'. Explicitly set eval_metric if you'd like to restore the old behavior.\n",
      "[20:58:31] WARNING: ../src/learner.cc:1115: Starting in XGBoost 1.3.0, the default evaluation metric used with the objective 'binary:logistic' was changed from 'error' to 'logloss'. Explicitly set eval_metric if you'd like to restore the old behavior.\n",
      "[20:58:33] WARNING: ../src/learner.cc:1115: Starting in XGBoost 1.3.0, the default evaluation metric used with the objective 'binary:logistic' was changed from 'error' to 'logloss'. Explicitly set eval_metric if you'd like to restore the old behavior.\n",
      "[20:58:36] WARNING: ../src/learner.cc:1115: Starting in XGBoost 1.3.0, the default evaluation metric used with the objective 'binary:logistic' was changed from 'error' to 'logloss'. Explicitly set eval_metric if you'd like to restore the old behavior.\n",
      "[20:58:38] WARNING: ../src/learner.cc:1115: Starting in XGBoost 1.3.0, the default evaluation metric used with the objective 'binary:logistic' was changed from 'error' to 'logloss'. Explicitly set eval_metric if you'd like to restore the old behavior.\n"
     ]
    },
    {
     "data": {
      "text/html": [
       "<div>\n",
       "<style scoped>\n",
       "    .dataframe tbody tr th:only-of-type {\n",
       "        vertical-align: middle;\n",
       "    }\n",
       "\n",
       "    .dataframe tbody tr th {\n",
       "        vertical-align: top;\n",
       "    }\n",
       "\n",
       "    .dataframe thead th {\n",
       "        text-align: right;\n",
       "    }\n",
       "</style>\n",
       "<table border=\"1\" class=\"dataframe\">\n",
       "  <thead>\n",
       "    <tr style=\"text-align: right;\">\n",
       "      <th></th>\n",
       "      <th>model</th>\n",
       "      <th>best_score</th>\n",
       "      <th>best_params</th>\n",
       "    </tr>\n",
       "  </thead>\n",
       "  <tbody>\n",
       "    <tr>\n",
       "      <th>4</th>\n",
       "      <td>multinomial naive bayes</td>\n",
       "      <td>0.881127</td>\n",
       "      <td>{'alpha': 0.25}</td>\n",
       "    </tr>\n",
       "    <tr>\n",
       "      <th>0</th>\n",
       "      <td>svm</td>\n",
       "      <td>0.875883</td>\n",
       "      <td>{'C': 10, 'kernel': 'linear'}</td>\n",
       "    </tr>\n",
       "    <tr>\n",
       "      <th>6</th>\n",
       "      <td>Stochastic Gradient Descent</td>\n",
       "      <td>0.871505</td>\n",
       "      <td>{'loss': 'log'}</td>\n",
       "    </tr>\n",
       "    <tr>\n",
       "      <th>3</th>\n",
       "      <td>logistic_regression</td>\n",
       "      <td>0.868881</td>\n",
       "      <td>{'C': 10}</td>\n",
       "    </tr>\n",
       "    <tr>\n",
       "      <th>5</th>\n",
       "      <td>k nearest neibourgh</td>\n",
       "      <td>0.863637</td>\n",
       "      <td>{'n_neighbors': 6}</td>\n",
       "    </tr>\n",
       "    <tr>\n",
       "      <th>7</th>\n",
       "      <td>XGBoost</td>\n",
       "      <td>0.859251</td>\n",
       "      <td>{'booster': 'gblinear'}</td>\n",
       "    </tr>\n",
       "    <tr>\n",
       "      <th>1</th>\n",
       "      <td>random_forest</td>\n",
       "      <td>0.796346</td>\n",
       "      <td>{'n_estimators': 10}</td>\n",
       "    </tr>\n",
       "    <tr>\n",
       "      <th>2</th>\n",
       "      <td>decision tree</td>\n",
       "      <td>0.785846</td>\n",
       "      <td>{'criterion': 'entropy'}</td>\n",
       "    </tr>\n",
       "  </tbody>\n",
       "</table>\n",
       "</div>"
      ],
      "text/plain": [
       "                         model  best_score                    best_params\n",
       "4      multinomial naive bayes    0.881127                {'alpha': 0.25}\n",
       "0                          svm    0.875883  {'C': 10, 'kernel': 'linear'}\n",
       "6  Stochastic Gradient Descent    0.871505                {'loss': 'log'}\n",
       "3          logistic_regression    0.868881                      {'C': 10}\n",
       "5          k nearest neibourgh    0.863637             {'n_neighbors': 6}\n",
       "7                      XGBoost    0.859251        {'booster': 'gblinear'}\n",
       "1                random_forest    0.796346           {'n_estimators': 10}\n",
       "2                decision tree    0.785846       {'criterion': 'entropy'}"
      ]
     },
     "execution_count": 21,
     "metadata": {},
     "output_type": "execute_result"
    }
   ],
   "source": [
    "scores = []\n",
    "\n",
    "for model_name, mp in model_params.items():\n",
    "    clf =  GridSearchCV(mp['model'], mp['params'], cv=5, return_train_score=False)\n",
    "    clf.fit(x_train,y_train)\n",
    "    scores.append({\n",
    "        'model': model_name,\n",
    "        'best_score': clf.best_score_,\n",
    "        'best_params': clf.best_params_\n",
    "    })\n",
    "    \n",
    "df_score = pd.DataFrame(scores,columns=['model','best_score','best_params'])\n",
    "df_score.sort_values(by=['best_score'],ascending=False) \n"
   ]
  },
  {
   "cell_type": "code",
   "execution_count": 22,
   "id": "0039b027",
   "metadata": {
    "execution": {
     "iopub.execute_input": "2022-04-17T20:58:39.510925Z",
     "iopub.status.busy": "2022-04-17T20:58:39.509923Z",
     "iopub.status.idle": "2022-04-17T20:58:39.527849Z",
     "shell.execute_reply": "2022-04-17T20:58:39.526866Z"
    },
    "id": "fcWkLQdT5ydf",
    "outputId": "36442684-d1eb-4606-9236-3fb01ba24504",
    "papermill": {
     "duration": 0.067082,
     "end_time": "2022-04-17T20:58:39.530599",
     "exception": false,
     "start_time": "2022-04-17T20:58:39.463517",
     "status": "completed"
    },
    "tags": []
   },
   "outputs": [
    {
     "name": "stdout",
     "output_type": "stream",
     "text": [
      "Classification Report TF-IDF Trigram\n",
      "              precision    recall  f1-score   support\n",
      "\n",
      "           0       0.82      0.92      0.87       154\n",
      "           1       0.89      0.77      0.82       133\n",
      "\n",
      "    accuracy                           0.85       287\n",
      "   macro avg       0.85      0.84      0.84       287\n",
      "weighted avg       0.85      0.85      0.85       287\n",
      "\n"
     ]
    }
   ],
   "source": [
    "y_pred=clf.best_estimator_.predict(x_test)\n",
    "y_pred = y_pred.reshape(-1,1)\n",
    "print('Classification Report TF-IDF Trigram')\n",
    "print(classification_report(y_test,y_pred))"
   ]
  }
 ],
 "metadata": {
  "kernelspec": {
   "display_name": "Python 3",
   "language": "python",
   "name": "python3"
  },
  "language_info": {
   "codemirror_mode": {
    "name": "ipython",
    "version": 3
   },
   "file_extension": ".py",
   "mimetype": "text/x-python",
   "name": "python",
   "nbconvert_exporter": "python",
   "pygments_lexer": "ipython3",
   "version": "3.7.12"
  },
  "papermill": {
   "default_parameters": {},
   "duration": 149.637161,
   "end_time": "2022-04-17T20:58:42.719832",
   "environment_variables": {},
   "exception": null,
   "input_path": "__notebook__.ipynb",
   "output_path": "__notebook__.ipynb",
   "parameters": {},
   "start_time": "2022-04-17T20:56:13.082671",
   "version": "2.3.4"
  }
 },
 "nbformat": 4,
 "nbformat_minor": 5
}
