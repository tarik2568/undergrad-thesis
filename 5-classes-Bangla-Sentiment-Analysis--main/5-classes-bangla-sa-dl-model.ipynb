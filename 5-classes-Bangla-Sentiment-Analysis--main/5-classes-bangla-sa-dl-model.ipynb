{
 "cells": [
  {
   "cell_type": "code",
   "execution_count": 1,
   "id": "aab997d4",
   "metadata": {
    "execution": {
     "iopub.execute_input": "2022-04-18T07:45:49.318134Z",
     "iopub.status.busy": "2022-04-18T07:45:49.317601Z",
     "iopub.status.idle": "2022-04-18T07:45:55.478460Z",
     "shell.execute_reply": "2022-04-18T07:45:55.477611Z"
    },
    "executionInfo": {
     "elapsed": 4510,
     "status": "ok",
     "timestamp": 1650196135200,
     "user": {
      "displayName": "Tarikul Islam Tamiti",
      "userId": "15593937258997902976"
     },
     "user_tz": -360
    },
    "id": "cA9gfvHXF9Pf",
    "papermill": {
     "duration": 6.192794,
     "end_time": "2022-04-18T07:45:55.481149",
     "exception": false,
     "start_time": "2022-04-18T07:45:49.288355",
     "status": "completed"
    },
    "tags": []
   },
   "outputs": [],
   "source": [
    "import numpy as np\n",
    "import keras\n",
    "import os\n",
    "import pandas as pd \n",
    "from keras.models import Sequential\n",
    "from keras.layers import Dense, Dropout, Embedding, LSTM, Bidirectional,MaxPooling1D\n",
    "import re\n",
    "import tensorflow as tf\n",
    "from keras.preprocessing.text import Tokenizer"
   ]
  },
  {
   "cell_type": "code",
   "execution_count": 2,
   "id": "1f46de00",
   "metadata": {
    "execution": {
     "iopub.execute_input": "2022-04-18T07:45:55.533102Z",
     "iopub.status.busy": "2022-04-18T07:45:55.532588Z",
     "iopub.status.idle": "2022-04-18T07:45:56.607220Z",
     "shell.execute_reply": "2022-04-18T07:45:56.606330Z"
    },
    "executionInfo": {
     "elapsed": 42,
     "status": "ok",
     "timestamp": 1650196135202,
     "user": {
      "displayName": "Tarikul Islam Tamiti",
      "userId": "15593937258997902976"
     },
     "user_tz": -360
    },
    "id": "Jpe5cLafG9mO",
    "papermill": {
     "duration": 1.103375,
     "end_time": "2022-04-18T07:45:56.609485",
     "exception": false,
     "start_time": "2022-04-18T07:45:55.506110",
     "status": "completed"
    },
    "tags": []
   },
   "outputs": [],
   "source": [
    "from keras.preprocessing.sequence import pad_sequences\n",
    "from keras.layers import Activation, Conv2D, Input, Embedding, Reshape, MaxPool1D, Concatenate, Flatten, Dropout, Dense, Conv1D,GRU\n",
    "from keras.models import Model\n",
    "from keras.callbacks import ModelCheckpoint\n",
    "from tensorflow.keras.optimizers import Adam,SGD\n",
    "import warnings\n",
    "warnings.filterwarnings('ignore')\n",
    "import seaborn as sns"
   ]
  },
  {
   "cell_type": "code",
   "execution_count": 3,
   "id": "b0f79519",
   "metadata": {
    "execution": {
     "iopub.execute_input": "2022-04-18T07:45:56.659560Z",
     "iopub.status.busy": "2022-04-18T07:45:56.659272Z",
     "iopub.status.idle": "2022-04-18T07:45:56.672641Z",
     "shell.execute_reply": "2022-04-18T07:45:56.672062Z"
    },
    "executionInfo": {
     "elapsed": 41,
     "status": "ok",
     "timestamp": 1650196135203,
     "user": {
      "displayName": "Tarikul Islam Tamiti",
      "userId": "15593937258997902976"
     },
     "user_tz": -360
    },
    "id": "wjKugvjRh6Ib",
    "outputId": "99d81dc7-028f-4831-f26c-e7720da231af",
    "papermill": {
     "duration": 0.040738,
     "end_time": "2022-04-18T07:45:56.674818",
     "exception": false,
     "start_time": "2022-04-18T07:45:56.634080",
     "status": "completed"
    },
    "tags": []
   },
   "outputs": [
    {
     "name": "stdout",
     "output_type": "stream",
     "text": [
      "Number of replicas: 1\n"
     ]
    }
   ],
   "source": [
    "try:\n",
    "    tpu = tf.distribute.cluster_resolver.TPUClusterResolver()\n",
    "    tf.config.experimental_connect_to_cluster(tpu)\n",
    "    tf.tpu.experimental.initialize_tpu_system(tpu)\n",
    "    strategy = tf.distribute.experimental.TPUStrategy(tpu)\n",
    "except ValueError:\n",
    "    strategy = tf.distribute.get_strategy() # for CPU and single GPU\n",
    "    print('Number of replicas:', strategy.num_replicas_in_sync)"
   ]
  },
  {
   "cell_type": "code",
   "execution_count": 4,
   "id": "f60b720d",
   "metadata": {
    "execution": {
     "iopub.execute_input": "2022-04-18T07:45:56.728564Z",
     "iopub.status.busy": "2022-04-18T07:45:56.728131Z",
     "iopub.status.idle": "2022-04-18T07:46:09.266942Z",
     "shell.execute_reply": "2022-04-18T07:46:09.265938Z"
    },
    "executionInfo": {
     "elapsed": 26745,
     "status": "ok",
     "timestamp": 1650196161915,
     "user": {
      "displayName": "Tarikul Islam Tamiti",
      "userId": "15593937258997902976"
     },
     "user_tz": -360
    },
    "id": "gDQrCbO5lMz8",
    "outputId": "87ce70b5-450f-409c-a9af-d3569120b5fc",
    "papermill": {
     "duration": 12.567573,
     "end_time": "2022-04-18T07:46:09.270021",
     "exception": false,
     "start_time": "2022-04-18T07:45:56.702448",
     "status": "completed"
    },
    "tags": []
   },
   "outputs": [
    {
     "name": "stdout",
     "output_type": "stream",
     "text": [
      "Collecting openpyxl\r\n",
      "  Downloading openpyxl-3.0.9-py2.py3-none-any.whl (242 kB)\r\n",
      "\u001b[2K     \u001b[90m━━━━━━━━━━━━━━━━━━━━━━━━━━━━━━━━━━━━━\u001b[0m \u001b[32m242.2/242.2 KB\u001b[0m \u001b[31m449.0 kB/s\u001b[0m eta \u001b[36m0:00:00\u001b[0m\r\n",
      "\u001b[?25hCollecting et-xmlfile\r\n",
      "  Downloading et_xmlfile-1.1.0-py3-none-any.whl (4.7 kB)\r\n",
      "Installing collected packages: et-xmlfile, openpyxl\r\n",
      "Successfully installed et-xmlfile-1.1.0 openpyxl-3.0.9\r\n",
      "\u001b[33mWARNING: Running pip as the 'root' user can result in broken permissions and conflicting behaviour with the system package manager. It is recommended to use a virtual environment instead: https://pip.pypa.io/warnings/venv\u001b[0m\u001b[33m\r\n",
      "\u001b[0mNote: you may need to restart the kernel to use updated packages.\n"
     ]
    }
   ],
   "source": [
    "pip install openpyxl"
   ]
  },
  {
   "cell_type": "code",
   "execution_count": 5,
   "id": "1a651cfc",
   "metadata": {
    "execution": {
     "iopub.execute_input": "2022-04-18T07:46:09.332255Z",
     "iopub.status.busy": "2022-04-18T07:46:09.331695Z",
     "iopub.status.idle": "2022-04-18T07:46:09.341525Z",
     "shell.execute_reply": "2022-04-18T07:46:09.340677Z"
    },
    "papermill": {
     "duration": 0.042509,
     "end_time": "2022-04-18T07:46:09.343310",
     "exception": false,
     "start_time": "2022-04-18T07:46:09.300801",
     "status": "completed"
    },
    "tags": []
   },
   "outputs": [
    {
     "name": "stdout",
     "output_type": "stream",
     "text": [
      "/kaggle/input/5-classes-bangla-sentiment-analysis-dataset/Bert_Preprocessed_5_classes_Dataset.xlsx\n"
     ]
    }
   ],
   "source": [
    "for dirname, _, filenames in os.walk('/kaggle/input'):\n",
    "    for filename in filenames:\n",
    "        print(os.path.join(dirname, filename))"
   ]
  },
  {
   "cell_type": "code",
   "execution_count": 6,
   "id": "a2ec940a",
   "metadata": {
    "execution": {
     "iopub.execute_input": "2022-04-18T07:46:09.405134Z",
     "iopub.status.busy": "2022-04-18T07:46:09.404826Z",
     "iopub.status.idle": "2022-04-18T07:46:12.195892Z",
     "shell.execute_reply": "2022-04-18T07:46:12.194863Z"
    },
    "executionInfo": {
     "elapsed": 5377,
     "status": "ok",
     "timestamp": 1650196167284,
     "user": {
      "displayName": "Tarikul Islam Tamiti",
      "userId": "15593937258997902976"
     },
     "user_tz": -360
    },
    "id": "bYJPUMdaG-Em",
    "outputId": "b2550e2d-2b87-4cde-bec2-773434839df7",
    "papermill": {
     "duration": 2.824831,
     "end_time": "2022-04-18T07:46:12.198076",
     "exception": false,
     "start_time": "2022-04-18T07:46:09.373245",
     "status": "completed"
    },
    "tags": []
   },
   "outputs": [
    {
     "name": "stdout",
     "output_type": "stream",
     "text": [
      "<class 'pandas.core.frame.DataFrame'>\n",
      "RangeIndex: 13802 entries, 0 to 13801\n",
      "Data columns (total 7 columns):\n",
      " #   Column      Non-Null Count  Dtype \n",
      "---  ------      --------------  ----- \n",
      " 0   Unnamed: 0  13802 non-null  int64 \n",
      " 1   Index       13802 non-null  int64 \n",
      " 2   Text        13800 non-null  object\n",
      " 3   Sentiment   13802 non-null  object\n",
      " 4   Label       13802 non-null  int64 \n",
      " 5   Token       13802 non-null  object\n",
      " 6   Token_ID    13802 non-null  object\n",
      "dtypes: int64(3), object(4)\n",
      "memory usage: 754.9+ KB\n"
     ]
    }
   ],
   "source": [
    "df=pd.read_excel('/kaggle/input/5-classes-bangla-sentiment-analysis-dataset/Bert_Preprocessed_5_classes_Dataset.xlsx')\n",
    "df.info()"
   ]
  },
  {
   "cell_type": "code",
   "execution_count": 7,
   "id": "a51c427b",
   "metadata": {
    "execution": {
     "iopub.execute_input": "2022-04-18T07:46:12.260398Z",
     "iopub.status.busy": "2022-04-18T07:46:12.260133Z",
     "iopub.status.idle": "2022-04-18T07:46:12.277728Z",
     "shell.execute_reply": "2022-04-18T07:46:12.276920Z"
    },
    "executionInfo": {
     "elapsed": 32,
     "status": "ok",
     "timestamp": 1650196167286,
     "user": {
      "displayName": "Tarikul Islam Tamiti",
      "userId": "15593937258997902976"
     },
     "user_tz": -360
    },
    "id": "2a942aV3HsFL",
    "outputId": "71b98750-4c2a-4793-e3b4-176dec263dcb",
    "papermill": {
     "duration": 0.051163,
     "end_time": "2022-04-18T07:46:12.279839",
     "exception": false,
     "start_time": "2022-04-18T07:46:12.228676",
     "status": "completed"
    },
    "tags": []
   },
   "outputs": [
    {
     "data": {
      "text/html": [
       "<div>\n",
       "<style scoped>\n",
       "    .dataframe tbody tr th:only-of-type {\n",
       "        vertical-align: middle;\n",
       "    }\n",
       "\n",
       "    .dataframe tbody tr th {\n",
       "        vertical-align: top;\n",
       "    }\n",
       "\n",
       "    .dataframe thead th {\n",
       "        text-align: right;\n",
       "    }\n",
       "</style>\n",
       "<table border=\"1\" class=\"dataframe\">\n",
       "  <thead>\n",
       "    <tr style=\"text-align: right;\">\n",
       "      <th></th>\n",
       "      <th>Unnamed: 0</th>\n",
       "      <th>Index</th>\n",
       "      <th>Text</th>\n",
       "      <th>Sentiment</th>\n",
       "      <th>Label</th>\n",
       "      <th>Token</th>\n",
       "      <th>Token_ID</th>\n",
       "    </tr>\n",
       "  </thead>\n",
       "  <tbody>\n",
       "    <tr>\n",
       "      <th>0</th>\n",
       "      <td>4068</td>\n",
       "      <td>4068</td>\n",
       "      <td>প্রথম আলোর উচিত হা হা রিএক্ট চালু করা</td>\n",
       "      <td>Positive</td>\n",
       "      <td>2</td>\n",
       "      <td>['পর', '##থম', 'আলে', '##ার', 'উচিত', 'হা', 'হ...</td>\n",
       "      <td>[2076, 25492, 24182, 3187, 2351, 7725, 7725, 6...</td>\n",
       "    </tr>\n",
       "    <tr>\n",
       "      <th>1</th>\n",
       "      <td>10991</td>\n",
       "      <td>10991</td>\n",
       "      <td>শ্রীলংকার সাথে সাকিব যেদিন আম্পায়ারদের ভুল সি...</td>\n",
       "      <td>Positive</td>\n",
       "      <td>2</td>\n",
       "      <td>['শর', '##ীল', '##ংকার', 'সাথে', 'সাকিব', 'যেদ...</td>\n",
       "      <td>[14033, 36600, 62021, 2179, 4798, 9012, 5027, ...</td>\n",
       "    </tr>\n",
       "    <tr>\n",
       "      <th>2</th>\n",
       "      <td>1072</td>\n",
       "      <td>1072</td>\n",
       "      <td>যেকোনো ব্যবসা প্রতিষ্ঠান সরকারের হাতে থাকলেই চ...</td>\n",
       "      <td>Very Negative</td>\n",
       "      <td>3</td>\n",
       "      <td>['যে', '##কে', '##ানে', '##া', 'ব', '##যব', '#...</td>\n",
       "      <td>[2060, 2071, 31044, 2395, 5740, 69734, 6240, 5...</td>\n",
       "    </tr>\n",
       "    <tr>\n",
       "      <th>3</th>\n",
       "      <td>1040</td>\n",
       "      <td>1040</td>\n",
       "      <td>তম হয়ে পাস করেছি মিস্টি বিতরণ করা হোক</td>\n",
       "      <td>Very Positive</td>\n",
       "      <td>4</td>\n",
       "      <td>['তম', 'হয', '##ে', 'পাস', 'করেছি', 'মিস', '##...</td>\n",
       "      <td>[2380, 33668, 2094, 3094, 3267, 3139, 2294, 55...</td>\n",
       "    </tr>\n",
       "    <tr>\n",
       "      <th>4</th>\n",
       "      <td>8099</td>\n",
       "      <td>8099</td>\n",
       "      <td>কারখানা খুব লাভ করেছে এই অজুহাতে আবার বেতন বাড়...</td>\n",
       "      <td>Neutral</td>\n",
       "      <td>1</td>\n",
       "      <td>['কারখানা', 'খ', '##ব', 'লাভ', 'করেছে', 'এই', ...</td>\n",
       "      <td>[4234, 5356, 4282, 2325, 2124, 2045, 28867, 29...</td>\n",
       "    </tr>\n",
       "  </tbody>\n",
       "</table>\n",
       "</div>"
      ],
      "text/plain": [
       "   Unnamed: 0  Index                                               Text  \\\n",
       "0        4068   4068              প্রথম আলোর উচিত হা হা রিএক্ট চালু করা   \n",
       "1       10991  10991  শ্রীলংকার সাথে সাকিব যেদিন আম্পায়ারদের ভুল সি...   \n",
       "2        1072   1072  যেকোনো ব্যবসা প্রতিষ্ঠান সরকারের হাতে থাকলেই চ...   \n",
       "3        1040   1040              তম হয়ে পাস করেছি মিস্টি বিতরণ করা হোক   \n",
       "4        8099   8099  কারখানা খুব লাভ করেছে এই অজুহাতে আবার বেতন বাড়...   \n",
       "\n",
       "       Sentiment  Label                                              Token  \\\n",
       "0       Positive      2  ['পর', '##থম', 'আলে', '##ার', 'উচিত', 'হা', 'হ...   \n",
       "1       Positive      2  ['শর', '##ীল', '##ংকার', 'সাথে', 'সাকিব', 'যেদ...   \n",
       "2  Very Negative      3  ['যে', '##কে', '##ানে', '##া', 'ব', '##যব', '#...   \n",
       "3  Very Positive      4  ['তম', 'হয', '##ে', 'পাস', 'করেছি', 'মিস', '##...   \n",
       "4        Neutral      1  ['কারখানা', 'খ', '##ব', 'লাভ', 'করেছে', 'এই', ...   \n",
       "\n",
       "                                            Token_ID  \n",
       "0  [2076, 25492, 24182, 3187, 2351, 7725, 7725, 6...  \n",
       "1  [14033, 36600, 62021, 2179, 4798, 9012, 5027, ...  \n",
       "2  [2060, 2071, 31044, 2395, 5740, 69734, 6240, 5...  \n",
       "3  [2380, 33668, 2094, 3094, 3267, 3139, 2294, 55...  \n",
       "4  [4234, 5356, 4282, 2325, 2124, 2045, 28867, 29...  "
      ]
     },
     "execution_count": 7,
     "metadata": {},
     "output_type": "execute_result"
    }
   ],
   "source": [
    "df.head()"
   ]
  },
  {
   "cell_type": "code",
   "execution_count": 8,
   "id": "8c6c7a87",
   "metadata": {
    "execution": {
     "iopub.execute_input": "2022-04-18T07:46:12.342623Z",
     "iopub.status.busy": "2022-04-18T07:46:12.341843Z",
     "iopub.status.idle": "2022-04-18T07:46:12.345549Z",
     "shell.execute_reply": "2022-04-18T07:46:12.344931Z"
    },
    "executionInfo": {
     "elapsed": 21,
     "status": "ok",
     "timestamp": 1650196167287,
     "user": {
      "displayName": "Tarikul Islam Tamiti",
      "userId": "15593937258997902976"
     },
     "user_tz": -360
    },
    "id": "0974PQSTyL7R",
    "papermill": {
     "duration": 0.036942,
     "end_time": "2022-04-18T07:46:12.347446",
     "exception": false,
     "start_time": "2022-04-18T07:46:12.310504",
     "status": "completed"
    },
    "tags": []
   },
   "outputs": [],
   "source": [
    "#df = df.dropna(subset=['Sentiment'])"
   ]
  },
  {
   "cell_type": "code",
   "execution_count": 9,
   "id": "052638de",
   "metadata": {
    "execution": {
     "iopub.execute_input": "2022-04-18T07:46:12.409927Z",
     "iopub.status.busy": "2022-04-18T07:46:12.409662Z",
     "iopub.status.idle": "2022-04-18T07:46:12.645076Z",
     "shell.execute_reply": "2022-04-18T07:46:12.644415Z"
    },
    "executionInfo": {
     "elapsed": 22,
     "status": "ok",
     "timestamp": 1650196167288,
     "user": {
      "displayName": "Tarikul Islam Tamiti",
      "userId": "15593937258997902976"
     },
     "user_tz": -360
    },
    "id": "Sj60gbfOPeEt",
    "outputId": "6d25e56d-6fe9-424b-e437-76e0b147316f",
    "papermill": {
     "duration": 0.269137,
     "end_time": "2022-04-18T07:46:12.646903",
     "exception": false,
     "start_time": "2022-04-18T07:46:12.377766",
     "status": "completed"
    },
    "tags": []
   },
   "outputs": [
    {
     "data": {
      "text/plain": [
       "<AxesSubplot:xlabel='Sentiment', ylabel='count'>"
      ]
     },
     "execution_count": 9,
     "metadata": {},
     "output_type": "execute_result"
    },
    {
     "data": {
      "image/png": "[encoded data removed]",
      "text/plain": [
       "<Figure size 432x288 with 1 Axes>"
      ]
     },
     "metadata": {
      "needs_background": "light"
     },
     "output_type": "display_data"
    }
   ],
   "source": [
    "sns.countplot(df['Sentiment'])"
   ]
  },
  {
   "cell_type": "code",
   "execution_count": 10,
   "id": "a9591996",
   "metadata": {
    "execution": {
     "iopub.execute_input": "2022-04-18T07:46:12.711902Z",
     "iopub.status.busy": "2022-04-18T07:46:12.711292Z",
     "iopub.status.idle": "2022-04-18T07:46:12.719252Z",
     "shell.execute_reply": "2022-04-18T07:46:12.718371Z"
    },
    "executionInfo": {
     "elapsed": 19,
     "status": "ok",
     "timestamp": 1650196167289,
     "user": {
      "displayName": "Tarikul Islam Tamiti",
      "userId": "15593937258997902976"
     },
     "user_tz": -360
    },
    "id": "WRCNknbiKpDh",
    "outputId": "cad5ddd7-2f50-4de2-be5d-c416de58b2a9",
    "papermill": {
     "duration": 0.042392,
     "end_time": "2022-04-18T07:46:12.721144",
     "exception": false,
     "start_time": "2022-04-18T07:46:12.678752",
     "status": "completed"
    },
    "tags": []
   },
   "outputs": [
    {
     "data": {
      "text/plain": [
       "(Very Negative    3928\n",
       " Negative         3198\n",
       " Neutral          2951\n",
       " Very Positive    2280\n",
       " Positive         1445\n",
       " Name: Sentiment, dtype: int64,\n",
       " 13802)"
      ]
     },
     "execution_count": 10,
     "metadata": {},
     "output_type": "execute_result"
    }
   ],
   "source": [
    "df.Sentiment.value_counts(), len(df)"
   ]
  },
  {
   "cell_type": "code",
   "execution_count": 11,
   "id": "b3ba1e03",
   "metadata": {
    "execution": {
     "iopub.execute_input": "2022-04-18T07:46:12.788550Z",
     "iopub.status.busy": "2022-04-18T07:46:12.788251Z",
     "iopub.status.idle": "2022-04-18T07:46:12.792244Z",
     "shell.execute_reply": "2022-04-18T07:46:12.791428Z"
    },
    "executionInfo": {
     "elapsed": 18,
     "status": "ok",
     "timestamp": 1650196167290,
     "user": {
      "displayName": "Tarikul Islam Tamiti",
      "userId": "15593937258997902976"
     },
     "user_tz": -360
    },
    "id": "iD41Re2Nyq7y",
    "papermill": {
     "duration": 0.039354,
     "end_time": "2022-04-18T07:46:12.793904",
     "exception": false,
     "start_time": "2022-04-18T07:46:12.754550",
     "status": "completed"
    },
    "tags": []
   },
   "outputs": [],
   "source": [
    "maxlen = 100\n",
    "max_features = 30000\n",
    "batch_size = 32"
   ]
  },
  {
   "cell_type": "code",
   "execution_count": 12,
   "id": "786ab82d",
   "metadata": {
    "execution": {
     "iopub.execute_input": "2022-04-18T07:46:12.859376Z",
     "iopub.status.busy": "2022-04-18T07:46:12.858278Z",
     "iopub.status.idle": "2022-04-18T07:46:12.864501Z",
     "shell.execute_reply": "2022-04-18T07:46:12.863936Z"
    },
    "executionInfo": {
     "elapsed": 601,
     "status": "ok",
     "timestamp": 1650196167873,
     "user": {
      "displayName": "Tarikul Islam Tamiti",
      "userId": "15593937258997902976"
     },
     "user_tz": -360
    },
    "id": "qWquWbCX66U5",
    "papermill": {
     "duration": 0.04087,
     "end_time": "2022-04-18T07:46:12.866365",
     "exception": false,
     "start_time": "2022-04-18T07:46:12.825495",
     "status": "completed"
    },
    "tags": []
   },
   "outputs": [],
   "source": [
    "df['Text']=df['Text'].astype('str')"
   ]
  },
  {
   "cell_type": "code",
   "execution_count": 13,
   "id": "12f5bce6",
   "metadata": {
    "execution": {
     "iopub.execute_input": "2022-04-18T07:46:12.931797Z",
     "iopub.status.busy": "2022-04-18T07:46:12.931274Z",
     "iopub.status.idle": "2022-04-18T07:46:12.936912Z",
     "shell.execute_reply": "2022-04-18T07:46:12.936374Z"
    },
    "executionInfo": {
     "elapsed": 6,
     "status": "ok",
     "timestamp": 1650196167874,
     "user": {
      "displayName": "Tarikul Islam Tamiti",
      "userId": "15593937258997902976"
     },
     "user_tz": -360
    },
    "id": "mQrVLb-JyyIm",
    "papermill": {
     "duration": 0.04036,
     "end_time": "2022-04-18T07:46:12.938469",
     "exception": false,
     "start_time": "2022-04-18T07:46:12.898109",
     "status": "completed"
    },
    "tags": []
   },
   "outputs": [],
   "source": [
    "train=df[:int(.8*len(df))]\n",
    "test=df[int(.8*len(df)):int(.9*len(df))]\n",
    "validation=df[int(.9*len(df)):]\n",
    "x_train=train['Text']\n",
    "y_train=train['Label']\n",
    "x_validation=validation['Text']\n",
    "y_validation=validation['Label']\n",
    "x_test=test['Text']\n",
    "y_test=test['Label']"
   ]
  },
  {
   "cell_type": "markdown",
   "id": "2d9ac5f8",
   "metadata": {
    "papermill": {
     "duration": 0.032524,
     "end_time": "2022-04-18T07:46:13.002809",
     "exception": false,
     "start_time": "2022-04-18T07:46:12.970285",
     "status": "completed"
    },
    "tags": []
   },
   "source": [
    "from sklearn.model_selection import train_test_split\n",
    "x_train, x_test, y_train, y_test = train_test_split(df['Text'],df['Label'] , test_size=0.1,random_state=2)\n",
    "x_train, x_validation, y_train, y_validation = train_test_split(df['Text'],df['Label'],test_size=0.1,random_state=24)"
   ]
  },
  {
   "cell_type": "markdown",
   "id": "99f1339d",
   "metadata": {
    "papermill": {
     "duration": 0.032797,
     "end_time": "2022-04-18T07:46:13.067196",
     "exception": false,
     "start_time": "2022-04-18T07:46:13.034399",
     "status": "completed"
    },
    "tags": []
   },
   "source": [
    "train=df[:int(.8*len(df))]\n",
    "test=df[int(.8*len(df)):int(.9*len(df))]\n",
    "validation=df[int(.9*len(df)):]\n",
    "x_train=train['Text']\n",
    "y_train=train['Label']\n",
    "x_validation=validation['Text']\n",
    "y_validation=validation['Label']\n",
    "x_test=test['Text']\n",
    "y_test=test['Label']"
   ]
  },
  {
   "cell_type": "code",
   "execution_count": 14,
   "id": "3ad046e3",
   "metadata": {
    "execution": {
     "iopub.execute_input": "2022-04-18T07:46:13.134015Z",
     "iopub.status.busy": "2022-04-18T07:46:13.133465Z",
     "iopub.status.idle": "2022-04-18T07:46:14.099726Z",
     "shell.execute_reply": "2022-04-18T07:46:14.098879Z"
    },
    "executionInfo": {
     "elapsed": 749,
     "status": "ok",
     "timestamp": 1650196168618,
     "user": {
      "displayName": "Tarikul Islam Tamiti",
      "userId": "15593937258997902976"
     },
     "user_tz": -360
    },
    "id": "FhuOo8BSHy8x",
    "papermill": {
     "duration": 1.003078,
     "end_time": "2022-04-18T07:46:14.102113",
     "exception": false,
     "start_time": "2022-04-18T07:46:13.099035",
     "status": "completed"
    },
    "tags": []
   },
   "outputs": [],
   "source": [
    "tokenizer  = Tokenizer(num_words = max_features,oov_token = \"<OOV>\",split=' ',char_level=False)\n",
    "tokenizer.fit_on_texts(df['Text'])\n",
    "vocab_size=len(tokenizer.word_index)+1\n",
    "\n",
    "train_seq =  tokenizer.texts_to_sequences(x_train)\n",
    "val_seq =  tokenizer.texts_to_sequences(x_validation)\n",
    "test_seq = tokenizer.texts_to_sequences(x_test)"
   ]
  },
  {
   "cell_type": "code",
   "execution_count": 15,
   "id": "fb73518b",
   "metadata": {
    "execution": {
     "iopub.execute_input": "2022-04-18T07:46:14.171095Z",
     "iopub.status.busy": "2022-04-18T07:46:14.170441Z",
     "iopub.status.idle": "2022-04-18T07:46:14.226218Z",
     "shell.execute_reply": "2022-04-18T07:46:14.225366Z"
    },
    "executionInfo": {
     "elapsed": 10,
     "status": "ok",
     "timestamp": 1650196168619,
     "user": {
      "displayName": "Tarikul Islam Tamiti",
      "userId": "15593937258997902976"
     },
     "user_tz": -360
    },
    "id": "UNo9JlvBKflj",
    "papermill": {
     "duration": 0.092402,
     "end_time": "2022-04-18T07:46:14.228455",
     "exception": false,
     "start_time": "2022-04-18T07:46:14.136053",
     "status": "completed"
    },
    "tags": []
   },
   "outputs": [],
   "source": [
    "x_train = pad_sequences(train_seq, maxlen=maxlen, dtype='int32', padding='post',truncating='post',value=0) #maxlen = maxlen, padding='post')\n",
    "x_validation = pad_sequences(val_seq, maxlen=maxlen, dtype='int32', padding='post',truncating='post',value=0) #maxlen = maxlen, padding='post')\n",
    "x_test = pad_sequences(test_seq, maxlen=maxlen, dtype='int32', padding='post',truncating='post',value=0) #maxlen = maxlen, padding='post')"
   ]
  },
  {
   "cell_type": "code",
   "execution_count": 16,
   "id": "f36d2f71",
   "metadata": {
    "execution": {
     "iopub.execute_input": "2022-04-18T07:46:14.298140Z",
     "iopub.status.busy": "2022-04-18T07:46:14.297443Z",
     "iopub.status.idle": "2022-04-18T07:46:14.649839Z",
     "shell.execute_reply": "2022-04-18T07:46:14.649164Z"
    },
    "papermill": {
     "duration": 0.389805,
     "end_time": "2022-04-18T07:46:14.652030",
     "exception": false,
     "start_time": "2022-04-18T07:46:14.262225",
     "status": "completed"
    },
    "tags": []
   },
   "outputs": [],
   "source": [
    "from sklearn.utils import class_weight\n",
    "class_weight=class_weight.compute_class_weight(class_weight='balanced',classes=np.unique(y_train),y=y_train)\n",
    "weight={i:class_weight[i] for i in range(5)}\n"
   ]
  },
  {
   "cell_type": "code",
   "execution_count": 17,
   "id": "17767f92",
   "metadata": {
    "execution": {
     "iopub.execute_input": "2022-04-18T07:46:14.721911Z",
     "iopub.status.busy": "2022-04-18T07:46:14.721616Z",
     "iopub.status.idle": "2022-04-18T07:46:14.725727Z",
     "shell.execute_reply": "2022-04-18T07:46:14.724945Z"
    },
    "papermill": {
     "duration": 0.041808,
     "end_time": "2022-04-18T07:46:14.728269",
     "exception": false,
     "start_time": "2022-04-18T07:46:14.686461",
     "status": "completed"
    },
    "tags": []
   },
   "outputs": [
    {
     "name": "stdout",
     "output_type": "stream",
     "text": [
      "{0: 0.865282131661442, 1: 0.949763440860215, 2: 1.8729431721798133, 3: 0.697914032869785, 4: 1.212630422844591}\n"
     ]
    }
   ],
   "source": [
    "print(weight)"
   ]
  },
  {
   "cell_type": "code",
   "execution_count": 18,
   "id": "7572d24f",
   "metadata": {
    "execution": {
     "iopub.execute_input": "2022-04-18T07:46:14.796971Z",
     "iopub.status.busy": "2022-04-18T07:46:14.796421Z",
     "iopub.status.idle": "2022-04-18T07:46:14.870059Z",
     "shell.execute_reply": "2022-04-18T07:46:14.868816Z"
    },
    "executionInfo": {
     "elapsed": 594,
     "status": "ok",
     "timestamp": 1650196169205,
     "user": {
      "displayName": "Tarikul Islam Tamiti",
      "userId": "15593937258997902976"
     },
     "user_tz": -360
    },
    "id": "Zj0elZfBg5lI",
    "papermill": {
     "duration": 0.110615,
     "end_time": "2022-04-18T07:46:14.871941",
     "exception": false,
     "start_time": "2022-04-18T07:46:14.761326",
     "status": "completed"
    },
    "tags": []
   },
   "outputs": [
    {
     "name": "stderr",
     "output_type": "stream",
     "text": [
      "2022-04-18 07:46:14.828344: I tensorflow/core/common_runtime/process_util.cc:146] Creating new thread pool with default inter op setting: 2. Tune using inter_op_parallelism_threads for best performance.\n"
     ]
    }
   ],
   "source": [
    "METRICS = [\n",
    "      tf.keras.metrics.SparseCategoricalAccuracy(name='sparse_categorical_accuracy'),\n",
    "      tf.keras.metrics.Precision(name='precision'),\n",
    "      tf.keras.metrics.Recall(name='recall')\n",
    "]"
   ]
  },
  {
   "cell_type": "code",
   "execution_count": 19,
   "id": "b354a331",
   "metadata": {
    "execution": {
     "iopub.execute_input": "2022-04-18T07:46:14.943248Z",
     "iopub.status.busy": "2022-04-18T07:46:14.942898Z",
     "iopub.status.idle": "2022-04-18T07:46:15.605144Z",
     "shell.execute_reply": "2022-04-18T07:46:15.604320Z"
    },
    "executionInfo": {
     "elapsed": 1688,
     "status": "ok",
     "timestamp": 1650196170888,
     "user": {
      "displayName": "Tarikul Islam Tamiti",
      "userId": "15593937258997902976"
     },
     "user_tz": -360
    },
    "id": "YQGTZx4HQk2J",
    "outputId": "c67ad640-d5f0-4236-a5ee-59f6ed9923ea",
    "papermill": {
     "duration": 0.699881,
     "end_time": "2022-04-18T07:46:15.607516",
     "exception": false,
     "start_time": "2022-04-18T07:46:14.907635",
     "status": "completed"
    },
    "tags": []
   },
   "outputs": [
    {
     "name": "stdout",
     "output_type": "stream",
     "text": [
      "Model: \"sequential\"\n",
      "_________________________________________________________________\n",
      "Layer (type)                 Output Shape              Param #   \n",
      "=================================================================\n",
      "Embedding (Embedding)        (None, 100, 50)           1747250   \n",
      "_________________________________________________________________\n",
      "max_pooling1d (MaxPooling1D) (None, 20, 50)            0         \n",
      "_________________________________________________________________\n",
      "bidirectional (Bidirectional (None, 20, 100)           40400     \n",
      "_________________________________________________________________\n",
      "dropout (Dropout)            (None, 20, 100)           0         \n",
      "_________________________________________________________________\n",
      "dense (Dense)                (None, 20, 50)            5050      \n",
      "_________________________________________________________________\n",
      "flatten (Flatten)            (None, 1000)              0         \n",
      "_________________________________________________________________\n",
      "dense_1 (Dense)              (None, 5)                 5005      \n",
      "=================================================================\n",
      "Total params: 1,797,705\n",
      "Trainable params: 1,797,705\n",
      "Non-trainable params: 0\n",
      "_________________________________________________________________\n"
     ]
    }
   ],
   "source": [
    "model= Sequential()\n",
    "model.add(Embedding(vocab_size,50,input_length=maxlen,name='Embedding'))\n",
    "#model.add(Conv1D(200, kernel_size=5, activation = \"relu\"))\n",
    "model.add(MaxPooling1D(5))\n",
    "model.add(Bidirectional(LSTM(50, return_sequences=True,dropout=.2)))\n",
    "#model.add(Bidirectional(GRU(50, return_sequences=True,dropout=.2)))\n",
    "model.add(Dropout(0.25))\n",
    "#model.add(Bidirectional(LSTM(64)))\n",
    "#model.add(Dropout(0.1))\n",
    "model.add(Dense(50, activation='relu'))\n",
    "#model.add(Dropout(0.2))\n",
    "#model.add(Dense(25, activation='relu'))\n",
    "#model.add(Dropout(0.1))\n",
    "#model.add(Dense(12, activation='relu'))\n",
    "model.add(Flatten())\n",
    "model.add(Dense(units=5, activation='softmax'))\n",
    "adam=Adam(learning_rate=0.001)\n",
    "model.summary()\n",
    "model.compile(loss='sparse_categorical_crossentropy',optimizer=adam,metrics=['accuracy'])\n",
    "\n"
   ]
  },
  {
   "cell_type": "code",
   "execution_count": 20,
   "id": "fe3b234c",
   "metadata": {
    "execution": {
     "iopub.execute_input": "2022-04-18T07:46:15.676073Z",
     "iopub.status.busy": "2022-04-18T07:46:15.675297Z",
     "iopub.status.idle": "2022-04-18T07:46:15.679337Z",
     "shell.execute_reply": "2022-04-18T07:46:15.678806Z"
    },
    "papermill": {
     "duration": 0.039842,
     "end_time": "2022-04-18T07:46:15.680985",
     "exception": false,
     "start_time": "2022-04-18T07:46:15.641143",
     "status": "completed"
    },
    "tags": []
   },
   "outputs": [],
   "source": [
    "early_stopping = keras.callbacks.EarlyStopping(\n",
    "    patience=15,\n",
    "    min_delta=0.001,\n",
    "    restore_best_weights=True,\n",
    ")"
   ]
  },
  {
   "cell_type": "code",
   "execution_count": 21,
   "id": "139df272",
   "metadata": {
    "execution": {
     "iopub.execute_input": "2022-04-18T07:46:15.752100Z",
     "iopub.status.busy": "2022-04-18T07:46:15.751647Z",
     "iopub.status.idle": "2022-04-18T07:50:18.511197Z",
     "shell.execute_reply": "2022-04-18T07:50:18.510368Z"
    },
    "id": "_z-j3HPJwOXz",
    "papermill": {
     "duration": 242.797084,
     "end_time": "2022-04-18T07:50:18.513158",
     "exception": false,
     "start_time": "2022-04-18T07:46:15.716074",
     "status": "completed"
    },
    "tags": []
   },
   "outputs": [
    {
     "name": "stderr",
     "output_type": "stream",
     "text": [
      "2022-04-18 07:46:15.819648: I tensorflow/compiler/mlir/mlir_graph_optimization_pass.cc:185] None of the MLIR Optimization Passes are enabled (registered 2)\n"
     ]
    },
    {
     "name": "stdout",
     "output_type": "stream",
     "text": [
      "Epoch 1/30\n",
      "346/346 [==============================] - 20s 46ms/step - loss: 1.6081 - accuracy: 0.1972 - val_loss: 1.6034 - val_accuracy: 0.2810\n",
      "Epoch 2/30\n",
      "346/346 [==============================] - 15s 44ms/step - loss: 1.5597 - accuracy: 0.2860 - val_loss: 1.6226 - val_accuracy: 0.2107\n",
      "Epoch 3/30\n",
      "346/346 [==============================] - 15s 43ms/step - loss: 1.2155 - accuracy: 0.4985 - val_loss: 1.8207 - val_accuracy: 0.2766\n",
      "Epoch 4/30\n",
      "346/346 [==============================] - 15s 44ms/step - loss: 0.7469 - accuracy: 0.7054 - val_loss: 2.0814 - val_accuracy: 0.2715\n",
      "Epoch 5/30\n",
      "346/346 [==============================] - 15s 42ms/step - loss: 0.4771 - accuracy: 0.8206 - val_loss: 2.7425 - val_accuracy: 0.2621\n",
      "Epoch 6/30\n",
      "346/346 [==============================] - 15s 44ms/step - loss: 0.3223 - accuracy: 0.8838 - val_loss: 2.6532 - val_accuracy: 0.2701\n",
      "Epoch 7/30\n",
      "346/346 [==============================] - 15s 42ms/step - loss: 0.2680 - accuracy: 0.9107 - val_loss: 3.0901 - val_accuracy: 0.2578\n",
      "Epoch 8/30\n",
      "346/346 [==============================] - 15s 44ms/step - loss: 0.1851 - accuracy: 0.9388 - val_loss: 3.0556 - val_accuracy: 0.2766\n",
      "Epoch 9/30\n",
      "346/346 [==============================] - 14s 41ms/step - loss: 0.1552 - accuracy: 0.9512 - val_loss: 3.5546 - val_accuracy: 0.2600\n",
      "Epoch 10/30\n",
      "346/346 [==============================] - 15s 44ms/step - loss: 0.1360 - accuracy: 0.9592 - val_loss: 3.2212 - val_accuracy: 0.2650\n",
      "Epoch 11/30\n",
      "346/346 [==============================] - 14s 42ms/step - loss: 0.1129 - accuracy: 0.9662 - val_loss: 3.3365 - val_accuracy: 0.2621\n",
      "Epoch 12/30\n",
      "346/346 [==============================] - 15s 44ms/step - loss: 0.1090 - accuracy: 0.9669 - val_loss: 3.7125 - val_accuracy: 0.2723\n",
      "Epoch 13/30\n",
      "346/346 [==============================] - 15s 42ms/step - loss: 0.1001 - accuracy: 0.9687 - val_loss: 3.4448 - val_accuracy: 0.2657\n",
      "Epoch 14/30\n",
      "346/346 [==============================] - 14s 42ms/step - loss: 0.0961 - accuracy: 0.9706 - val_loss: 3.8884 - val_accuracy: 0.2571\n",
      "Epoch 15/30\n",
      "346/346 [==============================] - 15s 44ms/step - loss: 0.0867 - accuracy: 0.9717 - val_loss: 4.0494 - val_accuracy: 0.2520\n",
      "Epoch 16/30\n",
      "346/346 [==============================] - 14s 42ms/step - loss: 0.0772 - accuracy: 0.9745 - val_loss: 3.6171 - val_accuracy: 0.2592\n"
     ]
    }
   ],
   "source": [
    "history = model.fit(x_train, y_train, batch_size=batch_size, \n",
    "                    epochs=30,callbacks=[early_stopping], verbose=1, \n",
    "                    validation_data=(x_validation, y_validation),\n",
    "                    class_weight=weight)"
   ]
  },
  {
   "cell_type": "code",
   "execution_count": 22,
   "id": "c9ef4e9c",
   "metadata": {
    "execution": {
     "iopub.execute_input": "2022-04-18T07:50:20.119303Z",
     "iopub.status.busy": "2022-04-18T07:50:20.119037Z",
     "iopub.status.idle": "2022-04-18T07:50:20.122755Z",
     "shell.execute_reply": "2022-04-18T07:50:20.121949Z"
    },
    "id": "BufhfPKEib8x",
    "papermill": {
     "duration": 0.803677,
     "end_time": "2022-04-18T07:50:20.124568",
     "exception": false,
     "start_time": "2022-04-18T07:50:19.320891",
     "status": "completed"
    },
    "tags": []
   },
   "outputs": [],
   "source": [
    "#tf.keras.utils.plot_model(model, to_file='model.png', show_shapes=False, show_dtype=False,show_layer_names=True, rankdir='TB', expand_nested=False, dpi=96)"
   ]
  },
  {
   "cell_type": "code",
   "execution_count": 23,
   "id": "8e9a2368",
   "metadata": {
    "execution": {
     "iopub.execute_input": "2022-04-18T07:50:21.786953Z",
     "iopub.status.busy": "2022-04-18T07:50:21.786143Z",
     "iopub.status.idle": "2022-04-18T07:50:21.789569Z",
     "shell.execute_reply": "2022-04-18T07:50:21.789008Z"
    },
    "id": "DL8gFOQVhpKX",
    "papermill": {
     "duration": 0.871673,
     "end_time": "2022-04-18T07:50:21.791279",
     "exception": false,
     "start_time": "2022-04-18T07:50:20.919606",
     "status": "completed"
    },
    "tags": []
   },
   "outputs": [],
   "source": [
    "#model.evaluate(x_test, y_test)"
   ]
  },
  {
   "cell_type": "code",
   "execution_count": 24,
   "id": "041ca883",
   "metadata": {
    "execution": {
     "iopub.execute_input": "2022-04-18T07:50:23.428102Z",
     "iopub.status.busy": "2022-04-18T07:50:23.427368Z",
     "iopub.status.idle": "2022-04-18T07:50:23.701762Z",
     "shell.execute_reply": "2022-04-18T07:50:23.700957Z"
    },
    "id": "uoR8NGShwRjP",
    "papermill": {
     "duration": 1.110339,
     "end_time": "2022-04-18T07:50:23.703941",
     "exception": false,
     "start_time": "2022-04-18T07:50:22.593602",
     "status": "completed"
    },
    "tags": []
   },
   "outputs": [
    {
     "data": {
      "image/png": "[encoded data removed]",
      "text/plain": [
       "<Figure size 432x288 with 1 Axes>"
      ]
     },
     "metadata": {
      "needs_background": "light"
     },
     "output_type": "display_data"
    }
   ],
   "source": [
    "import matplotlib.pyplot as plt\n",
    "\n",
    "plt.plot(history.history['accuracy'], label=\"Accuracy\")\n",
    "plt.plot(history.history['val_accuracy'], label=\"Validation accuracy\")\n",
    "plt.title('Accuracy')\n",
    "plt.xlabel('Epoch')\n",
    "plt.ylabel('Accuracy')\n",
    "plt.legend()\n",
    "plt.tight_layout()\n",
    "plt.show()"
   ]
  },
  {
   "cell_type": "code",
   "execution_count": 25,
   "id": "d705e6bb",
   "metadata": {
    "execution": {
     "iopub.execute_input": "2022-04-18T07:50:25.394963Z",
     "iopub.status.busy": "2022-04-18T07:50:25.394466Z",
     "iopub.status.idle": "2022-04-18T07:50:25.638769Z",
     "shell.execute_reply": "2022-04-18T07:50:25.637914Z"
    },
    "id": "fri9rt64QPvJ",
    "papermill": {
     "duration": 1.07555,
     "end_time": "2022-04-18T07:50:25.640731",
     "exception": false,
     "start_time": "2022-04-18T07:50:24.565181",
     "status": "completed"
    },
    "tags": []
   },
   "outputs": [
    {
     "data": {
      "image/png": "[encoded data removed]",
      "text/plain": [
       "<Figure size 432x288 with 1 Axes>"
      ]
     },
     "metadata": {
      "needs_background": "light"
     },
     "output_type": "display_data"
    }
   ],
   "source": [
    "import matplotlib.pyplot as plt\n",
    "\n",
    "plt.plot(history.history['loss'], label=\"Train loss\")\n",
    "plt.plot(history.history['val_loss'], label=\"Validation loss\")\n",
    "plt.title('Loss')\n",
    "plt.xlabel('Epoch')\n",
    "plt.ylabel('Loss')\n",
    "plt.legend()\n",
    "plt.tight_layout()\n",
    "plt.show()"
   ]
  },
  {
   "cell_type": "code",
   "execution_count": 26,
   "id": "bf1f786a",
   "metadata": {
    "execution": {
     "iopub.execute_input": "2022-04-18T07:50:27.301985Z",
     "iopub.status.busy": "2022-04-18T07:50:27.301688Z",
     "iopub.status.idle": "2022-04-18T07:50:28.899428Z",
     "shell.execute_reply": "2022-04-18T07:50:28.898521Z"
    },
    "id": "23UFRz2Q2lx-",
    "papermill": {
     "duration": 2.42657,
     "end_time": "2022-04-18T07:50:28.901965",
     "exception": false,
     "start_time": "2022-04-18T07:50:26.475395",
     "status": "completed"
    },
    "tags": []
   },
   "outputs": [],
   "source": [
    "from sklearn.metrics import classification_report\n",
    "\n",
    "y_pred = model.predict(x_test)\n",
    "y_pred = np.argmax(y_pred,axis=1)"
   ]
  },
  {
   "cell_type": "code",
   "execution_count": 27,
   "id": "4b7bd2f7",
   "metadata": {
    "execution": {
     "iopub.execute_input": "2022-04-18T07:50:30.534818Z",
     "iopub.status.busy": "2022-04-18T07:50:30.534568Z",
     "iopub.status.idle": "2022-04-18T07:50:30.538731Z",
     "shell.execute_reply": "2022-04-18T07:50:30.538125Z"
    },
    "id": "g1NOM2RYxJzw",
    "papermill": {
     "duration": 0.811184,
     "end_time": "2022-04-18T07:50:30.540663",
     "exception": false,
     "start_time": "2022-04-18T07:50:29.729479",
     "status": "completed"
    },
    "tags": []
   },
   "outputs": [
    {
     "name": "stdout",
     "output_type": "stream",
     "text": [
      "(1380,)\n",
      "(1380,)\n"
     ]
    }
   ],
   "source": [
    "print(y_test.shape)\n",
    "print(y_pred.shape)"
   ]
  },
  {
   "cell_type": "code",
   "execution_count": 28,
   "id": "86f16c8c",
   "metadata": {
    "execution": {
     "iopub.execute_input": "2022-04-18T07:50:32.196588Z",
     "iopub.status.busy": "2022-04-18T07:50:32.196301Z",
     "iopub.status.idle": "2022-04-18T07:50:32.199388Z",
     "shell.execute_reply": "2022-04-18T07:50:32.198610Z"
    },
    "id": "q2EeVkZSxdBQ",
    "papermill": {
     "duration": 0.861688,
     "end_time": "2022-04-18T07:50:32.201094",
     "exception": false,
     "start_time": "2022-04-18T07:50:31.339406",
     "status": "completed"
    },
    "tags": []
   },
   "outputs": [],
   "source": [
    "#print(y_pred)\n",
    "#print(y_test)"
   ]
  },
  {
   "cell_type": "code",
   "execution_count": 29,
   "id": "49bd0f8f",
   "metadata": {
    "execution": {
     "iopub.execute_input": "2022-04-18T07:50:33.808083Z",
     "iopub.status.busy": "2022-04-18T07:50:33.807518Z",
     "iopub.status.idle": "2022-04-18T07:50:33.811246Z",
     "shell.execute_reply": "2022-04-18T07:50:33.810536Z"
    },
    "id": "YxnWgmftRbvK",
    "papermill": {
     "duration": 0.812855,
     "end_time": "2022-04-18T07:50:33.813058",
     "exception": false,
     "start_time": "2022-04-18T07:50:33.000203",
     "status": "completed"
    },
    "tags": []
   },
   "outputs": [],
   "source": [
    "y_pred = y_pred.reshape(-1,1)"
   ]
  },
  {
   "cell_type": "code",
   "execution_count": 30,
   "id": "41468051",
   "metadata": {
    "execution": {
     "iopub.execute_input": "2022-04-18T07:50:35.426707Z",
     "iopub.status.busy": "2022-04-18T07:50:35.426155Z",
     "iopub.status.idle": "2022-04-18T07:50:35.438968Z",
     "shell.execute_reply": "2022-04-18T07:50:35.438222Z"
    },
    "id": "9ptikYIFxPH5",
    "papermill": {
     "duration": 0.826553,
     "end_time": "2022-04-18T07:50:35.440813",
     "exception": false,
     "start_time": "2022-04-18T07:50:34.614260",
     "status": "completed"
    },
    "tags": []
   },
   "outputs": [
    {
     "name": "stdout",
     "output_type": "stream",
     "text": [
      "              precision    recall  f1-score   support\n",
      "\n",
      "           0       0.00      0.00      0.00       337\n",
      "           1       0.20      0.02      0.03       316\n",
      "           2       0.00      0.00      0.00       113\n",
      "           3       0.28      0.77      0.42       374\n",
      "           4       0.21      0.29      0.24       240\n",
      "\n",
      "    accuracy                           0.26      1380\n",
      "   macro avg       0.14      0.22      0.14      1380\n",
      "weighted avg       0.16      0.26      0.16      1380\n",
      "\n"
     ]
    }
   ],
   "source": [
    "categories = ['0', '1','2','3','4']\n",
    "print(classification_report(y_test, y_pred))"
   ]
  },
  {
   "cell_type": "code",
   "execution_count": 31,
   "id": "5a91f0ef",
   "metadata": {
    "execution": {
     "iopub.execute_input": "2022-04-18T07:50:37.056813Z",
     "iopub.status.busy": "2022-04-18T07:50:37.056529Z",
     "iopub.status.idle": "2022-04-18T07:50:37.505745Z",
     "shell.execute_reply": "2022-04-18T07:50:37.504931Z"
    },
    "id": "AtYBYIbgRAhi",
    "papermill": {
     "duration": 1.25553,
     "end_time": "2022-04-18T07:50:37.507782",
     "exception": false,
     "start_time": "2022-04-18T07:50:36.252252",
     "status": "completed"
    },
    "tags": []
   },
   "outputs": [
    {
     "data": {
      "image/png": "[encoded data removed]",
      "text/plain": [
       "<Figure size 1152x1008 with 2 Axes>"
      ]
     },
     "metadata": {
      "needs_background": "light"
     },
     "output_type": "display_data"
    }
   ],
   "source": [
    "import seaborn as sns\n",
    "import matplotlib.pyplot as plt\n",
    "\n",
    "### Confusion Matrix\n",
    "from sklearn.metrics import confusion_matrix\n",
    "#predictions = model.predict(x_test, steps=len(x_test), verbose=0)\n",
    "#y_pred=model.predict(x_test)\n",
    "#y_pred = np.round(y_pred)\n",
    "\n",
    "\n",
    "cm = confusion_matrix(y_test, y_pred)\n",
    "\n",
    "## Get Class Labels\n",
    "labels = 5\n",
    "#[0,1,2,3,4,5]_\n",
    "class_names = categories \n",
    "\n",
    "# Plot confusion matrix in a beautiful manner\n",
    "fig = plt.figure(figsize=(16, 14))\n",
    "ax= plt.subplot()\n",
    "sns.heatmap(cm, annot=True, ax = ax, fmt = 'g'); #annot=True to annotate cells\n",
    "# labels, title and ticks\n",
    "ax.set_xlabel('Predicted', fontsize=20)\n",
    "ax.xaxis.set_label_position('bottom')\n",
    "plt.xticks(rotation=90)\n",
    "ax.xaxis.set_ticklabels(class_names, fontsize = 10)\n",
    "ax.xaxis.tick_bottom()\n",
    "\n",
    "ax.set_ylabel('True', fontsize=20)\n",
    "ax.yaxis.set_ticklabels(class_names, fontsize = 10)\n",
    "plt.yticks(rotation=0)\n",
    "\n",
    "plt.title('Refined Confusion Matrix', fontsize=20)\n",
    "\n",
    "plt.savefig('ConMat24.png')\n",
    "plt.show()\n"
   ]
  }
 ],
 "metadata": {
  "kernelspec": {
   "display_name": "Python 3",
   "language": "python",
   "name": "python3"
  },
  "language_info": {
   "codemirror_mode": {
    "name": "ipython",
    "version": 3
   },
   "file_extension": ".py",
   "mimetype": "text/x-python",
   "name": "python",
   "nbconvert_exporter": "python",
   "pygments_lexer": "ipython3",
   "version": "3.7.12"
  },
  "papermill": {
   "default_parameters": {},
   "duration": 300.885661,
   "end_time": "2022-04-18T07:50:41.600745",
   "environment_variables": {},
   "exception": null,
   "input_path": "__notebook__.ipynb",
   "output_path": "__notebook__.ipynb",
   "parameters": {},
   "start_time": "2022-04-18T07:45:40.715084",
   "version": "2.3.4"
  }
 },
 "nbformat": 4,
 "nbformat_minor": 5
}
