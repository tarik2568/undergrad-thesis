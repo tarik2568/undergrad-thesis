{
 "cells": [
  {
   "cell_type": "code",
   "execution_count": 1,
   "id": "23d96726",
   "metadata": {
    "_cell_guid": "b1076dfc-b9ad-4769-8c92-a6c4dae69d19",
    "_uuid": "8f2839f25d086af736a60e9eeb907d3b93b6e0e5",
    "execution": {
     "iopub.execute_input": "2022-04-25T16:59:28.350591Z",
     "iopub.status.busy": "2022-04-25T16:59:28.349079Z",
     "iopub.status.idle": "2022-04-25T16:59:37.607707Z",
     "shell.execute_reply": "2022-04-25T16:59:37.606689Z",
     "shell.execute_reply.started": "2022-04-25T16:25:59.362921Z"
    },
    "papermill": {
     "duration": 9.294687,
     "end_time": "2022-04-25T16:59:37.607882",
     "exception": false,
     "start_time": "2022-04-25T16:59:28.313195",
     "status": "completed"
    },
    "tags": []
   },
   "outputs": [
    {
     "name": "stdout",
     "output_type": "stream",
     "text": [
      "Requirement already satisfied: transformers in /opt/conda/lib/python3.7/site-packages (4.16.2)\r\n",
      "Requirement already satisfied: filelock in /opt/conda/lib/python3.7/site-packages (from transformers) (3.6.0)\r\n",
      "Requirement already satisfied: sacremoses in /opt/conda/lib/python3.7/site-packages (from transformers) (0.0.49)\r\n",
      "Requirement already satisfied: requests in /opt/conda/lib/python3.7/site-packages (from transformers) (2.26.0)\r\n",
      "Requirement already satisfied: pyyaml>=5.1 in /opt/conda/lib/python3.7/site-packages (from transformers) (6.0)\r\n",
      "Requirement already satisfied: tokenizers!=0.11.3,>=0.10.1 in /opt/conda/lib/python3.7/site-packages (from transformers) (0.11.6)\r\n",
      "Requirement already satisfied: regex!=2019.12.17 in /opt/conda/lib/python3.7/site-packages (from transformers) (2021.11.10)\r\n",
      "Requirement already satisfied: tqdm>=4.27 in /opt/conda/lib/python3.7/site-packages (from transformers) (4.62.3)\r\n",
      "Requirement already satisfied: numpy>=1.17 in /opt/conda/lib/python3.7/site-packages (from transformers) (1.20.3)\r\n",
      "Requirement already satisfied: importlib-metadata in /opt/conda/lib/python3.7/site-packages (from transformers) (4.11.3)\r\n",
      "Requirement already satisfied: huggingface-hub<1.0,>=0.1.0 in /opt/conda/lib/python3.7/site-packages (from transformers) (0.4.0)\r\n",
      "Requirement already satisfied: packaging>=20.0 in /opt/conda/lib/python3.7/site-packages (from transformers) (21.3)\r\n",
      "Requirement already satisfied: typing-extensions>=3.7.4.3 in /opt/conda/lib/python3.7/site-packages (from huggingface-hub<1.0,>=0.1.0->transformers) (4.1.1)\r\n",
      "Requirement already satisfied: pyparsing!=3.0.5,>=2.0.2 in /opt/conda/lib/python3.7/site-packages (from packaging>=20.0->transformers) (3.0.6)\r\n",
      "Requirement already satisfied: zipp>=0.5 in /opt/conda/lib/python3.7/site-packages (from importlib-metadata->transformers) (3.6.0)\r\n",
      "Requirement already satisfied: urllib3<1.27,>=1.21.1 in /opt/conda/lib/python3.7/site-packages (from requests->transformers) (1.26.7)\r\n",
      "Requirement already satisfied: charset-normalizer~=2.0.0 in /opt/conda/lib/python3.7/site-packages (from requests->transformers) (2.0.9)\r\n",
      "Requirement already satisfied: certifi>=2017.4.17 in /opt/conda/lib/python3.7/site-packages (from requests->transformers) (2021.10.8)\r\n",
      "Requirement already satisfied: idna<4,>=2.5 in /opt/conda/lib/python3.7/site-packages (from requests->transformers) (3.1)\r\n",
      "Requirement already satisfied: joblib in /opt/conda/lib/python3.7/site-packages (from sacremoses->transformers) (1.1.0)\r\n",
      "Requirement already satisfied: click in /opt/conda/lib/python3.7/site-packages (from sacremoses->transformers) (8.0.3)\r\n",
      "Requirement already satisfied: six in /opt/conda/lib/python3.7/site-packages (from sacremoses->transformers) (1.16.0)\r\n",
      "\u001b[33mWARNING: Running pip as the 'root' user can result in broken permissions and conflicting behaviour with the system package manager. It is recommended to use a virtual environment instead: https://pip.pypa.io/warnings/venv\u001b[0m\r\n"
     ]
    }
   ],
   "source": [
    " !pip install transformers"
   ]
  },
  {
   "cell_type": "code",
   "execution_count": 2,
   "id": "9658de62",
   "metadata": {
    "execution": {
     "iopub.execute_input": "2022-04-25T16:59:37.661411Z",
     "iopub.status.busy": "2022-04-25T16:59:37.658595Z",
     "iopub.status.idle": "2022-04-25T16:59:37.664345Z",
     "shell.execute_reply": "2022-04-25T16:59:37.663740Z",
     "shell.execute_reply.started": "2022-04-25T16:26:07.998141Z"
    },
    "papermill": {
     "duration": 0.031693,
     "end_time": "2022-04-25T16:59:37.664474",
     "exception": false,
     "start_time": "2022-04-25T16:59:37.632781",
     "status": "completed"
    },
    "tags": []
   },
   "outputs": [],
   "source": [
    "import os\n",
    "import pandas as pd\n",
    "import numpy as np"
   ]
  },
  {
   "cell_type": "code",
   "execution_count": 3,
   "id": "1b3cdedd",
   "metadata": {
    "execution": {
     "iopub.execute_input": "2022-04-25T16:59:37.717446Z",
     "iopub.status.busy": "2022-04-25T16:59:37.716603Z",
     "iopub.status.idle": "2022-04-25T16:59:46.661310Z",
     "shell.execute_reply": "2022-04-25T16:59:46.660763Z",
     "shell.execute_reply.started": "2022-04-25T16:26:08.004946Z"
    },
    "papermill": {
     "duration": 8.973103,
     "end_time": "2022-04-25T16:59:46.661436",
     "exception": false,
     "start_time": "2022-04-25T16:59:37.688333",
     "status": "completed"
    },
    "tags": []
   },
   "outputs": [
    {
     "name": "stdout",
     "output_type": "stream",
     "text": [
      "Collecting openpyxl\r\n",
      "  Downloading openpyxl-3.0.9-py2.py3-none-any.whl (242 kB)\r\n",
      "     |████████████████████████████████| 242 kB 518 kB/s            \r\n",
      "\u001b[?25hCollecting et-xmlfile\r\n",
      "  Downloading et_xmlfile-1.1.0-py3-none-any.whl (4.7 kB)\r\n",
      "Installing collected packages: et-xmlfile, openpyxl\r\n",
      "Successfully installed et-xmlfile-1.1.0 openpyxl-3.0.9\r\n",
      "\u001b[33mWARNING: Running pip as the 'root' user can result in broken permissions and conflicting behaviour with the system package manager. It is recommended to use a virtual environment instead: https://pip.pypa.io/warnings/venv\u001b[0m\r\n",
      "Note: you may need to restart the kernel to use updated packages.\n"
     ]
    }
   ],
   "source": [
    "pip install openpyxl"
   ]
  },
  {
   "cell_type": "code",
   "execution_count": 4,
   "id": "2be7a904",
   "metadata": {
    "execution": {
     "iopub.execute_input": "2022-04-25T16:59:46.714126Z",
     "iopub.status.busy": "2022-04-25T16:59:46.713417Z",
     "iopub.status.idle": "2022-04-25T16:59:46.720581Z",
     "shell.execute_reply": "2022-04-25T16:59:46.720950Z",
     "shell.execute_reply.started": "2022-04-25T16:26:17.025657Z"
    },
    "papermill": {
     "duration": 0.035817,
     "end_time": "2022-04-25T16:59:46.721121",
     "exception": false,
     "start_time": "2022-04-25T16:59:46.685304",
     "status": "completed"
    },
    "tags": []
   },
   "outputs": [
    {
     "name": "stdout",
     "output_type": "stream",
     "text": [
      "/kaggle/input/3-classes-bangla-sa/3_classes_Bert_Preprocessed__Dataset.xlsx\n"
     ]
    }
   ],
   "source": [
    "for dirname, _, filenames in os.walk('/kaggle/input'):\n",
    "    for filename in filenames:\n",
    "        print(os.path.join(dirname, filename))"
   ]
  },
  {
   "cell_type": "code",
   "execution_count": 5,
   "id": "79d6fbe0",
   "metadata": {
    "execution": {
     "iopub.execute_input": "2022-04-25T16:59:46.776028Z",
     "iopub.status.busy": "2022-04-25T16:59:46.775246Z",
     "iopub.status.idle": "2022-04-25T16:59:49.569196Z",
     "shell.execute_reply": "2022-04-25T16:59:49.569599Z",
     "shell.execute_reply.started": "2022-04-25T16:26:17.038348Z"
    },
    "papermill": {
     "duration": 2.823158,
     "end_time": "2022-04-25T16:59:49.569759",
     "exception": false,
     "start_time": "2022-04-25T16:59:46.746601",
     "status": "completed"
    },
    "tags": []
   },
   "outputs": [
    {
     "name": "stdout",
     "output_type": "stream",
     "text": [
      "<class 'pandas.core.frame.DataFrame'>\n",
      "RangeIndex: 15728 entries, 0 to 15727\n",
      "Data columns (total 5 columns):\n",
      " #   Column      Non-Null Count  Dtype \n",
      "---  ------      --------------  ----- \n",
      " 0   Unnamed: 0  15728 non-null  int64 \n",
      " 1   Data        15728 non-null  object\n",
      " 2   Label       15728 non-null  int64 \n",
      " 3   Token       15728 non-null  object\n",
      " 4   Token_ID    15728 non-null  object\n",
      "dtypes: int64(2), object(3)\n",
      "memory usage: 614.5+ KB\n"
     ]
    }
   ],
   "source": [
    "df=pd.read_excel('/kaggle/input/3-classes-bangla-sa/3_classes_Bert_Preprocessed__Dataset.xlsx')\n",
    "df.info()"
   ]
  },
  {
   "cell_type": "code",
   "execution_count": 6,
   "id": "f40a4d09",
   "metadata": {
    "execution": {
     "iopub.execute_input": "2022-04-25T16:59:49.623733Z",
     "iopub.status.busy": "2022-04-25T16:59:49.622874Z",
     "iopub.status.idle": "2022-04-25T17:00:32.325556Z",
     "shell.execute_reply": "2022-04-25T17:00:32.325944Z",
     "shell.execute_reply.started": "2022-04-25T16:26:19.827313Z"
    },
    "papermill": {
     "duration": 42.731556,
     "end_time": "2022-04-25T17:00:32.326136",
     "exception": false,
     "start_time": "2022-04-25T16:59:49.594580",
     "status": "completed"
    },
    "tags": []
   },
   "outputs": [
    {
     "name": "stdout",
     "output_type": "stream",
     "text": [
      "Collecting ktrain\r\n",
      "  Downloading ktrain-0.30.0.tar.gz (25.3 MB)\r\n",
      "     |████████████████████████████████| 25.3 MB 40.9 MB/s            \r\n",
      "\u001b[?25h  Preparing metadata (setup.py) ... \u001b[?25l-\b \bdone\r\n",
      "\u001b[?25hCollecting scikit-learn==0.24.2\r\n",
      "  Downloading scikit_learn-0.24.2-cp37-cp37m-manylinux2010_x86_64.whl (22.3 MB)\r\n",
      "     |████████████████████████████████| 22.3 MB 48.3 MB/s            \r\n",
      "\u001b[?25hRequirement already satisfied: matplotlib>=3.0.0 in /opt/conda/lib/python3.7/site-packages (from ktrain) (3.5.1)\r\n",
      "Requirement already satisfied: pandas>=1.0.1 in /opt/conda/lib/python3.7/site-packages (from ktrain) (1.3.5)\r\n",
      "Requirement already satisfied: fastprogress>=0.1.21 in /opt/conda/lib/python3.7/site-packages (from ktrain) (1.0.2)\r\n",
      "Requirement already satisfied: requests in /opt/conda/lib/python3.7/site-packages (from ktrain) (2.26.0)\r\n",
      "Requirement already satisfied: joblib in /opt/conda/lib/python3.7/site-packages (from ktrain) (1.1.0)\r\n",
      "Requirement already satisfied: packaging in /opt/conda/lib/python3.7/site-packages (from ktrain) (21.3)\r\n",
      "Collecting langdetect\r\n",
      "  Downloading langdetect-1.0.9.tar.gz (981 kB)\r\n",
      "     |████████████████████████████████| 981 kB 55.1 MB/s            \r\n",
      "\u001b[?25h  Preparing metadata (setup.py) ... \u001b[?25l-\b \bdone\r\n",
      "\u001b[?25hRequirement already satisfied: jieba in /opt/conda/lib/python3.7/site-packages (from ktrain) (0.42.1)\r\n",
      "Collecting cchardet\r\n",
      "  Downloading cchardet-2.1.7-cp37-cp37m-manylinux2010_x86_64.whl (263 kB)\r\n",
      "     |████████████████████████████████| 263 kB 51.8 MB/s            \r\n",
      "\u001b[?25hRequirement already satisfied: chardet in /opt/conda/lib/python3.7/site-packages (from ktrain) (4.0.0)\r\n",
      "Collecting syntok==1.3.3\r\n",
      "  Downloading syntok-1.3.3-py3-none-any.whl (22 kB)\r\n",
      "Collecting transformers==4.10.3\r\n",
      "  Downloading transformers-4.10.3-py3-none-any.whl (2.8 MB)\r\n",
      "     |████████████████████████████████| 2.8 MB 43.0 MB/s            \r\n",
      "\u001b[?25hRequirement already satisfied: sentencepiece in /opt/conda/lib/python3.7/site-packages (from ktrain) (0.1.96)\r\n",
      "Collecting keras_bert>=0.86.0\r\n",
      "  Downloading keras-bert-0.89.0.tar.gz (25 kB)\r\n",
      "  Preparing metadata (setup.py) ... \u001b[?25l-\b \bdone\r\n",
      "\u001b[?25hCollecting whoosh\r\n",
      "  Downloading Whoosh-2.7.4-py2.py3-none-any.whl (468 kB)\r\n",
      "     |████████████████████████████████| 468 kB 46.2 MB/s            \r\n",
      "\u001b[?25hRequirement already satisfied: scipy>=0.19.1 in /opt/conda/lib/python3.7/site-packages (from scikit-learn==0.24.2->ktrain) (1.7.3)\r\n",
      "Requirement already satisfied: numpy>=1.13.3 in /opt/conda/lib/python3.7/site-packages (from scikit-learn==0.24.2->ktrain) (1.20.3)\r\n",
      "Requirement already satisfied: threadpoolctl>=2.0.0 in /opt/conda/lib/python3.7/site-packages (from scikit-learn==0.24.2->ktrain) (3.0.0)\r\n",
      "Requirement already satisfied: regex in /opt/conda/lib/python3.7/site-packages (from syntok==1.3.3->ktrain) (2021.11.10)\r\n",
      "Requirement already satisfied: importlib-metadata in /opt/conda/lib/python3.7/site-packages (from transformers==4.10.3->ktrain) (4.11.3)\r\n",
      "Collecting tokenizers<0.11,>=0.10.1\r\n",
      "  Downloading tokenizers-0.10.3-cp37-cp37m-manylinux_2_5_x86_64.manylinux1_x86_64.manylinux_2_12_x86_64.manylinux2010_x86_64.whl (3.3 MB)\r\n",
      "     |████████████████████████████████| 3.3 MB 52.9 MB/s            \r\n",
      "\u001b[?25hRequirement already satisfied: tqdm>=4.27 in /opt/conda/lib/python3.7/site-packages (from transformers==4.10.3->ktrain) (4.62.3)\r\n",
      "Requirement already satisfied: huggingface-hub>=0.0.12 in /opt/conda/lib/python3.7/site-packages (from transformers==4.10.3->ktrain) (0.4.0)\r\n",
      "Requirement already satisfied: sacremoses in /opt/conda/lib/python3.7/site-packages (from transformers==4.10.3->ktrain) (0.0.49)\r\n",
      "Requirement already satisfied: filelock in /opt/conda/lib/python3.7/site-packages (from transformers==4.10.3->ktrain) (3.6.0)\r\n",
      "Requirement already satisfied: pyyaml>=5.1 in /opt/conda/lib/python3.7/site-packages (from transformers==4.10.3->ktrain) (6.0)\r\n",
      "Collecting keras-transformer==0.40.0\r\n",
      "  Downloading keras-transformer-0.40.0.tar.gz (9.7 kB)\r\n",
      "  Preparing metadata (setup.py) ... \u001b[?25l-\b \bdone\r\n",
      "\u001b[?25hCollecting keras-pos-embd==0.13.0\r\n",
      "  Downloading keras-pos-embd-0.13.0.tar.gz (5.6 kB)\r\n",
      "  Preparing metadata (setup.py) ... \u001b[?25l-\b \bdone\r\n",
      "\u001b[?25hCollecting keras-multi-head==0.29.0\r\n",
      "  Downloading keras-multi-head-0.29.0.tar.gz (13 kB)\r\n",
      "  Preparing metadata (setup.py) ... \u001b[?25l-\b \bdone\r\n",
      "\u001b[?25hCollecting keras-layer-normalization==0.16.0\r\n",
      "  Downloading keras-layer-normalization-0.16.0.tar.gz (3.9 kB)\r\n",
      "  Preparing metadata (setup.py) ... \u001b[?25l-\b \bdone\r\n",
      "\u001b[?25hCollecting keras-position-wise-feed-forward==0.8.0\r\n",
      "  Downloading keras-position-wise-feed-forward-0.8.0.tar.gz (4.1 kB)\r\n",
      "  Preparing metadata (setup.py) ... \u001b[?25l-\b \bdone\r\n",
      "\u001b[?25hCollecting keras-embed-sim==0.10.0\r\n",
      "  Downloading keras-embed-sim-0.10.0.tar.gz (3.6 kB)\r\n",
      "  Preparing metadata (setup.py) ... \u001b[?25l-\b \bdone\r\n",
      "\u001b[?25hCollecting keras-self-attention==0.51.0\r\n",
      "  Downloading keras-self-attention-0.51.0.tar.gz (11 kB)\r\n",
      "  Preparing metadata (setup.py) ... \u001b[?25l-\b \bdone\r\n",
      "\u001b[?25hRequirement already satisfied: pyparsing>=2.2.1 in /opt/conda/lib/python3.7/site-packages (from matplotlib>=3.0.0->ktrain) (3.0.6)\r\n",
      "Requirement already satisfied: pillow>=6.2.0 in /opt/conda/lib/python3.7/site-packages (from matplotlib>=3.0.0->ktrain) (8.2.0)\r\n",
      "Requirement already satisfied: cycler>=0.10 in /opt/conda/lib/python3.7/site-packages (from matplotlib>=3.0.0->ktrain) (0.11.0)\r\n",
      "Requirement already satisfied: fonttools>=4.22.0 in /opt/conda/lib/python3.7/site-packages (from matplotlib>=3.0.0->ktrain) (4.28.4)\r\n",
      "Requirement already satisfied: kiwisolver>=1.0.1 in /opt/conda/lib/python3.7/site-packages (from matplotlib>=3.0.0->ktrain) (1.3.2)\r\n",
      "Requirement already satisfied: python-dateutil>=2.7 in /opt/conda/lib/python3.7/site-packages (from matplotlib>=3.0.0->ktrain) (2.8.2)\r\n",
      "Requirement already satisfied: pytz>=2017.3 in /opt/conda/lib/python3.7/site-packages (from pandas>=1.0.1->ktrain) (2021.3)\r\n",
      "Requirement already satisfied: six in /opt/conda/lib/python3.7/site-packages (from langdetect->ktrain) (1.16.0)\r\n",
      "Requirement already satisfied: urllib3<1.27,>=1.21.1 in /opt/conda/lib/python3.7/site-packages (from requests->ktrain) (1.26.7)\r\n",
      "Requirement already satisfied: idna<4,>=2.5 in /opt/conda/lib/python3.7/site-packages (from requests->ktrain) (3.1)\r\n",
      "Requirement already satisfied: charset-normalizer~=2.0.0 in /opt/conda/lib/python3.7/site-packages (from requests->ktrain) (2.0.9)\r\n",
      "Requirement already satisfied: certifi>=2017.4.17 in /opt/conda/lib/python3.7/site-packages (from requests->ktrain) (2021.10.8)\r\n",
      "Requirement already satisfied: typing-extensions>=3.7.4.3 in /opt/conda/lib/python3.7/site-packages (from huggingface-hub>=0.0.12->transformers==4.10.3->ktrain) (4.1.1)\r\n",
      "Requirement already satisfied: zipp>=0.5 in /opt/conda/lib/python3.7/site-packages (from importlib-metadata->transformers==4.10.3->ktrain) (3.6.0)\r\n",
      "Requirement already satisfied: click in /opt/conda/lib/python3.7/site-packages (from sacremoses->transformers==4.10.3->ktrain) (8.0.3)\r\n",
      "Building wheels for collected packages: ktrain, keras-bert, keras-transformer, keras-embed-sim, keras-layer-normalization, keras-multi-head, keras-pos-embd, keras-position-wise-feed-forward, keras-self-attention, langdetect\r\n",
      "  Building wheel for ktrain (setup.py) ... \u001b[?25l-\b \b\\\b \b|\b \b/\b \b-\b \b\\\b \b|\b \b/\b \bdone\r\n",
      "\u001b[?25h  Created wheel for ktrain: filename=ktrain-0.30.0-py3-none-any.whl size=25309162 sha256=473f748db826727d956c9529ea44d5a4d059e26e8f571132bf5ad80494083fea\r\n",
      "  Stored in directory: /root/.cache/pip/wheels/25/00/ae/80d1b19dd02bc2e6bc9bac32ba7dbaa59aad789e93274e4868\r\n",
      "  Building wheel for keras-bert (setup.py) ... \u001b[?25l-\b \b\\\b \bdone\r\n",
      "\u001b[?25h  Created wheel for keras-bert: filename=keras_bert-0.89.0-py3-none-any.whl size=33516 sha256=c74aca17f1c5b0ed4f2dedc447ec9737471736906d2826a2a76effaba40535f1\r\n",
      "  Stored in directory: /root/.cache/pip/wheels/a4/e8/45/842b3a39831261aef9154b907eacbc4ac99499a99ae829b06f\r\n",
      "  Building wheel for keras-transformer (setup.py) ... \u001b[?25l-\b \b\\\b \bdone\r\n",
      "\u001b[?25h  Created wheel for keras-transformer: filename=keras_transformer-0.40.0-py3-none-any.whl size=12305 sha256=4e80216746bd5517c2a03c14d8ee80a4afee17c688aefef13b6fb0f377432d31\r\n",
      "  Stored in directory: /root/.cache/pip/wheels/46/68/26/692ed21edd832833c3b0a0e21615bcacd99ca458b3f9ed571f\r\n",
      "  Building wheel for keras-embed-sim (setup.py) ... \u001b[?25l-\b \b\\\b \bdone\r\n",
      "\u001b[?25h  Created wheel for keras-embed-sim: filename=keras_embed_sim-0.10.0-py3-none-any.whl size=3958 sha256=50340fb2842a2162bc5ca5c48c0061071b4c0f80ad95729902c35cf290c19621\r\n",
      "  Stored in directory: /root/.cache/pip/wheels/81/67/b5/d847588d075895281e1cf5590f819bd4cf076a554872268bd5\r\n",
      "  Building wheel for keras-layer-normalization (setup.py) ... \u001b[?25l-\b \b\\\b \bdone\r\n",
      "\u001b[?25h  Created wheel for keras-layer-normalization: filename=keras_layer_normalization-0.16.0-py3-none-any.whl size=4668 sha256=1626261f70632a616502bb57711885fe716851146f861386f750c9812e41605b\r\n",
      "  Stored in directory: /root/.cache/pip/wheels/85/5d/1c/2e619f594f69fbcf8bc20943b27d414871c409be053994813e\r\n",
      "  Building wheel for keras-multi-head (setup.py) ... \u001b[?25l-\b \b\\\b \bdone\r\n",
      "\u001b[?25h  Created wheel for keras-multi-head: filename=keras_multi_head-0.29.0-py3-none-any.whl size=14993 sha256=fd18a7dd0c36a2ca720d8c8b7a1cb983340c83bcc7edb6588b37343256ffaea5\r\n",
      "  Stored in directory: /root/.cache/pip/wheels/86/aa/3c/9d15d24005179dae08ff291ce99c754b296347817d076fd9fb\r\n",
      "  Building wheel for keras-pos-embd (setup.py) ... \u001b[?25l-\b \b\\\b \bdone\r\n",
      "\u001b[?25h  Created wheel for keras-pos-embd: filename=keras_pos_embd-0.13.0-py3-none-any.whl size=6961 sha256=249df515624b557c45dbff90a0646c033dd2fa5d60a6a920902fd51b72ddd0d5\r\n",
      "  Stored in directory: /root/.cache/pip/wheels/8d/c1/a0/dc44fcf68c857b7ff6be9a97e675e5adf51022eff1169b042f\r\n",
      "  Building wheel for keras-position-wise-feed-forward (setup.py) ... \u001b[?25l-\b \b\\\b \bdone\r\n",
      "\u001b[?25h  Created wheel for keras-position-wise-feed-forward: filename=keras_position_wise_feed_forward-0.8.0-py3-none-any.whl size=4982 sha256=d12a7f71bcf662de5c28235698f26e05a9135b9e2b0444d1eb6fb2c89b07eeea\r\n",
      "  Stored in directory: /root/.cache/pip/wheels/c2/75/6f/d42f6e051506f442daeba53ff1e2d21a5f20ef8c411610f2bb\r\n",
      "  Building wheel for keras-self-attention (setup.py) ... \u001b[?25l-\b \b\\\b \bdone\r\n",
      "\u001b[?25h  Created wheel for keras-self-attention: filename=keras_self_attention-0.51.0-py3-none-any.whl size=18913 sha256=d6343a514ef25606b9518f82e52b2da0344a6e9c6e3ca35d923bb62afe92cd13\r\n",
      "  Stored in directory: /root/.cache/pip/wheels/95/b1/a8/5ee00cc137940b2f6fa198212e8f45d813d0e0d9c3a04035a3\r\n",
      "  Building wheel for langdetect (setup.py) ... \u001b[?25l-\b \b\\\b \b|\b \b/\b \bdone\r\n",
      "\u001b[?25h  Created wheel for langdetect: filename=langdetect-1.0.9-py3-none-any.whl size=993242 sha256=c38d048268106dc3d9e0f8bc9fd44ccd93f778af9fa16d86d31bb091250f1789\r\n",
      "  Stored in directory: /root/.cache/pip/wheels/c5/96/8a/f90c59ed25d75e50a8c10a1b1c2d4c402e4dacfa87f3aff36a\r\n",
      "Successfully built ktrain keras-bert keras-transformer keras-embed-sim keras-layer-normalization keras-multi-head keras-pos-embd keras-position-wise-feed-forward keras-self-attention langdetect\r\n",
      "Installing collected packages: keras-self-attention, keras-position-wise-feed-forward, keras-pos-embd, keras-multi-head, keras-layer-normalization, keras-embed-sim, tokenizers, keras-transformer, whoosh, transformers, syntok, scikit-learn, langdetect, keras-bert, cchardet, ktrain\r\n",
      "  Attempting uninstall: tokenizers\r\n",
      "    Found existing installation: tokenizers 0.11.6\r\n",
      "    Uninstalling tokenizers-0.11.6:\r\n",
      "      Successfully uninstalled tokenizers-0.11.6\r\n",
      "  Attempting uninstall: transformers\r\n",
      "    Found existing installation: transformers 4.16.2\r\n",
      "    Uninstalling transformers-4.16.2:\r\n",
      "      Successfully uninstalled transformers-4.16.2\r\n",
      "  Attempting uninstall: scikit-learn\r\n",
      "    Found existing installation: scikit-learn 1.0.1\r\n",
      "    Uninstalling scikit-learn-1.0.1:\r\n",
      "      Successfully uninstalled scikit-learn-1.0.1\r\n",
      "\u001b[31mERROR: pip's dependency resolver does not currently take into account all the packages that are installed. This behaviour is the source of the following dependency conflicts.\r\n",
      "yellowbrick 1.4 requires scikit-learn>=1.0.0, but you have scikit-learn 0.24.2 which is incompatible.\r\n",
      "pdpbox 0.2.1 requires matplotlib==3.1.1, but you have matplotlib 3.5.1 which is incompatible.\r\n",
      "imbalanced-learn 0.9.0 requires scikit-learn>=1.0.1, but you have scikit-learn 0.24.2 which is incompatible.\r\n",
      "featuretools 1.6.0 requires numpy>=1.21.0, but you have numpy 1.20.3 which is incompatible.\u001b[0m\r\n",
      "Successfully installed cchardet-2.1.7 keras-bert-0.89.0 keras-embed-sim-0.10.0 keras-layer-normalization-0.16.0 keras-multi-head-0.29.0 keras-pos-embd-0.13.0 keras-position-wise-feed-forward-0.8.0 keras-self-attention-0.51.0 keras-transformer-0.40.0 ktrain-0.30.0 langdetect-1.0.9 scikit-learn-0.24.2 syntok-1.3.3 tokenizers-0.10.3 transformers-4.10.3 whoosh-2.7.4\r\n",
      "\u001b[33mWARNING: Running pip as the 'root' user can result in broken permissions and conflicting behaviour with the system package manager. It is recommended to use a virtual environment instead: https://pip.pypa.io/warnings/venv\u001b[0m\r\n",
      "Note: you may need to restart the kernel to use updated packages.\n"
     ]
    }
   ],
   "source": [
    "pip install ktrain"
   ]
  },
  {
   "cell_type": "code",
   "execution_count": 7,
   "id": "49a13eb4",
   "metadata": {
    "execution": {
     "iopub.execute_input": "2022-04-25T17:00:32.503777Z",
     "iopub.status.busy": "2022-04-25T17:00:32.502897Z",
     "iopub.status.idle": "2022-04-25T17:00:32.544334Z",
     "shell.execute_reply": "2022-04-25T17:00:32.543808Z",
     "shell.execute_reply.started": "2022-04-25T16:52:58.853783Z"
    },
    "papermill": {
     "duration": 0.134599,
     "end_time": "2022-04-25T17:00:32.544463",
     "exception": false,
     "start_time": "2022-04-25T17:00:32.409864",
     "status": "completed"
    },
    "tags": []
   },
   "outputs": [],
   "source": [
    "%reload_ext autoreload\n",
    "%autoreload 2\n",
    "%matplotlib inline\n",
    "import os\n",
    "os.environ[\"CUDA_DEVICE_ORDER\"] = \"PCI_BUS_ID\"\n",
    "os.environ[\"CUDA_VISIBLE_DEVICES\"] = \"0\" "
   ]
  },
  {
   "cell_type": "code",
   "execution_count": 8,
   "id": "7f9c4a6a",
   "metadata": {
    "execution": {
     "iopub.execute_input": "2022-04-25T17:00:32.724971Z",
     "iopub.status.busy": "2022-04-25T17:00:32.724085Z",
     "iopub.status.idle": "2022-04-25T17:00:40.687445Z",
     "shell.execute_reply": "2022-04-25T17:00:40.686506Z",
     "shell.execute_reply.started": "2022-04-25T16:52:59.049198Z"
    },
    "papermill": {
     "duration": 8.059898,
     "end_time": "2022-04-25T17:00:40.687595",
     "exception": false,
     "start_time": "2022-04-25T17:00:32.627697",
     "status": "completed"
    },
    "tags": []
   },
   "outputs": [],
   "source": [
    "import ktrain\n",
    "from ktrain import text"
   ]
  },
  {
   "cell_type": "code",
   "execution_count": 9,
   "id": "067b7532",
   "metadata": {
    "execution": {
     "iopub.execute_input": "2022-04-25T17:00:40.861383Z",
     "iopub.status.busy": "2022-04-25T17:00:40.860584Z",
     "iopub.status.idle": "2022-04-25T17:00:40.927095Z",
     "shell.execute_reply": "2022-04-25T17:00:40.926601Z",
     "shell.execute_reply.started": "2022-04-25T16:27:08.234677Z"
    },
    "papermill": {
     "duration": 0.155674,
     "end_time": "2022-04-25T17:00:40.927251",
     "exception": false,
     "start_time": "2022-04-25T17:00:40.771577",
     "status": "completed"
    },
    "tags": []
   },
   "outputs": [],
   "source": [
    "train=df[:int(.8*len(df))]\n",
    "test=df[int(.8*len(df)):int(.9*len(df))]\n",
    "validation=df[int(.9*len(df)):]\n",
    "x_train=train['Token'].tolist()\n",
    "y_train=train['Label'].tolist()\n",
    "x_validation=validation['Token'].tolist()\n",
    "y_validation=validation['Label'].tolist()\n",
    "x_test=test['Token'].tolist()\n",
    "y_test=test['Label'].tolist()"
   ]
  },
  {
   "cell_type": "code",
   "execution_count": 10,
   "id": "ba5e6c1d",
   "metadata": {
    "execution": {
     "iopub.execute_input": "2022-04-25T17:00:41.099326Z",
     "iopub.status.busy": "2022-04-25T17:00:41.098502Z",
     "iopub.status.idle": "2022-04-25T17:00:41.188240Z",
     "shell.execute_reply": "2022-04-25T17:00:41.187714Z",
     "shell.execute_reply.started": "2022-04-25T16:27:08.306004Z"
    },
    "papermill": {
     "duration": 0.177607,
     "end_time": "2022-04-25T17:00:41.188376",
     "exception": false,
     "start_time": "2022-04-25T17:00:41.010769",
     "status": "completed"
    },
    "tags": []
   },
   "outputs": [],
   "source": [
    "x_train= np.array(x_train)\n",
    "x_validation= np.array(x_validation)\n",
    "x_test= np.array(x_test)\n"
   ]
  },
  {
   "cell_type": "code",
   "execution_count": 11,
   "id": "ae049cab",
   "metadata": {
    "execution": {
     "iopub.execute_input": "2022-04-25T17:00:41.360468Z",
     "iopub.status.busy": "2022-04-25T17:00:41.359372Z",
     "iopub.status.idle": "2022-04-25T17:00:41.423946Z",
     "shell.execute_reply": "2022-04-25T17:00:41.422853Z",
     "shell.execute_reply.started": "2022-04-25T16:27:08.389903Z"
    },
    "papermill": {
     "duration": 0.151948,
     "end_time": "2022-04-25T17:00:41.424102",
     "exception": false,
     "start_time": "2022-04-25T17:00:41.272154",
     "status": "completed"
    },
    "tags": []
   },
   "outputs": [],
   "source": [
    "categories = [0,1,2]"
   ]
  },
  {
   "cell_type": "code",
   "execution_count": 12,
   "id": "75c83ff9",
   "metadata": {
    "execution": {
     "iopub.execute_input": "2022-04-25T17:00:41.596609Z",
     "iopub.status.busy": "2022-04-25T17:00:41.595791Z",
     "iopub.status.idle": "2022-04-25T17:00:42.644400Z",
     "shell.execute_reply": "2022-04-25T17:00:42.644848Z",
     "shell.execute_reply.started": "2022-04-25T16:27:08.452429Z"
    },
    "papermill": {
     "duration": 1.137146,
     "end_time": "2022-04-25T17:00:42.645042",
     "exception": false,
     "start_time": "2022-04-25T17:00:41.507896",
     "status": "completed"
    },
    "tags": []
   },
   "outputs": [
    {
     "data": {
      "application/vnd.jupyter.widget-view+json": {
       "model_id": "01f5c013eafc4cfeb5c1f8b935c41229",
       "version_major": 2,
       "version_minor": 0
      },
      "text/plain": [
       "Downloading:   0%|          | 0.00/625 [00:00<?, ?B/s]"
      ]
     },
     "metadata": {},
     "output_type": "display_data"
    }
   ],
   "source": [
    "model_name = 'bert-base-multilingual-cased'\n",
    "trans = text.Transformer(model_name,maxlen=50,class_names=categories)"
   ]
  },
  {
   "cell_type": "code",
   "execution_count": 13,
   "id": "2754a50b",
   "metadata": {
    "execution": {
     "iopub.execute_input": "2022-04-25T17:00:42.823172Z",
     "iopub.status.busy": "2022-04-25T17:00:42.822372Z",
     "iopub.status.idle": "2022-04-25T17:00:54.768218Z",
     "shell.execute_reply": "2022-04-25T17:00:54.767348Z",
     "shell.execute_reply.started": "2022-04-25T16:27:09.485019Z"
    },
    "papermill": {
     "duration": 12.035715,
     "end_time": "2022-04-25T17:00:54.768408",
     "exception": false,
     "start_time": "2022-04-25T17:00:42.732693",
     "status": "completed"
    },
    "tags": []
   },
   "outputs": [
    {
     "name": "stdout",
     "output_type": "stream",
     "text": [
      "preprocessing train...\n",
      "language: bn\n",
      "train sequence lengths:\n",
      "\tmean : 16\n",
      "\t95percentile : 37\n",
      "\t99percentile : 47\n"
     ]
    },
    {
     "data": {
      "application/vnd.jupyter.widget-view+json": {
       "model_id": "e1ffe4a9eefd4db1a87c72272d5d2145",
       "version_major": 2,
       "version_minor": 0
      },
      "text/plain": [
       "Downloading:   0%|          | 0.00/996k [00:00<?, ?B/s]"
      ]
     },
     "metadata": {},
     "output_type": "display_data"
    },
    {
     "data": {
      "application/vnd.jupyter.widget-view+json": {
       "model_id": "6322551be89740aebf6b738bdba0c9e3",
       "version_major": 2,
       "version_minor": 0
      },
      "text/plain": [
       "Downloading:   0%|          | 0.00/1.96M [00:00<?, ?B/s]"
      ]
     },
     "metadata": {},
     "output_type": "display_data"
    },
    {
     "data": {
      "application/vnd.jupyter.widget-view+json": {
       "model_id": "2a8fe208c9a1494090d8e7b7ff8e5adb",
       "version_major": 2,
       "version_minor": 0
      },
      "text/plain": [
       "Downloading:   0%|          | 0.00/29.0 [00:00<?, ?B/s]"
      ]
     },
     "metadata": {},
     "output_type": "display_data"
    },
    {
     "data": {
      "text/html": [
       "\n",
       "<style>\n",
       "    /* Turns off some styling */\n",
       "    progress {\n",
       "        /* gets rid of default border in Firefox and Opera. */\n",
       "        border: none;\n",
       "        /* Needs to be in here for Safari polyfill so background images work as expected. */\n",
       "        background-size: auto;\n",
       "    }\n",
       "    .progress-bar-interrupted, .progress-bar-interrupted::-webkit-progress-bar {\n",
       "        background: #F44336;\n",
       "    }\n",
       "</style>\n"
      ],
      "text/plain": [
       "<IPython.core.display.HTML object>"
      ]
     },
     "metadata": {},
     "output_type": "display_data"
    },
    {
     "data": {
      "text/html": [],
      "text/plain": [
       "<IPython.core.display.HTML object>"
      ]
     },
     "metadata": {},
     "output_type": "display_data"
    },
    {
     "name": "stdout",
     "output_type": "stream",
     "text": [
      "Is Multi-Label? False\n",
      "preprocessing test...\n",
      "language: bn\n",
      "test sequence lengths:\n",
      "\tmean : 16\n",
      "\t95percentile : 37\n",
      "\t99percentile : 47\n"
     ]
    },
    {
     "data": {
      "text/html": [
       "\n",
       "<style>\n",
       "    /* Turns off some styling */\n",
       "    progress {\n",
       "        /* gets rid of default border in Firefox and Opera. */\n",
       "        border: none;\n",
       "        /* Needs to be in here for Safari polyfill so background images work as expected. */\n",
       "        background-size: auto;\n",
       "    }\n",
       "    .progress-bar-interrupted, .progress-bar-interrupted::-webkit-progress-bar {\n",
       "        background: #F44336;\n",
       "    }\n",
       "</style>\n"
      ],
      "text/plain": [
       "<IPython.core.display.HTML object>"
      ]
     },
     "metadata": {},
     "output_type": "display_data"
    },
    {
     "data": {
      "text/html": [],
      "text/plain": [
       "<IPython.core.display.HTML object>"
      ]
     },
     "metadata": {},
     "output_type": "display_data"
    }
   ],
   "source": [
    "train = trans.preprocess_train(x_train,y_train)\n",
    "valid = trans.preprocess_test(x_validation,y_validation)"
   ]
  },
  {
   "cell_type": "code",
   "execution_count": 14,
   "id": "db557b48",
   "metadata": {
    "execution": {
     "iopub.execute_input": "2022-04-25T17:00:54.949757Z",
     "iopub.status.busy": "2022-04-25T17:00:54.948932Z",
     "iopub.status.idle": "2022-04-25T17:01:39.465272Z",
     "shell.execute_reply": "2022-04-25T17:01:39.464722Z",
     "shell.execute_reply.started": "2022-04-25T16:27:19.233310Z"
    },
    "papermill": {
     "duration": 44.608875,
     "end_time": "2022-04-25T17:01:39.465427",
     "exception": false,
     "start_time": "2022-04-25T17:00:54.856552",
     "status": "completed"
    },
    "tags": []
   },
   "outputs": [
    {
     "data": {
      "application/vnd.jupyter.widget-view+json": {
       "model_id": "bf65bfd8ead5457d9ac83032164697e3",
       "version_major": 2,
       "version_minor": 0
      },
      "text/plain": [
       "Downloading:   0%|          | 0.00/1.08G [00:00<?, ?B/s]"
      ]
     },
     "metadata": {},
     "output_type": "display_data"
    }
   ],
   "source": [
    "model = trans.get_classifier()"
   ]
  },
  {
   "cell_type": "code",
   "execution_count": 15,
   "id": "3970a9d7",
   "metadata": {
    "execution": {
     "iopub.execute_input": "2022-04-25T17:01:39.666277Z",
     "iopub.status.busy": "2022-04-25T17:01:39.665391Z",
     "iopub.status.idle": "2022-04-25T17:01:41.114325Z",
     "shell.execute_reply": "2022-04-25T17:01:41.113361Z",
     "shell.execute_reply.started": "2022-04-25T16:28:04.551947Z"
    },
    "papermill": {
     "duration": 1.550458,
     "end_time": "2022-04-25T17:01:41.114479",
     "exception": false,
     "start_time": "2022-04-25T17:01:39.564021",
     "status": "completed"
    },
    "tags": []
   },
   "outputs": [],
   "source": [
    "learner = ktrain.get_learner(model, train_data=train,val_data=valid, batch_size=12)"
   ]
  },
  {
   "cell_type": "code",
   "execution_count": 16,
   "id": "019d47c3",
   "metadata": {
    "execution": {
     "iopub.execute_input": "2022-04-25T17:01:41.296890Z",
     "iopub.status.busy": "2022-04-25T17:01:41.296073Z",
     "iopub.status.idle": "2022-04-25T17:01:41.366402Z",
     "shell.execute_reply": "2022-04-25T17:01:41.365859Z",
     "shell.execute_reply.started": "2022-04-25T16:28:06.007608Z"
    },
    "papermill": {
     "duration": 0.163594,
     "end_time": "2022-04-25T17:01:41.366535",
     "exception": false,
     "start_time": "2022-04-25T17:01:41.202941",
     "status": "completed"
    },
    "tags": []
   },
   "outputs": [],
   "source": [
    "from sklearn.utils import class_weight\n",
    "class_weight=class_weight.compute_class_weight(class_weight='balanced',classes=np.unique(y_train),y=y_train)\n",
    "weight={i:class_weight[i] for i in range(3)}"
   ]
  },
  {
   "cell_type": "code",
   "execution_count": 17,
   "id": "d7e095eb",
   "metadata": {
    "execution": {
     "iopub.execute_input": "2022-04-25T17:01:41.548750Z",
     "iopub.status.busy": "2022-04-25T17:01:41.546687Z",
     "iopub.status.idle": "2022-04-25T17:27:27.197428Z",
     "shell.execute_reply": "2022-04-25T17:27:27.197927Z",
     "shell.execute_reply.started": "2022-04-25T16:28:06.078163Z"
    },
    "papermill": {
     "duration": 1545.742985,
     "end_time": "2022-04-25T17:27:27.198104",
     "exception": false,
     "start_time": "2022-04-25T17:01:41.455119",
     "status": "completed"
    },
    "tags": []
   },
   "outputs": [
    {
     "name": "stdout",
     "output_type": "stream",
     "text": [
      "\n",
      "\n",
      "begin training using onecycle policy with max lr of 2e-05...\n",
      "Epoch 1/10\n",
      "1049/1049 [==============================] - 174s 144ms/step - loss: 1.0563 - accuracy: 0.4445 - val_loss: 0.9429 - val_accuracy: 0.5823\n",
      "Epoch 2/10\n",
      "1049/1049 [==============================] - 146s 139ms/step - loss: 0.9359 - accuracy: 0.5658 - val_loss: 0.8621 - val_accuracy: 0.6071\n",
      "Epoch 3/10\n",
      "1049/1049 [==============================] - 146s 139ms/step - loss: 0.8618 - accuracy: 0.6108 - val_loss: 0.8614 - val_accuracy: 0.5995\n",
      "Epoch 4/10\n",
      "1049/1049 [==============================] - 147s 140ms/step - loss: 0.7972 - accuracy: 0.6499 - val_loss: 0.8523 - val_accuracy: 0.6116\n",
      "Epoch 5/10\n",
      "1049/1049 [==============================] - 147s 140ms/step - loss: 0.7365 - accuracy: 0.6913 - val_loss: 0.8240 - val_accuracy: 0.6427\n",
      "Epoch 6/10\n",
      "1049/1049 [==============================] - 148s 141ms/step - loss: 0.6343 - accuracy: 0.7423 - val_loss: 0.9952 - val_accuracy: 0.6224\n",
      "Epoch 7/10\n",
      "1049/1049 [==============================] - 147s 140ms/step - loss: 0.4862 - accuracy: 0.8104 - val_loss: 1.0155 - val_accuracy: 0.6440\n",
      "Epoch 8/10\n",
      "1049/1049 [==============================] - 148s 141ms/step - loss: 0.3523 - accuracy: 0.8677 - val_loss: 1.0537 - val_accuracy: 0.6656\n",
      "Epoch 9/10\n",
      "1049/1049 [==============================] - 148s 141ms/step - loss: 0.2379 - accuracy: 0.9129 - val_loss: 1.2289 - val_accuracy: 0.6503\n",
      "Epoch 10/10\n",
      "1049/1049 [==============================] - 147s 140ms/step - loss: 0.1692 - accuracy: 0.9407 - val_loss: 1.3645 - val_accuracy: 0.6516\n"
     ]
    },
    {
     "data": {
      "text/plain": [
       "<keras.callbacks.History at 0x7f89ea6851d0>"
      ]
     },
     "execution_count": 17,
     "metadata": {},
     "output_type": "execute_result"
    }
   ],
   "source": [
    "learner.fit_onecycle(2e-5,10,class_weight=weight) "
   ]
  },
  {
   "cell_type": "code",
   "execution_count": 18,
   "id": "6be7818d",
   "metadata": {
    "execution": {
     "iopub.execute_input": "2022-04-25T17:27:34.164029Z",
     "iopub.status.busy": "2022-04-25T17:27:34.163219Z",
     "iopub.status.idle": "2022-04-25T17:27:41.211281Z",
     "shell.execute_reply": "2022-04-25T17:27:41.211669Z",
     "shell.execute_reply.started": "2022-04-25T16:52:46.628911Z"
    },
    "papermill": {
     "duration": 10.680341,
     "end_time": "2022-04-25T17:27:41.211816",
     "exception": false,
     "start_time": "2022-04-25T17:27:30.531475",
     "status": "completed"
    },
    "tags": []
   },
   "outputs": [
    {
     "name": "stdout",
     "output_type": "stream",
     "text": [
      "              precision    recall  f1-score   support\n",
      "\n",
      "           0       0.45      0.48      0.47       380\n",
      "           1       0.71      0.68      0.69       623\n",
      "           2       0.74      0.73      0.73       570\n",
      "\n",
      "    accuracy                           0.65      1573\n",
      "   macro avg       0.63      0.63      0.63      1573\n",
      "weighted avg       0.66      0.65      0.65      1573\n",
      "\n"
     ]
    },
    {
     "data": {
      "text/plain": [
       "array([[183, 111,  86],\n",
       "       [134, 426,  63],\n",
       "       [ 87,  67, 416]])"
      ]
     },
     "execution_count": 18,
     "metadata": {},
     "output_type": "execute_result"
    }
   ],
   "source": [
    "learner.validate(class_names=categories)"
   ]
  },
  {
   "cell_type": "code",
   "execution_count": 19,
   "id": "94d8a125",
   "metadata": {
    "execution": {
     "iopub.execute_input": "2022-04-25T17:27:48.253636Z",
     "iopub.status.busy": "2022-04-25T17:27:48.252813Z",
     "iopub.status.idle": "2022-04-25T17:27:48.318816Z",
     "shell.execute_reply": "2022-04-25T17:27:48.318304Z",
     "shell.execute_reply.started": "2022-04-25T16:52:53.374042Z"
    },
    "papermill": {
     "duration": 3.587975,
     "end_time": "2022-04-25T17:27:48.318938",
     "exception": false,
     "start_time": "2022-04-25T17:27:44.730963",
     "status": "completed"
    },
    "tags": []
   },
   "outputs": [],
   "source": [
    "predictor = ktrain.get_predictor(learner.model, preproc=trans)"
   ]
  },
  {
   "cell_type": "code",
   "execution_count": 20,
   "id": "06f25919",
   "metadata": {
    "execution": {
     "iopub.execute_input": "2022-04-25T17:27:55.283692Z",
     "iopub.status.busy": "2022-04-25T17:27:55.282857Z",
     "iopub.status.idle": "2022-04-25T17:28:00.770755Z",
     "shell.execute_reply": "2022-04-25T17:28:00.770313Z",
     "shell.execute_reply.started": "2022-04-25T16:52:53.440580Z"
    },
    "papermill": {
     "duration": 9.004261,
     "end_time": "2022-04-25T17:28:00.770876",
     "exception": false,
     "start_time": "2022-04-25T17:27:51.766615",
     "status": "completed"
    },
    "tags": []
   },
   "outputs": [
    {
     "name": "stdout",
     "output_type": "stream",
     "text": [
      "[0, 1, 1, 1, 0, 1, 0, 2, 2, 2, 1, 0, 1, 2, 1, 0, 1, 1, 1, 2, 0, 1, 2, 2, 1, 1, 2, 2, 2, 1, 1, 2, 1, 0, 1, 0, 2, 2, 2, 2, 1, 2, 2, 1, 0, 0, 0, 1, 0, 2, 0, 1, 0, 2, 1, 0, 0, 1, 2, 2, 2, 0, 2, 0, 1, 0, 1, 0, 0, 2, 1, 0, 0, 0, 2, 0, 0, 1, 1, 2, 1, 0, 2, 0, 1, 2, 1, 2, 1, 2, 0, 2, 0, 1, 1, 2, 1, 1, 1, 0, 0, 2, 2, 1, 0, 2, 0, 0, 2, 2, 0, 0, 1, 0, 1, 2, 2, 2, 1, 1, 0, 2, 1, 2, 2, 0, 2, 0, 2, 1, 2, 0, 1, 2, 0, 1, 0, 1, 1, 1, 0, 0, 0, 2, 1, 0, 2, 0, 1, 1, 1, 1, 1, 2, 2, 2, 2, 2, 1, 2, 2, 1, 0, 2, 2, 0, 2, 1, 1, 2, 0, 0, 0, 2, 2, 2, 0, 1, 1, 1, 2, 2, 2, 0, 2, 2, 1, 1, 0, 2, 2, 2, 0, 1, 2, 1, 2, 2, 2, 2, 0, 0, 1, 1, 2, 1, 1, 0, 1, 0, 2, 0, 1, 0, 0, 0, 1, 2, 2, 0, 1, 1, 0, 1, 0, 2, 1, 1, 1, 1, 2, 1, 1, 0, 0, 1, 0, 1, 2, 1, 1, 0, 0, 1, 2, 2, 0, 1, 2, 1, 1, 0, 0, 1, 2, 1, 0, 2, 2, 0, 0, 2, 1, 2, 0, 1, 2, 0, 1, 0, 1, 1, 2, 2, 1, 0, 2, 0, 1, 1, 2, 2, 1, 0, 1, 2, 2, 0, 1, 2, 2, 2, 1, 2, 0, 2, 2, 2, 0, 2, 2, 1, 0, 0, 1, 0, 2, 0, 1, 1, 0, 2, 2, 2, 0, 1, 2, 1, 0, 1, 1, 1, 2, 1, 2, 2, 1, 1, 1, 0, 0, 1, 1, 1, 0, 1, 1, 0, 0, 2, 1, 1, 2, 2, 1, 2, 1, 1, 2, 2, 2, 2, 0, 2, 0, 2, 1, 0, 2, 1, 0, 2, 0, 1, 0, 2, 1, 1, 2, 1, 2, 1, 2, 1, 2, 1, 1, 0, 1, 0, 1, 2, 0, 1, 2, 2, 0, 1, 2, 0, 1, 1, 2, 2, 2, 0, 1, 0, 2, 0, 0, 1, 1, 2, 1, 0, 2, 1, 2, 2, 2, 0, 1, 1, 1, 2, 0, 2, 0, 1, 1, 0, 0, 1, 0, 0, 1, 1, 1, 0, 1, 1, 2, 2, 1, 1, 0, 2, 1, 2, 1, 1, 1, 2, 1, 1, 2, 0, 2, 1, 0, 1, 2, 0, 2, 2, 1, 2, 1, 2, 2, 1, 2, 1, 1, 1, 1, 2, 0, 0, 2, 0, 1, 1, 1, 1, 0, 1, 2, 0, 1, 1, 1, 1, 2, 0, 2, 2, 2, 0, 1, 1, 0, 0, 1, 2, 0, 0, 1, 1, 0, 2, 1, 2, 2, 2, 2, 1, 0, 1, 2, 2, 0, 0, 0, 2, 2, 1, 2, 1, 2, 1, 2, 0, 1, 0, 1, 1, 2, 2, 1, 0, 1, 2, 1, 2, 2, 0, 1, 1, 1, 1, 2, 1, 2, 1, 1, 0, 1, 2, 2, 2, 2, 1, 2, 1, 2, 1, 0, 1, 0, 0, 1, 1, 1, 1, 2, 2, 1, 2, 1, 0, 2, 1, 2, 2, 0, 1, 1, 1, 0, 1, 1, 0, 0, 1, 2, 1, 2, 0, 2, 1, 2, 1, 0, 2, 0, 0, 1, 2, 1, 0, 1, 0, 2, 1, 1, 0, 0, 1, 2, 1, 2, 2, 2, 0, 2, 0, 2, 1, 1, 1, 0, 2, 1, 2, 1, 1, 0, 2, 1, 1, 1, 1, 2, 1, 2, 2, 1, 1, 1, 2, 2, 1, 1, 0, 0, 2, 1, 2, 2, 0, 2, 2, 1, 0, 0, 0, 2, 0, 0, 1, 1, 0, 1, 0, 2, 2, 0, 0, 1, 2, 1, 2, 1, 1, 1, 1, 1, 1, 0, 2, 0, 0, 0, 1, 0, 1, 2, 1, 2, 0, 1, 2, 0, 2, 0, 2, 2, 0, 1, 1, 2, 2, 0, 2, 0, 2, 2, 0, 0, 0, 1, 2, 0, 1, 2, 2, 1, 2, 2, 2, 1, 0, 1, 0, 2, 1, 2, 1, 1, 0, 0, 1, 0, 2, 2, 1, 1, 2, 1, 2, 2, 0, 2, 1, 0, 1, 1, 1, 1, 1, 0, 2, 1, 1, 1, 1, 2, 0, 1, 0, 2, 2, 1, 1, 0, 2, 0, 2, 0, 2, 1, 2, 2, 0, 1, 1, 1, 1, 0, 1, 1, 1, 1, 1, 2, 0, 2, 0, 1, 2, 1, 1, 0, 2, 2, 1, 2, 1, 2, 2, 2, 1, 2, 2, 2, 2, 2, 1, 0, 2, 1, 2, 1, 2, 2, 0, 2, 2, 0, 0, 1, 1, 1, 0, 2, 0, 1, 2, 0, 2, 2, 0, 1, 1, 0, 2, 2, 2, 1, 1, 1, 2, 1, 1, 2, 1, 1, 0, 1, 0, 1, 1, 0, 1, 0, 0, 0, 2, 1, 2, 0, 2, 1, 1, 2, 1, 2, 1, 1, 2, 1, 0, 0, 0, 1, 0, 1, 0, 0, 2, 0, 1, 1, 1, 2, 0, 0, 2, 2, 1, 2, 2, 2, 0, 2, 0, 1, 0, 1, 1, 0, 1, 0, 2, 2, 2, 2, 1, 1, 1, 2, 2, 2, 1, 2, 1, 1, 1, 2, 1, 2, 2, 1, 1, 1, 2, 1, 0, 1, 1, 1, 2, 0, 0, 1, 2, 1, 2, 1, 2, 1, 1, 2, 2, 1, 0, 2, 2, 0, 2, 1, 0, 0, 2, 2, 2, 1, 1, 0, 0, 2, 1, 1, 1, 1, 1, 0, 0, 0, 0, 1, 2, 2, 1, 2, 0, 1, 1, 1, 2, 1, 1, 1, 0, 1, 2, 1, 0, 0, 2, 2, 2, 2, 1, 2, 2, 2, 1, 1, 2, 2, 0, 2, 1, 2, 1, 0, 2, 1, 0, 0, 1, 0, 2, 2, 1, 1, 2, 1, 0, 2, 1, 2, 2, 1, 2, 1, 2, 2, 1, 2, 2, 2, 1, 1, 0, 1, 2, 2, 1, 2, 1, 2, 0, 1, 1, 1, 2, 2, 1, 2, 1, 1, 1, 2, 1, 2, 1, 1, 2, 1, 1, 1, 1, 2, 2, 1, 1, 1, 0, 1, 1, 2, 0, 0, 2, 1, 1, 1, 2, 1, 1, 2, 2, 2, 2, 2, 1, 1, 1, 2, 0, 1, 2, 2, 1, 1, 1, 2, 2, 1, 2, 1, 0, 2, 0, 1, 1, 2, 2, 0, 2, 1, 1, 1, 1, 0, 0, 2, 1, 2, 2, 2, 1, 0, 2, 2, 0, 0, 0, 1, 1, 2, 1, 2, 1, 2, 1, 1, 1, 2, 0, 1, 1, 1, 1, 0, 0, 2, 2, 0, 1, 1, 1, 0, 1, 2, 2, 1, 0, 0, 2, 2, 2, 1, 0, 2, 0, 0, 1, 2, 1, 1, 2, 1, 0, 0, 1, 2, 2, 2, 2, 1, 0, 0, 1, 2, 1, 2, 1, 2, 1, 1, 0, 0, 1, 2, 1, 2, 0, 2, 0, 1, 2, 0, 1, 0, 0, 0, 2, 0, 0, 0, 1, 0, 1, 2, 1, 1, 2, 1, 1, 2, 2, 1, 2, 1, 1, 1, 2, 1, 2, 2, 0, 1, 1, 2, 0, 0, 1, 2, 1, 1, 1, 0, 1, 0, 0, 1, 0, 2, 2, 2, 0, 2, 1, 2, 1, 2, 1, 2, 1, 2, 0, 0, 2, 1, 1, 0, 2, 1, 2, 2, 1, 1, 1, 1, 2, 2, 0, 1, 1, 1, 0, 1, 1, 0, 2, 2, 1, 1, 1, 1, 2, 1, 1, 2, 2, 1, 2, 0, 0, 0, 0, 0, 2, 2, 0, 2, 2, 2, 2, 2, 2, 1, 1, 1, 2, 1, 1, 1, 2, 1, 1, 1, 0, 1, 1, 1, 0, 1, 2, 1, 2, 1, 1, 0, 2, 1, 0, 1, 2, 2, 0, 2, 2, 2, 2, 1, 1, 1, 0, 1, 1, 2, 1, 1, 2, 2, 2, 0, 0, 2, 0, 0, 1, 2, 0, 1, 0, 2, 1, 0, 2, 2, 1, 2, 1, 1, 1, 1, 2, 1, 2, 0, 2, 1, 0, 1, 1, 0, 1, 1, 2, 1, 2, 2, 0, 1, 0, 2, 1, 0, 1, 1, 2, 0, 0, 0, 1, 1, 2, 0, 1, 2, 2, 2, 1, 1, 1, 1, 2, 0, 2, 1, 1, 2, 2, 0, 1, 2, 2, 0, 2, 2, 2, 2, 1, 2, 2, 1, 1, 2, 0, 1, 2, 2, 2, 1, 0, 2, 2, 2, 2, 1, 2, 1, 0, 1, 1, 0, 2, 1, 1, 1, 1, 0, 1, 2, 1, 0, 0, 2, 0, 1, 0, 1, 2, 1, 1, 2, 0, 2, 2, 2, 2, 1, 2, 2, 2, 1, 1, 2, 1, 1, 1, 2, 2, 0, 1, 0, 2, 0, 1, 1, 2, 1, 1, 0, 2, 1, 1, 1, 0, 2, 2, 1, 1, 0, 2, 2, 1, 0, 0, 1, 0, 1, 2, 1, 0, 1, 1, 0, 1, 0, 2, 2, 2, 2, 1, 2, 0, 1, 1, 2, 2, 0, 0, 2, 1, 0, 1, 1, 2, 1, 2, 2, 2, 1, 1, 1, 1, 2, 1, 0, 2, 0, 1, 1, 0, 0]\n"
     ]
    }
   ],
   "source": [
    "y_pred = predictor.predict(x_test)\n",
    "print(y_pred)"
   ]
  },
  {
   "cell_type": "code",
   "execution_count": 21,
   "id": "4740f1a3",
   "metadata": {
    "execution": {
     "iopub.execute_input": "2022-04-25T17:28:08.587752Z",
     "iopub.status.busy": "2022-04-25T17:28:08.586910Z",
     "iopub.status.idle": "2022-04-25T17:28:08.687596Z",
     "shell.execute_reply": "2022-04-25T17:28:08.687095Z",
     "shell.execute_reply.started": "2022-04-25T16:52:58.118756Z"
    },
    "papermill": {
     "duration": 4.445542,
     "end_time": "2022-04-25T17:28:08.687725",
     "exception": false,
     "start_time": "2022-04-25T17:28:04.242183",
     "status": "completed"
    },
    "tags": []
   },
   "outputs": [
    {
     "name": "stdout",
     "output_type": "stream",
     "text": [
      "              precision    recall  f1-score   support\n",
      "\n",
      "           0       0.49      0.52      0.51       364\n",
      "           1       0.75      0.72      0.73       659\n",
      "           2       0.72      0.72      0.72       550\n",
      "\n",
      "    accuracy                           0.67      1573\n",
      "   macro avg       0.65      0.65      0.65      1573\n",
      "weighted avg       0.68      0.67      0.67      1573\n",
      "\n"
     ]
    }
   ],
   "source": [
    "from sklearn.metrics import classification_report\n",
    "print(classification_report(y_test,y_pred))"
   ]
  },
  {
   "cell_type": "code",
   "execution_count": 22,
   "id": "60290408",
   "metadata": {
    "execution": {
     "iopub.execute_input": "2022-04-25T17:28:15.521669Z",
     "iopub.status.busy": "2022-04-25T17:28:15.520807Z",
     "iopub.status.idle": "2022-04-25T17:28:16.037429Z",
     "shell.execute_reply": "2022-04-25T17:28:16.036961Z",
     "shell.execute_reply.started": "2022-04-25T16:52:58.194184Z"
    },
    "papermill": {
     "duration": 3.900668,
     "end_time": "2022-04-25T17:28:16.037564",
     "exception": false,
     "start_time": "2022-04-25T17:28:12.136896",
     "status": "completed"
    },
    "tags": []
   },
   "outputs": [
    {
     "data": {
      "image/png": "[encoded data removed]",
      "text/plain": [
       "<Figure size 1152x1008 with 2 Axes>"
      ]
     },
     "metadata": {
      "needs_background": "light"
     },
     "output_type": "display_data"
    }
   ],
   "source": [
    "import seaborn as sns\n",
    "import matplotlib.pyplot as plt\n",
    "\n",
    "### Confusion Matrix\n",
    "from sklearn.metrics import confusion_matrix\n",
    "#predictions = model.predict(x_test, steps=len(x_test), verbose=0)\n",
    "#y_pred=model.predict(x_test)\n",
    "#y_pred = np.round(y_pred)\n",
    "\n",
    "\n",
    "cm = confusion_matrix(y_test, y_pred)\n",
    "\n",
    "## Get Class Labels\n",
    "labels = 3\n",
    "#[0,1,2,3,4,5]_\n",
    "class_names = categories \n",
    "\n",
    "# Plot confusion matrix in a beautiful manner\n",
    "fig = plt.figure(figsize=(16, 14))\n",
    "ax= plt.subplot()\n",
    "sns.heatmap(cm, annot=True, ax = ax, fmt = 'g'); #annot=True to annotate cells\n",
    "# labels, title and ticks\n",
    "ax.set_xlabel('Predicted', fontsize=20)\n",
    "ax.xaxis.set_label_position('bottom')\n",
    "plt.xticks(rotation=90)\n",
    "ax.xaxis.set_ticklabels(class_names, fontsize = 10)\n",
    "ax.xaxis.tick_bottom()\n",
    "\n",
    "ax.set_ylabel('True', fontsize=20)\n",
    "ax.yaxis.set_ticklabels(class_names, fontsize = 10)\n",
    "plt.yticks(rotation=0)\n",
    "\n",
    "plt.title('Refined Confusion Matrix', fontsize=20)\n",
    "\n",
    "plt.savefig('ConMat24.png')\n",
    "plt.show()\n"
   ]
  }
 ],
 "metadata": {
  "kernelspec": {
   "display_name": "Python 3",
   "language": "python",
   "name": "python3"
  },
  "language_info": {
   "codemirror_mode": {
    "name": "ipython",
    "version": 3
   },
   "file_extension": ".py",
   "mimetype": "text/x-python",
   "name": "python",
   "nbconvert_exporter": "python",
   "pygments_lexer": "ipython3",
   "version": "3.7.12"
  },
  "papermill": {
   "default_parameters": {},
   "duration": 1743.510152,
   "end_time": "2022-04-25T17:28:23.608676",
   "environment_variables": {},
   "exception": null,
   "input_path": "__notebook__.ipynb",
   "output_path": "__notebook__.ipynb",
   "parameters": {},
   "start_time": "2022-04-25T16:59:20.098524",
   "version": "2.3.3"
  },
  "widgets": {
   "application/vnd.jupyter.widget-state+json": {
    "state": {
     "012af82e884944d59525d34ee5d3e1be": {
      "model_module": "@jupyter-widgets/controls",
      "model_module_version": "1.5.0",
      "model_name": "DescriptionStyleModel",
      "state": {
       "_model_module": "@jupyter-widgets/controls",
       "_model_module_version": "1.5.0",
       "_model_name": "DescriptionStyleModel",
       "_view_count": null,
       "_view_module": "@jupyter-widgets/base",
       "_view_module_version": "1.2.0",
       "_view_name": "StyleView",
       "description_width": ""
      }
     },
     "01f5c013eafc4cfeb5c1f8b935c41229": {
      "model_module": "@jupyter-widgets/controls",
      "model_module_version": "1.5.0",
      "model_name": "HBoxModel",
      "state": {
       "_dom_classes": [],
       "_model_module": "@jupyter-widgets/controls",
       "_model_module_version": "1.5.0",
       "_model_name": "HBoxModel",
       "_view_count": null,
       "_view_module": "@jupyter-widgets/controls",
       "_view_module_version": "1.5.0",
       "_view_name": "HBoxView",
       "box_style": "",
       "children": [
        "IPY_MODEL_db9ee196344b4a1f87289e36928c4abc",
        "IPY_MODEL_f822e2685398453baeb306bcfb063853",
        "IPY_MODEL_990c72d311ca46418d0202d459f376c7"
       ],
       "layout": "IPY_MODEL_cf401cc3d84048dca953ff5add0bf068"
      }
     },
     "09cdc2062cdc451eb50425044182785e": {
      "model_module": "@jupyter-widgets/controls",
      "model_module_version": "1.5.0",
      "model_name": "DescriptionStyleModel",
      "state": {
       "_model_module": "@jupyter-widgets/controls",
       "_model_module_version": "1.5.0",
       "_model_name": "DescriptionStyleModel",
       "_view_count": null,
       "_view_module": "@jupyter-widgets/base",
       "_view_module_version": "1.2.0",
       "_view_name": "StyleView",
       "description_width": ""
      }
     },
     "0a55835fe8fa4f899ecc4c96aa0fee26": {
      "model_module": "@jupyter-widgets/controls",
      "model_module_version": "1.5.0",
      "model_name": "FloatProgressModel",
      "state": {
       "_dom_classes": [],
       "_model_module": "@jupyter-widgets/controls",
       "_model_module_version": "1.5.0",
       "_model_name": "FloatProgressModel",
       "_view_count": null,
       "_view_module": "@jupyter-widgets/controls",
       "_view_module_version": "1.5.0",
       "_view_name": "ProgressView",
       "bar_style": "success",
       "description": "",
       "description_tooltip": null,
       "layout": "IPY_MODEL_833c0969cf384300b5ad490976d1c056",
       "max": 1961828.0,
       "min": 0.0,
       "orientation": "horizontal",
       "style": "IPY_MODEL_40c3efa4b81848abb0354adba51f5528",
       "value": 1961828.0
      }
     },
     "0c97eb89a3ff4df7a883b2e027ba9ca4": {
      "model_module": "@jupyter-widgets/controls",
      "model_module_version": "1.5.0",
      "model_name": "DescriptionStyleModel",
      "state": {
       "_model_module": "@jupyter-widgets/controls",
       "_model_module_version": "1.5.0",
       "_model_name": "DescriptionStyleModel",
       "_view_count": null,
       "_view_module": "@jupyter-widgets/base",
       "_view_module_version": "1.2.0",
       "_view_name": "StyleView",
       "description_width": ""
      }
     },
     "0f83f67592a844b98664f5c7a7bb3b2c": {
      "model_module": "@jupyter-widgets/base",
      "model_module_version": "1.2.0",
      "model_name": "LayoutModel",
      "state": {
       "_model_module": "@jupyter-widgets/base",
       "_model_module_version": "1.2.0",
       "_model_name": "LayoutModel",
       "_view_count": null,
       "_view_module": "@jupyter-widgets/base",
       "_view_module_version": "1.2.0",
       "_view_name": "LayoutView",
       "align_content": null,
       "align_items": null,
       "align_self": null,
       "border": null,
       "bottom": null,
       "display": null,
       "flex": null,
       "flex_flow": null,
       "grid_area": null,
       "grid_auto_columns": null,
       "grid_auto_flow": null,
       "grid_auto_rows": null,
       "grid_column": null,
       "grid_gap": null,
       "grid_row": null,
       "grid_template_areas": null,
       "grid_template_columns": null,
       "grid_template_rows": null,
       "height": null,
       "justify_content": null,
       "justify_items": null,
       "left": null,
       "margin": null,
       "max_height": null,
       "max_width": null,
       "min_height": null,
       "min_width": null,
       "object_fit": null,
       "object_position": null,
       "order": null,
       "overflow": null,
       "overflow_x": null,
       "overflow_y": null,
       "padding": null,
       "right": null,
       "top": null,
       "visibility": null,
       "width": null
      }
     },
     "1297c6b7e69a4ee6a87c7ebd579b3089": {
      "model_module": "@jupyter-widgets/base",
      "model_module_version": "1.2.0",
      "model_name": "LayoutModel",
      "state": {
       "_model_module": "@jupyter-widgets/base",
       "_model_module_version": "1.2.0",
       "_model_name": "LayoutModel",
       "_view_count": null,
       "_view_module": "@jupyter-widgets/base",
       "_view_module_version": "1.2.0",
       "_view_name": "LayoutView",
       "align_content": null,
       "align_items": null,
       "align_self": null,
       "border": null,
       "bottom": null,
       "display": null,
       "flex": null,
       "flex_flow": null,
       "grid_area": null,
       "grid_auto_columns": null,
       "grid_auto_flow": null,
       "grid_auto_rows": null,
       "grid_column": null,
       "grid_gap": null,
       "grid_row": null,
       "grid_template_areas": null,
       "grid_template_columns": null,
       "grid_template_rows": null,
       "height": null,
       "justify_content": null,
       "justify_items": null,
       "left": null,
       "margin": null,
       "max_height": null,
       "max_width": null,
       "min_height": null,
       "min_width": null,
       "object_fit": null,
       "object_position": null,
       "order": null,
       "overflow": null,
       "overflow_x": null,
       "overflow_y": null,
       "padding": null,
       "right": null,
       "top": null,
       "visibility": null,
       "width": null
      }
     },
     "133932a6ea104084b74e8c83242ca97d": {
      "model_module": "@jupyter-widgets/controls",
      "model_module_version": "1.5.0",
      "model_name": "FloatProgressModel",
      "state": {
       "_dom_classes": [],
       "_model_module": "@jupyter-widgets/controls",
       "_model_module_version": "1.5.0",
       "_model_name": "FloatProgressModel",
       "_view_count": null,
       "_view_module": "@jupyter-widgets/controls",
       "_view_module_version": "1.5.0",
       "_view_name": "ProgressView",
       "bar_style": "success",
       "description": "",
       "description_tooltip": null,
       "layout": "IPY_MODEL_fbc525663d9149efb3c4b0b8886e5763",
       "max": 29.0,
       "min": 0.0,
       "orientation": "horizontal",
       "style": "IPY_MODEL_6377f4a0d83d4ceaacfc2f4e9ce90099",
       "value": 29.0
      }
     },
     "16adc2b476dc4ea6ae0585f044f80ddb": {
      "model_module": "@jupyter-widgets/controls",
      "model_module_version": "1.5.0",
      "model_name": "HTMLModel",
      "state": {
       "_dom_classes": [],
       "_model_module": "@jupyter-widgets/controls",
       "_model_module_version": "1.5.0",
       "_model_name": "HTMLModel",
       "_view_count": null,
       "_view_module": "@jupyter-widgets/controls",
       "_view_module_version": "1.5.0",
       "_view_name": "HTMLView",
       "description": "",
       "description_tooltip": null,
       "layout": "IPY_MODEL_9c00e8e5ef5841be906e8c016e5dfd33",
       "placeholder": "​",
       "style": "IPY_MODEL_25eed7cf93484aacbb0f8f4c9183002e",
       "value": " 996k/996k [00:00&lt;00:00, 1.92MB/s]"
      }
     },
     "25eed7cf93484aacbb0f8f4c9183002e": {
      "model_module": "@jupyter-widgets/controls",
      "model_module_version": "1.5.0",
      "model_name": "DescriptionStyleModel",
      "state": {
       "_model_module": "@jupyter-widgets/controls",
       "_model_module_version": "1.5.0",
       "_model_name": "DescriptionStyleModel",
       "_view_count": null,
       "_view_module": "@jupyter-widgets/base",
       "_view_module_version": "1.2.0",
       "_view_name": "StyleView",
       "description_width": ""
      }
     },
     "2a8fe208c9a1494090d8e7b7ff8e5adb": {
      "model_module": "@jupyter-widgets/controls",
      "model_module_version": "1.5.0",
      "model_name": "HBoxModel",
      "state": {
       "_dom_classes": [],
       "_model_module": "@jupyter-widgets/controls",
       "_model_module_version": "1.5.0",
       "_model_name": "HBoxModel",
       "_view_count": null,
       "_view_module": "@jupyter-widgets/controls",
       "_view_module_version": "1.5.0",
       "_view_name": "HBoxView",
       "box_style": "",
       "children": [
        "IPY_MODEL_40f37b849e354b55b49e6a2106535c64",
        "IPY_MODEL_133932a6ea104084b74e8c83242ca97d",
        "IPY_MODEL_695c2d2359404eeca0e5a5f29c1f6308"
       ],
       "layout": "IPY_MODEL_53797106583a4b61856d762332c6525d"
      }
     },
     "2f9311e359e44c60a0d36deaeaabb8c7": {
      "model_module": "@jupyter-widgets/controls",
      "model_module_version": "1.5.0",
      "model_name": "HTMLModel",
      "state": {
       "_dom_classes": [],
       "_model_module": "@jupyter-widgets/controls",
       "_model_module_version": "1.5.0",
       "_model_name": "HTMLModel",
       "_view_count": null,
       "_view_module": "@jupyter-widgets/controls",
       "_view_module_version": "1.5.0",
       "_view_name": "HTMLView",
       "description": "",
       "description_tooltip": null,
       "layout": "IPY_MODEL_ba701db81d804ea69e05bf7844ab4a41",
       "placeholder": "​",
       "style": "IPY_MODEL_b7f0fdc30e5f40cf9e3060539a937313",
       "value": " 1.96M/1.96M [00:00&lt;00:00, 1.67MB/s]"
      }
     },
     "37f050bc3ab64403acb77dd53e45efbb": {
      "model_module": "@jupyter-widgets/controls",
      "model_module_version": "1.5.0",
      "model_name": "DescriptionStyleModel",
      "state": {
       "_model_module": "@jupyter-widgets/controls",
       "_model_module_version": "1.5.0",
       "_model_name": "DescriptionStyleModel",
       "_view_count": null,
       "_view_module": "@jupyter-widgets/base",
       "_view_module_version": "1.2.0",
       "_view_name": "StyleView",
       "description_width": ""
      }
     },
     "3bd3968694ab484c9a2c1448b6a5ad5b": {
      "model_module": "@jupyter-widgets/controls",
      "model_module_version": "1.5.0",
      "model_name": "DescriptionStyleModel",
      "state": {
       "_model_module": "@jupyter-widgets/controls",
       "_model_module_version": "1.5.0",
       "_model_name": "DescriptionStyleModel",
       "_view_count": null,
       "_view_module": "@jupyter-widgets/base",
       "_view_module_version": "1.2.0",
       "_view_name": "StyleView",
       "description_width": ""
      }
     },
     "40c3efa4b81848abb0354adba51f5528": {
      "model_module": "@jupyter-widgets/controls",
      "model_module_version": "1.5.0",
      "model_name": "ProgressStyleModel",
      "state": {
       "_model_module": "@jupyter-widgets/controls",
       "_model_module_version": "1.5.0",
       "_model_name": "ProgressStyleModel",
       "_view_count": null,
       "_view_module": "@jupyter-widgets/base",
       "_view_module_version": "1.2.0",
       "_view_name": "StyleView",
       "bar_color": null,
       "description_width": ""
      }
     },
     "40f37b849e354b55b49e6a2106535c64": {
      "model_module": "@jupyter-widgets/controls",
      "model_module_version": "1.5.0",
      "model_name": "HTMLModel",
      "state": {
       "_dom_classes": [],
       "_model_module": "@jupyter-widgets/controls",
       "_model_module_version": "1.5.0",
       "_model_name": "HTMLModel",
       "_view_count": null,
       "_view_module": "@jupyter-widgets/controls",
       "_view_module_version": "1.5.0",
       "_view_name": "HTMLView",
       "description": "",
       "description_tooltip": null,
       "layout": "IPY_MODEL_8416ebedfa434f6ba1a5b5c4627c5da7",
       "placeholder": "​",
       "style": "IPY_MODEL_764d6a33f41c4a3db4d7872d55c1e887",
       "value": "Downloading: 100%"
      }
     },
     "459e7089de314aef973c7cc41dd8bdfb": {
      "model_module": "@jupyter-widgets/base",
      "model_module_version": "1.2.0",
      "model_name": "LayoutModel",
      "state": {
       "_model_module": "@jupyter-widgets/base",
       "_model_module_version": "1.2.0",
       "_model_name": "LayoutModel",
       "_view_count": null,
       "_view_module": "@jupyter-widgets/base",
       "_view_module_version": "1.2.0",
       "_view_name": "LayoutView",
       "align_content": null,
       "align_items": null,
       "align_self": null,
       "border": null,
       "bottom": null,
       "display": null,
       "flex": null,
       "flex_flow": null,
       "grid_area": null,
       "grid_auto_columns": null,
       "grid_auto_flow": null,
       "grid_auto_rows": null,
       "grid_column": null,
       "grid_gap": null,
       "grid_row": null,
       "grid_template_areas": null,
       "grid_template_columns": null,
       "grid_template_rows": null,
       "height": null,
       "justify_content": null,
       "justify_items": null,
       "left": null,
       "margin": null,
       "max_height": null,
       "max_width": null,
       "min_height": null,
       "min_width": null,
       "object_fit": null,
       "object_position": null,
       "order": null,
       "overflow": null,
       "overflow_x": null,
       "overflow_y": null,
       "padding": null,
       "right": null,
       "top": null,
       "visibility": null,
       "width": null
      }
     },
     "4a5e37ee1d0342d3b49625bdcaf65275": {
      "model_module": "@jupyter-widgets/base",
      "model_module_version": "1.2.0",
      "model_name": "LayoutModel",
      "state": {
       "_model_module": "@jupyter-widgets/base",
       "_model_module_version": "1.2.0",
       "_model_name": "LayoutModel",
       "_view_count": null,
       "_view_module": "@jupyter-widgets/base",
       "_view_module_version": "1.2.0",
       "_view_name": "LayoutView",
       "align_content": null,
       "align_items": null,
       "align_self": null,
       "border": null,
       "bottom": null,
       "display": null,
       "flex": null,
       "flex_flow": null,
       "grid_area": null,
       "grid_auto_columns": null,
       "grid_auto_flow": null,
       "grid_auto_rows": null,
       "grid_column": null,
       "grid_gap": null,
       "grid_row": null,
       "grid_template_areas": null,
       "grid_template_columns": null,
       "grid_template_rows": null,
       "height": null,
       "justify_content": null,
       "justify_items": null,
       "left": null,
       "margin": null,
       "max_height": null,
       "max_width": null,
       "min_height": null,
       "min_width": null,
       "object_fit": null,
       "object_position": null,
       "order": null,
       "overflow": null,
       "overflow_x": null,
       "overflow_y": null,
       "padding": null,
       "right": null,
       "top": null,
       "visibility": null,
       "width": null
      }
     },
     "53797106583a4b61856d762332c6525d": {
      "model_module": "@jupyter-widgets/base",
      "model_module_version": "1.2.0",
      "model_name": "LayoutModel",
      "state": {
       "_model_module": "@jupyter-widgets/base",
       "_model_module_version": "1.2.0",
       "_model_name": "LayoutModel",
       "_view_count": null,
       "_view_module": "@jupyter-widgets/base",
       "_view_module_version": "1.2.0",
       "_view_name": "LayoutView",
       "align_content": null,
       "align_items": null,
       "align_self": null,
       "border": null,
       "bottom": null,
       "display": null,
       "flex": null,
       "flex_flow": null,
       "grid_area": null,
       "grid_auto_columns": null,
       "grid_auto_flow": null,
       "grid_auto_rows": null,
       "grid_column": null,
       "grid_gap": null,
       "grid_row": null,
       "grid_template_areas": null,
       "grid_template_columns": null,
       "grid_template_rows": null,
       "height": null,
       "justify_content": null,
       "justify_items": null,
       "left": null,
       "margin": null,
       "max_height": null,
       "max_width": null,
       "min_height": null,
       "min_width": null,
       "object_fit": null,
       "object_position": null,
       "order": null,
       "overflow": null,
       "overflow_x": null,
       "overflow_y": null,
       "padding": null,
       "right": null,
       "top": null,
       "visibility": null,
       "width": null
      }
     },
     "5d815aef383742568b7df16717602dbd": {
      "model_module": "@jupyter-widgets/controls",
      "model_module_version": "1.5.0",
      "model_name": "ProgressStyleModel",
      "state": {
       "_model_module": "@jupyter-widgets/controls",
       "_model_module_version": "1.5.0",
       "_model_name": "ProgressStyleModel",
       "_view_count": null,
       "_view_module": "@jupyter-widgets/base",
       "_view_module_version": "1.2.0",
       "_view_name": "StyleView",
       "bar_color": null,
       "description_width": ""
      }
     },
     "5fa75271c13040e684d6803a8d5dd2e2": {
      "model_module": "@jupyter-widgets/controls",
      "model_module_version": "1.5.0",
      "model_name": "DescriptionStyleModel",
      "state": {
       "_model_module": "@jupyter-widgets/controls",
       "_model_module_version": "1.5.0",
       "_model_name": "DescriptionStyleModel",
       "_view_count": null,
       "_view_module": "@jupyter-widgets/base",
       "_view_module_version": "1.2.0",
       "_view_name": "StyleView",
       "description_width": ""
      }
     },
     "608eb5aef35d4f66959d20f6af97bd41": {
      "model_module": "@jupyter-widgets/base",
      "model_module_version": "1.2.0",
      "model_name": "LayoutModel",
      "state": {
       "_model_module": "@jupyter-widgets/base",
       "_model_module_version": "1.2.0",
       "_model_name": "LayoutModel",
       "_view_count": null,
       "_view_module": "@jupyter-widgets/base",
       "_view_module_version": "1.2.0",
       "_view_name": "LayoutView",
       "align_content": null,
       "align_items": null,
       "align_self": null,
       "border": null,
       "bottom": null,
       "display": null,
       "flex": null,
       "flex_flow": null,
       "grid_area": null,
       "grid_auto_columns": null,
       "grid_auto_flow": null,
       "grid_auto_rows": null,
       "grid_column": null,
       "grid_gap": null,
       "grid_row": null,
       "grid_template_areas": null,
       "grid_template_columns": null,
       "grid_template_rows": null,
       "height": null,
       "justify_content": null,
       "justify_items": null,
       "left": null,
       "margin": null,
       "max_height": null,
       "max_width": null,
       "min_height": null,
       "min_width": null,
       "object_fit": null,
       "object_position": null,
       "order": null,
       "overflow": null,
       "overflow_x": null,
       "overflow_y": null,
       "padding": null,
       "right": null,
       "top": null,
       "visibility": null,
       "width": null
      }
     },
     "6322551be89740aebf6b738bdba0c9e3": {
      "model_module": "@jupyter-widgets/controls",
      "model_module_version": "1.5.0",
      "model_name": "HBoxModel",
      "state": {
       "_dom_classes": [],
       "_model_module": "@jupyter-widgets/controls",
       "_model_module_version": "1.5.0",
       "_model_name": "HBoxModel",
       "_view_count": null,
       "_view_module": "@jupyter-widgets/controls",
       "_view_module_version": "1.5.0",
       "_view_name": "HBoxView",
       "box_style": "",
       "children": [
        "IPY_MODEL_c88a690a1afb4d34ba1b8a02763a8ae7",
        "IPY_MODEL_0a55835fe8fa4f899ecc4c96aa0fee26",
        "IPY_MODEL_2f9311e359e44c60a0d36deaeaabb8c7"
       ],
       "layout": "IPY_MODEL_0f83f67592a844b98664f5c7a7bb3b2c"
      }
     },
     "635c7ccf8fd241d483ee916cdb9529ba": {
      "model_module": "@jupyter-widgets/controls",
      "model_module_version": "1.5.0",
      "model_name": "DescriptionStyleModel",
      "state": {
       "_model_module": "@jupyter-widgets/controls",
       "_model_module_version": "1.5.0",
       "_model_name": "DescriptionStyleModel",
       "_view_count": null,
       "_view_module": "@jupyter-widgets/base",
       "_view_module_version": "1.2.0",
       "_view_name": "StyleView",
       "description_width": ""
      }
     },
     "6377f4a0d83d4ceaacfc2f4e9ce90099": {
      "model_module": "@jupyter-widgets/controls",
      "model_module_version": "1.5.0",
      "model_name": "ProgressStyleModel",
      "state": {
       "_model_module": "@jupyter-widgets/controls",
       "_model_module_version": "1.5.0",
       "_model_name": "ProgressStyleModel",
       "_view_count": null,
       "_view_module": "@jupyter-widgets/base",
       "_view_module_version": "1.2.0",
       "_view_name": "StyleView",
       "bar_color": null,
       "description_width": ""
      }
     },
     "639f53b9065049d5a061b30d75fc76ba": {
      "model_module": "@jupyter-widgets/base",
      "model_module_version": "1.2.0",
      "model_name": "LayoutModel",
      "state": {
       "_model_module": "@jupyter-widgets/base",
       "_model_module_version": "1.2.0",
       "_model_name": "LayoutModel",
       "_view_count": null,
       "_view_module": "@jupyter-widgets/base",
       "_view_module_version": "1.2.0",
       "_view_name": "LayoutView",
       "align_content": null,
       "align_items": null,
       "align_self": null,
       "border": null,
       "bottom": null,
       "display": null,
       "flex": null,
       "flex_flow": null,
       "grid_area": null,
       "grid_auto_columns": null,
       "grid_auto_flow": null,
       "grid_auto_rows": null,
       "grid_column": null,
       "grid_gap": null,
       "grid_row": null,
       "grid_template_areas": null,
       "grid_template_columns": null,
       "grid_template_rows": null,
       "height": null,
       "justify_content": null,
       "justify_items": null,
       "left": null,
       "margin": null,
       "max_height": null,
       "max_width": null,
       "min_height": null,
       "min_width": null,
       "object_fit": null,
       "object_position": null,
       "order": null,
       "overflow": null,
       "overflow_x": null,
       "overflow_y": null,
       "padding": null,
       "right": null,
       "top": null,
       "visibility": null,
       "width": null
      }
     },
     "695c2d2359404eeca0e5a5f29c1f6308": {
      "model_module": "@jupyter-widgets/controls",
      "model_module_version": "1.5.0",
      "model_name": "HTMLModel",
      "state": {
       "_dom_classes": [],
       "_model_module": "@jupyter-widgets/controls",
       "_model_module_version": "1.5.0",
       "_model_name": "HTMLModel",
       "_view_count": null,
       "_view_module": "@jupyter-widgets/controls",
       "_view_module_version": "1.5.0",
       "_view_name": "HTMLView",
       "description": "",
       "description_tooltip": null,
       "layout": "IPY_MODEL_639f53b9065049d5a061b30d75fc76ba",
       "placeholder": "​",
       "style": "IPY_MODEL_37f050bc3ab64403acb77dd53e45efbb",
       "value": " 29.0/29.0 [00:00&lt;00:00, 1.12kB/s]"
      }
     },
     "7365522900b44b22a49770653997ccc7": {
      "model_module": "@jupyter-widgets/controls",
      "model_module_version": "1.5.0",
      "model_name": "ProgressStyleModel",
      "state": {
       "_model_module": "@jupyter-widgets/controls",
       "_model_module_version": "1.5.0",
       "_model_name": "ProgressStyleModel",
       "_view_count": null,
       "_view_module": "@jupyter-widgets/base",
       "_view_module_version": "1.2.0",
       "_view_name": "StyleView",
       "bar_color": null,
       "description_width": ""
      }
     },
     "764d6a33f41c4a3db4d7872d55c1e887": {
      "model_module": "@jupyter-widgets/controls",
      "model_module_version": "1.5.0",
      "model_name": "DescriptionStyleModel",
      "state": {
       "_model_module": "@jupyter-widgets/controls",
       "_model_module_version": "1.5.0",
       "_model_name": "DescriptionStyleModel",
       "_view_count": null,
       "_view_module": "@jupyter-widgets/base",
       "_view_module_version": "1.2.0",
       "_view_name": "StyleView",
       "description_width": ""
      }
     },
     "819f047e9f274f399f2e910e28877554": {
      "model_module": "@jupyter-widgets/base",
      "model_module_version": "1.2.0",
      "model_name": "LayoutModel",
      "state": {
       "_model_module": "@jupyter-widgets/base",
       "_model_module_version": "1.2.0",
       "_model_name": "LayoutModel",
       "_view_count": null,
       "_view_module": "@jupyter-widgets/base",
       "_view_module_version": "1.2.0",
       "_view_name": "LayoutView",
       "align_content": null,
       "align_items": null,
       "align_self": null,
       "border": null,
       "bottom": null,
       "display": null,
       "flex": null,
       "flex_flow": null,
       "grid_area": null,
       "grid_auto_columns": null,
       "grid_auto_flow": null,
       "grid_auto_rows": null,
       "grid_column": null,
       "grid_gap": null,
       "grid_row": null,
       "grid_template_areas": null,
       "grid_template_columns": null,
       "grid_template_rows": null,
       "height": null,
       "justify_content": null,
       "justify_items": null,
       "left": null,
       "margin": null,
       "max_height": null,
       "max_width": null,
       "min_height": null,
       "min_width": null,
       "object_fit": null,
       "object_position": null,
       "order": null,
       "overflow": null,
       "overflow_x": null,
       "overflow_y": null,
       "padding": null,
       "right": null,
       "top": null,
       "visibility": null,
       "width": null
      }
     },
     "833c0969cf384300b5ad490976d1c056": {
      "model_module": "@jupyter-widgets/base",
      "model_module_version": "1.2.0",
      "model_name": "LayoutModel",
      "state": {
       "_model_module": "@jupyter-widgets/base",
       "_model_module_version": "1.2.0",
       "_model_name": "LayoutModel",
       "_view_count": null,
       "_view_module": "@jupyter-widgets/base",
       "_view_module_version": "1.2.0",
       "_view_name": "LayoutView",
       "align_content": null,
       "align_items": null,
       "align_self": null,
       "border": null,
       "bottom": null,
       "display": null,
       "flex": null,
       "flex_flow": null,
       "grid_area": null,
       "grid_auto_columns": null,
       "grid_auto_flow": null,
       "grid_auto_rows": null,
       "grid_column": null,
       "grid_gap": null,
       "grid_row": null,
       "grid_template_areas": null,
       "grid_template_columns": null,
       "grid_template_rows": null,
       "height": null,
       "justify_content": null,
       "justify_items": null,
       "left": null,
       "margin": null,
       "max_height": null,
       "max_width": null,
       "min_height": null,
       "min_width": null,
       "object_fit": null,
       "object_position": null,
       "order": null,
       "overflow": null,
       "overflow_x": null,
       "overflow_y": null,
       "padding": null,
       "right": null,
       "top": null,
       "visibility": null,
       "width": null
      }
     },
     "8416ebedfa434f6ba1a5b5c4627c5da7": {
      "model_module": "@jupyter-widgets/base",
      "model_module_version": "1.2.0",
      "model_name": "LayoutModel",
      "state": {
       "_model_module": "@jupyter-widgets/base",
       "_model_module_version": "1.2.0",
       "_model_name": "LayoutModel",
       "_view_count": null,
       "_view_module": "@jupyter-widgets/base",
       "_view_module_version": "1.2.0",
       "_view_name": "LayoutView",
       "align_content": null,
       "align_items": null,
       "align_self": null,
       "border": null,
       "bottom": null,
       "display": null,
       "flex": null,
       "flex_flow": null,
       "grid_area": null,
       "grid_auto_columns": null,
       "grid_auto_flow": null,
       "grid_auto_rows": null,
       "grid_column": null,
       "grid_gap": null,
       "grid_row": null,
       "grid_template_areas": null,
       "grid_template_columns": null,
       "grid_template_rows": null,
       "height": null,
       "justify_content": null,
       "justify_items": null,
       "left": null,
       "margin": null,
       "max_height": null,
       "max_width": null,
       "min_height": null,
       "min_width": null,
       "object_fit": null,
       "object_position": null,
       "order": null,
       "overflow": null,
       "overflow_x": null,
       "overflow_y": null,
       "padding": null,
       "right": null,
       "top": null,
       "visibility": null,
       "width": null
      }
     },
     "8ede49f274784b5c8be28abb7a41819a": {
      "model_module": "@jupyter-widgets/controls",
      "model_module_version": "1.5.0",
      "model_name": "HTMLModel",
      "state": {
       "_dom_classes": [],
       "_model_module": "@jupyter-widgets/controls",
       "_model_module_version": "1.5.0",
       "_model_name": "HTMLModel",
       "_view_count": null,
       "_view_module": "@jupyter-widgets/controls",
       "_view_module_version": "1.5.0",
       "_view_name": "HTMLView",
       "description": "",
       "description_tooltip": null,
       "layout": "IPY_MODEL_4a5e37ee1d0342d3b49625bdcaf65275",
       "placeholder": "​",
       "style": "IPY_MODEL_3bd3968694ab484c9a2c1448b6a5ad5b",
       "value": " 1.08G/1.08G [00:36&lt;00:00, 30.7MB/s]"
      }
     },
     "990c72d311ca46418d0202d459f376c7": {
      "model_module": "@jupyter-widgets/controls",
      "model_module_version": "1.5.0",
      "model_name": "HTMLModel",
      "state": {
       "_dom_classes": [],
       "_model_module": "@jupyter-widgets/controls",
       "_model_module_version": "1.5.0",
       "_model_name": "HTMLModel",
       "_view_count": null,
       "_view_module": "@jupyter-widgets/controls",
       "_view_module_version": "1.5.0",
       "_view_name": "HTMLView",
       "description": "",
       "description_tooltip": null,
       "layout": "IPY_MODEL_608eb5aef35d4f66959d20f6af97bd41",
       "placeholder": "​",
       "style": "IPY_MODEL_0c97eb89a3ff4df7a883b2e027ba9ca4",
       "value": " 625/625 [00:00&lt;00:00, 22.9kB/s]"
      }
     },
     "9c00e8e5ef5841be906e8c016e5dfd33": {
      "model_module": "@jupyter-widgets/base",
      "model_module_version": "1.2.0",
      "model_name": "LayoutModel",
      "state": {
       "_model_module": "@jupyter-widgets/base",
       "_model_module_version": "1.2.0",
       "_model_name": "LayoutModel",
       "_view_count": null,
       "_view_module": "@jupyter-widgets/base",
       "_view_module_version": "1.2.0",
       "_view_name": "LayoutView",
       "align_content": null,
       "align_items": null,
       "align_self": null,
       "border": null,
       "bottom": null,
       "display": null,
       "flex": null,
       "flex_flow": null,
       "grid_area": null,
       "grid_auto_columns": null,
       "grid_auto_flow": null,
       "grid_auto_rows": null,
       "grid_column": null,
       "grid_gap": null,
       "grid_row": null,
       "grid_template_areas": null,
       "grid_template_columns": null,
       "grid_template_rows": null,
       "height": null,
       "justify_content": null,
       "justify_items": null,
       "left": null,
       "margin": null,
       "max_height": null,
       "max_width": null,
       "min_height": null,
       "min_width": null,
       "object_fit": null,
       "object_position": null,
       "order": null,
       "overflow": null,
       "overflow_x": null,
       "overflow_y": null,
       "padding": null,
       "right": null,
       "top": null,
       "visibility": null,
       "width": null
      }
     },
     "a5c9d04a4f6e46b58cccf1230312520e": {
      "model_module": "@jupyter-widgets/controls",
      "model_module_version": "1.5.0",
      "model_name": "HTMLModel",
      "state": {
       "_dom_classes": [],
       "_model_module": "@jupyter-widgets/controls",
       "_model_module_version": "1.5.0",
       "_model_name": "HTMLModel",
       "_view_count": null,
       "_view_module": "@jupyter-widgets/controls",
       "_view_module_version": "1.5.0",
       "_view_name": "HTMLView",
       "description": "",
       "description_tooltip": null,
       "layout": "IPY_MODEL_bf9ed3da6b484368aba85df00315a8e0",
       "placeholder": "​",
       "style": "IPY_MODEL_09cdc2062cdc451eb50425044182785e",
       "value": "Downloading: 100%"
      }
     },
     "a87d8c85e3bc47f3b1d9cf4f8d7418b5": {
      "model_module": "@jupyter-widgets/controls",
      "model_module_version": "1.5.0",
      "model_name": "HTMLModel",
      "state": {
       "_dom_classes": [],
       "_model_module": "@jupyter-widgets/controls",
       "_model_module_version": "1.5.0",
       "_model_name": "HTMLModel",
       "_view_count": null,
       "_view_module": "@jupyter-widgets/controls",
       "_view_module_version": "1.5.0",
       "_view_name": "HTMLView",
       "description": "",
       "description_tooltip": null,
       "layout": "IPY_MODEL_fcd9ba99db8441c5b42a94fe8f05036b",
       "placeholder": "​",
       "style": "IPY_MODEL_5fa75271c13040e684d6803a8d5dd2e2",
       "value": "Downloading: 100%"
      }
     },
     "b25f3e1a0aaf4121b68efe8c658197f5": {
      "model_module": "@jupyter-widgets/controls",
      "model_module_version": "1.5.0",
      "model_name": "FloatProgressModel",
      "state": {
       "_dom_classes": [],
       "_model_module": "@jupyter-widgets/controls",
       "_model_module_version": "1.5.0",
       "_model_name": "FloatProgressModel",
       "_view_count": null,
       "_view_module": "@jupyter-widgets/controls",
       "_view_module_version": "1.5.0",
       "_view_name": "ProgressView",
       "bar_style": "success",
       "description": "",
       "description_tooltip": null,
       "layout": "IPY_MODEL_d370a7992a79423f9e88c511d2012618",
       "max": 1083389348.0,
       "min": 0.0,
       "orientation": "horizontal",
       "style": "IPY_MODEL_d1a953b0fc6a4c82ac7b0c2b4ea1bf30",
       "value": 1083389348.0
      }
     },
     "b7f0fdc30e5f40cf9e3060539a937313": {
      "model_module": "@jupyter-widgets/controls",
      "model_module_version": "1.5.0",
      "model_name": "DescriptionStyleModel",
      "state": {
       "_model_module": "@jupyter-widgets/controls",
       "_model_module_version": "1.5.0",
       "_model_name": "DescriptionStyleModel",
       "_view_count": null,
       "_view_module": "@jupyter-widgets/base",
       "_view_module_version": "1.2.0",
       "_view_name": "StyleView",
       "description_width": ""
      }
     },
     "ba701db81d804ea69e05bf7844ab4a41": {
      "model_module": "@jupyter-widgets/base",
      "model_module_version": "1.2.0",
      "model_name": "LayoutModel",
      "state": {
       "_model_module": "@jupyter-widgets/base",
       "_model_module_version": "1.2.0",
       "_model_name": "LayoutModel",
       "_view_count": null,
       "_view_module": "@jupyter-widgets/base",
       "_view_module_version": "1.2.0",
       "_view_name": "LayoutView",
       "align_content": null,
       "align_items": null,
       "align_self": null,
       "border": null,
       "bottom": null,
       "display": null,
       "flex": null,
       "flex_flow": null,
       "grid_area": null,
       "grid_auto_columns": null,
       "grid_auto_flow": null,
       "grid_auto_rows": null,
       "grid_column": null,
       "grid_gap": null,
       "grid_row": null,
       "grid_template_areas": null,
       "grid_template_columns": null,
       "grid_template_rows": null,
       "height": null,
       "justify_content": null,
       "justify_items": null,
       "left": null,
       "margin": null,
       "max_height": null,
       "max_width": null,
       "min_height": null,
       "min_width": null,
       "object_fit": null,
       "object_position": null,
       "order": null,
       "overflow": null,
       "overflow_x": null,
       "overflow_y": null,
       "padding": null,
       "right": null,
       "top": null,
       "visibility": null,
       "width": null
      }
     },
     "bf65bfd8ead5457d9ac83032164697e3": {
      "model_module": "@jupyter-widgets/controls",
      "model_module_version": "1.5.0",
      "model_name": "HBoxModel",
      "state": {
       "_dom_classes": [],
       "_model_module": "@jupyter-widgets/controls",
       "_model_module_version": "1.5.0",
       "_model_name": "HBoxModel",
       "_view_count": null,
       "_view_module": "@jupyter-widgets/controls",
       "_view_module_version": "1.5.0",
       "_view_name": "HBoxView",
       "box_style": "",
       "children": [
        "IPY_MODEL_a5c9d04a4f6e46b58cccf1230312520e",
        "IPY_MODEL_b25f3e1a0aaf4121b68efe8c658197f5",
        "IPY_MODEL_8ede49f274784b5c8be28abb7a41819a"
       ],
       "layout": "IPY_MODEL_cf3d7b594e2e41cd9b5e17e7e2f714ab"
      }
     },
     "bf9ed3da6b484368aba85df00315a8e0": {
      "model_module": "@jupyter-widgets/base",
      "model_module_version": "1.2.0",
      "model_name": "LayoutModel",
      "state": {
       "_model_module": "@jupyter-widgets/base",
       "_model_module_version": "1.2.0",
       "_model_name": "LayoutModel",
       "_view_count": null,
       "_view_module": "@jupyter-widgets/base",
       "_view_module_version": "1.2.0",
       "_view_name": "LayoutView",
       "align_content": null,
       "align_items": null,
       "align_self": null,
       "border": null,
       "bottom": null,
       "display": null,
       "flex": null,
       "flex_flow": null,
       "grid_area": null,
       "grid_auto_columns": null,
       "grid_auto_flow": null,
       "grid_auto_rows": null,
       "grid_column": null,
       "grid_gap": null,
       "grid_row": null,
       "grid_template_areas": null,
       "grid_template_columns": null,
       "grid_template_rows": null,
       "height": null,
       "justify_content": null,
       "justify_items": null,
       "left": null,
       "margin": null,
       "max_height": null,
       "max_width": null,
       "min_height": null,
       "min_width": null,
       "object_fit": null,
       "object_position": null,
       "order": null,
       "overflow": null,
       "overflow_x": null,
       "overflow_y": null,
       "padding": null,
       "right": null,
       "top": null,
       "visibility": null,
       "width": null
      }
     },
     "c1ddd1601751467384e8c2f81e0e2255": {
      "model_module": "@jupyter-widgets/controls",
      "model_module_version": "1.5.0",
      "model_name": "FloatProgressModel",
      "state": {
       "_dom_classes": [],
       "_model_module": "@jupyter-widgets/controls",
       "_model_module_version": "1.5.0",
       "_model_name": "FloatProgressModel",
       "_view_count": null,
       "_view_module": "@jupyter-widgets/controls",
       "_view_module_version": "1.5.0",
       "_view_name": "ProgressView",
       "bar_style": "success",
       "description": "",
       "description_tooltip": null,
       "layout": "IPY_MODEL_819f047e9f274f399f2e910e28877554",
       "max": 995526.0,
       "min": 0.0,
       "orientation": "horizontal",
       "style": "IPY_MODEL_5d815aef383742568b7df16717602dbd",
       "value": 995526.0
      }
     },
     "c3d6dcbc237d4ba5b992706580365259": {
      "model_module": "@jupyter-widgets/base",
      "model_module_version": "1.2.0",
      "model_name": "LayoutModel",
      "state": {
       "_model_module": "@jupyter-widgets/base",
       "_model_module_version": "1.2.0",
       "_model_name": "LayoutModel",
       "_view_count": null,
       "_view_module": "@jupyter-widgets/base",
       "_view_module_version": "1.2.0",
       "_view_name": "LayoutView",
       "align_content": null,
       "align_items": null,
       "align_self": null,
       "border": null,
       "bottom": null,
       "display": null,
       "flex": null,
       "flex_flow": null,
       "grid_area": null,
       "grid_auto_columns": null,
       "grid_auto_flow": null,
       "grid_auto_rows": null,
       "grid_column": null,
       "grid_gap": null,
       "grid_row": null,
       "grid_template_areas": null,
       "grid_template_columns": null,
       "grid_template_rows": null,
       "height": null,
       "justify_content": null,
       "justify_items": null,
       "left": null,
       "margin": null,
       "max_height": null,
       "max_width": null,
       "min_height": null,
       "min_width": null,
       "object_fit": null,
       "object_position": null,
       "order": null,
       "overflow": null,
       "overflow_x": null,
       "overflow_y": null,
       "padding": null,
       "right": null,
       "top": null,
       "visibility": null,
       "width": null
      }
     },
     "c88a690a1afb4d34ba1b8a02763a8ae7": {
      "model_module": "@jupyter-widgets/controls",
      "model_module_version": "1.5.0",
      "model_name": "HTMLModel",
      "state": {
       "_dom_classes": [],
       "_model_module": "@jupyter-widgets/controls",
       "_model_module_version": "1.5.0",
       "_model_name": "HTMLModel",
       "_view_count": null,
       "_view_module": "@jupyter-widgets/controls",
       "_view_module_version": "1.5.0",
       "_view_name": "HTMLView",
       "description": "",
       "description_tooltip": null,
       "layout": "IPY_MODEL_1297c6b7e69a4ee6a87c7ebd579b3089",
       "placeholder": "​",
       "style": "IPY_MODEL_635c7ccf8fd241d483ee916cdb9529ba",
       "value": "Downloading: 100%"
      }
     },
     "cad9a4f81cab429a9323f21724fc17b6": {
      "model_module": "@jupyter-widgets/base",
      "model_module_version": "1.2.0",
      "model_name": "LayoutModel",
      "state": {
       "_model_module": "@jupyter-widgets/base",
       "_model_module_version": "1.2.0",
       "_model_name": "LayoutModel",
       "_view_count": null,
       "_view_module": "@jupyter-widgets/base",
       "_view_module_version": "1.2.0",
       "_view_name": "LayoutView",
       "align_content": null,
       "align_items": null,
       "align_self": null,
       "border": null,
       "bottom": null,
       "display": null,
       "flex": null,
       "flex_flow": null,
       "grid_area": null,
       "grid_auto_columns": null,
       "grid_auto_flow": null,
       "grid_auto_rows": null,
       "grid_column": null,
       "grid_gap": null,
       "grid_row": null,
       "grid_template_areas": null,
       "grid_template_columns": null,
       "grid_template_rows": null,
       "height": null,
       "justify_content": null,
       "justify_items": null,
       "left": null,
       "margin": null,
       "max_height": null,
       "max_width": null,
       "min_height": null,
       "min_width": null,
       "object_fit": null,
       "object_position": null,
       "order": null,
       "overflow": null,
       "overflow_x": null,
       "overflow_y": null,
       "padding": null,
       "right": null,
       "top": null,
       "visibility": null,
       "width": null
      }
     },
     "cf3d7b594e2e41cd9b5e17e7e2f714ab": {
      "model_module": "@jupyter-widgets/base",
      "model_module_version": "1.2.0",
      "model_name": "LayoutModel",
      "state": {
       "_model_module": "@jupyter-widgets/base",
       "_model_module_version": "1.2.0",
       "_model_name": "LayoutModel",
       "_view_count": null,
       "_view_module": "@jupyter-widgets/base",
       "_view_module_version": "1.2.0",
       "_view_name": "LayoutView",
       "align_content": null,
       "align_items": null,
       "align_self": null,
       "border": null,
       "bottom": null,
       "display": null,
       "flex": null,
       "flex_flow": null,
       "grid_area": null,
       "grid_auto_columns": null,
       "grid_auto_flow": null,
       "grid_auto_rows": null,
       "grid_column": null,
       "grid_gap": null,
       "grid_row": null,
       "grid_template_areas": null,
       "grid_template_columns": null,
       "grid_template_rows": null,
       "height": null,
       "justify_content": null,
       "justify_items": null,
       "left": null,
       "margin": null,
       "max_height": null,
       "max_width": null,
       "min_height": null,
       "min_width": null,
       "object_fit": null,
       "object_position": null,
       "order": null,
       "overflow": null,
       "overflow_x": null,
       "overflow_y": null,
       "padding": null,
       "right": null,
       "top": null,
       "visibility": null,
       "width": null
      }
     },
     "cf401cc3d84048dca953ff5add0bf068": {
      "model_module": "@jupyter-widgets/base",
      "model_module_version": "1.2.0",
      "model_name": "LayoutModel",
      "state": {
       "_model_module": "@jupyter-widgets/base",
       "_model_module_version": "1.2.0",
       "_model_name": "LayoutModel",
       "_view_count": null,
       "_view_module": "@jupyter-widgets/base",
       "_view_module_version": "1.2.0",
       "_view_name": "LayoutView",
       "align_content": null,
       "align_items": null,
       "align_self": null,
       "border": null,
       "bottom": null,
       "display": null,
       "flex": null,
       "flex_flow": null,
       "grid_area": null,
       "grid_auto_columns": null,
       "grid_auto_flow": null,
       "grid_auto_rows": null,
       "grid_column": null,
       "grid_gap": null,
       "grid_row": null,
       "grid_template_areas": null,
       "grid_template_columns": null,
       "grid_template_rows": null,
       "height": null,
       "justify_content": null,
       "justify_items": null,
       "left": null,
       "margin": null,
       "max_height": null,
       "max_width": null,
       "min_height": null,
       "min_width": null,
       "object_fit": null,
       "object_position": null,
       "order": null,
       "overflow": null,
       "overflow_x": null,
       "overflow_y": null,
       "padding": null,
       "right": null,
       "top": null,
       "visibility": null,
       "width": null
      }
     },
     "d1a953b0fc6a4c82ac7b0c2b4ea1bf30": {
      "model_module": "@jupyter-widgets/controls",
      "model_module_version": "1.5.0",
      "model_name": "ProgressStyleModel",
      "state": {
       "_model_module": "@jupyter-widgets/controls",
       "_model_module_version": "1.5.0",
       "_model_name": "ProgressStyleModel",
       "_view_count": null,
       "_view_module": "@jupyter-widgets/base",
       "_view_module_version": "1.2.0",
       "_view_name": "StyleView",
       "bar_color": null,
       "description_width": ""
      }
     },
     "d370a7992a79423f9e88c511d2012618": {
      "model_module": "@jupyter-widgets/base",
      "model_module_version": "1.2.0",
      "model_name": "LayoutModel",
      "state": {
       "_model_module": "@jupyter-widgets/base",
       "_model_module_version": "1.2.0",
       "_model_name": "LayoutModel",
       "_view_count": null,
       "_view_module": "@jupyter-widgets/base",
       "_view_module_version": "1.2.0",
       "_view_name": "LayoutView",
       "align_content": null,
       "align_items": null,
       "align_self": null,
       "border": null,
       "bottom": null,
       "display": null,
       "flex": null,
       "flex_flow": null,
       "grid_area": null,
       "grid_auto_columns": null,
       "grid_auto_flow": null,
       "grid_auto_rows": null,
       "grid_column": null,
       "grid_gap": null,
       "grid_row": null,
       "grid_template_areas": null,
       "grid_template_columns": null,
       "grid_template_rows": null,
       "height": null,
       "justify_content": null,
       "justify_items": null,
       "left": null,
       "margin": null,
       "max_height": null,
       "max_width": null,
       "min_height": null,
       "min_width": null,
       "object_fit": null,
       "object_position": null,
       "order": null,
       "overflow": null,
       "overflow_x": null,
       "overflow_y": null,
       "padding": null,
       "right": null,
       "top": null,
       "visibility": null,
       "width": null
      }
     },
     "db9ee196344b4a1f87289e36928c4abc": {
      "model_module": "@jupyter-widgets/controls",
      "model_module_version": "1.5.0",
      "model_name": "HTMLModel",
      "state": {
       "_dom_classes": [],
       "_model_module": "@jupyter-widgets/controls",
       "_model_module_version": "1.5.0",
       "_model_name": "HTMLModel",
       "_view_count": null,
       "_view_module": "@jupyter-widgets/controls",
       "_view_module_version": "1.5.0",
       "_view_name": "HTMLView",
       "description": "",
       "description_tooltip": null,
       "layout": "IPY_MODEL_459e7089de314aef973c7cc41dd8bdfb",
       "placeholder": "​",
       "style": "IPY_MODEL_012af82e884944d59525d34ee5d3e1be",
       "value": "Downloading: 100%"
      }
     },
     "e1ffe4a9eefd4db1a87c72272d5d2145": {
      "model_module": "@jupyter-widgets/controls",
      "model_module_version": "1.5.0",
      "model_name": "HBoxModel",
      "state": {
       "_dom_classes": [],
       "_model_module": "@jupyter-widgets/controls",
       "_model_module_version": "1.5.0",
       "_model_name": "HBoxModel",
       "_view_count": null,
       "_view_module": "@jupyter-widgets/controls",
       "_view_module_version": "1.5.0",
       "_view_name": "HBoxView",
       "box_style": "",
       "children": [
        "IPY_MODEL_a87d8c85e3bc47f3b1d9cf4f8d7418b5",
        "IPY_MODEL_c1ddd1601751467384e8c2f81e0e2255",
        "IPY_MODEL_16adc2b476dc4ea6ae0585f044f80ddb"
       ],
       "layout": "IPY_MODEL_c3d6dcbc237d4ba5b992706580365259"
      }
     },
     "f822e2685398453baeb306bcfb063853": {
      "model_module": "@jupyter-widgets/controls",
      "model_module_version": "1.5.0",
      "model_name": "FloatProgressModel",
      "state": {
       "_dom_classes": [],
       "_model_module": "@jupyter-widgets/controls",
       "_model_module_version": "1.5.0",
       "_model_name": "FloatProgressModel",
       "_view_count": null,
       "_view_module": "@jupyter-widgets/controls",
       "_view_module_version": "1.5.0",
       "_view_name": "ProgressView",
       "bar_style": "success",
       "description": "",
       "description_tooltip": null,
       "layout": "IPY_MODEL_cad9a4f81cab429a9323f21724fc17b6",
       "max": 625.0,
       "min": 0.0,
       "orientation": "horizontal",
       "style": "IPY_MODEL_7365522900b44b22a49770653997ccc7",
       "value": 625.0
      }
     },
     "fbc525663d9149efb3c4b0b8886e5763": {
      "model_module": "@jupyter-widgets/base",
      "model_module_version": "1.2.0",
      "model_name": "LayoutModel",
      "state": {
       "_model_module": "@jupyter-widgets/base",
       "_model_module_version": "1.2.0",
       "_model_name": "LayoutModel",
       "_view_count": null,
       "_view_module": "@jupyter-widgets/base",
       "_view_module_version": "1.2.0",
       "_view_name": "LayoutView",
       "align_content": null,
       "align_items": null,
       "align_self": null,
       "border": null,
       "bottom": null,
       "display": null,
       "flex": null,
       "flex_flow": null,
       "grid_area": null,
       "grid_auto_columns": null,
       "grid_auto_flow": null,
       "grid_auto_rows": null,
       "grid_column": null,
       "grid_gap": null,
       "grid_row": null,
       "grid_template_areas": null,
       "grid_template_columns": null,
       "grid_template_rows": null,
       "height": null,
       "justify_content": null,
       "justify_items": null,
       "left": null,
       "margin": null,
       "max_height": null,
       "max_width": null,
       "min_height": null,
       "min_width": null,
       "object_fit": null,
       "object_position": null,
       "order": null,
       "overflow": null,
       "overflow_x": null,
       "overflow_y": null,
       "padding": null,
       "right": null,
       "top": null,
       "visibility": null,
       "width": null
      }
     },
     "fcd9ba99db8441c5b42a94fe8f05036b": {
      "model_module": "@jupyter-widgets/base",
      "model_module_version": "1.2.0",
      "model_name": "LayoutModel",
      "state": {
       "_model_module": "@jupyter-widgets/base",
       "_model_module_version": "1.2.0",
       "_model_name": "LayoutModel",
       "_view_count": null,
       "_view_module": "@jupyter-widgets/base",
       "_view_module_version": "1.2.0",
       "_view_name": "LayoutView",
       "align_content": null,
       "align_items": null,
       "align_self": null,
       "border": null,
       "bottom": null,
       "display": null,
       "flex": null,
       "flex_flow": null,
       "grid_area": null,
       "grid_auto_columns": null,
       "grid_auto_flow": null,
       "grid_auto_rows": null,
       "grid_column": null,
       "grid_gap": null,
       "grid_row": null,
       "grid_template_areas": null,
       "grid_template_columns": null,
       "grid_template_rows": null,
       "height": null,
       "justify_content": null,
       "justify_items": null,
       "left": null,
       "margin": null,
       "max_height": null,
       "max_width": null,
       "min_height": null,
       "min_width": null,
       "object_fit": null,
       "object_position": null,
       "order": null,
       "overflow": null,
       "overflow_x": null,
       "overflow_y": null,
       "padding": null,
       "right": null,
       "top": null,
       "visibility": null,
       "width": null
      }
     }
    },
    "version_major": 2,
    "version_minor": 0
   }
  }
 },
 "nbformat": 4,
 "nbformat_minor": 5
}
