{
 "cells": [
  {
   "cell_type": "code",
   "execution_count": 1,
   "id": "e87e5f54",
   "metadata": {
    "execution": {
     "iopub.execute_input": "2022-05-02T11:36:41.884744Z",
     "iopub.status.busy": "2022-05-02T11:36:41.884110Z",
     "iopub.status.idle": "2022-05-02T11:36:46.927058Z",
     "shell.execute_reply": "2022-05-02T11:36:46.926374Z",
     "shell.execute_reply.started": "2022-05-02T11:33:45.095801Z"
    },
    "papermill": {
     "duration": 5.078267,
     "end_time": "2022-05-02T11:36:46.927227",
     "exception": false,
     "start_time": "2022-05-02T11:36:41.848960",
     "status": "completed"
    },
    "tags": []
   },
   "outputs": [],
   "source": [
    "import numpy as np\n",
    "import keras\n",
    "import pandas as pd \n",
    "from keras.models import Sequential\n",
    "from keras.layers import Dense, Dropout, Embedding, LSTM,Bidirectional,GlobalMaxPooling1D\n",
    "import re\n",
    "import tensorflow as tf\n",
    "from keras.preprocessing.text import Tokenizer"
   ]
  },
  {
   "cell_type": "code",
   "execution_count": 2,
   "id": "c6fc25de",
   "metadata": {
    "execution": {
     "iopub.execute_input": "2022-05-02T11:36:46.979865Z",
     "iopub.status.busy": "2022-05-02T11:36:46.979165Z",
     "iopub.status.idle": "2022-05-02T11:36:47.848331Z",
     "shell.execute_reply": "2022-05-02T11:36:47.847731Z",
     "shell.execute_reply.started": "2022-05-02T11:33:49.246051Z"
    },
    "papermill": {
     "duration": 0.897462,
     "end_time": "2022-05-02T11:36:47.848505",
     "exception": false,
     "start_time": "2022-05-02T11:36:46.951043",
     "status": "completed"
    },
    "tags": []
   },
   "outputs": [],
   "source": [
    "from keras.preprocessing.sequence import pad_sequences\n",
    "from keras.layers import Activation, Conv2D, Input, Embedding, Reshape, MaxPool1D, Concatenate, Flatten, Dropout, Dense, Conv1D\n",
    "from keras.models import Model\n",
    "from keras.callbacks import ModelCheckpoint\n",
    "from tensorflow.keras.optimizers import Adam,SGD\n",
    "import warnings\n",
    "warnings.filterwarnings('ignore')\n",
    "import seaborn as sns"
   ]
  },
  {
   "cell_type": "code",
   "execution_count": 3,
   "id": "afbd9e9d",
   "metadata": {
    "execution": {
     "iopub.execute_input": "2022-05-02T11:36:47.898684Z",
     "iopub.status.busy": "2022-05-02T11:36:47.895991Z",
     "iopub.status.idle": "2022-05-02T11:36:47.907283Z",
     "shell.execute_reply": "2022-05-02T11:36:47.907734Z",
     "shell.execute_reply.started": "2022-05-02T11:33:50.130430Z"
    },
    "papermill": {
     "duration": 0.036618,
     "end_time": "2022-05-02T11:36:47.907885",
     "exception": false,
     "start_time": "2022-05-02T11:36:47.871267",
     "status": "completed"
    },
    "tags": []
   },
   "outputs": [
    {
     "name": "stdout",
     "output_type": "stream",
     "text": [
      "/kaggle/input/3-classes-bangla-sa/3_classes_Bert_Preprocessed__Dataset.xlsx\n"
     ]
    }
   ],
   "source": [
    "import os\n",
    "for dirname, _, filenames in os.walk('/kaggle/input'):\n",
    "    for filename in filenames:\n",
    "        print(os.path.join(dirname, filename))"
   ]
  },
  {
   "cell_type": "code",
   "execution_count": 4,
   "id": "913d7799",
   "metadata": {
    "execution": {
     "iopub.execute_input": "2022-05-02T11:36:47.957436Z",
     "iopub.status.busy": "2022-05-02T11:36:47.956644Z",
     "iopub.status.idle": "2022-05-02T11:36:57.094743Z",
     "shell.execute_reply": "2022-05-02T11:36:57.094025Z",
     "shell.execute_reply.started": "2022-05-02T11:33:50.150877Z"
    },
    "papermill": {
     "duration": 9.163496,
     "end_time": "2022-05-02T11:36:57.094881",
     "exception": false,
     "start_time": "2022-05-02T11:36:47.931385",
     "status": "completed"
    },
    "tags": []
   },
   "outputs": [
    {
     "name": "stdout",
     "output_type": "stream",
     "text": [
      "Collecting openpyxl\r\n",
      "  Downloading openpyxl-3.0.9-py2.py3-none-any.whl (242 kB)\r\n",
      "     |████████████████████████████████| 242 kB 4.3 MB/s            \r\n",
      "\u001b[?25hCollecting et-xmlfile\r\n",
      "  Downloading et_xmlfile-1.1.0-py3-none-any.whl (4.7 kB)\r\n",
      "Installing collected packages: et-xmlfile, openpyxl\r\n",
      "Successfully installed et-xmlfile-1.1.0 openpyxl-3.0.9\r\n",
      "\u001b[33mWARNING: Running pip as the 'root' user can result in broken permissions and conflicting behaviour with the system package manager. It is recommended to use a virtual environment instead: https://pip.pypa.io/warnings/venv\u001b[0m\r\n",
      "Note: you may need to restart the kernel to use updated packages.\n"
     ]
    }
   ],
   "source": [
    "pip install openpyxl"
   ]
  },
  {
   "cell_type": "code",
   "execution_count": 5,
   "id": "cee12e56",
   "metadata": {
    "execution": {
     "iopub.execute_input": "2022-05-02T11:36:57.151398Z",
     "iopub.status.busy": "2022-05-02T11:36:57.150673Z",
     "iopub.status.idle": "2022-05-02T11:36:59.763708Z",
     "shell.execute_reply": "2022-05-02T11:36:59.764238Z",
     "shell.execute_reply.started": "2022-05-02T11:34:01.411319Z"
    },
    "papermill": {
     "duration": 2.643414,
     "end_time": "2022-05-02T11:36:59.764391",
     "exception": false,
     "start_time": "2022-05-02T11:36:57.120977",
     "status": "completed"
    },
    "tags": []
   },
   "outputs": [
    {
     "name": "stdout",
     "output_type": "stream",
     "text": [
      "<class 'pandas.core.frame.DataFrame'>\n",
      "RangeIndex: 15728 entries, 0 to 15727\n",
      "Data columns (total 5 columns):\n",
      " #   Column      Non-Null Count  Dtype \n",
      "---  ------      --------------  ----- \n",
      " 0   Unnamed: 0  15728 non-null  int64 \n",
      " 1   Data        15728 non-null  object\n",
      " 2   Label       15728 non-null  int64 \n",
      " 3   Token       15728 non-null  object\n",
      " 4   Token_ID    15728 non-null  object\n",
      "dtypes: int64(2), object(3)\n",
      "memory usage: 614.5+ KB\n"
     ]
    }
   ],
   "source": [
    "df=pd.read_excel('/kaggle/input/3-classes-bangla-sa/3_classes_Bert_Preprocessed__Dataset.xlsx')\n",
    "df.info()"
   ]
  },
  {
   "cell_type": "code",
   "execution_count": 6,
   "id": "bd9706ae",
   "metadata": {
    "execution": {
     "iopub.execute_input": "2022-05-02T11:36:59.823935Z",
     "iopub.status.busy": "2022-05-02T11:36:59.823015Z",
     "iopub.status.idle": "2022-05-02T11:36:59.835491Z",
     "shell.execute_reply": "2022-05-02T11:36:59.835946Z",
     "shell.execute_reply.started": "2022-05-02T11:34:04.109807Z"
    },
    "papermill": {
     "duration": 0.04587,
     "end_time": "2022-05-02T11:36:59.836077",
     "exception": false,
     "start_time": "2022-05-02T11:36:59.790207",
     "status": "completed"
    },
    "tags": []
   },
   "outputs": [
    {
     "data": {
      "text/html": [
       "<div>\n",
       "<style scoped>\n",
       "    .dataframe tbody tr th:only-of-type {\n",
       "        vertical-align: middle;\n",
       "    }\n",
       "\n",
       "    .dataframe tbody tr th {\n",
       "        vertical-align: top;\n",
       "    }\n",
       "\n",
       "    .dataframe thead th {\n",
       "        text-align: right;\n",
       "    }\n",
       "</style>\n",
       "<table border=\"1\" class=\"dataframe\">\n",
       "  <thead>\n",
       "    <tr style=\"text-align: right;\">\n",
       "      <th></th>\n",
       "      <th>Unnamed: 0</th>\n",
       "      <th>Data</th>\n",
       "      <th>Label</th>\n",
       "      <th>Token</th>\n",
       "      <th>Token_ID</th>\n",
       "    </tr>\n",
       "  </thead>\n",
       "  <tbody>\n",
       "    <tr>\n",
       "      <th>0</th>\n",
       "      <td>4032</td>\n",
       "      <td>এক মাস সেহেরি খাইয়া রোজা রাহা সোজা</td>\n",
       "      <td>1</td>\n",
       "      <td>['এক', 'মাস', 'সে', '##হের', '##ি', '[UNK]', '...</td>\n",
       "      <td>[788, 1293, 809, 2685, 416, 1, 12209, 3462, 41...</td>\n",
       "    </tr>\n",
       "    <tr>\n",
       "      <th>1</th>\n",
       "      <td>3587</td>\n",
       "      <td>ভাই আমাদের মাতৃভুমিটা এত সুনদর</td>\n",
       "      <td>1</td>\n",
       "      <td>['ভাই', 'আমাদের', 'মাতৃ', '##ভু', '##মিট', '##...</td>\n",
       "      <td>[1352, 1029, 6563, 12357, 12290, 415, 1284, 36...</td>\n",
       "    </tr>\n",
       "    <tr>\n",
       "      <th>2</th>\n",
       "      <td>8968</td>\n",
       "      <td>জানুয়ারীতে কেন  ঐ সময় স্পেশাল কি</td>\n",
       "      <td>1</td>\n",
       "      <td>['[UNK]', 'কেন', 'ঐ', '[UNK]', 'স্পেশাল', 'কি']</td>\n",
       "      <td>[1, 1107, 218, 1, 10225, 817]</td>\n",
       "    </tr>\n",
       "    <tr>\n",
       "      <th>3</th>\n",
       "      <td>95</td>\n",
       "      <td>তোরা কখন কাচা রসুন চাবিয়ে খেয়ে দেখেচিস</td>\n",
       "      <td>2</td>\n",
       "      <td>['তোরা', 'কখন', 'কাচা', 'রসুন', '[UNK]', '[UNK...</td>\n",
       "      <td>[5712, 1394, 30306, 18173, 1, 1, 1172, 2408, 417]</td>\n",
       "    </tr>\n",
       "    <tr>\n",
       "      <th>4</th>\n",
       "      <td>1163</td>\n",
       "      <td>হ্যাঁ হ্যাঁ হ্যাঁ হ্যাঁ জীবন টা বেদনা</td>\n",
       "      <td>2</td>\n",
       "      <td>['হ্যাঁ', 'হ্যাঁ', 'হ্যাঁ', 'হ্যাঁ', 'জীবন', '...</td>\n",
       "      <td>[2154, 2154, 2154, 2154, 1537, 1632, 10018]</td>\n",
       "    </tr>\n",
       "  </tbody>\n",
       "</table>\n",
       "</div>"
      ],
      "text/plain": [
       "   Unnamed: 0                                     Data  Label  \\\n",
       "0        4032       এক মাস সেহেরি খাইয়া রোজা রাহা সোজা      1   \n",
       "1        3587           ভাই আমাদের মাতৃভুমিটা এত সুনদর      1   \n",
       "2        8968         জানুয়ারীতে কেন  ঐ সময় স্পেশাল কি      1   \n",
       "3          95  তোরা কখন কাচা রসুন চাবিয়ে খেয়ে দেখেচিস       2   \n",
       "4        1163   হ্যাঁ হ্যাঁ হ্যাঁ হ্যাঁ জীবন টা বেদনা       2   \n",
       "\n",
       "                                               Token  \\\n",
       "0  ['এক', 'মাস', 'সে', '##হের', '##ি', '[UNK]', '...   \n",
       "1  ['ভাই', 'আমাদের', 'মাতৃ', '##ভু', '##মিট', '##...   \n",
       "2    ['[UNK]', 'কেন', 'ঐ', '[UNK]', 'স্পেশাল', 'কি']   \n",
       "3  ['তোরা', 'কখন', 'কাচা', 'রসুন', '[UNK]', '[UNK...   \n",
       "4  ['হ্যাঁ', 'হ্যাঁ', 'হ্যাঁ', 'হ্যাঁ', 'জীবন', '...   \n",
       "\n",
       "                                            Token_ID  \n",
       "0  [788, 1293, 809, 2685, 416, 1, 12209, 3462, 41...  \n",
       "1  [1352, 1029, 6563, 12357, 12290, 415, 1284, 36...  \n",
       "2                      [1, 1107, 218, 1, 10225, 817]  \n",
       "3  [5712, 1394, 30306, 18173, 1, 1, 1172, 2408, 417]  \n",
       "4        [2154, 2154, 2154, 2154, 1537, 1632, 10018]  "
      ]
     },
     "execution_count": 6,
     "metadata": {},
     "output_type": "execute_result"
    }
   ],
   "source": [
    "df.head()"
   ]
  },
  {
   "cell_type": "code",
   "execution_count": 7,
   "id": "5ce90a34",
   "metadata": {
    "execution": {
     "iopub.execute_input": "2022-05-02T11:36:59.898392Z",
     "iopub.status.busy": "2022-05-02T11:36:59.897878Z",
     "iopub.status.idle": "2022-05-02T11:37:00.088368Z",
     "shell.execute_reply": "2022-05-02T11:37:00.088778Z",
     "shell.execute_reply.started": "2022-05-02T11:34:04.128908Z"
    },
    "papermill": {
     "duration": 0.221855,
     "end_time": "2022-05-02T11:37:00.088928",
     "exception": false,
     "start_time": "2022-05-02T11:36:59.867073",
     "status": "completed"
    },
    "tags": []
   },
   "outputs": [
    {
     "data": {
      "text/plain": [
       "<AxesSubplot:xlabel='Label', ylabel='count'>"
      ]
     },
     "execution_count": 7,
     "metadata": {},
     "output_type": "execute_result"
    },
    {
     "data": {
      "image/png": "[encoded data removed]",
      "text/plain": [
       "<Figure size 432x288 with 1 Axes>"
      ]
     },
     "metadata": {
      "needs_background": "light"
     },
     "output_type": "display_data"
    }
   ],
   "source": [
    "sns.countplot(df['Label'])"
   ]
  },
  {
   "cell_type": "code",
   "execution_count": 8,
   "id": "09d79df5",
   "metadata": {
    "execution": {
     "iopub.execute_input": "2022-05-02T11:37:00.149203Z",
     "iopub.status.busy": "2022-05-02T11:37:00.148546Z",
     "iopub.status.idle": "2022-05-02T11:37:00.151173Z",
     "shell.execute_reply": "2022-05-02T11:37:00.151600Z",
     "shell.execute_reply.started": "2022-05-02T11:34:04.320863Z"
    },
    "papermill": {
     "duration": 0.035585,
     "end_time": "2022-05-02T11:37:00.151724",
     "exception": false,
     "start_time": "2022-05-02T11:37:00.116139",
     "status": "completed"
    },
    "tags": []
   },
   "outputs": [
    {
     "data": {
      "text/plain": [
       "(1    6410\n",
       " 2    5709\n",
       " 0    3609\n",
       " Name: Label, dtype: int64,\n",
       " 15728)"
      ]
     },
     "execution_count": 8,
     "metadata": {},
     "output_type": "execute_result"
    }
   ],
   "source": [
    "df.Label.value_counts(), len(df)"
   ]
  },
  {
   "cell_type": "code",
   "execution_count": 9,
   "id": "54cffe5d",
   "metadata": {
    "execution": {
     "iopub.execute_input": "2022-05-02T11:37:00.211037Z",
     "iopub.status.busy": "2022-05-02T11:37:00.210279Z",
     "iopub.status.idle": "2022-05-02T11:37:00.212710Z",
     "shell.execute_reply": "2022-05-02T11:37:00.212264Z",
     "shell.execute_reply.started": "2022-05-02T11:34:04.332091Z"
    },
    "papermill": {
     "duration": 0.033004,
     "end_time": "2022-05-02T11:37:00.212842",
     "exception": false,
     "start_time": "2022-05-02T11:37:00.179838",
     "status": "completed"
    },
    "tags": []
   },
   "outputs": [],
   "source": [
    "maxlen = 50\n",
    "max_features = 10000\n",
    "batch_size = 32"
   ]
  },
  {
   "cell_type": "code",
   "execution_count": 10,
   "id": "5d2345d2",
   "metadata": {
    "execution": {
     "iopub.execute_input": "2022-05-02T11:37:00.273381Z",
     "iopub.status.busy": "2022-05-02T11:37:00.272599Z",
     "iopub.status.idle": "2022-05-02T11:37:00.274511Z",
     "shell.execute_reply": "2022-05-02T11:37:00.274928Z",
     "shell.execute_reply.started": "2022-05-02T11:34:04.340649Z"
    },
    "papermill": {
     "duration": 0.034931,
     "end_time": "2022-05-02T11:37:00.275048",
     "exception": false,
     "start_time": "2022-05-02T11:37:00.240117",
     "status": "completed"
    },
    "tags": []
   },
   "outputs": [],
   "source": [
    "df['Token']=df['Token'].astype('str')"
   ]
  },
  {
   "cell_type": "code",
   "execution_count": 11,
   "id": "ca62309d",
   "metadata": {
    "execution": {
     "iopub.execute_input": "2022-05-02T11:37:00.333912Z",
     "iopub.status.busy": "2022-05-02T11:37:00.333316Z",
     "iopub.status.idle": "2022-05-02T11:37:00.484555Z",
     "shell.execute_reply": "2022-05-02T11:37:00.484070Z",
     "shell.execute_reply.started": "2022-05-02T11:34:04.349138Z"
    },
    "papermill": {
     "duration": 0.182637,
     "end_time": "2022-05-02T11:37:00.484676",
     "exception": false,
     "start_time": "2022-05-02T11:37:00.302039",
     "status": "completed"
    },
    "tags": []
   },
   "outputs": [],
   "source": [
    "from sklearn.model_selection import train_test_split\n",
    "x_train, x_test, y_train, y_test = train_test_split(df['Token'],df['Label'] , test_size=0.1,random_state=2)\n",
    "x_train, x_validation, y_train, y_validation = train_test_split(x_train,y_train,test_size=0.1,random_state=42)"
   ]
  },
  {
   "cell_type": "code",
   "execution_count": 12,
   "id": "987bd1fb",
   "metadata": {
    "execution": {
     "iopub.execute_input": "2022-05-02T11:37:00.543449Z",
     "iopub.status.busy": "2022-05-02T11:37:00.542695Z",
     "iopub.status.idle": "2022-05-02T11:37:00.544679Z",
     "shell.execute_reply": "2022-05-02T11:37:00.545070Z",
     "shell.execute_reply.started": "2022-05-02T11:34:04.486883Z"
    },
    "papermill": {
     "duration": 0.033096,
     "end_time": "2022-05-02T11:37:00.545188",
     "exception": false,
     "start_time": "2022-05-02T11:37:00.512092",
     "status": "completed"
    },
    "tags": []
   },
   "outputs": [],
   "source": [
    "vocab_size=32000"
   ]
  },
  {
   "cell_type": "code",
   "execution_count": 13,
   "id": "dcdedf63",
   "metadata": {
    "execution": {
     "iopub.execute_input": "2022-05-02T11:37:00.642332Z",
     "iopub.status.busy": "2022-05-02T11:37:00.607222Z",
     "iopub.status.idle": "2022-05-02T11:37:01.706221Z",
     "shell.execute_reply": "2022-05-02T11:37:01.705752Z",
     "shell.execute_reply.started": "2022-05-02T11:34:04.492488Z"
    },
    "papermill": {
     "duration": 1.13413,
     "end_time": "2022-05-02T11:37:01.706347",
     "exception": false,
     "start_time": "2022-05-02T11:37:00.572217",
     "status": "completed"
    },
    "tags": []
   },
   "outputs": [],
   "source": [
    "tokenizer  = Tokenizer(num_words = max_features,oov_token = \"<OOV>\")\n",
    "tokenizer.fit_on_texts(df['Token'])\n",
    "\n",
    "train_seq =  tokenizer.texts_to_sequences(x_train)\n",
    "val_seq =  tokenizer.texts_to_sequences(x_validation)\n",
    "test_seq = tokenizer.texts_to_sequences(x_test)"
   ]
  },
  {
   "cell_type": "code",
   "execution_count": 14,
   "id": "afbb8af9",
   "metadata": {
    "execution": {
     "iopub.execute_input": "2022-05-02T11:37:01.769625Z",
     "iopub.status.busy": "2022-05-02T11:37:01.768854Z",
     "iopub.status.idle": "2022-05-02T11:37:01.856558Z",
     "shell.execute_reply": "2022-05-02T11:37:01.856110Z",
     "shell.execute_reply.started": "2022-05-02T11:34:05.767543Z"
    },
    "papermill": {
     "duration": 0.122156,
     "end_time": "2022-05-02T11:37:01.856682",
     "exception": false,
     "start_time": "2022-05-02T11:37:01.734526",
     "status": "completed"
    },
    "tags": []
   },
   "outputs": [],
   "source": [
    "x_train = pad_sequences(train_seq, maxlen=maxlen, dtype='int32', padding='post',truncating='post') #maxlen = maxlen, padding='post')\n",
    "x_validation = pad_sequences(val_seq, maxlen=maxlen, dtype='int32', padding='post',truncating='post') #maxlen = maxlen, padding='post')\n",
    "x_test = pad_sequences(test_seq, maxlen=maxlen, dtype='int32', padding='post',truncating='post') #maxlen = maxlen, padding='post')"
   ]
  },
  {
   "cell_type": "code",
   "execution_count": 15,
   "id": "41a31700",
   "metadata": {
    "execution": {
     "iopub.execute_input": "2022-05-02T11:37:01.920301Z",
     "iopub.status.busy": "2022-05-02T11:37:01.919790Z",
     "iopub.status.idle": "2022-05-02T11:37:04.324407Z",
     "shell.execute_reply": "2022-05-02T11:37:04.323990Z",
     "shell.execute_reply.started": "2022-05-02T11:34:05.928229Z"
    },
    "papermill": {
     "duration": 2.438948,
     "end_time": "2022-05-02T11:37:04.324559",
     "exception": false,
     "start_time": "2022-05-02T11:37:01.885611",
     "status": "completed"
    },
    "tags": []
   },
   "outputs": [
    {
     "name": "stderr",
     "output_type": "stream",
     "text": [
      "2022-05-02 11:37:02.006227: I tensorflow/stream_executor/cuda/cuda_gpu_executor.cc:937] successful NUMA node read from SysFS had negative value (-1), but there must be at least one NUMA node, so returning NUMA node zero\n",
      "2022-05-02 11:37:02.098654: I tensorflow/stream_executor/cuda/cuda_gpu_executor.cc:937] successful NUMA node read from SysFS had negative value (-1), but there must be at least one NUMA node, so returning NUMA node zero\n",
      "2022-05-02 11:37:02.099429: I tensorflow/stream_executor/cuda/cuda_gpu_executor.cc:937] successful NUMA node read from SysFS had negative value (-1), but there must be at least one NUMA node, so returning NUMA node zero\n",
      "2022-05-02 11:37:02.101125: I tensorflow/core/platform/cpu_feature_guard.cc:142] This TensorFlow binary is optimized with oneAPI Deep Neural Network Library (oneDNN) to use the following CPU instructions in performance-critical operations:  AVX2 AVX512F FMA\n",
      "To enable them in other operations, rebuild TensorFlow with the appropriate compiler flags.\n",
      "2022-05-02 11:37:02.102334: I tensorflow/stream_executor/cuda/cuda_gpu_executor.cc:937] successful NUMA node read from SysFS had negative value (-1), but there must be at least one NUMA node, so returning NUMA node zero\n",
      "2022-05-02 11:37:02.103068: I tensorflow/stream_executor/cuda/cuda_gpu_executor.cc:937] successful NUMA node read from SysFS had negative value (-1), but there must be at least one NUMA node, so returning NUMA node zero\n",
      "2022-05-02 11:37:02.103730: I tensorflow/stream_executor/cuda/cuda_gpu_executor.cc:937] successful NUMA node read from SysFS had negative value (-1), but there must be at least one NUMA node, so returning NUMA node zero\n",
      "2022-05-02 11:37:03.902087: I tensorflow/stream_executor/cuda/cuda_gpu_executor.cc:937] successful NUMA node read from SysFS had negative value (-1), but there must be at least one NUMA node, so returning NUMA node zero\n",
      "2022-05-02 11:37:03.903019: I tensorflow/stream_executor/cuda/cuda_gpu_executor.cc:937] successful NUMA node read from S"
     ]
    },
    {
     "name": "stdout",
     "output_type": "stream",
     "text": [
      "Model: \"sequential\"\n",
      "_________________________________________________________________\n",
      "Layer (type)                 Output Shape              Param #   \n",
      "=================================================================\n",
      "Embedding (Embedding)        (None, 50, 100)           3200000   \n",
      "_________________________________________________________________\n",
      "conv1d (Conv1D)              (None, 48, 200)           60200     \n",
      "_________________________________________________________________\n",
      "global_max_pooling1d (Global (None, 200)               0         \n",
      "_________________________________________________________________\n",
      "dropout (Dropout)            (None, 200)               0         \n",
      "_________________________________________________________________\n",
      "dense (Dense)                (None, 100)               20100     \n",
      "_________________________________________________________________\n",
      "dropout_1 (Dropout)          (None, 100)               0         \n",
      "_________________________________________________________________\n",
      "dense_1 (Dense)              (None, 50)                5050      \n",
      "_________________________________________________________________\n",
      "dropout_2 (Dropout)          (None, 50)                0         \n",
      "_________________________________________________________________\n",
      "dense_2 (Dense)              (None, 25)                1275      \n",
      "_________________________________________________________________\n",
      "dropout_3 (Dropout)          (None, 25)                0         \n",
      "_________________________________________________________________\n",
      "dense_3 (Dense)              (None, 12)                312       \n",
      "_________________________________________________________________\n",
      "flatten (Flatten)            (None, 12)                0         \n",
      "_________________________________________________________________\n",
      "dense_4 (Dense)              (None, 3)                 39        \n",
      "=================================================================\n",
      "Total params: 3,286,976\n",
      "Trainable params: 3,286,976\n",
      "Non-trainable params: 0\n",
      "_________________________________________________________________\n"
     ]
    },
    {
     "name": "stderr",
     "output_type": "stream",
     "text": [
      "ysFS had negative value (-1), but there must be at least one NUMA node, so returning NUMA node zero\n",
      "2022-05-02 11:37:03.903693: I tensorflow/stream_executor/cuda/cuda_gpu_executor.cc:937] successful NUMA node read from SysFS had negative value (-1), but there must be at least one NUMA node, so returning NUMA node zero\n",
      "2022-05-02 11:37:03.904289: I tensorflow/core/common_runtime/gpu/gpu_device.cc:1510] Created device /job:localhost/replica:0/task:0/device:GPU:0 with 15403 MB memory:  -> device: 0, name: Tesla P100-PCIE-16GB, pci bus id: 0000:00:04.0, compute capability: 6.0\n"
     ]
    }
   ],
   "source": [
    "model= Sequential()\n",
    "model.add(Embedding(vocab_size,100,input_length=maxlen,name='Embedding'))\n",
    "model.add(Conv1D(200, kernel_size=3, activation = \"relu\"))\n",
    "model.add(GlobalMaxPooling1D())\n",
    "model.add(Dropout(0.25))\n",
    "model.add(Dense(100, activation='relu'))\n",
    "model.add(Dropout(0.1))\n",
    "model.add(Dense(50, activation='relu'))\n",
    "model.add(Dropout(0.2))\n",
    "model.add(Dense(25, activation='relu'))\n",
    "model.add(Dropout(0.1))\n",
    "model.add(Dense(12, activation='relu'))\n",
    "model.add(Flatten())\n",
    "model.add(Dense(units=3, activation='softmax'))\n",
    "adam=Adam(learning_rate=0.003)\n",
    "model.summary()\n",
    "model.compile(loss='sparse_categorical_crossentropy',optimizer='adam',metrics=['accuracy'])"
   ]
  },
  {
   "cell_type": "code",
   "execution_count": 16,
   "id": "15cb55c0",
   "metadata": {
    "execution": {
     "iopub.execute_input": "2022-05-02T11:37:04.386877Z",
     "iopub.status.busy": "2022-05-02T11:37:04.386122Z",
     "iopub.status.idle": "2022-05-02T11:37:04.388397Z",
     "shell.execute_reply": "2022-05-02T11:37:04.388838Z",
     "shell.execute_reply.started": "2022-05-02T11:34:08.167203Z"
    },
    "papermill": {
     "duration": 0.035458,
     "end_time": "2022-05-02T11:37:04.388973",
     "exception": false,
     "start_time": "2022-05-02T11:37:04.353515",
     "status": "completed"
    },
    "tags": []
   },
   "outputs": [],
   "source": [
    "early_stopping = keras.callbacks.EarlyStopping(\n",
    "    patience=15,\n",
    "    min_delta=0.001,\n",
    "    restore_best_weights=True,\n",
    ")"
   ]
  },
  {
   "cell_type": "code",
   "execution_count": 17,
   "id": "3eb4a78a",
   "metadata": {
    "execution": {
     "iopub.execute_input": "2022-05-02T11:37:04.452696Z",
     "iopub.status.busy": "2022-05-02T11:37:04.452125Z",
     "iopub.status.idle": "2022-05-02T11:37:41.834930Z",
     "shell.execute_reply": "2022-05-02T11:37:41.834359Z",
     "shell.execute_reply.started": "2022-05-02T11:34:08.174436Z"
    },
    "papermill": {
     "duration": 37.415821,
     "end_time": "2022-05-02T11:37:41.835066",
     "exception": false,
     "start_time": "2022-05-02T11:37:04.419245",
     "status": "completed"
    },
    "tags": []
   },
   "outputs": [
    {
     "name": "stderr",
     "output_type": "stream",
     "text": [
      "2022-05-02 11:37:04.517140: I tensorflow/compiler/mlir/mlir_graph_optimization_pass.cc:185] None of the MLIR Optimization Passes are enabled (registered 2)\n"
     ]
    },
    {
     "name": "stdout",
     "output_type": "stream",
     "text": [
      "Epoch 1/30\n"
     ]
    },
    {
     "name": "stderr",
     "output_type": "stream",
     "text": [
      "2022-05-02 11:37:06.169202: I tensorflow/stream_executor/cuda/cuda_dnn.cc:369] Loaded cuDNN version 8005\n"
     ]
    },
    {
     "name": "stdout",
     "output_type": "stream",
     "text": [
      "399/399 [==============================] - 9s 5ms/step - loss: 0.9239 - accuracy: 0.5494 - val_loss: 0.7889 - val_accuracy: 0.6285\n",
      "Epoch 2/30\n",
      "399/399 [==============================] - 2s 4ms/step - loss: 0.6580 - accuracy: 0.7364 - val_loss: 0.7413 - val_accuracy: 0.6935\n",
      "Epoch 3/30\n",
      "399/399 [==============================] - 2s 5ms/step - loss: 0.4395 - accuracy: 0.8381 - val_loss: 0.8037 - val_accuracy: 0.6942\n",
      "Epoch 4/30\n",
      "399/399 [==============================] - 2s 4ms/step - loss: 0.2910 - accuracy: 0.9018 - val_loss: 0.9219 - val_accuracy: 0.6942\n",
      "Epoch 5/30\n",
      "399/399 [==============================] - 2s 4ms/step - loss: 0.1862 - accuracy: 0.9367 - val_loss: 1.0764 - val_accuracy: 0.6829\n",
      "Epoch 6/30\n",
      "399/399 [==============================] - 2s 4ms/step - loss: 0.1322 - accuracy: 0.9574 - val_loss: 1.3397 - val_accuracy: 0.6893\n",
      "Epoch 7/30\n",
      "399/399 [==============================] - 2s 4ms/step - loss: 0.1099 - accuracy: 0.9617 - val_loss: 1.3895 - val_accuracy: 0.6864\n",
      "Epoch 8/30\n",
      "399/399 [==============================] - 2s 4ms/step - loss: 0.0859 - accuracy: 0.9694 - val_loss: 1.8857 - val_accuracy: 0.6801\n",
      "Epoch 9/30\n",
      "399/399 [==============================] - 2s 4ms/step - loss: 0.0817 - accuracy: 0.9695 - val_loss: 1.8381 - val_accuracy: 0.6871\n",
      "Epoch 10/30\n",
      "399/399 [==============================] - 2s 5ms/step - loss: 0.0701 - accuracy: 0.9735 - val_loss: 1.9988 - val_accuracy: 0.6822\n",
      "Epoch 11/30\n",
      "399/399 [==============================] - 2s 4ms/step - loss: 0.0671 - accuracy: 0.9732 - val_loss: 1.8698 - val_accuracy: 0.6829\n",
      "Epoch 12/30\n",
      "399/399 [==============================] - 2s 4ms/step - loss: 0.0682 - accuracy: 0.9723 - val_loss: 2.0887 - val_accuracy: 0.6907\n",
      "Epoch 13/30\n",
      "399/399 [==============================] - 2s 4ms/step - loss: 0.0586 - accuracy: 0.9762 - val_loss: 2.0398 - val_accuracy: 0.6836\n",
      "Epoch 14/30\n",
      "399/399 [==============================] - 2s 5ms/step - loss: 0.0551 - accuracy: 0.9772 - val_loss: 2.2540 - val_accuracy: 0.6737\n",
      "Epoch 15/30\n",
      "399/399 [==============================] - 2s 5ms/step - loss: 0.0434 - accuracy: 0.9805 - val_loss: 2.5169 - val_accuracy: 0.6540\n",
      "Epoch 16/30\n",
      "399/399 [==============================] - 2s 5ms/step - loss: 0.0497 - accuracy: 0.9783 - val_loss: 2.3631 - val_accuracy: 0.6645\n",
      "Epoch 17/30\n",
      "399/399 [==============================] - 2s 4ms/step - loss: 0.0478 - accuracy: 0.9789 - val_loss: 2.6867 - val_accuracy: 0.6702\n"
     ]
    }
   ],
   "source": [
    "history = model.fit(x_train, y_train, batch_size=batch_size, epochs=30, callbacks=[early_stopping],verbose=1, validation_data=(x_validation, y_validation))"
   ]
  },
  {
   "cell_type": "code",
   "execution_count": 18,
   "id": "0d68d108",
   "metadata": {
    "execution": {
     "iopub.execute_input": "2022-05-02T11:37:42.250608Z",
     "iopub.status.busy": "2022-05-02T11:37:42.249831Z",
     "iopub.status.idle": "2022-05-02T11:37:43.027787Z",
     "shell.execute_reply": "2022-05-02T11:37:43.028396Z",
     "shell.execute_reply.started": "2022-05-02T11:34:45.164439Z"
    },
    "papermill": {
     "duration": 0.988607,
     "end_time": "2022-05-02T11:37:43.028576",
     "exception": false,
     "start_time": "2022-05-02T11:37:42.039969",
     "status": "completed"
    },
    "tags": []
   },
   "outputs": [
    {
     "data": {
      "image/png": "[encoded data removed]",
      "text/plain": [
       "<IPython.core.display.Image object>"
      ]
     },
     "execution_count": 18,
     "metadata": {},
     "output_type": "execute_result"
    }
   ],
   "source": [
    "tf.keras.utils.plot_model(model, to_file='model.png', show_shapes=False,show_layer_names=True, rankdir='TB', expand_nested=False, dpi=96)"
   ]
  },
  {
   "cell_type": "code",
   "execution_count": 19,
   "id": "7321beb2",
   "metadata": {
    "execution": {
     "iopub.execute_input": "2022-05-02T11:37:43.443018Z",
     "iopub.status.busy": "2022-05-02T11:37:43.442160Z",
     "iopub.status.idle": "2022-05-02T11:37:43.602514Z",
     "shell.execute_reply": "2022-05-02T11:37:43.602068Z",
     "shell.execute_reply.started": "2022-05-02T11:34:45.963143Z"
    },
    "papermill": {
     "duration": 0.369711,
     "end_time": "2022-05-02T11:37:43.602701",
     "exception": false,
     "start_time": "2022-05-02T11:37:43.232990",
     "status": "completed"
    },
    "tags": []
   },
   "outputs": [
    {
     "name": "stdout",
     "output_type": "stream",
     "text": [
      "50/50 [==============================] - 0s 2ms/step - loss: 0.7607 - accuracy: 0.6936\n"
     ]
    },
    {
     "data": {
      "text/plain": [
       "[0.7606995701789856, 0.6935791373252869]"
      ]
     },
     "execution_count": 19,
     "metadata": {},
     "output_type": "execute_result"
    }
   ],
   "source": [
    "model.evaluate(x_test, y_test)"
   ]
  },
  {
   "cell_type": "code",
   "execution_count": 20,
   "id": "cccc8cdb",
   "metadata": {
    "execution": {
     "iopub.execute_input": "2022-05-02T11:37:44.037102Z",
     "iopub.status.busy": "2022-05-02T11:37:44.032122Z",
     "iopub.status.idle": "2022-05-02T11:37:44.450971Z",
     "shell.execute_reply": "2022-05-02T11:37:44.451496Z",
     "shell.execute_reply.started": "2022-05-02T11:34:46.128965Z"
    },
    "papermill": {
     "duration": 0.641465,
     "end_time": "2022-05-02T11:37:44.451646",
     "exception": false,
     "start_time": "2022-05-02T11:37:43.810181",
     "status": "completed"
    },
    "tags": []
   },
   "outputs": [
    {
     "data": {
      "image/png": "[encoded data removed]",
      "text/plain": [
       "<Figure size 432x288 with 1 Axes>"
      ]
     },
     "metadata": {
      "needs_background": "light"
     },
     "output_type": "display_data"
    }
   ],
   "source": [
    "import matplotlib.pyplot as plt\n",
    "\n",
    "plt.plot(history.history['accuracy'], label=\"Accuracy\")\n",
    "plt.plot(history.history['val_accuracy'], label=\"Validation accuracy\")\n",
    "plt.title('Accuracy')\n",
    "plt.xlabel('Epoch')\n",
    "plt.ylabel('Accuracy')\n",
    "plt.legend()\n",
    "plt.tight_layout()\n",
    "plt.savefig('3 classes CNN Val_acc.eps',format='eps',transparent='True')\n",
    "plt.show()\n"
   ]
  },
  {
   "cell_type": "code",
   "execution_count": 21,
   "id": "1e94c2ab",
   "metadata": {
    "execution": {
     "iopub.execute_input": "2022-05-02T11:37:44.893087Z",
     "iopub.status.busy": "2022-05-02T11:37:44.890728Z",
     "iopub.status.idle": "2022-05-02T11:37:45.157645Z",
     "shell.execute_reply": "2022-05-02T11:37:45.158050Z",
     "shell.execute_reply.started": "2022-05-02T11:34:46.549522Z"
    },
    "papermill": {
     "duration": 0.488714,
     "end_time": "2022-05-02T11:37:45.158190",
     "exception": false,
     "start_time": "2022-05-02T11:37:44.669476",
     "status": "completed"
    },
    "tags": []
   },
   "outputs": [
    {
     "data": {
      "image/png": "[encoded data removed]",
      "text/plain": [
       "<Figure size 432x288 with 1 Axes>"
      ]
     },
     "metadata": {
      "needs_background": "light"
     },
     "output_type": "display_data"
    }
   ],
   "source": [
    "import matplotlib.pyplot as plt\n",
    "\n",
    "plt.plot(history.history['loss'], label=\"Train loss\")\n",
    "plt.plot(history.history['val_loss'], label=\"Validation loss\")\n",
    "plt.title('Loss')\n",
    "plt.xlabel('Epoch')\n",
    "plt.ylabel('Loss')\n",
    "plt.legend()\n",
    "plt.tight_layout()\n",
    "plt.savefig('3 classes CNN Val_loss.eps',format='eps',transparent='True')\n",
    "plt.show()"
   ]
  },
  {
   "cell_type": "code",
   "execution_count": 22,
   "id": "ac0fc5a1",
   "metadata": {
    "execution": {
     "iopub.execute_input": "2022-05-02T11:37:45.578861Z",
     "iopub.status.busy": "2022-05-02T11:37:45.578040Z",
     "iopub.status.idle": "2022-05-02T11:37:45.762746Z",
     "shell.execute_reply": "2022-05-02T11:37:45.763188Z",
     "shell.execute_reply.started": "2022-05-02T11:34:46.844940Z"
    },
    "papermill": {
     "duration": 0.397421,
     "end_time": "2022-05-02T11:37:45.763345",
     "exception": false,
     "start_time": "2022-05-02T11:37:45.365924",
     "status": "completed"
    },
    "tags": []
   },
   "outputs": [],
   "source": [
    "from sklearn.metrics import classification_report\n",
    "\n",
    "y_pred = model.predict(x_test)\n",
    "y_pred = np.argmax(y_pred,axis=1)"
   ]
  },
  {
   "cell_type": "code",
   "execution_count": 23,
   "id": "4e77ab0e",
   "metadata": {
    "execution": {
     "iopub.execute_input": "2022-05-02T11:37:46.197343Z",
     "iopub.status.busy": "2022-05-02T11:37:46.196595Z",
     "iopub.status.idle": "2022-05-02T11:37:46.199323Z",
     "shell.execute_reply": "2022-05-02T11:37:46.199744Z",
     "shell.execute_reply.started": "2022-05-02T11:34:47.033227Z"
    },
    "papermill": {
     "duration": 0.216285,
     "end_time": "2022-05-02T11:37:46.199888",
     "exception": false,
     "start_time": "2022-05-02T11:37:45.983603",
     "status": "completed"
    },
    "tags": []
   },
   "outputs": [
    {
     "name": "stdout",
     "output_type": "stream",
     "text": [
      "(1573,)\n",
      "(1573,)\n"
     ]
    }
   ],
   "source": [
    "print(y_test.shape)\n",
    "print(y_pred.shape)"
   ]
  },
  {
   "cell_type": "code",
   "execution_count": 24,
   "id": "e99d8510",
   "metadata": {
    "execution": {
     "iopub.execute_input": "2022-05-02T11:37:46.617916Z",
     "iopub.status.busy": "2022-05-02T11:37:46.617180Z",
     "iopub.status.idle": "2022-05-02T11:37:46.620013Z",
     "shell.execute_reply": "2022-05-02T11:37:46.619576Z",
     "shell.execute_reply.started": "2022-05-02T11:34:47.040714Z"
    },
    "papermill": {
     "duration": 0.215091,
     "end_time": "2022-05-02T11:37:46.620121",
     "exception": false,
     "start_time": "2022-05-02T11:37:46.405030",
     "status": "completed"
    },
    "tags": []
   },
   "outputs": [],
   "source": [
    "y_pred = y_pred.reshape(-1,1)\n"
   ]
  },
  {
   "cell_type": "code",
   "execution_count": 25,
   "id": "46785d0b",
   "metadata": {
    "execution": {
     "iopub.execute_input": "2022-05-02T11:37:47.044909Z",
     "iopub.status.busy": "2022-05-02T11:37:47.044052Z",
     "iopub.status.idle": "2022-05-02T11:37:47.052004Z",
     "shell.execute_reply": "2022-05-02T11:37:47.052419Z",
     "shell.execute_reply.started": "2022-05-02T11:34:47.050266Z"
    },
    "papermill": {
     "duration": 0.221643,
     "end_time": "2022-05-02T11:37:47.052579",
     "exception": false,
     "start_time": "2022-05-02T11:37:46.830936",
     "status": "completed"
    },
    "tags": []
   },
   "outputs": [
    {
     "name": "stdout",
     "output_type": "stream",
     "text": [
      "              precision    recall  f1-score   support\n",
      "\n",
      "     neutral       0.55      0.39      0.46       358\n",
      "    positive       0.73      0.77      0.75       643\n",
      "    negative       0.71      0.79      0.75       572\n",
      "\n",
      "    accuracy                           0.69      1573\n",
      "   macro avg       0.66      0.65      0.65      1573\n",
      "weighted avg       0.68      0.69      0.68      1573\n",
      "\n"
     ]
    }
   ],
   "source": [
    "categories = ['neutral','positive','negative']\n",
    "print(classification_report(y_test, y_pred, target_names=categories))"
   ]
  },
  {
   "cell_type": "code",
   "execution_count": 26,
   "id": "4277840f",
   "metadata": {
    "execution": {
     "iopub.execute_input": "2022-05-02T11:37:47.476589Z",
     "iopub.status.busy": "2022-05-02T11:37:47.475745Z",
     "iopub.status.idle": "2022-05-02T11:37:47.843304Z",
     "shell.execute_reply": "2022-05-02T11:37:47.843732Z",
     "shell.execute_reply.started": "2022-05-02T11:35:42.230389Z"
    },
    "papermill": {
     "duration": 0.584524,
     "end_time": "2022-05-02T11:37:47.843882",
     "exception": false,
     "start_time": "2022-05-02T11:37:47.259358",
     "status": "completed"
    },
    "tags": []
   },
   "outputs": [
    {
     "data": {
      "image/png": "[encoded data removed]",
      "text/plain": [
       "<Figure size 1152x1008 with 2 Axes>"
      ]
     },
     "metadata": {
      "needs_background": "light"
     },
     "output_type": "display_data"
    }
   ],
   "source": [
    "import seaborn as sns\n",
    "import matplotlib.pyplot as plt\n",
    "\n",
    "### Confusion Matrix\n",
    "from sklearn.metrics import confusion_matrix\n",
    "#predictions = model.predict(x_test, steps=len(x_test), verbose=0)\n",
    "#y_pred=model.predict(x_test)\n",
    "#y_pred = np.round(y_pred)\n",
    "\n",
    "\n",
    "cm = confusion_matrix(y_test, y_pred)\n",
    "\n",
    "## Get Class Labels\n",
    "labels = 3\n",
    "#[0,1,2,3,4,5]_\n",
    "class_names = categories \n",
    "\n",
    "# Plot confusion matrix in a beautiful manner\n",
    "fig = plt.figure(figsize=(16, 14))\n",
    "ax= plt.subplot()\n",
    "sns.heatmap(cm, annot=True, ax = ax, fmt = 'g'); #annot=True to annotate cells\n",
    "# labels, title and ticks\n",
    "ax.set_xlabel('Predicted', fontsize=20)\n",
    "ax.xaxis.set_label_position('bottom')\n",
    "plt.xticks(rotation=90)\n",
    "ax.xaxis.set_ticklabels(class_names, fontsize = 10)\n",
    "ax.xaxis.tick_bottom()\n",
    "\n",
    "ax.set_ylabel('True', fontsize=20)\n",
    "ax.yaxis.set_ticklabels(class_names, fontsize = 10)\n",
    "plt.yticks(rotation=0)\n",
    "\n",
    "plt.title('Refined Confusion Matrix', fontsize=20)\n",
    "\n",
    "plt.savefig('3 classes CNN Confusion Matrix.png')\n",
    "plt.show()"
   ]
  },
  {
   "cell_type": "code",
   "execution_count": null,
   "id": "5c7c5d10",
   "metadata": {
    "papermill": {
     "duration": 0.209011,
     "end_time": "2022-05-02T11:37:48.261396",
     "exception": false,
     "start_time": "2022-05-02T11:37:48.052385",
     "status": "completed"
    },
    "tags": []
   },
   "outputs": [],
   "source": []
  }
 ],
 "metadata": {
  "kernelspec": {
   "display_name": "Python 3",
   "language": "python",
   "name": "python3"
  },
  "language_info": {
   "codemirror_mode": {
    "name": "ipython",
    "version": 3
   },
   "file_extension": ".py",
   "mimetype": "text/x-python",
   "name": "python",
   "nbconvert_exporter": "python",
   "pygments_lexer": "ipython3",
   "version": "3.7.12"
  },
  "papermill": {
   "default_parameters": {},
   "duration": 78.69679,
   "end_time": "2022-05-02T11:37:52.162213",
   "environment_variables": {},
   "exception": null,
   "input_path": "__notebook__.ipynb",
   "output_path": "__notebook__.ipynb",
   "parameters": {},
   "start_time": "2022-05-02T11:36:33.465423",
   "version": "2.3.3"
  }
 },
 "nbformat": 4,
 "nbformat_minor": 5
}
