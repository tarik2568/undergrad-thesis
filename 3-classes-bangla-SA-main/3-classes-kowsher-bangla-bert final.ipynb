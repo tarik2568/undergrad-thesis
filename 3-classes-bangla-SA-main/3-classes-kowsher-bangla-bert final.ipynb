{
 "cells": [
  {
   "cell_type": "code",
   "execution_count": 1,
   "id": "ea80b61f",
   "metadata": {
    "_cell_guid": "b1076dfc-b9ad-4769-8c92-a6c4dae69d19",
    "_uuid": "8f2839f25d086af736a60e9eeb907d3b93b6e0e5",
    "execution": {
     "iopub.execute_input": "2022-04-25T14:10:06.071086Z",
     "iopub.status.busy": "2022-04-25T14:10:06.070719Z",
     "iopub.status.idle": "2022-04-25T14:10:16.112898Z",
     "shell.execute_reply": "2022-04-25T14:10:16.112073Z"
    },
    "papermill": {
     "duration": 10.065781,
     "end_time": "2022-04-25T14:10:16.115378",
     "exception": false,
     "start_time": "2022-04-25T14:10:06.049597",
     "status": "completed"
    },
    "tags": []
   },
   "outputs": [
    {
     "name": "stdout",
     "output_type": "stream",
     "text": [
      "Requirement already satisfied: transformers in /opt/conda/lib/python3.7/site-packages (4.17.0)\r\n",
      "Requirement already satisfied: numpy>=1.17 in /opt/conda/lib/python3.7/site-packages (from transformers) (1.21.5)\r\n",
      "Requirement already satisfied: pyyaml>=5.1 in /opt/conda/lib/python3.7/site-packages (from transformers) (6.0)\r\n",
      "Requirement already satisfied: filelock in /opt/conda/lib/python3.7/site-packages (from transformers) (3.6.0)\r\n",
      "Requirement already satisfied: packaging>=20.0 in /opt/conda/lib/python3.7/site-packages (from transformers) (21.3)\r\n",
      "Requirement already satisfied: regex!=2019.12.17 in /opt/conda/lib/python3.7/site-packages (from transformers) (2021.11.10)\r\n",
      "Requirement already satisfied: sacremoses in /opt/conda/lib/python3.7/site-packages (from transformers) (0.0.49)\r\n",
      "Requirement already satisfied: importlib-metadata in /opt/conda/lib/python3.7/site-packages (from transformers) (4.11.3)\r\n",
      "Requirement already satisfied: tokenizers!=0.11.3,>=0.11.1 in /opt/conda/lib/python3.7/site-packages (from transformers) (0.11.6)\r\n",
      "Requirement already satisfied: huggingface-hub<1.0,>=0.1.0 in /opt/conda/lib/python3.7/site-packages (from transformers) (0.5.1)\r\n",
      "Requirement already satisfied: tqdm>=4.27 in /opt/conda/lib/python3.7/site-packages (from transformers) (4.63.0)\r\n",
      "Requirement already satisfied: requests in /opt/conda/lib/python3.7/site-packages (from transformers) (2.27.1)\r\n",
      "Requirement already satisfied: typing-extensions>=3.7.4.3 in /opt/conda/lib/python3.7/site-packages (from huggingface-hub<1.0,>=0.1.0->transformers) (4.1.1)\r\n",
      "Requirement already satisfied: pyparsing!=3.0.5,>=2.0.2 in /opt/conda/lib/python3.7/site-packages (from packaging>=20.0->transformers) (3.0.7)\r\n",
      "Requirement already satisfied: zipp>=0.5 in /opt/conda/lib/python3.7/site-packages (from importlib-metadata->transformers) (3.7.0)\r\n",
      "Requirement already satisfied: charset-normalizer~=2.0.0 in /opt/conda/lib/python3.7/site-packages (from requests->transformers) (2.0.12)\r\n",
      "Requirement already satisfied: urllib3<1.27,>=1.21.1 in /opt/conda/lib/python3.7/site-packages (from requests->transformers) (1.26.8)\r\n",
      "Requirement already satisfied: certifi>=2017.4.17 in /opt/conda/lib/python3.7/site-packages (from requests->transformers) (2021.10.8)\r\n",
      "Requirement already satisfied: idna<4,>=2.5 in /opt/conda/lib/python3.7/site-packages (from requests->transformers) (3.3)\r\n",
      "Requirement already satisfied: joblib in /opt/conda/lib/python3.7/site-packages (from sacremoses->transformers) (1.0.1)\r\n",
      "Requirement already satisfied: six in /opt/conda/lib/python3.7/site-packages (from sacremoses->transformers) (1.16.0)\r\n",
      "Requirement already satisfied: click in /opt/conda/lib/python3.7/site-packages (from sacremoses->transformers) (8.0.4)\r\n",
      "\u001b[33mWARNING: Running pip as the 'root' user can result in broken permissions and conflicting behaviour with the system package manager. It is recommended to use a virtual environment instead: https://pip.pypa.io/warnings/venv\u001b[0m\u001b[33m\r\n",
      "\u001b[0m"
     ]
    }
   ],
   "source": [
    " !pip install transformers"
   ]
  },
  {
   "cell_type": "code",
   "execution_count": 2,
   "id": "7c3d4137",
   "metadata": {
    "execution": {
     "iopub.execute_input": "2022-04-25T14:10:16.158732Z",
     "iopub.status.busy": "2022-04-25T14:10:16.158502Z",
     "iopub.status.idle": "2022-04-25T14:10:16.162193Z",
     "shell.execute_reply": "2022-04-25T14:10:16.161499Z"
    },
    "papermill": {
     "duration": 0.027052,
     "end_time": "2022-04-25T14:10:16.163894",
     "exception": false,
     "start_time": "2022-04-25T14:10:16.136842",
     "status": "completed"
    },
    "tags": []
   },
   "outputs": [],
   "source": [
    "import os\n",
    "import pandas as pd\n",
    "import numpy as np"
   ]
  },
  {
   "cell_type": "code",
   "execution_count": 3,
   "id": "2d589b29",
   "metadata": {
    "execution": {
     "iopub.execute_input": "2022-04-25T14:10:16.205349Z",
     "iopub.status.busy": "2022-04-25T14:10:16.204783Z",
     "iopub.status.idle": "2022-04-25T14:10:25.826594Z",
     "shell.execute_reply": "2022-04-25T14:10:25.825325Z"
    },
    "papermill": {
     "duration": 9.645191,
     "end_time": "2022-04-25T14:10:25.829072",
     "exception": false,
     "start_time": "2022-04-25T14:10:16.183881",
     "status": "completed"
    },
    "tags": []
   },
   "outputs": [
    {
     "name": "stdout",
     "output_type": "stream",
     "text": [
      "Collecting openpyxl\r\n",
      "  Downloading openpyxl-3.0.9-py2.py3-none-any.whl (242 kB)\r\n",
      "\u001b[2K     \u001b[90m━━━━━━━━━━━━━━━━━━━━━━━━━━━━━━━━━━━━━━━\u001b[0m \u001b[32m242.2/242.2 KB\u001b[0m \u001b[31m1.6 MB/s\u001b[0m eta \u001b[36m0:00:00\u001b[0m\r\n",
      "\u001b[?25hCollecting et-xmlfile\r\n",
      "  Downloading et_xmlfile-1.1.0-py3-none-any.whl (4.7 kB)\r\n",
      "Installing collected packages: et-xmlfile, openpyxl\r\n",
      "Successfully installed et-xmlfile-1.1.0 openpyxl-3.0.9\r\n",
      "\u001b[33mWARNING: Running pip as the 'root' user can result in broken permissions and conflicting behaviour with the system package manager. It is recommended to use a virtual environment instead: https://pip.pypa.io/warnings/venv\u001b[0m\u001b[33m\r\n",
      "\u001b[0mNote: you may need to restart the kernel to use updated packages.\n"
     ]
    }
   ],
   "source": [
    "pip install openpyxl"
   ]
  },
  {
   "cell_type": "code",
   "execution_count": 4,
   "id": "e3337b12",
   "metadata": {
    "execution": {
     "iopub.execute_input": "2022-04-25T14:10:25.878844Z",
     "iopub.status.busy": "2022-04-25T14:10:25.878234Z",
     "iopub.status.idle": "2022-04-25T14:10:25.888115Z",
     "shell.execute_reply": "2022-04-25T14:10:25.887058Z"
    },
    "papermill": {
     "duration": 0.03669,
     "end_time": "2022-04-25T14:10:25.890286",
     "exception": false,
     "start_time": "2022-04-25T14:10:25.853596",
     "status": "completed"
    },
    "tags": []
   },
   "outputs": [
    {
     "name": "stdout",
     "output_type": "stream",
     "text": [
      "/kaggle/input/3-classes-bangla-sa/3_classes_Bert_Preprocessed__Dataset.xlsx\n"
     ]
    }
   ],
   "source": [
    "for dirname, _, filenames in os.walk('/kaggle/input'):\n",
    "    for filename in filenames:\n",
    "        print(os.path.join(dirname, filename))"
   ]
  },
  {
   "cell_type": "code",
   "execution_count": 5,
   "id": "50fee3ea",
   "metadata": {
    "execution": {
     "iopub.execute_input": "2022-04-25T14:10:25.940903Z",
     "iopub.status.busy": "2022-04-25T14:10:25.940434Z",
     "iopub.status.idle": "2022-04-25T14:10:28.639943Z",
     "shell.execute_reply": "2022-04-25T14:10:28.639192Z"
    },
    "papermill": {
     "duration": 2.728081,
     "end_time": "2022-04-25T14:10:28.642740",
     "exception": false,
     "start_time": "2022-04-25T14:10:25.914659",
     "status": "completed"
    },
    "tags": []
   },
   "outputs": [
    {
     "name": "stdout",
     "output_type": "stream",
     "text": [
      "<class 'pandas.core.frame.DataFrame'>\n",
      "RangeIndex: 15728 entries, 0 to 15727\n",
      "Data columns (total 5 columns):\n",
      " #   Column      Non-Null Count  Dtype \n",
      "---  ------      --------------  ----- \n",
      " 0   Unnamed: 0  15728 non-null  int64 \n",
      " 1   Data        15728 non-null  object\n",
      " 2   Label       15728 non-null  int64 \n",
      " 3   Token       15728 non-null  object\n",
      " 4   Token_ID    15728 non-null  object\n",
      "dtypes: int64(2), object(3)\n",
      "memory usage: 614.5+ KB\n"
     ]
    }
   ],
   "source": [
    "df=pd.read_excel('/kaggle/input/3-classes-bangla-sa/3_classes_Bert_Preprocessed__Dataset.xlsx')\n",
    "df.info()"
   ]
  },
  {
   "cell_type": "code",
   "execution_count": 6,
   "id": "9601b4d0",
   "metadata": {
    "execution": {
     "iopub.execute_input": "2022-04-25T14:10:28.695429Z",
     "iopub.status.busy": "2022-04-25T14:10:28.694783Z",
     "iopub.status.idle": "2022-04-25T14:11:08.769154Z",
     "shell.execute_reply": "2022-04-25T14:11:08.768273Z"
    },
    "papermill": {
     "duration": 40.101552,
     "end_time": "2022-04-25T14:11:08.771567",
     "exception": false,
     "start_time": "2022-04-25T14:10:28.670015",
     "status": "completed"
    },
    "tags": []
   },
   "outputs": [
    {
     "name": "stdout",
     "output_type": "stream",
     "text": [
      "Collecting ktrain\r\n",
      "  Downloading ktrain-0.30.0.tar.gz (25.3 MB)\r\n",
      "\u001b[2K     \u001b[90m━━━━━━━━━━━━━━━━━━━━━━━━━━━━━━━━━━━━━━━━\u001b[0m \u001b[32m25.3/25.3 MB\u001b[0m \u001b[31m27.2 MB/s\u001b[0m eta \u001b[36m0:00:00\u001b[0m\r\n",
      "\u001b[?25h  Preparing metadata (setup.py) ... \u001b[?25l-\b \bdone\r\n",
      "\u001b[?25hCollecting scikit-learn==0.24.2\r\n",
      "  Downloading scikit_learn-0.24.2-cp37-cp37m-manylinux2010_x86_64.whl (22.3 MB)\r\n",
      "\u001b[2K     \u001b[90m━━━━━━━━━━━━━━━━━━━━━━━━━━━━━━━━━━━━━━━━\u001b[0m \u001b[32m22.3/22.3 MB\u001b[0m \u001b[31m27.4 MB/s\u001b[0m eta \u001b[36m0:00:00\u001b[0m\r\n",
      "\u001b[?25hRequirement already satisfied: matplotlib>=3.0.0 in /opt/conda/lib/python3.7/site-packages (from ktrain) (3.5.1)\r\n",
      "Requirement already satisfied: pandas>=1.0.1 in /opt/conda/lib/python3.7/site-packages (from ktrain) (1.3.5)\r\n",
      "Requirement already satisfied: fastprogress>=0.1.21 in /opt/conda/lib/python3.7/site-packages (from ktrain) (1.0.2)\r\n",
      "Requirement already satisfied: requests in /opt/conda/lib/python3.7/site-packages (from ktrain) (2.27.1)\r\n",
      "Requirement already satisfied: joblib in /opt/conda/lib/python3.7/site-packages (from ktrain) (1.0.1)\r\n",
      "Requirement already satisfied: packaging in /opt/conda/lib/python3.7/site-packages (from ktrain) (21.3)\r\n",
      "Collecting langdetect\r\n",
      "  Downloading langdetect-1.0.9.tar.gz (981 kB)\r\n",
      "\u001b[2K     \u001b[90m━━━━━━━━━━━━━━━━━━━━━━━━━━━━━━━━━━━━━━\u001b[0m \u001b[32m981.5/981.5 KB\u001b[0m \u001b[31m56.8 MB/s\u001b[0m eta \u001b[36m0:00:00\u001b[0m\r\n",
      "\u001b[?25h  Preparing metadata (setup.py) ... \u001b[?25l-\b \bdone\r\n",
      "\u001b[?25hRequirement already satisfied: jieba in /opt/conda/lib/python3.7/site-packages (from ktrain) (0.42.1)\r\n",
      "Collecting cchardet\r\n",
      "  Downloading cchardet-2.1.7-cp37-cp37m-manylinux2010_x86_64.whl (263 kB)\r\n",
      "\u001b[2K     \u001b[90m━━━━━━━━━━━━━━━━━━━━━━━━━━━━━━━━━━━━━━\u001b[0m \u001b[32m263.7/263.7 KB\u001b[0m \u001b[31m24.7 MB/s\u001b[0m eta \u001b[36m0:00:00\u001b[0m\r\n",
      "\u001b[?25hRequirement already satisfied: chardet in /opt/conda/lib/python3.7/site-packages (from ktrain) (4.0.0)\r\n",
      "Collecting syntok==1.3.3\r\n",
      "  Downloading syntok-1.3.3-py3-none-any.whl (22 kB)\r\n",
      "Collecting transformers==4.10.3\r\n",
      "  Downloading transformers-4.10.3-py3-none-any.whl (2.8 MB)\r\n",
      "\u001b[2K     \u001b[90m━━━━━━━━━━━━━━━━━━━━━━━━━━━━━━━━━━━━━━━━\u001b[0m \u001b[32m2.8/2.8 MB\u001b[0m \u001b[31m54.5 MB/s\u001b[0m eta \u001b[36m0:00:00\u001b[0m\r\n",
      "\u001b[?25hRequirement already satisfied: sentencepiece in /opt/conda/lib/python3.7/site-packages (from ktrain) (0.1.96)\r\n",
      "Collecting keras_bert>=0.86.0\r\n",
      "  Downloading keras-bert-0.89.0.tar.gz (25 kB)\r\n",
      "  Preparing metadata (setup.py) ... \u001b[?25l-\b \bdone\r\n",
      "\u001b[?25hCollecting whoosh\r\n",
      "  Downloading Whoosh-2.7.4-py2.py3-none-any.whl (468 kB)\r\n",
      "\u001b[2K     \u001b[90m━━━━━━━━━━━━━━━━━━━━━━━━━━━━━━━━━━━━━━\u001b[0m \u001b[32m468.8/468.8 KB\u001b[0m \u001b[31m34.4 MB/s\u001b[0m eta \u001b[36m0:00:00\u001b[0m\r\n",
      "\u001b[?25hRequirement already satisfied: numpy>=1.13.3 in /opt/conda/lib/python3.7/site-packages (from scikit-learn==0.24.2->ktrain) (1.21.5)\r\n",
      "Requirement already satisfied: scipy>=0.19.1 in /opt/conda/lib/python3.7/site-packages (from scikit-learn==0.24.2->ktrain) (1.7.3)\r\n",
      "Requirement already satisfied: threadpoolctl>=2.0.0 in /opt/conda/lib/python3.7/site-packages (from scikit-learn==0.24.2->ktrain) (3.1.0)\r\n",
      "Requirement already satisfied: regex in /opt/conda/lib/python3.7/site-packages (from syntok==1.3.3->ktrain) (2021.11.10)\r\n",
      "Requirement already satisfied: pyyaml>=5.1 in /opt/conda/lib/python3.7/site-packages (from transformers==4.10.3->ktrain) (6.0)\r\n",
      "Requirement already satisfied: importlib-metadata in /opt/conda/lib/python3.7/site-packages (from transformers==4.10.3->ktrain) (4.11.3)\r\n",
      "Requirement already satisfied: filelock in /opt/conda/lib/python3.7/site-packages (from transformers==4.10.3->ktrain) (3.6.0)\r\n",
      "Collecting tokenizers<0.11,>=0.10.1\r\n",
      "  Downloading tokenizers-0.10.3-cp37-cp37m-manylinux_2_5_x86_64.manylinux1_x86_64.manylinux_2_12_x86_64.manylinux2010_x86_64.whl (3.3 MB)\r\n",
      "\u001b[2K     \u001b[90m━━━━━━━━━━━━━━━━━━━━━━━━━━━━━━━━━━━━━━━━\u001b[0m \u001b[32m3.3/3.3 MB\u001b[0m \u001b[31m43.6 MB/s\u001b[0m eta \u001b[36m0:00:00\u001b[0m\r\n",
      "\u001b[?25hRequirement already satisfied: tqdm>=4.27 in /opt/conda/lib/python3.7/site-packages (from transformers==4.10.3->ktrain) (4.63.0)\r\n",
      "Requirement already satisfied: huggingface-hub>=0.0.12 in /opt/conda/lib/python3.7/site-packages (from transformers==4.10.3->ktrain) (0.5.1)\r\n",
      "Requirement already satisfied: sacremoses in /opt/conda/lib/python3.7/site-packages (from transformers==4.10.3->ktrain) (0.0.49)\r\n",
      "Collecting keras-transformer==0.40.0\r\n",
      "  Downloading keras-transformer-0.40.0.tar.gz (9.7 kB)\r\n",
      "  Preparing metadata (setup.py) ... \u001b[?25l-\b \bdone\r\n",
      "\u001b[?25hCollecting keras-pos-embd==0.13.0\r\n",
      "  Downloading keras-pos-embd-0.13.0.tar.gz (5.6 kB)\r\n",
      "  Preparing metadata (setup.py) ... \u001b[?25l-\b \bdone\r\n",
      "\u001b[?25hCollecting keras-multi-head==0.29.0\r\n",
      "  Downloading keras-multi-head-0.29.0.tar.gz (13 kB)\r\n",
      "  Preparing metadata (setup.py) ... \u001b[?25l-\b \bdone\r\n",
      "\u001b[?25hCollecting keras-layer-normalization==0.16.0\r\n",
      "  Downloading keras-layer-normalization-0.16.0.tar.gz (3.9 kB)\r\n",
      "  Preparing metadata (setup.py) ... \u001b[?25l-\b \bdone\r\n",
      "\u001b[?25hCollecting keras-position-wise-feed-forward==0.8.0\r\n",
      "  Downloading keras-position-wise-feed-forward-0.8.0.tar.gz (4.1 kB)\r\n",
      "  Preparing metadata (setup.py) ... \u001b[?25l-\b \bdone\r\n",
      "\u001b[?25hCollecting keras-embed-sim==0.10.0\r\n",
      "  Downloading keras-embed-sim-0.10.0.tar.gz (3.6 kB)\r\n",
      "  Preparing metadata (setup.py) ... \u001b[?25l-\b \bdone\r\n",
      "\u001b[?25hCollecting keras-self-attention==0.51.0\r\n",
      "  Downloading keras-self-attention-0.51.0.tar.gz (11 kB)\r\n",
      "  Preparing metadata (setup.py) ... \u001b[?25l-\b \bdone\r\n",
      "\u001b[?25hRequirement already satisfied: pyparsing>=2.2.1 in /opt/conda/lib/python3.7/site-packages (from matplotlib>=3.0.0->ktrain) (3.0.7)\r\n",
      "Requirement already satisfied: cycler>=0.10 in /opt/conda/lib/python3.7/site-packages (from matplotlib>=3.0.0->ktrain) (0.11.0)\r\n",
      "Requirement already satisfied: python-dateutil>=2.7 in /opt/conda/lib/python3.7/site-packages (from matplotlib>=3.0.0->ktrain) (2.8.2)\r\n",
      "Requirement already satisfied: pillow>=6.2.0 in /opt/conda/lib/python3.7/site-packages (from matplotlib>=3.0.0->ktrain) (9.0.1)\r\n",
      "Requirement already satisfied: fonttools>=4.22.0 in /opt/conda/lib/python3.7/site-packages (from matplotlib>=3.0.0->ktrain) (4.30.0)\r\n",
      "Requirement already satisfied: kiwisolver>=1.0.1 in /opt/conda/lib/python3.7/site-packages (from matplotlib>=3.0.0->ktrain) (1.4.0)\r\n",
      "Requirement already satisfied: pytz>=2017.3 in /opt/conda/lib/python3.7/site-packages (from pandas>=1.0.1->ktrain) (2021.3)\r\n",
      "Requirement already satisfied: six in /opt/conda/lib/python3.7/site-packages (from langdetect->ktrain) (1.16.0)\r\n",
      "Requirement already satisfied: urllib3<1.27,>=1.21.1 in /opt/conda/lib/python3.7/site-packages (from requests->ktrain) (1.26.8)\r\n",
      "Requirement already satisfied: idna<4,>=2.5 in /opt/conda/lib/python3.7/site-packages (from requests->ktrain) (3.3)\r\n",
      "Requirement already satisfied: charset-normalizer~=2.0.0 in /opt/conda/lib/python3.7/site-packages (from requests->ktrain) (2.0.12)\r\n",
      "Requirement already satisfied: certifi>=2017.4.17 in /opt/conda/lib/python3.7/site-packages (from requests->ktrain) (2021.10.8)\r\n",
      "Requirement already satisfied: typing-extensions>=3.7.4.3 in /opt/conda/lib/python3.7/site-packages (from huggingface-hub>=0.0.12->transformers==4.10.3->ktrain) (4.1.1)\r\n",
      "Requirement already satisfied: zipp>=0.5 in /opt/conda/lib/python3.7/site-packages (from importlib-metadata->transformers==4.10.3->ktrain) (3.7.0)\r\n",
      "Requirement already satisfied: click in /opt/conda/lib/python3.7/site-packages (from sacremoses->transformers==4.10.3->ktrain) (8.0.4)\r\n",
      "Building wheels for collected packages: ktrain, keras_bert, keras-transformer, keras-embed-sim, keras-layer-normalization, keras-multi-head, keras-pos-embd, keras-position-wise-feed-forward, keras-self-attention, langdetect\r\n",
      "  Building wheel for ktrain (setup.py) ... \u001b[?25l-\b \b\\\b \b|\b \b/\b \b-\b \b\\\b \b|\b \bdone\r\n",
      "\u001b[?25h  Created wheel for ktrain: filename=ktrain-0.30.0-py3-none-any.whl size=25309161 sha256=4503206f5d5f8b1cc4d2342fa26c2260b74653c36ed4ac49d0ea9badd99106bc\r\n",
      "  Stored in directory: /root/.cache/pip/wheels/25/00/ae/80d1b19dd02bc2e6bc9bac32ba7dbaa59aad789e93274e4868\r\n",
      "  Building wheel for keras_bert (setup.py) ... \u001b[?25l-\b \b\\\b \bdone\r\n",
      "\u001b[?25h  Created wheel for keras_bert: filename=keras_bert-0.89.0-py3-none-any.whl size=33517 sha256=fb1269285a134296cbcda2f0eac789c21979f3bc931d47a12b6275a43919eec6\r\n",
      "  Stored in directory: /root/.cache/pip/wheels/a4/e8/45/842b3a39831261aef9154b907eacbc4ac99499a99ae829b06f\r\n",
      "  Building wheel for keras-transformer (setup.py) ... \u001b[?25l-\b \b\\\b \bdone\r\n",
      "\u001b[?25h  Created wheel for keras-transformer: filename=keras_transformer-0.40.0-py3-none-any.whl size=12305 sha256=48d05438de3eaa0a2010bd0fa7826e22b11e1ab5a60fc0ce52f507e60c28beb2\r\n",
      "  Stored in directory: /root/.cache/pip/wheels/46/68/26/692ed21edd832833c3b0a0e21615bcacd99ca458b3f9ed571f\r\n",
      "  Building wheel for keras-embed-sim (setup.py) ... \u001b[?25l-\b \bdone\r\n",
      "\u001b[?25h  Created wheel for keras-embed-sim: filename=keras_embed_sim-0.10.0-py3-none-any.whl size=3960 sha256=f18880cdcfe6d8ed1fab6bf1085195e9d3a9ad2d02338a7043081cca894afca1\r\n",
      "  Stored in directory: /root/.cache/pip/wheels/81/67/b5/d847588d075895281e1cf5590f819bd4cf076a554872268bd5\r\n",
      "  Building wheel for keras-layer-normalization (setup.py) ... \u001b[?25l-\b \bdone\r\n",
      "\u001b[?25h  Created wheel for keras-layer-normalization: filename=keras_layer_normalization-0.16.0-py3-none-any.whl size=4668 sha256=b4d6354abafb3b436f0889359cd0cdcccb4f1ff87b7444e1a2e28ca638fe8041\r\n",
      "  Stored in directory: /root/.cache/pip/wheels/85/5d/1c/2e619f594f69fbcf8bc20943b27d414871c409be053994813e\r\n",
      "  Building wheel for keras-multi-head (setup.py) ... \u001b[?25l-\b \bdone\r\n",
      "\u001b[?25h  Created wheel for keras-multi-head: filename=keras_multi_head-0.29.0-py3-none-any.whl size=14993 sha256=f2128ec74135ca7e94c8f375890077117b0b8b0733db41204b7936654099fb88\r\n",
      "  Stored in directory: /root/.cache/pip/wheels/86/aa/3c/9d15d24005179dae08ff291ce99c754b296347817d076fd9fb\r\n",
      "  Building wheel for keras-pos-embd (setup.py) ... \u001b[?25l-\b \bdone\r\n",
      "\u001b[?25h  Created wheel for keras-pos-embd: filename=keras_pos_embd-0.13.0-py3-none-any.whl size=6962 sha256=b217e4aef75da01bff748f82d84bfa8e31c6ec6791361c23ff7e08f63e19ccc9\r\n",
      "  Stored in directory: /root/.cache/pip/wheels/8d/c1/a0/dc44fcf68c857b7ff6be9a97e675e5adf51022eff1169b042f\r\n",
      "  Building wheel for keras-position-wise-feed-forward (setup.py) ... \u001b[?25l-\b \bdone\r\n",
      "\u001b[?25h  Created wheel for keras-position-wise-feed-forward: filename=keras_position_wise_feed_forward-0.8.0-py3-none-any.whl size=4983 sha256=a480377ad8c0ee0c9fb4780d6877716ccfb5cc83e630dce8d775b5572e9b13ed\r\n",
      "  Stored in directory: /root/.cache/pip/wheels/c2/75/6f/d42f6e051506f442daeba53ff1e2d21a5f20ef8c411610f2bb\r\n",
      "  Building wheel for keras-self-attention (setup.py) ... \u001b[?25l-\b \b\\\b \bdone\r\n",
      "\u001b[?25h  Created wheel for keras-self-attention: filename=keras_self_attention-0.51.0-py3-none-any.whl size=18912 sha256=8e3657153d674d6d35ce1b2125d7bf51ebeb48c84060c607df0e8474c1490e60\r\n",
      "  Stored in directory: /root/.cache/pip/wheels/95/b1/a8/5ee00cc137940b2f6fa198212e8f45d813d0e0d9c3a04035a3\r\n",
      "  Building wheel for langdetect (setup.py) ... \u001b[?25l-\b \b\\\b \b|\b \b/\b \bdone\r\n",
      "\u001b[?25h  Created wheel for langdetect: filename=langdetect-1.0.9-py3-none-any.whl size=993242 sha256=5429f34f9a735cda6c52d352af9739699708475de88f2b41c26919d705ab3959\r\n",
      "  Stored in directory: /root/.cache/pip/wheels/c5/96/8a/f90c59ed25d75e50a8c10a1b1c2d4c402e4dacfa87f3aff36a\r\n",
      "Successfully built ktrain keras_bert keras-transformer keras-embed-sim keras-layer-normalization keras-multi-head keras-pos-embd keras-position-wise-feed-forward keras-self-attention langdetect\r\n",
      "Installing collected packages: whoosh, tokenizers, cchardet, syntok, langdetect, keras-self-attention, keras-position-wise-feed-forward, keras-pos-embd, keras-layer-normalization, keras-embed-sim, scikit-learn, keras-multi-head, keras-transformer, transformers, keras_bert, ktrain\r\n",
      "  Attempting uninstall: tokenizers\r\n",
      "    Found existing installation: tokenizers 0.11.6\r\n",
      "    Uninstalling tokenizers-0.11.6:\r\n",
      "      Successfully uninstalled tokenizers-0.11.6\r\n",
      "  Attempting uninstall: scikit-learn\r\n",
      "    Found existing installation: scikit-learn 1.0.2\r\n",
      "    Uninstalling scikit-learn-1.0.2:\r\n",
      "      Successfully uninstalled scikit-learn-1.0.2\r\n",
      "  Attempting uninstall: transformers\r\n",
      "    Found existing installation: transformers 4.17.0\r\n",
      "    Uninstalling transformers-4.17.0:\r\n",
      "      Successfully uninstalled transformers-4.17.0\r\n",
      "\u001b[31mERROR: pip's dependency resolver does not currently take into account all the packages that are installed. This behaviour is the source of the following dependency conflicts.\r\n",
      "yellowbrick 1.4 requires scikit-learn>=1.0.0, but you have scikit-learn 0.24.2 which is incompatible.\r\n",
      "pdpbox 0.2.1 requires matplotlib==3.1.1, but you have matplotlib 3.5.1 which is incompatible.\r\n",
      "imbalanced-learn 0.9.0 requires scikit-learn>=1.0.1, but you have scikit-learn 0.24.2 which is incompatible.\u001b[0m\u001b[31m\r\n",
      "\u001b[0mSuccessfully installed cchardet-2.1.7 keras-embed-sim-0.10.0 keras-layer-normalization-0.16.0 keras-multi-head-0.29.0 keras-pos-embd-0.13.0 keras-position-wise-feed-forward-0.8.0 keras-self-attention-0.51.0 keras-transformer-0.40.0 keras_bert-0.89.0 ktrain-0.30.0 langdetect-1.0.9 scikit-learn-0.24.2 syntok-1.3.3 tokenizers-0.10.3 transformers-4.10.3 whoosh-2.7.4\r\n",
      "\u001b[33mWARNING: Running pip as the 'root' user can result in broken permissions and conflicting behaviour with the system package manager. It is recommended to use a virtual environment instead: https://pip.pypa.io/warnings/venv\u001b[0m\u001b[33m\r\n",
      "\u001b[0mNote: you may need to restart the kernel to use updated packages.\n"
     ]
    }
   ],
   "source": [
    "pip install ktrain"
   ]
  },
  {
   "cell_type": "code",
   "execution_count": 7,
   "id": "65aeff84",
   "metadata": {
    "execution": {
     "iopub.execute_input": "2022-04-25T14:11:08.905024Z",
     "iopub.status.busy": "2022-04-25T14:11:08.904715Z",
     "iopub.status.idle": "2022-04-25T14:11:08.951771Z",
     "shell.execute_reply": "2022-04-25T14:11:08.951126Z"
    },
    "papermill": {
     "duration": 0.115257,
     "end_time": "2022-04-25T14:11:08.953562",
     "exception": false,
     "start_time": "2022-04-25T14:11:08.838305",
     "status": "completed"
    },
    "tags": []
   },
   "outputs": [],
   "source": [
    "%reload_ext autoreload\n",
    "%autoreload 2\n",
    "%matplotlib inline\n",
    "import os\n",
    "os.environ[\"CUDA_DEVICE_ORDER\"] = \"PCI_BUS_ID\"\n",
    "os.environ[\"CUDA_VISIBLE_DEVICES\"] = \"0\" "
   ]
  },
  {
   "cell_type": "code",
   "execution_count": 8,
   "id": "7ebe45dc",
   "metadata": {
    "execution": {
     "iopub.execute_input": "2022-04-25T14:11:09.085887Z",
     "iopub.status.busy": "2022-04-25T14:11:09.085423Z",
     "iopub.status.idle": "2022-04-25T14:11:16.627552Z",
     "shell.execute_reply": "2022-04-25T14:11:16.626651Z"
    },
    "papermill": {
     "duration": 7.610557,
     "end_time": "2022-04-25T14:11:16.629611",
     "exception": false,
     "start_time": "2022-04-25T14:11:09.019054",
     "status": "completed"
    },
    "tags": []
   },
   "outputs": [],
   "source": [
    "import ktrain\n",
    "from ktrain import text"
   ]
  },
  {
   "cell_type": "code",
   "execution_count": 9,
   "id": "7da02e5b",
   "metadata": {
    "execution": {
     "iopub.execute_input": "2022-04-25T14:11:16.761061Z",
     "iopub.status.busy": "2022-04-25T14:11:16.760844Z",
     "iopub.status.idle": "2022-04-25T14:11:16.826773Z",
     "shell.execute_reply": "2022-04-25T14:11:16.826119Z"
    },
    "papermill": {
     "duration": 0.133515,
     "end_time": "2022-04-25T14:11:16.828485",
     "exception": false,
     "start_time": "2022-04-25T14:11:16.694970",
     "status": "completed"
    },
    "tags": []
   },
   "outputs": [],
   "source": [
    "train=df[:int(.8*len(df))]\n",
    "test=df[int(.8*len(df)):int(.9*len(df))]\n",
    "validation=df[int(.9*len(df)):]\n",
    "x_train=train['Token'].tolist()\n",
    "y_train=train['Label'].tolist()\n",
    "x_validation=validation['Token'].tolist()\n",
    "y_validation=validation['Label'].tolist()\n",
    "x_test=test['Token'].tolist()\n",
    "y_test=test['Label'].tolist()"
   ]
  },
  {
   "cell_type": "code",
   "execution_count": 10,
   "id": "07e01cc1",
   "metadata": {
    "execution": {
     "iopub.execute_input": "2022-04-25T14:11:16.976078Z",
     "iopub.status.busy": "2022-04-25T14:11:16.975490Z",
     "iopub.status.idle": "2022-04-25T14:11:17.063616Z",
     "shell.execute_reply": "2022-04-25T14:11:17.062945Z"
    },
    "papermill": {
     "duration": 0.172425,
     "end_time": "2022-04-25T14:11:17.065517",
     "exception": false,
     "start_time": "2022-04-25T14:11:16.893092",
     "status": "completed"
    },
    "tags": []
   },
   "outputs": [],
   "source": [
    "x_train= np.array(x_train)\n",
    "x_validation= np.array(x_validation)\n",
    "x_test= np.array(x_test)\n"
   ]
  },
  {
   "cell_type": "code",
   "execution_count": 11,
   "id": "c327377b",
   "metadata": {
    "execution": {
     "iopub.execute_input": "2022-04-25T14:11:17.196647Z",
     "iopub.status.busy": "2022-04-25T14:11:17.196265Z",
     "iopub.status.idle": "2022-04-25T14:11:17.256710Z",
     "shell.execute_reply": "2022-04-25T14:11:17.256076Z"
    },
    "papermill": {
     "duration": 0.127947,
     "end_time": "2022-04-25T14:11:17.258655",
     "exception": false,
     "start_time": "2022-04-25T14:11:17.130708",
     "status": "completed"
    },
    "tags": []
   },
   "outputs": [],
   "source": [
    "categories = [0,1,2]"
   ]
  },
  {
   "cell_type": "code",
   "execution_count": 12,
   "id": "079cfac6",
   "metadata": {
    "execution": {
     "iopub.execute_input": "2022-04-25T14:11:17.389067Z",
     "iopub.status.busy": "2022-04-25T14:11:17.388877Z",
     "iopub.status.idle": "2022-04-25T14:11:18.164095Z",
     "shell.execute_reply": "2022-04-25T14:11:18.163431Z"
    },
    "papermill": {
     "duration": 0.844481,
     "end_time": "2022-04-25T14:11:18.168084",
     "exception": false,
     "start_time": "2022-04-25T14:11:17.323603",
     "status": "completed"
    },
    "tags": []
   },
   "outputs": [
    {
     "data": {
      "application/vnd.jupyter.widget-view+json": {
       "model_id": "4384742ea2cd4f7caf21ede6b5055276",
       "version_major": 2,
       "version_minor": 0
      },
      "text/plain": [
       "Downloading:   0%|          | 0.00/638 [00:00<?, ?B/s]"
      ]
     },
     "metadata": {},
     "output_type": "display_data"
    }
   ],
   "source": [
    "model_name = 'Kowsher/bangla-bert'\n",
    "trans = text.Transformer(model_name,maxlen=50,class_names=categories)"
   ]
  },
  {
   "cell_type": "code",
   "execution_count": 13,
   "id": "2b2d95d0",
   "metadata": {
    "execution": {
     "iopub.execute_input": "2022-04-25T14:11:18.301450Z",
     "iopub.status.busy": "2022-04-25T14:11:18.301149Z",
     "iopub.status.idle": "2022-04-25T14:11:29.012906Z",
     "shell.execute_reply": "2022-04-25T14:11:29.012208Z"
    },
    "papermill": {
     "duration": 10.779944,
     "end_time": "2022-04-25T14:11:29.014679",
     "exception": false,
     "start_time": "2022-04-25T14:11:18.234735",
     "status": "completed"
    },
    "tags": []
   },
   "outputs": [
    {
     "name": "stdout",
     "output_type": "stream",
     "text": [
      "preprocessing train...\n",
      "language: bn\n",
      "train sequence lengths:\n",
      "\tmean : 16\n",
      "\t95percentile : 37\n",
      "\t99percentile : 47\n"
     ]
    },
    {
     "data": {
      "application/vnd.jupyter.widget-view+json": {
       "model_id": "3fec89cb2bac4111b60ea45d486b95e9",
       "version_major": 2,
       "version_minor": 0
      },
      "text/plain": [
       "Downloading:   0%|          | 0.00/2.24M [00:00<?, ?B/s]"
      ]
     },
     "metadata": {},
     "output_type": "display_data"
    },
    {
     "data": {
      "text/html": [
       "\n",
       "<style>\n",
       "    /* Turns off some styling */\n",
       "    progress {\n",
       "        /* gets rid of default border in Firefox and Opera. */\n",
       "        border: none;\n",
       "        /* Needs to be in here for Safari polyfill so background images work as expected. */\n",
       "        background-size: auto;\n",
       "    }\n",
       "    .progress-bar-interrupted, .progress-bar-interrupted::-webkit-progress-bar {\n",
       "        background: #F44336;\n",
       "    }\n",
       "</style>\n"
      ],
      "text/plain": [
       "<IPython.core.display.HTML object>"
      ]
     },
     "metadata": {},
     "output_type": "display_data"
    },
    {
     "data": {
      "text/html": [],
      "text/plain": [
       "<IPython.core.display.HTML object>"
      ]
     },
     "metadata": {},
     "output_type": "display_data"
    },
    {
     "name": "stdout",
     "output_type": "stream",
     "text": [
      "Is Multi-Label? False\n",
      "preprocessing test...\n",
      "language: bn\n",
      "test sequence lengths:\n",
      "\tmean : 16\n",
      "\t95percentile : 37\n",
      "\t99percentile : 47\n"
     ]
    },
    {
     "data": {
      "text/html": [
       "\n",
       "<style>\n",
       "    /* Turns off some styling */\n",
       "    progress {\n",
       "        /* gets rid of default border in Firefox and Opera. */\n",
       "        border: none;\n",
       "        /* Needs to be in here for Safari polyfill so background images work as expected. */\n",
       "        background-size: auto;\n",
       "    }\n",
       "    .progress-bar-interrupted, .progress-bar-interrupted::-webkit-progress-bar {\n",
       "        background: #F44336;\n",
       "    }\n",
       "</style>\n"
      ],
      "text/plain": [
       "<IPython.core.display.HTML object>"
      ]
     },
     "metadata": {},
     "output_type": "display_data"
    },
    {
     "data": {
      "text/html": [],
      "text/plain": [
       "<IPython.core.display.HTML object>"
      ]
     },
     "metadata": {},
     "output_type": "display_data"
    }
   ],
   "source": [
    "train = trans.preprocess_train(x_train,y_train)\n",
    "valid = trans.preprocess_test(x_validation,y_validation)"
   ]
  },
  {
   "cell_type": "code",
   "execution_count": 14,
   "id": "0abc9c5c",
   "metadata": {
    "execution": {
     "iopub.execute_input": "2022-04-25T14:11:29.155118Z",
     "iopub.status.busy": "2022-04-25T14:11:29.154905Z",
     "iopub.status.idle": "2022-04-25T14:11:52.499125Z",
     "shell.execute_reply": "2022-04-25T14:11:52.498404Z"
    },
    "papermill": {
     "duration": 23.416774,
     "end_time": "2022-04-25T14:11:52.501225",
     "exception": false,
     "start_time": "2022-04-25T14:11:29.084451",
     "status": "completed"
    },
    "tags": []
   },
   "outputs": [
    {
     "name": "stderr",
     "output_type": "stream",
     "text": [
      "404 Client Error: Not Found for url: https://huggingface.co/Kowsher/bangla-bert/resolve/main/tf_model.h5\n",
      "/opt/conda/lib/python3.7/site-packages/ktrain/text/preprocessor.py:1070: UserWarning: Could not find Tensorflow version of model.  Attempting to download/load PyTorch version as TensorFlow model using from_pt=True. You will need PyTorch installed for this.\n",
      "  warnings.warn('Could not find Tensorflow version of model.  Attempting to download/load PyTorch version as TensorFlow model using from_pt=True. ' +\\\n"
     ]
    },
    {
     "data": {
      "application/vnd.jupyter.widget-view+json": {
       "model_id": "339a0b6d02a24fc498e9331ac9286a77",
       "version_major": 2,
       "version_minor": 0
      },
      "text/plain": [
       "Downloading:   0%|          | 0.00/658M [00:00<?, ?B/s]"
      ]
     },
     "metadata": {},
     "output_type": "display_data"
    }
   ],
   "source": [
    "model = trans.get_classifier()"
   ]
  },
  {
   "cell_type": "code",
   "execution_count": 15,
   "id": "cca90074",
   "metadata": {
    "execution": {
     "iopub.execute_input": "2022-04-25T14:11:52.643971Z",
     "iopub.status.busy": "2022-04-25T14:11:52.643487Z",
     "iopub.status.idle": "2022-04-25T14:11:53.999667Z",
     "shell.execute_reply": "2022-04-25T14:11:53.998778Z"
    },
    "papermill": {
     "duration": 1.429019,
     "end_time": "2022-04-25T14:11:54.001879",
     "exception": false,
     "start_time": "2022-04-25T14:11:52.572860",
     "status": "completed"
    },
    "tags": []
   },
   "outputs": [],
   "source": [
    "learner = ktrain.get_learner(model, train_data=train,val_data=valid, batch_size=12)"
   ]
  },
  {
   "cell_type": "code",
   "execution_count": 16,
   "id": "8c970c97",
   "metadata": {
    "execution": {
     "iopub.execute_input": "2022-04-25T14:11:54.158820Z",
     "iopub.status.busy": "2022-04-25T14:11:54.158583Z",
     "iopub.status.idle": "2022-04-25T14:11:54.230274Z",
     "shell.execute_reply": "2022-04-25T14:11:54.229497Z"
    },
    "papermill": {
     "duration": 0.149089,
     "end_time": "2022-04-25T14:11:54.232335",
     "exception": false,
     "start_time": "2022-04-25T14:11:54.083246",
     "status": "completed"
    },
    "tags": []
   },
   "outputs": [],
   "source": [
    "from sklearn.utils import class_weight\n",
    "class_weight=class_weight.compute_class_weight(class_weight='balanced',classes=np.unique(y_train),y=y_train)\n",
    "weight={i:class_weight[i] for i in range(3)}"
   ]
  },
  {
   "cell_type": "code",
   "execution_count": 17,
   "id": "ae79b194",
   "metadata": {
    "execution": {
     "iopub.execute_input": "2022-04-25T14:11:54.391008Z",
     "iopub.status.busy": "2022-04-25T14:11:54.390390Z",
     "iopub.status.idle": "2022-04-25T14:36:35.370112Z",
     "shell.execute_reply": "2022-04-25T14:36:35.369414Z"
    },
    "papermill": {
     "duration": 1484.299515,
     "end_time": "2022-04-25T14:36:38.614238",
     "exception": false,
     "start_time": "2022-04-25T14:11:54.314723",
     "status": "completed"
    },
    "tags": []
   },
   "outputs": [
    {
     "name": "stdout",
     "output_type": "stream",
     "text": [
      "\n",
      "\n",
      "begin training using onecycle policy with max lr of 2e-05...\n",
      "Epoch 1/10\n",
      "1049/1049 [==============================] - 165s 137ms/step - loss: 0.9677 - accuracy: 0.5402 - val_loss: 0.8553 - val_accuracy: 0.6084\n",
      "Epoch 2/10\n",
      "1049/1049 [==============================] - 140s 133ms/step - loss: 0.8338 - accuracy: 0.6319 - val_loss: 0.8066 - val_accuracy: 0.6383\n",
      "Epoch 3/10\n",
      "1049/1049 [==============================] - 140s 133ms/step - loss: 0.7142 - accuracy: 0.7008 - val_loss: 0.7904 - val_accuracy: 0.6491\n",
      "Epoch 4/10\n",
      "1049/1049 [==============================] - 139s 133ms/step - loss: 0.5478 - accuracy: 0.7856 - val_loss: 0.8654 - val_accuracy: 0.6548\n",
      "Epoch 5/10\n",
      "1049/1049 [==============================] - 140s 133ms/step - loss: 0.3902 - accuracy: 0.8504 - val_loss: 0.9879 - val_accuracy: 0.6408\n",
      "Epoch 6/10\n",
      "1049/1049 [==============================] - 141s 134ms/step - loss: 0.2589 - accuracy: 0.9107 - val_loss: 1.1567 - val_accuracy: 0.6472\n",
      "Epoch 7/10\n",
      "1049/1049 [==============================] - 140s 134ms/step - loss: 0.1599 - accuracy: 0.9456 - val_loss: 1.3245 - val_accuracy: 0.6484\n",
      "Epoch 8/10\n",
      "1049/1049 [==============================] - 140s 134ms/step - loss: 0.1009 - accuracy: 0.9684 - val_loss: 1.3882 - val_accuracy: 0.6561\n",
      "Epoch 9/10\n",
      "1049/1049 [==============================] - 141s 134ms/step - loss: 0.0655 - accuracy: 0.9785 - val_loss: 1.4499 - val_accuracy: 0.6624\n",
      "Epoch 10/10\n",
      "1049/1049 [==============================] - 141s 135ms/step - loss: 0.0454 - accuracy: 0.9835 - val_loss: 1.6303 - val_accuracy: 0.6605\n"
     ]
    },
    {
     "data": {
      "text/plain": [
       "<keras.callbacks.History at 0x7efe7616d650>"
      ]
     },
     "execution_count": 17,
     "metadata": {},
     "output_type": "execute_result"
    }
   ],
   "source": [
    "learner.fit_onecycle(2e-5,10,class_weight=weight) "
   ]
  },
  {
   "cell_type": "code",
   "execution_count": 18,
   "id": "37db7687",
   "metadata": {
    "execution": {
     "iopub.execute_input": "2022-04-25T14:36:45.479291Z",
     "iopub.status.busy": "2022-04-25T14:36:45.478966Z",
     "iopub.status.idle": "2022-04-25T14:36:52.002695Z",
     "shell.execute_reply": "2022-04-25T14:36:52.001529Z"
    },
    "papermill": {
     "duration": 10.065367,
     "end_time": "2022-04-25T14:36:52.005050",
     "exception": false,
     "start_time": "2022-04-25T14:36:41.939683",
     "status": "completed"
    },
    "tags": []
   },
   "outputs": [
    {
     "name": "stdout",
     "output_type": "stream",
     "text": [
      "              precision    recall  f1-score   support\n",
      "\n",
      "           0       0.46      0.52      0.49       380\n",
      "           1       0.72      0.70      0.71       623\n",
      "           2       0.75      0.71      0.73       570\n",
      "\n",
      "    accuracy                           0.66      1573\n",
      "   macro avg       0.64      0.64      0.64      1573\n",
      "weighted avg       0.67      0.66      0.66      1573\n",
      "\n"
     ]
    },
    {
     "data": {
      "text/plain": [
       "array([[198, 112,  70],\n",
       "       [124, 437,  62],\n",
       "       [107,  59, 404]])"
      ]
     },
     "execution_count": 18,
     "metadata": {},
     "output_type": "execute_result"
    }
   ],
   "source": [
    "learner.validate(class_names=categories)"
   ]
  },
  {
   "cell_type": "code",
   "execution_count": 19,
   "id": "0e2d7885",
   "metadata": {
    "execution": {
     "iopub.execute_input": "2022-04-25T14:36:58.918157Z",
     "iopub.status.busy": "2022-04-25T14:36:58.917868Z",
     "iopub.status.idle": "2022-04-25T14:36:58.988954Z",
     "shell.execute_reply": "2022-04-25T14:36:58.988140Z"
    },
    "papermill": {
     "duration": 3.465392,
     "end_time": "2022-04-25T14:36:58.990841",
     "exception": false,
     "start_time": "2022-04-25T14:36:55.525449",
     "status": "completed"
    },
    "tags": []
   },
   "outputs": [],
   "source": [
    "predictor = ktrain.get_predictor(learner.model, preproc=trans)"
   ]
  },
  {
   "cell_type": "code",
   "execution_count": 20,
   "id": "31fde891",
   "metadata": {
    "execution": {
     "iopub.execute_input": "2022-04-25T14:37:06.449247Z",
     "iopub.status.busy": "2022-04-25T14:37:06.448986Z",
     "iopub.status.idle": "2022-04-25T14:37:11.684276Z",
     "shell.execute_reply": "2022-04-25T14:37:11.683541Z"
    },
    "papermill": {
     "duration": 9.366977,
     "end_time": "2022-04-25T14:37:11.686615",
     "exception": false,
     "start_time": "2022-04-25T14:37:02.319638",
     "status": "completed"
    },
    "tags": []
   },
   "outputs": [
    {
     "name": "stdout",
     "output_type": "stream",
     "text": [
      "[0, 1, 0, 2, 0, 1, 0, 2, 2, 2, 1, 0, 1, 1, 1, 1, 1, 1, 0, 2, 2, 1, 0, 2, 1, 1, 2, 2, 2, 1, 1, 2, 1, 0, 1, 0, 2, 0, 2, 1, 1, 2, 2, 0, 0, 1, 0, 1, 0, 2, 1, 1, 0, 2, 1, 1, 0, 1, 0, 2, 2, 0, 2, 2, 1, 1, 1, 2, 1, 2, 1, 1, 1, 0, 0, 0, 0, 1, 1, 2, 1, 1, 1, 0, 0, 2, 1, 1, 1, 2, 0, 2, 1, 1, 1, 2, 0, 1, 1, 0, 0, 2, 2, 0, 0, 2, 0, 0, 2, 0, 0, 1, 0, 1, 1, 0, 0, 2, 1, 1, 0, 0, 1, 2, 1, 0, 2, 0, 2, 1, 2, 0, 1, 2, 1, 1, 0, 0, 1, 1, 2, 1, 1, 2, 1, 0, 2, 0, 1, 1, 1, 1, 1, 2, 2, 2, 1, 2, 0, 0, 2, 1, 0, 2, 2, 1, 2, 0, 0, 1, 0, 0, 0, 2, 2, 1, 0, 1, 1, 1, 2, 0, 2, 0, 2, 2, 1, 1, 0, 2, 2, 2, 0, 1, 2, 1, 0, 2, 1, 2, 1, 2, 1, 1, 2, 1, 1, 1, 0, 1, 2, 0, 1, 0, 0, 0, 1, 1, 2, 0, 1, 1, 2, 1, 0, 2, 1, 1, 1, 1, 1, 1, 1, 2, 2, 1, 0, 1, 2, 1, 1, 0, 0, 1, 2, 2, 0, 1, 2, 2, 0, 1, 1, 1, 2, 1, 0, 2, 2, 0, 0, 2, 1, 0, 0, 1, 2, 0, 0, 0, 2, 2, 2, 2, 1, 0, 2, 0, 0, 1, 2, 2, 1, 1, 1, 2, 2, 1, 1, 2, 2, 2, 1, 2, 0, 1, 2, 2, 1, 2, 1, 2, 0, 0, 1, 0, 2, 0, 1, 1, 1, 2, 1, 2, 1, 0, 2, 1, 0, 1, 1, 1, 2, 0, 1, 2, 1, 0, 1, 1, 0, 2, 1, 1, 0, 1, 2, 1, 0, 1, 1, 2, 2, 2, 1, 0, 2, 1, 2, 2, 1, 2, 0, 2, 0, 2, 0, 0, 1, 1, 2, 2, 0, 1, 0, 2, 1, 1, 2, 1, 0, 1, 2, 1, 1, 2, 1, 0, 1, 0, 1, 2, 1, 1, 2, 2, 0, 1, 2, 0, 0, 2, 2, 2, 2, 1, 1, 0, 2, 1, 1, 1, 1, 2, 2, 1, 1, 1, 2, 0, 1, 0, 2, 1, 1, 2, 0, 2, 2, 1, 1, 0, 1, 1, 0, 1, 1, 1, 1, 1, 0, 1, 0, 2, 2, 1, 0, 2, 2, 2, 1, 1, 1, 2, 0, 2, 2, 0, 0, 2, 1, 0, 0, 0, 1, 2, 1, 1, 0, 2, 2, 2, 0, 0, 1, 1, 0, 2, 1, 2, 0, 2, 1, 1, 1, 1, 0, 0, 0, 0, 1, 2, 1, 1, 2, 1, 2, 2, 2, 0, 1, 1, 0, 1, 0, 2, 1, 2, 1, 1, 2, 2, 2, 0, 1, 2, 2, 1, 0, 1, 2, 2, 0, 2, 0, 2, 2, 0, 2, 1, 2, 1, 2, 1, 1, 1, 1, 1, 2, 2, 0, 0, 1, 2, 1, 2, 2, 1, 0, 0, 0, 1, 2, 1, 1, 0, 1, 1, 0, 2, 2, 2, 2, 1, 2, 2, 2, 1, 0, 1, 0, 1, 1, 1, 1, 1, 0, 2, 2, 2, 1, 2, 0, 1, 0, 1, 1, 1, 1, 2, 2, 1, 2, 0, 1, 1, 1, 1, 2, 0, 0, 1, 2, 1, 1, 2, 0, 0, 1, 2, 1, 1, 1, 0, 2, 1, 1, 0, 0, 1, 2, 1, 2, 2, 2, 1, 2, 1, 0, 1, 1, 2, 0, 2, 1, 2, 1, 1, 0, 2, 1, 1, 1, 1, 2, 1, 2, 0, 0, 1, 1, 2, 2, 2, 1, 0, 0, 2, 1, 2, 2, 0, 2, 2, 1, 0, 0, 0, 2, 1, 0, 1, 1, 2, 1, 2, 2, 0, 0, 1, 1, 2, 1, 0, 1, 0, 2, 1, 1, 1, 0, 0, 0, 0, 0, 1, 1, 1, 2, 1, 1, 0, 1, 2, 1, 2, 1, 0, 2, 0, 0, 1, 2, 2, 2, 2, 0, 1, 2, 0, 0, 2, 1, 0, 0, 2, 2, 1, 1, 2, 0, 2, 2, 0, 1, 1, 2, 1, 2, 1, 2, 0, 1, 1, 2, 2, 2, 1, 1, 1, 1, 0, 2, 0, 0, 1, 0, 1, 1, 1, 1, 2, 2, 2, 0, 1, 0, 1, 1, 0, 1, 0, 2, 1, 1, 1, 0, 1, 0, 2, 0, 2, 1, 2, 2, 0, 1, 1, 1, 1, 1, 0, 1, 1, 1, 1, 0, 0, 2, 0, 1, 2, 1, 1, 0, 2, 2, 2, 2, 1, 2, 2, 1, 1, 2, 2, 2, 2, 2, 1, 1, 2, 1, 2, 0, 2, 2, 1, 2, 2, 0, 2, 1, 1, 1, 0, 2, 0, 1, 2, 0, 2, 2, 0, 0, 1, 0, 2, 2, 2, 1, 1, 0, 0, 0, 2, 2, 1, 1, 1, 1, 0, 1, 1, 0, 2, 0, 0, 1, 0, 1, 1, 0, 0, 1, 1, 2, 1, 1, 0, 1, 2, 1, 0, 2, 1, 1, 1, 1, 0, 1, 2, 1, 1, 1, 2, 2, 1, 0, 2, 2, 1, 2, 2, 2, 0, 1, 0, 1, 2, 1, 1, 0, 2, 1, 2, 2, 1, 2, 2, 1, 1, 2, 0, 2, 1, 1, 1, 2, 1, 2, 1, 1, 0, 1, 1, 0, 2, 1, 0, 1, 1, 1, 2, 2, 1, 1, 2, 1, 2, 1, 2, 1, 1, 2, 2, 1, 1, 2, 2, 0, 2, 1, 0, 2, 2, 2, 0, 1, 1, 0, 1, 0, 0, 1, 1, 1, 0, 0, 0, 0, 2, 1, 1, 2, 1, 2, 0, 2, 1, 1, 2, 1, 2, 1, 0, 1, 2, 1, 0, 0, 1, 2, 1, 2, 1, 2, 2, 1, 1, 1, 1, 0, 0, 2, 1, 2, 1, 0, 0, 1, 0, 1, 1, 2, 2, 1, 1, 1, 2, 2, 1, 2, 1, 0, 0, 1, 2, 1, 2, 2, 1, 2, 2, 0, 1, 1, 0, 1, 2, 2, 1, 2, 1, 2, 1, 1, 0, 1, 2, 2, 1, 2, 1, 0, 1, 2, 0, 0, 2, 1, 1, 1, 1, 1, 1, 1, 1, 2, 0, 1, 1, 1, 1, 2, 0, 2, 1, 1, 1, 1, 0, 1, 1, 2, 2, 2, 0, 0, 1, 1, 1, 2, 0, 1, 0, 0, 1, 1, 1, 2, 0, 1, 2, 1, 0, 2, 0, 1, 1, 2, 2, 0, 2, 1, 1, 1, 1, 0, 2, 1, 2, 1, 1, 2, 1, 0, 1, 2, 0, 0, 0, 2, 1, 2, 0, 2, 1, 2, 1, 1, 1, 2, 0, 1, 2, 1, 0, 1, 1, 0, 2, 0, 1, 1, 1, 0, 1, 2, 2, 1, 0, 0, 2, 2, 2, 1, 0, 2, 1, 0, 1, 2, 1, 1, 2, 1, 0, 0, 1, 0, 2, 2, 2, 1, 0, 0, 1, 2, 1, 0, 1, 2, 1, 1, 0, 0, 1, 2, 1, 2, 0, 2, 0, 1, 2, 0, 1, 2, 1, 1, 2, 1, 0, 0, 2, 0, 1, 2, 1, 0, 2, 1, 1, 1, 1, 1, 2, 1, 1, 1, 2, 2, 2, 2, 0, 1, 1, 2, 0, 1, 1, 2, 1, 0, 2, 2, 1, 1, 2, 1, 1, 2, 1, 2, 1, 2, 1, 1, 1, 2, 1, 2, 1, 2, 0, 0, 2, 1, 1, 1, 2, 1, 2, 2, 1, 1, 1, 1, 2, 1, 1, 1, 2, 1, 2, 1, 1, 0, 2, 2, 1, 1, 1, 1, 2, 2, 1, 2, 2, 2, 2, 0, 0, 1, 1, 0, 2, 2, 0, 1, 2, 2, 2, 2, 2, 1, 1, 1, 2, 1, 1, 1, 0, 1, 2, 1, 1, 1, 1, 1, 0, 1, 1, 1, 2, 0, 1, 1, 1, 1, 0, 1, 2, 2, 0, 2, 0, 0, 2, 1, 1, 1, 0, 1, 1, 2, 1, 0, 2, 2, 2, 0, 0, 2, 0, 0, 1, 2, 0, 0, 0, 2, 1, 2, 2, 2, 1, 2, 1, 1, 1, 1, 2, 2, 2, 0, 0, 1, 1, 0, 0, 0, 1, 1, 2, 1, 2, 2, 0, 1, 0, 1, 1, 0, 1, 1, 1, 0, 0, 0, 1, 1, 2, 2, 1, 2, 2, 2, 1, 1, 1, 1, 0, 1, 2, 1, 1, 2, 2, 0, 1, 2, 2, 1, 2, 2, 2, 2, 1, 2, 2, 1, 1, 2, 0, 0, 0, 2, 1, 1, 0, 2, 0, 2, 2, 0, 2, 0, 0, 1, 1, 0, 2, 1, 1, 1, 1, 1, 1, 1, 1, 2, 0, 2, 0, 1, 0, 1, 2, 1, 1, 2, 1, 2, 2, 2, 2, 1, 2, 2, 2, 1, 1, 2, 1, 1, 1, 2, 0, 1, 1, 1, 2, 0, 1, 1, 1, 1, 0, 1, 2, 1, 1, 1, 0, 2, 2, 1, 0, 0, 2, 1, 1, 0, 2, 1, 2, 1, 2, 1, 1, 1, 1, 0, 1, 0, 2, 2, 2, 2, 1, 2, 0, 1, 1, 2, 2, 2, 2, 2, 1, 0, 1, 1, 2, 1, 2, 2, 2, 1, 1, 2, 1, 2, 1, 0, 2, 0, 1, 1, 0, 0]\n"
     ]
    }
   ],
   "source": [
    "y_pred = predictor.predict(x_test)\n",
    "print(y_pred)"
   ]
  },
  {
   "cell_type": "code",
   "execution_count": 21,
   "id": "6786e173",
   "metadata": {
    "execution": {
     "iopub.execute_input": "2022-04-25T14:37:18.555664Z",
     "iopub.status.busy": "2022-04-25T14:37:18.555402Z",
     "iopub.status.idle": "2022-04-25T14:37:18.628488Z",
     "shell.execute_reply": "2022-04-25T14:37:18.627757Z"
    },
    "papermill": {
     "duration": 3.627451,
     "end_time": "2022-04-25T14:37:18.631078",
     "exception": false,
     "start_time": "2022-04-25T14:37:15.003627",
     "status": "completed"
    },
    "tags": []
   },
   "outputs": [
    {
     "name": "stdout",
     "output_type": "stream",
     "text": [
      "              precision    recall  f1-score   support\n",
      "\n",
      "           0       0.50      0.52      0.51       364\n",
      "           1       0.74      0.77      0.75       659\n",
      "           2       0.76      0.71      0.73       550\n",
      "\n",
      "    accuracy                           0.69      1573\n",
      "   macro avg       0.67      0.66      0.67      1573\n",
      "weighted avg       0.69      0.69      0.69      1573\n",
      "\n"
     ]
    }
   ],
   "source": [
    "from sklearn.metrics import classification_report\n",
    "print(classification_report(y_test,y_pred))"
   ]
  },
  {
   "cell_type": "code",
   "execution_count": 22,
   "id": "33d00dce",
   "metadata": {
    "execution": {
     "iopub.execute_input": "2022-04-25T14:37:25.230501Z",
     "iopub.status.busy": "2022-04-25T14:37:25.230047Z",
     "iopub.status.idle": "2022-04-25T14:37:25.722097Z",
     "shell.execute_reply": "2022-04-25T14:37:25.721423Z"
    },
    "papermill": {
     "duration": 3.765877,
     "end_time": "2022-04-25T14:37:25.723927",
     "exception": false,
     "start_time": "2022-04-25T14:37:21.958050",
     "status": "completed"
    },
    "tags": []
   },
   "outputs": [
    {
     "data": {
      "image/png": "[encoded data removed]",
      "text/plain": [
       "<Figure size 1152x1008 with 2 Axes>"
      ]
     },
     "metadata": {
      "needs_background": "light"
     },
     "output_type": "display_data"
    }
   ],
   "source": [
    "import seaborn as sns\n",
    "import matplotlib.pyplot as plt\n",
    "\n",
    "### Confusion Matrix\n",
    "from sklearn.metrics import confusion_matrix\n",
    "#predictions = model.predict(x_test, steps=len(x_test), verbose=0)\n",
    "#y_pred=model.predict(x_test)\n",
    "#y_pred = np.round(y_pred)\n",
    "\n",
    "\n",
    "cm = confusion_matrix(y_test, y_pred)\n",
    "\n",
    "## Get Class Labels\n",
    "labels = 3\n",
    "#[0,1,2,3,4,5]_\n",
    "class_names = categories \n",
    "\n",
    "# Plot confusion matrix in a beautiful manner\n",
    "fig = plt.figure(figsize=(16, 14))\n",
    "ax= plt.subplot()\n",
    "sns.heatmap(cm, annot=True, ax = ax, fmt = 'g'); #annot=True to annotate cells\n",
    "# labels, title and ticks\n",
    "ax.set_xlabel('Predicted', fontsize=20)\n",
    "ax.xaxis.set_label_position('bottom')\n",
    "plt.xticks(rotation=90)\n",
    "ax.xaxis.set_ticklabels(class_names, fontsize = 10)\n",
    "ax.xaxis.tick_bottom()\n",
    "\n",
    "ax.set_ylabel('True', fontsize=20)\n",
    "ax.yaxis.set_ticklabels(class_names, fontsize = 10)\n",
    "plt.yticks(rotation=0)\n",
    "\n",
    "plt.title('Refined Confusion Matrix', fontsize=20)\n",
    "\n",
    "plt.savefig('ConMat24.png')\n",
    "plt.show()\n"
   ]
  }
 ],
 "metadata": {
  "kernelspec": {
   "display_name": "Python 3",
   "language": "python",
   "name": "python3"
  },
  "language_info": {
   "codemirror_mode": {
    "name": "ipython",
    "version": 3
   },
   "file_extension": ".py",
   "mimetype": "text/x-python",
   "name": "python",
   "nbconvert_exporter": "python",
   "pygments_lexer": "ipython3",
   "version": "3.7.12"
  },
  "papermill": {
   "default_parameters": {},
   "duration": 1654.239319,
   "end_time": "2022-04-25T14:37:32.497836",
   "environment_variables": {},
   "exception": null,
   "input_path": "__notebook__.ipynb",
   "output_path": "__notebook__.ipynb",
   "parameters": {},
   "start_time": "2022-04-25T14:09:58.258517",
   "version": "2.3.4"
  },
  "widgets": {
   "application/vnd.jupyter.widget-state+json": {
    "state": {
     "06cd7f407d154d47a7debaa8863655ac": {
      "model_module": "@jupyter-widgets/base",
      "model_module_version": "1.2.0",
      "model_name": "LayoutModel",
      "state": {
       "_model_module": "@jupyter-widgets/base",
       "_model_module_version": "1.2.0",
       "_model_name": "LayoutModel",
       "_view_count": null,
       "_view_module": "@jupyter-widgets/base",
       "_view_module_version": "1.2.0",
       "_view_name": "LayoutView",
       "align_content": null,
       "align_items": null,
       "align_self": null,
       "border": null,
       "bottom": null,
       "display": null,
       "flex": null,
       "flex_flow": null,
       "grid_area": null,
       "grid_auto_columns": null,
       "grid_auto_flow": null,
       "grid_auto_rows": null,
       "grid_column": null,
       "grid_gap": null,
       "grid_row": null,
       "grid_template_areas": null,
       "grid_template_columns": null,
       "grid_template_rows": null,
       "height": null,
       "justify_content": null,
       "justify_items": null,
       "left": null,
       "margin": null,
       "max_height": null,
       "max_width": null,
       "min_height": null,
       "min_width": null,
       "object_fit": null,
       "object_position": null,
       "order": null,
       "overflow": null,
       "overflow_x": null,
       "overflow_y": null,
       "padding": null,
       "right": null,
       "top": null,
       "visibility": null,
       "width": null
      }
     },
     "0bdcab0e95e5443d94ac031e03462d82": {
      "model_module": "@jupyter-widgets/controls",
      "model_module_version": "1.5.0",
      "model_name": "DescriptionStyleModel",
      "state": {
       "_model_module": "@jupyter-widgets/controls",
       "_model_module_version": "1.5.0",
       "_model_name": "DescriptionStyleModel",
       "_view_count": null,
       "_view_module": "@jupyter-widgets/base",
       "_view_module_version": "1.2.0",
       "_view_name": "StyleView",
       "description_width": ""
      }
     },
     "10763a5437e54c21ba687c31aaf34a50": {
      "model_module": "@jupyter-widgets/controls",
      "model_module_version": "1.5.0",
      "model_name": "DescriptionStyleModel",
      "state": {
       "_model_module": "@jupyter-widgets/controls",
       "_model_module_version": "1.5.0",
       "_model_name": "DescriptionStyleModel",
       "_view_count": null,
       "_view_module": "@jupyter-widgets/base",
       "_view_module_version": "1.2.0",
       "_view_name": "StyleView",
       "description_width": ""
      }
     },
     "1d45f6fd2eaa43c093e5f5c419cdf2b1": {
      "model_module": "@jupyter-widgets/controls",
      "model_module_version": "1.5.0",
      "model_name": "HTMLModel",
      "state": {
       "_dom_classes": [],
       "_model_module": "@jupyter-widgets/controls",
       "_model_module_version": "1.5.0",
       "_model_name": "HTMLModel",
       "_view_count": null,
       "_view_module": "@jupyter-widgets/controls",
       "_view_module_version": "1.5.0",
       "_view_name": "HTMLView",
       "description": "",
       "description_tooltip": null,
       "layout": "IPY_MODEL_e15b9ee8416a48ada6e5c7136269edc6",
       "placeholder": "​",
       "style": "IPY_MODEL_10763a5437e54c21ba687c31aaf34a50",
       "value": "Downloading: 100%"
      }
     },
     "1d8a13baef9e4750a794a4a90e13db74": {
      "model_module": "@jupyter-widgets/controls",
      "model_module_version": "1.5.0",
      "model_name": "DescriptionStyleModel",
      "state": {
       "_model_module": "@jupyter-widgets/controls",
       "_model_module_version": "1.5.0",
       "_model_name": "DescriptionStyleModel",
       "_view_count": null,
       "_view_module": "@jupyter-widgets/base",
       "_view_module_version": "1.2.0",
       "_view_name": "StyleView",
       "description_width": ""
      }
     },
     "339a0b6d02a24fc498e9331ac9286a77": {
      "model_module": "@jupyter-widgets/controls",
      "model_module_version": "1.5.0",
      "model_name": "HBoxModel",
      "state": {
       "_dom_classes": [],
       "_model_module": "@jupyter-widgets/controls",
       "_model_module_version": "1.5.0",
       "_model_name": "HBoxModel",
       "_view_count": null,
       "_view_module": "@jupyter-widgets/controls",
       "_view_module_version": "1.5.0",
       "_view_name": "HBoxView",
       "box_style": "",
       "children": [
        "IPY_MODEL_7b7a9bde06724ff39a3c10e80657c582",
        "IPY_MODEL_f1db8c9e19454ebd95431194aaa92542",
        "IPY_MODEL_f5a27dba0b644f96afe35dc315be4c9f"
       ],
       "layout": "IPY_MODEL_5cdaa9793d074a60b975e66ca2fec938"
      }
     },
     "3fec89cb2bac4111b60ea45d486b95e9": {
      "model_module": "@jupyter-widgets/controls",
      "model_module_version": "1.5.0",
      "model_name": "HBoxModel",
      "state": {
       "_dom_classes": [],
       "_model_module": "@jupyter-widgets/controls",
       "_model_module_version": "1.5.0",
       "_model_name": "HBoxModel",
       "_view_count": null,
       "_view_module": "@jupyter-widgets/controls",
       "_view_module_version": "1.5.0",
       "_view_name": "HBoxView",
       "box_style": "",
       "children": [
        "IPY_MODEL_ae1ca30962194d53b70d7a1989f80bdc",
        "IPY_MODEL_dd8e92a8127f45538df2c090dc8d03b4",
        "IPY_MODEL_594f3213a6a94902bc6070836496414d"
       ],
       "layout": "IPY_MODEL_de56251f00394d0dab7bc245d56d9912"
      }
     },
     "4384742ea2cd4f7caf21ede6b5055276": {
      "model_module": "@jupyter-widgets/controls",
      "model_module_version": "1.5.0",
      "model_name": "HBoxModel",
      "state": {
       "_dom_classes": [],
       "_model_module": "@jupyter-widgets/controls",
       "_model_module_version": "1.5.0",
       "_model_name": "HBoxModel",
       "_view_count": null,
       "_view_module": "@jupyter-widgets/controls",
       "_view_module_version": "1.5.0",
       "_view_name": "HBoxView",
       "box_style": "",
       "children": [
        "IPY_MODEL_1d45f6fd2eaa43c093e5f5c419cdf2b1",
        "IPY_MODEL_bfb2713c7f3543e8a2ec93a123224958",
        "IPY_MODEL_bdcdcbd1110d430caa80eb40911b0641"
       ],
       "layout": "IPY_MODEL_a68dffe8f94d46c1906c0d27b666d4ec"
      }
     },
     "452ca5f8790a4bdbbae82e2911be3d30": {
      "model_module": "@jupyter-widgets/base",
      "model_module_version": "1.2.0",
      "model_name": "LayoutModel",
      "state": {
       "_model_module": "@jupyter-widgets/base",
       "_model_module_version": "1.2.0",
       "_model_name": "LayoutModel",
       "_view_count": null,
       "_view_module": "@jupyter-widgets/base",
       "_view_module_version": "1.2.0",
       "_view_name": "LayoutView",
       "align_content": null,
       "align_items": null,
       "align_self": null,
       "border": null,
       "bottom": null,
       "display": null,
       "flex": null,
       "flex_flow": null,
       "grid_area": null,
       "grid_auto_columns": null,
       "grid_auto_flow": null,
       "grid_auto_rows": null,
       "grid_column": null,
       "grid_gap": null,
       "grid_row": null,
       "grid_template_areas": null,
       "grid_template_columns": null,
       "grid_template_rows": null,
       "height": null,
       "justify_content": null,
       "justify_items": null,
       "left": null,
       "margin": null,
       "max_height": null,
       "max_width": null,
       "min_height": null,
       "min_width": null,
       "object_fit": null,
       "object_position": null,
       "order": null,
       "overflow": null,
       "overflow_x": null,
       "overflow_y": null,
       "padding": null,
       "right": null,
       "top": null,
       "visibility": null,
       "width": null
      }
     },
     "4d4dbbd077884358b1afde0a55d60619": {
      "model_module": "@jupyter-widgets/base",
      "model_module_version": "1.2.0",
      "model_name": "LayoutModel",
      "state": {
       "_model_module": "@jupyter-widgets/base",
       "_model_module_version": "1.2.0",
       "_model_name": "LayoutModel",
       "_view_count": null,
       "_view_module": "@jupyter-widgets/base",
       "_view_module_version": "1.2.0",
       "_view_name": "LayoutView",
       "align_content": null,
       "align_items": null,
       "align_self": null,
       "border": null,
       "bottom": null,
       "display": null,
       "flex": null,
       "flex_flow": null,
       "grid_area": null,
       "grid_auto_columns": null,
       "grid_auto_flow": null,
       "grid_auto_rows": null,
       "grid_column": null,
       "grid_gap": null,
       "grid_row": null,
       "grid_template_areas": null,
       "grid_template_columns": null,
       "grid_template_rows": null,
       "height": null,
       "justify_content": null,
       "justify_items": null,
       "left": null,
       "margin": null,
       "max_height": null,
       "max_width": null,
       "min_height": null,
       "min_width": null,
       "object_fit": null,
       "object_position": null,
       "order": null,
       "overflow": null,
       "overflow_x": null,
       "overflow_y": null,
       "padding": null,
       "right": null,
       "top": null,
       "visibility": null,
       "width": null
      }
     },
     "594f3213a6a94902bc6070836496414d": {
      "model_module": "@jupyter-widgets/controls",
      "model_module_version": "1.5.0",
      "model_name": "HTMLModel",
      "state": {
       "_dom_classes": [],
       "_model_module": "@jupyter-widgets/controls",
       "_model_module_version": "1.5.0",
       "_model_name": "HTMLModel",
       "_view_count": null,
       "_view_module": "@jupyter-widgets/controls",
       "_view_module_version": "1.5.0",
       "_view_name": "HTMLView",
       "description": "",
       "description_tooltip": null,
       "layout": "IPY_MODEL_9118f7cfbbc840ac9b409871a72621e6",
       "placeholder": "​",
       "style": "IPY_MODEL_1d8a13baef9e4750a794a4a90e13db74",
       "value": " 2.24M/2.24M [00:00&lt;00:00, 5.71MB/s]"
      }
     },
     "5b3b86f723e84e0fb9e8eac1f8f86d90": {
      "model_module": "@jupyter-widgets/controls",
      "model_module_version": "1.5.0",
      "model_name": "DescriptionStyleModel",
      "state": {
       "_model_module": "@jupyter-widgets/controls",
       "_model_module_version": "1.5.0",
       "_model_name": "DescriptionStyleModel",
       "_view_count": null,
       "_view_module": "@jupyter-widgets/base",
       "_view_module_version": "1.2.0",
       "_view_name": "StyleView",
       "description_width": ""
      }
     },
     "5cdaa9793d074a60b975e66ca2fec938": {
      "model_module": "@jupyter-widgets/base",
      "model_module_version": "1.2.0",
      "model_name": "LayoutModel",
      "state": {
       "_model_module": "@jupyter-widgets/base",
       "_model_module_version": "1.2.0",
       "_model_name": "LayoutModel",
       "_view_count": null,
       "_view_module": "@jupyter-widgets/base",
       "_view_module_version": "1.2.0",
       "_view_name": "LayoutView",
       "align_content": null,
       "align_items": null,
       "align_self": null,
       "border": null,
       "bottom": null,
       "display": null,
       "flex": null,
       "flex_flow": null,
       "grid_area": null,
       "grid_auto_columns": null,
       "grid_auto_flow": null,
       "grid_auto_rows": null,
       "grid_column": null,
       "grid_gap": null,
       "grid_row": null,
       "grid_template_areas": null,
       "grid_template_columns": null,
       "grid_template_rows": null,
       "height": null,
       "justify_content": null,
       "justify_items": null,
       "left": null,
       "margin": null,
       "max_height": null,
       "max_width": null,
       "min_height": null,
       "min_width": null,
       "object_fit": null,
       "object_position": null,
       "order": null,
       "overflow": null,
       "overflow_x": null,
       "overflow_y": null,
       "padding": null,
       "right": null,
       "top": null,
       "visibility": null,
       "width": null
      }
     },
     "6bfa26c33b11455f991fc19010c81203": {
      "model_module": "@jupyter-widgets/base",
      "model_module_version": "1.2.0",
      "model_name": "LayoutModel",
      "state": {
       "_model_module": "@jupyter-widgets/base",
       "_model_module_version": "1.2.0",
       "_model_name": "LayoutModel",
       "_view_count": null,
       "_view_module": "@jupyter-widgets/base",
       "_view_module_version": "1.2.0",
       "_view_name": "LayoutView",
       "align_content": null,
       "align_items": null,
       "align_self": null,
       "border": null,
       "bottom": null,
       "display": null,
       "flex": null,
       "flex_flow": null,
       "grid_area": null,
       "grid_auto_columns": null,
       "grid_auto_flow": null,
       "grid_auto_rows": null,
       "grid_column": null,
       "grid_gap": null,
       "grid_row": null,
       "grid_template_areas": null,
       "grid_template_columns": null,
       "grid_template_rows": null,
       "height": null,
       "justify_content": null,
       "justify_items": null,
       "left": null,
       "margin": null,
       "max_height": null,
       "max_width": null,
       "min_height": null,
       "min_width": null,
       "object_fit": null,
       "object_position": null,
       "order": null,
       "overflow": null,
       "overflow_x": null,
       "overflow_y": null,
       "padding": null,
       "right": null,
       "top": null,
       "visibility": null,
       "width": null
      }
     },
     "76546e33c2754179a0fd989fc8b750c1": {
      "model_module": "@jupyter-widgets/controls",
      "model_module_version": "1.5.0",
      "model_name": "DescriptionStyleModel",
      "state": {
       "_model_module": "@jupyter-widgets/controls",
       "_model_module_version": "1.5.0",
       "_model_name": "DescriptionStyleModel",
       "_view_count": null,
       "_view_module": "@jupyter-widgets/base",
       "_view_module_version": "1.2.0",
       "_view_name": "StyleView",
       "description_width": ""
      }
     },
     "7b7a9bde06724ff39a3c10e80657c582": {
      "model_module": "@jupyter-widgets/controls",
      "model_module_version": "1.5.0",
      "model_name": "HTMLModel",
      "state": {
       "_dom_classes": [],
       "_model_module": "@jupyter-widgets/controls",
       "_model_module_version": "1.5.0",
       "_model_name": "HTMLModel",
       "_view_count": null,
       "_view_module": "@jupyter-widgets/controls",
       "_view_module_version": "1.5.0",
       "_view_name": "HTMLView",
       "description": "",
       "description_tooltip": null,
       "layout": "IPY_MODEL_d612c39a3d394156b04e24ce7bddff0b",
       "placeholder": "​",
       "style": "IPY_MODEL_0bdcab0e95e5443d94ac031e03462d82",
       "value": "Downloading: 100%"
      }
     },
     "8c94cf0551cb4bb9a55a7287cb537997": {
      "model_module": "@jupyter-widgets/base",
      "model_module_version": "1.2.0",
      "model_name": "LayoutModel",
      "state": {
       "_model_module": "@jupyter-widgets/base",
       "_model_module_version": "1.2.0",
       "_model_name": "LayoutModel",
       "_view_count": null,
       "_view_module": "@jupyter-widgets/base",
       "_view_module_version": "1.2.0",
       "_view_name": "LayoutView",
       "align_content": null,
       "align_items": null,
       "align_self": null,
       "border": null,
       "bottom": null,
       "display": null,
       "flex": null,
       "flex_flow": null,
       "grid_area": null,
       "grid_auto_columns": null,
       "grid_auto_flow": null,
       "grid_auto_rows": null,
       "grid_column": null,
       "grid_gap": null,
       "grid_row": null,
       "grid_template_areas": null,
       "grid_template_columns": null,
       "grid_template_rows": null,
       "height": null,
       "justify_content": null,
       "justify_items": null,
       "left": null,
       "margin": null,
       "max_height": null,
       "max_width": null,
       "min_height": null,
       "min_width": null,
       "object_fit": null,
       "object_position": null,
       "order": null,
       "overflow": null,
       "overflow_x": null,
       "overflow_y": null,
       "padding": null,
       "right": null,
       "top": null,
       "visibility": null,
       "width": null
      }
     },
     "9118f7cfbbc840ac9b409871a72621e6": {
      "model_module": "@jupyter-widgets/base",
      "model_module_version": "1.2.0",
      "model_name": "LayoutModel",
      "state": {
       "_model_module": "@jupyter-widgets/base",
       "_model_module_version": "1.2.0",
       "_model_name": "LayoutModel",
       "_view_count": null,
       "_view_module": "@jupyter-widgets/base",
       "_view_module_version": "1.2.0",
       "_view_name": "LayoutView",
       "align_content": null,
       "align_items": null,
       "align_self": null,
       "border": null,
       "bottom": null,
       "display": null,
       "flex": null,
       "flex_flow": null,
       "grid_area": null,
       "grid_auto_columns": null,
       "grid_auto_flow": null,
       "grid_auto_rows": null,
       "grid_column": null,
       "grid_gap": null,
       "grid_row": null,
       "grid_template_areas": null,
       "grid_template_columns": null,
       "grid_template_rows": null,
       "height": null,
       "justify_content": null,
       "justify_items": null,
       "left": null,
       "margin": null,
       "max_height": null,
       "max_width": null,
       "min_height": null,
       "min_width": null,
       "object_fit": null,
       "object_position": null,
       "order": null,
       "overflow": null,
       "overflow_x": null,
       "overflow_y": null,
       "padding": null,
       "right": null,
       "top": null,
       "visibility": null,
       "width": null
      }
     },
     "a68dffe8f94d46c1906c0d27b666d4ec": {
      "model_module": "@jupyter-widgets/base",
      "model_module_version": "1.2.0",
      "model_name": "LayoutModel",
      "state": {
       "_model_module": "@jupyter-widgets/base",
       "_model_module_version": "1.2.0",
       "_model_name": "LayoutModel",
       "_view_count": null,
       "_view_module": "@jupyter-widgets/base",
       "_view_module_version": "1.2.0",
       "_view_name": "LayoutView",
       "align_content": null,
       "align_items": null,
       "align_self": null,
       "border": null,
       "bottom": null,
       "display": null,
       "flex": null,
       "flex_flow": null,
       "grid_area": null,
       "grid_auto_columns": null,
       "grid_auto_flow": null,
       "grid_auto_rows": null,
       "grid_column": null,
       "grid_gap": null,
       "grid_row": null,
       "grid_template_areas": null,
       "grid_template_columns": null,
       "grid_template_rows": null,
       "height": null,
       "justify_content": null,
       "justify_items": null,
       "left": null,
       "margin": null,
       "max_height": null,
       "max_width": null,
       "min_height": null,
       "min_width": null,
       "object_fit": null,
       "object_position": null,
       "order": null,
       "overflow": null,
       "overflow_x": null,
       "overflow_y": null,
       "padding": null,
       "right": null,
       "top": null,
       "visibility": null,
       "width": null
      }
     },
     "ae1ca30962194d53b70d7a1989f80bdc": {
      "model_module": "@jupyter-widgets/controls",
      "model_module_version": "1.5.0",
      "model_name": "HTMLModel",
      "state": {
       "_dom_classes": [],
       "_model_module": "@jupyter-widgets/controls",
       "_model_module_version": "1.5.0",
       "_model_name": "HTMLModel",
       "_view_count": null,
       "_view_module": "@jupyter-widgets/controls",
       "_view_module_version": "1.5.0",
       "_view_name": "HTMLView",
       "description": "",
       "description_tooltip": null,
       "layout": "IPY_MODEL_8c94cf0551cb4bb9a55a7287cb537997",
       "placeholder": "​",
       "style": "IPY_MODEL_5b3b86f723e84e0fb9e8eac1f8f86d90",
       "value": "Downloading: 100%"
      }
     },
     "b9d47368672c4253875050e8339b91e0": {
      "model_module": "@jupyter-widgets/controls",
      "model_module_version": "1.5.0",
      "model_name": "DescriptionStyleModel",
      "state": {
       "_model_module": "@jupyter-widgets/controls",
       "_model_module_version": "1.5.0",
       "_model_name": "DescriptionStyleModel",
       "_view_count": null,
       "_view_module": "@jupyter-widgets/base",
       "_view_module_version": "1.2.0",
       "_view_name": "StyleView",
       "description_width": ""
      }
     },
     "bdcdcbd1110d430caa80eb40911b0641": {
      "model_module": "@jupyter-widgets/controls",
      "model_module_version": "1.5.0",
      "model_name": "HTMLModel",
      "state": {
       "_dom_classes": [],
       "_model_module": "@jupyter-widgets/controls",
       "_model_module_version": "1.5.0",
       "_model_name": "HTMLModel",
       "_view_count": null,
       "_view_module": "@jupyter-widgets/controls",
       "_view_module_version": "1.5.0",
       "_view_name": "HTMLView",
       "description": "",
       "description_tooltip": null,
       "layout": "IPY_MODEL_452ca5f8790a4bdbbae82e2911be3d30",
       "placeholder": "​",
       "style": "IPY_MODEL_b9d47368672c4253875050e8339b91e0",
       "value": " 638/638 [00:00&lt;00:00, 24.9kB/s]"
      }
     },
     "bfb2713c7f3543e8a2ec93a123224958": {
      "model_module": "@jupyter-widgets/controls",
      "model_module_version": "1.5.0",
      "model_name": "FloatProgressModel",
      "state": {
       "_dom_classes": [],
       "_model_module": "@jupyter-widgets/controls",
       "_model_module_version": "1.5.0",
       "_model_name": "FloatProgressModel",
       "_view_count": null,
       "_view_module": "@jupyter-widgets/controls",
       "_view_module_version": "1.5.0",
       "_view_name": "ProgressView",
       "bar_style": "success",
       "description": "",
       "description_tooltip": null,
       "layout": "IPY_MODEL_6bfa26c33b11455f991fc19010c81203",
       "max": 638.0,
       "min": 0.0,
       "orientation": "horizontal",
       "style": "IPY_MODEL_f0137f2362d441eb855f958becf64455",
       "value": 638.0
      }
     },
     "d612c39a3d394156b04e24ce7bddff0b": {
      "model_module": "@jupyter-widgets/base",
      "model_module_version": "1.2.0",
      "model_name": "LayoutModel",
      "state": {
       "_model_module": "@jupyter-widgets/base",
       "_model_module_version": "1.2.0",
       "_model_name": "LayoutModel",
       "_view_count": null,
       "_view_module": "@jupyter-widgets/base",
       "_view_module_version": "1.2.0",
       "_view_name": "LayoutView",
       "align_content": null,
       "align_items": null,
       "align_self": null,
       "border": null,
       "bottom": null,
       "display": null,
       "flex": null,
       "flex_flow": null,
       "grid_area": null,
       "grid_auto_columns": null,
       "grid_auto_flow": null,
       "grid_auto_rows": null,
       "grid_column": null,
       "grid_gap": null,
       "grid_row": null,
       "grid_template_areas": null,
       "grid_template_columns": null,
       "grid_template_rows": null,
       "height": null,
       "justify_content": null,
       "justify_items": null,
       "left": null,
       "margin": null,
       "max_height": null,
       "max_width": null,
       "min_height": null,
       "min_width": null,
       "object_fit": null,
       "object_position": null,
       "order": null,
       "overflow": null,
       "overflow_x": null,
       "overflow_y": null,
       "padding": null,
       "right": null,
       "top": null,
       "visibility": null,
       "width": null
      }
     },
     "dd8e92a8127f45538df2c090dc8d03b4": {
      "model_module": "@jupyter-widgets/controls",
      "model_module_version": "1.5.0",
      "model_name": "FloatProgressModel",
      "state": {
       "_dom_classes": [],
       "_model_module": "@jupyter-widgets/controls",
       "_model_module_version": "1.5.0",
       "_model_name": "FloatProgressModel",
       "_view_count": null,
       "_view_module": "@jupyter-widgets/controls",
       "_view_module_version": "1.5.0",
       "_view_name": "ProgressView",
       "bar_style": "success",
       "description": "",
       "description_tooltip": null,
       "layout": "IPY_MODEL_06cd7f407d154d47a7debaa8863655ac",
       "max": 2237676.0,
       "min": 0.0,
       "orientation": "horizontal",
       "style": "IPY_MODEL_f2fdd4b2aa8f43f99d2fbd037bcf39c5",
       "value": 2237676.0
      }
     },
     "de56251f00394d0dab7bc245d56d9912": {
      "model_module": "@jupyter-widgets/base",
      "model_module_version": "1.2.0",
      "model_name": "LayoutModel",
      "state": {
       "_model_module": "@jupyter-widgets/base",
       "_model_module_version": "1.2.0",
       "_model_name": "LayoutModel",
       "_view_count": null,
       "_view_module": "@jupyter-widgets/base",
       "_view_module_version": "1.2.0",
       "_view_name": "LayoutView",
       "align_content": null,
       "align_items": null,
       "align_self": null,
       "border": null,
       "bottom": null,
       "display": null,
       "flex": null,
       "flex_flow": null,
       "grid_area": null,
       "grid_auto_columns": null,
       "grid_auto_flow": null,
       "grid_auto_rows": null,
       "grid_column": null,
       "grid_gap": null,
       "grid_row": null,
       "grid_template_areas": null,
       "grid_template_columns": null,
       "grid_template_rows": null,
       "height": null,
       "justify_content": null,
       "justify_items": null,
       "left": null,
       "margin": null,
       "max_height": null,
       "max_width": null,
       "min_height": null,
       "min_width": null,
       "object_fit": null,
       "object_position": null,
       "order": null,
       "overflow": null,
       "overflow_x": null,
       "overflow_y": null,
       "padding": null,
       "right": null,
       "top": null,
       "visibility": null,
       "width": null
      }
     },
     "e15b9ee8416a48ada6e5c7136269edc6": {
      "model_module": "@jupyter-widgets/base",
      "model_module_version": "1.2.0",
      "model_name": "LayoutModel",
      "state": {
       "_model_module": "@jupyter-widgets/base",
       "_model_module_version": "1.2.0",
       "_model_name": "LayoutModel",
       "_view_count": null,
       "_view_module": "@jupyter-widgets/base",
       "_view_module_version": "1.2.0",
       "_view_name": "LayoutView",
       "align_content": null,
       "align_items": null,
       "align_self": null,
       "border": null,
       "bottom": null,
       "display": null,
       "flex": null,
       "flex_flow": null,
       "grid_area": null,
       "grid_auto_columns": null,
       "grid_auto_flow": null,
       "grid_auto_rows": null,
       "grid_column": null,
       "grid_gap": null,
       "grid_row": null,
       "grid_template_areas": null,
       "grid_template_columns": null,
       "grid_template_rows": null,
       "height": null,
       "justify_content": null,
       "justify_items": null,
       "left": null,
       "margin": null,
       "max_height": null,
       "max_width": null,
       "min_height": null,
       "min_width": null,
       "object_fit": null,
       "object_position": null,
       "order": null,
       "overflow": null,
       "overflow_x": null,
       "overflow_y": null,
       "padding": null,
       "right": null,
       "top": null,
       "visibility": null,
       "width": null
      }
     },
     "eaaed495a4184d5893b88c995d1d2430": {
      "model_module": "@jupyter-widgets/base",
      "model_module_version": "1.2.0",
      "model_name": "LayoutModel",
      "state": {
       "_model_module": "@jupyter-widgets/base",
       "_model_module_version": "1.2.0",
       "_model_name": "LayoutModel",
       "_view_count": null,
       "_view_module": "@jupyter-widgets/base",
       "_view_module_version": "1.2.0",
       "_view_name": "LayoutView",
       "align_content": null,
       "align_items": null,
       "align_self": null,
       "border": null,
       "bottom": null,
       "display": null,
       "flex": null,
       "flex_flow": null,
       "grid_area": null,
       "grid_auto_columns": null,
       "grid_auto_flow": null,
       "grid_auto_rows": null,
       "grid_column": null,
       "grid_gap": null,
       "grid_row": null,
       "grid_template_areas": null,
       "grid_template_columns": null,
       "grid_template_rows": null,
       "height": null,
       "justify_content": null,
       "justify_items": null,
       "left": null,
       "margin": null,
       "max_height": null,
       "max_width": null,
       "min_height": null,
       "min_width": null,
       "object_fit": null,
       "object_position": null,
       "order": null,
       "overflow": null,
       "overflow_x": null,
       "overflow_y": null,
       "padding": null,
       "right": null,
       "top": null,
       "visibility": null,
       "width": null
      }
     },
     "f0137f2362d441eb855f958becf64455": {
      "model_module": "@jupyter-widgets/controls",
      "model_module_version": "1.5.0",
      "model_name": "ProgressStyleModel",
      "state": {
       "_model_module": "@jupyter-widgets/controls",
       "_model_module_version": "1.5.0",
       "_model_name": "ProgressStyleModel",
       "_view_count": null,
       "_view_module": "@jupyter-widgets/base",
       "_view_module_version": "1.2.0",
       "_view_name": "StyleView",
       "bar_color": null,
       "description_width": ""
      }
     },
     "f1db8c9e19454ebd95431194aaa92542": {
      "model_module": "@jupyter-widgets/controls",
      "model_module_version": "1.5.0",
      "model_name": "FloatProgressModel",
      "state": {
       "_dom_classes": [],
       "_model_module": "@jupyter-widgets/controls",
       "_model_module_version": "1.5.0",
       "_model_name": "FloatProgressModel",
       "_view_count": null,
       "_view_module": "@jupyter-widgets/controls",
       "_view_module_version": "1.5.0",
       "_view_name": "ProgressView",
       "bar_style": "success",
       "description": "",
       "description_tooltip": null,
       "layout": "IPY_MODEL_eaaed495a4184d5893b88c995d1d2430",
       "max": 657928555.0,
       "min": 0.0,
       "orientation": "horizontal",
       "style": "IPY_MODEL_f5cf62225bd7445eb9d26aa17ae4c6a4",
       "value": 657928555.0
      }
     },
     "f2fdd4b2aa8f43f99d2fbd037bcf39c5": {
      "model_module": "@jupyter-widgets/controls",
      "model_module_version": "1.5.0",
      "model_name": "ProgressStyleModel",
      "state": {
       "_model_module": "@jupyter-widgets/controls",
       "_model_module_version": "1.5.0",
       "_model_name": "ProgressStyleModel",
       "_view_count": null,
       "_view_module": "@jupyter-widgets/base",
       "_view_module_version": "1.2.0",
       "_view_name": "StyleView",
       "bar_color": null,
       "description_width": ""
      }
     },
     "f5a27dba0b644f96afe35dc315be4c9f": {
      "model_module": "@jupyter-widgets/controls",
      "model_module_version": "1.5.0",
      "model_name": "HTMLModel",
      "state": {
       "_dom_classes": [],
       "_model_module": "@jupyter-widgets/controls",
       "_model_module_version": "1.5.0",
       "_model_name": "HTMLModel",
       "_view_count": null,
       "_view_module": "@jupyter-widgets/controls",
       "_view_module_version": "1.5.0",
       "_view_name": "HTMLView",
       "description": "",
       "description_tooltip": null,
       "layout": "IPY_MODEL_4d4dbbd077884358b1afde0a55d60619",
       "placeholder": "​",
       "style": "IPY_MODEL_76546e33c2754179a0fd989fc8b750c1",
       "value": " 658M/658M [00:14&lt;00:00, 51.1MB/s]"
      }
     },
     "f5cf62225bd7445eb9d26aa17ae4c6a4": {
      "model_module": "@jupyter-widgets/controls",
      "model_module_version": "1.5.0",
      "model_name": "ProgressStyleModel",
      "state": {
       "_model_module": "@jupyter-widgets/controls",
       "_model_module_version": "1.5.0",
       "_model_name": "ProgressStyleModel",
       "_view_count": null,
       "_view_module": "@jupyter-widgets/base",
       "_view_module_version": "1.2.0",
       "_view_name": "StyleView",
       "bar_color": null,
       "description_width": ""
      }
     }
    },
    "version_major": 2,
    "version_minor": 0
   }
  }
 },
 "nbformat": 4,
 "nbformat_minor": 5
}
