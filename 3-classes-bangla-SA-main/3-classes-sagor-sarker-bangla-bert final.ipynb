{
 "cells": [
  {
   "cell_type": "code",
   "execution_count": 1,
   "id": "43aab7ab",
   "metadata": {
    "_cell_guid": "b1076dfc-b9ad-4769-8c92-a6c4dae69d19",
    "_uuid": "8f2839f25d086af736a60e9eeb907d3b93b6e0e5",
    "execution": {
     "iopub.execute_input": "2022-04-26T03:54:39.028719Z",
     "iopub.status.busy": "2022-04-26T03:54:39.028177Z",
     "iopub.status.idle": "2022-04-26T03:54:49.548522Z",
     "shell.execute_reply": "2022-04-26T03:54:49.547705Z"
    },
    "papermill": {
     "duration": 10.544083,
     "end_time": "2022-04-26T03:54:49.551104",
     "exception": false,
     "start_time": "2022-04-26T03:54:39.007021",
     "status": "completed"
    },
    "tags": []
   },
   "outputs": [
    {
     "name": "stdout",
     "output_type": "stream",
     "text": [
      "Requirement already satisfied: transformers in /opt/conda/lib/python3.7/site-packages (4.17.0)\r\n",
      "Requirement already satisfied: regex!=2019.12.17 in /opt/conda/lib/python3.7/site-packages (from transformers) (2021.11.10)\r\n",
      "Requirement already satisfied: tokenizers!=0.11.3,>=0.11.1 in /opt/conda/lib/python3.7/site-packages (from transformers) (0.11.6)\r\n",
      "Requirement already satisfied: pyyaml>=5.1 in /opt/conda/lib/python3.7/site-packages (from transformers) (6.0)\r\n",
      "Requirement already satisfied: sacremoses in /opt/conda/lib/python3.7/site-packages (from transformers) (0.0.49)\r\n",
      "Requirement already satisfied: filelock in /opt/conda/lib/python3.7/site-packages (from transformers) (3.6.0)\r\n",
      "Requirement already satisfied: packaging>=20.0 in /opt/conda/lib/python3.7/site-packages (from transformers) (21.3)\r\n",
      "Requirement already satisfied: huggingface-hub<1.0,>=0.1.0 in /opt/conda/lib/python3.7/site-packages (from transformers) (0.5.1)\r\n",
      "Requirement already satisfied: requests in /opt/conda/lib/python3.7/site-packages (from transformers) (2.27.1)\r\n",
      "Requirement already satisfied: tqdm>=4.27 in /opt/conda/lib/python3.7/site-packages (from transformers) (4.63.0)\r\n",
      "Requirement already satisfied: numpy>=1.17 in /opt/conda/lib/python3.7/site-packages (from transformers) (1.21.5)\r\n",
      "Requirement already satisfied: importlib-metadata in /opt/conda/lib/python3.7/site-packages (from transformers) (4.11.3)\r\n",
      "Requirement already satisfied: typing-extensions>=3.7.4.3 in /opt/conda/lib/python3.7/site-packages (from huggingface-hub<1.0,>=0.1.0->transformers) (4.1.1)\r\n",
      "Requirement already satisfied: pyparsing!=3.0.5,>=2.0.2 in /opt/conda/lib/python3.7/site-packages (from packaging>=20.0->transformers) (3.0.7)\r\n",
      "Requirement already satisfied: zipp>=0.5 in /opt/conda/lib/python3.7/site-packages (from importlib-metadata->transformers) (3.7.0)\r\n",
      "Requirement already satisfied: idna<4,>=2.5 in /opt/conda/lib/python3.7/site-packages (from requests->transformers) (3.3)\r\n",
      "Requirement already satisfied: charset-normalizer~=2.0.0 in /opt/conda/lib/python3.7/site-packages (from requests->transformers) (2.0.12)\r\n",
      "Requirement already satisfied: certifi>=2017.4.17 in /opt/conda/lib/python3.7/site-packages (from requests->transformers) (2021.10.8)\r\n",
      "Requirement already satisfied: urllib3<1.27,>=1.21.1 in /opt/conda/lib/python3.7/site-packages (from requests->transformers) (1.26.8)\r\n",
      "Requirement already satisfied: six in /opt/conda/lib/python3.7/site-packages (from sacremoses->transformers) (1.16.0)\r\n",
      "Requirement already satisfied: click in /opt/conda/lib/python3.7/site-packages (from sacremoses->transformers) (8.0.4)\r\n",
      "Requirement already satisfied: joblib in /opt/conda/lib/python3.7/site-packages (from sacremoses->transformers) (1.0.1)\r\n",
      "\u001b[33mWARNING: Running pip as the 'root' user can result in broken permissions and conflicting behaviour with the system package manager. It is recommended to use a virtual environment instead: https://pip.pypa.io/warnings/venv\u001b[0m\u001b[33m\r\n",
      "\u001b[0m"
     ]
    }
   ],
   "source": [
    " !pip install transformers"
   ]
  },
  {
   "cell_type": "code",
   "execution_count": 2,
   "id": "40977601",
   "metadata": {
    "execution": {
     "iopub.execute_input": "2022-04-26T03:54:49.603343Z",
     "iopub.status.busy": "2022-04-26T03:54:49.603117Z",
     "iopub.status.idle": "2022-04-26T03:54:49.606809Z",
     "shell.execute_reply": "2022-04-26T03:54:49.606130Z"
    },
    "papermill": {
     "duration": 0.027244,
     "end_time": "2022-04-26T03:54:49.608489",
     "exception": false,
     "start_time": "2022-04-26T03:54:49.581245",
     "status": "completed"
    },
    "tags": []
   },
   "outputs": [],
   "source": [
    "import os\n",
    "import pandas as pd\n",
    "import numpy as np"
   ]
  },
  {
   "cell_type": "code",
   "execution_count": 3,
   "id": "c6b84123",
   "metadata": {
    "execution": {
     "iopub.execute_input": "2022-04-26T03:54:49.650658Z",
     "iopub.status.busy": "2022-04-26T03:54:49.650019Z",
     "iopub.status.idle": "2022-04-26T03:54:59.687161Z",
     "shell.execute_reply": "2022-04-26T03:54:59.686285Z"
    },
    "papermill": {
     "duration": 10.060152,
     "end_time": "2022-04-26T03:54:59.689010",
     "exception": false,
     "start_time": "2022-04-26T03:54:49.628858",
     "status": "completed"
    },
    "tags": []
   },
   "outputs": [
    {
     "name": "stdout",
     "output_type": "stream",
     "text": [
      "Collecting openpyxl\r\n",
      "  Downloading openpyxl-3.0.9-py2.py3-none-any.whl (242 kB)\r\n",
      "\u001b[2K     \u001b[90m━━━━━━━━━━━━━━━━━━━━━━━━━━━━━━━━━━━━━\u001b[0m \u001b[32m242.2/242.2 KB\u001b[0m \u001b[31m925.8 kB/s\u001b[0m eta \u001b[36m0:00:00\u001b[0m\r\n",
      "\u001b[?25hCollecting et-xmlfile\r\n",
      "  Downloading et_xmlfile-1.1.0-py3-none-any.whl (4.7 kB)\r\n",
      "Installing collected packages: et-xmlfile, openpyxl\r\n",
      "Successfully installed et-xmlfile-1.1.0 openpyxl-3.0.9\r\n",
      "\u001b[33mWARNING: Running pip as the 'root' user can result in broken permissions and conflicting behaviour with the system package manager. It is recommended to use a virtual environment instead: https://pip.pypa.io/warnings/venv\u001b[0m\u001b[33m\r\n",
      "\u001b[0mNote: you may need to restart the kernel to use updated packages.\n"
     ]
    }
   ],
   "source": [
    "pip install openpyxl"
   ]
  },
  {
   "cell_type": "code",
   "execution_count": 4,
   "id": "aef7246a",
   "metadata": {
    "execution": {
     "iopub.execute_input": "2022-04-26T03:54:59.739353Z",
     "iopub.status.busy": "2022-04-26T03:54:59.739129Z",
     "iopub.status.idle": "2022-04-26T03:54:59.748028Z",
     "shell.execute_reply": "2022-04-26T03:54:59.747198Z"
    },
    "papermill": {
     "duration": 0.036351,
     "end_time": "2022-04-26T03:54:59.750288",
     "exception": false,
     "start_time": "2022-04-26T03:54:59.713937",
     "status": "completed"
    },
    "tags": []
   },
   "outputs": [
    {
     "name": "stdout",
     "output_type": "stream",
     "text": [
      "/kaggle/input/3-classes-bangla-sa/3_classes_Bert_Preprocessed__Dataset.xlsx\n"
     ]
    }
   ],
   "source": [
    "for dirname, _, filenames in os.walk('/kaggle/input'):\n",
    "    for filename in filenames:\n",
    "        print(os.path.join(dirname, filename))"
   ]
  },
  {
   "cell_type": "code",
   "execution_count": 5,
   "id": "908af5a4",
   "metadata": {
    "execution": {
     "iopub.execute_input": "2022-04-26T03:54:59.803096Z",
     "iopub.status.busy": "2022-04-26T03:54:59.802521Z",
     "iopub.status.idle": "2022-04-26T03:55:02.558266Z",
     "shell.execute_reply": "2022-04-26T03:55:02.554610Z"
    },
    "papermill": {
     "duration": 2.785293,
     "end_time": "2022-04-26T03:55:02.560636",
     "exception": false,
     "start_time": "2022-04-26T03:54:59.775343",
     "status": "completed"
    },
    "tags": []
   },
   "outputs": [
    {
     "name": "stdout",
     "output_type": "stream",
     "text": [
      "<class 'pandas.core.frame.DataFrame'>\n",
      "RangeIndex: 15728 entries, 0 to 15727\n",
      "Data columns (total 5 columns):\n",
      " #   Column      Non-Null Count  Dtype \n",
      "---  ------      --------------  ----- \n",
      " 0   Unnamed: 0  15728 non-null  int64 \n",
      " 1   Data        15728 non-null  object\n",
      " 2   Label       15728 non-null  int64 \n",
      " 3   Token       15728 non-null  object\n",
      " 4   Token_ID    15728 non-null  object\n",
      "dtypes: int64(2), object(3)\n",
      "memory usage: 614.5+ KB\n"
     ]
    }
   ],
   "source": [
    "df=pd.read_excel('/kaggle/input/3-classes-bangla-sa/3_classes_Bert_Preprocessed__Dataset.xlsx')\n",
    "df.info()"
   ]
  },
  {
   "cell_type": "code",
   "execution_count": 6,
   "id": "53871b6f",
   "metadata": {
    "execution": {
     "iopub.execute_input": "2022-04-26T03:55:02.612640Z",
     "iopub.status.busy": "2022-04-26T03:55:02.612380Z",
     "iopub.status.idle": "2022-04-26T03:55:45.068901Z",
     "shell.execute_reply": "2022-04-26T03:55:45.067676Z"
    },
    "papermill": {
     "duration": 42.484874,
     "end_time": "2022-04-26T03:55:45.070888",
     "exception": false,
     "start_time": "2022-04-26T03:55:02.586014",
     "status": "completed"
    },
    "tags": []
   },
   "outputs": [
    {
     "name": "stdout",
     "output_type": "stream",
     "text": [
      "Collecting ktrain\r\n",
      "  Downloading ktrain-0.30.0.tar.gz (25.3 MB)\r\n",
      "\u001b[2K     \u001b[90m━━━━━━━━━━━━━━━━━━━━━━━━━━━━━━━━━━━━━━━━\u001b[0m \u001b[32m25.3/25.3 MB\u001b[0m \u001b[31m21.6 MB/s\u001b[0m eta \u001b[36m0:00:00\u001b[0m\r\n",
      "\u001b[?25h  Preparing metadata (setup.py) ... \u001b[?25l-\b \bdone\r\n",
      "\u001b[?25hCollecting scikit-learn==0.24.2\r\n",
      "  Downloading scikit_learn-0.24.2-cp37-cp37m-manylinux2010_x86_64.whl (22.3 MB)\r\n",
      "\u001b[2K     \u001b[90m━━━━━━━━━━━━━━━━━━━━━━━━━━━━━━━━━━━━━━━━\u001b[0m \u001b[32m22.3/22.3 MB\u001b[0m \u001b[31m23.0 MB/s\u001b[0m eta \u001b[36m0:00:00\u001b[0m\r\n",
      "\u001b[?25hRequirement already satisfied: matplotlib>=3.0.0 in /opt/conda/lib/python3.7/site-packages (from ktrain) (3.5.1)\r\n",
      "Requirement already satisfied: pandas>=1.0.1 in /opt/conda/lib/python3.7/site-packages (from ktrain) (1.3.5)\r\n",
      "Requirement already satisfied: fastprogress>=0.1.21 in /opt/conda/lib/python3.7/site-packages (from ktrain) (1.0.2)\r\n",
      "Requirement already satisfied: requests in /opt/conda/lib/python3.7/site-packages (from ktrain) (2.27.1)\r\n",
      "Requirement already satisfied: joblib in /opt/conda/lib/python3.7/site-packages (from ktrain) (1.0.1)\r\n",
      "Requirement already satisfied: packaging in /opt/conda/lib/python3.7/site-packages (from ktrain) (21.3)\r\n",
      "Collecting langdetect\r\n",
      "  Downloading langdetect-1.0.9.tar.gz (981 kB)\r\n",
      "\u001b[2K     \u001b[90m━━━━━━━━━━━━━━━━━━━━━━━━━━━━━━━━━━━━━━\u001b[0m \u001b[32m981.5/981.5 KB\u001b[0m \u001b[31m54.2 MB/s\u001b[0m eta \u001b[36m0:00:00\u001b[0m\r\n",
      "\u001b[?25h  Preparing metadata (setup.py) ... \u001b[?25l-\b \bdone\r\n",
      "\u001b[?25hRequirement already satisfied: jieba in /opt/conda/lib/python3.7/site-packages (from ktrain) (0.42.1)\r\n",
      "Collecting cchardet\r\n",
      "  Downloading cchardet-2.1.7-cp37-cp37m-manylinux2010_x86_64.whl (263 kB)\r\n",
      "\u001b[2K     \u001b[90m━━━━━━━━━━━━━━━━━━━━━━━━━━━━━━━━━━━━━━\u001b[0m \u001b[32m263.7/263.7 KB\u001b[0m \u001b[31m13.3 MB/s\u001b[0m eta \u001b[36m0:00:00\u001b[0m\r\n",
      "\u001b[?25hRequirement already satisfied: chardet in /opt/conda/lib/python3.7/site-packages (from ktrain) (4.0.0)\r\n",
      "Collecting syntok==1.3.3\r\n",
      "  Downloading syntok-1.3.3-py3-none-any.whl (22 kB)\r\n",
      "Collecting transformers==4.10.3\r\n",
      "  Downloading transformers-4.10.3-py3-none-any.whl (2.8 MB)\r\n",
      "\u001b[2K     \u001b[90m━━━━━━━━━━━━━━━━━━━━━━━━━━━━━━━━━━━━━━━━\u001b[0m \u001b[32m2.8/2.8 MB\u001b[0m \u001b[31m69.9 MB/s\u001b[0m eta \u001b[36m0:00:00\u001b[0m\r\n",
      "\u001b[?25hRequirement already satisfied: sentencepiece in /opt/conda/lib/python3.7/site-packages (from ktrain) (0.1.96)\r\n",
      "Collecting keras_bert>=0.86.0\r\n",
      "  Downloading keras-bert-0.89.0.tar.gz (25 kB)\r\n",
      "  Preparing metadata (setup.py) ... \u001b[?25l-\b \bdone\r\n",
      "\u001b[?25hCollecting whoosh\r\n",
      "  Downloading Whoosh-2.7.4-py2.py3-none-any.whl (468 kB)\r\n",
      "\u001b[2K     \u001b[90m━━━━━━━━━━━━━━━━━━━━━━━━━━━━━━━━━━━━━━\u001b[0m \u001b[32m468.8/468.8 KB\u001b[0m \u001b[31m39.1 MB/s\u001b[0m eta \u001b[36m0:00:00\u001b[0m\r\n",
      "\u001b[?25hRequirement already satisfied: threadpoolctl>=2.0.0 in /opt/conda/lib/python3.7/site-packages (from scikit-learn==0.24.2->ktrain) (3.1.0)\r\n",
      "Requirement already satisfied: scipy>=0.19.1 in /opt/conda/lib/python3.7/site-packages (from scikit-learn==0.24.2->ktrain) (1.7.3)\r\n",
      "Requirement already satisfied: numpy>=1.13.3 in /opt/conda/lib/python3.7/site-packages (from scikit-learn==0.24.2->ktrain) (1.21.5)\r\n",
      "Requirement already satisfied: regex in /opt/conda/lib/python3.7/site-packages (from syntok==1.3.3->ktrain) (2021.11.10)\r\n",
      "Requirement already satisfied: huggingface-hub>=0.0.12 in /opt/conda/lib/python3.7/site-packages (from transformers==4.10.3->ktrain) (0.5.1)\r\n",
      "Requirement already satisfied: importlib-metadata in /opt/conda/lib/python3.7/site-packages (from transformers==4.10.3->ktrain) (4.11.3)\r\n",
      "Requirement already satisfied: tqdm>=4.27 in /opt/conda/lib/python3.7/site-packages (from transformers==4.10.3->ktrain) (4.63.0)\r\n",
      "Requirement already satisfied: filelock in /opt/conda/lib/python3.7/site-packages (from transformers==4.10.3->ktrain) (3.6.0)\r\n",
      "Requirement already satisfied: sacremoses in /opt/conda/lib/python3.7/site-packages (from transformers==4.10.3->ktrain) (0.0.49)\r\n",
      "Requirement already satisfied: pyyaml>=5.1 in /opt/conda/lib/python3.7/site-packages (from transformers==4.10.3->ktrain) (6.0)\r\n",
      "Collecting tokenizers<0.11,>=0.10.1\r\n",
      "  Downloading tokenizers-0.10.3-cp37-cp37m-manylinux_2_5_x86_64.manylinux1_x86_64.manylinux_2_12_x86_64.manylinux2010_x86_64.whl (3.3 MB)\r\n",
      "\u001b[2K     \u001b[90m━━━━━━━━━━━━━━━━━━━━━━━━━━━━━━━━━━━━━━━━\u001b[0m \u001b[32m3.3/3.3 MB\u001b[0m \u001b[31m28.2 MB/s\u001b[0m eta \u001b[36m0:00:00\u001b[0m\r\n",
      "\u001b[?25hCollecting keras-transformer==0.40.0\r\n",
      "  Downloading keras-transformer-0.40.0.tar.gz (9.7 kB)\r\n",
      "  Preparing metadata (setup.py) ... \u001b[?25l-\b \bdone\r\n",
      "\u001b[?25hCollecting keras-pos-embd==0.13.0\r\n",
      "  Downloading keras-pos-embd-0.13.0.tar.gz (5.6 kB)\r\n",
      "  Preparing metadata (setup.py) ... \u001b[?25l-\b \bdone\r\n",
      "\u001b[?25hCollecting keras-multi-head==0.29.0\r\n",
      "  Downloading keras-multi-head-0.29.0.tar.gz (13 kB)\r\n",
      "  Preparing metadata (setup.py) ... \u001b[?25l-\b \bdone\r\n",
      "\u001b[?25hCollecting keras-layer-normalization==0.16.0\r\n",
      "  Downloading keras-layer-normalization-0.16.0.tar.gz (3.9 kB)\r\n",
      "  Preparing metadata (setup.py) ... \u001b[?25l-\b \bdone\r\n",
      "\u001b[?25hCollecting keras-position-wise-feed-forward==0.8.0\r\n",
      "  Downloading keras-position-wise-feed-forward-0.8.0.tar.gz (4.1 kB)\r\n",
      "  Preparing metadata (setup.py) ... \u001b[?25l-\b \bdone\r\n",
      "\u001b[?25hCollecting keras-embed-sim==0.10.0\r\n",
      "  Downloading keras-embed-sim-0.10.0.tar.gz (3.6 kB)\r\n",
      "  Preparing metadata (setup.py) ... \u001b[?25l-\b \bdone\r\n",
      "\u001b[?25hCollecting keras-self-attention==0.51.0\r\n",
      "  Downloading keras-self-attention-0.51.0.tar.gz (11 kB)\r\n",
      "  Preparing metadata (setup.py) ... \u001b[?25l-\b \bdone\r\n",
      "\u001b[?25hRequirement already satisfied: pyparsing>=2.2.1 in /opt/conda/lib/python3.7/site-packages (from matplotlib>=3.0.0->ktrain) (3.0.7)\r\n",
      "Requirement already satisfied: pillow>=6.2.0 in /opt/conda/lib/python3.7/site-packages (from matplotlib>=3.0.0->ktrain) (9.0.1)\r\n",
      "Requirement already satisfied: cycler>=0.10 in /opt/conda/lib/python3.7/site-packages (from matplotlib>=3.0.0->ktrain) (0.11.0)\r\n",
      "Requirement already satisfied: python-dateutil>=2.7 in /opt/conda/lib/python3.7/site-packages (from matplotlib>=3.0.0->ktrain) (2.8.2)\r\n",
      "Requirement already satisfied: kiwisolver>=1.0.1 in /opt/conda/lib/python3.7/site-packages (from matplotlib>=3.0.0->ktrain) (1.4.0)\r\n",
      "Requirement already satisfied: fonttools>=4.22.0 in /opt/conda/lib/python3.7/site-packages (from matplotlib>=3.0.0->ktrain) (4.30.0)\r\n",
      "Requirement already satisfied: pytz>=2017.3 in /opt/conda/lib/python3.7/site-packages (from pandas>=1.0.1->ktrain) (2021.3)\r\n",
      "Requirement already satisfied: six in /opt/conda/lib/python3.7/site-packages (from langdetect->ktrain) (1.16.0)\r\n",
      "Requirement already satisfied: charset-normalizer~=2.0.0 in /opt/conda/lib/python3.7/site-packages (from requests->ktrain) (2.0.12)\r\n",
      "Requirement already satisfied: idna<4,>=2.5 in /opt/conda/lib/python3.7/site-packages (from requests->ktrain) (3.3)\r\n",
      "Requirement already satisfied: certifi>=2017.4.17 in /opt/conda/lib/python3.7/site-packages (from requests->ktrain) (2021.10.8)\r\n",
      "Requirement already satisfied: urllib3<1.27,>=1.21.1 in /opt/conda/lib/python3.7/site-packages (from requests->ktrain) (1.26.8)\r\n",
      "Requirement already satisfied: typing-extensions>=3.7.4.3 in /opt/conda/lib/python3.7/site-packages (from huggingface-hub>=0.0.12->transformers==4.10.3->ktrain) (4.1.1)\r\n",
      "Requirement already satisfied: zipp>=0.5 in /opt/conda/lib/python3.7/site-packages (from importlib-metadata->transformers==4.10.3->ktrain) (3.7.0)\r\n",
      "Requirement already satisfied: click in /opt/conda/lib/python3.7/site-packages (from sacremoses->transformers==4.10.3->ktrain) (8.0.4)\r\n",
      "Building wheels for collected packages: ktrain, keras_bert, keras-transformer, keras-embed-sim, keras-layer-normalization, keras-multi-head, keras-pos-embd, keras-position-wise-feed-forward, keras-self-attention, langdetect\r\n",
      "  Building wheel for ktrain (setup.py) ... \u001b[?25l-\b \b\\\b \b|\b \b/\b \b-\b \b\\\b \b|\b \bdone\r\n",
      "\u001b[?25h  Created wheel for ktrain: filename=ktrain-0.30.0-py3-none-any.whl size=25309161 sha256=c516bdba30c28a2ea468abaab7afaa9b9abcb6b99f4ea8f19470c0ae0faec78c\r\n",
      "  Stored in directory: /root/.cache/pip/wheels/25/00/ae/80d1b19dd02bc2e6bc9bac32ba7dbaa59aad789e93274e4868\r\n",
      "  Building wheel for keras_bert (setup.py) ... \u001b[?25l-\b \b\\\b \bdone\r\n",
      "\u001b[?25h  Created wheel for keras_bert: filename=keras_bert-0.89.0-py3-none-any.whl size=33517 sha256=b0c9cec0808bfe5cc7c0ccb10f07e91b1adc3a47ca69aab51a7a4e2f1f828997\r\n",
      "  Stored in directory: /root/.cache/pip/wheels/a4/e8/45/842b3a39831261aef9154b907eacbc4ac99499a99ae829b06f\r\n",
      "  Building wheel for keras-transformer (setup.py) ... \u001b[?25l-\b \b\\\b \bdone\r\n",
      "\u001b[?25h  Created wheel for keras-transformer: filename=keras_transformer-0.40.0-py3-none-any.whl size=12305 sha256=55a1d206f7b1266db743e58d296175fd839a42d136d7e7ff0d40fbfd03238114\r\n",
      "  Stored in directory: /root/.cache/pip/wheels/46/68/26/692ed21edd832833c3b0a0e21615bcacd99ca458b3f9ed571f\r\n",
      "  Building wheel for keras-embed-sim (setup.py) ... \u001b[?25l-\b \bdone\r\n",
      "\u001b[?25h  Created wheel for keras-embed-sim: filename=keras_embed_sim-0.10.0-py3-none-any.whl size=3960 sha256=f0241e32069040f437f08e18d8bc8d955a639e00224eb27eb87b5872f2e09bb6\r\n",
      "  Stored in directory: /root/.cache/pip/wheels/81/67/b5/d847588d075895281e1cf5590f819bd4cf076a554872268bd5\r\n",
      "  Building wheel for keras-layer-normalization (setup.py) ... \u001b[?25l-\b \bdone\r\n",
      "\u001b[?25h  Created wheel for keras-layer-normalization: filename=keras_layer_normalization-0.16.0-py3-none-any.whl size=4668 sha256=619ed5f59e616eb947f3f0c28cc6b021fc3389bc5013c1cd86c938a75899e086\r\n",
      "  Stored in directory: /root/.cache/pip/wheels/85/5d/1c/2e619f594f69fbcf8bc20943b27d414871c409be053994813e\r\n",
      "  Building wheel for keras-multi-head (setup.py) ... \u001b[?25l-\b \b\\\b \bdone\r\n",
      "\u001b[?25h  Created wheel for keras-multi-head: filename=keras_multi_head-0.29.0-py3-none-any.whl size=14993 sha256=87c1b36b1f0849e386e66292b7fce9d027aaa65f5d404ce62f1304b4c6db02a2\r\n",
      "  Stored in directory: /root/.cache/pip/wheels/86/aa/3c/9d15d24005179dae08ff291ce99c754b296347817d076fd9fb\r\n",
      "  Building wheel for keras-pos-embd (setup.py) ... \u001b[?25l-\b \bdone\r\n",
      "\u001b[?25h  Created wheel for keras-pos-embd: filename=keras_pos_embd-0.13.0-py3-none-any.whl size=6962 sha256=bc52a6e9eacef85963bc877d1e7d4c41545f07010a0e74d5729d86094bff1629\r\n",
      "  Stored in directory: /root/.cache/pip/wheels/8d/c1/a0/dc44fcf68c857b7ff6be9a97e675e5adf51022eff1169b042f\r\n",
      "  Building wheel for keras-position-wise-feed-forward (setup.py) ... \u001b[?25l-\b \bdone\r\n",
      "\u001b[?25h  Created wheel for keras-position-wise-feed-forward: filename=keras_position_wise_feed_forward-0.8.0-py3-none-any.whl size=4983 sha256=9e4d2855fab9237dd943ae2fdc64d91a661a970ec81e2eadc3ee83dd67a4e750\r\n",
      "  Stored in directory: /root/.cache/pip/wheels/c2/75/6f/d42f6e051506f442daeba53ff1e2d21a5f20ef8c411610f2bb\r\n",
      "  Building wheel for keras-self-attention (setup.py) ... \u001b[?25l-\b \b\\\b \bdone\r\n",
      "\u001b[?25h  Created wheel for keras-self-attention: filename=keras_self_attention-0.51.0-py3-none-any.whl size=18912 sha256=d1e94474b8514f4e459d4210fafe110808962aa230e22935ff7a7b755712e405\r\n",
      "  Stored in directory: /root/.cache/pip/wheels/95/b1/a8/5ee00cc137940b2f6fa198212e8f45d813d0e0d9c3a04035a3\r\n",
      "  Building wheel for langdetect (setup.py) ... \u001b[?25l-\b \b\\\b \b|\b \b/\b \bdone\r\n",
      "\u001b[?25h  Created wheel for langdetect: filename=langdetect-1.0.9-py3-none-any.whl size=993242 sha256=faba237ba00b116cc73b5ef7ad68ae07c3fa0497ae90b06d5098513cdb056015\r\n",
      "  Stored in directory: /root/.cache/pip/wheels/c5/96/8a/f90c59ed25d75e50a8c10a1b1c2d4c402e4dacfa87f3aff36a\r\n",
      "Successfully built ktrain keras_bert keras-transformer keras-embed-sim keras-layer-normalization keras-multi-head keras-pos-embd keras-position-wise-feed-forward keras-self-attention langdetect\r\n",
      "Installing collected packages: whoosh, tokenizers, cchardet, syntok, langdetect, keras-self-attention, keras-position-wise-feed-forward, keras-pos-embd, keras-layer-normalization, keras-embed-sim, scikit-learn, keras-multi-head, keras-transformer, transformers, keras_bert, ktrain\r\n",
      "  Attempting uninstall: tokenizers\r\n",
      "    Found existing installation: tokenizers 0.11.6\r\n",
      "    Uninstalling tokenizers-0.11.6:\r\n",
      "      Successfully uninstalled tokenizers-0.11.6\r\n",
      "  Attempting uninstall: scikit-learn\r\n",
      "    Found existing installation: scikit-learn 1.0.2\r\n",
      "    Uninstalling scikit-learn-1.0.2:\r\n",
      "      Successfully uninstalled scikit-learn-1.0.2\r\n",
      "  Attempting uninstall: transformers\r\n",
      "    Found existing installation: transformers 4.17.0\r\n",
      "    Uninstalling transformers-4.17.0:\r\n",
      "      Successfully uninstalled transformers-4.17.0\r\n",
      "\u001b[31mERROR: pip's dependency resolver does not currently take into account all the packages that are installed. This behaviour is the source of the following dependency conflicts.\r\n",
      "yellowbrick 1.4 requires scikit-learn>=1.0.0, but you have scikit-learn 0.24.2 which is incompatible.\r\n",
      "pdpbox 0.2.1 requires matplotlib==3.1.1, but you have matplotlib 3.5.1 which is incompatible.\r\n",
      "imbalanced-learn 0.9.0 requires scikit-learn>=1.0.1, but you have scikit-learn 0.24.2 which is incompatible.\u001b[0m\u001b[31m\r\n",
      "\u001b[0mSuccessfully installed cchardet-2.1.7 keras-embed-sim-0.10.0 keras-layer-normalization-0.16.0 keras-multi-head-0.29.0 keras-pos-embd-0.13.0 keras-position-wise-feed-forward-0.8.0 keras-self-attention-0.51.0 keras-transformer-0.40.0 keras_bert-0.89.0 ktrain-0.30.0 langdetect-1.0.9 scikit-learn-0.24.2 syntok-1.3.3 tokenizers-0.10.3 transformers-4.10.3 whoosh-2.7.4\r\n",
      "\u001b[33mWARNING: Running pip as the 'root' user can result in broken permissions and conflicting behaviour with the system package manager. It is recommended to use a virtual environment instead: https://pip.pypa.io/warnings/venv\u001b[0m\u001b[33m\r\n",
      "\u001b[0mNote: you may need to restart the kernel to use updated packages.\n"
     ]
    }
   ],
   "source": [
    "pip install ktrain"
   ]
  },
  {
   "cell_type": "code",
   "execution_count": 7,
   "id": "15301885",
   "metadata": {
    "execution": {
     "iopub.execute_input": "2022-04-26T03:55:45.218289Z",
     "iopub.status.busy": "2022-04-26T03:55:45.218005Z",
     "iopub.status.idle": "2022-04-26T03:55:45.264224Z",
     "shell.execute_reply": "2022-04-26T03:55:45.263568Z"
    },
    "papermill": {
     "duration": 0.121932,
     "end_time": "2022-04-26T03:55:45.265981",
     "exception": false,
     "start_time": "2022-04-26T03:55:45.144049",
     "status": "completed"
    },
    "tags": []
   },
   "outputs": [],
   "source": [
    "%reload_ext autoreload\n",
    "%autoreload 2\n",
    "%matplotlib inline\n",
    "import os\n",
    "os.environ[\"CUDA_DEVICE_ORDER\"] = \"PCI_BUS_ID\"\n",
    "os.environ[\"CUDA_VISIBLE_DEVICES\"] = \"0\" "
   ]
  },
  {
   "cell_type": "code",
   "execution_count": 8,
   "id": "0f2962c3",
   "metadata": {
    "execution": {
     "iopub.execute_input": "2022-04-26T03:55:45.410990Z",
     "iopub.status.busy": "2022-04-26T03:55:45.410314Z",
     "iopub.status.idle": "2022-04-26T03:55:53.359265Z",
     "shell.execute_reply": "2022-04-26T03:55:53.358206Z"
    },
    "papermill": {
     "duration": 8.024539,
     "end_time": "2022-04-26T03:55:53.361320",
     "exception": false,
     "start_time": "2022-04-26T03:55:45.336781",
     "status": "completed"
    },
    "tags": []
   },
   "outputs": [],
   "source": [
    "import ktrain\n",
    "from ktrain import text"
   ]
  },
  {
   "cell_type": "code",
   "execution_count": 9,
   "id": "7262e3c8",
   "metadata": {
    "execution": {
     "iopub.execute_input": "2022-04-26T03:55:53.507071Z",
     "iopub.status.busy": "2022-04-26T03:55:53.506825Z",
     "iopub.status.idle": "2022-04-26T03:55:53.573393Z",
     "shell.execute_reply": "2022-04-26T03:55:53.572690Z"
    },
    "papermill": {
     "duration": 0.141435,
     "end_time": "2022-04-26T03:55:53.575276",
     "exception": false,
     "start_time": "2022-04-26T03:55:53.433841",
     "status": "completed"
    },
    "tags": []
   },
   "outputs": [],
   "source": [
    "train=df[:int(.8*len(df))]\n",
    "test=df[int(.8*len(df)):int(.9*len(df))]\n",
    "validation=df[int(.9*len(df)):]\n",
    "x_train=train['Token'].tolist()\n",
    "y_train=train['Label'].tolist()\n",
    "x_validation=validation['Token'].tolist()\n",
    "y_validation=validation['Label'].tolist()\n",
    "x_test=test['Token'].tolist()\n",
    "y_test=test['Label'].tolist()"
   ]
  },
  {
   "cell_type": "code",
   "execution_count": 10,
   "id": "237954be",
   "metadata": {
    "execution": {
     "iopub.execute_input": "2022-04-26T03:55:53.720078Z",
     "iopub.status.busy": "2022-04-26T03:55:53.719842Z",
     "iopub.status.idle": "2022-04-26T03:55:53.808852Z",
     "shell.execute_reply": "2022-04-26T03:55:53.808100Z"
    },
    "papermill": {
     "duration": 0.162852,
     "end_time": "2022-04-26T03:55:53.810898",
     "exception": false,
     "start_time": "2022-04-26T03:55:53.648046",
     "status": "completed"
    },
    "tags": []
   },
   "outputs": [],
   "source": [
    "x_train= np.array(x_train)\n",
    "x_validation= np.array(x_validation)\n",
    "x_test= np.array(x_test)\n"
   ]
  },
  {
   "cell_type": "code",
   "execution_count": 11,
   "id": "f70f298d",
   "metadata": {
    "execution": {
     "iopub.execute_input": "2022-04-26T03:55:53.955434Z",
     "iopub.status.busy": "2022-04-26T03:55:53.955189Z",
     "iopub.status.idle": "2022-04-26T03:55:54.018692Z",
     "shell.execute_reply": "2022-04-26T03:55:54.018003Z"
    },
    "papermill": {
     "duration": 0.137713,
     "end_time": "2022-04-26T03:55:54.020732",
     "exception": false,
     "start_time": "2022-04-26T03:55:53.883019",
     "status": "completed"
    },
    "tags": []
   },
   "outputs": [],
   "source": [
    "categories = [0,1,2]"
   ]
  },
  {
   "cell_type": "code",
   "execution_count": 12,
   "id": "df24f621",
   "metadata": {
    "execution": {
     "iopub.execute_input": "2022-04-26T03:55:54.167547Z",
     "iopub.status.busy": "2022-04-26T03:55:54.167297Z",
     "iopub.status.idle": "2022-04-26T03:55:55.197911Z",
     "shell.execute_reply": "2022-04-26T03:55:55.197238Z"
    },
    "papermill": {
     "duration": 1.107273,
     "end_time": "2022-04-26T03:55:55.200391",
     "exception": false,
     "start_time": "2022-04-26T03:55:54.093118",
     "status": "completed"
    },
    "tags": []
   },
   "outputs": [
    {
     "data": {
      "application/vnd.jupyter.widget-view+json": {
       "model_id": "392db57597124a7a9743c4bdbae3bc49",
       "version_major": 2,
       "version_minor": 0
      },
      "text/plain": [
       "Downloading:   0%|          | 0.00/491 [00:00<?, ?B/s]"
      ]
     },
     "metadata": {},
     "output_type": "display_data"
    }
   ],
   "source": [
    "model_name = 'sagorsarker/bangla-bert-base'\n",
    "trans = text.Transformer(model_name,maxlen=50,class_names=categories)"
   ]
  },
  {
   "cell_type": "code",
   "execution_count": 13,
   "id": "586d4bf2",
   "metadata": {
    "execution": {
     "iopub.execute_input": "2022-04-26T03:55:55.347347Z",
     "iopub.status.busy": "2022-04-26T03:55:55.347095Z",
     "iopub.status.idle": "2022-04-26T03:56:07.676139Z",
     "shell.execute_reply": "2022-04-26T03:56:07.675492Z"
    },
    "papermill": {
     "duration": 12.404294,
     "end_time": "2022-04-26T03:56:07.677829",
     "exception": false,
     "start_time": "2022-04-26T03:55:55.273535",
     "status": "completed"
    },
    "tags": []
   },
   "outputs": [
    {
     "name": "stdout",
     "output_type": "stream",
     "text": [
      "preprocessing train...\n",
      "language: bn\n",
      "train sequence lengths:\n",
      "\tmean : 16\n",
      "\t95percentile : 37\n",
      "\t99percentile : 47\n"
     ]
    },
    {
     "data": {
      "application/vnd.jupyter.widget-view+json": {
       "model_id": "ed86f5a9d13546ddba2f4267196944a0",
       "version_major": 2,
       "version_minor": 0
      },
      "text/plain": [
       "Downloading:   0%|          | 0.00/2.24M [00:00<?, ?B/s]"
      ]
     },
     "metadata": {},
     "output_type": "display_data"
    },
    {
     "data": {
      "text/html": [
       "\n",
       "<style>\n",
       "    /* Turns off some styling */\n",
       "    progress {\n",
       "        /* gets rid of default border in Firefox and Opera. */\n",
       "        border: none;\n",
       "        /* Needs to be in here for Safari polyfill so background images work as expected. */\n",
       "        background-size: auto;\n",
       "    }\n",
       "    .progress-bar-interrupted, .progress-bar-interrupted::-webkit-progress-bar {\n",
       "        background: #F44336;\n",
       "    }\n",
       "</style>\n"
      ],
      "text/plain": [
       "<IPython.core.display.HTML object>"
      ]
     },
     "metadata": {},
     "output_type": "display_data"
    },
    {
     "data": {
      "text/html": [],
      "text/plain": [
       "<IPython.core.display.HTML object>"
      ]
     },
     "metadata": {},
     "output_type": "display_data"
    },
    {
     "name": "stdout",
     "output_type": "stream",
     "text": [
      "Is Multi-Label? False\n",
      "preprocessing test...\n",
      "language: bn\n",
      "test sequence lengths:\n",
      "\tmean : 16\n",
      "\t95percentile : 37\n",
      "\t99percentile : 47\n"
     ]
    },
    {
     "data": {
      "text/html": [
       "\n",
       "<style>\n",
       "    /* Turns off some styling */\n",
       "    progress {\n",
       "        /* gets rid of default border in Firefox and Opera. */\n",
       "        border: none;\n",
       "        /* Needs to be in here for Safari polyfill so background images work as expected. */\n",
       "        background-size: auto;\n",
       "    }\n",
       "    .progress-bar-interrupted, .progress-bar-interrupted::-webkit-progress-bar {\n",
       "        background: #F44336;\n",
       "    }\n",
       "</style>\n"
      ],
      "text/plain": [
       "<IPython.core.display.HTML object>"
      ]
     },
     "metadata": {},
     "output_type": "display_data"
    },
    {
     "data": {
      "text/html": [],
      "text/plain": [
       "<IPython.core.display.HTML object>"
      ]
     },
     "metadata": {},
     "output_type": "display_data"
    }
   ],
   "source": [
    "train = trans.preprocess_train(x_train,y_train)\n",
    "valid = trans.preprocess_test(x_validation,y_validation)"
   ]
  },
  {
   "cell_type": "code",
   "execution_count": 14,
   "id": "25a108bc",
   "metadata": {
    "execution": {
     "iopub.execute_input": "2022-04-26T03:56:07.830423Z",
     "iopub.status.busy": "2022-04-26T03:56:07.829932Z",
     "iopub.status.idle": "2022-04-26T03:56:48.573959Z",
     "shell.execute_reply": "2022-04-26T03:56:48.573210Z"
    },
    "papermill": {
     "duration": 40.822992,
     "end_time": "2022-04-26T03:56:48.576365",
     "exception": false,
     "start_time": "2022-04-26T03:56:07.753373",
     "status": "completed"
    },
    "tags": []
   },
   "outputs": [
    {
     "data": {
      "application/vnd.jupyter.widget-view+json": {
       "model_id": "91347228be804f409c790bbe3dda7d4d",
       "version_major": 2,
       "version_minor": 0
      },
      "text/plain": [
       "Downloading:   0%|          | 0.00/976M [00:00<?, ?B/s]"
      ]
     },
     "metadata": {},
     "output_type": "display_data"
    }
   ],
   "source": [
    "model = trans.get_classifier()"
   ]
  },
  {
   "cell_type": "code",
   "execution_count": 15,
   "id": "e638ad07",
   "metadata": {
    "execution": {
     "iopub.execute_input": "2022-04-26T03:56:48.736228Z",
     "iopub.status.busy": "2022-04-26T03:56:48.735946Z",
     "iopub.status.idle": "2022-04-26T03:56:50.223416Z",
     "shell.execute_reply": "2022-04-26T03:56:50.222671Z"
    },
    "papermill": {
     "duration": 1.569092,
     "end_time": "2022-04-26T03:56:50.225492",
     "exception": false,
     "start_time": "2022-04-26T03:56:48.656400",
     "status": "completed"
    },
    "tags": []
   },
   "outputs": [],
   "source": [
    "learner = ktrain.get_learner(model, train_data=train,val_data=valid, batch_size=12)"
   ]
  },
  {
   "cell_type": "code",
   "execution_count": 16,
   "id": "f61d5ac6",
   "metadata": {
    "execution": {
     "iopub.execute_input": "2022-04-26T03:56:50.378279Z",
     "iopub.status.busy": "2022-04-26T03:56:50.378037Z",
     "iopub.status.idle": "2022-04-26T03:56:50.446258Z",
     "shell.execute_reply": "2022-04-26T03:56:50.445529Z"
    },
    "papermill": {
     "duration": 0.146827,
     "end_time": "2022-04-26T03:56:50.448066",
     "exception": false,
     "start_time": "2022-04-26T03:56:50.301239",
     "status": "completed"
    },
    "tags": []
   },
   "outputs": [],
   "source": [
    "from sklearn.utils import class_weight\n",
    "class_weight=class_weight.compute_class_weight(class_weight='balanced',classes=np.unique(y_train),y=y_train)\n",
    "weight={i:class_weight[i] for i in range(3)}"
   ]
  },
  {
   "cell_type": "code",
   "execution_count": 17,
   "id": "4be89e8b",
   "metadata": {
    "execution": {
     "iopub.execute_input": "2022-04-26T03:56:50.601922Z",
     "iopub.status.busy": "2022-04-26T03:56:50.601680Z",
     "iopub.status.idle": "2022-04-26T04:20:33.001881Z",
     "shell.execute_reply": "2022-04-26T04:20:33.001179Z"
    },
    "papermill": {
     "duration": 1422.478503,
     "end_time": "2022-04-26T04:20:33.003900",
     "exception": false,
     "start_time": "2022-04-26T03:56:50.525397",
     "status": "completed"
    },
    "tags": []
   },
   "outputs": [
    {
     "name": "stdout",
     "output_type": "stream",
     "text": [
      "\n",
      "\n",
      "begin training using onecycle policy with max lr of 2e-05...\n",
      "Epoch 1/10\n",
      "1049/1049 [==============================] - 166s 137ms/step - loss: 1.0060 - accuracy: 0.4922 - val_loss: 0.8843 - val_accuracy: 0.5957\n",
      "Epoch 2/10\n",
      "1049/1049 [==============================] - 138s 132ms/step - loss: 0.8648 - accuracy: 0.6098 - val_loss: 0.8659 - val_accuracy: 0.5982\n",
      "Epoch 3/10\n",
      "1049/1049 [==============================] - 139s 133ms/step - loss: 0.7502 - accuracy: 0.6768 - val_loss: 0.9123 - val_accuracy: 0.5957\n",
      "Epoch 4/10\n",
      "1049/1049 [==============================] - 139s 132ms/step - loss: 0.6169 - accuracy: 0.7456 - val_loss: 0.8873 - val_accuracy: 0.6160\n",
      "Epoch 5/10\n",
      "1049/1049 [==============================] - 139s 133ms/step - loss: 0.4762 - accuracy: 0.8124 - val_loss: 0.9348 - val_accuracy: 0.6205\n",
      "Epoch 6/10\n",
      "1049/1049 [==============================] - 140s 133ms/step - loss: 0.3201 - accuracy: 0.8787 - val_loss: 1.1360 - val_accuracy: 0.6395\n",
      "Epoch 7/10\n",
      "1049/1049 [==============================] - 140s 134ms/step - loss: 0.1950 - accuracy: 0.9300 - val_loss: 1.3155 - val_accuracy: 0.6345\n",
      "Epoch 8/10\n",
      "1049/1049 [==============================] - 140s 134ms/step - loss: 0.1160 - accuracy: 0.9599 - val_loss: 1.4386 - val_accuracy: 0.6472\n",
      "Epoch 9/10\n",
      "1049/1049 [==============================] - 140s 133ms/step - loss: 0.0761 - accuracy: 0.9760 - val_loss: 1.6049 - val_accuracy: 0.6656\n",
      "Epoch 10/10\n",
      "1049/1049 [==============================] - 141s 134ms/step - loss: 0.0521 - accuracy: 0.9813 - val_loss: 1.6812 - val_accuracy: 0.6720\n"
     ]
    },
    {
     "data": {
      "text/plain": [
       "<keras.callbacks.History at 0x7f9f6ed809d0>"
      ]
     },
     "execution_count": 17,
     "metadata": {},
     "output_type": "execute_result"
    }
   ],
   "source": [
    "learner.fit_onecycle(2e-5,10,class_weight=weight) "
   ]
  },
  {
   "cell_type": "code",
   "execution_count": 18,
   "id": "a5f4ec42",
   "metadata": {
    "execution": {
     "iopub.execute_input": "2022-04-26T04:20:39.619094Z",
     "iopub.status.busy": "2022-04-26T04:20:39.618735Z",
     "iopub.status.idle": "2022-04-26T04:20:46.155535Z",
     "shell.execute_reply": "2022-04-26T04:20:46.154791Z"
    },
    "papermill": {
     "duration": 9.814936,
     "end_time": "2022-04-26T04:20:46.158000",
     "exception": false,
     "start_time": "2022-04-26T04:20:36.343064",
     "status": "completed"
    },
    "tags": []
   },
   "outputs": [
    {
     "name": "stdout",
     "output_type": "stream",
     "text": [
      "              precision    recall  f1-score   support\n",
      "\n",
      "           0       0.53      0.44      0.48       380\n",
      "           1       0.70      0.74      0.72       623\n",
      "           2       0.72      0.76      0.74       570\n",
      "\n",
      "    accuracy                           0.67      1573\n",
      "   macro avg       0.65      0.64      0.64      1573\n",
      "weighted avg       0.66      0.67      0.67      1573\n",
      "\n"
     ]
    },
    {
     "data": {
      "text/plain": [
       "array([[166, 126,  88],\n",
       "       [ 84, 460,  79],\n",
       "       [ 64,  75, 431]])"
      ]
     },
     "execution_count": 18,
     "metadata": {},
     "output_type": "execute_result"
    }
   ],
   "source": [
    "learner.validate(class_names=categories)"
   ]
  },
  {
   "cell_type": "code",
   "execution_count": 19,
   "id": "d7f7ca9e",
   "metadata": {
    "execution": {
     "iopub.execute_input": "2022-04-26T04:20:53.019053Z",
     "iopub.status.busy": "2022-04-26T04:20:53.018594Z",
     "iopub.status.idle": "2022-04-26T04:20:53.091490Z",
     "shell.execute_reply": "2022-04-26T04:20:53.090675Z"
    },
    "papermill": {
     "duration": 3.359282,
     "end_time": "2022-04-26T04:20:53.093510",
     "exception": false,
     "start_time": "2022-04-26T04:20:49.734228",
     "status": "completed"
    },
    "tags": []
   },
   "outputs": [],
   "source": [
    "predictor = ktrain.get_predictor(learner.model, preproc=trans)"
   ]
  },
  {
   "cell_type": "code",
   "execution_count": 20,
   "id": "42919561",
   "metadata": {
    "execution": {
     "iopub.execute_input": "2022-04-26T04:21:00.010880Z",
     "iopub.status.busy": "2022-04-26T04:21:00.010492Z",
     "iopub.status.idle": "2022-04-26T04:21:05.461906Z",
     "shell.execute_reply": "2022-04-26T04:21:05.461175Z"
    },
    "papermill": {
     "duration": 8.760531,
     "end_time": "2022-04-26T04:21:05.463778",
     "exception": false,
     "start_time": "2022-04-26T04:20:56.703247",
     "status": "completed"
    },
    "tags": []
   },
   "outputs": [
    {
     "name": "stdout",
     "output_type": "stream",
     "text": [
      "[1, 1, 1, 2, 1, 1, 0, 2, 2, 2, 1, 2, 1, 1, 1, 1, 2, 1, 0, 2, 1, 1, 2, 2, 1, 1, 2, 2, 2, 1, 1, 2, 1, 0, 1, 0, 2, 1, 2, 1, 1, 2, 2, 0, 2, 1, 2, 2, 0, 2, 1, 1, 0, 2, 1, 1, 1, 1, 0, 2, 2, 1, 2, 0, 1, 1, 1, 0, 2, 2, 1, 1, 0, 0, 2, 1, 0, 1, 1, 2, 2, 1, 1, 0, 2, 2, 1, 2, 1, 2, 1, 2, 1, 1, 1, 2, 2, 1, 1, 0, 0, 2, 0, 1, 1, 2, 0, 0, 2, 1, 0, 0, 2, 1, 1, 1, 2, 2, 1, 1, 0, 1, 1, 2, 2, 1, 2, 2, 2, 1, 2, 0, 1, 2, 1, 1, 2, 0, 1, 1, 2, 1, 2, 2, 1, 0, 2, 0, 1, 1, 1, 1, 1, 2, 2, 2, 2, 2, 2, 2, 2, 1, 0, 2, 2, 2, 2, 2, 0, 1, 0, 1, 0, 2, 2, 1, 0, 1, 1, 1, 2, 1, 2, 0, 2, 2, 1, 1, 0, 2, 0, 1, 0, 1, 2, 1, 0, 2, 1, 2, 1, 1, 1, 1, 2, 1, 1, 1, 0, 0, 2, 1, 1, 0, 2, 0, 1, 2, 2, 0, 1, 1, 2, 1, 0, 2, 1, 1, 1, 1, 0, 1, 1, 2, 2, 0, 2, 1, 2, 1, 1, 0, 0, 1, 2, 2, 1, 1, 2, 2, 1, 1, 1, 1, 2, 1, 0, 2, 2, 0, 0, 2, 1, 2, 0, 1, 2, 2, 0, 2, 1, 1, 2, 2, 1, 0, 2, 2, 0, 1, 2, 2, 1, 1, 1, 2, 2, 1, 1, 2, 2, 2, 1, 2, 0, 2, 2, 2, 0, 1, 2, 2, 0, 0, 1, 0, 2, 0, 1, 1, 1, 2, 1, 1, 0, 0, 2, 1, 2, 1, 1, 1, 2, 1, 1, 2, 1, 0, 1, 2, 0, 0, 1, 1, 0, 1, 2, 1, 2, 2, 1, 2, 2, 2, 1, 0, 2, 1, 1, 2, 2, 2, 0, 2, 1, 2, 2, 0, 1, 2, 2, 2, 0, 2, 0, 2, 1, 1, 2, 1, 2, 1, 2, 2, 2, 2, 1, 0, 1, 0, 1, 2, 1, 1, 2, 2, 0, 1, 2, 0, 0, 2, 2, 2, 2, 1, 1, 1, 2, 1, 0, 1, 1, 2, 1, 1, 0, 2, 2, 2, 1, 0, 2, 1, 0, 2, 2, 2, 0, 1, 1, 0, 1, 1, 0, 1, 2, 1, 1, 0, 1, 1, 2, 2, 2, 1, 0, 2, 0, 2, 1, 1, 1, 2, 1, 1, 0, 0, 2, 2, 1, 0, 2, 0, 1, 2, 1, 1, 2, 2, 2, 1, 2, 1, 0, 1, 2, 2, 2, 2, 2, 2, 1, 1, 1, 1, 0, 0, 0, 1, 0, 2, 1, 1, 2, 1, 2, 2, 1, 1, 1, 0, 0, 1, 1, 2, 2, 0, 1, 1, 0, 0, 2, 0, 1, 2, 2, 1, 0, 1, 2, 2, 2, 0, 0, 2, 2, 0, 2, 1, 2, 1, 2, 2, 1, 1, 1, 1, 2, 0, 0, 0, 1, 2, 1, 2, 2, 2, 1, 0, 1, 1, 2, 1, 1, 0, 1, 1, 1, 2, 1, 2, 2, 0, 2, 2, 2, 1, 0, 0, 1, 2, 0, 1, 1, 1, 0, 2, 1, 2, 1, 2, 0, 1, 2, 1, 0, 1, 1, 2, 0, 1, 1, 0, 1, 1, 1, 1, 2, 0, 1, 1, 2, 1, 1, 2, 0, 0, 2, 2, 1, 2, 1, 0, 2, 1, 1, 1, 0, 1, 2, 1, 2, 2, 2, 1, 2, 0, 1, 1, 1, 1, 1, 2, 1, 2, 1, 1, 0, 2, 1, 0, 1, 1, 2, 1, 2, 0, 1, 1, 1, 2, 2, 2, 1, 0, 0, 2, 1, 2, 2, 0, 2, 2, 1, 0, 0, 0, 2, 1, 0, 1, 1, 2, 1, 2, 2, 2, 1, 1, 1, 2, 1, 2, 1, 1, 2, 1, 1, 1, 1, 2, 0, 0, 0, 1, 1, 1, 2, 1, 1, 0, 2, 2, 1, 2, 1, 0, 2, 0, 0, 1, 0, 2, 2, 2, 0, 2, 2, 0, 0, 0, 1, 2, 0, 1, 2, 0, 1, 2, 1, 2, 1, 0, 2, 2, 2, 1, 2, 1, 2, 2, 0, 1, 0, 2, 2, 1, 1, 1, 1, 1, 1, 0, 1, 1, 0, 1, 1, 1, 1, 2, 0, 2, 2, 1, 1, 1, 2, 0, 1, 1, 2, 1, 1, 1, 0, 1, 0, 2, 2, 2, 0, 2, 2, 1, 1, 1, 1, 1, 0, 0, 2, 1, 1, 1, 1, 2, 2, 0, 1, 2, 1, 1, 2, 2, 2, 2, 2, 1, 2, 2, 0, 1, 2, 2, 0, 2, 2, 1, 1, 2, 1, 2, 0, 2, 2, 0, 2, 2, 0, 2, 1, 1, 0, 0, 2, 0, 1, 1, 0, 2, 1, 0, 1, 1, 0, 2, 2, 2, 1, 1, 0, 2, 1, 2, 2, 1, 1, 2, 1, 0, 1, 1, 0, 2, 1, 0, 1, 0, 1, 1, 0, 2, 1, 1, 2, 1, 0, 0, 1, 2, 1, 2, 2, 0, 1, 1, 1, 1, 1, 2, 1, 1, 1, 1, 2, 1, 2, 2, 2, 1, 2, 0, 2, 0, 1, 0, 1, 2, 1, 1, 0, 0, 1, 2, 2, 2, 2, 0, 1, 1, 2, 2, 2, 1, 1, 1, 2, 1, 2, 1, 1, 2, 1, 1, 1, 2, 0, 0, 1, 1, 1, 2, 0, 1, 1, 2, 1, 2, 1, 0, 1, 1, 2, 2, 1, 0, 2, 2, 1, 2, 1, 1, 0, 2, 2, 2, 1, 1, 0, 1, 0, 2, 1, 1, 2, 1, 0, 0, 0, 2, 1, 2, 2, 2, 2, 1, 1, 1, 1, 2, 1, 2, 1, 0, 1, 2, 1, 2, 0, 2, 2, 2, 2, 1, 2, 2, 2, 1, 1, 1, 1, 0, 2, 1, 2, 1, 0, 2, 1, 2, 2, 1, 0, 2, 1, 1, 1, 2, 2, 1, 2, 1, 0, 0, 1, 2, 1, 2, 2, 0, 2, 2, 1, 1, 1, 0, 1, 2, 2, 1, 2, 1, 2, 1, 1, 0, 1, 2, 2, 1, 2, 1, 0, 1, 2, 1, 2, 1, 1, 0, 1, 1, 1, 1, 1, 1, 2, 1, 1, 1, 1, 1, 2, 0, 2, 2, 1, 1, 1, 0, 1, 1, 2, 2, 2, 0, 2, 1, 1, 2, 2, 0, 2, 0, 0, 1, 1, 0, 2, 0, 1, 2, 1, 1, 2, 0, 1, 1, 2, 2, 0, 2, 1, 1, 1, 1, 0, 0, 2, 1, 0, 1, 2, 1, 0, 0, 2, 0, 0, 0, 2, 1, 2, 0, 2, 1, 2, 1, 0, 1, 2, 0, 1, 0, 1, 1, 1, 1, 2, 2, 0, 1, 1, 1, 0, 1, 2, 2, 1, 0, 0, 2, 2, 2, 1, 0, 0, 2, 0, 1, 2, 1, 1, 2, 1, 0, 0, 1, 0, 2, 2, 2, 1, 1, 0, 1, 2, 1, 0, 1, 2, 1, 1, 0, 1, 1, 2, 1, 2, 0, 2, 0, 1, 2, 0, 1, 2, 0, 1, 2, 2, 0, 0, 1, 0, 1, 2, 1, 1, 2, 1, 1, 1, 2, 1, 2, 1, 1, 1, 2, 2, 2, 2, 2, 1, 1, 2, 2, 0, 1, 0, 1, 0, 2, 2, 2, 1, 2, 1, 1, 2, 1, 2, 1, 2, 1, 0, 1, 2, 1, 2, 1, 2, 0, 0, 1, 1, 1, 1, 2, 1, 2, 2, 1, 1, 1, 1, 2, 1, 0, 1, 2, 1, 2, 1, 1, 0, 2, 2, 1, 1, 1, 1, 2, 1, 1, 2, 0, 2, 0, 0, 2, 1, 1, 1, 2, 2, 0, 1, 2, 2, 2, 2, 2, 1, 1, 1, 2, 1, 1, 1, 0, 1, 1, 1, 0, 1, 1, 1, 0, 1, 2, 1, 1, 1, 1, 0, 2, 1, 0, 1, 2, 2, 2, 0, 2, 1, 1, 1, 1, 1, 0, 1, 1, 2, 1, 1, 2, 2, 2, 0, 0, 1, 0, 0, 1, 2, 0, 1, 0, 2, 1, 2, 2, 2, 1, 2, 1, 1, 1, 1, 1, 1, 2, 0, 2, 1, 1, 1, 1, 0, 1, 1, 2, 1, 2, 2, 1, 1, 1, 1, 1, 1, 1, 1, 2, 0, 0, 0, 1, 1, 2, 2, 1, 0, 2, 2, 1, 1, 1, 1, 2, 1, 2, 1, 0, 2, 2, 0, 1, 2, 2, 1, 2, 2, 2, 2, 1, 2, 2, 1, 2, 2, 1, 1, 2, 2, 0, 1, 0, 1, 0, 2, 2, 1, 2, 1, 1, 1, 1, 0, 2, 1, 1, 1, 2, 1, 1, 2, 1, 2, 0, 2, 0, 1, 1, 1, 2, 1, 1, 2, 1, 2, 2, 2, 2, 1, 2, 2, 2, 1, 1, 2, 1, 1, 0, 2, 2, 2, 1, 1, 2, 0, 1, 1, 0, 1, 1, 1, 2, 1, 1, 1, 0, 2, 1, 2, 1, 0, 2, 2, 1, 0, 0, 1, 2, 1, 2, 1, 1, 1, 1, 0, 1, 0, 2, 0, 2, 2, 1, 2, 1, 1, 1, 2, 2, 0, 0, 2, 1, 1, 1, 1, 2, 1, 2, 2, 2, 1, 1, 0, 1, 2, 1, 0, 2, 0, 1, 1, 1, 0]\n"
     ]
    }
   ],
   "source": [
    "y_pred = predictor.predict(x_test)\n",
    "print(y_pred)"
   ]
  },
  {
   "cell_type": "code",
   "execution_count": 21,
   "id": "ef89f09d",
   "metadata": {
    "execution": {
     "iopub.execute_input": "2022-04-26T04:21:12.311266Z",
     "iopub.status.busy": "2022-04-26T04:21:12.311000Z",
     "iopub.status.idle": "2022-04-26T04:21:12.382574Z",
     "shell.execute_reply": "2022-04-26T04:21:12.381866Z"
    },
    "papermill": {
     "duration": 3.357188,
     "end_time": "2022-04-26T04:21:12.384270",
     "exception": false,
     "start_time": "2022-04-26T04:21:09.027082",
     "status": "completed"
    },
    "tags": []
   },
   "outputs": [
    {
     "name": "stdout",
     "output_type": "stream",
     "text": [
      "              precision    recall  f1-score   support\n",
      "\n",
      "           0       0.56      0.47      0.51       364\n",
      "           1       0.74      0.78      0.76       659\n",
      "           2       0.73      0.76      0.74       550\n",
      "\n",
      "    accuracy                           0.70      1573\n",
      "   macro avg       0.68      0.67      0.67      1573\n",
      "weighted avg       0.69      0.70      0.70      1573\n",
      "\n"
     ]
    }
   ],
   "source": [
    "from sklearn.metrics import classification_report\n",
    "print(classification_report(y_test,y_pred))"
   ]
  },
  {
   "cell_type": "code",
   "execution_count": 22,
   "id": "0f95f372",
   "metadata": {
    "execution": {
     "iopub.execute_input": "2022-04-26T04:21:19.188454Z",
     "iopub.status.busy": "2022-04-26T04:21:19.188200Z",
     "iopub.status.idle": "2022-04-26T04:21:19.668603Z",
     "shell.execute_reply": "2022-04-26T04:21:19.667918Z"
    },
    "papermill": {
     "duration": 4.026222,
     "end_time": "2022-04-26T04:21:19.670413",
     "exception": false,
     "start_time": "2022-04-26T04:21:15.644191",
     "status": "completed"
    },
    "tags": []
   },
   "outputs": [
    {
     "data": {
      "image/png": "[encoded data removed]",
      "text/plain": [
       "<Figure size 1152x1008 with 2 Axes>"
      ]
     },
     "metadata": {
      "needs_background": "light"
     },
     "output_type": "display_data"
    }
   ],
   "source": [
    "import seaborn as sns\n",
    "import matplotlib.pyplot as plt\n",
    "\n",
    "### Confusion Matrix\n",
    "from sklearn.metrics import confusion_matrix\n",
    "#predictions = model.predict(x_test, steps=len(x_test), verbose=0)\n",
    "#y_pred=model.predict(x_test)\n",
    "#y_pred = np.round(y_pred)\n",
    "\n",
    "\n",
    "cm = confusion_matrix(y_test, y_pred)\n",
    "\n",
    "## Get Class Labels\n",
    "labels = 3\n",
    "#[0,1,2,3,4,5]_\n",
    "class_names = categories \n",
    "\n",
    "# Plot confusion matrix in a beautiful manner\n",
    "fig = plt.figure(figsize=(16, 14))\n",
    "ax= plt.subplot()\n",
    "sns.heatmap(cm, annot=True, ax = ax, fmt = 'g'); #annot=True to annotate cells\n",
    "# labels, title and ticks\n",
    "ax.set_xlabel('Predicted', fontsize=20)\n",
    "ax.xaxis.set_label_position('bottom')\n",
    "plt.xticks(rotation=90)\n",
    "ax.xaxis.set_ticklabels(class_names, fontsize = 10)\n",
    "ax.xaxis.tick_bottom()\n",
    "\n",
    "ax.set_ylabel('True', fontsize=20)\n",
    "ax.yaxis.set_ticklabels(class_names, fontsize = 10)\n",
    "plt.yticks(rotation=0)\n",
    "\n",
    "plt.title('Refined Confusion Matrix', fontsize=20)\n",
    "\n",
    "plt.savefig('ConMat24.png')\n",
    "plt.show()\n"
   ]
  }
 ],
 "metadata": {
  "kernelspec": {
   "display_name": "Python 3",
   "language": "python",
   "name": "python3"
  },
  "language_info": {
   "codemirror_mode": {
    "name": "ipython",
    "version": 3
   },
   "file_extension": ".py",
   "mimetype": "text/x-python",
   "name": "python",
   "nbconvert_exporter": "python",
   "pygments_lexer": "ipython3",
   "version": "3.7.12"
  },
  "papermill": {
   "default_parameters": {},
   "duration": 1615.134892,
   "end_time": "2022-04-26T04:21:26.320274",
   "environment_variables": {},
   "exception": null,
   "input_path": "__notebook__.ipynb",
   "output_path": "__notebook__.ipynb",
   "parameters": {},
   "start_time": "2022-04-26T03:54:31.185382",
   "version": "2.3.4"
  },
  "widgets": {
   "application/vnd.jupyter.widget-state+json": {
    "state": {
     "0b4b6214449845c39bb5b01899374d9d": {
      "model_module": "@jupyter-widgets/controls",
      "model_module_version": "1.5.0",
      "model_name": "DescriptionStyleModel",
      "state": {
       "_model_module": "@jupyter-widgets/controls",
       "_model_module_version": "1.5.0",
       "_model_name": "DescriptionStyleModel",
       "_view_count": null,
       "_view_module": "@jupyter-widgets/base",
       "_view_module_version": "1.2.0",
       "_view_name": "StyleView",
       "description_width": ""
      }
     },
     "10bbbf0a2d534208915395ed0aa5171a": {
      "model_module": "@jupyter-widgets/controls",
      "model_module_version": "1.5.0",
      "model_name": "ProgressStyleModel",
      "state": {
       "_model_module": "@jupyter-widgets/controls",
       "_model_module_version": "1.5.0",
       "_model_name": "ProgressStyleModel",
       "_view_count": null,
       "_view_module": "@jupyter-widgets/base",
       "_view_module_version": "1.2.0",
       "_view_name": "StyleView",
       "bar_color": null,
       "description_width": ""
      }
     },
     "13339e37d4364102a050cf20d9d78abe": {
      "model_module": "@jupyter-widgets/controls",
      "model_module_version": "1.5.0",
      "model_name": "DescriptionStyleModel",
      "state": {
       "_model_module": "@jupyter-widgets/controls",
       "_model_module_version": "1.5.0",
       "_model_name": "DescriptionStyleModel",
       "_view_count": null,
       "_view_module": "@jupyter-widgets/base",
       "_view_module_version": "1.2.0",
       "_view_name": "StyleView",
       "description_width": ""
      }
     },
     "1cb8d5e348844cc4a87b71fb12865238": {
      "model_module": "@jupyter-widgets/base",
      "model_module_version": "1.2.0",
      "model_name": "LayoutModel",
      "state": {
       "_model_module": "@jupyter-widgets/base",
       "_model_module_version": "1.2.0",
       "_model_name": "LayoutModel",
       "_view_count": null,
       "_view_module": "@jupyter-widgets/base",
       "_view_module_version": "1.2.0",
       "_view_name": "LayoutView",
       "align_content": null,
       "align_items": null,
       "align_self": null,
       "border": null,
       "bottom": null,
       "display": null,
       "flex": null,
       "flex_flow": null,
       "grid_area": null,
       "grid_auto_columns": null,
       "grid_auto_flow": null,
       "grid_auto_rows": null,
       "grid_column": null,
       "grid_gap": null,
       "grid_row": null,
       "grid_template_areas": null,
       "grid_template_columns": null,
       "grid_template_rows": null,
       "height": null,
       "justify_content": null,
       "justify_items": null,
       "left": null,
       "margin": null,
       "max_height": null,
       "max_width": null,
       "min_height": null,
       "min_width": null,
       "object_fit": null,
       "object_position": null,
       "order": null,
       "overflow": null,
       "overflow_x": null,
       "overflow_y": null,
       "padding": null,
       "right": null,
       "top": null,
       "visibility": null,
       "width": null
      }
     },
     "1ec723882d00444194b2008dd134c079": {
      "model_module": "@jupyter-widgets/base",
      "model_module_version": "1.2.0",
      "model_name": "LayoutModel",
      "state": {
       "_model_module": "@jupyter-widgets/base",
       "_model_module_version": "1.2.0",
       "_model_name": "LayoutModel",
       "_view_count": null,
       "_view_module": "@jupyter-widgets/base",
       "_view_module_version": "1.2.0",
       "_view_name": "LayoutView",
       "align_content": null,
       "align_items": null,
       "align_self": null,
       "border": null,
       "bottom": null,
       "display": null,
       "flex": null,
       "flex_flow": null,
       "grid_area": null,
       "grid_auto_columns": null,
       "grid_auto_flow": null,
       "grid_auto_rows": null,
       "grid_column": null,
       "grid_gap": null,
       "grid_row": null,
       "grid_template_areas": null,
       "grid_template_columns": null,
       "grid_template_rows": null,
       "height": null,
       "justify_content": null,
       "justify_items": null,
       "left": null,
       "margin": null,
       "max_height": null,
       "max_width": null,
       "min_height": null,
       "min_width": null,
       "object_fit": null,
       "object_position": null,
       "order": null,
       "overflow": null,
       "overflow_x": null,
       "overflow_y": null,
       "padding": null,
       "right": null,
       "top": null,
       "visibility": null,
       "width": null
      }
     },
     "22e5f8f3fd194456958781a8063ba356": {
      "model_module": "@jupyter-widgets/controls",
      "model_module_version": "1.5.0",
      "model_name": "HTMLModel",
      "state": {
       "_dom_classes": [],
       "_model_module": "@jupyter-widgets/controls",
       "_model_module_version": "1.5.0",
       "_model_name": "HTMLModel",
       "_view_count": null,
       "_view_module": "@jupyter-widgets/controls",
       "_view_module_version": "1.5.0",
       "_view_name": "HTMLView",
       "description": "",
       "description_tooltip": null,
       "layout": "IPY_MODEL_f1abd02e6e924bbe990ef5198e1c4618",
       "placeholder": "​",
       "style": "IPY_MODEL_13339e37d4364102a050cf20d9d78abe",
       "value": "Downloading: 100%"
      }
     },
     "253c40bcbd9f49ff9981dabc39212553": {
      "model_module": "@jupyter-widgets/controls",
      "model_module_version": "1.5.0",
      "model_name": "DescriptionStyleModel",
      "state": {
       "_model_module": "@jupyter-widgets/controls",
       "_model_module_version": "1.5.0",
       "_model_name": "DescriptionStyleModel",
       "_view_count": null,
       "_view_module": "@jupyter-widgets/base",
       "_view_module_version": "1.2.0",
       "_view_name": "StyleView",
       "description_width": ""
      }
     },
     "2554cd1ab13d4c709cd807679f642c5d": {
      "model_module": "@jupyter-widgets/base",
      "model_module_version": "1.2.0",
      "model_name": "LayoutModel",
      "state": {
       "_model_module": "@jupyter-widgets/base",
       "_model_module_version": "1.2.0",
       "_model_name": "LayoutModel",
       "_view_count": null,
       "_view_module": "@jupyter-widgets/base",
       "_view_module_version": "1.2.0",
       "_view_name": "LayoutView",
       "align_content": null,
       "align_items": null,
       "align_self": null,
       "border": null,
       "bottom": null,
       "display": null,
       "flex": null,
       "flex_flow": null,
       "grid_area": null,
       "grid_auto_columns": null,
       "grid_auto_flow": null,
       "grid_auto_rows": null,
       "grid_column": null,
       "grid_gap": null,
       "grid_row": null,
       "grid_template_areas": null,
       "grid_template_columns": null,
       "grid_template_rows": null,
       "height": null,
       "justify_content": null,
       "justify_items": null,
       "left": null,
       "margin": null,
       "max_height": null,
       "max_width": null,
       "min_height": null,
       "min_width": null,
       "object_fit": null,
       "object_position": null,
       "order": null,
       "overflow": null,
       "overflow_x": null,
       "overflow_y": null,
       "padding": null,
       "right": null,
       "top": null,
       "visibility": null,
       "width": null
      }
     },
     "2f67088f1973431898e487de656b1fd4": {
      "model_module": "@jupyter-widgets/controls",
      "model_module_version": "1.5.0",
      "model_name": "HTMLModel",
      "state": {
       "_dom_classes": [],
       "_model_module": "@jupyter-widgets/controls",
       "_model_module_version": "1.5.0",
       "_model_name": "HTMLModel",
       "_view_count": null,
       "_view_module": "@jupyter-widgets/controls",
       "_view_module_version": "1.5.0",
       "_view_name": "HTMLView",
       "description": "",
       "description_tooltip": null,
       "layout": "IPY_MODEL_d58797ea5c0549f4bb3b00431124b9e4",
       "placeholder": "​",
       "style": "IPY_MODEL_dcc8e9fd5e0549ff90789a50dfd8eb45",
       "value": " 2.24M/2.24M [00:00&lt;00:00, 4.74MB/s]"
      }
     },
     "392db57597124a7a9743c4bdbae3bc49": {
      "model_module": "@jupyter-widgets/controls",
      "model_module_version": "1.5.0",
      "model_name": "HBoxModel",
      "state": {
       "_dom_classes": [],
       "_model_module": "@jupyter-widgets/controls",
       "_model_module_version": "1.5.0",
       "_model_name": "HBoxModel",
       "_view_count": null,
       "_view_module": "@jupyter-widgets/controls",
       "_view_module_version": "1.5.0",
       "_view_name": "HBoxView",
       "box_style": "",
       "children": [
        "IPY_MODEL_9b6368ce3bd641c89057e7357ba636f9",
        "IPY_MODEL_c244ad25608842e182606e4049dd6a80",
        "IPY_MODEL_fe33b0402353434f85f0ec848b439825"
       ],
       "layout": "IPY_MODEL_c04d3377465147fe988c1cbda34729d3"
      }
     },
     "3a61002129f64543aca847c73be59d2a": {
      "model_module": "@jupyter-widgets/controls",
      "model_module_version": "1.5.0",
      "model_name": "DescriptionStyleModel",
      "state": {
       "_model_module": "@jupyter-widgets/controls",
       "_model_module_version": "1.5.0",
       "_model_name": "DescriptionStyleModel",
       "_view_count": null,
       "_view_module": "@jupyter-widgets/base",
       "_view_module_version": "1.2.0",
       "_view_name": "StyleView",
       "description_width": ""
      }
     },
     "40db66d65f114222b68fe57516278d42": {
      "model_module": "@jupyter-widgets/base",
      "model_module_version": "1.2.0",
      "model_name": "LayoutModel",
      "state": {
       "_model_module": "@jupyter-widgets/base",
       "_model_module_version": "1.2.0",
       "_model_name": "LayoutModel",
       "_view_count": null,
       "_view_module": "@jupyter-widgets/base",
       "_view_module_version": "1.2.0",
       "_view_name": "LayoutView",
       "align_content": null,
       "align_items": null,
       "align_self": null,
       "border": null,
       "bottom": null,
       "display": null,
       "flex": null,
       "flex_flow": null,
       "grid_area": null,
       "grid_auto_columns": null,
       "grid_auto_flow": null,
       "grid_auto_rows": null,
       "grid_column": null,
       "grid_gap": null,
       "grid_row": null,
       "grid_template_areas": null,
       "grid_template_columns": null,
       "grid_template_rows": null,
       "height": null,
       "justify_content": null,
       "justify_items": null,
       "left": null,
       "margin": null,
       "max_height": null,
       "max_width": null,
       "min_height": null,
       "min_width": null,
       "object_fit": null,
       "object_position": null,
       "order": null,
       "overflow": null,
       "overflow_x": null,
       "overflow_y": null,
       "padding": null,
       "right": null,
       "top": null,
       "visibility": null,
       "width": null
      }
     },
     "487c9afcfc074beebcc0116b93e24d55": {
      "model_module": "@jupyter-widgets/base",
      "model_module_version": "1.2.0",
      "model_name": "LayoutModel",
      "state": {
       "_model_module": "@jupyter-widgets/base",
       "_model_module_version": "1.2.0",
       "_model_name": "LayoutModel",
       "_view_count": null,
       "_view_module": "@jupyter-widgets/base",
       "_view_module_version": "1.2.0",
       "_view_name": "LayoutView",
       "align_content": null,
       "align_items": null,
       "align_self": null,
       "border": null,
       "bottom": null,
       "display": null,
       "flex": null,
       "flex_flow": null,
       "grid_area": null,
       "grid_auto_columns": null,
       "grid_auto_flow": null,
       "grid_auto_rows": null,
       "grid_column": null,
       "grid_gap": null,
       "grid_row": null,
       "grid_template_areas": null,
       "grid_template_columns": null,
       "grid_template_rows": null,
       "height": null,
       "justify_content": null,
       "justify_items": null,
       "left": null,
       "margin": null,
       "max_height": null,
       "max_width": null,
       "min_height": null,
       "min_width": null,
       "object_fit": null,
       "object_position": null,
       "order": null,
       "overflow": null,
       "overflow_x": null,
       "overflow_y": null,
       "padding": null,
       "right": null,
       "top": null,
       "visibility": null,
       "width": null
      }
     },
     "5d01a1d540884e38822fe3fa30e50784": {
      "model_module": "@jupyter-widgets/controls",
      "model_module_version": "1.5.0",
      "model_name": "ProgressStyleModel",
      "state": {
       "_model_module": "@jupyter-widgets/controls",
       "_model_module_version": "1.5.0",
       "_model_name": "ProgressStyleModel",
       "_view_count": null,
       "_view_module": "@jupyter-widgets/base",
       "_view_module_version": "1.2.0",
       "_view_name": "StyleView",
       "bar_color": null,
       "description_width": ""
      }
     },
     "7b1198d962584a9bbf8036533bc58134": {
      "model_module": "@jupyter-widgets/controls",
      "model_module_version": "1.5.0",
      "model_name": "FloatProgressModel",
      "state": {
       "_dom_classes": [],
       "_model_module": "@jupyter-widgets/controls",
       "_model_module_version": "1.5.0",
       "_model_name": "FloatProgressModel",
       "_view_count": null,
       "_view_module": "@jupyter-widgets/controls",
       "_view_module_version": "1.5.0",
       "_view_name": "ProgressView",
       "bar_style": "success",
       "description": "",
       "description_tooltip": null,
       "layout": "IPY_MODEL_40db66d65f114222b68fe57516278d42",
       "max": 975649908.0,
       "min": 0.0,
       "orientation": "horizontal",
       "style": "IPY_MODEL_c31c116f7d294398970605d34a262bd0",
       "value": 975649908.0
      }
     },
     "91347228be804f409c790bbe3dda7d4d": {
      "model_module": "@jupyter-widgets/controls",
      "model_module_version": "1.5.0",
      "model_name": "HBoxModel",
      "state": {
       "_dom_classes": [],
       "_model_module": "@jupyter-widgets/controls",
       "_model_module_version": "1.5.0",
       "_model_name": "HBoxModel",
       "_view_count": null,
       "_view_module": "@jupyter-widgets/controls",
       "_view_module_version": "1.5.0",
       "_view_name": "HBoxView",
       "box_style": "",
       "children": [
        "IPY_MODEL_91b93af24c6f4240b1b51f99c4c0fa1a",
        "IPY_MODEL_7b1198d962584a9bbf8036533bc58134",
        "IPY_MODEL_973e5082c9f04f909b0eb7a31be3bb04"
       ],
       "layout": "IPY_MODEL_487c9afcfc074beebcc0116b93e24d55"
      }
     },
     "91b93af24c6f4240b1b51f99c4c0fa1a": {
      "model_module": "@jupyter-widgets/controls",
      "model_module_version": "1.5.0",
      "model_name": "HTMLModel",
      "state": {
       "_dom_classes": [],
       "_model_module": "@jupyter-widgets/controls",
       "_model_module_version": "1.5.0",
       "_model_name": "HTMLModel",
       "_view_count": null,
       "_view_module": "@jupyter-widgets/controls",
       "_view_module_version": "1.5.0",
       "_view_name": "HTMLView",
       "description": "",
       "description_tooltip": null,
       "layout": "IPY_MODEL_fccc77beda38496dbe12e5c018299035",
       "placeholder": "​",
       "style": "IPY_MODEL_0b4b6214449845c39bb5b01899374d9d",
       "value": "Downloading: 100%"
      }
     },
     "95e48929510d4da99a55d4333bbdb6d1": {
      "model_module": "@jupyter-widgets/controls",
      "model_module_version": "1.5.0",
      "model_name": "DescriptionStyleModel",
      "state": {
       "_model_module": "@jupyter-widgets/controls",
       "_model_module_version": "1.5.0",
       "_model_name": "DescriptionStyleModel",
       "_view_count": null,
       "_view_module": "@jupyter-widgets/base",
       "_view_module_version": "1.2.0",
       "_view_name": "StyleView",
       "description_width": ""
      }
     },
     "973e5082c9f04f909b0eb7a31be3bb04": {
      "model_module": "@jupyter-widgets/controls",
      "model_module_version": "1.5.0",
      "model_name": "HTMLModel",
      "state": {
       "_dom_classes": [],
       "_model_module": "@jupyter-widgets/controls",
       "_model_module_version": "1.5.0",
       "_model_name": "HTMLModel",
       "_view_count": null,
       "_view_module": "@jupyter-widgets/controls",
       "_view_module_version": "1.5.0",
       "_view_name": "HTMLView",
       "description": "",
       "description_tooltip": null,
       "layout": "IPY_MODEL_bfb7042838154279991f1f94f2c95d64",
       "placeholder": "​",
       "style": "IPY_MODEL_3a61002129f64543aca847c73be59d2a",
       "value": " 976M/976M [00:32&lt;00:00, 31.5MB/s]"
      }
     },
     "9b6368ce3bd641c89057e7357ba636f9": {
      "model_module": "@jupyter-widgets/controls",
      "model_module_version": "1.5.0",
      "model_name": "HTMLModel",
      "state": {
       "_dom_classes": [],
       "_model_module": "@jupyter-widgets/controls",
       "_model_module_version": "1.5.0",
       "_model_name": "HTMLModel",
       "_view_count": null,
       "_view_module": "@jupyter-widgets/controls",
       "_view_module_version": "1.5.0",
       "_view_name": "HTMLView",
       "description": "",
       "description_tooltip": null,
       "layout": "IPY_MODEL_2554cd1ab13d4c709cd807679f642c5d",
       "placeholder": "​",
       "style": "IPY_MODEL_253c40bcbd9f49ff9981dabc39212553",
       "value": "Downloading: 100%"
      }
     },
     "bfb7042838154279991f1f94f2c95d64": {
      "model_module": "@jupyter-widgets/base",
      "model_module_version": "1.2.0",
      "model_name": "LayoutModel",
      "state": {
       "_model_module": "@jupyter-widgets/base",
       "_model_module_version": "1.2.0",
       "_model_name": "LayoutModel",
       "_view_count": null,
       "_view_module": "@jupyter-widgets/base",
       "_view_module_version": "1.2.0",
       "_view_name": "LayoutView",
       "align_content": null,
       "align_items": null,
       "align_self": null,
       "border": null,
       "bottom": null,
       "display": null,
       "flex": null,
       "flex_flow": null,
       "grid_area": null,
       "grid_auto_columns": null,
       "grid_auto_flow": null,
       "grid_auto_rows": null,
       "grid_column": null,
       "grid_gap": null,
       "grid_row": null,
       "grid_template_areas": null,
       "grid_template_columns": null,
       "grid_template_rows": null,
       "height": null,
       "justify_content": null,
       "justify_items": null,
       "left": null,
       "margin": null,
       "max_height": null,
       "max_width": null,
       "min_height": null,
       "min_width": null,
       "object_fit": null,
       "object_position": null,
       "order": null,
       "overflow": null,
       "overflow_x": null,
       "overflow_y": null,
       "padding": null,
       "right": null,
       "top": null,
       "visibility": null,
       "width": null
      }
     },
     "c04d3377465147fe988c1cbda34729d3": {
      "model_module": "@jupyter-widgets/base",
      "model_module_version": "1.2.0",
      "model_name": "LayoutModel",
      "state": {
       "_model_module": "@jupyter-widgets/base",
       "_model_module_version": "1.2.0",
       "_model_name": "LayoutModel",
       "_view_count": null,
       "_view_module": "@jupyter-widgets/base",
       "_view_module_version": "1.2.0",
       "_view_name": "LayoutView",
       "align_content": null,
       "align_items": null,
       "align_self": null,
       "border": null,
       "bottom": null,
       "display": null,
       "flex": null,
       "flex_flow": null,
       "grid_area": null,
       "grid_auto_columns": null,
       "grid_auto_flow": null,
       "grid_auto_rows": null,
       "grid_column": null,
       "grid_gap": null,
       "grid_row": null,
       "grid_template_areas": null,
       "grid_template_columns": null,
       "grid_template_rows": null,
       "height": null,
       "justify_content": null,
       "justify_items": null,
       "left": null,
       "margin": null,
       "max_height": null,
       "max_width": null,
       "min_height": null,
       "min_width": null,
       "object_fit": null,
       "object_position": null,
       "order": null,
       "overflow": null,
       "overflow_x": null,
       "overflow_y": null,
       "padding": null,
       "right": null,
       "top": null,
       "visibility": null,
       "width": null
      }
     },
     "c244ad25608842e182606e4049dd6a80": {
      "model_module": "@jupyter-widgets/controls",
      "model_module_version": "1.5.0",
      "model_name": "FloatProgressModel",
      "state": {
       "_dom_classes": [],
       "_model_module": "@jupyter-widgets/controls",
       "_model_module_version": "1.5.0",
       "_model_name": "FloatProgressModel",
       "_view_count": null,
       "_view_module": "@jupyter-widgets/controls",
       "_view_module_version": "1.5.0",
       "_view_name": "ProgressView",
       "bar_style": "success",
       "description": "",
       "description_tooltip": null,
       "layout": "IPY_MODEL_1ec723882d00444194b2008dd134c079",
       "max": 491.0,
       "min": 0.0,
       "orientation": "horizontal",
       "style": "IPY_MODEL_5d01a1d540884e38822fe3fa30e50784",
       "value": 491.0
      }
     },
     "c31c116f7d294398970605d34a262bd0": {
      "model_module": "@jupyter-widgets/controls",
      "model_module_version": "1.5.0",
      "model_name": "ProgressStyleModel",
      "state": {
       "_model_module": "@jupyter-widgets/controls",
       "_model_module_version": "1.5.0",
       "_model_name": "ProgressStyleModel",
       "_view_count": null,
       "_view_module": "@jupyter-widgets/base",
       "_view_module_version": "1.2.0",
       "_view_name": "StyleView",
       "bar_color": null,
       "description_width": ""
      }
     },
     "c41a1175958b4448b4dd45db3033af22": {
      "model_module": "@jupyter-widgets/controls",
      "model_module_version": "1.5.0",
      "model_name": "FloatProgressModel",
      "state": {
       "_dom_classes": [],
       "_model_module": "@jupyter-widgets/controls",
       "_model_module_version": "1.5.0",
       "_model_name": "FloatProgressModel",
       "_view_count": null,
       "_view_module": "@jupyter-widgets/controls",
       "_view_module_version": "1.5.0",
       "_view_name": "ProgressView",
       "bar_style": "success",
       "description": "",
       "description_tooltip": null,
       "layout": "IPY_MODEL_1cb8d5e348844cc4a87b71fb12865238",
       "max": 2237676.0,
       "min": 0.0,
       "orientation": "horizontal",
       "style": "IPY_MODEL_10bbbf0a2d534208915395ed0aa5171a",
       "value": 2237676.0
      }
     },
     "d58797ea5c0549f4bb3b00431124b9e4": {
      "model_module": "@jupyter-widgets/base",
      "model_module_version": "1.2.0",
      "model_name": "LayoutModel",
      "state": {
       "_model_module": "@jupyter-widgets/base",
       "_model_module_version": "1.2.0",
       "_model_name": "LayoutModel",
       "_view_count": null,
       "_view_module": "@jupyter-widgets/base",
       "_view_module_version": "1.2.0",
       "_view_name": "LayoutView",
       "align_content": null,
       "align_items": null,
       "align_self": null,
       "border": null,
       "bottom": null,
       "display": null,
       "flex": null,
       "flex_flow": null,
       "grid_area": null,
       "grid_auto_columns": null,
       "grid_auto_flow": null,
       "grid_auto_rows": null,
       "grid_column": null,
       "grid_gap": null,
       "grid_row": null,
       "grid_template_areas": null,
       "grid_template_columns": null,
       "grid_template_rows": null,
       "height": null,
       "justify_content": null,
       "justify_items": null,
       "left": null,
       "margin": null,
       "max_height": null,
       "max_width": null,
       "min_height": null,
       "min_width": null,
       "object_fit": null,
       "object_position": null,
       "order": null,
       "overflow": null,
       "overflow_x": null,
       "overflow_y": null,
       "padding": null,
       "right": null,
       "top": null,
       "visibility": null,
       "width": null
      }
     },
     "dcc8e9fd5e0549ff90789a50dfd8eb45": {
      "model_module": "@jupyter-widgets/controls",
      "model_module_version": "1.5.0",
      "model_name": "DescriptionStyleModel",
      "state": {
       "_model_module": "@jupyter-widgets/controls",
       "_model_module_version": "1.5.0",
       "_model_name": "DescriptionStyleModel",
       "_view_count": null,
       "_view_module": "@jupyter-widgets/base",
       "_view_module_version": "1.2.0",
       "_view_name": "StyleView",
       "description_width": ""
      }
     },
     "dfd4c0b39fdb4794968c843abb47bdbc": {
      "model_module": "@jupyter-widgets/base",
      "model_module_version": "1.2.0",
      "model_name": "LayoutModel",
      "state": {
       "_model_module": "@jupyter-widgets/base",
       "_model_module_version": "1.2.0",
       "_model_name": "LayoutModel",
       "_view_count": null,
       "_view_module": "@jupyter-widgets/base",
       "_view_module_version": "1.2.0",
       "_view_name": "LayoutView",
       "align_content": null,
       "align_items": null,
       "align_self": null,
       "border": null,
       "bottom": null,
       "display": null,
       "flex": null,
       "flex_flow": null,
       "grid_area": null,
       "grid_auto_columns": null,
       "grid_auto_flow": null,
       "grid_auto_rows": null,
       "grid_column": null,
       "grid_gap": null,
       "grid_row": null,
       "grid_template_areas": null,
       "grid_template_columns": null,
       "grid_template_rows": null,
       "height": null,
       "justify_content": null,
       "justify_items": null,
       "left": null,
       "margin": null,
       "max_height": null,
       "max_width": null,
       "min_height": null,
       "min_width": null,
       "object_fit": null,
       "object_position": null,
       "order": null,
       "overflow": null,
       "overflow_x": null,
       "overflow_y": null,
       "padding": null,
       "right": null,
       "top": null,
       "visibility": null,
       "width": null
      }
     },
     "e56071d24fbc48268023c65ec90cda91": {
      "model_module": "@jupyter-widgets/base",
      "model_module_version": "1.2.0",
      "model_name": "LayoutModel",
      "state": {
       "_model_module": "@jupyter-widgets/base",
       "_model_module_version": "1.2.0",
       "_model_name": "LayoutModel",
       "_view_count": null,
       "_view_module": "@jupyter-widgets/base",
       "_view_module_version": "1.2.0",
       "_view_name": "LayoutView",
       "align_content": null,
       "align_items": null,
       "align_self": null,
       "border": null,
       "bottom": null,
       "display": null,
       "flex": null,
       "flex_flow": null,
       "grid_area": null,
       "grid_auto_columns": null,
       "grid_auto_flow": null,
       "grid_auto_rows": null,
       "grid_column": null,
       "grid_gap": null,
       "grid_row": null,
       "grid_template_areas": null,
       "grid_template_columns": null,
       "grid_template_rows": null,
       "height": null,
       "justify_content": null,
       "justify_items": null,
       "left": null,
       "margin": null,
       "max_height": null,
       "max_width": null,
       "min_height": null,
       "min_width": null,
       "object_fit": null,
       "object_position": null,
       "order": null,
       "overflow": null,
       "overflow_x": null,
       "overflow_y": null,
       "padding": null,
       "right": null,
       "top": null,
       "visibility": null,
       "width": null
      }
     },
     "ed86f5a9d13546ddba2f4267196944a0": {
      "model_module": "@jupyter-widgets/controls",
      "model_module_version": "1.5.0",
      "model_name": "HBoxModel",
      "state": {
       "_dom_classes": [],
       "_model_module": "@jupyter-widgets/controls",
       "_model_module_version": "1.5.0",
       "_model_name": "HBoxModel",
       "_view_count": null,
       "_view_module": "@jupyter-widgets/controls",
       "_view_module_version": "1.5.0",
       "_view_name": "HBoxView",
       "box_style": "",
       "children": [
        "IPY_MODEL_22e5f8f3fd194456958781a8063ba356",
        "IPY_MODEL_c41a1175958b4448b4dd45db3033af22",
        "IPY_MODEL_2f67088f1973431898e487de656b1fd4"
       ],
       "layout": "IPY_MODEL_dfd4c0b39fdb4794968c843abb47bdbc"
      }
     },
     "f1abd02e6e924bbe990ef5198e1c4618": {
      "model_module": "@jupyter-widgets/base",
      "model_module_version": "1.2.0",
      "model_name": "LayoutModel",
      "state": {
       "_model_module": "@jupyter-widgets/base",
       "_model_module_version": "1.2.0",
       "_model_name": "LayoutModel",
       "_view_count": null,
       "_view_module": "@jupyter-widgets/base",
       "_view_module_version": "1.2.0",
       "_view_name": "LayoutView",
       "align_content": null,
       "align_items": null,
       "align_self": null,
       "border": null,
       "bottom": null,
       "display": null,
       "flex": null,
       "flex_flow": null,
       "grid_area": null,
       "grid_auto_columns": null,
       "grid_auto_flow": null,
       "grid_auto_rows": null,
       "grid_column": null,
       "grid_gap": null,
       "grid_row": null,
       "grid_template_areas": null,
       "grid_template_columns": null,
       "grid_template_rows": null,
       "height": null,
       "justify_content": null,
       "justify_items": null,
       "left": null,
       "margin": null,
       "max_height": null,
       "max_width": null,
       "min_height": null,
       "min_width": null,
       "object_fit": null,
       "object_position": null,
       "order": null,
       "overflow": null,
       "overflow_x": null,
       "overflow_y": null,
       "padding": null,
       "right": null,
       "top": null,
       "visibility": null,
       "width": null
      }
     },
     "fccc77beda38496dbe12e5c018299035": {
      "model_module": "@jupyter-widgets/base",
      "model_module_version": "1.2.0",
      "model_name": "LayoutModel",
      "state": {
       "_model_module": "@jupyter-widgets/base",
       "_model_module_version": "1.2.0",
       "_model_name": "LayoutModel",
       "_view_count": null,
       "_view_module": "@jupyter-widgets/base",
       "_view_module_version": "1.2.0",
       "_view_name": "LayoutView",
       "align_content": null,
       "align_items": null,
       "align_self": null,
       "border": null,
       "bottom": null,
       "display": null,
       "flex": null,
       "flex_flow": null,
       "grid_area": null,
       "grid_auto_columns": null,
       "grid_auto_flow": null,
       "grid_auto_rows": null,
       "grid_column": null,
       "grid_gap": null,
       "grid_row": null,
       "grid_template_areas": null,
       "grid_template_columns": null,
       "grid_template_rows": null,
       "height": null,
       "justify_content": null,
       "justify_items": null,
       "left": null,
       "margin": null,
       "max_height": null,
       "max_width": null,
       "min_height": null,
       "min_width": null,
       "object_fit": null,
       "object_position": null,
       "order": null,
       "overflow": null,
       "overflow_x": null,
       "overflow_y": null,
       "padding": null,
       "right": null,
       "top": null,
       "visibility": null,
       "width": null
      }
     },
     "fe33b0402353434f85f0ec848b439825": {
      "model_module": "@jupyter-widgets/controls",
      "model_module_version": "1.5.0",
      "model_name": "HTMLModel",
      "state": {
       "_dom_classes": [],
       "_model_module": "@jupyter-widgets/controls",
       "_model_module_version": "1.5.0",
       "_model_name": "HTMLModel",
       "_view_count": null,
       "_view_module": "@jupyter-widgets/controls",
       "_view_module_version": "1.5.0",
       "_view_name": "HTMLView",
       "description": "",
       "description_tooltip": null,
       "layout": "IPY_MODEL_e56071d24fbc48268023c65ec90cda91",
       "placeholder": "​",
       "style": "IPY_MODEL_95e48929510d4da99a55d4333bbdb6d1",
       "value": " 491/491 [00:00&lt;00:00, 13.7kB/s]"
      }
     }
    },
    "version_major": 2,
    "version_minor": 0
   }
  }
 },
 "nbformat": 4,
 "nbformat_minor": 5
}
