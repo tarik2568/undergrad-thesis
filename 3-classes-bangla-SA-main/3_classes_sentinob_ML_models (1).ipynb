{
  "nbformat": 4,
  "nbformat_minor": 0,
  "metadata": {
    "colab": {
      "name": "3 classes sentinob ML models.ipynb",
      "provenance": [],
      "collapsed_sections": []
    },
    "kernelspec": {
      "name": "python3",
      "display_name": "Python 3"
    },
    "language_info": {
      "name": "python"
    }
  },
  "cells": [
    {
      "cell_type": "code",
      "execution_count": 1,
      "metadata": {
        "id": "SjeOxTHPyX5k"
      },
      "outputs": [],
      "source": [
        "import pandas as pd\n",
        "import seaborn as sns\n",
        "import re,json,nltk\n",
        "import numpy as np\n",
        "import matplotlib.pyplot as plt\n",
        "%matplotlib inline\n",
        "import tensorflow as tf\n",
        "\n",
        "from sklearn.linear_model import SGDClassifier\n",
        "from sklearn.linear_model import LogisticRegression, LogisticRegressionCV\n",
        "from sklearn.tree import DecisionTreeClassifier\n",
        "from sklearn.neighbors import KNeighborsClassifier\n",
        "from sklearn.ensemble import RandomForestClassifier, AdaBoostClassifier\n",
        "from sklearn.naive_bayes import MultinomialNB\n",
        "from sklearn.svm import SVC\n",
        "from sklearn.model_selection import GridSearchCV\n",
        "from xgboost import XGBClassifier\n",
        "\n",
        "from sklearn.pipeline import Pipeline\n",
        "from sklearn.feature_extraction.text import TfidfVectorizer, CountVectorizer, TfidfTransformer\n",
        "from sklearn.metrics import classification_report\n",
        "from sklearn.model_selection import train_test_split\n",
        "\n",
        "from sklearn.metrics import precision_score, recall_score, f1_score, accuracy_score\n",
        "import warnings\n",
        "warnings.filterwarnings(\"ignore\")"
      ]
    },
    {
      "cell_type": "code",
      "source": [
        "from google.colab import drive\n",
        "drive.mount('/content/drive')"
      ],
      "metadata": {
        "id": "fsmpggesJM0O",
        "colab": {
          "base_uri": "https://localhost:8080/"
        },
        "outputId": "eea42a0b-602d-4830-e7af-476d68d4b400"
      },
      "execution_count": 2,
      "outputs": [
        {
          "output_type": "stream",
          "name": "stdout",
          "text": [
            "Mounted at /content/drive\n"
          ]
        }
      ]
    },
    {
      "cell_type": "code",
      "source": [
        "df=pd.read_excel('/content/drive/MyDrive/thesis/3 classes/3_classes_Bert_Preprocessed__Dataset.xlsx')\n",
        "df.info()\n"
      ],
      "metadata": {
        "id": "9lG3sIOoynXz",
        "colab": {
          "base_uri": "https://localhost:8080/"
        },
        "outputId": "293a93e6-4306-48de-ff4a-ebb71fbb190f"
      },
      "execution_count": 3,
      "outputs": [
        {
          "output_type": "stream",
          "name": "stdout",
          "text": [
            "<class 'pandas.core.frame.DataFrame'>\n",
            "RangeIndex: 15728 entries, 0 to 15727\n",
            "Data columns (total 5 columns):\n",
            " #   Column      Non-Null Count  Dtype \n",
            "---  ------      --------------  ----- \n",
            " 0   Unnamed: 0  15728 non-null  int64 \n",
            " 1   Data        15728 non-null  object\n",
            " 2   Label       15728 non-null  int64 \n",
            " 3   Token       15728 non-null  object\n",
            " 4   Token_ID    15728 non-null  object\n",
            "dtypes: int64(2), object(3)\n",
            "memory usage: 614.5+ KB\n"
          ]
        }
      ]
    },
    {
      "cell_type": "code",
      "source": [
        "df.head()"
      ],
      "metadata": {
        "id": "-4Ckkg1azIgh",
        "colab": {
          "base_uri": "https://localhost:8080/",
          "height": 206
        },
        "outputId": "d19d6311-51f0-421e-db0a-887523cd1cfb"
      },
      "execution_count": 4,
      "outputs": [
        {
          "output_type": "execute_result",
          "data": {
            "text/plain": [
              "   Unnamed: 0                                     Data  Label  \\\n",
              "0        4032       এক মাস সেহেরি খাইয়া রোজা রাহা সোজা      1   \n",
              "1        3587           ভাই আমাদের মাতৃভুমিটা এত সুনদর      1   \n",
              "2        8968         জানুয়ারীতে কেন  ঐ সময় স্পেশাল কি      1   \n",
              "3          95  তোরা কখন কাচা রসুন চাবিয়ে খেয়ে দেখেচিস       2   \n",
              "4        1163   হ্যাঁ হ্যাঁ হ্যাঁ হ্যাঁ জীবন টা বেদনা       2   \n",
              "\n",
              "                                               Token  \\\n",
              "0  ['এক', 'মাস', 'সে', '##হের', '##ি', '[UNK]', '...   \n",
              "1  ['ভাই', 'আমাদের', 'মাতৃ', '##ভু', '##মিট', '##...   \n",
              "2    ['[UNK]', 'কেন', 'ঐ', '[UNK]', 'স্পেশাল', 'কি']   \n",
              "3  ['তোরা', 'কখন', 'কাচা', 'রসুন', '[UNK]', '[UNK...   \n",
              "4  ['হ্যাঁ', 'হ্যাঁ', 'হ্যাঁ', 'হ্যাঁ', 'জীবন', '...   \n",
              "\n",
              "                                            Token_ID  \n",
              "0  [788, 1293, 809, 2685, 416, 1, 12209, 3462, 41...  \n",
              "1  [1352, 1029, 6563, 12357, 12290, 415, 1284, 36...  \n",
              "2                      [1, 1107, 218, 1, 10225, 817]  \n",
              "3  [5712, 1394, 30306, 18173, 1, 1, 1172, 2408, 417]  \n",
              "4        [2154, 2154, 2154, 2154, 1537, 1632, 10018]  "
            ],
            "text/html": [
              "\n",
              "  <div id=\"df-ae39d88f-a133-4800-98ff-7c62a46b8414\">\n",
              "    <div class=\"colab-df-container\">\n",
              "      <div>\n",
              "<style scoped>\n",
              "    .dataframe tbody tr th:only-of-type {\n",
              "        vertical-align: middle;\n",
              "    }\n",
              "\n",
              "    .dataframe tbody tr th {\n",
              "        vertical-align: top;\n",
              "    }\n",
              "\n",
              "    .dataframe thead th {\n",
              "        text-align: right;\n",
              "    }\n",
              "</style>\n",
              "<table border=\"1\" class=\"dataframe\">\n",
              "  <thead>\n",
              "    <tr style=\"text-align: right;\">\n",
              "      <th></th>\n",
              "      <th>Unnamed: 0</th>\n",
              "      <th>Data</th>\n",
              "      <th>Label</th>\n",
              "      <th>Token</th>\n",
              "      <th>Token_ID</th>\n",
              "    </tr>\n",
              "  </thead>\n",
              "  <tbody>\n",
              "    <tr>\n",
              "      <th>0</th>\n",
              "      <td>4032</td>\n",
              "      <td>এক মাস সেহেরি খাইয়া রোজা রাহা সোজা</td>\n",
              "      <td>1</td>\n",
              "      <td>['এক', 'মাস', 'সে', '##হের', '##ি', '[UNK]', '...</td>\n",
              "      <td>[788, 1293, 809, 2685, 416, 1, 12209, 3462, 41...</td>\n",
              "    </tr>\n",
              "    <tr>\n",
              "      <th>1</th>\n",
              "      <td>3587</td>\n",
              "      <td>ভাই আমাদের মাতৃভুমিটা এত সুনদর</td>\n",
              "      <td>1</td>\n",
              "      <td>['ভাই', 'আমাদের', 'মাতৃ', '##ভু', '##মিট', '##...</td>\n",
              "      <td>[1352, 1029, 6563, 12357, 12290, 415, 1284, 36...</td>\n",
              "    </tr>\n",
              "    <tr>\n",
              "      <th>2</th>\n",
              "      <td>8968</td>\n",
              "      <td>জানুয়ারীতে কেন  ঐ সময় স্পেশাল কি</td>\n",
              "      <td>1</td>\n",
              "      <td>['[UNK]', 'কেন', 'ঐ', '[UNK]', 'স্পেশাল', 'কি']</td>\n",
              "      <td>[1, 1107, 218, 1, 10225, 817]</td>\n",
              "    </tr>\n",
              "    <tr>\n",
              "      <th>3</th>\n",
              "      <td>95</td>\n",
              "      <td>তোরা কখন কাচা রসুন চাবিয়ে খেয়ে দেখেচিস</td>\n",
              "      <td>2</td>\n",
              "      <td>['তোরা', 'কখন', 'কাচা', 'রসুন', '[UNK]', '[UNK...</td>\n",
              "      <td>[5712, 1394, 30306, 18173, 1, 1, 1172, 2408, 417]</td>\n",
              "    </tr>\n",
              "    <tr>\n",
              "      <th>4</th>\n",
              "      <td>1163</td>\n",
              "      <td>হ্যাঁ হ্যাঁ হ্যাঁ হ্যাঁ জীবন টা বেদনা</td>\n",
              "      <td>2</td>\n",
              "      <td>['হ্যাঁ', 'হ্যাঁ', 'হ্যাঁ', 'হ্যাঁ', 'জীবন', '...</td>\n",
              "      <td>[2154, 2154, 2154, 2154, 1537, 1632, 10018]</td>\n",
              "    </tr>\n",
              "  </tbody>\n",
              "</table>\n",
              "</div>\n",
              "      <button class=\"colab-df-convert\" onclick=\"convertToInteractive('df-ae39d88f-a133-4800-98ff-7c62a46b8414')\"\n",
              "              title=\"Convert this dataframe to an interactive table.\"\n",
              "              style=\"display:none;\">\n",
              "        \n",
              "  <svg xmlns=\"http://www.w3.org/2000/svg\" height=\"24px\"viewBox=\"0 0 24 24\"\n",
              "       width=\"24px\">\n",
              "    <path d=\"M0 0h24v24H0V0z\" fill=\"none\"/>\n",
              "    <path d=\"M18.56 5.44l.94 2.06.94-2.06 2.06-.94-2.06-.94-.94-2.06-.94 2.06-2.06.94zm-11 1L8.5 8.5l.94-2.06 2.06-.94-2.06-.94L8.5 2.5l-.94 2.06-2.06.94zm10 10l.94 2.06.94-2.06 2.06-.94-2.06-.94-.94-2.06-.94 2.06-2.06.94z\"/><path d=\"M17.41 7.96l-1.37-1.37c-.4-.4-.92-.59-1.43-.59-.52 0-1.04.2-1.43.59L10.3 9.45l-7.72 7.72c-.78.78-.78 2.05 0 2.83L4 21.41c.39.39.9.59 1.41.59.51 0 1.02-.2 1.41-.59l7.78-7.78 2.81-2.81c.8-.78.8-2.07 0-2.86zM5.41 20L4 18.59l7.72-7.72 1.47 1.35L5.41 20z\"/>\n",
              "  </svg>\n",
              "      </button>\n",
              "      \n",
              "  <style>\n",
              "    .colab-df-container {\n",
              "      display:flex;\n",
              "      flex-wrap:wrap;\n",
              "      gap: 12px;\n",
              "    }\n",
              "\n",
              "    .colab-df-convert {\n",
              "      background-color: #E8F0FE;\n",
              "      border: none;\n",
              "      border-radius: 50%;\n",
              "      cursor: pointer;\n",
              "      display: none;\n",
              "      fill: #1967D2;\n",
              "      height: 32px;\n",
              "      padding: 0 0 0 0;\n",
              "      width: 32px;\n",
              "    }\n",
              "\n",
              "    .colab-df-convert:hover {\n",
              "      background-color: #E2EBFA;\n",
              "      box-shadow: 0px 1px 2px rgba(60, 64, 67, 0.3), 0px 1px 3px 1px rgba(60, 64, 67, 0.15);\n",
              "      fill: #174EA6;\n",
              "    }\n",
              "\n",
              "    [theme=dark] .colab-df-convert {\n",
              "      background-color: #3B4455;\n",
              "      fill: #D2E3FC;\n",
              "    }\n",
              "\n",
              "    [theme=dark] .colab-df-convert:hover {\n",
              "      background-color: #434B5C;\n",
              "      box-shadow: 0px 1px 3px 1px rgba(0, 0, 0, 0.15);\n",
              "      filter: drop-shadow(0px 1px 2px rgba(0, 0, 0, 0.3));\n",
              "      fill: #FFFFFF;\n",
              "    }\n",
              "  </style>\n",
              "\n",
              "      <script>\n",
              "        const buttonEl =\n",
              "          document.querySelector('#df-ae39d88f-a133-4800-98ff-7c62a46b8414 button.colab-df-convert');\n",
              "        buttonEl.style.display =\n",
              "          google.colab.kernel.accessAllowed ? 'block' : 'none';\n",
              "\n",
              "        async function convertToInteractive(key) {\n",
              "          const element = document.querySelector('#df-ae39d88f-a133-4800-98ff-7c62a46b8414');\n",
              "          const dataTable =\n",
              "            await google.colab.kernel.invokeFunction('convertToInteractive',\n",
              "                                                     [key], {});\n",
              "          if (!dataTable) return;\n",
              "\n",
              "          const docLinkHtml = 'Like what you see? Visit the ' +\n",
              "            '<a target=\"_blank\" href=https://colab.research.google.com/notebooks/data_table.ipynb>data table notebook</a>'\n",
              "            + ' to learn more about interactive tables.';\n",
              "          element.innerHTML = '';\n",
              "          dataTable['output_type'] = 'display_data';\n",
              "          await google.colab.output.renderOutput(dataTable, element);\n",
              "          const docLink = document.createElement('div');\n",
              "          docLink.innerHTML = docLinkHtml;\n",
              "          element.appendChild(docLink);\n",
              "        }\n",
              "      </script>\n",
              "    </div>\n",
              "  </div>\n",
              "  "
            ]
          },
          "metadata": {},
          "execution_count": 4
        }
      ]
    },
    {
      "cell_type": "code",
      "source": [
        "sns.countplot(df['Label'])"
      ],
      "metadata": {
        "id": "2YmJDMCSzKMu",
        "colab": {
          "base_uri": "https://localhost:8080/",
          "height": 296
        },
        "outputId": "6cf2c474-ccb3-4830-f0c8-4b26651f4e41"
      },
      "execution_count": 5,
      "outputs": [
        {
          "output_type": "execute_result",
          "data": {
            "text/plain": [
              "<matplotlib.axes._subplots.AxesSubplot at 0x7f63fb1a9550>"
            ]
          },
          "metadata": {},
          "execution_count": 5
        },
        {
          "output_type": "display_data",
          "data": {
            "text/plain": [
              "<Figure size 432x288 with 1 Axes>"
            ],
            "image/png": "[encoded data removed]"
          },
          "metadata": {
            "needs_background": "light"
          }
        }
      ]
    },
    {
      "cell_type": "code",
      "source": [
        "df.Label.value_counts(), len(df)"
      ],
      "metadata": {
        "id": "_Da_P-U4zgXB",
        "colab": {
          "base_uri": "https://localhost:8080/"
        },
        "outputId": "59095b7e-ae0d-4427-e318-8265e8a0ab59"
      },
      "execution_count": 6,
      "outputs": [
        {
          "output_type": "execute_result",
          "data": {
            "text/plain": [
              "(1    6410\n",
              " 2    5709\n",
              " 0    3609\n",
              " Name: Label, dtype: int64, 15728)"
            ]
          },
          "metadata": {},
          "execution_count": 6
        }
      ]
    },
    {
      "cell_type": "code",
      "source": [
        "df=df.dropna(axis=0, how='any', thresh=None, subset=None, inplace=False)"
      ],
      "metadata": {
        "id": "SgwD_mQJizOk"
      },
      "execution_count": 7,
      "outputs": []
    },
    {
      "cell_type": "code",
      "source": [
        "df.reset_index(drop=True, inplace=True)"
      ],
      "metadata": {
        "id": "aRyFayZ1iyMT"
      },
      "execution_count": 8,
      "outputs": []
    },
    {
      "cell_type": "code",
      "source": [
        "from sklearn import svm\n",
        "from sklearn.ensemble import RandomForestClassifier\n",
        "from sklearn.linear_model import LogisticRegression\n",
        "\n",
        "model_params = {\n",
        "    'svm': {\n",
        "        'model': svm.SVC(gamma='auto'),\n",
        "        'params' : {\n",
        "            'C': [1,10,20],\n",
        "            'kernel': ['rbf','linear','sigmoid'],\n",
        "            'gamma':['auto','scale'],\n",
        "            'decision_function_shape':['ovo', 'ovr']\n",
        "\n",
        "        }  \n",
        "    },\n",
        "    \n",
        "    'decision tree':{\n",
        "        'model':DecisionTreeClassifier(),\n",
        "        'params':{\n",
        "            'max_depth' : [125,500,700,900],\n",
        "            'max_features' : [\"sqrt\",\"log2\"],\n",
        "            'min_samples_split' : [15,55,95],\n",
        "            'criterion':['entropy']\n",
        "        }\n",
        "    },\n",
        "    'logistic_regression' : {\n",
        "        'model': LogisticRegression(solver='liblinear',multi_class='auto'),\n",
        "        'params': {\n",
        "            'C': [1,5,10,25],\n",
        "            #'weights': ['uniform','distance']\n",
        "            \n",
        "        }\n",
        "    },\n",
        "    'multinomial naive bayes':{\n",
        "        'model':MultinomialNB(),\n",
        "        'params':{\n",
        "            'alpha':[.10,.25,.40,.75,.90]\n",
        "        }\n",
        "    },\n",
        "    'k nearest neighbors':{\n",
        "        'model':KNeighborsClassifier(),\n",
        "        'params':{\n",
        "            'n_neighbors': [3,4,5,6,7],\n",
        "            'weights': ['uniform','distance'], \n",
        "            'algorithm' : ['ball_tree', 'kd_tree', 'brute']\n",
        "\n",
        "            \n",
        "        }\n",
        "    },\n",
        "    'Stochastic Gradient Descent':{\n",
        "        'model':SGDClassifier(),\n",
        "        'params':{\n",
        "            'loss':['log'],\n",
        "            'penalty':['l2', 'l1', 'elasticnet'], \n",
        "            'alpha':[.0001,.0005,.0009,.0012]\n",
        "\n",
        "        }\n",
        "    }\n",
        "}"
      ],
      "metadata": {
        "id": "N7bcX0oWjDfT"
      },
      "execution_count": 9,
      "outputs": []
    },
    {
      "cell_type": "code",
      "source": [
        "scores_function = ['precision_macro','recall_macro','f1','accuracy']"
      ],
      "metadata": {
        "id": "Fs7GCK8IcTff"
      },
      "execution_count": 10,
      "outputs": []
    },
    {
      "cell_type": "code",
      "source": [
        "from sklearn.feature_extraction.text import CountVectorizer\n",
        "vect = CountVectorizer()\n",
        "x_bow = vect.fit_transform(df['Token'])\n",
        "x_train, x_test, y_train, y_test = train_test_split(x_bow,df['Label'] , test_size=0.2, random_state=42)"
      ],
      "metadata": {
        "id": "6LzmSry0h6Xc"
      },
      "execution_count": null,
      "outputs": []
    },
    {
      "cell_type": "code",
      "source": [
        "categories=[0,1,2]"
      ],
      "metadata": {
        "id": "8JgF4fy5ulus"
      },
      "execution_count": null,
      "outputs": []
    },
    {
      "cell_type": "code",
      "source": [
        "scores = []\n",
        "for model_name, mp in model_params.items():\n",
        "  for score in scores_function:\n",
        "    clf =  GridSearchCV(mp['model'], mp['params'], cv=5, scoring=score)\n",
        "    clf.fit(x_train,y_train)\n",
        "    \n",
        "  scores.append({\n",
        "            'model': model_name,\n",
        "            'best_params': clf.best_params_,\n",
        "            'precision':precision_score(y_test,clf.predict(x_test),average='macro'),\n",
        "            'recall':recall_score(y_test,clf.predict(x_test),average='macro'),\n",
        "            'f1':f1_score(y_test,clf.predict(x_test),average='macro'),\n",
        "            'accuracy':accuracy_score(y_test,clf.predict(x_test))\n",
        "        })\n",
        "    \n",
        "df_score = pd.DataFrame(scores,columns=['model','best_params','precision','recall','f1','accuracy'])\n",
        "df_score.to_excel('3 classes BOW ML parameters.xlsx')\n",
        "df_score.sort_values(by=['accuracy'],ascending=False) \n",
        "\n"
      ],
      "metadata": {
        "id": "iKgKTmXEioeb",
        "colab": {
          "base_uri": "https://localhost:8080/"
        },
        "outputId": "bde58778-e59c-4bea-daa1-1cd69ea7168d"
      },
      "execution_count": null,
      "outputs": [
        {
          "output_type": "execute_result",
          "data": {
            "text/plain": [
              "                         model  \\\n",
              "0                          svm   \n",
              "2          logistic_regression   \n",
              "3      multinomial naive bayes   \n",
              "5  Stochastic Gradient Descent   \n",
              "4          k nearest neighbors   \n",
              "1                decision tree   \n",
              "\n",
              "                                         best_params  precision    recall  \\\n",
              "0  {'C': 10, 'decision_function_shape': 'ovo', 'g...   0.573254  0.570265   \n",
              "2                                           {'C': 1}   0.522904  0.514304   \n",
              "3                                     {'alpha': 0.9}   0.520778  0.513854   \n",
              "5  {'alpha': 0.0005, 'loss': 'log', 'penalty': 'e...   0.522963  0.505080   \n",
              "4  {'algorithm': 'ball_tree', 'n_neighbors': 7, '...   0.529521  0.529198   \n",
              "1  {'criterion': 'entropy', 'max_depth': 500, 'ma...   0.512328  0.510319   \n",
              "\n",
              "         f1  accuracy  \n",
              "0  0.569966  0.604577  \n",
              "2  0.499110  0.569612  \n",
              "3  0.501453  0.567069  \n",
              "5  0.483893  0.564209  \n",
              "4  0.528682  0.550540  \n",
              "1  0.510384  0.540687  "
            ],
            "text/html": [
              "\n",
              "  <div id=\"df-cd4e3359-2bf7-4487-bf64-a90d7fa379c4\">\n",
              "    <div class=\"colab-df-container\">\n",
              "      <div>\n",
              "<style scoped>\n",
              "    .dataframe tbody tr th:only-of-type {\n",
              "        vertical-align: middle;\n",
              "    }\n",
              "\n",
              "    .dataframe tbody tr th {\n",
              "        vertical-align: top;\n",
              "    }\n",
              "\n",
              "    .dataframe thead th {\n",
              "        text-align: right;\n",
              "    }\n",
              "</style>\n",
              "<table border=\"1\" class=\"dataframe\">\n",
              "  <thead>\n",
              "    <tr style=\"text-align: right;\">\n",
              "      <th></th>\n",
              "      <th>model</th>\n",
              "      <th>best_params</th>\n",
              "      <th>precision</th>\n",
              "      <th>recall</th>\n",
              "      <th>f1</th>\n",
              "      <th>accuracy</th>\n",
              "    </tr>\n",
              "  </thead>\n",
              "  <tbody>\n",
              "    <tr>\n",
              "      <th>0</th>\n",
              "      <td>svm</td>\n",
              "      <td>{'C': 10, 'decision_function_shape': 'ovo', 'g...</td>\n",
              "      <td>0.573254</td>\n",
              "      <td>0.570265</td>\n",
              "      <td>0.569966</td>\n",
              "      <td>0.604577</td>\n",
              "    </tr>\n",
              "    <tr>\n",
              "      <th>2</th>\n",
              "      <td>logistic_regression</td>\n",
              "      <td>{'C': 1}</td>\n",
              "      <td>0.522904</td>\n",
              "      <td>0.514304</td>\n",
              "      <td>0.499110</td>\n",
              "      <td>0.569612</td>\n",
              "    </tr>\n",
              "    <tr>\n",
              "      <th>3</th>\n",
              "      <td>multinomial naive bayes</td>\n",
              "      <td>{'alpha': 0.9}</td>\n",
              "      <td>0.520778</td>\n",
              "      <td>0.513854</td>\n",
              "      <td>0.501453</td>\n",
              "      <td>0.567069</td>\n",
              "    </tr>\n",
              "    <tr>\n",
              "      <th>5</th>\n",
              "      <td>Stochastic Gradient Descent</td>\n",
              "      <td>{'alpha': 0.0005, 'loss': 'log', 'penalty': 'e...</td>\n",
              "      <td>0.522963</td>\n",
              "      <td>0.505080</td>\n",
              "      <td>0.483893</td>\n",
              "      <td>0.564209</td>\n",
              "    </tr>\n",
              "    <tr>\n",
              "      <th>4</th>\n",
              "      <td>k nearest neighbors</td>\n",
              "      <td>{'algorithm': 'ball_tree', 'n_neighbors': 7, '...</td>\n",
              "      <td>0.529521</td>\n",
              "      <td>0.529198</td>\n",
              "      <td>0.528682</td>\n",
              "      <td>0.550540</td>\n",
              "    </tr>\n",
              "    <tr>\n",
              "      <th>1</th>\n",
              "      <td>decision tree</td>\n",
              "      <td>{'criterion': 'entropy', 'max_depth': 500, 'ma...</td>\n",
              "      <td>0.512328</td>\n",
              "      <td>0.510319</td>\n",
              "      <td>0.510384</td>\n",
              "      <td>0.540687</td>\n",
              "    </tr>\n",
              "  </tbody>\n",
              "</table>\n",
              "</div>\n",
              "      <button class=\"colab-df-convert\" onclick=\"convertToInteractive('df-cd4e3359-2bf7-4487-bf64-a90d7fa379c4')\"\n",
              "              title=\"Convert this dataframe to an interactive table.\"\n",
              "              style=\"display:none;\">\n",
              "        \n",
              "  <svg xmlns=\"http://www.w3.org/2000/svg\" height=\"24px\"viewBox=\"0 0 24 24\"\n",
              "       width=\"24px\">\n",
              "    <path d=\"M0 0h24v24H0V0z\" fill=\"none\"/>\n",
              "    <path d=\"M18.56 5.44l.94 2.06.94-2.06 2.06-.94-2.06-.94-.94-2.06-.94 2.06-2.06.94zm-11 1L8.5 8.5l.94-2.06 2.06-.94-2.06-.94L8.5 2.5l-.94 2.06-2.06.94zm10 10l.94 2.06.94-2.06 2.06-.94-2.06-.94-.94-2.06-.94 2.06-2.06.94z\"/><path d=\"M17.41 7.96l-1.37-1.37c-.4-.4-.92-.59-1.43-.59-.52 0-1.04.2-1.43.59L10.3 9.45l-7.72 7.72c-.78.78-.78 2.05 0 2.83L4 21.41c.39.39.9.59 1.41.59.51 0 1.02-.2 1.41-.59l7.78-7.78 2.81-2.81c.8-.78.8-2.07 0-2.86zM5.41 20L4 18.59l7.72-7.72 1.47 1.35L5.41 20z\"/>\n",
              "  </svg>\n",
              "      </button>\n",
              "      \n",
              "  <style>\n",
              "    .colab-df-container {\n",
              "      display:flex;\n",
              "      flex-wrap:wrap;\n",
              "      gap: 12px;\n",
              "    }\n",
              "\n",
              "    .colab-df-convert {\n",
              "      background-color: #E8F0FE;\n",
              "      border: none;\n",
              "      border-radius: 50%;\n",
              "      cursor: pointer;\n",
              "      display: none;\n",
              "      fill: #1967D2;\n",
              "      height: 32px;\n",
              "      padding: 0 0 0 0;\n",
              "      width: 32px;\n",
              "    }\n",
              "\n",
              "    .colab-df-convert:hover {\n",
              "      background-color: #E2EBFA;\n",
              "      box-shadow: 0px 1px 2px rgba(60, 64, 67, 0.3), 0px 1px 3px 1px rgba(60, 64, 67, 0.15);\n",
              "      fill: #174EA6;\n",
              "    }\n",
              "\n",
              "    [theme=dark] .colab-df-convert {\n",
              "      background-color: #3B4455;\n",
              "      fill: #D2E3FC;\n",
              "    }\n",
              "\n",
              "    [theme=dark] .colab-df-convert:hover {\n",
              "      background-color: #434B5C;\n",
              "      box-shadow: 0px 1px 3px 1px rgba(0, 0, 0, 0.15);\n",
              "      filter: drop-shadow(0px 1px 2px rgba(0, 0, 0, 0.3));\n",
              "      fill: #FFFFFF;\n",
              "    }\n",
              "  </style>\n",
              "\n",
              "      <script>\n",
              "        const buttonEl =\n",
              "          document.querySelector('#df-cd4e3359-2bf7-4487-bf64-a90d7fa379c4 button.colab-df-convert');\n",
              "        buttonEl.style.display =\n",
              "          google.colab.kernel.accessAllowed ? 'block' : 'none';\n",
              "\n",
              "        async function convertToInteractive(key) {\n",
              "          const element = document.querySelector('#df-cd4e3359-2bf7-4487-bf64-a90d7fa379c4');\n",
              "          const dataTable =\n",
              "            await google.colab.kernel.invokeFunction('convertToInteractive',\n",
              "                                                     [key], {});\n",
              "          if (!dataTable) return;\n",
              "\n",
              "          const docLinkHtml = 'Like what you see? Visit the ' +\n",
              "            '<a target=\"_blank\" href=https://colab.research.google.com/notebooks/data_table.ipynb>data table notebook</a>'\n",
              "            + ' to learn more about interactive tables.';\n",
              "          element.innerHTML = '';\n",
              "          dataTable['output_type'] = 'display_data';\n",
              "          await google.colab.output.renderOutput(dataTable, element);\n",
              "          const docLink = document.createElement('div');\n",
              "          docLink.innerHTML = docLinkHtml;\n",
              "          element.appendChild(docLink);\n",
              "        }\n",
              "      </script>\n",
              "    </div>\n",
              "  </div>\n",
              "  "
            ]
          },
          "metadata": {},
          "execution_count": 111
        }
      ]
    },
    {
      "cell_type": "code",
      "source": [
        "y_pred=clf.best_estimator_.predict(x_test)\n",
        "y_pred = y_pred.reshape(-1,1)\n",
        "\n",
        "import seaborn as sns\n",
        "import matplotlib.pyplot as plt\n",
        "\n",
        "\n",
        "from sklearn.metrics import confusion_matrix\n",
        "\n",
        "\n",
        "\n",
        "cm = confusion_matrix(y_test, y_pred)\n",
        "\n",
        "\n",
        "labels = 3\n",
        "\n",
        "class_names = categories \n",
        "\n",
        "fig = plt.figure(figsize=(16, 14))\n",
        "ax= plt.subplot()\n",
        "sns.heatmap(cm, annot=True, ax = ax, fmt = 'g');\n",
        "\n",
        "ax.set_xlabel('Predicted', fontsize=20)\n",
        "ax.xaxis.set_label_position('bottom')\n",
        "plt.xticks(rotation=90)\n",
        "ax.xaxis.set_ticklabels(class_names, fontsize = 10)\n",
        "ax.xaxis.tick_bottom()\n",
        "\n",
        "ax.set_ylabel('True', fontsize=20)\n",
        "ax.yaxis.set_ticklabels(class_names, fontsize = 10)\n",
        "plt.yticks(rotation=0)\n",
        "\n",
        "plt.title('Refined Confusion Matrix', fontsize=20)\n",
        "\n",
        "plt.savefig('ConMat24.png')\n",
        "plt.show()"
      ],
      "metadata": {
        "id": "MgBaU3j2uzGK",
        "colab": {
          "base_uri": "https://localhost:8080/"
        },
        "outputId": "e0a3e6c2-0f6c-4c71-fa16-04cf0f6b1ad1"
      },
      "execution_count": null,
      "outputs": [
        {
          "output_type": "display_data",
          "data": {
            "text/plain": [
              "<Figure size 1152x1008 with 2 Axes>"
            ],
            "image/png": "[encoded data removed]"
          },
          "metadata": {
            "needs_background": "light"
          }
        }
      ]
    },
    {
      "cell_type": "code",
      "source": [
        "#TF-IDF unigram\n",
        "tfidf_unigram = TfidfVectorizer(use_idf=True,tokenizer=lambda x: x.split()) \n",
        "x_tfidf_unigram= tfidf_unigram.fit_transform(df['Token'])\n",
        "x_train, x_test, y_train, y_test = train_test_split(x_tfidf_unigram,df['Label'], test_size=0.2, random_state=42)"
      ],
      "metadata": {
        "id": "47-rk_iGjxUX"
      },
      "execution_count": null,
      "outputs": []
    },
    {
      "cell_type": "code",
      "source": [
        "scores = []\n",
        "for model_name, mp in model_params.items():\n",
        "  for score in scores_function:\n",
        "    clf =  GridSearchCV(mp['model'], mp['params'], cv=5, scoring=score)\n",
        "    clf.fit(x_train,y_train)\n",
        "    \n",
        "  scores.append({\n",
        "            'model': model_name,\n",
        "            'best_params': clf.best_params_,\n",
        "            'precision':precision_score(y_test,clf.predict(x_test),average='macro'),\n",
        "            'recall':recall_score(y_test,clf.predict(x_test),average='macro'),\n",
        "            'f1':f1_score(y_test,clf.predict(x_test),average='macro'),\n",
        "            'accuracy':accuracy_score(y_test,clf.predict(x_test))\n",
        "        })\n",
        "    \n",
        "df_score = pd.DataFrame(scores,columns=['model','best_params','precision','recall','f1','accuracy'])\n",
        "df_score.to_excel('3 classes BOW ML parameters.xlsx')\n",
        "df_score.sort_values(by=['accuracy'],ascending=False) \n"
      ],
      "metadata": {
        "id": "sXHy9pWIiBu0"
      },
      "execution_count": null,
      "outputs": []
    },
    {
      "cell_type": "code",
      "source": [
        "y_pred=clf.best_estimator_.predict(x_test)\n",
        "y_pred = y_pred.reshape(-1,1)\n",
        "import seaborn as sns\n",
        "import matplotlib.pyplot as plt\n",
        "\n",
        "### Confusion Matrix\n",
        "from sklearn.metrics import confusion_matrix\n",
        "#predictions = model.predict(x_test, steps=len(x_test), verbose=0)\n",
        "#y_pred=model.predict(x_test)\n",
        "#y_pred = np.round(y_pred)\n",
        "\n",
        "\n",
        "cm = confusion_matrix(y_test, y_pred)\n",
        "\n",
        "## Get Class Labels\n",
        "labels = 3\n",
        "#[0,1,2,3,4,5]_\n",
        "class_names = categories \n",
        "\n",
        "# Plot confusion matrix in a beautiful manner\n",
        "fig = plt.figure(figsize=(16, 14))\n",
        "ax= plt.subplot()\n",
        "sns.heatmap(cm, annot=True, ax = ax, fmt = 'g'); #annot=True to annotate cells\n",
        "# labels, title and ticks\n",
        "ax.set_xlabel('Predicted', fontsize=20)\n",
        "ax.xaxis.set_label_position('bottom')\n",
        "plt.xticks(rotation=90)\n",
        "ax.xaxis.set_ticklabels(class_names, fontsize = 10)\n",
        "ax.xaxis.tick_bottom()\n",
        "\n",
        "ax.set_ylabel('True', fontsize=20)\n",
        "ax.yaxis.set_ticklabels(class_names, fontsize = 10)\n",
        "plt.yticks(rotation=0)\n",
        "\n",
        "plt.title('Refined Confusion Matrix', fontsize=20)\n",
        "\n",
        "plt.savefig('ConMat24.png')\n",
        "plt.show()"
      ],
      "metadata": {
        "id": "6fMQMgNZvbEb"
      },
      "execution_count": null,
      "outputs": []
    },
    {
      "cell_type": "code",
      "source": [
        "#TF-IDF Bigram\n",
        "tfidf_bigram = TfidfVectorizer(ngram_range=(1,2),use_idf=True,tokenizer=lambda x: x.split()) \n",
        "x_tfidf_bigram = tfidf_bigram.fit_transform(df['Token'])\n",
        "from sklearn.model_selection import train_test_split\n",
        "x_train, x_test, y_train, y_test = train_test_split(x_tfidf_bigram,df['Label'], test_size=0.2, random_state=42)"
      ],
      "metadata": {
        "id": "3445pu3GjXDb"
      },
      "execution_count": 11,
      "outputs": []
    },
    {
      "cell_type": "code",
      "source": [
        "scores = []\n",
        "for model_name, mp in model_params.items():\n",
        "  for score in scores_function:\n",
        "    clf =  GridSearchCV(mp['model'], mp['params'], cv=5, scoring=score)\n",
        "    clf.fit(x_train,y_train)\n",
        "    \n",
        "  scores.append({\n",
        "            'model': model_name,\n",
        "            'best_params': clf.best_params_,\n",
        "            'precision':precision_score(y_test,clf.predict(x_test),average='macro'),\n",
        "            'recall':recall_score(y_test,clf.predict(x_test),average='macro'),\n",
        "            'f1':f1_score(y_test,clf.predict(x_test),average='macro'),\n",
        "            'accuracy':accuracy_score(y_test,clf.predict(x_test))\n",
        "        })\n",
        "    \n",
        "df_score = pd.DataFrame(scores,columns=['model','best_params','precision','recall','f1','accuracy'])\n",
        "df_score.to_excel('3 classes BOW ML parameters.xlsx')\n",
        "df_score.sort_values(by=['accuracy'],ascending=False) \n"
      ],
      "metadata": {
        "id": "nvyLcPKhsIGf"
      },
      "execution_count": null,
      "outputs": []
    },
    {
      "cell_type": "code",
      "source": [
        "y_pred=clf.best_estimator_.predict(x_test)\n",
        "y_pred = y_pred.reshape(-1,1)\n",
        "import seaborn as sns\n",
        "import matplotlib.pyplot as plt\n",
        "\n",
        "### Confusion Matrix\n",
        "from sklearn.metrics import confusion_matrix\n",
        "#predictions = model.predict(x_test, steps=len(x_test), verbose=0)\n",
        "#y_pred=model.predict(x_test)\n",
        "#y_pred = np.round(y_pred)\n",
        "\n",
        "\n",
        "cm = confusion_matrix(y_test, y_pred)\n",
        "\n",
        "## Get Class Labels\n",
        "labels = 3\n",
        "#[0,1,2,3,4,5]_\n",
        "class_names = categories \n",
        "\n",
        "# Plot confusion matrix in a beautiful manner\n",
        "fig = plt.figure(figsize=(16, 14))\n",
        "ax= plt.subplot()\n",
        "sns.heatmap(cm, annot=True, ax = ax, fmt = 'g'); #annot=True to annotate cells\n",
        "# labels, title and ticks\n",
        "ax.set_xlabel('Predicted', fontsize=20)\n",
        "ax.xaxis.set_label_position('bottom')\n",
        "plt.xticks(rotation=90)\n",
        "ax.xaxis.set_ticklabels(class_names, fontsize = 10)\n",
        "ax.xaxis.tick_bottom()\n",
        "\n",
        "ax.set_ylabel('True', fontsize=20)\n",
        "ax.yaxis.set_ticklabels(class_names, fontsize = 10)\n",
        "plt.yticks(rotation=0)\n",
        "\n",
        "plt.title('Refined Confusion Matrix', fontsize=20)\n",
        "\n",
        "plt.savefig('ConMat24.png')\n",
        "plt.show()"
      ],
      "metadata": {
        "id": "JMcAbRq-5xAH"
      },
      "execution_count": null,
      "outputs": []
    },
    {
      "cell_type": "code",
      "source": [
        "#TF-IDF Trigram\n",
        "tfidf_trigram = TfidfVectorizer(ngram_range=(1,3),use_idf=True,tokenizer=lambda x: x.split()) \n",
        "x_tfidf_trigram = tfidf_trigram.fit_transform(df['Token'])\n",
        "from sklearn.model_selection import train_test_split\n",
        "x_train, x_test, y_train, y_test = train_test_split(x_tfidf_trigram,df['Label'], test_size=0.2, random_state=42)"
      ],
      "metadata": {
        "id": "bfAO_fBnLpjM"
      },
      "execution_count": null,
      "outputs": []
    },
    {
      "cell_type": "code",
      "source": [
        "scores = []\n",
        "for model_name, mp in model_params.items():\n",
        "  for score in scores_function:\n",
        "    clf =  GridSearchCV(mp['model'], mp['params'], cv=5, scoring=score)\n",
        "    clf.fit(x_train,y_train)\n",
        "    \n",
        "  scores.append({\n",
        "            'model': model_name,\n",
        "            'best_params': clf.best_params_,\n",
        "            'precision':precision_score(y_test,clf.predict(x_test),average='macro'),\n",
        "            'recall':recall_score(y_test,clf.predict(x_test),average='macro'),\n",
        "            'f1':f1_score(y_test,clf.predict(x_test),average='macro'),\n",
        "            'accuracy':accuracy_score(y_test,clf.predict(x_test))\n",
        "        })\n",
        "    \n",
        "df_score = pd.DataFrame(scores,columns=['model','best_params','precision','recall','f1','accuracy'])\n",
        "df_score.to_excel('3 classes BOW ML parameters.xlsx')\n",
        "df_score.sort_values(by=['accuracy'],ascending=False) \n"
      ],
      "metadata": {
        "id": "MiI_bwnBs6On"
      },
      "execution_count": null,
      "outputs": []
    },
    {
      "cell_type": "code",
      "source": [
        "y_pred=clf.best_estimator_.predict(x_test)\n",
        "y_pred = y_pred.reshape(-1,1)\n",
        "import seaborn as sns\n",
        "import matplotlib.pyplot as plt\n",
        "\n",
        "### Confusion Matrix\n",
        "from sklearn.metrics import confusion_matrix\n",
        "#predictions = model.predict(x_test, steps=len(x_test), verbose=0)\n",
        "#y_pred=model.predict(x_test)\n",
        "#y_pred = np.round(y_pred)\n",
        "\n",
        "\n",
        "cm = confusion_matrix(y_test, y_pred)\n",
        "\n",
        "## Get Class Labels\n",
        "labels = 3\n",
        "#[0,1,2,3,4,5]_\n",
        "class_names = categories \n",
        "\n",
        "# Plot confusion matrix in a beautiful manner\n",
        "fig = plt.figure(figsize=(16, 14))\n",
        "ax= plt.subplot()\n",
        "sns.heatmap(cm, annot=True, ax = ax, fmt = 'g'); #annot=True to annotate cells\n",
        "# labels, title and ticks\n",
        "ax.set_xlabel('Predicted', fontsize=20)\n",
        "ax.xaxis.set_label_position('bottom')\n",
        "plt.xticks(rotation=90)\n",
        "ax.xaxis.set_ticklabels(class_names, fontsize = 10)\n",
        "ax.xaxis.tick_bottom()\n",
        "\n",
        "ax.set_ylabel('True', fontsize=20)\n",
        "ax.yaxis.set_ticklabels(class_names, fontsize = 10)\n",
        "plt.yticks(rotation=0)\n",
        "\n",
        "plt.title('Refined Confusion Matrix', fontsize=20)\n",
        "\n",
        "plt.savefig('ConMat24.png')\n",
        "plt.show()"
      ],
      "metadata": {
        "id": "AyHIVn6lv0rs"
      },
      "execution_count": null,
      "outputs": []
    }
  ]
}