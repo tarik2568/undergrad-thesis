{
 "cells": [
  {
   "cell_type": "code",
   "execution_count": 1,
   "id": "8b2d54c1",
   "metadata": {
    "execution": {
     "iopub.execute_input": "2022-04-22T08:46:45.249680Z",
     "iopub.status.busy": "2022-04-22T08:46:45.249288Z",
     "iopub.status.idle": "2022-04-22T08:46:50.341665Z",
     "shell.execute_reply": "2022-04-22T08:46:50.340923Z"
    },
    "papermill": {
     "duration": 5.139758,
     "end_time": "2022-04-22T08:46:50.344234",
     "exception": false,
     "start_time": "2022-04-22T08:46:45.204476",
     "status": "completed"
    },
    "tags": []
   },
   "outputs": [],
   "source": [
    "import numpy as np\n",
    "import keras\n",
    "import pandas as pd \n",
    "from keras.models import Sequential\n",
    "from keras.layers import Dense, Dropout, Embedding, LSTM,Bidirectional\n",
    "import re\n",
    "import tensorflow as tf\n",
    "from keras.preprocessing.text import Tokenizer"
   ]
  },
  {
   "cell_type": "code",
   "execution_count": 2,
   "id": "4f86a6e2",
   "metadata": {
    "execution": {
     "iopub.execute_input": "2022-04-22T08:46:50.391640Z",
     "iopub.status.busy": "2022-04-22T08:46:50.391422Z",
     "iopub.status.idle": "2022-04-22T08:46:51.246139Z",
     "shell.execute_reply": "2022-04-22T08:46:51.245294Z"
    },
    "papermill": {
     "duration": 0.880818,
     "end_time": "2022-04-22T08:46:51.248149",
     "exception": false,
     "start_time": "2022-04-22T08:46:50.367331",
     "status": "completed"
    },
    "tags": []
   },
   "outputs": [],
   "source": [
    "from keras.preprocessing.sequence import pad_sequences\n",
    "from keras.layers import Activation, Conv2D, Input, Embedding, Reshape, MaxPool1D, Concatenate, Flatten, Dropout, Dense, Conv1D\n",
    "from keras.models import Model\n",
    "from keras.callbacks import ModelCheckpoint\n",
    "from tensorflow.keras.optimizers import Adam,SGD\n",
    "import warnings\n",
    "warnings.filterwarnings('ignore')\n",
    "import seaborn as sns"
   ]
  },
  {
   "cell_type": "code",
   "execution_count": 3,
   "id": "7abb1898",
   "metadata": {
    "execution": {
     "iopub.execute_input": "2022-04-22T08:46:51.294959Z",
     "iopub.status.busy": "2022-04-22T08:46:51.294373Z",
     "iopub.status.idle": "2022-04-22T08:46:51.303324Z",
     "shell.execute_reply": "2022-04-22T08:46:51.302547Z"
    },
    "papermill": {
     "duration": 0.033993,
     "end_time": "2022-04-22T08:46:51.305317",
     "exception": false,
     "start_time": "2022-04-22T08:46:51.271324",
     "status": "completed"
    },
    "tags": []
   },
   "outputs": [
    {
     "name": "stdout",
     "output_type": "stream",
     "text": [
      "/kaggle/input/3-classes-bangla-sa/3_classes_Bert_Preprocessed__Dataset.xlsx\n"
     ]
    }
   ],
   "source": [
    "import os\n",
    "for dirname, _, filenames in os.walk('/kaggle/input'):\n",
    "    for filename in filenames:\n",
    "        print(os.path.join(dirname, filename))"
   ]
  },
  {
   "cell_type": "code",
   "execution_count": 4,
   "id": "df19f203",
   "metadata": {
    "execution": {
     "iopub.execute_input": "2022-04-22T08:46:51.353165Z",
     "iopub.status.busy": "2022-04-22T08:46:51.352542Z",
     "iopub.status.idle": "2022-04-22T08:47:02.230704Z",
     "shell.execute_reply": "2022-04-22T08:47:02.229670Z"
    },
    "papermill": {
     "duration": 10.904483,
     "end_time": "2022-04-22T08:47:02.233142",
     "exception": false,
     "start_time": "2022-04-22T08:46:51.328659",
     "status": "completed"
    },
    "tags": []
   },
   "outputs": [
    {
     "name": "stdout",
     "output_type": "stream",
     "text": [
      "Collecting openpyxl\r\n",
      "  Downloading openpyxl-3.0.9-py2.py3-none-any.whl (242 kB)\r\n",
      "\u001b[2K     \u001b[90m━━━━━━━━━━━━━━━━━━━━━━━━━━━━━━━━━━━━━━━\u001b[0m \u001b[32m242.2/242.2 KB\u001b[0m \u001b[31m1.5 MB/s\u001b[0m eta \u001b[36m0:00:00\u001b[0m\r\n",
      "\u001b[?25hCollecting et-xmlfile\r\n",
      "  Downloading et_xmlfile-1.1.0-py3-none-any.whl (4.7 kB)\r\n",
      "Installing collected packages: et-xmlfile, openpyxl\r\n",
      "Successfully installed et-xmlfile-1.1.0 openpyxl-3.0.9\r\n",
      "\u001b[33mWARNING: Running pip as the 'root' user can result in broken permissions and conflicting behaviour with the system package manager. It is recommended to use a virtual environment instead: https://pip.pypa.io/warnings/venv\u001b[0m\u001b[33m\r\n",
      "\u001b[0mNote: you may need to restart the kernel to use updated packages.\n"
     ]
    }
   ],
   "source": [
    "pip install openpyxl"
   ]
  },
  {
   "cell_type": "code",
   "execution_count": 5,
   "id": "7ed667b7",
   "metadata": {
    "execution": {
     "iopub.execute_input": "2022-04-22T08:47:02.285268Z",
     "iopub.status.busy": "2022-04-22T08:47:02.285036Z",
     "iopub.status.idle": "2022-04-22T08:47:04.852038Z",
     "shell.execute_reply": "2022-04-22T08:47:04.851306Z"
    },
    "papermill": {
     "duration": 2.595338,
     "end_time": "2022-04-22T08:47:04.854380",
     "exception": false,
     "start_time": "2022-04-22T08:47:02.259042",
     "status": "completed"
    },
    "tags": []
   },
   "outputs": [
    {
     "name": "stdout",
     "output_type": "stream",
     "text": [
      "<class 'pandas.core.frame.DataFrame'>\n",
      "RangeIndex: 15728 entries, 0 to 15727\n",
      "Data columns (total 5 columns):\n",
      " #   Column      Non-Null Count  Dtype \n",
      "---  ------      --------------  ----- \n",
      " 0   Unnamed: 0  15728 non-null  int64 \n",
      " 1   Data        15728 non-null  object\n",
      " 2   Label       15728 non-null  int64 \n",
      " 3   Token       15728 non-null  object\n",
      " 4   Token_ID    15728 non-null  object\n",
      "dtypes: int64(2), object(3)\n",
      "memory usage: 614.5+ KB\n"
     ]
    }
   ],
   "source": [
    "df=pd.read_excel('/kaggle/input/3-classes-bangla-sa/3_classes_Bert_Preprocessed__Dataset.xlsx')\n",
    "df.info()"
   ]
  },
  {
   "cell_type": "code",
   "execution_count": 6,
   "id": "ab7bb649",
   "metadata": {
    "execution": {
     "iopub.execute_input": "2022-04-22T08:47:04.909949Z",
     "iopub.status.busy": "2022-04-22T08:47:04.909279Z",
     "iopub.status.idle": "2022-04-22T08:47:04.923930Z",
     "shell.execute_reply": "2022-04-22T08:47:04.923269Z"
    },
    "papermill": {
     "duration": 0.042969,
     "end_time": "2022-04-22T08:47:04.925638",
     "exception": false,
     "start_time": "2022-04-22T08:47:04.882669",
     "status": "completed"
    },
    "tags": []
   },
   "outputs": [
    {
     "data": {
      "text/html": [
       "<div>\n",
       "<style scoped>\n",
       "    .dataframe tbody tr th:only-of-type {\n",
       "        vertical-align: middle;\n",
       "    }\n",
       "\n",
       "    .dataframe tbody tr th {\n",
       "        vertical-align: top;\n",
       "    }\n",
       "\n",
       "    .dataframe thead th {\n",
       "        text-align: right;\n",
       "    }\n",
       "</style>\n",
       "<table border=\"1\" class=\"dataframe\">\n",
       "  <thead>\n",
       "    <tr style=\"text-align: right;\">\n",
       "      <th></th>\n",
       "      <th>Unnamed: 0</th>\n",
       "      <th>Data</th>\n",
       "      <th>Label</th>\n",
       "      <th>Token</th>\n",
       "      <th>Token_ID</th>\n",
       "    </tr>\n",
       "  </thead>\n",
       "  <tbody>\n",
       "    <tr>\n",
       "      <th>0</th>\n",
       "      <td>4032</td>\n",
       "      <td>এক মাস সেহেরি খাইয়া রোজা রাহা সোজা</td>\n",
       "      <td>1</td>\n",
       "      <td>['এক', 'মাস', 'সে', '##হের', '##ি', '[UNK]', '...</td>\n",
       "      <td>[788, 1293, 809, 2685, 416, 1, 12209, 3462, 41...</td>\n",
       "    </tr>\n",
       "    <tr>\n",
       "      <th>1</th>\n",
       "      <td>3587</td>\n",
       "      <td>ভাই আমাদের মাতৃভুমিটা এত সুনদর</td>\n",
       "      <td>1</td>\n",
       "      <td>['ভাই', 'আমাদের', 'মাতৃ', '##ভু', '##মিট', '##...</td>\n",
       "      <td>[1352, 1029, 6563, 12357, 12290, 415, 1284, 36...</td>\n",
       "    </tr>\n",
       "    <tr>\n",
       "      <th>2</th>\n",
       "      <td>8968</td>\n",
       "      <td>জানুয়ারীতে কেন  ঐ সময় স্পেশাল কি</td>\n",
       "      <td>1</td>\n",
       "      <td>['[UNK]', 'কেন', 'ঐ', '[UNK]', 'স্পেশাল', 'কি']</td>\n",
       "      <td>[1, 1107, 218, 1, 10225, 817]</td>\n",
       "    </tr>\n",
       "    <tr>\n",
       "      <th>3</th>\n",
       "      <td>95</td>\n",
       "      <td>তোরা কখন কাচা রসুন চাবিয়ে খেয়ে দেখেচিস</td>\n",
       "      <td>2</td>\n",
       "      <td>['তোরা', 'কখন', 'কাচা', 'রসুন', '[UNK]', '[UNK...</td>\n",
       "      <td>[5712, 1394, 30306, 18173, 1, 1, 1172, 2408, 417]</td>\n",
       "    </tr>\n",
       "    <tr>\n",
       "      <th>4</th>\n",
       "      <td>1163</td>\n",
       "      <td>হ্যাঁ হ্যাঁ হ্যাঁ হ্যাঁ জীবন টা বেদনা</td>\n",
       "      <td>2</td>\n",
       "      <td>['হ্যাঁ', 'হ্যাঁ', 'হ্যাঁ', 'হ্যাঁ', 'জীবন', '...</td>\n",
       "      <td>[2154, 2154, 2154, 2154, 1537, 1632, 10018]</td>\n",
       "    </tr>\n",
       "  </tbody>\n",
       "</table>\n",
       "</div>"
      ],
      "text/plain": [
       "   Unnamed: 0                                     Data  Label  \\\n",
       "0        4032       এক মাস সেহেরি খাইয়া রোজা রাহা সোজা      1   \n",
       "1        3587           ভাই আমাদের মাতৃভুমিটা এত সুনদর      1   \n",
       "2        8968         জানুয়ারীতে কেন  ঐ সময় স্পেশাল কি      1   \n",
       "3          95  তোরা কখন কাচা রসুন চাবিয়ে খেয়ে দেখেচিস       2   \n",
       "4        1163   হ্যাঁ হ্যাঁ হ্যাঁ হ্যাঁ জীবন টা বেদনা       2   \n",
       "\n",
       "                                               Token  \\\n",
       "0  ['এক', 'মাস', 'সে', '##হের', '##ি', '[UNK]', '...   \n",
       "1  ['ভাই', 'আমাদের', 'মাতৃ', '##ভু', '##মিট', '##...   \n",
       "2    ['[UNK]', 'কেন', 'ঐ', '[UNK]', 'স্পেশাল', 'কি']   \n",
       "3  ['তোরা', 'কখন', 'কাচা', 'রসুন', '[UNK]', '[UNK...   \n",
       "4  ['হ্যাঁ', 'হ্যাঁ', 'হ্যাঁ', 'হ্যাঁ', 'জীবন', '...   \n",
       "\n",
       "                                            Token_ID  \n",
       "0  [788, 1293, 809, 2685, 416, 1, 12209, 3462, 41...  \n",
       "1  [1352, 1029, 6563, 12357, 12290, 415, 1284, 36...  \n",
       "2                      [1, 1107, 218, 1, 10225, 817]  \n",
       "3  [5712, 1394, 30306, 18173, 1, 1, 1172, 2408, 417]  \n",
       "4        [2154, 2154, 2154, 2154, 1537, 1632, 10018]  "
      ]
     },
     "execution_count": 6,
     "metadata": {},
     "output_type": "execute_result"
    }
   ],
   "source": [
    "df.head()"
   ]
  },
  {
   "cell_type": "code",
   "execution_count": 7,
   "id": "422a1258",
   "metadata": {
    "execution": {
     "iopub.execute_input": "2022-04-22T08:47:04.979555Z",
     "iopub.status.busy": "2022-04-22T08:47:04.978981Z",
     "iopub.status.idle": "2022-04-22T08:47:05.165730Z",
     "shell.execute_reply": "2022-04-22T08:47:05.164928Z"
    },
    "papermill": {
     "duration": 0.216963,
     "end_time": "2022-04-22T08:47:05.168454",
     "exception": false,
     "start_time": "2022-04-22T08:47:04.951491",
     "status": "completed"
    },
    "tags": []
   },
   "outputs": [
    {
     "data": {
      "text/plain": [
       "<AxesSubplot:xlabel='Label', ylabel='count'>"
      ]
     },
     "execution_count": 7,
     "metadata": {},
     "output_type": "execute_result"
    },
    {
     "data": {
      "image/png": "[encoded data removed]",
      "text/plain": [
       "<Figure size 432x288 with 1 Axes>"
      ]
     },
     "metadata": {
      "needs_background": "light"
     },
     "output_type": "display_data"
    }
   ],
   "source": [
    "sns.countplot(df['Label'])"
   ]
  },
  {
   "cell_type": "code",
   "execution_count": 8,
   "id": "16105b68",
   "metadata": {
    "execution": {
     "iopub.execute_input": "2022-04-22T08:47:05.224701Z",
     "iopub.status.busy": "2022-04-22T08:47:05.224501Z",
     "iopub.status.idle": "2022-04-22T08:47:05.230472Z",
     "shell.execute_reply": "2022-04-22T08:47:05.229806Z"
    },
    "papermill": {
     "duration": 0.035296,
     "end_time": "2022-04-22T08:47:05.232096",
     "exception": false,
     "start_time": "2022-04-22T08:47:05.196800",
     "status": "completed"
    },
    "tags": []
   },
   "outputs": [
    {
     "data": {
      "text/plain": [
       "(1    6410\n",
       " 2    5709\n",
       " 0    3609\n",
       " Name: Label, dtype: int64,\n",
       " 15728)"
      ]
     },
     "execution_count": 8,
     "metadata": {},
     "output_type": "execute_result"
    }
   ],
   "source": [
    "df.Label.value_counts(), len(df)"
   ]
  },
  {
   "cell_type": "code",
   "execution_count": 9,
   "id": "f59b1534",
   "metadata": {
    "execution": {
     "iopub.execute_input": "2022-04-22T08:47:05.288195Z",
     "iopub.status.busy": "2022-04-22T08:47:05.287626Z",
     "iopub.status.idle": "2022-04-22T08:47:05.291068Z",
     "shell.execute_reply": "2022-04-22T08:47:05.290414Z"
    },
    "papermill": {
     "duration": 0.033449,
     "end_time": "2022-04-22T08:47:05.292773",
     "exception": false,
     "start_time": "2022-04-22T08:47:05.259324",
     "status": "completed"
    },
    "tags": []
   },
   "outputs": [],
   "source": [
    "maxlen = 200\n",
    "max_features = 10000\n",
    "batch_size = 32"
   ]
  },
  {
   "cell_type": "code",
   "execution_count": 10,
   "id": "b9908055",
   "metadata": {
    "execution": {
     "iopub.execute_input": "2022-04-22T08:47:05.348330Z",
     "iopub.status.busy": "2022-04-22T08:47:05.348064Z",
     "iopub.status.idle": "2022-04-22T08:47:05.353297Z",
     "shell.execute_reply": "2022-04-22T08:47:05.352611Z"
    },
    "papermill": {
     "duration": 0.034858,
     "end_time": "2022-04-22T08:47:05.354996",
     "exception": false,
     "start_time": "2022-04-22T08:47:05.320138",
     "status": "completed"
    },
    "tags": []
   },
   "outputs": [],
   "source": [
    "df['Token']=df['Token'].astype('str')"
   ]
  },
  {
   "cell_type": "code",
   "execution_count": 11,
   "id": "ae24e34c",
   "metadata": {
    "execution": {
     "iopub.execute_input": "2022-04-22T08:47:05.410434Z",
     "iopub.status.busy": "2022-04-22T08:47:05.410042Z",
     "iopub.status.idle": "2022-04-22T08:47:05.570209Z",
     "shell.execute_reply": "2022-04-22T08:47:05.569499Z"
    },
    "papermill": {
     "duration": 0.189674,
     "end_time": "2022-04-22T08:47:05.572128",
     "exception": false,
     "start_time": "2022-04-22T08:47:05.382454",
     "status": "completed"
    },
    "tags": []
   },
   "outputs": [],
   "source": [
    "from sklearn.model_selection import train_test_split\n",
    "x_train, x_test, y_train, y_test = train_test_split(df['Token'],df['Label'] , test_size=0.1,random_state=2)\n",
    "x_train, x_validation, y_train, y_validation = train_test_split(x_train,y_train,test_size=0.1,random_state=42)"
   ]
  },
  {
   "cell_type": "code",
   "execution_count": 12,
   "id": "c2e4424c",
   "metadata": {
    "execution": {
     "iopub.execute_input": "2022-04-22T08:47:05.628595Z",
     "iopub.status.busy": "2022-04-22T08:47:05.627927Z",
     "iopub.status.idle": "2022-04-22T08:47:05.631500Z",
     "shell.execute_reply": "2022-04-22T08:47:05.630768Z"
    },
    "papermill": {
     "duration": 0.033501,
     "end_time": "2022-04-22T08:47:05.633188",
     "exception": false,
     "start_time": "2022-04-22T08:47:05.599687",
     "status": "completed"
    },
    "tags": []
   },
   "outputs": [],
   "source": [
    "vocab_size=32000"
   ]
  },
  {
   "cell_type": "code",
   "execution_count": 13,
   "id": "a01fd847",
   "metadata": {
    "execution": {
     "iopub.execute_input": "2022-04-22T08:47:05.689267Z",
     "iopub.status.busy": "2022-04-22T08:47:05.688723Z",
     "iopub.status.idle": "2022-04-22T08:47:06.788710Z",
     "shell.execute_reply": "2022-04-22T08:47:06.787957Z"
    },
    "papermill": {
     "duration": 1.130245,
     "end_time": "2022-04-22T08:47:06.791033",
     "exception": false,
     "start_time": "2022-04-22T08:47:05.660788",
     "status": "completed"
    },
    "tags": []
   },
   "outputs": [],
   "source": [
    "tokenizer  = Tokenizer(num_words = max_features,oov_token = \"<OOV>\")\n",
    "tokenizer.fit_on_texts(df['Token'])\n",
    "\n",
    "train_seq =  tokenizer.texts_to_sequences(x_train)\n",
    "val_seq =  tokenizer.texts_to_sequences(x_validation)\n",
    "test_seq = tokenizer.texts_to_sequences(x_test)"
   ]
  },
  {
   "cell_type": "code",
   "execution_count": 14,
   "id": "d9fc4d8d",
   "metadata": {
    "execution": {
     "iopub.execute_input": "2022-04-22T08:47:06.847399Z",
     "iopub.status.busy": "2022-04-22T08:47:06.847149Z",
     "iopub.status.idle": "2022-04-22T08:47:06.932939Z",
     "shell.execute_reply": "2022-04-22T08:47:06.932203Z"
    },
    "papermill": {
     "duration": 0.116304,
     "end_time": "2022-04-22T08:47:06.934972",
     "exception": false,
     "start_time": "2022-04-22T08:47:06.818668",
     "status": "completed"
    },
    "tags": []
   },
   "outputs": [],
   "source": [
    "x_train = pad_sequences(train_seq, maxlen=maxlen, dtype='int32', padding='post',truncating='post') #maxlen = maxlen, padding='post')\n",
    "x_validation = pad_sequences(val_seq, maxlen=maxlen, dtype='int32', padding='post',truncating='post') #maxlen = maxlen, padding='post')\n",
    "x_test = pad_sequences(test_seq, maxlen=maxlen, dtype='int32', padding='post',truncating='post') #maxlen = maxlen, padding='post')"
   ]
  },
  {
   "cell_type": "code",
   "execution_count": 15,
   "id": "5f5f4346",
   "metadata": {
    "execution": {
     "iopub.execute_input": "2022-04-22T08:47:06.996227Z",
     "iopub.status.busy": "2022-04-22T08:47:06.996008Z",
     "iopub.status.idle": "2022-04-22T08:47:10.302591Z",
     "shell.execute_reply": "2022-04-22T08:47:10.301548Z"
    },
    "papermill": {
     "duration": 3.339872,
     "end_time": "2022-04-22T08:47:10.304364",
     "exception": false,
     "start_time": "2022-04-22T08:47:06.964492",
     "status": "completed"
    },
    "tags": []
   },
   "outputs": [
    {
     "name": "stderr",
     "output_type": "stream",
     "text": [
      "2022-04-22 08:47:07.091558: I tensorflow/stream_executor/cuda/cuda_gpu_executor.cc:937] successful NUMA node read from SysFS had negative value (-1), but there must be at least one NUMA node, so returning NUMA node zero\n",
      "2022-04-22 08:47:07.187015: I tensorflow/stream_executor/cuda/cuda_gpu_executor.cc:937] successful NUMA node read from SysFS had negative value (-1), but there must be at least one NUMA node, so returning NUMA node zero\n",
      "2022-04-22 08:47:07.187798: I tensorflow/stream_executor/cuda/cuda_gpu_executor.cc:937] successful NUMA node read from SysFS had negative value (-1), but there must be at least one NUMA node, so returning NUMA node zero\n",
      "2022-04-22 08:47:07.188963: I tensorflow/core/platform/cpu_feature_guard.cc:142] This TensorFlow binary is optimized with oneAPI Deep Neural Network Library (oneDNN) to use the following CPU instructions in performance-critical operations:  AVX2 AVX512F FMA\n",
      "To enable them in other operations, rebuild TensorFlow with the appropriate compiler flags.\n",
      "2022-04-22 08:47:07.189295: I tensorflow/stream_executor/cuda/cuda_gpu_executor.cc:937] successful NUMA node read from SysFS had negative value (-1), but there must be at least one NUMA node, so returning NUMA node zero\n",
      "2022-04-22 08:47:07.190027: I tensorflow/stream_executor/cuda/cuda_gpu_executor.cc:937] successful NUMA node read from SysFS had negative value (-1), but there must be at least one NUMA node, so returning NUMA node zero\n",
      "2022-04-22 08:47:07.190687: I tensorflow/stream_executor/cuda/cuda_gpu_executor.cc:937] successful NUMA node read from SysFS had negative value (-1), but there must be at least one NUMA node, so returning NUMA node zero\n",
      "2022-04-22 08:47:08.928404: I tensorflow/stream_executor/cuda/cuda_gpu_executor.cc:937] successful NUMA node read from SysFS had negative value (-1), but there must be at least one NUMA node, so returning NUMA node zero\n",
      "2022-04-22 08:47:08.929277: I tensorflow/stream_executor/cuda/cuda_gpu_executor.cc:937] successful NUMA node read from SysFS had negative value (-1), but there must be at least one NUMA node, so returning NUMA node zero\n",
      "2022-04-22 08:47:08.930046: I tensorflow/stream_executor/cuda/cuda_gpu_executor.cc:937] successful NUMA node read from SysFS had negative value (-1), but there must be at least one NUMA node, so returning NUMA node zero\n",
      "2022-04-22 08:47:08.931322: I tensorflow/core/common_runtime/gpu/gpu_device.cc:1510] Created device /job:localhost/replica:0/task:0/device:GPU:0 with 15403 MB memory:  -> device: 0, name: Tesla P100-PCIE-16GB, pci bus id: 0000:00:04.0, compute capability: 6.0\n"
     ]
    },
    {
     "name": "stdout",
     "output_type": "stream",
     "text": [
      "Model: \"sequential\"\n",
      "_________________________________________________________________\n",
      "Layer (type)                 Output Shape              Param #   \n",
      "=================================================================\n",
      "Embedding (Embedding)        (None, 200, 40)           1280000   \n",
      "_________________________________________________________________\n",
      "conv1d (Conv1D)              (None, 198, 200)          24200     \n",
      "_________________________________________________________________\n",
      "bidirectional (Bidirectional (None, 198, 256)          336896    \n",
      "_________________________________________________________________\n",
      "dropout (Dropout)            (None, 198, 256)          0         \n",
      "_________________________________________________________________\n",
      "bidirectional_1 (Bidirection (None, 128)               164352    \n",
      "_________________________________________________________________\n",
      "dropout_1 (Dropout)          (None, 128)               0         \n",
      "_________________________________________________________________\n",
      "dense (Dense)                (None, 50)                6450      \n",
      "_________________________________________________________________\n",
      "dropout_2 (Dropout)          (None, 50)                0         \n",
      "_________________________________________________________________\n",
      "dense_1 (Dense)              (None, 25)                1275      \n",
      "_________________________________________________________________\n",
      "dropout_3 (Dropout)          (None, 25)                0         \n",
      "_________________________________________________________________\n",
      "dense_2 (Dense)              (None, 12)                312       \n",
      "_________________________________________________________________\n",
      "flatten (Flatten)            (None, 12)                0         \n",
      "_________________________________________________________________\n",
      "dense_3 (Dense)              (None, 3)                 39        \n",
      "=================================================================\n",
      "Total params: 1,813,524\n",
      "Trainable params: 1,813,524\n",
      "Non-trainable params: 0\n",
      "_________________________________________________________________\n"
     ]
    }
   ],
   "source": [
    "model= Sequential()\n",
    "model.add(Embedding(vocab_size,40,input_length=maxlen,name='Embedding'))\n",
    "model.add(Conv1D(200, kernel_size=3, activation = \"relu\"))\n",
    "model.add(Bidirectional(LSTM(128, return_sequences=True)))\n",
    "model.add(Dropout(0.25))\n",
    "model.add(Bidirectional(LSTM(64)))\n",
    "model.add(Dropout(0.1))\n",
    "model.add(Dense(50, activation='relu'))\n",
    "model.add(Dropout(0.2))\n",
    "model.add(Dense(25, activation='relu'))\n",
    "model.add(Dropout(0.1))\n",
    "model.add(Dense(12, activation='relu'))\n",
    "model.add(Flatten())\n",
    "model.add(Dense(units=3, activation='softmax'))\n",
    "adam=Adam(learning_rate=0.003)\n",
    "model.summary()\n",
    "model.compile(loss='sparse_categorical_crossentropy',optimizer='adam',metrics=['accuracy'])"
   ]
  },
  {
   "cell_type": "code",
   "execution_count": 16,
   "id": "69960d51",
   "metadata": {
    "execution": {
     "iopub.execute_input": "2022-04-22T08:47:10.362994Z",
     "iopub.status.busy": "2022-04-22T08:47:10.362774Z",
     "iopub.status.idle": "2022-04-22T08:47:10.367793Z",
     "shell.execute_reply": "2022-04-22T08:47:10.367137Z"
    },
    "papermill": {
     "duration": 0.036312,
     "end_time": "2022-04-22T08:47:10.369463",
     "exception": false,
     "start_time": "2022-04-22T08:47:10.333151",
     "status": "completed"
    },
    "tags": []
   },
   "outputs": [],
   "source": [
    "early_stopping = keras.callbacks.EarlyStopping(\n",
    "    patience=15,\n",
    "    min_delta=0.001,\n",
    "    restore_best_weights=True,\n",
    ")"
   ]
  },
  {
   "cell_type": "code",
   "execution_count": 17,
   "id": "853d67f4",
   "metadata": {
    "execution": {
     "iopub.execute_input": "2022-04-22T08:47:10.426510Z",
     "iopub.status.busy": "2022-04-22T08:47:10.425937Z",
     "iopub.status.idle": "2022-04-22T08:51:56.469767Z",
     "shell.execute_reply": "2022-04-22T08:51:56.469026Z"
    },
    "papermill": {
     "duration": 286.074412,
     "end_time": "2022-04-22T08:51:56.471687",
     "exception": false,
     "start_time": "2022-04-22T08:47:10.397275",
     "status": "completed"
    },
    "tags": []
   },
   "outputs": [
    {
     "name": "stderr",
     "output_type": "stream",
     "text": [
      "2022-04-22 08:47:10.483906: I tensorflow/compiler/mlir/mlir_graph_optimization_pass.cc:185] None of the MLIR Optimization Passes are enabled (registered 2)\n"
     ]
    },
    {
     "name": "stdout",
     "output_type": "stream",
     "text": [
      "Epoch 1/30\n"
     ]
    },
    {
     "name": "stderr",
     "output_type": "stream",
     "text": [
      "2022-04-22 08:47:15.673792: I tensorflow/stream_executor/cuda/cuda_dnn.cc:369] Loaded cuDNN version 8005\n"
     ]
    },
    {
     "name": "stdout",
     "output_type": "stream",
     "text": [
      "399/399 [==============================] - 29s 43ms/step - loss: 0.9995 - accuracy: 0.4736 - val_loss: 0.8603 - val_accuracy: 0.5960\n",
      "Epoch 2/30\n",
      "399/399 [==============================] - 16s 41ms/step - loss: 0.7129 - accuracy: 0.7109 - val_loss: 0.7663 - val_accuracy: 0.6603\n",
      "Epoch 3/30\n",
      "399/399 [==============================] - 16s 40ms/step - loss: 0.5253 - accuracy: 0.8067 - val_loss: 0.8063 - val_accuracy: 0.6688\n",
      "Epoch 4/30\n",
      "399/399 [==============================] - 16s 41ms/step - loss: 0.3838 - accuracy: 0.8643 - val_loss: 0.8574 - val_accuracy: 0.6758\n",
      "Epoch 5/30\n",
      "399/399 [==============================] - 16s 40ms/step - loss: 0.2798 - accuracy: 0.9050 - val_loss: 0.9193 - val_accuracy: 0.6829\n",
      "Epoch 6/30\n",
      "399/399 [==============================] - 16s 40ms/step - loss: 0.2112 - accuracy: 0.9268 - val_loss: 1.1079 - val_accuracy: 0.6737\n",
      "Epoch 7/30\n",
      "399/399 [==============================] - 16s 40ms/step - loss: 0.1620 - accuracy: 0.9445 - val_loss: 1.3372 - val_accuracy: 0.6836\n",
      "Epoch 8/30\n",
      "399/399 [==============================] - 16s 40ms/step - loss: 0.1221 - accuracy: 0.9582 - val_loss: 1.5407 - val_accuracy: 0.6758\n",
      "Epoch 9/30\n",
      "399/399 [==============================] - 16s 41ms/step - loss: 0.0996 - accuracy: 0.9644 - val_loss: 1.7467 - val_accuracy: 0.6815\n",
      "Epoch 10/30\n",
      "399/399 [==============================] - 16s 40ms/step - loss: 0.0797 - accuracy: 0.9674 - val_loss: 2.1394 - val_accuracy: 0.6773\n",
      "Epoch 11/30\n",
      "399/399 [==============================] - 16s 41ms/step - loss: 0.0714 - accuracy: 0.9728 - val_loss: 1.8087 - val_accuracy: 0.6702\n",
      "Epoch 12/30\n",
      "399/399 [==============================] - 16s 40ms/step - loss: 0.0691 - accuracy: 0.9717 - val_loss: 2.0955 - val_accuracy: 0.6780\n",
      "Epoch 13/30\n",
      "399/399 [==============================] - 16s 40ms/step - loss: 0.0567 - accuracy: 0.9768 - val_loss: 2.3429 - val_accuracy: 0.6773\n",
      "Epoch 14/30\n",
      "399/399 [==============================] - 16s 40ms/step - loss: 0.0485 - accuracy: 0.9775 - val_loss: 2.5285 - val_accuracy: 0.6773\n",
      "Epoch 15/30\n",
      "399/399 [==============================] - 16s 41ms/step - loss: 0.0498 - accuracy: 0.9779 - val_loss: 2.3538 - val_accuracy: 0.6801\n",
      "Epoch 16/30\n",
      "399/399 [==============================] - 16s 40ms/step - loss: 0.0487 - accuracy: 0.9783 - val_loss: 2.3606 - val_accuracy: 0.6653\n",
      "Epoch 17/30\n",
      "399/399 [==============================] - 16s 41ms/step - loss: 0.0482 - accuracy: 0.9786 - val_loss: 2.3724 - val_accuracy: 0.6511\n"
     ]
    }
   ],
   "source": [
    "history = model.fit(x_train, y_train, batch_size=batch_size, epochs=30, callbacks=[early_stopping],verbose=1, validation_data=(x_validation, y_validation))"
   ]
  },
  {
   "cell_type": "code",
   "execution_count": 18,
   "id": "bbfc2b21",
   "metadata": {
    "execution": {
     "iopub.execute_input": "2022-04-22T08:51:58.722298Z",
     "iopub.status.busy": "2022-04-22T08:51:58.722040Z",
     "iopub.status.idle": "2022-04-22T08:51:59.523279Z",
     "shell.execute_reply": "2022-04-22T08:51:59.522525Z"
    },
    "papermill": {
     "duration": 1.901033,
     "end_time": "2022-04-22T08:51:59.525190",
     "exception": false,
     "start_time": "2022-04-22T08:51:57.624157",
     "status": "completed"
    },
    "tags": []
   },
   "outputs": [
    {
     "data": {
      "image/png": "[encoded data removed]",
      "text/plain": [
       "<IPython.core.display.Image object>"
      ]
     },
     "execution_count": 18,
     "metadata": {},
     "output_type": "execute_result"
    }
   ],
   "source": [
    "tf.keras.utils.plot_model(model, to_file='model.png', show_shapes=False,show_layer_names=True, rankdir='TB', expand_nested=False, dpi=96)"
   ]
  },
  {
   "cell_type": "code",
   "execution_count": 19,
   "id": "9bbd56cf",
   "metadata": {
    "execution": {
     "iopub.execute_input": "2022-04-22T08:52:01.721376Z",
     "iopub.status.busy": "2022-04-22T08:52:01.721092Z",
     "iopub.status.idle": "2022-04-22T08:52:02.584204Z",
     "shell.execute_reply": "2022-04-22T08:52:02.583306Z"
    },
    "papermill": {
     "duration": 1.966153,
     "end_time": "2022-04-22T08:52:02.586242",
     "exception": false,
     "start_time": "2022-04-22T08:52:00.620089",
     "status": "completed"
    },
    "tags": []
   },
   "outputs": [
    {
     "name": "stdout",
     "output_type": "stream",
     "text": [
      "50/50 [==============================] - 1s 16ms/step - loss: 0.7643 - accuracy: 0.6631\n"
     ]
    },
    {
     "data": {
      "text/plain": [
       "[0.7643084526062012, 0.663064181804657]"
      ]
     },
     "execution_count": 19,
     "metadata": {},
     "output_type": "execute_result"
    }
   ],
   "source": [
    "model.evaluate(x_test, y_test)"
   ]
  },
  {
   "cell_type": "code",
   "execution_count": 20,
   "id": "c37516dc",
   "metadata": {
    "execution": {
     "iopub.execute_input": "2022-04-22T08:52:04.789787Z",
     "iopub.status.busy": "2022-04-22T08:52:04.789535Z",
     "iopub.status.idle": "2022-04-22T08:52:05.043067Z",
     "shell.execute_reply": "2022-04-22T08:52:05.042395Z"
    },
    "papermill": {
     "duration": 1.360469,
     "end_time": "2022-04-22T08:52:05.044919",
     "exception": false,
     "start_time": "2022-04-22T08:52:03.684450",
     "status": "completed"
    },
    "tags": []
   },
   "outputs": [
    {
     "data": {
      "image/png": "[encoded data removed]",
      "text/plain": [
       "<Figure size 432x288 with 1 Axes>"
      ]
     },
     "metadata": {
      "needs_background": "light"
     },
     "output_type": "display_data"
    }
   ],
   "source": [
    "import matplotlib.pyplot as plt\n",
    "\n",
    "plt.plot(history.history['accuracy'], label=\"Accuracy\")\n",
    "plt.plot(history.history['val_accuracy'], label=\"Validation accuracy\")\n",
    "plt.title('Accuracy')\n",
    "plt.xlabel('Epoch')\n",
    "plt.ylabel('Accuracy')\n",
    "plt.legend()\n",
    "plt.tight_layout()\n",
    "plt.show()"
   ]
  },
  {
   "cell_type": "code",
   "execution_count": 21,
   "id": "0bfb6bef",
   "metadata": {
    "execution": {
     "iopub.execute_input": "2022-04-22T08:52:07.503967Z",
     "iopub.status.busy": "2022-04-22T08:52:07.503280Z",
     "iopub.status.idle": "2022-04-22T08:52:07.731845Z",
     "shell.execute_reply": "2022-04-22T08:52:07.731178Z"
    },
    "papermill": {
     "duration": 1.508742,
     "end_time": "2022-04-22T08:52:07.733612",
     "exception": false,
     "start_time": "2022-04-22T08:52:06.224870",
     "status": "completed"
    },
    "tags": []
   },
   "outputs": [
    {
     "data": {
      "image/png": "[encoded data removed]",
      "text/plain": [
       "<Figure size 432x288 with 1 Axes>"
      ]
     },
     "metadata": {
      "needs_background": "light"
     },
     "output_type": "display_data"
    }
   ],
   "source": [
    "import matplotlib.pyplot as plt\n",
    "\n",
    "plt.plot(history.history['loss'], label=\"Train loss\")\n",
    "plt.plot(history.history['val_loss'], label=\"Validation loss\")\n",
    "plt.title('Loss')\n",
    "plt.xlabel('Epoch')\n",
    "plt.ylabel('Loss')\n",
    "plt.legend()\n",
    "plt.tight_layout()\n",
    "plt.show()"
   ]
  },
  {
   "cell_type": "code",
   "execution_count": 22,
   "id": "f2b204d8",
   "metadata": {
    "execution": {
     "iopub.execute_input": "2022-04-22T08:52:09.995483Z",
     "iopub.status.busy": "2022-04-22T08:52:09.995201Z",
     "iopub.status.idle": "2022-04-22T08:52:11.767431Z",
     "shell.execute_reply": "2022-04-22T08:52:11.766666Z"
    },
    "papermill": {
     "duration": 2.929885,
     "end_time": "2022-04-22T08:52:11.769504",
     "exception": false,
     "start_time": "2022-04-22T08:52:08.839619",
     "status": "completed"
    },
    "tags": []
   },
   "outputs": [],
   "source": [
    "from sklearn.metrics import classification_report\n",
    "\n",
    "y_pred = model.predict(x_test)\n",
    "y_pred = np.argmax(y_pred,axis=1)"
   ]
  },
  {
   "cell_type": "code",
   "execution_count": 23,
   "id": "17231f66",
   "metadata": {
    "execution": {
     "iopub.execute_input": "2022-04-22T08:52:13.977462Z",
     "iopub.status.busy": "2022-04-22T08:52:13.977058Z",
     "iopub.status.idle": "2022-04-22T08:52:13.982001Z",
     "shell.execute_reply": "2022-04-22T08:52:13.981287Z"
    },
    "papermill": {
     "duration": 1.112361,
     "end_time": "2022-04-22T08:52:13.984260",
     "exception": false,
     "start_time": "2022-04-22T08:52:12.871899",
     "status": "completed"
    },
    "tags": []
   },
   "outputs": [
    {
     "name": "stdout",
     "output_type": "stream",
     "text": [
      "(1573,)\n",
      "(1573,)\n"
     ]
    }
   ],
   "source": [
    "print(y_test.shape)\n",
    "print(y_pred.shape)"
   ]
  },
  {
   "cell_type": "code",
   "execution_count": 24,
   "id": "9a4b1934",
   "metadata": {
    "execution": {
     "iopub.execute_input": "2022-04-22T08:52:16.212754Z",
     "iopub.status.busy": "2022-04-22T08:52:16.212502Z",
     "iopub.status.idle": "2022-04-22T08:52:16.216325Z",
     "shell.execute_reply": "2022-04-22T08:52:16.215529Z"
    },
    "papermill": {
     "duration": 1.115392,
     "end_time": "2022-04-22T08:52:16.218242",
     "exception": false,
     "start_time": "2022-04-22T08:52:15.102850",
     "status": "completed"
    },
    "tags": []
   },
   "outputs": [],
   "source": [
    "y_pred = y_pred.reshape(-1,1)\n"
   ]
  },
  {
   "cell_type": "code",
   "execution_count": 25,
   "id": "d1e5f936",
   "metadata": {
    "execution": {
     "iopub.execute_input": "2022-04-22T08:52:19.157396Z",
     "iopub.status.busy": "2022-04-22T08:52:19.157125Z",
     "iopub.status.idle": "2022-04-22T08:52:19.170273Z",
     "shell.execute_reply": "2022-04-22T08:52:19.169412Z"
    },
    "papermill": {
     "duration": 1.63042,
     "end_time": "2022-04-22T08:52:19.173393",
     "exception": false,
     "start_time": "2022-04-22T08:52:17.542973",
     "status": "completed"
    },
    "tags": []
   },
   "outputs": [
    {
     "name": "stdout",
     "output_type": "stream",
     "text": [
      "              precision    recall  f1-score   support\n",
      "\n",
      "     neutral       0.52      0.34      0.41       358\n",
      "    positive       0.70      0.73      0.72       643\n",
      "    negative       0.67      0.79      0.73       572\n",
      "\n",
      "    accuracy                           0.66      1573\n",
      "   macro avg       0.63      0.62      0.62      1573\n",
      "weighted avg       0.65      0.66      0.65      1573\n",
      "\n"
     ]
    }
   ],
   "source": [
    "categories = ['neutral','positive','negative']\n",
    "print(classification_report(y_test, y_pred, target_names=categories))"
   ]
  },
  {
   "cell_type": "code",
   "execution_count": 26,
   "id": "bed6d78c",
   "metadata": {
    "execution": {
     "iopub.execute_input": "2022-04-22T08:52:21.410749Z",
     "iopub.status.busy": "2022-04-22T08:52:21.410475Z",
     "iopub.status.idle": "2022-04-22T08:52:21.770812Z",
     "shell.execute_reply": "2022-04-22T08:52:21.770140Z"
    },
    "papermill": {
     "duration": 1.46074,
     "end_time": "2022-04-22T08:52:21.772697",
     "exception": false,
     "start_time": "2022-04-22T08:52:20.311957",
     "status": "completed"
    },
    "tags": []
   },
   "outputs": [
    {
     "data": {
      "image/png": "[encoded data removed]",
      "text/plain": [
       "<Figure size 1152x1008 with 2 Axes>"
      ]
     },
     "metadata": {
      "needs_background": "light"
     },
     "output_type": "display_data"
    }
   ],
   "source": [
    "import seaborn as sns\n",
    "import matplotlib.pyplot as plt\n",
    "\n",
    "### Confusion Matrix\n",
    "from sklearn.metrics import confusion_matrix\n",
    "#predictions = model.predict(x_test, steps=len(x_test), verbose=0)\n",
    "#y_pred=model.predict(x_test)\n",
    "#y_pred = np.round(y_pred)\n",
    "\n",
    "\n",
    "cm = confusion_matrix(y_test, y_pred)\n",
    "\n",
    "## Get Class Labels\n",
    "labels = 3\n",
    "#[0,1,2,3,4,5]_\n",
    "class_names = categories \n",
    "\n",
    "# Plot confusion matrix in a beautiful manner\n",
    "fig = plt.figure(figsize=(16, 14))\n",
    "ax= plt.subplot()\n",
    "sns.heatmap(cm, annot=True, ax = ax, fmt = 'g'); #annot=True to annotate cells\n",
    "# labels, title and ticks\n",
    "ax.set_xlabel('Predicted', fontsize=20)\n",
    "ax.xaxis.set_label_position('bottom')\n",
    "plt.xticks(rotation=90)\n",
    "ax.xaxis.set_ticklabels(class_names, fontsize = 10)\n",
    "ax.xaxis.tick_bottom()\n",
    "\n",
    "ax.set_ylabel('True', fontsize=20)\n",
    "ax.yaxis.set_ticklabels(class_names, fontsize = 10)\n",
    "plt.yticks(rotation=0)\n",
    "\n",
    "plt.title('Refined Confusion Matrix', fontsize=20)\n",
    "\n",
    "plt.savefig('ConMat24.png')\n",
    "plt.show()"
   ]
  }
 ],
 "metadata": {
  "kernelspec": {
   "display_name": "Python 3",
   "language": "python",
   "name": "python3"
  },
  "language_info": {
   "codemirror_mode": {
    "name": "ipython",
    "version": 3
   },
   "file_extension": ".py",
   "mimetype": "text/x-python",
   "name": "python",
   "nbconvert_exporter": "python",
   "pygments_lexer": "ipython3",
   "version": "3.7.12"
  },
  "papermill": {
   "default_parameters": {},
   "duration": 348.744032,
   "end_time": "2022-04-22T08:52:26.111991",
   "environment_variables": {},
   "exception": null,
   "input_path": "__notebook__.ipynb",
   "output_path": "__notebook__.ipynb",
   "parameters": {},
   "start_time": "2022-04-22T08:46:37.367959",
   "version": "2.3.4"
  }
 },
 "nbformat": 4,
 "nbformat_minor": 5
}
