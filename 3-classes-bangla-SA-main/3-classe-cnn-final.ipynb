{
 "cells": [
  {
   "cell_type": "code",
   "execution_count": 1,
   "id": "2e579c83",
   "metadata": {
    "execution": {
     "iopub.execute_input": "2022-04-25T15:27:40.519206Z",
     "iopub.status.busy": "2022-04-25T15:27:40.518571Z",
     "iopub.status.idle": "2022-04-25T15:27:45.167153Z",
     "shell.execute_reply": "2022-04-25T15:27:45.166396Z"
    },
    "papermill": {
     "duration": 4.677352,
     "end_time": "2022-04-25T15:27:45.169773",
     "exception": false,
     "start_time": "2022-04-25T15:27:40.492421",
     "status": "completed"
    },
    "tags": []
   },
   "outputs": [],
   "source": [
    "import numpy as np\n",
    "import keras\n",
    "import pandas as pd \n",
    "from keras.models import Sequential\n",
    "from keras.layers import Dense, Dropout, Embedding, LSTM,Bidirectional,GlobalMaxPooling1D\n",
    "import re\n",
    "import tensorflow as tf\n",
    "from keras.preprocessing.text import Tokenizer"
   ]
  },
  {
   "cell_type": "code",
   "execution_count": 2,
   "id": "a2e3bfc2",
   "metadata": {
    "execution": {
     "iopub.execute_input": "2022-04-25T15:27:45.215948Z",
     "iopub.status.busy": "2022-04-25T15:27:45.215744Z",
     "iopub.status.idle": "2022-04-25T15:27:46.056381Z",
     "shell.execute_reply": "2022-04-25T15:27:46.055668Z"
    },
    "papermill": {
     "duration": 0.865914,
     "end_time": "2022-04-25T15:27:46.058431",
     "exception": false,
     "start_time": "2022-04-25T15:27:45.192517",
     "status": "completed"
    },
    "tags": []
   },
   "outputs": [],
   "source": [
    "from keras.preprocessing.sequence import pad_sequences\n",
    "from keras.layers import Activation, Conv2D, Input, Embedding, Reshape, MaxPool1D, Concatenate, Flatten, Dropout, Dense, Conv1D\n",
    "from keras.models import Model\n",
    "from keras.callbacks import ModelCheckpoint\n",
    "from tensorflow.keras.optimizers import Adam,SGD\n",
    "import warnings\n",
    "warnings.filterwarnings('ignore')\n",
    "import seaborn as sns"
   ]
  },
  {
   "cell_type": "code",
   "execution_count": 3,
   "id": "ede8d307",
   "metadata": {
    "execution": {
     "iopub.execute_input": "2022-04-25T15:27:46.106247Z",
     "iopub.status.busy": "2022-04-25T15:27:46.105623Z",
     "iopub.status.idle": "2022-04-25T15:27:46.115011Z",
     "shell.execute_reply": "2022-04-25T15:27:46.114297Z"
    },
    "papermill": {
     "duration": 0.036555,
     "end_time": "2022-04-25T15:27:46.117674",
     "exception": false,
     "start_time": "2022-04-25T15:27:46.081119",
     "status": "completed"
    },
    "tags": []
   },
   "outputs": [
    {
     "name": "stdout",
     "output_type": "stream",
     "text": [
      "/kaggle/input/3-classes-bangla-sa/3_classes_Bert_Preprocessed__Dataset.xlsx\n"
     ]
    }
   ],
   "source": [
    "import os\n",
    "for dirname, _, filenames in os.walk('/kaggle/input'):\n",
    "    for filename in filenames:\n",
    "        print(os.path.join(dirname, filename))"
   ]
  },
  {
   "cell_type": "code",
   "execution_count": 4,
   "id": "2e42893c",
   "metadata": {
    "execution": {
     "iopub.execute_input": "2022-04-25T15:27:46.167457Z",
     "iopub.status.busy": "2022-04-25T15:27:46.166871Z",
     "iopub.status.idle": "2022-04-25T15:27:57.107338Z",
     "shell.execute_reply": "2022-04-25T15:27:57.106292Z"
    },
    "papermill": {
     "duration": 10.966506,
     "end_time": "2022-04-25T15:27:57.109177",
     "exception": false,
     "start_time": "2022-04-25T15:27:46.142671",
     "status": "completed"
    },
    "tags": []
   },
   "outputs": [
    {
     "name": "stdout",
     "output_type": "stream",
     "text": [
      "Collecting openpyxl\r\n",
      "  Downloading openpyxl-3.0.9-py2.py3-none-any.whl (242 kB)\r\n",
      "\u001b[2K     \u001b[90m━━━━━━━━━━━━━━━━━━━━━━━━━━━━━━━━━━━━━━━\u001b[0m \u001b[32m242.2/242.2 KB\u001b[0m \u001b[31m1.6 MB/s\u001b[0m eta \u001b[36m0:00:00\u001b[0m\r\n",
      "\u001b[?25hCollecting et-xmlfile\r\n",
      "  Downloading et_xmlfile-1.1.0-py3-none-any.whl (4.7 kB)\r\n",
      "Installing collected packages: et-xmlfile, openpyxl\r\n",
      "Successfully installed et-xmlfile-1.1.0 openpyxl-3.0.9\r\n",
      "\u001b[33mWARNING: Running pip as the 'root' user can result in broken permissions and conflicting behaviour with the system package manager. It is recommended to use a virtual environment instead: https://pip.pypa.io/warnings/venv\u001b[0m\u001b[33m\r\n",
      "\u001b[0mNote: you may need to restart the kernel to use updated packages.\n"
     ]
    }
   ],
   "source": [
    "pip install openpyxl"
   ]
  },
  {
   "cell_type": "code",
   "execution_count": 5,
   "id": "7c9e6684",
   "metadata": {
    "execution": {
     "iopub.execute_input": "2022-04-25T15:27:57.163539Z",
     "iopub.status.busy": "2022-04-25T15:27:57.163289Z",
     "iopub.status.idle": "2022-04-25T15:28:00.276150Z",
     "shell.execute_reply": "2022-04-25T15:28:00.275258Z"
    },
    "papermill": {
     "duration": 3.1444,
     "end_time": "2022-04-25T15:28:00.279423",
     "exception": false,
     "start_time": "2022-04-25T15:27:57.135023",
     "status": "completed"
    },
    "tags": []
   },
   "outputs": [
    {
     "name": "stdout",
     "output_type": "stream",
     "text": [
      "<class 'pandas.core.frame.DataFrame'>\n",
      "RangeIndex: 15728 entries, 0 to 15727\n",
      "Data columns (total 5 columns):\n",
      " #   Column      Non-Null Count  Dtype \n",
      "---  ------      --------------  ----- \n",
      " 0   Unnamed: 0  15728 non-null  int64 \n",
      " 1   Data        15728 non-null  object\n",
      " 2   Label       15728 non-null  int64 \n",
      " 3   Token       15728 non-null  object\n",
      " 4   Token_ID    15728 non-null  object\n",
      "dtypes: int64(2), object(3)\n",
      "memory usage: 614.5+ KB\n"
     ]
    }
   ],
   "source": [
    "df=pd.read_excel('/kaggle/input/3-classes-bangla-sa/3_classes_Bert_Preprocessed__Dataset.xlsx')\n",
    "df.info()"
   ]
  },
  {
   "cell_type": "code",
   "execution_count": 6,
   "id": "1f680535",
   "metadata": {
    "execution": {
     "iopub.execute_input": "2022-04-25T15:28:00.345582Z",
     "iopub.status.busy": "2022-04-25T15:28:00.345184Z",
     "iopub.status.idle": "2022-04-25T15:28:00.362917Z",
     "shell.execute_reply": "2022-04-25T15:28:00.362060Z"
    },
    "papermill": {
     "duration": 0.051212,
     "end_time": "2022-04-25T15:28:00.365295",
     "exception": false,
     "start_time": "2022-04-25T15:28:00.314083",
     "status": "completed"
    },
    "tags": []
   },
   "outputs": [
    {
     "data": {
      "text/html": [
       "<div>\n",
       "<style scoped>\n",
       "    .dataframe tbody tr th:only-of-type {\n",
       "        vertical-align: middle;\n",
       "    }\n",
       "\n",
       "    .dataframe tbody tr th {\n",
       "        vertical-align: top;\n",
       "    }\n",
       "\n",
       "    .dataframe thead th {\n",
       "        text-align: right;\n",
       "    }\n",
       "</style>\n",
       "<table border=\"1\" class=\"dataframe\">\n",
       "  <thead>\n",
       "    <tr style=\"text-align: right;\">\n",
       "      <th></th>\n",
       "      <th>Unnamed: 0</th>\n",
       "      <th>Data</th>\n",
       "      <th>Label</th>\n",
       "      <th>Token</th>\n",
       "      <th>Token_ID</th>\n",
       "    </tr>\n",
       "  </thead>\n",
       "  <tbody>\n",
       "    <tr>\n",
       "      <th>0</th>\n",
       "      <td>4032</td>\n",
       "      <td>এক মাস সেহেরি খাইয়া রোজা রাহা সোজা</td>\n",
       "      <td>1</td>\n",
       "      <td>['এক', 'মাস', 'সে', '##হের', '##ি', '[UNK]', '...</td>\n",
       "      <td>[788, 1293, 809, 2685, 416, 1, 12209, 3462, 41...</td>\n",
       "    </tr>\n",
       "    <tr>\n",
       "      <th>1</th>\n",
       "      <td>3587</td>\n",
       "      <td>ভাই আমাদের মাতৃভুমিটা এত সুনদর</td>\n",
       "      <td>1</td>\n",
       "      <td>['ভাই', 'আমাদের', 'মাতৃ', '##ভু', '##মিট', '##...</td>\n",
       "      <td>[1352, 1029, 6563, 12357, 12290, 415, 1284, 36...</td>\n",
       "    </tr>\n",
       "    <tr>\n",
       "      <th>2</th>\n",
       "      <td>8968</td>\n",
       "      <td>জানুয়ারীতে কেন  ঐ সময় স্পেশাল কি</td>\n",
       "      <td>1</td>\n",
       "      <td>['[UNK]', 'কেন', 'ঐ', '[UNK]', 'স্পেশাল', 'কি']</td>\n",
       "      <td>[1, 1107, 218, 1, 10225, 817]</td>\n",
       "    </tr>\n",
       "    <tr>\n",
       "      <th>3</th>\n",
       "      <td>95</td>\n",
       "      <td>তোরা কখন কাচা রসুন চাবিয়ে খেয়ে দেখেচিস</td>\n",
       "      <td>2</td>\n",
       "      <td>['তোরা', 'কখন', 'কাচা', 'রসুন', '[UNK]', '[UNK...</td>\n",
       "      <td>[5712, 1394, 30306, 18173, 1, 1, 1172, 2408, 417]</td>\n",
       "    </tr>\n",
       "    <tr>\n",
       "      <th>4</th>\n",
       "      <td>1163</td>\n",
       "      <td>হ্যাঁ হ্যাঁ হ্যাঁ হ্যাঁ জীবন টা বেদনা</td>\n",
       "      <td>2</td>\n",
       "      <td>['হ্যাঁ', 'হ্যাঁ', 'হ্যাঁ', 'হ্যাঁ', 'জীবন', '...</td>\n",
       "      <td>[2154, 2154, 2154, 2154, 1537, 1632, 10018]</td>\n",
       "    </tr>\n",
       "  </tbody>\n",
       "</table>\n",
       "</div>"
      ],
      "text/plain": [
       "   Unnamed: 0                                     Data  Label  \\\n",
       "0        4032       এক মাস সেহেরি খাইয়া রোজা রাহা সোজা      1   \n",
       "1        3587           ভাই আমাদের মাতৃভুমিটা এত সুনদর      1   \n",
       "2        8968         জানুয়ারীতে কেন  ঐ সময় স্পেশাল কি      1   \n",
       "3          95  তোরা কখন কাচা রসুন চাবিয়ে খেয়ে দেখেচিস       2   \n",
       "4        1163   হ্যাঁ হ্যাঁ হ্যাঁ হ্যাঁ জীবন টা বেদনা       2   \n",
       "\n",
       "                                               Token  \\\n",
       "0  ['এক', 'মাস', 'সে', '##হের', '##ি', '[UNK]', '...   \n",
       "1  ['ভাই', 'আমাদের', 'মাতৃ', '##ভু', '##মিট', '##...   \n",
       "2    ['[UNK]', 'কেন', 'ঐ', '[UNK]', 'স্পেশাল', 'কি']   \n",
       "3  ['তোরা', 'কখন', 'কাচা', 'রসুন', '[UNK]', '[UNK...   \n",
       "4  ['হ্যাঁ', 'হ্যাঁ', 'হ্যাঁ', 'হ্যাঁ', 'জীবন', '...   \n",
       "\n",
       "                                            Token_ID  \n",
       "0  [788, 1293, 809, 2685, 416, 1, 12209, 3462, 41...  \n",
       "1  [1352, 1029, 6563, 12357, 12290, 415, 1284, 36...  \n",
       "2                      [1, 1107, 218, 1, 10225, 817]  \n",
       "3  [5712, 1394, 30306, 18173, 1, 1, 1172, 2408, 417]  \n",
       "4        [2154, 2154, 2154, 2154, 1537, 1632, 10018]  "
      ]
     },
     "execution_count": 6,
     "metadata": {},
     "output_type": "execute_result"
    }
   ],
   "source": [
    "df.head()"
   ]
  },
  {
   "cell_type": "code",
   "execution_count": 7,
   "id": "8deabefe",
   "metadata": {
    "execution": {
     "iopub.execute_input": "2022-04-25T15:28:00.421201Z",
     "iopub.status.busy": "2022-04-25T15:28:00.420960Z",
     "iopub.status.idle": "2022-04-25T15:28:00.612914Z",
     "shell.execute_reply": "2022-04-25T15:28:00.612264Z"
    },
    "papermill": {
     "duration": 0.222572,
     "end_time": "2022-04-25T15:28:00.615080",
     "exception": false,
     "start_time": "2022-04-25T15:28:00.392508",
     "status": "completed"
    },
    "tags": []
   },
   "outputs": [
    {
     "data": {
      "text/plain": [
       "<AxesSubplot:xlabel='Label', ylabel='count'>"
      ]
     },
     "execution_count": 7,
     "metadata": {},
     "output_type": "execute_result"
    },
    {
     "data": {
      "image/png": "[encoded data removed]",
      "text/plain": [
       "<Figure size 432x288 with 1 Axes>"
      ]
     },
     "metadata": {
      "needs_background": "light"
     },
     "output_type": "display_data"
    }
   ],
   "source": [
    "sns.countplot(df['Label'])"
   ]
  },
  {
   "cell_type": "code",
   "execution_count": 8,
   "id": "656b6754",
   "metadata": {
    "execution": {
     "iopub.execute_input": "2022-04-25T15:28:00.670434Z",
     "iopub.status.busy": "2022-04-25T15:28:00.670184Z",
     "iopub.status.idle": "2022-04-25T15:28:00.676765Z",
     "shell.execute_reply": "2022-04-25T15:28:00.676121Z"
    },
    "papermill": {
     "duration": 0.036263,
     "end_time": "2022-04-25T15:28:00.678459",
     "exception": false,
     "start_time": "2022-04-25T15:28:00.642196",
     "status": "completed"
    },
    "tags": []
   },
   "outputs": [
    {
     "data": {
      "text/plain": [
       "(1    6410\n",
       " 2    5709\n",
       " 0    3609\n",
       " Name: Label, dtype: int64,\n",
       " 15728)"
      ]
     },
     "execution_count": 8,
     "metadata": {},
     "output_type": "execute_result"
    }
   ],
   "source": [
    "df.Label.value_counts(), len(df)"
   ]
  },
  {
   "cell_type": "code",
   "execution_count": 9,
   "id": "7051140c",
   "metadata": {
    "execution": {
     "iopub.execute_input": "2022-04-25T15:28:00.734177Z",
     "iopub.status.busy": "2022-04-25T15:28:00.733575Z",
     "iopub.status.idle": "2022-04-25T15:28:00.738458Z",
     "shell.execute_reply": "2022-04-25T15:28:00.737723Z"
    },
    "papermill": {
     "duration": 0.034623,
     "end_time": "2022-04-25T15:28:00.740243",
     "exception": false,
     "start_time": "2022-04-25T15:28:00.705620",
     "status": "completed"
    },
    "tags": []
   },
   "outputs": [],
   "source": [
    "maxlen = 50\n",
    "max_features = 10000\n",
    "batch_size = 32"
   ]
  },
  {
   "cell_type": "code",
   "execution_count": 10,
   "id": "dce838db",
   "metadata": {
    "execution": {
     "iopub.execute_input": "2022-04-25T15:28:00.795857Z",
     "iopub.status.busy": "2022-04-25T15:28:00.795639Z",
     "iopub.status.idle": "2022-04-25T15:28:00.801112Z",
     "shell.execute_reply": "2022-04-25T15:28:00.800440Z"
    },
    "papermill": {
     "duration": 0.034962,
     "end_time": "2022-04-25T15:28:00.802770",
     "exception": false,
     "start_time": "2022-04-25T15:28:00.767808",
     "status": "completed"
    },
    "tags": []
   },
   "outputs": [],
   "source": [
    "df['Token']=df['Token'].astype('str')"
   ]
  },
  {
   "cell_type": "code",
   "execution_count": 11,
   "id": "32a594c3",
   "metadata": {
    "execution": {
     "iopub.execute_input": "2022-04-25T15:28:00.858378Z",
     "iopub.status.busy": "2022-04-25T15:28:00.858137Z",
     "iopub.status.idle": "2022-04-25T15:28:01.027115Z",
     "shell.execute_reply": "2022-04-25T15:28:01.026386Z"
    },
    "papermill": {
     "duration": 0.199835,
     "end_time": "2022-04-25T15:28:01.029628",
     "exception": false,
     "start_time": "2022-04-25T15:28:00.829793",
     "status": "completed"
    },
    "tags": []
   },
   "outputs": [],
   "source": [
    "from sklearn.model_selection import train_test_split\n",
    "x_train, x_test, y_train, y_test = train_test_split(df['Token'],df['Label'] , test_size=0.1,random_state=2)\n",
    "x_train, x_validation, y_train, y_validation = train_test_split(x_train,y_train,test_size=0.1,random_state=42)"
   ]
  },
  {
   "cell_type": "code",
   "execution_count": 12,
   "id": "0e1307b3",
   "metadata": {
    "execution": {
     "iopub.execute_input": "2022-04-25T15:28:01.086360Z",
     "iopub.status.busy": "2022-04-25T15:28:01.086103Z",
     "iopub.status.idle": "2022-04-25T15:28:01.089446Z",
     "shell.execute_reply": "2022-04-25T15:28:01.088776Z"
    },
    "papermill": {
     "duration": 0.033463,
     "end_time": "2022-04-25T15:28:01.091102",
     "exception": false,
     "start_time": "2022-04-25T15:28:01.057639",
     "status": "completed"
    },
    "tags": []
   },
   "outputs": [],
   "source": [
    "vocab_size=32000"
   ]
  },
  {
   "cell_type": "code",
   "execution_count": 13,
   "id": "192b6420",
   "metadata": {
    "execution": {
     "iopub.execute_input": "2022-04-25T15:28:01.146541Z",
     "iopub.status.busy": "2022-04-25T15:28:01.145948Z",
     "iopub.status.idle": "2022-04-25T15:28:02.282599Z",
     "shell.execute_reply": "2022-04-25T15:28:02.281839Z"
    },
    "papermill": {
     "duration": 1.166844,
     "end_time": "2022-04-25T15:28:02.284961",
     "exception": false,
     "start_time": "2022-04-25T15:28:01.118117",
     "status": "completed"
    },
    "tags": []
   },
   "outputs": [],
   "source": [
    "tokenizer  = Tokenizer(num_words = max_features,oov_token = \"<OOV>\")\n",
    "tokenizer.fit_on_texts(df['Token'])\n",
    "\n",
    "train_seq =  tokenizer.texts_to_sequences(x_train)\n",
    "val_seq =  tokenizer.texts_to_sequences(x_validation)\n",
    "test_seq = tokenizer.texts_to_sequences(x_test)"
   ]
  },
  {
   "cell_type": "code",
   "execution_count": 14,
   "id": "35e6210f",
   "metadata": {
    "execution": {
     "iopub.execute_input": "2022-04-25T15:28:02.341897Z",
     "iopub.status.busy": "2022-04-25T15:28:02.341657Z",
     "iopub.status.idle": "2022-04-25T15:28:02.421090Z",
     "shell.execute_reply": "2022-04-25T15:28:02.420327Z"
    },
    "papermill": {
     "duration": 0.110303,
     "end_time": "2022-04-25T15:28:02.423090",
     "exception": false,
     "start_time": "2022-04-25T15:28:02.312787",
     "status": "completed"
    },
    "tags": []
   },
   "outputs": [],
   "source": [
    "x_train = pad_sequences(train_seq, maxlen=maxlen, dtype='int32', padding='post',truncating='post') #maxlen = maxlen, padding='post')\n",
    "x_validation = pad_sequences(val_seq, maxlen=maxlen, dtype='int32', padding='post',truncating='post') #maxlen = maxlen, padding='post')\n",
    "x_test = pad_sequences(test_seq, maxlen=maxlen, dtype='int32', padding='post',truncating='post') #maxlen = maxlen, padding='post')"
   ]
  },
  {
   "cell_type": "code",
   "execution_count": 15,
   "id": "447d3f46",
   "metadata": {
    "execution": {
     "iopub.execute_input": "2022-04-25T15:28:02.479792Z",
     "iopub.status.busy": "2022-04-25T15:28:02.479549Z",
     "iopub.status.idle": "2022-04-25T15:28:05.039314Z",
     "shell.execute_reply": "2022-04-25T15:28:05.038497Z"
    },
    "papermill": {
     "duration": 2.591086,
     "end_time": "2022-04-25T15:28:05.041943",
     "exception": false,
     "start_time": "2022-04-25T15:28:02.450857",
     "status": "completed"
    },
    "tags": []
   },
   "outputs": [
    {
     "name": "stderr",
     "output_type": "stream",
     "text": [
      "2022-04-25 15:28:02.578802: I tensorflow/stream_executor/cuda/cuda_gpu_executor.cc:937] successful NUMA node read from SysFS had negative value (-1), but there must be at least one NUMA node, so returning NUMA node zero\n"
     ]
    },
    {
     "name": "stdout",
     "output_type": "stream",
     "text": [
      "Model: \"sequential\"\n",
      "_________________________________________________________________\n",
      "Layer (type)                 Output Shape              Param #   \n",
      "=================================================================\n",
      "Embedding (Embedding)        (None, 50, 100)           3200000   \n",
      "_________________________________________________________________\n",
      "conv1d (Conv1D)              (None, 48, 200)           60200     \n",
      "_________________________________________________________________\n",
      "global_max_pooling1d (Global (None, 200)               0         \n",
      "_________________________________________________________________\n",
      "dropout (Dropout)            (None, 200)               0         \n",
      "_________________________________________________________________\n",
      "dense (Dense)                (None, 100)               20100     \n",
      "_________________________________________________________________\n",
      "dropout_1 (Dropout)          (None, 100)               0         \n",
      "_________________________________________________________________\n",
      "dense_1 (Dense)              (None, 50)                5050      \n",
      "_________________________________________________________________\n",
      "dropout_2 (Dropout)          (None, 50)                0         \n",
      "_________________________________________________________________\n",
      "dense_2 (Dense)              (None, 25)                1275      \n",
      "_________________________________________________________________\n",
      "dropout_3 (Dropout)          (None, 25)                0         \n",
      "_________________________________________________________________\n",
      "dense_3 (Dense)              (None, 12)                312       \n",
      "_________________________________________________________________\n",
      "flatten (Flatten)            (None, 12)                0         \n",
      "_________________________________________________________________\n",
      "dense_4 (Dense)              (None, 3)                 39        \n",
      "=================================================================\n",
      "Total params: 3,286,976\n",
      "Trainable params: 3,286,976\n",
      "Non-trainable params: 0\n",
      "_________________________________________________________________\n"
     ]
    },
    {
     "name": "stderr",
     "output_type": "stream",
     "text": [
      "2022-04-25 15:28:02.680954: I tensorflow/stream_executor/cuda/cuda_gpu_executor.cc:937] successful NUMA node read from SysFS had negative value (-1), but there must be at least one NUMA node, so returning NUMA node zero\n",
      "2022-04-25 15:28:02.681791: I tensorflow/stream_executor/cuda/cuda_gpu_executor.cc:937] successful NUMA node read from SysFS had negative value (-1), but there must be at least one NUMA node, so returning NUMA node zero\n",
      "2022-04-25 15:28:02.683557: I tensorflow/core/platform/cpu_feature_guard.cc:142] This TensorFlow binary is optimized with oneAPI Deep Neural Network Library (oneDNN) to use the following CPU instructions in performance-critical operations:  AVX2 AVX512F FMA\n",
      "To enable them in other operations, rebuild TensorFlow with the appropriate compiler flags.\n",
      "2022-04-25 15:28:02.683946: I tensorflow/stream_executor/cuda/cuda_gpu_executor.cc:937] successful NUMA node read from SysFS had negative value (-1), but there must be at least one NUMA node, so returning NUMA node zero\n",
      "2022-04-25 15:28:02.684882: I tensorflow/stream_executor/cuda/cuda_gpu_executor.cc:937] successful NUMA node read from SysFS had negative value (-1), but there must be at least one NUMA node, so returning NUMA node zero\n",
      "2022-04-25 15:28:02.685869: I tensorflow/stream_executor/cuda/cuda_gpu_executor.cc:937] successful NUMA node read from SysFS had negative value (-1), but there must be at least one NUMA node, so returning NUMA node zero\n",
      "2022-04-25 15:28:04.570844: I tensorflow/stream_executor/cuda/cuda_gpu_executor.cc:937] successful NUMA node read from SysFS had negative value (-1), but there must be at least one NUMA node, so returning NUMA node zero\n",
      "2022-04-25 15:28:04.572080: I tensorflow/stream_executor/cuda/cuda_gpu_executor.cc:937] successful NUMA node read from SysFS had negative value (-1), but there must be at least one NUMA node, so returning NUMA node zero\n",
      "2022-04-25 15:28:04.573066: I tensorflow/stream_executor/cuda/cuda_gpu_executor.cc:937] successful NUMA node read from SysFS had negative value (-1), but there must be at least one NUMA node, so returning NUMA node zero\n",
      "2022-04-25 15:28:04.574645: I tensorflow/core/common_runtime/gpu/gpu_device.cc:1510] Created device /job:localhost/replica:0/task:0/device:GPU:0 with 15403 MB memory:  -> device: 0, name: Tesla P100-PCIE-16GB, pci bus id: 0000:00:04.0, compute capability: 6.0\n"
     ]
    }
   ],
   "source": [
    "model= Sequential()\n",
    "model.add(Embedding(vocab_size,100,input_length=maxlen,name='Embedding'))\n",
    "model.add(Conv1D(200, kernel_size=3, activation = \"relu\"))\n",
    "model.add(GlobalMaxPooling1D())\n",
    "model.add(Dropout(0.25))\n",
    "model.add(Dense(100, activation='relu'))\n",
    "model.add(Dropout(0.1))\n",
    "model.add(Dense(50, activation='relu'))\n",
    "model.add(Dropout(0.2))\n",
    "model.add(Dense(25, activation='relu'))\n",
    "model.add(Dropout(0.1))\n",
    "model.add(Dense(12, activation='relu'))\n",
    "model.add(Flatten())\n",
    "model.add(Dense(units=3, activation='softmax'))\n",
    "adam=Adam(learning_rate=0.003)\n",
    "model.summary()\n",
    "model.compile(loss='sparse_categorical_crossentropy',optimizer='adam',metrics=['accuracy'])"
   ]
  },
  {
   "cell_type": "code",
   "execution_count": 16,
   "id": "86efeb20",
   "metadata": {
    "execution": {
     "iopub.execute_input": "2022-04-25T15:28:05.100782Z",
     "iopub.status.busy": "2022-04-25T15:28:05.100545Z",
     "iopub.status.idle": "2022-04-25T15:28:05.104436Z",
     "shell.execute_reply": "2022-04-25T15:28:05.103712Z"
    },
    "papermill": {
     "duration": 0.034711,
     "end_time": "2022-04-25T15:28:05.106077",
     "exception": false,
     "start_time": "2022-04-25T15:28:05.071366",
     "status": "completed"
    },
    "tags": []
   },
   "outputs": [],
   "source": [
    "early_stopping = keras.callbacks.EarlyStopping(\n",
    "    patience=15,\n",
    "    min_delta=0.001,\n",
    "    restore_best_weights=True,\n",
    ")"
   ]
  },
  {
   "cell_type": "code",
   "execution_count": 17,
   "id": "d0997f27",
   "metadata": {
    "execution": {
     "iopub.execute_input": "2022-04-25T15:28:05.163927Z",
     "iopub.status.busy": "2022-04-25T15:28:05.163691Z",
     "iopub.status.idle": "2022-04-25T15:28:42.270194Z",
     "shell.execute_reply": "2022-04-25T15:28:42.269471Z"
    },
    "papermill": {
     "duration": 37.137509,
     "end_time": "2022-04-25T15:28:42.272130",
     "exception": false,
     "start_time": "2022-04-25T15:28:05.134621",
     "status": "completed"
    },
    "tags": []
   },
   "outputs": [
    {
     "name": "stderr",
     "output_type": "stream",
     "text": [
      "2022-04-25 15:28:05.232614: I tensorflow/compiler/mlir/mlir_graph_optimization_pass.cc:185] None of the MLIR Optimization Passes are enabled (registered 2)\n"
     ]
    },
    {
     "name": "stdout",
     "output_type": "stream",
     "text": [
      "Epoch 1/30\n"
     ]
    },
    {
     "name": "stderr",
     "output_type": "stream",
     "text": [
      "2022-04-25 15:28:06.636020: I tensorflow/stream_executor/cuda/cuda_dnn.cc:369] Loaded cuDNN version 8005\n"
     ]
    },
    {
     "name": "stdout",
     "output_type": "stream",
     "text": [
      "399/399 [==============================] - 9s 5ms/step - loss: 0.9162 - accuracy: 0.5585 - val_loss: 0.7799 - val_accuracy: 0.6377\n",
      "Epoch 2/30\n",
      "399/399 [==============================] - 2s 5ms/step - loss: 0.6388 - accuracy: 0.7411 - val_loss: 0.7215 - val_accuracy: 0.6850\n",
      "Epoch 3/30\n",
      "399/399 [==============================] - 2s 4ms/step - loss: 0.4078 - accuracy: 0.8505 - val_loss: 0.7857 - val_accuracy: 0.6857\n",
      "Epoch 4/30\n",
      "399/399 [==============================] - 2s 4ms/step - loss: 0.2658 - accuracy: 0.9107 - val_loss: 0.9215 - val_accuracy: 0.6829\n",
      "Epoch 5/30\n",
      "399/399 [==============================] - 2s 4ms/step - loss: 0.1817 - accuracy: 0.9396 - val_loss: 1.1902 - val_accuracy: 0.6886\n",
      "Epoch 6/30\n",
      "399/399 [==============================] - 2s 4ms/step - loss: 0.1247 - accuracy: 0.9586 - val_loss: 1.2179 - val_accuracy: 0.6645\n",
      "Epoch 7/30\n",
      "399/399 [==============================] - 2s 4ms/step - loss: 0.1061 - accuracy: 0.9629 - val_loss: 1.4230 - val_accuracy: 0.6857\n",
      "Epoch 8/30\n",
      "399/399 [==============================] - 2s 4ms/step - loss: 0.0843 - accuracy: 0.9696 - val_loss: 1.4941 - val_accuracy: 0.6737\n",
      "Epoch 9/30\n",
      "399/399 [==============================] - 2s 5ms/step - loss: 0.0789 - accuracy: 0.9710 - val_loss: 1.6195 - val_accuracy: 0.6702\n",
      "Epoch 10/30\n",
      "399/399 [==============================] - 2s 4ms/step - loss: 0.0701 - accuracy: 0.9730 - val_loss: 1.8632 - val_accuracy: 0.6935\n",
      "Epoch 11/30\n",
      "399/399 [==============================] - 2s 5ms/step - loss: 0.0604 - accuracy: 0.9751 - val_loss: 1.9895 - val_accuracy: 0.6716\n",
      "Epoch 12/30\n",
      "399/399 [==============================] - 2s 4ms/step - loss: 0.0626 - accuracy: 0.9754 - val_loss: 2.0183 - val_accuracy: 0.6822\n",
      "Epoch 13/30\n",
      "399/399 [==============================] - 2s 4ms/step - loss: 0.0561 - accuracy: 0.9757 - val_loss: 2.4820 - val_accuracy: 0.6843\n",
      "Epoch 14/30\n",
      "399/399 [==============================] - 2s 5ms/step - loss: 0.0455 - accuracy: 0.9795 - val_loss: 2.6237 - val_accuracy: 0.6758\n",
      "Epoch 15/30\n",
      "399/399 [==============================] - 2s 5ms/step - loss: 0.0509 - accuracy: 0.9783 - val_loss: 2.3517 - val_accuracy: 0.6879\n",
      "Epoch 16/30\n",
      "399/399 [==============================] - 2s 4ms/step - loss: 0.0494 - accuracy: 0.9783 - val_loss: 2.4216 - val_accuracy: 0.6758\n",
      "Epoch 17/30\n",
      "399/399 [==============================] - 2s 4ms/step - loss: 0.0439 - accuracy: 0.9810 - val_loss: 2.6762 - val_accuracy: 0.6780\n"
     ]
    }
   ],
   "source": [
    "history = model.fit(x_train, y_train, batch_size=batch_size, epochs=30, callbacks=[early_stopping],verbose=1, validation_data=(x_validation, y_validation))"
   ]
  },
  {
   "cell_type": "code",
   "execution_count": 18,
   "id": "4d0fd5b6",
   "metadata": {
    "execution": {
     "iopub.execute_input": "2022-04-25T15:28:42.687324Z",
     "iopub.status.busy": "2022-04-25T15:28:42.686651Z",
     "iopub.status.idle": "2022-04-25T15:28:43.472724Z",
     "shell.execute_reply": "2022-04-25T15:28:43.471926Z"
    },
    "papermill": {
     "duration": 0.993556,
     "end_time": "2022-04-25T15:28:43.474699",
     "exception": false,
     "start_time": "2022-04-25T15:28:42.481143",
     "status": "completed"
    },
    "tags": []
   },
   "outputs": [
    {
     "data": {
      "image/png": "[encoded data removed]",
      "text/plain": [
       "<IPython.core.display.Image object>"
      ]
     },
     "execution_count": 18,
     "metadata": {},
     "output_type": "execute_result"
    }
   ],
   "source": [
    "tf.keras.utils.plot_model(model, to_file='model.png', show_shapes=False,show_layer_names=True, rankdir='TB', expand_nested=False, dpi=96)"
   ]
  },
  {
   "cell_type": "code",
   "execution_count": 19,
   "id": "3747d456",
   "metadata": {
    "execution": {
     "iopub.execute_input": "2022-04-25T15:28:43.894786Z",
     "iopub.status.busy": "2022-04-25T15:28:43.894496Z",
     "iopub.status.idle": "2022-04-25T15:28:44.057761Z",
     "shell.execute_reply": "2022-04-25T15:28:44.057071Z"
    },
    "papermill": {
     "duration": 0.371898,
     "end_time": "2022-04-25T15:28:44.059400",
     "exception": false,
     "start_time": "2022-04-25T15:28:43.687502",
     "status": "completed"
    },
    "tags": []
   },
   "outputs": [
    {
     "name": "stdout",
     "output_type": "stream",
     "text": [
      "50/50 [==============================] - 0s 2ms/step - loss: 0.7213 - accuracy: 0.7006\n"
     ]
    },
    {
     "data": {
      "text/plain": [
       "[0.7212726473808289, 0.70057213306427]"
      ]
     },
     "execution_count": 19,
     "metadata": {},
     "output_type": "execute_result"
    }
   ],
   "source": [
    "model.evaluate(x_test, y_test)"
   ]
  },
  {
   "cell_type": "code",
   "execution_count": 20,
   "id": "c4a06087",
   "metadata": {
    "execution": {
     "iopub.execute_input": "2022-04-25T15:28:44.477895Z",
     "iopub.status.busy": "2022-04-25T15:28:44.477636Z",
     "iopub.status.idle": "2022-04-25T15:28:44.709785Z",
     "shell.execute_reply": "2022-04-25T15:28:44.709110Z"
    },
    "papermill": {
     "duration": 0.442524,
     "end_time": "2022-04-25T15:28:44.711643",
     "exception": false,
     "start_time": "2022-04-25T15:28:44.269119",
     "status": "completed"
    },
    "tags": []
   },
   "outputs": [
    {
     "data": {
      "image/png": "[encoded data removed]",
      "text/plain": [
       "<Figure size 432x288 with 1 Axes>"
      ]
     },
     "metadata": {
      "needs_background": "light"
     },
     "output_type": "display_data"
    }
   ],
   "source": [
    "import matplotlib.pyplot as plt\n",
    "\n",
    "plt.plot(history.history['accuracy'], label=\"Accuracy\")\n",
    "plt.plot(history.history['val_accuracy'], label=\"Validation accuracy\")\n",
    "plt.title('Accuracy')\n",
    "plt.xlabel('Epoch')\n",
    "plt.ylabel('Accuracy')\n",
    "plt.legend()\n",
    "plt.tight_layout()\n",
    "plt.show()"
   ]
  },
  {
   "cell_type": "code",
   "execution_count": 21,
   "id": "6346d986",
   "metadata": {
    "execution": {
     "iopub.execute_input": "2022-04-25T15:28:45.131301Z",
     "iopub.status.busy": "2022-04-25T15:28:45.130677Z",
     "iopub.status.idle": "2022-04-25T15:28:45.358661Z",
     "shell.execute_reply": "2022-04-25T15:28:45.358014Z"
    },
    "papermill": {
     "duration": 0.439817,
     "end_time": "2022-04-25T15:28:45.360387",
     "exception": false,
     "start_time": "2022-04-25T15:28:44.920570",
     "status": "completed"
    },
    "tags": []
   },
   "outputs": [
    {
     "data": {
      "image/png": "[encoded data removed]",
      "text/plain": [
       "<Figure size 432x288 with 1 Axes>"
      ]
     },
     "metadata": {
      "needs_background": "light"
     },
     "output_type": "display_data"
    }
   ],
   "source": [
    "import matplotlib.pyplot as plt\n",
    "\n",
    "plt.plot(history.history['loss'], label=\"Train loss\")\n",
    "plt.plot(history.history['val_loss'], label=\"Validation loss\")\n",
    "plt.title('Loss')\n",
    "plt.xlabel('Epoch')\n",
    "plt.ylabel('Loss')\n",
    "plt.legend()\n",
    "plt.tight_layout()\n",
    "plt.show()"
   ]
  },
  {
   "cell_type": "code",
   "execution_count": 22,
   "id": "84bb7b86",
   "metadata": {
    "execution": {
     "iopub.execute_input": "2022-04-25T15:28:45.778643Z",
     "iopub.status.busy": "2022-04-25T15:28:45.778394Z",
     "iopub.status.idle": "2022-04-25T15:28:45.964386Z",
     "shell.execute_reply": "2022-04-25T15:28:45.963661Z"
    },
    "papermill": {
     "duration": 0.397449,
     "end_time": "2022-04-25T15:28:45.966523",
     "exception": false,
     "start_time": "2022-04-25T15:28:45.569074",
     "status": "completed"
    },
    "tags": []
   },
   "outputs": [],
   "source": [
    "from sklearn.metrics import classification_report\n",
    "\n",
    "y_pred = model.predict(x_test)\n",
    "y_pred = np.argmax(y_pred,axis=1)"
   ]
  },
  {
   "cell_type": "code",
   "execution_count": 23,
   "id": "bc72cc02",
   "metadata": {
    "execution": {
     "iopub.execute_input": "2022-04-25T15:28:46.388740Z",
     "iopub.status.busy": "2022-04-25T15:28:46.388499Z",
     "iopub.status.idle": "2022-04-25T15:28:46.393076Z",
     "shell.execute_reply": "2022-04-25T15:28:46.392289Z"
    },
    "papermill": {
     "duration": 0.218306,
     "end_time": "2022-04-25T15:28:46.396244",
     "exception": false,
     "start_time": "2022-04-25T15:28:46.177938",
     "status": "completed"
    },
    "tags": []
   },
   "outputs": [
    {
     "name": "stdout",
     "output_type": "stream",
     "text": [
      "(1573,)\n",
      "(1573,)\n"
     ]
    }
   ],
   "source": [
    "print(y_test.shape)\n",
    "print(y_pred.shape)"
   ]
  },
  {
   "cell_type": "code",
   "execution_count": 24,
   "id": "d3c1287a",
   "metadata": {
    "execution": {
     "iopub.execute_input": "2022-04-25T15:28:46.815623Z",
     "iopub.status.busy": "2022-04-25T15:28:46.815134Z",
     "iopub.status.idle": "2022-04-25T15:28:46.818807Z",
     "shell.execute_reply": "2022-04-25T15:28:46.818148Z"
    },
    "papermill": {
     "duration": 0.215609,
     "end_time": "2022-04-25T15:28:46.820633",
     "exception": false,
     "start_time": "2022-04-25T15:28:46.605024",
     "status": "completed"
    },
    "tags": []
   },
   "outputs": [],
   "source": [
    "y_pred = y_pred.reshape(-1,1)\n"
   ]
  },
  {
   "cell_type": "code",
   "execution_count": 25,
   "id": "e0380797",
   "metadata": {
    "execution": {
     "iopub.execute_input": "2022-04-25T15:28:47.250994Z",
     "iopub.status.busy": "2022-04-25T15:28:47.250749Z",
     "iopub.status.idle": "2022-04-25T15:28:47.262128Z",
     "shell.execute_reply": "2022-04-25T15:28:47.261349Z"
    },
    "papermill": {
     "duration": 0.233431,
     "end_time": "2022-04-25T15:28:47.264479",
     "exception": false,
     "start_time": "2022-04-25T15:28:47.031048",
     "status": "completed"
    },
    "tags": []
   },
   "outputs": [
    {
     "name": "stdout",
     "output_type": "stream",
     "text": [
      "              precision    recall  f1-score   support\n",
      "\n",
      "     neutral       0.55      0.46      0.50       358\n",
      "    positive       0.74      0.75      0.75       643\n",
      "    negative       0.73      0.80      0.76       572\n",
      "\n",
      "    accuracy                           0.70      1573\n",
      "   macro avg       0.67      0.67      0.67      1573\n",
      "weighted avg       0.69      0.70      0.70      1573\n",
      "\n"
     ]
    }
   ],
   "source": [
    "categories = ['neutral','positive','negative']\n",
    "print(classification_report(y_test, y_pred, target_names=categories))"
   ]
  },
  {
   "cell_type": "code",
   "execution_count": 26,
   "id": "5dd7748e",
   "metadata": {
    "execution": {
     "iopub.execute_input": "2022-04-25T15:28:47.697574Z",
     "iopub.status.busy": "2022-04-25T15:28:47.697320Z",
     "iopub.status.idle": "2022-04-25T15:28:48.058786Z",
     "shell.execute_reply": "2022-04-25T15:28:48.058090Z"
    },
    "papermill": {
     "duration": 0.574518,
     "end_time": "2022-04-25T15:28:48.060586",
     "exception": false,
     "start_time": "2022-04-25T15:28:47.486068",
     "status": "completed"
    },
    "tags": []
   },
   "outputs": [
    {
     "data": {
      "image/png": "[encoded data removed]",
      "text/plain": [
       "<Figure size 1152x1008 with 2 Axes>"
      ]
     },
     "metadata": {
      "needs_background": "light"
     },
     "output_type": "display_data"
    }
   ],
   "source": [
    "import seaborn as sns\n",
    "import matplotlib.pyplot as plt\n",
    "\n",
    "### Confusion Matrix\n",
    "from sklearn.metrics import confusion_matrix\n",
    "#predictions = model.predict(x_test, steps=len(x_test), verbose=0)\n",
    "#y_pred=model.predict(x_test)\n",
    "#y_pred = np.round(y_pred)\n",
    "\n",
    "\n",
    "cm = confusion_matrix(y_test, y_pred)\n",
    "\n",
    "## Get Class Labels\n",
    "labels = 3\n",
    "#[0,1,2,3,4,5]_\n",
    "class_names = categories \n",
    "\n",
    "# Plot confusion matrix in a beautiful manner\n",
    "fig = plt.figure(figsize=(16, 14))\n",
    "ax= plt.subplot()\n",
    "sns.heatmap(cm, annot=True, ax = ax, fmt = 'g'); #annot=True to annotate cells\n",
    "# labels, title and ticks\n",
    "ax.set_xlabel('Predicted', fontsize=20)\n",
    "ax.xaxis.set_label_position('bottom')\n",
    "plt.xticks(rotation=90)\n",
    "ax.xaxis.set_ticklabels(class_names, fontsize = 10)\n",
    "ax.xaxis.tick_bottom()\n",
    "\n",
    "ax.set_ylabel('True', fontsize=20)\n",
    "ax.yaxis.set_ticklabels(class_names, fontsize = 10)\n",
    "plt.yticks(rotation=0)\n",
    "\n",
    "plt.title('Refined Confusion Matrix', fontsize=20)\n",
    "\n",
    "plt.savefig('ConMat24.png')\n",
    "plt.show()"
   ]
  }
 ],
 "metadata": {
  "kernelspec": {
   "display_name": "Python 3",
   "language": "python",
   "name": "python3"
  },
  "language_info": {
   "codemirror_mode": {
    "name": "ipython",
    "version": 3
   },
   "file_extension": ".py",
   "mimetype": "text/x-python",
   "name": "python",
   "nbconvert_exporter": "python",
   "pygments_lexer": "ipython3",
   "version": "3.7.12"
  },
  "papermill": {
   "default_parameters": {},
   "duration": 79.371971,
   "end_time": "2022-04-25T15:28:52.004654",
   "environment_variables": {},
   "exception": null,
   "input_path": "__notebook__.ipynb",
   "output_path": "__notebook__.ipynb",
   "parameters": {},
   "start_time": "2022-04-25T15:27:32.632683",
   "version": "2.3.4"
  }
 },
 "nbformat": 4,
 "nbformat_minor": 5
}
