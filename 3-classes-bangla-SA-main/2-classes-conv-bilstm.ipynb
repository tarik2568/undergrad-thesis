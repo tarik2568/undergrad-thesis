{
 "cells": [
  {
   "cell_type": "code",
   "execution_count": 1,
   "id": "df31d4c0",
   "metadata": {
    "execution": {
     "iopub.execute_input": "2022-11-09T05:16:34.944357Z",
     "iopub.status.busy": "2022-11-09T05:16:34.942872Z",
     "iopub.status.idle": "2022-11-09T05:16:40.362227Z",
     "shell.execute_reply": "2022-11-09T05:16:40.362678Z",
     "shell.execute_reply.started": "2022-10-11T12:45:22.121177Z"
    },
    "papermill": {
     "duration": 5.44832,
     "end_time": "2022-11-09T05:16:40.362997",
     "exception": false,
     "start_time": "2022-11-09T05:16:34.914677",
     "status": "completed"
    },
    "tags": []
   },
   "outputs": [],
   "source": [
    "import numpy as np\n",
    "import keras\n",
    "import pandas as pd \n",
    "from keras.models import Sequential\n",
    "from keras.layers import Dense, Dropout, Embedding, LSTM,Bidirectional\n",
    "import re\n",
    "import tensorflow as tf\n",
    "from keras.preprocessing.text import Tokenizer"
   ]
  },
  {
   "cell_type": "code",
   "execution_count": 2,
   "id": "1cbdbd5e",
   "metadata": {
    "execution": {
     "iopub.execute_input": "2022-11-09T05:16:40.415791Z",
     "iopub.status.busy": "2022-11-09T05:16:40.414887Z",
     "iopub.status.idle": "2022-11-09T05:16:41.210218Z",
     "shell.execute_reply": "2022-11-09T05:16:41.210706Z",
     "shell.execute_reply.started": "2022-10-11T12:45:27.368027Z"
    },
    "papermill": {
     "duration": 0.824061,
     "end_time": "2022-11-09T05:16:41.210899",
     "exception": false,
     "start_time": "2022-11-09T05:16:40.386838",
     "status": "completed"
    },
    "tags": []
   },
   "outputs": [],
   "source": [
    "from keras.preprocessing.sequence import pad_sequences\n",
    "from keras.layers import Activation, Conv2D, Input, Embedding, Reshape, MaxPool1D, Concatenate, Flatten, Dropout, Dense, Conv1D\n",
    "from keras.models import Model\n",
    "from keras.callbacks import ModelCheckpoint\n",
    "from tensorflow.keras.optimizers import Adam,SGD\n",
    "import warnings\n",
    "warnings.filterwarnings('ignore')\n",
    "import seaborn as sns"
   ]
  },
  {
   "cell_type": "code",
   "execution_count": 3,
   "id": "8f6b4198",
   "metadata": {
    "execution": {
     "iopub.execute_input": "2022-11-09T05:16:41.261996Z",
     "iopub.status.busy": "2022-11-09T05:16:41.261363Z",
     "iopub.status.idle": "2022-11-09T05:16:41.272830Z",
     "shell.execute_reply": "2022-11-09T05:16:41.273398Z",
     "shell.execute_reply.started": "2022-10-11T12:45:28.192559Z"
    },
    "papermill": {
     "duration": 0.039475,
     "end_time": "2022-11-09T05:16:41.273568",
     "exception": false,
     "start_time": "2022-11-09T05:16:41.234093",
     "status": "completed"
    },
    "tags": []
   },
   "outputs": [
    {
     "name": "stdout",
     "output_type": "stream",
     "text": [
      "/kaggle/input/3-classes-bangla-sa/3_classes_Bert_Preprocessed__Dataset.xlsx\n"
     ]
    }
   ],
   "source": [
    "import os\n",
    "for dirname, _, filenames in os.walk('/kaggle/input'):\n",
    "    for filename in filenames:\n",
    "        print(os.path.join(dirname, filename))"
   ]
  },
  {
   "cell_type": "code",
   "execution_count": 4,
   "id": "f42f0b4c",
   "metadata": {
    "execution": {
     "iopub.execute_input": "2022-11-09T05:16:41.327360Z",
     "iopub.status.busy": "2022-11-09T05:16:41.326423Z",
     "iopub.status.idle": "2022-11-09T05:16:51.025055Z",
     "shell.execute_reply": "2022-11-09T05:16:51.024465Z",
     "shell.execute_reply.started": "2022-10-11T12:45:28.209046Z"
    },
    "papermill": {
     "duration": 9.72678,
     "end_time": "2022-11-09T05:16:51.025193",
     "exception": false,
     "start_time": "2022-11-09T05:16:41.298413",
     "status": "completed"
    },
    "tags": []
   },
   "outputs": [
    {
     "name": "stdout",
     "output_type": "stream",
     "text": [
      "Collecting openpyxl\r\n",
      "  Downloading openpyxl-3.0.10-py2.py3-none-any.whl (242 kB)\r\n",
      "     |████████████████████████████████| 242 kB 912 kB/s            \r\n",
      "\u001b[?25hCollecting et-xmlfile\r\n",
      "  Downloading et_xmlfile-1.1.0-py3-none-any.whl (4.7 kB)\r\n",
      "Installing collected packages: et-xmlfile, openpyxl\r\n",
      "Successfully installed et-xmlfile-1.1.0 openpyxl-3.0.10\r\n",
      "\u001b[33mWARNING: Running pip as the 'root' user can result in broken permissions and conflicting behaviour with the system package manager. It is recommended to use a virtual environment instead: https://pip.pypa.io/warnings/venv\u001b[0m\r\n",
      "Note: you may need to restart the kernel to use updated packages.\n"
     ]
    }
   ],
   "source": [
    "pip install openpyxl"
   ]
  },
  {
   "cell_type": "code",
   "execution_count": 5,
   "id": "6e640c88",
   "metadata": {
    "execution": {
     "iopub.execute_input": "2022-11-09T05:16:51.083446Z",
     "iopub.status.busy": "2022-11-09T05:16:51.082499Z",
     "iopub.status.idle": "2022-11-09T05:16:53.366110Z",
     "shell.execute_reply": "2022-11-09T05:16:53.365440Z",
     "shell.execute_reply.started": "2022-10-11T12:45:37.886595Z"
    },
    "papermill": {
     "duration": 2.314149,
     "end_time": "2022-11-09T05:16:53.366285",
     "exception": false,
     "start_time": "2022-11-09T05:16:51.052136",
     "status": "completed"
    },
    "tags": []
   },
   "outputs": [
    {
     "name": "stdout",
     "output_type": "stream",
     "text": [
      "<class 'pandas.core.frame.DataFrame'>\n",
      "RangeIndex: 15728 entries, 0 to 15727\n",
      "Data columns (total 5 columns):\n",
      " #   Column      Non-Null Count  Dtype \n",
      "---  ------      --------------  ----- \n",
      " 0   Unnamed: 0  15728 non-null  int64 \n",
      " 1   Data        15728 non-null  object\n",
      " 2   Label       15728 non-null  int64 \n",
      " 3   Token       15728 non-null  object\n",
      " 4   Token_ID    15728 non-null  object\n",
      "dtypes: int64(2), object(3)\n",
      "memory usage: 614.5+ KB\n"
     ]
    }
   ],
   "source": [
    "df=pd.read_excel('/kaggle/input/3-classes-bangla-sa/3_classes_Bert_Preprocessed__Dataset.xlsx')\n",
    "df.info()"
   ]
  },
  {
   "cell_type": "code",
   "execution_count": 6,
   "id": "5cc52028",
   "metadata": {
    "execution": {
     "iopub.execute_input": "2022-11-09T05:16:53.428078Z",
     "iopub.status.busy": "2022-11-09T05:16:53.425585Z",
     "iopub.status.idle": "2022-11-09T05:16:53.439255Z",
     "shell.execute_reply": "2022-11-09T05:16:53.439654Z",
     "shell.execute_reply.started": "2022-10-11T12:45:40.259996Z"
    },
    "papermill": {
     "duration": 0.046534,
     "end_time": "2022-11-09T05:16:53.439825",
     "exception": false,
     "start_time": "2022-11-09T05:16:53.393291",
     "status": "completed"
    },
    "tags": []
   },
   "outputs": [
    {
     "data": {
      "text/html": [
       "<div>\n",
       "<style scoped>\n",
       "    .dataframe tbody tr th:only-of-type {\n",
       "        vertical-align: middle;\n",
       "    }\n",
       "\n",
       "    .dataframe tbody tr th {\n",
       "        vertical-align: top;\n",
       "    }\n",
       "\n",
       "    .dataframe thead th {\n",
       "        text-align: right;\n",
       "    }\n",
       "</style>\n",
       "<table border=\"1\" class=\"dataframe\">\n",
       "  <thead>\n",
       "    <tr style=\"text-align: right;\">\n",
       "      <th></th>\n",
       "      <th>Unnamed: 0</th>\n",
       "      <th>Data</th>\n",
       "      <th>Label</th>\n",
       "      <th>Token</th>\n",
       "      <th>Token_ID</th>\n",
       "    </tr>\n",
       "  </thead>\n",
       "  <tbody>\n",
       "    <tr>\n",
       "      <th>0</th>\n",
       "      <td>4032</td>\n",
       "      <td>এক মাস সেহেরি খাইয়া রোজা রাহা সোজা</td>\n",
       "      <td>1</td>\n",
       "      <td>['এক', 'মাস', 'সে', '##হের', '##ি', '[UNK]', '...</td>\n",
       "      <td>[788, 1293, 809, 2685, 416, 1, 12209, 3462, 41...</td>\n",
       "    </tr>\n",
       "    <tr>\n",
       "      <th>1</th>\n",
       "      <td>3587</td>\n",
       "      <td>ভাই আমাদের মাতৃভুমিটা এত সুনদর</td>\n",
       "      <td>1</td>\n",
       "      <td>['ভাই', 'আমাদের', 'মাতৃ', '##ভু', '##মিট', '##...</td>\n",
       "      <td>[1352, 1029, 6563, 12357, 12290, 415, 1284, 36...</td>\n",
       "    </tr>\n",
       "    <tr>\n",
       "      <th>2</th>\n",
       "      <td>8968</td>\n",
       "      <td>জানুয়ারীতে কেন  ঐ সময় স্পেশাল কি</td>\n",
       "      <td>1</td>\n",
       "      <td>['[UNK]', 'কেন', 'ঐ', '[UNK]', 'স্পেশাল', 'কি']</td>\n",
       "      <td>[1, 1107, 218, 1, 10225, 817]</td>\n",
       "    </tr>\n",
       "    <tr>\n",
       "      <th>3</th>\n",
       "      <td>95</td>\n",
       "      <td>তোরা কখন কাচা রসুন চাবিয়ে খেয়ে দেখেচিস</td>\n",
       "      <td>2</td>\n",
       "      <td>['তোরা', 'কখন', 'কাচা', 'রসুন', '[UNK]', '[UNK...</td>\n",
       "      <td>[5712, 1394, 30306, 18173, 1, 1, 1172, 2408, 417]</td>\n",
       "    </tr>\n",
       "    <tr>\n",
       "      <th>4</th>\n",
       "      <td>1163</td>\n",
       "      <td>হ্যাঁ হ্যাঁ হ্যাঁ হ্যাঁ জীবন টা বেদনা</td>\n",
       "      <td>2</td>\n",
       "      <td>['হ্যাঁ', 'হ্যাঁ', 'হ্যাঁ', 'হ্যাঁ', 'জীবন', '...</td>\n",
       "      <td>[2154, 2154, 2154, 2154, 1537, 1632, 10018]</td>\n",
       "    </tr>\n",
       "  </tbody>\n",
       "</table>\n",
       "</div>"
      ],
      "text/plain": [
       "   Unnamed: 0                                     Data  Label  \\\n",
       "0        4032       এক মাস সেহেরি খাইয়া রোজা রাহা সোজা      1   \n",
       "1        3587           ভাই আমাদের মাতৃভুমিটা এত সুনদর      1   \n",
       "2        8968         জানুয়ারীতে কেন  ঐ সময় স্পেশাল কি      1   \n",
       "3          95  তোরা কখন কাচা রসুন চাবিয়ে খেয়ে দেখেচিস       2   \n",
       "4        1163   হ্যাঁ হ্যাঁ হ্যাঁ হ্যাঁ জীবন টা বেদনা       2   \n",
       "\n",
       "                                               Token  \\\n",
       "0  ['এক', 'মাস', 'সে', '##হের', '##ি', '[UNK]', '...   \n",
       "1  ['ভাই', 'আমাদের', 'মাতৃ', '##ভু', '##মিট', '##...   \n",
       "2    ['[UNK]', 'কেন', 'ঐ', '[UNK]', 'স্পেশাল', 'কি']   \n",
       "3  ['তোরা', 'কখন', 'কাচা', 'রসুন', '[UNK]', '[UNK...   \n",
       "4  ['হ্যাঁ', 'হ্যাঁ', 'হ্যাঁ', 'হ্যাঁ', 'জীবন', '...   \n",
       "\n",
       "                                            Token_ID  \n",
       "0  [788, 1293, 809, 2685, 416, 1, 12209, 3462, 41...  \n",
       "1  [1352, 1029, 6563, 12357, 12290, 415, 1284, 36...  \n",
       "2                      [1, 1107, 218, 1, 10225, 817]  \n",
       "3  [5712, 1394, 30306, 18173, 1, 1, 1172, 2408, 417]  \n",
       "4        [2154, 2154, 2154, 2154, 1537, 1632, 10018]  "
      ]
     },
     "execution_count": 6,
     "metadata": {},
     "output_type": "execute_result"
    }
   ],
   "source": [
    "df.head()"
   ]
  },
  {
   "cell_type": "code",
   "execution_count": 7,
   "id": "d1c4170d",
   "metadata": {
    "execution": {
     "iopub.execute_input": "2022-11-09T05:16:53.498980Z",
     "iopub.status.busy": "2022-11-09T05:16:53.498311Z",
     "iopub.status.idle": "2022-11-09T05:16:53.704158Z",
     "shell.execute_reply": "2022-11-09T05:16:53.704697Z",
     "shell.execute_reply.started": "2022-10-11T12:45:40.278196Z"
    },
    "papermill": {
     "duration": 0.238257,
     "end_time": "2022-11-09T05:16:53.704875",
     "exception": false,
     "start_time": "2022-11-09T05:16:53.466618",
     "status": "completed"
    },
    "tags": []
   },
   "outputs": [
    {
     "data": {
      "text/plain": [
       "<AxesSubplot:xlabel='Label', ylabel='count'>"
      ]
     },
     "execution_count": 7,
     "metadata": {},
     "output_type": "execute_result"
    },
    {
     "data": {
      "image/png": "[encoded data removed]",
      "text/plain": [
       "<Figure size 432x288 with 1 Axes>"
      ]
     },
     "metadata": {
      "needs_background": "light"
     },
     "output_type": "display_data"
    }
   ],
   "source": [
    "sns.countplot(df['Label'])"
   ]
  },
  {
   "cell_type": "code",
   "execution_count": 8,
   "id": "2a2238fc",
   "metadata": {
    "execution": {
     "iopub.execute_input": "2022-11-09T05:16:53.776443Z",
     "iopub.status.busy": "2022-11-09T05:16:53.775788Z",
     "iopub.status.idle": "2022-11-09T05:16:53.778464Z",
     "shell.execute_reply": "2022-11-09T05:16:53.778889Z",
     "shell.execute_reply.started": "2022-10-11T12:45:40.489435Z"
    },
    "papermill": {
     "duration": 0.039648,
     "end_time": "2022-11-09T05:16:53.779031",
     "exception": false,
     "start_time": "2022-11-09T05:16:53.739383",
     "status": "completed"
    },
    "tags": []
   },
   "outputs": [
    {
     "data": {
      "text/plain": [
       "(1    6410\n",
       " 2    5709\n",
       " 0    3609\n",
       " Name: Label, dtype: int64,\n",
       " 15728)"
      ]
     },
     "execution_count": 8,
     "metadata": {},
     "output_type": "execute_result"
    }
   ],
   "source": [
    "df.Label.value_counts(), len(df)"
   ]
  },
  {
   "cell_type": "code",
   "execution_count": 9,
   "id": "d53af287",
   "metadata": {
    "execution": {
     "iopub.execute_input": "2022-11-09T05:16:53.839228Z",
     "iopub.status.busy": "2022-11-09T05:16:53.838524Z",
     "iopub.status.idle": "2022-11-09T05:16:53.843022Z",
     "shell.execute_reply": "2022-11-09T05:16:53.843435Z",
     "shell.execute_reply.started": "2022-10-11T12:45:40.498244Z"
    },
    "papermill": {
     "duration": 0.036689,
     "end_time": "2022-11-09T05:16:53.843569",
     "exception": false,
     "start_time": "2022-11-09T05:16:53.806880",
     "status": "completed"
    },
    "tags": []
   },
   "outputs": [],
   "source": [
    "df_filtered = df[df['Label'] > 0]"
   ]
  },
  {
   "cell_type": "code",
   "execution_count": 10,
   "id": "f547deb0",
   "metadata": {
    "execution": {
     "iopub.execute_input": "2022-11-09T05:16:53.903982Z",
     "iopub.status.busy": "2022-11-09T05:16:53.903221Z",
     "iopub.status.idle": "2022-11-09T05:16:53.905214Z",
     "shell.execute_reply": "2022-11-09T05:16:53.905614Z",
     "shell.execute_reply.started": "2022-10-11T12:45:40.511668Z"
    },
    "papermill": {
     "duration": 0.033944,
     "end_time": "2022-11-09T05:16:53.905772",
     "exception": false,
     "start_time": "2022-11-09T05:16:53.871828",
     "status": "completed"
    },
    "tags": []
   },
   "outputs": [],
   "source": [
    "df=df_filtered"
   ]
  },
  {
   "cell_type": "code",
   "execution_count": 11,
   "id": "9ac469da",
   "metadata": {
    "execution": {
     "iopub.execute_input": "2022-11-09T05:16:53.968082Z",
     "iopub.status.busy": "2022-11-09T05:16:53.967318Z",
     "iopub.status.idle": "2022-11-09T05:16:54.138464Z",
     "shell.execute_reply": "2022-11-09T05:16:54.138916Z",
     "shell.execute_reply.started": "2022-10-11T12:45:40.517667Z"
    },
    "papermill": {
     "duration": 0.204866,
     "end_time": "2022-11-09T05:16:54.139077",
     "exception": false,
     "start_time": "2022-11-09T05:16:53.934211",
     "status": "completed"
    },
    "tags": []
   },
   "outputs": [
    {
     "data": {
      "text/plain": [
       "<AxesSubplot:xlabel='Label', ylabel='count'>"
      ]
     },
     "execution_count": 11,
     "metadata": {},
     "output_type": "execute_result"
    },
    {
     "data": {
      "image/png": "[encoded data removed]",
      "text/plain": [
       "<Figure size 432x288 with 1 Axes>"
      ]
     },
     "metadata": {
      "needs_background": "light"
     },
     "output_type": "display_data"
    }
   ],
   "source": [
    "sns.countplot(df['Label'])"
   ]
  },
  {
   "cell_type": "code",
   "execution_count": 12,
   "id": "8d481480",
   "metadata": {
    "execution": {
     "iopub.execute_input": "2022-11-09T05:16:54.201137Z",
     "iopub.status.busy": "2022-11-09T05:16:54.200364Z",
     "iopub.status.idle": "2022-11-09T05:16:54.204438Z",
     "shell.execute_reply": "2022-11-09T05:16:54.203982Z",
     "shell.execute_reply.started": "2022-10-11T12:45:40.699544Z"
    },
    "papermill": {
     "duration": 0.036376,
     "end_time": "2022-11-09T05:16:54.204554",
     "exception": false,
     "start_time": "2022-11-09T05:16:54.168178",
     "status": "completed"
    },
    "tags": []
   },
   "outputs": [],
   "source": [
    "maxlen = 200\n",
    "max_features = 10000\n",
    "batch_size = 32"
   ]
  },
  {
   "cell_type": "code",
   "execution_count": 13,
   "id": "696863e9",
   "metadata": {
    "execution": {
     "iopub.execute_input": "2022-11-09T05:16:54.265372Z",
     "iopub.status.busy": "2022-11-09T05:16:54.264601Z",
     "iopub.status.idle": "2022-11-09T05:16:54.270357Z",
     "shell.execute_reply": "2022-11-09T05:16:54.269938Z",
     "shell.execute_reply.started": "2022-10-11T12:45:40.704682Z"
    },
    "papermill": {
     "duration": 0.037044,
     "end_time": "2022-11-09T05:16:54.270473",
     "exception": false,
     "start_time": "2022-11-09T05:16:54.233429",
     "status": "completed"
    },
    "tags": []
   },
   "outputs": [],
   "source": [
    "df['Token']=df['Token'].astype('str')"
   ]
  },
  {
   "cell_type": "code",
   "execution_count": 14,
   "id": "d5b88492",
   "metadata": {
    "execution": {
     "iopub.execute_input": "2022-11-09T05:16:54.334377Z",
     "iopub.status.busy": "2022-11-09T05:16:54.333622Z",
     "iopub.status.idle": "2022-11-09T05:16:54.480465Z",
     "shell.execute_reply": "2022-11-09T05:16:54.479882Z",
     "shell.execute_reply.started": "2022-10-11T12:45:40.716909Z"
    },
    "papermill": {
     "duration": 0.180615,
     "end_time": "2022-11-09T05:16:54.480594",
     "exception": false,
     "start_time": "2022-11-09T05:16:54.299979",
     "status": "completed"
    },
    "tags": []
   },
   "outputs": [],
   "source": [
    "from sklearn.model_selection import train_test_split\n",
    "x_train, x_test, y_train, y_test = train_test_split(df['Token'],df['Label'] , test_size=0.1,random_state=2)\n",
    "x_train, x_validation, y_train, y_validation = train_test_split(x_train,y_train,test_size=0.1,random_state=42)"
   ]
  },
  {
   "cell_type": "code",
   "execution_count": 15,
   "id": "ac6552de",
   "metadata": {
    "execution": {
     "iopub.execute_input": "2022-11-09T05:16:54.542911Z",
     "iopub.status.busy": "2022-11-09T05:16:54.542270Z",
     "iopub.status.idle": "2022-11-09T05:16:54.545096Z",
     "shell.execute_reply": "2022-11-09T05:16:54.544609Z",
     "shell.execute_reply.started": "2022-10-11T12:45:40.871134Z"
    },
    "papermill": {
     "duration": 0.035505,
     "end_time": "2022-11-09T05:16:54.545216",
     "exception": false,
     "start_time": "2022-11-09T05:16:54.509711",
     "status": "completed"
    },
    "tags": []
   },
   "outputs": [],
   "source": [
    "vocab_size=32000"
   ]
  },
  {
   "cell_type": "code",
   "execution_count": 16,
   "id": "687a4588",
   "metadata": {
    "execution": {
     "iopub.execute_input": "2022-11-09T05:16:54.661955Z",
     "iopub.status.busy": "2022-11-09T05:16:54.652635Z",
     "iopub.status.idle": "2022-11-09T05:16:55.514960Z",
     "shell.execute_reply": "2022-11-09T05:16:55.514449Z",
     "shell.execute_reply.started": "2022-10-11T12:45:40.877902Z"
    },
    "papermill": {
     "duration": 0.940602,
     "end_time": "2022-11-09T05:16:55.515101",
     "exception": false,
     "start_time": "2022-11-09T05:16:54.574499",
     "status": "completed"
    },
    "tags": []
   },
   "outputs": [],
   "source": [
    "tokenizer  = Tokenizer(num_words = max_features,oov_token = \"<OOV>\")\n",
    "tokenizer.fit_on_texts(df['Token'])\n",
    "\n",
    "train_seq =  tokenizer.texts_to_sequences(x_train)\n",
    "val_seq =  tokenizer.texts_to_sequences(x_validation)\n",
    "test_seq = tokenizer.texts_to_sequences(x_test)"
   ]
  },
  {
   "cell_type": "code",
   "execution_count": 17,
   "id": "f7a336b2",
   "metadata": {
    "execution": {
     "iopub.execute_input": "2022-11-09T05:16:55.580811Z",
     "iopub.status.busy": "2022-11-09T05:16:55.579555Z",
     "iopub.status.idle": "2022-11-09T05:16:55.626901Z",
     "shell.execute_reply": "2022-11-09T05:16:55.626356Z",
     "shell.execute_reply.started": "2022-10-11T12:45:41.648702Z"
    },
    "papermill": {
     "duration": 0.082613,
     "end_time": "2022-11-09T05:16:55.627017",
     "exception": false,
     "start_time": "2022-11-09T05:16:55.544404",
     "status": "completed"
    },
    "tags": []
   },
   "outputs": [],
   "source": [
    "x_train = pad_sequences(train_seq, maxlen=maxlen, dtype='int32', padding='post',truncating='post') #maxlen = maxlen, padding='post')\n",
    "x_validation = pad_sequences(val_seq, maxlen=maxlen, dtype='int32', padding='post',truncating='post') #maxlen = maxlen, padding='post')\n",
    "x_test = pad_sequences(test_seq, maxlen=maxlen, dtype='int32', padding='post',truncating='post') #maxlen = maxlen, padding='post')"
   ]
  },
  {
   "cell_type": "code",
   "execution_count": 18,
   "id": "336fc737",
   "metadata": {
    "execution": {
     "iopub.execute_input": "2022-11-09T05:16:55.692017Z",
     "iopub.status.busy": "2022-11-09T05:16:55.691451Z",
     "iopub.status.idle": "2022-11-09T05:16:59.621191Z",
     "shell.execute_reply": "2022-11-09T05:16:59.621883Z",
     "shell.execute_reply.started": "2022-10-11T12:45:41.716849Z"
    },
    "papermill": {
     "duration": 3.965909,
     "end_time": "2022-11-09T05:16:59.622048",
     "exception": false,
     "start_time": "2022-11-09T05:16:55.656139",
     "status": "completed"
    },
    "tags": []
   },
   "outputs": [
    {
     "name": "stderr",
     "output_type": "stream",
     "text": [
      "2022-11-09 05:16:55.784395: I tensorflow/stream_executor/cuda/cuda_gpu_executor.cc:937] successful NUMA node read from SysFS had negative value (-1), but there must be at least one NUMA node, so returning NUMA node zero\n",
      "2022-11-09 05:16:55.898763: I tensorflow/stream_executor/cuda/cuda_gpu_executor.cc:937] successful NUMA node read from SysFS had negative value (-1), but there must be at least one NUMA node, so returning NUMA node zero\n",
      "2022-11-09 05:16:55.899580: I tensorflow/stream_executor/cuda/cuda_gpu_executor.cc:937] successful NUMA node read from SysFS had negative value (-1), but there must be at least one NUMA node, so returning NUMA node zero\n",
      "2022-11-09 05:16:55.901091: I tensorflow/core/platform/cpu_feature_guard.cc:142] This TensorFlow binary is optimized with oneAPI Deep Neural Network Library (oneDNN) to use the following CPU instructions in performance-critical operations:  AVX2 AVX512F FMA\n",
      "To enable them in other operations, rebuild TensorFlow with the appropriate compiler flags.\n",
      "2022-11-09 05:16:55.902572: I tensorflow/stream_executor/cuda/cuda_gpu_executor.cc:937] successful NUMA node read from SysFS had negative value (-1), but there must be at least one NUMA node, so returning NUMA node zero\n",
      "2022-11-09 05:16:55.903638: I tensorflow/stream_executor/cuda/cuda_gpu_executor.cc:937] successful NUMA node read from SysFS had negative value (-1), but there must be at least one NUMA node, so returning NUMA node zero\n",
      "2022-11-09 05:16:55.904530: I tensorflow/stream_executor/cuda/cuda_gpu_executor.cc:937] successful NUMA node read from SysFS had negative value (-1), but there must be at least one NUMA node, so returning NUMA node zero\n",
      "2022-11-09 05:16:58.150622: I tensorflow/stream_executor/cuda/cuda_gpu_executor.cc:937] successful NUMA node read from SysFS had negative value (-1), but there must be at least one NUMA node, so returning NUMA node zero\n",
      "2022-11-09 05:16:58.151544: I tensorflow/stream_executor/cuda/cuda_gpu_executor.cc:937] successful NUMA node read from SysFS had negative value (-1), but there must be at least one NUMA node, so returning NUMA node zero\n",
      "2022-11-09 05:16:58.152224: I tensorflow/stream_executor/cuda/cuda_gpu_executor.cc:937] successful NUMA node read from SysFS had negative value (-1), but there must be at least one NUMA node, so returning NUMA node zero\n",
      "2022-11-09 05:16:58.152829: I tensorflow/core/common_runtime/gpu/gpu_device.cc:1510] Created device /job:localhost/replica:0/task:0/device:GPU:0 with 15403 MB memory:  -> device: 0, name: Tesla P100-PCIE-16GB, pci bus id: 0000:00:04.0, compute capability: 6.0\n"
     ]
    },
    {
     "name": "stdout",
     "output_type": "stream",
     "text": [
      "Model: \"sequential\"\n",
      "_________________________________________________________________\n",
      "Layer (type)                 Output Shape              Param #   \n",
      "=================================================================\n",
      "Embedding (Embedding)        (None, 200, 40)           1280000   \n",
      "_________________________________________________________________\n",
      "conv1d (Conv1D)              (None, 198, 200)          24200     \n",
      "_________________________________________________________________\n",
      "bidirectional (Bidirectional (None, 198, 256)          336896    \n",
      "_________________________________________________________________\n",
      "dropout (Dropout)            (None, 198, 256)          0         \n",
      "_________________________________________________________________\n",
      "bidirectional_1 (Bidirection (None, 128)               164352    \n",
      "_________________________________________________________________\n",
      "dropout_1 (Dropout)          (None, 128)               0         \n",
      "_________________________________________________________________\n",
      "dense (Dense)                (None, 50)                6450      \n",
      "_________________________________________________________________\n",
      "dropout_2 (Dropout)          (None, 50)                0         \n",
      "_________________________________________________________________\n",
      "dense_1 (Dense)              (None, 25)                1275      \n",
      "_________________________________________________________________\n",
      "dropout_3 (Dropout)          (None, 25)                0         \n",
      "_________________________________________________________________\n",
      "dense_2 (Dense)              (None, 12)                312       \n",
      "_________________________________________________________________\n",
      "flatten (Flatten)            (None, 12)                0         \n",
      "_________________________________________________________________\n",
      "dense_3 (Dense)              (None, 3)                 39        \n",
      "=================================================================\n",
      "Total params: 1,813,524\n",
      "Trainable params: 1,813,524\n",
      "Non-trainable params: 0\n",
      "_________________________________________________________________\n"
     ]
    }
   ],
   "source": [
    "model= Sequential()\n",
    "model.add(Embedding(vocab_size,40,input_length=maxlen,name='Embedding'))\n",
    "model.add(Conv1D(200, kernel_size=3, activation = \"relu\"))\n",
    "model.add(Bidirectional(LSTM(128, return_sequences=True)))\n",
    "model.add(Dropout(0.25))\n",
    "model.add(Bidirectional(LSTM(64)))\n",
    "model.add(Dropout(0.1))\n",
    "model.add(Dense(50, activation='relu'))\n",
    "model.add(Dropout(0.2))\n",
    "model.add(Dense(25, activation='relu'))\n",
    "model.add(Dropout(0.1))\n",
    "model.add(Dense(12, activation='relu'))\n",
    "model.add(Flatten())\n",
    "model.add(Dense(units=3, activation='softmax'))\n",
    "adam=Adam(learning_rate=0.003)\n",
    "model.summary()\n",
    "model.compile(loss='sparse_categorical_crossentropy',optimizer='adam',metrics=['accuracy'])"
   ]
  },
  {
   "cell_type": "code",
   "execution_count": 19,
   "id": "a4a5a806",
   "metadata": {
    "execution": {
     "iopub.execute_input": "2022-11-09T05:16:59.688816Z",
     "iopub.status.busy": "2022-11-09T05:16:59.687144Z",
     "iopub.status.idle": "2022-11-09T05:16:59.689399Z",
     "shell.execute_reply": "2022-11-09T05:16:59.689833Z",
     "shell.execute_reply.started": "2022-10-11T12:45:45.881084Z"
    },
    "papermill": {
     "duration": 0.036911,
     "end_time": "2022-11-09T05:16:59.689978",
     "exception": false,
     "start_time": "2022-11-09T05:16:59.653067",
     "status": "completed"
    },
    "tags": []
   },
   "outputs": [],
   "source": [
    "early_stopping = keras.callbacks.EarlyStopping(\n",
    "    patience=15,\n",
    "    min_delta=0.001,\n",
    "    restore_best_weights=True,\n",
    ")"
   ]
  },
  {
   "cell_type": "code",
   "execution_count": 20,
   "id": "94bb1305",
   "metadata": {
    "execution": {
     "iopub.execute_input": "2022-11-09T05:16:59.754685Z",
     "iopub.status.busy": "2022-11-09T05:16:59.753946Z",
     "iopub.status.idle": "2022-11-09T05:20:46.688642Z",
     "shell.execute_reply": "2022-11-09T05:20:46.688148Z",
     "shell.execute_reply.started": "2022-10-11T12:45:45.888600Z"
    },
    "papermill": {
     "duration": 226.968938,
     "end_time": "2022-11-09T05:20:46.688816",
     "exception": false,
     "start_time": "2022-11-09T05:16:59.719878",
     "status": "completed"
    },
    "tags": []
   },
   "outputs": [
    {
     "name": "stderr",
     "output_type": "stream",
     "text": [
      "2022-11-09 05:16:59.806755: I tensorflow/compiler/mlir/mlir_graph_optimization_pass.cc:185] None of the MLIR Optimization Passes are enabled (registered 2)\n"
     ]
    },
    {
     "name": "stdout",
     "output_type": "stream",
     "text": [
      "Epoch 1/30\n"
     ]
    },
    {
     "name": "stderr",
     "output_type": "stream",
     "text": [
      "2022-11-09 05:17:05.306433: I tensorflow/stream_executor/cuda/cuda_dnn.cc:369] Loaded cuDNN version 8005\n"
     ]
    },
    {
     "name": "stdout",
     "output_type": "stream",
     "text": [
      "307/307 [==============================] - 26s 46ms/step - loss: 0.6316 - accuracy: 0.6475 - val_loss: 0.4359 - val_accuracy: 0.8213\n",
      "Epoch 2/30\n",
      "307/307 [==============================] - 13s 41ms/step - loss: 0.3518 - accuracy: 0.8612 - val_loss: 0.3650 - val_accuracy: 0.8396\n",
      "Epoch 3/30\n",
      "307/307 [==============================] - 13s 41ms/step - loss: 0.2189 - accuracy: 0.9216 - val_loss: 0.4044 - val_accuracy: 0.8387\n",
      "Epoch 4/30\n",
      "307/307 [==============================] - 12s 41ms/step - loss: 0.1353 - accuracy: 0.9577 - val_loss: 0.4237 - val_accuracy: 0.8497\n",
      "Epoch 5/30\n",
      "307/307 [==============================] - 13s 41ms/step - loss: 0.0896 - accuracy: 0.9739 - val_loss: 0.5201 - val_accuracy: 0.8570\n",
      "Epoch 6/30\n",
      "307/307 [==============================] - 13s 41ms/step - loss: 0.0634 - accuracy: 0.9839 - val_loss: 0.6027 - val_accuracy: 0.8506\n",
      "Epoch 7/30\n",
      "307/307 [==============================] - 12s 41ms/step - loss: 0.0510 - accuracy: 0.9869 - val_loss: 0.5920 - val_accuracy: 0.8506\n",
      "Epoch 8/30\n",
      "307/307 [==============================] - 13s 41ms/step - loss: 0.0386 - accuracy: 0.9915 - val_loss: 0.6596 - val_accuracy: 0.8414\n",
      "Epoch 9/30\n",
      "307/307 [==============================] - 12s 41ms/step - loss: 0.0354 - accuracy: 0.9905 - val_loss: 0.7437 - val_accuracy: 0.8433\n",
      "Epoch 10/30\n",
      "307/307 [==============================] - 13s 41ms/step - loss: 0.0340 - accuracy: 0.9904 - val_loss: 0.7462 - val_accuracy: 0.8423\n",
      "Epoch 11/30\n",
      "307/307 [==============================] - 12s 41ms/step - loss: 0.0257 - accuracy: 0.9929 - val_loss: 0.6717 - val_accuracy: 0.8277\n",
      "Epoch 12/30\n",
      "307/307 [==============================] - 12s 41ms/step - loss: 0.0182 - accuracy: 0.9950 - val_loss: 0.9205 - val_accuracy: 0.8423\n",
      "Epoch 13/30\n",
      "307/307 [==============================] - 13s 41ms/step - loss: 0.0146 - accuracy: 0.9944 - val_loss: 0.9252 - val_accuracy: 0.8433\n",
      "Epoch 14/30\n",
      "307/307 [==============================] - 12s 41ms/step - loss: 0.0143 - accuracy: 0.9954 - val_loss: 0.8471 - val_accuracy: 0.8460\n",
      "Epoch 15/30\n",
      "307/307 [==============================] - 13s 41ms/step - loss: 0.0149 - accuracy: 0.9949 - val_loss: 0.8452 - val_accuracy: 0.8423\n",
      "Epoch 16/30\n",
      "307/307 [==============================] - 12s 41ms/step - loss: 0.0205 - accuracy: 0.9923 - val_loss: 0.9833 - val_accuracy: 0.8396\n",
      "Epoch 17/30\n",
      "307/307 [==============================] - 13s 41ms/step - loss: 0.0176 - accuracy: 0.9945 - val_loss: 0.8189 - val_accuracy: 0.8488\n"
     ]
    }
   ],
   "source": [
    "history = model.fit(x_train, y_train, batch_size=batch_size, epochs=30, callbacks=[early_stopping],verbose=1, validation_data=(x_validation, y_validation))"
   ]
  },
  {
   "cell_type": "code",
   "execution_count": 21,
   "id": "78979a89",
   "metadata": {
    "execution": {
     "iopub.execute_input": "2022-11-09T05:20:48.328681Z",
     "iopub.status.busy": "2022-11-09T05:20:48.327916Z",
     "iopub.status.idle": "2022-11-09T05:21:27.941938Z",
     "shell.execute_reply": "2022-11-09T05:21:27.942393Z",
     "shell.execute_reply.started": "2022-10-11T12:49:49.628076Z"
    },
    "papermill": {
     "duration": 40.455816,
     "end_time": "2022-11-09T05:21:27.942545",
     "exception": false,
     "start_time": "2022-11-09T05:20:47.486729",
     "status": "completed"
    },
    "tags": []
   },
   "outputs": [
    {
     "data": {
      "image/png": "[encoded data removed]",
      "text/plain": [
       "<IPython.core.display.Image object>"
      ]
     },
     "execution_count": 21,
     "metadata": {},
     "output_type": "execute_result"
    }
   ],
   "source": [
    "tf.keras.utils.plot_model(model, to_file='2 classes Conv-BiLSTM model.png', show_shapes=False,show_layer_names=True, rankdir='TB', expand_nested=False, dpi=96)"
   ]
  },
  {
   "cell_type": "code",
   "execution_count": 22,
   "id": "dbb2fec1",
   "metadata": {
    "execution": {
     "iopub.execute_input": "2022-11-09T05:21:29.587319Z",
     "iopub.status.busy": "2022-11-09T05:21:29.586363Z",
     "iopub.status.idle": "2022-11-09T05:21:30.313530Z",
     "shell.execute_reply": "2022-11-09T05:21:30.313960Z",
     "shell.execute_reply.started": "2022-10-11T12:50:13.499868Z"
    },
    "papermill": {
     "duration": 1.529985,
     "end_time": "2022-11-09T05:21:30.314127",
     "exception": false,
     "start_time": "2022-11-09T05:21:28.784142",
     "status": "completed"
    },
    "tags": []
   },
   "outputs": [
    {
     "name": "stdout",
     "output_type": "stream",
     "text": [
      "38/38 [==============================] - 1s 18ms/step - loss: 0.3886 - accuracy: 0.8267\n"
     ]
    },
    {
     "data": {
      "text/plain": [
       "[0.38864925503730774, 0.8267326951026917]"
      ]
     },
     "execution_count": 22,
     "metadata": {},
     "output_type": "execute_result"
    }
   ],
   "source": [
    "model.evaluate(x_test, y_test)"
   ]
  },
  {
   "cell_type": "code",
   "execution_count": 23,
   "id": "2e84c88b",
   "metadata": {
    "execution": {
     "iopub.execute_input": "2022-11-09T05:21:31.957312Z",
     "iopub.status.busy": "2022-11-09T05:21:31.936034Z",
     "iopub.status.idle": "2022-11-09T05:21:32.277890Z",
     "shell.execute_reply": "2022-11-09T05:21:32.277421Z",
     "shell.execute_reply.started": "2022-10-11T12:51:32.036504Z"
    },
    "papermill": {
     "duration": 1.137499,
     "end_time": "2022-11-09T05:21:32.278021",
     "exception": false,
     "start_time": "2022-11-09T05:21:31.140522",
     "status": "completed"
    },
    "tags": []
   },
   "outputs": [
    {
     "data": {
      "image/png": "[encoded data removed]",
      "text/plain": [
       "<Figure size 432x288 with 1 Axes>"
      ]
     },
     "metadata": {
      "needs_background": "light"
     },
     "output_type": "display_data"
    }
   ],
   "source": [
    "import matplotlib.pyplot as plt\n",
    "\n",
    "plt.plot(history.history['accuracy'], label=\"Accuracy\")\n",
    "plt.plot(history.history['val_accuracy'], label=\"Validation accuracy\")\n",
    "plt.title('Accuracy')\n",
    "plt.xlabel('Epoch')\n",
    "plt.ylabel('Accuracy')\n",
    "plt.legend()\n",
    "plt.tight_layout()\n",
    "plt.savefig('2 classes Conv-BiLSTM Val_acc.png',format='png',transparent='True')\n",
    "plt.show()"
   ]
  },
  {
   "cell_type": "code",
   "execution_count": 24,
   "id": "d053deaf",
   "metadata": {
    "execution": {
     "iopub.execute_input": "2022-11-09T05:21:33.901099Z",
     "iopub.status.busy": "2022-11-09T05:21:33.896813Z",
     "iopub.status.idle": "2022-11-09T05:21:34.327826Z",
     "shell.execute_reply": "2022-11-09T05:21:34.328967Z",
     "shell.execute_reply.started": "2022-10-11T12:51:32.371272Z"
    },
    "papermill": {
     "duration": 1.248256,
     "end_time": "2022-11-09T05:21:34.329175",
     "exception": false,
     "start_time": "2022-11-09T05:21:33.080919",
     "status": "completed"
    },
    "tags": []
   },
   "outputs": [
    {
     "data": {
      "image/png": "[encoded data removed]",
      "text/plain": [
       "<Figure size 432x288 with 1 Axes>"
      ]
     },
     "metadata": {
      "needs_background": "light"
     },
     "output_type": "display_data"
    }
   ],
   "source": [
    "import matplotlib.pyplot as plt\n",
    "\n",
    "plt.plot(history.history['loss'], label=\"Train loss\")\n",
    "plt.plot(history.history['val_loss'], label=\"Validation loss\")\n",
    "plt.title('Loss')\n",
    "plt.xlabel('Epoch')\n",
    "plt.ylabel('Loss')\n",
    "plt.legend()\n",
    "plt.tight_layout()\n",
    "plt.savefig('2 classes Conv-BiLSTM Val_loss.png',format='png',transparent='True')\n",
    "plt.show()"
   ]
  },
  {
   "cell_type": "code",
   "execution_count": 25,
   "id": "58fa2d54",
   "metadata": {
    "execution": {
     "iopub.execute_input": "2022-11-09T05:21:36.038480Z",
     "iopub.status.busy": "2022-11-09T05:21:36.037647Z",
     "iopub.status.idle": "2022-11-09T05:21:38.319335Z",
     "shell.execute_reply": "2022-11-09T05:21:38.318790Z",
     "shell.execute_reply.started": "2022-10-11T12:50:15.064087Z"
    },
    "papermill": {
     "duration": 3.078114,
     "end_time": "2022-11-09T05:21:38.319471",
     "exception": false,
     "start_time": "2022-11-09T05:21:35.241357",
     "status": "completed"
    },
    "tags": []
   },
   "outputs": [],
   "source": [
    "from sklearn.metrics import classification_report\n",
    "\n",
    "y_pred = model.predict(x_test)\n",
    "y_pred = np.argmax(y_pred,axis=1)"
   ]
  },
  {
   "cell_type": "code",
   "execution_count": 26,
   "id": "257190bd",
   "metadata": {
    "execution": {
     "iopub.execute_input": "2022-11-09T05:21:39.904011Z",
     "iopub.status.busy": "2022-11-09T05:21:39.903046Z",
     "iopub.status.idle": "2022-11-09T05:21:39.906545Z",
     "shell.execute_reply": "2022-11-09T05:21:39.906093Z",
     "shell.execute_reply.started": "2022-10-11T12:50:16.795264Z"
    },
    "papermill": {
     "duration": 0.796148,
     "end_time": "2022-11-09T05:21:39.906658",
     "exception": false,
     "start_time": "2022-11-09T05:21:39.110510",
     "status": "completed"
    },
    "tags": []
   },
   "outputs": [
    {
     "name": "stdout",
     "output_type": "stream",
     "text": [
      "(1212,)\n",
      "(1212,)\n"
     ]
    }
   ],
   "source": [
    "print(y_test.shape)\n",
    "print(y_pred.shape)"
   ]
  },
  {
   "cell_type": "code",
   "execution_count": 27,
   "id": "22c160ef",
   "metadata": {
    "execution": {
     "iopub.execute_input": "2022-11-09T05:21:41.488061Z",
     "iopub.status.busy": "2022-11-09T05:21:41.486378Z",
     "iopub.status.idle": "2022-11-09T05:21:41.488649Z",
     "shell.execute_reply": "2022-11-09T05:21:41.489116Z",
     "shell.execute_reply.started": "2022-10-11T12:50:16.805148Z"
    },
    "papermill": {
     "duration": 0.793365,
     "end_time": "2022-11-09T05:21:41.489259",
     "exception": false,
     "start_time": "2022-11-09T05:21:40.695894",
     "status": "completed"
    },
    "tags": []
   },
   "outputs": [],
   "source": [
    "y_pred = y_pred.reshape(-1,1)\n"
   ]
  },
  {
   "cell_type": "code",
   "execution_count": 28,
   "id": "cb500e8b",
   "metadata": {
    "execution": {
     "iopub.execute_input": "2022-11-09T05:21:43.108922Z",
     "iopub.status.busy": "2022-11-09T05:21:43.108065Z",
     "iopub.status.idle": "2022-11-09T05:21:43.117979Z",
     "shell.execute_reply": "2022-11-09T05:21:43.118565Z",
     "shell.execute_reply.started": "2022-10-11T12:50:16.815671Z"
    },
    "papermill": {
     "duration": 0.840999,
     "end_time": "2022-11-09T05:21:43.118757",
     "exception": false,
     "start_time": "2022-11-09T05:21:42.277758",
     "status": "completed"
    },
    "tags": []
   },
   "outputs": [
    {
     "name": "stdout",
     "output_type": "stream",
     "text": [
      "              precision    recall  f1-score   support\n",
      "\n",
      "    positive       0.79      0.89      0.84       607\n",
      "    negative       0.87      0.76      0.81       605\n",
      "\n",
      "    accuracy                           0.83      1212\n",
      "   macro avg       0.83      0.83      0.83      1212\n",
      "weighted avg       0.83      0.83      0.83      1212\n",
      "\n"
     ]
    }
   ],
   "source": [
    "categories = ['positive','negative']\n",
    "print(classification_report(y_test, y_pred, target_names=categories))"
   ]
  },
  {
   "cell_type": "code",
   "execution_count": 29,
   "id": "af5bec83",
   "metadata": {
    "execution": {
     "iopub.execute_input": "2022-11-09T05:21:44.705662Z",
     "iopub.status.busy": "2022-11-09T05:21:44.704856Z",
     "iopub.status.idle": "2022-11-09T05:21:45.190634Z",
     "shell.execute_reply": "2022-11-09T05:21:45.191185Z",
     "shell.execute_reply.started": "2022-10-11T12:51:10.338304Z"
    },
    "papermill": {
     "duration": 1.291027,
     "end_time": "2022-11-09T05:21:45.191343",
     "exception": false,
     "start_time": "2022-11-09T05:21:43.900316",
     "status": "completed"
    },
    "tags": []
   },
   "outputs": [
    {
     "data": {
      "image/png": "[encoded data removed]",
      "text/plain": [
       "<Figure size 1152x1008 with 2 Axes>"
      ]
     },
     "metadata": {
      "needs_background": "light"
     },
     "output_type": "display_data"
    }
   ],
   "source": [
    "import seaborn as sns\n",
    "import matplotlib.pyplot as plt\n",
    "\n",
    "### Confusion Matrix\n",
    "from sklearn.metrics import confusion_matrix\n",
    "#predictions = model.predict(x_test, steps=len(x_test), verbose=0)\n",
    "#y_pred=model.predict(x_test)\n",
    "#y_pred = np.round(y_pred)\n",
    "\n",
    "\n",
    "cm = confusion_matrix(y_test, y_pred)\n",
    "\n",
    "## Get Class Labels\n",
    "labels = 2\n",
    "#[0,1,2,3,4,5]_\n",
    "class_names = categories \n",
    "\n",
    "# Plot confusion matrix in a beautiful manner\n",
    "fig = plt.figure(figsize=(16, 14))\n",
    "ax= plt.subplot()\n",
    "sns.heatmap(cm, annot=True, ax = ax, fmt = 'g'); #annot=True to annotate cells\n",
    "# labels, title and ticks\n",
    "ax.set_xlabel('Predicted', fontsize=20)\n",
    "ax.xaxis.set_label_position('bottom')\n",
    "plt.xticks(rotation=90)\n",
    "ax.xaxis.set_ticklabels(class_names, fontsize = 10)\n",
    "ax.xaxis.tick_bottom()\n",
    "\n",
    "ax.set_ylabel('True', fontsize=20)\n",
    "ax.yaxis.set_ticklabels(class_names, fontsize = 10)\n",
    "plt.yticks(rotation=0)\n",
    "\n",
    "plt.title('Refined Confusion Matrix', fontsize=20)\n",
    "\n",
    "plt.savefig('2 classes Conv-BiLSTM Confusion Matrix.png')\n",
    "plt.show()"
   ]
  },
  {
   "cell_type": "code",
   "execution_count": null,
   "id": "19d8180c",
   "metadata": {
    "papermill": {
     "duration": 0.782238,
     "end_time": "2022-11-09T05:21:46.892537",
     "exception": false,
     "start_time": "2022-11-09T05:21:46.110299",
     "status": "completed"
    },
    "tags": []
   },
   "outputs": [],
   "source": []
  }
 ],
 "metadata": {
  "kernelspec": {
   "display_name": "Python 3",
   "language": "python",
   "name": "python3"
  },
  "language_info": {
   "codemirror_mode": {
    "name": "ipython",
    "version": 3
   },
   "file_extension": ".py",
   "mimetype": "text/x-python",
   "name": "python",
   "nbconvert_exporter": "python",
   "pygments_lexer": "ipython3",
   "version": "3.7.12"
  },
  "papermill": {
   "default_parameters": {},
   "duration": 323.651498,
   "end_time": "2022-11-09T05:21:50.994696",
   "environment_variables": {},
   "exception": null,
   "input_path": "__notebook__.ipynb",
   "output_path": "__notebook__.ipynb",
   "parameters": {},
   "start_time": "2022-11-09T05:16:27.343198",
   "version": "2.3.3"
  }
 },
 "nbformat": 4,
 "nbformat_minor": 5
}
