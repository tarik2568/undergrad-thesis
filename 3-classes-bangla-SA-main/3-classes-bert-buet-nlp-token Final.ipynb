{
 "cells": [
  {
   "cell_type": "code",
   "execution_count": 1,
   "id": "8741ffea",
   "metadata": {
    "_cell_guid": "b1076dfc-b9ad-4769-8c92-a6c4dae69d19",
    "_uuid": "8f2839f25d086af736a60e9eeb907d3b93b6e0e5",
    "execution": {
     "iopub.execute_input": "2022-04-25T13:28:25.429746Z",
     "iopub.status.busy": "2022-04-25T13:28:25.428258Z",
     "iopub.status.idle": "2022-04-25T13:28:34.575006Z",
     "shell.execute_reply": "2022-04-25T13:28:34.573582Z",
     "shell.execute_reply.started": "2022-04-25T13:03:33.157229Z"
    },
    "papermill": {
     "duration": 9.170485,
     "end_time": "2022-04-25T13:28:34.575174",
     "exception": false,
     "start_time": "2022-04-25T13:28:25.404689",
     "status": "completed"
    },
    "tags": []
   },
   "outputs": [
    {
     "name": "stdout",
     "output_type": "stream",
     "text": [
      "Requirement already satisfied: transformers in /opt/conda/lib/python3.7/site-packages (4.16.2)\r\n",
      "Requirement already satisfied: regex!=2019.12.17 in /opt/conda/lib/python3.7/site-packages (from transformers) (2021.11.10)\r\n",
      "Requirement already satisfied: sacremoses in /opt/conda/lib/python3.7/site-packages (from transformers) (0.0.49)\r\n",
      "Requirement already satisfied: tokenizers!=0.11.3,>=0.10.1 in /opt/conda/lib/python3.7/site-packages (from transformers) (0.11.6)\r\n",
      "Requirement already satisfied: pyyaml>=5.1 in /opt/conda/lib/python3.7/site-packages (from transformers) (6.0)\r\n",
      "Requirement already satisfied: filelock in /opt/conda/lib/python3.7/site-packages (from transformers) (3.6.0)\r\n",
      "Requirement already satisfied: importlib-metadata in /opt/conda/lib/python3.7/site-packages (from transformers) (4.11.3)\r\n",
      "Requirement already satisfied: huggingface-hub<1.0,>=0.1.0 in /opt/conda/lib/python3.7/site-packages (from transformers) (0.4.0)\r\n",
      "Requirement already satisfied: tqdm>=4.27 in /opt/conda/lib/python3.7/site-packages (from transformers) (4.62.3)\r\n",
      "Requirement already satisfied: requests in /opt/conda/lib/python3.7/site-packages (from transformers) (2.26.0)\r\n",
      "Requirement already satisfied: packaging>=20.0 in /opt/conda/lib/python3.7/site-packages (from transformers) (21.3)\r\n",
      "Requirement already satisfied: numpy>=1.17 in /opt/conda/lib/python3.7/site-packages (from transformers) (1.20.3)\r\n",
      "Requirement already satisfied: typing-extensions>=3.7.4.3 in /opt/conda/lib/python3.7/site-packages (from huggingface-hub<1.0,>=0.1.0->transformers) (4.1.1)\r\n",
      "Requirement already satisfied: pyparsing!=3.0.5,>=2.0.2 in /opt/conda/lib/python3.7/site-packages (from packaging>=20.0->transformers) (3.0.6)\r\n",
      "Requirement already satisfied: zipp>=0.5 in /opt/conda/lib/python3.7/site-packages (from importlib-metadata->transformers) (3.6.0)\r\n",
      "Requirement already satisfied: certifi>=2017.4.17 in /opt/conda/lib/python3.7/site-packages (from requests->transformers) (2021.10.8)\r\n",
      "Requirement already satisfied: idna<4,>=2.5 in /opt/conda/lib/python3.7/site-packages (from requests->transformers) (3.1)\r\n",
      "Requirement already satisfied: charset-normalizer~=2.0.0 in /opt/conda/lib/python3.7/site-packages (from requests->transformers) (2.0.9)\r\n",
      "Requirement already satisfied: urllib3<1.27,>=1.21.1 in /opt/conda/lib/python3.7/site-packages (from requests->transformers) (1.26.7)\r\n",
      "Requirement already satisfied: six in /opt/conda/lib/python3.7/site-packages (from sacremoses->transformers) (1.16.0)\r\n",
      "Requirement already satisfied: click in /opt/conda/lib/python3.7/site-packages (from sacremoses->transformers) (8.0.3)\r\n",
      "Requirement already satisfied: joblib in /opt/conda/lib/python3.7/site-packages (from sacremoses->transformers) (1.1.0)\r\n",
      "\u001b[33mWARNING: Running pip as the 'root' user can result in broken permissions and conflicting behaviour with the system package manager. It is recommended to use a virtual environment instead: https://pip.pypa.io/warnings/venv\u001b[0m\r\n"
     ]
    }
   ],
   "source": [
    " !pip install transformers"
   ]
  },
  {
   "cell_type": "code",
   "execution_count": 2,
   "id": "dcf54c13",
   "metadata": {
    "execution": {
     "iopub.execute_input": "2022-04-25T13:28:34.621369Z",
     "iopub.status.busy": "2022-04-25T13:28:34.620691Z",
     "iopub.status.idle": "2022-04-25T13:28:34.622872Z",
     "shell.execute_reply": "2022-04-25T13:28:34.623237Z",
     "shell.execute_reply.started": "2022-04-25T13:03:41.874810Z"
    },
    "papermill": {
     "duration": 0.026634,
     "end_time": "2022-04-25T13:28:34.623391",
     "exception": false,
     "start_time": "2022-04-25T13:28:34.596757",
     "status": "completed"
    },
    "tags": []
   },
   "outputs": [],
   "source": [
    "import os\n",
    "import pandas as pd\n",
    "import numpy as np"
   ]
  },
  {
   "cell_type": "code",
   "execution_count": 3,
   "id": "357b6dda",
   "metadata": {
    "execution": {
     "iopub.execute_input": "2022-04-25T13:28:34.672742Z",
     "iopub.status.busy": "2022-04-25T13:28:34.668024Z",
     "iopub.status.idle": "2022-04-25T13:28:43.243495Z",
     "shell.execute_reply": "2022-04-25T13:28:43.243909Z",
     "shell.execute_reply.started": "2022-04-25T13:03:41.882011Z"
    },
    "papermill": {
     "duration": 8.600337,
     "end_time": "2022-04-25T13:28:43.244068",
     "exception": false,
     "start_time": "2022-04-25T13:28:34.643731",
     "status": "completed"
    },
    "tags": []
   },
   "outputs": [
    {
     "name": "stdout",
     "output_type": "stream",
     "text": [
      "Collecting openpyxl\r\n",
      "  Downloading openpyxl-3.0.9-py2.py3-none-any.whl (242 kB)\r\n",
      "     |████████████████████████████████| 242 kB 596 kB/s            \r\n",
      "\u001b[?25hCollecting et-xmlfile\r\n",
      "  Downloading et_xmlfile-1.1.0-py3-none-any.whl (4.7 kB)\r\n",
      "Installing collected packages: et-xmlfile, openpyxl\r\n",
      "Successfully installed et-xmlfile-1.1.0 openpyxl-3.0.9\r\n",
      "\u001b[33mWARNING: Running pip as the 'root' user can result in broken permissions and conflicting behaviour with the system package manager. It is recommended to use a virtual environment instead: https://pip.pypa.io/warnings/venv\u001b[0m\r\n",
      "Note: you may need to restart the kernel to use updated packages.\n"
     ]
    }
   ],
   "source": [
    "pip install openpyxl"
   ]
  },
  {
   "cell_type": "code",
   "execution_count": 4,
   "id": "7c9ce288",
   "metadata": {
    "execution": {
     "iopub.execute_input": "2022-04-25T13:28:43.298525Z",
     "iopub.status.busy": "2022-04-25T13:28:43.297948Z",
     "iopub.status.idle": "2022-04-25T13:28:43.307157Z",
     "shell.execute_reply": "2022-04-25T13:28:43.306749Z",
     "shell.execute_reply.started": "2022-04-25T13:03:50.278972Z"
    },
    "papermill": {
     "duration": 0.038966,
     "end_time": "2022-04-25T13:28:43.307293",
     "exception": false,
     "start_time": "2022-04-25T13:28:43.268327",
     "status": "completed"
    },
    "tags": []
   },
   "outputs": [
    {
     "name": "stdout",
     "output_type": "stream",
     "text": [
      "/kaggle/input/3-classes-bangla-sa/3_classes_Bert_Preprocessed__Dataset.xlsx\n"
     ]
    }
   ],
   "source": [
    "for dirname, _, filenames in os.walk('/kaggle/input'):\n",
    "    for filename in filenames:\n",
    "        print(os.path.join(dirname, filename))"
   ]
  },
  {
   "cell_type": "code",
   "execution_count": 5,
   "id": "c2ebc87b",
   "metadata": {
    "execution": {
     "iopub.execute_input": "2022-04-25T13:28:43.360248Z",
     "iopub.status.busy": "2022-04-25T13:28:43.359508Z",
     "iopub.status.idle": "2022-04-25T13:28:46.077550Z",
     "shell.execute_reply": "2022-04-25T13:28:46.078397Z",
     "shell.execute_reply.started": "2022-04-25T13:03:50.293100Z"
    },
    "papermill": {
     "duration": 2.747034,
     "end_time": "2022-04-25T13:28:46.078635",
     "exception": false,
     "start_time": "2022-04-25T13:28:43.331601",
     "status": "completed"
    },
    "tags": []
   },
   "outputs": [
    {
     "name": "stdout",
     "output_type": "stream",
     "text": [
      "<class 'pandas.core.frame.DataFrame'>\n",
      "RangeIndex: 15728 entries, 0 to 15727\n",
      "Data columns (total 5 columns):\n",
      " #   Column      Non-Null Count  Dtype \n",
      "---  ------      --------------  ----- \n",
      " 0   Unnamed: 0  15728 non-null  int64 \n",
      " 1   Data        15728 non-null  object\n",
      " 2   Label       15728 non-null  int64 \n",
      " 3   Token       15728 non-null  object\n",
      " 4   Token_ID    15728 non-null  object\n",
      "dtypes: int64(2), object(3)\n",
      "memory usage: 614.5+ KB\n"
     ]
    }
   ],
   "source": [
    "df=pd.read_excel('/kaggle/input/3-classes-bangla-sa/3_classes_Bert_Preprocessed__Dataset.xlsx')\n",
    "df.info()"
   ]
  },
  {
   "cell_type": "code",
   "execution_count": 6,
   "id": "224753ab",
   "metadata": {
    "execution": {
     "iopub.execute_input": "2022-04-25T13:28:46.141207Z",
     "iopub.status.busy": "2022-04-25T13:28:46.140443Z",
     "iopub.status.idle": "2022-04-25T13:29:27.600905Z",
     "shell.execute_reply": "2022-04-25T13:29:27.601499Z",
     "shell.execute_reply.started": "2022-04-25T13:03:53.583046Z"
    },
    "papermill": {
     "duration": 41.493321,
     "end_time": "2022-04-25T13:29:27.601719",
     "exception": false,
     "start_time": "2022-04-25T13:28:46.108398",
     "status": "completed"
    },
    "tags": []
   },
   "outputs": [
    {
     "name": "stdout",
     "output_type": "stream",
     "text": [
      "Collecting ktrain\r\n",
      "  Downloading ktrain-0.30.0.tar.gz (25.3 MB)\r\n",
      "     |████████████████████████████████| 25.3 MB 502 kB/s            \r\n",
      "\u001b[?25h  Preparing metadata (setup.py) ... \u001b[?25l-\b \bdone\r\n",
      "\u001b[?25hCollecting scikit-learn==0.24.2\r\n",
      "  Downloading scikit_learn-0.24.2-cp37-cp37m-manylinux2010_x86_64.whl (22.3 MB)\r\n",
      "     |████████████████████████████████| 22.3 MB 54.5 MB/s            \r\n",
      "\u001b[?25hRequirement already satisfied: matplotlib>=3.0.0 in /opt/conda/lib/python3.7/site-packages (from ktrain) (3.5.1)\r\n",
      "Requirement already satisfied: pandas>=1.0.1 in /opt/conda/lib/python3.7/site-packages (from ktrain) (1.3.5)\r\n",
      "Requirement already satisfied: fastprogress>=0.1.21 in /opt/conda/lib/python3.7/site-packages (from ktrain) (1.0.2)\r\n",
      "Requirement already satisfied: requests in /opt/conda/lib/python3.7/site-packages (from ktrain) (2.26.0)\r\n",
      "Requirement already satisfied: joblib in /opt/conda/lib/python3.7/site-packages (from ktrain) (1.1.0)\r\n",
      "Requirement already satisfied: packaging in /opt/conda/lib/python3.7/site-packages (from ktrain) (21.3)\r\n",
      "Collecting langdetect\r\n",
      "  Downloading langdetect-1.0.9.tar.gz (981 kB)\r\n",
      "     |████████████████████████████████| 981 kB 49.5 MB/s            \r\n",
      "\u001b[?25h  Preparing metadata (setup.py) ... \u001b[?25l-\b \bdone\r\n",
      "\u001b[?25hRequirement already satisfied: jieba in /opt/conda/lib/python3.7/site-packages (from ktrain) (0.42.1)\r\n",
      "Collecting cchardet\r\n",
      "  Downloading cchardet-2.1.7-cp37-cp37m-manylinux2010_x86_64.whl (263 kB)\r\n",
      "     |████████████████████████████████| 263 kB 45.5 MB/s            \r\n",
      "\u001b[?25hRequirement already satisfied: chardet in /opt/conda/lib/python3.7/site-packages (from ktrain) (4.0.0)\r\n",
      "Collecting syntok==1.3.3\r\n",
      "  Downloading syntok-1.3.3-py3-none-any.whl (22 kB)\r\n",
      "Collecting transformers==4.10.3\r\n",
      "  Downloading transformers-4.10.3-py3-none-any.whl (2.8 MB)\r\n",
      "     |████████████████████████████████| 2.8 MB 50.8 MB/s            \r\n",
      "\u001b[?25hRequirement already satisfied: sentencepiece in /opt/conda/lib/python3.7/site-packages (from ktrain) (0.1.96)\r\n",
      "Collecting keras_bert>=0.86.0\r\n",
      "  Downloading keras-bert-0.89.0.tar.gz (25 kB)\r\n",
      "  Preparing metadata (setup.py) ... \u001b[?25l-\b \bdone\r\n",
      "\u001b[?25hCollecting whoosh\r\n",
      "  Downloading Whoosh-2.7.4-py2.py3-none-any.whl (468 kB)\r\n",
      "     |████████████████████████████████| 468 kB 49.0 MB/s            \r\n",
      "\u001b[?25hRequirement already satisfied: numpy>=1.13.3 in /opt/conda/lib/python3.7/site-packages (from scikit-learn==0.24.2->ktrain) (1.20.3)\r\n",
      "Requirement already satisfied: threadpoolctl>=2.0.0 in /opt/conda/lib/python3.7/site-packages (from scikit-learn==0.24.2->ktrain) (3.0.0)\r\n",
      "Requirement already satisfied: scipy>=0.19.1 in /opt/conda/lib/python3.7/site-packages (from scikit-learn==0.24.2->ktrain) (1.7.3)\r\n",
      "Requirement already satisfied: regex in /opt/conda/lib/python3.7/site-packages (from syntok==1.3.3->ktrain) (2021.11.10)\r\n",
      "Requirement already satisfied: pyyaml>=5.1 in /opt/conda/lib/python3.7/site-packages (from transformers==4.10.3->ktrain) (6.0)\r\n",
      "Requirement already satisfied: filelock in /opt/conda/lib/python3.7/site-packages (from transformers==4.10.3->ktrain) (3.6.0)\r\n",
      "Collecting tokenizers<0.11,>=0.10.1\r\n",
      "  Downloading tokenizers-0.10.3-cp37-cp37m-manylinux_2_5_x86_64.manylinux1_x86_64.manylinux_2_12_x86_64.manylinux2010_x86_64.whl (3.3 MB)\r\n",
      "     |████████████████████████████████| 3.3 MB 44.1 MB/s            \r\n",
      "\u001b[?25hRequirement already satisfied: tqdm>=4.27 in /opt/conda/lib/python3.7/site-packages (from transformers==4.10.3->ktrain) (4.62.3)\r\n",
      "Requirement already satisfied: sacremoses in /opt/conda/lib/python3.7/site-packages (from transformers==4.10.3->ktrain) (0.0.49)\r\n",
      "Requirement already satisfied: huggingface-hub>=0.0.12 in /opt/conda/lib/python3.7/site-packages (from transformers==4.10.3->ktrain) (0.4.0)\r\n",
      "Requirement already satisfied: importlib-metadata in /opt/conda/lib/python3.7/site-packages (from transformers==4.10.3->ktrain) (4.11.3)\r\n",
      "Collecting keras-transformer==0.40.0\r\n",
      "  Downloading keras-transformer-0.40.0.tar.gz (9.7 kB)\r\n",
      "  Preparing metadata (setup.py) ... \u001b[?25l-\b \bdone\r\n",
      "\u001b[?25hCollecting keras-pos-embd==0.13.0\r\n",
      "  Downloading keras-pos-embd-0.13.0.tar.gz (5.6 kB)\r\n",
      "  Preparing metadata (setup.py) ... \u001b[?25l-\b \bdone\r\n",
      "\u001b[?25hCollecting keras-multi-head==0.29.0\r\n",
      "  Downloading keras-multi-head-0.29.0.tar.gz (13 kB)\r\n",
      "  Preparing metadata (setup.py) ... \u001b[?25l-\b \bdone\r\n",
      "\u001b[?25hCollecting keras-layer-normalization==0.16.0\r\n",
      "  Downloading keras-layer-normalization-0.16.0.tar.gz (3.9 kB)\r\n",
      "  Preparing metadata (setup.py) ... \u001b[?25l-\b \bdone\r\n",
      "\u001b[?25hCollecting keras-position-wise-feed-forward==0.8.0\r\n",
      "  Downloading keras-position-wise-feed-forward-0.8.0.tar.gz (4.1 kB)\r\n",
      "  Preparing metadata (setup.py) ... \u001b[?25l-\b \bdone\r\n",
      "\u001b[?25hCollecting keras-embed-sim==0.10.0\r\n",
      "  Downloading keras-embed-sim-0.10.0.tar.gz (3.6 kB)\r\n",
      "  Preparing metadata (setup.py) ... \u001b[?25l-\b \bdone\r\n",
      "\u001b[?25hCollecting keras-self-attention==0.51.0\r\n",
      "  Downloading keras-self-attention-0.51.0.tar.gz (11 kB)\r\n",
      "  Preparing metadata (setup.py) ... \u001b[?25l-\b \bdone\r\n",
      "\u001b[?25hRequirement already satisfied: cycler>=0.10 in /opt/conda/lib/python3.7/site-packages (from matplotlib>=3.0.0->ktrain) (0.11.0)\r\n",
      "Requirement already satisfied: pillow>=6.2.0 in /opt/conda/lib/python3.7/site-packages (from matplotlib>=3.0.0->ktrain) (8.2.0)\r\n",
      "Requirement already satisfied: python-dateutil>=2.7 in /opt/conda/lib/python3.7/site-packages (from matplotlib>=3.0.0->ktrain) (2.8.2)\r\n",
      "Requirement already satisfied: kiwisolver>=1.0.1 in /opt/conda/lib/python3.7/site-packages (from matplotlib>=3.0.0->ktrain) (1.3.2)\r\n",
      "Requirement already satisfied: pyparsing>=2.2.1 in /opt/conda/lib/python3.7/site-packages (from matplotlib>=3.0.0->ktrain) (3.0.6)\r\n",
      "Requirement already satisfied: fonttools>=4.22.0 in /opt/conda/lib/python3.7/site-packages (from matplotlib>=3.0.0->ktrain) (4.28.4)\r\n",
      "Requirement already satisfied: pytz>=2017.3 in /opt/conda/lib/python3.7/site-packages (from pandas>=1.0.1->ktrain) (2021.3)\r\n",
      "Requirement already satisfied: six in /opt/conda/lib/python3.7/site-packages (from langdetect->ktrain) (1.16.0)\r\n",
      "Requirement already satisfied: urllib3<1.27,>=1.21.1 in /opt/conda/lib/python3.7/site-packages (from requests->ktrain) (1.26.7)\r\n",
      "Requirement already satisfied: charset-normalizer~=2.0.0 in /opt/conda/lib/python3.7/site-packages (from requests->ktrain) (2.0.9)\r\n",
      "Requirement already satisfied: idna<4,>=2.5 in /opt/conda/lib/python3.7/site-packages (from requests->ktrain) (3.1)\r\n",
      "Requirement already satisfied: certifi>=2017.4.17 in /opt/conda/lib/python3.7/site-packages (from requests->ktrain) (2021.10.8)\r\n",
      "Requirement already satisfied: typing-extensions>=3.7.4.3 in /opt/conda/lib/python3.7/site-packages (from huggingface-hub>=0.0.12->transformers==4.10.3->ktrain) (4.1.1)\r\n",
      "Requirement already satisfied: zipp>=0.5 in /opt/conda/lib/python3.7/site-packages (from importlib-metadata->transformers==4.10.3->ktrain) (3.6.0)\r\n",
      "Requirement already satisfied: click in /opt/conda/lib/python3.7/site-packages (from sacremoses->transformers==4.10.3->ktrain) (8.0.3)\r\n",
      "Building wheels for collected packages: ktrain, keras-bert, keras-transformer, keras-embed-sim, keras-layer-normalization, keras-multi-head, keras-pos-embd, keras-position-wise-feed-forward, keras-self-attention, langdetect\r\n",
      "  Building wheel for ktrain (setup.py) ... \u001b[?25l-\b \b\\\b \b|\b \b/\b \b-\b \b\\\b \b|\b \b/\b \bdone\r\n",
      "\u001b[?25h  Created wheel for ktrain: filename=ktrain-0.30.0-py3-none-any.whl size=25309162 sha256=b26321bb9ba8f98fca92bb354b5d91747b2085dfba1b2059c8f525dd70c31177\r\n",
      "  Stored in directory: /root/.cache/pip/wheels/25/00/ae/80d1b19dd02bc2e6bc9bac32ba7dbaa59aad789e93274e4868\r\n",
      "  Building wheel for keras-bert (setup.py) ... \u001b[?25l-\b \b\\\b \bdone\r\n",
      "\u001b[?25h  Created wheel for keras-bert: filename=keras_bert-0.89.0-py3-none-any.whl size=33516 sha256=cbe8e7e68d0dd25fd2c8ee63dd6c72a4f7f684840563feb2676930ff690320b5\r\n",
      "  Stored in directory: /root/.cache/pip/wheels/a4/e8/45/842b3a39831261aef9154b907eacbc4ac99499a99ae829b06f\r\n",
      "  Building wheel for keras-transformer (setup.py) ... \u001b[?25l-\b \b\\\b \bdone\r\n",
      "\u001b[?25h  Created wheel for keras-transformer: filename=keras_transformer-0.40.0-py3-none-any.whl size=12305 sha256=a335df1b6023378dbc07fe24e46512a50281fdab2dca6300329ae44adbcb8b61\r\n",
      "  Stored in directory: /root/.cache/pip/wheels/46/68/26/692ed21edd832833c3b0a0e21615bcacd99ca458b3f9ed571f\r\n",
      "  Building wheel for keras-embed-sim (setup.py) ... \u001b[?25l-\b \b\\\b \bdone\r\n",
      "\u001b[?25h  Created wheel for keras-embed-sim: filename=keras_embed_sim-0.10.0-py3-none-any.whl size=3958 sha256=1b0fcc3c0d4754d1c31d0ad3c68a8196817cf851ec53378753589f37a76c60c5\r\n",
      "  Stored in directory: /root/.cache/pip/wheels/81/67/b5/d847588d075895281e1cf5590f819bd4cf076a554872268bd5\r\n",
      "  Building wheel for keras-layer-normalization (setup.py) ... \u001b[?25l-\b \b\\\b \bdone\r\n",
      "\u001b[?25h  Created wheel for keras-layer-normalization: filename=keras_layer_normalization-0.16.0-py3-none-any.whl size=4668 sha256=7c03c40544f57b68347de11106b3c3ddbe79d5afbea17a0f8f1163b5cde957f4\r\n",
      "  Stored in directory: /root/.cache/pip/wheels/85/5d/1c/2e619f594f69fbcf8bc20943b27d414871c409be053994813e\r\n",
      "  Building wheel for keras-multi-head (setup.py) ... \u001b[?25l-\b \b\\\b \bdone\r\n",
      "\u001b[?25h  Created wheel for keras-multi-head: filename=keras_multi_head-0.29.0-py3-none-any.whl size=14993 sha256=64ebc226992baf8e2c7fb66c852ec68f94eb130a0937720d4c7b2ebb7daa849d\r\n",
      "  Stored in directory: /root/.cache/pip/wheels/86/aa/3c/9d15d24005179dae08ff291ce99c754b296347817d076fd9fb\r\n",
      "  Building wheel for keras-pos-embd (setup.py) ... \u001b[?25l-\b \b\\\b \bdone\r\n",
      "\u001b[?25h  Created wheel for keras-pos-embd: filename=keras_pos_embd-0.13.0-py3-none-any.whl size=6961 sha256=e3b5bf7a7cd901e886f88508e3ca8107962000a8ecb687be7b365e95454d786a\r\n",
      "  Stored in directory: /root/.cache/pip/wheels/8d/c1/a0/dc44fcf68c857b7ff6be9a97e675e5adf51022eff1169b042f\r\n",
      "  Building wheel for keras-position-wise-feed-forward (setup.py) ... \u001b[?25l-\b \b\\\b \bdone\r\n",
      "\u001b[?25h  Created wheel for keras-position-wise-feed-forward: filename=keras_position_wise_feed_forward-0.8.0-py3-none-any.whl size=4982 sha256=f598e4ab9dc310b6e62081d12f79512bce2f12efc7de2cce89270f1434295523\r\n",
      "  Stored in directory: /root/.cache/pip/wheels/c2/75/6f/d42f6e051506f442daeba53ff1e2d21a5f20ef8c411610f2bb\r\n",
      "  Building wheel for keras-self-attention (setup.py) ... \u001b[?25l-\b \b\\\b \bdone\r\n",
      "\u001b[?25h  Created wheel for keras-self-attention: filename=keras_self_attention-0.51.0-py3-none-any.whl size=18913 sha256=cedd3bed9a09fb9b3d5b60efa27b4260961e0c47b2d5560a3737d753d4f40683\r\n",
      "  Stored in directory: /root/.cache/pip/wheels/95/b1/a8/5ee00cc137940b2f6fa198212e8f45d813d0e0d9c3a04035a3\r\n",
      "  Building wheel for langdetect (setup.py) ... \u001b[?25l-\b \b\\\b \b|\b \b/\b \bdone\r\n",
      "\u001b[?25h  Created wheel for langdetect: filename=langdetect-1.0.9-py3-none-any.whl size=993242 sha256=0365374c9b8219ee1fe5df1299a56fe32ff7eb14f3716f3e5e5a1c103c5b3a2e\r\n",
      "  Stored in directory: /root/.cache/pip/wheels/c5/96/8a/f90c59ed25d75e50a8c10a1b1c2d4c402e4dacfa87f3aff36a\r\n",
      "Successfully built ktrain keras-bert keras-transformer keras-embed-sim keras-layer-normalization keras-multi-head keras-pos-embd keras-position-wise-feed-forward keras-self-attention langdetect\r\n",
      "Installing collected packages: keras-self-attention, keras-position-wise-feed-forward, keras-pos-embd, keras-multi-head, keras-layer-normalization, keras-embed-sim, tokenizers, keras-transformer, whoosh, transformers, syntok, scikit-learn, langdetect, keras-bert, cchardet, ktrain\r\n",
      "  Attempting uninstall: tokenizers\r\n",
      "    Found existing installation: tokenizers 0.11.6\r\n",
      "    Uninstalling tokenizers-0.11.6:\r\n",
      "      Successfully uninstalled tokenizers-0.11.6\r\n",
      "  Attempting uninstall: transformers\r\n",
      "    Found existing installation: transformers 4.16.2\r\n",
      "    Uninstalling transformers-4.16.2:\r\n",
      "      Successfully uninstalled transformers-4.16.2\r\n",
      "  Attempting uninstall: scikit-learn\r\n",
      "    Found existing installation: scikit-learn 1.0.1\r\n",
      "    Uninstalling scikit-learn-1.0.1:\r\n",
      "      Successfully uninstalled scikit-learn-1.0.1\r\n",
      "\u001b[31mERROR: pip's dependency resolver does not currently take into account all the packages that are installed. This behaviour is the source of the following dependency conflicts.\r\n",
      "yellowbrick 1.4 requires scikit-learn>=1.0.0, but you have scikit-learn 0.24.2 which is incompatible.\r\n",
      "pdpbox 0.2.1 requires matplotlib==3.1.1, but you have matplotlib 3.5.1 which is incompatible.\r\n",
      "imbalanced-learn 0.9.0 requires scikit-learn>=1.0.1, but you have scikit-learn 0.24.2 which is incompatible.\r\n",
      "featuretools 1.6.0 requires numpy>=1.21.0, but you have numpy 1.20.3 which is incompatible.\u001b[0m\r\n",
      "Successfully installed cchardet-2.1.7 keras-bert-0.89.0 keras-embed-sim-0.10.0 keras-layer-normalization-0.16.0 keras-multi-head-0.29.0 keras-pos-embd-0.13.0 keras-position-wise-feed-forward-0.8.0 keras-self-attention-0.51.0 keras-transformer-0.40.0 ktrain-0.30.0 langdetect-1.0.9 scikit-learn-0.24.2 syntok-1.3.3 tokenizers-0.10.3 transformers-4.10.3 whoosh-2.7.4\r\n",
      "\u001b[33mWARNING: Running pip as the 'root' user can result in broken permissions and conflicting behaviour with the system package manager. It is recommended to use a virtual environment instead: https://pip.pypa.io/warnings/venv\u001b[0m\r\n",
      "Note: you may need to restart the kernel to use updated packages.\n"
     ]
    }
   ],
   "source": [
    "pip install ktrain"
   ]
  },
  {
   "cell_type": "code",
   "execution_count": 7,
   "id": "2936ff41",
   "metadata": {
    "execution": {
     "iopub.execute_input": "2022-04-25T13:29:27.772987Z",
     "iopub.status.busy": "2022-04-25T13:29:27.772229Z",
     "iopub.status.idle": "2022-04-25T13:29:27.814561Z",
     "shell.execute_reply": "2022-04-25T13:29:27.814083Z",
     "shell.execute_reply.started": "2022-04-25T13:04:31.946740Z"
    },
    "papermill": {
     "duration": 0.130726,
     "end_time": "2022-04-25T13:29:27.814705",
     "exception": false,
     "start_time": "2022-04-25T13:29:27.683979",
     "status": "completed"
    },
    "tags": []
   },
   "outputs": [],
   "source": [
    "%reload_ext autoreload\n",
    "%autoreload 2\n",
    "%matplotlib inline\n",
    "import os\n",
    "os.environ[\"CUDA_DEVICE_ORDER\"] = \"PCI_BUS_ID\"\n",
    "os.environ[\"CUDA_VISIBLE_DEVICES\"] = \"0\" "
   ]
  },
  {
   "cell_type": "code",
   "execution_count": 8,
   "id": "7d32b220",
   "metadata": {
    "execution": {
     "iopub.execute_input": "2022-04-25T13:29:27.986671Z",
     "iopub.status.busy": "2022-04-25T13:29:27.985914Z",
     "iopub.status.idle": "2022-04-25T13:29:35.280222Z",
     "shell.execute_reply": "2022-04-25T13:29:35.279755Z",
     "shell.execute_reply.started": "2022-04-25T13:04:31.997382Z"
    },
    "papermill": {
     "duration": 7.383566,
     "end_time": "2022-04-25T13:29:35.280379",
     "exception": false,
     "start_time": "2022-04-25T13:29:27.896813",
     "status": "completed"
    },
    "tags": []
   },
   "outputs": [],
   "source": [
    "import ktrain\n",
    "from ktrain import text"
   ]
  },
  {
   "cell_type": "code",
   "execution_count": 9,
   "id": "585b575b",
   "metadata": {
    "execution": {
     "iopub.execute_input": "2022-04-25T13:29:35.559025Z",
     "iopub.status.busy": "2022-04-25T13:29:35.558207Z",
     "iopub.status.idle": "2022-04-25T13:29:35.656027Z",
     "shell.execute_reply": "2022-04-25T13:29:35.656594Z",
     "shell.execute_reply.started": "2022-04-25T13:04:39.481185Z"
    },
    "papermill": {
     "duration": 0.240365,
     "end_time": "2022-04-25T13:29:35.656801",
     "exception": false,
     "start_time": "2022-04-25T13:29:35.416436",
     "status": "completed"
    },
    "tags": []
   },
   "outputs": [],
   "source": [
    "train=df[:int(.8*len(df))]\n",
    "test=df[int(.8*len(df)):int(.9*len(df))]\n",
    "validation=df[int(.9*len(df)):]\n",
    "x_train=train['Token'].tolist()\n",
    "y_train=train['Label'].tolist()\n",
    "x_validation=validation['Token'].tolist()\n",
    "y_validation=validation['Label'].tolist()\n",
    "x_test=test['Token'].tolist()\n",
    "y_test=test['Label'].tolist()"
   ]
  },
  {
   "cell_type": "code",
   "execution_count": 10,
   "id": "d15a80c5",
   "metadata": {
    "execution": {
     "iopub.execute_input": "2022-04-25T13:29:35.939112Z",
     "iopub.status.busy": "2022-04-25T13:29:35.938351Z",
     "iopub.status.idle": "2022-04-25T13:29:36.085463Z",
     "shell.execute_reply": "2022-04-25T13:29:36.086069Z",
     "shell.execute_reply.started": "2022-04-25T13:04:39.551006Z"
    },
    "papermill": {
     "duration": 0.298358,
     "end_time": "2022-04-25T13:29:36.086313",
     "exception": false,
     "start_time": "2022-04-25T13:29:35.787955",
     "status": "completed"
    },
    "tags": []
   },
   "outputs": [],
   "source": [
    "x_train= np.array(x_train)\n",
    "x_validation= np.array(x_validation)\n",
    "x_test= np.array(x_test)\n"
   ]
  },
  {
   "cell_type": "code",
   "execution_count": 11,
   "id": "15ffeead",
   "metadata": {
    "execution": {
     "iopub.execute_input": "2022-04-25T13:29:36.368084Z",
     "iopub.status.busy": "2022-04-25T13:29:36.367343Z",
     "iopub.status.idle": "2022-04-25T13:29:36.449316Z",
     "shell.execute_reply": "2022-04-25T13:29:36.450299Z",
     "shell.execute_reply.started": "2022-04-25T13:04:39.648998Z"
    },
    "papermill": {
     "duration": 0.229079,
     "end_time": "2022-04-25T13:29:36.450483",
     "exception": false,
     "start_time": "2022-04-25T13:29:36.221404",
     "status": "completed"
    },
    "tags": []
   },
   "outputs": [],
   "source": [
    "categories = [0,1,2]"
   ]
  },
  {
   "cell_type": "code",
   "execution_count": 12,
   "id": "4ec62db6",
   "metadata": {
    "execution": {
     "iopub.execute_input": "2022-04-25T13:29:36.658717Z",
     "iopub.status.busy": "2022-04-25T13:29:36.657928Z",
     "iopub.status.idle": "2022-04-25T13:29:37.716258Z",
     "shell.execute_reply": "2022-04-25T13:29:37.715347Z",
     "shell.execute_reply.started": "2022-04-25T13:04:39.714899Z"
    },
    "papermill": {
     "duration": 1.14293,
     "end_time": "2022-04-25T13:29:37.716411",
     "exception": false,
     "start_time": "2022-04-25T13:29:36.573481",
     "status": "completed"
    },
    "tags": []
   },
   "outputs": [
    {
     "data": {
      "application/vnd.jupyter.widget-view+json": {
       "model_id": "c32cd1a9b7464abf91a6492c64e34ca3",
       "version_major": 2,
       "version_minor": 0
      },
      "text/plain": [
       "Downloading:   0%|          | 0.00/586 [00:00<?, ?B/s]"
      ]
     },
     "metadata": {},
     "output_type": "display_data"
    }
   ],
   "source": [
    "model_name = 'csebuetnlp/banglabert'\n",
    "trans = text.Transformer(model_name,maxlen=50,class_names=categories)"
   ]
  },
  {
   "cell_type": "code",
   "execution_count": 13,
   "id": "9d5231ea",
   "metadata": {
    "execution": {
     "iopub.execute_input": "2022-04-25T13:29:37.884024Z",
     "iopub.status.busy": "2022-04-25T13:29:37.883244Z",
     "iopub.status.idle": "2022-04-25T13:29:49.848346Z",
     "shell.execute_reply": "2022-04-25T13:29:49.847874Z",
     "shell.execute_reply.started": "2022-04-25T13:04:40.505052Z"
    },
    "papermill": {
     "duration": 12.049896,
     "end_time": "2022-04-25T13:29:49.848473",
     "exception": false,
     "start_time": "2022-04-25T13:29:37.798577",
     "status": "completed"
    },
    "tags": []
   },
   "outputs": [
    {
     "name": "stdout",
     "output_type": "stream",
     "text": [
      "preprocessing train...\n",
      "language: bn\n",
      "train sequence lengths:\n",
      "\tmean : 16\n",
      "\t95percentile : 37\n",
      "\t99percentile : 47\n"
     ]
    },
    {
     "data": {
      "application/vnd.jupyter.widget-view+json": {
       "model_id": "0ab55fbc6f7d4441ba53aac4d5b9eff6",
       "version_major": 2,
       "version_minor": 0
      },
      "text/plain": [
       "Downloading:   0%|          | 0.00/119 [00:00<?, ?B/s]"
      ]
     },
     "metadata": {},
     "output_type": "display_data"
    },
    {
     "data": {
      "application/vnd.jupyter.widget-view+json": {
       "model_id": "b36e41f484ec4f68ab04938eaf7b6f96",
       "version_major": 2,
       "version_minor": 0
      },
      "text/plain": [
       "Downloading:   0%|          | 0.00/528k [00:00<?, ?B/s]"
      ]
     },
     "metadata": {},
     "output_type": "display_data"
    },
    {
     "data": {
      "application/vnd.jupyter.widget-view+json": {
       "model_id": "92f1b72aa64441ba9b2fbb796b726708",
       "version_major": 2,
       "version_minor": 0
      },
      "text/plain": [
       "Downloading:   0%|          | 0.00/112 [00:00<?, ?B/s]"
      ]
     },
     "metadata": {},
     "output_type": "display_data"
    },
    {
     "data": {
      "text/html": [
       "\n",
       "<style>\n",
       "    /* Turns off some styling */\n",
       "    progress {\n",
       "        /* gets rid of default border in Firefox and Opera. */\n",
       "        border: none;\n",
       "        /* Needs to be in here for Safari polyfill so background images work as expected. */\n",
       "        background-size: auto;\n",
       "    }\n",
       "    .progress-bar-interrupted, .progress-bar-interrupted::-webkit-progress-bar {\n",
       "        background: #F44336;\n",
       "    }\n",
       "</style>\n"
      ],
      "text/plain": [
       "<IPython.core.display.HTML object>"
      ]
     },
     "metadata": {},
     "output_type": "display_data"
    },
    {
     "data": {
      "text/html": [],
      "text/plain": [
       "<IPython.core.display.HTML object>"
      ]
     },
     "metadata": {},
     "output_type": "display_data"
    },
    {
     "name": "stdout",
     "output_type": "stream",
     "text": [
      "Is Multi-Label? False\n",
      "preprocessing test...\n",
      "language: bn\n",
      "test sequence lengths:\n",
      "\tmean : 16\n",
      "\t95percentile : 37\n",
      "\t99percentile : 47\n"
     ]
    },
    {
     "data": {
      "text/html": [
       "\n",
       "<style>\n",
       "    /* Turns off some styling */\n",
       "    progress {\n",
       "        /* gets rid of default border in Firefox and Opera. */\n",
       "        border: none;\n",
       "        /* Needs to be in here for Safari polyfill so background images work as expected. */\n",
       "        background-size: auto;\n",
       "    }\n",
       "    .progress-bar-interrupted, .progress-bar-interrupted::-webkit-progress-bar {\n",
       "        background: #F44336;\n",
       "    }\n",
       "</style>\n"
      ],
      "text/plain": [
       "<IPython.core.display.HTML object>"
      ]
     },
     "metadata": {},
     "output_type": "display_data"
    },
    {
     "data": {
      "text/html": [],
      "text/plain": [
       "<IPython.core.display.HTML object>"
      ]
     },
     "metadata": {},
     "output_type": "display_data"
    }
   ],
   "source": [
    "train = trans.preprocess_train(x_train,y_train)\n",
    "valid = trans.preprocess_test(x_validation,y_validation)"
   ]
  },
  {
   "cell_type": "code",
   "execution_count": 14,
   "id": "ccf1881b",
   "metadata": {
    "execution": {
     "iopub.execute_input": "2022-04-25T13:29:50.025426Z",
     "iopub.status.busy": "2022-04-25T13:29:50.024582Z",
     "iopub.status.idle": "2022-04-25T13:30:12.941559Z",
     "shell.execute_reply": "2022-04-25T13:30:12.941002Z",
     "shell.execute_reply.started": "2022-04-25T13:04:50.670235Z"
    },
    "papermill": {
     "duration": 23.006733,
     "end_time": "2022-04-25T13:30:12.941724",
     "exception": false,
     "start_time": "2022-04-25T13:29:49.934991",
     "status": "completed"
    },
    "tags": []
   },
   "outputs": [
    {
     "name": "stderr",
     "output_type": "stream",
     "text": [
      "404 Client Error: Not Found for url: https://huggingface.co/csebuetnlp/banglabert/resolve/main/tf_model.h5\n",
      "/opt/conda/lib/python3.7/site-packages/ktrain/text/preprocessor.py:1070: UserWarning: Could not find Tensorflow version of model.  Attempting to download/load PyTorch version as TensorFlow model using from_pt=True. You will need PyTorch installed for this.\n",
      "  warnings.warn('Could not find Tensorflow version of model.  Attempting to download/load PyTorch version as TensorFlow model using from_pt=True. ' +\\\n"
     ]
    },
    {
     "data": {
      "application/vnd.jupyter.widget-view+json": {
       "model_id": "cb410cd312634df0bcf9003a742b198b",
       "version_major": 2,
       "version_minor": 0
      },
      "text/plain": [
       "Downloading:   0%|          | 0.00/443M [00:00<?, ?B/s]"
      ]
     },
     "metadata": {},
     "output_type": "display_data"
    }
   ],
   "source": [
    "model = trans.get_classifier()"
   ]
  },
  {
   "cell_type": "code",
   "execution_count": 15,
   "id": "fa0a4466",
   "metadata": {
    "execution": {
     "iopub.execute_input": "2022-04-25T13:30:13.124853Z",
     "iopub.status.busy": "2022-04-25T13:30:13.124062Z",
     "iopub.status.idle": "2022-04-25T13:30:14.080473Z",
     "shell.execute_reply": "2022-04-25T13:30:14.079499Z",
     "shell.execute_reply.started": "2022-04-25T13:05:08.768188Z"
    },
    "papermill": {
     "duration": 1.046981,
     "end_time": "2022-04-25T13:30:14.080618",
     "exception": false,
     "start_time": "2022-04-25T13:30:13.033637",
     "status": "completed"
    },
    "tags": []
   },
   "outputs": [],
   "source": [
    "learner = ktrain.get_learner(model, train_data=train,val_data=valid, batch_size=12)"
   ]
  },
  {
   "cell_type": "code",
   "execution_count": 16,
   "id": "6a7d62f3",
   "metadata": {
    "execution": {
     "iopub.execute_input": "2022-04-25T13:30:14.268926Z",
     "iopub.status.busy": "2022-04-25T13:30:14.268148Z",
     "iopub.status.idle": "2022-04-25T13:30:14.335024Z",
     "shell.execute_reply": "2022-04-25T13:30:14.334591Z",
     "shell.execute_reply.started": "2022-04-25T13:05:09.904151Z"
    },
    "papermill": {
     "duration": 0.160252,
     "end_time": "2022-04-25T13:30:14.335150",
     "exception": false,
     "start_time": "2022-04-25T13:30:14.174898",
     "status": "completed"
    },
    "tags": []
   },
   "outputs": [],
   "source": [
    "from sklearn.utils import class_weight\n",
    "class_weight=class_weight.compute_class_weight(class_weight='balanced',classes=np.unique(y_train),y=y_train)\n",
    "weight={i:class_weight[i] for i in range(3)}"
   ]
  },
  {
   "cell_type": "code",
   "execution_count": 17,
   "id": "0d484ff4",
   "metadata": {
    "execution": {
     "iopub.execute_input": "2022-04-25T13:30:14.514816Z",
     "iopub.status.busy": "2022-04-25T13:30:14.514024Z",
     "iopub.status.idle": "2022-04-25T13:52:59.284666Z",
     "shell.execute_reply": "2022-04-25T13:52:59.285169Z",
     "shell.execute_reply.started": "2022-04-25T13:05:09.977162Z"
    },
    "papermill": {
     "duration": 1364.86383,
     "end_time": "2022-04-25T13:52:59.285364",
     "exception": false,
     "start_time": "2022-04-25T13:30:14.421534",
     "status": "completed"
    },
    "tags": []
   },
   "outputs": [
    {
     "name": "stdout",
     "output_type": "stream",
     "text": [
      "\n",
      "\n",
      "begin training using onecycle policy with max lr of 2e-05...\n",
      "Epoch 1/10\n",
      "1049/1049 [==============================] - 154s 126ms/step - loss: 0.9860 - accuracy: 0.5456 - val_loss: 0.8887 - val_accuracy: 0.5906\n",
      "Epoch 2/10\n",
      "1049/1049 [==============================] - 128s 122ms/step - loss: 0.8369 - accuracy: 0.6414 - val_loss: 0.7994 - val_accuracy: 0.6491\n",
      "Epoch 3/10\n",
      "1049/1049 [==============================] - 130s 124ms/step - loss: 0.7418 - accuracy: 0.6959 - val_loss: 0.7543 - val_accuracy: 0.6796\n",
      "Epoch 4/10\n",
      "1049/1049 [==============================] - 129s 123ms/step - loss: 0.6407 - accuracy: 0.7479 - val_loss: 0.7708 - val_accuracy: 0.6834\n",
      "Epoch 5/10\n",
      "1049/1049 [==============================] - 130s 124ms/step - loss: 0.5192 - accuracy: 0.8098 - val_loss: 0.8034 - val_accuracy: 0.6891\n",
      "Epoch 6/10\n",
      "1049/1049 [==============================] - 130s 124ms/step - loss: 0.3962 - accuracy: 0.8614 - val_loss: 0.8571 - val_accuracy: 0.7031\n",
      "Epoch 7/10\n",
      "1049/1049 [==============================] - 131s 124ms/step - loss: 0.2692 - accuracy: 0.9124 - val_loss: 1.0265 - val_accuracy: 0.6949\n",
      "Epoch 8/10\n",
      "1049/1049 [==============================] - 131s 125ms/step - loss: 0.1809 - accuracy: 0.9417 - val_loss: 1.1631 - val_accuracy: 0.6968\n",
      "Epoch 9/10\n",
      "1049/1049 [==============================] - 130s 124ms/step - loss: 0.1261 - accuracy: 0.9611 - val_loss: 1.2560 - val_accuracy: 0.6860\n",
      "Epoch 10/10\n",
      "1049/1049 [==============================] - 132s 126ms/step - loss: 0.0907 - accuracy: 0.9712 - val_loss: 1.2881 - val_accuracy: 0.6968\n"
     ]
    },
    {
     "data": {
      "text/plain": [
       "<keras.callbacks.History at 0x7f80e4189e10>"
      ]
     },
     "execution_count": 17,
     "metadata": {},
     "output_type": "execute_result"
    }
   ],
   "source": [
    "learner.fit_onecycle(2e-5,10,class_weight=weight) "
   ]
  },
  {
   "cell_type": "code",
   "execution_count": 18,
   "id": "918c9e5d",
   "metadata": {
    "execution": {
     "iopub.execute_input": "2022-04-25T13:53:06.326370Z",
     "iopub.status.busy": "2022-04-25T13:53:06.325574Z",
     "iopub.status.idle": "2022-04-25T13:53:12.931810Z",
     "shell.execute_reply": "2022-04-25T13:53:12.933129Z",
     "shell.execute_reply.started": "2022-04-25T13:26:51.557860Z"
    },
    "papermill": {
     "duration": 10.0499,
     "end_time": "2022-04-25T13:53:12.933405",
     "exception": false,
     "start_time": "2022-04-25T13:53:02.883505",
     "status": "completed"
    },
    "tags": []
   },
   "outputs": [
    {
     "name": "stdout",
     "output_type": "stream",
     "text": [
      "              precision    recall  f1-score   support\n",
      "\n",
      "           0       0.52      0.51      0.51       380\n",
      "           1       0.73      0.75      0.74       623\n",
      "           2       0.78      0.76      0.77       570\n",
      "\n",
      "    accuracy                           0.70      1573\n",
      "   macro avg       0.68      0.67      0.67      1573\n",
      "weighted avg       0.70      0.70      0.70      1573\n",
      "\n"
     ]
    },
    {
     "data": {
      "text/plain": [
       "array([[194, 119,  67],\n",
       "       [101, 468,  54],\n",
       "       [ 81,  55, 434]])"
      ]
     },
     "execution_count": 18,
     "metadata": {},
     "output_type": "execute_result"
    }
   ],
   "source": [
    "learner.validate(class_names=categories)"
   ]
  },
  {
   "cell_type": "code",
   "execution_count": 19,
   "id": "7523adbd",
   "metadata": {
    "execution": {
     "iopub.execute_input": "2022-04-25T13:53:20.353603Z",
     "iopub.status.busy": "2022-04-25T13:53:20.352798Z",
     "iopub.status.idle": "2022-04-25T13:53:20.417181Z",
     "shell.execute_reply": "2022-04-25T13:53:20.416749Z",
     "shell.execute_reply.started": "2022-04-25T13:26:58.548375Z"
    },
    "papermill": {
     "duration": 3.911448,
     "end_time": "2022-04-25T13:53:20.417332",
     "exception": false,
     "start_time": "2022-04-25T13:53:16.505884",
     "status": "completed"
    },
    "tags": []
   },
   "outputs": [],
   "source": [
    "predictor = ktrain.get_predictor(learner.model, preproc=trans)"
   ]
  },
  {
   "cell_type": "code",
   "execution_count": 20,
   "id": "806b4bed",
   "metadata": {
    "execution": {
     "iopub.execute_input": "2022-04-25T13:53:27.371636Z",
     "iopub.status.busy": "2022-04-25T13:53:27.370705Z",
     "iopub.status.idle": "2022-04-25T13:53:32.501218Z",
     "shell.execute_reply": "2022-04-25T13:53:32.501709Z",
     "shell.execute_reply.started": "2022-04-25T13:26:58.622633Z"
    },
    "papermill": {
     "duration": 8.686863,
     "end_time": "2022-04-25T13:53:32.501875",
     "exception": false,
     "start_time": "2022-04-25T13:53:23.815012",
     "status": "completed"
    },
    "tags": []
   },
   "outputs": [
    {
     "name": "stdout",
     "output_type": "stream",
     "text": [
      "[0, 2, 0, 2, 0, 1, 0, 2, 2, 2, 0, 2, 1, 1, 1, 1, 2, 1, 1, 2, 2, 1, 1, 2, 1, 1, 2, 2, 2, 1, 1, 2, 1, 1, 1, 0, 2, 2, 2, 0, 1, 1, 2, 2, 2, 1, 0, 1, 0, 2, 1, 1, 0, 2, 1, 1, 1, 0, 0, 1, 2, 2, 2, 0, 0, 2, 0, 2, 0, 2, 1, 0, 0, 0, 0, 0, 0, 1, 1, 2, 1, 1, 1, 0, 0, 2, 1, 2, 1, 2, 0, 2, 1, 1, 1, 2, 1, 1, 1, 0, 0, 2, 2, 1, 0, 2, 0, 1, 2, 1, 0, 2, 2, 1, 2, 0, 0, 2, 1, 1, 2, 1, 1, 2, 1, 0, 2, 1, 2, 1, 2, 1, 1, 2, 0, 1, 0, 1, 1, 1, 2, 1, 0, 2, 1, 0, 2, 0, 1, 1, 1, 1, 1, 2, 2, 2, 2, 2, 1, 1, 2, 1, 0, 2, 2, 1, 2, 1, 1, 1, 0, 1, 0, 2, 2, 1, 0, 1, 1, 1, 2, 0, 2, 0, 2, 2, 0, 1, 0, 2, 0, 2, 1, 0, 2, 1, 0, 2, 1, 2, 1, 0, 2, 0, 2, 1, 1, 1, 1, 1, 2, 1, 1, 0, 0, 0, 1, 2, 2, 0, 1, 1, 1, 0, 1, 2, 1, 1, 1, 1, 0, 0, 1, 2, 2, 1, 0, 1, 2, 1, 1, 0, 0, 1, 2, 2, 1, 1, 2, 2, 0, 1, 0, 1, 2, 1, 0, 1, 2, 2, 0, 2, 1, 1, 0, 1, 2, 0, 1, 0, 0, 1, 2, 2, 1, 0, 2, 0, 0, 1, 2, 2, 0, 1, 1, 2, 2, 1, 1, 2, 2, 2, 1, 2, 0, 2, 2, 2, 1, 0, 1, 2, 0, 0, 1, 0, 2, 0, 1, 0, 1, 2, 0, 2, 1, 0, 2, 1, 2, 1, 1, 1, 2, 0, 1, 0, 1, 0, 1, 1, 0, 2, 1, 2, 0, 1, 2, 1, 1, 0, 1, 2, 2, 2, 1, 2, 2, 1, 2, 2, 1, 2, 0, 2, 0, 2, 2, 0, 1, 1, 0, 2, 2, 2, 1, 2, 1, 1, 2, 1, 1, 1, 2, 2, 1, 2, 1, 0, 1, 0, 1, 2, 1, 1, 2, 2, 0, 1, 2, 0, 0, 2, 0, 2, 2, 0, 2, 0, 2, 1, 0, 1, 1, 2, 1, 1, 1, 1, 2, 0, 0, 2, 2, 1, 1, 2, 2, 2, 2, 1, 1, 0, 1, 1, 0, 0, 1, 1, 1, 1, 0, 1, 2, 2, 2, 1, 0, 2, 2, 2, 1, 1, 1, 2, 1, 1, 2, 0, 2, 2, 0, 1, 2, 2, 1, 2, 1, 1, 1, 2, 2, 1, 2, 0, 0, 1, 0, 2, 0, 0, 1, 2, 1, 1, 2, 1, 0, 0, 0, 0, 1, 2, 1, 1, 2, 1, 2, 2, 2, 2, 1, 0, 0, 1, 0, 2, 1, 0, 1, 1, 2, 2, 2, 0, 0, 2, 2, 1, 0, 1, 2, 0, 0, 0, 1, 2, 2, 0, 2, 1, 2, 1, 2, 2, 1, 1, 1, 1, 2, 2, 1, 0, 1, 2, 2, 2, 1, 1, 0, 0, 1, 1, 2, 1, 1, 0, 1, 1, 2, 2, 1, 2, 2, 1, 2, 1, 2, 1, 0, 1, 1, 1, 1, 1, 1, 1, 1, 2, 1, 2, 1, 0, 0, 1, 0, 1, 1, 1, 1, 2, 0, 1, 2, 0, 1, 1, 2, 1, 2, 0, 1, 1, 2, 1, 0, 2, 0, 0, 0, 2, 1, 1, 1, 0, 2, 1, 1, 1, 1, 1, 2, 1, 2, 2, 2, 1, 2, 0, 1, 1, 1, 1, 2, 2, 1, 2, 1, 1, 0, 2, 1, 1, 1, 1, 2, 1, 2, 0, 1, 1, 1, 2, 2, 0, 1, 0, 0, 2, 1, 2, 1, 1, 2, 2, 1, 0, 0, 0, 2, 1, 0, 1, 1, 0, 1, 2, 2, 1, 0, 2, 0, 1, 1, 2, 1, 0, 2, 1, 1, 1, 1, 0, 0, 0, 0, 1, 1, 1, 2, 1, 1, 0, 1, 2, 1, 2, 1, 0, 2, 1, 1, 2, 0, 2, 0, 2, 0, 1, 2, 0, 0, 2, 1, 0, 0, 1, 2, 1, 1, 2, 0, 2, 1, 1, 2, 1, 2, 1, 2, 1, 2, 1, 1, 1, 1, 2, 2, 1, 1, 2, 1, 2, 0, 0, 0, 1, 2, 1, 1, 1, 1, 1, 1, 2, 0, 1, 1, 0, 2, 0, 1, 1, 2, 1, 1, 1, 0, 1, 0, 2, 1, 2, 0, 2, 2, 1, 1, 1, 1, 1, 1, 1, 1, 1, 1, 1, 2, 0, 2, 0, 1, 1, 1, 1, 0, 2, 2, 1, 2, 1, 2, 2, 0, 1, 2, 2, 1, 2, 2, 1, 0, 2, 1, 2, 0, 2, 2, 1, 2, 2, 0, 2, 1, 1, 0, 0, 2, 0, 1, 1, 0, 2, 1, 0, 0, 1, 0, 2, 2, 2, 1, 1, 0, 2, 1, 2, 1, 1, 1, 0, 1, 0, 1, 1, 0, 2, 1, 1, 1, 2, 1, 1, 0, 2, 1, 1, 2, 1, 0, 0, 1, 2, 0, 0, 2, 0, 1, 1, 1, 0, 1, 2, 1, 1, 1, 1, 2, 0, 2, 1, 2, 1, 2, 0, 2, 0, 1, 1, 1, 2, 1, 1, 0, 1, 1, 2, 2, 1, 2, 1, 0, 1, 2, 2, 2, 1, 2, 1, 2, 0, 2, 1, 1, 0, 1, 1, 1, 2, 1, 0, 1, 1, 1, 2, 2, 1, 1, 2, 1, 2, 1, 0, 1, 1, 2, 2, 1, 1, 2, 2, 2, 2, 1, 0, 0, 2, 2, 2, 1, 1, 1, 0, 2, 0, 1, 1, 2, 2, 0, 0, 0, 2, 1, 1, 2, 1, 2, 1, 2, 1, 1, 2, 1, 2, 1, 0, 1, 2, 1, 0, 0, 2, 2, 0, 2, 1, 2, 2, 1, 1, 1, 2, 2, 0, 2, 1, 2, 1, 2, 2, 1, 0, 0, 1, 1, 1, 1, 1, 1, 2, 2, 1, 2, 1, 0, 2, 1, 2, 1, 2, 2, 1, 2, 2, 1, 1, 1, 0, 1, 2, 2, 1, 2, 1, 2, 1, 1, 1, 1, 2, 2, 1, 2, 1, 0, 1, 2, 1, 0, 0, 1, 1, 1, 1, 1, 1, 1, 0, 0, 1, 1, 1, 1, 1, 2, 0, 2, 2, 1, 1, 1, 2, 2, 1, 2, 2, 2, 2, 0, 1, 1, 1, 2, 1, 1, 2, 0, 1, 1, 1, 2, 1, 1, 2, 1, 1, 2, 0, 1, 1, 2, 2, 0, 2, 1, 1, 1, 1, 0, 2, 1, 2, 0, 1, 2, 1, 0, 1, 2, 0, 0, 0, 2, 1, 2, 1, 2, 1, 2, 1, 0, 1, 2, 0, 2, 0, 1, 1, 1, 1, 2, 2, 0, 1, 1, 1, 0, 1, 2, 2, 1, 0, 0, 2, 2, 2, 1, 0, 2, 2, 0, 0, 2, 1, 1, 2, 1, 0, 0, 1, 0, 2, 2, 2, 1, 1, 0, 1, 2, 1, 0, 1, 2, 2, 1, 0, 0, 1, 2, 1, 2, 1, 2, 0, 2, 2, 1, 1, 2, 0, 1, 2, 1, 0, 0, 2, 0, 1, 2, 1, 0, 2, 1, 1, 1, 2, 1, 2, 1, 1, 1, 2, 0, 2, 2, 2, 1, 1, 2, 1, 2, 1, 1, 1, 0, 2, 2, 0, 1, 2, 1, 2, 2, 0, 2, 0, 0, 1, 1, 1, 2, 1, 2, 1, 2, 0, 0, 2, 1, 1, 1, 2, 1, 2, 2, 1, 1, 1, 1, 1, 0, 0, 1, 2, 1, 2, 1, 1, 0, 0, 2, 1, 1, 1, 2, 2, 1, 1, 2, 0, 0, 2, 0, 2, 1, 1, 1, 2, 2, 0, 1, 2, 2, 2, 2, 2, 1, 1, 1, 2, 1, 1, 1, 1, 1, 1, 1, 0, 1, 1, 1, 0, 1, 1, 1, 2, 2, 1, 1, 1, 1, 0, 1, 2, 2, 1, 0, 2, 1, 2, 1, 1, 1, 0, 1, 1, 2, 1, 1, 2, 2, 2, 1, 0, 2, 0, 1, 1, 2, 0, 0, 0, 2, 1, 1, 2, 2, 1, 2, 1, 1, 1, 1, 2, 2, 1, 1, 2, 1, 2, 0, 1, 0, 1, 1, 2, 1, 2, 2, 0, 1, 1, 1, 1, 1, 1, 1, 0, 0, 2, 0, 1, 1, 2, 2, 1, 2, 2, 1, 1, 0, 1, 1, 2, 1, 2, 1, 1, 2, 2, 0, 1, 2, 2, 1, 2, 2, 2, 2, 1, 2, 2, 1, 0, 2, 0, 1, 2, 2, 2, 1, 0, 2, 0, 2, 2, 0, 2, 1, 1, 1, 1, 1, 2, 1, 1, 1, 0, 0, 2, 2, 1, 2, 0, 0, 0, 1, 0, 1, 2, 1, 1, 2, 1, 2, 2, 2, 1, 1, 2, 2, 2, 0, 1, 0, 1, 1, 0, 2, 0, 2, 1, 1, 2, 0, 1, 1, 1, 0, 0, 1, 2, 1, 1, 1, 0, 2, 0, 2, 0, 0, 2, 2, 1, 1, 2, 1, 2, 1, 2, 1, 1, 1, 1, 0, 1, 0, 2, 0, 2, 2, 1, 2, 2, 1, 1, 2, 2, 2, 0, 2, 1, 1, 1, 1, 2, 1, 2, 2, 2, 1, 1, 1, 1, 2, 1, 0, 2, 2, 1, 1, 2, 0]\n"
     ]
    }
   ],
   "source": [
    "y_pred = predictor.predict(x_test)\n",
    "print(y_pred)"
   ]
  },
  {
   "cell_type": "code",
   "execution_count": 21,
   "id": "bd17265a",
   "metadata": {
    "execution": {
     "iopub.execute_input": "2022-04-25T13:53:39.554027Z",
     "iopub.status.busy": "2022-04-25T13:53:39.553161Z",
     "iopub.status.idle": "2022-04-25T13:53:39.630882Z",
     "shell.execute_reply": "2022-04-25T13:53:39.631543Z",
     "shell.execute_reply.started": "2022-04-25T13:27:03.864240Z"
    },
    "papermill": {
     "duration": 3.48863,
     "end_time": "2022-04-25T13:53:39.631763",
     "exception": false,
     "start_time": "2022-04-25T13:53:36.143133",
     "status": "completed"
    },
    "tags": []
   },
   "outputs": [
    {
     "name": "stdout",
     "output_type": "stream",
     "text": [
      "              precision    recall  f1-score   support\n",
      "\n",
      "           0       0.53      0.48      0.50       364\n",
      "           1       0.74      0.79      0.76       659\n",
      "           2       0.76      0.74      0.75       550\n",
      "\n",
      "    accuracy                           0.70      1573\n",
      "   macro avg       0.67      0.67      0.67      1573\n",
      "weighted avg       0.70      0.70      0.70      1573\n",
      "\n"
     ]
    }
   ],
   "source": [
    "from sklearn.metrics import classification_report\n",
    "print(classification_report(y_test,y_pred))"
   ]
  },
  {
   "cell_type": "code",
   "execution_count": 22,
   "id": "21832028",
   "metadata": {
    "execution": {
     "iopub.execute_input": "2022-04-25T13:53:46.707000Z",
     "iopub.status.busy": "2022-04-25T13:53:46.706164Z",
     "iopub.status.idle": "2022-04-25T13:53:47.200393Z",
     "shell.execute_reply": "2022-04-25T13:53:47.199907Z",
     "shell.execute_reply.started": "2022-04-25T13:27:03.950794Z"
    },
    "papermill": {
     "duration": 4.198024,
     "end_time": "2022-04-25T13:53:47.200531",
     "exception": false,
     "start_time": "2022-04-25T13:53:43.002507",
     "status": "completed"
    },
    "tags": []
   },
   "outputs": [
    {
     "data": {
      "image/png": "[encoded data removed]",
      "text/plain": [
       "<Figure size 1152x1008 with 2 Axes>"
      ]
     },
     "metadata": {
      "needs_background": "light"
     },
     "output_type": "display_data"
    }
   ],
   "source": [
    "import seaborn as sns\n",
    "import matplotlib.pyplot as plt\n",
    "\n",
    "### Confusion Matrix\n",
    "from sklearn.metrics import confusion_matrix\n",
    "#predictions = model.predict(x_test, steps=len(x_test), verbose=0)\n",
    "#y_pred=model.predict(x_test)\n",
    "#y_pred = np.round(y_pred)\n",
    "\n",
    "\n",
    "cm = confusion_matrix(y_test, y_pred)\n",
    "\n",
    "## Get Class Labels\n",
    "labels = 3\n",
    "#[0,1,2,3,4,5]_\n",
    "class_names = categories \n",
    "\n",
    "# Plot confusion matrix in a beautiful manner\n",
    "fig = plt.figure(figsize=(16, 14))\n",
    "ax= plt.subplot()\n",
    "sns.heatmap(cm, annot=True, ax = ax, fmt = 'g'); #annot=True to annotate cells\n",
    "# labels, title and ticks\n",
    "ax.set_xlabel('Predicted', fontsize=20)\n",
    "ax.xaxis.set_label_position('bottom')\n",
    "plt.xticks(rotation=90)\n",
    "ax.xaxis.set_ticklabels(class_names, fontsize = 10)\n",
    "ax.xaxis.tick_bottom()\n",
    "\n",
    "ax.set_ylabel('True', fontsize=20)\n",
    "ax.yaxis.set_ticklabels(class_names, fontsize = 10)\n",
    "plt.yticks(rotation=0)\n",
    "\n",
    "plt.title('Refined Confusion Matrix', fontsize=20)\n",
    "\n",
    "plt.savefig('ConMat24.png')\n",
    "plt.show()\n"
   ]
  }
 ],
 "metadata": {
  "kernelspec": {
   "display_name": "Python 3",
   "language": "python",
   "name": "python3"
  },
  "language_info": {
   "codemirror_mode": {
    "name": "ipython",
    "version": 3
   },
   "file_extension": ".py",
   "mimetype": "text/x-python",
   "name": "python",
   "nbconvert_exporter": "python",
   "pygments_lexer": "ipython3",
   "version": "3.7.12"
  },
  "papermill": {
   "default_parameters": {},
   "duration": 1537.278292,
   "end_time": "2022-04-25T13:53:54.656939",
   "environment_variables": {},
   "exception": null,
   "input_path": "__notebook__.ipynb",
   "output_path": "__notebook__.ipynb",
   "parameters": {},
   "start_time": "2022-04-25T13:28:17.378647",
   "version": "2.3.3"
  },
  "widgets": {
   "application/vnd.jupyter.widget-state+json": {
    "state": {
     "00ab5082e54d4fc68f4b5a7b690600f8": {
      "model_module": "@jupyter-widgets/base",
      "model_module_version": "1.2.0",
      "model_name": "LayoutModel",
      "state": {
       "_model_module": "@jupyter-widgets/base",
       "_model_module_version": "1.2.0",
       "_model_name": "LayoutModel",
       "_view_count": null,
       "_view_module": "@jupyter-widgets/base",
       "_view_module_version": "1.2.0",
       "_view_name": "LayoutView",
       "align_content": null,
       "align_items": null,
       "align_self": null,
       "border": null,
       "bottom": null,
       "display": null,
       "flex": null,
       "flex_flow": null,
       "grid_area": null,
       "grid_auto_columns": null,
       "grid_auto_flow": null,
       "grid_auto_rows": null,
       "grid_column": null,
       "grid_gap": null,
       "grid_row": null,
       "grid_template_areas": null,
       "grid_template_columns": null,
       "grid_template_rows": null,
       "height": null,
       "justify_content": null,
       "justify_items": null,
       "left": null,
       "margin": null,
       "max_height": null,
       "max_width": null,
       "min_height": null,
       "min_width": null,
       "object_fit": null,
       "object_position": null,
       "order": null,
       "overflow": null,
       "overflow_x": null,
       "overflow_y": null,
       "padding": null,
       "right": null,
       "top": null,
       "visibility": null,
       "width": null
      }
     },
     "0762e1663d0d439ea85a63fa2bc0fd90": {
      "model_module": "@jupyter-widgets/base",
      "model_module_version": "1.2.0",
      "model_name": "LayoutModel",
      "state": {
       "_model_module": "@jupyter-widgets/base",
       "_model_module_version": "1.2.0",
       "_model_name": "LayoutModel",
       "_view_count": null,
       "_view_module": "@jupyter-widgets/base",
       "_view_module_version": "1.2.0",
       "_view_name": "LayoutView",
       "align_content": null,
       "align_items": null,
       "align_self": null,
       "border": null,
       "bottom": null,
       "display": null,
       "flex": null,
       "flex_flow": null,
       "grid_area": null,
       "grid_auto_columns": null,
       "grid_auto_flow": null,
       "grid_auto_rows": null,
       "grid_column": null,
       "grid_gap": null,
       "grid_row": null,
       "grid_template_areas": null,
       "grid_template_columns": null,
       "grid_template_rows": null,
       "height": null,
       "justify_content": null,
       "justify_items": null,
       "left": null,
       "margin": null,
       "max_height": null,
       "max_width": null,
       "min_height": null,
       "min_width": null,
       "object_fit": null,
       "object_position": null,
       "order": null,
       "overflow": null,
       "overflow_x": null,
       "overflow_y": null,
       "padding": null,
       "right": null,
       "top": null,
       "visibility": null,
       "width": null
      }
     },
     "0a2ae07dc8e8498bba9f5eb02f0c11c1": {
      "model_module": "@jupyter-widgets/base",
      "model_module_version": "1.2.0",
      "model_name": "LayoutModel",
      "state": {
       "_model_module": "@jupyter-widgets/base",
       "_model_module_version": "1.2.0",
       "_model_name": "LayoutModel",
       "_view_count": null,
       "_view_module": "@jupyter-widgets/base",
       "_view_module_version": "1.2.0",
       "_view_name": "LayoutView",
       "align_content": null,
       "align_items": null,
       "align_self": null,
       "border": null,
       "bottom": null,
       "display": null,
       "flex": null,
       "flex_flow": null,
       "grid_area": null,
       "grid_auto_columns": null,
       "grid_auto_flow": null,
       "grid_auto_rows": null,
       "grid_column": null,
       "grid_gap": null,
       "grid_row": null,
       "grid_template_areas": null,
       "grid_template_columns": null,
       "grid_template_rows": null,
       "height": null,
       "justify_content": null,
       "justify_items": null,
       "left": null,
       "margin": null,
       "max_height": null,
       "max_width": null,
       "min_height": null,
       "min_width": null,
       "object_fit": null,
       "object_position": null,
       "order": null,
       "overflow": null,
       "overflow_x": null,
       "overflow_y": null,
       "padding": null,
       "right": null,
       "top": null,
       "visibility": null,
       "width": null
      }
     },
     "0ab55fbc6f7d4441ba53aac4d5b9eff6": {
      "model_module": "@jupyter-widgets/controls",
      "model_module_version": "1.5.0",
      "model_name": "HBoxModel",
      "state": {
       "_dom_classes": [],
       "_model_module": "@jupyter-widgets/controls",
       "_model_module_version": "1.5.0",
       "_model_name": "HBoxModel",
       "_view_count": null,
       "_view_module": "@jupyter-widgets/controls",
       "_view_module_version": "1.5.0",
       "_view_name": "HBoxView",
       "box_style": "",
       "children": [
        "IPY_MODEL_a2d1b0e189ae484d8817347a86294ac2",
        "IPY_MODEL_f29acfcd71b44ecf901d119b6bd780e9",
        "IPY_MODEL_8326ea591df447c9ac7ff696ceaf2b0c"
       ],
       "layout": "IPY_MODEL_96eeb8f01962409a99efbc91fe76a583"
      }
     },
     "0b7412188878400aa210e3e78affa920": {
      "model_module": "@jupyter-widgets/controls",
      "model_module_version": "1.5.0",
      "model_name": "DescriptionStyleModel",
      "state": {
       "_model_module": "@jupyter-widgets/controls",
       "_model_module_version": "1.5.0",
       "_model_name": "DescriptionStyleModel",
       "_view_count": null,
       "_view_module": "@jupyter-widgets/base",
       "_view_module_version": "1.2.0",
       "_view_name": "StyleView",
       "description_width": ""
      }
     },
     "0daa7d37fa44487a8b792ecb5d818ebc": {
      "model_module": "@jupyter-widgets/controls",
      "model_module_version": "1.5.0",
      "model_name": "FloatProgressModel",
      "state": {
       "_dom_classes": [],
       "_model_module": "@jupyter-widgets/controls",
       "_model_module_version": "1.5.0",
       "_model_name": "FloatProgressModel",
       "_view_count": null,
       "_view_module": "@jupyter-widgets/controls",
       "_view_module_version": "1.5.0",
       "_view_name": "ProgressView",
       "bar_style": "success",
       "description": "",
       "description_tooltip": null,
       "layout": "IPY_MODEL_10322a76ea454e13ada210af2e39286a",
       "max": 528316.0,
       "min": 0.0,
       "orientation": "horizontal",
       "style": "IPY_MODEL_c9927dbd10814f14b71e9924cec8f9b2",
       "value": 528316.0
      }
     },
     "0dc30e3643864688b40f90b71760ae2b": {
      "model_module": "@jupyter-widgets/controls",
      "model_module_version": "1.5.0",
      "model_name": "HTMLModel",
      "state": {
       "_dom_classes": [],
       "_model_module": "@jupyter-widgets/controls",
       "_model_module_version": "1.5.0",
       "_model_name": "HTMLModel",
       "_view_count": null,
       "_view_module": "@jupyter-widgets/controls",
       "_view_module_version": "1.5.0",
       "_view_name": "HTMLView",
       "description": "",
       "description_tooltip": null,
       "layout": "IPY_MODEL_49373ec58af547f2b81f072d14c16e06",
       "placeholder": "​",
       "style": "IPY_MODEL_0b7412188878400aa210e3e78affa920",
       "value": " 528k/528k [00:00&lt;00:00, 631kB/s]"
      }
     },
     "10322a76ea454e13ada210af2e39286a": {
      "model_module": "@jupyter-widgets/base",
      "model_module_version": "1.2.0",
      "model_name": "LayoutModel",
      "state": {
       "_model_module": "@jupyter-widgets/base",
       "_model_module_version": "1.2.0",
       "_model_name": "LayoutModel",
       "_view_count": null,
       "_view_module": "@jupyter-widgets/base",
       "_view_module_version": "1.2.0",
       "_view_name": "LayoutView",
       "align_content": null,
       "align_items": null,
       "align_self": null,
       "border": null,
       "bottom": null,
       "display": null,
       "flex": null,
       "flex_flow": null,
       "grid_area": null,
       "grid_auto_columns": null,
       "grid_auto_flow": null,
       "grid_auto_rows": null,
       "grid_column": null,
       "grid_gap": null,
       "grid_row": null,
       "grid_template_areas": null,
       "grid_template_columns": null,
       "grid_template_rows": null,
       "height": null,
       "justify_content": null,
       "justify_items": null,
       "left": null,
       "margin": null,
       "max_height": null,
       "max_width": null,
       "min_height": null,
       "min_width": null,
       "object_fit": null,
       "object_position": null,
       "order": null,
       "overflow": null,
       "overflow_x": null,
       "overflow_y": null,
       "padding": null,
       "right": null,
       "top": null,
       "visibility": null,
       "width": null
      }
     },
     "14b09f9084e24bc18ae82f6a51a13c9c": {
      "model_module": "@jupyter-widgets/controls",
      "model_module_version": "1.5.0",
      "model_name": "HTMLModel",
      "state": {
       "_dom_classes": [],
       "_model_module": "@jupyter-widgets/controls",
       "_model_module_version": "1.5.0",
       "_model_name": "HTMLModel",
       "_view_count": null,
       "_view_module": "@jupyter-widgets/controls",
       "_view_module_version": "1.5.0",
       "_view_name": "HTMLView",
       "description": "",
       "description_tooltip": null,
       "layout": "IPY_MODEL_e7cccb5da0de454cb14a1238ab3eb224",
       "placeholder": "​",
       "style": "IPY_MODEL_f9a5e9fcf57a4aa28356c0b522a43e83",
       "value": "Downloading: 100%"
      }
     },
     "197e6972adb4475ab67aabfc39261265": {
      "model_module": "@jupyter-widgets/controls",
      "model_module_version": "1.5.0",
      "model_name": "DescriptionStyleModel",
      "state": {
       "_model_module": "@jupyter-widgets/controls",
       "_model_module_version": "1.5.0",
       "_model_name": "DescriptionStyleModel",
       "_view_count": null,
       "_view_module": "@jupyter-widgets/base",
       "_view_module_version": "1.2.0",
       "_view_name": "StyleView",
       "description_width": ""
      }
     },
     "1ab8e5fed65e4d82be3c7b34d7f68f55": {
      "model_module": "@jupyter-widgets/controls",
      "model_module_version": "1.5.0",
      "model_name": "HTMLModel",
      "state": {
       "_dom_classes": [],
       "_model_module": "@jupyter-widgets/controls",
       "_model_module_version": "1.5.0",
       "_model_name": "HTMLModel",
       "_view_count": null,
       "_view_module": "@jupyter-widgets/controls",
       "_view_module_version": "1.5.0",
       "_view_name": "HTMLView",
       "description": "",
       "description_tooltip": null,
       "layout": "IPY_MODEL_44ed422d20bd4959887ea6e5f58d671c",
       "placeholder": "​",
       "style": "IPY_MODEL_197e6972adb4475ab67aabfc39261265",
       "value": "Downloading: 100%"
      }
     },
     "1ed10a6ff8914c9a93f6b062a2088f40": {
      "model_module": "@jupyter-widgets/base",
      "model_module_version": "1.2.0",
      "model_name": "LayoutModel",
      "state": {
       "_model_module": "@jupyter-widgets/base",
       "_model_module_version": "1.2.0",
       "_model_name": "LayoutModel",
       "_view_count": null,
       "_view_module": "@jupyter-widgets/base",
       "_view_module_version": "1.2.0",
       "_view_name": "LayoutView",
       "align_content": null,
       "align_items": null,
       "align_self": null,
       "border": null,
       "bottom": null,
       "display": null,
       "flex": null,
       "flex_flow": null,
       "grid_area": null,
       "grid_auto_columns": null,
       "grid_auto_flow": null,
       "grid_auto_rows": null,
       "grid_column": null,
       "grid_gap": null,
       "grid_row": null,
       "grid_template_areas": null,
       "grid_template_columns": null,
       "grid_template_rows": null,
       "height": null,
       "justify_content": null,
       "justify_items": null,
       "left": null,
       "margin": null,
       "max_height": null,
       "max_width": null,
       "min_height": null,
       "min_width": null,
       "object_fit": null,
       "object_position": null,
       "order": null,
       "overflow": null,
       "overflow_x": null,
       "overflow_y": null,
       "padding": null,
       "right": null,
       "top": null,
       "visibility": null,
       "width": null
      }
     },
     "20afec97d5664b11bbeada2f32a398d6": {
      "model_module": "@jupyter-widgets/controls",
      "model_module_version": "1.5.0",
      "model_name": "HTMLModel",
      "state": {
       "_dom_classes": [],
       "_model_module": "@jupyter-widgets/controls",
       "_model_module_version": "1.5.0",
       "_model_name": "HTMLModel",
       "_view_count": null,
       "_view_module": "@jupyter-widgets/controls",
       "_view_module_version": "1.5.0",
       "_view_name": "HTMLView",
       "description": "",
       "description_tooltip": null,
       "layout": "IPY_MODEL_4aa9d727a6f9451384baeddc8907bd43",
       "placeholder": "​",
       "style": "IPY_MODEL_fd9e3ac4e5f64e50a408391e073f1d61",
       "value": "Downloading: 100%"
      }
     },
     "2131f595532a44e49857506b5d01cdbb": {
      "model_module": "@jupyter-widgets/controls",
      "model_module_version": "1.5.0",
      "model_name": "DescriptionStyleModel",
      "state": {
       "_model_module": "@jupyter-widgets/controls",
       "_model_module_version": "1.5.0",
       "_model_name": "DescriptionStyleModel",
       "_view_count": null,
       "_view_module": "@jupyter-widgets/base",
       "_view_module_version": "1.2.0",
       "_view_name": "StyleView",
       "description_width": ""
      }
     },
     "25538f18f4564a149d522dc7dfa552f4": {
      "model_module": "@jupyter-widgets/controls",
      "model_module_version": "1.5.0",
      "model_name": "ProgressStyleModel",
      "state": {
       "_model_module": "@jupyter-widgets/controls",
       "_model_module_version": "1.5.0",
       "_model_name": "ProgressStyleModel",
       "_view_count": null,
       "_view_module": "@jupyter-widgets/base",
       "_view_module_version": "1.2.0",
       "_view_name": "StyleView",
       "bar_color": null,
       "description_width": ""
      }
     },
     "27f038a30fde4e3da36bd34032f48a8f": {
      "model_module": "@jupyter-widgets/base",
      "model_module_version": "1.2.0",
      "model_name": "LayoutModel",
      "state": {
       "_model_module": "@jupyter-widgets/base",
       "_model_module_version": "1.2.0",
       "_model_name": "LayoutModel",
       "_view_count": null,
       "_view_module": "@jupyter-widgets/base",
       "_view_module_version": "1.2.0",
       "_view_name": "LayoutView",
       "align_content": null,
       "align_items": null,
       "align_self": null,
       "border": null,
       "bottom": null,
       "display": null,
       "flex": null,
       "flex_flow": null,
       "grid_area": null,
       "grid_auto_columns": null,
       "grid_auto_flow": null,
       "grid_auto_rows": null,
       "grid_column": null,
       "grid_gap": null,
       "grid_row": null,
       "grid_template_areas": null,
       "grid_template_columns": null,
       "grid_template_rows": null,
       "height": null,
       "justify_content": null,
       "justify_items": null,
       "left": null,
       "margin": null,
       "max_height": null,
       "max_width": null,
       "min_height": null,
       "min_width": null,
       "object_fit": null,
       "object_position": null,
       "order": null,
       "overflow": null,
       "overflow_x": null,
       "overflow_y": null,
       "padding": null,
       "right": null,
       "top": null,
       "visibility": null,
       "width": null
      }
     },
     "3bde98430c824a31b7fbfb2eb8f7babd": {
      "model_module": "@jupyter-widgets/base",
      "model_module_version": "1.2.0",
      "model_name": "LayoutModel",
      "state": {
       "_model_module": "@jupyter-widgets/base",
       "_model_module_version": "1.2.0",
       "_model_name": "LayoutModel",
       "_view_count": null,
       "_view_module": "@jupyter-widgets/base",
       "_view_module_version": "1.2.0",
       "_view_name": "LayoutView",
       "align_content": null,
       "align_items": null,
       "align_self": null,
       "border": null,
       "bottom": null,
       "display": null,
       "flex": null,
       "flex_flow": null,
       "grid_area": null,
       "grid_auto_columns": null,
       "grid_auto_flow": null,
       "grid_auto_rows": null,
       "grid_column": null,
       "grid_gap": null,
       "grid_row": null,
       "grid_template_areas": null,
       "grid_template_columns": null,
       "grid_template_rows": null,
       "height": null,
       "justify_content": null,
       "justify_items": null,
       "left": null,
       "margin": null,
       "max_height": null,
       "max_width": null,
       "min_height": null,
       "min_width": null,
       "object_fit": null,
       "object_position": null,
       "order": null,
       "overflow": null,
       "overflow_x": null,
       "overflow_y": null,
       "padding": null,
       "right": null,
       "top": null,
       "visibility": null,
       "width": null
      }
     },
     "44ed422d20bd4959887ea6e5f58d671c": {
      "model_module": "@jupyter-widgets/base",
      "model_module_version": "1.2.0",
      "model_name": "LayoutModel",
      "state": {
       "_model_module": "@jupyter-widgets/base",
       "_model_module_version": "1.2.0",
       "_model_name": "LayoutModel",
       "_view_count": null,
       "_view_module": "@jupyter-widgets/base",
       "_view_module_version": "1.2.0",
       "_view_name": "LayoutView",
       "align_content": null,
       "align_items": null,
       "align_self": null,
       "border": null,
       "bottom": null,
       "display": null,
       "flex": null,
       "flex_flow": null,
       "grid_area": null,
       "grid_auto_columns": null,
       "grid_auto_flow": null,
       "grid_auto_rows": null,
       "grid_column": null,
       "grid_gap": null,
       "grid_row": null,
       "grid_template_areas": null,
       "grid_template_columns": null,
       "grid_template_rows": null,
       "height": null,
       "justify_content": null,
       "justify_items": null,
       "left": null,
       "margin": null,
       "max_height": null,
       "max_width": null,
       "min_height": null,
       "min_width": null,
       "object_fit": null,
       "object_position": null,
       "order": null,
       "overflow": null,
       "overflow_x": null,
       "overflow_y": null,
       "padding": null,
       "right": null,
       "top": null,
       "visibility": null,
       "width": null
      }
     },
     "49373ec58af547f2b81f072d14c16e06": {
      "model_module": "@jupyter-widgets/base",
      "model_module_version": "1.2.0",
      "model_name": "LayoutModel",
      "state": {
       "_model_module": "@jupyter-widgets/base",
       "_model_module_version": "1.2.0",
       "_model_name": "LayoutModel",
       "_view_count": null,
       "_view_module": "@jupyter-widgets/base",
       "_view_module_version": "1.2.0",
       "_view_name": "LayoutView",
       "align_content": null,
       "align_items": null,
       "align_self": null,
       "border": null,
       "bottom": null,
       "display": null,
       "flex": null,
       "flex_flow": null,
       "grid_area": null,
       "grid_auto_columns": null,
       "grid_auto_flow": null,
       "grid_auto_rows": null,
       "grid_column": null,
       "grid_gap": null,
       "grid_row": null,
       "grid_template_areas": null,
       "grid_template_columns": null,
       "grid_template_rows": null,
       "height": null,
       "justify_content": null,
       "justify_items": null,
       "left": null,
       "margin": null,
       "max_height": null,
       "max_width": null,
       "min_height": null,
       "min_width": null,
       "object_fit": null,
       "object_position": null,
       "order": null,
       "overflow": null,
       "overflow_x": null,
       "overflow_y": null,
       "padding": null,
       "right": null,
       "top": null,
       "visibility": null,
       "width": null
      }
     },
     "4aa9d727a6f9451384baeddc8907bd43": {
      "model_module": "@jupyter-widgets/base",
      "model_module_version": "1.2.0",
      "model_name": "LayoutModel",
      "state": {
       "_model_module": "@jupyter-widgets/base",
       "_model_module_version": "1.2.0",
       "_model_name": "LayoutModel",
       "_view_count": null,
       "_view_module": "@jupyter-widgets/base",
       "_view_module_version": "1.2.0",
       "_view_name": "LayoutView",
       "align_content": null,
       "align_items": null,
       "align_self": null,
       "border": null,
       "bottom": null,
       "display": null,
       "flex": null,
       "flex_flow": null,
       "grid_area": null,
       "grid_auto_columns": null,
       "grid_auto_flow": null,
       "grid_auto_rows": null,
       "grid_column": null,
       "grid_gap": null,
       "grid_row": null,
       "grid_template_areas": null,
       "grid_template_columns": null,
       "grid_template_rows": null,
       "height": null,
       "justify_content": null,
       "justify_items": null,
       "left": null,
       "margin": null,
       "max_height": null,
       "max_width": null,
       "min_height": null,
       "min_width": null,
       "object_fit": null,
       "object_position": null,
       "order": null,
       "overflow": null,
       "overflow_x": null,
       "overflow_y": null,
       "padding": null,
       "right": null,
       "top": null,
       "visibility": null,
       "width": null
      }
     },
     "4b103ccf31184fe2947ffebb1d746906": {
      "model_module": "@jupyter-widgets/controls",
      "model_module_version": "1.5.0",
      "model_name": "DescriptionStyleModel",
      "state": {
       "_model_module": "@jupyter-widgets/controls",
       "_model_module_version": "1.5.0",
       "_model_name": "DescriptionStyleModel",
       "_view_count": null,
       "_view_module": "@jupyter-widgets/base",
       "_view_module_version": "1.2.0",
       "_view_name": "StyleView",
       "description_width": ""
      }
     },
     "5870c98403f04d18bc245a575e8cf011": {
      "model_module": "@jupyter-widgets/controls",
      "model_module_version": "1.5.0",
      "model_name": "ProgressStyleModel",
      "state": {
       "_model_module": "@jupyter-widgets/controls",
       "_model_module_version": "1.5.0",
       "_model_name": "ProgressStyleModel",
       "_view_count": null,
       "_view_module": "@jupyter-widgets/base",
       "_view_module_version": "1.2.0",
       "_view_name": "StyleView",
       "bar_color": null,
       "description_width": ""
      }
     },
     "5b70a07591984247bfaf4219bd3b8659": {
      "model_module": "@jupyter-widgets/controls",
      "model_module_version": "1.5.0",
      "model_name": "HTMLModel",
      "state": {
       "_dom_classes": [],
       "_model_module": "@jupyter-widgets/controls",
       "_model_module_version": "1.5.0",
       "_model_name": "HTMLModel",
       "_view_count": null,
       "_view_module": "@jupyter-widgets/controls",
       "_view_module_version": "1.5.0",
       "_view_name": "HTMLView",
       "description": "",
       "description_tooltip": null,
       "layout": "IPY_MODEL_00ab5082e54d4fc68f4b5a7b690600f8",
       "placeholder": "​",
       "style": "IPY_MODEL_f7d29b6b0f0c402fb088140006be7a91",
       "value": " 443M/443M [00:14&lt;00:00, 31.1MB/s]"
      }
     },
     "618522e8d5e541e195d5f8aaf2b1ad52": {
      "model_module": "@jupyter-widgets/controls",
      "model_module_version": "1.5.0",
      "model_name": "FloatProgressModel",
      "state": {
       "_dom_classes": [],
       "_model_module": "@jupyter-widgets/controls",
       "_model_module_version": "1.5.0",
       "_model_name": "FloatProgressModel",
       "_view_count": null,
       "_view_module": "@jupyter-widgets/controls",
       "_view_module_version": "1.5.0",
       "_view_name": "ProgressView",
       "bar_style": "success",
       "description": "",
       "description_tooltip": null,
       "layout": "IPY_MODEL_93ae8076654f4e7b83af9b166dbc05e1",
       "max": 586.0,
       "min": 0.0,
       "orientation": "horizontal",
       "style": "IPY_MODEL_a8ba0a54d0fb4725816341572482a709",
       "value": 586.0
      }
     },
     "6e3e86084f0c4df7bd19c56ab7df1272": {
      "model_module": "@jupyter-widgets/controls",
      "model_module_version": "1.5.0",
      "model_name": "DescriptionStyleModel",
      "state": {
       "_model_module": "@jupyter-widgets/controls",
       "_model_module_version": "1.5.0",
       "_model_name": "DescriptionStyleModel",
       "_view_count": null,
       "_view_module": "@jupyter-widgets/base",
       "_view_module_version": "1.2.0",
       "_view_name": "StyleView",
       "description_width": ""
      }
     },
     "748c0e5243054bc199be9713d9d002e0": {
      "model_module": "@jupyter-widgets/base",
      "model_module_version": "1.2.0",
      "model_name": "LayoutModel",
      "state": {
       "_model_module": "@jupyter-widgets/base",
       "_model_module_version": "1.2.0",
       "_model_name": "LayoutModel",
       "_view_count": null,
       "_view_module": "@jupyter-widgets/base",
       "_view_module_version": "1.2.0",
       "_view_name": "LayoutView",
       "align_content": null,
       "align_items": null,
       "align_self": null,
       "border": null,
       "bottom": null,
       "display": null,
       "flex": null,
       "flex_flow": null,
       "grid_area": null,
       "grid_auto_columns": null,
       "grid_auto_flow": null,
       "grid_auto_rows": null,
       "grid_column": null,
       "grid_gap": null,
       "grid_row": null,
       "grid_template_areas": null,
       "grid_template_columns": null,
       "grid_template_rows": null,
       "height": null,
       "justify_content": null,
       "justify_items": null,
       "left": null,
       "margin": null,
       "max_height": null,
       "max_width": null,
       "min_height": null,
       "min_width": null,
       "object_fit": null,
       "object_position": null,
       "order": null,
       "overflow": null,
       "overflow_x": null,
       "overflow_y": null,
       "padding": null,
       "right": null,
       "top": null,
       "visibility": null,
       "width": null
      }
     },
     "7b580c7a5e874a0dbac3f2620dcb68ba": {
      "model_module": "@jupyter-widgets/base",
      "model_module_version": "1.2.0",
      "model_name": "LayoutModel",
      "state": {
       "_model_module": "@jupyter-widgets/base",
       "_model_module_version": "1.2.0",
       "_model_name": "LayoutModel",
       "_view_count": null,
       "_view_module": "@jupyter-widgets/base",
       "_view_module_version": "1.2.0",
       "_view_name": "LayoutView",
       "align_content": null,
       "align_items": null,
       "align_self": null,
       "border": null,
       "bottom": null,
       "display": null,
       "flex": null,
       "flex_flow": null,
       "grid_area": null,
       "grid_auto_columns": null,
       "grid_auto_flow": null,
       "grid_auto_rows": null,
       "grid_column": null,
       "grid_gap": null,
       "grid_row": null,
       "grid_template_areas": null,
       "grid_template_columns": null,
       "grid_template_rows": null,
       "height": null,
       "justify_content": null,
       "justify_items": null,
       "left": null,
       "margin": null,
       "max_height": null,
       "max_width": null,
       "min_height": null,
       "min_width": null,
       "object_fit": null,
       "object_position": null,
       "order": null,
       "overflow": null,
       "overflow_x": null,
       "overflow_y": null,
       "padding": null,
       "right": null,
       "top": null,
       "visibility": null,
       "width": null
      }
     },
     "81d176632b5f474088b9ddbd9041e32d": {
      "model_module": "@jupyter-widgets/controls",
      "model_module_version": "1.5.0",
      "model_name": "DescriptionStyleModel",
      "state": {
       "_model_module": "@jupyter-widgets/controls",
       "_model_module_version": "1.5.0",
       "_model_name": "DescriptionStyleModel",
       "_view_count": null,
       "_view_module": "@jupyter-widgets/base",
       "_view_module_version": "1.2.0",
       "_view_name": "StyleView",
       "description_width": ""
      }
     },
     "8326ea591df447c9ac7ff696ceaf2b0c": {
      "model_module": "@jupyter-widgets/controls",
      "model_module_version": "1.5.0",
      "model_name": "HTMLModel",
      "state": {
       "_dom_classes": [],
       "_model_module": "@jupyter-widgets/controls",
       "_model_module_version": "1.5.0",
       "_model_name": "HTMLModel",
       "_view_count": null,
       "_view_module": "@jupyter-widgets/controls",
       "_view_module_version": "1.5.0",
       "_view_name": "HTMLView",
       "description": "",
       "description_tooltip": null,
       "layout": "IPY_MODEL_8dbf4fd8192840368cdc6d4848dc68e4",
       "placeholder": "​",
       "style": "IPY_MODEL_6e3e86084f0c4df7bd19c56ab7df1272",
       "value": " 119/119 [00:00&lt;00:00, 4.57kB/s]"
      }
     },
     "86c8fe15d98245dfb76cf81783431bad": {
      "model_module": "@jupyter-widgets/base",
      "model_module_version": "1.2.0",
      "model_name": "LayoutModel",
      "state": {
       "_model_module": "@jupyter-widgets/base",
       "_model_module_version": "1.2.0",
       "_model_name": "LayoutModel",
       "_view_count": null,
       "_view_module": "@jupyter-widgets/base",
       "_view_module_version": "1.2.0",
       "_view_name": "LayoutView",
       "align_content": null,
       "align_items": null,
       "align_self": null,
       "border": null,
       "bottom": null,
       "display": null,
       "flex": null,
       "flex_flow": null,
       "grid_area": null,
       "grid_auto_columns": null,
       "grid_auto_flow": null,
       "grid_auto_rows": null,
       "grid_column": null,
       "grid_gap": null,
       "grid_row": null,
       "grid_template_areas": null,
       "grid_template_columns": null,
       "grid_template_rows": null,
       "height": null,
       "justify_content": null,
       "justify_items": null,
       "left": null,
       "margin": null,
       "max_height": null,
       "max_width": null,
       "min_height": null,
       "min_width": null,
       "object_fit": null,
       "object_position": null,
       "order": null,
       "overflow": null,
       "overflow_x": null,
       "overflow_y": null,
       "padding": null,
       "right": null,
       "top": null,
       "visibility": null,
       "width": null
      }
     },
     "8c79a825d2824693a010eb97d0faaedd": {
      "model_module": "@jupyter-widgets/controls",
      "model_module_version": "1.5.0",
      "model_name": "ProgressStyleModel",
      "state": {
       "_model_module": "@jupyter-widgets/controls",
       "_model_module_version": "1.5.0",
       "_model_name": "ProgressStyleModel",
       "_view_count": null,
       "_view_module": "@jupyter-widgets/base",
       "_view_module_version": "1.2.0",
       "_view_name": "StyleView",
       "bar_color": null,
       "description_width": ""
      }
     },
     "8dbf4fd8192840368cdc6d4848dc68e4": {
      "model_module": "@jupyter-widgets/base",
      "model_module_version": "1.2.0",
      "model_name": "LayoutModel",
      "state": {
       "_model_module": "@jupyter-widgets/base",
       "_model_module_version": "1.2.0",
       "_model_name": "LayoutModel",
       "_view_count": null,
       "_view_module": "@jupyter-widgets/base",
       "_view_module_version": "1.2.0",
       "_view_name": "LayoutView",
       "align_content": null,
       "align_items": null,
       "align_self": null,
       "border": null,
       "bottom": null,
       "display": null,
       "flex": null,
       "flex_flow": null,
       "grid_area": null,
       "grid_auto_columns": null,
       "grid_auto_flow": null,
       "grid_auto_rows": null,
       "grid_column": null,
       "grid_gap": null,
       "grid_row": null,
       "grid_template_areas": null,
       "grid_template_columns": null,
       "grid_template_rows": null,
       "height": null,
       "justify_content": null,
       "justify_items": null,
       "left": null,
       "margin": null,
       "max_height": null,
       "max_width": null,
       "min_height": null,
       "min_width": null,
       "object_fit": null,
       "object_position": null,
       "order": null,
       "overflow": null,
       "overflow_x": null,
       "overflow_y": null,
       "padding": null,
       "right": null,
       "top": null,
       "visibility": null,
       "width": null
      }
     },
     "92f1b72aa64441ba9b2fbb796b726708": {
      "model_module": "@jupyter-widgets/controls",
      "model_module_version": "1.5.0",
      "model_name": "HBoxModel",
      "state": {
       "_dom_classes": [],
       "_model_module": "@jupyter-widgets/controls",
       "_model_module_version": "1.5.0",
       "_model_name": "HBoxModel",
       "_view_count": null,
       "_view_module": "@jupyter-widgets/controls",
       "_view_module_version": "1.5.0",
       "_view_name": "HBoxView",
       "box_style": "",
       "children": [
        "IPY_MODEL_14b09f9084e24bc18ae82f6a51a13c9c",
        "IPY_MODEL_a0abc7bba52c486980046fb5257c039b",
        "IPY_MODEL_95a8215426b140e1a2173b8cc194beda"
       ],
       "layout": "IPY_MODEL_1ed10a6ff8914c9a93f6b062a2088f40"
      }
     },
     "93ae8076654f4e7b83af9b166dbc05e1": {
      "model_module": "@jupyter-widgets/base",
      "model_module_version": "1.2.0",
      "model_name": "LayoutModel",
      "state": {
       "_model_module": "@jupyter-widgets/base",
       "_model_module_version": "1.2.0",
       "_model_name": "LayoutModel",
       "_view_count": null,
       "_view_module": "@jupyter-widgets/base",
       "_view_module_version": "1.2.0",
       "_view_name": "LayoutView",
       "align_content": null,
       "align_items": null,
       "align_self": null,
       "border": null,
       "bottom": null,
       "display": null,
       "flex": null,
       "flex_flow": null,
       "grid_area": null,
       "grid_auto_columns": null,
       "grid_auto_flow": null,
       "grid_auto_rows": null,
       "grid_column": null,
       "grid_gap": null,
       "grid_row": null,
       "grid_template_areas": null,
       "grid_template_columns": null,
       "grid_template_rows": null,
       "height": null,
       "justify_content": null,
       "justify_items": null,
       "left": null,
       "margin": null,
       "max_height": null,
       "max_width": null,
       "min_height": null,
       "min_width": null,
       "object_fit": null,
       "object_position": null,
       "order": null,
       "overflow": null,
       "overflow_x": null,
       "overflow_y": null,
       "padding": null,
       "right": null,
       "top": null,
       "visibility": null,
       "width": null
      }
     },
     "95a8215426b140e1a2173b8cc194beda": {
      "model_module": "@jupyter-widgets/controls",
      "model_module_version": "1.5.0",
      "model_name": "HTMLModel",
      "state": {
       "_dom_classes": [],
       "_model_module": "@jupyter-widgets/controls",
       "_model_module_version": "1.5.0",
       "_model_name": "HTMLModel",
       "_view_count": null,
       "_view_module": "@jupyter-widgets/controls",
       "_view_module_version": "1.5.0",
       "_view_name": "HTMLView",
       "description": "",
       "description_tooltip": null,
       "layout": "IPY_MODEL_748c0e5243054bc199be9713d9d002e0",
       "placeholder": "​",
       "style": "IPY_MODEL_fc63e2498bd648f5beae2511ba820524",
       "value": " 112/112 [00:00&lt;00:00, 4.49kB/s]"
      }
     },
     "96eeb8f01962409a99efbc91fe76a583": {
      "model_module": "@jupyter-widgets/base",
      "model_module_version": "1.2.0",
      "model_name": "LayoutModel",
      "state": {
       "_model_module": "@jupyter-widgets/base",
       "_model_module_version": "1.2.0",
       "_model_name": "LayoutModel",
       "_view_count": null,
       "_view_module": "@jupyter-widgets/base",
       "_view_module_version": "1.2.0",
       "_view_name": "LayoutView",
       "align_content": null,
       "align_items": null,
       "align_self": null,
       "border": null,
       "bottom": null,
       "display": null,
       "flex": null,
       "flex_flow": null,
       "grid_area": null,
       "grid_auto_columns": null,
       "grid_auto_flow": null,
       "grid_auto_rows": null,
       "grid_column": null,
       "grid_gap": null,
       "grid_row": null,
       "grid_template_areas": null,
       "grid_template_columns": null,
       "grid_template_rows": null,
       "height": null,
       "justify_content": null,
       "justify_items": null,
       "left": null,
       "margin": null,
       "max_height": null,
       "max_width": null,
       "min_height": null,
       "min_width": null,
       "object_fit": null,
       "object_position": null,
       "order": null,
       "overflow": null,
       "overflow_x": null,
       "overflow_y": null,
       "padding": null,
       "right": null,
       "top": null,
       "visibility": null,
       "width": null
      }
     },
     "9d4573ca075743b1915fec25c5959c54": {
      "model_module": "@jupyter-widgets/base",
      "model_module_version": "1.2.0",
      "model_name": "LayoutModel",
      "state": {
       "_model_module": "@jupyter-widgets/base",
       "_model_module_version": "1.2.0",
       "_model_name": "LayoutModel",
       "_view_count": null,
       "_view_module": "@jupyter-widgets/base",
       "_view_module_version": "1.2.0",
       "_view_name": "LayoutView",
       "align_content": null,
       "align_items": null,
       "align_self": null,
       "border": null,
       "bottom": null,
       "display": null,
       "flex": null,
       "flex_flow": null,
       "grid_area": null,
       "grid_auto_columns": null,
       "grid_auto_flow": null,
       "grid_auto_rows": null,
       "grid_column": null,
       "grid_gap": null,
       "grid_row": null,
       "grid_template_areas": null,
       "grid_template_columns": null,
       "grid_template_rows": null,
       "height": null,
       "justify_content": null,
       "justify_items": null,
       "left": null,
       "margin": null,
       "max_height": null,
       "max_width": null,
       "min_height": null,
       "min_width": null,
       "object_fit": null,
       "object_position": null,
       "order": null,
       "overflow": null,
       "overflow_x": null,
       "overflow_y": null,
       "padding": null,
       "right": null,
       "top": null,
       "visibility": null,
       "width": null
      }
     },
     "9f7de6cc56214c2db68978a24218c158": {
      "model_module": "@jupyter-widgets/controls",
      "model_module_version": "1.5.0",
      "model_name": "FloatProgressModel",
      "state": {
       "_dom_classes": [],
       "_model_module": "@jupyter-widgets/controls",
       "_model_module_version": "1.5.0",
       "_model_name": "FloatProgressModel",
       "_view_count": null,
       "_view_module": "@jupyter-widgets/controls",
       "_view_module_version": "1.5.0",
       "_view_name": "ProgressView",
       "bar_style": "success",
       "description": "",
       "description_tooltip": null,
       "layout": "IPY_MODEL_0762e1663d0d439ea85a63fa2bc0fd90",
       "max": 442560329.0,
       "min": 0.0,
       "orientation": "horizontal",
       "style": "IPY_MODEL_5870c98403f04d18bc245a575e8cf011",
       "value": 442560329.0
      }
     },
     "a0abc7bba52c486980046fb5257c039b": {
      "model_module": "@jupyter-widgets/controls",
      "model_module_version": "1.5.0",
      "model_name": "FloatProgressModel",
      "state": {
       "_dom_classes": [],
       "_model_module": "@jupyter-widgets/controls",
       "_model_module_version": "1.5.0",
       "_model_name": "FloatProgressModel",
       "_view_count": null,
       "_view_module": "@jupyter-widgets/controls",
       "_view_module_version": "1.5.0",
       "_view_name": "ProgressView",
       "bar_style": "success",
       "description": "",
       "description_tooltip": null,
       "layout": "IPY_MODEL_86c8fe15d98245dfb76cf81783431bad",
       "max": 112.0,
       "min": 0.0,
       "orientation": "horizontal",
       "style": "IPY_MODEL_25538f18f4564a149d522dc7dfa552f4",
       "value": 112.0
      }
     },
     "a2d1b0e189ae484d8817347a86294ac2": {
      "model_module": "@jupyter-widgets/controls",
      "model_module_version": "1.5.0",
      "model_name": "HTMLModel",
      "state": {
       "_dom_classes": [],
       "_model_module": "@jupyter-widgets/controls",
       "_model_module_version": "1.5.0",
       "_model_name": "HTMLModel",
       "_view_count": null,
       "_view_module": "@jupyter-widgets/controls",
       "_view_module_version": "1.5.0",
       "_view_name": "HTMLView",
       "description": "",
       "description_tooltip": null,
       "layout": "IPY_MODEL_9d4573ca075743b1915fec25c5959c54",
       "placeholder": "​",
       "style": "IPY_MODEL_81d176632b5f474088b9ddbd9041e32d",
       "value": "Downloading: 100%"
      }
     },
     "a8ba0a54d0fb4725816341572482a709": {
      "model_module": "@jupyter-widgets/controls",
      "model_module_version": "1.5.0",
      "model_name": "ProgressStyleModel",
      "state": {
       "_model_module": "@jupyter-widgets/controls",
       "_model_module_version": "1.5.0",
       "_model_name": "ProgressStyleModel",
       "_view_count": null,
       "_view_module": "@jupyter-widgets/base",
       "_view_module_version": "1.2.0",
       "_view_name": "StyleView",
       "bar_color": null,
       "description_width": ""
      }
     },
     "ae025f167b604210be59bbb65d123a52": {
      "model_module": "@jupyter-widgets/controls",
      "model_module_version": "1.5.0",
      "model_name": "HTMLModel",
      "state": {
       "_dom_classes": [],
       "_model_module": "@jupyter-widgets/controls",
       "_model_module_version": "1.5.0",
       "_model_name": "HTMLModel",
       "_view_count": null,
       "_view_module": "@jupyter-widgets/controls",
       "_view_module_version": "1.5.0",
       "_view_name": "HTMLView",
       "description": "",
       "description_tooltip": null,
       "layout": "IPY_MODEL_cd6646145e41447388a4274fac81d29a",
       "placeholder": "​",
       "style": "IPY_MODEL_2131f595532a44e49857506b5d01cdbb",
       "value": "Downloading: 100%"
      }
     },
     "b36e41f484ec4f68ab04938eaf7b6f96": {
      "model_module": "@jupyter-widgets/controls",
      "model_module_version": "1.5.0",
      "model_name": "HBoxModel",
      "state": {
       "_dom_classes": [],
       "_model_module": "@jupyter-widgets/controls",
       "_model_module_version": "1.5.0",
       "_model_name": "HBoxModel",
       "_view_count": null,
       "_view_module": "@jupyter-widgets/controls",
       "_view_module_version": "1.5.0",
       "_view_name": "HBoxView",
       "box_style": "",
       "children": [
        "IPY_MODEL_ae025f167b604210be59bbb65d123a52",
        "IPY_MODEL_0daa7d37fa44487a8b792ecb5d818ebc",
        "IPY_MODEL_0dc30e3643864688b40f90b71760ae2b"
       ],
       "layout": "IPY_MODEL_0a2ae07dc8e8498bba9f5eb02f0c11c1"
      }
     },
     "c32cd1a9b7464abf91a6492c64e34ca3": {
      "model_module": "@jupyter-widgets/controls",
      "model_module_version": "1.5.0",
      "model_name": "HBoxModel",
      "state": {
       "_dom_classes": [],
       "_model_module": "@jupyter-widgets/controls",
       "_model_module_version": "1.5.0",
       "_model_name": "HBoxModel",
       "_view_count": null,
       "_view_module": "@jupyter-widgets/controls",
       "_view_module_version": "1.5.0",
       "_view_name": "HBoxView",
       "box_style": "",
       "children": [
        "IPY_MODEL_20afec97d5664b11bbeada2f32a398d6",
        "IPY_MODEL_618522e8d5e541e195d5f8aaf2b1ad52",
        "IPY_MODEL_eed347a203f74c559cd102e9dcb64f58"
       ],
       "layout": "IPY_MODEL_7b580c7a5e874a0dbac3f2620dcb68ba"
      }
     },
     "c9927dbd10814f14b71e9924cec8f9b2": {
      "model_module": "@jupyter-widgets/controls",
      "model_module_version": "1.5.0",
      "model_name": "ProgressStyleModel",
      "state": {
       "_model_module": "@jupyter-widgets/controls",
       "_model_module_version": "1.5.0",
       "_model_name": "ProgressStyleModel",
       "_view_count": null,
       "_view_module": "@jupyter-widgets/base",
       "_view_module_version": "1.2.0",
       "_view_name": "StyleView",
       "bar_color": null,
       "description_width": ""
      }
     },
     "cb410cd312634df0bcf9003a742b198b": {
      "model_module": "@jupyter-widgets/controls",
      "model_module_version": "1.5.0",
      "model_name": "HBoxModel",
      "state": {
       "_dom_classes": [],
       "_model_module": "@jupyter-widgets/controls",
       "_model_module_version": "1.5.0",
       "_model_name": "HBoxModel",
       "_view_count": null,
       "_view_module": "@jupyter-widgets/controls",
       "_view_module_version": "1.5.0",
       "_view_name": "HBoxView",
       "box_style": "",
       "children": [
        "IPY_MODEL_1ab8e5fed65e4d82be3c7b34d7f68f55",
        "IPY_MODEL_9f7de6cc56214c2db68978a24218c158",
        "IPY_MODEL_5b70a07591984247bfaf4219bd3b8659"
       ],
       "layout": "IPY_MODEL_27f038a30fde4e3da36bd34032f48a8f"
      }
     },
     "cd6646145e41447388a4274fac81d29a": {
      "model_module": "@jupyter-widgets/base",
      "model_module_version": "1.2.0",
      "model_name": "LayoutModel",
      "state": {
       "_model_module": "@jupyter-widgets/base",
       "_model_module_version": "1.2.0",
       "_model_name": "LayoutModel",
       "_view_count": null,
       "_view_module": "@jupyter-widgets/base",
       "_view_module_version": "1.2.0",
       "_view_name": "LayoutView",
       "align_content": null,
       "align_items": null,
       "align_self": null,
       "border": null,
       "bottom": null,
       "display": null,
       "flex": null,
       "flex_flow": null,
       "grid_area": null,
       "grid_auto_columns": null,
       "grid_auto_flow": null,
       "grid_auto_rows": null,
       "grid_column": null,
       "grid_gap": null,
       "grid_row": null,
       "grid_template_areas": null,
       "grid_template_columns": null,
       "grid_template_rows": null,
       "height": null,
       "justify_content": null,
       "justify_items": null,
       "left": null,
       "margin": null,
       "max_height": null,
       "max_width": null,
       "min_height": null,
       "min_width": null,
       "object_fit": null,
       "object_position": null,
       "order": null,
       "overflow": null,
       "overflow_x": null,
       "overflow_y": null,
       "padding": null,
       "right": null,
       "top": null,
       "visibility": null,
       "width": null
      }
     },
     "e7cccb5da0de454cb14a1238ab3eb224": {
      "model_module": "@jupyter-widgets/base",
      "model_module_version": "1.2.0",
      "model_name": "LayoutModel",
      "state": {
       "_model_module": "@jupyter-widgets/base",
       "_model_module_version": "1.2.0",
       "_model_name": "LayoutModel",
       "_view_count": null,
       "_view_module": "@jupyter-widgets/base",
       "_view_module_version": "1.2.0",
       "_view_name": "LayoutView",
       "align_content": null,
       "align_items": null,
       "align_self": null,
       "border": null,
       "bottom": null,
       "display": null,
       "flex": null,
       "flex_flow": null,
       "grid_area": null,
       "grid_auto_columns": null,
       "grid_auto_flow": null,
       "grid_auto_rows": null,
       "grid_column": null,
       "grid_gap": null,
       "grid_row": null,
       "grid_template_areas": null,
       "grid_template_columns": null,
       "grid_template_rows": null,
       "height": null,
       "justify_content": null,
       "justify_items": null,
       "left": null,
       "margin": null,
       "max_height": null,
       "max_width": null,
       "min_height": null,
       "min_width": null,
       "object_fit": null,
       "object_position": null,
       "order": null,
       "overflow": null,
       "overflow_x": null,
       "overflow_y": null,
       "padding": null,
       "right": null,
       "top": null,
       "visibility": null,
       "width": null
      }
     },
     "eed347a203f74c559cd102e9dcb64f58": {
      "model_module": "@jupyter-widgets/controls",
      "model_module_version": "1.5.0",
      "model_name": "HTMLModel",
      "state": {
       "_dom_classes": [],
       "_model_module": "@jupyter-widgets/controls",
       "_model_module_version": "1.5.0",
       "_model_name": "HTMLModel",
       "_view_count": null,
       "_view_module": "@jupyter-widgets/controls",
       "_view_module_version": "1.5.0",
       "_view_name": "HTMLView",
       "description": "",
       "description_tooltip": null,
       "layout": "IPY_MODEL_3bde98430c824a31b7fbfb2eb8f7babd",
       "placeholder": "​",
       "style": "IPY_MODEL_4b103ccf31184fe2947ffebb1d746906",
       "value": " 586/586 [00:00&lt;00:00, 22.6kB/s]"
      }
     },
     "f29acfcd71b44ecf901d119b6bd780e9": {
      "model_module": "@jupyter-widgets/controls",
      "model_module_version": "1.5.0",
      "model_name": "FloatProgressModel",
      "state": {
       "_dom_classes": [],
       "_model_module": "@jupyter-widgets/controls",
       "_model_module_version": "1.5.0",
       "_model_name": "FloatProgressModel",
       "_view_count": null,
       "_view_module": "@jupyter-widgets/controls",
       "_view_module_version": "1.5.0",
       "_view_name": "ProgressView",
       "bar_style": "success",
       "description": "",
       "description_tooltip": null,
       "layout": "IPY_MODEL_f7d1ad45d99042a0819926fc73390039",
       "max": 119.0,
       "min": 0.0,
       "orientation": "horizontal",
       "style": "IPY_MODEL_8c79a825d2824693a010eb97d0faaedd",
       "value": 119.0
      }
     },
     "f7d1ad45d99042a0819926fc73390039": {
      "model_module": "@jupyter-widgets/base",
      "model_module_version": "1.2.0",
      "model_name": "LayoutModel",
      "state": {
       "_model_module": "@jupyter-widgets/base",
       "_model_module_version": "1.2.0",
       "_model_name": "LayoutModel",
       "_view_count": null,
       "_view_module": "@jupyter-widgets/base",
       "_view_module_version": "1.2.0",
       "_view_name": "LayoutView",
       "align_content": null,
       "align_items": null,
       "align_self": null,
       "border": null,
       "bottom": null,
       "display": null,
       "flex": null,
       "flex_flow": null,
       "grid_area": null,
       "grid_auto_columns": null,
       "grid_auto_flow": null,
       "grid_auto_rows": null,
       "grid_column": null,
       "grid_gap": null,
       "grid_row": null,
       "grid_template_areas": null,
       "grid_template_columns": null,
       "grid_template_rows": null,
       "height": null,
       "justify_content": null,
       "justify_items": null,
       "left": null,
       "margin": null,
       "max_height": null,
       "max_width": null,
       "min_height": null,
       "min_width": null,
       "object_fit": null,
       "object_position": null,
       "order": null,
       "overflow": null,
       "overflow_x": null,
       "overflow_y": null,
       "padding": null,
       "right": null,
       "top": null,
       "visibility": null,
       "width": null
      }
     },
     "f7d29b6b0f0c402fb088140006be7a91": {
      "model_module": "@jupyter-widgets/controls",
      "model_module_version": "1.5.0",
      "model_name": "DescriptionStyleModel",
      "state": {
       "_model_module": "@jupyter-widgets/controls",
       "_model_module_version": "1.5.0",
       "_model_name": "DescriptionStyleModel",
       "_view_count": null,
       "_view_module": "@jupyter-widgets/base",
       "_view_module_version": "1.2.0",
       "_view_name": "StyleView",
       "description_width": ""
      }
     },
     "f9a5e9fcf57a4aa28356c0b522a43e83": {
      "model_module": "@jupyter-widgets/controls",
      "model_module_version": "1.5.0",
      "model_name": "DescriptionStyleModel",
      "state": {
       "_model_module": "@jupyter-widgets/controls",
       "_model_module_version": "1.5.0",
       "_model_name": "DescriptionStyleModel",
       "_view_count": null,
       "_view_module": "@jupyter-widgets/base",
       "_view_module_version": "1.2.0",
       "_view_name": "StyleView",
       "description_width": ""
      }
     },
     "fc63e2498bd648f5beae2511ba820524": {
      "model_module": "@jupyter-widgets/controls",
      "model_module_version": "1.5.0",
      "model_name": "DescriptionStyleModel",
      "state": {
       "_model_module": "@jupyter-widgets/controls",
       "_model_module_version": "1.5.0",
       "_model_name": "DescriptionStyleModel",
       "_view_count": null,
       "_view_module": "@jupyter-widgets/base",
       "_view_module_version": "1.2.0",
       "_view_name": "StyleView",
       "description_width": ""
      }
     },
     "fd9e3ac4e5f64e50a408391e073f1d61": {
      "model_module": "@jupyter-widgets/controls",
      "model_module_version": "1.5.0",
      "model_name": "DescriptionStyleModel",
      "state": {
       "_model_module": "@jupyter-widgets/controls",
       "_model_module_version": "1.5.0",
       "_model_name": "DescriptionStyleModel",
       "_view_count": null,
       "_view_module": "@jupyter-widgets/base",
       "_view_module_version": "1.2.0",
       "_view_name": "StyleView",
       "description_width": ""
      }
     }
    },
    "version_major": 2,
    "version_minor": 0
   }
  }
 },
 "nbformat": 4,
 "nbformat_minor": 5
}
