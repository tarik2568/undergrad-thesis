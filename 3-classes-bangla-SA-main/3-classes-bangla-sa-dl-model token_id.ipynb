{
 "cells": [
  {
   "cell_type": "code",
   "execution_count": 1,
   "id": "33f28d16",
   "metadata": {
    "execution": {
     "iopub.execute_input": "2022-04-22T08:27:30.285150Z",
     "iopub.status.busy": "2022-04-22T08:27:30.284456Z",
     "iopub.status.idle": "2022-04-22T08:27:35.023996Z",
     "shell.execute_reply": "2022-04-22T08:27:35.023256Z"
    },
    "papermill": {
     "duration": 4.766941,
     "end_time": "2022-04-22T08:27:35.026190",
     "exception": false,
     "start_time": "2022-04-22T08:27:30.259249",
     "status": "completed"
    },
    "tags": []
   },
   "outputs": [],
   "source": [
    "import numpy as np\n",
    "import keras\n",
    "import pandas as pd \n",
    "from keras.models import Sequential\n",
    "from keras.layers import Dense, Dropout, Embedding, LSTM,Bidirectional\n",
    "import re\n",
    "import tensorflow as tf\n",
    "from keras.preprocessing.text import Tokenizer"
   ]
  },
  {
   "cell_type": "code",
   "execution_count": 2,
   "id": "02b6c910",
   "metadata": {
    "execution": {
     "iopub.execute_input": "2022-04-22T08:27:35.071999Z",
     "iopub.status.busy": "2022-04-22T08:27:35.071694Z",
     "iopub.status.idle": "2022-04-22T08:27:35.921341Z",
     "shell.execute_reply": "2022-04-22T08:27:35.920634Z"
    },
    "papermill": {
     "duration": 0.874351,
     "end_time": "2022-04-22T08:27:35.923438",
     "exception": false,
     "start_time": "2022-04-22T08:27:35.049087",
     "status": "completed"
    },
    "tags": []
   },
   "outputs": [],
   "source": [
    "from keras.preprocessing.sequence import pad_sequences\n",
    "from keras.layers import Activation, Conv2D, Input, Embedding, Reshape, MaxPool1D, Concatenate, Flatten, Dropout, Dense, Conv1D\n",
    "from keras.models import Model\n",
    "from keras.callbacks import ModelCheckpoint\n",
    "from tensorflow.keras.optimizers import Adam,SGD\n",
    "import warnings\n",
    "warnings.filterwarnings('ignore')\n",
    "import seaborn as sns"
   ]
  },
  {
   "cell_type": "code",
   "execution_count": 3,
   "id": "3d0da1fc",
   "metadata": {
    "execution": {
     "iopub.execute_input": "2022-04-22T08:27:35.970629Z",
     "iopub.status.busy": "2022-04-22T08:27:35.970120Z",
     "iopub.status.idle": "2022-04-22T08:27:35.980183Z",
     "shell.execute_reply": "2022-04-22T08:27:35.979294Z"
    },
    "papermill": {
     "duration": 0.036153,
     "end_time": "2022-04-22T08:27:35.982608",
     "exception": false,
     "start_time": "2022-04-22T08:27:35.946455",
     "status": "completed"
    },
    "tags": []
   },
   "outputs": [
    {
     "name": "stdout",
     "output_type": "stream",
     "text": [
      "/kaggle/input/3-classes-bangla-sa/3_classes_Bert_Preprocessed__Dataset.xlsx\n"
     ]
    }
   ],
   "source": [
    "import os\n",
    "for dirname, _, filenames in os.walk('/kaggle/input'):\n",
    "    for filename in filenames:\n",
    "        print(os.path.join(dirname, filename))"
   ]
  },
  {
   "cell_type": "code",
   "execution_count": 4,
   "id": "e44e3c8d",
   "metadata": {
    "execution": {
     "iopub.execute_input": "2022-04-22T08:27:36.030160Z",
     "iopub.status.busy": "2022-04-22T08:27:36.029626Z",
     "iopub.status.idle": "2022-04-22T08:27:48.936939Z",
     "shell.execute_reply": "2022-04-22T08:27:48.935479Z"
    },
    "papermill": {
     "duration": 12.933624,
     "end_time": "2022-04-22T08:27:48.939292",
     "exception": false,
     "start_time": "2022-04-22T08:27:36.005668",
     "status": "completed"
    },
    "tags": []
   },
   "outputs": [
    {
     "name": "stdout",
     "output_type": "stream",
     "text": [
      "Collecting openpyxl\r\n",
      "  Downloading openpyxl-3.0.9-py2.py3-none-any.whl (242 kB)\r\n",
      "\u001b[2K     \u001b[90m━━━━━━━━━━━━━━━━━━━━━━━━━━━━━━━━━━━━━\u001b[0m \u001b[32m242.2/242.2 KB\u001b[0m \u001b[31m520.8 kB/s\u001b[0m eta \u001b[36m0:00:00\u001b[0m\r\n",
      "\u001b[?25hCollecting et-xmlfile\r\n",
      "  Downloading et_xmlfile-1.1.0-py3-none-any.whl (4.7 kB)\r\n",
      "Installing collected packages: et-xmlfile, openpyxl\r\n",
      "Successfully installed et-xmlfile-1.1.0 openpyxl-3.0.9\r\n",
      "\u001b[33mWARNING: Running pip as the 'root' user can result in broken permissions and conflicting behaviour with the system package manager. It is recommended to use a virtual environment instead: https://pip.pypa.io/warnings/venv\u001b[0m\u001b[33m\r\n",
      "\u001b[0mNote: you may need to restart the kernel to use updated packages.\n"
     ]
    }
   ],
   "source": [
    "pip install openpyxl"
   ]
  },
  {
   "cell_type": "code",
   "execution_count": 5,
   "id": "cf1ef32d",
   "metadata": {
    "execution": {
     "iopub.execute_input": "2022-04-22T08:27:48.997465Z",
     "iopub.status.busy": "2022-04-22T08:27:48.997218Z",
     "iopub.status.idle": "2022-04-22T08:27:51.646771Z",
     "shell.execute_reply": "2022-04-22T08:27:51.645342Z"
    },
    "papermill": {
     "duration": 2.681453,
     "end_time": "2022-04-22T08:27:51.648659",
     "exception": false,
     "start_time": "2022-04-22T08:27:48.967206",
     "status": "completed"
    },
    "tags": []
   },
   "outputs": [
    {
     "name": "stdout",
     "output_type": "stream",
     "text": [
      "<class 'pandas.core.frame.DataFrame'>\n",
      "RangeIndex: 15728 entries, 0 to 15727\n",
      "Data columns (total 5 columns):\n",
      " #   Column      Non-Null Count  Dtype \n",
      "---  ------      --------------  ----- \n",
      " 0   Unnamed: 0  15728 non-null  int64 \n",
      " 1   Data        15728 non-null  object\n",
      " 2   Label       15728 non-null  int64 \n",
      " 3   Token       15728 non-null  object\n",
      " 4   Token_ID    15728 non-null  object\n",
      "dtypes: int64(2), object(3)\n",
      "memory usage: 614.5+ KB\n"
     ]
    }
   ],
   "source": [
    "df=pd.read_excel('/kaggle/input/3-classes-bangla-sa/3_classes_Bert_Preprocessed__Dataset.xlsx')\n",
    "df.info()"
   ]
  },
  {
   "cell_type": "code",
   "execution_count": 6,
   "id": "96b75dc5",
   "metadata": {
    "execution": {
     "iopub.execute_input": "2022-04-22T08:27:51.706948Z",
     "iopub.status.busy": "2022-04-22T08:27:51.706464Z",
     "iopub.status.idle": "2022-04-22T08:27:51.720995Z",
     "shell.execute_reply": "2022-04-22T08:27:51.720345Z"
    },
    "papermill": {
     "duration": 0.044401,
     "end_time": "2022-04-22T08:27:51.722663",
     "exception": false,
     "start_time": "2022-04-22T08:27:51.678262",
     "status": "completed"
    },
    "tags": []
   },
   "outputs": [
    {
     "data": {
      "text/html": [
       "<div>\n",
       "<style scoped>\n",
       "    .dataframe tbody tr th:only-of-type {\n",
       "        vertical-align: middle;\n",
       "    }\n",
       "\n",
       "    .dataframe tbody tr th {\n",
       "        vertical-align: top;\n",
       "    }\n",
       "\n",
       "    .dataframe thead th {\n",
       "        text-align: right;\n",
       "    }\n",
       "</style>\n",
       "<table border=\"1\" class=\"dataframe\">\n",
       "  <thead>\n",
       "    <tr style=\"text-align: right;\">\n",
       "      <th></th>\n",
       "      <th>Unnamed: 0</th>\n",
       "      <th>Data</th>\n",
       "      <th>Label</th>\n",
       "      <th>Token</th>\n",
       "      <th>Token_ID</th>\n",
       "    </tr>\n",
       "  </thead>\n",
       "  <tbody>\n",
       "    <tr>\n",
       "      <th>0</th>\n",
       "      <td>4032</td>\n",
       "      <td>এক মাস সেহেরি খাইয়া রোজা রাহা সোজা</td>\n",
       "      <td>1</td>\n",
       "      <td>['এক', 'মাস', 'সে', '##হের', '##ি', '[UNK]', '...</td>\n",
       "      <td>[788, 1293, 809, 2685, 416, 1, 12209, 3462, 41...</td>\n",
       "    </tr>\n",
       "    <tr>\n",
       "      <th>1</th>\n",
       "      <td>3587</td>\n",
       "      <td>ভাই আমাদের মাতৃভুমিটা এত সুনদর</td>\n",
       "      <td>1</td>\n",
       "      <td>['ভাই', 'আমাদের', 'মাতৃ', '##ভু', '##মিট', '##...</td>\n",
       "      <td>[1352, 1029, 6563, 12357, 12290, 415, 1284, 36...</td>\n",
       "    </tr>\n",
       "    <tr>\n",
       "      <th>2</th>\n",
       "      <td>8968</td>\n",
       "      <td>জানুয়ারীতে কেন  ঐ সময় স্পেশাল কি</td>\n",
       "      <td>1</td>\n",
       "      <td>['[UNK]', 'কেন', 'ঐ', '[UNK]', 'স্পেশাল', 'কি']</td>\n",
       "      <td>[1, 1107, 218, 1, 10225, 817]</td>\n",
       "    </tr>\n",
       "    <tr>\n",
       "      <th>3</th>\n",
       "      <td>95</td>\n",
       "      <td>তোরা কখন কাচা রসুন চাবিয়ে খেয়ে দেখেচিস</td>\n",
       "      <td>2</td>\n",
       "      <td>['তোরা', 'কখন', 'কাচা', 'রসুন', '[UNK]', '[UNK...</td>\n",
       "      <td>[5712, 1394, 30306, 18173, 1, 1, 1172, 2408, 417]</td>\n",
       "    </tr>\n",
       "    <tr>\n",
       "      <th>4</th>\n",
       "      <td>1163</td>\n",
       "      <td>হ্যাঁ হ্যাঁ হ্যাঁ হ্যাঁ জীবন টা বেদনা</td>\n",
       "      <td>2</td>\n",
       "      <td>['হ্যাঁ', 'হ্যাঁ', 'হ্যাঁ', 'হ্যাঁ', 'জীবন', '...</td>\n",
       "      <td>[2154, 2154, 2154, 2154, 1537, 1632, 10018]</td>\n",
       "    </tr>\n",
       "  </tbody>\n",
       "</table>\n",
       "</div>"
      ],
      "text/plain": [
       "   Unnamed: 0                                     Data  Label  \\\n",
       "0        4032       এক মাস সেহেরি খাইয়া রোজা রাহা সোজা      1   \n",
       "1        3587           ভাই আমাদের মাতৃভুমিটা এত সুনদর      1   \n",
       "2        8968         জানুয়ারীতে কেন  ঐ সময় স্পেশাল কি      1   \n",
       "3          95  তোরা কখন কাচা রসুন চাবিয়ে খেয়ে দেখেচিস       2   \n",
       "4        1163   হ্যাঁ হ্যাঁ হ্যাঁ হ্যাঁ জীবন টা বেদনা       2   \n",
       "\n",
       "                                               Token  \\\n",
       "0  ['এক', 'মাস', 'সে', '##হের', '##ি', '[UNK]', '...   \n",
       "1  ['ভাই', 'আমাদের', 'মাতৃ', '##ভু', '##মিট', '##...   \n",
       "2    ['[UNK]', 'কেন', 'ঐ', '[UNK]', 'স্পেশাল', 'কি']   \n",
       "3  ['তোরা', 'কখন', 'কাচা', 'রসুন', '[UNK]', '[UNK...   \n",
       "4  ['হ্যাঁ', 'হ্যাঁ', 'হ্যাঁ', 'হ্যাঁ', 'জীবন', '...   \n",
       "\n",
       "                                            Token_ID  \n",
       "0  [788, 1293, 809, 2685, 416, 1, 12209, 3462, 41...  \n",
       "1  [1352, 1029, 6563, 12357, 12290, 415, 1284, 36...  \n",
       "2                      [1, 1107, 218, 1, 10225, 817]  \n",
       "3  [5712, 1394, 30306, 18173, 1, 1, 1172, 2408, 417]  \n",
       "4        [2154, 2154, 2154, 2154, 1537, 1632, 10018]  "
      ]
     },
     "execution_count": 6,
     "metadata": {},
     "output_type": "execute_result"
    }
   ],
   "source": [
    "df.head()"
   ]
  },
  {
   "cell_type": "code",
   "execution_count": 7,
   "id": "99567733",
   "metadata": {
    "execution": {
     "iopub.execute_input": "2022-04-22T08:27:51.782237Z",
     "iopub.status.busy": "2022-04-22T08:27:51.781577Z",
     "iopub.status.idle": "2022-04-22T08:27:51.976005Z",
     "shell.execute_reply": "2022-04-22T08:27:51.975344Z"
    },
    "papermill": {
     "duration": 0.226855,
     "end_time": "2022-04-22T08:27:51.977939",
     "exception": false,
     "start_time": "2022-04-22T08:27:51.751084",
     "status": "completed"
    },
    "tags": []
   },
   "outputs": [
    {
     "data": {
      "text/plain": [
       "<AxesSubplot:xlabel='Label', ylabel='count'>"
      ]
     },
     "execution_count": 7,
     "metadata": {},
     "output_type": "execute_result"
    },
    {
     "data": {
      "image/png": "[encoded data removed]",
      "text/plain": [
       "<Figure size 432x288 with 1 Axes>"
      ]
     },
     "metadata": {
      "needs_background": "light"
     },
     "output_type": "display_data"
    }
   ],
   "source": [
    "sns.countplot(df['Label'])"
   ]
  },
  {
   "cell_type": "code",
   "execution_count": 8,
   "id": "fc57d01f",
   "metadata": {
    "execution": {
     "iopub.execute_input": "2022-04-22T08:27:52.049121Z",
     "iopub.status.busy": "2022-04-22T08:27:52.048538Z",
     "iopub.status.idle": "2022-04-22T08:27:52.054830Z",
     "shell.execute_reply": "2022-04-22T08:27:52.054178Z"
    },
    "papermill": {
     "duration": 0.038771,
     "end_time": "2022-04-22T08:27:52.056676",
     "exception": false,
     "start_time": "2022-04-22T08:27:52.017905",
     "status": "completed"
    },
    "tags": []
   },
   "outputs": [
    {
     "data": {
      "text/plain": [
       "(1    6410\n",
       " 2    5709\n",
       " 0    3609\n",
       " Name: Label, dtype: int64,\n",
       " 15728)"
      ]
     },
     "execution_count": 8,
     "metadata": {},
     "output_type": "execute_result"
    }
   ],
   "source": [
    "df.Label.value_counts(), len(df)"
   ]
  },
  {
   "cell_type": "code",
   "execution_count": 9,
   "id": "78f71b33",
   "metadata": {
    "execution": {
     "iopub.execute_input": "2022-04-22T08:27:52.117812Z",
     "iopub.status.busy": "2022-04-22T08:27:52.117602Z",
     "iopub.status.idle": "2022-04-22T08:27:52.121176Z",
     "shell.execute_reply": "2022-04-22T08:27:52.120400Z"
    },
    "papermill": {
     "duration": 0.037274,
     "end_time": "2022-04-22T08:27:52.122947",
     "exception": false,
     "start_time": "2022-04-22T08:27:52.085673",
     "status": "completed"
    },
    "tags": []
   },
   "outputs": [],
   "source": [
    "maxlen = 200\n",
    "max_features = 10000\n",
    "batch_size = 32"
   ]
  },
  {
   "cell_type": "code",
   "execution_count": 10,
   "id": "fe6bd4c6",
   "metadata": {
    "execution": {
     "iopub.execute_input": "2022-04-22T08:27:52.187584Z",
     "iopub.status.busy": "2022-04-22T08:27:52.187349Z",
     "iopub.status.idle": "2022-04-22T08:27:52.192705Z",
     "shell.execute_reply": "2022-04-22T08:27:52.192003Z"
    },
    "papermill": {
     "duration": 0.039312,
     "end_time": "2022-04-22T08:27:52.194483",
     "exception": false,
     "start_time": "2022-04-22T08:27:52.155171",
     "status": "completed"
    },
    "tags": []
   },
   "outputs": [],
   "source": [
    "df['Token_ID']=df['Token_ID'].astype('str')"
   ]
  },
  {
   "cell_type": "code",
   "execution_count": 11,
   "id": "ff8e8b8f",
   "metadata": {
    "execution": {
     "iopub.execute_input": "2022-04-22T08:27:52.259239Z",
     "iopub.status.busy": "2022-04-22T08:27:52.258646Z",
     "iopub.status.idle": "2022-04-22T08:27:52.420109Z",
     "shell.execute_reply": "2022-04-22T08:27:52.419420Z"
    },
    "papermill": {
     "duration": 0.196567,
     "end_time": "2022-04-22T08:27:52.422449",
     "exception": false,
     "start_time": "2022-04-22T08:27:52.225882",
     "status": "completed"
    },
    "tags": []
   },
   "outputs": [],
   "source": [
    "from sklearn.model_selection import train_test_split\n",
    "x_train, x_test, y_train, y_test = train_test_split(df['Token_ID'],df['Label'] , test_size=0.1,random_state=2)\n",
    "x_train, x_validation, y_train, y_validation = train_test_split(x_train,y_train,test_size=0.1,random_state=42)"
   ]
  },
  {
   "cell_type": "code",
   "execution_count": 12,
   "id": "a620e9e0",
   "metadata": {
    "execution": {
     "iopub.execute_input": "2022-04-22T08:27:52.483246Z",
     "iopub.status.busy": "2022-04-22T08:27:52.482981Z",
     "iopub.status.idle": "2022-04-22T08:27:52.486481Z",
     "shell.execute_reply": "2022-04-22T08:27:52.485767Z"
    },
    "papermill": {
     "duration": 0.036231,
     "end_time": "2022-04-22T08:27:52.488277",
     "exception": false,
     "start_time": "2022-04-22T08:27:52.452046",
     "status": "completed"
    },
    "tags": []
   },
   "outputs": [],
   "source": [
    "vocab_size=32000"
   ]
  },
  {
   "cell_type": "code",
   "execution_count": 13,
   "id": "ae5b7bcb",
   "metadata": {
    "execution": {
     "iopub.execute_input": "2022-04-22T08:27:52.548599Z",
     "iopub.status.busy": "2022-04-22T08:27:52.548348Z",
     "iopub.status.idle": "2022-04-22T08:27:53.353348Z",
     "shell.execute_reply": "2022-04-22T08:27:53.352576Z"
    },
    "papermill": {
     "duration": 0.838193,
     "end_time": "2022-04-22T08:27:53.355631",
     "exception": false,
     "start_time": "2022-04-22T08:27:52.517438",
     "status": "completed"
    },
    "tags": []
   },
   "outputs": [],
   "source": [
    "tokenizer  = Tokenizer(num_words = max_features,oov_token = \"<OOV>\")\n",
    "tokenizer.fit_on_texts(df['Token_ID'])\n",
    "\n",
    "train_seq =  tokenizer.texts_to_sequences(x_train)\n",
    "val_seq =  tokenizer.texts_to_sequences(x_validation)\n",
    "test_seq = tokenizer.texts_to_sequences(x_test)"
   ]
  },
  {
   "cell_type": "code",
   "execution_count": 14,
   "id": "9b650edf",
   "metadata": {
    "execution": {
     "iopub.execute_input": "2022-04-22T08:27:53.420338Z",
     "iopub.status.busy": "2022-04-22T08:27:53.419804Z",
     "iopub.status.idle": "2022-04-22T08:27:53.497655Z",
     "shell.execute_reply": "2022-04-22T08:27:53.496896Z"
    },
    "papermill": {
     "duration": 0.111875,
     "end_time": "2022-04-22T08:27:53.499699",
     "exception": false,
     "start_time": "2022-04-22T08:27:53.387824",
     "status": "completed"
    },
    "tags": []
   },
   "outputs": [],
   "source": [
    "x_train = pad_sequences(train_seq, maxlen=maxlen, dtype='int32', padding='post',truncating='post') #maxlen = maxlen, padding='post')\n",
    "x_validation = pad_sequences(val_seq, maxlen=maxlen, dtype='int32', padding='post',truncating='post') #maxlen = maxlen, padding='post')\n",
    "x_test = pad_sequences(test_seq, maxlen=maxlen, dtype='int32', padding='post',truncating='post') #maxlen = maxlen, padding='post')"
   ]
  },
  {
   "cell_type": "code",
   "execution_count": 15,
   "id": "a11674d9",
   "metadata": {
    "execution": {
     "iopub.execute_input": "2022-04-22T08:27:53.561129Z",
     "iopub.status.busy": "2022-04-22T08:27:53.560447Z",
     "iopub.status.idle": "2022-04-22T08:27:57.009051Z",
     "shell.execute_reply": "2022-04-22T08:27:57.008267Z"
    },
    "papermill": {
     "duration": 3.483014,
     "end_time": "2022-04-22T08:27:57.012168",
     "exception": false,
     "start_time": "2022-04-22T08:27:53.529154",
     "status": "completed"
    },
    "tags": []
   },
   "outputs": [
    {
     "name": "stderr",
     "output_type": "stream",
     "text": [
      "2022-04-22 08:27:53.646484: I tensorflow/stream_executor/cuda/cuda_gpu_executor.cc:937] successful NUMA node read from SysFS had negative value (-1), but there must be at least one NUMA node, so returning NUMA node zero\n",
      "2022-04-22 08:27:53.766261: I tensorflow/stream_executor/cuda/cuda_gpu_executor.cc:937] successful NUMA node read from SysFS had negative value (-1), but there must be at least one NUMA node, so returning NUMA node zero\n",
      "2022-04-22 08:27:53.767056: I tensorflow/stream_executor/cuda/cuda_gpu_executor.cc:937] successful NUMA node read from SysFS had negative value (-1), but there must be at least one NUMA node, so returning NUMA node zero\n",
      "2022-04-22 08:27:53.768683: I tensorflow/core/platform/cpu_feature_guard.cc:142] This TensorFlow binary is optimized with oneAPI Deep Neural Network Library (oneDNN) to use the following CPU instructions in performance-critical operations:  AVX2 AVX512F FMA\n",
      "To enable them in other operations, rebuild TensorFlow with the appropriate compiler flags.\n",
      "2022-04-22 08:27:53.769056: I tensorflow/stream_executor/cuda/cuda_gpu_executor.cc:937] successful NUMA node read from SysFS had negative value (-1), but there must be at least one NUMA node, so returning NUMA node zero\n",
      "2022-04-22 08:27:53.770001: I tensorflow/stream_executor/cuda/cuda_gpu_executor.cc:937] successful NUMA node read from SysFS had negative value (-1), but there must be at least one NUMA node, so returning NUMA node zero\n",
      "2022-04-22 08:27:53.770726: I tensorflow/stream_executor/cuda/cuda_gpu_executor.cc:937] successful NUMA node read from SysFS had negative value (-1), but there must be at least one NUMA node, so returning NUMA node zero\n",
      "2022-04-22 08:27:55.565095: I tensorflow/stream_executor/cuda/cuda_gpu_executor.cc:937] successful NUMA node read from SysFS had negative value (-1), but there must be at least one NUMA node, so returning NUMA node zero\n",
      "2022-04-22 08:27:55.566004: I tensorflow/stream_executor/cuda/cuda_gpu_executor.cc:937] successful NUMA node read from SysFS had negative value (-1), but there must be at least one NUMA node, so returning NUMA node zero\n",
      "2022-04-22 08:27:55.566691: I tensorflow/stream_executor/cuda/cuda_gpu_executor.cc:937] successful NUMA node read from SysFS had negative value (-1), but there must be at least one NUMA node, so returning NUMA node zero\n",
      "2022-04-22 08:27:55.568068: I tensorflow/core/common_runtime/gpu/gpu_device.cc:1510] Created device /job:localhost/replica:0/task:0/device:GPU:0 with 15403 MB memory:  -> device: 0, name: Tesla P100-PCIE-16GB, pci bus id: 0000:00:04.0, compute capability: 6.0\n"
     ]
    },
    {
     "name": "stdout",
     "output_type": "stream",
     "text": [
      "Model: \"sequential\"\n",
      "_________________________________________________________________\n",
      "Layer (type)                 Output Shape              Param #   \n",
      "=================================================================\n",
      "Embedding (Embedding)        (None, 200, 40)           1280000   \n",
      "_________________________________________________________________\n",
      "conv1d (Conv1D)              (None, 198, 200)          24200     \n",
      "_________________________________________________________________\n",
      "bidirectional (Bidirectional (None, 198, 256)          336896    \n",
      "_________________________________________________________________\n",
      "dropout (Dropout)            (None, 198, 256)          0         \n",
      "_________________________________________________________________\n",
      "bidirectional_1 (Bidirection (None, 128)               164352    \n",
      "_________________________________________________________________\n",
      "dropout_1 (Dropout)          (None, 128)               0         \n",
      "_________________________________________________________________\n",
      "dense (Dense)                (None, 50)                6450      \n",
      "_________________________________________________________________\n",
      "dropout_2 (Dropout)          (None, 50)                0         \n",
      "_________________________________________________________________\n",
      "dense_1 (Dense)              (None, 25)                1275      \n",
      "_________________________________________________________________\n",
      "dropout_3 (Dropout)          (None, 25)                0         \n",
      "_________________________________________________________________\n",
      "dense_2 (Dense)              (None, 12)                312       \n",
      "_________________________________________________________________\n",
      "flatten (Flatten)            (None, 12)                0         \n",
      "_________________________________________________________________\n",
      "dense_3 (Dense)              (None, 3)                 39        \n",
      "=================================================================\n",
      "Total params: 1,813,524\n",
      "Trainable params: 1,813,524\n",
      "Non-trainable params: 0\n",
      "_________________________________________________________________\n"
     ]
    }
   ],
   "source": [
    "model= Sequential()\n",
    "model.add(Embedding(vocab_size,40,input_length=maxlen,name='Embedding'))\n",
    "model.add(Conv1D(200, kernel_size=3, activation = \"relu\"))\n",
    "model.add(Bidirectional(LSTM(128, return_sequences=True)))\n",
    "model.add(Dropout(0.25))\n",
    "model.add(Bidirectional(LSTM(64)))\n",
    "model.add(Dropout(0.1))\n",
    "model.add(Dense(50, activation='relu'))\n",
    "model.add(Dropout(0.2))\n",
    "model.add(Dense(25, activation='relu'))\n",
    "model.add(Dropout(0.1))\n",
    "model.add(Dense(12, activation='relu'))\n",
    "model.add(Flatten())\n",
    "model.add(Dense(units=3, activation='softmax'))\n",
    "adam=Adam(learning_rate=0.003)\n",
    "model.summary()\n",
    "model.compile(loss='sparse_categorical_crossentropy',optimizer='adam',metrics=['accuracy'])"
   ]
  },
  {
   "cell_type": "code",
   "execution_count": 16,
   "id": "217cdcc4",
   "metadata": {
    "execution": {
     "iopub.execute_input": "2022-04-22T08:27:57.076745Z",
     "iopub.status.busy": "2022-04-22T08:27:57.076487Z",
     "iopub.status.idle": "2022-04-22T08:27:57.080279Z",
     "shell.execute_reply": "2022-04-22T08:27:57.079567Z"
    },
    "papermill": {
     "duration": 0.037329,
     "end_time": "2022-04-22T08:27:57.081929",
     "exception": false,
     "start_time": "2022-04-22T08:27:57.044600",
     "status": "completed"
    },
    "tags": []
   },
   "outputs": [],
   "source": [
    "early_stopping = keras.callbacks.EarlyStopping(\n",
    "    patience=15,\n",
    "    min_delta=0.001,\n",
    "    restore_best_weights=True,\n",
    ")"
   ]
  },
  {
   "cell_type": "code",
   "execution_count": 17,
   "id": "21005547",
   "metadata": {
    "execution": {
     "iopub.execute_input": "2022-04-22T08:27:57.145056Z",
     "iopub.status.busy": "2022-04-22T08:27:57.144847Z",
     "iopub.status.idle": "2022-04-22T08:32:48.061605Z",
     "shell.execute_reply": "2022-04-22T08:32:48.060813Z"
    },
    "papermill": {
     "duration": 290.951065,
     "end_time": "2022-04-22T08:32:48.063616",
     "exception": false,
     "start_time": "2022-04-22T08:27:57.112551",
     "status": "completed"
    },
    "tags": []
   },
   "outputs": [
    {
     "name": "stderr",
     "output_type": "stream",
     "text": [
      "2022-04-22 08:27:57.201778: I tensorflow/compiler/mlir/mlir_graph_optimization_pass.cc:185] None of the MLIR Optimization Passes are enabled (registered 2)\n"
     ]
    },
    {
     "name": "stdout",
     "output_type": "stream",
     "text": [
      "Epoch 1/30\n"
     ]
    },
    {
     "name": "stderr",
     "output_type": "stream",
     "text": [
      "2022-04-22 08:28:02.634100: I tensorflow/stream_executor/cuda/cuda_dnn.cc:369] Loaded cuDNN version 8005\n"
     ]
    },
    {
     "name": "stdout",
     "output_type": "stream",
     "text": [
      "399/399 [==============================] - 29s 44ms/step - loss: 0.9424 - accuracy: 0.5275 - val_loss: 0.7972 - val_accuracy: 0.6469\n",
      "Epoch 2/30\n",
      "399/399 [==============================] - 16s 41ms/step - loss: 0.6677 - accuracy: 0.7282 - val_loss: 0.7617 - val_accuracy: 0.6730\n",
      "Epoch 3/30\n",
      "399/399 [==============================] - 16s 41ms/step - loss: 0.5005 - accuracy: 0.8136 - val_loss: 0.7748 - val_accuracy: 0.6879\n",
      "Epoch 4/30\n",
      "399/399 [==============================] - 16s 41ms/step - loss: 0.3686 - accuracy: 0.8716 - val_loss: 0.9190 - val_accuracy: 0.6723\n",
      "Epoch 5/30\n",
      "399/399 [==============================] - 16s 41ms/step - loss: 0.2804 - accuracy: 0.9070 - val_loss: 0.9545 - val_accuracy: 0.6829\n",
      "Epoch 6/30\n",
      "399/399 [==============================] - 16s 41ms/step - loss: 0.2021 - accuracy: 0.9329 - val_loss: 1.0937 - val_accuracy: 0.6900\n",
      "Epoch 7/30\n",
      "399/399 [==============================] - 16s 41ms/step - loss: 0.1611 - accuracy: 0.9479 - val_loss: 1.0949 - val_accuracy: 0.6773\n",
      "Epoch 8/30\n",
      "399/399 [==============================] - 16s 41ms/step - loss: 0.1241 - accuracy: 0.9575 - val_loss: 1.3089 - val_accuracy: 0.6864\n",
      "Epoch 9/30\n",
      "399/399 [==============================] - 16s 41ms/step - loss: 0.1030 - accuracy: 0.9629 - val_loss: 1.5883 - val_accuracy: 0.6780\n",
      "Epoch 10/30\n",
      "399/399 [==============================] - 16s 41ms/step - loss: 0.0817 - accuracy: 0.9706 - val_loss: 2.0392 - val_accuracy: 0.6900\n",
      "Epoch 11/30\n",
      "399/399 [==============================] - 16s 41ms/step - loss: 0.0771 - accuracy: 0.9698 - val_loss: 1.8774 - val_accuracy: 0.6822\n",
      "Epoch 12/30\n",
      "399/399 [==============================] - 17s 42ms/step - loss: 0.0665 - accuracy: 0.9729 - val_loss: 1.8885 - val_accuracy: 0.6836\n",
      "Epoch 13/30\n",
      "399/399 [==============================] - 16s 41ms/step - loss: 0.0609 - accuracy: 0.9749 - val_loss: 2.0655 - val_accuracy: 0.6857\n",
      "Epoch 14/30\n",
      "399/399 [==============================] - 17s 42ms/step - loss: 0.0464 - accuracy: 0.9797 - val_loss: 2.4768 - val_accuracy: 0.6935\n",
      "Epoch 15/30\n",
      "399/399 [==============================] - 16s 41ms/step - loss: 0.0475 - accuracy: 0.9814 - val_loss: 2.1802 - val_accuracy: 0.6787\n",
      "Epoch 16/30\n",
      "399/399 [==============================] - 17s 42ms/step - loss: 0.0476 - accuracy: 0.9794 - val_loss: 2.4774 - val_accuracy: 0.6554\n",
      "Epoch 17/30\n",
      "399/399 [==============================] - 16s 41ms/step - loss: 0.0454 - accuracy: 0.9787 - val_loss: 2.4119 - val_accuracy: 0.6935\n"
     ]
    }
   ],
   "source": [
    "history = model.fit(x_train, y_train, batch_size=batch_size, epochs=30, callbacks=[early_stopping],verbose=1, validation_data=(x_validation, y_validation))"
   ]
  },
  {
   "cell_type": "code",
   "execution_count": 18,
   "id": "6ae82434",
   "metadata": {
    "execution": {
     "iopub.execute_input": "2022-04-22T08:32:50.313558Z",
     "iopub.status.busy": "2022-04-22T08:32:50.313270Z",
     "iopub.status.idle": "2022-04-22T08:32:51.138191Z",
     "shell.execute_reply": "2022-04-22T08:32:51.137411Z"
    },
    "papermill": {
     "duration": 1.920331,
     "end_time": "2022-04-22T08:32:51.140180",
     "exception": false,
     "start_time": "2022-04-22T08:32:49.219849",
     "status": "completed"
    },
    "tags": []
   },
   "outputs": [
    {
     "data": {
      "image/png": "[encoded data removed]",
      "text/plain": [
       "<IPython.core.display.Image object>"
      ]
     },
     "execution_count": 18,
     "metadata": {},
     "output_type": "execute_result"
    }
   ],
   "source": [
    "tf.keras.utils.plot_model(model, to_file='model.png', show_shapes=False,show_layer_names=True, rankdir='TB', expand_nested=False, dpi=96)"
   ]
  },
  {
   "cell_type": "code",
   "execution_count": 19,
   "id": "5629734a",
   "metadata": {
    "execution": {
     "iopub.execute_input": "2022-04-22T08:32:53.889105Z",
     "iopub.status.busy": "2022-04-22T08:32:53.888776Z",
     "iopub.status.idle": "2022-04-22T08:32:54.825921Z",
     "shell.execute_reply": "2022-04-22T08:32:54.825172Z"
    },
    "papermill": {
     "duration": 2.56493,
     "end_time": "2022-04-22T08:32:54.827820",
     "exception": false,
     "start_time": "2022-04-22T08:32:52.262890",
     "status": "completed"
    },
    "tags": []
   },
   "outputs": [
    {
     "name": "stdout",
     "output_type": "stream",
     "text": [
      "50/50 [==============================] - 1s 17ms/step - loss: 0.7550 - accuracy: 0.6815\n"
     ]
    },
    {
     "data": {
      "text/plain": [
       "[0.7549605965614319, 0.6815003156661987]"
      ]
     },
     "execution_count": 19,
     "metadata": {},
     "output_type": "execute_result"
    }
   ],
   "source": [
    "model.evaluate(x_test, y_test)"
   ]
  },
  {
   "cell_type": "code",
   "execution_count": 20,
   "id": "e5d63999",
   "metadata": {
    "execution": {
     "iopub.execute_input": "2022-04-22T08:32:57.016443Z",
     "iopub.status.busy": "2022-04-22T08:32:57.016157Z",
     "iopub.status.idle": "2022-04-22T08:32:57.283176Z",
     "shell.execute_reply": "2022-04-22T08:32:57.282400Z"
    },
    "papermill": {
     "duration": 1.36344,
     "end_time": "2022-04-22T08:32:57.285009",
     "exception": false,
     "start_time": "2022-04-22T08:32:55.921569",
     "status": "completed"
    },
    "tags": []
   },
   "outputs": [
    {
     "data": {
      "image/png": "[encoded data removed]",
      "text/plain": [
       "<Figure size 432x288 with 1 Axes>"
      ]
     },
     "metadata": {
      "needs_background": "light"
     },
     "output_type": "display_data"
    }
   ],
   "source": [
    "import matplotlib.pyplot as plt\n",
    "\n",
    "plt.plot(history.history['accuracy'], label=\"Accuracy\")\n",
    "plt.plot(history.history['val_accuracy'], label=\"Validation accuracy\")\n",
    "plt.title('Accuracy')\n",
    "plt.xlabel('Epoch')\n",
    "plt.ylabel('Accuracy')\n",
    "plt.legend()\n",
    "plt.tight_layout()\n",
    "plt.show()"
   ]
  },
  {
   "cell_type": "code",
   "execution_count": 21,
   "id": "0987022c",
   "metadata": {
    "execution": {
     "iopub.execute_input": "2022-04-22T08:32:59.554375Z",
     "iopub.status.busy": "2022-04-22T08:32:59.554117Z",
     "iopub.status.idle": "2022-04-22T08:32:59.792066Z",
     "shell.execute_reply": "2022-04-22T08:32:59.791364Z"
    },
    "papermill": {
     "duration": 1.374649,
     "end_time": "2022-04-22T08:32:59.793835",
     "exception": false,
     "start_time": "2022-04-22T08:32:58.419186",
     "status": "completed"
    },
    "tags": []
   },
   "outputs": [
    {
     "data": {
      "image/png": "[encoded data removed]",
      "text/plain": [
       "<Figure size 432x288 with 1 Axes>"
      ]
     },
     "metadata": {
      "needs_background": "light"
     },
     "output_type": "display_data"
    }
   ],
   "source": [
    "import matplotlib.pyplot as plt\n",
    "\n",
    "plt.plot(history.history['loss'], label=\"Train loss\")\n",
    "plt.plot(history.history['val_loss'], label=\"Validation loss\")\n",
    "plt.title('Loss')\n",
    "plt.xlabel('Epoch')\n",
    "plt.ylabel('Loss')\n",
    "plt.legend()\n",
    "plt.tight_layout()\n",
    "plt.show()"
   ]
  },
  {
   "cell_type": "code",
   "execution_count": 22,
   "id": "b6a2481d",
   "metadata": {
    "execution": {
     "iopub.execute_input": "2022-04-22T08:33:02.143633Z",
     "iopub.status.busy": "2022-04-22T08:33:02.143353Z",
     "iopub.status.idle": "2022-04-22T08:33:04.008100Z",
     "shell.execute_reply": "2022-04-22T08:33:04.006773Z"
    },
    "papermill": {
     "duration": 3.097448,
     "end_time": "2022-04-22T08:33:04.011312",
     "exception": false,
     "start_time": "2022-04-22T08:33:00.913864",
     "status": "completed"
    },
    "tags": []
   },
   "outputs": [],
   "source": [
    "from sklearn.metrics import classification_report\n",
    "\n",
    "y_pred = model.predict(x_test)\n",
    "y_pred = np.argmax(y_pred,axis=1)"
   ]
  },
  {
   "cell_type": "code",
   "execution_count": 23,
   "id": "64ccfeb3",
   "metadata": {
    "execution": {
     "iopub.execute_input": "2022-04-22T08:33:06.740193Z",
     "iopub.status.busy": "2022-04-22T08:33:06.739897Z",
     "iopub.status.idle": "2022-04-22T08:33:06.744950Z",
     "shell.execute_reply": "2022-04-22T08:33:06.744188Z"
    },
    "papermill": {
     "duration": 1.221687,
     "end_time": "2022-04-22T08:33:06.748141",
     "exception": false,
     "start_time": "2022-04-22T08:33:05.526454",
     "status": "completed"
    },
    "tags": []
   },
   "outputs": [
    {
     "name": "stdout",
     "output_type": "stream",
     "text": [
      "(1573,)\n",
      "(1573,)\n"
     ]
    }
   ],
   "source": [
    "print(y_test.shape)\n",
    "print(y_pred.shape)"
   ]
  },
  {
   "cell_type": "code",
   "execution_count": 24,
   "id": "86c18101",
   "metadata": {
    "execution": {
     "iopub.execute_input": "2022-04-22T08:33:09.007257Z",
     "iopub.status.busy": "2022-04-22T08:33:09.006975Z",
     "iopub.status.idle": "2022-04-22T08:33:09.011043Z",
     "shell.execute_reply": "2022-04-22T08:33:09.010266Z"
    },
    "papermill": {
     "duration": 1.132131,
     "end_time": "2022-04-22T08:33:09.012889",
     "exception": false,
     "start_time": "2022-04-22T08:33:07.880758",
     "status": "completed"
    },
    "tags": []
   },
   "outputs": [],
   "source": [
    "y_pred = y_pred.reshape(-1,1)\n"
   ]
  },
  {
   "cell_type": "code",
   "execution_count": 25,
   "id": "537740d1",
   "metadata": {
    "execution": {
     "iopub.execute_input": "2022-04-22T08:33:11.293847Z",
     "iopub.status.busy": "2022-04-22T08:33:11.293554Z",
     "iopub.status.idle": "2022-04-22T08:33:11.306810Z",
     "shell.execute_reply": "2022-04-22T08:33:11.305779Z"
    },
    "papermill": {
     "duration": 1.161985,
     "end_time": "2022-04-22T08:33:11.309648",
     "exception": false,
     "start_time": "2022-04-22T08:33:10.147663",
     "status": "completed"
    },
    "tags": []
   },
   "outputs": [
    {
     "name": "stdout",
     "output_type": "stream",
     "text": [
      "              precision    recall  f1-score   support\n",
      "\n",
      "     neutral       0.51      0.41      0.46       358\n",
      "    positive       0.75      0.74      0.74       643\n",
      "    negative       0.69      0.78      0.74       572\n",
      "\n",
      "    accuracy                           0.68      1573\n",
      "   macro avg       0.65      0.65      0.65      1573\n",
      "weighted avg       0.67      0.68      0.68      1573\n",
      "\n"
     ]
    }
   ],
   "source": [
    "categories = ['neutral','positive','negative']\n",
    "print(classification_report(y_test, y_pred, target_names=categories))"
   ]
  },
  {
   "cell_type": "code",
   "execution_count": 26,
   "id": "dc9cc3ee",
   "metadata": {
    "execution": {
     "iopub.execute_input": "2022-04-22T08:33:13.600779Z",
     "iopub.status.busy": "2022-04-22T08:33:13.600469Z",
     "iopub.status.idle": "2022-04-22T08:33:13.974241Z",
     "shell.execute_reply": "2022-04-22T08:33:13.973507Z"
    },
    "papermill": {
     "duration": 1.493351,
     "end_time": "2022-04-22T08:33:13.976236",
     "exception": false,
     "start_time": "2022-04-22T08:33:12.482885",
     "status": "completed"
    },
    "tags": []
   },
   "outputs": [
    {
     "data": {
      "image/png": "[encoded data removed]",
      "text/plain": [
       "<Figure size 1152x1008 with 2 Axes>"
      ]
     },
     "metadata": {
      "needs_background": "light"
     },
     "output_type": "display_data"
    }
   ],
   "source": [
    "import seaborn as sns\n",
    "import matplotlib.pyplot as plt\n",
    "\n",
    "### Confusion Matrix\n",
    "from sklearn.metrics import confusion_matrix\n",
    "#predictions = model.predict(x_test, steps=len(x_test), verbose=0)\n",
    "#y_pred=model.predict(x_test)\n",
    "#y_pred = np.round(y_pred)\n",
    "\n",
    "\n",
    "cm = confusion_matrix(y_test, y_pred)\n",
    "\n",
    "## Get Class Labels\n",
    "labels = 3\n",
    "#[0,1,2,3,4,5]_\n",
    "class_names = categories \n",
    "\n",
    "# Plot confusion matrix in a beautiful manner\n",
    "fig = plt.figure(figsize=(16, 14))\n",
    "ax= plt.subplot()\n",
    "sns.heatmap(cm, annot=True, ax = ax, fmt = 'g'); #annot=True to annotate cells\n",
    "# labels, title and ticks\n",
    "ax.set_xlabel('Predicted', fontsize=20)\n",
    "ax.xaxis.set_label_position('bottom')\n",
    "plt.xticks(rotation=90)\n",
    "ax.xaxis.set_ticklabels(class_names, fontsize = 10)\n",
    "ax.xaxis.tick_bottom()\n",
    "\n",
    "ax.set_ylabel('True', fontsize=20)\n",
    "ax.yaxis.set_ticklabels(class_names, fontsize = 10)\n",
    "plt.yticks(rotation=0)\n",
    "\n",
    "plt.title('Refined Confusion Matrix', fontsize=20)\n",
    "\n",
    "plt.savefig('ConMat24.png')\n",
    "plt.show()"
   ]
  }
 ],
 "metadata": {
  "kernelspec": {
   "display_name": "Python 3",
   "language": "python",
   "name": "python3"
  },
  "language_info": {
   "codemirror_mode": {
    "name": "ipython",
    "version": 3
   },
   "file_extension": ".py",
   "mimetype": "text/x-python",
   "name": "python",
   "nbconvert_exporter": "python",
   "pygments_lexer": "ipython3",
   "version": "3.7.12"
  },
  "papermill": {
   "default_parameters": {},
   "duration": 355.964622,
   "end_time": "2022-04-22T08:33:18.144868",
   "environment_variables": {},
   "exception": null,
   "input_path": "__notebook__.ipynb",
   "output_path": "__notebook__.ipynb",
   "parameters": {},
   "start_time": "2022-04-22T08:27:22.180246",
   "version": "2.3.4"
  }
 },
 "nbformat": 4,
 "nbformat_minor": 5
}
