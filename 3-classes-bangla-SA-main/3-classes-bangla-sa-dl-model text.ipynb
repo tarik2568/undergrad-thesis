{
 "cells": [
  {
   "cell_type": "code",
   "execution_count": 1,
   "id": "d3c3d794",
   "metadata": {
    "execution": {
     "iopub.execute_input": "2022-04-22T08:35:42.817666Z",
     "iopub.status.busy": "2022-04-22T08:35:42.817080Z",
     "iopub.status.idle": "2022-04-22T08:35:47.228734Z",
     "shell.execute_reply": "2022-04-22T08:35:47.228026Z"
    },
    "papermill": {
     "duration": 4.438768,
     "end_time": "2022-04-22T08:35:47.231017",
     "exception": false,
     "start_time": "2022-04-22T08:35:42.792249",
     "status": "completed"
    },
    "tags": []
   },
   "outputs": [],
   "source": [
    "import numpy as np\n",
    "import keras\n",
    "import pandas as pd \n",
    "from keras.models import Sequential\n",
    "from keras.layers import Dense, Dropout, Embedding, LSTM,Bidirectional\n",
    "import re\n",
    "import tensorflow as tf\n",
    "from keras.preprocessing.text import Tokenizer"
   ]
  },
  {
   "cell_type": "code",
   "execution_count": 2,
   "id": "07c9958c",
   "metadata": {
    "execution": {
     "iopub.execute_input": "2022-04-22T08:35:47.276680Z",
     "iopub.status.busy": "2022-04-22T08:35:47.276182Z",
     "iopub.status.idle": "2022-04-22T08:35:48.114339Z",
     "shell.execute_reply": "2022-04-22T08:35:48.113633Z"
    },
    "papermill": {
     "duration": 0.862876,
     "end_time": "2022-04-22T08:35:48.116376",
     "exception": false,
     "start_time": "2022-04-22T08:35:47.253500",
     "status": "completed"
    },
    "tags": []
   },
   "outputs": [],
   "source": [
    "from keras.preprocessing.sequence import pad_sequences\n",
    "from keras.layers import Activation, Conv2D, Input, Embedding, Reshape, MaxPool1D, Concatenate, Flatten, Dropout, Dense, Conv1D\n",
    "from keras.models import Model\n",
    "from keras.callbacks import ModelCheckpoint\n",
    "from tensorflow.keras.optimizers import Adam,SGD\n",
    "import warnings\n",
    "warnings.filterwarnings('ignore')\n",
    "import seaborn as sns"
   ]
  },
  {
   "cell_type": "code",
   "execution_count": 3,
   "id": "aa48576a",
   "metadata": {
    "execution": {
     "iopub.execute_input": "2022-04-22T08:35:48.161750Z",
     "iopub.status.busy": "2022-04-22T08:35:48.161164Z",
     "iopub.status.idle": "2022-04-22T08:35:48.169546Z",
     "shell.execute_reply": "2022-04-22T08:35:48.168866Z"
    },
    "papermill": {
     "duration": 0.032967,
     "end_time": "2022-04-22T08:35:48.171508",
     "exception": false,
     "start_time": "2022-04-22T08:35:48.138541",
     "status": "completed"
    },
    "tags": []
   },
   "outputs": [
    {
     "name": "stdout",
     "output_type": "stream",
     "text": [
      "/kaggle/input/3-classes-bangla-sa/3_classes_Bert_Preprocessed__Dataset.xlsx\n"
     ]
    }
   ],
   "source": [
    "import os\n",
    "for dirname, _, filenames in os.walk('/kaggle/input'):\n",
    "    for filename in filenames:\n",
    "        print(os.path.join(dirname, filename))"
   ]
  },
  {
   "cell_type": "code",
   "execution_count": 4,
   "id": "a4c9dfb1",
   "metadata": {
    "execution": {
     "iopub.execute_input": "2022-04-22T08:35:48.218498Z",
     "iopub.status.busy": "2022-04-22T08:35:48.218301Z",
     "iopub.status.idle": "2022-04-22T08:36:00.756080Z",
     "shell.execute_reply": "2022-04-22T08:36:00.755034Z"
    },
    "papermill": {
     "duration": 12.562655,
     "end_time": "2022-04-22T08:36:00.757961",
     "exception": false,
     "start_time": "2022-04-22T08:35:48.195306",
     "status": "completed"
    },
    "tags": []
   },
   "outputs": [
    {
     "name": "stdout",
     "output_type": "stream",
     "text": [
      "Collecting openpyxl\r\n",
      "  Downloading openpyxl-3.0.9-py2.py3-none-any.whl (242 kB)\r\n",
      "\u001b[2K     \u001b[90m━━━━━━━━━━━━━━━━━━━━━━━━━━━━━━━━━━━━━\u001b[0m \u001b[32m242.2/242.2 KB\u001b[0m \u001b[31m526.8 kB/s\u001b[0m eta \u001b[36m0:00:00\u001b[0m\r\n",
      "\u001b[?25hCollecting et-xmlfile\r\n",
      "  Downloading et_xmlfile-1.1.0-py3-none-any.whl (4.7 kB)\r\n",
      "Installing collected packages: et-xmlfile, openpyxl\r\n",
      "Successfully installed et-xmlfile-1.1.0 openpyxl-3.0.9\r\n",
      "\u001b[33mWARNING: Running pip as the 'root' user can result in broken permissions and conflicting behaviour with the system package manager. It is recommended to use a virtual environment instead: https://pip.pypa.io/warnings/venv\u001b[0m\u001b[33m\r\n",
      "\u001b[0mNote: you may need to restart the kernel to use updated packages.\n"
     ]
    }
   ],
   "source": [
    "pip install openpyxl"
   ]
  },
  {
   "cell_type": "code",
   "execution_count": 5,
   "id": "972d46bf",
   "metadata": {
    "execution": {
     "iopub.execute_input": "2022-04-22T08:36:00.816240Z",
     "iopub.status.busy": "2022-04-22T08:36:00.815542Z",
     "iopub.status.idle": "2022-04-22T08:36:03.583691Z",
     "shell.execute_reply": "2022-04-22T08:36:03.581616Z"
    },
    "papermill": {
     "duration": 2.801029,
     "end_time": "2022-04-22T08:36:03.586428",
     "exception": false,
     "start_time": "2022-04-22T08:36:00.785399",
     "status": "completed"
    },
    "tags": []
   },
   "outputs": [
    {
     "name": "stdout",
     "output_type": "stream",
     "text": [
      "<class 'pandas.core.frame.DataFrame'>\n",
      "RangeIndex: 15728 entries, 0 to 15727\n",
      "Data columns (total 5 columns):\n",
      " #   Column      Non-Null Count  Dtype \n",
      "---  ------      --------------  ----- \n",
      " 0   Unnamed: 0  15728 non-null  int64 \n",
      " 1   Data        15728 non-null  object\n",
      " 2   Label       15728 non-null  int64 \n",
      " 3   Token       15728 non-null  object\n",
      " 4   Token_ID    15728 non-null  object\n",
      "dtypes: int64(2), object(3)\n",
      "memory usage: 614.5+ KB\n"
     ]
    }
   ],
   "source": [
    "df=pd.read_excel('/kaggle/input/3-classes-bangla-sa/3_classes_Bert_Preprocessed__Dataset.xlsx')\n",
    "df.info()"
   ]
  },
  {
   "cell_type": "code",
   "execution_count": 6,
   "id": "ee1e459c",
   "metadata": {
    "execution": {
     "iopub.execute_input": "2022-04-22T08:36:03.652075Z",
     "iopub.status.busy": "2022-04-22T08:36:03.651394Z",
     "iopub.status.idle": "2022-04-22T08:36:03.666575Z",
     "shell.execute_reply": "2022-04-22T08:36:03.665872Z"
    },
    "papermill": {
     "duration": 0.047927,
     "end_time": "2022-04-22T08:36:03.668377",
     "exception": false,
     "start_time": "2022-04-22T08:36:03.620450",
     "status": "completed"
    },
    "tags": []
   },
   "outputs": [
    {
     "data": {
      "text/html": [
       "<div>\n",
       "<style scoped>\n",
       "    .dataframe tbody tr th:only-of-type {\n",
       "        vertical-align: middle;\n",
       "    }\n",
       "\n",
       "    .dataframe tbody tr th {\n",
       "        vertical-align: top;\n",
       "    }\n",
       "\n",
       "    .dataframe thead th {\n",
       "        text-align: right;\n",
       "    }\n",
       "</style>\n",
       "<table border=\"1\" class=\"dataframe\">\n",
       "  <thead>\n",
       "    <tr style=\"text-align: right;\">\n",
       "      <th></th>\n",
       "      <th>Unnamed: 0</th>\n",
       "      <th>Data</th>\n",
       "      <th>Label</th>\n",
       "      <th>Token</th>\n",
       "      <th>Token_ID</th>\n",
       "    </tr>\n",
       "  </thead>\n",
       "  <tbody>\n",
       "    <tr>\n",
       "      <th>0</th>\n",
       "      <td>4032</td>\n",
       "      <td>এক মাস সেহেরি খাইয়া রোজা রাহা সোজা</td>\n",
       "      <td>1</td>\n",
       "      <td>['এক', 'মাস', 'সে', '##হের', '##ি', '[UNK]', '...</td>\n",
       "      <td>[788, 1293, 809, 2685, 416, 1, 12209, 3462, 41...</td>\n",
       "    </tr>\n",
       "    <tr>\n",
       "      <th>1</th>\n",
       "      <td>3587</td>\n",
       "      <td>ভাই আমাদের মাতৃভুমিটা এত সুনদর</td>\n",
       "      <td>1</td>\n",
       "      <td>['ভাই', 'আমাদের', 'মাতৃ', '##ভু', '##মিট', '##...</td>\n",
       "      <td>[1352, 1029, 6563, 12357, 12290, 415, 1284, 36...</td>\n",
       "    </tr>\n",
       "    <tr>\n",
       "      <th>2</th>\n",
       "      <td>8968</td>\n",
       "      <td>জানুয়ারীতে কেন  ঐ সময় স্পেশাল কি</td>\n",
       "      <td>1</td>\n",
       "      <td>['[UNK]', 'কেন', 'ঐ', '[UNK]', 'স্পেশাল', 'কি']</td>\n",
       "      <td>[1, 1107, 218, 1, 10225, 817]</td>\n",
       "    </tr>\n",
       "    <tr>\n",
       "      <th>3</th>\n",
       "      <td>95</td>\n",
       "      <td>তোরা কখন কাচা রসুন চাবিয়ে খেয়ে দেখেচিস</td>\n",
       "      <td>2</td>\n",
       "      <td>['তোরা', 'কখন', 'কাচা', 'রসুন', '[UNK]', '[UNK...</td>\n",
       "      <td>[5712, 1394, 30306, 18173, 1, 1, 1172, 2408, 417]</td>\n",
       "    </tr>\n",
       "    <tr>\n",
       "      <th>4</th>\n",
       "      <td>1163</td>\n",
       "      <td>হ্যাঁ হ্যাঁ হ্যাঁ হ্যাঁ জীবন টা বেদনা</td>\n",
       "      <td>2</td>\n",
       "      <td>['হ্যাঁ', 'হ্যাঁ', 'হ্যাঁ', 'হ্যাঁ', 'জীবন', '...</td>\n",
       "      <td>[2154, 2154, 2154, 2154, 1537, 1632, 10018]</td>\n",
       "    </tr>\n",
       "  </tbody>\n",
       "</table>\n",
       "</div>"
      ],
      "text/plain": [
       "   Unnamed: 0                                     Data  Label  \\\n",
       "0        4032       এক মাস সেহেরি খাইয়া রোজা রাহা সোজা      1   \n",
       "1        3587           ভাই আমাদের মাতৃভুমিটা এত সুনদর      1   \n",
       "2        8968         জানুয়ারীতে কেন  ঐ সময় স্পেশাল কি      1   \n",
       "3          95  তোরা কখন কাচা রসুন চাবিয়ে খেয়ে দেখেচিস       2   \n",
       "4        1163   হ্যাঁ হ্যাঁ হ্যাঁ হ্যাঁ জীবন টা বেদনা       2   \n",
       "\n",
       "                                               Token  \\\n",
       "0  ['এক', 'মাস', 'সে', '##হের', '##ি', '[UNK]', '...   \n",
       "1  ['ভাই', 'আমাদের', 'মাতৃ', '##ভু', '##মিট', '##...   \n",
       "2    ['[UNK]', 'কেন', 'ঐ', '[UNK]', 'স্পেশাল', 'কি']   \n",
       "3  ['তোরা', 'কখন', 'কাচা', 'রসুন', '[UNK]', '[UNK...   \n",
       "4  ['হ্যাঁ', 'হ্যাঁ', 'হ্যাঁ', 'হ্যাঁ', 'জীবন', '...   \n",
       "\n",
       "                                            Token_ID  \n",
       "0  [788, 1293, 809, 2685, 416, 1, 12209, 3462, 41...  \n",
       "1  [1352, 1029, 6563, 12357, 12290, 415, 1284, 36...  \n",
       "2                      [1, 1107, 218, 1, 10225, 817]  \n",
       "3  [5712, 1394, 30306, 18173, 1, 1, 1172, 2408, 417]  \n",
       "4        [2154, 2154, 2154, 2154, 1537, 1632, 10018]  "
      ]
     },
     "execution_count": 6,
     "metadata": {},
     "output_type": "execute_result"
    }
   ],
   "source": [
    "df.head()"
   ]
  },
  {
   "cell_type": "code",
   "execution_count": 7,
   "id": "0595a080",
   "metadata": {
    "execution": {
     "iopub.execute_input": "2022-04-22T08:36:03.729196Z",
     "iopub.status.busy": "2022-04-22T08:36:03.728582Z",
     "iopub.status.idle": "2022-04-22T08:36:03.932094Z",
     "shell.execute_reply": "2022-04-22T08:36:03.931413Z"
    },
    "papermill": {
     "duration": 0.235661,
     "end_time": "2022-04-22T08:36:03.933898",
     "exception": false,
     "start_time": "2022-04-22T08:36:03.698237",
     "status": "completed"
    },
    "tags": []
   },
   "outputs": [
    {
     "data": {
      "text/plain": [
       "<AxesSubplot:xlabel='Label', ylabel='count'>"
      ]
     },
     "execution_count": 7,
     "metadata": {},
     "output_type": "execute_result"
    },
    {
     "data": {
      "image/png": "[encoded data removed]",
      "text/plain": [
       "<Figure size 432x288 with 1 Axes>"
      ]
     },
     "metadata": {
      "needs_background": "light"
     },
     "output_type": "display_data"
    }
   ],
   "source": [
    "sns.countplot(df['Label'])"
   ]
  },
  {
   "cell_type": "code",
   "execution_count": 8,
   "id": "ece9a2d3",
   "metadata": {
    "execution": {
     "iopub.execute_input": "2022-04-22T08:36:03.993110Z",
     "iopub.status.busy": "2022-04-22T08:36:03.992687Z",
     "iopub.status.idle": "2022-04-22T08:36:03.998850Z",
     "shell.execute_reply": "2022-04-22T08:36:03.998202Z"
    },
    "papermill": {
     "duration": 0.037247,
     "end_time": "2022-04-22T08:36:04.000485",
     "exception": false,
     "start_time": "2022-04-22T08:36:03.963238",
     "status": "completed"
    },
    "tags": []
   },
   "outputs": [
    {
     "data": {
      "text/plain": [
       "(1    6410\n",
       " 2    5709\n",
       " 0    3609\n",
       " Name: Label, dtype: int64,\n",
       " 15728)"
      ]
     },
     "execution_count": 8,
     "metadata": {},
     "output_type": "execute_result"
    }
   ],
   "source": [
    "df.Label.value_counts(), len(df)"
   ]
  },
  {
   "cell_type": "code",
   "execution_count": 9,
   "id": "a25b36ea",
   "metadata": {
    "execution": {
     "iopub.execute_input": "2022-04-22T08:36:04.068629Z",
     "iopub.status.busy": "2022-04-22T08:36:04.068414Z",
     "iopub.status.idle": "2022-04-22T08:36:04.071750Z",
     "shell.execute_reply": "2022-04-22T08:36:04.071114Z"
    },
    "papermill": {
     "duration": 0.043986,
     "end_time": "2022-04-22T08:36:04.073454",
     "exception": false,
     "start_time": "2022-04-22T08:36:04.029468",
     "status": "completed"
    },
    "tags": []
   },
   "outputs": [],
   "source": [
    "maxlen = 200\n",
    "max_features = 10000\n",
    "batch_size = 32"
   ]
  },
  {
   "cell_type": "code",
   "execution_count": 10,
   "id": "1177cdd9",
   "metadata": {
    "execution": {
     "iopub.execute_input": "2022-04-22T08:36:04.133292Z",
     "iopub.status.busy": "2022-04-22T08:36:04.132666Z",
     "iopub.status.idle": "2022-04-22T08:36:04.138414Z",
     "shell.execute_reply": "2022-04-22T08:36:04.137817Z"
    },
    "papermill": {
     "duration": 0.037427,
     "end_time": "2022-04-22T08:36:04.140087",
     "exception": false,
     "start_time": "2022-04-22T08:36:04.102660",
     "status": "completed"
    },
    "tags": []
   },
   "outputs": [],
   "source": [
    "df['Data']=df['Data'].astype('str')"
   ]
  },
  {
   "cell_type": "code",
   "execution_count": 11,
   "id": "8044a83d",
   "metadata": {
    "execution": {
     "iopub.execute_input": "2022-04-22T08:36:04.199171Z",
     "iopub.status.busy": "2022-04-22T08:36:04.198978Z",
     "iopub.status.idle": "2022-04-22T08:36:04.349902Z",
     "shell.execute_reply": "2022-04-22T08:36:04.349213Z"
    },
    "papermill": {
     "duration": 0.182588,
     "end_time": "2022-04-22T08:36:04.351769",
     "exception": false,
     "start_time": "2022-04-22T08:36:04.169181",
     "status": "completed"
    },
    "tags": []
   },
   "outputs": [],
   "source": [
    "from sklearn.model_selection import train_test_split\n",
    "x_train, x_test, y_train, y_test = train_test_split(df['Data'],df['Label'] , test_size=0.1,random_state=2)\n",
    "x_train, x_validation, y_train, y_validation = train_test_split(x_train,y_train,test_size=0.1,random_state=42)"
   ]
  },
  {
   "cell_type": "code",
   "execution_count": 12,
   "id": "9bfd4b76",
   "metadata": {
    "execution": {
     "iopub.execute_input": "2022-04-22T08:36:04.412400Z",
     "iopub.status.busy": "2022-04-22T08:36:04.412188Z",
     "iopub.status.idle": "2022-04-22T08:36:04.415429Z",
     "shell.execute_reply": "2022-04-22T08:36:04.414766Z"
    },
    "papermill": {
     "duration": 0.035323,
     "end_time": "2022-04-22T08:36:04.417182",
     "exception": false,
     "start_time": "2022-04-22T08:36:04.381859",
     "status": "completed"
    },
    "tags": []
   },
   "outputs": [],
   "source": [
    "vocab_size=32000"
   ]
  },
  {
   "cell_type": "code",
   "execution_count": 13,
   "id": "99c8548d",
   "metadata": {
    "execution": {
     "iopub.execute_input": "2022-04-22T08:36:04.477320Z",
     "iopub.status.busy": "2022-04-22T08:36:04.476704Z",
     "iopub.status.idle": "2022-04-22T08:36:05.388007Z",
     "shell.execute_reply": "2022-04-22T08:36:05.387263Z"
    },
    "papermill": {
     "duration": 0.943644,
     "end_time": "2022-04-22T08:36:05.390457",
     "exception": false,
     "start_time": "2022-04-22T08:36:04.446813",
     "status": "completed"
    },
    "tags": []
   },
   "outputs": [],
   "source": [
    "tokenizer  = Tokenizer(num_words = max_features,oov_token = \"<OOV>\")\n",
    "tokenizer.fit_on_texts(df['Data'])\n",
    "\n",
    "train_seq =  tokenizer.texts_to_sequences(x_train)\n",
    "val_seq =  tokenizer.texts_to_sequences(x_validation)\n",
    "test_seq = tokenizer.texts_to_sequences(x_test)"
   ]
  },
  {
   "cell_type": "code",
   "execution_count": 14,
   "id": "3a473806",
   "metadata": {
    "execution": {
     "iopub.execute_input": "2022-04-22T08:36:05.450177Z",
     "iopub.status.busy": "2022-04-22T08:36:05.449945Z",
     "iopub.status.idle": "2022-04-22T08:36:05.523948Z",
     "shell.execute_reply": "2022-04-22T08:36:05.523263Z"
    },
    "papermill": {
     "duration": 0.105702,
     "end_time": "2022-04-22T08:36:05.525752",
     "exception": false,
     "start_time": "2022-04-22T08:36:05.420050",
     "status": "completed"
    },
    "tags": []
   },
   "outputs": [],
   "source": [
    "x_train = pad_sequences(train_seq, maxlen=maxlen, dtype='int32', padding='post',truncating='post') #maxlen = maxlen, padding='post')\n",
    "x_validation = pad_sequences(val_seq, maxlen=maxlen, dtype='int32', padding='post',truncating='post') #maxlen = maxlen, padding='post')\n",
    "x_test = pad_sequences(test_seq, maxlen=maxlen, dtype='int32', padding='post',truncating='post') #maxlen = maxlen, padding='post')"
   ]
  },
  {
   "cell_type": "code",
   "execution_count": 15,
   "id": "bbf15267",
   "metadata": {
    "execution": {
     "iopub.execute_input": "2022-04-22T08:36:05.586304Z",
     "iopub.status.busy": "2022-04-22T08:36:05.585811Z",
     "iopub.status.idle": "2022-04-22T08:36:09.131095Z",
     "shell.execute_reply": "2022-04-22T08:36:09.128567Z"
    },
    "papermill": {
     "duration": 3.576969,
     "end_time": "2022-04-22T08:36:09.133084",
     "exception": false,
     "start_time": "2022-04-22T08:36:05.556115",
     "status": "completed"
    },
    "tags": []
   },
   "outputs": [
    {
     "name": "stderr",
     "output_type": "stream",
     "text": [
      "2022-04-22 08:36:05.671989: I tensorflow/stream_executor/cuda/cuda_gpu_executor.cc:937] successful NUMA node read from SysFS had negative value (-1), but there must be at least one NUMA node, so returning NUMA node zero\n",
      "2022-04-22 08:36:05.781552: I tensorflow/stream_executor/cuda/cuda_gpu_executor.cc:937] successful NUMA node read from SysFS had negative value (-1), but there must be at least one NUMA node, so returning NUMA node zero\n",
      "2022-04-22 08:36:05.782370: I tensorflow/stream_executor/cuda/cuda_gpu_executor.cc:937] successful NUMA node read from SysFS had negative value (-1), but there must be at least one NUMA node, so returning NUMA node zero\n",
      "2022-04-22 08:36:05.783719: I tensorflow/core/platform/cpu_feature_guard.cc:142] This TensorFlow binary is optimized with oneAPI Deep Neural Network Library (oneDNN) to use the following CPU instructions in performance-critical operations:  AVX2 AVX512F FMA\n",
      "To enable them in other operations, rebuild TensorFlow with the appropriate compiler flags.\n",
      "2022-04-22 08:36:05.784121: I tensorflow/stream_executor/cuda/cuda_gpu_executor.cc:937] successful NUMA node read from SysFS had negative value (-1), but there must be at least one NUMA node, so returning NUMA node zero\n",
      "2022-04-22 08:36:05.784807: I tensorflow/stream_executor/cuda/cuda_gpu_executor.cc:937] successful NUMA node read from SysFS had negative value (-1), but there must be at least one NUMA node, so returning NUMA node zero\n",
      "2022-04-22 08:36:05.785479: I tensorflow/stream_executor/cuda/cuda_gpu_executor.cc:937] successful NUMA node read from SysFS had negative value (-1), but there must be at least one NUMA node, so returning NUMA node zero\n",
      "2022-04-22 08:36:07.582617: I tensorflow/stream_executor/cuda/cuda_gpu_executor.cc:937] successful NUMA node read from SysFS had negative value (-1), but there must be at least one NUMA node, so returning NUMA node zero\n",
      "2022-04-22 08:36:07.583525: I tensorflow/stream_executor/cuda/cuda_gpu_executor.cc:937] successful NUMA node read from SysFS had negative value (-1), but there must be at least one NUMA node, so returning NUMA node zero\n",
      "2022-04-22 08:36:07.584218: I tensorflow/stream_executor/cuda/cuda_gpu_executor.cc:937] successful NUMA node read from SysFS had negative value (-1), but there must be at least one NUMA node, so returning NUMA node zero\n",
      "2022-04-22 08:36:07.585586: I tensorflow/core/common_runtime/gpu/gpu_device.cc:1510] Created device /job:localhost/replica:0/task:0/device:GPU:0 with 15403 MB memory:  -> device: 0, name: Tesla P100-PCIE-16GB, pci bus id: 0000:00:04.0, compute capability: 6.0\n"
     ]
    },
    {
     "name": "stdout",
     "output_type": "stream",
     "text": [
      "Model: \"sequential\"\n",
      "_________________________________________________________________\n",
      "Layer (type)                 Output Shape              Param #   \n",
      "=================================================================\n",
      "Embedding (Embedding)        (None, 200, 40)           1280000   \n",
      "_________________________________________________________________\n",
      "conv1d (Conv1D)              (None, 198, 200)          24200     \n",
      "_________________________________________________________________\n",
      "bidirectional (Bidirectional (None, 198, 256)          336896    \n",
      "_________________________________________________________________\n",
      "dropout (Dropout)            (None, 198, 256)          0         \n",
      "_________________________________________________________________\n",
      "bidirectional_1 (Bidirection (None, 128)               164352    \n",
      "_________________________________________________________________\n",
      "dropout_1 (Dropout)          (None, 128)               0         \n",
      "_________________________________________________________________\n",
      "dense (Dense)                (None, 50)                6450      \n",
      "_________________________________________________________________\n",
      "dropout_2 (Dropout)          (None, 50)                0         \n",
      "_________________________________________________________________\n",
      "dense_1 (Dense)              (None, 25)                1275      \n",
      "_________________________________________________________________\n",
      "dropout_3 (Dropout)          (None, 25)                0         \n",
      "_________________________________________________________________\n",
      "dense_2 (Dense)              (None, 12)                312       \n",
      "_________________________________________________________________\n",
      "flatten (Flatten)            (None, 12)                0         \n",
      "_________________________________________________________________\n",
      "dense_3 (Dense)              (None, 3)                 39        \n",
      "=================================================================\n",
      "Total params: 1,813,524\n",
      "Trainable params: 1,813,524\n",
      "Non-trainable params: 0\n",
      "_________________________________________________________________\n"
     ]
    }
   ],
   "source": [
    "model= Sequential()\n",
    "model.add(Embedding(vocab_size,40,input_length=maxlen,name='Embedding'))\n",
    "model.add(Conv1D(200, kernel_size=3, activation = \"relu\"))\n",
    "model.add(Bidirectional(LSTM(128, return_sequences=True)))\n",
    "model.add(Dropout(0.25))\n",
    "model.add(Bidirectional(LSTM(64)))\n",
    "model.add(Dropout(0.1))\n",
    "model.add(Dense(50, activation='relu'))\n",
    "model.add(Dropout(0.2))\n",
    "model.add(Dense(25, activation='relu'))\n",
    "model.add(Dropout(0.1))\n",
    "model.add(Dense(12, activation='relu'))\n",
    "model.add(Flatten())\n",
    "model.add(Dense(units=3, activation='softmax'))\n",
    "adam=Adam(learning_rate=0.003)\n",
    "model.summary()\n",
    "model.compile(loss='sparse_categorical_crossentropy',optimizer='adam',metrics=['accuracy'])"
   ]
  },
  {
   "cell_type": "code",
   "execution_count": 16,
   "id": "c34a9495",
   "metadata": {
    "execution": {
     "iopub.execute_input": "2022-04-22T08:36:09.204279Z",
     "iopub.status.busy": "2022-04-22T08:36:09.204040Z",
     "iopub.status.idle": "2022-04-22T08:36:09.208381Z",
     "shell.execute_reply": "2022-04-22T08:36:09.207432Z"
    },
    "papermill": {
     "duration": 0.042486,
     "end_time": "2022-04-22T08:36:09.210536",
     "exception": false,
     "start_time": "2022-04-22T08:36:09.168050",
     "status": "completed"
    },
    "tags": []
   },
   "outputs": [],
   "source": [
    "early_stopping = keras.callbacks.EarlyStopping(\n",
    "    patience=15,\n",
    "    min_delta=0.001,\n",
    "    restore_best_weights=True,\n",
    ")"
   ]
  },
  {
   "cell_type": "code",
   "execution_count": 17,
   "id": "8e6bcc10",
   "metadata": {
    "execution": {
     "iopub.execute_input": "2022-04-22T08:36:09.280136Z",
     "iopub.status.busy": "2022-04-22T08:36:09.279918Z",
     "iopub.status.idle": "2022-04-22T08:40:57.219234Z",
     "shell.execute_reply": "2022-04-22T08:40:57.218457Z"
    },
    "papermill": {
     "duration": 287.976603,
     "end_time": "2022-04-22T08:40:57.221474",
     "exception": false,
     "start_time": "2022-04-22T08:36:09.244871",
     "status": "completed"
    },
    "tags": []
   },
   "outputs": [
    {
     "name": "stderr",
     "output_type": "stream",
     "text": [
      "2022-04-22 08:36:09.342026: I tensorflow/compiler/mlir/mlir_graph_optimization_pass.cc:185] None of the MLIR Optimization Passes are enabled (registered 2)\n"
     ]
    },
    {
     "name": "stdout",
     "output_type": "stream",
     "text": [
      "Epoch 1/30\n"
     ]
    },
    {
     "name": "stderr",
     "output_type": "stream",
     "text": [
      "2022-04-22 08:36:14.600933: I tensorflow/stream_executor/cuda/cuda_dnn.cc:369] Loaded cuDNN version 8005\n"
     ]
    },
    {
     "name": "stdout",
     "output_type": "stream",
     "text": [
      "399/399 [==============================] - 29s 44ms/step - loss: 1.0042 - accuracy: 0.4650 - val_loss: 0.8491 - val_accuracy: 0.6186\n",
      "Epoch 2/30\n",
      "399/399 [==============================] - 16s 41ms/step - loss: 0.7146 - accuracy: 0.7052 - val_loss: 0.7698 - val_accuracy: 0.6476\n",
      "Epoch 3/30\n",
      "399/399 [==============================] - 16s 41ms/step - loss: 0.5148 - accuracy: 0.8067 - val_loss: 0.8161 - val_accuracy: 0.6723\n",
      "Epoch 4/30\n",
      "399/399 [==============================] - 16s 41ms/step - loss: 0.3874 - accuracy: 0.8613 - val_loss: 0.8410 - val_accuracy: 0.6773\n",
      "Epoch 5/30\n",
      "399/399 [==============================] - 16s 41ms/step - loss: 0.2881 - accuracy: 0.8993 - val_loss: 1.0817 - val_accuracy: 0.6660\n",
      "Epoch 6/30\n",
      "399/399 [==============================] - 16s 41ms/step - loss: 0.2189 - accuracy: 0.9264 - val_loss: 1.0242 - val_accuracy: 0.6794\n",
      "Epoch 7/30\n",
      "399/399 [==============================] - 16s 41ms/step - loss: 0.1690 - accuracy: 0.9435 - val_loss: 1.2217 - val_accuracy: 0.6751\n",
      "Epoch 8/30\n",
      "399/399 [==============================] - 16s 40ms/step - loss: 0.1334 - accuracy: 0.9542 - val_loss: 1.5880 - val_accuracy: 0.6723\n",
      "Epoch 9/30\n",
      "399/399 [==============================] - 16s 41ms/step - loss: 0.1112 - accuracy: 0.9608 - val_loss: 1.6611 - val_accuracy: 0.6773\n",
      "Epoch 10/30\n",
      "399/399 [==============================] - 16s 41ms/step - loss: 0.0928 - accuracy: 0.9671 - val_loss: 1.6939 - val_accuracy: 0.6716\n",
      "Epoch 11/30\n",
      "399/399 [==============================] - 16s 41ms/step - loss: 0.0779 - accuracy: 0.9708 - val_loss: 2.0268 - val_accuracy: 0.6716\n",
      "Epoch 12/30\n",
      "399/399 [==============================] - 16s 40ms/step - loss: 0.0766 - accuracy: 0.9701 - val_loss: 2.0055 - val_accuracy: 0.6751\n",
      "Epoch 13/30\n",
      "399/399 [==============================] - 16s 41ms/step - loss: 0.0621 - accuracy: 0.9736 - val_loss: 1.9715 - val_accuracy: 0.6603\n",
      "Epoch 14/30\n",
      "399/399 [==============================] - 16s 40ms/step - loss: 0.0573 - accuracy: 0.9762 - val_loss: 2.1105 - val_accuracy: 0.6603\n",
      "Epoch 15/30\n",
      "399/399 [==============================] - 16s 40ms/step - loss: 0.0513 - accuracy: 0.9758 - val_loss: 2.4187 - val_accuracy: 0.6688\n",
      "Epoch 16/30\n",
      "399/399 [==============================] - 16s 40ms/step - loss: 0.0489 - accuracy: 0.9791 - val_loss: 2.5008 - val_accuracy: 0.6624\n",
      "Epoch 17/30\n",
      "399/399 [==============================] - 16s 40ms/step - loss: 0.0532 - accuracy: 0.9773 - val_loss: 2.3553 - val_accuracy: 0.6787\n"
     ]
    }
   ],
   "source": [
    "history = model.fit(x_train, y_train, batch_size=batch_size, epochs=30, callbacks=[early_stopping],verbose=1, validation_data=(x_validation, y_validation))"
   ]
  },
  {
   "cell_type": "code",
   "execution_count": 18,
   "id": "dd27daec",
   "metadata": {
    "execution": {
     "iopub.execute_input": "2022-04-22T08:40:59.396722Z",
     "iopub.status.busy": "2022-04-22T08:40:59.396463Z",
     "iopub.status.idle": "2022-04-22T08:41:00.178467Z",
     "shell.execute_reply": "2022-04-22T08:41:00.177689Z"
    },
    "papermill": {
     "duration": 1.8455,
     "end_time": "2022-04-22T08:41:00.180426",
     "exception": false,
     "start_time": "2022-04-22T08:40:58.334926",
     "status": "completed"
    },
    "tags": []
   },
   "outputs": [
    {
     "data": {
      "image/png": "[encoded data removed]",
      "text/plain": [
       "<IPython.core.display.Image object>"
      ]
     },
     "execution_count": 18,
     "metadata": {},
     "output_type": "execute_result"
    }
   ],
   "source": [
    "tf.keras.utils.plot_model(model, to_file='model.png', show_shapes=False,show_layer_names=True, rankdir='TB', expand_nested=False, dpi=96)"
   ]
  },
  {
   "cell_type": "code",
   "execution_count": 19,
   "id": "28c7aa6e",
   "metadata": {
    "execution": {
     "iopub.execute_input": "2022-04-22T08:41:02.443661Z",
     "iopub.status.busy": "2022-04-22T08:41:02.442867Z",
     "iopub.status.idle": "2022-04-22T08:41:03.319637Z",
     "shell.execute_reply": "2022-04-22T08:41:03.318805Z"
    },
    "papermill": {
     "duration": 2.009378,
     "end_time": "2022-04-22T08:41:03.321438",
     "exception": false,
     "start_time": "2022-04-22T08:41:01.312060",
     "status": "completed"
    },
    "tags": []
   },
   "outputs": [
    {
     "name": "stdout",
     "output_type": "stream",
     "text": [
      "50/50 [==============================] - 1s 16ms/step - loss: 0.7634 - accuracy: 0.6662\n"
     ]
    },
    {
     "data": {
      "text/plain": [
       "[0.7634345889091492, 0.6662428379058838]"
      ]
     },
     "execution_count": 19,
     "metadata": {},
     "output_type": "execute_result"
    }
   ],
   "source": [
    "model.evaluate(x_test, y_test)"
   ]
  },
  {
   "cell_type": "code",
   "execution_count": 20,
   "id": "b5dfe398",
   "metadata": {
    "execution": {
     "iopub.execute_input": "2022-04-22T08:41:05.812556Z",
     "iopub.status.busy": "2022-04-22T08:41:05.812280Z",
     "iopub.status.idle": "2022-04-22T08:41:06.061772Z",
     "shell.execute_reply": "2022-04-22T08:41:06.061052Z"
    },
    "papermill": {
     "duration": 1.617338,
     "end_time": "2022-04-22T08:41:06.063634",
     "exception": false,
     "start_time": "2022-04-22T08:41:04.446296",
     "status": "completed"
    },
    "tags": []
   },
   "outputs": [
    {
     "data": {
      "image/png": "[encoded data removed]",
      "text/plain": [
       "<Figure size 432x288 with 1 Axes>"
      ]
     },
     "metadata": {
      "needs_background": "light"
     },
     "output_type": "display_data"
    }
   ],
   "source": [
    "import matplotlib.pyplot as plt\n",
    "\n",
    "plt.plot(history.history['accuracy'], label=\"Accuracy\")\n",
    "plt.plot(history.history['val_accuracy'], label=\"Validation accuracy\")\n",
    "plt.title('Accuracy')\n",
    "plt.xlabel('Epoch')\n",
    "plt.ylabel('Accuracy')\n",
    "plt.legend()\n",
    "plt.tight_layout()\n",
    "plt.show()"
   ]
  },
  {
   "cell_type": "code",
   "execution_count": 21,
   "id": "370c46a9",
   "metadata": {
    "execution": {
     "iopub.execute_input": "2022-04-22T08:41:08.298360Z",
     "iopub.status.busy": "2022-04-22T08:41:08.297776Z",
     "iopub.status.idle": "2022-04-22T08:41:08.520519Z",
     "shell.execute_reply": "2022-04-22T08:41:08.519864Z"
    },
    "papermill": {
     "duration": 1.316264,
     "end_time": "2022-04-22T08:41:08.522477",
     "exception": false,
     "start_time": "2022-04-22T08:41:07.206213",
     "status": "completed"
    },
    "tags": []
   },
   "outputs": [
    {
     "data": {
      "image/png": "[encoded data removed]",
      "text/plain": [
       "<Figure size 432x288 with 1 Axes>"
      ]
     },
     "metadata": {
      "needs_background": "light"
     },
     "output_type": "display_data"
    }
   ],
   "source": [
    "import matplotlib.pyplot as plt\n",
    "\n",
    "plt.plot(history.history['loss'], label=\"Train loss\")\n",
    "plt.plot(history.history['val_loss'], label=\"Validation loss\")\n",
    "plt.title('Loss')\n",
    "plt.xlabel('Epoch')\n",
    "plt.ylabel('Loss')\n",
    "plt.legend()\n",
    "plt.tight_layout()\n",
    "plt.show()"
   ]
  },
  {
   "cell_type": "code",
   "execution_count": 22,
   "id": "ea378e06",
   "metadata": {
    "execution": {
     "iopub.execute_input": "2022-04-22T08:41:10.784476Z",
     "iopub.status.busy": "2022-04-22T08:41:10.784199Z",
     "iopub.status.idle": "2022-04-22T08:41:13.092396Z",
     "shell.execute_reply": "2022-04-22T08:41:13.091605Z"
    },
    "papermill": {
     "duration": 3.439814,
     "end_time": "2022-04-22T08:41:13.094838",
     "exception": false,
     "start_time": "2022-04-22T08:41:09.655024",
     "status": "completed"
    },
    "tags": []
   },
   "outputs": [],
   "source": [
    "from sklearn.metrics import classification_report\n",
    "\n",
    "y_pred = model.predict(x_test)\n",
    "y_pred = np.argmax(y_pred,axis=1)"
   ]
  },
  {
   "cell_type": "code",
   "execution_count": 23,
   "id": "78027220",
   "metadata": {
    "execution": {
     "iopub.execute_input": "2022-04-22T08:41:15.327931Z",
     "iopub.status.busy": "2022-04-22T08:41:15.327559Z",
     "iopub.status.idle": "2022-04-22T08:41:15.332454Z",
     "shell.execute_reply": "2022-04-22T08:41:15.331639Z"
    },
    "papermill": {
     "duration": 1.130247,
     "end_time": "2022-04-22T08:41:15.336369",
     "exception": false,
     "start_time": "2022-04-22T08:41:14.206122",
     "status": "completed"
    },
    "tags": []
   },
   "outputs": [
    {
     "name": "stdout",
     "output_type": "stream",
     "text": [
      "(1573,)\n",
      "(1573,)\n"
     ]
    }
   ],
   "source": [
    "print(y_test.shape)\n",
    "print(y_pred.shape)"
   ]
  },
  {
   "cell_type": "code",
   "execution_count": 24,
   "id": "885c4088",
   "metadata": {
    "execution": {
     "iopub.execute_input": "2022-04-22T08:41:17.815458Z",
     "iopub.status.busy": "2022-04-22T08:41:17.815209Z",
     "iopub.status.idle": "2022-04-22T08:41:17.819046Z",
     "shell.execute_reply": "2022-04-22T08:41:17.818268Z"
    },
    "papermill": {
     "duration": 1.168975,
     "end_time": "2022-04-22T08:41:17.821090",
     "exception": false,
     "start_time": "2022-04-22T08:41:16.652115",
     "status": "completed"
    },
    "tags": []
   },
   "outputs": [],
   "source": [
    "y_pred = y_pred.reshape(-1,1)\n"
   ]
  },
  {
   "cell_type": "code",
   "execution_count": 25,
   "id": "855af562",
   "metadata": {
    "execution": {
     "iopub.execute_input": "2022-04-22T08:41:19.985786Z",
     "iopub.status.busy": "2022-04-22T08:41:19.985520Z",
     "iopub.status.idle": "2022-04-22T08:41:19.996781Z",
     "shell.execute_reply": "2022-04-22T08:41:19.996093Z"
    },
    "papermill": {
     "duration": 1.10986,
     "end_time": "2022-04-22T08:41:19.998756",
     "exception": false,
     "start_time": "2022-04-22T08:41:18.888896",
     "status": "completed"
    },
    "tags": []
   },
   "outputs": [
    {
     "name": "stdout",
     "output_type": "stream",
     "text": [
      "              precision    recall  f1-score   support\n",
      "\n",
      "     neutral       0.46      0.54      0.50       358\n",
      "    positive       0.77      0.66      0.71       643\n",
      "    negative       0.72      0.75      0.73       572\n",
      "\n",
      "    accuracy                           0.67      1573\n",
      "   macro avg       0.65      0.65      0.65      1573\n",
      "weighted avg       0.68      0.67      0.67      1573\n",
      "\n"
     ]
    }
   ],
   "source": [
    "categories = ['neutral','positive','negative']\n",
    "print(classification_report(y_test, y_pred, target_names=categories))"
   ]
  },
  {
   "cell_type": "code",
   "execution_count": 26,
   "id": "ab3aad07",
   "metadata": {
    "execution": {
     "iopub.execute_input": "2022-04-22T08:41:22.263896Z",
     "iopub.status.busy": "2022-04-22T08:41:22.263625Z",
     "iopub.status.idle": "2022-04-22T08:41:22.621650Z",
     "shell.execute_reply": "2022-04-22T08:41:22.620975Z"
    },
    "papermill": {
     "duration": 1.433536,
     "end_time": "2022-04-22T08:41:22.623447",
     "exception": false,
     "start_time": "2022-04-22T08:41:21.189911",
     "status": "completed"
    },
    "tags": []
   },
   "outputs": [
    {
     "data": {
      "image/png": "[encoded data removed]",
      "text/plain": [
       "<Figure size 1152x1008 with 2 Axes>"
      ]
     },
     "metadata": {
      "needs_background": "light"
     },
     "output_type": "display_data"
    }
   ],
   "source": [
    "import seaborn as sns\n",
    "import matplotlib.pyplot as plt\n",
    "\n",
    "### Confusion Matrix\n",
    "from sklearn.metrics import confusion_matrix\n",
    "#predictions = model.predict(x_test, steps=len(x_test), verbose=0)\n",
    "#y_pred=model.predict(x_test)\n",
    "#y_pred = np.round(y_pred)\n",
    "\n",
    "\n",
    "cm = confusion_matrix(y_test, y_pred)\n",
    "\n",
    "## Get Class Labels\n",
    "labels = 3\n",
    "#[0,1,2,3,4,5]_\n",
    "class_names = categories \n",
    "\n",
    "# Plot confusion matrix in a beautiful manner\n",
    "fig = plt.figure(figsize=(16, 14))\n",
    "ax= plt.subplot()\n",
    "sns.heatmap(cm, annot=True, ax = ax, fmt = 'g'); #annot=True to annotate cells\n",
    "# labels, title and ticks\n",
    "ax.set_xlabel('Predicted', fontsize=20)\n",
    "ax.xaxis.set_label_position('bottom')\n",
    "plt.xticks(rotation=90)\n",
    "ax.xaxis.set_ticklabels(class_names, fontsize = 10)\n",
    "ax.xaxis.tick_bottom()\n",
    "\n",
    "ax.set_ylabel('True', fontsize=20)\n",
    "ax.yaxis.set_ticklabels(class_names, fontsize = 10)\n",
    "plt.yticks(rotation=0)\n",
    "\n",
    "plt.title('Refined Confusion Matrix', fontsize=20)\n",
    "\n",
    "plt.savefig('ConMat24.png')\n",
    "plt.show()"
   ]
  }
 ],
 "metadata": {
  "kernelspec": {
   "display_name": "Python 3",
   "language": "python",
   "name": "python3"
  },
  "language_info": {
   "codemirror_mode": {
    "name": "ipython",
    "version": 3
   },
   "file_extension": ".py",
   "mimetype": "text/x-python",
   "name": "python",
   "nbconvert_exporter": "python",
   "pygments_lexer": "ipython3",
   "version": "3.7.12"
  },
  "papermill": {
   "default_parameters": {},
   "duration": 351.861763,
   "end_time": "2022-04-22T08:41:26.700145",
   "environment_variables": {},
   "exception": null,
   "input_path": "__notebook__.ipynb",
   "output_path": "__notebook__.ipynb",
   "parameters": {},
   "start_time": "2022-04-22T08:35:34.838382",
   "version": "2.3.4"
  }
 },
 "nbformat": 4,
 "nbformat_minor": 5
}
