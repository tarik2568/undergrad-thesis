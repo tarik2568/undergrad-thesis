{
  "nbformat": 4,
  "nbformat_minor": 0,
  "metadata": {
    "colab": {
      "name": "Deep_Learning_Models_91_accuracy.ipynb",
      "provenance": [],
      "collapsed_sections": []
    },
    "kernelspec": {
      "name": "python3",
      "display_name": "Python 3"
    },
    "language_info": {
      "name": "python"
    },
    "accelerator": "GPU"
  },
  "cells": [
    {
      "cell_type": "code",
      "execution_count": 1,
      "metadata": {
        "id": "cA9gfvHXF9Pf"
      },
      "outputs": [],
      "source": [
        "import numpy as np\n",
        "import keras\n",
        "import pandas as pd \n",
        "from keras.models import Sequential\n",
        "from keras.layers import Dense, Dropout, Embedding, LSTM,Bidirectional\n",
        "import re\n",
        "import tensorflow as tf\n",
        "from keras.preprocessing.text import Tokenizer"
      ]
    },
    {
      "cell_type": "code",
      "source": [
        "from keras.preprocessing.sequence import pad_sequences\n",
        "from keras.layers import Activation, Conv2D, Input, Embedding, Reshape, MaxPool1D, Concatenate, Flatten, Dropout, Dense, Conv1D\n",
        "from keras.models import Model\n",
        "from keras.callbacks import ModelCheckpoint\n",
        "from tensorflow.keras.optimizers import Adam,SGD\n",
        "import warnings\n",
        "warnings.filterwarnings('ignore')\n",
        "import seaborn as sns"
      ],
      "metadata": {
        "id": "Jpe5cLafG9mO"
      },
      "execution_count": 2,
      "outputs": []
    },
    {
      "cell_type": "code",
      "source": [
        "from google.colab import drive\n",
        "drive.mount('/content/drive')"
      ],
      "metadata": {
        "colab": {
          "base_uri": "https://localhost:8080/"
        },
        "id": "gDQrCbO5lMz8",
        "outputId": "d2c18eee-dffd-461c-c670-640276dd4091"
      },
      "execution_count": 3,
      "outputs": [
        {
          "output_type": "stream",
          "name": "stdout",
          "text": [
            "Drive already mounted at /content/drive; to attempt to forcibly remount, call drive.mount(\"/content/drive\", force_remount=True).\n"
          ]
        }
      ]
    },
    {
      "cell_type": "code",
      "source": [
        "df=pd.read_excel('/content/drive/MyDrive/Thesis/Datasets/Bert_Preprocessed_Dataset.xlsx')\n",
        "df.info()"
      ],
      "metadata": {
        "colab": {
          "base_uri": "https://localhost:8080/"
        },
        "id": "bYJPUMdaG-Em",
        "outputId": "5b9c008a-88b4-4f74-f86f-826a6cdc7390"
      },
      "execution_count": 4,
      "outputs": [
        {
          "output_type": "stream",
          "name": "stdout",
          "text": [
            "<class 'pandas.core.frame.DataFrame'>\n",
            "RangeIndex: 6405 entries, 0 to 6404\n",
            "Data columns (total 7 columns):\n",
            " #   Column      Non-Null Count  Dtype \n",
            "---  ------      --------------  ----- \n",
            " 0   Unnamed: 0  6405 non-null   int64 \n",
            " 1   ID          6404 non-null   object\n",
            " 2   Text        6404 non-null   object\n",
            " 3   Sentiment   6405 non-null   object\n",
            " 4   Label       6405 non-null   int64 \n",
            " 5   Token       6405 non-null   object\n",
            " 6   Token_ID    6405 non-null   object\n",
            "dtypes: int64(2), object(5)\n",
            "memory usage: 350.4+ KB\n"
          ]
        }
      ]
    },
    {
      "cell_type": "code",
      "source": [
        "df.head()"
      ],
      "metadata": {
        "colab": {
          "base_uri": "https://localhost:8080/",
          "height": 337
        },
        "id": "2a942aV3HsFL",
        "outputId": "dceff54c-c1a1-4729-ad7a-8681c80b8869"
      },
      "execution_count": 5,
      "outputs": [
        {
          "output_type": "execute_result",
          "data": {
            "text/plain": [
              "   Unnamed: 0                                ID  \\\n",
              "0         479   939195189512152_939206382844366   \n",
              "1        1750   935156429916028_935165096581828   \n",
              "2        1855  987743164678331_1529633654011820   \n",
              "3        1382   935324716565866_935576566540681   \n",
              "4        3388   987743164678331_552808888211836   \n",
              "\n",
              "                                                Text Sentiment  Label  \\\n",
              "0  উনারে লাথথায়ে মিরপুর চিড়িয়াখানার প্রধান সিকিউর...     angry      0   \n",
              "1                কই এখন আপনি লেকচার থেমে গেল কেন ভাই     angry      0   \n",
              "2                                       সুন্দর জোক্স     happy      3   \n",
              "3  বেশির ভাগ ক্ষেত্রে যাত্রী গন কম ভুল করে আর বেশ...       sad      4   \n",
              "4  বাংলাদেশের হিন্দু মুসলিম সবাই ভাই ভাই যে অন্যন...       sad      4   \n",
              "\n",
              "                                               Token  \\\n",
              "0  ['উনার', '##ে', 'লা', '##থ', '##থা', '##যে', '...   \n",
              "1  ['কই', 'এখন', 'আপনি', 'লেকচার', 'থেমে', 'গেল',...   \n",
              "2                ['সনদ', '##র', 'জে', '##াক', '##স']   \n",
              "3  ['বেশির', 'ভাগ', 'কষে', '##তর', '##ে', 'যা', '...   \n",
              "4  ['বাংলাদেশের', 'হিন', '##দ', 'মস', '##লিম', 'স...   \n",
              "\n",
              "                                            Token_ID  \n",
              "0  [36081, 2094, 3853, 7740, 12969, 8844, 15638, ...  \n",
              "1  [6852, 2112, 2536, 22174, 3214, 2590, 2304, 2570]  \n",
              "2                    [5391, 2046, 4803, 15547, 2388]  \n",
              "3  [3217, 2516, 19675, 12499, 2094, 2120, 42396, ...  \n",
              "4  [2119, 50082, 5718, 23143, 33783, 2553, 2570, ...  "
            ],
            "text/html": [
              "\n",
              "  <div id=\"df-142b0d75-ac7d-40b0-a2f5-fa2f8fbd60bd\">\n",
              "    <div class=\"colab-df-container\">\n",
              "      <div>\n",
              "<style scoped>\n",
              "    .dataframe tbody tr th:only-of-type {\n",
              "        vertical-align: middle;\n",
              "    }\n",
              "\n",
              "    .dataframe tbody tr th {\n",
              "        vertical-align: top;\n",
              "    }\n",
              "\n",
              "    .dataframe thead th {\n",
              "        text-align: right;\n",
              "    }\n",
              "</style>\n",
              "<table border=\"1\" class=\"dataframe\">\n",
              "  <thead>\n",
              "    <tr style=\"text-align: right;\">\n",
              "      <th></th>\n",
              "      <th>Unnamed: 0</th>\n",
              "      <th>ID</th>\n",
              "      <th>Text</th>\n",
              "      <th>Sentiment</th>\n",
              "      <th>Label</th>\n",
              "      <th>Token</th>\n",
              "      <th>Token_ID</th>\n",
              "    </tr>\n",
              "  </thead>\n",
              "  <tbody>\n",
              "    <tr>\n",
              "      <th>0</th>\n",
              "      <td>479</td>\n",
              "      <td>939195189512152_939206382844366</td>\n",
              "      <td>উনারে লাথথায়ে মিরপুর চিড়িয়াখানার প্রধান সিকিউর...</td>\n",
              "      <td>angry</td>\n",
              "      <td>0</td>\n",
              "      <td>['উনার', '##ে', 'লা', '##থ', '##থা', '##যে', '...</td>\n",
              "      <td>[36081, 2094, 3853, 7740, 12969, 8844, 15638, ...</td>\n",
              "    </tr>\n",
              "    <tr>\n",
              "      <th>1</th>\n",
              "      <td>1750</td>\n",
              "      <td>935156429916028_935165096581828</td>\n",
              "      <td>কই এখন আপনি লেকচার থেমে গেল কেন ভাই</td>\n",
              "      <td>angry</td>\n",
              "      <td>0</td>\n",
              "      <td>['কই', 'এখন', 'আপনি', 'লেকচার', 'থেমে', 'গেল',...</td>\n",
              "      <td>[6852, 2112, 2536, 22174, 3214, 2590, 2304, 2570]</td>\n",
              "    </tr>\n",
              "    <tr>\n",
              "      <th>2</th>\n",
              "      <td>1855</td>\n",
              "      <td>987743164678331_1529633654011820</td>\n",
              "      <td>সুন্দর জোক্স</td>\n",
              "      <td>happy</td>\n",
              "      <td>3</td>\n",
              "      <td>['সনদ', '##র', 'জে', '##াক', '##স']</td>\n",
              "      <td>[5391, 2046, 4803, 15547, 2388]</td>\n",
              "    </tr>\n",
              "    <tr>\n",
              "      <th>3</th>\n",
              "      <td>1382</td>\n",
              "      <td>935324716565866_935576566540681</td>\n",
              "      <td>বেশির ভাগ ক্ষেত্রে যাত্রী গন কম ভুল করে আর বেশ...</td>\n",
              "      <td>sad</td>\n",
              "      <td>4</td>\n",
              "      <td>['বেশির', 'ভাগ', 'কষে', '##তর', '##ে', 'যা', '...</td>\n",
              "      <td>[3217, 2516, 19675, 12499, 2094, 2120, 42396, ...</td>\n",
              "    </tr>\n",
              "    <tr>\n",
              "      <th>4</th>\n",
              "      <td>3388</td>\n",
              "      <td>987743164678331_552808888211836</td>\n",
              "      <td>বাংলাদেশের হিন্দু মুসলিম সবাই ভাই ভাই যে অন্যন...</td>\n",
              "      <td>sad</td>\n",
              "      <td>4</td>\n",
              "      <td>['বাংলাদেশের', 'হিন', '##দ', 'মস', '##লিম', 'স...</td>\n",
              "      <td>[2119, 50082, 5718, 23143, 33783, 2553, 2570, ...</td>\n",
              "    </tr>\n",
              "  </tbody>\n",
              "</table>\n",
              "</div>\n",
              "      <button class=\"colab-df-convert\" onclick=\"convertToInteractive('df-142b0d75-ac7d-40b0-a2f5-fa2f8fbd60bd')\"\n",
              "              title=\"Convert this dataframe to an interactive table.\"\n",
              "              style=\"display:none;\">\n",
              "        \n",
              "  <svg xmlns=\"http://www.w3.org/2000/svg\" height=\"24px\"viewBox=\"0 0 24 24\"\n",
              "       width=\"24px\">\n",
              "    <path d=\"M0 0h24v24H0V0z\" fill=\"none\"/>\n",
              "    <path d=\"M18.56 5.44l.94 2.06.94-2.06 2.06-.94-2.06-.94-.94-2.06-.94 2.06-2.06.94zm-11 1L8.5 8.5l.94-2.06 2.06-.94-2.06-.94L8.5 2.5l-.94 2.06-2.06.94zm10 10l.94 2.06.94-2.06 2.06-.94-2.06-.94-.94-2.06-.94 2.06-2.06.94z\"/><path d=\"M17.41 7.96l-1.37-1.37c-.4-.4-.92-.59-1.43-.59-.52 0-1.04.2-1.43.59L10.3 9.45l-7.72 7.72c-.78.78-.78 2.05 0 2.83L4 21.41c.39.39.9.59 1.41.59.51 0 1.02-.2 1.41-.59l7.78-7.78 2.81-2.81c.8-.78.8-2.07 0-2.86zM5.41 20L4 18.59l7.72-7.72 1.47 1.35L5.41 20z\"/>\n",
              "  </svg>\n",
              "      </button>\n",
              "      \n",
              "  <style>\n",
              "    .colab-df-container {\n",
              "      display:flex;\n",
              "      flex-wrap:wrap;\n",
              "      gap: 12px;\n",
              "    }\n",
              "\n",
              "    .colab-df-convert {\n",
              "      background-color: #E8F0FE;\n",
              "      border: none;\n",
              "      border-radius: 50%;\n",
              "      cursor: pointer;\n",
              "      display: none;\n",
              "      fill: #1967D2;\n",
              "      height: 32px;\n",
              "      padding: 0 0 0 0;\n",
              "      width: 32px;\n",
              "    }\n",
              "\n",
              "    .colab-df-convert:hover {\n",
              "      background-color: #E2EBFA;\n",
              "      box-shadow: 0px 1px 2px rgba(60, 64, 67, 0.3), 0px 1px 3px 1px rgba(60, 64, 67, 0.15);\n",
              "      fill: #174EA6;\n",
              "    }\n",
              "\n",
              "    [theme=dark] .colab-df-convert {\n",
              "      background-color: #3B4455;\n",
              "      fill: #D2E3FC;\n",
              "    }\n",
              "\n",
              "    [theme=dark] .colab-df-convert:hover {\n",
              "      background-color: #434B5C;\n",
              "      box-shadow: 0px 1px 3px 1px rgba(0, 0, 0, 0.15);\n",
              "      filter: drop-shadow(0px 1px 2px rgba(0, 0, 0, 0.3));\n",
              "      fill: #FFFFFF;\n",
              "    }\n",
              "  </style>\n",
              "\n",
              "      <script>\n",
              "        const buttonEl =\n",
              "          document.querySelector('#df-142b0d75-ac7d-40b0-a2f5-fa2f8fbd60bd button.colab-df-convert');\n",
              "        buttonEl.style.display =\n",
              "          google.colab.kernel.accessAllowed ? 'block' : 'none';\n",
              "\n",
              "        async function convertToInteractive(key) {\n",
              "          const element = document.querySelector('#df-142b0d75-ac7d-40b0-a2f5-fa2f8fbd60bd');\n",
              "          const dataTable =\n",
              "            await google.colab.kernel.invokeFunction('convertToInteractive',\n",
              "                                                     [key], {});\n",
              "          if (!dataTable) return;\n",
              "\n",
              "          const docLinkHtml = 'Like what you see? Visit the ' +\n",
              "            '<a target=\"_blank\" href=https://colab.research.google.com/notebooks/data_table.ipynb>data table notebook</a>'\n",
              "            + ' to learn more about interactive tables.';\n",
              "          element.innerHTML = '';\n",
              "          dataTable['output_type'] = 'display_data';\n",
              "          await google.colab.output.renderOutput(dataTable, element);\n",
              "          const docLink = document.createElement('div');\n",
              "          docLink.innerHTML = docLinkHtml;\n",
              "          element.appendChild(docLink);\n",
              "        }\n",
              "      </script>\n",
              "    </div>\n",
              "  </div>\n",
              "  "
            ]
          },
          "metadata": {},
          "execution_count": 5
        }
      ]
    },
    {
      "cell_type": "code",
      "source": [
        "#df = df.dropna(subset=['Sentiment'])"
      ],
      "metadata": {
        "id": "0974PQSTyL7R"
      },
      "execution_count": 6,
      "outputs": []
    },
    {
      "cell_type": "code",
      "source": [
        "sns.countplot(df['Sentiment'])"
      ],
      "metadata": {
        "colab": {
          "base_uri": "https://localhost:8080/",
          "height": 298
        },
        "id": "Sj60gbfOPeEt",
        "outputId": "992a5eb4-2633-440d-a90f-cc389ede576a"
      },
      "execution_count": 7,
      "outputs": [
        {
          "output_type": "execute_result",
          "data": {
            "text/plain": [
              "<matplotlib.axes._subplots.AxesSubplot at 0x7fdafa164190>"
            ]
          },
          "metadata": {},
          "execution_count": 7
        },
        {
          "output_type": "display_data",
          "data": {
            "text/plain": [
              "<Figure size 432x288 with 1 Axes>"
            ],
            "image/png": "[encoded data removed]"
          },
          "metadata": {
            "needs_background": "light"
          }
        }
      ]
    },
    {
      "cell_type": "code",
      "source": [
        "df.Sentiment.value_counts(), len(df)"
      ],
      "metadata": {
        "colab": {
          "base_uri": "https://localhost:8080/"
        },
        "id": "WRCNknbiKpDh",
        "outputId": "ec214b55-7379-49f3-aff1-9742ad1c2eab"
      },
      "execution_count": 8,
      "outputs": [
        {
          "output_type": "execute_result",
          "data": {
            "text/plain": [
              "(happy      1924\n",
              " angry      1427\n",
              " sad        1366\n",
              " disgust     704\n",
              " surpise     592\n",
              " fear        392\n",
              " Name: Sentiment, dtype: int64, 6405)"
            ]
          },
          "metadata": {},
          "execution_count": 8
        }
      ]
    },
    {
      "cell_type": "code",
      "source": [
        "maxlen = 200\n",
        "max_features = 10000\n",
        "batch_size = 32"
      ],
      "metadata": {
        "id": "iD41Re2Nyq7y"
      },
      "execution_count": 9,
      "outputs": []
    },
    {
      "cell_type": "code",
      "source": [
        "df['Text']=df['Text'].astype('str')"
      ],
      "metadata": {
        "id": "qWquWbCX66U5"
      },
      "execution_count": 20,
      "outputs": []
    },
    {
      "cell_type": "code",
      "source": [
        "from sklearn.model_selection import train_test_split\n",
        "x_train, x_test, y_train, y_test = train_test_split(df['Text'],df['Label'] , test_size=0.1, random_state=42)\n",
        "x_train, x_validation, y_train, y_validation = train_test_split(df['Text'],df['Label'],test_size=0.1, random_state=2)"
      ],
      "metadata": {
        "id": "mQrVLb-JyyIm"
      },
      "execution_count": 21,
      "outputs": []
    },
    {
      "cell_type": "code",
      "source": [
        "vocab_size=15000"
      ],
      "metadata": {
        "id": "u_i3PpvPA22P"
      },
      "execution_count": 24,
      "outputs": []
    },
    {
      "cell_type": "code",
      "source": [
        "tokenizer  = Tokenizer(num_words = max_features,oov_token = \"<OOV>\")\n",
        "tokenizer.fit_on_texts(df['Text'])\n",
        "\n",
        "train_seq =  tokenizer.texts_to_sequences(x_train)\n",
        "val_seq =  tokenizer.texts_to_sequences(x_validation)\n",
        "test_seq = tokenizer.texts_to_sequences(x_test)"
      ],
      "metadata": {
        "id": "FhuOo8BSHy8x"
      },
      "execution_count": 25,
      "outputs": []
    },
    {
      "cell_type": "code",
      "source": [
        "x_train = pad_sequences(train_seq, maxlen=maxlen, dtype='int32', padding='post',truncating='post') #maxlen = maxlen, padding='post')\n",
        "x_validation = pad_sequences(val_seq, maxlen=maxlen, dtype='int32', padding='post',truncating='post') #maxlen = maxlen, padding='post')\n",
        "x_test = pad_sequences(test_seq, maxlen=maxlen, dtype='int32', padding='post',truncating='post') #maxlen = maxlen, padding='post')"
      ],
      "metadata": {
        "id": "UNo9JlvBKflj"
      },
      "execution_count": 26,
      "outputs": []
    },
    {
      "cell_type": "code",
      "source": [
        "model= Sequential()\n",
        "model.add(Embedding(vocab_size,40,input_length=maxlen,name='Embedding'))\n",
        "model.add(Conv1D(200, kernel_size=3, activation = \"relu\"))\n",
        "model.add(Bidirectional(LSTM(128, return_sequences=True)))\n",
        "model.add(Dropout(0.25))\n",
        "model.add(Bidirectional(LSTM(64)))\n",
        "model.add(Dropout(0.1))\n",
        "model.add(Dense(50, activation='relu'))\n",
        "model.add(Dropout(0.2))\n",
        "model.add(Dense(25, activation='relu'))\n",
        "model.add(Dropout(0.1))\n",
        "model.add(Dense(12, activation='relu'))\n",
        "model.add(Flatten())\n",
        "model.add(Dense(units=6, activation='softmax'))\n",
        "adam=Adam(learning_rate=0.003)\n",
        "model.summary()\n",
        "model.compile(loss='sparse_categorical_crossentropy',optimizer=adam,metrics=['accuracy'])\n",
        "\n"
      ],
      "metadata": {
        "id": "YQGTZx4HQk2J",
        "colab": {
          "base_uri": "https://localhost:8080/"
        },
        "outputId": "d4d23358-21d9-4d8d-e37e-6ac49131ccc0"
      },
      "execution_count": 29,
      "outputs": [
        {
          "output_type": "stream",
          "name": "stdout",
          "text": [
            "Model: \"sequential\"\n",
            "_________________________________________________________________\n",
            " Layer (type)                Output Shape              Param #   \n",
            "=================================================================\n",
            " Embedding (Embedding)       (None, 200, 40)           600000    \n",
            "                                                                 \n",
            " conv1d (Conv1D)             (None, 198, 200)          24200     \n",
            "                                                                 \n",
            " bidirectional (Bidirectiona  (None, 198, 256)         336896    \n",
            " l)                                                              \n",
            "                                                                 \n",
            " dropout (Dropout)           (None, 198, 256)          0         \n",
            "                                                                 \n",
            " bidirectional_1 (Bidirectio  (None, 128)              164352    \n",
            " nal)                                                            \n",
            "                                                                 \n",
            " dropout_1 (Dropout)         (None, 128)               0         \n",
            "                                                                 \n",
            " dense (Dense)               (None, 50)                6450      \n",
            "                                                                 \n",
            " dropout_2 (Dropout)         (None, 50)                0         \n",
            "                                                                 \n",
            " dense_1 (Dense)             (None, 25)                1275      \n",
            "                                                                 \n",
            " dropout_3 (Dropout)         (None, 25)                0         \n",
            "                                                                 \n",
            " dense_2 (Dense)             (None, 12)                312       \n",
            "                                                                 \n",
            " flatten (Flatten)           (None, 12)                0         \n",
            "                                                                 \n",
            " dense_3 (Dense)             (None, 6)                 78        \n",
            "                                                                 \n",
            "=================================================================\n",
            "Total params: 1,133,563\n",
            "Trainable params: 1,133,563\n",
            "Non-trainable params: 0\n",
            "_________________________________________________________________\n"
          ]
        }
      ]
    },
    {
      "cell_type": "code",
      "source": [
        "history = model.fit(x_train, y_train, batch_size=batch_size, epochs=30, verbose=1, validation_data=(x_validation, y_validation))"
      ],
      "metadata": {
        "colab": {
          "base_uri": "https://localhost:8080/"
        },
        "id": "_z-j3HPJwOXz",
        "outputId": "b1db64f7-6c0e-4178-af19-1ddc3609c847"
      },
      "execution_count": 30,
      "outputs": [
        {
          "output_type": "stream",
          "name": "stdout",
          "text": [
            "Epoch 1/30\n",
            "181/181 [==============================] - 43s 166ms/step - loss: 1.6060 - accuracy: 0.3270 - val_loss: 1.4629 - val_accuracy: 0.4290\n",
            "Epoch 2/30\n",
            "181/181 [==============================] - 28s 155ms/step - loss: 1.4903 - accuracy: 0.4051 - val_loss: 1.4532 - val_accuracy: 0.4462\n",
            "Epoch 3/30\n",
            "181/181 [==============================] - 28s 154ms/step - loss: 1.3411 - accuracy: 0.4615 - val_loss: 1.5345 - val_accuracy: 0.4493\n",
            "Epoch 4/30\n",
            "181/181 [==============================] - 28s 152ms/step - loss: 1.2480 - accuracy: 0.4950 - val_loss: 1.5008 - val_accuracy: 0.4384\n",
            "Epoch 5/30\n",
            "181/181 [==============================] - 28s 153ms/step - loss: 1.1430 - accuracy: 0.5371 - val_loss: 1.5321 - val_accuracy: 0.4524\n",
            "Epoch 6/30\n",
            "181/181 [==============================] - 27s 151ms/step - loss: 1.0425 - accuracy: 0.5810 - val_loss: 1.6682 - val_accuracy: 0.4243\n",
            "Epoch 7/30\n",
            "181/181 [==============================] - 27s 149ms/step - loss: 0.9192 - accuracy: 0.6310 - val_loss: 1.7462 - val_accuracy: 0.3963\n",
            "Epoch 8/30\n",
            "181/181 [==============================] - 27s 149ms/step - loss: 0.8198 - accuracy: 0.6797 - val_loss: 1.8593 - val_accuracy: 0.4072\n",
            "Epoch 9/30\n",
            "181/181 [==============================] - 27s 149ms/step - loss: 0.7537 - accuracy: 0.7035 - val_loss: 2.1615 - val_accuracy: 0.4103\n",
            "Epoch 10/30\n",
            "181/181 [==============================] - 26s 146ms/step - loss: 0.6512 - accuracy: 0.7477 - val_loss: 2.1855 - val_accuracy: 0.3994\n",
            "Epoch 11/30\n",
            "181/181 [==============================] - 26s 145ms/step - loss: 0.5732 - accuracy: 0.7793 - val_loss: 2.5836 - val_accuracy: 0.3885\n",
            "Epoch 12/30\n",
            "181/181 [==============================] - 26s 145ms/step - loss: 0.5219 - accuracy: 0.7922 - val_loss: 2.5317 - val_accuracy: 0.3900\n",
            "Epoch 13/30\n",
            "181/181 [==============================] - 26s 145ms/step - loss: 0.4794 - accuracy: 0.8073 - val_loss: 2.8657 - val_accuracy: 0.3822\n",
            "Epoch 14/30\n",
            "181/181 [==============================] - 26s 145ms/step - loss: 0.4404 - accuracy: 0.8251 - val_loss: 2.9264 - val_accuracy: 0.4134\n",
            "Epoch 15/30\n",
            "181/181 [==============================] - 26s 145ms/step - loss: 0.3880 - accuracy: 0.8470 - val_loss: 2.8354 - val_accuracy: 0.4181\n",
            "Epoch 16/30\n",
            "181/181 [==============================] - 26s 144ms/step - loss: 0.3721 - accuracy: 0.8506 - val_loss: 2.8813 - val_accuracy: 0.4025\n",
            "Epoch 17/30\n",
            "181/181 [==============================] - 26s 145ms/step - loss: 0.3509 - accuracy: 0.8713 - val_loss: 3.0880 - val_accuracy: 0.4119\n",
            "Epoch 18/30\n",
            "181/181 [==============================] - 26s 145ms/step - loss: 0.3302 - accuracy: 0.8799 - val_loss: 3.0435 - val_accuracy: 0.4212\n",
            "Epoch 19/30\n",
            "181/181 [==============================] - 26s 145ms/step - loss: 0.2989 - accuracy: 0.8921 - val_loss: 3.4276 - val_accuracy: 0.4150\n",
            "Epoch 20/30\n",
            "181/181 [==============================] - 26s 145ms/step - loss: 0.2901 - accuracy: 0.9037 - val_loss: 3.0013 - val_accuracy: 0.3947\n",
            "Epoch 21/30\n",
            "181/181 [==============================] - 26s 145ms/step - loss: 0.2614 - accuracy: 0.9171 - val_loss: 3.4600 - val_accuracy: 0.3885\n",
            "Epoch 22/30\n",
            "181/181 [==============================] - 26s 145ms/step - loss: 0.2490 - accuracy: 0.9179 - val_loss: 3.3883 - val_accuracy: 0.3853\n",
            "Epoch 23/30\n",
            "181/181 [==============================] - 26s 144ms/step - loss: 0.2331 - accuracy: 0.9259 - val_loss: 3.6505 - val_accuracy: 0.3729\n",
            "Epoch 24/30\n",
            "181/181 [==============================] - 26s 145ms/step - loss: 0.2102 - accuracy: 0.9325 - val_loss: 3.7917 - val_accuracy: 0.3900\n",
            "Epoch 25/30\n",
            "181/181 [==============================] - 26s 144ms/step - loss: 0.2096 - accuracy: 0.9398 - val_loss: 3.4908 - val_accuracy: 0.4009\n",
            "Epoch 26/30\n",
            "181/181 [==============================] - 26s 145ms/step - loss: 0.1882 - accuracy: 0.9421 - val_loss: 3.8711 - val_accuracy: 0.4041\n",
            "Epoch 27/30\n",
            "181/181 [==============================] - 26s 144ms/step - loss: 0.1837 - accuracy: 0.9466 - val_loss: 3.6236 - val_accuracy: 0.3791\n",
            "Epoch 28/30\n",
            "181/181 [==============================] - 26s 144ms/step - loss: 0.1750 - accuracy: 0.9469 - val_loss: 3.7547 - val_accuracy: 0.4181\n",
            "Epoch 29/30\n",
            "181/181 [==============================] - 26s 144ms/step - loss: 0.1508 - accuracy: 0.9549 - val_loss: 4.2481 - val_accuracy: 0.4009\n",
            "Epoch 30/30\n",
            "181/181 [==============================] - 26s 142ms/step - loss: 0.1489 - accuracy: 0.9554 - val_loss: 4.2534 - val_accuracy: 0.4165\n"
          ]
        }
      ]
    },
    {
      "cell_type": "code",
      "source": [
        "import matplotlib.pyplot as plt\n",
        "\n",
        "plt.plot(history.history['accuracy'], label=\"Accuracy\")\n",
        "plt.plot(history.history['val_accuracy'], label=\"Validation accuracy\")\n",
        "plt.title('Accuracy')\n",
        "plt.xlabel('Epoch')\n",
        "plt.ylabel('Accuracy')\n",
        "plt.legend()\n",
        "plt.tight_layout()\n",
        "plt.show()"
      ],
      "metadata": {
        "id": "uoR8NGShwRjP",
        "colab": {
          "base_uri": "https://localhost:8080/",
          "height": 297
        },
        "outputId": "68aa1b82-f1db-4abe-801f-3ccedea41329"
      },
      "execution_count": 31,
      "outputs": [
        {
          "output_type": "display_data",
          "data": {
            "text/plain": [
              "<Figure size 432x288 with 1 Axes>"
            ],
            "image/png": "[encoded data removed]"
          },
          "metadata": {
            "needs_background": "light"
          }
        }
      ]
    },
    {
      "cell_type": "code",
      "source": [
        "import matplotlib.pyplot as plt\n",
        "\n",
        "plt.plot(history.history['loss'], label=\"Train loss\")\n",
        "plt.plot(history.history['val_loss'], label=\"Validation loss\")\n",
        "plt.title('Loss')\n",
        "plt.xlabel('Epoch')\n",
        "plt.ylabel('Loss')\n",
        "plt.legend()\n",
        "plt.tight_layout()\n",
        "plt.show()"
      ],
      "metadata": {
        "id": "fri9rt64QPvJ",
        "colab": {
          "base_uri": "https://localhost:8080/",
          "height": 297
        },
        "outputId": "279267d0-3d66-45b6-97f2-7fb9fa5b7bcc"
      },
      "execution_count": 32,
      "outputs": [
        {
          "output_type": "display_data",
          "data": {
            "text/plain": [
              "<Figure size 432x288 with 1 Axes>"
            ],
            "image/png": "[encoded data removed]"
          },
          "metadata": {
            "needs_background": "light"
          }
        }
      ]
    },
    {
      "cell_type": "code",
      "source": [
        "from sklearn.metrics import classification_report\n",
        "\n",
        "y_pred = model.predict(x_test)\n",
        "y_pred = np.argmax(y_pred,axis=1)"
      ],
      "metadata": {
        "id": "23UFRz2Q2lx-"
      },
      "execution_count": 33,
      "outputs": []
    },
    {
      "cell_type": "code",
      "source": [
        "print(y_test.shape)\n",
        "print(y_pred.shape)"
      ],
      "metadata": {
        "id": "g1NOM2RYxJzw",
        "colab": {
          "base_uri": "https://localhost:8080/"
        },
        "outputId": "f331cb5a-5ee1-4b5a-ce0d-80ac2aecb0dc"
      },
      "execution_count": 34,
      "outputs": [
        {
          "output_type": "stream",
          "name": "stdout",
          "text": [
            "(641,)\n",
            "(641,)\n"
          ]
        }
      ]
    },
    {
      "cell_type": "code",
      "source": [
        "print(y_pred)\n",
        "print(y_test)"
      ],
      "metadata": {
        "id": "q2EeVkZSxdBQ",
        "colab": {
          "base_uri": "https://localhost:8080/"
        },
        "outputId": "e2c1cf82-0b62-4773-b41a-f19c9b1c34b6"
      },
      "execution_count": 35,
      "outputs": [
        {
          "output_type": "stream",
          "name": "stdout",
          "text": [
            "[3 5 4 0 4 0 0 0 3 4 4 3 3 4 3 1 3 4 4 3 4 5 5 3 0 0 1 0 1 1 3 0 4 4 3 3 0\n",
            " 4 3 4 0 4 4 0 4 1 0 0 3 0 3 3 3 0 3 0 0 4 0 0 3 3 2 4 4 3 3 4 4 0 3 4 4 4\n",
            " 0 4 1 3 0 0 4 3 3 0 3 0 0 3 3 3 3 4 4 0 4 1 0 3 3 4 2 0 0 0 3 0 3 4 4 4 3\n",
            " 4 3 4 3 4 3 4 4 0 5 5 5 0 3 3 4 3 3 3 1 3 0 3 4 0 2 1 0 4 4 2 4 3 3 1 3 3\n",
            " 4 3 3 2 3 3 0 2 4 3 1 5 3 0 0 3 2 4 3 0 3 0 3 3 0 1 4 1 0 5 5 3 2 0 0 4 3\n",
            " 4 0 4 0 3 4 3 4 1 4 4 4 3 3 5 5 2 4 0 5 5 2 5 4 3 4 5 5 3 1 5 2 0 4 0 3 3\n",
            " 1 3 4 0 4 3 1 0 1 4 5 3 3 1 3 1 0 4 3 3 5 3 4 1 3 1 3 1 3 0 3 0 4 0 4 5 3\n",
            " 3 3 5 4 3 0 2 5 2 3 4 3 3 5 1 1 4 5 0 5 1 2 1 0 1 4 1 4 3 3 3 4 3 3 1 2 0\n",
            " 5 0 3 0 5 3 1 0 0 4 0 1 3 0 0 2 3 3 1 1 3 4 5 2 1 1 4 2 4 4 0 1 3 4 3 5 3\n",
            " 2 3 3 3 1 2 4 5 2 5 1 3 0 0 0 4 4 3 4 3 3 3 3 0 3 4 3 4 0 3 0 4 2 3 4 4 0\n",
            " 0 4 1 0 1 4 3 3 3 3 4 0 4 4 4 0 3 4 0 0 2 0 2 3 5 0 0 0 4 5 4 0 3 4 3 3 0\n",
            " 0 3 3 2 5 2 4 4 0 4 3 1 3 0 4 4 3 3 2 1 5 1 5 5 0 0 3 3 0 5 4 3 0 5 2 2 0\n",
            " 3 3 4 3 3 5 4 5 4 4 3 0 2 3 1 2 4 4 4 3 4 4 0 0 4 0 3 1 3 1 0 0 4 0 4 4 4\n",
            " 1 3 0 3 4 4 1 1 0 4 3 3 3 3 5 0 5 4 3 4 0 2 2 5 2 4 3 4 1 4 1 0 3 3 1 0 5\n",
            " 4 0 4 0 5 4 4 2 5 5 2 0 0 4 3 0 3 0 1 5 0 3 0 3 3 3 0 4 0 0 4 0 4 4 3 3 4\n",
            " 4 0 0 3 4 4 3 0 3 4 3 4 0 0 4 4 4 3 1 4 4 4 3 4 3 4 1 3 3 0 4 0 0 4 5 3 4\n",
            " 4 2 0 2 4 0 4 5 3 2 4 1 4 3 0 0 3 4 0 2 1 0 2 0 4 0 3 5 5 4 2 4 3 3 4 3 4\n",
            " 3 1 1 0 4 5 3 3 5 3 4 0]\n",
            "2488    3\n",
            "5477    4\n",
            "2399    1\n",
            "1330    0\n",
            "4991    4\n",
            "       ..\n",
            "3412    3\n",
            "4002    5\n",
            "743     3\n",
            "19      4\n",
            "5704    0\n",
            "Name: Label, Length: 641, dtype: int64\n"
          ]
        }
      ]
    },
    {
      "cell_type": "code",
      "source": [
        "y_pred = y_pred.reshape(-1,1)"
      ],
      "metadata": {
        "id": "YxnWgmftRbvK"
      },
      "execution_count": 36,
      "outputs": []
    },
    {
      "cell_type": "code",
      "source": [
        "categories = ['sad', 'angry','surprise','happy','fear','disgust']\n",
        "print(classification_report(y_test, y_pred, target_names=categories))"
      ],
      "metadata": {
        "id": "9ptikYIFxPH5",
        "colab": {
          "base_uri": "https://localhost:8080/"
        },
        "outputId": "38743aae-eaa1-43a8-d5d0-11f801c216ea"
      },
      "execution_count": 37,
      "outputs": [
        {
          "output_type": "stream",
          "name": "stdout",
          "text": [
            "              precision    recall  f1-score   support\n",
            "\n",
            "         sad       0.91      0.92      0.92       138\n",
            "       angry       0.90      0.73      0.81        74\n",
            "    surprise       0.90      0.84      0.87        45\n",
            "       happy       0.96      0.98      0.97       178\n",
            "        fear       0.90      0.94      0.92       156\n",
            "     disgust       0.84      0.92      0.88        50\n",
            "\n",
            "    accuracy                           0.91       641\n",
            "   macro avg       0.90      0.89      0.89       641\n",
            "weighted avg       0.91      0.91      0.91       641\n",
            "\n"
          ]
        }
      ]
    },
    {
      "cell_type": "code",
      "source": [
        "import seaborn as sns\n",
        "import matplotlib.pyplot as plt\n",
        "\n",
        "### Confusion Matrix\n",
        "from sklearn.metrics import confusion_matrix\n",
        "#predictions = model.predict(x_test, steps=len(x_test), verbose=0)\n",
        "#y_pred=model.predict(x_test)\n",
        "#y_pred = np.round(y_pred)\n",
        "\n",
        "\n",
        "cm = confusion_matrix(y_test, y_pred)\n",
        "\n",
        "## Get Class Labels\n",
        "labels = 6\n",
        "#[0,1,2,3,4,5]_\n",
        "class_names = categories \n",
        "\n",
        "# Plot confusion matrix in a beautiful manner\n",
        "fig = plt.figure(figsize=(16, 14))\n",
        "ax= plt.subplot()\n",
        "sns.heatmap(cm, annot=True, ax = ax, fmt = 'g'); #annot=True to annotate cells\n",
        "# labels, title and ticks\n",
        "ax.set_xlabel('Predicted', fontsize=20)\n",
        "ax.xaxis.set_label_position('bottom')\n",
        "plt.xticks(rotation=90)\n",
        "ax.xaxis.set_ticklabels(class_names, fontsize = 10)\n",
        "ax.xaxis.tick_bottom()\n",
        "\n",
        "ax.set_ylabel('True', fontsize=20)\n",
        "ax.yaxis.set_ticklabels(class_names, fontsize = 10)\n",
        "plt.yticks(rotation=0)\n",
        "\n",
        "plt.title('Refined Confusion Matrix', fontsize=20)\n",
        "\n",
        "plt.savefig('ConMat24.png')\n",
        "plt.show()\n"
      ],
      "metadata": {
        "id": "AtYBYIbgRAhi",
        "colab": {
          "base_uri": "https://localhost:8080/",
          "height": 883
        },
        "outputId": "ecac2585-8725-48c5-bc81-2348c9197090"
      },
      "execution_count": 38,
      "outputs": [
        {
          "output_type": "display_data",
          "data": {
            "text/plain": [
              "<Figure size 1152x1008 with 2 Axes>"
            ],
            "image/png": "[encoded data removed]"
          },
          "metadata": {
            "needs_background": "light"
          }
        }
      ]
    }
  ]
}