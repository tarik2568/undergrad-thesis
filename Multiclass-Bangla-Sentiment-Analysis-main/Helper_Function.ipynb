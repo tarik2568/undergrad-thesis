{
  "nbformat": 4,
  "nbformat_minor": 0,
  "metadata": {
    "colab": {
      "name": "Helper Function.ipynb",
      "provenance": [],
      "mount_file_id": "1y8L_Rj-olGsL07Gkz4k3PUgZk35gSaw_",
      "authorship_tag": "ABX9TyO0P6WKVUM6rW2Cx535a+uO",
      "include_colab_link": true
    },
    "kernelspec": {
      "name": "python3",
      "display_name": "Python 3"
    },
    "language_info": {
      "name": "python"
    },
    "accelerator": "GPU"
  },
  "cells": [
    {
      "cell_type": "markdown",
      "metadata": {
        "id": "view-in-github",
        "colab_type": "text"
      },
      "source": [
        "<a href=\"https://colab.research.google.com/github/tamiti-ruet-ece/Multiclass-Bangla-Sentiment-Analysis/blob/main/Helper_Function.ipynb\" target=\"_parent\"><img src=\"https://colab.research.google.com/assets/colab-badge.svg\" alt=\"Open In Colab\"/></a>"
      ]
    },
    {
      "cell_type": "code",
      "source": [
        "!pip install transformers"
      ],
      "metadata": {
        "colab": {
          "base_uri": "https://localhost:8080/"
        },
        "id": "exEdjvKM1vnI",
        "outputId": "04b0acc3-efcc-4bdd-fdfc-bc67a77ff756"
      },
      "execution_count": 83,
      "outputs": [
        {
          "output_type": "stream",
          "name": "stdout",
          "text": [
            "Requirement already satisfied: transformers in /usr/local/lib/python3.7/dist-packages (4.18.0)\n",
            "Requirement already satisfied: requests in /usr/local/lib/python3.7/dist-packages (from transformers) (2.23.0)\n",
            "Requirement already satisfied: numpy>=1.17 in /usr/local/lib/python3.7/dist-packages (from transformers) (1.21.5)\n",
            "Requirement already satisfied: huggingface-hub<1.0,>=0.1.0 in /usr/local/lib/python3.7/dist-packages (from transformers) (0.5.1)\n",
            "Requirement already satisfied: importlib-metadata in /usr/local/lib/python3.7/dist-packages (from transformers) (4.11.3)\n",
            "Requirement already satisfied: filelock in /usr/local/lib/python3.7/dist-packages (from transformers) (3.6.0)\n",
            "Requirement already satisfied: tokenizers!=0.11.3,<0.13,>=0.11.1 in /usr/local/lib/python3.7/dist-packages (from transformers) (0.12.1)\n",
            "Requirement already satisfied: pyyaml>=5.1 in /usr/local/lib/python3.7/dist-packages (from transformers) (6.0)\n",
            "Requirement already satisfied: packaging>=20.0 in /usr/local/lib/python3.7/dist-packages (from transformers) (21.3)\n",
            "Requirement already satisfied: tqdm>=4.27 in /usr/local/lib/python3.7/dist-packages (from transformers) (4.64.0)\n",
            "Requirement already satisfied: sacremoses in /usr/local/lib/python3.7/dist-packages (from transformers) (0.0.49)\n",
            "Requirement already satisfied: regex!=2019.12.17 in /usr/local/lib/python3.7/dist-packages (from transformers) (2019.12.20)\n",
            "Requirement already satisfied: typing-extensions>=3.7.4.3 in /usr/local/lib/python3.7/dist-packages (from huggingface-hub<1.0,>=0.1.0->transformers) (4.1.1)\n",
            "Requirement already satisfied: pyparsing!=3.0.5,>=2.0.2 in /usr/local/lib/python3.7/dist-packages (from packaging>=20.0->transformers) (3.0.8)\n",
            "Requirement already satisfied: zipp>=0.5 in /usr/local/lib/python3.7/dist-packages (from importlib-metadata->transformers) (3.8.0)\n",
            "Requirement already satisfied: certifi>=2017.4.17 in /usr/local/lib/python3.7/dist-packages (from requests->transformers) (2021.10.8)\n",
            "Requirement already satisfied: chardet<4,>=3.0.2 in /usr/local/lib/python3.7/dist-packages (from requests->transformers) (3.0.4)\n",
            "Requirement already satisfied: idna<3,>=2.5 in /usr/local/lib/python3.7/dist-packages (from requests->transformers) (2.10)\n",
            "Requirement already satisfied: urllib3!=1.25.0,!=1.25.1,<1.26,>=1.21.1 in /usr/local/lib/python3.7/dist-packages (from requests->transformers) (1.24.3)\n",
            "Requirement already satisfied: joblib in /usr/local/lib/python3.7/dist-packages (from sacremoses->transformers) (1.1.0)\n",
            "Requirement already satisfied: six in /usr/local/lib/python3.7/dist-packages (from sacremoses->transformers) (1.15.0)\n",
            "Requirement already satisfied: click in /usr/local/lib/python3.7/dist-packages (from sacremoses->transformers) (7.1.2)\n"
          ]
        }
      ]
    },
    {
      "cell_type": "code",
      "source": [
        "import pandas as pd\n",
        "import seaborn as sns\n",
        "import re"
      ],
      "metadata": {
        "id": "Exsrin1v2HrU"
      },
      "execution_count": 84,
      "outputs": []
    },
    {
      "cell_type": "code",
      "execution_count": 85,
      "metadata": {
        "id": "MiQLkvHy4-Jv",
        "colab": {
          "base_uri": "https://localhost:8080/"
        },
        "outputId": "f940e0d3-13a3-4e78-866a-3911e11f541a"
      },
      "outputs": [
        {
          "output_type": "stream",
          "name": "stdout",
          "text": [
            "<class 'pandas.core.frame.DataFrame'>\n",
            "Int64Index: 33012 entries, 0 to 21040\n",
            "Data columns (total 3 columns):\n",
            " #   Column     Non-Null Count  Dtype \n",
            "---  ------     --------------  ----- \n",
            " 0   ID         33011 non-null  object\n",
            " 1   Text       33011 non-null  object\n",
            " 2   Sentiment  6405 non-null   object\n",
            "dtypes: object(3)\n",
            "memory usage: 1.0+ MB\n"
          ]
        }
      ],
      "source": [
        "df1=pd.read_excel('/content/drive/MyDrive/thesis/Multiclass bangla sentiment dataset/CommentsOutputFileEkattorTV.xlsx')\n",
        "df2=pd.read_excel('/content/drive/MyDrive/thesis/Multiclass bangla sentiment dataset/CommentsOutputFileMagistrate.xlsx')\n",
        "df3=pd.read_excel('/content/drive/MyDrive/thesis/Multiclass bangla sentiment dataset/CommentsOutputImranHSarker.xlsx')\n",
        "df = pd.concat([df1, df2,df3], axis=0)\n",
        "df.info()"
      ]
    },
    {
      "cell_type": "code",
      "source": [
        "df.head()"
      ],
      "metadata": {
        "id": "kqUwE6JaDqxN",
        "colab": {
          "base_uri": "https://localhost:8080/",
          "height": 206
        },
        "outputId": "8f771d4e-a3d3-4963-a78b-1c74f3bac317"
      },
      "execution_count": 86,
      "outputs": [
        {
          "output_type": "execute_result",
          "data": {
            "text/plain": [
              "                                  ID  \\\n",
              "0  1050608295011798_1050881064984521   \n",
              "1  1050608295011798_1051094821629812   \n",
              "2  1050608295011798_1051014128304548   \n",
              "3  1050608295011798_1051021028303858   \n",
              "4  1050608295011798_1051036028302358   \n",
              "\n",
              "                                                Text Sentiment  \n",
              "0  The Desh Bangla 1 hour ago হে মুমিনগণ তোমরা ধৈ...     happy  \n",
              "1  অনেকেই অটো লাইক এর কথা শুনেছেন কিন্তু শিখতে পা...     happy  \n",
              "2  তদন্ত করে লাভ কী ? কোন দিন কোন তদন্তের পর কিছু...       sad  \n",
              "3                                     ছুরি ভ।গ পাইনই   disgust  \n",
              "4  দেশকি মধ্যম আয়ের দেশে রুপান্তর হচ্ছে নাকি মগের...     angry  "
            ],
            "text/html": [
              "\n",
              "  <div id=\"df-b5ab9a9e-72f5-4454-b0fb-1a34cdee2d15\">\n",
              "    <div class=\"colab-df-container\">\n",
              "      <div>\n",
              "<style scoped>\n",
              "    .dataframe tbody tr th:only-of-type {\n",
              "        vertical-align: middle;\n",
              "    }\n",
              "\n",
              "    .dataframe tbody tr th {\n",
              "        vertical-align: top;\n",
              "    }\n",
              "\n",
              "    .dataframe thead th {\n",
              "        text-align: right;\n",
              "    }\n",
              "</style>\n",
              "<table border=\"1\" class=\"dataframe\">\n",
              "  <thead>\n",
              "    <tr style=\"text-align: right;\">\n",
              "      <th></th>\n",
              "      <th>ID</th>\n",
              "      <th>Text</th>\n",
              "      <th>Sentiment</th>\n",
              "    </tr>\n",
              "  </thead>\n",
              "  <tbody>\n",
              "    <tr>\n",
              "      <th>0</th>\n",
              "      <td>1050608295011798_1050881064984521</td>\n",
              "      <td>The Desh Bangla 1 hour ago হে মুমিনগণ তোমরা ধৈ...</td>\n",
              "      <td>happy</td>\n",
              "    </tr>\n",
              "    <tr>\n",
              "      <th>1</th>\n",
              "      <td>1050608295011798_1051094821629812</td>\n",
              "      <td>অনেকেই অটো লাইক এর কথা শুনেছেন কিন্তু শিখতে পা...</td>\n",
              "      <td>happy</td>\n",
              "    </tr>\n",
              "    <tr>\n",
              "      <th>2</th>\n",
              "      <td>1050608295011798_1051014128304548</td>\n",
              "      <td>তদন্ত করে লাভ কী ? কোন দিন কোন তদন্তের পর কিছু...</td>\n",
              "      <td>sad</td>\n",
              "    </tr>\n",
              "    <tr>\n",
              "      <th>3</th>\n",
              "      <td>1050608295011798_1051021028303858</td>\n",
              "      <td>ছুরি ভ।গ পাইনই</td>\n",
              "      <td>disgust</td>\n",
              "    </tr>\n",
              "    <tr>\n",
              "      <th>4</th>\n",
              "      <td>1050608295011798_1051036028302358</td>\n",
              "      <td>দেশকি মধ্যম আয়ের দেশে রুপান্তর হচ্ছে নাকি মগের...</td>\n",
              "      <td>angry</td>\n",
              "    </tr>\n",
              "  </tbody>\n",
              "</table>\n",
              "</div>\n",
              "      <button class=\"colab-df-convert\" onclick=\"convertToInteractive('df-b5ab9a9e-72f5-4454-b0fb-1a34cdee2d15')\"\n",
              "              title=\"Convert this dataframe to an interactive table.\"\n",
              "              style=\"display:none;\">\n",
              "        \n",
              "  <svg xmlns=\"http://www.w3.org/2000/svg\" height=\"24px\"viewBox=\"0 0 24 24\"\n",
              "       width=\"24px\">\n",
              "    <path d=\"M0 0h24v24H0V0z\" fill=\"none\"/>\n",
              "    <path d=\"M18.56 5.44l.94 2.06.94-2.06 2.06-.94-2.06-.94-.94-2.06-.94 2.06-2.06.94zm-11 1L8.5 8.5l.94-2.06 2.06-.94-2.06-.94L8.5 2.5l-.94 2.06-2.06.94zm10 10l.94 2.06.94-2.06 2.06-.94-2.06-.94-.94-2.06-.94 2.06-2.06.94z\"/><path d=\"M17.41 7.96l-1.37-1.37c-.4-.4-.92-.59-1.43-.59-.52 0-1.04.2-1.43.59L10.3 9.45l-7.72 7.72c-.78.78-.78 2.05 0 2.83L4 21.41c.39.39.9.59 1.41.59.51 0 1.02-.2 1.41-.59l7.78-7.78 2.81-2.81c.8-.78.8-2.07 0-2.86zM5.41 20L4 18.59l7.72-7.72 1.47 1.35L5.41 20z\"/>\n",
              "  </svg>\n",
              "      </button>\n",
              "      \n",
              "  <style>\n",
              "    .colab-df-container {\n",
              "      display:flex;\n",
              "      flex-wrap:wrap;\n",
              "      gap: 12px;\n",
              "    }\n",
              "\n",
              "    .colab-df-convert {\n",
              "      background-color: #E8F0FE;\n",
              "      border: none;\n",
              "      border-radius: 50%;\n",
              "      cursor: pointer;\n",
              "      display: none;\n",
              "      fill: #1967D2;\n",
              "      height: 32px;\n",
              "      padding: 0 0 0 0;\n",
              "      width: 32px;\n",
              "    }\n",
              "\n",
              "    .colab-df-convert:hover {\n",
              "      background-color: #E2EBFA;\n",
              "      box-shadow: 0px 1px 2px rgba(60, 64, 67, 0.3), 0px 1px 3px 1px rgba(60, 64, 67, 0.15);\n",
              "      fill: #174EA6;\n",
              "    }\n",
              "\n",
              "    [theme=dark] .colab-df-convert {\n",
              "      background-color: #3B4455;\n",
              "      fill: #D2E3FC;\n",
              "    }\n",
              "\n",
              "    [theme=dark] .colab-df-convert:hover {\n",
              "      background-color: #434B5C;\n",
              "      box-shadow: 0px 1px 3px 1px rgba(0, 0, 0, 0.15);\n",
              "      filter: drop-shadow(0px 1px 2px rgba(0, 0, 0, 0.3));\n",
              "      fill: #FFFFFF;\n",
              "    }\n",
              "  </style>\n",
              "\n",
              "      <script>\n",
              "        const buttonEl =\n",
              "          document.querySelector('#df-b5ab9a9e-72f5-4454-b0fb-1a34cdee2d15 button.colab-df-convert');\n",
              "        buttonEl.style.display =\n",
              "          google.colab.kernel.accessAllowed ? 'block' : 'none';\n",
              "\n",
              "        async function convertToInteractive(key) {\n",
              "          const element = document.querySelector('#df-b5ab9a9e-72f5-4454-b0fb-1a34cdee2d15');\n",
              "          const dataTable =\n",
              "            await google.colab.kernel.invokeFunction('convertToInteractive',\n",
              "                                                     [key], {});\n",
              "          if (!dataTable) return;\n",
              "\n",
              "          const docLinkHtml = 'Like what you see? Visit the ' +\n",
              "            '<a target=\"_blank\" href=https://colab.research.google.com/notebooks/data_table.ipynb>data table notebook</a>'\n",
              "            + ' to learn more about interactive tables.';\n",
              "          element.innerHTML = '';\n",
              "          dataTable['output_type'] = 'display_data';\n",
              "          await google.colab.output.renderOutput(dataTable, element);\n",
              "          const docLink = document.createElement('div');\n",
              "          docLink.innerHTML = docLinkHtml;\n",
              "          element.appendChild(docLink);\n",
              "        }\n",
              "      </script>\n",
              "    </div>\n",
              "  </div>\n",
              "  "
            ]
          },
          "metadata": {},
          "execution_count": 86
        }
      ]
    },
    {
      "cell_type": "code",
      "source": [
        "from sklearn.utils import shuffle\n",
        "df = shuffle(df)"
      ],
      "metadata": {
        "id": "dE7ODB1o2D_M"
      },
      "execution_count": 87,
      "outputs": []
    },
    {
      "cell_type": "code",
      "source": [
        "sns.countplot(df['Sentiment'])"
      ],
      "metadata": {
        "id": "7M1Av-XdDtLr",
        "colab": {
          "base_uri": "https://localhost:8080/",
          "height": 353
        },
        "outputId": "6825dff5-2612-45d1-8fae-b99bd476a901"
      },
      "execution_count": 88,
      "outputs": [
        {
          "output_type": "stream",
          "name": "stderr",
          "text": [
            "/usr/local/lib/python3.7/dist-packages/seaborn/_decorators.py:43: FutureWarning: Pass the following variable as a keyword arg: x. From version 0.12, the only valid positional argument will be `data`, and passing other arguments without an explicit keyword will result in an error or misinterpretation.\n",
            "  FutureWarning\n"
          ]
        },
        {
          "output_type": "execute_result",
          "data": {
            "text/plain": [
              "<matplotlib.axes._subplots.AxesSubplot at 0x7f5d916d78d0>"
            ]
          },
          "metadata": {},
          "execution_count": 88
        },
        {
          "output_type": "display_data",
          "data": {
            "text/plain": [
              "<Figure size 432x288 with 1 Axes>"
            ],
            "image/png": "[encoded data removed]"
          },
          "metadata": {
            "needs_background": "light"
          }
        }
      ]
    },
    {
      "cell_type": "code",
      "source": [
        "df.Sentiment.value_counts(), len(df)"
      ],
      "metadata": {
        "id": "1spUxoc2DvPU",
        "colab": {
          "base_uri": "https://localhost:8080/"
        },
        "outputId": "50d39112-9a8d-4535-f6f4-9b5d6e93c1ab"
      },
      "execution_count": 89,
      "outputs": [
        {
          "output_type": "execute_result",
          "data": {
            "text/plain": [
              "(happy      1924\n",
              " angry      1427\n",
              " sad        1366\n",
              " disgust     704\n",
              " surpise     592\n",
              " fear        392\n",
              " Name: Sentiment, dtype: int64, 33012)"
            ]
          },
          "metadata": {},
          "execution_count": 89
        }
      ]
    },
    {
      "cell_type": "code",
      "source": [
        "df.shape"
      ],
      "metadata": {
        "id": "4DRSx1jYDvti",
        "colab": {
          "base_uri": "https://localhost:8080/"
        },
        "outputId": "57c641d6-3b68-4280-d951-46d8c00432a4"
      },
      "execution_count": 90,
      "outputs": [
        {
          "output_type": "execute_result",
          "data": {
            "text/plain": [
              "(33012, 3)"
            ]
          },
          "metadata": {},
          "execution_count": 90
        }
      ]
    },
    {
      "cell_type": "code",
      "source": [
        "df = df.dropna(subset=['Sentiment'])"
      ],
      "metadata": {
        "id": "CtrLDa6PDzSr"
      },
      "execution_count": 91,
      "outputs": []
    },
    {
      "cell_type": "code",
      "source": [
        "df.shape"
      ],
      "metadata": {
        "id": "pRXosFnVDz8r",
        "colab": {
          "base_uri": "https://localhost:8080/"
        },
        "outputId": "d56be4f7-994d-4cfa-f3a4-0e64fde563a4"
      },
      "execution_count": 92,
      "outputs": [
        {
          "output_type": "execute_result",
          "data": {
            "text/plain": [
              "(6405, 3)"
            ]
          },
          "metadata": {},
          "execution_count": 92
        }
      ]
    },
    {
      "cell_type": "code",
      "source": [
        "df.head()"
      ],
      "metadata": {
        "id": "W1UI0YbTD2pk",
        "colab": {
          "base_uri": "https://localhost:8080/",
          "height": 206
        },
        "outputId": "f2f30ea7-8038-44f0-b837-d839f025eaa6"
      },
      "execution_count": 93,
      "outputs": [
        {
          "output_type": "execute_result",
          "data": {
            "text/plain": [
              "                                    ID  \\\n",
              "479    939195189512152_939206382844366   \n",
              "1750   935156429916028_935165096581828   \n",
              "1855  987743164678331_1529633654011820   \n",
              "1382   935324716565866_935576566540681   \n",
              "3388   987743164678331_552808888211836   \n",
              "\n",
              "                                                   Text Sentiment  \n",
              "479   উনারে লাথথায়ে মিরপুর চিড়িয়াখানার প্রধান সিকিউর...     angry  \n",
              "1750  @Mozammel Hoque Shahid: কই এখন আপনি? লেকচার থে...     angry  \n",
              "1855                                       সুন্দর জোক্স     happy  \n",
              "1382  বেশির ভাগ ক্ষেত্রে যাত্রী গন কম ভুল করে আর বেশ...       sad  \n",
              "3388  বাংলাদেশের হিন্দু মুসলিম সবাই ভাই ভাই যে অন্যন...       sad  "
            ],
            "text/html": [
              "\n",
              "  <div id=\"df-3f7f9a98-9283-4d19-8ce6-fb34076c293a\">\n",
              "    <div class=\"colab-df-container\">\n",
              "      <div>\n",
              "<style scoped>\n",
              "    .dataframe tbody tr th:only-of-type {\n",
              "        vertical-align: middle;\n",
              "    }\n",
              "\n",
              "    .dataframe tbody tr th {\n",
              "        vertical-align: top;\n",
              "    }\n",
              "\n",
              "    .dataframe thead th {\n",
              "        text-align: right;\n",
              "    }\n",
              "</style>\n",
              "<table border=\"1\" class=\"dataframe\">\n",
              "  <thead>\n",
              "    <tr style=\"text-align: right;\">\n",
              "      <th></th>\n",
              "      <th>ID</th>\n",
              "      <th>Text</th>\n",
              "      <th>Sentiment</th>\n",
              "    </tr>\n",
              "  </thead>\n",
              "  <tbody>\n",
              "    <tr>\n",
              "      <th>479</th>\n",
              "      <td>939195189512152_939206382844366</td>\n",
              "      <td>উনারে লাথথায়ে মিরপুর চিড়িয়াখানার প্রধান সিকিউর...</td>\n",
              "      <td>angry</td>\n",
              "    </tr>\n",
              "    <tr>\n",
              "      <th>1750</th>\n",
              "      <td>935156429916028_935165096581828</td>\n",
              "      <td>@Mozammel Hoque Shahid: কই এখন আপনি? লেকচার থে...</td>\n",
              "      <td>angry</td>\n",
              "    </tr>\n",
              "    <tr>\n",
              "      <th>1855</th>\n",
              "      <td>987743164678331_1529633654011820</td>\n",
              "      <td>সুন্দর জোক্স</td>\n",
              "      <td>happy</td>\n",
              "    </tr>\n",
              "    <tr>\n",
              "      <th>1382</th>\n",
              "      <td>935324716565866_935576566540681</td>\n",
              "      <td>বেশির ভাগ ক্ষেত্রে যাত্রী গন কম ভুল করে আর বেশ...</td>\n",
              "      <td>sad</td>\n",
              "    </tr>\n",
              "    <tr>\n",
              "      <th>3388</th>\n",
              "      <td>987743164678331_552808888211836</td>\n",
              "      <td>বাংলাদেশের হিন্দু মুসলিম সবাই ভাই ভাই যে অন্যন...</td>\n",
              "      <td>sad</td>\n",
              "    </tr>\n",
              "  </tbody>\n",
              "</table>\n",
              "</div>\n",
              "      <button class=\"colab-df-convert\" onclick=\"convertToInteractive('df-3f7f9a98-9283-4d19-8ce6-fb34076c293a')\"\n",
              "              title=\"Convert this dataframe to an interactive table.\"\n",
              "              style=\"display:none;\">\n",
              "        \n",
              "  <svg xmlns=\"http://www.w3.org/2000/svg\" height=\"24px\"viewBox=\"0 0 24 24\"\n",
              "       width=\"24px\">\n",
              "    <path d=\"M0 0h24v24H0V0z\" fill=\"none\"/>\n",
              "    <path d=\"M18.56 5.44l.94 2.06.94-2.06 2.06-.94-2.06-.94-.94-2.06-.94 2.06-2.06.94zm-11 1L8.5 8.5l.94-2.06 2.06-.94-2.06-.94L8.5 2.5l-.94 2.06-2.06.94zm10 10l.94 2.06.94-2.06 2.06-.94-2.06-.94-.94-2.06-.94 2.06-2.06.94z\"/><path d=\"M17.41 7.96l-1.37-1.37c-.4-.4-.92-.59-1.43-.59-.52 0-1.04.2-1.43.59L10.3 9.45l-7.72 7.72c-.78.78-.78 2.05 0 2.83L4 21.41c.39.39.9.59 1.41.59.51 0 1.02-.2 1.41-.59l7.78-7.78 2.81-2.81c.8-.78.8-2.07 0-2.86zM5.41 20L4 18.59l7.72-7.72 1.47 1.35L5.41 20z\"/>\n",
              "  </svg>\n",
              "      </button>\n",
              "      \n",
              "  <style>\n",
              "    .colab-df-container {\n",
              "      display:flex;\n",
              "      flex-wrap:wrap;\n",
              "      gap: 12px;\n",
              "    }\n",
              "\n",
              "    .colab-df-convert {\n",
              "      background-color: #E8F0FE;\n",
              "      border: none;\n",
              "      border-radius: 50%;\n",
              "      cursor: pointer;\n",
              "      display: none;\n",
              "      fill: #1967D2;\n",
              "      height: 32px;\n",
              "      padding: 0 0 0 0;\n",
              "      width: 32px;\n",
              "    }\n",
              "\n",
              "    .colab-df-convert:hover {\n",
              "      background-color: #E2EBFA;\n",
              "      box-shadow: 0px 1px 2px rgba(60, 64, 67, 0.3), 0px 1px 3px 1px rgba(60, 64, 67, 0.15);\n",
              "      fill: #174EA6;\n",
              "    }\n",
              "\n",
              "    [theme=dark] .colab-df-convert {\n",
              "      background-color: #3B4455;\n",
              "      fill: #D2E3FC;\n",
              "    }\n",
              "\n",
              "    [theme=dark] .colab-df-convert:hover {\n",
              "      background-color: #434B5C;\n",
              "      box-shadow: 0px 1px 3px 1px rgba(0, 0, 0, 0.15);\n",
              "      filter: drop-shadow(0px 1px 2px rgba(0, 0, 0, 0.3));\n",
              "      fill: #FFFFFF;\n",
              "    }\n",
              "  </style>\n",
              "\n",
              "      <script>\n",
              "        const buttonEl =\n",
              "          document.querySelector('#df-3f7f9a98-9283-4d19-8ce6-fb34076c293a button.colab-df-convert');\n",
              "        buttonEl.style.display =\n",
              "          google.colab.kernel.accessAllowed ? 'block' : 'none';\n",
              "\n",
              "        async function convertToInteractive(key) {\n",
              "          const element = document.querySelector('#df-3f7f9a98-9283-4d19-8ce6-fb34076c293a');\n",
              "          const dataTable =\n",
              "            await google.colab.kernel.invokeFunction('convertToInteractive',\n",
              "                                                     [key], {});\n",
              "          if (!dataTable) return;\n",
              "\n",
              "          const docLinkHtml = 'Like what you see? Visit the ' +\n",
              "            '<a target=\"_blank\" href=https://colab.research.google.com/notebooks/data_table.ipynb>data table notebook</a>'\n",
              "            + ' to learn more about interactive tables.';\n",
              "          element.innerHTML = '';\n",
              "          dataTable['output_type'] = 'display_data';\n",
              "          await google.colab.output.renderOutput(dataTable, element);\n",
              "          const docLink = document.createElement('div');\n",
              "          docLink.innerHTML = docLinkHtml;\n",
              "          element.appendChild(docLink);\n",
              "        }\n",
              "      </script>\n",
              "    </div>\n",
              "  </div>\n",
              "  "
            ]
          },
          "metadata": {},
          "execution_count": 93
        }
      ]
    },
    {
      "cell_type": "code",
      "source": [
        "def text_to_word_list(text):\n",
        "    text = text.split()\n",
        "    return text\n",
        "\n",
        "def replace_strings(text):\n",
        "    emoji_pattern = re.compile(\"[\"\n",
        "                           u\"\\U0001F600-\\U0001F64F\"  # emoticons\n",
        "                           u\"\\U0001F300-\\U0001F5FF\"  # symbols & pictographs\n",
        "                           u\"\\U0001F680-\\U0001F6FF\"  # transport & map symbols\n",
        "                           u\"\\U0001F1E0-\\U0001F1FF\"  # flags (iOS)\n",
        "                           u\"\\U00002702-\\U000027B0\"\n",
        "                           u\"\\U000024C2-\\U0001F251\"\n",
        "                           u\"\\u00C0-\\u017F\"          #latin\n",
        "                           u\"\\u2000-\\u206F\"\n",
        "                           \n",
        "                                     #generalPunctuations\n",
        "                               \n",
        "                           \"]+\", flags=re.UNICODE)\n",
        "    english_pattern=re.compile('[a-zA-Z0-9]+', flags=re.I)\n",
        "    #latin_pattern=re.compile('[A-Za-z\\u00C0-\\u00D6\\u00D8-\\u00f6\\u00f8-\\u00ff\\s]*',)\n",
        "    \n",
        "    text=emoji_pattern.sub(r'', text)\n",
        "    text=english_pattern.sub(r'', text)\n",
        "\n",
        "    return text\n",
        "\n",
        "def remove_punctuations(my_str):\n",
        "    # define punctuation\n",
        "    punctuations = '''```\u0012\u0010\u0002\b`\u0007\b£|¢|\u0007Ñ+-*/=EROero৳০১২৩৪৫৬৭৮৯012–34567•89।!()-[]{};:'\"“\\’,<>./?@#$%^&*_~‘—॥”‰⚽️✌�￰৷￰[!@#$%^&*()_+-={}\\[\\];:\\'\\\"\\|<>,.///?`~।]'''\n",
        "    \n",
        "    no_punct = \"\"\n",
        "    for char in my_str:\n",
        "        if char not in punctuations:\n",
        "            no_punct = no_punct + char\n",
        "\n",
        "    # display the unpunctuated string\n",
        "    return no_punct\n",
        "\n",
        "\n",
        "\n",
        "def joining(text):\n",
        "    out=' '.join(text)\n",
        "    return out\n",
        "\n",
        "def preprocessing(text):\n",
        "    out=remove_punctuations(replace_strings(text))\n",
        "    return out"
      ],
      "metadata": {
        "id": "k58sXtqmD5jj"
      },
      "execution_count": 94,
      "outputs": []
    },
    {
      "cell_type": "code",
      "source": [
        "df.sample(10)"
      ],
      "metadata": {
        "id": "sMlX75goD7Xc",
        "colab": {
          "base_uri": "https://localhost:8080/",
          "height": 363
        },
        "outputId": "20902af4-63ff-4f8a-ccbf-9ea1fd8179f6"
      },
      "execution_count": 95,
      "outputs": [
        {
          "output_type": "execute_result",
          "data": {
            "text/plain": [
              "                                    ID  \\\n",
              "4815   987262581393056_987507764701871   \n",
              "1920   987743164678331_553024668190258   \n",
              "252    939268136171524_939396949491976   \n",
              "5292   987262581393056_987267224725925   \n",
              "931    937053016393036_937905462974458   \n",
              "187    988353044617343_988371367948844   \n",
              "2939  987743164678331_1529628694012316   \n",
              "580   988353044617343_1357550187603805   \n",
              "1719   935156429916028_935197743245230   \n",
              "887    937053016393036_937429313022073   \n",
              "\n",
              "                                                   Text Sentiment  \n",
              "4815  সরকার এর এই দিকে নজর নেই,আমরা নারি দের অধিকার ...       sad  \n",
              "1920  ইমরান এইচ এর সহযোগি থাবা মগাচিপ, অনন্য আজাদ (চ...       sad  \n",
              "252   নিরাপত্তার আড়ালে চুরি , চাকরি থেকে অব্যাহতি দে...       sad  \n",
              "5292                                    ধন্যবাদ প্রসাশন     happy  \n",
              "931   আপনাদের দিয়েই প্রবাসীরা স্বপ্ন দেখে। আলহামদুলি...     happy  \n",
              "187   শফিক রেহমানের বয়স ৮১ বছর তাকে গ্রেফতার করা সরক...     angry  \n",
              "2939  শাহবাগ চত্ত্বরে এই ফাকে আরেকটি সুযোগ নিতে পারে...   disgust  \n",
              "580   জীবনেও সরকারের শুভবুদ্ধি হবে না। আর দেশ এখন সর...     angry  \n",
              "1719  এসব হচ্ছে উদ্দেশ্যমূলক শয়তানী।আপনারা আপনাদের ...   disgust  \n",
              "887   অপরাধের শাস্তির মাত্রার একটা মাপকাঠি থাকে। এটা...       sad  "
            ],
            "text/html": [
              "\n",
              "  <div id=\"df-83954e0c-68d2-4a42-a5b3-379d618b14c9\">\n",
              "    <div class=\"colab-df-container\">\n",
              "      <div>\n",
              "<style scoped>\n",
              "    .dataframe tbody tr th:only-of-type {\n",
              "        vertical-align: middle;\n",
              "    }\n",
              "\n",
              "    .dataframe tbody tr th {\n",
              "        vertical-align: top;\n",
              "    }\n",
              "\n",
              "    .dataframe thead th {\n",
              "        text-align: right;\n",
              "    }\n",
              "</style>\n",
              "<table border=\"1\" class=\"dataframe\">\n",
              "  <thead>\n",
              "    <tr style=\"text-align: right;\">\n",
              "      <th></th>\n",
              "      <th>ID</th>\n",
              "      <th>Text</th>\n",
              "      <th>Sentiment</th>\n",
              "    </tr>\n",
              "  </thead>\n",
              "  <tbody>\n",
              "    <tr>\n",
              "      <th>4815</th>\n",
              "      <td>987262581393056_987507764701871</td>\n",
              "      <td>সরকার এর এই দিকে নজর নেই,আমরা নারি দের অধিকার ...</td>\n",
              "      <td>sad</td>\n",
              "    </tr>\n",
              "    <tr>\n",
              "      <th>1920</th>\n",
              "      <td>987743164678331_553024668190258</td>\n",
              "      <td>ইমরান এইচ এর সহযোগি থাবা মগাচিপ, অনন্য আজাদ (চ...</td>\n",
              "      <td>sad</td>\n",
              "    </tr>\n",
              "    <tr>\n",
              "      <th>252</th>\n",
              "      <td>939268136171524_939396949491976</td>\n",
              "      <td>নিরাপত্তার আড়ালে চুরি , চাকরি থেকে অব্যাহতি দে...</td>\n",
              "      <td>sad</td>\n",
              "    </tr>\n",
              "    <tr>\n",
              "      <th>5292</th>\n",
              "      <td>987262581393056_987267224725925</td>\n",
              "      <td>ধন্যবাদ প্রসাশন</td>\n",
              "      <td>happy</td>\n",
              "    </tr>\n",
              "    <tr>\n",
              "      <th>931</th>\n",
              "      <td>937053016393036_937905462974458</td>\n",
              "      <td>আপনাদের দিয়েই প্রবাসীরা স্বপ্ন দেখে। আলহামদুলি...</td>\n",
              "      <td>happy</td>\n",
              "    </tr>\n",
              "    <tr>\n",
              "      <th>187</th>\n",
              "      <td>988353044617343_988371367948844</td>\n",
              "      <td>শফিক রেহমানের বয়স ৮১ বছর তাকে গ্রেফতার করা সরক...</td>\n",
              "      <td>angry</td>\n",
              "    </tr>\n",
              "    <tr>\n",
              "      <th>2939</th>\n",
              "      <td>987743164678331_1529628694012316</td>\n",
              "      <td>শাহবাগ চত্ত্বরে এই ফাকে আরেকটি সুযোগ নিতে পারে...</td>\n",
              "      <td>disgust</td>\n",
              "    </tr>\n",
              "    <tr>\n",
              "      <th>580</th>\n",
              "      <td>988353044617343_1357550187603805</td>\n",
              "      <td>জীবনেও সরকারের শুভবুদ্ধি হবে না। আর দেশ এখন সর...</td>\n",
              "      <td>angry</td>\n",
              "    </tr>\n",
              "    <tr>\n",
              "      <th>1719</th>\n",
              "      <td>935156429916028_935197743245230</td>\n",
              "      <td>এসব হচ্ছে উদ্দেশ্যমূলক শয়তানী।আপনারা আপনাদের ...</td>\n",
              "      <td>disgust</td>\n",
              "    </tr>\n",
              "    <tr>\n",
              "      <th>887</th>\n",
              "      <td>937053016393036_937429313022073</td>\n",
              "      <td>অপরাধের শাস্তির মাত্রার একটা মাপকাঠি থাকে। এটা...</td>\n",
              "      <td>sad</td>\n",
              "    </tr>\n",
              "  </tbody>\n",
              "</table>\n",
              "</div>\n",
              "      <button class=\"colab-df-convert\" onclick=\"convertToInteractive('df-83954e0c-68d2-4a42-a5b3-379d618b14c9')\"\n",
              "              title=\"Convert this dataframe to an interactive table.\"\n",
              "              style=\"display:none;\">\n",
              "        \n",
              "  <svg xmlns=\"http://www.w3.org/2000/svg\" height=\"24px\"viewBox=\"0 0 24 24\"\n",
              "       width=\"24px\">\n",
              "    <path d=\"M0 0h24v24H0V0z\" fill=\"none\"/>\n",
              "    <path d=\"M18.56 5.44l.94 2.06.94-2.06 2.06-.94-2.06-.94-.94-2.06-.94 2.06-2.06.94zm-11 1L8.5 8.5l.94-2.06 2.06-.94-2.06-.94L8.5 2.5l-.94 2.06-2.06.94zm10 10l.94 2.06.94-2.06 2.06-.94-2.06-.94-.94-2.06-.94 2.06-2.06.94z\"/><path d=\"M17.41 7.96l-1.37-1.37c-.4-.4-.92-.59-1.43-.59-.52 0-1.04.2-1.43.59L10.3 9.45l-7.72 7.72c-.78.78-.78 2.05 0 2.83L4 21.41c.39.39.9.59 1.41.59.51 0 1.02-.2 1.41-.59l7.78-7.78 2.81-2.81c.8-.78.8-2.07 0-2.86zM5.41 20L4 18.59l7.72-7.72 1.47 1.35L5.41 20z\"/>\n",
              "  </svg>\n",
              "      </button>\n",
              "      \n",
              "  <style>\n",
              "    .colab-df-container {\n",
              "      display:flex;\n",
              "      flex-wrap:wrap;\n",
              "      gap: 12px;\n",
              "    }\n",
              "\n",
              "    .colab-df-convert {\n",
              "      background-color: #E8F0FE;\n",
              "      border: none;\n",
              "      border-radius: 50%;\n",
              "      cursor: pointer;\n",
              "      display: none;\n",
              "      fill: #1967D2;\n",
              "      height: 32px;\n",
              "      padding: 0 0 0 0;\n",
              "      width: 32px;\n",
              "    }\n",
              "\n",
              "    .colab-df-convert:hover {\n",
              "      background-color: #E2EBFA;\n",
              "      box-shadow: 0px 1px 2px rgba(60, 64, 67, 0.3), 0px 1px 3px 1px rgba(60, 64, 67, 0.15);\n",
              "      fill: #174EA6;\n",
              "    }\n",
              "\n",
              "    [theme=dark] .colab-df-convert {\n",
              "      background-color: #3B4455;\n",
              "      fill: #D2E3FC;\n",
              "    }\n",
              "\n",
              "    [theme=dark] .colab-df-convert:hover {\n",
              "      background-color: #434B5C;\n",
              "      box-shadow: 0px 1px 3px 1px rgba(0, 0, 0, 0.15);\n",
              "      filter: drop-shadow(0px 1px 2px rgba(0, 0, 0, 0.3));\n",
              "      fill: #FFFFFF;\n",
              "    }\n",
              "  </style>\n",
              "\n",
              "      <script>\n",
              "        const buttonEl =\n",
              "          document.querySelector('#df-83954e0c-68d2-4a42-a5b3-379d618b14c9 button.colab-df-convert');\n",
              "        buttonEl.style.display =\n",
              "          google.colab.kernel.accessAllowed ? 'block' : 'none';\n",
              "\n",
              "        async function convertToInteractive(key) {\n",
              "          const element = document.querySelector('#df-83954e0c-68d2-4a42-a5b3-379d618b14c9');\n",
              "          const dataTable =\n",
              "            await google.colab.kernel.invokeFunction('convertToInteractive',\n",
              "                                                     [key], {});\n",
              "          if (!dataTable) return;\n",
              "\n",
              "          const docLinkHtml = 'Like what you see? Visit the ' +\n",
              "            '<a target=\"_blank\" href=https://colab.research.google.com/notebooks/data_table.ipynb>data table notebook</a>'\n",
              "            + ' to learn more about interactive tables.';\n",
              "          element.innerHTML = '';\n",
              "          dataTable['output_type'] = 'display_data';\n",
              "          await google.colab.output.renderOutput(dataTable, element);\n",
              "          const docLink = document.createElement('div');\n",
              "          docLink.innerHTML = docLinkHtml;\n",
              "          element.appendChild(docLink);\n",
              "        }\n",
              "      </script>\n",
              "    </div>\n",
              "  </div>\n",
              "  "
            ]
          },
          "metadata": {},
          "execution_count": 95
        }
      ]
    },
    {
      "cell_type": "code",
      "source": [
        "df.shape[0]"
      ],
      "metadata": {
        "id": "uQrN11D0D_nj",
        "colab": {
          "base_uri": "https://localhost:8080/"
        },
        "outputId": "53b3ac31-baa1-4eaf-c1fa-e88fe1183596"
      },
      "execution_count": 96,
      "outputs": [
        {
          "output_type": "execute_result",
          "data": {
            "text/plain": [
              "6405"
            ]
          },
          "metadata": {},
          "execution_count": 96
        }
      ]
    },
    {
      "cell_type": "code",
      "source": [
        "\n",
        "print('Original: \\n')\n",
        "print(df.Text[0])\n",
        "df['Text'] = df.Text.apply(lambda x: preprocessing(str(x)))\n",
        "\n",
        "print('After Preprocessing: \\n')\n",
        "print(df.Text[0])"
      ],
      "metadata": {
        "id": "j8TDQXi2EBZ1",
        "colab": {
          "base_uri": "https://localhost:8080/"
        },
        "outputId": "2370cfbc-3c25-4b0e-8727-2eff4cd77306"
      },
      "execution_count": 97,
      "outputs": [
        {
          "output_type": "stream",
          "name": "stdout",
          "text": [
            "Original: \n",
            "\n",
            "0                                আনলাইক ,আনফলো করলাম ।\n",
            "0    বিদেশী এয়ারলাইন্সদের গাত্রদাহ শুরু হয়ে গেছে অল...\n",
            "0    The Desh Bangla 1 hour ago হে মুমিনগণ তোমরা ধৈ...\n",
            "Name: Text, dtype: object\n",
            "After Preprocessing: \n",
            "\n",
            "0                                  আনলাইক আনফলো করলাম \n",
            "0    বিদেশী এয়ারলাইন্সদের গাত্রদাহ শুরু হয়ে গেছে অল...\n",
            "0          হে মুমিনগণ তোমরা ধৈর্য ও নামাজের মাধ্যমে...\n",
            "Name: Text, dtype: object\n"
          ]
        }
      ]
    },
    {
      "cell_type": "code",
      "source": [
        "from sklearn import preprocessing\n",
        " \n",
        "# label_encoder object knows how to understand word labels.\n",
        "label_encoder = preprocessing.LabelEncoder()\n",
        " \n",
        "# Encode labels in column 'species'.\n",
        "df['Label']= label_encoder.fit_transform(df['Sentiment'])\n",
        " \n",
        "df['Label'].unique()\n",
        "df.Label.value_counts(), len(df)"
      ],
      "metadata": {
        "id": "HBwDd3SMECqL",
        "colab": {
          "base_uri": "https://localhost:8080/"
        },
        "outputId": "b5853a3b-cdbb-457c-96d6-2831c964641c"
      },
      "execution_count": 98,
      "outputs": [
        {
          "output_type": "execute_result",
          "data": {
            "text/plain": [
              "(3    1924\n",
              " 0    1427\n",
              " 4    1366\n",
              " 1     704\n",
              " 5     592\n",
              " 2     392\n",
              " Name: Label, dtype: int64, 6405)"
            ]
          },
          "metadata": {},
          "execution_count": 98
        }
      ]
    },
    {
      "cell_type": "code",
      "source": [
        "df.head()"
      ],
      "metadata": {
        "id": "lTuvvIf-EGNS",
        "colab": {
          "base_uri": "https://localhost:8080/",
          "height": 206
        },
        "outputId": "d31cd2e8-f13d-44e2-ca56-b9993813250f"
      },
      "execution_count": 99,
      "outputs": [
        {
          "output_type": "execute_result",
          "data": {
            "text/plain": [
              "                                    ID  \\\n",
              "479    939195189512152_939206382844366   \n",
              "1750   935156429916028_935165096581828   \n",
              "1855  987743164678331_1529633654011820   \n",
              "1382   935324716565866_935576566540681   \n",
              "3388   987743164678331_552808888211836   \n",
              "\n",
              "                                                   Text Sentiment  Label  \n",
              "479   উনারে লাথথায়ে মিরপুর চিড়িয়াখানার প্রধান সিকিউর...     angry      0  \n",
              "1750                কই এখন আপনি লেকচার থেমে গেল কেন ভাই     angry      0  \n",
              "1855                                       সুন্দর জোক্স     happy      3  \n",
              "1382  বেশির ভাগ ক্ষেত্রে যাত্রী গন কম ভুল করে আর বেশ...       sad      4  \n",
              "3388  বাংলাদেশের হিন্দু মুসলিম সবাই ভাই ভাই যে অন্যন...       sad      4  "
            ],
            "text/html": [
              "\n",
              "  <div id=\"df-55fff2ff-9fd2-4587-9b6e-6d39b61344a2\">\n",
              "    <div class=\"colab-df-container\">\n",
              "      <div>\n",
              "<style scoped>\n",
              "    .dataframe tbody tr th:only-of-type {\n",
              "        vertical-align: middle;\n",
              "    }\n",
              "\n",
              "    .dataframe tbody tr th {\n",
              "        vertical-align: top;\n",
              "    }\n",
              "\n",
              "    .dataframe thead th {\n",
              "        text-align: right;\n",
              "    }\n",
              "</style>\n",
              "<table border=\"1\" class=\"dataframe\">\n",
              "  <thead>\n",
              "    <tr style=\"text-align: right;\">\n",
              "      <th></th>\n",
              "      <th>ID</th>\n",
              "      <th>Text</th>\n",
              "      <th>Sentiment</th>\n",
              "      <th>Label</th>\n",
              "    </tr>\n",
              "  </thead>\n",
              "  <tbody>\n",
              "    <tr>\n",
              "      <th>479</th>\n",
              "      <td>939195189512152_939206382844366</td>\n",
              "      <td>উনারে লাথথায়ে মিরপুর চিড়িয়াখানার প্রধান সিকিউর...</td>\n",
              "      <td>angry</td>\n",
              "      <td>0</td>\n",
              "    </tr>\n",
              "    <tr>\n",
              "      <th>1750</th>\n",
              "      <td>935156429916028_935165096581828</td>\n",
              "      <td>কই এখন আপনি লেকচার থেমে গেল কেন ভাই</td>\n",
              "      <td>angry</td>\n",
              "      <td>0</td>\n",
              "    </tr>\n",
              "    <tr>\n",
              "      <th>1855</th>\n",
              "      <td>987743164678331_1529633654011820</td>\n",
              "      <td>সুন্দর জোক্স</td>\n",
              "      <td>happy</td>\n",
              "      <td>3</td>\n",
              "    </tr>\n",
              "    <tr>\n",
              "      <th>1382</th>\n",
              "      <td>935324716565866_935576566540681</td>\n",
              "      <td>বেশির ভাগ ক্ষেত্রে যাত্রী গন কম ভুল করে আর বেশ...</td>\n",
              "      <td>sad</td>\n",
              "      <td>4</td>\n",
              "    </tr>\n",
              "    <tr>\n",
              "      <th>3388</th>\n",
              "      <td>987743164678331_552808888211836</td>\n",
              "      <td>বাংলাদেশের হিন্দু মুসলিম সবাই ভাই ভাই যে অন্যন...</td>\n",
              "      <td>sad</td>\n",
              "      <td>4</td>\n",
              "    </tr>\n",
              "  </tbody>\n",
              "</table>\n",
              "</div>\n",
              "      <button class=\"colab-df-convert\" onclick=\"convertToInteractive('df-55fff2ff-9fd2-4587-9b6e-6d39b61344a2')\"\n",
              "              title=\"Convert this dataframe to an interactive table.\"\n",
              "              style=\"display:none;\">\n",
              "        \n",
              "  <svg xmlns=\"http://www.w3.org/2000/svg\" height=\"24px\"viewBox=\"0 0 24 24\"\n",
              "       width=\"24px\">\n",
              "    <path d=\"M0 0h24v24H0V0z\" fill=\"none\"/>\n",
              "    <path d=\"M18.56 5.44l.94 2.06.94-2.06 2.06-.94-2.06-.94-.94-2.06-.94 2.06-2.06.94zm-11 1L8.5 8.5l.94-2.06 2.06-.94-2.06-.94L8.5 2.5l-.94 2.06-2.06.94zm10 10l.94 2.06.94-2.06 2.06-.94-2.06-.94-.94-2.06-.94 2.06-2.06.94z\"/><path d=\"M17.41 7.96l-1.37-1.37c-.4-.4-.92-.59-1.43-.59-.52 0-1.04.2-1.43.59L10.3 9.45l-7.72 7.72c-.78.78-.78 2.05 0 2.83L4 21.41c.39.39.9.59 1.41.59.51 0 1.02-.2 1.41-.59l7.78-7.78 2.81-2.81c.8-.78.8-2.07 0-2.86zM5.41 20L4 18.59l7.72-7.72 1.47 1.35L5.41 20z\"/>\n",
              "  </svg>\n",
              "      </button>\n",
              "      \n",
              "  <style>\n",
              "    .colab-df-container {\n",
              "      display:flex;\n",
              "      flex-wrap:wrap;\n",
              "      gap: 12px;\n",
              "    }\n",
              "\n",
              "    .colab-df-convert {\n",
              "      background-color: #E8F0FE;\n",
              "      border: none;\n",
              "      border-radius: 50%;\n",
              "      cursor: pointer;\n",
              "      display: none;\n",
              "      fill: #1967D2;\n",
              "      height: 32px;\n",
              "      padding: 0 0 0 0;\n",
              "      width: 32px;\n",
              "    }\n",
              "\n",
              "    .colab-df-convert:hover {\n",
              "      background-color: #E2EBFA;\n",
              "      box-shadow: 0px 1px 2px rgba(60, 64, 67, 0.3), 0px 1px 3px 1px rgba(60, 64, 67, 0.15);\n",
              "      fill: #174EA6;\n",
              "    }\n",
              "\n",
              "    [theme=dark] .colab-df-convert {\n",
              "      background-color: #3B4455;\n",
              "      fill: #D2E3FC;\n",
              "    }\n",
              "\n",
              "    [theme=dark] .colab-df-convert:hover {\n",
              "      background-color: #434B5C;\n",
              "      box-shadow: 0px 1px 3px 1px rgba(0, 0, 0, 0.15);\n",
              "      filter: drop-shadow(0px 1px 2px rgba(0, 0, 0, 0.3));\n",
              "      fill: #FFFFFF;\n",
              "    }\n",
              "  </style>\n",
              "\n",
              "      <script>\n",
              "        const buttonEl =\n",
              "          document.querySelector('#df-55fff2ff-9fd2-4587-9b6e-6d39b61344a2 button.colab-df-convert');\n",
              "        buttonEl.style.display =\n",
              "          google.colab.kernel.accessAllowed ? 'block' : 'none';\n",
              "\n",
              "        async function convertToInteractive(key) {\n",
              "          const element = document.querySelector('#df-55fff2ff-9fd2-4587-9b6e-6d39b61344a2');\n",
              "          const dataTable =\n",
              "            await google.colab.kernel.invokeFunction('convertToInteractive',\n",
              "                                                     [key], {});\n",
              "          if (!dataTable) return;\n",
              "\n",
              "          const docLinkHtml = 'Like what you see? Visit the ' +\n",
              "            '<a target=\"_blank\" href=https://colab.research.google.com/notebooks/data_table.ipynb>data table notebook</a>'\n",
              "            + ' to learn more about interactive tables.';\n",
              "          element.innerHTML = '';\n",
              "          dataTable['output_type'] = 'display_data';\n",
              "          await google.colab.output.renderOutput(dataTable, element);\n",
              "          const docLink = document.createElement('div');\n",
              "          docLink.innerHTML = docLinkHtml;\n",
              "          element.appendChild(docLink);\n",
              "        }\n",
              "      </script>\n",
              "    </div>\n",
              "  </div>\n",
              "  "
            ]
          },
          "metadata": {},
          "execution_count": 99
        }
      ]
    },
    {
      "cell_type": "code",
      "source": [
        "from transformers import BertForMaskedLM, BertTokenizer, pipeline\n",
        "\n",
        "model = BertForMaskedLM.from_pretrained(\"sagorsarker/bangla-bert-base\")\n",
        "tokenizer = BertTokenizer.from_pretrained(\"sagorsarker/bangla-bert-base\")\n",
        "nlp = pipeline('fill-mask', model=model, tokenizer=tokenizer)"
      ],
      "metadata": {
        "id": "xnWNHy1yEUe2",
        "colab": {
          "base_uri": "https://localhost:8080/"
        },
        "outputId": "14e721c3-26ba-433c-94e7-fd12209b1d13"
      },
      "execution_count": 100,
      "outputs": [
        {
          "output_type": "stream",
          "name": "stderr",
          "text": [
            "Some weights of the model checkpoint at sagorsarker/bangla-bert-base were not used when initializing BertForMaskedLM: ['cls.seq_relationship.bias', 'cls.seq_relationship.weight']\n",
            "- This IS expected if you are initializing BertForMaskedLM from the checkpoint of a model trained on another task or with another architecture (e.g. initializing a BertForSequenceClassification model from a BertForPreTraining model).\n",
            "- This IS NOT expected if you are initializing BertForMaskedLM from the checkpoint of a model that you expect to be exactly identical (initializing a BertForSequenceClassification model from a BertForSequenceClassification model).\n"
          ]
        }
      ]
    },
    {
      "cell_type": "code",
      "source": [
        "count=0"
      ],
      "metadata": {
        "id": "HOxVbTyCEjSb"
      },
      "execution_count": 101,
      "outputs": []
    },
    {
      "cell_type": "code",
      "source": [
        "with open(\"bangla_vocabulary.txt\", 'w') as f:\n",
        "    \n",
        "    # For each token...\n",
        "    for token in tokenizer.vocab.keys():\n",
        "        f.write(str(count))\n",
        "        # Write it out and escape any unicode characters.          \n",
        "        f.write(token + '\\n')\n",
        "        count=count+1"
      ],
      "metadata": {
        "id": "1GX-ValpAEpN"
      },
      "execution_count": 102,
      "outputs": []
    },
    {
      "cell_type": "code",
      "source": [
        "print(count)"
      ],
      "metadata": {
        "colab": {
          "base_uri": "https://localhost:8080/"
        },
        "id": "HRjswvDR4vK0",
        "outputId": "43ab154c-3148-4926-f624-3dc0d6a70957"
      },
      "execution_count": 103,
      "outputs": [
        {
          "output_type": "stream",
          "name": "stdout",
          "text": [
            "101975\n"
          ]
        }
      ]
    },
    {
      "cell_type": "code",
      "source": [
        "sentences = df['Text']\n",
        "labels = df['Label']"
      ],
      "metadata": {
        "id": "GCP3NNL0EqA0"
      },
      "execution_count": 104,
      "outputs": []
    },
    {
      "cell_type": "code",
      "source": [
        "# Tokenize all of the sentences and map the tokens to thier word IDs.\n",
        "tokens = []\n",
        "\n",
        "# For every sentence...\n",
        "for sent in sentences:\n",
        "    encoded_sent = tokenizer.tokenize(sent)\n",
        "    tokens.append(encoded_sent)\n",
        "\n",
        "df['Token']=tokens"
      ],
      "metadata": {
        "id": "bN7rfUL1Aykr"
      },
      "execution_count": 105,
      "outputs": []
    },
    {
      "cell_type": "code",
      "source": [
        "df.head()"
      ],
      "metadata": {
        "colab": {
          "base_uri": "https://localhost:8080/",
          "height": 206
        },
        "id": "hf2ZxID7EqPK",
        "outputId": "7838a501-def3-469e-9a85-503392a7c403"
      },
      "execution_count": 106,
      "outputs": [
        {
          "output_type": "execute_result",
          "data": {
            "text/plain": [
              "                                    ID  \\\n",
              "479    939195189512152_939206382844366   \n",
              "1750   935156429916028_935165096581828   \n",
              "1855  987743164678331_1529633654011820   \n",
              "1382   935324716565866_935576566540681   \n",
              "3388   987743164678331_552808888211836   \n",
              "\n",
              "                                                   Text Sentiment  Label  \\\n",
              "479   উনারে লাথথায়ে মিরপুর চিড়িয়াখানার প্রধান সিকিউর...     angry      0   \n",
              "1750                কই এখন আপনি লেকচার থেমে গেল কেন ভাই     angry      0   \n",
              "1855                                       সুন্দর জোক্স     happy      3   \n",
              "1382  বেশির ভাগ ক্ষেত্রে যাত্রী গন কম ভুল করে আর বেশ...       sad      4   \n",
              "3388  বাংলাদেশের হিন্দু মুসলিম সবাই ভাই ভাই যে অন্যন...       sad      4   \n",
              "\n",
              "                                                  Token  \n",
              "479   [উনার, ##ে, লা, ##থ, ##থা, ##যে, মির, ##পর, চি...  \n",
              "1750       [কই, এখন, আপনি, লেকচার, থেমে, গেল, কেন, ভাই]  \n",
              "1855                          [সনদ, ##র, জে, ##াক, ##স]  \n",
              "1382  [বেশির, ভাগ, কষে, ##তর, ##ে, যা, ##তরী, গন, কম...  \n",
              "3388  [বাংলাদেশের, হিন, ##দ, মস, ##লিম, সবাই, ভাই, ভ...  "
            ],
            "text/html": [
              "\n",
              "  <div id=\"df-371a1e3c-c0df-4afc-93a4-3b553f620430\">\n",
              "    <div class=\"colab-df-container\">\n",
              "      <div>\n",
              "<style scoped>\n",
              "    .dataframe tbody tr th:only-of-type {\n",
              "        vertical-align: middle;\n",
              "    }\n",
              "\n",
              "    .dataframe tbody tr th {\n",
              "        vertical-align: top;\n",
              "    }\n",
              "\n",
              "    .dataframe thead th {\n",
              "        text-align: right;\n",
              "    }\n",
              "</style>\n",
              "<table border=\"1\" class=\"dataframe\">\n",
              "  <thead>\n",
              "    <tr style=\"text-align: right;\">\n",
              "      <th></th>\n",
              "      <th>ID</th>\n",
              "      <th>Text</th>\n",
              "      <th>Sentiment</th>\n",
              "      <th>Label</th>\n",
              "      <th>Token</th>\n",
              "    </tr>\n",
              "  </thead>\n",
              "  <tbody>\n",
              "    <tr>\n",
              "      <th>479</th>\n",
              "      <td>939195189512152_939206382844366</td>\n",
              "      <td>উনারে লাথথায়ে মিরপুর চিড়িয়াখানার প্রধান সিকিউর...</td>\n",
              "      <td>angry</td>\n",
              "      <td>0</td>\n",
              "      <td>[উনার, ##ে, লা, ##থ, ##থা, ##যে, মির, ##পর, চি...</td>\n",
              "    </tr>\n",
              "    <tr>\n",
              "      <th>1750</th>\n",
              "      <td>935156429916028_935165096581828</td>\n",
              "      <td>কই এখন আপনি লেকচার থেমে গেল কেন ভাই</td>\n",
              "      <td>angry</td>\n",
              "      <td>0</td>\n",
              "      <td>[কই, এখন, আপনি, লেকচার, থেমে, গেল, কেন, ভাই]</td>\n",
              "    </tr>\n",
              "    <tr>\n",
              "      <th>1855</th>\n",
              "      <td>987743164678331_1529633654011820</td>\n",
              "      <td>সুন্দর জোক্স</td>\n",
              "      <td>happy</td>\n",
              "      <td>3</td>\n",
              "      <td>[সনদ, ##র, জে, ##াক, ##স]</td>\n",
              "    </tr>\n",
              "    <tr>\n",
              "      <th>1382</th>\n",
              "      <td>935324716565866_935576566540681</td>\n",
              "      <td>বেশির ভাগ ক্ষেত্রে যাত্রী গন কম ভুল করে আর বেশ...</td>\n",
              "      <td>sad</td>\n",
              "      <td>4</td>\n",
              "      <td>[বেশির, ভাগ, কষে, ##তর, ##ে, যা, ##তরী, গন, কম...</td>\n",
              "    </tr>\n",
              "    <tr>\n",
              "      <th>3388</th>\n",
              "      <td>987743164678331_552808888211836</td>\n",
              "      <td>বাংলাদেশের হিন্দু মুসলিম সবাই ভাই ভাই যে অন্যন...</td>\n",
              "      <td>sad</td>\n",
              "      <td>4</td>\n",
              "      <td>[বাংলাদেশের, হিন, ##দ, মস, ##লিম, সবাই, ভাই, ভ...</td>\n",
              "    </tr>\n",
              "  </tbody>\n",
              "</table>\n",
              "</div>\n",
              "      <button class=\"colab-df-convert\" onclick=\"convertToInteractive('df-371a1e3c-c0df-4afc-93a4-3b553f620430')\"\n",
              "              title=\"Convert this dataframe to an interactive table.\"\n",
              "              style=\"display:none;\">\n",
              "        \n",
              "  <svg xmlns=\"http://www.w3.org/2000/svg\" height=\"24px\"viewBox=\"0 0 24 24\"\n",
              "       width=\"24px\">\n",
              "    <path d=\"M0 0h24v24H0V0z\" fill=\"none\"/>\n",
              "    <path d=\"M18.56 5.44l.94 2.06.94-2.06 2.06-.94-2.06-.94-.94-2.06-.94 2.06-2.06.94zm-11 1L8.5 8.5l.94-2.06 2.06-.94-2.06-.94L8.5 2.5l-.94 2.06-2.06.94zm10 10l.94 2.06.94-2.06 2.06-.94-2.06-.94-.94-2.06-.94 2.06-2.06.94z\"/><path d=\"M17.41 7.96l-1.37-1.37c-.4-.4-.92-.59-1.43-.59-.52 0-1.04.2-1.43.59L10.3 9.45l-7.72 7.72c-.78.78-.78 2.05 0 2.83L4 21.41c.39.39.9.59 1.41.59.51 0 1.02-.2 1.41-.59l7.78-7.78 2.81-2.81c.8-.78.8-2.07 0-2.86zM5.41 20L4 18.59l7.72-7.72 1.47 1.35L5.41 20z\"/>\n",
              "  </svg>\n",
              "      </button>\n",
              "      \n",
              "  <style>\n",
              "    .colab-df-container {\n",
              "      display:flex;\n",
              "      flex-wrap:wrap;\n",
              "      gap: 12px;\n",
              "    }\n",
              "\n",
              "    .colab-df-convert {\n",
              "      background-color: #E8F0FE;\n",
              "      border: none;\n",
              "      border-radius: 50%;\n",
              "      cursor: pointer;\n",
              "      display: none;\n",
              "      fill: #1967D2;\n",
              "      height: 32px;\n",
              "      padding: 0 0 0 0;\n",
              "      width: 32px;\n",
              "    }\n",
              "\n",
              "    .colab-df-convert:hover {\n",
              "      background-color: #E2EBFA;\n",
              "      box-shadow: 0px 1px 2px rgba(60, 64, 67, 0.3), 0px 1px 3px 1px rgba(60, 64, 67, 0.15);\n",
              "      fill: #174EA6;\n",
              "    }\n",
              "\n",
              "    [theme=dark] .colab-df-convert {\n",
              "      background-color: #3B4455;\n",
              "      fill: #D2E3FC;\n",
              "    }\n",
              "\n",
              "    [theme=dark] .colab-df-convert:hover {\n",
              "      background-color: #434B5C;\n",
              "      box-shadow: 0px 1px 3px 1px rgba(0, 0, 0, 0.15);\n",
              "      filter: drop-shadow(0px 1px 2px rgba(0, 0, 0, 0.3));\n",
              "      fill: #FFFFFF;\n",
              "    }\n",
              "  </style>\n",
              "\n",
              "      <script>\n",
              "        const buttonEl =\n",
              "          document.querySelector('#df-371a1e3c-c0df-4afc-93a4-3b553f620430 button.colab-df-convert');\n",
              "        buttonEl.style.display =\n",
              "          google.colab.kernel.accessAllowed ? 'block' : 'none';\n",
              "\n",
              "        async function convertToInteractive(key) {\n",
              "          const element = document.querySelector('#df-371a1e3c-c0df-4afc-93a4-3b553f620430');\n",
              "          const dataTable =\n",
              "            await google.colab.kernel.invokeFunction('convertToInteractive',\n",
              "                                                     [key], {});\n",
              "          if (!dataTable) return;\n",
              "\n",
              "          const docLinkHtml = 'Like what you see? Visit the ' +\n",
              "            '<a target=\"_blank\" href=https://colab.research.google.com/notebooks/data_table.ipynb>data table notebook</a>'\n",
              "            + ' to learn more about interactive tables.';\n",
              "          element.innerHTML = '';\n",
              "          dataTable['output_type'] = 'display_data';\n",
              "          await google.colab.output.renderOutput(dataTable, element);\n",
              "          const docLink = document.createElement('div');\n",
              "          docLink.innerHTML = docLinkHtml;\n",
              "          element.appendChild(docLink);\n",
              "        }\n",
              "      </script>\n",
              "    </div>\n",
              "  </div>\n",
              "  "
            ]
          },
          "metadata": {},
          "execution_count": 106
        }
      ]
    },
    {
      "cell_type": "code",
      "source": [
        "input_ids = []\n",
        "for sent in sentences:\n",
        "  encoded_sent = tokenizer.encode(\n",
        "                        sent,                      \n",
        "                        add_special_tokens = False \n",
        "                        )\n",
        "  input_ids.append(encoded_sent)\n",
        "\n",
        "df['Token_ID']=input_ids"
      ],
      "metadata": {
        "id": "suQV0K1rErog"
      },
      "execution_count": 107,
      "outputs": []
    },
    {
      "cell_type": "code",
      "source": [
        "df.head()"
      ],
      "metadata": {
        "colab": {
          "base_uri": "https://localhost:8080/",
          "height": 320
        },
        "id": "PDTwP-L5FgEh",
        "outputId": "30ae4814-eedd-4fa9-c856-f1ae3d998892"
      },
      "execution_count": 108,
      "outputs": [
        {
          "output_type": "execute_result",
          "data": {
            "text/plain": [
              "                                    ID  \\\n",
              "479    939195189512152_939206382844366   \n",
              "1750   935156429916028_935165096581828   \n",
              "1855  987743164678331_1529633654011820   \n",
              "1382   935324716565866_935576566540681   \n",
              "3388   987743164678331_552808888211836   \n",
              "\n",
              "                                                   Text Sentiment  Label  \\\n",
              "479   উনারে লাথথায়ে মিরপুর চিড়িয়াখানার প্রধান সিকিউর...     angry      0   \n",
              "1750                কই এখন আপনি লেকচার থেমে গেল কেন ভাই     angry      0   \n",
              "1855                                       সুন্দর জোক্স     happy      3   \n",
              "1382  বেশির ভাগ ক্ষেত্রে যাত্রী গন কম ভুল করে আর বেশ...       sad      4   \n",
              "3388  বাংলাদেশের হিন্দু মুসলিম সবাই ভাই ভাই যে অন্যন...       sad      4   \n",
              "\n",
              "                                                  Token  \\\n",
              "479   [উনার, ##ে, লা, ##থ, ##থা, ##যে, মির, ##পর, চি...   \n",
              "1750       [কই, এখন, আপনি, লেকচার, থেমে, গেল, কেন, ভাই]   \n",
              "1855                          [সনদ, ##র, জে, ##াক, ##স]   \n",
              "1382  [বেশির, ভাগ, কষে, ##তর, ##ে, যা, ##তরী, গন, কম...   \n",
              "3388  [বাংলাদেশের, হিন, ##দ, মস, ##লিম, সবাই, ভাই, ভ...   \n",
              "\n",
              "                                               Token_ID  \n",
              "479   [36081, 2094, 3853, 7740, 12969, 8844, 15638, ...  \n",
              "1750  [6852, 2112, 2536, 22174, 3214, 2590, 2304, 2570]  \n",
              "1855                    [5391, 2046, 4803, 15547, 2388]  \n",
              "1382  [3217, 2516, 19675, 12499, 2094, 2120, 42396, ...  \n",
              "3388  [2119, 50082, 5718, 23143, 33783, 2553, 2570, ...  "
            ],
            "text/html": [
              "\n",
              "  <div id=\"df-be1063f4-c34b-4f02-a533-f3ac2baef49d\">\n",
              "    <div class=\"colab-df-container\">\n",
              "      <div>\n",
              "<style scoped>\n",
              "    .dataframe tbody tr th:only-of-type {\n",
              "        vertical-align: middle;\n",
              "    }\n",
              "\n",
              "    .dataframe tbody tr th {\n",
              "        vertical-align: top;\n",
              "    }\n",
              "\n",
              "    .dataframe thead th {\n",
              "        text-align: right;\n",
              "    }\n",
              "</style>\n",
              "<table border=\"1\" class=\"dataframe\">\n",
              "  <thead>\n",
              "    <tr style=\"text-align: right;\">\n",
              "      <th></th>\n",
              "      <th>ID</th>\n",
              "      <th>Text</th>\n",
              "      <th>Sentiment</th>\n",
              "      <th>Label</th>\n",
              "      <th>Token</th>\n",
              "      <th>Token_ID</th>\n",
              "    </tr>\n",
              "  </thead>\n",
              "  <tbody>\n",
              "    <tr>\n",
              "      <th>479</th>\n",
              "      <td>939195189512152_939206382844366</td>\n",
              "      <td>উনারে লাথথায়ে মিরপুর চিড়িয়াখানার প্রধান সিকিউর...</td>\n",
              "      <td>angry</td>\n",
              "      <td>0</td>\n",
              "      <td>[উনার, ##ে, লা, ##থ, ##থা, ##যে, মির, ##পর, চি...</td>\n",
              "      <td>[36081, 2094, 3853, 7740, 12969, 8844, 15638, ...</td>\n",
              "    </tr>\n",
              "    <tr>\n",
              "      <th>1750</th>\n",
              "      <td>935156429916028_935165096581828</td>\n",
              "      <td>কই এখন আপনি লেকচার থেমে গেল কেন ভাই</td>\n",
              "      <td>angry</td>\n",
              "      <td>0</td>\n",
              "      <td>[কই, এখন, আপনি, লেকচার, থেমে, গেল, কেন, ভাই]</td>\n",
              "      <td>[6852, 2112, 2536, 22174, 3214, 2590, 2304, 2570]</td>\n",
              "    </tr>\n",
              "    <tr>\n",
              "      <th>1855</th>\n",
              "      <td>987743164678331_1529633654011820</td>\n",
              "      <td>সুন্দর জোক্স</td>\n",
              "      <td>happy</td>\n",
              "      <td>3</td>\n",
              "      <td>[সনদ, ##র, জে, ##াক, ##স]</td>\n",
              "      <td>[5391, 2046, 4803, 15547, 2388]</td>\n",
              "    </tr>\n",
              "    <tr>\n",
              "      <th>1382</th>\n",
              "      <td>935324716565866_935576566540681</td>\n",
              "      <td>বেশির ভাগ ক্ষেত্রে যাত্রী গন কম ভুল করে আর বেশ...</td>\n",
              "      <td>sad</td>\n",
              "      <td>4</td>\n",
              "      <td>[বেশির, ভাগ, কষে, ##তর, ##ে, যা, ##তরী, গন, কম...</td>\n",
              "      <td>[3217, 2516, 19675, 12499, 2094, 2120, 42396, ...</td>\n",
              "    </tr>\n",
              "    <tr>\n",
              "      <th>3388</th>\n",
              "      <td>987743164678331_552808888211836</td>\n",
              "      <td>বাংলাদেশের হিন্দু মুসলিম সবাই ভাই ভাই যে অন্যন...</td>\n",
              "      <td>sad</td>\n",
              "      <td>4</td>\n",
              "      <td>[বাংলাদেশের, হিন, ##দ, মস, ##লিম, সবাই, ভাই, ভ...</td>\n",
              "      <td>[2119, 50082, 5718, 23143, 33783, 2553, 2570, ...</td>\n",
              "    </tr>\n",
              "  </tbody>\n",
              "</table>\n",
              "</div>\n",
              "      <button class=\"colab-df-convert\" onclick=\"convertToInteractive('df-be1063f4-c34b-4f02-a533-f3ac2baef49d')\"\n",
              "              title=\"Convert this dataframe to an interactive table.\"\n",
              "              style=\"display:none;\">\n",
              "        \n",
              "  <svg xmlns=\"http://www.w3.org/2000/svg\" height=\"24px\"viewBox=\"0 0 24 24\"\n",
              "       width=\"24px\">\n",
              "    <path d=\"M0 0h24v24H0V0z\" fill=\"none\"/>\n",
              "    <path d=\"M18.56 5.44l.94 2.06.94-2.06 2.06-.94-2.06-.94-.94-2.06-.94 2.06-2.06.94zm-11 1L8.5 8.5l.94-2.06 2.06-.94-2.06-.94L8.5 2.5l-.94 2.06-2.06.94zm10 10l.94 2.06.94-2.06 2.06-.94-2.06-.94-.94-2.06-.94 2.06-2.06.94z\"/><path d=\"M17.41 7.96l-1.37-1.37c-.4-.4-.92-.59-1.43-.59-.52 0-1.04.2-1.43.59L10.3 9.45l-7.72 7.72c-.78.78-.78 2.05 0 2.83L4 21.41c.39.39.9.59 1.41.59.51 0 1.02-.2 1.41-.59l7.78-7.78 2.81-2.81c.8-.78.8-2.07 0-2.86zM5.41 20L4 18.59l7.72-7.72 1.47 1.35L5.41 20z\"/>\n",
              "  </svg>\n",
              "      </button>\n",
              "      \n",
              "  <style>\n",
              "    .colab-df-container {\n",
              "      display:flex;\n",
              "      flex-wrap:wrap;\n",
              "      gap: 12px;\n",
              "    }\n",
              "\n",
              "    .colab-df-convert {\n",
              "      background-color: #E8F0FE;\n",
              "      border: none;\n",
              "      border-radius: 50%;\n",
              "      cursor: pointer;\n",
              "      display: none;\n",
              "      fill: #1967D2;\n",
              "      height: 32px;\n",
              "      padding: 0 0 0 0;\n",
              "      width: 32px;\n",
              "    }\n",
              "\n",
              "    .colab-df-convert:hover {\n",
              "      background-color: #E2EBFA;\n",
              "      box-shadow: 0px 1px 2px rgba(60, 64, 67, 0.3), 0px 1px 3px 1px rgba(60, 64, 67, 0.15);\n",
              "      fill: #174EA6;\n",
              "    }\n",
              "\n",
              "    [theme=dark] .colab-df-convert {\n",
              "      background-color: #3B4455;\n",
              "      fill: #D2E3FC;\n",
              "    }\n",
              "\n",
              "    [theme=dark] .colab-df-convert:hover {\n",
              "      background-color: #434B5C;\n",
              "      box-shadow: 0px 1px 3px 1px rgba(0, 0, 0, 0.15);\n",
              "      filter: drop-shadow(0px 1px 2px rgba(0, 0, 0, 0.3));\n",
              "      fill: #FFFFFF;\n",
              "    }\n",
              "  </style>\n",
              "\n",
              "      <script>\n",
              "        const buttonEl =\n",
              "          document.querySelector('#df-be1063f4-c34b-4f02-a533-f3ac2baef49d button.colab-df-convert');\n",
              "        buttonEl.style.display =\n",
              "          google.colab.kernel.accessAllowed ? 'block' : 'none';\n",
              "\n",
              "        async function convertToInteractive(key) {\n",
              "          const element = document.querySelector('#df-be1063f4-c34b-4f02-a533-f3ac2baef49d');\n",
              "          const dataTable =\n",
              "            await google.colab.kernel.invokeFunction('convertToInteractive',\n",
              "                                                     [key], {});\n",
              "          if (!dataTable) return;\n",
              "\n",
              "          const docLinkHtml = 'Like what you see? Visit the ' +\n",
              "            '<a target=\"_blank\" href=https://colab.research.google.com/notebooks/data_table.ipynb>data table notebook</a>'\n",
              "            + ' to learn more about interactive tables.';\n",
              "          element.innerHTML = '';\n",
              "          dataTable['output_type'] = 'display_data';\n",
              "          await google.colab.output.renderOutput(dataTable, element);\n",
              "          const docLink = document.createElement('div');\n",
              "          docLink.innerHTML = docLinkHtml;\n",
              "          element.appendChild(docLink);\n",
              "        }\n",
              "      </script>\n",
              "    </div>\n",
              "  </div>\n",
              "  "
            ]
          },
          "metadata": {},
          "execution_count": 108
        }
      ]
    },
    {
      "cell_type": "code",
      "source": [
        "df.shape"
      ],
      "metadata": {
        "colab": {
          "base_uri": "https://localhost:8080/"
        },
        "id": "hpWPNb2ZFiKp",
        "outputId": "db438b8c-20f2-404a-ffd4-299885860abd"
      },
      "execution_count": 109,
      "outputs": [
        {
          "output_type": "execute_result",
          "data": {
            "text/plain": [
              "(6405, 6)"
            ]
          },
          "metadata": {},
          "execution_count": 109
        }
      ]
    },
    {
      "cell_type": "code",
      "source": [
        "df.to_excel('Bert_Preprocessed_Dataset.xlsx')"
      ],
      "metadata": {
        "id": "h1dL7pxfF-5g"
      },
      "execution_count": 111,
      "outputs": []
    }
  ]
}