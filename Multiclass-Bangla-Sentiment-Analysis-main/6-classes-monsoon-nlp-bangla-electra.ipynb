{
 "cells": [
  {
   "cell_type": "code",
   "execution_count": 1,
   "id": "4274c5d3",
   "metadata": {
    "_cell_guid": "b1076dfc-b9ad-4769-8c92-a6c4dae69d19",
    "_uuid": "8f2839f25d086af736a60e9eeb907d3b93b6e0e5",
    "execution": {
     "iopub.execute_input": "2022-04-18T17:33:44.621243Z",
     "iopub.status.busy": "2022-04-18T17:33:44.620917Z",
     "iopub.status.idle": "2022-04-18T17:33:54.616702Z",
     "shell.execute_reply": "2022-04-18T17:33:54.615913Z"
    },
    "papermill": {
     "duration": 10.018386,
     "end_time": "2022-04-18T17:33:54.619170",
     "exception": false,
     "start_time": "2022-04-18T17:33:44.600784",
     "status": "completed"
    },
    "tags": []
   },
   "outputs": [
    {
     "name": "stdout",
     "output_type": "stream",
     "text": [
      "Requirement already satisfied: transformers in /opt/conda/lib/python3.7/site-packages (4.17.0)\r\n",
      "Requirement already satisfied: filelock in /opt/conda/lib/python3.7/site-packages (from transformers) (3.6.0)\r\n",
      "Requirement already satisfied: importlib-metadata in /opt/conda/lib/python3.7/site-packages (from transformers) (4.11.3)\r\n",
      "Requirement already satisfied: tqdm>=4.27 in /opt/conda/lib/python3.7/site-packages (from transformers) (4.63.0)\r\n",
      "Requirement already satisfied: packaging>=20.0 in /opt/conda/lib/python3.7/site-packages (from transformers) (21.3)\r\n",
      "Requirement already satisfied: pyyaml>=5.1 in /opt/conda/lib/python3.7/site-packages (from transformers) (6.0)\r\n",
      "Requirement already satisfied: regex!=2019.12.17 in /opt/conda/lib/python3.7/site-packages (from transformers) (2021.11.10)\r\n",
      "Requirement already satisfied: huggingface-hub<1.0,>=0.1.0 in /opt/conda/lib/python3.7/site-packages (from transformers) (0.5.1)\r\n",
      "Requirement already satisfied: tokenizers!=0.11.3,>=0.11.1 in /opt/conda/lib/python3.7/site-packages (from transformers) (0.11.6)\r\n",
      "Requirement already satisfied: sacremoses in /opt/conda/lib/python3.7/site-packages (from transformers) (0.0.49)\r\n",
      "Requirement already satisfied: numpy>=1.17 in /opt/conda/lib/python3.7/site-packages (from transformers) (1.21.5)\r\n",
      "Requirement already satisfied: requests in /opt/conda/lib/python3.7/site-packages (from transformers) (2.27.1)\r\n",
      "Requirement already satisfied: typing-extensions>=3.7.4.3 in /opt/conda/lib/python3.7/site-packages (from huggingface-hub<1.0,>=0.1.0->transformers) (4.1.1)\r\n",
      "Requirement already satisfied: pyparsing!=3.0.5,>=2.0.2 in /opt/conda/lib/python3.7/site-packages (from packaging>=20.0->transformers) (3.0.7)\r\n",
      "Requirement already satisfied: zipp>=0.5 in /opt/conda/lib/python3.7/site-packages (from importlib-metadata->transformers) (3.7.0)\r\n",
      "Requirement already satisfied: idna<4,>=2.5 in /opt/conda/lib/python3.7/site-packages (from requests->transformers) (3.3)\r\n",
      "Requirement already satisfied: charset-normalizer~=2.0.0 in /opt/conda/lib/python3.7/site-packages (from requests->transformers) (2.0.12)\r\n",
      "Requirement already satisfied: urllib3<1.27,>=1.21.1 in /opt/conda/lib/python3.7/site-packages (from requests->transformers) (1.26.8)\r\n",
      "Requirement already satisfied: certifi>=2017.4.17 in /opt/conda/lib/python3.7/site-packages (from requests->transformers) (2021.10.8)\r\n",
      "Requirement already satisfied: joblib in /opt/conda/lib/python3.7/site-packages (from sacremoses->transformers) (1.0.1)\r\n",
      "Requirement already satisfied: click in /opt/conda/lib/python3.7/site-packages (from sacremoses->transformers) (8.0.4)\r\n",
      "Requirement already satisfied: six in /opt/conda/lib/python3.7/site-packages (from sacremoses->transformers) (1.16.0)\r\n",
      "\u001b[33mWARNING: Running pip as the 'root' user can result in broken permissions and conflicting behaviour with the system package manager. It is recommended to use a virtual environment instead: https://pip.pypa.io/warnings/venv\u001b[0m\u001b[33m\r\n",
      "\u001b[0m"
     ]
    }
   ],
   "source": [
    " !pip install transformers"
   ]
  },
  {
   "cell_type": "code",
   "execution_count": 2,
   "id": "05e03f09",
   "metadata": {
    "execution": {
     "iopub.execute_input": "2022-04-18T17:33:54.660695Z",
     "iopub.status.busy": "2022-04-18T17:33:54.660474Z",
     "iopub.status.idle": "2022-04-18T17:33:54.664231Z",
     "shell.execute_reply": "2022-04-18T17:33:54.663485Z"
    },
    "papermill": {
     "duration": 0.025902,
     "end_time": "2022-04-18T17:33:54.665811",
     "exception": false,
     "start_time": "2022-04-18T17:33:54.639909",
     "status": "completed"
    },
    "tags": []
   },
   "outputs": [],
   "source": [
    "import os\n",
    "import pandas as pd\n",
    "import numpy as np"
   ]
  },
  {
   "cell_type": "code",
   "execution_count": 3,
   "id": "8d1f572f",
   "metadata": {
    "execution": {
     "iopub.execute_input": "2022-04-18T17:33:54.706900Z",
     "iopub.status.busy": "2022-04-18T17:33:54.706261Z",
     "iopub.status.idle": "2022-04-18T17:34:05.116621Z",
     "shell.execute_reply": "2022-04-18T17:34:05.115648Z"
    },
    "papermill": {
     "duration": 10.432949,
     "end_time": "2022-04-18T17:34:05.118772",
     "exception": false,
     "start_time": "2022-04-18T17:33:54.685823",
     "status": "completed"
    },
    "tags": []
   },
   "outputs": [
    {
     "name": "stdout",
     "output_type": "stream",
     "text": [
      "Collecting openpyxl\r\n",
      "  Downloading openpyxl-3.0.9-py2.py3-none-any.whl (242 kB)\r\n",
      "\u001b[2K     \u001b[90m━━━━━━━━━━━━━━━━━━━━━━━━━━━━━━━━━━━━━━━\u001b[0m \u001b[32m242.2/242.2 KB\u001b[0m \u001b[31m1.0 MB/s\u001b[0m eta \u001b[36m0:00:00\u001b[0m\r\n",
      "\u001b[?25hCollecting et-xmlfile\r\n",
      "  Downloading et_xmlfile-1.1.0-py3-none-any.whl (4.7 kB)\r\n",
      "Installing collected packages: et-xmlfile, openpyxl\r\n",
      "Successfully installed et-xmlfile-1.1.0 openpyxl-3.0.9\r\n",
      "\u001b[33mWARNING: Running pip as the 'root' user can result in broken permissions and conflicting behaviour with the system package manager. It is recommended to use a virtual environment instead: https://pip.pypa.io/warnings/venv\u001b[0m\u001b[33m\r\n",
      "\u001b[0mNote: you may need to restart the kernel to use updated packages.\n"
     ]
    }
   ],
   "source": [
    "pip install openpyxl"
   ]
  },
  {
   "cell_type": "code",
   "execution_count": 4,
   "id": "13c0a727",
   "metadata": {
    "execution": {
     "iopub.execute_input": "2022-04-18T17:34:05.166910Z",
     "iopub.status.busy": "2022-04-18T17:34:05.166656Z",
     "iopub.status.idle": "2022-04-18T17:34:05.177058Z",
     "shell.execute_reply": "2022-04-18T17:34:05.176245Z"
    },
    "papermill": {
     "duration": 0.037143,
     "end_time": "2022-04-18T17:34:05.179391",
     "exception": false,
     "start_time": "2022-04-18T17:34:05.142248",
     "status": "completed"
    },
    "tags": []
   },
   "outputs": [
    {
     "name": "stdout",
     "output_type": "stream",
     "text": [
      "/kaggle/input/6-class-bert-preprocessed-dataset/Bert_Preprocessed_Dataset.xlsx\n"
     ]
    }
   ],
   "source": [
    "for dirname, _, filenames in os.walk('/kaggle/input'):\n",
    "    for filename in filenames:\n",
    "        print(os.path.join(dirname, filename))"
   ]
  },
  {
   "cell_type": "code",
   "execution_count": 5,
   "id": "60313e15",
   "metadata": {
    "execution": {
     "iopub.execute_input": "2022-04-18T17:34:05.236150Z",
     "iopub.status.busy": "2022-04-18T17:34:05.235952Z",
     "iopub.status.idle": "2022-04-18T17:34:06.838088Z",
     "shell.execute_reply": "2022-04-18T17:34:06.837304Z"
    },
    "papermill": {
     "duration": 1.628843,
     "end_time": "2022-04-18T17:34:06.840618",
     "exception": false,
     "start_time": "2022-04-18T17:34:05.211775",
     "status": "completed"
    },
    "tags": []
   },
   "outputs": [
    {
     "name": "stdout",
     "output_type": "stream",
     "text": [
      "<class 'pandas.core.frame.DataFrame'>\n",
      "RangeIndex: 6405 entries, 0 to 6404\n",
      "Data columns (total 7 columns):\n",
      " #   Column      Non-Null Count  Dtype \n",
      "---  ------      --------------  ----- \n",
      " 0   Unnamed: 0  6405 non-null   int64 \n",
      " 1   ID          6404 non-null   object\n",
      " 2   Text        6404 non-null   object\n",
      " 3   Sentiment   6405 non-null   object\n",
      " 4   Label       6405 non-null   int64 \n",
      " 5   Token       6405 non-null   object\n",
      " 6   Token_ID    6405 non-null   object\n",
      "dtypes: int64(2), object(5)\n",
      "memory usage: 350.4+ KB\n"
     ]
    }
   ],
   "source": [
    "df=pd.read_excel('/kaggle/input/6-class-bert-preprocessed-dataset/Bert_Preprocessed_Dataset.xlsx')\n",
    "df.info()"
   ]
  },
  {
   "cell_type": "code",
   "execution_count": 6,
   "id": "5024af22",
   "metadata": {
    "execution": {
     "iopub.execute_input": "2022-04-18T17:34:06.893265Z",
     "iopub.status.busy": "2022-04-18T17:34:06.892623Z",
     "iopub.status.idle": "2022-04-18T17:34:48.626191Z",
     "shell.execute_reply": "2022-04-18T17:34:48.625097Z"
    },
    "papermill": {
     "duration": 41.762287,
     "end_time": "2022-04-18T17:34:48.628115",
     "exception": false,
     "start_time": "2022-04-18T17:34:06.865828",
     "status": "completed"
    },
    "tags": []
   },
   "outputs": [
    {
     "name": "stdout",
     "output_type": "stream",
     "text": [
      "Collecting ktrain\r\n",
      "  Downloading ktrain-0.30.0.tar.gz (25.3 MB)\r\n",
      "\u001b[2K     \u001b[90m━━━━━━━━━━━━━━━━━━━━━━━━━━━━━━━━━━━━━━━━\u001b[0m \u001b[32m25.3/25.3 MB\u001b[0m \u001b[31m21.2 MB/s\u001b[0m eta \u001b[36m0:00:00\u001b[0m\r\n",
      "\u001b[?25h  Preparing metadata (setup.py) ... \u001b[?25l-\b \bdone\r\n",
      "\u001b[?25hCollecting scikit-learn==0.24.2\r\n",
      "  Downloading scikit_learn-0.24.2-cp37-cp37m-manylinux2010_x86_64.whl (22.3 MB)\r\n",
      "\u001b[2K     \u001b[90m━━━━━━━━━━━━━━━━━━━━━━━━━━━━━━━━━━━━━━━━\u001b[0m \u001b[32m22.3/22.3 MB\u001b[0m \u001b[31m24.7 MB/s\u001b[0m eta \u001b[36m0:00:00\u001b[0m\r\n",
      "\u001b[?25hRequirement already satisfied: matplotlib>=3.0.0 in /opt/conda/lib/python3.7/site-packages (from ktrain) (3.5.1)\r\n",
      "Requirement already satisfied: pandas>=1.0.1 in /opt/conda/lib/python3.7/site-packages (from ktrain) (1.3.5)\r\n",
      "Requirement already satisfied: fastprogress>=0.1.21 in /opt/conda/lib/python3.7/site-packages (from ktrain) (1.0.2)\r\n",
      "Requirement already satisfied: requests in /opt/conda/lib/python3.7/site-packages (from ktrain) (2.27.1)\r\n",
      "Requirement already satisfied: joblib in /opt/conda/lib/python3.7/site-packages (from ktrain) (1.0.1)\r\n",
      "Requirement already satisfied: packaging in /opt/conda/lib/python3.7/site-packages (from ktrain) (21.3)\r\n",
      "Collecting langdetect\r\n",
      "  Downloading langdetect-1.0.9.tar.gz (981 kB)\r\n",
      "\u001b[2K     \u001b[90m━━━━━━━━━━━━━━━━━━━━━━━━━━━━━━━━━━━━━━\u001b[0m \u001b[32m981.5/981.5 KB\u001b[0m \u001b[31m55.4 MB/s\u001b[0m eta \u001b[36m0:00:00\u001b[0m\r\n",
      "\u001b[?25h  Preparing metadata (setup.py) ... \u001b[?25l-\b \bdone\r\n",
      "\u001b[?25hRequirement already satisfied: jieba in /opt/conda/lib/python3.7/site-packages (from ktrain) (0.42.1)\r\n",
      "Collecting cchardet\r\n",
      "  Downloading cchardet-2.1.7-cp37-cp37m-manylinux2010_x86_64.whl (263 kB)\r\n",
      "\u001b[2K     \u001b[90m━━━━━━━━━━━━━━━━━━━━━━━━━━━━━━━━━━━━━━\u001b[0m \u001b[32m263.7/263.7 KB\u001b[0m \u001b[31m26.2 MB/s\u001b[0m eta \u001b[36m0:00:00\u001b[0m\r\n",
      "\u001b[?25hRequirement already satisfied: chardet in /opt/conda/lib/python3.7/site-packages (from ktrain) (4.0.0)\r\n",
      "Collecting syntok==1.3.3\r\n",
      "  Downloading syntok-1.3.3-py3-none-any.whl (22 kB)\r\n",
      "Collecting transformers==4.10.3\r\n",
      "  Downloading transformers-4.10.3-py3-none-any.whl (2.8 MB)\r\n",
      "\u001b[2K     \u001b[90m━━━━━━━━━━━━━━━━━━━━━━━━━━━━━━━━━━━━━━━━\u001b[0m \u001b[32m2.8/2.8 MB\u001b[0m \u001b[31m68.7 MB/s\u001b[0m eta \u001b[36m0:00:00\u001b[0m\r\n",
      "\u001b[?25hRequirement already satisfied: sentencepiece in /opt/conda/lib/python3.7/site-packages (from ktrain) (0.1.96)\r\n",
      "Collecting keras_bert>=0.86.0\r\n",
      "  Downloading keras-bert-0.89.0.tar.gz (25 kB)\r\n",
      "  Preparing metadata (setup.py) ... \u001b[?25l-\b \bdone\r\n",
      "\u001b[?25hCollecting whoosh\r\n",
      "  Downloading Whoosh-2.7.4-py2.py3-none-any.whl (468 kB)\r\n",
      "\u001b[2K     \u001b[90m━━━━━━━━━━━━━━━━━━━━━━━━━━━━━━━━━━━━━━\u001b[0m \u001b[32m468.8/468.8 KB\u001b[0m \u001b[31m23.9 MB/s\u001b[0m eta \u001b[36m0:00:00\u001b[0m\r\n",
      "\u001b[?25hRequirement already satisfied: numpy>=1.13.3 in /opt/conda/lib/python3.7/site-packages (from scikit-learn==0.24.2->ktrain) (1.21.5)\r\n",
      "Requirement already satisfied: threadpoolctl>=2.0.0 in /opt/conda/lib/python3.7/site-packages (from scikit-learn==0.24.2->ktrain) (3.1.0)\r\n",
      "Requirement already satisfied: scipy>=0.19.1 in /opt/conda/lib/python3.7/site-packages (from scikit-learn==0.24.2->ktrain) (1.7.3)\r\n",
      "Requirement already satisfied: regex in /opt/conda/lib/python3.7/site-packages (from syntok==1.3.3->ktrain) (2021.11.10)\r\n",
      "Requirement already satisfied: tqdm>=4.27 in /opt/conda/lib/python3.7/site-packages (from transformers==4.10.3->ktrain) (4.63.0)\r\n",
      "Requirement already satisfied: importlib-metadata in /opt/conda/lib/python3.7/site-packages (from transformers==4.10.3->ktrain) (4.11.3)\r\n",
      "Requirement already satisfied: huggingface-hub>=0.0.12 in /opt/conda/lib/python3.7/site-packages (from transformers==4.10.3->ktrain) (0.5.1)\r\n",
      "Collecting tokenizers<0.11,>=0.10.1\r\n",
      "  Downloading tokenizers-0.10.3-cp37-cp37m-manylinux_2_5_x86_64.manylinux1_x86_64.manylinux_2_12_x86_64.manylinux2010_x86_64.whl (3.3 MB)\r\n",
      "\u001b[2K     \u001b[90m━━━━━━━━━━━━━━━━━━━━━━━━━━━━━━━━━━━━━━━━\u001b[0m \u001b[32m3.3/3.3 MB\u001b[0m \u001b[31m31.0 MB/s\u001b[0m eta \u001b[36m0:00:00\u001b[0m\r\n",
      "\u001b[?25hRequirement already satisfied: filelock in /opt/conda/lib/python3.7/site-packages (from transformers==4.10.3->ktrain) (3.6.0)\r\n",
      "Requirement already satisfied: pyyaml>=5.1 in /opt/conda/lib/python3.7/site-packages (from transformers==4.10.3->ktrain) (6.0)\r\n",
      "Requirement already satisfied: sacremoses in /opt/conda/lib/python3.7/site-packages (from transformers==4.10.3->ktrain) (0.0.49)\r\n",
      "Collecting keras-transformer==0.40.0\r\n",
      "  Downloading keras-transformer-0.40.0.tar.gz (9.7 kB)\r\n",
      "  Preparing metadata (setup.py) ... \u001b[?25l-\b \bdone\r\n",
      "\u001b[?25hCollecting keras-pos-embd==0.13.0\r\n",
      "  Downloading keras-pos-embd-0.13.0.tar.gz (5.6 kB)\r\n",
      "  Preparing metadata (setup.py) ... \u001b[?25l-\b \bdone\r\n",
      "\u001b[?25hCollecting keras-multi-head==0.29.0\r\n",
      "  Downloading keras-multi-head-0.29.0.tar.gz (13 kB)\r\n",
      "  Preparing metadata (setup.py) ... \u001b[?25l-\b \bdone\r\n",
      "\u001b[?25hCollecting keras-layer-normalization==0.16.0\r\n",
      "  Downloading keras-layer-normalization-0.16.0.tar.gz (3.9 kB)\r\n",
      "  Preparing metadata (setup.py) ... \u001b[?25l-\b \bdone\r\n",
      "\u001b[?25hCollecting keras-position-wise-feed-forward==0.8.0\r\n",
      "  Downloading keras-position-wise-feed-forward-0.8.0.tar.gz (4.1 kB)\r\n",
      "  Preparing metadata (setup.py) ... \u001b[?25l-\b \bdone\r\n",
      "\u001b[?25hCollecting keras-embed-sim==0.10.0\r\n",
      "  Downloading keras-embed-sim-0.10.0.tar.gz (3.6 kB)\r\n",
      "  Preparing metadata (setup.py) ... \u001b[?25l-\b \bdone\r\n",
      "\u001b[?25hCollecting keras-self-attention==0.51.0\r\n",
      "  Downloading keras-self-attention-0.51.0.tar.gz (11 kB)\r\n",
      "  Preparing metadata (setup.py) ... \u001b[?25l-\b \bdone\r\n",
      "\u001b[?25hRequirement already satisfied: pyparsing>=2.2.1 in /opt/conda/lib/python3.7/site-packages (from matplotlib>=3.0.0->ktrain) (3.0.7)\r\n",
      "Requirement already satisfied: cycler>=0.10 in /opt/conda/lib/python3.7/site-packages (from matplotlib>=3.0.0->ktrain) (0.11.0)\r\n",
      "Requirement already satisfied: fonttools>=4.22.0 in /opt/conda/lib/python3.7/site-packages (from matplotlib>=3.0.0->ktrain) (4.30.0)\r\n",
      "Requirement already satisfied: pillow>=6.2.0 in /opt/conda/lib/python3.7/site-packages (from matplotlib>=3.0.0->ktrain) (9.0.1)\r\n",
      "Requirement already satisfied: python-dateutil>=2.7 in /opt/conda/lib/python3.7/site-packages (from matplotlib>=3.0.0->ktrain) (2.8.2)\r\n",
      "Requirement already satisfied: kiwisolver>=1.0.1 in /opt/conda/lib/python3.7/site-packages (from matplotlib>=3.0.0->ktrain) (1.4.0)\r\n",
      "Requirement already satisfied: pytz>=2017.3 in /opt/conda/lib/python3.7/site-packages (from pandas>=1.0.1->ktrain) (2021.3)\r\n",
      "Requirement already satisfied: six in /opt/conda/lib/python3.7/site-packages (from langdetect->ktrain) (1.16.0)\r\n",
      "Requirement already satisfied: charset-normalizer~=2.0.0 in /opt/conda/lib/python3.7/site-packages (from requests->ktrain) (2.0.12)\r\n",
      "Requirement already satisfied: certifi>=2017.4.17 in /opt/conda/lib/python3.7/site-packages (from requests->ktrain) (2021.10.8)\r\n",
      "Requirement already satisfied: idna<4,>=2.5 in /opt/conda/lib/python3.7/site-packages (from requests->ktrain) (3.3)\r\n",
      "Requirement already satisfied: urllib3<1.27,>=1.21.1 in /opt/conda/lib/python3.7/site-packages (from requests->ktrain) (1.26.8)\r\n",
      "Requirement already satisfied: typing-extensions>=3.7.4.3 in /opt/conda/lib/python3.7/site-packages (from huggingface-hub>=0.0.12->transformers==4.10.3->ktrain) (4.1.1)\r\n",
      "Requirement already satisfied: zipp>=0.5 in /opt/conda/lib/python3.7/site-packages (from importlib-metadata->transformers==4.10.3->ktrain) (3.7.0)\r\n",
      "Requirement already satisfied: click in /opt/conda/lib/python3.7/site-packages (from sacremoses->transformers==4.10.3->ktrain) (8.0.4)\r\n",
      "Building wheels for collected packages: ktrain, keras_bert, keras-transformer, keras-embed-sim, keras-layer-normalization, keras-multi-head, keras-pos-embd, keras-position-wise-feed-forward, keras-self-attention, langdetect\r\n",
      "  Building wheel for ktrain (setup.py) ... \u001b[?25l-\b \b\\\b \b|\b \b/\b \b-\b \b\\\b \b|\b \bdone\r\n",
      "\u001b[?25h  Created wheel for ktrain: filename=ktrain-0.30.0-py3-none-any.whl size=25309161 sha256=369352ccb87c4e56b34acd12cfdce99ba215075caf9c0595e56504a7be4ca0fc\r\n",
      "  Stored in directory: /root/.cache/pip/wheels/25/00/ae/80d1b19dd02bc2e6bc9bac32ba7dbaa59aad789e93274e4868\r\n",
      "  Building wheel for keras_bert (setup.py) ... \u001b[?25l-\b \b\\\b \bdone\r\n",
      "\u001b[?25h  Created wheel for keras_bert: filename=keras_bert-0.89.0-py3-none-any.whl size=33517 sha256=fafc05870c34aaf74af8a52dbe5b3b671f9de88ad6fc9e5de78ddd87e16a43d4\r\n",
      "  Stored in directory: /root/.cache/pip/wheels/a4/e8/45/842b3a39831261aef9154b907eacbc4ac99499a99ae829b06f\r\n",
      "  Building wheel for keras-transformer (setup.py) ... \u001b[?25l-\b \b\\\b \bdone\r\n",
      "\u001b[?25h  Created wheel for keras-transformer: filename=keras_transformer-0.40.0-py3-none-any.whl size=12305 sha256=f356cac8d7a0084d96f47007bde1c1d30a852884c86458077d1e76b759c75edb\r\n",
      "  Stored in directory: /root/.cache/pip/wheels/46/68/26/692ed21edd832833c3b0a0e21615bcacd99ca458b3f9ed571f\r\n",
      "  Building wheel for keras-embed-sim (setup.py) ... \u001b[?25l-\b \bdone\r\n",
      "\u001b[?25h  Created wheel for keras-embed-sim: filename=keras_embed_sim-0.10.0-py3-none-any.whl size=3960 sha256=fc1aee95ad50b4bc42059256d8c53e8e8f9e8dfc46d2d5c75283fed24341530a\r\n",
      "  Stored in directory: /root/.cache/pip/wheels/81/67/b5/d847588d075895281e1cf5590f819bd4cf076a554872268bd5\r\n",
      "  Building wheel for keras-layer-normalization (setup.py) ... \u001b[?25l-\b \bdone\r\n",
      "\u001b[?25h  Created wheel for keras-layer-normalization: filename=keras_layer_normalization-0.16.0-py3-none-any.whl size=4668 sha256=c81c0f242410a2c1c0c703e8c2dfe7d31b5efb8c6b0ca5b1b084e36e1bbf67b4\r\n",
      "  Stored in directory: /root/.cache/pip/wheels/85/5d/1c/2e619f594f69fbcf8bc20943b27d414871c409be053994813e\r\n",
      "  Building wheel for keras-multi-head (setup.py) ... \u001b[?25l-\b \b\\\b \bdone\r\n",
      "\u001b[?25h  Created wheel for keras-multi-head: filename=keras_multi_head-0.29.0-py3-none-any.whl size=14993 sha256=77b97a67df3d7d7089f9057d3f89b3a81979d3fd8b106eabb83d8d2e77e1fd69\r\n",
      "  Stored in directory: /root/.cache/pip/wheels/86/aa/3c/9d15d24005179dae08ff291ce99c754b296347817d076fd9fb\r\n",
      "  Building wheel for keras-pos-embd (setup.py) ... \u001b[?25l-\b \bdone\r\n",
      "\u001b[?25h  Created wheel for keras-pos-embd: filename=keras_pos_embd-0.13.0-py3-none-any.whl size=6962 sha256=c6570baa8ecc18df666c879fab79c588fc3bafb581526122097fa4e8682f05dc\r\n",
      "  Stored in directory: /root/.cache/pip/wheels/8d/c1/a0/dc44fcf68c857b7ff6be9a97e675e5adf51022eff1169b042f\r\n",
      "  Building wheel for keras-position-wise-feed-forward (setup.py) ... \u001b[?25l-\b \bdone\r\n",
      "\u001b[?25h  Created wheel for keras-position-wise-feed-forward: filename=keras_position_wise_feed_forward-0.8.0-py3-none-any.whl size=4983 sha256=3bae1b9f63a4e8887f5ef7a23bbd15a6a35458681210542f48a36f09f6ab5627\r\n",
      "  Stored in directory: /root/.cache/pip/wheels/c2/75/6f/d42f6e051506f442daeba53ff1e2d21a5f20ef8c411610f2bb\r\n",
      "  Building wheel for keras-self-attention (setup.py) ... \u001b[?25l-\b \b\\\b \bdone\r\n",
      "\u001b[?25h  Created wheel for keras-self-attention: filename=keras_self_attention-0.51.0-py3-none-any.whl size=18912 sha256=6e4fb18f62c23c1b9e080b769df2913b5b787bc64836a58b92be1fdfe8006795\r\n",
      "  Stored in directory: /root/.cache/pip/wheels/95/b1/a8/5ee00cc137940b2f6fa198212e8f45d813d0e0d9c3a04035a3\r\n",
      "  Building wheel for langdetect (setup.py) ... \u001b[?25l-\b \b\\\b \b|\b \b/\b \bdone\r\n",
      "\u001b[?25h  Created wheel for langdetect: filename=langdetect-1.0.9-py3-none-any.whl size=993242 sha256=dc52960a920193aa11d41757bb447fb5211a5c2ee4e772b1bc72cbd10a2444a0\r\n",
      "  Stored in directory: /root/.cache/pip/wheels/c5/96/8a/f90c59ed25d75e50a8c10a1b1c2d4c402e4dacfa87f3aff36a\r\n",
      "Successfully built ktrain keras_bert keras-transformer keras-embed-sim keras-layer-normalization keras-multi-head keras-pos-embd keras-position-wise-feed-forward keras-self-attention langdetect\r\n",
      "Installing collected packages: whoosh, tokenizers, cchardet, syntok, langdetect, keras-self-attention, keras-position-wise-feed-forward, keras-pos-embd, keras-layer-normalization, keras-embed-sim, scikit-learn, keras-multi-head, keras-transformer, transformers, keras_bert, ktrain\r\n",
      "  Attempting uninstall: tokenizers\r\n",
      "    Found existing installation: tokenizers 0.11.6\r\n",
      "    Uninstalling tokenizers-0.11.6:\r\n",
      "      Successfully uninstalled tokenizers-0.11.6\r\n",
      "  Attempting uninstall: scikit-learn\r\n",
      "    Found existing installation: scikit-learn 1.0.2\r\n",
      "    Uninstalling scikit-learn-1.0.2:\r\n",
      "      Successfully uninstalled scikit-learn-1.0.2\r\n",
      "  Attempting uninstall: transformers\r\n",
      "    Found existing installation: transformers 4.17.0\r\n",
      "    Uninstalling transformers-4.17.0:\r\n",
      "      Successfully uninstalled transformers-4.17.0\r\n",
      "\u001b[31mERROR: pip's dependency resolver does not currently take into account all the packages that are installed. This behaviour is the source of the following dependency conflicts.\r\n",
      "yellowbrick 1.4 requires scikit-learn>=1.0.0, but you have scikit-learn 0.24.2 which is incompatible.\r\n",
      "pdpbox 0.2.1 requires matplotlib==3.1.1, but you have matplotlib 3.5.1 which is incompatible.\r\n",
      "imbalanced-learn 0.9.0 requires scikit-learn>=1.0.1, but you have scikit-learn 0.24.2 which is incompatible.\u001b[0m\u001b[31m\r\n",
      "\u001b[0mSuccessfully installed cchardet-2.1.7 keras-embed-sim-0.10.0 keras-layer-normalization-0.16.0 keras-multi-head-0.29.0 keras-pos-embd-0.13.0 keras-position-wise-feed-forward-0.8.0 keras-self-attention-0.51.0 keras-transformer-0.40.0 keras_bert-0.89.0 ktrain-0.30.0 langdetect-1.0.9 scikit-learn-0.24.2 syntok-1.3.3 tokenizers-0.10.3 transformers-4.10.3 whoosh-2.7.4\r\n",
      "\u001b[33mWARNING: Running pip as the 'root' user can result in broken permissions and conflicting behaviour with the system package manager. It is recommended to use a virtual environment instead: https://pip.pypa.io/warnings/venv\u001b[0m\u001b[33m\r\n",
      "\u001b[0mNote: you may need to restart the kernel to use updated packages.\n"
     ]
    }
   ],
   "source": [
    "pip install ktrain"
   ]
  },
  {
   "cell_type": "code",
   "execution_count": 7,
   "id": "ef0f60be",
   "metadata": {
    "execution": {
     "iopub.execute_input": "2022-04-18T17:34:48.770208Z",
     "iopub.status.busy": "2022-04-18T17:34:48.769967Z",
     "iopub.status.idle": "2022-04-18T17:34:48.815036Z",
     "shell.execute_reply": "2022-04-18T17:34:48.814395Z"
    },
    "papermill": {
     "duration": 0.118921,
     "end_time": "2022-04-18T17:34:48.816753",
     "exception": false,
     "start_time": "2022-04-18T17:34:48.697832",
     "status": "completed"
    },
    "tags": []
   },
   "outputs": [],
   "source": [
    "%reload_ext autoreload\n",
    "%autoreload 2\n",
    "%matplotlib inline\n",
    "import os\n",
    "os.environ[\"CUDA_DEVICE_ORDER\"] = \"PCI_BUS_ID\"\n",
    "os.environ[\"CUDA_VISIBLE_DEVICES\"] = \"0\" "
   ]
  },
  {
   "cell_type": "code",
   "execution_count": 8,
   "id": "9657a1a1",
   "metadata": {
    "execution": {
     "iopub.execute_input": "2022-04-18T17:34:48.954552Z",
     "iopub.status.busy": "2022-04-18T17:34:48.954001Z",
     "iopub.status.idle": "2022-04-18T17:34:56.224086Z",
     "shell.execute_reply": "2022-04-18T17:34:56.223155Z"
    },
    "papermill": {
     "duration": 7.341571,
     "end_time": "2022-04-18T17:34:56.226542",
     "exception": false,
     "start_time": "2022-04-18T17:34:48.884971",
     "status": "completed"
    },
    "tags": []
   },
   "outputs": [],
   "source": [
    "import ktrain\n",
    "from ktrain import text"
   ]
  },
  {
   "cell_type": "code",
   "execution_count": 9,
   "id": "4682a2bf",
   "metadata": {
    "execution": {
     "iopub.execute_input": "2022-04-18T17:34:56.363928Z",
     "iopub.status.busy": "2022-04-18T17:34:56.363663Z",
     "iopub.status.idle": "2022-04-18T17:34:56.430548Z",
     "shell.execute_reply": "2022-04-18T17:34:56.429895Z"
    },
    "papermill": {
     "duration": 0.137541,
     "end_time": "2022-04-18T17:34:56.432329",
     "exception": false,
     "start_time": "2022-04-18T17:34:56.294788",
     "status": "completed"
    },
    "tags": []
   },
   "outputs": [],
   "source": [
    "train=df[:int(.8*len(df))]\n",
    "test=df[int(.8*len(df)):int(.9*len(df))]\n",
    "validation=df[int(.9*len(df)):]\n",
    "x_train=train['Text'].tolist()\n",
    "y_train=train['Label'].tolist()\n",
    "x_validation=validation['Text'].tolist()\n",
    "y_validation=validation['Label'].tolist()\n",
    "x_test=test['Text'].tolist()\n",
    "y_test=test['Sentiment'].tolist()"
   ]
  },
  {
   "cell_type": "code",
   "execution_count": 10,
   "id": "b7a313dc",
   "metadata": {
    "execution": {
     "iopub.execute_input": "2022-04-18T17:34:56.570886Z",
     "iopub.status.busy": "2022-04-18T17:34:56.570285Z",
     "iopub.status.idle": "2022-04-18T17:34:56.674622Z",
     "shell.execute_reply": "2022-04-18T17:34:56.673809Z"
    },
    "papermill": {
     "duration": 0.175934,
     "end_time": "2022-04-18T17:34:56.676720",
     "exception": false,
     "start_time": "2022-04-18T17:34:56.500786",
     "status": "completed"
    },
    "tags": []
   },
   "outputs": [],
   "source": [
    "x_train= np.array(x_train)\n",
    "x_validation= np.array(x_validation)\n",
    "x_test= np.array(x_test)\n"
   ]
  },
  {
   "cell_type": "code",
   "execution_count": 11,
   "id": "6f1560ac",
   "metadata": {
    "execution": {
     "iopub.execute_input": "2022-04-18T17:34:56.813909Z",
     "iopub.status.busy": "2022-04-18T17:34:56.813667Z",
     "iopub.status.idle": "2022-04-18T17:34:56.876356Z",
     "shell.execute_reply": "2022-04-18T17:34:56.875777Z"
    },
    "papermill": {
     "duration": 0.133385,
     "end_time": "2022-04-18T17:34:56.878251",
     "exception": false,
     "start_time": "2022-04-18T17:34:56.744866",
     "status": "completed"
    },
    "tags": []
   },
   "outputs": [],
   "source": [
    "categories = ['angry','disgust','fear','happy','sad','surpise']"
   ]
  },
  {
   "cell_type": "code",
   "execution_count": 12,
   "id": "604c4397",
   "metadata": {
    "execution": {
     "iopub.execute_input": "2022-04-18T17:34:57.016742Z",
     "iopub.status.busy": "2022-04-18T17:34:57.016205Z",
     "iopub.status.idle": "2022-04-18T17:34:58.140712Z",
     "shell.execute_reply": "2022-04-18T17:34:58.139913Z"
    },
    "papermill": {
     "duration": 1.196733,
     "end_time": "2022-04-18T17:34:58.142710",
     "exception": false,
     "start_time": "2022-04-18T17:34:56.945977",
     "status": "completed"
    },
    "tags": []
   },
   "outputs": [
    {
     "data": {
      "application/vnd.jupyter.widget-view+json": {
       "model_id": "ae8aedaf3ad74410937b40a0041e0b54",
       "version_major": 2,
       "version_minor": 0
      },
      "text/plain": [
       "Downloading:   0%|          | 0.00/391 [00:00<?, ?B/s]"
      ]
     },
     "metadata": {},
     "output_type": "display_data"
    }
   ],
   "source": [
    "model_name = 'monsoon-nlp/bangla-electra'\n",
    "trans = text.Transformer(model_name,maxlen=50,class_names=categories)"
   ]
  },
  {
   "cell_type": "code",
   "execution_count": 13,
   "id": "802c0dff",
   "metadata": {
    "execution": {
     "iopub.execute_input": "2022-04-18T17:34:58.291612Z",
     "iopub.status.busy": "2022-04-18T17:34:58.290982Z",
     "iopub.status.idle": "2022-04-18T17:35:07.038223Z",
     "shell.execute_reply": "2022-04-18T17:35:07.037590Z"
    },
    "papermill": {
     "duration": 8.820074,
     "end_time": "2022-04-18T17:35:07.039913",
     "exception": false,
     "start_time": "2022-04-18T17:34:58.219839",
     "status": "completed"
    },
    "tags": []
   },
   "outputs": [
    {
     "name": "stdout",
     "output_type": "stream",
     "text": [
      "preprocessing train...\n",
      "language: bn\n",
      "train sequence lengths:\n",
      "\tmean : 16\n",
      "\t95percentile : 44\n",
      "\t99percentile : 102\n"
     ]
    },
    {
     "data": {
      "application/vnd.jupyter.widget-view+json": {
       "model_id": "aeef251b7db14170a50ba7a6d02cb4af",
       "version_major": 2,
       "version_minor": 0
      },
      "text/plain": [
       "Downloading:   0%|          | 0.00/161 [00:00<?, ?B/s]"
      ]
     },
     "metadata": {},
     "output_type": "display_data"
    },
    {
     "data": {
      "application/vnd.jupyter.widget-view+json": {
       "model_id": "c6a5808c1afc492e9b432193c9ddf6fa",
       "version_major": 2,
       "version_minor": 0
      },
      "text/plain": [
       "Downloading:   0%|          | 0.00/492k [00:00<?, ?B/s]"
      ]
     },
     "metadata": {},
     "output_type": "display_data"
    },
    {
     "data": {
      "application/vnd.jupyter.widget-view+json": {
       "model_id": "4ae1202b504341fb831770a46faf0e86",
       "version_major": 2,
       "version_minor": 0
      },
      "text/plain": [
       "Downloading:   0%|          | 0.00/112 [00:00<?, ?B/s]"
      ]
     },
     "metadata": {},
     "output_type": "display_data"
    },
    {
     "data": {
      "text/html": [
       "\n",
       "<style>\n",
       "    /* Turns off some styling */\n",
       "    progress {\n",
       "        /* gets rid of default border in Firefox and Opera. */\n",
       "        border: none;\n",
       "        /* Needs to be in here for Safari polyfill so background images work as expected. */\n",
       "        background-size: auto;\n",
       "    }\n",
       "    .progress-bar-interrupted, .progress-bar-interrupted::-webkit-progress-bar {\n",
       "        background: #F44336;\n",
       "    }\n",
       "</style>\n"
      ],
      "text/plain": [
       "<IPython.core.display.HTML object>"
      ]
     },
     "metadata": {},
     "output_type": "display_data"
    },
    {
     "data": {
      "text/html": [],
      "text/plain": [
       "<IPython.core.display.HTML object>"
      ]
     },
     "metadata": {},
     "output_type": "display_data"
    },
    {
     "name": "stdout",
     "output_type": "stream",
     "text": [
      "Is Multi-Label? False\n",
      "preprocessing test...\n",
      "language: bn\n",
      "test sequence lengths:\n",
      "\tmean : 16\n",
      "\t95percentile : 49\n",
      "\t99percentile : 96\n"
     ]
    },
    {
     "data": {
      "text/html": [
       "\n",
       "<style>\n",
       "    /* Turns off some styling */\n",
       "    progress {\n",
       "        /* gets rid of default border in Firefox and Opera. */\n",
       "        border: none;\n",
       "        /* Needs to be in here for Safari polyfill so background images work as expected. */\n",
       "        background-size: auto;\n",
       "    }\n",
       "    .progress-bar-interrupted, .progress-bar-interrupted::-webkit-progress-bar {\n",
       "        background: #F44336;\n",
       "    }\n",
       "</style>\n"
      ],
      "text/plain": [
       "<IPython.core.display.HTML object>"
      ]
     },
     "metadata": {},
     "output_type": "display_data"
    },
    {
     "data": {
      "text/html": [],
      "text/plain": [
       "<IPython.core.display.HTML object>"
      ]
     },
     "metadata": {},
     "output_type": "display_data"
    }
   ],
   "source": [
    "train = trans.preprocess_train(x_train,y_train)\n",
    "valid = trans.preprocess_test(x_validation,y_validation)"
   ]
  },
  {
   "cell_type": "code",
   "execution_count": 14,
   "id": "61867f95",
   "metadata": {
    "execution": {
     "iopub.execute_input": "2022-04-18T17:35:07.189209Z",
     "iopub.status.busy": "2022-04-18T17:35:07.188972Z",
     "iopub.status.idle": "2022-04-18T17:35:21.186143Z",
     "shell.execute_reply": "2022-04-18T17:35:21.185411Z"
    },
    "papermill": {
     "duration": 14.073329,
     "end_time": "2022-04-18T17:35:21.188220",
     "exception": false,
     "start_time": "2022-04-18T17:35:07.114891",
     "status": "completed"
    },
    "tags": []
   },
   "outputs": [
    {
     "data": {
      "application/vnd.jupyter.widget-view+json": {
       "model_id": "f8aabec6ab0348239b89cc430b6169b7",
       "version_major": 2,
       "version_minor": 0
      },
      "text/plain": [
       "Downloading:   0%|          | 0.00/54.1M [00:00<?, ?B/s]"
      ]
     },
     "metadata": {},
     "output_type": "display_data"
    }
   ],
   "source": [
    "model = trans.get_classifier()"
   ]
  },
  {
   "cell_type": "code",
   "execution_count": 15,
   "id": "8f06b07e",
   "metadata": {
    "execution": {
     "iopub.execute_input": "2022-04-18T17:35:21.338023Z",
     "iopub.status.busy": "2022-04-18T17:35:21.336793Z",
     "iopub.status.idle": "2022-04-18T17:35:21.659373Z",
     "shell.execute_reply": "2022-04-18T17:35:21.658627Z"
    },
    "papermill": {
     "duration": 0.3991,
     "end_time": "2022-04-18T17:35:21.661453",
     "exception": false,
     "start_time": "2022-04-18T17:35:21.262353",
     "status": "completed"
    },
    "tags": []
   },
   "outputs": [],
   "source": [
    "learner = ktrain.get_learner(model, train_data=train,val_data=valid, batch_size=12)"
   ]
  },
  {
   "cell_type": "code",
   "execution_count": 16,
   "id": "344ea839",
   "metadata": {
    "execution": {
     "iopub.execute_input": "2022-04-18T17:35:21.810718Z",
     "iopub.status.busy": "2022-04-18T17:35:21.810476Z",
     "iopub.status.idle": "2022-04-18T17:35:21.875745Z",
     "shell.execute_reply": "2022-04-18T17:35:21.875087Z"
    },
    "papermill": {
     "duration": 0.1419,
     "end_time": "2022-04-18T17:35:21.877613",
     "exception": false,
     "start_time": "2022-04-18T17:35:21.735713",
     "status": "completed"
    },
    "tags": []
   },
   "outputs": [],
   "source": [
    "from sklearn.utils import class_weight\n",
    "class_weight=class_weight.compute_class_weight(class_weight='balanced',classes=np.unique(y_train),y=y_train)\n",
    "weight={i:class_weight[i] for i in range(6)}"
   ]
  },
  {
   "cell_type": "code",
   "execution_count": 17,
   "id": "34c341d7",
   "metadata": {
    "execution": {
     "iopub.execute_input": "2022-04-18T17:35:22.026469Z",
     "iopub.status.busy": "2022-04-18T17:35:22.026256Z",
     "iopub.status.idle": "2022-04-18T17:44:03.066650Z",
     "shell.execute_reply": "2022-04-18T17:44:03.065913Z"
    },
    "papermill": {
     "duration": 522.949535,
     "end_time": "2022-04-18T17:44:04.900527",
     "exception": false,
     "start_time": "2022-04-18T17:35:21.950992",
     "status": "completed"
    },
    "tags": []
   },
   "outputs": [
    {
     "name": "stdout",
     "output_type": "stream",
     "text": [
      "\n",
      "\n",
      "begin training using onecycle policy with max lr of 2e-05...\n",
      "Epoch 1/20\n",
      "427/427 [==============================] - 46s 61ms/step - loss: 1.7918 - accuracy: 0.1608 - val_loss: 1.7935 - val_accuracy: 0.2059\n",
      "Epoch 2/20\n",
      "427/427 [==============================] - 23s 53ms/step - loss: 1.7909 - accuracy: 0.1844 - val_loss: 1.7915 - val_accuracy: 0.2090\n",
      "Epoch 3/20\n",
      "427/427 [==============================] - 23s 53ms/step - loss: 1.7883 - accuracy: 0.1889 - val_loss: 1.7868 - val_accuracy: 0.2278\n",
      "Epoch 4/20\n",
      "427/427 [==============================] - 23s 53ms/step - loss: 1.7813 - accuracy: 0.2607 - val_loss: 1.7650 - val_accuracy: 0.3136\n",
      "Epoch 5/20\n",
      "427/427 [==============================] - 23s 54ms/step - loss: 1.7644 - accuracy: 0.3193 - val_loss: 1.7514 - val_accuracy: 0.3105\n",
      "Epoch 6/20\n",
      "427/427 [==============================] - 23s 54ms/step - loss: 1.7287 - accuracy: 0.3614 - val_loss: 1.6554 - val_accuracy: 0.3775\n",
      "Epoch 7/20\n",
      "427/427 [==============================] - 22s 52ms/step - loss: 1.6812 - accuracy: 0.3862 - val_loss: 1.6300 - val_accuracy: 0.3760\n",
      "Epoch 8/20\n",
      "427/427 [==============================] - 23s 54ms/step - loss: 1.6280 - accuracy: 0.4048 - val_loss: 1.5760 - val_accuracy: 0.3729\n",
      "Epoch 9/20\n",
      "427/427 [==============================] - 24s 55ms/step - loss: 1.5825 - accuracy: 0.4139 - val_loss: 1.5908 - val_accuracy: 0.3573\n",
      "Epoch 10/20\n",
      "427/427 [==============================] - 24s 55ms/step - loss: 1.5343 - accuracy: 0.4366 - val_loss: 1.6067 - val_accuracy: 0.3448\n",
      "Epoch 11/20\n",
      "427/427 [==============================] - 22s 51ms/step - loss: 1.4869 - accuracy: 0.4479 - val_loss: 1.6087 - val_accuracy: 0.3775\n",
      "Epoch 12/20\n",
      "427/427 [==============================] - 23s 55ms/step - loss: 1.4441 - accuracy: 0.4666 - val_loss: 1.6010 - val_accuracy: 0.3604\n",
      "Epoch 13/20\n",
      "427/427 [==============================] - 23s 55ms/step - loss: 1.4052 - accuracy: 0.4852 - val_loss: 1.5749 - val_accuracy: 0.3791\n",
      "Epoch 14/20\n",
      "427/427 [==============================] - 22s 51ms/step - loss: 1.3604 - accuracy: 0.4992 - val_loss: 1.5714 - val_accuracy: 0.3869\n",
      "Epoch 15/20\n",
      "427/427 [==============================] - 24s 56ms/step - loss: 1.3294 - accuracy: 0.5098 - val_loss: 1.6209 - val_accuracy: 0.3635\n",
      "Epoch 16/20\n",
      "427/427 [==============================] - 24s 56ms/step - loss: 1.3060 - accuracy: 0.5189 - val_loss: 1.6524 - val_accuracy: 0.3713\n",
      "Epoch 17/20\n",
      "427/427 [==============================] - 23s 55ms/step - loss: 1.2680 - accuracy: 0.5369 - val_loss: 1.6304 - val_accuracy: 0.3775\n",
      "Epoch 18/20\n",
      "427/427 [==============================] - 23s 53ms/step - loss: 1.2545 - accuracy: 0.5406 - val_loss: 1.6418 - val_accuracy: 0.3947\n",
      "Epoch 19/20\n",
      "427/427 [==============================] - 24s 56ms/step - loss: 1.2408 - accuracy: 0.5457 - val_loss: 1.6524 - val_accuracy: 0.3900\n",
      "Epoch 20/20\n",
      "427/427 [==============================] - 25s 58ms/step - loss: 1.2326 - accuracy: 0.5492 - val_loss: 1.6481 - val_accuracy: 0.3791\n"
     ]
    },
    {
     "data": {
      "text/plain": [
       "<keras.callbacks.History at 0x7fe6ff2fca10>"
      ]
     },
     "execution_count": 17,
     "metadata": {},
     "output_type": "execute_result"
    }
   ],
   "source": [
    "learner.fit_onecycle(2e-5,20,class_weight=weight) "
   ]
  },
  {
   "cell_type": "code",
   "execution_count": 18,
   "id": "255ab87d",
   "metadata": {
    "execution": {
     "iopub.execute_input": "2022-04-18T17:44:08.100277Z",
     "iopub.status.busy": "2022-04-18T17:44:08.099770Z",
     "iopub.status.idle": "2022-04-18T17:44:11.315192Z",
     "shell.execute_reply": "2022-04-18T17:44:11.314096Z"
    },
    "papermill": {
     "duration": 4.813395,
     "end_time": "2022-04-18T17:44:11.317495",
     "exception": false,
     "start_time": "2022-04-18T17:44:06.504100",
     "status": "completed"
    },
    "tags": []
   },
   "outputs": [
    {
     "name": "stdout",
     "output_type": "stream",
     "text": [
      "              precision    recall  f1-score   support\n",
      "\n",
      "       angry       0.51      0.58      0.54       137\n",
      "     disgust       0.19      0.42      0.26        72\n",
      "        fear       0.09      0.43      0.15        30\n",
      "       happy       0.74      0.57      0.64       195\n",
      "         sad       0.20      0.02      0.03       132\n",
      "     surpise       0.37      0.09      0.15        75\n",
      "\n",
      "    accuracy                           0.38       641\n",
      "   macro avg       0.35      0.35      0.30       641\n",
      "weighted avg       0.44      0.38      0.37       641\n",
      "\n"
     ]
    },
    {
     "data": {
      "text/plain": [
       "array([[ 80,  37,  13,   3,   0,   4],\n",
       "       [ 22,  30,  13,   6,   1,   0],\n",
       "       [  1,  13,  13,   3,   0,   0],\n",
       "       [ 16,  14,  45, 111,   6,   3],\n",
       "       [ 28,  36,  42,  19,   2,   5],\n",
       "       [ 11,  28,  19,   9,   1,   7]])"
      ]
     },
     "execution_count": 18,
     "metadata": {},
     "output_type": "execute_result"
    }
   ],
   "source": [
    "learner.validate(class_names=categories)"
   ]
  },
  {
   "cell_type": "code",
   "execution_count": 19,
   "id": "ee12002b",
   "metadata": {
    "execution": {
     "iopub.execute_input": "2022-04-18T17:44:14.755598Z",
     "iopub.status.busy": "2022-04-18T17:44:14.755165Z",
     "iopub.status.idle": "2022-04-18T17:44:14.826383Z",
     "shell.execute_reply": "2022-04-18T17:44:14.825715Z"
    },
    "papermill": {
     "duration": 1.906351,
     "end_time": "2022-04-18T17:44:14.828244",
     "exception": false,
     "start_time": "2022-04-18T17:44:12.921893",
     "status": "completed"
    },
    "tags": []
   },
   "outputs": [],
   "source": [
    "predictor = ktrain.get_predictor(learner.model, preproc=trans)"
   ]
  },
  {
   "cell_type": "code",
   "execution_count": 20,
   "id": "a5b43859",
   "metadata": {
    "execution": {
     "iopub.execute_input": "2022-04-18T17:44:18.070081Z",
     "iopub.status.busy": "2022-04-18T17:44:18.069790Z",
     "iopub.status.idle": "2022-04-18T17:44:19.126775Z",
     "shell.execute_reply": "2022-04-18T17:44:19.126058Z"
    },
    "papermill": {
     "duration": 2.646542,
     "end_time": "2022-04-18T17:44:19.128994",
     "exception": false,
     "start_time": "2022-04-18T17:44:16.482452",
     "status": "completed"
    },
    "tags": []
   },
   "outputs": [
    {
     "name": "stdout",
     "output_type": "stream",
     "text": [
      "['angry', 'disgust', 'angry', 'angry', 'disgust', 'fear', 'fear', 'angry', 'happy', 'happy', 'disgust', 'angry', 'happy', 'fear', 'disgust', 'angry', 'happy', 'fear', 'surpise', 'happy', 'angry', 'angry', 'angry', 'fear', 'fear', 'happy', 'happy', 'angry', 'angry', 'fear', 'angry', 'angry', 'fear', 'happy', 'angry', 'angry', 'happy', 'angry', 'happy', 'happy', 'angry', 'surpise', 'fear', 'happy', 'angry', 'angry', 'angry', 'fear', 'disgust', 'angry', 'disgust', 'angry', 'angry', 'fear', 'angry', 'disgust', 'fear', 'disgust', 'disgust', 'angry', 'fear', 'fear', 'fear', 'happy', 'fear', 'fear', 'disgust', 'fear', 'fear', 'fear', 'happy', 'disgust', 'disgust', 'happy', 'disgust', 'fear', 'disgust', 'angry', 'fear', 'fear', 'disgust', 'angry', 'angry', 'angry', 'disgust', 'happy', 'happy', 'happy', 'disgust', 'angry', 'disgust', 'angry', 'happy', 'happy', 'disgust', 'fear', 'fear', 'angry', 'surpise', 'angry', 'fear', 'angry', 'disgust', 'angry', 'happy', 'fear', 'happy', 'happy', 'disgust', 'happy', 'disgust', 'angry', 'happy', 'disgust', 'angry', 'fear', 'happy', 'angry', 'angry', 'angry', 'disgust', 'angry', 'happy', 'happy', 'disgust', 'fear', 'fear', 'fear', 'angry', 'sad', 'angry', 'disgust', 'happy', 'surpise', 'happy', 'happy', 'happy', 'happy', 'disgust', 'happy', 'disgust', 'disgust', 'fear', 'disgust', 'disgust', 'angry', 'disgust', 'disgust', 'disgust', 'happy', 'angry', 'fear', 'angry', 'disgust', 'fear', 'happy', 'disgust', 'fear', 'surpise', 'fear', 'fear', 'fear', 'disgust', 'disgust', 'fear', 'fear', 'happy', 'fear', 'angry', 'disgust', 'disgust', 'disgust', 'fear', 'happy', 'happy', 'disgust', 'disgust', 'fear', 'surpise', 'disgust', 'happy', 'happy', 'happy', 'angry', 'angry', 'disgust', 'happy', 'happy', 'sad', 'happy', 'happy', 'fear', 'angry', 'disgust', 'happy', 'fear', 'happy', 'happy', 'angry', 'disgust', 'angry', 'fear', 'angry', 'fear', 'fear', 'happy', 'angry', 'fear', 'angry', 'fear', 'surpise', 'happy', 'angry', 'angry', 'angry', 'happy', 'angry', 'happy', 'disgust', 'happy', 'happy', 'happy', 'angry', 'disgust', 'disgust', 'disgust', 'fear', 'happy', 'happy', 'disgust', 'disgust', 'happy', 'angry', 'fear', 'fear', 'fear', 'fear', 'disgust', 'fear', 'angry', 'angry', 'angry', 'disgust', 'angry', 'disgust', 'fear', 'disgust', 'fear', 'angry', 'angry', 'fear', 'disgust', 'happy', 'fear', 'fear', 'angry', 'fear', 'fear', 'fear', 'angry', 'disgust', 'happy', 'happy', 'angry', 'disgust', 'happy', 'happy', 'disgust', 'disgust', 'disgust', 'fear', 'fear', 'happy', 'sad', 'surpise', 'fear', 'disgust', 'fear', 'fear', 'fear', 'disgust', 'fear', 'fear', 'angry', 'fear', 'disgust', 'happy', 'angry', 'happy', 'disgust', 'disgust', 'angry', 'angry', 'angry', 'fear', 'angry', 'surpise', 'angry', 'fear', 'fear', 'angry', 'angry', 'angry', 'happy', 'happy', 'angry', 'fear', 'angry', 'angry', 'happy', 'fear', 'fear', 'disgust', 'happy', 'happy', 'angry', 'fear', 'disgust', 'angry', 'fear', 'angry', 'disgust', 'angry', 'fear', 'angry', 'angry', 'disgust', 'fear', 'happy', 'happy', 'disgust', 'fear', 'happy', 'happy', 'disgust', 'fear', 'happy', 'fear', 'happy', 'angry', 'angry', 'happy', 'disgust', 'fear', 'fear', 'happy', 'fear', 'disgust', 'fear', 'angry', 'angry', 'happy', 'disgust', 'fear', 'happy', 'happy', 'disgust', 'happy', 'angry', 'angry', 'disgust', 'disgust', 'happy', 'disgust', 'angry', 'fear', 'disgust', 'happy', 'fear', 'happy', 'happy', 'fear', 'fear', 'fear', 'disgust', 'happy', 'angry', 'fear', 'fear', 'fear', 'happy', 'angry', 'angry', 'disgust', 'angry', 'angry', 'fear', 'disgust', 'disgust', 'happy', 'angry', 'disgust', 'happy', 'happy', 'angry', 'fear', 'fear', 'happy', 'fear', 'fear', 'happy', 'angry', 'disgust', 'angry', 'angry', 'angry', 'fear', 'angry', 'angry', 'angry', 'happy', 'angry', 'happy', 'happy', 'fear', 'happy', 'happy', 'disgust', 'angry', 'fear', 'disgust', 'fear', 'happy', 'angry', 'surpise', 'angry', 'happy', 'disgust', 'happy', 'fear', 'happy', 'disgust', 'fear', 'happy', 'disgust', 'fear', 'happy', 'happy', 'happy', 'angry', 'happy', 'happy', 'disgust', 'fear', 'disgust', 'fear', 'happy', 'disgust', 'angry', 'fear', 'happy', 'happy', 'disgust', 'happy', 'happy', 'happy', 'angry', 'surpise', 'fear', 'happy', 'fear', 'happy', 'happy', 'happy', 'fear', 'happy', 'surpise', 'fear', 'angry', 'disgust', 'happy', 'angry', 'sad', 'angry', 'fear', 'angry', 'disgust', 'disgust', 'angry', 'happy', 'fear', 'happy', 'happy', 'fear', 'fear', 'fear', 'fear', 'angry', 'happy', 'fear', 'disgust', 'disgust', 'angry', 'disgust', 'happy', 'happy', 'disgust', 'angry', 'angry', 'angry', 'angry', 'happy', 'happy', 'angry', 'happy', 'fear', 'fear', 'angry', 'happy', 'angry', 'angry', 'fear', 'happy', 'angry', 'angry', 'disgust', 'happy', 'disgust', 'happy', 'disgust', 'disgust', 'disgust', 'fear', 'disgust', 'disgust', 'angry', 'angry', 'angry', 'disgust', 'happy', 'fear', 'angry', 'fear', 'disgust', 'disgust', 'angry', 'happy', 'disgust', 'happy', 'angry', 'happy', 'angry', 'angry', 'happy', 'disgust', 'happy', 'fear', 'angry', 'fear', 'surpise', 'fear', 'happy', 'angry', 'disgust', 'angry', 'fear', 'happy', 'fear', 'fear', 'sad', 'fear', 'happy', 'happy', 'disgust', 'fear', 'disgust', 'disgust', 'fear', 'surpise', 'surpise', 'happy', 'happy', 'disgust', 'disgust', 'disgust', 'fear', 'angry', 'happy', 'happy', 'fear', 'angry', 'fear', 'angry', 'disgust', 'happy', 'angry', 'happy', 'disgust', 'surpise', 'happy', 'disgust', 'disgust', 'angry', 'angry', 'angry', 'disgust', 'fear', 'happy', 'fear', 'fear', 'fear', 'surpise', 'disgust', 'angry', 'disgust', 'happy', 'angry', 'disgust', 'happy', 'disgust', 'angry', 'angry', 'fear', 'angry', 'disgust', 'disgust', 'fear', 'happy', 'fear', 'fear', 'fear', 'fear', 'happy', 'fear', 'angry', 'fear', 'angry', 'fear', 'happy', 'angry', 'angry', 'fear', 'fear', 'angry', 'angry', 'disgust', 'disgust', 'fear', 'disgust', 'happy']\n"
     ]
    }
   ],
   "source": [
    "y_pred = predictor.predict(x_test)\n",
    "print(y_pred)"
   ]
  },
  {
   "cell_type": "code",
   "execution_count": 21,
   "id": "5157a122",
   "metadata": {
    "execution": {
     "iopub.execute_input": "2022-04-18T17:44:22.303938Z",
     "iopub.status.busy": "2022-04-18T17:44:22.303674Z",
     "iopub.status.idle": "2022-04-18T17:44:22.381234Z",
     "shell.execute_reply": "2022-04-18T17:44:22.380468Z"
    },
    "papermill": {
     "duration": 1.672355,
     "end_time": "2022-04-18T17:44:22.383302",
     "exception": false,
     "start_time": "2022-04-18T17:44:20.710947",
     "status": "completed"
    },
    "tags": []
   },
   "outputs": [
    {
     "name": "stdout",
     "output_type": "stream",
     "text": [
      "              precision    recall  f1-score   support\n",
      "\n",
      "       angry       0.52      0.58      0.55       144\n",
      "     disgust       0.16      0.33      0.22        66\n",
      "        fear       0.10      0.50      0.17        32\n",
      "       happy       0.73      0.62      0.67       187\n",
      "         sad       0.00      0.00      0.00       148\n",
      "     surpise       0.12      0.03      0.05        63\n",
      "\n",
      "    accuracy                           0.38       640\n",
      "   macro avg       0.27      0.34      0.28       640\n",
      "weighted avg       0.36      0.38      0.35       640\n",
      "\n"
     ]
    }
   ],
   "source": [
    "from sklearn.metrics import classification_report\n",
    "print(classification_report(y_test,y_pred))"
   ]
  }
 ],
 "metadata": {
  "kernelspec": {
   "display_name": "Python 3",
   "language": "python",
   "name": "python3"
  },
  "language_info": {
   "codemirror_mode": {
    "name": "ipython",
    "version": 3
   },
   "file_extension": ".py",
   "mimetype": "text/x-python",
   "name": "python",
   "nbconvert_exporter": "python",
   "pygments_lexer": "ipython3",
   "version": "3.7.12"
  },
  "papermill": {
   "default_parameters": {},
   "duration": 650.945481,
   "end_time": "2022-04-18T17:44:27.693993",
   "environment_variables": {},
   "exception": null,
   "input_path": "__notebook__.ipynb",
   "output_path": "__notebook__.ipynb",
   "parameters": {},
   "start_time": "2022-04-18T17:33:36.748512",
   "version": "2.3.4"
  },
  "widgets": {
   "application/vnd.jupyter.widget-state+json": {
    "state": {
     "079b063a84834c5f828d7483a8699814": {
      "model_module": "@jupyter-widgets/controls",
      "model_module_version": "1.5.0",
      "model_name": "FloatProgressModel",
      "state": {
       "_dom_classes": [],
       "_model_module": "@jupyter-widgets/controls",
       "_model_module_version": "1.5.0",
       "_model_name": "FloatProgressModel",
       "_view_count": null,
       "_view_module": "@jupyter-widgets/controls",
       "_view_module_version": "1.5.0",
       "_view_name": "ProgressView",
       "bar_style": "success",
       "description": "",
       "description_tooltip": null,
       "layout": "IPY_MODEL_2b2d68ba89c64c09b6a3c9e66cb1f93a",
       "max": 492142.0,
       "min": 0.0,
       "orientation": "horizontal",
       "style": "IPY_MODEL_f60685501b8149548dec15789579b924",
       "value": 492142.0
      }
     },
     "1a75731c5bfc41ec9e17a6cf5f5a5bc8": {
      "model_module": "@jupyter-widgets/base",
      "model_module_version": "1.2.0",
      "model_name": "LayoutModel",
      "state": {
       "_model_module": "@jupyter-widgets/base",
       "_model_module_version": "1.2.0",
       "_model_name": "LayoutModel",
       "_view_count": null,
       "_view_module": "@jupyter-widgets/base",
       "_view_module_version": "1.2.0",
       "_view_name": "LayoutView",
       "align_content": null,
       "align_items": null,
       "align_self": null,
       "border": null,
       "bottom": null,
       "display": null,
       "flex": null,
       "flex_flow": null,
       "grid_area": null,
       "grid_auto_columns": null,
       "grid_auto_flow": null,
       "grid_auto_rows": null,
       "grid_column": null,
       "grid_gap": null,
       "grid_row": null,
       "grid_template_areas": null,
       "grid_template_columns": null,
       "grid_template_rows": null,
       "height": null,
       "justify_content": null,
       "justify_items": null,
       "left": null,
       "margin": null,
       "max_height": null,
       "max_width": null,
       "min_height": null,
       "min_width": null,
       "object_fit": null,
       "object_position": null,
       "order": null,
       "overflow": null,
       "overflow_x": null,
       "overflow_y": null,
       "padding": null,
       "right": null,
       "top": null,
       "visibility": null,
       "width": null
      }
     },
     "22c9502ac41147ff8d597fe4b0c1cf97": {
      "model_module": "@jupyter-widgets/base",
      "model_module_version": "1.2.0",
      "model_name": "LayoutModel",
      "state": {
       "_model_module": "@jupyter-widgets/base",
       "_model_module_version": "1.2.0",
       "_model_name": "LayoutModel",
       "_view_count": null,
       "_view_module": "@jupyter-widgets/base",
       "_view_module_version": "1.2.0",
       "_view_name": "LayoutView",
       "align_content": null,
       "align_items": null,
       "align_self": null,
       "border": null,
       "bottom": null,
       "display": null,
       "flex": null,
       "flex_flow": null,
       "grid_area": null,
       "grid_auto_columns": null,
       "grid_auto_flow": null,
       "grid_auto_rows": null,
       "grid_column": null,
       "grid_gap": null,
       "grid_row": null,
       "grid_template_areas": null,
       "grid_template_columns": null,
       "grid_template_rows": null,
       "height": null,
       "justify_content": null,
       "justify_items": null,
       "left": null,
       "margin": null,
       "max_height": null,
       "max_width": null,
       "min_height": null,
       "min_width": null,
       "object_fit": null,
       "object_position": null,
       "order": null,
       "overflow": null,
       "overflow_x": null,
       "overflow_y": null,
       "padding": null,
       "right": null,
       "top": null,
       "visibility": null,
       "width": null
      }
     },
     "2b2d68ba89c64c09b6a3c9e66cb1f93a": {
      "model_module": "@jupyter-widgets/base",
      "model_module_version": "1.2.0",
      "model_name": "LayoutModel",
      "state": {
       "_model_module": "@jupyter-widgets/base",
       "_model_module_version": "1.2.0",
       "_model_name": "LayoutModel",
       "_view_count": null,
       "_view_module": "@jupyter-widgets/base",
       "_view_module_version": "1.2.0",
       "_view_name": "LayoutView",
       "align_content": null,
       "align_items": null,
       "align_self": null,
       "border": null,
       "bottom": null,
       "display": null,
       "flex": null,
       "flex_flow": null,
       "grid_area": null,
       "grid_auto_columns": null,
       "grid_auto_flow": null,
       "grid_auto_rows": null,
       "grid_column": null,
       "grid_gap": null,
       "grid_row": null,
       "grid_template_areas": null,
       "grid_template_columns": null,
       "grid_template_rows": null,
       "height": null,
       "justify_content": null,
       "justify_items": null,
       "left": null,
       "margin": null,
       "max_height": null,
       "max_width": null,
       "min_height": null,
       "min_width": null,
       "object_fit": null,
       "object_position": null,
       "order": null,
       "overflow": null,
       "overflow_x": null,
       "overflow_y": null,
       "padding": null,
       "right": null,
       "top": null,
       "visibility": null,
       "width": null
      }
     },
     "34f329323bf9422ea16229709376b1c1": {
      "model_module": "@jupyter-widgets/base",
      "model_module_version": "1.2.0",
      "model_name": "LayoutModel",
      "state": {
       "_model_module": "@jupyter-widgets/base",
       "_model_module_version": "1.2.0",
       "_model_name": "LayoutModel",
       "_view_count": null,
       "_view_module": "@jupyter-widgets/base",
       "_view_module_version": "1.2.0",
       "_view_name": "LayoutView",
       "align_content": null,
       "align_items": null,
       "align_self": null,
       "border": null,
       "bottom": null,
       "display": null,
       "flex": null,
       "flex_flow": null,
       "grid_area": null,
       "grid_auto_columns": null,
       "grid_auto_flow": null,
       "grid_auto_rows": null,
       "grid_column": null,
       "grid_gap": null,
       "grid_row": null,
       "grid_template_areas": null,
       "grid_template_columns": null,
       "grid_template_rows": null,
       "height": null,
       "justify_content": null,
       "justify_items": null,
       "left": null,
       "margin": null,
       "max_height": null,
       "max_width": null,
       "min_height": null,
       "min_width": null,
       "object_fit": null,
       "object_position": null,
       "order": null,
       "overflow": null,
       "overflow_x": null,
       "overflow_y": null,
       "padding": null,
       "right": null,
       "top": null,
       "visibility": null,
       "width": null
      }
     },
     "3526183cb8ea4eef8aa341b353104905": {
      "model_module": "@jupyter-widgets/base",
      "model_module_version": "1.2.0",
      "model_name": "LayoutModel",
      "state": {
       "_model_module": "@jupyter-widgets/base",
       "_model_module_version": "1.2.0",
       "_model_name": "LayoutModel",
       "_view_count": null,
       "_view_module": "@jupyter-widgets/base",
       "_view_module_version": "1.2.0",
       "_view_name": "LayoutView",
       "align_content": null,
       "align_items": null,
       "align_self": null,
       "border": null,
       "bottom": null,
       "display": null,
       "flex": null,
       "flex_flow": null,
       "grid_area": null,
       "grid_auto_columns": null,
       "grid_auto_flow": null,
       "grid_auto_rows": null,
       "grid_column": null,
       "grid_gap": null,
       "grid_row": null,
       "grid_template_areas": null,
       "grid_template_columns": null,
       "grid_template_rows": null,
       "height": null,
       "justify_content": null,
       "justify_items": null,
       "left": null,
       "margin": null,
       "max_height": null,
       "max_width": null,
       "min_height": null,
       "min_width": null,
       "object_fit": null,
       "object_position": null,
       "order": null,
       "overflow": null,
       "overflow_x": null,
       "overflow_y": null,
       "padding": null,
       "right": null,
       "top": null,
       "visibility": null,
       "width": null
      }
     },
     "373936b095584c8eab7734d448ea2b8e": {
      "model_module": "@jupyter-widgets/controls",
      "model_module_version": "1.5.0",
      "model_name": "ProgressStyleModel",
      "state": {
       "_model_module": "@jupyter-widgets/controls",
       "_model_module_version": "1.5.0",
       "_model_name": "ProgressStyleModel",
       "_view_count": null,
       "_view_module": "@jupyter-widgets/base",
       "_view_module_version": "1.2.0",
       "_view_name": "StyleView",
       "bar_color": null,
       "description_width": ""
      }
     },
     "3760456db08e4e059bac7342609ee6b3": {
      "model_module": "@jupyter-widgets/controls",
      "model_module_version": "1.5.0",
      "model_name": "DescriptionStyleModel",
      "state": {
       "_model_module": "@jupyter-widgets/controls",
       "_model_module_version": "1.5.0",
       "_model_name": "DescriptionStyleModel",
       "_view_count": null,
       "_view_module": "@jupyter-widgets/base",
       "_view_module_version": "1.2.0",
       "_view_name": "StyleView",
       "description_width": ""
      }
     },
     "3bb46332dd3e4ad695867d74f26e4e94": {
      "model_module": "@jupyter-widgets/controls",
      "model_module_version": "1.5.0",
      "model_name": "HTMLModel",
      "state": {
       "_dom_classes": [],
       "_model_module": "@jupyter-widgets/controls",
       "_model_module_version": "1.5.0",
       "_model_name": "HTMLModel",
       "_view_count": null,
       "_view_module": "@jupyter-widgets/controls",
       "_view_module_version": "1.5.0",
       "_view_name": "HTMLView",
       "description": "",
       "description_tooltip": null,
       "layout": "IPY_MODEL_db9504082a8e49cab2316ca9afb63c05",
       "placeholder": "​",
       "style": "IPY_MODEL_7c77e9aef9be46d1810086d626250114",
       "value": "Downloading: 100%"
      }
     },
     "3c8d39129bd840cc8bd48a69ae271419": {
      "model_module": "@jupyter-widgets/controls",
      "model_module_version": "1.5.0",
      "model_name": "DescriptionStyleModel",
      "state": {
       "_model_module": "@jupyter-widgets/controls",
       "_model_module_version": "1.5.0",
       "_model_name": "DescriptionStyleModel",
       "_view_count": null,
       "_view_module": "@jupyter-widgets/base",
       "_view_module_version": "1.2.0",
       "_view_name": "StyleView",
       "description_width": ""
      }
     },
     "41a47631bcfa445286b1178c2db42c14": {
      "model_module": "@jupyter-widgets/controls",
      "model_module_version": "1.5.0",
      "model_name": "DescriptionStyleModel",
      "state": {
       "_model_module": "@jupyter-widgets/controls",
       "_model_module_version": "1.5.0",
       "_model_name": "DescriptionStyleModel",
       "_view_count": null,
       "_view_module": "@jupyter-widgets/base",
       "_view_module_version": "1.2.0",
       "_view_name": "StyleView",
       "description_width": ""
      }
     },
     "49bf65b7edf945ef90a5cca5e3e230e1": {
      "model_module": "@jupyter-widgets/controls",
      "model_module_version": "1.5.0",
      "model_name": "HTMLModel",
      "state": {
       "_dom_classes": [],
       "_model_module": "@jupyter-widgets/controls",
       "_model_module_version": "1.5.0",
       "_model_name": "HTMLModel",
       "_view_count": null,
       "_view_module": "@jupyter-widgets/controls",
       "_view_module_version": "1.5.0",
       "_view_name": "HTMLView",
       "description": "",
       "description_tooltip": null,
       "layout": "IPY_MODEL_b06d2daf0bd646589191e4fe16d8ec70",
       "placeholder": "​",
       "style": "IPY_MODEL_3760456db08e4e059bac7342609ee6b3",
       "value": "Downloading: 100%"
      }
     },
     "49d87de0eb3e42109501d0aa2d1e9058": {
      "model_module": "@jupyter-widgets/controls",
      "model_module_version": "1.5.0",
      "model_name": "HTMLModel",
      "state": {
       "_dom_classes": [],
       "_model_module": "@jupyter-widgets/controls",
       "_model_module_version": "1.5.0",
       "_model_name": "HTMLModel",
       "_view_count": null,
       "_view_module": "@jupyter-widgets/controls",
       "_view_module_version": "1.5.0",
       "_view_name": "HTMLView",
       "description": "",
       "description_tooltip": null,
       "layout": "IPY_MODEL_1a75731c5bfc41ec9e17a6cf5f5a5bc8",
       "placeholder": "​",
       "style": "IPY_MODEL_41a47631bcfa445286b1178c2db42c14",
       "value": " 492k/492k [00:00&lt;00:00, 746kB/s]"
      }
     },
     "4ae1202b504341fb831770a46faf0e86": {
      "model_module": "@jupyter-widgets/controls",
      "model_module_version": "1.5.0",
      "model_name": "HBoxModel",
      "state": {
       "_dom_classes": [],
       "_model_module": "@jupyter-widgets/controls",
       "_model_module_version": "1.5.0",
       "_model_name": "HBoxModel",
       "_view_count": null,
       "_view_module": "@jupyter-widgets/controls",
       "_view_module_version": "1.5.0",
       "_view_name": "HBoxView",
       "box_style": "",
       "children": [
        "IPY_MODEL_49bf65b7edf945ef90a5cca5e3e230e1",
        "IPY_MODEL_8a854e5ba90147d7805797f20e37178a",
        "IPY_MODEL_e14c6a38d80948aba4360e0ae775dac9"
       ],
       "layout": "IPY_MODEL_66793d625c844efdbf2b6aae9865b9da"
      }
     },
     "4ce4259274464c9585aaf7e00274088d": {
      "model_module": "@jupyter-widgets/base",
      "model_module_version": "1.2.0",
      "model_name": "LayoutModel",
      "state": {
       "_model_module": "@jupyter-widgets/base",
       "_model_module_version": "1.2.0",
       "_model_name": "LayoutModel",
       "_view_count": null,
       "_view_module": "@jupyter-widgets/base",
       "_view_module_version": "1.2.0",
       "_view_name": "LayoutView",
       "align_content": null,
       "align_items": null,
       "align_self": null,
       "border": null,
       "bottom": null,
       "display": null,
       "flex": null,
       "flex_flow": null,
       "grid_area": null,
       "grid_auto_columns": null,
       "grid_auto_flow": null,
       "grid_auto_rows": null,
       "grid_column": null,
       "grid_gap": null,
       "grid_row": null,
       "grid_template_areas": null,
       "grid_template_columns": null,
       "grid_template_rows": null,
       "height": null,
       "justify_content": null,
       "justify_items": null,
       "left": null,
       "margin": null,
       "max_height": null,
       "max_width": null,
       "min_height": null,
       "min_width": null,
       "object_fit": null,
       "object_position": null,
       "order": null,
       "overflow": null,
       "overflow_x": null,
       "overflow_y": null,
       "padding": null,
       "right": null,
       "top": null,
       "visibility": null,
       "width": null
      }
     },
     "4e602535e53442408777cd692e6886fc": {
      "model_module": "@jupyter-widgets/base",
      "model_module_version": "1.2.0",
      "model_name": "LayoutModel",
      "state": {
       "_model_module": "@jupyter-widgets/base",
       "_model_module_version": "1.2.0",
       "_model_name": "LayoutModel",
       "_view_count": null,
       "_view_module": "@jupyter-widgets/base",
       "_view_module_version": "1.2.0",
       "_view_name": "LayoutView",
       "align_content": null,
       "align_items": null,
       "align_self": null,
       "border": null,
       "bottom": null,
       "display": null,
       "flex": null,
       "flex_flow": null,
       "grid_area": null,
       "grid_auto_columns": null,
       "grid_auto_flow": null,
       "grid_auto_rows": null,
       "grid_column": null,
       "grid_gap": null,
       "grid_row": null,
       "grid_template_areas": null,
       "grid_template_columns": null,
       "grid_template_rows": null,
       "height": null,
       "justify_content": null,
       "justify_items": null,
       "left": null,
       "margin": null,
       "max_height": null,
       "max_width": null,
       "min_height": null,
       "min_width": null,
       "object_fit": null,
       "object_position": null,
       "order": null,
       "overflow": null,
       "overflow_x": null,
       "overflow_y": null,
       "padding": null,
       "right": null,
       "top": null,
       "visibility": null,
       "width": null
      }
     },
     "4e8e642dd5de4bdd802688b63e81b8e8": {
      "model_module": "@jupyter-widgets/controls",
      "model_module_version": "1.5.0",
      "model_name": "FloatProgressModel",
      "state": {
       "_dom_classes": [],
       "_model_module": "@jupyter-widgets/controls",
       "_model_module_version": "1.5.0",
       "_model_name": "FloatProgressModel",
       "_view_count": null,
       "_view_module": "@jupyter-widgets/controls",
       "_view_module_version": "1.5.0",
       "_view_name": "ProgressView",
       "bar_style": "success",
       "description": "",
       "description_tooltip": null,
       "layout": "IPY_MODEL_34f329323bf9422ea16229709376b1c1",
       "max": 54146476.0,
       "min": 0.0,
       "orientation": "horizontal",
       "style": "IPY_MODEL_e7cb22f58a924a98a8bc39853ee3ee6f",
       "value": 54146476.0
      }
     },
     "52cf2829f0144836b7ab5106268ab7a7": {
      "model_module": "@jupyter-widgets/base",
      "model_module_version": "1.2.0",
      "model_name": "LayoutModel",
      "state": {
       "_model_module": "@jupyter-widgets/base",
       "_model_module_version": "1.2.0",
       "_model_name": "LayoutModel",
       "_view_count": null,
       "_view_module": "@jupyter-widgets/base",
       "_view_module_version": "1.2.0",
       "_view_name": "LayoutView",
       "align_content": null,
       "align_items": null,
       "align_self": null,
       "border": null,
       "bottom": null,
       "display": null,
       "flex": null,
       "flex_flow": null,
       "grid_area": null,
       "grid_auto_columns": null,
       "grid_auto_flow": null,
       "grid_auto_rows": null,
       "grid_column": null,
       "grid_gap": null,
       "grid_row": null,
       "grid_template_areas": null,
       "grid_template_columns": null,
       "grid_template_rows": null,
       "height": null,
       "justify_content": null,
       "justify_items": null,
       "left": null,
       "margin": null,
       "max_height": null,
       "max_width": null,
       "min_height": null,
       "min_width": null,
       "object_fit": null,
       "object_position": null,
       "order": null,
       "overflow": null,
       "overflow_x": null,
       "overflow_y": null,
       "padding": null,
       "right": null,
       "top": null,
       "visibility": null,
       "width": null
      }
     },
     "5315b166e040445cae3dcc6e0449b161": {
      "model_module": "@jupyter-widgets/controls",
      "model_module_version": "1.5.0",
      "model_name": "HTMLModel",
      "state": {
       "_dom_classes": [],
       "_model_module": "@jupyter-widgets/controls",
       "_model_module_version": "1.5.0",
       "_model_name": "HTMLModel",
       "_view_count": null,
       "_view_module": "@jupyter-widgets/controls",
       "_view_module_version": "1.5.0",
       "_view_name": "HTMLView",
       "description": "",
       "description_tooltip": null,
       "layout": "IPY_MODEL_6282fca0053d49d7936f65c7f2fc34ae",
       "placeholder": "​",
       "style": "IPY_MODEL_82f663b858154f359028dd96761c2b21",
       "value": "Downloading: 100%"
      }
     },
     "5831578459e645609eb9610de75cb674": {
      "model_module": "@jupyter-widgets/base",
      "model_module_version": "1.2.0",
      "model_name": "LayoutModel",
      "state": {
       "_model_module": "@jupyter-widgets/base",
       "_model_module_version": "1.2.0",
       "_model_name": "LayoutModel",
       "_view_count": null,
       "_view_module": "@jupyter-widgets/base",
       "_view_module_version": "1.2.0",
       "_view_name": "LayoutView",
       "align_content": null,
       "align_items": null,
       "align_self": null,
       "border": null,
       "bottom": null,
       "display": null,
       "flex": null,
       "flex_flow": null,
       "grid_area": null,
       "grid_auto_columns": null,
       "grid_auto_flow": null,
       "grid_auto_rows": null,
       "grid_column": null,
       "grid_gap": null,
       "grid_row": null,
       "grid_template_areas": null,
       "grid_template_columns": null,
       "grid_template_rows": null,
       "height": null,
       "justify_content": null,
       "justify_items": null,
       "left": null,
       "margin": null,
       "max_height": null,
       "max_width": null,
       "min_height": null,
       "min_width": null,
       "object_fit": null,
       "object_position": null,
       "order": null,
       "overflow": null,
       "overflow_x": null,
       "overflow_y": null,
       "padding": null,
       "right": null,
       "top": null,
       "visibility": null,
       "width": null
      }
     },
     "583cd7647dfb4becbd2bd772dbe73571": {
      "model_module": "@jupyter-widgets/base",
      "model_module_version": "1.2.0",
      "model_name": "LayoutModel",
      "state": {
       "_model_module": "@jupyter-widgets/base",
       "_model_module_version": "1.2.0",
       "_model_name": "LayoutModel",
       "_view_count": null,
       "_view_module": "@jupyter-widgets/base",
       "_view_module_version": "1.2.0",
       "_view_name": "LayoutView",
       "align_content": null,
       "align_items": null,
       "align_self": null,
       "border": null,
       "bottom": null,
       "display": null,
       "flex": null,
       "flex_flow": null,
       "grid_area": null,
       "grid_auto_columns": null,
       "grid_auto_flow": null,
       "grid_auto_rows": null,
       "grid_column": null,
       "grid_gap": null,
       "grid_row": null,
       "grid_template_areas": null,
       "grid_template_columns": null,
       "grid_template_rows": null,
       "height": null,
       "justify_content": null,
       "justify_items": null,
       "left": null,
       "margin": null,
       "max_height": null,
       "max_width": null,
       "min_height": null,
       "min_width": null,
       "object_fit": null,
       "object_position": null,
       "order": null,
       "overflow": null,
       "overflow_x": null,
       "overflow_y": null,
       "padding": null,
       "right": null,
       "top": null,
       "visibility": null,
       "width": null
      }
     },
     "6282fca0053d49d7936f65c7f2fc34ae": {
      "model_module": "@jupyter-widgets/base",
      "model_module_version": "1.2.0",
      "model_name": "LayoutModel",
      "state": {
       "_model_module": "@jupyter-widgets/base",
       "_model_module_version": "1.2.0",
       "_model_name": "LayoutModel",
       "_view_count": null,
       "_view_module": "@jupyter-widgets/base",
       "_view_module_version": "1.2.0",
       "_view_name": "LayoutView",
       "align_content": null,
       "align_items": null,
       "align_self": null,
       "border": null,
       "bottom": null,
       "display": null,
       "flex": null,
       "flex_flow": null,
       "grid_area": null,
       "grid_auto_columns": null,
       "grid_auto_flow": null,
       "grid_auto_rows": null,
       "grid_column": null,
       "grid_gap": null,
       "grid_row": null,
       "grid_template_areas": null,
       "grid_template_columns": null,
       "grid_template_rows": null,
       "height": null,
       "justify_content": null,
       "justify_items": null,
       "left": null,
       "margin": null,
       "max_height": null,
       "max_width": null,
       "min_height": null,
       "min_width": null,
       "object_fit": null,
       "object_position": null,
       "order": null,
       "overflow": null,
       "overflow_x": null,
       "overflow_y": null,
       "padding": null,
       "right": null,
       "top": null,
       "visibility": null,
       "width": null
      }
     },
     "66793d625c844efdbf2b6aae9865b9da": {
      "model_module": "@jupyter-widgets/base",
      "model_module_version": "1.2.0",
      "model_name": "LayoutModel",
      "state": {
       "_model_module": "@jupyter-widgets/base",
       "_model_module_version": "1.2.0",
       "_model_name": "LayoutModel",
       "_view_count": null,
       "_view_module": "@jupyter-widgets/base",
       "_view_module_version": "1.2.0",
       "_view_name": "LayoutView",
       "align_content": null,
       "align_items": null,
       "align_self": null,
       "border": null,
       "bottom": null,
       "display": null,
       "flex": null,
       "flex_flow": null,
       "grid_area": null,
       "grid_auto_columns": null,
       "grid_auto_flow": null,
       "grid_auto_rows": null,
       "grid_column": null,
       "grid_gap": null,
       "grid_row": null,
       "grid_template_areas": null,
       "grid_template_columns": null,
       "grid_template_rows": null,
       "height": null,
       "justify_content": null,
       "justify_items": null,
       "left": null,
       "margin": null,
       "max_height": null,
       "max_width": null,
       "min_height": null,
       "min_width": null,
       "object_fit": null,
       "object_position": null,
       "order": null,
       "overflow": null,
       "overflow_x": null,
       "overflow_y": null,
       "padding": null,
       "right": null,
       "top": null,
       "visibility": null,
       "width": null
      }
     },
     "694a7573f5704b3dacebcda4e9c472c9": {
      "model_module": "@jupyter-widgets/base",
      "model_module_version": "1.2.0",
      "model_name": "LayoutModel",
      "state": {
       "_model_module": "@jupyter-widgets/base",
       "_model_module_version": "1.2.0",
       "_model_name": "LayoutModel",
       "_view_count": null,
       "_view_module": "@jupyter-widgets/base",
       "_view_module_version": "1.2.0",
       "_view_name": "LayoutView",
       "align_content": null,
       "align_items": null,
       "align_self": null,
       "border": null,
       "bottom": null,
       "display": null,
       "flex": null,
       "flex_flow": null,
       "grid_area": null,
       "grid_auto_columns": null,
       "grid_auto_flow": null,
       "grid_auto_rows": null,
       "grid_column": null,
       "grid_gap": null,
       "grid_row": null,
       "grid_template_areas": null,
       "grid_template_columns": null,
       "grid_template_rows": null,
       "height": null,
       "justify_content": null,
       "justify_items": null,
       "left": null,
       "margin": null,
       "max_height": null,
       "max_width": null,
       "min_height": null,
       "min_width": null,
       "object_fit": null,
       "object_position": null,
       "order": null,
       "overflow": null,
       "overflow_x": null,
       "overflow_y": null,
       "padding": null,
       "right": null,
       "top": null,
       "visibility": null,
       "width": null
      }
     },
     "6d44118e23dc4b798c1f80bc6ef71bec": {
      "model_module": "@jupyter-widgets/controls",
      "model_module_version": "1.5.0",
      "model_name": "DescriptionStyleModel",
      "state": {
       "_model_module": "@jupyter-widgets/controls",
       "_model_module_version": "1.5.0",
       "_model_name": "DescriptionStyleModel",
       "_view_count": null,
       "_view_module": "@jupyter-widgets/base",
       "_view_module_version": "1.2.0",
       "_view_name": "StyleView",
       "description_width": ""
      }
     },
     "70e8097860ed434e899ceb1e7b3fccc6": {
      "model_module": "@jupyter-widgets/controls",
      "model_module_version": "1.5.0",
      "model_name": "HTMLModel",
      "state": {
       "_dom_classes": [],
       "_model_module": "@jupyter-widgets/controls",
       "_model_module_version": "1.5.0",
       "_model_name": "HTMLModel",
       "_view_count": null,
       "_view_module": "@jupyter-widgets/controls",
       "_view_module_version": "1.5.0",
       "_view_name": "HTMLView",
       "description": "",
       "description_tooltip": null,
       "layout": "IPY_MODEL_ef9d321603f440038b25429785601df3",
       "placeholder": "​",
       "style": "IPY_MODEL_3c8d39129bd840cc8bd48a69ae271419",
       "value": " 391/391 [00:00&lt;00:00, 15.0kB/s]"
      }
     },
     "71a142efa36f4dac9f33f7cd7c804a0c": {
      "model_module": "@jupyter-widgets/controls",
      "model_module_version": "1.5.0",
      "model_name": "HTMLModel",
      "state": {
       "_dom_classes": [],
       "_model_module": "@jupyter-widgets/controls",
       "_model_module_version": "1.5.0",
       "_model_name": "HTMLModel",
       "_view_count": null,
       "_view_module": "@jupyter-widgets/controls",
       "_view_module_version": "1.5.0",
       "_view_name": "HTMLView",
       "description": "",
       "description_tooltip": null,
       "layout": "IPY_MODEL_3526183cb8ea4eef8aa341b353104905",
       "placeholder": "​",
       "style": "IPY_MODEL_f31dade6b887420db1dea381d405b04d",
       "value": "Downloading: 100%"
      }
     },
     "72137af1584642afb54e49b7ef37a73d": {
      "model_module": "@jupyter-widgets/controls",
      "model_module_version": "1.5.0",
      "model_name": "FloatProgressModel",
      "state": {
       "_dom_classes": [],
       "_model_module": "@jupyter-widgets/controls",
       "_model_module_version": "1.5.0",
       "_model_name": "FloatProgressModel",
       "_view_count": null,
       "_view_module": "@jupyter-widgets/controls",
       "_view_module_version": "1.5.0",
       "_view_name": "ProgressView",
       "bar_style": "success",
       "description": "",
       "description_tooltip": null,
       "layout": "IPY_MODEL_583cd7647dfb4becbd2bd772dbe73571",
       "max": 391.0,
       "min": 0.0,
       "orientation": "horizontal",
       "style": "IPY_MODEL_373936b095584c8eab7734d448ea2b8e",
       "value": 391.0
      }
     },
     "7643e649663e4ab08dbdaba95337e9e5": {
      "model_module": "@jupyter-widgets/controls",
      "model_module_version": "1.5.0",
      "model_name": "HTMLModel",
      "state": {
       "_dom_classes": [],
       "_model_module": "@jupyter-widgets/controls",
       "_model_module_version": "1.5.0",
       "_model_name": "HTMLModel",
       "_view_count": null,
       "_view_module": "@jupyter-widgets/controls",
       "_view_module_version": "1.5.0",
       "_view_name": "HTMLView",
       "description": "",
       "description_tooltip": null,
       "layout": "IPY_MODEL_97504580a7224c9b966ac2ae03567ddd",
       "placeholder": "​",
       "style": "IPY_MODEL_f8d38d946fc0463a92d9713a549d6033",
       "value": "Downloading: 100%"
      }
     },
     "76e3ec72565349e4ad44f4f376060e67": {
      "model_module": "@jupyter-widgets/controls",
      "model_module_version": "1.5.0",
      "model_name": "HTMLModel",
      "state": {
       "_dom_classes": [],
       "_model_module": "@jupyter-widgets/controls",
       "_model_module_version": "1.5.0",
       "_model_name": "HTMLModel",
       "_view_count": null,
       "_view_module": "@jupyter-widgets/controls",
       "_view_module_version": "1.5.0",
       "_view_name": "HTMLView",
       "description": "",
       "description_tooltip": null,
       "layout": "IPY_MODEL_694a7573f5704b3dacebcda4e9c472c9",
       "placeholder": "​",
       "style": "IPY_MODEL_947a450551104aa38c7ee808ada92c9f",
       "value": " 161/161 [00:00&lt;00:00, 6.61kB/s]"
      }
     },
     "7c77e9aef9be46d1810086d626250114": {
      "model_module": "@jupyter-widgets/controls",
      "model_module_version": "1.5.0",
      "model_name": "DescriptionStyleModel",
      "state": {
       "_model_module": "@jupyter-widgets/controls",
       "_model_module_version": "1.5.0",
       "_model_name": "DescriptionStyleModel",
       "_view_count": null,
       "_view_module": "@jupyter-widgets/base",
       "_view_module_version": "1.2.0",
       "_view_name": "StyleView",
       "description_width": ""
      }
     },
     "82f663b858154f359028dd96761c2b21": {
      "model_module": "@jupyter-widgets/controls",
      "model_module_version": "1.5.0",
      "model_name": "DescriptionStyleModel",
      "state": {
       "_model_module": "@jupyter-widgets/controls",
       "_model_module_version": "1.5.0",
       "_model_name": "DescriptionStyleModel",
       "_view_count": null,
       "_view_module": "@jupyter-widgets/base",
       "_view_module_version": "1.2.0",
       "_view_name": "StyleView",
       "description_width": ""
      }
     },
     "8a854e5ba90147d7805797f20e37178a": {
      "model_module": "@jupyter-widgets/controls",
      "model_module_version": "1.5.0",
      "model_name": "FloatProgressModel",
      "state": {
       "_dom_classes": [],
       "_model_module": "@jupyter-widgets/controls",
       "_model_module_version": "1.5.0",
       "_model_name": "FloatProgressModel",
       "_view_count": null,
       "_view_module": "@jupyter-widgets/controls",
       "_view_module_version": "1.5.0",
       "_view_name": "ProgressView",
       "bar_style": "success",
       "description": "",
       "description_tooltip": null,
       "layout": "IPY_MODEL_5831578459e645609eb9610de75cb674",
       "max": 112.0,
       "min": 0.0,
       "orientation": "horizontal",
       "style": "IPY_MODEL_f201e940878c4201bb1dabbebc436496",
       "value": 112.0
      }
     },
     "947a450551104aa38c7ee808ada92c9f": {
      "model_module": "@jupyter-widgets/controls",
      "model_module_version": "1.5.0",
      "model_name": "DescriptionStyleModel",
      "state": {
       "_model_module": "@jupyter-widgets/controls",
       "_model_module_version": "1.5.0",
       "_model_name": "DescriptionStyleModel",
       "_view_count": null,
       "_view_module": "@jupyter-widgets/base",
       "_view_module_version": "1.2.0",
       "_view_name": "StyleView",
       "description_width": ""
      }
     },
     "97504580a7224c9b966ac2ae03567ddd": {
      "model_module": "@jupyter-widgets/base",
      "model_module_version": "1.2.0",
      "model_name": "LayoutModel",
      "state": {
       "_model_module": "@jupyter-widgets/base",
       "_model_module_version": "1.2.0",
       "_model_name": "LayoutModel",
       "_view_count": null,
       "_view_module": "@jupyter-widgets/base",
       "_view_module_version": "1.2.0",
       "_view_name": "LayoutView",
       "align_content": null,
       "align_items": null,
       "align_self": null,
       "border": null,
       "bottom": null,
       "display": null,
       "flex": null,
       "flex_flow": null,
       "grid_area": null,
       "grid_auto_columns": null,
       "grid_auto_flow": null,
       "grid_auto_rows": null,
       "grid_column": null,
       "grid_gap": null,
       "grid_row": null,
       "grid_template_areas": null,
       "grid_template_columns": null,
       "grid_template_rows": null,
       "height": null,
       "justify_content": null,
       "justify_items": null,
       "left": null,
       "margin": null,
       "max_height": null,
       "max_width": null,
       "min_height": null,
       "min_width": null,
       "object_fit": null,
       "object_position": null,
       "order": null,
       "overflow": null,
       "overflow_x": null,
       "overflow_y": null,
       "padding": null,
       "right": null,
       "top": null,
       "visibility": null,
       "width": null
      }
     },
     "a20f98498c6643a2bbac6973b82d198b": {
      "model_module": "@jupyter-widgets/controls",
      "model_module_version": "1.5.0",
      "model_name": "FloatProgressModel",
      "state": {
       "_dom_classes": [],
       "_model_module": "@jupyter-widgets/controls",
       "_model_module_version": "1.5.0",
       "_model_name": "FloatProgressModel",
       "_view_count": null,
       "_view_module": "@jupyter-widgets/controls",
       "_view_module_version": "1.5.0",
       "_view_name": "ProgressView",
       "bar_style": "success",
       "description": "",
       "description_tooltip": null,
       "layout": "IPY_MODEL_4e602535e53442408777cd692e6886fc",
       "max": 161.0,
       "min": 0.0,
       "orientation": "horizontal",
       "style": "IPY_MODEL_f36e5cce52354d958258b8a6bc312d13",
       "value": 161.0
      }
     },
     "ae8aedaf3ad74410937b40a0041e0b54": {
      "model_module": "@jupyter-widgets/controls",
      "model_module_version": "1.5.0",
      "model_name": "HBoxModel",
      "state": {
       "_dom_classes": [],
       "_model_module": "@jupyter-widgets/controls",
       "_model_module_version": "1.5.0",
       "_model_name": "HBoxModel",
       "_view_count": null,
       "_view_module": "@jupyter-widgets/controls",
       "_view_module_version": "1.5.0",
       "_view_name": "HBoxView",
       "box_style": "",
       "children": [
        "IPY_MODEL_5315b166e040445cae3dcc6e0449b161",
        "IPY_MODEL_72137af1584642afb54e49b7ef37a73d",
        "IPY_MODEL_70e8097860ed434e899ceb1e7b3fccc6"
       ],
       "layout": "IPY_MODEL_bacd6ab24d874f0985b39b769d8bdb3b"
      }
     },
     "aeef251b7db14170a50ba7a6d02cb4af": {
      "model_module": "@jupyter-widgets/controls",
      "model_module_version": "1.5.0",
      "model_name": "HBoxModel",
      "state": {
       "_dom_classes": [],
       "_model_module": "@jupyter-widgets/controls",
       "_model_module_version": "1.5.0",
       "_model_name": "HBoxModel",
       "_view_count": null,
       "_view_module": "@jupyter-widgets/controls",
       "_view_module_version": "1.5.0",
       "_view_name": "HBoxView",
       "box_style": "",
       "children": [
        "IPY_MODEL_71a142efa36f4dac9f33f7cd7c804a0c",
        "IPY_MODEL_a20f98498c6643a2bbac6973b82d198b",
        "IPY_MODEL_76e3ec72565349e4ad44f4f376060e67"
       ],
       "layout": "IPY_MODEL_22c9502ac41147ff8d597fe4b0c1cf97"
      }
     },
     "b06d2daf0bd646589191e4fe16d8ec70": {
      "model_module": "@jupyter-widgets/base",
      "model_module_version": "1.2.0",
      "model_name": "LayoutModel",
      "state": {
       "_model_module": "@jupyter-widgets/base",
       "_model_module_version": "1.2.0",
       "_model_name": "LayoutModel",
       "_view_count": null,
       "_view_module": "@jupyter-widgets/base",
       "_view_module_version": "1.2.0",
       "_view_name": "LayoutView",
       "align_content": null,
       "align_items": null,
       "align_self": null,
       "border": null,
       "bottom": null,
       "display": null,
       "flex": null,
       "flex_flow": null,
       "grid_area": null,
       "grid_auto_columns": null,
       "grid_auto_flow": null,
       "grid_auto_rows": null,
       "grid_column": null,
       "grid_gap": null,
       "grid_row": null,
       "grid_template_areas": null,
       "grid_template_columns": null,
       "grid_template_rows": null,
       "height": null,
       "justify_content": null,
       "justify_items": null,
       "left": null,
       "margin": null,
       "max_height": null,
       "max_width": null,
       "min_height": null,
       "min_width": null,
       "object_fit": null,
       "object_position": null,
       "order": null,
       "overflow": null,
       "overflow_x": null,
       "overflow_y": null,
       "padding": null,
       "right": null,
       "top": null,
       "visibility": null,
       "width": null
      }
     },
     "bacd6ab24d874f0985b39b769d8bdb3b": {
      "model_module": "@jupyter-widgets/base",
      "model_module_version": "1.2.0",
      "model_name": "LayoutModel",
      "state": {
       "_model_module": "@jupyter-widgets/base",
       "_model_module_version": "1.2.0",
       "_model_name": "LayoutModel",
       "_view_count": null,
       "_view_module": "@jupyter-widgets/base",
       "_view_module_version": "1.2.0",
       "_view_name": "LayoutView",
       "align_content": null,
       "align_items": null,
       "align_self": null,
       "border": null,
       "bottom": null,
       "display": null,
       "flex": null,
       "flex_flow": null,
       "grid_area": null,
       "grid_auto_columns": null,
       "grid_auto_flow": null,
       "grid_auto_rows": null,
       "grid_column": null,
       "grid_gap": null,
       "grid_row": null,
       "grid_template_areas": null,
       "grid_template_columns": null,
       "grid_template_rows": null,
       "height": null,
       "justify_content": null,
       "justify_items": null,
       "left": null,
       "margin": null,
       "max_height": null,
       "max_width": null,
       "min_height": null,
       "min_width": null,
       "object_fit": null,
       "object_position": null,
       "order": null,
       "overflow": null,
       "overflow_x": null,
       "overflow_y": null,
       "padding": null,
       "right": null,
       "top": null,
       "visibility": null,
       "width": null
      }
     },
     "c190e0ca25d4491390e4d850033f8638": {
      "model_module": "@jupyter-widgets/base",
      "model_module_version": "1.2.0",
      "model_name": "LayoutModel",
      "state": {
       "_model_module": "@jupyter-widgets/base",
       "_model_module_version": "1.2.0",
       "_model_name": "LayoutModel",
       "_view_count": null,
       "_view_module": "@jupyter-widgets/base",
       "_view_module_version": "1.2.0",
       "_view_name": "LayoutView",
       "align_content": null,
       "align_items": null,
       "align_self": null,
       "border": null,
       "bottom": null,
       "display": null,
       "flex": null,
       "flex_flow": null,
       "grid_area": null,
       "grid_auto_columns": null,
       "grid_auto_flow": null,
       "grid_auto_rows": null,
       "grid_column": null,
       "grid_gap": null,
       "grid_row": null,
       "grid_template_areas": null,
       "grid_template_columns": null,
       "grid_template_rows": null,
       "height": null,
       "justify_content": null,
       "justify_items": null,
       "left": null,
       "margin": null,
       "max_height": null,
       "max_width": null,
       "min_height": null,
       "min_width": null,
       "object_fit": null,
       "object_position": null,
       "order": null,
       "overflow": null,
       "overflow_x": null,
       "overflow_y": null,
       "padding": null,
       "right": null,
       "top": null,
       "visibility": null,
       "width": null
      }
     },
     "c6a5808c1afc492e9b432193c9ddf6fa": {
      "model_module": "@jupyter-widgets/controls",
      "model_module_version": "1.5.0",
      "model_name": "HBoxModel",
      "state": {
       "_dom_classes": [],
       "_model_module": "@jupyter-widgets/controls",
       "_model_module_version": "1.5.0",
       "_model_name": "HBoxModel",
       "_view_count": null,
       "_view_module": "@jupyter-widgets/controls",
       "_view_module_version": "1.5.0",
       "_view_name": "HBoxView",
       "box_style": "",
       "children": [
        "IPY_MODEL_3bb46332dd3e4ad695867d74f26e4e94",
        "IPY_MODEL_079b063a84834c5f828d7483a8699814",
        "IPY_MODEL_49d87de0eb3e42109501d0aa2d1e9058"
       ],
       "layout": "IPY_MODEL_c190e0ca25d4491390e4d850033f8638"
      }
     },
     "d11716e16fb14699b63b8021052478fc": {
      "model_module": "@jupyter-widgets/controls",
      "model_module_version": "1.5.0",
      "model_name": "HTMLModel",
      "state": {
       "_dom_classes": [],
       "_model_module": "@jupyter-widgets/controls",
       "_model_module_version": "1.5.0",
       "_model_name": "HTMLModel",
       "_view_count": null,
       "_view_module": "@jupyter-widgets/controls",
       "_view_module_version": "1.5.0",
       "_view_name": "HTMLView",
       "description": "",
       "description_tooltip": null,
       "layout": "IPY_MODEL_e48ba507a61a4022b44f2c39a41fed6b",
       "placeholder": "​",
       "style": "IPY_MODEL_6d44118e23dc4b798c1f80bc6ef71bec",
       "value": " 54.1M/54.1M [00:06&lt;00:00, 10.4MB/s]"
      }
     },
     "db9504082a8e49cab2316ca9afb63c05": {
      "model_module": "@jupyter-widgets/base",
      "model_module_version": "1.2.0",
      "model_name": "LayoutModel",
      "state": {
       "_model_module": "@jupyter-widgets/base",
       "_model_module_version": "1.2.0",
       "_model_name": "LayoutModel",
       "_view_count": null,
       "_view_module": "@jupyter-widgets/base",
       "_view_module_version": "1.2.0",
       "_view_name": "LayoutView",
       "align_content": null,
       "align_items": null,
       "align_self": null,
       "border": null,
       "bottom": null,
       "display": null,
       "flex": null,
       "flex_flow": null,
       "grid_area": null,
       "grid_auto_columns": null,
       "grid_auto_flow": null,
       "grid_auto_rows": null,
       "grid_column": null,
       "grid_gap": null,
       "grid_row": null,
       "grid_template_areas": null,
       "grid_template_columns": null,
       "grid_template_rows": null,
       "height": null,
       "justify_content": null,
       "justify_items": null,
       "left": null,
       "margin": null,
       "max_height": null,
       "max_width": null,
       "min_height": null,
       "min_width": null,
       "object_fit": null,
       "object_position": null,
       "order": null,
       "overflow": null,
       "overflow_x": null,
       "overflow_y": null,
       "padding": null,
       "right": null,
       "top": null,
       "visibility": null,
       "width": null
      }
     },
     "e14c6a38d80948aba4360e0ae775dac9": {
      "model_module": "@jupyter-widgets/controls",
      "model_module_version": "1.5.0",
      "model_name": "HTMLModel",
      "state": {
       "_dom_classes": [],
       "_model_module": "@jupyter-widgets/controls",
       "_model_module_version": "1.5.0",
       "_model_name": "HTMLModel",
       "_view_count": null,
       "_view_module": "@jupyter-widgets/controls",
       "_view_module_version": "1.5.0",
       "_view_name": "HTMLView",
       "description": "",
       "description_tooltip": null,
       "layout": "IPY_MODEL_4ce4259274464c9585aaf7e00274088d",
       "placeholder": "​",
       "style": "IPY_MODEL_ee6a147d903c450db0da26d4a49b2cde",
       "value": " 112/112 [00:00&lt;00:00, 4.51kB/s]"
      }
     },
     "e48ba507a61a4022b44f2c39a41fed6b": {
      "model_module": "@jupyter-widgets/base",
      "model_module_version": "1.2.0",
      "model_name": "LayoutModel",
      "state": {
       "_model_module": "@jupyter-widgets/base",
       "_model_module_version": "1.2.0",
       "_model_name": "LayoutModel",
       "_view_count": null,
       "_view_module": "@jupyter-widgets/base",
       "_view_module_version": "1.2.0",
       "_view_name": "LayoutView",
       "align_content": null,
       "align_items": null,
       "align_self": null,
       "border": null,
       "bottom": null,
       "display": null,
       "flex": null,
       "flex_flow": null,
       "grid_area": null,
       "grid_auto_columns": null,
       "grid_auto_flow": null,
       "grid_auto_rows": null,
       "grid_column": null,
       "grid_gap": null,
       "grid_row": null,
       "grid_template_areas": null,
       "grid_template_columns": null,
       "grid_template_rows": null,
       "height": null,
       "justify_content": null,
       "justify_items": null,
       "left": null,
       "margin": null,
       "max_height": null,
       "max_width": null,
       "min_height": null,
       "min_width": null,
       "object_fit": null,
       "object_position": null,
       "order": null,
       "overflow": null,
       "overflow_x": null,
       "overflow_y": null,
       "padding": null,
       "right": null,
       "top": null,
       "visibility": null,
       "width": null
      }
     },
     "e7cb22f58a924a98a8bc39853ee3ee6f": {
      "model_module": "@jupyter-widgets/controls",
      "model_module_version": "1.5.0",
      "model_name": "ProgressStyleModel",
      "state": {
       "_model_module": "@jupyter-widgets/controls",
       "_model_module_version": "1.5.0",
       "_model_name": "ProgressStyleModel",
       "_view_count": null,
       "_view_module": "@jupyter-widgets/base",
       "_view_module_version": "1.2.0",
       "_view_name": "StyleView",
       "bar_color": null,
       "description_width": ""
      }
     },
     "ee6a147d903c450db0da26d4a49b2cde": {
      "model_module": "@jupyter-widgets/controls",
      "model_module_version": "1.5.0",
      "model_name": "DescriptionStyleModel",
      "state": {
       "_model_module": "@jupyter-widgets/controls",
       "_model_module_version": "1.5.0",
       "_model_name": "DescriptionStyleModel",
       "_view_count": null,
       "_view_module": "@jupyter-widgets/base",
       "_view_module_version": "1.2.0",
       "_view_name": "StyleView",
       "description_width": ""
      }
     },
     "ef9d321603f440038b25429785601df3": {
      "model_module": "@jupyter-widgets/base",
      "model_module_version": "1.2.0",
      "model_name": "LayoutModel",
      "state": {
       "_model_module": "@jupyter-widgets/base",
       "_model_module_version": "1.2.0",
       "_model_name": "LayoutModel",
       "_view_count": null,
       "_view_module": "@jupyter-widgets/base",
       "_view_module_version": "1.2.0",
       "_view_name": "LayoutView",
       "align_content": null,
       "align_items": null,
       "align_self": null,
       "border": null,
       "bottom": null,
       "display": null,
       "flex": null,
       "flex_flow": null,
       "grid_area": null,
       "grid_auto_columns": null,
       "grid_auto_flow": null,
       "grid_auto_rows": null,
       "grid_column": null,
       "grid_gap": null,
       "grid_row": null,
       "grid_template_areas": null,
       "grid_template_columns": null,
       "grid_template_rows": null,
       "height": null,
       "justify_content": null,
       "justify_items": null,
       "left": null,
       "margin": null,
       "max_height": null,
       "max_width": null,
       "min_height": null,
       "min_width": null,
       "object_fit": null,
       "object_position": null,
       "order": null,
       "overflow": null,
       "overflow_x": null,
       "overflow_y": null,
       "padding": null,
       "right": null,
       "top": null,
       "visibility": null,
       "width": null
      }
     },
     "f201e940878c4201bb1dabbebc436496": {
      "model_module": "@jupyter-widgets/controls",
      "model_module_version": "1.5.0",
      "model_name": "ProgressStyleModel",
      "state": {
       "_model_module": "@jupyter-widgets/controls",
       "_model_module_version": "1.5.0",
       "_model_name": "ProgressStyleModel",
       "_view_count": null,
       "_view_module": "@jupyter-widgets/base",
       "_view_module_version": "1.2.0",
       "_view_name": "StyleView",
       "bar_color": null,
       "description_width": ""
      }
     },
     "f31dade6b887420db1dea381d405b04d": {
      "model_module": "@jupyter-widgets/controls",
      "model_module_version": "1.5.0",
      "model_name": "DescriptionStyleModel",
      "state": {
       "_model_module": "@jupyter-widgets/controls",
       "_model_module_version": "1.5.0",
       "_model_name": "DescriptionStyleModel",
       "_view_count": null,
       "_view_module": "@jupyter-widgets/base",
       "_view_module_version": "1.2.0",
       "_view_name": "StyleView",
       "description_width": ""
      }
     },
     "f36e5cce52354d958258b8a6bc312d13": {
      "model_module": "@jupyter-widgets/controls",
      "model_module_version": "1.5.0",
      "model_name": "ProgressStyleModel",
      "state": {
       "_model_module": "@jupyter-widgets/controls",
       "_model_module_version": "1.5.0",
       "_model_name": "ProgressStyleModel",
       "_view_count": null,
       "_view_module": "@jupyter-widgets/base",
       "_view_module_version": "1.2.0",
       "_view_name": "StyleView",
       "bar_color": null,
       "description_width": ""
      }
     },
     "f60685501b8149548dec15789579b924": {
      "model_module": "@jupyter-widgets/controls",
      "model_module_version": "1.5.0",
      "model_name": "ProgressStyleModel",
      "state": {
       "_model_module": "@jupyter-widgets/controls",
       "_model_module_version": "1.5.0",
       "_model_name": "ProgressStyleModel",
       "_view_count": null,
       "_view_module": "@jupyter-widgets/base",
       "_view_module_version": "1.2.0",
       "_view_name": "StyleView",
       "bar_color": null,
       "description_width": ""
      }
     },
     "f8aabec6ab0348239b89cc430b6169b7": {
      "model_module": "@jupyter-widgets/controls",
      "model_module_version": "1.5.0",
      "model_name": "HBoxModel",
      "state": {
       "_dom_classes": [],
       "_model_module": "@jupyter-widgets/controls",
       "_model_module_version": "1.5.0",
       "_model_name": "HBoxModel",
       "_view_count": null,
       "_view_module": "@jupyter-widgets/controls",
       "_view_module_version": "1.5.0",
       "_view_name": "HBoxView",
       "box_style": "",
       "children": [
        "IPY_MODEL_7643e649663e4ab08dbdaba95337e9e5",
        "IPY_MODEL_4e8e642dd5de4bdd802688b63e81b8e8",
        "IPY_MODEL_d11716e16fb14699b63b8021052478fc"
       ],
       "layout": "IPY_MODEL_52cf2829f0144836b7ab5106268ab7a7"
      }
     },
     "f8d38d946fc0463a92d9713a549d6033": {
      "model_module": "@jupyter-widgets/controls",
      "model_module_version": "1.5.0",
      "model_name": "DescriptionStyleModel",
      "state": {
       "_model_module": "@jupyter-widgets/controls",
       "_model_module_version": "1.5.0",
       "_model_name": "DescriptionStyleModel",
       "_view_count": null,
       "_view_module": "@jupyter-widgets/base",
       "_view_module_version": "1.2.0",
       "_view_name": "StyleView",
       "description_width": ""
      }
     }
    },
    "version_major": 2,
    "version_minor": 0
   }
  }
 },
 "nbformat": 4,
 "nbformat_minor": 5
}
