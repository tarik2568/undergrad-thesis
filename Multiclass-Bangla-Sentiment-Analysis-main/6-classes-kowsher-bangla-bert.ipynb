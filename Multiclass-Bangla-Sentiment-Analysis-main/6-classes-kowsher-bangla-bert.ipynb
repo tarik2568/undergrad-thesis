{
 "cells": [
  {
   "cell_type": "code",
   "execution_count": 1,
   "id": "934ef56a",
   "metadata": {
    "_cell_guid": "b1076dfc-b9ad-4769-8c92-a6c4dae69d19",
    "_uuid": "8f2839f25d086af736a60e9eeb907d3b93b6e0e5",
    "execution": {
     "iopub.execute_input": "2022-04-18T17:14:19.007534Z",
     "iopub.status.busy": "2022-04-18T17:14:19.006939Z",
     "iopub.status.idle": "2022-04-18T17:14:31.294056Z",
     "shell.execute_reply": "2022-04-18T17:14:31.293068Z"
    },
    "papermill": {
     "duration": 12.314362,
     "end_time": "2022-04-18T17:14:31.296859",
     "exception": false,
     "start_time": "2022-04-18T17:14:18.982497",
     "status": "completed"
    },
    "tags": []
   },
   "outputs": [
    {
     "name": "stdout",
     "output_type": "stream",
     "text": [
      "Requirement already satisfied: transformers in /opt/conda/lib/python3.7/site-packages (4.17.0)\r\n",
      "Requirement already satisfied: regex!=2019.12.17 in /opt/conda/lib/python3.7/site-packages (from transformers) (2021.11.10)\r\n",
      "Requirement already satisfied: numpy>=1.17 in /opt/conda/lib/python3.7/site-packages (from transformers) (1.21.5)\r\n",
      "Requirement already satisfied: tokenizers!=0.11.3,>=0.11.1 in /opt/conda/lib/python3.7/site-packages (from transformers) (0.11.6)\r\n",
      "Requirement already satisfied: pyyaml>=5.1 in /opt/conda/lib/python3.7/site-packages (from transformers) (6.0)\r\n",
      "Requirement already satisfied: sacremoses in /opt/conda/lib/python3.7/site-packages (from transformers) (0.0.49)\r\n",
      "Requirement already satisfied: requests in /opt/conda/lib/python3.7/site-packages (from transformers) (2.27.1)\r\n",
      "Requirement already satisfied: tqdm>=4.27 in /opt/conda/lib/python3.7/site-packages (from transformers) (4.63.0)\r\n",
      "Requirement already satisfied: huggingface-hub<1.0,>=0.1.0 in /opt/conda/lib/python3.7/site-packages (from transformers) (0.5.1)\r\n",
      "Requirement already satisfied: packaging>=20.0 in /opt/conda/lib/python3.7/site-packages (from transformers) (21.3)\r\n",
      "Requirement already satisfied: filelock in /opt/conda/lib/python3.7/site-packages (from transformers) (3.6.0)\r\n",
      "Requirement already satisfied: importlib-metadata in /opt/conda/lib/python3.7/site-packages (from transformers) (4.11.3)\r\n",
      "Requirement already satisfied: typing-extensions>=3.7.4.3 in /opt/conda/lib/python3.7/site-packages (from huggingface-hub<1.0,>=0.1.0->transformers) (4.1.1)\r\n",
      "Requirement already satisfied: pyparsing!=3.0.5,>=2.0.2 in /opt/conda/lib/python3.7/site-packages (from packaging>=20.0->transformers) (3.0.7)\r\n",
      "Requirement already satisfied: zipp>=0.5 in /opt/conda/lib/python3.7/site-packages (from importlib-metadata->transformers) (3.7.0)\r\n",
      "Requirement already satisfied: urllib3<1.27,>=1.21.1 in /opt/conda/lib/python3.7/site-packages (from requests->transformers) (1.26.8)\r\n",
      "Requirement already satisfied: charset-normalizer~=2.0.0 in /opt/conda/lib/python3.7/site-packages (from requests->transformers) (2.0.12)\r\n",
      "Requirement already satisfied: idna<4,>=2.5 in /opt/conda/lib/python3.7/site-packages (from requests->transformers) (3.3)\r\n",
      "Requirement already satisfied: certifi>=2017.4.17 in /opt/conda/lib/python3.7/site-packages (from requests->transformers) (2021.10.8)\r\n",
      "Requirement already satisfied: click in /opt/conda/lib/python3.7/site-packages (from sacremoses->transformers) (8.0.4)\r\n",
      "Requirement already satisfied: joblib in /opt/conda/lib/python3.7/site-packages (from sacremoses->transformers) (1.0.1)\r\n",
      "Requirement already satisfied: six in /opt/conda/lib/python3.7/site-packages (from sacremoses->transformers) (1.16.0)\r\n",
      "\u001b[33mWARNING: Running pip as the 'root' user can result in broken permissions and conflicting behaviour with the system package manager. It is recommended to use a virtual environment instead: https://pip.pypa.io/warnings/venv\u001b[0m\u001b[33m\r\n",
      "\u001b[0m"
     ]
    }
   ],
   "source": [
    " !pip install transformers"
   ]
  },
  {
   "cell_type": "code",
   "execution_count": 2,
   "id": "0a6a7a9e",
   "metadata": {
    "execution": {
     "iopub.execute_input": "2022-04-18T17:14:31.348209Z",
     "iopub.status.busy": "2022-04-18T17:14:31.347897Z",
     "iopub.status.idle": "2022-04-18T17:14:31.352847Z",
     "shell.execute_reply": "2022-04-18T17:14:31.351968Z"
    },
    "papermill": {
     "duration": 0.032807,
     "end_time": "2022-04-18T17:14:31.354891",
     "exception": false,
     "start_time": "2022-04-18T17:14:31.322084",
     "status": "completed"
    },
    "tags": []
   },
   "outputs": [],
   "source": [
    "import os\n",
    "import pandas as pd\n",
    "import numpy as np"
   ]
  },
  {
   "cell_type": "code",
   "execution_count": 3,
   "id": "72640c15",
   "metadata": {
    "execution": {
     "iopub.execute_input": "2022-04-18T17:14:31.403755Z",
     "iopub.status.busy": "2022-04-18T17:14:31.403243Z",
     "iopub.status.idle": "2022-04-18T17:14:42.397361Z",
     "shell.execute_reply": "2022-04-18T17:14:42.395886Z"
    },
    "papermill": {
     "duration": 11.022347,
     "end_time": "2022-04-18T17:14:42.400802",
     "exception": false,
     "start_time": "2022-04-18T17:14:31.378455",
     "status": "completed"
    },
    "tags": []
   },
   "outputs": [
    {
     "name": "stdout",
     "output_type": "stream",
     "text": [
      "Collecting openpyxl\r\n",
      "  Downloading openpyxl-3.0.9-py2.py3-none-any.whl (242 kB)\r\n",
      "\u001b[2K     \u001b[90m━━━━━━━━━━━━━━━━━━━━━━━━━━━━━━━━━━━━━━━\u001b[0m \u001b[32m242.2/242.2 KB\u001b[0m \u001b[31m5.0 MB/s\u001b[0m eta \u001b[36m0:00:00\u001b[0m\r\n",
      "\u001b[?25hCollecting et-xmlfile\r\n",
      "  Downloading et_xmlfile-1.1.0-py3-none-any.whl (4.7 kB)\r\n",
      "Installing collected packages: et-xmlfile, openpyxl\r\n",
      "Successfully installed et-xmlfile-1.1.0 openpyxl-3.0.9\r\n",
      "\u001b[33mWARNING: Running pip as the 'root' user can result in broken permissions and conflicting behaviour with the system package manager. It is recommended to use a virtual environment instead: https://pip.pypa.io/warnings/venv\u001b[0m\u001b[33m\r\n",
      "\u001b[0mNote: you may need to restart the kernel to use updated packages.\n"
     ]
    }
   ],
   "source": [
    "pip install openpyxl"
   ]
  },
  {
   "cell_type": "code",
   "execution_count": 4,
   "id": "c1a3a30f",
   "metadata": {
    "execution": {
     "iopub.execute_input": "2022-04-18T17:14:42.456846Z",
     "iopub.status.busy": "2022-04-18T17:14:42.456528Z",
     "iopub.status.idle": "2022-04-18T17:14:42.469830Z",
     "shell.execute_reply": "2022-04-18T17:14:42.468913Z"
    },
    "papermill": {
     "duration": 0.043946,
     "end_time": "2022-04-18T17:14:42.471949",
     "exception": false,
     "start_time": "2022-04-18T17:14:42.428003",
     "status": "completed"
    },
    "tags": []
   },
   "outputs": [
    {
     "name": "stdout",
     "output_type": "stream",
     "text": [
      "/kaggle/input/6-class-bert-preprocessed-dataset/Bert_Preprocessed_Dataset.xlsx\n"
     ]
    }
   ],
   "source": [
    "for dirname, _, filenames in os.walk('/kaggle/input'):\n",
    "    for filename in filenames:\n",
    "        print(os.path.join(dirname, filename))"
   ]
  },
  {
   "cell_type": "code",
   "execution_count": 5,
   "id": "4461ed34",
   "metadata": {
    "execution": {
     "iopub.execute_input": "2022-04-18T17:14:42.528207Z",
     "iopub.status.busy": "2022-04-18T17:14:42.527286Z",
     "iopub.status.idle": "2022-04-18T17:14:44.450485Z",
     "shell.execute_reply": "2022-04-18T17:14:44.449466Z"
    },
    "papermill": {
     "duration": 1.953868,
     "end_time": "2022-04-18T17:14:44.453061",
     "exception": false,
     "start_time": "2022-04-18T17:14:42.499193",
     "status": "completed"
    },
    "tags": []
   },
   "outputs": [
    {
     "name": "stdout",
     "output_type": "stream",
     "text": [
      "<class 'pandas.core.frame.DataFrame'>\n",
      "RangeIndex: 6405 entries, 0 to 6404\n",
      "Data columns (total 7 columns):\n",
      " #   Column      Non-Null Count  Dtype \n",
      "---  ------      --------------  ----- \n",
      " 0   Unnamed: 0  6405 non-null   int64 \n",
      " 1   ID          6404 non-null   object\n",
      " 2   Text        6404 non-null   object\n",
      " 3   Sentiment   6405 non-null   object\n",
      " 4   Label       6405 non-null   int64 \n",
      " 5   Token       6405 non-null   object\n",
      " 6   Token_ID    6405 non-null   object\n",
      "dtypes: int64(2), object(5)\n",
      "memory usage: 350.4+ KB\n"
     ]
    }
   ],
   "source": [
    "df=pd.read_excel('/kaggle/input/6-class-bert-preprocessed-dataset/Bert_Preprocessed_Dataset.xlsx')\n",
    "df.info()"
   ]
  },
  {
   "cell_type": "code",
   "execution_count": 6,
   "id": "f3c5ab8e",
   "metadata": {
    "execution": {
     "iopub.execute_input": "2022-04-18T17:14:44.509051Z",
     "iopub.status.busy": "2022-04-18T17:14:44.508773Z",
     "iopub.status.idle": "2022-04-18T17:15:30.797398Z",
     "shell.execute_reply": "2022-04-18T17:15:30.796740Z"
    },
    "papermill": {
     "duration": 46.319071,
     "end_time": "2022-04-18T17:15:30.799581",
     "exception": false,
     "start_time": "2022-04-18T17:14:44.480510",
     "status": "completed"
    },
    "tags": []
   },
   "outputs": [
    {
     "name": "stdout",
     "output_type": "stream",
     "text": [
      "Collecting ktrain\r\n",
      "  Downloading ktrain-0.30.0.tar.gz (25.3 MB)\r\n",
      "\u001b[2K     \u001b[90m━━━━━━━━━━━━━━━━━━━━━━━━━━━━━━━━━━━━━━━━\u001b[0m \u001b[32m25.3/25.3 MB\u001b[0m \u001b[31m38.7 MB/s\u001b[0m eta \u001b[36m0:00:00\u001b[0m\r\n",
      "\u001b[?25h  Preparing metadata (setup.py) ... \u001b[?25l-\b \bdone\r\n",
      "\u001b[?25hCollecting scikit-learn==0.24.2\r\n",
      "  Downloading scikit_learn-0.24.2-cp37-cp37m-manylinux2010_x86_64.whl (22.3 MB)\r\n",
      "\u001b[2K     \u001b[90m━━━━━━━━━━━━━━━━━━━━━━━━━━━━━━━━━━━━━━━━\u001b[0m \u001b[32m22.3/22.3 MB\u001b[0m \u001b[31m41.0 MB/s\u001b[0m eta \u001b[36m0:00:00\u001b[0m\r\n",
      "\u001b[?25hRequirement already satisfied: matplotlib>=3.0.0 in /opt/conda/lib/python3.7/site-packages (from ktrain) (3.5.1)\r\n",
      "Requirement already satisfied: pandas>=1.0.1 in /opt/conda/lib/python3.7/site-packages (from ktrain) (1.3.5)\r\n",
      "Requirement already satisfied: fastprogress>=0.1.21 in /opt/conda/lib/python3.7/site-packages (from ktrain) (1.0.2)\r\n",
      "Requirement already satisfied: requests in /opt/conda/lib/python3.7/site-packages (from ktrain) (2.27.1)\r\n",
      "Requirement already satisfied: joblib in /opt/conda/lib/python3.7/site-packages (from ktrain) (1.0.1)\r\n",
      "Requirement already satisfied: packaging in /opt/conda/lib/python3.7/site-packages (from ktrain) (21.3)\r\n",
      "Collecting langdetect\r\n",
      "  Downloading langdetect-1.0.9.tar.gz (981 kB)\r\n",
      "\u001b[2K     \u001b[90m━━━━━━━━━━━━━━━━━━━━━━━━━━━━━━━━━━━━━━\u001b[0m \u001b[32m981.5/981.5 KB\u001b[0m \u001b[31m43.5 MB/s\u001b[0m eta \u001b[36m0:00:00\u001b[0m\r\n",
      "\u001b[?25h  Preparing metadata (setup.py) ... \u001b[?25l-\b \bdone\r\n",
      "\u001b[?25hRequirement already satisfied: jieba in /opt/conda/lib/python3.7/site-packages (from ktrain) (0.42.1)\r\n",
      "Collecting cchardet\r\n",
      "  Downloading cchardet-2.1.7-cp37-cp37m-manylinux2010_x86_64.whl (263 kB)\r\n",
      "\u001b[2K     \u001b[90m━━━━━━━━━━━━━━━━━━━━━━━━━━━━━━━━━━━━━━━\u001b[0m \u001b[32m263.7/263.7 KB\u001b[0m \u001b[31m9.2 MB/s\u001b[0m eta \u001b[36m0:00:00\u001b[0m\r\n",
      "\u001b[?25hRequirement already satisfied: chardet in /opt/conda/lib/python3.7/site-packages (from ktrain) (4.0.0)\r\n",
      "Collecting syntok==1.3.3\r\n",
      "  Downloading syntok-1.3.3-py3-none-any.whl (22 kB)\r\n",
      "Collecting transformers==4.10.3\r\n",
      "  Downloading transformers-4.10.3-py3-none-any.whl (2.8 MB)\r\n",
      "\u001b[2K     \u001b[90m━━━━━━━━━━━━━━━━━━━━━━━━━━━━━━━━━━━━━━━━\u001b[0m \u001b[32m2.8/2.8 MB\u001b[0m \u001b[31m57.2 MB/s\u001b[0m eta \u001b[36m0:00:00\u001b[0m\r\n",
      "\u001b[?25hRequirement already satisfied: sentencepiece in /opt/conda/lib/python3.7/site-packages (from ktrain) (0.1.96)\r\n",
      "Collecting keras_bert>=0.86.0\r\n",
      "  Downloading keras-bert-0.89.0.tar.gz (25 kB)\r\n",
      "  Preparing metadata (setup.py) ... \u001b[?25l-\b \bdone\r\n",
      "\u001b[?25hCollecting whoosh\r\n",
      "  Downloading Whoosh-2.7.4-py2.py3-none-any.whl (468 kB)\r\n",
      "\u001b[2K     \u001b[90m━━━━━━━━━━━━━━━━━━━━━━━━━━━━━━━━━━━━━━\u001b[0m \u001b[32m468.8/468.8 KB\u001b[0m \u001b[31m23.1 MB/s\u001b[0m eta \u001b[36m0:00:00\u001b[0m\r\n",
      "\u001b[?25hRequirement already satisfied: numpy>=1.13.3 in /opt/conda/lib/python3.7/site-packages (from scikit-learn==0.24.2->ktrain) (1.21.5)\r\n",
      "Requirement already satisfied: scipy>=0.19.1 in /opt/conda/lib/python3.7/site-packages (from scikit-learn==0.24.2->ktrain) (1.7.3)\r\n",
      "Requirement already satisfied: threadpoolctl>=2.0.0 in /opt/conda/lib/python3.7/site-packages (from scikit-learn==0.24.2->ktrain) (3.1.0)\r\n",
      "Requirement already satisfied: regex in /opt/conda/lib/python3.7/site-packages (from syntok==1.3.3->ktrain) (2021.11.10)\r\n",
      "Collecting tokenizers<0.11,>=0.10.1\r\n",
      "  Downloading tokenizers-0.10.3-cp37-cp37m-manylinux_2_5_x86_64.manylinux1_x86_64.manylinux_2_12_x86_64.manylinux2010_x86_64.whl (3.3 MB)\r\n",
      "\u001b[2K     \u001b[90m━━━━━━━━━━━━━━━━━━━━━━━━━━━━━━━━━━━━━━━━\u001b[0m \u001b[32m3.3/3.3 MB\u001b[0m \u001b[31m64.6 MB/s\u001b[0m eta \u001b[36m0:00:00\u001b[0m\r\n",
      "\u001b[?25hRequirement already satisfied: sacremoses in /opt/conda/lib/python3.7/site-packages (from transformers==4.10.3->ktrain) (0.0.49)\r\n",
      "Requirement already satisfied: filelock in /opt/conda/lib/python3.7/site-packages (from transformers==4.10.3->ktrain) (3.6.0)\r\n",
      "Requirement already satisfied: pyyaml>=5.1 in /opt/conda/lib/python3.7/site-packages (from transformers==4.10.3->ktrain) (6.0)\r\n",
      "Requirement already satisfied: huggingface-hub>=0.0.12 in /opt/conda/lib/python3.7/site-packages (from transformers==4.10.3->ktrain) (0.5.1)\r\n",
      "Requirement already satisfied: tqdm>=4.27 in /opt/conda/lib/python3.7/site-packages (from transformers==4.10.3->ktrain) (4.63.0)\r\n",
      "Requirement already satisfied: importlib-metadata in /opt/conda/lib/python3.7/site-packages (from transformers==4.10.3->ktrain) (4.11.3)\r\n",
      "Collecting keras-transformer==0.40.0\r\n",
      "  Downloading keras-transformer-0.40.0.tar.gz (9.7 kB)\r\n",
      "  Preparing metadata (setup.py) ... \u001b[?25l-\b \bdone\r\n",
      "\u001b[?25hCollecting keras-pos-embd==0.13.0\r\n",
      "  Downloading keras-pos-embd-0.13.0.tar.gz (5.6 kB)\r\n",
      "  Preparing metadata (setup.py) ... \u001b[?25l-\b \bdone\r\n",
      "\u001b[?25hCollecting keras-multi-head==0.29.0\r\n",
      "  Downloading keras-multi-head-0.29.0.tar.gz (13 kB)\r\n",
      "  Preparing metadata (setup.py) ... \u001b[?25l-\b \bdone\r\n",
      "\u001b[?25hCollecting keras-layer-normalization==0.16.0\r\n",
      "  Downloading keras-layer-normalization-0.16.0.tar.gz (3.9 kB)\r\n",
      "  Preparing metadata (setup.py) ... \u001b[?25l-\b \bdone\r\n",
      "\u001b[?25hCollecting keras-position-wise-feed-forward==0.8.0\r\n",
      "  Downloading keras-position-wise-feed-forward-0.8.0.tar.gz (4.1 kB)\r\n",
      "  Preparing metadata (setup.py) ... \u001b[?25l-\b \bdone\r\n",
      "\u001b[?25hCollecting keras-embed-sim==0.10.0\r\n",
      "  Downloading keras-embed-sim-0.10.0.tar.gz (3.6 kB)\r\n",
      "  Preparing metadata (setup.py) ... \u001b[?25l-\b \bdone\r\n",
      "\u001b[?25hCollecting keras-self-attention==0.51.0\r\n",
      "  Downloading keras-self-attention-0.51.0.tar.gz (11 kB)\r\n",
      "  Preparing metadata (setup.py) ... \u001b[?25l-\b \bdone\r\n",
      "\u001b[?25hRequirement already satisfied: pillow>=6.2.0 in /opt/conda/lib/python3.7/site-packages (from matplotlib>=3.0.0->ktrain) (9.0.1)\r\n",
      "Requirement already satisfied: fonttools>=4.22.0 in /opt/conda/lib/python3.7/site-packages (from matplotlib>=3.0.0->ktrain) (4.30.0)\r\n",
      "Requirement already satisfied: cycler>=0.10 in /opt/conda/lib/python3.7/site-packages (from matplotlib>=3.0.0->ktrain) (0.11.0)\r\n",
      "Requirement already satisfied: python-dateutil>=2.7 in /opt/conda/lib/python3.7/site-packages (from matplotlib>=3.0.0->ktrain) (2.8.2)\r\n",
      "Requirement already satisfied: pyparsing>=2.2.1 in /opt/conda/lib/python3.7/site-packages (from matplotlib>=3.0.0->ktrain) (3.0.7)\r\n",
      "Requirement already satisfied: kiwisolver>=1.0.1 in /opt/conda/lib/python3.7/site-packages (from matplotlib>=3.0.0->ktrain) (1.4.0)\r\n",
      "Requirement already satisfied: pytz>=2017.3 in /opt/conda/lib/python3.7/site-packages (from pandas>=1.0.1->ktrain) (2021.3)\r\n",
      "Requirement already satisfied: six in /opt/conda/lib/python3.7/site-packages (from langdetect->ktrain) (1.16.0)\r\n",
      "Requirement already satisfied: urllib3<1.27,>=1.21.1 in /opt/conda/lib/python3.7/site-packages (from requests->ktrain) (1.26.8)\r\n",
      "Requirement already satisfied: certifi>=2017.4.17 in /opt/conda/lib/python3.7/site-packages (from requests->ktrain) (2021.10.8)\r\n",
      "Requirement already satisfied: idna<4,>=2.5 in /opt/conda/lib/python3.7/site-packages (from requests->ktrain) (3.3)\r\n",
      "Requirement already satisfied: charset-normalizer~=2.0.0 in /opt/conda/lib/python3.7/site-packages (from requests->ktrain) (2.0.12)\r\n",
      "Requirement already satisfied: typing-extensions>=3.7.4.3 in /opt/conda/lib/python3.7/site-packages (from huggingface-hub>=0.0.12->transformers==4.10.3->ktrain) (4.1.1)\r\n",
      "Requirement already satisfied: zipp>=0.5 in /opt/conda/lib/python3.7/site-packages (from importlib-metadata->transformers==4.10.3->ktrain) (3.7.0)\r\n",
      "Requirement already satisfied: click in /opt/conda/lib/python3.7/site-packages (from sacremoses->transformers==4.10.3->ktrain) (8.0.4)\r\n",
      "Building wheels for collected packages: ktrain, keras_bert, keras-transformer, keras-embed-sim, keras-layer-normalization, keras-multi-head, keras-pos-embd, keras-position-wise-feed-forward, keras-self-attention, langdetect\r\n",
      "  Building wheel for ktrain (setup.py) ... \u001b[?25l-\b \b\\\b \b|\b \b/\b \b-\b \b\\\b \b|\b \b/\b \bdone\r\n",
      "\u001b[?25h  Created wheel for ktrain: filename=ktrain-0.30.0-py3-none-any.whl size=25309161 sha256=e3f1f8ecbb83f08e3cb968400e0dd61f5e9ca5ece94b88a99d74685407706a8f\r\n",
      "  Stored in directory: /root/.cache/pip/wheels/25/00/ae/80d1b19dd02bc2e6bc9bac32ba7dbaa59aad789e93274e4868\r\n",
      "  Building wheel for keras_bert (setup.py) ... \u001b[?25l-\b \b\\\b \bdone\r\n",
      "\u001b[?25h  Created wheel for keras_bert: filename=keras_bert-0.89.0-py3-none-any.whl size=33517 sha256=2f8829c6ac03d6f4be97820d656fa2912e137446eb80dba7262f96a2f25008ba\r\n",
      "  Stored in directory: /root/.cache/pip/wheels/a4/e8/45/842b3a39831261aef9154b907eacbc4ac99499a99ae829b06f\r\n",
      "  Building wheel for keras-transformer (setup.py) ... \u001b[?25l-\b \b\\\b \bdone\r\n",
      "\u001b[?25h  Created wheel for keras-transformer: filename=keras_transformer-0.40.0-py3-none-any.whl size=12305 sha256=f047616397badb4fdc2a54aefbe3476c6fb892f24bda592069af4899784e98d3\r\n",
      "  Stored in directory: /root/.cache/pip/wheels/46/68/26/692ed21edd832833c3b0a0e21615bcacd99ca458b3f9ed571f\r\n",
      "  Building wheel for keras-embed-sim (setup.py) ... \u001b[?25l-\b \b\\\b \bdone\r\n",
      "\u001b[?25h  Created wheel for keras-embed-sim: filename=keras_embed_sim-0.10.0-py3-none-any.whl size=3960 sha256=0cce5be4877a452ba61c1093dfb943db64d9e9ff73a1574ac8d7b8b93938a69d\r\n",
      "  Stored in directory: /root/.cache/pip/wheels/81/67/b5/d847588d075895281e1cf5590f819bd4cf076a554872268bd5\r\n",
      "  Building wheel for keras-layer-normalization (setup.py) ... \u001b[?25l-\b \b\\\b \bdone\r\n",
      "\u001b[?25h  Created wheel for keras-layer-normalization: filename=keras_layer_normalization-0.16.0-py3-none-any.whl size=4668 sha256=535249fea1432f3e99138cb6955cf9b0f4684fda74e1c35d7f9c02704ed281d0\r\n",
      "  Stored in directory: /root/.cache/pip/wheels/85/5d/1c/2e619f594f69fbcf8bc20943b27d414871c409be053994813e\r\n",
      "  Building wheel for keras-multi-head (setup.py) ... \u001b[?25l-\b \b\\\b \bdone\r\n",
      "\u001b[?25h  Created wheel for keras-multi-head: filename=keras_multi_head-0.29.0-py3-none-any.whl size=14993 sha256=9bb84ce2fb051510743a3983c2e9d0c8dde1f82f79168edea895e55929e1a2e7\r\n",
      "  Stored in directory: /root/.cache/pip/wheels/86/aa/3c/9d15d24005179dae08ff291ce99c754b296347817d076fd9fb\r\n",
      "  Building wheel for keras-pos-embd (setup.py) ... \u001b[?25l-\b \b\\\b \bdone\r\n",
      "\u001b[?25h  Created wheel for keras-pos-embd: filename=keras_pos_embd-0.13.0-py3-none-any.whl size=6962 sha256=996d06958970949ca5a5975137b03b794ae9084da5b477c3fead46542a0ed2c5\r\n",
      "  Stored in directory: /root/.cache/pip/wheels/8d/c1/a0/dc44fcf68c857b7ff6be9a97e675e5adf51022eff1169b042f\r\n",
      "  Building wheel for keras-position-wise-feed-forward (setup.py) ... \u001b[?25l-\b \b\\\b \bdone\r\n",
      "\u001b[?25h  Created wheel for keras-position-wise-feed-forward: filename=keras_position_wise_feed_forward-0.8.0-py3-none-any.whl size=4983 sha256=fc10cf0cb8da187fb8b4de07021fe56594e8f26a64702b69d248c052bea15873\r\n",
      "  Stored in directory: /root/.cache/pip/wheels/c2/75/6f/d42f6e051506f442daeba53ff1e2d21a5f20ef8c411610f2bb\r\n",
      "  Building wheel for keras-self-attention (setup.py) ... \u001b[?25l-\b \b\\\b \bdone\r\n",
      "\u001b[?25h  Created wheel for keras-self-attention: filename=keras_self_attention-0.51.0-py3-none-any.whl size=18912 sha256=1548ad02b2cc5f19fb0c36058519f447ddd49e402d7d8d205aa9e63d9dce2360\r\n",
      "  Stored in directory: /root/.cache/pip/wheels/95/b1/a8/5ee00cc137940b2f6fa198212e8f45d813d0e0d9c3a04035a3\r\n",
      "  Building wheel for langdetect (setup.py) ... \u001b[?25l-\b \b\\\b \b|\b \b/\b \bdone\r\n",
      "\u001b[?25h  Created wheel for langdetect: filename=langdetect-1.0.9-py3-none-any.whl size=993242 sha256=72432dae90858134b115e35b6d7fe08e93ae6f3f4aede0aded028a5af516c926\r\n",
      "  Stored in directory: /root/.cache/pip/wheels/c5/96/8a/f90c59ed25d75e50a8c10a1b1c2d4c402e4dacfa87f3aff36a\r\n",
      "Successfully built ktrain keras_bert keras-transformer keras-embed-sim keras-layer-normalization keras-multi-head keras-pos-embd keras-position-wise-feed-forward keras-self-attention langdetect\r\n",
      "Installing collected packages: whoosh, tokenizers, cchardet, syntok, langdetect, keras-self-attention, keras-position-wise-feed-forward, keras-pos-embd, keras-layer-normalization, keras-embed-sim, scikit-learn, keras-multi-head, keras-transformer, transformers, keras_bert, ktrain\r\n",
      "  Attempting uninstall: tokenizers\r\n",
      "    Found existing installation: tokenizers 0.11.6\r\n",
      "    Uninstalling tokenizers-0.11.6:\r\n",
      "      Successfully uninstalled tokenizers-0.11.6\r\n",
      "  Attempting uninstall: scikit-learn\r\n",
      "    Found existing installation: scikit-learn 1.0.2\r\n",
      "    Uninstalling scikit-learn-1.0.2:\r\n",
      "      Successfully uninstalled scikit-learn-1.0.2\r\n",
      "  Attempting uninstall: transformers\r\n",
      "    Found existing installation: transformers 4.17.0\r\n",
      "    Uninstalling transformers-4.17.0:\r\n",
      "      Successfully uninstalled transformers-4.17.0\r\n",
      "\u001b[31mERROR: pip's dependency resolver does not currently take into account all the packages that are installed. This behaviour is the source of the following dependency conflicts.\r\n",
      "yellowbrick 1.4 requires scikit-learn>=1.0.0, but you have scikit-learn 0.24.2 which is incompatible.\r\n",
      "pdpbox 0.2.1 requires matplotlib==3.1.1, but you have matplotlib 3.5.1 which is incompatible.\r\n",
      "imbalanced-learn 0.9.0 requires scikit-learn>=1.0.1, but you have scikit-learn 0.24.2 which is incompatible.\u001b[0m\u001b[31m\r\n",
      "\u001b[0mSuccessfully installed cchardet-2.1.7 keras-embed-sim-0.10.0 keras-layer-normalization-0.16.0 keras-multi-head-0.29.0 keras-pos-embd-0.13.0 keras-position-wise-feed-forward-0.8.0 keras-self-attention-0.51.0 keras-transformer-0.40.0 keras_bert-0.89.0 ktrain-0.30.0 langdetect-1.0.9 scikit-learn-0.24.2 syntok-1.3.3 tokenizers-0.10.3 transformers-4.10.3 whoosh-2.7.4\r\n",
      "\u001b[33mWARNING: Running pip as the 'root' user can result in broken permissions and conflicting behaviour with the system package manager. It is recommended to use a virtual environment instead: https://pip.pypa.io/warnings/venv\u001b[0m\u001b[33m\r\n",
      "\u001b[0mNote: you may need to restart the kernel to use updated packages.\n"
     ]
    }
   ],
   "source": [
    "pip install ktrain"
   ]
  },
  {
   "cell_type": "code",
   "execution_count": 7,
   "id": "7779039c",
   "metadata": {
    "execution": {
     "iopub.execute_input": "2022-04-18T17:15:30.945183Z",
     "iopub.status.busy": "2022-04-18T17:15:30.944877Z",
     "iopub.status.idle": "2022-04-18T17:15:31.000811Z",
     "shell.execute_reply": "2022-04-18T17:15:31.000030Z"
    },
    "papermill": {
     "duration": 0.13131,
     "end_time": "2022-04-18T17:15:31.003277",
     "exception": false,
     "start_time": "2022-04-18T17:15:30.871967",
     "status": "completed"
    },
    "tags": []
   },
   "outputs": [],
   "source": [
    "%reload_ext autoreload\n",
    "%autoreload 2\n",
    "%matplotlib inline\n",
    "import os\n",
    "os.environ[\"CUDA_DEVICE_ORDER\"] = \"PCI_BUS_ID\"\n",
    "os.environ[\"CUDA_VISIBLE_DEVICES\"] = \"0\" "
   ]
  },
  {
   "cell_type": "code",
   "execution_count": 8,
   "id": "f79622eb",
   "metadata": {
    "execution": {
     "iopub.execute_input": "2022-04-18T17:15:31.153131Z",
     "iopub.status.busy": "2022-04-18T17:15:31.152848Z",
     "iopub.status.idle": "2022-04-18T17:15:41.212077Z",
     "shell.execute_reply": "2022-04-18T17:15:41.211085Z"
    },
    "papermill": {
     "duration": 10.136364,
     "end_time": "2022-04-18T17:15:41.214612",
     "exception": false,
     "start_time": "2022-04-18T17:15:31.078248",
     "status": "completed"
    },
    "tags": []
   },
   "outputs": [],
   "source": [
    "import ktrain\n",
    "from ktrain import text"
   ]
  },
  {
   "cell_type": "code",
   "execution_count": 9,
   "id": "8f4b56cb",
   "metadata": {
    "execution": {
     "iopub.execute_input": "2022-04-18T17:15:41.361423Z",
     "iopub.status.busy": "2022-04-18T17:15:41.361142Z",
     "iopub.status.idle": "2022-04-18T17:15:41.441427Z",
     "shell.execute_reply": "2022-04-18T17:15:41.440540Z"
    },
    "papermill": {
     "duration": 0.155928,
     "end_time": "2022-04-18T17:15:41.443961",
     "exception": false,
     "start_time": "2022-04-18T17:15:41.288033",
     "status": "completed"
    },
    "tags": []
   },
   "outputs": [],
   "source": [
    "train=df[:int(.8*len(df))]\n",
    "test=df[int(.8*len(df)):int(.9*len(df))]\n",
    "validation=df[int(.9*len(df)):]\n",
    "x_train=train['Text'].tolist()\n",
    "y_train=train['Label'].tolist()\n",
    "x_validation=validation['Text'].tolist()\n",
    "y_validation=validation['Label'].tolist()\n",
    "x_test=test['Text'].tolist()\n",
    "y_test=test['Sentiment'].tolist()"
   ]
  },
  {
   "cell_type": "code",
   "execution_count": 10,
   "id": "5beebda4",
   "metadata": {
    "execution": {
     "iopub.execute_input": "2022-04-18T17:15:41.589643Z",
     "iopub.status.busy": "2022-04-18T17:15:41.589367Z",
     "iopub.status.idle": "2022-04-18T17:15:41.725927Z",
     "shell.execute_reply": "2022-04-18T17:15:41.724931Z"
    },
    "papermill": {
     "duration": 0.213291,
     "end_time": "2022-04-18T17:15:41.728331",
     "exception": false,
     "start_time": "2022-04-18T17:15:41.515040",
     "status": "completed"
    },
    "tags": []
   },
   "outputs": [],
   "source": [
    "x_train= np.array(x_train)\n",
    "x_validation= np.array(x_validation)\n",
    "x_test= np.array(x_test)\n"
   ]
  },
  {
   "cell_type": "code",
   "execution_count": 11,
   "id": "72aa62a2",
   "metadata": {
    "execution": {
     "iopub.execute_input": "2022-04-18T17:15:41.874481Z",
     "iopub.status.busy": "2022-04-18T17:15:41.874083Z",
     "iopub.status.idle": "2022-04-18T17:15:41.948764Z",
     "shell.execute_reply": "2022-04-18T17:15:41.947850Z"
    },
    "papermill": {
     "duration": 0.150236,
     "end_time": "2022-04-18T17:15:41.951327",
     "exception": false,
     "start_time": "2022-04-18T17:15:41.801091",
     "status": "completed"
    },
    "tags": []
   },
   "outputs": [],
   "source": [
    "categories = ['angry','disgust','fear','happy','sad','surpise']"
   ]
  },
  {
   "cell_type": "code",
   "execution_count": 12,
   "id": "fdc19ba0",
   "metadata": {
    "execution": {
     "iopub.execute_input": "2022-04-18T17:15:42.097818Z",
     "iopub.status.busy": "2022-04-18T17:15:42.097389Z",
     "iopub.status.idle": "2022-04-18T17:15:42.427401Z",
     "shell.execute_reply": "2022-04-18T17:15:42.426592Z"
    },
    "papermill": {
     "duration": 0.406999,
     "end_time": "2022-04-18T17:15:42.430303",
     "exception": false,
     "start_time": "2022-04-18T17:15:42.023304",
     "status": "completed"
    },
    "tags": []
   },
   "outputs": [
    {
     "data": {
      "application/vnd.jupyter.widget-view+json": {
       "model_id": "b13b893c5fae44d7bc0876fdad00a9cb",
       "version_major": 2,
       "version_minor": 0
      },
      "text/plain": [
       "Downloading:   0%|          | 0.00/638 [00:00<?, ?B/s]"
      ]
     },
     "metadata": {},
     "output_type": "display_data"
    }
   ],
   "source": [
    "model_name = 'Kowsher/bangla-bert'\n",
    "trans = text.Transformer(model_name,maxlen=50,class_names=categories)"
   ]
  },
  {
   "cell_type": "code",
   "execution_count": 13,
   "id": "17cb7521",
   "metadata": {
    "execution": {
     "iopub.execute_input": "2022-04-18T17:15:42.576572Z",
     "iopub.status.busy": "2022-04-18T17:15:42.575965Z",
     "iopub.status.idle": "2022-04-18T17:15:46.941510Z",
     "shell.execute_reply": "2022-04-18T17:15:46.940388Z"
    },
    "papermill": {
     "duration": 4.441796,
     "end_time": "2022-04-18T17:15:46.944224",
     "exception": false,
     "start_time": "2022-04-18T17:15:42.502428",
     "status": "completed"
    },
    "tags": []
   },
   "outputs": [
    {
     "name": "stdout",
     "output_type": "stream",
     "text": [
      "preprocessing train...\n",
      "language: bn\n",
      "train sequence lengths:\n",
      "\tmean : 16\n",
      "\t95percentile : 44\n",
      "\t99percentile : 102\n"
     ]
    },
    {
     "data": {
      "application/vnd.jupyter.widget-view+json": {
       "model_id": "96ec67afcf704e6c80c3a816a6e28479",
       "version_major": 2,
       "version_minor": 0
      },
      "text/plain": [
       "Downloading:   0%|          | 0.00/2.24M [00:00<?, ?B/s]"
      ]
     },
     "metadata": {},
     "output_type": "display_data"
    },
    {
     "data": {
      "text/html": [
       "\n",
       "<style>\n",
       "    /* Turns off some styling */\n",
       "    progress {\n",
       "        /* gets rid of default border in Firefox and Opera. */\n",
       "        border: none;\n",
       "        /* Needs to be in here for Safari polyfill so background images work as expected. */\n",
       "        background-size: auto;\n",
       "    }\n",
       "    .progress-bar-interrupted, .progress-bar-interrupted::-webkit-progress-bar {\n",
       "        background: #F44336;\n",
       "    }\n",
       "</style>\n"
      ],
      "text/plain": [
       "<IPython.core.display.HTML object>"
      ]
     },
     "metadata": {},
     "output_type": "display_data"
    },
    {
     "data": {
      "text/html": [],
      "text/plain": [
       "<IPython.core.display.HTML object>"
      ]
     },
     "metadata": {},
     "output_type": "display_data"
    },
    {
     "name": "stdout",
     "output_type": "stream",
     "text": [
      "Is Multi-Label? False\n",
      "preprocessing test...\n",
      "language: bn\n",
      "test sequence lengths:\n",
      "\tmean : 16\n",
      "\t95percentile : 49\n",
      "\t99percentile : 96\n"
     ]
    },
    {
     "data": {
      "text/html": [
       "\n",
       "<style>\n",
       "    /* Turns off some styling */\n",
       "    progress {\n",
       "        /* gets rid of default border in Firefox and Opera. */\n",
       "        border: none;\n",
       "        /* Needs to be in here for Safari polyfill so background images work as expected. */\n",
       "        background-size: auto;\n",
       "    }\n",
       "    .progress-bar-interrupted, .progress-bar-interrupted::-webkit-progress-bar {\n",
       "        background: #F44336;\n",
       "    }\n",
       "</style>\n"
      ],
      "text/plain": [
       "<IPython.core.display.HTML object>"
      ]
     },
     "metadata": {},
     "output_type": "display_data"
    },
    {
     "data": {
      "text/html": [],
      "text/plain": [
       "<IPython.core.display.HTML object>"
      ]
     },
     "metadata": {},
     "output_type": "display_data"
    }
   ],
   "source": [
    "train = trans.preprocess_train(x_train,y_train)\n",
    "valid = trans.preprocess_test(x_validation,y_validation)"
   ]
  },
  {
   "cell_type": "code",
   "execution_count": 14,
   "id": "ccfb3284",
   "metadata": {
    "execution": {
     "iopub.execute_input": "2022-04-18T17:15:47.103039Z",
     "iopub.status.busy": "2022-04-18T17:15:47.102729Z",
     "iopub.status.idle": "2022-04-18T17:16:33.464373Z",
     "shell.execute_reply": "2022-04-18T17:16:33.458803Z"
    },
    "papermill": {
     "duration": 46.462201,
     "end_time": "2022-04-18T17:16:33.485711",
     "exception": false,
     "start_time": "2022-04-18T17:15:47.023510",
     "status": "completed"
    },
    "tags": []
   },
   "outputs": [
    {
     "name": "stderr",
     "output_type": "stream",
     "text": [
      "404 Client Error: Not Found for url: https://huggingface.co/Kowsher/bangla-bert/resolve/main/tf_model.h5\n",
      "/opt/conda/lib/python3.7/site-packages/ktrain/text/preprocessor.py:1070: UserWarning: Could not find Tensorflow version of model.  Attempting to download/load PyTorch version as TensorFlow model using from_pt=True. You will need PyTorch installed for this.\n",
      "  warnings.warn('Could not find Tensorflow version of model.  Attempting to download/load PyTorch version as TensorFlow model using from_pt=True. ' +\\\n"
     ]
    },
    {
     "data": {
      "application/vnd.jupyter.widget-view+json": {
       "model_id": "0d540809b94f4d8da8c6a9e559c49518",
       "version_major": 2,
       "version_minor": 0
      },
      "text/plain": [
       "Downloading:   0%|          | 0.00/658M [00:00<?, ?B/s]"
      ]
     },
     "metadata": {},
     "output_type": "display_data"
    }
   ],
   "source": [
    "model = trans.get_classifier()"
   ]
  },
  {
   "cell_type": "code",
   "execution_count": 15,
   "id": "dc392fba",
   "metadata": {
    "execution": {
     "iopub.execute_input": "2022-04-18T17:16:34.192932Z",
     "iopub.status.busy": "2022-04-18T17:16:34.190045Z",
     "iopub.status.idle": "2022-04-18T17:16:39.463137Z",
     "shell.execute_reply": "2022-04-18T17:16:39.459204Z"
    },
    "papermill": {
     "duration": 5.631326,
     "end_time": "2022-04-18T17:16:39.466950",
     "exception": false,
     "start_time": "2022-04-18T17:16:33.835624",
     "status": "completed"
    },
    "tags": []
   },
   "outputs": [],
   "source": [
    "learner = ktrain.get_learner(model, train_data=train,val_data=valid, batch_size=12)"
   ]
  },
  {
   "cell_type": "code",
   "execution_count": 16,
   "id": "14a73fa7",
   "metadata": {
    "execution": {
     "iopub.execute_input": "2022-04-18T17:16:39.680881Z",
     "iopub.status.busy": "2022-04-18T17:16:39.680580Z",
     "iopub.status.idle": "2022-04-18T17:16:39.948012Z",
     "shell.execute_reply": "2022-04-18T17:16:39.945826Z"
    },
    "papermill": {
     "duration": 0.395947,
     "end_time": "2022-04-18T17:16:39.951308",
     "exception": false,
     "start_time": "2022-04-18T17:16:39.555361",
     "status": "completed"
    },
    "tags": []
   },
   "outputs": [],
   "source": [
    "from sklearn.utils import class_weight\n",
    "class_weight=class_weight.compute_class_weight(class_weight='balanced',classes=np.unique(y_train),y=y_train)\n",
    "weight={i:class_weight[i] for i in range(6)}"
   ]
  },
  {
   "cell_type": "code",
   "execution_count": 17,
   "id": "d884a88a",
   "metadata": {
    "execution": {
     "iopub.execute_input": "2022-04-18T17:16:40.205211Z",
     "iopub.status.busy": "2022-04-18T17:16:40.204921Z",
     "iopub.status.idle": "2022-04-19T02:04:33.250422Z",
     "shell.execute_reply": "2022-04-19T02:04:33.248292Z"
    },
    "papermill": {
     "duration": 31673.177224,
     "end_time": "2022-04-19T02:04:33.253210",
     "exception": false,
     "start_time": "2022-04-18T17:16:40.075986",
     "status": "completed"
    },
    "tags": []
   },
   "outputs": [
    {
     "name": "stdout",
     "output_type": "stream",
     "text": [
      "\n",
      "\n",
      "begin training using onecycle policy with max lr of 2e-05...\n",
      "Epoch 1/20\n",
      "427/427 [==============================] - 1614s 4s/step - loss: 1.7514 - accuracy: 0.2584 - val_loss: 1.6133 - val_accuracy: 0.3682\n",
      "Epoch 2/20\n",
      "427/427 [==============================] - 1574s 4s/step - loss: 1.5756 - accuracy: 0.4270 - val_loss: 1.4202 - val_accuracy: 0.4555\n",
      "Epoch 3/20\n",
      "427/427 [==============================] - 1577s 4s/step - loss: 1.4150 - accuracy: 0.4955 - val_loss: 1.3961 - val_accuracy: 0.4493\n",
      "Epoch 4/20\n",
      "427/427 [==============================] - 1584s 4s/step - loss: 1.2093 - accuracy: 0.5824 - val_loss: 1.4125 - val_accuracy: 0.4618\n",
      "Epoch 5/20\n",
      "427/427 [==============================] - 1577s 4s/step - loss: 0.9188 - accuracy: 0.6815 - val_loss: 1.4693 - val_accuracy: 0.5023\n",
      "Epoch 6/20\n",
      "427/427 [==============================] - 1571s 4s/step - loss: 0.5763 - accuracy: 0.7990 - val_loss: 1.8061 - val_accuracy: 0.4805\n",
      "Epoch 7/20\n",
      "427/427 [==============================] - 1578s 4s/step - loss: 0.3259 - accuracy: 0.8868 - val_loss: 1.9009 - val_accuracy: 0.5273\n",
      "Epoch 8/20\n",
      "427/427 [==============================] - 1580s 4s/step - loss: 0.1887 - accuracy: 0.9350 - val_loss: 2.1565 - val_accuracy: 0.5273\n",
      "Epoch 9/20\n",
      "427/427 [==============================] - 1579s 4s/step - loss: 0.1423 - accuracy: 0.9553 - val_loss: 2.2728 - val_accuracy: 0.5179\n",
      "Epoch 10/20\n",
      "427/427 [==============================] - 1582s 4s/step - loss: 0.1141 - accuracy: 0.9670 - val_loss: 2.3702 - val_accuracy: 0.5133\n",
      "Epoch 11/20\n",
      "427/427 [==============================] - 1585s 4s/step - loss: 0.1003 - accuracy: 0.9678 - val_loss: 2.4760 - val_accuracy: 0.5086\n",
      "Epoch 12/20\n",
      "427/427 [==============================] - 1588s 4s/step - loss: 0.0772 - accuracy: 0.9744 - val_loss: 2.7553 - val_accuracy: 0.4914\n",
      "Epoch 13/20\n",
      "427/427 [==============================] - 1590s 4s/step - loss: 0.0641 - accuracy: 0.9793 - val_loss: 2.6822 - val_accuracy: 0.4961\n",
      "Epoch 14/20\n",
      "427/427 [==============================] - 1601s 4s/step - loss: 0.0510 - accuracy: 0.9842 - val_loss: 2.7898 - val_accuracy: 0.5179\n",
      "Epoch 15/20\n",
      "427/427 [==============================] - 1575s 4s/step - loss: 0.0471 - accuracy: 0.9859 - val_loss: 2.7604 - val_accuracy: 0.5211\n",
      "Epoch 16/20\n",
      "427/427 [==============================] - 1576s 4s/step - loss: 0.0386 - accuracy: 0.9867 - val_loss: 2.7925 - val_accuracy: 0.5211\n",
      "Epoch 17/20\n",
      "427/427 [==============================] - 1575s 4s/step - loss: 0.0340 - accuracy: 0.9879 - val_loss: 2.7468 - val_accuracy: 0.5242\n",
      "Epoch 18/20\n",
      "427/427 [==============================] - 1579s 4s/step - loss: 0.0303 - accuracy: 0.9885 - val_loss: 2.7354 - val_accuracy: 0.5382\n",
      "Epoch 19/20\n",
      "427/427 [==============================] - 1580s 4s/step - loss: 0.0269 - accuracy: 0.9899 - val_loss: 2.7829 - val_accuracy: 0.5179\n",
      "Epoch 20/20\n",
      "427/427 [==============================] - 1577s 4s/step - loss: 0.0231 - accuracy: 0.9902 - val_loss: 2.7707 - val_accuracy: 0.5242\n"
     ]
    },
    {
     "data": {
      "text/plain": [
       "<keras.callbacks.History at 0x7f25d4fe0250>"
      ]
     },
     "execution_count": 17,
     "metadata": {},
     "output_type": "execute_result"
    }
   ],
   "source": [
    "learner.fit_onecycle(2e-5,20,class_weight=weight) "
   ]
  },
  {
   "cell_type": "code",
   "execution_count": 18,
   "id": "58d607c2",
   "metadata": {
    "execution": {
     "iopub.execute_input": "2022-04-19T02:04:39.819417Z",
     "iopub.status.busy": "2022-04-19T02:04:39.818757Z",
     "iopub.status.idle": "2022-04-19T02:05:34.609181Z",
     "shell.execute_reply": "2022-04-19T02:05:34.608067Z"
    },
    "papermill": {
     "duration": 58.150856,
     "end_time": "2022-04-19T02:05:34.611400",
     "exception": false,
     "start_time": "2022-04-19T02:04:36.460544",
     "status": "completed"
    },
    "tags": []
   },
   "outputs": [
    {
     "name": "stdout",
     "output_type": "stream",
     "text": [
      "              precision    recall  f1-score   support\n",
      "\n",
      "       angry       0.60      0.65      0.62       137\n",
      "     disgust       0.25      0.19      0.22        72\n",
      "        fear       0.19      0.23      0.21        30\n",
      "       happy       0.75      0.75      0.75       195\n",
      "         sad       0.42      0.47      0.44       132\n",
      "     surpise       0.32      0.24      0.27        75\n",
      "\n",
      "    accuracy                           0.52       641\n",
      "   macro avg       0.42      0.42      0.42       641\n",
      "weighted avg       0.52      0.52      0.52       641\n",
      "\n"
     ]
    },
    {
     "data": {
      "text/plain": [
       "array([[ 89,  11,   5,   4,  17,  11],\n",
       "       [ 21,  14,   2,   7,  21,   7],\n",
       "       [  0,   4,   7,   5,   9,   5],\n",
       "       [ 14,   5,   7, 146,  17,   6],\n",
       "       [ 13,  16,  11,  20,  62,  10],\n",
       "       [ 11,   7,   4,  12,  23,  18]])"
      ]
     },
     "execution_count": 18,
     "metadata": {},
     "output_type": "execute_result"
    }
   ],
   "source": [
    "learner.validate(class_names=categories)"
   ]
  },
  {
   "cell_type": "code",
   "execution_count": 19,
   "id": "a6b96d06",
   "metadata": {
    "execution": {
     "iopub.execute_input": "2022-04-19T02:05:41.019474Z",
     "iopub.status.busy": "2022-04-19T02:05:41.019176Z",
     "iopub.status.idle": "2022-04-19T02:05:41.101905Z",
     "shell.execute_reply": "2022-04-19T02:05:41.100854Z"
    },
    "papermill": {
     "duration": 3.269329,
     "end_time": "2022-04-19T02:05:41.104297",
     "exception": false,
     "start_time": "2022-04-19T02:05:37.834968",
     "status": "completed"
    },
    "tags": []
   },
   "outputs": [],
   "source": [
    "predictor = ktrain.get_predictor(learner.model, preproc=trans)"
   ]
  },
  {
   "cell_type": "code",
   "execution_count": 20,
   "id": "75243ad5",
   "metadata": {
    "execution": {
     "iopub.execute_input": "2022-04-19T02:05:47.523503Z",
     "iopub.status.busy": "2022-04-19T02:05:47.523226Z",
     "iopub.status.idle": "2022-04-19T02:06:37.045511Z",
     "shell.execute_reply": "2022-04-19T02:06:37.044605Z"
    },
    "papermill": {
     "duration": 52.739556,
     "end_time": "2022-04-19T02:06:37.048444",
     "exception": false,
     "start_time": "2022-04-19T02:05:44.308888",
     "status": "completed"
    },
    "tags": []
   },
   "outputs": [
    {
     "name": "stdout",
     "output_type": "stream",
     "text": [
      "['angry', 'disgust', 'angry', 'sad', 'sad', 'sad', 'sad', 'angry', 'happy', 'happy', 'disgust', 'angry', 'happy', 'angry', 'angry', 'sad', 'happy', 'happy', 'disgust', 'happy', 'disgust', 'surpise', 'disgust', 'angry', 'angry', 'happy', 'happy', 'sad', 'angry', 'fear', 'happy', 'surpise', 'fear', 'happy', 'sad', 'angry', 'disgust', 'angry', 'happy', 'happy', 'sad', 'angry', 'sad', 'happy', 'angry', 'surpise', 'angry', 'surpise', 'surpise', 'angry', 'angry', 'angry', 'sad', 'happy', 'disgust', 'sad', 'sad', 'disgust', 'angry', 'surpise', 'surpise', 'fear', 'angry', 'happy', 'disgust', 'sad', 'angry', 'sad', 'surpise', 'fear', 'happy', 'angry', 'sad', 'happy', 'surpise', 'disgust', 'disgust', 'angry', 'fear', 'sad', 'sad', 'angry', 'angry', 'sad', 'angry', 'happy', 'disgust', 'sad', 'disgust', 'happy', 'disgust', 'happy', 'happy', 'happy', 'surpise', 'sad', 'fear', 'angry', 'surpise', 'sad', 'happy', 'angry', 'disgust', 'disgust', 'surpise', 'surpise', 'happy', 'happy', 'surpise', 'surpise', 'surpise', 'angry', 'angry', 'angry', 'sad', 'surpise', 'happy', 'angry', 'angry', 'sad', 'sad', 'angry', 'happy', 'happy', 'disgust', 'happy', 'happy', 'fear', 'disgust', 'happy', 'angry', 'sad', 'happy', 'happy', 'happy', 'happy', 'happy', 'happy', 'sad', 'happy', 'sad', 'angry', 'sad', 'happy', 'sad', 'angry', 'sad', 'sad', 'fear', 'surpise', 'angry', 'sad', 'angry', 'sad', 'angry', 'happy', 'disgust', 'sad', 'happy', 'happy', 'sad', 'sad', 'sad', 'disgust', 'fear', 'sad', 'happy', 'happy', 'sad', 'surpise', 'happy', 'sad', 'fear', 'happy', 'happy', 'sad', 'angry', 'sad', 'sad', 'surpise', 'happy', 'happy', 'sad', 'disgust', 'happy', 'surpise', 'happy', 'happy', 'surpise', 'fear', 'happy', 'surpise', 'angry', 'surpise', 'happy', 'sad', 'sad', 'sad', 'disgust', 'disgust', 'angry', 'fear', 'angry', 'sad', 'sad', 'surpise', 'angry', 'fear', 'sad', 'surpise', 'angry', 'happy', 'angry', 'happy', 'surpise', 'happy', 'fear', 'happy', 'angry', 'happy', 'happy', 'angry', 'sad', 'surpise', 'angry', 'angry', 'happy', 'happy', 'happy', 'angry', 'sad', 'happy', 'disgust', 'sad', 'happy', 'happy', 'surpise', 'sad', 'sad', 'angry', 'angry', 'surpise', 'sad', 'angry', 'sad', 'angry', 'disgust', 'surpise', 'angry', 'fear', 'sad', 'angry', 'happy', 'angry', 'sad', 'angry', 'happy', 'happy', 'sad', 'happy', 'sad', 'happy', 'sad', 'angry', 'happy', 'happy', 'angry', 'angry', 'angry', 'surpise', 'fear', 'happy', 'happy', 'disgust', 'happy', 'fear', 'disgust', 'sad', 'angry', 'surpise', 'fear', 'happy', 'sad', 'angry', 'surpise', 'fear', 'happy', 'happy', 'happy', 'sad', 'happy', 'angry', 'angry', 'angry', 'sad', 'disgust', 'angry', 'angry', 'disgust', 'happy', 'sad', 'angry', 'angry', 'happy', 'happy', 'surpise', 'fear', 'angry', 'surpise', 'happy', 'happy', 'disgust', 'happy', 'surpise', 'happy', 'sad', 'happy', 'sad', 'disgust', 'happy', 'angry', 'sad', 'angry', 'surpise', 'angry', 'disgust', 'sad', 'angry', 'disgust', 'happy', 'sad', 'happy', 'happy', 'happy', 'disgust', 'sad', 'sad', 'angry', 'disgust', 'disgust', 'angry', 'happy', 'surpise', 'surpise', 'sad', 'happy', 'sad', 'surpise', 'sad', 'angry', 'sad', 'sad', 'angry', 'sad', 'sad', 'happy', 'angry', 'happy', 'angry', 'angry', 'surpise', 'angry', 'sad', 'sad', 'angry', 'angry', 'sad', 'happy', 'angry', 'happy', 'happy', 'happy', 'happy', 'happy', 'happy', 'happy', 'sad', 'fear', 'happy', 'sad', 'happy', 'happy', 'sad', 'sad', 'angry', 'angry', 'disgust', 'disgust', 'sad', 'happy', 'surpise', 'surpise', 'angry', 'happy', 'angry', 'happy', 'sad', 'sad', 'sad', 'sad', 'angry', 'angry', 'surpise', 'disgust', 'angry', 'angry', 'surpise', 'angry', 'angry', 'angry', 'happy', 'surpise', 'happy', 'happy', 'disgust', 'happy', 'happy', 'surpise', 'disgust', 'happy', 'sad', 'sad', 'fear', 'angry', 'angry', 'angry', 'happy', 'angry', 'sad', 'disgust', 'angry', 'angry', 'fear', 'sad', 'disgust', 'surpise', 'happy', 'happy', 'happy', 'sad', 'sad', 'happy', 'surpise', 'disgust', 'sad', 'surpise', 'happy', 'angry', 'disgust', 'happy', 'happy', 'happy', 'happy', 'fear', 'surpise', 'happy', 'angry', 'sad', 'disgust', 'happy', 'happy', 'happy', 'happy', 'happy', 'angry', 'happy', 'surpise', 'happy', 'angry', 'disgust', 'happy', 'angry', 'happy', 'angry', 'surpise', 'angry', 'fear', 'disgust', 'angry', 'sad', 'surpise', 'sad', 'sad', 'fear', 'sad', 'sad', 'sad', 'angry', 'happy', 'surpise', 'sad', 'surpise', 'happy', 'surpise', 'happy', 'happy', 'angry', 'happy', 'angry', 'sad', 'disgust', 'happy', 'happy', 'angry', 'happy', 'surpise', 'surpise', 'angry', 'happy', 'disgust', 'angry', 'happy', 'fear', 'surpise', 'sad', 'sad', 'sad', 'sad', 'happy', 'sad', 'surpise', 'angry', 'sad', 'fear', 'happy', 'angry', 'angry', 'angry', 'sad', 'surpise', 'sad', 'angry', 'sad', 'sad', 'fear', 'angry', 'happy', 'disgust', 'happy', 'surpise', 'sad', 'angry', 'angry', 'happy', 'surpise', 'happy', 'sad', 'angry', 'disgust', 'happy', 'sad', 'happy', 'angry', 'angry', 'disgust', 'fear', 'happy', 'happy', 'happy', 'disgust', 'angry', 'happy', 'sad', 'angry', 'happy', 'fear', 'disgust', 'angry', 'surpise', 'disgust', 'sad', 'happy', 'sad', 'sad', 'sad', 'fear', 'disgust', 'fear', 'happy', 'disgust', 'angry', 'angry', 'angry', 'angry', 'sad', 'angry', 'happy', 'sad', 'surpise', 'happy', 'sad', 'surpise', 'surpise', 'disgust', 'angry', 'surpise', 'angry', 'happy', 'sad', 'sad', 'sad', 'angry', 'sad', 'angry', 'happy', 'happy', 'disgust', 'surpise', 'happy', 'angry', 'angry', 'sad', 'sad', 'surpise', 'surpise', 'surpise', 'sad', 'happy', 'disgust', 'sad', 'surpise', 'disgust', 'sad', 'sad', 'happy', 'happy', 'angry', 'surpise', 'happy', 'angry', 'angry', 'fear', 'sad', 'sad', 'surpise', 'fear', 'happy', 'happy', 'sad', 'sad']\n"
     ]
    }
   ],
   "source": [
    "y_pred = predictor.predict(x_test)\n",
    "print(y_pred)"
   ]
  },
  {
   "cell_type": "code",
   "execution_count": 21,
   "id": "b44a1679",
   "metadata": {
    "execution": {
     "iopub.execute_input": "2022-04-19T02:06:43.501425Z",
     "iopub.status.busy": "2022-04-19T02:06:43.501148Z",
     "iopub.status.idle": "2022-04-19T02:06:43.595141Z",
     "shell.execute_reply": "2022-04-19T02:06:43.594147Z"
    },
    "papermill": {
     "duration": 3.318882,
     "end_time": "2022-04-19T02:06:43.597467",
     "exception": false,
     "start_time": "2022-04-19T02:06:40.278585",
     "status": "completed"
    },
    "tags": []
   },
   "outputs": [
    {
     "name": "stdout",
     "output_type": "stream",
     "text": [
      "              precision    recall  f1-score   support\n",
      "\n",
      "       angry       0.54      0.56      0.55       144\n",
      "     disgust       0.19      0.18      0.19        66\n",
      "        fear       0.11      0.12      0.12        32\n",
      "       happy       0.76      0.71      0.73       187\n",
      "         sad       0.43      0.42      0.42       148\n",
      "     surpise       0.23      0.29      0.26        63\n",
      "\n",
      "    accuracy                           0.48       640\n",
      "   macro avg       0.38      0.38      0.38       640\n",
      "weighted avg       0.49      0.48      0.49       640\n",
      "\n"
     ]
    }
   ],
   "source": [
    "from sklearn.metrics import classification_report\n",
    "print(classification_report(y_test,y_pred))"
   ]
  }
 ],
 "metadata": {
  "kernelspec": {
   "display_name": "Python 3",
   "language": "python",
   "name": "python3"
  },
  "language_info": {
   "codemirror_mode": {
    "name": "ipython",
    "version": 3
   },
   "file_extension": ".py",
   "mimetype": "text/x-python",
   "name": "python",
   "nbconvert_exporter": "python",
   "pygments_lexer": "ipython3",
   "version": "3.7.12"
  },
  "papermill": {
   "default_parameters": {},
   "duration": 31962.510803,
   "end_time": "2022-04-19T02:06:50.993136",
   "environment_variables": {},
   "exception": null,
   "input_path": "__notebook__.ipynb",
   "output_path": "__notebook__.ipynb",
   "parameters": {},
   "start_time": "2022-04-18T17:14:08.482333",
   "version": "2.3.4"
  },
  "widgets": {
   "application/vnd.jupyter.widget-state+json": {
    "state": {
     "0556fa94b0e643469d5230d18965b163": {
      "model_module": "@jupyter-widgets/controls",
      "model_module_version": "1.5.0",
      "model_name": "DescriptionStyleModel",
      "state": {
       "_model_module": "@jupyter-widgets/controls",
       "_model_module_version": "1.5.0",
       "_model_name": "DescriptionStyleModel",
       "_view_count": null,
       "_view_module": "@jupyter-widgets/base",
       "_view_module_version": "1.2.0",
       "_view_name": "StyleView",
       "description_width": ""
      }
     },
     "0d540809b94f4d8da8c6a9e559c49518": {
      "model_module": "@jupyter-widgets/controls",
      "model_module_version": "1.5.0",
      "model_name": "HBoxModel",
      "state": {
       "_dom_classes": [],
       "_model_module": "@jupyter-widgets/controls",
       "_model_module_version": "1.5.0",
       "_model_name": "HBoxModel",
       "_view_count": null,
       "_view_module": "@jupyter-widgets/controls",
       "_view_module_version": "1.5.0",
       "_view_name": "HBoxView",
       "box_style": "",
       "children": [
        "IPY_MODEL_94c45a49ee0844e199fcd97bf36883d8",
        "IPY_MODEL_bb840281addb4222a9e4a9d987ce44bc",
        "IPY_MODEL_c84f561dff9d4aeb8672bd1ee13fe2d9"
       ],
       "layout": "IPY_MODEL_f1548ca85d1b4efba0a35123dd25df79"
      }
     },
     "1f3f8ff321c045ba9ab7457f446e11db": {
      "model_module": "@jupyter-widgets/base",
      "model_module_version": "1.2.0",
      "model_name": "LayoutModel",
      "state": {
       "_model_module": "@jupyter-widgets/base",
       "_model_module_version": "1.2.0",
       "_model_name": "LayoutModel",
       "_view_count": null,
       "_view_module": "@jupyter-widgets/base",
       "_view_module_version": "1.2.0",
       "_view_name": "LayoutView",
       "align_content": null,
       "align_items": null,
       "align_self": null,
       "border": null,
       "bottom": null,
       "display": null,
       "flex": null,
       "flex_flow": null,
       "grid_area": null,
       "grid_auto_columns": null,
       "grid_auto_flow": null,
       "grid_auto_rows": null,
       "grid_column": null,
       "grid_gap": null,
       "grid_row": null,
       "grid_template_areas": null,
       "grid_template_columns": null,
       "grid_template_rows": null,
       "height": null,
       "justify_content": null,
       "justify_items": null,
       "left": null,
       "margin": null,
       "max_height": null,
       "max_width": null,
       "min_height": null,
       "min_width": null,
       "object_fit": null,
       "object_position": null,
       "order": null,
       "overflow": null,
       "overflow_x": null,
       "overflow_y": null,
       "padding": null,
       "right": null,
       "top": null,
       "visibility": null,
       "width": null
      }
     },
     "1fb66d0f6781438aad6d3108d541af04": {
      "model_module": "@jupyter-widgets/base",
      "model_module_version": "1.2.0",
      "model_name": "LayoutModel",
      "state": {
       "_model_module": "@jupyter-widgets/base",
       "_model_module_version": "1.2.0",
       "_model_name": "LayoutModel",
       "_view_count": null,
       "_view_module": "@jupyter-widgets/base",
       "_view_module_version": "1.2.0",
       "_view_name": "LayoutView",
       "align_content": null,
       "align_items": null,
       "align_self": null,
       "border": null,
       "bottom": null,
       "display": null,
       "flex": null,
       "flex_flow": null,
       "grid_area": null,
       "grid_auto_columns": null,
       "grid_auto_flow": null,
       "grid_auto_rows": null,
       "grid_column": null,
       "grid_gap": null,
       "grid_row": null,
       "grid_template_areas": null,
       "grid_template_columns": null,
       "grid_template_rows": null,
       "height": null,
       "justify_content": null,
       "justify_items": null,
       "left": null,
       "margin": null,
       "max_height": null,
       "max_width": null,
       "min_height": null,
       "min_width": null,
       "object_fit": null,
       "object_position": null,
       "order": null,
       "overflow": null,
       "overflow_x": null,
       "overflow_y": null,
       "padding": null,
       "right": null,
       "top": null,
       "visibility": null,
       "width": null
      }
     },
     "205ed45cab3d44818d7a8e6231850aa3": {
      "model_module": "@jupyter-widgets/base",
      "model_module_version": "1.2.0",
      "model_name": "LayoutModel",
      "state": {
       "_model_module": "@jupyter-widgets/base",
       "_model_module_version": "1.2.0",
       "_model_name": "LayoutModel",
       "_view_count": null,
       "_view_module": "@jupyter-widgets/base",
       "_view_module_version": "1.2.0",
       "_view_name": "LayoutView",
       "align_content": null,
       "align_items": null,
       "align_self": null,
       "border": null,
       "bottom": null,
       "display": null,
       "flex": null,
       "flex_flow": null,
       "grid_area": null,
       "grid_auto_columns": null,
       "grid_auto_flow": null,
       "grid_auto_rows": null,
       "grid_column": null,
       "grid_gap": null,
       "grid_row": null,
       "grid_template_areas": null,
       "grid_template_columns": null,
       "grid_template_rows": null,
       "height": null,
       "justify_content": null,
       "justify_items": null,
       "left": null,
       "margin": null,
       "max_height": null,
       "max_width": null,
       "min_height": null,
       "min_width": null,
       "object_fit": null,
       "object_position": null,
       "order": null,
       "overflow": null,
       "overflow_x": null,
       "overflow_y": null,
       "padding": null,
       "right": null,
       "top": null,
       "visibility": null,
       "width": null
      }
     },
     "2ed97a321b4246969e2e46fb6dc2d9de": {
      "model_module": "@jupyter-widgets/base",
      "model_module_version": "1.2.0",
      "model_name": "LayoutModel",
      "state": {
       "_model_module": "@jupyter-widgets/base",
       "_model_module_version": "1.2.0",
       "_model_name": "LayoutModel",
       "_view_count": null,
       "_view_module": "@jupyter-widgets/base",
       "_view_module_version": "1.2.0",
       "_view_name": "LayoutView",
       "align_content": null,
       "align_items": null,
       "align_self": null,
       "border": null,
       "bottom": null,
       "display": null,
       "flex": null,
       "flex_flow": null,
       "grid_area": null,
       "grid_auto_columns": null,
       "grid_auto_flow": null,
       "grid_auto_rows": null,
       "grid_column": null,
       "grid_gap": null,
       "grid_row": null,
       "grid_template_areas": null,
       "grid_template_columns": null,
       "grid_template_rows": null,
       "height": null,
       "justify_content": null,
       "justify_items": null,
       "left": null,
       "margin": null,
       "max_height": null,
       "max_width": null,
       "min_height": null,
       "min_width": null,
       "object_fit": null,
       "object_position": null,
       "order": null,
       "overflow": null,
       "overflow_x": null,
       "overflow_y": null,
       "padding": null,
       "right": null,
       "top": null,
       "visibility": null,
       "width": null
      }
     },
     "36c146d039214a398bf256155de88910": {
      "model_module": "@jupyter-widgets/controls",
      "model_module_version": "1.5.0",
      "model_name": "DescriptionStyleModel",
      "state": {
       "_model_module": "@jupyter-widgets/controls",
       "_model_module_version": "1.5.0",
       "_model_name": "DescriptionStyleModel",
       "_view_count": null,
       "_view_module": "@jupyter-widgets/base",
       "_view_module_version": "1.2.0",
       "_view_name": "StyleView",
       "description_width": ""
      }
     },
     "47bc7693e3a1478ca899568c50ca565f": {
      "model_module": "@jupyter-widgets/controls",
      "model_module_version": "1.5.0",
      "model_name": "HTMLModel",
      "state": {
       "_dom_classes": [],
       "_model_module": "@jupyter-widgets/controls",
       "_model_module_version": "1.5.0",
       "_model_name": "HTMLModel",
       "_view_count": null,
       "_view_module": "@jupyter-widgets/controls",
       "_view_module_version": "1.5.0",
       "_view_name": "HTMLView",
       "description": "",
       "description_tooltip": null,
       "layout": "IPY_MODEL_bb5e78f57c5e40938ae29d5acf10e580",
       "placeholder": "​",
       "style": "IPY_MODEL_e34330bb23504632aef95f572fc367a9",
       "value": " 2.24M/2.24M [00:00&lt;00:00, 3.35MB/s]"
      }
     },
     "4af6563416cb4e5b8cd4d6432b346e2d": {
      "model_module": "@jupyter-widgets/base",
      "model_module_version": "1.2.0",
      "model_name": "LayoutModel",
      "state": {
       "_model_module": "@jupyter-widgets/base",
       "_model_module_version": "1.2.0",
       "_model_name": "LayoutModel",
       "_view_count": null,
       "_view_module": "@jupyter-widgets/base",
       "_view_module_version": "1.2.0",
       "_view_name": "LayoutView",
       "align_content": null,
       "align_items": null,
       "align_self": null,
       "border": null,
       "bottom": null,
       "display": null,
       "flex": null,
       "flex_flow": null,
       "grid_area": null,
       "grid_auto_columns": null,
       "grid_auto_flow": null,
       "grid_auto_rows": null,
       "grid_column": null,
       "grid_gap": null,
       "grid_row": null,
       "grid_template_areas": null,
       "grid_template_columns": null,
       "grid_template_rows": null,
       "height": null,
       "justify_content": null,
       "justify_items": null,
       "left": null,
       "margin": null,
       "max_height": null,
       "max_width": null,
       "min_height": null,
       "min_width": null,
       "object_fit": null,
       "object_position": null,
       "order": null,
       "overflow": null,
       "overflow_x": null,
       "overflow_y": null,
       "padding": null,
       "right": null,
       "top": null,
       "visibility": null,
       "width": null
      }
     },
     "537f03b828b4451086050f224bd31656": {
      "model_module": "@jupyter-widgets/controls",
      "model_module_version": "1.5.0",
      "model_name": "DescriptionStyleModel",
      "state": {
       "_model_module": "@jupyter-widgets/controls",
       "_model_module_version": "1.5.0",
       "_model_name": "DescriptionStyleModel",
       "_view_count": null,
       "_view_module": "@jupyter-widgets/base",
       "_view_module_version": "1.2.0",
       "_view_name": "StyleView",
       "description_width": ""
      }
     },
     "539d0e4f8d7d4330bf42033bc31e013e": {
      "model_module": "@jupyter-widgets/base",
      "model_module_version": "1.2.0",
      "model_name": "LayoutModel",
      "state": {
       "_model_module": "@jupyter-widgets/base",
       "_model_module_version": "1.2.0",
       "_model_name": "LayoutModel",
       "_view_count": null,
       "_view_module": "@jupyter-widgets/base",
       "_view_module_version": "1.2.0",
       "_view_name": "LayoutView",
       "align_content": null,
       "align_items": null,
       "align_self": null,
       "border": null,
       "bottom": null,
       "display": null,
       "flex": null,
       "flex_flow": null,
       "grid_area": null,
       "grid_auto_columns": null,
       "grid_auto_flow": null,
       "grid_auto_rows": null,
       "grid_column": null,
       "grid_gap": null,
       "grid_row": null,
       "grid_template_areas": null,
       "grid_template_columns": null,
       "grid_template_rows": null,
       "height": null,
       "justify_content": null,
       "justify_items": null,
       "left": null,
       "margin": null,
       "max_height": null,
       "max_width": null,
       "min_height": null,
       "min_width": null,
       "object_fit": null,
       "object_position": null,
       "order": null,
       "overflow": null,
       "overflow_x": null,
       "overflow_y": null,
       "padding": null,
       "right": null,
       "top": null,
       "visibility": null,
       "width": null
      }
     },
     "579ff1de595e438aa0293131f7724666": {
      "model_module": "@jupyter-widgets/controls",
      "model_module_version": "1.5.0",
      "model_name": "ProgressStyleModel",
      "state": {
       "_model_module": "@jupyter-widgets/controls",
       "_model_module_version": "1.5.0",
       "_model_name": "ProgressStyleModel",
       "_view_count": null,
       "_view_module": "@jupyter-widgets/base",
       "_view_module_version": "1.2.0",
       "_view_name": "StyleView",
       "bar_color": null,
       "description_width": ""
      }
     },
     "59430501c5214953a1ab6a1d7de91006": {
      "model_module": "@jupyter-widgets/controls",
      "model_module_version": "1.5.0",
      "model_name": "HTMLModel",
      "state": {
       "_dom_classes": [],
       "_model_module": "@jupyter-widgets/controls",
       "_model_module_version": "1.5.0",
       "_model_name": "HTMLModel",
       "_view_count": null,
       "_view_module": "@jupyter-widgets/controls",
       "_view_module_version": "1.5.0",
       "_view_name": "HTMLView",
       "description": "",
       "description_tooltip": null,
       "layout": "IPY_MODEL_9cea642866f74d5cb0da1b8d37ab85a1",
       "placeholder": "​",
       "style": "IPY_MODEL_0556fa94b0e643469d5230d18965b163",
       "value": "Downloading: 100%"
      }
     },
     "6a632a5080844b74819b85a51c360764": {
      "model_module": "@jupyter-widgets/controls",
      "model_module_version": "1.5.0",
      "model_name": "HTMLModel",
      "state": {
       "_dom_classes": [],
       "_model_module": "@jupyter-widgets/controls",
       "_model_module_version": "1.5.0",
       "_model_name": "HTMLModel",
       "_view_count": null,
       "_view_module": "@jupyter-widgets/controls",
       "_view_module_version": "1.5.0",
       "_view_name": "HTMLView",
       "description": "",
       "description_tooltip": null,
       "layout": "IPY_MODEL_4af6563416cb4e5b8cd4d6432b346e2d",
       "placeholder": "​",
       "style": "IPY_MODEL_537f03b828b4451086050f224bd31656",
       "value": "Downloading: 100%"
      }
     },
     "6eea487d6c3c40e1b55f5e7821e7ca10": {
      "model_module": "@jupyter-widgets/controls",
      "model_module_version": "1.5.0",
      "model_name": "DescriptionStyleModel",
      "state": {
       "_model_module": "@jupyter-widgets/controls",
       "_model_module_version": "1.5.0",
       "_model_name": "DescriptionStyleModel",
       "_view_count": null,
       "_view_module": "@jupyter-widgets/base",
       "_view_module_version": "1.2.0",
       "_view_name": "StyleView",
       "description_width": ""
      }
     },
     "8435e3a190a94eae9e4a2530dc028b45": {
      "model_module": "@jupyter-widgets/base",
      "model_module_version": "1.2.0",
      "model_name": "LayoutModel",
      "state": {
       "_model_module": "@jupyter-widgets/base",
       "_model_module_version": "1.2.0",
       "_model_name": "LayoutModel",
       "_view_count": null,
       "_view_module": "@jupyter-widgets/base",
       "_view_module_version": "1.2.0",
       "_view_name": "LayoutView",
       "align_content": null,
       "align_items": null,
       "align_self": null,
       "border": null,
       "bottom": null,
       "display": null,
       "flex": null,
       "flex_flow": null,
       "grid_area": null,
       "grid_auto_columns": null,
       "grid_auto_flow": null,
       "grid_auto_rows": null,
       "grid_column": null,
       "grid_gap": null,
       "grid_row": null,
       "grid_template_areas": null,
       "grid_template_columns": null,
       "grid_template_rows": null,
       "height": null,
       "justify_content": null,
       "justify_items": null,
       "left": null,
       "margin": null,
       "max_height": null,
       "max_width": null,
       "min_height": null,
       "min_width": null,
       "object_fit": null,
       "object_position": null,
       "order": null,
       "overflow": null,
       "overflow_x": null,
       "overflow_y": null,
       "padding": null,
       "right": null,
       "top": null,
       "visibility": null,
       "width": null
      }
     },
     "89219afc87734f56b356245a8c825006": {
      "model_module": "@jupyter-widgets/base",
      "model_module_version": "1.2.0",
      "model_name": "LayoutModel",
      "state": {
       "_model_module": "@jupyter-widgets/base",
       "_model_module_version": "1.2.0",
       "_model_name": "LayoutModel",
       "_view_count": null,
       "_view_module": "@jupyter-widgets/base",
       "_view_module_version": "1.2.0",
       "_view_name": "LayoutView",
       "align_content": null,
       "align_items": null,
       "align_self": null,
       "border": null,
       "bottom": null,
       "display": null,
       "flex": null,
       "flex_flow": null,
       "grid_area": null,
       "grid_auto_columns": null,
       "grid_auto_flow": null,
       "grid_auto_rows": null,
       "grid_column": null,
       "grid_gap": null,
       "grid_row": null,
       "grid_template_areas": null,
       "grid_template_columns": null,
       "grid_template_rows": null,
       "height": null,
       "justify_content": null,
       "justify_items": null,
       "left": null,
       "margin": null,
       "max_height": null,
       "max_width": null,
       "min_height": null,
       "min_width": null,
       "object_fit": null,
       "object_position": null,
       "order": null,
       "overflow": null,
       "overflow_x": null,
       "overflow_y": null,
       "padding": null,
       "right": null,
       "top": null,
       "visibility": null,
       "width": null
      }
     },
     "94c45a49ee0844e199fcd97bf36883d8": {
      "model_module": "@jupyter-widgets/controls",
      "model_module_version": "1.5.0",
      "model_name": "HTMLModel",
      "state": {
       "_dom_classes": [],
       "_model_module": "@jupyter-widgets/controls",
       "_model_module_version": "1.5.0",
       "_model_name": "HTMLModel",
       "_view_count": null,
       "_view_module": "@jupyter-widgets/controls",
       "_view_module_version": "1.5.0",
       "_view_name": "HTMLView",
       "description": "",
       "description_tooltip": null,
       "layout": "IPY_MODEL_8435e3a190a94eae9e4a2530dc028b45",
       "placeholder": "​",
       "style": "IPY_MODEL_d43b41cdcbea4346afc502f087f24df7",
       "value": "Downloading: 100%"
      }
     },
     "96ec67afcf704e6c80c3a816a6e28479": {
      "model_module": "@jupyter-widgets/controls",
      "model_module_version": "1.5.0",
      "model_name": "HBoxModel",
      "state": {
       "_dom_classes": [],
       "_model_module": "@jupyter-widgets/controls",
       "_model_module_version": "1.5.0",
       "_model_name": "HBoxModel",
       "_view_count": null,
       "_view_module": "@jupyter-widgets/controls",
       "_view_module_version": "1.5.0",
       "_view_name": "HBoxView",
       "box_style": "",
       "children": [
        "IPY_MODEL_59430501c5214953a1ab6a1d7de91006",
        "IPY_MODEL_c533bdb9159b4034b0f9a30462ae72b0",
        "IPY_MODEL_47bc7693e3a1478ca899568c50ca565f"
       ],
       "layout": "IPY_MODEL_205ed45cab3d44818d7a8e6231850aa3"
      }
     },
     "9cea642866f74d5cb0da1b8d37ab85a1": {
      "model_module": "@jupyter-widgets/base",
      "model_module_version": "1.2.0",
      "model_name": "LayoutModel",
      "state": {
       "_model_module": "@jupyter-widgets/base",
       "_model_module_version": "1.2.0",
       "_model_name": "LayoutModel",
       "_view_count": null,
       "_view_module": "@jupyter-widgets/base",
       "_view_module_version": "1.2.0",
       "_view_name": "LayoutView",
       "align_content": null,
       "align_items": null,
       "align_self": null,
       "border": null,
       "bottom": null,
       "display": null,
       "flex": null,
       "flex_flow": null,
       "grid_area": null,
       "grid_auto_columns": null,
       "grid_auto_flow": null,
       "grid_auto_rows": null,
       "grid_column": null,
       "grid_gap": null,
       "grid_row": null,
       "grid_template_areas": null,
       "grid_template_columns": null,
       "grid_template_rows": null,
       "height": null,
       "justify_content": null,
       "justify_items": null,
       "left": null,
       "margin": null,
       "max_height": null,
       "max_width": null,
       "min_height": null,
       "min_width": null,
       "object_fit": null,
       "object_position": null,
       "order": null,
       "overflow": null,
       "overflow_x": null,
       "overflow_y": null,
       "padding": null,
       "right": null,
       "top": null,
       "visibility": null,
       "width": null
      }
     },
     "b13b893c5fae44d7bc0876fdad00a9cb": {
      "model_module": "@jupyter-widgets/controls",
      "model_module_version": "1.5.0",
      "model_name": "HBoxModel",
      "state": {
       "_dom_classes": [],
       "_model_module": "@jupyter-widgets/controls",
       "_model_module_version": "1.5.0",
       "_model_name": "HBoxModel",
       "_view_count": null,
       "_view_module": "@jupyter-widgets/controls",
       "_view_module_version": "1.5.0",
       "_view_name": "HBoxView",
       "box_style": "",
       "children": [
        "IPY_MODEL_6a632a5080844b74819b85a51c360764",
        "IPY_MODEL_b8a841cd4f7d42f0a6f11c87c6bac330",
        "IPY_MODEL_fa50febba5db4325a9f64db0cb6dd24c"
       ],
       "layout": "IPY_MODEL_1f3f8ff321c045ba9ab7457f446e11db"
      }
     },
     "b8a841cd4f7d42f0a6f11c87c6bac330": {
      "model_module": "@jupyter-widgets/controls",
      "model_module_version": "1.5.0",
      "model_name": "FloatProgressModel",
      "state": {
       "_dom_classes": [],
       "_model_module": "@jupyter-widgets/controls",
       "_model_module_version": "1.5.0",
       "_model_name": "FloatProgressModel",
       "_view_count": null,
       "_view_module": "@jupyter-widgets/controls",
       "_view_module_version": "1.5.0",
       "_view_name": "ProgressView",
       "bar_style": "success",
       "description": "",
       "description_tooltip": null,
       "layout": "IPY_MODEL_89219afc87734f56b356245a8c825006",
       "max": 638.0,
       "min": 0.0,
       "orientation": "horizontal",
       "style": "IPY_MODEL_cab9052ef8404ce4ac44aa665b543e79",
       "value": 638.0
      }
     },
     "bb5e78f57c5e40938ae29d5acf10e580": {
      "model_module": "@jupyter-widgets/base",
      "model_module_version": "1.2.0",
      "model_name": "LayoutModel",
      "state": {
       "_model_module": "@jupyter-widgets/base",
       "_model_module_version": "1.2.0",
       "_model_name": "LayoutModel",
       "_view_count": null,
       "_view_module": "@jupyter-widgets/base",
       "_view_module_version": "1.2.0",
       "_view_name": "LayoutView",
       "align_content": null,
       "align_items": null,
       "align_self": null,
       "border": null,
       "bottom": null,
       "display": null,
       "flex": null,
       "flex_flow": null,
       "grid_area": null,
       "grid_auto_columns": null,
       "grid_auto_flow": null,
       "grid_auto_rows": null,
       "grid_column": null,
       "grid_gap": null,
       "grid_row": null,
       "grid_template_areas": null,
       "grid_template_columns": null,
       "grid_template_rows": null,
       "height": null,
       "justify_content": null,
       "justify_items": null,
       "left": null,
       "margin": null,
       "max_height": null,
       "max_width": null,
       "min_height": null,
       "min_width": null,
       "object_fit": null,
       "object_position": null,
       "order": null,
       "overflow": null,
       "overflow_x": null,
       "overflow_y": null,
       "padding": null,
       "right": null,
       "top": null,
       "visibility": null,
       "width": null
      }
     },
     "bb840281addb4222a9e4a9d987ce44bc": {
      "model_module": "@jupyter-widgets/controls",
      "model_module_version": "1.5.0",
      "model_name": "FloatProgressModel",
      "state": {
       "_dom_classes": [],
       "_model_module": "@jupyter-widgets/controls",
       "_model_module_version": "1.5.0",
       "_model_name": "FloatProgressModel",
       "_view_count": null,
       "_view_module": "@jupyter-widgets/controls",
       "_view_module_version": "1.5.0",
       "_view_name": "ProgressView",
       "bar_style": "success",
       "description": "",
       "description_tooltip": null,
       "layout": "IPY_MODEL_2ed97a321b4246969e2e46fb6dc2d9de",
       "max": 657928555.0,
       "min": 0.0,
       "orientation": "horizontal",
       "style": "IPY_MODEL_579ff1de595e438aa0293131f7724666",
       "value": 657928555.0
      }
     },
     "c533bdb9159b4034b0f9a30462ae72b0": {
      "model_module": "@jupyter-widgets/controls",
      "model_module_version": "1.5.0",
      "model_name": "FloatProgressModel",
      "state": {
       "_dom_classes": [],
       "_model_module": "@jupyter-widgets/controls",
       "_model_module_version": "1.5.0",
       "_model_name": "FloatProgressModel",
       "_view_count": null,
       "_view_module": "@jupyter-widgets/controls",
       "_view_module_version": "1.5.0",
       "_view_name": "ProgressView",
       "bar_style": "success",
       "description": "",
       "description_tooltip": null,
       "layout": "IPY_MODEL_cc494b2817f84807a5a49c49b1de59ab",
       "max": 2237676.0,
       "min": 0.0,
       "orientation": "horizontal",
       "style": "IPY_MODEL_e0feb1efce6346199f04f9733bdb5d33",
       "value": 2237676.0
      }
     },
     "c84f561dff9d4aeb8672bd1ee13fe2d9": {
      "model_module": "@jupyter-widgets/controls",
      "model_module_version": "1.5.0",
      "model_name": "HTMLModel",
      "state": {
       "_dom_classes": [],
       "_model_module": "@jupyter-widgets/controls",
       "_model_module_version": "1.5.0",
       "_model_name": "HTMLModel",
       "_view_count": null,
       "_view_module": "@jupyter-widgets/controls",
       "_view_module_version": "1.5.0",
       "_view_name": "HTMLView",
       "description": "",
       "description_tooltip": null,
       "layout": "IPY_MODEL_1fb66d0f6781438aad6d3108d541af04",
       "placeholder": "​",
       "style": "IPY_MODEL_6eea487d6c3c40e1b55f5e7821e7ca10",
       "value": " 658M/658M [00:36&lt;00:00, 32.9MB/s]"
      }
     },
     "cab9052ef8404ce4ac44aa665b543e79": {
      "model_module": "@jupyter-widgets/controls",
      "model_module_version": "1.5.0",
      "model_name": "ProgressStyleModel",
      "state": {
       "_model_module": "@jupyter-widgets/controls",
       "_model_module_version": "1.5.0",
       "_model_name": "ProgressStyleModel",
       "_view_count": null,
       "_view_module": "@jupyter-widgets/base",
       "_view_module_version": "1.2.0",
       "_view_name": "StyleView",
       "bar_color": null,
       "description_width": ""
      }
     },
     "cc494b2817f84807a5a49c49b1de59ab": {
      "model_module": "@jupyter-widgets/base",
      "model_module_version": "1.2.0",
      "model_name": "LayoutModel",
      "state": {
       "_model_module": "@jupyter-widgets/base",
       "_model_module_version": "1.2.0",
       "_model_name": "LayoutModel",
       "_view_count": null,
       "_view_module": "@jupyter-widgets/base",
       "_view_module_version": "1.2.0",
       "_view_name": "LayoutView",
       "align_content": null,
       "align_items": null,
       "align_self": null,
       "border": null,
       "bottom": null,
       "display": null,
       "flex": null,
       "flex_flow": null,
       "grid_area": null,
       "grid_auto_columns": null,
       "grid_auto_flow": null,
       "grid_auto_rows": null,
       "grid_column": null,
       "grid_gap": null,
       "grid_row": null,
       "grid_template_areas": null,
       "grid_template_columns": null,
       "grid_template_rows": null,
       "height": null,
       "justify_content": null,
       "justify_items": null,
       "left": null,
       "margin": null,
       "max_height": null,
       "max_width": null,
       "min_height": null,
       "min_width": null,
       "object_fit": null,
       "object_position": null,
       "order": null,
       "overflow": null,
       "overflow_x": null,
       "overflow_y": null,
       "padding": null,
       "right": null,
       "top": null,
       "visibility": null,
       "width": null
      }
     },
     "d43b41cdcbea4346afc502f087f24df7": {
      "model_module": "@jupyter-widgets/controls",
      "model_module_version": "1.5.0",
      "model_name": "DescriptionStyleModel",
      "state": {
       "_model_module": "@jupyter-widgets/controls",
       "_model_module_version": "1.5.0",
       "_model_name": "DescriptionStyleModel",
       "_view_count": null,
       "_view_module": "@jupyter-widgets/base",
       "_view_module_version": "1.2.0",
       "_view_name": "StyleView",
       "description_width": ""
      }
     },
     "e0feb1efce6346199f04f9733bdb5d33": {
      "model_module": "@jupyter-widgets/controls",
      "model_module_version": "1.5.0",
      "model_name": "ProgressStyleModel",
      "state": {
       "_model_module": "@jupyter-widgets/controls",
       "_model_module_version": "1.5.0",
       "_model_name": "ProgressStyleModel",
       "_view_count": null,
       "_view_module": "@jupyter-widgets/base",
       "_view_module_version": "1.2.0",
       "_view_name": "StyleView",
       "bar_color": null,
       "description_width": ""
      }
     },
     "e34330bb23504632aef95f572fc367a9": {
      "model_module": "@jupyter-widgets/controls",
      "model_module_version": "1.5.0",
      "model_name": "DescriptionStyleModel",
      "state": {
       "_model_module": "@jupyter-widgets/controls",
       "_model_module_version": "1.5.0",
       "_model_name": "DescriptionStyleModel",
       "_view_count": null,
       "_view_module": "@jupyter-widgets/base",
       "_view_module_version": "1.2.0",
       "_view_name": "StyleView",
       "description_width": ""
      }
     },
     "f1548ca85d1b4efba0a35123dd25df79": {
      "model_module": "@jupyter-widgets/base",
      "model_module_version": "1.2.0",
      "model_name": "LayoutModel",
      "state": {
       "_model_module": "@jupyter-widgets/base",
       "_model_module_version": "1.2.0",
       "_model_name": "LayoutModel",
       "_view_count": null,
       "_view_module": "@jupyter-widgets/base",
       "_view_module_version": "1.2.0",
       "_view_name": "LayoutView",
       "align_content": null,
       "align_items": null,
       "align_self": null,
       "border": null,
       "bottom": null,
       "display": null,
       "flex": null,
       "flex_flow": null,
       "grid_area": null,
       "grid_auto_columns": null,
       "grid_auto_flow": null,
       "grid_auto_rows": null,
       "grid_column": null,
       "grid_gap": null,
       "grid_row": null,
       "grid_template_areas": null,
       "grid_template_columns": null,
       "grid_template_rows": null,
       "height": null,
       "justify_content": null,
       "justify_items": null,
       "left": null,
       "margin": null,
       "max_height": null,
       "max_width": null,
       "min_height": null,
       "min_width": null,
       "object_fit": null,
       "object_position": null,
       "order": null,
       "overflow": null,
       "overflow_x": null,
       "overflow_y": null,
       "padding": null,
       "right": null,
       "top": null,
       "visibility": null,
       "width": null
      }
     },
     "fa50febba5db4325a9f64db0cb6dd24c": {
      "model_module": "@jupyter-widgets/controls",
      "model_module_version": "1.5.0",
      "model_name": "HTMLModel",
      "state": {
       "_dom_classes": [],
       "_model_module": "@jupyter-widgets/controls",
       "_model_module_version": "1.5.0",
       "_model_name": "HTMLModel",
       "_view_count": null,
       "_view_module": "@jupyter-widgets/controls",
       "_view_module_version": "1.5.0",
       "_view_name": "HTMLView",
       "description": "",
       "description_tooltip": null,
       "layout": "IPY_MODEL_539d0e4f8d7d4330bf42033bc31e013e",
       "placeholder": "​",
       "style": "IPY_MODEL_36c146d039214a398bf256155de88910",
       "value": " 638/638 [00:00&lt;00:00, 21.5kB/s]"
      }
     }
    },
    "version_major": 2,
    "version_minor": 0
   }
  }
 },
 "nbformat": 4,
 "nbformat_minor": 5
}
