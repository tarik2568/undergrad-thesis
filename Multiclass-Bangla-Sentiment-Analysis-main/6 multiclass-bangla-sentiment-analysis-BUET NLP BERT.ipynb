{
 "cells": [
  {
   "cell_type": "code",
   "execution_count": 1,
   "id": "3525f30f",
   "metadata": {
    "_cell_guid": "b1076dfc-b9ad-4769-8c92-a6c4dae69d19",
    "_uuid": "8f2839f25d086af736a60e9eeb907d3b93b6e0e5",
    "execution": {
     "iopub.execute_input": "2022-04-18T15:54:55.946485Z",
     "iopub.status.busy": "2022-04-18T15:54:55.945504Z",
     "iopub.status.idle": "2022-04-18T15:55:10.052651Z",
     "shell.execute_reply": "2022-04-18T15:55:10.051357Z",
     "shell.execute_reply.started": "2022-04-18T15:33:56.806962Z"
    },
    "papermill": {
     "duration": 14.130886,
     "end_time": "2022-04-18T15:55:10.052885",
     "exception": false,
     "start_time": "2022-04-18T15:54:55.921999",
     "status": "completed"
    },
    "tags": []
   },
   "outputs": [
    {
     "name": "stdout",
     "output_type": "stream",
     "text": [
      "Requirement already satisfied: transformers in /opt/conda/lib/python3.7/site-packages (4.16.2)\r\n",
      "Requirement already satisfied: tokenizers!=0.11.3,>=0.10.1 in /opt/conda/lib/python3.7/site-packages (from transformers) (0.11.6)\r\n",
      "Requirement already satisfied: sacremoses in /opt/conda/lib/python3.7/site-packages (from transformers) (0.0.49)\r\n",
      "Requirement already satisfied: pyyaml>=5.1 in /opt/conda/lib/python3.7/site-packages (from transformers) (6.0)\r\n",
      "Requirement already satisfied: numpy>=1.17 in /opt/conda/lib/python3.7/site-packages (from transformers) (1.20.3)\r\n",
      "Requirement already satisfied: tqdm>=4.27 in /opt/conda/lib/python3.7/site-packages (from transformers) (4.62.3)\r\n",
      "Requirement already satisfied: importlib-metadata in /opt/conda/lib/python3.7/site-packages (from transformers) (4.11.3)\r\n",
      "Requirement already satisfied: filelock in /opt/conda/lib/python3.7/site-packages (from transformers) (3.4.0)\r\n",
      "Requirement already satisfied: packaging>=20.0 in /opt/conda/lib/python3.7/site-packages (from transformers) (21.3)\r\n",
      "Requirement already satisfied: requests in /opt/conda/lib/python3.7/site-packages (from transformers) (2.26.0)\r\n",
      "Requirement already satisfied: huggingface-hub<1.0,>=0.1.0 in /opt/conda/lib/python3.7/site-packages (from transformers) (0.4.0)\r\n",
      "Requirement already satisfied: regex!=2019.12.17 in /opt/conda/lib/python3.7/site-packages (from transformers) (2021.11.10)\r\n",
      "Requirement already satisfied: typing-extensions>=3.7.4.3 in /opt/conda/lib/python3.7/site-packages (from huggingface-hub<1.0,>=0.1.0->transformers) (4.1.1)\r\n",
      "Requirement already satisfied: pyparsing!=3.0.5,>=2.0.2 in /opt/conda/lib/python3.7/site-packages (from packaging>=20.0->transformers) (3.0.6)\r\n",
      "Requirement already satisfied: zipp>=0.5 in /opt/conda/lib/python3.7/site-packages (from importlib-metadata->transformers) (3.6.0)\r\n",
      "Requirement already satisfied: certifi>=2017.4.17 in /opt/conda/lib/python3.7/site-packages (from requests->transformers) (2021.10.8)\r\n",
      "Requirement already satisfied: charset-normalizer~=2.0.0 in /opt/conda/lib/python3.7/site-packages (from requests->transformers) (2.0.9)\r\n",
      "Requirement already satisfied: idna<4,>=2.5 in /opt/conda/lib/python3.7/site-packages (from requests->transformers) (3.1)\r\n",
      "Requirement already satisfied: urllib3<1.27,>=1.21.1 in /opt/conda/lib/python3.7/site-packages (from requests->transformers) (1.26.7)\r\n",
      "Requirement already satisfied: click in /opt/conda/lib/python3.7/site-packages (from sacremoses->transformers) (8.0.3)\r\n",
      "Requirement already satisfied: joblib in /opt/conda/lib/python3.7/site-packages (from sacremoses->transformers) (1.1.0)\r\n",
      "Requirement already satisfied: six in /opt/conda/lib/python3.7/site-packages (from sacremoses->transformers) (1.16.0)\r\n",
      "\u001b[33mWARNING: Running pip as the 'root' user can result in broken permissions and conflicting behaviour with the system package manager. It is recommended to use a virtual environment instead: https://pip.pypa.io/warnings/venv\u001b[0m\r\n"
     ]
    }
   ],
   "source": [
    " !pip install transformers"
   ]
  },
  {
   "cell_type": "code",
   "execution_count": 2,
   "id": "d5722572",
   "metadata": {
    "execution": {
     "iopub.execute_input": "2022-04-18T15:55:10.127439Z",
     "iopub.status.busy": "2022-04-18T15:55:10.125985Z",
     "iopub.status.idle": "2022-04-18T15:55:10.130690Z",
     "shell.execute_reply": "2022-04-18T15:55:10.129809Z",
     "shell.execute_reply.started": "2022-04-18T15:34:04.208661Z"
    },
    "papermill": {
     "duration": 0.043795,
     "end_time": "2022-04-18T15:55:10.130870",
     "exception": false,
     "start_time": "2022-04-18T15:55:10.087075",
     "status": "completed"
    },
    "tags": []
   },
   "outputs": [],
   "source": [
    "import os\n",
    "import pandas as pd\n",
    "import numpy as np"
   ]
  },
  {
   "cell_type": "code",
   "execution_count": 3,
   "id": "7a902244",
   "metadata": {
    "execution": {
     "iopub.execute_input": "2022-04-18T15:55:10.202428Z",
     "iopub.status.busy": "2022-04-18T15:55:10.201522Z",
     "iopub.status.idle": "2022-04-18T15:55:19.549348Z",
     "shell.execute_reply": "2022-04-18T15:55:19.550046Z",
     "shell.execute_reply.started": "2022-04-18T15:34:04.346718Z"
    },
    "papermill": {
     "duration": 9.386968,
     "end_time": "2022-04-18T15:55:19.550261",
     "exception": false,
     "start_time": "2022-04-18T15:55:10.163293",
     "status": "completed"
    },
    "tags": []
   },
   "outputs": [
    {
     "name": "stdout",
     "output_type": "stream",
     "text": [
      "Collecting openpyxl\r\n",
      "  Downloading openpyxl-3.0.9-py2.py3-none-any.whl (242 kB)\r\n",
      "     |████████████████████████████████| 242 kB 5.0 MB/s            \r\n",
      "\u001b[?25hCollecting et-xmlfile\r\n",
      "  Downloading et_xmlfile-1.1.0-py3-none-any.whl (4.7 kB)\r\n",
      "Installing collected packages: et-xmlfile, openpyxl\r\n",
      "Successfully installed et-xmlfile-1.1.0 openpyxl-3.0.9\r\n",
      "\u001b[33mWARNING: Running pip as the 'root' user can result in broken permissions and conflicting behaviour with the system package manager. It is recommended to use a virtual environment instead: https://pip.pypa.io/warnings/venv\u001b[0m\r\n",
      "Note: you may need to restart the kernel to use updated packages.\n"
     ]
    }
   ],
   "source": [
    "pip install openpyxl"
   ]
  },
  {
   "cell_type": "code",
   "execution_count": 4,
   "id": "84f93083",
   "metadata": {
    "execution": {
     "iopub.execute_input": "2022-04-18T15:55:19.632346Z",
     "iopub.status.busy": "2022-04-18T15:55:19.631331Z",
     "iopub.status.idle": "2022-04-18T15:55:19.642860Z",
     "shell.execute_reply": "2022-04-18T15:55:19.642095Z",
     "shell.execute_reply.started": "2022-04-18T15:34:11.889103Z"
    },
    "papermill": {
     "duration": 0.056348,
     "end_time": "2022-04-18T15:55:19.643051",
     "exception": false,
     "start_time": "2022-04-18T15:55:19.586703",
     "status": "completed"
    },
    "tags": []
   },
   "outputs": [
    {
     "name": "stdout",
     "output_type": "stream",
     "text": [
      "/kaggle/input/6-class-bert-preprocessed-dataset/Bert_Preprocessed_Dataset.xlsx\n"
     ]
    }
   ],
   "source": [
    "for dirname, _, filenames in os.walk('/kaggle/input'):\n",
    "    for filename in filenames:\n",
    "        print(os.path.join(dirname, filename))"
   ]
  },
  {
   "cell_type": "code",
   "execution_count": 5,
   "id": "98c28825",
   "metadata": {
    "execution": {
     "iopub.execute_input": "2022-04-18T15:55:19.725286Z",
     "iopub.status.busy": "2022-04-18T15:55:19.724412Z",
     "iopub.status.idle": "2022-04-18T15:55:22.272448Z",
     "shell.execute_reply": "2022-04-18T15:55:22.271834Z",
     "shell.execute_reply.started": "2022-04-18T15:34:12.026154Z"
    },
    "papermill": {
     "duration": 2.591211,
     "end_time": "2022-04-18T15:55:22.272642",
     "exception": false,
     "start_time": "2022-04-18T15:55:19.681431",
     "status": "completed"
    },
    "tags": []
   },
   "outputs": [
    {
     "name": "stdout",
     "output_type": "stream",
     "text": [
      "<class 'pandas.core.frame.DataFrame'>\n",
      "RangeIndex: 6405 entries, 0 to 6404\n",
      "Data columns (total 7 columns):\n",
      " #   Column      Non-Null Count  Dtype \n",
      "---  ------      --------------  ----- \n",
      " 0   Unnamed: 0  6405 non-null   int64 \n",
      " 1   ID          6404 non-null   object\n",
      " 2   Text        6404 non-null   object\n",
      " 3   Sentiment   6405 non-null   object\n",
      " 4   Label       6405 non-null   int64 \n",
      " 5   Token       6405 non-null   object\n",
      " 6   Token_ID    6405 non-null   object\n",
      "dtypes: int64(2), object(5)\n",
      "memory usage: 350.4+ KB\n"
     ]
    }
   ],
   "source": [
    "df=pd.read_excel('/kaggle/input/6-class-bert-preprocessed-dataset/Bert_Preprocessed_Dataset.xlsx')\n",
    "df.info()"
   ]
  },
  {
   "cell_type": "code",
   "execution_count": 6,
   "id": "1da28255",
   "metadata": {
    "execution": {
     "iopub.execute_input": "2022-04-18T15:55:22.359363Z",
     "iopub.status.busy": "2022-04-18T15:55:22.358381Z",
     "iopub.status.idle": "2022-04-18T15:56:12.570926Z",
     "shell.execute_reply": "2022-04-18T15:56:12.570332Z",
     "shell.execute_reply.started": "2022-04-18T15:34:13.849662Z"
    },
    "papermill": {
     "duration": 50.259993,
     "end_time": "2022-04-18T15:56:12.571068",
     "exception": false,
     "start_time": "2022-04-18T15:55:22.311075",
     "status": "completed"
    },
    "tags": []
   },
   "outputs": [
    {
     "name": "stdout",
     "output_type": "stream",
     "text": [
      "Collecting ktrain\r\n",
      "  Downloading ktrain-0.30.0.tar.gz (25.3 MB)\r\n",
      "     |████████████████████████████████| 25.3 MB 5.3 MB/s            \r\n",
      "\u001b[?25h  Preparing metadata (setup.py) ... \u001b[?25l-\b \bdone\r\n",
      "\u001b[?25hCollecting scikit-learn==0.24.2\r\n",
      "  Downloading scikit_learn-0.24.2-cp37-cp37m-manylinux2010_x86_64.whl (22.3 MB)\r\n",
      "     |████████████████████████████████| 22.3 MB 47.5 MB/s            \r\n",
      "\u001b[?25hRequirement already satisfied: matplotlib>=3.0.0 in /opt/conda/lib/python3.7/site-packages (from ktrain) (3.5.1)\r\n",
      "Requirement already satisfied: pandas>=1.0.1 in /opt/conda/lib/python3.7/site-packages (from ktrain) (1.3.5)\r\n",
      "Requirement already satisfied: fastprogress>=0.1.21 in /opt/conda/lib/python3.7/site-packages (from ktrain) (1.0.2)\r\n",
      "Requirement already satisfied: requests in /opt/conda/lib/python3.7/site-packages (from ktrain) (2.26.0)\r\n",
      "Requirement already satisfied: joblib in /opt/conda/lib/python3.7/site-packages (from ktrain) (1.1.0)\r\n",
      "Requirement already satisfied: packaging in /opt/conda/lib/python3.7/site-packages (from ktrain) (21.3)\r\n",
      "Collecting langdetect\r\n",
      "  Downloading langdetect-1.0.9.tar.gz (981 kB)\r\n",
      "     |████████████████████████████████| 981 kB 56.2 MB/s            \r\n",
      "\u001b[?25h  Preparing metadata (setup.py) ... \u001b[?25l-\b \bdone\r\n",
      "\u001b[?25hRequirement already satisfied: jieba in /opt/conda/lib/python3.7/site-packages (from ktrain) (0.42.1)\r\n",
      "Collecting cchardet\r\n",
      "  Downloading cchardet-2.1.7-cp37-cp37m-manylinux2010_x86_64.whl (263 kB)\r\n",
      "     |████████████████████████████████| 263 kB 56.6 MB/s            \r\n",
      "\u001b[?25hRequirement already satisfied: chardet in /opt/conda/lib/python3.7/site-packages (from ktrain) (4.0.0)\r\n",
      "Collecting syntok==1.3.3\r\n",
      "  Downloading syntok-1.3.3-py3-none-any.whl (22 kB)\r\n",
      "Collecting transformers==4.10.3\r\n",
      "  Downloading transformers-4.10.3-py3-none-any.whl (2.8 MB)\r\n",
      "     |████████████████████████████████| 2.8 MB 45.6 MB/s            \r\n",
      "\u001b[?25hRequirement already satisfied: sentencepiece in /opt/conda/lib/python3.7/site-packages (from ktrain) (0.1.96)\r\n",
      "Collecting keras_bert>=0.86.0\r\n",
      "  Downloading keras-bert-0.89.0.tar.gz (25 kB)\r\n",
      "  Preparing metadata (setup.py) ... \u001b[?25l-\b \bdone\r\n",
      "\u001b[?25hCollecting whoosh\r\n",
      "  Downloading Whoosh-2.7.4-py2.py3-none-any.whl (468 kB)\r\n",
      "     |████████████████████████████████| 468 kB 58.3 MB/s            \r\n",
      "\u001b[?25hRequirement already satisfied: scipy>=0.19.1 in /opt/conda/lib/python3.7/site-packages (from scikit-learn==0.24.2->ktrain) (1.7.3)\r\n",
      "Requirement already satisfied: threadpoolctl>=2.0.0 in /opt/conda/lib/python3.7/site-packages (from scikit-learn==0.24.2->ktrain) (3.0.0)\r\n",
      "Requirement already satisfied: numpy>=1.13.3 in /opt/conda/lib/python3.7/site-packages (from scikit-learn==0.24.2->ktrain) (1.20.3)\r\n",
      "Requirement already satisfied: regex in /opt/conda/lib/python3.7/site-packages (from syntok==1.3.3->ktrain) (2021.11.10)\r\n",
      "Requirement already satisfied: tqdm>=4.27 in /opt/conda/lib/python3.7/site-packages (from transformers==4.10.3->ktrain) (4.62.3)\r\n",
      "Requirement already satisfied: importlib-metadata in /opt/conda/lib/python3.7/site-packages (from transformers==4.10.3->ktrain) (4.11.3)\r\n",
      "Requirement already satisfied: filelock in /opt/conda/lib/python3.7/site-packages (from transformers==4.10.3->ktrain) (3.4.0)\r\n",
      "Requirement already satisfied: pyyaml>=5.1 in /opt/conda/lib/python3.7/site-packages (from transformers==4.10.3->ktrain) (6.0)\r\n",
      "Collecting tokenizers<0.11,>=0.10.1\r\n",
      "  Downloading tokenizers-0.10.3-cp37-cp37m-manylinux_2_5_x86_64.manylinux1_x86_64.manylinux_2_12_x86_64.manylinux2010_x86_64.whl (3.3 MB)\r\n",
      "     |████████████████████████████████| 3.3 MB 33.7 MB/s            \r\n",
      "\u001b[?25hRequirement already satisfied: sacremoses in /opt/conda/lib/python3.7/site-packages (from transformers==4.10.3->ktrain) (0.0.49)\r\n",
      "Requirement already satisfied: huggingface-hub>=0.0.12 in /opt/conda/lib/python3.7/site-packages (from transformers==4.10.3->ktrain) (0.4.0)\r\n",
      "Collecting keras-transformer==0.40.0\r\n",
      "  Downloading keras-transformer-0.40.0.tar.gz (9.7 kB)\r\n",
      "  Preparing metadata (setup.py) ... \u001b[?25l-\b \bdone\r\n",
      "\u001b[?25hCollecting keras-pos-embd==0.13.0\r\n",
      "  Downloading keras-pos-embd-0.13.0.tar.gz (5.6 kB)\r\n",
      "  Preparing metadata (setup.py) ... \u001b[?25l-\b \bdone\r\n",
      "\u001b[?25hCollecting keras-multi-head==0.29.0\r\n",
      "  Downloading keras-multi-head-0.29.0.tar.gz (13 kB)\r\n",
      "  Preparing metadata (setup.py) ... \u001b[?25l-\b \bdone\r\n",
      "\u001b[?25hCollecting keras-layer-normalization==0.16.0\r\n",
      "  Downloading keras-layer-normalization-0.16.0.tar.gz (3.9 kB)\r\n",
      "  Preparing metadata (setup.py) ... \u001b[?25l-\b \bdone\r\n",
      "\u001b[?25hCollecting keras-position-wise-feed-forward==0.8.0\r\n",
      "  Downloading keras-position-wise-feed-forward-0.8.0.tar.gz (4.1 kB)\r\n",
      "  Preparing metadata (setup.py) ... \u001b[?25l-\b \bdone\r\n",
      "\u001b[?25hCollecting keras-embed-sim==0.10.0\r\n",
      "  Downloading keras-embed-sim-0.10.0.tar.gz (3.6 kB)\r\n",
      "  Preparing metadata (setup.py) ... \u001b[?25l-\b \bdone\r\n",
      "\u001b[?25hCollecting keras-self-attention==0.51.0\r\n",
      "  Downloading keras-self-attention-0.51.0.tar.gz (11 kB)\r\n",
      "  Preparing metadata (setup.py) ... \u001b[?25l-\b \bdone\r\n",
      "\u001b[?25hRequirement already satisfied: cycler>=0.10 in /opt/conda/lib/python3.7/site-packages (from matplotlib>=3.0.0->ktrain) (0.11.0)\r\n",
      "Requirement already satisfied: python-dateutil>=2.7 in /opt/conda/lib/python3.7/site-packages (from matplotlib>=3.0.0->ktrain) (2.8.2)\r\n",
      "Requirement already satisfied: kiwisolver>=1.0.1 in /opt/conda/lib/python3.7/site-packages (from matplotlib>=3.0.0->ktrain) (1.3.2)\r\n",
      "Requirement already satisfied: pyparsing>=2.2.1 in /opt/conda/lib/python3.7/site-packages (from matplotlib>=3.0.0->ktrain) (3.0.6)\r\n",
      "Requirement already satisfied: pillow>=6.2.0 in /opt/conda/lib/python3.7/site-packages (from matplotlib>=3.0.0->ktrain) (8.2.0)\r\n",
      "Requirement already satisfied: fonttools>=4.22.0 in /opt/conda/lib/python3.7/site-packages (from matplotlib>=3.0.0->ktrain) (4.28.4)\r\n",
      "Requirement already satisfied: pytz>=2017.3 in /opt/conda/lib/python3.7/site-packages (from pandas>=1.0.1->ktrain) (2021.3)\r\n",
      "Requirement already satisfied: six in /opt/conda/lib/python3.7/site-packages (from langdetect->ktrain) (1.16.0)\r\n",
      "Requirement already satisfied: charset-normalizer~=2.0.0 in /opt/conda/lib/python3.7/site-packages (from requests->ktrain) (2.0.9)\r\n",
      "Requirement already satisfied: urllib3<1.27,>=1.21.1 in /opt/conda/lib/python3.7/site-packages (from requests->ktrain) (1.26.7)\r\n",
      "Requirement already satisfied: idna<4,>=2.5 in /opt/conda/lib/python3.7/site-packages (from requests->ktrain) (3.1)\r\n",
      "Requirement already satisfied: certifi>=2017.4.17 in /opt/conda/lib/python3.7/site-packages (from requests->ktrain) (2021.10.8)\r\n",
      "Requirement already satisfied: typing-extensions>=3.7.4.3 in /opt/conda/lib/python3.7/site-packages (from huggingface-hub>=0.0.12->transformers==4.10.3->ktrain) (4.1.1)\r\n",
      "Requirement already satisfied: zipp>=0.5 in /opt/conda/lib/python3.7/site-packages (from importlib-metadata->transformers==4.10.3->ktrain) (3.6.0)\r\n",
      "Requirement already satisfied: click in /opt/conda/lib/python3.7/site-packages (from sacremoses->transformers==4.10.3->ktrain) (8.0.3)\r\n",
      "Building wheels for collected packages: ktrain, keras-bert, keras-transformer, keras-embed-sim, keras-layer-normalization, keras-multi-head, keras-pos-embd, keras-position-wise-feed-forward, keras-self-attention, langdetect\r\n",
      "  Building wheel for ktrain (setup.py) ... \u001b[?25l-\b \b\\\b \b|\b \b/\b \b-\b \b\\\b \b|\b \b/\b \bdone\r\n",
      "\u001b[?25h  Created wheel for ktrain: filename=ktrain-0.30.0-py3-none-any.whl size=25309162 sha256=533dbf986fbb2a36850dcd6e68fe24f557d5e8a831d3ea4d32e499a563ac8ee9\r\n",
      "  Stored in directory: /root/.cache/pip/wheels/25/00/ae/80d1b19dd02bc2e6bc9bac32ba7dbaa59aad789e93274e4868\r\n",
      "  Building wheel for keras-bert (setup.py) ... \u001b[?25l-\b \b\\\b \bdone\r\n",
      "\u001b[?25h  Created wheel for keras-bert: filename=keras_bert-0.89.0-py3-none-any.whl size=33516 sha256=37654d822a51bca762bec16f091a6e04c30911cc9e218b0efd63369a0f20e1c4\r\n",
      "  Stored in directory: /root/.cache/pip/wheels/a4/e8/45/842b3a39831261aef9154b907eacbc4ac99499a99ae829b06f\r\n",
      "  Building wheel for keras-transformer (setup.py) ... \u001b[?25l-\b \b\\\b \bdone\r\n",
      "\u001b[?25h  Created wheel for keras-transformer: filename=keras_transformer-0.40.0-py3-none-any.whl size=12305 sha256=5b3660264681f9a2e293a392a33d029088d0fe67b234eefd1ae342eb16bac83a\r\n",
      "  Stored in directory: /root/.cache/pip/wheels/46/68/26/692ed21edd832833c3b0a0e21615bcacd99ca458b3f9ed571f\r\n",
      "  Building wheel for keras-embed-sim (setup.py) ... \u001b[?25l-\b \b\\\b \bdone\r\n",
      "\u001b[?25h  Created wheel for keras-embed-sim: filename=keras_embed_sim-0.10.0-py3-none-any.whl size=3958 sha256=02ae434c943df97389ee2b6122066cfafff675e8e49eba068efd15a51ce04423\r\n",
      "  Stored in directory: /root/.cache/pip/wheels/81/67/b5/d847588d075895281e1cf5590f819bd4cf076a554872268bd5\r\n",
      "  Building wheel for keras-layer-normalization (setup.py) ... \u001b[?25l-\b \b\\\b \bdone\r\n",
      "\u001b[?25h  Created wheel for keras-layer-normalization: filename=keras_layer_normalization-0.16.0-py3-none-any.whl size=4668 sha256=70ee679502647e4c1ebf5b8f5ef044007ffff1b76cf7ecf9118a6f2a5351a3f4\r\n",
      "  Stored in directory: /root/.cache/pip/wheels/85/5d/1c/2e619f594f69fbcf8bc20943b27d414871c409be053994813e\r\n",
      "  Building wheel for keras-multi-head (setup.py) ... \u001b[?25l-\b \b\\\b \bdone\r\n",
      "\u001b[?25h  Created wheel for keras-multi-head: filename=keras_multi_head-0.29.0-py3-none-any.whl size=14993 sha256=74c7edb84df4035b492e617040215d9d98cade43f47c03977a1c28a7eb4fb31d\r\n",
      "  Stored in directory: /root/.cache/pip/wheels/86/aa/3c/9d15d24005179dae08ff291ce99c754b296347817d076fd9fb\r\n",
      "  Building wheel for keras-pos-embd (setup.py) ... \u001b[?25l-\b \b\\\b \bdone\r\n",
      "\u001b[?25h  Created wheel for keras-pos-embd: filename=keras_pos_embd-0.13.0-py3-none-any.whl size=6961 sha256=5e9e4908cda225420d37181043ebd6733e8de5731702a34c7c55f75e32c6621f\r\n",
      "  Stored in directory: /root/.cache/pip/wheels/8d/c1/a0/dc44fcf68c857b7ff6be9a97e675e5adf51022eff1169b042f\r\n",
      "  Building wheel for keras-position-wise-feed-forward (setup.py) ... \u001b[?25l-\b \b\\\b \bdone\r\n",
      "\u001b[?25h  Created wheel for keras-position-wise-feed-forward: filename=keras_position_wise_feed_forward-0.8.0-py3-none-any.whl size=4982 sha256=88629a61afc15a22ca181ad7fdf9f285a1ccbd1ec172f1299278fc6fd203de69\r\n",
      "  Stored in directory: /root/.cache/pip/wheels/c2/75/6f/d42f6e051506f442daeba53ff1e2d21a5f20ef8c411610f2bb\r\n",
      "  Building wheel for keras-self-attention (setup.py) ... \u001b[?25l-\b \b\\\b \bdone\r\n",
      "\u001b[?25h  Created wheel for keras-self-attention: filename=keras_self_attention-0.51.0-py3-none-any.whl size=18913 sha256=c648e45491a56e6822ddb096606ae5949d9d904536fcf8039f6a1e40c1f46769\r\n",
      "  Stored in directory: /root/.cache/pip/wheels/95/b1/a8/5ee00cc137940b2f6fa198212e8f45d813d0e0d9c3a04035a3\r\n",
      "  Building wheel for langdetect (setup.py) ... \u001b[?25l-\b \b\\\b \b|\b \b/\b \bdone\r\n",
      "\u001b[?25h  Created wheel for langdetect: filename=langdetect-1.0.9-py3-none-any.whl size=993242 sha256=9494a8832b73b1449f4ed48c4187d721569d7f9396f01814670f901edf4db098\r\n",
      "  Stored in directory: /root/.cache/pip/wheels/c5/96/8a/f90c59ed25d75e50a8c10a1b1c2d4c402e4dacfa87f3aff36a\r\n",
      "Successfully built ktrain keras-bert keras-transformer keras-embed-sim keras-layer-normalization keras-multi-head keras-pos-embd keras-position-wise-feed-forward keras-self-attention langdetect\r\n",
      "Installing collected packages: keras-self-attention, keras-position-wise-feed-forward, keras-pos-embd, keras-multi-head, keras-layer-normalization, keras-embed-sim, tokenizers, keras-transformer, whoosh, transformers, syntok, scikit-learn, langdetect, keras-bert, cchardet, ktrain\r\n",
      "  Attempting uninstall: tokenizers\r\n",
      "    Found existing installation: tokenizers 0.11.6\r\n",
      "    Uninstalling tokenizers-0.11.6:\r\n",
      "      Successfully uninstalled tokenizers-0.11.6\r\n",
      "  Attempting uninstall: transformers\r\n",
      "    Found existing installation: transformers 4.16.2\r\n",
      "    Uninstalling transformers-4.16.2:\r\n",
      "      Successfully uninstalled transformers-4.16.2\r\n",
      "  Attempting uninstall: scikit-learn\r\n",
      "    Found existing installation: scikit-learn 1.0.1\r\n",
      "    Uninstalling scikit-learn-1.0.1:\r\n",
      "      Successfully uninstalled scikit-learn-1.0.1\r\n",
      "\u001b[31mERROR: pip's dependency resolver does not currently take into account all the packages that are installed. This behaviour is the source of the following dependency conflicts.\r\n",
      "yellowbrick 1.4 requires scikit-learn>=1.0.0, but you have scikit-learn 0.24.2 which is incompatible.\r\n",
      "pdpbox 0.2.1 requires matplotlib==3.1.1, but you have matplotlib 3.5.1 which is incompatible.\r\n",
      "imbalanced-learn 0.9.0 requires scikit-learn>=1.0.1, but you have scikit-learn 0.24.2 which is incompatible.\r\n",
      "featuretools 1.6.0 requires numpy>=1.21.0, but you have numpy 1.20.3 which is incompatible.\u001b[0m\r\n",
      "Successfully installed cchardet-2.1.7 keras-bert-0.89.0 keras-embed-sim-0.10.0 keras-layer-normalization-0.16.0 keras-multi-head-0.29.0 keras-pos-embd-0.13.0 keras-position-wise-feed-forward-0.8.0 keras-self-attention-0.51.0 keras-transformer-0.40.0 ktrain-0.30.0 langdetect-1.0.9 scikit-learn-0.24.2 syntok-1.3.3 tokenizers-0.10.3 transformers-4.10.3 whoosh-2.7.4\r\n",
      "\u001b[33mWARNING: Running pip as the 'root' user can result in broken permissions and conflicting behaviour with the system package manager. It is recommended to use a virtual environment instead: https://pip.pypa.io/warnings/venv\u001b[0m\r\n",
      "Note: you may need to restart the kernel to use updated packages.\n"
     ]
    }
   ],
   "source": [
    "pip install ktrain"
   ]
  },
  {
   "cell_type": "code",
   "execution_count": 7,
   "id": "e38d40ae",
   "metadata": {
    "execution": {
     "iopub.execute_input": "2022-04-18T15:56:12.783743Z",
     "iopub.status.busy": "2022-04-18T15:56:12.782464Z",
     "iopub.status.idle": "2022-04-18T15:56:12.833027Z",
     "shell.execute_reply": "2022-04-18T15:56:12.832188Z",
     "shell.execute_reply.started": "2022-04-18T15:34:22.002383Z"
    },
    "papermill": {
     "duration": 0.169026,
     "end_time": "2022-04-18T15:56:12.833199",
     "exception": false,
     "start_time": "2022-04-18T15:56:12.664173",
     "status": "completed"
    },
    "tags": []
   },
   "outputs": [],
   "source": [
    "%reload_ext autoreload\n",
    "%autoreload 2\n",
    "%matplotlib inline\n",
    "import os\n",
    "os.environ[\"CUDA_DEVICE_ORDER\"] = \"PCI_BUS_ID\"\n",
    "os.environ[\"CUDA_VISIBLE_DEVICES\"] = \"0\" "
   ]
  },
  {
   "cell_type": "code",
   "execution_count": 8,
   "id": "24408462",
   "metadata": {
    "execution": {
     "iopub.execute_input": "2022-04-18T15:56:13.062643Z",
     "iopub.status.busy": "2022-04-18T15:56:13.061823Z",
     "iopub.status.idle": "2022-04-18T15:56:23.556519Z",
     "shell.execute_reply": "2022-04-18T15:56:23.555804Z",
     "shell.execute_reply.started": "2022-04-18T15:34:22.209267Z"
    },
    "papermill": {
     "duration": 10.613787,
     "end_time": "2022-04-18T15:56:23.556693",
     "exception": false,
     "start_time": "2022-04-18T15:56:12.942906",
     "status": "completed"
    },
    "tags": []
   },
   "outputs": [],
   "source": [
    "import ktrain\n",
    "from ktrain import text"
   ]
  },
  {
   "cell_type": "code",
   "execution_count": 9,
   "id": "451e4dc3",
   "metadata": {
    "execution": {
     "iopub.execute_input": "2022-04-18T15:56:23.720990Z",
     "iopub.status.busy": "2022-04-18T15:56:23.719322Z",
     "iopub.status.idle": "2022-04-18T15:56:23.802812Z",
     "shell.execute_reply": "2022-04-18T15:56:23.801886Z",
     "shell.execute_reply.started": "2022-04-18T15:34:22.377552Z"
    },
    "papermill": {
     "duration": 0.169691,
     "end_time": "2022-04-18T15:56:23.802994",
     "exception": false,
     "start_time": "2022-04-18T15:56:23.633303",
     "status": "completed"
    },
    "tags": []
   },
   "outputs": [],
   "source": [
    "train=df[:int(.8*len(df))]\n",
    "test=df[int(.8*len(df)):int(.9*len(df))]\n",
    "validation=df[int(.9*len(df)):]\n",
    "x_train=train['Text'].tolist()\n",
    "y_train=train['Label'].tolist()\n",
    "x_validation=validation['Text'].tolist()\n",
    "y_validation=validation['Label'].tolist()\n",
    "x_test=test['Text'].tolist()\n",
    "y_test=test['Sentiment'].tolist()"
   ]
  },
  {
   "cell_type": "code",
   "execution_count": 10,
   "id": "0e30b78b",
   "metadata": {
    "execution": {
     "iopub.execute_input": "2022-04-18T15:56:24.033442Z",
     "iopub.status.busy": "2022-04-18T15:56:24.032429Z",
     "iopub.status.idle": "2022-04-18T15:56:24.118090Z",
     "shell.execute_reply": "2022-04-18T15:56:24.117211Z",
     "shell.execute_reply.started": "2022-04-18T15:34:22.562053Z"
    },
    "papermill": {
     "duration": 0.200664,
     "end_time": "2022-04-18T15:56:24.118264",
     "exception": false,
     "start_time": "2022-04-18T15:56:23.917600",
     "status": "completed"
    },
    "tags": []
   },
   "outputs": [],
   "source": [
    "x_train= np.array(x_train)\n",
    "x_validation= np.array(x_validation)\n",
    "x_test= np.array(x_test)\n"
   ]
  },
  {
   "cell_type": "code",
   "execution_count": 11,
   "id": "df91a830",
   "metadata": {
    "execution": {
     "iopub.execute_input": "2022-04-18T15:56:24.348532Z",
     "iopub.status.busy": "2022-04-18T15:56:24.347353Z",
     "iopub.status.idle": "2022-04-18T15:56:24.408351Z",
     "shell.execute_reply": "2022-04-18T15:56:24.407447Z",
     "shell.execute_reply.started": "2022-04-18T15:34:22.777398Z"
    },
    "papermill": {
     "duration": 0.179081,
     "end_time": "2022-04-18T15:56:24.408529",
     "exception": false,
     "start_time": "2022-04-18T15:56:24.229448",
     "status": "completed"
    },
    "tags": []
   },
   "outputs": [],
   "source": [
    "categories = ['angry','disgust','fear','happy','sad','surpise']"
   ]
  },
  {
   "cell_type": "code",
   "execution_count": 12,
   "id": "c7a461ef",
   "metadata": {
    "execution": {
     "iopub.execute_input": "2022-04-18T15:56:24.652165Z",
     "iopub.status.busy": "2022-04-18T15:56:24.651242Z",
     "iopub.status.idle": "2022-04-18T15:56:24.988150Z",
     "shell.execute_reply": "2022-04-18T15:56:24.987367Z",
     "shell.execute_reply.started": "2022-04-18T15:34:22.957917Z"
    },
    "papermill": {
     "duration": 0.460426,
     "end_time": "2022-04-18T15:56:24.988345",
     "exception": false,
     "start_time": "2022-04-18T15:56:24.527919",
     "status": "completed"
    },
    "tags": []
   },
   "outputs": [
    {
     "data": {
      "application/vnd.jupyter.widget-view+json": {
       "model_id": "7cdb672c678a4b5ebf388eba8dbdfa40",
       "version_major": 2,
       "version_minor": 0
      },
      "text/plain": [
       "Downloading:   0%|          | 0.00/586 [00:00<?, ?B/s]"
      ]
     },
     "metadata": {},
     "output_type": "display_data"
    }
   ],
   "source": [
    "model_name = 'csebuetnlp/banglabert'\n",
    "trans = text.Transformer(model_name,maxlen=50,class_names=categories)"
   ]
  },
  {
   "cell_type": "code",
   "execution_count": 13,
   "id": "26bcc6aa",
   "metadata": {
    "execution": {
     "iopub.execute_input": "2022-04-18T15:56:25.219135Z",
     "iopub.status.busy": "2022-04-18T15:56:25.218253Z",
     "iopub.status.idle": "2022-04-18T15:56:28.999889Z",
     "shell.execute_reply": "2022-04-18T15:56:28.998955Z",
     "shell.execute_reply.started": "2022-04-18T15:34:23.479701Z"
    },
    "papermill": {
     "duration": 3.894955,
     "end_time": "2022-04-18T15:56:29.000075",
     "exception": false,
     "start_time": "2022-04-18T15:56:25.105120",
     "status": "completed"
    },
    "tags": []
   },
   "outputs": [
    {
     "name": "stdout",
     "output_type": "stream",
     "text": [
      "preprocessing train...\n",
      "language: bn\n",
      "train sequence lengths:\n",
      "\tmean : 16\n",
      "\t95percentile : 44\n",
      "\t99percentile : 102\n"
     ]
    },
    {
     "data": {
      "application/vnd.jupyter.widget-view+json": {
       "model_id": "8ff31c45e5c54014b499e7844406e9c9",
       "version_major": 2,
       "version_minor": 0
      },
      "text/plain": [
       "Downloading:   0%|          | 0.00/119 [00:00<?, ?B/s]"
      ]
     },
     "metadata": {},
     "output_type": "display_data"
    },
    {
     "data": {
      "application/vnd.jupyter.widget-view+json": {
       "model_id": "d42eb78efc0c4a2081fdb0f8c094f56a",
       "version_major": 2,
       "version_minor": 0
      },
      "text/plain": [
       "Downloading:   0%|          | 0.00/528k [00:00<?, ?B/s]"
      ]
     },
     "metadata": {},
     "output_type": "display_data"
    },
    {
     "data": {
      "application/vnd.jupyter.widget-view+json": {
       "model_id": "c2b79055d40d4e1ba08b25f4624ea04a",
       "version_major": 2,
       "version_minor": 0
      },
      "text/plain": [
       "Downloading:   0%|          | 0.00/112 [00:00<?, ?B/s]"
      ]
     },
     "metadata": {},
     "output_type": "display_data"
    },
    {
     "data": {
      "text/html": [
       "\n",
       "<style>\n",
       "    /* Turns off some styling */\n",
       "    progress {\n",
       "        /* gets rid of default border in Firefox and Opera. */\n",
       "        border: none;\n",
       "        /* Needs to be in here for Safari polyfill so background images work as expected. */\n",
       "        background-size: auto;\n",
       "    }\n",
       "    .progress-bar-interrupted, .progress-bar-interrupted::-webkit-progress-bar {\n",
       "        background: #F44336;\n",
       "    }\n",
       "</style>\n"
      ],
      "text/plain": [
       "<IPython.core.display.HTML object>"
      ]
     },
     "metadata": {},
     "output_type": "display_data"
    },
    {
     "data": {
      "text/html": [],
      "text/plain": [
       "<IPython.core.display.HTML object>"
      ]
     },
     "metadata": {},
     "output_type": "display_data"
    },
    {
     "name": "stdout",
     "output_type": "stream",
     "text": [
      "Is Multi-Label? False\n",
      "preprocessing test...\n",
      "language: bn\n",
      "test sequence lengths:\n",
      "\tmean : 16\n",
      "\t95percentile : 49\n",
      "\t99percentile : 96\n"
     ]
    },
    {
     "data": {
      "text/html": [
       "\n",
       "<style>\n",
       "    /* Turns off some styling */\n",
       "    progress {\n",
       "        /* gets rid of default border in Firefox and Opera. */\n",
       "        border: none;\n",
       "        /* Needs to be in here for Safari polyfill so background images work as expected. */\n",
       "        background-size: auto;\n",
       "    }\n",
       "    .progress-bar-interrupted, .progress-bar-interrupted::-webkit-progress-bar {\n",
       "        background: #F44336;\n",
       "    }\n",
       "</style>\n"
      ],
      "text/plain": [
       "<IPython.core.display.HTML object>"
      ]
     },
     "metadata": {},
     "output_type": "display_data"
    },
    {
     "data": {
      "text/html": [],
      "text/plain": [
       "<IPython.core.display.HTML object>"
      ]
     },
     "metadata": {},
     "output_type": "display_data"
    }
   ],
   "source": [
    "train = trans.preprocess_train(x_train,y_train)\n",
    "valid = trans.preprocess_test(x_validation,y_validation)"
   ]
  },
  {
   "cell_type": "code",
   "execution_count": 14,
   "id": "f57a7153",
   "metadata": {
    "execution": {
     "iopub.execute_input": "2022-04-18T15:56:29.248502Z",
     "iopub.status.busy": "2022-04-18T15:56:29.247633Z",
     "iopub.status.idle": "2022-04-18T15:56:44.820358Z",
     "shell.execute_reply": "2022-04-18T15:56:44.819528Z",
     "shell.execute_reply.started": "2022-04-18T15:34:28.443776Z"
    },
    "papermill": {
     "duration": 15.697934,
     "end_time": "2022-04-18T15:56:44.820538",
     "exception": false,
     "start_time": "2022-04-18T15:56:29.122604",
     "status": "completed"
    },
    "tags": []
   },
   "outputs": [
    {
     "name": "stderr",
     "output_type": "stream",
     "text": [
      "404 Client Error: Not Found for url: https://huggingface.co/csebuetnlp/banglabert/resolve/main/tf_model.h5\n",
      "/opt/conda/lib/python3.7/site-packages/ktrain/text/preprocessor.py:1070: UserWarning: Could not find Tensorflow version of model.  Attempting to download/load PyTorch version as TensorFlow model using from_pt=True. You will need PyTorch installed for this.\n",
      "  warnings.warn('Could not find Tensorflow version of model.  Attempting to download/load PyTorch version as TensorFlow model using from_pt=True. ' +\\\n"
     ]
    },
    {
     "data": {
      "application/vnd.jupyter.widget-view+json": {
       "model_id": "4ea8f9401ece4ac4ade93944d49d7ebd",
       "version_major": 2,
       "version_minor": 0
      },
      "text/plain": [
       "Downloading:   0%|          | 0.00/443M [00:00<?, ?B/s]"
      ]
     },
     "metadata": {},
     "output_type": "display_data"
    }
   ],
   "source": [
    "model = trans.get_classifier()"
   ]
  },
  {
   "cell_type": "code",
   "execution_count": 15,
   "id": "656efc08",
   "metadata": {
    "execution": {
     "iopub.execute_input": "2022-04-18T15:56:45.012526Z",
     "iopub.status.busy": "2022-04-18T15:56:45.011508Z",
     "iopub.status.idle": "2022-04-18T15:56:45.711401Z",
     "shell.execute_reply": "2022-04-18T15:56:45.710461Z",
     "shell.execute_reply.started": "2022-04-18T15:34:30.222202Z"
    },
    "papermill": {
     "duration": 0.785777,
     "end_time": "2022-04-18T15:56:45.711577",
     "exception": false,
     "start_time": "2022-04-18T15:56:44.925800",
     "status": "completed"
    },
    "tags": []
   },
   "outputs": [],
   "source": [
    "learner = ktrain.get_learner(model, train_data=train,val_data=valid, batch_size=12)"
   ]
  },
  {
   "cell_type": "code",
   "execution_count": 16,
   "id": "24f1b407",
   "metadata": {
    "execution": {
     "iopub.execute_input": "2022-04-18T15:56:45.967066Z",
     "iopub.status.busy": "2022-04-18T15:56:45.966219Z",
     "iopub.status.idle": "2022-04-18T15:56:46.028020Z",
     "shell.execute_reply": "2022-04-18T15:56:46.027219Z",
     "shell.execute_reply.started": "2022-04-18T15:34:31.237777Z"
    },
    "papermill": {
     "duration": 0.191765,
     "end_time": "2022-04-18T15:56:46.028193",
     "exception": false,
     "start_time": "2022-04-18T15:56:45.836428",
     "status": "completed"
    },
    "tags": []
   },
   "outputs": [],
   "source": [
    "from sklearn.utils import class_weight\n",
    "class_weight=class_weight.compute_class_weight(class_weight='balanced',classes=np.unique(y_train),y=y_train)\n",
    "weight={i:class_weight[i] for i in range(6)}"
   ]
  },
  {
   "cell_type": "code",
   "execution_count": 17,
   "id": "3795b965",
   "metadata": {
    "execution": {
     "iopub.execute_input": "2022-04-18T15:56:46.274908Z",
     "iopub.status.busy": "2022-04-18T15:56:46.274027Z",
     "iopub.status.idle": "2022-04-18T22:57:09.109888Z",
     "shell.execute_reply": "2022-04-18T22:57:09.109326Z",
     "shell.execute_reply.started": "2022-04-18T15:34:31.419867Z"
    },
    "papermill": {
     "duration": 25222.959994,
     "end_time": "2022-04-18T22:57:09.110016",
     "exception": false,
     "start_time": "2022-04-18T15:56:46.150022",
     "status": "completed"
    },
    "tags": []
   },
   "outputs": [
    {
     "name": "stdout",
     "output_type": "stream",
     "text": [
      "\n",
      "\n",
      "begin training using onecycle policy with max lr of 2e-05...\n",
      "Epoch 1/20\n",
      "427/427 [==============================] - 1321s 3s/step - loss: 1.7826 - accuracy: 0.2172 - val_loss: 1.7440 - val_accuracy: 0.3307\n",
      "Epoch 2/20\n",
      "427/427 [==============================] - 1275s 3s/step - loss: 1.6736 - accuracy: 0.4079 - val_loss: 1.4928 - val_accuracy: 0.4509\n",
      "Epoch 3/20\n",
      "427/427 [==============================] - 1280s 3s/step - loss: 1.4864 - accuracy: 0.4926 - val_loss: 1.3949 - val_accuracy: 0.4805\n",
      "Epoch 4/20\n",
      "427/427 [==============================] - 1294s 3s/step - loss: 1.3113 - accuracy: 0.5570 - val_loss: 1.3800 - val_accuracy: 0.4462\n",
      "Epoch 5/20\n",
      "427/427 [==============================] - 1293s 3s/step - loss: 1.1054 - accuracy: 0.6243 - val_loss: 1.3888 - val_accuracy: 0.4711\n",
      "Epoch 6/20\n",
      "427/427 [==============================] - 1275s 3s/step - loss: 0.8361 - accuracy: 0.7201 - val_loss: 1.5734 - val_accuracy: 0.4665\n",
      "Epoch 7/20\n",
      "427/427 [==============================] - 1277s 3s/step - loss: 0.6093 - accuracy: 0.7976 - val_loss: 1.6163 - val_accuracy: 0.5070\n",
      "Epoch 8/20\n",
      "427/427 [==============================] - 1245s 3s/step - loss: 0.4136 - accuracy: 0.8556 - val_loss: 1.7992 - val_accuracy: 0.4945\n",
      "Epoch 9/20\n",
      "427/427 [==============================] - 1288s 3s/step - loss: 0.2996 - accuracy: 0.9018 - val_loss: 1.9565 - val_accuracy: 0.5101\n",
      "Epoch 10/20\n",
      "427/427 [==============================] - 1260s 3s/step - loss: 0.2433 - accuracy: 0.9194 - val_loss: 2.1162 - val_accuracy: 0.5070\n",
      "Epoch 11/20\n",
      "427/427 [==============================] - 1213s 3s/step - loss: 0.1948 - accuracy: 0.9383 - val_loss: 2.2333 - val_accuracy: 0.5055\n",
      "Epoch 12/20\n",
      "427/427 [==============================] - 1231s 3s/step - loss: 0.1561 - accuracy: 0.9543 - val_loss: 2.1197 - val_accuracy: 0.5367\n",
      "Epoch 13/20\n",
      "427/427 [==============================] - 1243s 3s/step - loss: 0.1132 - accuracy: 0.9639 - val_loss: 2.3751 - val_accuracy: 0.5148\n",
      "Epoch 14/20\n",
      "427/427 [==============================] - 1245s 3s/step - loss: 0.0794 - accuracy: 0.9770 - val_loss: 2.3997 - val_accuracy: 0.5257\n",
      "Epoch 15/20\n",
      "427/427 [==============================] - 1256s 3s/step - loss: 0.0677 - accuracy: 0.9783 - val_loss: 2.4135 - val_accuracy: 0.5211\n",
      "Epoch 16/20\n",
      "427/427 [==============================] - 1259s 3s/step - loss: 0.0582 - accuracy: 0.9813 - val_loss: 2.5888 - val_accuracy: 0.5070\n",
      "Epoch 17/20\n",
      "427/427 [==============================] - 1257s 3s/step - loss: 0.0503 - accuracy: 0.9826 - val_loss: 2.5753 - val_accuracy: 0.5164\n",
      "Epoch 18/20\n",
      "427/427 [==============================] - 1234s 3s/step - loss: 0.0403 - accuracy: 0.9858 - val_loss: 2.5842 - val_accuracy: 0.5257\n",
      "Epoch 19/20\n",
      "427/427 [==============================] - 1233s 3s/step - loss: 0.0324 - accuracy: 0.9887 - val_loss: 2.6460 - val_accuracy: 0.5101\n",
      "Epoch 20/20\n",
      "427/427 [==============================] - 1240s 3s/step - loss: 0.0291 - accuracy: 0.9889 - val_loss: 2.6541 - val_accuracy: 0.5211\n"
     ]
    },
    {
     "data": {
      "text/plain": [
       "<keras.callbacks.History at 0x7fc4401e9bd0>"
      ]
     },
     "execution_count": 17,
     "metadata": {},
     "output_type": "execute_result"
    }
   ],
   "source": [
    "learner.fit_onecycle(2e-5,20,class_weight=weight) "
   ]
  },
  {
   "cell_type": "code",
   "execution_count": 18,
   "id": "ad45bd50",
   "metadata": {
    "execution": {
     "iopub.execute_input": "2022-04-18T22:57:15.121980Z",
     "iopub.status.busy": "2022-04-18T22:57:15.121003Z",
     "iopub.status.idle": "2022-04-18T22:58:11.108011Z",
     "shell.execute_reply": "2022-04-18T22:58:11.106696Z",
     "shell.execute_reply.started": "2022-04-18T15:51:53.368682Z"
    },
    "papermill": {
     "duration": 58.766663,
     "end_time": "2022-04-18T22:58:11.108220",
     "exception": false,
     "start_time": "2022-04-18T22:57:12.341557",
     "status": "completed"
    },
    "tags": []
   },
   "outputs": [
    {
     "name": "stdout",
     "output_type": "stream",
     "text": [
      "              precision    recall  f1-score   support\n",
      "\n",
      "       angry       0.57      0.58      0.58       137\n",
      "     disgust       0.23      0.15      0.18        72\n",
      "        fear       0.12      0.17      0.14        30\n",
      "       happy       0.79      0.72      0.75       195\n",
      "         sad       0.42      0.58      0.48       132\n",
      "     surpise       0.42      0.28      0.34        75\n",
      "\n",
      "    accuracy                           0.52       641\n",
      "   macro avg       0.42      0.41      0.41       641\n",
      "weighted avg       0.53      0.52      0.52       641\n",
      "\n"
     ]
    },
    {
     "data": {
      "text/plain": [
       "array([[ 80,  11,   9,   2,  27,   8],\n",
       "       [ 26,  11,   2,   9,  19,   5],\n",
       "       [  4,   1,   5,   2,  13,   5],\n",
       "       [  8,   7,   6, 141,  30,   3],\n",
       "       [ 14,  11,   9,  14,  76,   8],\n",
       "       [  9,   7,   9,  11,  18,  21]])"
      ]
     },
     "execution_count": 18,
     "metadata": {},
     "output_type": "execute_result"
    }
   ],
   "source": [
    "learner.validate(class_names=categories)"
   ]
  },
  {
   "cell_type": "code",
   "execution_count": 19,
   "id": "316ba48b",
   "metadata": {
    "execution": {
     "iopub.execute_input": "2022-04-18T22:58:18.089087Z",
     "iopub.status.busy": "2022-04-18T22:58:18.087946Z",
     "iopub.status.idle": "2022-04-18T22:58:18.151305Z",
     "shell.execute_reply": "2022-04-18T22:58:18.151811Z",
     "shell.execute_reply.started": "2022-04-18T15:51:58.700320Z"
    },
    "papermill": {
     "duration": 3.179461,
     "end_time": "2022-04-18T22:58:18.151995",
     "exception": false,
     "start_time": "2022-04-18T22:58:14.972534",
     "status": "completed"
    },
    "tags": []
   },
   "outputs": [],
   "source": [
    "predictor = ktrain.get_predictor(learner.model, preproc=trans)"
   ]
  },
  {
   "cell_type": "code",
   "execution_count": 20,
   "id": "4cd94403",
   "metadata": {
    "execution": {
     "iopub.execute_input": "2022-04-18T22:58:25.161305Z",
     "iopub.status.busy": "2022-04-18T22:58:25.160167Z",
     "iopub.status.idle": "2022-04-18T22:59:17.558142Z",
     "shell.execute_reply": "2022-04-18T22:59:17.558821Z",
     "shell.execute_reply.started": "2022-04-18T15:51:58.888874Z"
    },
    "papermill": {
     "duration": 55.154633,
     "end_time": "2022-04-18T22:59:17.559055",
     "exception": false,
     "start_time": "2022-04-18T22:58:22.404422",
     "status": "completed"
    },
    "tags": []
   },
   "outputs": [
    {
     "name": "stdout",
     "output_type": "stream",
     "text": [
      "['angry', 'disgust', 'angry', 'angry', 'fear', 'disgust', 'sad', 'fear', 'happy', 'happy', 'disgust', 'angry', 'happy', 'happy', 'angry', 'happy', 'happy', 'surpise', 'angry', 'happy', 'sad', 'fear', 'happy', 'sad', 'angry', 'happy', 'happy', 'angry', 'angry', 'fear', 'happy', 'surpise', 'fear', 'happy', 'angry', 'angry', 'sad', 'angry', 'happy', 'happy', 'sad', 'angry', 'surpise', 'happy', 'angry', 'sad', 'sad', 'sad', 'sad', 'angry', 'sad', 'angry', 'disgust', 'happy', 'angry', 'disgust', 'sad', 'disgust', 'disgust', 'surpise', 'surpise', 'sad', 'angry', 'happy', 'sad', 'surpise', 'fear', 'sad', 'sad', 'sad', 'happy', 'sad', 'happy', 'happy', 'disgust', 'happy', 'sad', 'disgust', 'fear', 'happy', 'disgust', 'angry', 'happy', 'disgust', 'angry', 'happy', 'happy', 'happy', 'surpise', 'happy', 'sad', 'angry', 'happy', 'happy', 'disgust', 'sad', 'sad', 'sad', 'sad', 'happy', 'happy', 'angry', 'sad', 'sad', 'surpise', 'surpise', 'happy', 'sad', 'angry', 'sad', 'happy', 'angry', 'sad', 'surpise', 'sad', 'surpise', 'happy', 'sad', 'sad', 'sad', 'disgust', 'angry', 'happy', 'happy', 'fear', 'happy', 'fear', 'fear', 'angry', 'fear', 'angry', 'sad', 'happy', 'happy', 'happy', 'happy', 'sad', 'happy', 'surpise', 'happy', 'sad', 'fear', 'sad', 'sad', 'sad', 'sad', 'sad', 'fear', 'angry', 'surpise', 'happy', 'disgust', 'angry', 'sad', 'disgust', 'happy', 'sad', 'sad', 'happy', 'happy', 'sad', 'happy', 'angry', 'surpise', 'fear', 'sad', 'happy', 'happy', 'sad', 'sad', 'angry', 'sad', 'sad', 'happy', 'happy', 'angry', 'disgust', 'sad', 'angry', 'surpise', 'happy', 'happy', 'sad', 'disgust', 'happy', 'surpise', 'happy', 'happy', 'happy', 'fear', 'happy', 'sad', 'angry', 'sad', 'happy', 'sad', 'happy', 'sad', 'sad', 'angry', 'angry', 'surpise', 'sad', 'happy', 'sad', 'happy', 'angry', 'fear', 'sad', 'happy', 'angry', 'happy', 'happy', 'disgust', 'surpise', 'happy', 'disgust', 'happy', 'fear', 'happy', 'happy', 'sad', 'sad', 'surpise', 'angry', 'disgust', 'happy', 'happy', 'happy', 'sad', 'sad', 'fear', 'sad', 'angry', 'fear', 'sad', 'surpise', 'sad', 'sad', 'angry', 'angry', 'fear', 'sad', 'angry', 'disgust', 'angry', 'disgust', 'happy', 'angry', 'angry', 'happy', 'angry', 'happy', 'happy', 'sad', 'happy', 'happy', 'happy', 'sad', 'happy', 'disgust', 'happy', 'happy', 'sad', 'happy', 'sad', 'happy', 'sad', 'angry', 'disgust', 'sad', 'sad', 'happy', 'disgust', 'sad', 'surpise', 'sad', 'sad', 'angry', 'disgust', 'sad', 'happy', 'sad', 'angry', 'fear', 'sad', 'happy', 'disgust', 'happy', 'sad', 'disgust', 'sad', 'angry', 'angry', 'sad', 'sad', 'angry', 'angry', 'sad', 'happy', 'sad', 'angry', 'sad', 'happy', 'happy', 'angry', 'happy', 'angry', 'fear', 'happy', 'happy', 'disgust', 'sad', 'disgust', 'happy', 'sad', 'happy', 'angry', 'disgust', 'happy', 'angry', 'sad', 'angry', 'surpise', 'sad', 'angry', 'sad', 'disgust', 'sad', 'happy', 'sad', 'happy', 'happy', 'happy', 'disgust', 'happy', 'angry', 'sad', 'sad', 'surpise', 'angry', 'happy', 'sad', 'surpise', 'sad', 'happy', 'sad', 'surpise', 'angry', 'happy', 'surpise', 'sad', 'sad', 'sad', 'sad', 'sad', 'disgust', 'happy', 'angry', 'angry', 'surpise', 'angry', 'sad', 'surpise', 'angry', 'sad', 'angry', 'happy', 'sad', 'happy', 'happy', 'happy', 'angry', 'angry', 'angry', 'happy', 'sad', 'fear', 'happy', 'sad', 'happy', 'happy', 'fear', 'surpise', 'angry', 'angry', 'fear', 'surpise', 'happy', 'happy', 'surpise', 'surpise', 'disgust', 'happy', 'sad', 'happy', 'sad', 'happy', 'sad', 'sad', 'angry', 'angry', 'surpise', 'angry', 'angry', 'angry', 'sad', 'sad', 'angry', 'angry', 'happy', 'angry', 'happy', 'happy', 'sad', 'happy', 'happy', 'sad', 'sad', 'happy', 'surpise', 'happy', 'sad', 'angry', 'angry', 'angry', 'happy', 'sad', 'sad', 'happy', 'angry', 'sad', 'sad', 'sad', 'sad', 'surpise', 'happy', 'happy', 'happy', 'angry', 'sad', 'happy', 'surpise', 'sad', 'sad', 'sad', 'happy', 'angry', 'disgust', 'happy', 'happy', 'happy', 'sad', 'happy', 'surpise', 'happy', 'angry', 'sad', 'disgust', 'happy', 'happy', 'happy', 'happy', 'happy', 'sad', 'happy', 'angry', 'happy', 'surpise', 'happy', 'happy', 'angry', 'happy', 'angry', 'sad', 'angry', 'sad', 'sad', 'angry', 'sad', 'sad', 'happy', 'sad', 'fear', 'sad', 'sad', 'sad', 'angry', 'happy', 'sad', 'sad', 'surpise', 'happy', 'fear', 'happy', 'happy', 'sad', 'angry', 'angry', 'surpise', 'sad', 'happy', 'happy', 'angry', 'happy', 'surpise', 'sad', 'disgust', 'happy', 'angry', 'sad', 'happy', 'happy', 'surpise', 'sad', 'sad', 'disgust', 'sad', 'happy', 'sad', 'surpise', 'angry', 'surpise', 'angry', 'happy', 'angry', 'angry', 'angry', 'sad', 'fear', 'sad', 'angry', 'sad', 'happy', 'sad', 'angry', 'happy', 'sad', 'happy', 'angry', 'sad', 'angry', 'angry', 'happy', 'disgust', 'happy', 'sad', 'surpise', 'surpise', 'happy', 'sad', 'happy', 'angry', 'sad', 'sad', 'sad', 'happy', 'happy', 'happy', 'disgust', 'sad', 'angry', 'happy', 'sad', 'happy', 'sad', 'disgust', 'angry', 'surpise', 'fear', 'happy', 'happy', 'sad', 'sad', 'happy', 'sad', 'disgust', 'happy', 'surpise', 'happy', 'angry', 'angry', 'disgust', 'disgust', 'sad', 'angry', 'happy', 'sad', 'surpise', 'happy', 'disgust', 'surpise', 'angry', 'sad', 'angry', 'surpise', 'sad', 'happy', 'sad', 'sad', 'sad', 'angry', 'sad', 'happy', 'surpise', 'happy', 'disgust', 'sad', 'happy', 'surpise', 'disgust', 'happy', 'sad', 'disgust', 'surpise', 'surpise', 'sad', 'happy', 'sad', 'sad', 'angry', 'disgust', 'sad', 'angry', 'happy', 'happy', 'disgust', 'disgust', 'fear', 'angry', 'angry', 'sad', 'sad', 'sad', 'angry', 'sad', 'happy', 'sad', 'fear', 'happy']\n"
     ]
    }
   ],
   "source": [
    "y_pred = predictor.predict(x_test)\n",
    "print(y_pred)"
   ]
  },
  {
   "cell_type": "code",
   "execution_count": 21,
   "id": "5b384d88",
   "metadata": {
    "execution": {
     "iopub.execute_input": "2022-04-18T22:59:26.294292Z",
     "iopub.status.busy": "2022-04-18T22:59:26.293428Z",
     "iopub.status.idle": "2022-04-18T22:59:26.364529Z",
     "shell.execute_reply": "2022-04-18T22:59:26.363863Z",
     "shell.execute_reply.started": "2022-04-18T15:52:00.944213Z"
    },
    "papermill": {
     "duration": 4.418774,
     "end_time": "2022-04-18T22:59:26.364723",
     "exception": false,
     "start_time": "2022-04-18T22:59:21.945949",
     "status": "completed"
    },
    "tags": []
   },
   "outputs": [
    {
     "name": "stdout",
     "output_type": "stream",
     "text": [
      "              precision    recall  f1-score   support\n",
      "\n",
      "       angry       0.67      0.57      0.61       144\n",
      "     disgust       0.25      0.20      0.22        66\n",
      "        fear       0.19      0.19      0.19        32\n",
      "       happy       0.81      0.82      0.81       187\n",
      "         sad       0.46      0.59      0.52       148\n",
      "     surpise       0.35      0.30      0.32        63\n",
      "\n",
      "    accuracy                           0.56       640\n",
      "   macro avg       0.45      0.44      0.45       640\n",
      "weighted avg       0.56      0.56      0.56       640\n",
      "\n"
     ]
    }
   ],
   "source": [
    "from sklearn.metrics import classification_report\n",
    "print(classification_report(y_test,y_pred))"
   ]
  }
 ],
 "metadata": {
  "kernelspec": {
   "display_name": "Python 3",
   "language": "python",
   "name": "python3"
  },
  "language_info": {
   "codemirror_mode": {
    "name": "ipython",
    "version": 3
   },
   "file_extension": ".py",
   "mimetype": "text/x-python",
   "name": "python",
   "nbconvert_exporter": "python",
   "pygments_lexer": "ipython3",
   "version": "3.7.12"
  },
  "papermill": {
   "default_parameters": {},
   "duration": 25490.453257,
   "end_time": "2022-04-18T22:59:33.083268",
   "environment_variables": {},
   "exception": null,
   "input_path": "__notebook__.ipynb",
   "output_path": "__notebook__.ipynb",
   "parameters": {},
   "start_time": "2022-04-18T15:54:42.630011",
   "version": "2.3.3"
  },
  "widgets": {
   "application/vnd.jupyter.widget-state+json": {
    "state": {
     "07b8320fe07b47ed8287d5113f71b1b7": {
      "model_module": "@jupyter-widgets/controls",
      "model_module_version": "1.5.0",
      "model_name": "HTMLModel",
      "state": {
       "_dom_classes": [],
       "_model_module": "@jupyter-widgets/controls",
       "_model_module_version": "1.5.0",
       "_model_name": "HTMLModel",
       "_view_count": null,
       "_view_module": "@jupyter-widgets/controls",
       "_view_module_version": "1.5.0",
       "_view_name": "HTMLView",
       "description": "",
       "description_tooltip": null,
       "layout": "IPY_MODEL_10b28f901ddd49079d8e2d23c78b4156",
       "placeholder": "​",
       "style": "IPY_MODEL_8fb939eeb90148c38c84044eafec4097",
       "value": " 112/112 [00:00&lt;00:00, 3.10kB/s]"
      }
     },
     "10980594b7a94bf0b88987588e8c2126": {
      "model_module": "@jupyter-widgets/controls",
      "model_module_version": "1.5.0",
      "model_name": "DescriptionStyleModel",
      "state": {
       "_model_module": "@jupyter-widgets/controls",
       "_model_module_version": "1.5.0",
       "_model_name": "DescriptionStyleModel",
       "_view_count": null,
       "_view_module": "@jupyter-widgets/base",
       "_view_module_version": "1.2.0",
       "_view_name": "StyleView",
       "description_width": ""
      }
     },
     "10b28f901ddd49079d8e2d23c78b4156": {
      "model_module": "@jupyter-widgets/base",
      "model_module_version": "1.2.0",
      "model_name": "LayoutModel",
      "state": {
       "_model_module": "@jupyter-widgets/base",
       "_model_module_version": "1.2.0",
       "_model_name": "LayoutModel",
       "_view_count": null,
       "_view_module": "@jupyter-widgets/base",
       "_view_module_version": "1.2.0",
       "_view_name": "LayoutView",
       "align_content": null,
       "align_items": null,
       "align_self": null,
       "border": null,
       "bottom": null,
       "display": null,
       "flex": null,
       "flex_flow": null,
       "grid_area": null,
       "grid_auto_columns": null,
       "grid_auto_flow": null,
       "grid_auto_rows": null,
       "grid_column": null,
       "grid_gap": null,
       "grid_row": null,
       "grid_template_areas": null,
       "grid_template_columns": null,
       "grid_template_rows": null,
       "height": null,
       "justify_content": null,
       "justify_items": null,
       "left": null,
       "margin": null,
       "max_height": null,
       "max_width": null,
       "min_height": null,
       "min_width": null,
       "object_fit": null,
       "object_position": null,
       "order": null,
       "overflow": null,
       "overflow_x": null,
       "overflow_y": null,
       "padding": null,
       "right": null,
       "top": null,
       "visibility": null,
       "width": null
      }
     },
     "1af7449d20d64f98b8629f2616a433c2": {
      "model_module": "@jupyter-widgets/controls",
      "model_module_version": "1.5.0",
      "model_name": "HTMLModel",
      "state": {
       "_dom_classes": [],
       "_model_module": "@jupyter-widgets/controls",
       "_model_module_version": "1.5.0",
       "_model_name": "HTMLModel",
       "_view_count": null,
       "_view_module": "@jupyter-widgets/controls",
       "_view_module_version": "1.5.0",
       "_view_name": "HTMLView",
       "description": "",
       "description_tooltip": null,
       "layout": "IPY_MODEL_3c41b5b584364c1191fccc420021b98a",
       "placeholder": "​",
       "style": "IPY_MODEL_f4ff56fc6f744a0db739960f32692352",
       "value": " 528k/528k [00:00&lt;00:00, 1.64MB/s]"
      }
     },
     "1c0020706f1d4068895f998930cfabc6": {
      "model_module": "@jupyter-widgets/controls",
      "model_module_version": "1.5.0",
      "model_name": "FloatProgressModel",
      "state": {
       "_dom_classes": [],
       "_model_module": "@jupyter-widgets/controls",
       "_model_module_version": "1.5.0",
       "_model_name": "FloatProgressModel",
       "_view_count": null,
       "_view_module": "@jupyter-widgets/controls",
       "_view_module_version": "1.5.0",
       "_view_name": "ProgressView",
       "bar_style": "success",
       "description": "",
       "description_tooltip": null,
       "layout": "IPY_MODEL_719d858053c042d98ce4df169980a4d6",
       "max": 119.0,
       "min": 0.0,
       "orientation": "horizontal",
       "style": "IPY_MODEL_39346e7e66904782b0b67226476286b4",
       "value": 119.0
      }
     },
     "38cf5f9512cf47aebec6bea968fc234c": {
      "model_module": "@jupyter-widgets/base",
      "model_module_version": "1.2.0",
      "model_name": "LayoutModel",
      "state": {
       "_model_module": "@jupyter-widgets/base",
       "_model_module_version": "1.2.0",
       "_model_name": "LayoutModel",
       "_view_count": null,
       "_view_module": "@jupyter-widgets/base",
       "_view_module_version": "1.2.0",
       "_view_name": "LayoutView",
       "align_content": null,
       "align_items": null,
       "align_self": null,
       "border": null,
       "bottom": null,
       "display": null,
       "flex": null,
       "flex_flow": null,
       "grid_area": null,
       "grid_auto_columns": null,
       "grid_auto_flow": null,
       "grid_auto_rows": null,
       "grid_column": null,
       "grid_gap": null,
       "grid_row": null,
       "grid_template_areas": null,
       "grid_template_columns": null,
       "grid_template_rows": null,
       "height": null,
       "justify_content": null,
       "justify_items": null,
       "left": null,
       "margin": null,
       "max_height": null,
       "max_width": null,
       "min_height": null,
       "min_width": null,
       "object_fit": null,
       "object_position": null,
       "order": null,
       "overflow": null,
       "overflow_x": null,
       "overflow_y": null,
       "padding": null,
       "right": null,
       "top": null,
       "visibility": null,
       "width": null
      }
     },
     "39346e7e66904782b0b67226476286b4": {
      "model_module": "@jupyter-widgets/controls",
      "model_module_version": "1.5.0",
      "model_name": "ProgressStyleModel",
      "state": {
       "_model_module": "@jupyter-widgets/controls",
       "_model_module_version": "1.5.0",
       "_model_name": "ProgressStyleModel",
       "_view_count": null,
       "_view_module": "@jupyter-widgets/base",
       "_view_module_version": "1.2.0",
       "_view_name": "StyleView",
       "bar_color": null,
       "description_width": ""
      }
     },
     "3a6dc40ab61a4513abf35835762c9cc5": {
      "model_module": "@jupyter-widgets/controls",
      "model_module_version": "1.5.0",
      "model_name": "DescriptionStyleModel",
      "state": {
       "_model_module": "@jupyter-widgets/controls",
       "_model_module_version": "1.5.0",
       "_model_name": "DescriptionStyleModel",
       "_view_count": null,
       "_view_module": "@jupyter-widgets/base",
       "_view_module_version": "1.2.0",
       "_view_name": "StyleView",
       "description_width": ""
      }
     },
     "3b4198c9cf7542f6a6f0a8bac008327c": {
      "model_module": "@jupyter-widgets/base",
      "model_module_version": "1.2.0",
      "model_name": "LayoutModel",
      "state": {
       "_model_module": "@jupyter-widgets/base",
       "_model_module_version": "1.2.0",
       "_model_name": "LayoutModel",
       "_view_count": null,
       "_view_module": "@jupyter-widgets/base",
       "_view_module_version": "1.2.0",
       "_view_name": "LayoutView",
       "align_content": null,
       "align_items": null,
       "align_self": null,
       "border": null,
       "bottom": null,
       "display": null,
       "flex": null,
       "flex_flow": null,
       "grid_area": null,
       "grid_auto_columns": null,
       "grid_auto_flow": null,
       "grid_auto_rows": null,
       "grid_column": null,
       "grid_gap": null,
       "grid_row": null,
       "grid_template_areas": null,
       "grid_template_columns": null,
       "grid_template_rows": null,
       "height": null,
       "justify_content": null,
       "justify_items": null,
       "left": null,
       "margin": null,
       "max_height": null,
       "max_width": null,
       "min_height": null,
       "min_width": null,
       "object_fit": null,
       "object_position": null,
       "order": null,
       "overflow": null,
       "overflow_x": null,
       "overflow_y": null,
       "padding": null,
       "right": null,
       "top": null,
       "visibility": null,
       "width": null
      }
     },
     "3c41b5b584364c1191fccc420021b98a": {
      "model_module": "@jupyter-widgets/base",
      "model_module_version": "1.2.0",
      "model_name": "LayoutModel",
      "state": {
       "_model_module": "@jupyter-widgets/base",
       "_model_module_version": "1.2.0",
       "_model_name": "LayoutModel",
       "_view_count": null,
       "_view_module": "@jupyter-widgets/base",
       "_view_module_version": "1.2.0",
       "_view_name": "LayoutView",
       "align_content": null,
       "align_items": null,
       "align_self": null,
       "border": null,
       "bottom": null,
       "display": null,
       "flex": null,
       "flex_flow": null,
       "grid_area": null,
       "grid_auto_columns": null,
       "grid_auto_flow": null,
       "grid_auto_rows": null,
       "grid_column": null,
       "grid_gap": null,
       "grid_row": null,
       "grid_template_areas": null,
       "grid_template_columns": null,
       "grid_template_rows": null,
       "height": null,
       "justify_content": null,
       "justify_items": null,
       "left": null,
       "margin": null,
       "max_height": null,
       "max_width": null,
       "min_height": null,
       "min_width": null,
       "object_fit": null,
       "object_position": null,
       "order": null,
       "overflow": null,
       "overflow_x": null,
       "overflow_y": null,
       "padding": null,
       "right": null,
       "top": null,
       "visibility": null,
       "width": null
      }
     },
     "4af4cae95a044463808f5afa97978069": {
      "model_module": "@jupyter-widgets/controls",
      "model_module_version": "1.5.0",
      "model_name": "DescriptionStyleModel",
      "state": {
       "_model_module": "@jupyter-widgets/controls",
       "_model_module_version": "1.5.0",
       "_model_name": "DescriptionStyleModel",
       "_view_count": null,
       "_view_module": "@jupyter-widgets/base",
       "_view_module_version": "1.2.0",
       "_view_name": "StyleView",
       "description_width": ""
      }
     },
     "4c69896564c348b09553279cf88e82ff": {
      "model_module": "@jupyter-widgets/controls",
      "model_module_version": "1.5.0",
      "model_name": "DescriptionStyleModel",
      "state": {
       "_model_module": "@jupyter-widgets/controls",
       "_model_module_version": "1.5.0",
       "_model_name": "DescriptionStyleModel",
       "_view_count": null,
       "_view_module": "@jupyter-widgets/base",
       "_view_module_version": "1.2.0",
       "_view_name": "StyleView",
       "description_width": ""
      }
     },
     "4ea8f9401ece4ac4ade93944d49d7ebd": {
      "model_module": "@jupyter-widgets/controls",
      "model_module_version": "1.5.0",
      "model_name": "HBoxModel",
      "state": {
       "_dom_classes": [],
       "_model_module": "@jupyter-widgets/controls",
       "_model_module_version": "1.5.0",
       "_model_name": "HBoxModel",
       "_view_count": null,
       "_view_module": "@jupyter-widgets/controls",
       "_view_module_version": "1.5.0",
       "_view_name": "HBoxView",
       "box_style": "",
       "children": [
        "IPY_MODEL_cf7918c095a441a6893abd5d22665a87",
        "IPY_MODEL_a01e1061195b4741918c2d4ce6d4ad5f",
        "IPY_MODEL_58e139d6568740b7be73eda94a0d42cd"
       ],
       "layout": "IPY_MODEL_89274e98609947a191b7f4d884f3e17e"
      }
     },
     "5128ff155ce94c31abf029b7b42e92db": {
      "model_module": "@jupyter-widgets/controls",
      "model_module_version": "1.5.0",
      "model_name": "HTMLModel",
      "state": {
       "_dom_classes": [],
       "_model_module": "@jupyter-widgets/controls",
       "_model_module_version": "1.5.0",
       "_model_name": "HTMLModel",
       "_view_count": null,
       "_view_module": "@jupyter-widgets/controls",
       "_view_module_version": "1.5.0",
       "_view_name": "HTMLView",
       "description": "",
       "description_tooltip": null,
       "layout": "IPY_MODEL_e59623a38a494bc181fb9a42737b0d6e",
       "placeholder": "​",
       "style": "IPY_MODEL_e8ca961bcc7b474b871767514e1452e3",
       "value": " 586/586 [00:00&lt;00:00, 14.7kB/s]"
      }
     },
     "5482603c1ba24fa0b0125f6e23fb4998": {
      "model_module": "@jupyter-widgets/base",
      "model_module_version": "1.2.0",
      "model_name": "LayoutModel",
      "state": {
       "_model_module": "@jupyter-widgets/base",
       "_model_module_version": "1.2.0",
       "_model_name": "LayoutModel",
       "_view_count": null,
       "_view_module": "@jupyter-widgets/base",
       "_view_module_version": "1.2.0",
       "_view_name": "LayoutView",
       "align_content": null,
       "align_items": null,
       "align_self": null,
       "border": null,
       "bottom": null,
       "display": null,
       "flex": null,
       "flex_flow": null,
       "grid_area": null,
       "grid_auto_columns": null,
       "grid_auto_flow": null,
       "grid_auto_rows": null,
       "grid_column": null,
       "grid_gap": null,
       "grid_row": null,
       "grid_template_areas": null,
       "grid_template_columns": null,
       "grid_template_rows": null,
       "height": null,
       "justify_content": null,
       "justify_items": null,
       "left": null,
       "margin": null,
       "max_height": null,
       "max_width": null,
       "min_height": null,
       "min_width": null,
       "object_fit": null,
       "object_position": null,
       "order": null,
       "overflow": null,
       "overflow_x": null,
       "overflow_y": null,
       "padding": null,
       "right": null,
       "top": null,
       "visibility": null,
       "width": null
      }
     },
     "56e55626d23944f8abdd714636872cce": {
      "model_module": "@jupyter-widgets/base",
      "model_module_version": "1.2.0",
      "model_name": "LayoutModel",
      "state": {
       "_model_module": "@jupyter-widgets/base",
       "_model_module_version": "1.2.0",
       "_model_name": "LayoutModel",
       "_view_count": null,
       "_view_module": "@jupyter-widgets/base",
       "_view_module_version": "1.2.0",
       "_view_name": "LayoutView",
       "align_content": null,
       "align_items": null,
       "align_self": null,
       "border": null,
       "bottom": null,
       "display": null,
       "flex": null,
       "flex_flow": null,
       "grid_area": null,
       "grid_auto_columns": null,
       "grid_auto_flow": null,
       "grid_auto_rows": null,
       "grid_column": null,
       "grid_gap": null,
       "grid_row": null,
       "grid_template_areas": null,
       "grid_template_columns": null,
       "grid_template_rows": null,
       "height": null,
       "justify_content": null,
       "justify_items": null,
       "left": null,
       "margin": null,
       "max_height": null,
       "max_width": null,
       "min_height": null,
       "min_width": null,
       "object_fit": null,
       "object_position": null,
       "order": null,
       "overflow": null,
       "overflow_x": null,
       "overflow_y": null,
       "padding": null,
       "right": null,
       "top": null,
       "visibility": null,
       "width": null
      }
     },
     "58e139d6568740b7be73eda94a0d42cd": {
      "model_module": "@jupyter-widgets/controls",
      "model_module_version": "1.5.0",
      "model_name": "HTMLModel",
      "state": {
       "_dom_classes": [],
       "_model_module": "@jupyter-widgets/controls",
       "_model_module_version": "1.5.0",
       "_model_name": "HTMLModel",
       "_view_count": null,
       "_view_module": "@jupyter-widgets/controls",
       "_view_module_version": "1.5.0",
       "_view_name": "HTMLView",
       "description": "",
       "description_tooltip": null,
       "layout": "IPY_MODEL_d59ad82866934ba1b615c3282e69cd45",
       "placeholder": "​",
       "style": "IPY_MODEL_3a6dc40ab61a4513abf35835762c9cc5",
       "value": " 443M/443M [00:11&lt;00:00, 38.8MB/s]"
      }
     },
     "59479366849744739f2dab6d749cd5ea": {
      "model_module": "@jupyter-widgets/base",
      "model_module_version": "1.2.0",
      "model_name": "LayoutModel",
      "state": {
       "_model_module": "@jupyter-widgets/base",
       "_model_module_version": "1.2.0",
       "_model_name": "LayoutModel",
       "_view_count": null,
       "_view_module": "@jupyter-widgets/base",
       "_view_module_version": "1.2.0",
       "_view_name": "LayoutView",
       "align_content": null,
       "align_items": null,
       "align_self": null,
       "border": null,
       "bottom": null,
       "display": null,
       "flex": null,
       "flex_flow": null,
       "grid_area": null,
       "grid_auto_columns": null,
       "grid_auto_flow": null,
       "grid_auto_rows": null,
       "grid_column": null,
       "grid_gap": null,
       "grid_row": null,
       "grid_template_areas": null,
       "grid_template_columns": null,
       "grid_template_rows": null,
       "height": null,
       "justify_content": null,
       "justify_items": null,
       "left": null,
       "margin": null,
       "max_height": null,
       "max_width": null,
       "min_height": null,
       "min_width": null,
       "object_fit": null,
       "object_position": null,
       "order": null,
       "overflow": null,
       "overflow_x": null,
       "overflow_y": null,
       "padding": null,
       "right": null,
       "top": null,
       "visibility": null,
       "width": null
      }
     },
     "6cd871e9564c424e92d89e16218f0081": {
      "model_module": "@jupyter-widgets/controls",
      "model_module_version": "1.5.0",
      "model_name": "HTMLModel",
      "state": {
       "_dom_classes": [],
       "_model_module": "@jupyter-widgets/controls",
       "_model_module_version": "1.5.0",
       "_model_name": "HTMLModel",
       "_view_count": null,
       "_view_module": "@jupyter-widgets/controls",
       "_view_module_version": "1.5.0",
       "_view_name": "HTMLView",
       "description": "",
       "description_tooltip": null,
       "layout": "IPY_MODEL_d9e807336c5044a795f30f3ceff83719",
       "placeholder": "​",
       "style": "IPY_MODEL_4c69896564c348b09553279cf88e82ff",
       "value": "Downloading: 100%"
      }
     },
     "719d858053c042d98ce4df169980a4d6": {
      "model_module": "@jupyter-widgets/base",
      "model_module_version": "1.2.0",
      "model_name": "LayoutModel",
      "state": {
       "_model_module": "@jupyter-widgets/base",
       "_model_module_version": "1.2.0",
       "_model_name": "LayoutModel",
       "_view_count": null,
       "_view_module": "@jupyter-widgets/base",
       "_view_module_version": "1.2.0",
       "_view_name": "LayoutView",
       "align_content": null,
       "align_items": null,
       "align_self": null,
       "border": null,
       "bottom": null,
       "display": null,
       "flex": null,
       "flex_flow": null,
       "grid_area": null,
       "grid_auto_columns": null,
       "grid_auto_flow": null,
       "grid_auto_rows": null,
       "grid_column": null,
       "grid_gap": null,
       "grid_row": null,
       "grid_template_areas": null,
       "grid_template_columns": null,
       "grid_template_rows": null,
       "height": null,
       "justify_content": null,
       "justify_items": null,
       "left": null,
       "margin": null,
       "max_height": null,
       "max_width": null,
       "min_height": null,
       "min_width": null,
       "object_fit": null,
       "object_position": null,
       "order": null,
       "overflow": null,
       "overflow_x": null,
       "overflow_y": null,
       "padding": null,
       "right": null,
       "top": null,
       "visibility": null,
       "width": null
      }
     },
     "77caf453a78b4efc82250294c3304d17": {
      "model_module": "@jupyter-widgets/base",
      "model_module_version": "1.2.0",
      "model_name": "LayoutModel",
      "state": {
       "_model_module": "@jupyter-widgets/base",
       "_model_module_version": "1.2.0",
       "_model_name": "LayoutModel",
       "_view_count": null,
       "_view_module": "@jupyter-widgets/base",
       "_view_module_version": "1.2.0",
       "_view_name": "LayoutView",
       "align_content": null,
       "align_items": null,
       "align_self": null,
       "border": null,
       "bottom": null,
       "display": null,
       "flex": null,
       "flex_flow": null,
       "grid_area": null,
       "grid_auto_columns": null,
       "grid_auto_flow": null,
       "grid_auto_rows": null,
       "grid_column": null,
       "grid_gap": null,
       "grid_row": null,
       "grid_template_areas": null,
       "grid_template_columns": null,
       "grid_template_rows": null,
       "height": null,
       "justify_content": null,
       "justify_items": null,
       "left": null,
       "margin": null,
       "max_height": null,
       "max_width": null,
       "min_height": null,
       "min_width": null,
       "object_fit": null,
       "object_position": null,
       "order": null,
       "overflow": null,
       "overflow_x": null,
       "overflow_y": null,
       "padding": null,
       "right": null,
       "top": null,
       "visibility": null,
       "width": null
      }
     },
     "7cdb672c678a4b5ebf388eba8dbdfa40": {
      "model_module": "@jupyter-widgets/controls",
      "model_module_version": "1.5.0",
      "model_name": "HBoxModel",
      "state": {
       "_dom_classes": [],
       "_model_module": "@jupyter-widgets/controls",
       "_model_module_version": "1.5.0",
       "_model_name": "HBoxModel",
       "_view_count": null,
       "_view_module": "@jupyter-widgets/controls",
       "_view_module_version": "1.5.0",
       "_view_name": "HBoxView",
       "box_style": "",
       "children": [
        "IPY_MODEL_a47fd078f6f24fe1938ff5db9231db96",
        "IPY_MODEL_b32e5ff9df244dd393dbe2df089fa3e2",
        "IPY_MODEL_5128ff155ce94c31abf029b7b42e92db"
       ],
       "layout": "IPY_MODEL_3b4198c9cf7542f6a6f0a8bac008327c"
      }
     },
     "815673f82e01482188273cfe6720f9af": {
      "model_module": "@jupyter-widgets/base",
      "model_module_version": "1.2.0",
      "model_name": "LayoutModel",
      "state": {
       "_model_module": "@jupyter-widgets/base",
       "_model_module_version": "1.2.0",
       "_model_name": "LayoutModel",
       "_view_count": null,
       "_view_module": "@jupyter-widgets/base",
       "_view_module_version": "1.2.0",
       "_view_name": "LayoutView",
       "align_content": null,
       "align_items": null,
       "align_self": null,
       "border": null,
       "bottom": null,
       "display": null,
       "flex": null,
       "flex_flow": null,
       "grid_area": null,
       "grid_auto_columns": null,
       "grid_auto_flow": null,
       "grid_auto_rows": null,
       "grid_column": null,
       "grid_gap": null,
       "grid_row": null,
       "grid_template_areas": null,
       "grid_template_columns": null,
       "grid_template_rows": null,
       "height": null,
       "justify_content": null,
       "justify_items": null,
       "left": null,
       "margin": null,
       "max_height": null,
       "max_width": null,
       "min_height": null,
       "min_width": null,
       "object_fit": null,
       "object_position": null,
       "order": null,
       "overflow": null,
       "overflow_x": null,
       "overflow_y": null,
       "padding": null,
       "right": null,
       "top": null,
       "visibility": null,
       "width": null
      }
     },
     "8433ed68e4c04ccaab17e289ae1c5aff": {
      "model_module": "@jupyter-widgets/base",
      "model_module_version": "1.2.0",
      "model_name": "LayoutModel",
      "state": {
       "_model_module": "@jupyter-widgets/base",
       "_model_module_version": "1.2.0",
       "_model_name": "LayoutModel",
       "_view_count": null,
       "_view_module": "@jupyter-widgets/base",
       "_view_module_version": "1.2.0",
       "_view_name": "LayoutView",
       "align_content": null,
       "align_items": null,
       "align_self": null,
       "border": null,
       "bottom": null,
       "display": null,
       "flex": null,
       "flex_flow": null,
       "grid_area": null,
       "grid_auto_columns": null,
       "grid_auto_flow": null,
       "grid_auto_rows": null,
       "grid_column": null,
       "grid_gap": null,
       "grid_row": null,
       "grid_template_areas": null,
       "grid_template_columns": null,
       "grid_template_rows": null,
       "height": null,
       "justify_content": null,
       "justify_items": null,
       "left": null,
       "margin": null,
       "max_height": null,
       "max_width": null,
       "min_height": null,
       "min_width": null,
       "object_fit": null,
       "object_position": null,
       "order": null,
       "overflow": null,
       "overflow_x": null,
       "overflow_y": null,
       "padding": null,
       "right": null,
       "top": null,
       "visibility": null,
       "width": null
      }
     },
     "86231e2f52b948d28d101de053c124cc": {
      "model_module": "@jupyter-widgets/controls",
      "model_module_version": "1.5.0",
      "model_name": "ProgressStyleModel",
      "state": {
       "_model_module": "@jupyter-widgets/controls",
       "_model_module_version": "1.5.0",
       "_model_name": "ProgressStyleModel",
       "_view_count": null,
       "_view_module": "@jupyter-widgets/base",
       "_view_module_version": "1.2.0",
       "_view_name": "StyleView",
       "bar_color": null,
       "description_width": ""
      }
     },
     "88bf94a76c2d44489eb9d324580f406e": {
      "model_module": "@jupyter-widgets/base",
      "model_module_version": "1.2.0",
      "model_name": "LayoutModel",
      "state": {
       "_model_module": "@jupyter-widgets/base",
       "_model_module_version": "1.2.0",
       "_model_name": "LayoutModel",
       "_view_count": null,
       "_view_module": "@jupyter-widgets/base",
       "_view_module_version": "1.2.0",
       "_view_name": "LayoutView",
       "align_content": null,
       "align_items": null,
       "align_self": null,
       "border": null,
       "bottom": null,
       "display": null,
       "flex": null,
       "flex_flow": null,
       "grid_area": null,
       "grid_auto_columns": null,
       "grid_auto_flow": null,
       "grid_auto_rows": null,
       "grid_column": null,
       "grid_gap": null,
       "grid_row": null,
       "grid_template_areas": null,
       "grid_template_columns": null,
       "grid_template_rows": null,
       "height": null,
       "justify_content": null,
       "justify_items": null,
       "left": null,
       "margin": null,
       "max_height": null,
       "max_width": null,
       "min_height": null,
       "min_width": null,
       "object_fit": null,
       "object_position": null,
       "order": null,
       "overflow": null,
       "overflow_x": null,
       "overflow_y": null,
       "padding": null,
       "right": null,
       "top": null,
       "visibility": null,
       "width": null
      }
     },
     "88e666f6bda147cd9f03e20476edd5dc": {
      "model_module": "@jupyter-widgets/base",
      "model_module_version": "1.2.0",
      "model_name": "LayoutModel",
      "state": {
       "_model_module": "@jupyter-widgets/base",
       "_model_module_version": "1.2.0",
       "_model_name": "LayoutModel",
       "_view_count": null,
       "_view_module": "@jupyter-widgets/base",
       "_view_module_version": "1.2.0",
       "_view_name": "LayoutView",
       "align_content": null,
       "align_items": null,
       "align_self": null,
       "border": null,
       "bottom": null,
       "display": null,
       "flex": null,
       "flex_flow": null,
       "grid_area": null,
       "grid_auto_columns": null,
       "grid_auto_flow": null,
       "grid_auto_rows": null,
       "grid_column": null,
       "grid_gap": null,
       "grid_row": null,
       "grid_template_areas": null,
       "grid_template_columns": null,
       "grid_template_rows": null,
       "height": null,
       "justify_content": null,
       "justify_items": null,
       "left": null,
       "margin": null,
       "max_height": null,
       "max_width": null,
       "min_height": null,
       "min_width": null,
       "object_fit": null,
       "object_position": null,
       "order": null,
       "overflow": null,
       "overflow_x": null,
       "overflow_y": null,
       "padding": null,
       "right": null,
       "top": null,
       "visibility": null,
       "width": null
      }
     },
     "89274e98609947a191b7f4d884f3e17e": {
      "model_module": "@jupyter-widgets/base",
      "model_module_version": "1.2.0",
      "model_name": "LayoutModel",
      "state": {
       "_model_module": "@jupyter-widgets/base",
       "_model_module_version": "1.2.0",
       "_model_name": "LayoutModel",
       "_view_count": null,
       "_view_module": "@jupyter-widgets/base",
       "_view_module_version": "1.2.0",
       "_view_name": "LayoutView",
       "align_content": null,
       "align_items": null,
       "align_self": null,
       "border": null,
       "bottom": null,
       "display": null,
       "flex": null,
       "flex_flow": null,
       "grid_area": null,
       "grid_auto_columns": null,
       "grid_auto_flow": null,
       "grid_auto_rows": null,
       "grid_column": null,
       "grid_gap": null,
       "grid_row": null,
       "grid_template_areas": null,
       "grid_template_columns": null,
       "grid_template_rows": null,
       "height": null,
       "justify_content": null,
       "justify_items": null,
       "left": null,
       "margin": null,
       "max_height": null,
       "max_width": null,
       "min_height": null,
       "min_width": null,
       "object_fit": null,
       "object_position": null,
       "order": null,
       "overflow": null,
       "overflow_x": null,
       "overflow_y": null,
       "padding": null,
       "right": null,
       "top": null,
       "visibility": null,
       "width": null
      }
     },
     "8e774ed7c2e14041b671c6d2a0fcd89a": {
      "model_module": "@jupyter-widgets/base",
      "model_module_version": "1.2.0",
      "model_name": "LayoutModel",
      "state": {
       "_model_module": "@jupyter-widgets/base",
       "_model_module_version": "1.2.0",
       "_model_name": "LayoutModel",
       "_view_count": null,
       "_view_module": "@jupyter-widgets/base",
       "_view_module_version": "1.2.0",
       "_view_name": "LayoutView",
       "align_content": null,
       "align_items": null,
       "align_self": null,
       "border": null,
       "bottom": null,
       "display": null,
       "flex": null,
       "flex_flow": null,
       "grid_area": null,
       "grid_auto_columns": null,
       "grid_auto_flow": null,
       "grid_auto_rows": null,
       "grid_column": null,
       "grid_gap": null,
       "grid_row": null,
       "grid_template_areas": null,
       "grid_template_columns": null,
       "grid_template_rows": null,
       "height": null,
       "justify_content": null,
       "justify_items": null,
       "left": null,
       "margin": null,
       "max_height": null,
       "max_width": null,
       "min_height": null,
       "min_width": null,
       "object_fit": null,
       "object_position": null,
       "order": null,
       "overflow": null,
       "overflow_x": null,
       "overflow_y": null,
       "padding": null,
       "right": null,
       "top": null,
       "visibility": null,
       "width": null
      }
     },
     "8fb939eeb90148c38c84044eafec4097": {
      "model_module": "@jupyter-widgets/controls",
      "model_module_version": "1.5.0",
      "model_name": "DescriptionStyleModel",
      "state": {
       "_model_module": "@jupyter-widgets/controls",
       "_model_module_version": "1.5.0",
       "_model_name": "DescriptionStyleModel",
       "_view_count": null,
       "_view_module": "@jupyter-widgets/base",
       "_view_module_version": "1.2.0",
       "_view_name": "StyleView",
       "description_width": ""
      }
     },
     "8ff31c45e5c54014b499e7844406e9c9": {
      "model_module": "@jupyter-widgets/controls",
      "model_module_version": "1.5.0",
      "model_name": "HBoxModel",
      "state": {
       "_dom_classes": [],
       "_model_module": "@jupyter-widgets/controls",
       "_model_module_version": "1.5.0",
       "_model_name": "HBoxModel",
       "_view_count": null,
       "_view_module": "@jupyter-widgets/controls",
       "_view_module_version": "1.5.0",
       "_view_name": "HBoxView",
       "box_style": "",
       "children": [
        "IPY_MODEL_afdb323558354bc88a6b05fbb68f3267",
        "IPY_MODEL_1c0020706f1d4068895f998930cfabc6",
        "IPY_MODEL_90566536852e401fb4ea995bbbd8c3b1"
       ],
       "layout": "IPY_MODEL_88e666f6bda147cd9f03e20476edd5dc"
      }
     },
     "90566536852e401fb4ea995bbbd8c3b1": {
      "model_module": "@jupyter-widgets/controls",
      "model_module_version": "1.5.0",
      "model_name": "HTMLModel",
      "state": {
       "_dom_classes": [],
       "_model_module": "@jupyter-widgets/controls",
       "_model_module_version": "1.5.0",
       "_model_name": "HTMLModel",
       "_view_count": null,
       "_view_module": "@jupyter-widgets/controls",
       "_view_module_version": "1.5.0",
       "_view_name": "HTMLView",
       "description": "",
       "description_tooltip": null,
       "layout": "IPY_MODEL_5482603c1ba24fa0b0125f6e23fb4998",
       "placeholder": "​",
       "style": "IPY_MODEL_10980594b7a94bf0b88987588e8c2126",
       "value": " 119/119 [00:00&lt;00:00, 3.21kB/s]"
      }
     },
     "92e7af8f37be4de2bfc2579f7dc21f12": {
      "model_module": "@jupyter-widgets/controls",
      "model_module_version": "1.5.0",
      "model_name": "HTMLModel",
      "state": {
       "_dom_classes": [],
       "_model_module": "@jupyter-widgets/controls",
       "_model_module_version": "1.5.0",
       "_model_name": "HTMLModel",
       "_view_count": null,
       "_view_module": "@jupyter-widgets/controls",
       "_view_module_version": "1.5.0",
       "_view_name": "HTMLView",
       "description": "",
       "description_tooltip": null,
       "layout": "IPY_MODEL_f77f0097cef44147885a4ccc96ce55fa",
       "placeholder": "​",
       "style": "IPY_MODEL_fdf0a307851f4783a928df9c083c9125",
       "value": "Downloading: 100%"
      }
     },
     "93680a74f0a446768dd22efdef7b8780": {
      "model_module": "@jupyter-widgets/controls",
      "model_module_version": "1.5.0",
      "model_name": "DescriptionStyleModel",
      "state": {
       "_model_module": "@jupyter-widgets/controls",
       "_model_module_version": "1.5.0",
       "_model_name": "DescriptionStyleModel",
       "_view_count": null,
       "_view_module": "@jupyter-widgets/base",
       "_view_module_version": "1.2.0",
       "_view_name": "StyleView",
       "description_width": ""
      }
     },
     "97c5617836d34758a2725c3fcd5e065c": {
      "model_module": "@jupyter-widgets/controls",
      "model_module_version": "1.5.0",
      "model_name": "ProgressStyleModel",
      "state": {
       "_model_module": "@jupyter-widgets/controls",
       "_model_module_version": "1.5.0",
       "_model_name": "ProgressStyleModel",
       "_view_count": null,
       "_view_module": "@jupyter-widgets/base",
       "_view_module_version": "1.2.0",
       "_view_name": "StyleView",
       "bar_color": null,
       "description_width": ""
      }
     },
     "a01e1061195b4741918c2d4ce6d4ad5f": {
      "model_module": "@jupyter-widgets/controls",
      "model_module_version": "1.5.0",
      "model_name": "FloatProgressModel",
      "state": {
       "_dom_classes": [],
       "_model_module": "@jupyter-widgets/controls",
       "_model_module_version": "1.5.0",
       "_model_name": "FloatProgressModel",
       "_view_count": null,
       "_view_module": "@jupyter-widgets/controls",
       "_view_module_version": "1.5.0",
       "_view_name": "ProgressView",
       "bar_style": "success",
       "description": "",
       "description_tooltip": null,
       "layout": "IPY_MODEL_88bf94a76c2d44489eb9d324580f406e",
       "max": 442560329.0,
       "min": 0.0,
       "orientation": "horizontal",
       "style": "IPY_MODEL_e1b71385ad0c4dd39374ee4cef8f7208",
       "value": 442560329.0
      }
     },
     "a47fd078f6f24fe1938ff5db9231db96": {
      "model_module": "@jupyter-widgets/controls",
      "model_module_version": "1.5.0",
      "model_name": "HTMLModel",
      "state": {
       "_dom_classes": [],
       "_model_module": "@jupyter-widgets/controls",
       "_model_module_version": "1.5.0",
       "_model_name": "HTMLModel",
       "_view_count": null,
       "_view_module": "@jupyter-widgets/controls",
       "_view_module_version": "1.5.0",
       "_view_name": "HTMLView",
       "description": "",
       "description_tooltip": null,
       "layout": "IPY_MODEL_38cf5f9512cf47aebec6bea968fc234c",
       "placeholder": "​",
       "style": "IPY_MODEL_4af4cae95a044463808f5afa97978069",
       "value": "Downloading: 100%"
      }
     },
     "afdb323558354bc88a6b05fbb68f3267": {
      "model_module": "@jupyter-widgets/controls",
      "model_module_version": "1.5.0",
      "model_name": "HTMLModel",
      "state": {
       "_dom_classes": [],
       "_model_module": "@jupyter-widgets/controls",
       "_model_module_version": "1.5.0",
       "_model_name": "HTMLModel",
       "_view_count": null,
       "_view_module": "@jupyter-widgets/controls",
       "_view_module_version": "1.5.0",
       "_view_name": "HTMLView",
       "description": "",
       "description_tooltip": null,
       "layout": "IPY_MODEL_56e55626d23944f8abdd714636872cce",
       "placeholder": "​",
       "style": "IPY_MODEL_93680a74f0a446768dd22efdef7b8780",
       "value": "Downloading: 100%"
      }
     },
     "b32e5ff9df244dd393dbe2df089fa3e2": {
      "model_module": "@jupyter-widgets/controls",
      "model_module_version": "1.5.0",
      "model_name": "FloatProgressModel",
      "state": {
       "_dom_classes": [],
       "_model_module": "@jupyter-widgets/controls",
       "_model_module_version": "1.5.0",
       "_model_name": "FloatProgressModel",
       "_view_count": null,
       "_view_module": "@jupyter-widgets/controls",
       "_view_module_version": "1.5.0",
       "_view_name": "ProgressView",
       "bar_style": "success",
       "description": "",
       "description_tooltip": null,
       "layout": "IPY_MODEL_8e774ed7c2e14041b671c6d2a0fcd89a",
       "max": 586.0,
       "min": 0.0,
       "orientation": "horizontal",
       "style": "IPY_MODEL_86231e2f52b948d28d101de053c124cc",
       "value": 586.0
      }
     },
     "c2b79055d40d4e1ba08b25f4624ea04a": {
      "model_module": "@jupyter-widgets/controls",
      "model_module_version": "1.5.0",
      "model_name": "HBoxModel",
      "state": {
       "_dom_classes": [],
       "_model_module": "@jupyter-widgets/controls",
       "_model_module_version": "1.5.0",
       "_model_name": "HBoxModel",
       "_view_count": null,
       "_view_module": "@jupyter-widgets/controls",
       "_view_module_version": "1.5.0",
       "_view_name": "HBoxView",
       "box_style": "",
       "children": [
        "IPY_MODEL_6cd871e9564c424e92d89e16218f0081",
        "IPY_MODEL_de36c39992bd46738e55586e32a37aa3",
        "IPY_MODEL_07b8320fe07b47ed8287d5113f71b1b7"
       ],
       "layout": "IPY_MODEL_fd1c6c52b2bf4d6fa42bccbab5199949"
      }
     },
     "cf7918c095a441a6893abd5d22665a87": {
      "model_module": "@jupyter-widgets/controls",
      "model_module_version": "1.5.0",
      "model_name": "HTMLModel",
      "state": {
       "_dom_classes": [],
       "_model_module": "@jupyter-widgets/controls",
       "_model_module_version": "1.5.0",
       "_model_name": "HTMLModel",
       "_view_count": null,
       "_view_module": "@jupyter-widgets/controls",
       "_view_module_version": "1.5.0",
       "_view_name": "HTMLView",
       "description": "",
       "description_tooltip": null,
       "layout": "IPY_MODEL_77caf453a78b4efc82250294c3304d17",
       "placeholder": "​",
       "style": "IPY_MODEL_fec437cfe5be479186bc8ab2fbb91c38",
       "value": "Downloading: 100%"
      }
     },
     "d42eb78efc0c4a2081fdb0f8c094f56a": {
      "model_module": "@jupyter-widgets/controls",
      "model_module_version": "1.5.0",
      "model_name": "HBoxModel",
      "state": {
       "_dom_classes": [],
       "_model_module": "@jupyter-widgets/controls",
       "_model_module_version": "1.5.0",
       "_model_name": "HBoxModel",
       "_view_count": null,
       "_view_module": "@jupyter-widgets/controls",
       "_view_module_version": "1.5.0",
       "_view_name": "HBoxView",
       "box_style": "",
       "children": [
        "IPY_MODEL_92e7af8f37be4de2bfc2579f7dc21f12",
        "IPY_MODEL_d80e0fbf277244b297a8e9d541594850",
        "IPY_MODEL_1af7449d20d64f98b8629f2616a433c2"
       ],
       "layout": "IPY_MODEL_8433ed68e4c04ccaab17e289ae1c5aff"
      }
     },
     "d59ad82866934ba1b615c3282e69cd45": {
      "model_module": "@jupyter-widgets/base",
      "model_module_version": "1.2.0",
      "model_name": "LayoutModel",
      "state": {
       "_model_module": "@jupyter-widgets/base",
       "_model_module_version": "1.2.0",
       "_model_name": "LayoutModel",
       "_view_count": null,
       "_view_module": "@jupyter-widgets/base",
       "_view_module_version": "1.2.0",
       "_view_name": "LayoutView",
       "align_content": null,
       "align_items": null,
       "align_self": null,
       "border": null,
       "bottom": null,
       "display": null,
       "flex": null,
       "flex_flow": null,
       "grid_area": null,
       "grid_auto_columns": null,
       "grid_auto_flow": null,
       "grid_auto_rows": null,
       "grid_column": null,
       "grid_gap": null,
       "grid_row": null,
       "grid_template_areas": null,
       "grid_template_columns": null,
       "grid_template_rows": null,
       "height": null,
       "justify_content": null,
       "justify_items": null,
       "left": null,
       "margin": null,
       "max_height": null,
       "max_width": null,
       "min_height": null,
       "min_width": null,
       "object_fit": null,
       "object_position": null,
       "order": null,
       "overflow": null,
       "overflow_x": null,
       "overflow_y": null,
       "padding": null,
       "right": null,
       "top": null,
       "visibility": null,
       "width": null
      }
     },
     "d80e0fbf277244b297a8e9d541594850": {
      "model_module": "@jupyter-widgets/controls",
      "model_module_version": "1.5.0",
      "model_name": "FloatProgressModel",
      "state": {
       "_dom_classes": [],
       "_model_module": "@jupyter-widgets/controls",
       "_model_module_version": "1.5.0",
       "_model_name": "FloatProgressModel",
       "_view_count": null,
       "_view_module": "@jupyter-widgets/controls",
       "_view_module_version": "1.5.0",
       "_view_name": "ProgressView",
       "bar_style": "success",
       "description": "",
       "description_tooltip": null,
       "layout": "IPY_MODEL_59479366849744739f2dab6d749cd5ea",
       "max": 528316.0,
       "min": 0.0,
       "orientation": "horizontal",
       "style": "IPY_MODEL_97c5617836d34758a2725c3fcd5e065c",
       "value": 528316.0
      }
     },
     "d9e807336c5044a795f30f3ceff83719": {
      "model_module": "@jupyter-widgets/base",
      "model_module_version": "1.2.0",
      "model_name": "LayoutModel",
      "state": {
       "_model_module": "@jupyter-widgets/base",
       "_model_module_version": "1.2.0",
       "_model_name": "LayoutModel",
       "_view_count": null,
       "_view_module": "@jupyter-widgets/base",
       "_view_module_version": "1.2.0",
       "_view_name": "LayoutView",
       "align_content": null,
       "align_items": null,
       "align_self": null,
       "border": null,
       "bottom": null,
       "display": null,
       "flex": null,
       "flex_flow": null,
       "grid_area": null,
       "grid_auto_columns": null,
       "grid_auto_flow": null,
       "grid_auto_rows": null,
       "grid_column": null,
       "grid_gap": null,
       "grid_row": null,
       "grid_template_areas": null,
       "grid_template_columns": null,
       "grid_template_rows": null,
       "height": null,
       "justify_content": null,
       "justify_items": null,
       "left": null,
       "margin": null,
       "max_height": null,
       "max_width": null,
       "min_height": null,
       "min_width": null,
       "object_fit": null,
       "object_position": null,
       "order": null,
       "overflow": null,
       "overflow_x": null,
       "overflow_y": null,
       "padding": null,
       "right": null,
       "top": null,
       "visibility": null,
       "width": null
      }
     },
     "de36c39992bd46738e55586e32a37aa3": {
      "model_module": "@jupyter-widgets/controls",
      "model_module_version": "1.5.0",
      "model_name": "FloatProgressModel",
      "state": {
       "_dom_classes": [],
       "_model_module": "@jupyter-widgets/controls",
       "_model_module_version": "1.5.0",
       "_model_name": "FloatProgressModel",
       "_view_count": null,
       "_view_module": "@jupyter-widgets/controls",
       "_view_module_version": "1.5.0",
       "_view_name": "ProgressView",
       "bar_style": "success",
       "description": "",
       "description_tooltip": null,
       "layout": "IPY_MODEL_815673f82e01482188273cfe6720f9af",
       "max": 112.0,
       "min": 0.0,
       "orientation": "horizontal",
       "style": "IPY_MODEL_e28842cdfe5849bb8bec3e5849a81368",
       "value": 112.0
      }
     },
     "e1b71385ad0c4dd39374ee4cef8f7208": {
      "model_module": "@jupyter-widgets/controls",
      "model_module_version": "1.5.0",
      "model_name": "ProgressStyleModel",
      "state": {
       "_model_module": "@jupyter-widgets/controls",
       "_model_module_version": "1.5.0",
       "_model_name": "ProgressStyleModel",
       "_view_count": null,
       "_view_module": "@jupyter-widgets/base",
       "_view_module_version": "1.2.0",
       "_view_name": "StyleView",
       "bar_color": null,
       "description_width": ""
      }
     },
     "e28842cdfe5849bb8bec3e5849a81368": {
      "model_module": "@jupyter-widgets/controls",
      "model_module_version": "1.5.0",
      "model_name": "ProgressStyleModel",
      "state": {
       "_model_module": "@jupyter-widgets/controls",
       "_model_module_version": "1.5.0",
       "_model_name": "ProgressStyleModel",
       "_view_count": null,
       "_view_module": "@jupyter-widgets/base",
       "_view_module_version": "1.2.0",
       "_view_name": "StyleView",
       "bar_color": null,
       "description_width": ""
      }
     },
     "e59623a38a494bc181fb9a42737b0d6e": {
      "model_module": "@jupyter-widgets/base",
      "model_module_version": "1.2.0",
      "model_name": "LayoutModel",
      "state": {
       "_model_module": "@jupyter-widgets/base",
       "_model_module_version": "1.2.0",
       "_model_name": "LayoutModel",
       "_view_count": null,
       "_view_module": "@jupyter-widgets/base",
       "_view_module_version": "1.2.0",
       "_view_name": "LayoutView",
       "align_content": null,
       "align_items": null,
       "align_self": null,
       "border": null,
       "bottom": null,
       "display": null,
       "flex": null,
       "flex_flow": null,
       "grid_area": null,
       "grid_auto_columns": null,
       "grid_auto_flow": null,
       "grid_auto_rows": null,
       "grid_column": null,
       "grid_gap": null,
       "grid_row": null,
       "grid_template_areas": null,
       "grid_template_columns": null,
       "grid_template_rows": null,
       "height": null,
       "justify_content": null,
       "justify_items": null,
       "left": null,
       "margin": null,
       "max_height": null,
       "max_width": null,
       "min_height": null,
       "min_width": null,
       "object_fit": null,
       "object_position": null,
       "order": null,
       "overflow": null,
       "overflow_x": null,
       "overflow_y": null,
       "padding": null,
       "right": null,
       "top": null,
       "visibility": null,
       "width": null
      }
     },
     "e8ca961bcc7b474b871767514e1452e3": {
      "model_module": "@jupyter-widgets/controls",
      "model_module_version": "1.5.0",
      "model_name": "DescriptionStyleModel",
      "state": {
       "_model_module": "@jupyter-widgets/controls",
       "_model_module_version": "1.5.0",
       "_model_name": "DescriptionStyleModel",
       "_view_count": null,
       "_view_module": "@jupyter-widgets/base",
       "_view_module_version": "1.2.0",
       "_view_name": "StyleView",
       "description_width": ""
      }
     },
     "f4ff56fc6f744a0db739960f32692352": {
      "model_module": "@jupyter-widgets/controls",
      "model_module_version": "1.5.0",
      "model_name": "DescriptionStyleModel",
      "state": {
       "_model_module": "@jupyter-widgets/controls",
       "_model_module_version": "1.5.0",
       "_model_name": "DescriptionStyleModel",
       "_view_count": null,
       "_view_module": "@jupyter-widgets/base",
       "_view_module_version": "1.2.0",
       "_view_name": "StyleView",
       "description_width": ""
      }
     },
     "f77f0097cef44147885a4ccc96ce55fa": {
      "model_module": "@jupyter-widgets/base",
      "model_module_version": "1.2.0",
      "model_name": "LayoutModel",
      "state": {
       "_model_module": "@jupyter-widgets/base",
       "_model_module_version": "1.2.0",
       "_model_name": "LayoutModel",
       "_view_count": null,
       "_view_module": "@jupyter-widgets/base",
       "_view_module_version": "1.2.0",
       "_view_name": "LayoutView",
       "align_content": null,
       "align_items": null,
       "align_self": null,
       "border": null,
       "bottom": null,
       "display": null,
       "flex": null,
       "flex_flow": null,
       "grid_area": null,
       "grid_auto_columns": null,
       "grid_auto_flow": null,
       "grid_auto_rows": null,
       "grid_column": null,
       "grid_gap": null,
       "grid_row": null,
       "grid_template_areas": null,
       "grid_template_columns": null,
       "grid_template_rows": null,
       "height": null,
       "justify_content": null,
       "justify_items": null,
       "left": null,
       "margin": null,
       "max_height": null,
       "max_width": null,
       "min_height": null,
       "min_width": null,
       "object_fit": null,
       "object_position": null,
       "order": null,
       "overflow": null,
       "overflow_x": null,
       "overflow_y": null,
       "padding": null,
       "right": null,
       "top": null,
       "visibility": null,
       "width": null
      }
     },
     "fd1c6c52b2bf4d6fa42bccbab5199949": {
      "model_module": "@jupyter-widgets/base",
      "model_module_version": "1.2.0",
      "model_name": "LayoutModel",
      "state": {
       "_model_module": "@jupyter-widgets/base",
       "_model_module_version": "1.2.0",
       "_model_name": "LayoutModel",
       "_view_count": null,
       "_view_module": "@jupyter-widgets/base",
       "_view_module_version": "1.2.0",
       "_view_name": "LayoutView",
       "align_content": null,
       "align_items": null,
       "align_self": null,
       "border": null,
       "bottom": null,
       "display": null,
       "flex": null,
       "flex_flow": null,
       "grid_area": null,
       "grid_auto_columns": null,
       "grid_auto_flow": null,
       "grid_auto_rows": null,
       "grid_column": null,
       "grid_gap": null,
       "grid_row": null,
       "grid_template_areas": null,
       "grid_template_columns": null,
       "grid_template_rows": null,
       "height": null,
       "justify_content": null,
       "justify_items": null,
       "left": null,
       "margin": null,
       "max_height": null,
       "max_width": null,
       "min_height": null,
       "min_width": null,
       "object_fit": null,
       "object_position": null,
       "order": null,
       "overflow": null,
       "overflow_x": null,
       "overflow_y": null,
       "padding": null,
       "right": null,
       "top": null,
       "visibility": null,
       "width": null
      }
     },
     "fdf0a307851f4783a928df9c083c9125": {
      "model_module": "@jupyter-widgets/controls",
      "model_module_version": "1.5.0",
      "model_name": "DescriptionStyleModel",
      "state": {
       "_model_module": "@jupyter-widgets/controls",
       "_model_module_version": "1.5.0",
       "_model_name": "DescriptionStyleModel",
       "_view_count": null,
       "_view_module": "@jupyter-widgets/base",
       "_view_module_version": "1.2.0",
       "_view_name": "StyleView",
       "description_width": ""
      }
     },
     "fec437cfe5be479186bc8ab2fbb91c38": {
      "model_module": "@jupyter-widgets/controls",
      "model_module_version": "1.5.0",
      "model_name": "DescriptionStyleModel",
      "state": {
       "_model_module": "@jupyter-widgets/controls",
       "_model_module_version": "1.5.0",
       "_model_name": "DescriptionStyleModel",
       "_view_count": null,
       "_view_module": "@jupyter-widgets/base",
       "_view_module_version": "1.2.0",
       "_view_name": "StyleView",
       "description_width": ""
      }
     }
    },
    "version_major": 2,
    "version_minor": 0
   }
  }
 },
 "nbformat": 4,
 "nbformat_minor": 5
}
