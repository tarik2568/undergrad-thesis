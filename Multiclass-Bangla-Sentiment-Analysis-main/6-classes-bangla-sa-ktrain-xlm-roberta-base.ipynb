{
 "cells": [
  {
   "cell_type": "code",
   "execution_count": 1,
   "id": "eb13a714",
   "metadata": {
    "_cell_guid": "b1076dfc-b9ad-4769-8c92-a6c4dae69d19",
    "_uuid": "8f2839f25d086af736a60e9eeb907d3b93b6e0e5",
    "execution": {
     "iopub.execute_input": "2022-04-18T16:48:39.674495Z",
     "iopub.status.busy": "2022-04-18T16:48:39.673710Z",
     "iopub.status.idle": "2022-04-18T16:48:51.943074Z",
     "shell.execute_reply": "2022-04-18T16:48:51.942266Z"
    },
    "papermill": {
     "duration": 12.297387,
     "end_time": "2022-04-18T16:48:51.945732",
     "exception": false,
     "start_time": "2022-04-18T16:48:39.648345",
     "status": "completed"
    },
    "tags": []
   },
   "outputs": [
    {
     "name": "stdout",
     "output_type": "stream",
     "text": [
      "Requirement already satisfied: transformers in /opt/conda/lib/python3.7/site-packages (4.17.0)\r\n",
      "Requirement already satisfied: regex!=2019.12.17 in /opt/conda/lib/python3.7/site-packages (from transformers) (2021.11.10)\r\n",
      "Requirement already satisfied: packaging>=20.0 in /opt/conda/lib/python3.7/site-packages (from transformers) (21.3)\r\n",
      "Requirement already satisfied: tqdm>=4.27 in /opt/conda/lib/python3.7/site-packages (from transformers) (4.63.0)\r\n",
      "Requirement already satisfied: requests in /opt/conda/lib/python3.7/site-packages (from transformers) (2.27.1)\r\n",
      "Requirement already satisfied: sacremoses in /opt/conda/lib/python3.7/site-packages (from transformers) (0.0.49)\r\n",
      "Requirement already satisfied: numpy>=1.17 in /opt/conda/lib/python3.7/site-packages (from transformers) (1.21.5)\r\n",
      "Requirement already satisfied: importlib-metadata in /opt/conda/lib/python3.7/site-packages (from transformers) (4.11.3)\r\n",
      "Requirement already satisfied: huggingface-hub<1.0,>=0.1.0 in /opt/conda/lib/python3.7/site-packages (from transformers) (0.5.1)\r\n",
      "Requirement already satisfied: filelock in /opt/conda/lib/python3.7/site-packages (from transformers) (3.6.0)\r\n",
      "Requirement already satisfied: pyyaml>=5.1 in /opt/conda/lib/python3.7/site-packages (from transformers) (6.0)\r\n",
      "Requirement already satisfied: tokenizers!=0.11.3,>=0.11.1 in /opt/conda/lib/python3.7/site-packages (from transformers) (0.11.6)\r\n",
      "Requirement already satisfied: typing-extensions>=3.7.4.3 in /opt/conda/lib/python3.7/site-packages (from huggingface-hub<1.0,>=0.1.0->transformers) (4.1.1)\r\n",
      "Requirement already satisfied: pyparsing!=3.0.5,>=2.0.2 in /opt/conda/lib/python3.7/site-packages (from packaging>=20.0->transformers) (3.0.7)\r\n",
      "Requirement already satisfied: zipp>=0.5 in /opt/conda/lib/python3.7/site-packages (from importlib-metadata->transformers) (3.7.0)\r\n",
      "Requirement already satisfied: certifi>=2017.4.17 in /opt/conda/lib/python3.7/site-packages (from requests->transformers) (2021.10.8)\r\n",
      "Requirement already satisfied: urllib3<1.27,>=1.21.1 in /opt/conda/lib/python3.7/site-packages (from requests->transformers) (1.26.8)\r\n",
      "Requirement already satisfied: charset-normalizer~=2.0.0 in /opt/conda/lib/python3.7/site-packages (from requests->transformers) (2.0.12)\r\n",
      "Requirement already satisfied: idna<4,>=2.5 in /opt/conda/lib/python3.7/site-packages (from requests->transformers) (3.3)\r\n",
      "Requirement already satisfied: joblib in /opt/conda/lib/python3.7/site-packages (from sacremoses->transformers) (1.0.1)\r\n",
      "Requirement already satisfied: six in /opt/conda/lib/python3.7/site-packages (from sacremoses->transformers) (1.16.0)\r\n",
      "Requirement already satisfied: click in /opt/conda/lib/python3.7/site-packages (from sacremoses->transformers) (8.0.4)\r\n",
      "\u001b[33mWARNING: Running pip as the 'root' user can result in broken permissions and conflicting behaviour with the system package manager. It is recommended to use a virtual environment instead: https://pip.pypa.io/warnings/venv\u001b[0m\u001b[33m\r\n",
      "\u001b[0m"
     ]
    }
   ],
   "source": [
    " !pip install transformers"
   ]
  },
  {
   "cell_type": "code",
   "execution_count": 2,
   "id": "14f010b3",
   "metadata": {
    "execution": {
     "iopub.execute_input": "2022-04-18T16:48:51.998277Z",
     "iopub.status.busy": "2022-04-18T16:48:51.997978Z",
     "iopub.status.idle": "2022-04-18T16:48:52.002332Z",
     "shell.execute_reply": "2022-04-18T16:48:52.001636Z"
    },
    "papermill": {
     "duration": 0.032968,
     "end_time": "2022-04-18T16:48:52.004163",
     "exception": false,
     "start_time": "2022-04-18T16:48:51.971195",
     "status": "completed"
    },
    "tags": []
   },
   "outputs": [],
   "source": [
    "import os\n",
    "import pandas as pd\n",
    "import numpy as np"
   ]
  },
  {
   "cell_type": "code",
   "execution_count": 3,
   "id": "2f3f4b8c",
   "metadata": {
    "execution": {
     "iopub.execute_input": "2022-04-18T16:48:52.055409Z",
     "iopub.status.busy": "2022-04-18T16:48:52.054817Z",
     "iopub.status.idle": "2022-04-18T16:49:04.974028Z",
     "shell.execute_reply": "2022-04-18T16:49:04.972893Z"
    },
    "papermill": {
     "duration": 12.947562,
     "end_time": "2022-04-18T16:49:04.976538",
     "exception": false,
     "start_time": "2022-04-18T16:48:52.028976",
     "status": "completed"
    },
    "tags": []
   },
   "outputs": [
    {
     "name": "stdout",
     "output_type": "stream",
     "text": [
      "Collecting openpyxl\r\n",
      "  Downloading openpyxl-3.0.9-py2.py3-none-any.whl (242 kB)\r\n",
      "\u001b[2K     \u001b[90m━━━━━━━━━━━━━━━━━━━━━━━━━━━━━━━━━━━━━\u001b[0m \u001b[32m242.2/242.2 KB\u001b[0m \u001b[31m521.1 kB/s\u001b[0m eta \u001b[36m0:00:00\u001b[0m\r\n",
      "\u001b[?25hCollecting et-xmlfile\r\n",
      "  Downloading et_xmlfile-1.1.0-py3-none-any.whl (4.7 kB)\r\n",
      "Installing collected packages: et-xmlfile, openpyxl\r\n",
      "Successfully installed et-xmlfile-1.1.0 openpyxl-3.0.9\r\n",
      "\u001b[33mWARNING: Running pip as the 'root' user can result in broken permissions and conflicting behaviour with the system package manager. It is recommended to use a virtual environment instead: https://pip.pypa.io/warnings/venv\u001b[0m\u001b[33m\r\n",
      "\u001b[0mNote: you may need to restart the kernel to use updated packages.\n"
     ]
    }
   ],
   "source": [
    "pip install openpyxl"
   ]
  },
  {
   "cell_type": "code",
   "execution_count": 4,
   "id": "c911b594",
   "metadata": {
    "execution": {
     "iopub.execute_input": "2022-04-18T16:49:05.040534Z",
     "iopub.status.busy": "2022-04-18T16:49:05.040248Z",
     "iopub.status.idle": "2022-04-18T16:49:05.061086Z",
     "shell.execute_reply": "2022-04-18T16:49:05.060122Z"
    },
    "papermill": {
     "duration": 0.056052,
     "end_time": "2022-04-18T16:49:05.063320",
     "exception": false,
     "start_time": "2022-04-18T16:49:05.007268",
     "status": "completed"
    },
    "tags": []
   },
   "outputs": [
    {
     "name": "stdout",
     "output_type": "stream",
     "text": [
      "/kaggle/input/6-class-bert-preprocessed-dataset/Bert_Preprocessed_Dataset.xlsx\n"
     ]
    }
   ],
   "source": [
    "for dirname, _, filenames in os.walk('/kaggle/input'):\n",
    "    for filename in filenames:\n",
    "        print(os.path.join(dirname, filename))"
   ]
  },
  {
   "cell_type": "code",
   "execution_count": 5,
   "id": "c78f7c72",
   "metadata": {
    "execution": {
     "iopub.execute_input": "2022-04-18T16:49:05.127780Z",
     "iopub.status.busy": "2022-04-18T16:49:05.127466Z",
     "iopub.status.idle": "2022-04-18T16:49:07.090631Z",
     "shell.execute_reply": "2022-04-18T16:49:07.089361Z"
    },
    "papermill": {
     "duration": 1.998474,
     "end_time": "2022-04-18T16:49:07.093322",
     "exception": false,
     "start_time": "2022-04-18T16:49:05.094848",
     "status": "completed"
    },
    "tags": []
   },
   "outputs": [
    {
     "name": "stdout",
     "output_type": "stream",
     "text": [
      "<class 'pandas.core.frame.DataFrame'>\n",
      "RangeIndex: 6405 entries, 0 to 6404\n",
      "Data columns (total 7 columns):\n",
      " #   Column      Non-Null Count  Dtype \n",
      "---  ------      --------------  ----- \n",
      " 0   Unnamed: 0  6405 non-null   int64 \n",
      " 1   ID          6404 non-null   object\n",
      " 2   Text        6404 non-null   object\n",
      " 3   Sentiment   6405 non-null   object\n",
      " 4   Label       6405 non-null   int64 \n",
      " 5   Token       6405 non-null   object\n",
      " 6   Token_ID    6405 non-null   object\n",
      "dtypes: int64(2), object(5)\n",
      "memory usage: 350.4+ KB\n"
     ]
    }
   ],
   "source": [
    "df=pd.read_excel('/kaggle/input/6-class-bert-preprocessed-dataset/Bert_Preprocessed_Dataset.xlsx')\n",
    "df.info()"
   ]
  },
  {
   "cell_type": "code",
   "execution_count": 6,
   "id": "5c531ed9",
   "metadata": {
    "execution": {
     "iopub.execute_input": "2022-04-18T16:49:07.158370Z",
     "iopub.status.busy": "2022-04-18T16:49:07.158078Z",
     "iopub.status.idle": "2022-04-18T16:50:02.855301Z",
     "shell.execute_reply": "2022-04-18T16:50:02.853080Z"
    },
    "papermill": {
     "duration": 55.733194,
     "end_time": "2022-04-18T16:50:02.858261",
     "exception": false,
     "start_time": "2022-04-18T16:49:07.125067",
     "status": "completed"
    },
    "tags": []
   },
   "outputs": [
    {
     "name": "stdout",
     "output_type": "stream",
     "text": [
      "Collecting ktrain\r\n",
      "  Downloading ktrain-0.30.0.tar.gz (25.3 MB)\r\n",
      "\u001b[2K     \u001b[90m━━━━━━━━━━━━━━━━━━━━━━━━━━━━━━━━━━━━━━━━\u001b[0m \u001b[32m25.3/25.3 MB\u001b[0m \u001b[31m12.0 MB/s\u001b[0m eta \u001b[36m0:00:00\u001b[0m\r\n",
      "\u001b[?25h  Preparing metadata (setup.py) ... \u001b[?25l-\b \bdone\r\n",
      "\u001b[?25hCollecting scikit-learn==0.24.2\r\n",
      "  Downloading scikit_learn-0.24.2-cp37-cp37m-manylinux2010_x86_64.whl (22.3 MB)\r\n",
      "\u001b[2K     \u001b[90m━━━━━━━━━━━━━━━━━━━━━━━━━━━━━━━━━━━━━━━━\u001b[0m \u001b[32m22.3/22.3 MB\u001b[0m \u001b[31m10.7 MB/s\u001b[0m eta \u001b[36m0:00:00\u001b[0m\r\n",
      "\u001b[?25hRequirement already satisfied: matplotlib>=3.0.0 in /opt/conda/lib/python3.7/site-packages (from ktrain) (3.5.1)\r\n",
      "Requirement already satisfied: pandas>=1.0.1 in /opt/conda/lib/python3.7/site-packages (from ktrain) (1.3.5)\r\n",
      "Requirement already satisfied: fastprogress>=0.1.21 in /opt/conda/lib/python3.7/site-packages (from ktrain) (1.0.2)\r\n",
      "Requirement already satisfied: requests in /opt/conda/lib/python3.7/site-packages (from ktrain) (2.27.1)\r\n",
      "Requirement already satisfied: joblib in /opt/conda/lib/python3.7/site-packages (from ktrain) (1.0.1)\r\n",
      "Requirement already satisfied: packaging in /opt/conda/lib/python3.7/site-packages (from ktrain) (21.3)\r\n",
      "Collecting langdetect\r\n",
      "  Downloading langdetect-1.0.9.tar.gz (981 kB)\r\n",
      "\u001b[2K     \u001b[90m━━━━━━━━━━━━━━━━━━━━━━━━━━━━━━━━━━━━━━\u001b[0m \u001b[32m981.5/981.5 KB\u001b[0m \u001b[31m34.9 MB/s\u001b[0m eta \u001b[36m0:00:00\u001b[0m\r\n",
      "\u001b[?25h  Preparing metadata (setup.py) ... \u001b[?25l-\b \bdone\r\n",
      "\u001b[?25hRequirement already satisfied: jieba in /opt/conda/lib/python3.7/site-packages (from ktrain) (0.42.1)\r\n",
      "Collecting cchardet\r\n",
      "  Downloading cchardet-2.1.7-cp37-cp37m-manylinux2010_x86_64.whl (263 kB)\r\n",
      "\u001b[2K     \u001b[90m━━━━━━━━━━━━━━━━━━━━━━━━━━━━━━━━━━━━━━\u001b[0m \u001b[32m263.7/263.7 KB\u001b[0m \u001b[31m14.4 MB/s\u001b[0m eta \u001b[36m0:00:00\u001b[0m\r\n",
      "\u001b[?25hRequirement already satisfied: chardet in /opt/conda/lib/python3.7/site-packages (from ktrain) (4.0.0)\r\n",
      "Collecting syntok==1.3.3\r\n",
      "  Downloading syntok-1.3.3-py3-none-any.whl (22 kB)\r\n",
      "Collecting transformers==4.10.3\r\n",
      "  Downloading transformers-4.10.3-py3-none-any.whl (2.8 MB)\r\n",
      "\u001b[2K     \u001b[90m━━━━━━━━━━━━━━━━━━━━━━━━━━━━━━━━━━━━━━━━\u001b[0m \u001b[32m2.8/2.8 MB\u001b[0m \u001b[31m42.0 MB/s\u001b[0m eta \u001b[36m0:00:00\u001b[0m\r\n",
      "\u001b[?25hRequirement already satisfied: sentencepiece in /opt/conda/lib/python3.7/site-packages (from ktrain) (0.1.96)\r\n",
      "Collecting keras_bert>=0.86.0\r\n",
      "  Downloading keras-bert-0.89.0.tar.gz (25 kB)\r\n",
      "  Preparing metadata (setup.py) ... \u001b[?25l-\b \bdone\r\n",
      "\u001b[?25hCollecting whoosh\r\n",
      "  Downloading Whoosh-2.7.4-py2.py3-none-any.whl (468 kB)\r\n",
      "\u001b[2K     \u001b[90m━━━━━━━━━━━━━━━━━━━━━━━━━━━━━━━━━━━━━━\u001b[0m \u001b[32m468.8/468.8 KB\u001b[0m \u001b[31m26.6 MB/s\u001b[0m eta \u001b[36m0:00:00\u001b[0m\r\n",
      "\u001b[?25hRequirement already satisfied: numpy>=1.13.3 in /opt/conda/lib/python3.7/site-packages (from scikit-learn==0.24.2->ktrain) (1.21.5)\r\n",
      "Requirement already satisfied: threadpoolctl>=2.0.0 in /opt/conda/lib/python3.7/site-packages (from scikit-learn==0.24.2->ktrain) (3.1.0)\r\n",
      "Requirement already satisfied: scipy>=0.19.1 in /opt/conda/lib/python3.7/site-packages (from scikit-learn==0.24.2->ktrain) (1.7.3)\r\n",
      "Requirement already satisfied: regex in /opt/conda/lib/python3.7/site-packages (from syntok==1.3.3->ktrain) (2021.11.10)\r\n",
      "Requirement already satisfied: pyyaml>=5.1 in /opt/conda/lib/python3.7/site-packages (from transformers==4.10.3->ktrain) (6.0)\r\n",
      "Requirement already satisfied: filelock in /opt/conda/lib/python3.7/site-packages (from transformers==4.10.3->ktrain) (3.6.0)\r\n",
      "Requirement already satisfied: tqdm>=4.27 in /opt/conda/lib/python3.7/site-packages (from transformers==4.10.3->ktrain) (4.63.0)\r\n",
      "Requirement already satisfied: sacremoses in /opt/conda/lib/python3.7/site-packages (from transformers==4.10.3->ktrain) (0.0.49)\r\n",
      "Requirement already satisfied: importlib-metadata in /opt/conda/lib/python3.7/site-packages (from transformers==4.10.3->ktrain) (4.11.3)\r\n",
      "Requirement already satisfied: huggingface-hub>=0.0.12 in /opt/conda/lib/python3.7/site-packages (from transformers==4.10.3->ktrain) (0.5.1)\r\n",
      "Collecting tokenizers<0.11,>=0.10.1\r\n",
      "  Downloading tokenizers-0.10.3-cp37-cp37m-manylinux_2_5_x86_64.manylinux1_x86_64.manylinux_2_12_x86_64.manylinux2010_x86_64.whl (3.3 MB)\r\n",
      "\u001b[2K     \u001b[90m━━━━━━━━━━━━━━━━━━━━━━━━━━━━━━━━━━━━━━━━\u001b[0m \u001b[32m3.3/3.3 MB\u001b[0m \u001b[31m14.1 MB/s\u001b[0m eta \u001b[36m0:00:00\u001b[0m\r\n",
      "\u001b[?25hCollecting keras-transformer==0.40.0\r\n",
      "  Downloading keras-transformer-0.40.0.tar.gz (9.7 kB)\r\n",
      "  Preparing metadata (setup.py) ... \u001b[?25l-\b \bdone\r\n",
      "\u001b[?25hCollecting keras-pos-embd==0.13.0\r\n",
      "  Downloading keras-pos-embd-0.13.0.tar.gz (5.6 kB)\r\n",
      "  Preparing metadata (setup.py) ... \u001b[?25l-\b \bdone\r\n",
      "\u001b[?25hCollecting keras-multi-head==0.29.0\r\n",
      "  Downloading keras-multi-head-0.29.0.tar.gz (13 kB)\r\n",
      "  Preparing metadata (setup.py) ... \u001b[?25l-\b \bdone\r\n",
      "\u001b[?25hCollecting keras-layer-normalization==0.16.0\r\n",
      "  Downloading keras-layer-normalization-0.16.0.tar.gz (3.9 kB)\r\n",
      "  Preparing metadata (setup.py) ... \u001b[?25l-\b \bdone\r\n",
      "\u001b[?25hCollecting keras-position-wise-feed-forward==0.8.0\r\n",
      "  Downloading keras-position-wise-feed-forward-0.8.0.tar.gz (4.1 kB)\r\n",
      "  Preparing metadata (setup.py) ... \u001b[?25l-\b \bdone\r\n",
      "\u001b[?25hCollecting keras-embed-sim==0.10.0\r\n",
      "  Downloading keras-embed-sim-0.10.0.tar.gz (3.6 kB)\r\n",
      "  Preparing metadata (setup.py) ... \u001b[?25l-\b \bdone\r\n",
      "\u001b[?25hCollecting keras-self-attention==0.51.0\r\n",
      "  Downloading keras-self-attention-0.51.0.tar.gz (11 kB)\r\n",
      "  Preparing metadata (setup.py) ... \u001b[?25l-\b \bdone\r\n",
      "\u001b[?25hRequirement already satisfied: kiwisolver>=1.0.1 in /opt/conda/lib/python3.7/site-packages (from matplotlib>=3.0.0->ktrain) (1.4.0)\r\n",
      "Requirement already satisfied: fonttools>=4.22.0 in /opt/conda/lib/python3.7/site-packages (from matplotlib>=3.0.0->ktrain) (4.30.0)\r\n",
      "Requirement already satisfied: python-dateutil>=2.7 in /opt/conda/lib/python3.7/site-packages (from matplotlib>=3.0.0->ktrain) (2.8.2)\r\n",
      "Requirement already satisfied: cycler>=0.10 in /opt/conda/lib/python3.7/site-packages (from matplotlib>=3.0.0->ktrain) (0.11.0)\r\n",
      "Requirement already satisfied: pillow>=6.2.0 in /opt/conda/lib/python3.7/site-packages (from matplotlib>=3.0.0->ktrain) (9.0.1)\r\n",
      "Requirement already satisfied: pyparsing>=2.2.1 in /opt/conda/lib/python3.7/site-packages (from matplotlib>=3.0.0->ktrain) (3.0.7)\r\n",
      "Requirement already satisfied: pytz>=2017.3 in /opt/conda/lib/python3.7/site-packages (from pandas>=1.0.1->ktrain) (2021.3)\r\n",
      "Requirement already satisfied: six in /opt/conda/lib/python3.7/site-packages (from langdetect->ktrain) (1.16.0)\r\n",
      "Requirement already satisfied: urllib3<1.27,>=1.21.1 in /opt/conda/lib/python3.7/site-packages (from requests->ktrain) (1.26.8)\r\n",
      "Requirement already satisfied: certifi>=2017.4.17 in /opt/conda/lib/python3.7/site-packages (from requests->ktrain) (2021.10.8)\r\n",
      "Requirement already satisfied: charset-normalizer~=2.0.0 in /opt/conda/lib/python3.7/site-packages (from requests->ktrain) (2.0.12)\r\n",
      "Requirement already satisfied: idna<4,>=2.5 in /opt/conda/lib/python3.7/site-packages (from requests->ktrain) (3.3)\r\n",
      "Requirement already satisfied: typing-extensions>=3.7.4.3 in /opt/conda/lib/python3.7/site-packages (from huggingface-hub>=0.0.12->transformers==4.10.3->ktrain) (4.1.1)\r\n",
      "Requirement already satisfied: zipp>=0.5 in /opt/conda/lib/python3.7/site-packages (from importlib-metadata->transformers==4.10.3->ktrain) (3.7.0)\r\n",
      "Requirement already satisfied: click in /opt/conda/lib/python3.7/site-packages (from sacremoses->transformers==4.10.3->ktrain) (8.0.4)\r\n",
      "Building wheels for collected packages: ktrain, keras_bert, keras-transformer, keras-embed-sim, keras-layer-normalization, keras-multi-head, keras-pos-embd, keras-position-wise-feed-forward, keras-self-attention, langdetect\r\n",
      "  Building wheel for ktrain (setup.py) ... \u001b[?25l-\b \b\\\b \b|\b \b/\b \b-\b \b\\\b \b|\b \b/\b \bdone\r\n",
      "\u001b[?25h  Created wheel for ktrain: filename=ktrain-0.30.0-py3-none-any.whl size=25309161 sha256=31e09f56899a1bd3112956c32c2d7ddac6e6875b8f329f963bc5bae387d79ed2\r\n",
      "  Stored in directory: /root/.cache/pip/wheels/25/00/ae/80d1b19dd02bc2e6bc9bac32ba7dbaa59aad789e93274e4868\r\n",
      "  Building wheel for keras_bert (setup.py) ... \u001b[?25l-\b \b\\\b \bdone\r\n",
      "\u001b[?25h  Created wheel for keras_bert: filename=keras_bert-0.89.0-py3-none-any.whl size=33517 sha256=cae869d12fbb73c92aa99c558c42bd4d6fcff1f420dfa5589edeb4b3b4924e0d\r\n",
      "  Stored in directory: /root/.cache/pip/wheels/a4/e8/45/842b3a39831261aef9154b907eacbc4ac99499a99ae829b06f\r\n",
      "  Building wheel for keras-transformer (setup.py) ... \u001b[?25l-\b \b\\\b \bdone\r\n",
      "\u001b[?25h  Created wheel for keras-transformer: filename=keras_transformer-0.40.0-py3-none-any.whl size=12305 sha256=d2c7edf1a681930c4f668044caacc11a125c073161b706464339d88ee00350c9\r\n",
      "  Stored in directory: /root/.cache/pip/wheels/46/68/26/692ed21edd832833c3b0a0e21615bcacd99ca458b3f9ed571f\r\n",
      "  Building wheel for keras-embed-sim (setup.py) ... \u001b[?25l-\b \b\\\b \bdone\r\n",
      "\u001b[?25h  Created wheel for keras-embed-sim: filename=keras_embed_sim-0.10.0-py3-none-any.whl size=3960 sha256=4d4cc85f8844a1475a669123d7a18d75dbe38ff1a0c9a62dcc2fbc76351b2f7c\r\n",
      "  Stored in directory: /root/.cache/pip/wheels/81/67/b5/d847588d075895281e1cf5590f819bd4cf076a554872268bd5\r\n",
      "  Building wheel for keras-layer-normalization (setup.py) ... \u001b[?25l-\b \b\\\b \bdone\r\n",
      "\u001b[?25h  Created wheel for keras-layer-normalization: filename=keras_layer_normalization-0.16.0-py3-none-any.whl size=4668 sha256=2bb5414822488afc82ae93502ed29f0dd8297a99b6bc81d5a21c4b4abf5f4b71\r\n",
      "  Stored in directory: /root/.cache/pip/wheels/85/5d/1c/2e619f594f69fbcf8bc20943b27d414871c409be053994813e\r\n",
      "  Building wheel for keras-multi-head (setup.py) ... \u001b[?25l-\b \b\\\b \bdone\r\n",
      "\u001b[?25h  Created wheel for keras-multi-head: filename=keras_multi_head-0.29.0-py3-none-any.whl size=14993 sha256=a572a3440fbdac5eb7fdf5102669ba1dece8e416f60ea14eabeef563087d7464\r\n",
      "  Stored in directory: /root/.cache/pip/wheels/86/aa/3c/9d15d24005179dae08ff291ce99c754b296347817d076fd9fb\r\n",
      "  Building wheel for keras-pos-embd (setup.py) ... \u001b[?25l-\b \b\\\b \bdone\r\n",
      "\u001b[?25h  Created wheel for keras-pos-embd: filename=keras_pos_embd-0.13.0-py3-none-any.whl size=6962 sha256=98f2d9215194c88564d1a472719e68f6a09cbde63a86d3633f9b9ec69d8b2220\r\n",
      "  Stored in directory: /root/.cache/pip/wheels/8d/c1/a0/dc44fcf68c857b7ff6be9a97e675e5adf51022eff1169b042f\r\n",
      "  Building wheel for keras-position-wise-feed-forward (setup.py) ... \u001b[?25l-\b \b\\\b \bdone\r\n",
      "\u001b[?25h  Created wheel for keras-position-wise-feed-forward: filename=keras_position_wise_feed_forward-0.8.0-py3-none-any.whl size=4983 sha256=69d0abded4cb0cb3cbb5c2c1945815f8ce959bbcf29ddfe0d7e8330c531c7a11\r\n",
      "  Stored in directory: /root/.cache/pip/wheels/c2/75/6f/d42f6e051506f442daeba53ff1e2d21a5f20ef8c411610f2bb\r\n",
      "  Building wheel for keras-self-attention (setup.py) ... \u001b[?25l-\b \b\\\b \bdone\r\n",
      "\u001b[?25h  Created wheel for keras-self-attention: filename=keras_self_attention-0.51.0-py3-none-any.whl size=18912 sha256=ac19083ed7bdb51e8f0f9b0eb2bd9ea84f1a5b5881fc0d536f9f5e300a1532fc\r\n",
      "  Stored in directory: /root/.cache/pip/wheels/95/b1/a8/5ee00cc137940b2f6fa198212e8f45d813d0e0d9c3a04035a3\r\n",
      "  Building wheel for langdetect (setup.py) ... \u001b[?25l-\b \b\\\b \b|\b \b/\b \bdone\r\n",
      "\u001b[?25h  Created wheel for langdetect: filename=langdetect-1.0.9-py3-none-any.whl size=993242 sha256=5e5a8989cdac15286b87bf5e48a32c61c482a9604d8fb536acf18f0043bb521b\r\n",
      "  Stored in directory: /root/.cache/pip/wheels/c5/96/8a/f90c59ed25d75e50a8c10a1b1c2d4c402e4dacfa87f3aff36a\r\n",
      "Successfully built ktrain keras_bert keras-transformer keras-embed-sim keras-layer-normalization keras-multi-head keras-pos-embd keras-position-wise-feed-forward keras-self-attention langdetect\r\n",
      "Installing collected packages: whoosh, tokenizers, cchardet, syntok, langdetect, keras-self-attention, keras-position-wise-feed-forward, keras-pos-embd, keras-layer-normalization, keras-embed-sim, scikit-learn, keras-multi-head, keras-transformer, transformers, keras_bert, ktrain\r\n",
      "  Attempting uninstall: tokenizers\r\n",
      "    Found existing installation: tokenizers 0.11.6\r\n",
      "    Uninstalling tokenizers-0.11.6:\r\n",
      "      Successfully uninstalled tokenizers-0.11.6\r\n",
      "  Attempting uninstall: scikit-learn\r\n",
      "    Found existing installation: scikit-learn 1.0.2\r\n",
      "    Uninstalling scikit-learn-1.0.2:\r\n",
      "      Successfully uninstalled scikit-learn-1.0.2\r\n",
      "  Attempting uninstall: transformers\r\n",
      "    Found existing installation: transformers 4.17.0\r\n",
      "    Uninstalling transformers-4.17.0:\r\n",
      "      Successfully uninstalled transformers-4.17.0\r\n",
      "\u001b[31mERROR: pip's dependency resolver does not currently take into account all the packages that are installed. This behaviour is the source of the following dependency conflicts.\r\n",
      "yellowbrick 1.4 requires scikit-learn>=1.0.0, but you have scikit-learn 0.24.2 which is incompatible.\r\n",
      "pdpbox 0.2.1 requires matplotlib==3.1.1, but you have matplotlib 3.5.1 which is incompatible.\r\n",
      "imbalanced-learn 0.9.0 requires scikit-learn>=1.0.1, but you have scikit-learn 0.24.2 which is incompatible.\u001b[0m\u001b[31m\r\n",
      "\u001b[0mSuccessfully installed cchardet-2.1.7 keras-embed-sim-0.10.0 keras-layer-normalization-0.16.0 keras-multi-head-0.29.0 keras-pos-embd-0.13.0 keras-position-wise-feed-forward-0.8.0 keras-self-attention-0.51.0 keras-transformer-0.40.0 keras_bert-0.89.0 ktrain-0.30.0 langdetect-1.0.9 scikit-learn-0.24.2 syntok-1.3.3 tokenizers-0.10.3 transformers-4.10.3 whoosh-2.7.4\r\n",
      "\u001b[33mWARNING: Running pip as the 'root' user can result in broken permissions and conflicting behaviour with the system package manager. It is recommended to use a virtual environment instead: https://pip.pypa.io/warnings/venv\u001b[0m\u001b[33m\r\n",
      "\u001b[0mNote: you may need to restart the kernel to use updated packages.\n"
     ]
    }
   ],
   "source": [
    "pip install ktrain"
   ]
  },
  {
   "cell_type": "code",
   "execution_count": 7,
   "id": "c3bdac17",
   "metadata": {
    "execution": {
     "iopub.execute_input": "2022-04-18T16:50:03.084523Z",
     "iopub.status.busy": "2022-04-18T16:50:03.084147Z",
     "iopub.status.idle": "2022-04-18T16:50:03.141493Z",
     "shell.execute_reply": "2022-04-18T16:50:03.140433Z"
    },
    "papermill": {
     "duration": 0.174906,
     "end_time": "2022-04-18T16:50:03.143930",
     "exception": false,
     "start_time": "2022-04-18T16:50:02.969024",
     "status": "completed"
    },
    "tags": []
   },
   "outputs": [],
   "source": [
    "%reload_ext autoreload\n",
    "%autoreload 2\n",
    "%matplotlib inline\n",
    "import os\n",
    "os.environ[\"CUDA_DEVICE_ORDER\"] = \"PCI_BUS_ID\"\n",
    "os.environ[\"CUDA_VISIBLE_DEVICES\"] = \"0\" "
   ]
  },
  {
   "cell_type": "code",
   "execution_count": 8,
   "id": "b018c282",
   "metadata": {
    "execution": {
     "iopub.execute_input": "2022-04-18T16:50:03.367662Z",
     "iopub.status.busy": "2022-04-18T16:50:03.366896Z",
     "iopub.status.idle": "2022-04-18T16:50:12.489785Z",
     "shell.execute_reply": "2022-04-18T16:50:12.488583Z"
    },
    "papermill": {
     "duration": 9.236884,
     "end_time": "2022-04-18T16:50:12.492326",
     "exception": false,
     "start_time": "2022-04-18T16:50:03.255442",
     "status": "completed"
    },
    "tags": []
   },
   "outputs": [],
   "source": [
    "import ktrain\n",
    "from ktrain import text"
   ]
  },
  {
   "cell_type": "code",
   "execution_count": 9,
   "id": "4224f1ab",
   "metadata": {
    "execution": {
     "iopub.execute_input": "2022-04-18T16:50:12.716027Z",
     "iopub.status.busy": "2022-04-18T16:50:12.715708Z",
     "iopub.status.idle": "2022-04-18T16:50:12.797377Z",
     "shell.execute_reply": "2022-04-18T16:50:12.796340Z"
    },
    "papermill": {
     "duration": 0.198978,
     "end_time": "2022-04-18T16:50:12.799952",
     "exception": false,
     "start_time": "2022-04-18T16:50:12.600974",
     "status": "completed"
    },
    "tags": []
   },
   "outputs": [],
   "source": [
    "train=df[:int(.8*len(df))]\n",
    "test=df[int(.8*len(df)):int(.9*len(df))]\n",
    "validation=df[int(.9*len(df)):]\n",
    "x_train=train['Text'].tolist()\n",
    "y_train=train['Label'].tolist()\n",
    "x_validation=validation['Text'].tolist()\n",
    "y_validation=validation['Label'].tolist()\n",
    "x_test=test['Text'].tolist()\n",
    "y_test=test['Sentiment'].tolist()"
   ]
  },
  {
   "cell_type": "code",
   "execution_count": 10,
   "id": "7501fd37",
   "metadata": {
    "execution": {
     "iopub.execute_input": "2022-04-18T16:50:13.022167Z",
     "iopub.status.busy": "2022-04-18T16:50:13.021868Z",
     "iopub.status.idle": "2022-04-18T16:50:13.158869Z",
     "shell.execute_reply": "2022-04-18T16:50:13.157848Z"
    },
    "papermill": {
     "duration": 0.250349,
     "end_time": "2022-04-18T16:50:13.161458",
     "exception": false,
     "start_time": "2022-04-18T16:50:12.911109",
     "status": "completed"
    },
    "tags": []
   },
   "outputs": [],
   "source": [
    "x_train= np.array(x_train)\n",
    "x_validation= np.array(x_validation)\n",
    "x_test= np.array(x_test)\n"
   ]
  },
  {
   "cell_type": "code",
   "execution_count": 11,
   "id": "765b1ef1",
   "metadata": {
    "execution": {
     "iopub.execute_input": "2022-04-18T16:50:13.387846Z",
     "iopub.status.busy": "2022-04-18T16:50:13.387498Z",
     "iopub.status.idle": "2022-04-18T16:50:13.465037Z",
     "shell.execute_reply": "2022-04-18T16:50:13.463928Z"
    },
    "papermill": {
     "duration": 0.194792,
     "end_time": "2022-04-18T16:50:13.467481",
     "exception": false,
     "start_time": "2022-04-18T16:50:13.272689",
     "status": "completed"
    },
    "tags": []
   },
   "outputs": [],
   "source": [
    "categories = ['angry','disgust','fear','happy','sad','surpise']"
   ]
  },
  {
   "cell_type": "code",
   "execution_count": 12,
   "id": "84d642fc",
   "metadata": {
    "execution": {
     "iopub.execute_input": "2022-04-18T16:50:13.684434Z",
     "iopub.status.busy": "2022-04-18T16:50:13.684143Z",
     "iopub.status.idle": "2022-04-18T16:50:15.678902Z",
     "shell.execute_reply": "2022-04-18T16:50:15.677772Z"
    },
    "papermill": {
     "duration": 2.105805,
     "end_time": "2022-04-18T16:50:15.681113",
     "exception": false,
     "start_time": "2022-04-18T16:50:13.575308",
     "status": "completed"
    },
    "tags": []
   },
   "outputs": [
    {
     "data": {
      "application/vnd.jupyter.widget-view+json": {
       "model_id": "8da44972647d409799b1d4ae6509bfec",
       "version_major": 2,
       "version_minor": 0
      },
      "text/plain": [
       "Downloading:   0%|          | 0.00/615 [00:00<?, ?B/s]"
      ]
     },
     "metadata": {},
     "output_type": "display_data"
    }
   ],
   "source": [
    "model_name = 'xlm-roberta-base'\n",
    "trans = text.Transformer(model_name,maxlen=50,class_names=categories)"
   ]
  },
  {
   "cell_type": "code",
   "execution_count": 13,
   "id": "eea71002",
   "metadata": {
    "execution": {
     "iopub.execute_input": "2022-04-18T16:50:15.902539Z",
     "iopub.status.busy": "2022-04-18T16:50:15.902240Z",
     "iopub.status.idle": "2022-04-18T16:50:34.033715Z",
     "shell.execute_reply": "2022-04-18T16:50:34.032789Z"
    },
    "papermill": {
     "duration": 18.243977,
     "end_time": "2022-04-18T16:50:34.036296",
     "exception": false,
     "start_time": "2022-04-18T16:50:15.792319",
     "status": "completed"
    },
    "tags": []
   },
   "outputs": [
    {
     "name": "stdout",
     "output_type": "stream",
     "text": [
      "preprocessing train...\n",
      "language: bn\n",
      "train sequence lengths:\n",
      "\tmean : 16\n",
      "\t95percentile : 44\n",
      "\t99percentile : 102\n"
     ]
    },
    {
     "data": {
      "application/vnd.jupyter.widget-view+json": {
       "model_id": "6ed91356b46a4fa3ab940158e9444f14",
       "version_major": 2,
       "version_minor": 0
      },
      "text/plain": [
       "Downloading:   0%|          | 0.00/512 [00:00<?, ?B/s]"
      ]
     },
     "metadata": {},
     "output_type": "display_data"
    },
    {
     "data": {
      "application/vnd.jupyter.widget-view+json": {
       "model_id": "9f3093695f00440897a08ca01ee4cae4",
       "version_major": 2,
       "version_minor": 0
      },
      "text/plain": [
       "Downloading:   0%|          | 0.00/5.07M [00:00<?, ?B/s]"
      ]
     },
     "metadata": {},
     "output_type": "display_data"
    },
    {
     "data": {
      "text/html": [
       "\n",
       "<style>\n",
       "    /* Turns off some styling */\n",
       "    progress {\n",
       "        /* gets rid of default border in Firefox and Opera. */\n",
       "        border: none;\n",
       "        /* Needs to be in here for Safari polyfill so background images work as expected. */\n",
       "        background-size: auto;\n",
       "    }\n",
       "    .progress-bar-interrupted, .progress-bar-interrupted::-webkit-progress-bar {\n",
       "        background: #F44336;\n",
       "    }\n",
       "</style>\n"
      ],
      "text/plain": [
       "<IPython.core.display.HTML object>"
      ]
     },
     "metadata": {},
     "output_type": "display_data"
    },
    {
     "data": {
      "text/html": [],
      "text/plain": [
       "<IPython.core.display.HTML object>"
      ]
     },
     "metadata": {},
     "output_type": "display_data"
    },
    {
     "name": "stdout",
     "output_type": "stream",
     "text": [
      "Is Multi-Label? False\n",
      "preprocessing test...\n",
      "language: bn\n",
      "test sequence lengths:\n",
      "\tmean : 16\n",
      "\t95percentile : 49\n",
      "\t99percentile : 96\n"
     ]
    },
    {
     "data": {
      "text/html": [
       "\n",
       "<style>\n",
       "    /* Turns off some styling */\n",
       "    progress {\n",
       "        /* gets rid of default border in Firefox and Opera. */\n",
       "        border: none;\n",
       "        /* Needs to be in here for Safari polyfill so background images work as expected. */\n",
       "        background-size: auto;\n",
       "    }\n",
       "    .progress-bar-interrupted, .progress-bar-interrupted::-webkit-progress-bar {\n",
       "        background: #F44336;\n",
       "    }\n",
       "</style>\n"
      ],
      "text/plain": [
       "<IPython.core.display.HTML object>"
      ]
     },
     "metadata": {},
     "output_type": "display_data"
    },
    {
     "data": {
      "text/html": [],
      "text/plain": [
       "<IPython.core.display.HTML object>"
      ]
     },
     "metadata": {},
     "output_type": "display_data"
    }
   ],
   "source": [
    "train = trans.preprocess_train(x_train,y_train)\n",
    "valid = trans.preprocess_test(x_validation,y_validation)"
   ]
  },
  {
   "cell_type": "code",
   "execution_count": 14,
   "id": "68f41ea1",
   "metadata": {
    "execution": {
     "iopub.execute_input": "2022-04-18T16:50:34.277721Z",
     "iopub.status.busy": "2022-04-18T16:50:34.277439Z",
     "iopub.status.idle": "2022-04-18T16:52:32.214588Z",
     "shell.execute_reply": "2022-04-18T16:52:32.213402Z"
    },
    "papermill": {
     "duration": 118.058211,
     "end_time": "2022-04-18T16:52:32.217510",
     "exception": false,
     "start_time": "2022-04-18T16:50:34.159299",
     "status": "completed"
    },
    "tags": []
   },
   "outputs": [
    {
     "data": {
      "application/vnd.jupyter.widget-view+json": {
       "model_id": "f73a56c2e73d4519be05dfefb1af3724",
       "version_major": 2,
       "version_minor": 0
      },
      "text/plain": [
       "Downloading:   0%|          | 0.00/1.89G [00:00<?, ?B/s]"
      ]
     },
     "metadata": {},
     "output_type": "display_data"
    }
   ],
   "source": [
    "model = trans.get_classifier()"
   ]
  },
  {
   "cell_type": "code",
   "execution_count": 15,
   "id": "31df77db",
   "metadata": {
    "execution": {
     "iopub.execute_input": "2022-04-18T16:52:32.454309Z",
     "iopub.status.busy": "2022-04-18T16:52:32.453370Z",
     "iopub.status.idle": "2022-04-18T16:52:34.436473Z",
     "shell.execute_reply": "2022-04-18T16:52:34.435780Z"
    },
    "papermill": {
     "duration": 2.104663,
     "end_time": "2022-04-18T16:52:34.438852",
     "exception": false,
     "start_time": "2022-04-18T16:52:32.334189",
     "status": "completed"
    },
    "tags": []
   },
   "outputs": [],
   "source": [
    "learner = ktrain.get_learner(model, train_data=train,val_data=valid, batch_size=12)"
   ]
  },
  {
   "cell_type": "code",
   "execution_count": 16,
   "id": "83bde901",
   "metadata": {
    "execution": {
     "iopub.execute_input": "2022-04-18T16:52:34.666755Z",
     "iopub.status.busy": "2022-04-18T16:52:34.665937Z",
     "iopub.status.idle": "2022-04-18T16:52:34.748879Z",
     "shell.execute_reply": "2022-04-18T16:52:34.748070Z"
    },
    "papermill": {
     "duration": 0.199531,
     "end_time": "2022-04-18T16:52:34.751114",
     "exception": false,
     "start_time": "2022-04-18T16:52:34.551583",
     "status": "completed"
    },
    "tags": []
   },
   "outputs": [],
   "source": [
    "from sklearn.utils import class_weight\n",
    "class_weight=class_weight.compute_class_weight(class_weight='balanced',classes=np.unique(y_train),y=y_train)\n",
    "weight={i:class_weight[i] for i in range(6)}"
   ]
  },
  {
   "cell_type": "code",
   "execution_count": 17,
   "id": "321627af",
   "metadata": {
    "execution": {
     "iopub.execute_input": "2022-04-18T16:52:34.987802Z",
     "iopub.status.busy": "2022-04-18T16:52:34.987367Z",
     "iopub.status.idle": "2022-04-19T03:28:36.407669Z",
     "shell.execute_reply": "2022-04-19T03:28:36.404354Z"
    },
    "papermill": {
     "duration": 38164.766631,
     "end_time": "2022-04-19T03:28:39.636140",
     "exception": false,
     "start_time": "2022-04-18T16:52:34.869509",
     "status": "completed"
    },
    "tags": []
   },
   "outputs": [
    {
     "name": "stdout",
     "output_type": "stream",
     "text": [
      "\n",
      "\n",
      "begin training using onecycle policy with max lr of 2e-05...\n",
      "Epoch 1/20\n",
      "427/427 [==============================] - 1964s 5s/step - loss: 1.7900 - accuracy: 0.2256 - val_loss: 1.7005 - val_accuracy: 0.3900\n",
      "Epoch 2/20\n",
      "427/427 [==============================] - 1884s 4s/step - loss: 1.6561 - accuracy: 0.3817 - val_loss: 1.4684 - val_accuracy: 0.4727\n",
      "Epoch 3/20\n",
      "427/427 [==============================] - 1866s 4s/step - loss: 1.5436 - accuracy: 0.4456 - val_loss: 1.4186 - val_accuracy: 0.4680\n",
      "Epoch 4/20\n",
      "427/427 [==============================] - 1867s 4s/step - loss: 1.4824 - accuracy: 0.4738 - val_loss: 1.4450 - val_accuracy: 0.4727\n",
      "Epoch 5/20\n",
      "427/427 [==============================] - 1888s 4s/step - loss: 1.3944 - accuracy: 0.5043 - val_loss: 1.3607 - val_accuracy: 0.4945\n",
      "Epoch 6/20\n",
      "427/427 [==============================] - 1871s 4s/step - loss: 1.2829 - accuracy: 0.5523 - val_loss: 1.5107 - val_accuracy: 0.4509\n",
      "Epoch 7/20\n",
      "427/427 [==============================] - 1882s 4s/step - loss: 1.1746 - accuracy: 0.5927 - val_loss: 1.4249 - val_accuracy: 0.4961\n",
      "Epoch 8/20\n",
      "427/427 [==============================] - 1903s 4s/step - loss: 1.0663 - accuracy: 0.6179 - val_loss: 1.4950 - val_accuracy: 0.4930\n",
      "Epoch 9/20\n",
      "427/427 [==============================] - 1916s 4s/step - loss: 0.9296 - accuracy: 0.6645 - val_loss: 1.4559 - val_accuracy: 0.4587\n",
      "Epoch 10/20\n",
      "427/427 [==============================] - 1916s 4s/step - loss: 1.3839 - accuracy: 0.3907 - val_loss: 1.7981 - val_accuracy: 0.1123\n",
      "Epoch 11/20\n",
      "427/427 [==============================] - 1914s 4s/step - loss: 1.8014 - accuracy: 0.1655 - val_loss: 1.8093 - val_accuracy: 0.0468\n",
      "Epoch 12/20\n",
      "427/427 [==============================] - 1920s 4s/step - loss: 1.7998 - accuracy: 0.1436 - val_loss: 1.7589 - val_accuracy: 0.1451\n",
      "Epoch 13/20\n",
      "427/427 [==============================] - 1904s 4s/step - loss: 1.7252 - accuracy: 0.2108 - val_loss: 1.4244 - val_accuracy: 0.4509\n",
      "Epoch 14/20\n",
      "427/427 [==============================] - 1900s 4s/step - loss: 0.8610 - accuracy: 0.6811 - val_loss: 1.5769 - val_accuracy: 0.5304\n",
      "Epoch 15/20\n",
      "427/427 [==============================] - 1972s 5s/step - loss: 0.6000 - accuracy: 0.7728 - val_loss: 1.6367 - val_accuracy: 0.5117\n",
      "Epoch 16/20\n",
      "427/427 [==============================] - 1965s 5s/step - loss: 0.4287 - accuracy: 0.8407 - val_loss: 1.8151 - val_accuracy: 0.5039\n",
      "Epoch 17/20\n",
      "427/427 [==============================] - 1900s 4s/step - loss: 0.3300 - accuracy: 0.8770 - val_loss: 1.8957 - val_accuracy: 0.5086\n",
      "Epoch 18/20\n",
      "427/427 [==============================] - 1902s 4s/step - loss: 0.2594 - accuracy: 0.9024 - val_loss: 1.9564 - val_accuracy: 0.4977\n",
      "Epoch 19/20\n",
      "427/427 [==============================] - 1913s 4s/step - loss: 0.2086 - accuracy: 0.9249 - val_loss: 2.0792 - val_accuracy: 0.5101\n",
      "Epoch 20/20\n",
      "427/427 [==============================] - 1913s 4s/step - loss: 0.1730 - accuracy: 0.9366 - val_loss: 2.1009 - val_accuracy: 0.5179\n"
     ]
    },
    {
     "data": {
      "text/plain": [
       "<keras.callbacks.History at 0x7ff66ad89ed0>"
      ]
     },
     "execution_count": 17,
     "metadata": {},
     "output_type": "execute_result"
    }
   ],
   "source": [
    "learner.fit_onecycle(2e-5,20,class_weight=weight) "
   ]
  },
  {
   "cell_type": "code",
   "execution_count": 18,
   "id": "0566d352",
   "metadata": {
    "execution": {
     "iopub.execute_input": "2022-04-19T03:28:46.549572Z",
     "iopub.status.busy": "2022-04-19T03:28:46.547814Z",
     "iopub.status.idle": "2022-04-19T03:29:59.791659Z",
     "shell.execute_reply": "2022-04-19T03:29:59.790628Z"
    },
    "papermill": {
     "duration": 79.98514,
     "end_time": "2022-04-19T03:30:03.167019",
     "exception": false,
     "start_time": "2022-04-19T03:28:43.181879",
     "status": "completed"
    },
    "tags": []
   },
   "outputs": [
    {
     "name": "stdout",
     "output_type": "stream",
     "text": [
      "              precision    recall  f1-score   support\n",
      "\n",
      "       angry       0.56      0.61      0.58       137\n",
      "     disgust       0.24      0.26      0.25        72\n",
      "        fear       0.21      0.20      0.21        30\n",
      "       happy       0.74      0.74      0.74       195\n",
      "         sad       0.43      0.45      0.44       132\n",
      "     surpise       0.38      0.24      0.29        75\n",
      "\n",
      "    accuracy                           0.52       641\n",
      "   macro avg       0.43      0.42      0.42       641\n",
      "weighted avg       0.51      0.52      0.51       641\n",
      "\n"
     ]
    },
    {
     "data": {
      "text/plain": [
       "array([[ 84,  20,   5,   5,  17,   6],\n",
       "       [ 21,  19,   0,  11,  15,   6],\n",
       "       [  2,   3,   6,   4,  11,   4],\n",
       "       [  6,  10,   3, 145,  24,   7],\n",
       "       [ 22,  17,   9,  17,  60,   7],\n",
       "       [ 16,  11,   5,  13,  12,  18]])"
      ]
     },
     "execution_count": 18,
     "metadata": {},
     "output_type": "execute_result"
    }
   ],
   "source": [
    "learner.validate(class_names=categories)"
   ]
  },
  {
   "cell_type": "code",
   "execution_count": 19,
   "id": "c85bb93d",
   "metadata": {
    "execution": {
     "iopub.execute_input": "2022-04-19T03:30:09.835744Z",
     "iopub.status.busy": "2022-04-19T03:30:09.835428Z",
     "iopub.status.idle": "2022-04-19T03:30:09.917233Z",
     "shell.execute_reply": "2022-04-19T03:30:09.915809Z"
    },
    "papermill": {
     "duration": 3.406992,
     "end_time": "2022-04-19T03:30:09.920082",
     "exception": false,
     "start_time": "2022-04-19T03:30:06.513090",
     "status": "completed"
    },
    "tags": []
   },
   "outputs": [],
   "source": [
    "predictor = ktrain.get_predictor(learner.model, preproc=trans)"
   ]
  },
  {
   "cell_type": "code",
   "execution_count": 20,
   "id": "e312c30b",
   "metadata": {
    "execution": {
     "iopub.execute_input": "2022-04-19T03:30:16.567331Z",
     "iopub.status.busy": "2022-04-19T03:30:16.567052Z",
     "iopub.status.idle": "2022-04-19T03:31:25.028935Z",
     "shell.execute_reply": "2022-04-19T03:31:25.027406Z"
    },
    "papermill": {
     "duration": 75.155016,
     "end_time": "2022-04-19T03:31:28.371259",
     "exception": false,
     "start_time": "2022-04-19T03:30:13.216243",
     "status": "completed"
    },
    "tags": []
   },
   "outputs": [
    {
     "name": "stdout",
     "output_type": "stream",
     "text": [
      "['angry', 'disgust', 'angry', 'disgust', 'sad', 'surpise', 'happy', 'fear', 'happy', 'surpise', 'disgust', 'angry', 'happy', 'happy', 'angry', 'disgust', 'happy', 'surpise', 'happy', 'happy', 'happy', 'angry', 'disgust', 'disgust', 'angry', 'happy', 'happy', 'sad', 'angry', 'happy', 'happy', 'disgust', 'sad', 'happy', 'sad', 'angry', 'sad', 'angry', 'happy', 'happy', 'angry', 'surpise', 'happy', 'happy', 'angry', 'sad', 'sad', 'sad', 'surpise', 'angry', 'angry', 'angry', 'surpise', 'happy', 'fear', 'angry', 'sad', 'sad', 'disgust', 'disgust', 'angry', 'sad', 'sad', 'happy', 'disgust', 'surpise', 'fear', 'sad', 'happy', 'sad', 'happy', 'sad', 'happy', 'happy', 'sad', 'angry', 'sad', 'angry', 'sad', 'disgust', 'disgust', 'angry', 'happy', 'angry', 'angry', 'happy', 'happy', 'happy', 'disgust', 'happy', 'sad', 'sad', 'happy', 'happy', 'sad', 'angry', 'fear', 'angry', 'angry', 'angry', 'angry', 'angry', 'sad', 'angry', 'surpise', 'surpise', 'happy', 'happy', 'sad', 'sad', 'happy', 'surpise', 'disgust', 'sad', 'sad', 'fear', 'happy', 'angry', 'angry', 'sad', 'angry', 'angry', 'happy', 'happy', 'fear', 'happy', 'happy', 'sad', 'surpise', 'disgust', 'angry', 'disgust', 'happy', 'happy', 'happy', 'happy', 'fear', 'happy', 'surpise', 'happy', 'surpise', 'angry', 'sad', 'happy', 'sad', 'angry', 'sad', 'fear', 'surpise', 'surpise', 'happy', 'sad', 'angry', 'disgust', 'sad', 'happy', 'sad', 'angry', 'happy', 'happy', 'surpise', 'happy', 'angry', 'happy', 'fear', 'happy', 'happy', 'sad', 'sad', 'fear', 'angry', 'sad', 'sad', 'happy', 'happy', 'angry', 'angry', 'sad', 'sad', 'disgust', 'happy', 'happy', 'sad', 'disgust', 'happy', 'angry', 'happy', 'happy', 'happy', 'happy', 'happy', 'angry', 'angry', 'disgust', 'happy', 'fear', 'happy', 'surpise', 'disgust', 'angry', 'angry', 'fear', 'angry', 'sad', 'sad', 'angry', 'angry', 'fear', 'happy', 'happy', 'happy', 'happy', 'happy', 'happy', 'surpise', 'happy', 'sad', 'happy', 'angry', 'happy', 'happy', 'happy', 'sad', 'disgust', 'surpise', 'sad', 'happy', 'happy', 'happy', 'sad', 'fear', 'sad', 'surpise', 'sad', 'happy', 'happy', 'surpise', 'sad', 'sad', 'angry', 'angry', 'surpise', 'surpise', 'angry', 'sad', 'sad', 'disgust', 'surpise', 'angry', 'angry', 'sad', 'fear', 'happy', 'happy', 'sad', 'happy', 'happy', 'sad', 'happy', 'angry', 'disgust', 'happy', 'happy', 'angry', 'happy', 'happy', 'disgust', 'angry', 'sad', 'angry', 'fear', 'sad', 'happy', 'angry', 'happy', 'happy', 'disgust', 'sad', 'sad', 'angry', 'disgust', 'sad', 'sad', 'angry', 'surpise', 'surpise', 'happy', 'happy', 'happy', 'sad', 'happy', 'surpise', 'angry', 'angry', 'sad', 'sad', 'sad', 'angry', 'fear', 'happy', 'happy', 'angry', 'angry', 'happy', 'happy', 'angry', 'sad', 'angry', 'surpise', 'happy', 'surpise', 'disgust', 'happy', 'surpise', 'happy', 'sad', 'happy', 'angry', 'sad', 'fear', 'angry', 'sad', 'angry', 'surpise', 'angry', 'disgust', 'sad', 'happy', 'surpise', 'happy', 'sad', 'happy', 'happy', 'happy', 'surpise', 'fear', 'happy', 'sad', 'sad', 'surpise', 'angry', 'happy', 'sad', 'surpise', 'angry', 'happy', 'sad', 'fear', 'angry', 'happy', 'sad', 'disgust', 'angry', 'sad', 'angry', 'happy', 'angry', 'happy', 'angry', 'angry', 'surpise', 'happy', 'sad', 'disgust', 'angry', 'angry', 'angry', 'happy', 'sad', 'happy', 'happy', 'happy', 'angry', 'sad', 'disgust', 'happy', 'sad', 'surpise', 'happy', 'disgust', 'happy', 'happy', 'fear', 'sad', 'angry', 'angry', 'disgust', 'disgust', 'sad', 'happy', 'angry', 'surpise', 'fear', 'happy', 'happy', 'happy', 'sad', 'surpise', 'fear', 'sad', 'fear', 'angry', 'angry', 'angry', 'angry', 'angry', 'sad', 'angry', 'angry', 'fear', 'happy', 'angry', 'happy', 'happy', 'sad', 'happy', 'happy', 'angry', 'angry', 'happy', 'sad', 'sad', 'angry', 'sad', 'angry', 'angry', 'happy', 'disgust', 'sad', 'disgust', 'angry', 'disgust', 'sad', 'happy', 'fear', 'sad', 'happy', 'happy', 'happy', 'angry', 'sad', 'happy', 'surpise', 'disgust', 'sad', 'disgust', 'happy', 'angry', 'disgust', 'happy', 'happy', 'happy', 'angry', 'fear', 'surpise', 'happy', 'angry', 'happy', 'sad', 'happy', 'happy', 'happy', 'happy', 'happy', 'angry', 'happy', 'surpise', 'happy', 'surpise', 'surpise', 'happy', 'angry', 'disgust', 'angry', 'surpise', 'angry', 'angry', 'disgust', 'angry', 'sad', 'disgust', 'happy', 'angry', 'fear', 'angry', 'sad', 'sad', 'disgust', 'happy', 'disgust', 'sad', 'disgust', 'happy', 'angry', 'happy', 'happy', 'angry', 'angry', 'disgust', 'angry', 'angry', 'happy', 'happy', 'angry', 'happy', 'surpise', 'sad', 'angry', 'happy', 'disgust', 'happy', 'happy', 'happy', 'disgust', 'angry', 'sad', 'disgust', 'disgust', 'happy', 'angry', 'surpise', 'happy', 'fear', 'angry', 'sad', 'angry', 'angry', 'angry', 'sad', 'happy', 'sad', 'angry', 'sad', 'sad', 'fear', 'disgust', 'happy', 'sad', 'happy', 'angry', 'happy', 'angry', 'angry', 'happy', 'angry', 'happy', 'fear', 'angry', 'sad', 'happy', 'sad', 'happy', 'angry', 'angry', 'disgust', 'happy', 'happy', 'happy', 'happy', 'sad', 'sad', 'angry', 'happy', 'surpise', 'happy', 'happy', 'disgust', 'disgust', 'surpise', 'sad', 'happy', 'happy', 'sad', 'sad', 'sad', 'sad', 'disgust', 'happy', 'angry', 'happy', 'angry', 'disgust', 'angry', 'disgust', 'sad', 'happy', 'happy', 'sad', 'surpise', 'happy', 'disgust', 'fear', 'angry', 'surpise', 'angry', 'surpise', 'sad', 'happy', 'sad', 'sad', 'sad', 'sad', 'sad', 'happy', 'disgust', 'happy', 'happy', 'sad', 'happy', 'disgust', 'angry', 'sad', 'happy', 'happy', 'sad', 'angry', 'sad', 'happy', 'angry', 'sad', 'surpise', 'disgust', 'angry', 'sad', 'happy', 'sad', 'disgust', 'surpise', 'happy', 'angry', 'angry', 'sad', 'sad', 'disgust', 'sad', 'fear', 'happy', 'happy', 'disgust', 'happy']\n"
     ]
    }
   ],
   "source": [
    "y_pred = predictor.predict(x_test)\n",
    "print(y_pred)"
   ]
  },
  {
   "cell_type": "code",
   "execution_count": 21,
   "id": "944c1590",
   "metadata": {
    "execution": {
     "iopub.execute_input": "2022-04-19T03:31:35.157574Z",
     "iopub.status.busy": "2022-04-19T03:31:35.157083Z",
     "iopub.status.idle": "2022-04-19T03:31:35.256627Z",
     "shell.execute_reply": "2022-04-19T03:31:35.255447Z"
    },
    "papermill": {
     "duration": 3.431922,
     "end_time": "2022-04-19T03:31:35.259273",
     "exception": false,
     "start_time": "2022-04-19T03:31:31.827351",
     "status": "completed"
    },
    "tags": []
   },
   "outputs": [
    {
     "name": "stdout",
     "output_type": "stream",
     "text": [
      "              precision    recall  f1-score   support\n",
      "\n",
      "       angry       0.58      0.59      0.58       144\n",
      "     disgust       0.18      0.18      0.18        66\n",
      "        fear       0.09      0.09      0.09        32\n",
      "       happy       0.74      0.80      0.77       187\n",
      "         sad       0.48      0.44      0.46       148\n",
      "     surpise       0.24      0.21      0.22        63\n",
      "\n",
      "    accuracy                           0.51       640\n",
      "   macro avg       0.38      0.39      0.38       640\n",
      "weighted avg       0.50      0.51      0.51       640\n",
      "\n"
     ]
    }
   ],
   "source": [
    "from sklearn.metrics import classification_report\n",
    "print(classification_report(y_test,y_pred))"
   ]
  }
 ],
 "metadata": {
  "kernelspec": {
   "display_name": "Python 3",
   "language": "python",
   "name": "python3"
  },
  "language_info": {
   "codemirror_mode": {
    "name": "ipython",
    "version": 3
   },
   "file_extension": ".py",
   "mimetype": "text/x-python",
   "name": "python",
   "nbconvert_exporter": "python",
   "pygments_lexer": "ipython3",
   "version": "3.7.12"
  },
  "papermill": {
   "default_parameters": {},
   "duration": 38592.47687,
   "end_time": "2022-04-19T03:31:42.081482",
   "environment_variables": {},
   "exception": null,
   "input_path": "__notebook__.ipynb",
   "output_path": "__notebook__.ipynb",
   "parameters": {},
   "start_time": "2022-04-18T16:48:29.604612",
   "version": "2.3.4"
  },
  "widgets": {
   "application/vnd.jupyter.widget-state+json": {
    "state": {
     "00f4943d0acd4f19840f1dcc9f72c4c4": {
      "model_module": "@jupyter-widgets/controls",
      "model_module_version": "1.5.0",
      "model_name": "DescriptionStyleModel",
      "state": {
       "_model_module": "@jupyter-widgets/controls",
       "_model_module_version": "1.5.0",
       "_model_name": "DescriptionStyleModel",
       "_view_count": null,
       "_view_module": "@jupyter-widgets/base",
       "_view_module_version": "1.2.0",
       "_view_name": "StyleView",
       "description_width": ""
      }
     },
     "01d10616d5fa4acc95384575abe34821": {
      "model_module": "@jupyter-widgets/controls",
      "model_module_version": "1.5.0",
      "model_name": "ProgressStyleModel",
      "state": {
       "_model_module": "@jupyter-widgets/controls",
       "_model_module_version": "1.5.0",
       "_model_name": "ProgressStyleModel",
       "_view_count": null,
       "_view_module": "@jupyter-widgets/base",
       "_view_module_version": "1.2.0",
       "_view_name": "StyleView",
       "bar_color": null,
       "description_width": ""
      }
     },
     "047fea35912f40458a39d06ab35b6790": {
      "model_module": "@jupyter-widgets/controls",
      "model_module_version": "1.5.0",
      "model_name": "HTMLModel",
      "state": {
       "_dom_classes": [],
       "_model_module": "@jupyter-widgets/controls",
       "_model_module_version": "1.5.0",
       "_model_name": "HTMLModel",
       "_view_count": null,
       "_view_module": "@jupyter-widgets/controls",
       "_view_module_version": "1.5.0",
       "_view_name": "HTMLView",
       "description": "",
       "description_tooltip": null,
       "layout": "IPY_MODEL_da11f1897a1a461d8ca029759accb5e5",
       "placeholder": "​",
       "style": "IPY_MODEL_b7528d369a314444b4341def68ebe463",
       "value": " 5.07M/5.07M [00:01&lt;00:00, 3.93MB/s]"
      }
     },
     "09ecab58f4aa4e0a831f0b99f54b9505": {
      "model_module": "@jupyter-widgets/controls",
      "model_module_version": "1.5.0",
      "model_name": "HTMLModel",
      "state": {
       "_dom_classes": [],
       "_model_module": "@jupyter-widgets/controls",
       "_model_module_version": "1.5.0",
       "_model_name": "HTMLModel",
       "_view_count": null,
       "_view_module": "@jupyter-widgets/controls",
       "_view_module_version": "1.5.0",
       "_view_name": "HTMLView",
       "description": "",
       "description_tooltip": null,
       "layout": "IPY_MODEL_9e9d6b951b184bc4a1e28e59c7a53177",
       "placeholder": "​",
       "style": "IPY_MODEL_e954382b786d40a3b260fcbfe5ef9845",
       "value": " 512/512 [00:00&lt;00:00, 15.1kB/s]"
      }
     },
     "0a221cf9ef8b4935b056b9a9be197c46": {
      "model_module": "@jupyter-widgets/base",
      "model_module_version": "1.2.0",
      "model_name": "LayoutModel",
      "state": {
       "_model_module": "@jupyter-widgets/base",
       "_model_module_version": "1.2.0",
       "_model_name": "LayoutModel",
       "_view_count": null,
       "_view_module": "@jupyter-widgets/base",
       "_view_module_version": "1.2.0",
       "_view_name": "LayoutView",
       "align_content": null,
       "align_items": null,
       "align_self": null,
       "border": null,
       "bottom": null,
       "display": null,
       "flex": null,
       "flex_flow": null,
       "grid_area": null,
       "grid_auto_columns": null,
       "grid_auto_flow": null,
       "grid_auto_rows": null,
       "grid_column": null,
       "grid_gap": null,
       "grid_row": null,
       "grid_template_areas": null,
       "grid_template_columns": null,
       "grid_template_rows": null,
       "height": null,
       "justify_content": null,
       "justify_items": null,
       "left": null,
       "margin": null,
       "max_height": null,
       "max_width": null,
       "min_height": null,
       "min_width": null,
       "object_fit": null,
       "object_position": null,
       "order": null,
       "overflow": null,
       "overflow_x": null,
       "overflow_y": null,
       "padding": null,
       "right": null,
       "top": null,
       "visibility": null,
       "width": null
      }
     },
     "0f7b8db56b6d4ffc8870625a1654da4a": {
      "model_module": "@jupyter-widgets/base",
      "model_module_version": "1.2.0",
      "model_name": "LayoutModel",
      "state": {
       "_model_module": "@jupyter-widgets/base",
       "_model_module_version": "1.2.0",
       "_model_name": "LayoutModel",
       "_view_count": null,
       "_view_module": "@jupyter-widgets/base",
       "_view_module_version": "1.2.0",
       "_view_name": "LayoutView",
       "align_content": null,
       "align_items": null,
       "align_self": null,
       "border": null,
       "bottom": null,
       "display": null,
       "flex": null,
       "flex_flow": null,
       "grid_area": null,
       "grid_auto_columns": null,
       "grid_auto_flow": null,
       "grid_auto_rows": null,
       "grid_column": null,
       "grid_gap": null,
       "grid_row": null,
       "grid_template_areas": null,
       "grid_template_columns": null,
       "grid_template_rows": null,
       "height": null,
       "justify_content": null,
       "justify_items": null,
       "left": null,
       "margin": null,
       "max_height": null,
       "max_width": null,
       "min_height": null,
       "min_width": null,
       "object_fit": null,
       "object_position": null,
       "order": null,
       "overflow": null,
       "overflow_x": null,
       "overflow_y": null,
       "padding": null,
       "right": null,
       "top": null,
       "visibility": null,
       "width": null
      }
     },
     "12ccf88afc764164bd6557a254478eff": {
      "model_module": "@jupyter-widgets/controls",
      "model_module_version": "1.5.0",
      "model_name": "DescriptionStyleModel",
      "state": {
       "_model_module": "@jupyter-widgets/controls",
       "_model_module_version": "1.5.0",
       "_model_name": "DescriptionStyleModel",
       "_view_count": null,
       "_view_module": "@jupyter-widgets/base",
       "_view_module_version": "1.2.0",
       "_view_name": "StyleView",
       "description_width": ""
      }
     },
     "2562be8c0bc54f1a8157f0804e5b31bd": {
      "model_module": "@jupyter-widgets/base",
      "model_module_version": "1.2.0",
      "model_name": "LayoutModel",
      "state": {
       "_model_module": "@jupyter-widgets/base",
       "_model_module_version": "1.2.0",
       "_model_name": "LayoutModel",
       "_view_count": null,
       "_view_module": "@jupyter-widgets/base",
       "_view_module_version": "1.2.0",
       "_view_name": "LayoutView",
       "align_content": null,
       "align_items": null,
       "align_self": null,
       "border": null,
       "bottom": null,
       "display": null,
       "flex": null,
       "flex_flow": null,
       "grid_area": null,
       "grid_auto_columns": null,
       "grid_auto_flow": null,
       "grid_auto_rows": null,
       "grid_column": null,
       "grid_gap": null,
       "grid_row": null,
       "grid_template_areas": null,
       "grid_template_columns": null,
       "grid_template_rows": null,
       "height": null,
       "justify_content": null,
       "justify_items": null,
       "left": null,
       "margin": null,
       "max_height": null,
       "max_width": null,
       "min_height": null,
       "min_width": null,
       "object_fit": null,
       "object_position": null,
       "order": null,
       "overflow": null,
       "overflow_x": null,
       "overflow_y": null,
       "padding": null,
       "right": null,
       "top": null,
       "visibility": null,
       "width": null
      }
     },
     "3746c507dbb849f5ba38dffe505ab5de": {
      "model_module": "@jupyter-widgets/controls",
      "model_module_version": "1.5.0",
      "model_name": "FloatProgressModel",
      "state": {
       "_dom_classes": [],
       "_model_module": "@jupyter-widgets/controls",
       "_model_module_version": "1.5.0",
       "_model_name": "FloatProgressModel",
       "_view_count": null,
       "_view_module": "@jupyter-widgets/controls",
       "_view_module_version": "1.5.0",
       "_view_name": "ProgressView",
       "bar_style": "success",
       "description": "",
       "description_tooltip": null,
       "layout": "IPY_MODEL_0a221cf9ef8b4935b056b9a9be197c46",
       "max": 5069051.0,
       "min": 0.0,
       "orientation": "horizontal",
       "style": "IPY_MODEL_6ef4530df9ef413495c9eb9fee786ae5",
       "value": 5069051.0
      }
     },
     "415e5ddb5d0f4f6cbc497b8d1bf9638f": {
      "model_module": "@jupyter-widgets/base",
      "model_module_version": "1.2.0",
      "model_name": "LayoutModel",
      "state": {
       "_model_module": "@jupyter-widgets/base",
       "_model_module_version": "1.2.0",
       "_model_name": "LayoutModel",
       "_view_count": null,
       "_view_module": "@jupyter-widgets/base",
       "_view_module_version": "1.2.0",
       "_view_name": "LayoutView",
       "align_content": null,
       "align_items": null,
       "align_self": null,
       "border": null,
       "bottom": null,
       "display": null,
       "flex": null,
       "flex_flow": null,
       "grid_area": null,
       "grid_auto_columns": null,
       "grid_auto_flow": null,
       "grid_auto_rows": null,
       "grid_column": null,
       "grid_gap": null,
       "grid_row": null,
       "grid_template_areas": null,
       "grid_template_columns": null,
       "grid_template_rows": null,
       "height": null,
       "justify_content": null,
       "justify_items": null,
       "left": null,
       "margin": null,
       "max_height": null,
       "max_width": null,
       "min_height": null,
       "min_width": null,
       "object_fit": null,
       "object_position": null,
       "order": null,
       "overflow": null,
       "overflow_x": null,
       "overflow_y": null,
       "padding": null,
       "right": null,
       "top": null,
       "visibility": null,
       "width": null
      }
     },
     "47f201a31b214050a2186c4c048c85f6": {
      "model_module": "@jupyter-widgets/controls",
      "model_module_version": "1.5.0",
      "model_name": "ProgressStyleModel",
      "state": {
       "_model_module": "@jupyter-widgets/controls",
       "_model_module_version": "1.5.0",
       "_model_name": "ProgressStyleModel",
       "_view_count": null,
       "_view_module": "@jupyter-widgets/base",
       "_view_module_version": "1.2.0",
       "_view_name": "StyleView",
       "bar_color": null,
       "description_width": ""
      }
     },
     "4c46466d655e4a5fab57befec4f4e755": {
      "model_module": "@jupyter-widgets/controls",
      "model_module_version": "1.5.0",
      "model_name": "FloatProgressModel",
      "state": {
       "_dom_classes": [],
       "_model_module": "@jupyter-widgets/controls",
       "_model_module_version": "1.5.0",
       "_model_name": "FloatProgressModel",
       "_view_count": null,
       "_view_module": "@jupyter-widgets/controls",
       "_view_module_version": "1.5.0",
       "_view_name": "ProgressView",
       "bar_style": "success",
       "description": "",
       "description_tooltip": null,
       "layout": "IPY_MODEL_ae1341d1ddc1474a8d76d316401dd889",
       "max": 512.0,
       "min": 0.0,
       "orientation": "horizontal",
       "style": "IPY_MODEL_a0a40a4e54a343928b4f9eb7df9ff485",
       "value": 512.0
      }
     },
     "4fed24cf570c4d80bed075e982f1c8c1": {
      "model_module": "@jupyter-widgets/controls",
      "model_module_version": "1.5.0",
      "model_name": "HTMLModel",
      "state": {
       "_dom_classes": [],
       "_model_module": "@jupyter-widgets/controls",
       "_model_module_version": "1.5.0",
       "_model_name": "HTMLModel",
       "_view_count": null,
       "_view_module": "@jupyter-widgets/controls",
       "_view_module_version": "1.5.0",
       "_view_name": "HTMLView",
       "description": "",
       "description_tooltip": null,
       "layout": "IPY_MODEL_ca182b48b3174f8e978ab4e9c7beab85",
       "placeholder": "​",
       "style": "IPY_MODEL_abe81862aebb4e37835f047351aed8a5",
       "value": " 1.89G/1.89G [01:49&lt;00:00, 17.8MB/s]"
      }
     },
     "5bef9f6d0d9140a6a7b2e130161366b1": {
      "model_module": "@jupyter-widgets/controls",
      "model_module_version": "1.5.0",
      "model_name": "DescriptionStyleModel",
      "state": {
       "_model_module": "@jupyter-widgets/controls",
       "_model_module_version": "1.5.0",
       "_model_name": "DescriptionStyleModel",
       "_view_count": null,
       "_view_module": "@jupyter-widgets/base",
       "_view_module_version": "1.2.0",
       "_view_name": "StyleView",
       "description_width": ""
      }
     },
     "5e439e4a27c84b6a88bb4368e8c947be": {
      "model_module": "@jupyter-widgets/base",
      "model_module_version": "1.2.0",
      "model_name": "LayoutModel",
      "state": {
       "_model_module": "@jupyter-widgets/base",
       "_model_module_version": "1.2.0",
       "_model_name": "LayoutModel",
       "_view_count": null,
       "_view_module": "@jupyter-widgets/base",
       "_view_module_version": "1.2.0",
       "_view_name": "LayoutView",
       "align_content": null,
       "align_items": null,
       "align_self": null,
       "border": null,
       "bottom": null,
       "display": null,
       "flex": null,
       "flex_flow": null,
       "grid_area": null,
       "grid_auto_columns": null,
       "grid_auto_flow": null,
       "grid_auto_rows": null,
       "grid_column": null,
       "grid_gap": null,
       "grid_row": null,
       "grid_template_areas": null,
       "grid_template_columns": null,
       "grid_template_rows": null,
       "height": null,
       "justify_content": null,
       "justify_items": null,
       "left": null,
       "margin": null,
       "max_height": null,
       "max_width": null,
       "min_height": null,
       "min_width": null,
       "object_fit": null,
       "object_position": null,
       "order": null,
       "overflow": null,
       "overflow_x": null,
       "overflow_y": null,
       "padding": null,
       "right": null,
       "top": null,
       "visibility": null,
       "width": null
      }
     },
     "6ed91356b46a4fa3ab940158e9444f14": {
      "model_module": "@jupyter-widgets/controls",
      "model_module_version": "1.5.0",
      "model_name": "HBoxModel",
      "state": {
       "_dom_classes": [],
       "_model_module": "@jupyter-widgets/controls",
       "_model_module_version": "1.5.0",
       "_model_name": "HBoxModel",
       "_view_count": null,
       "_view_module": "@jupyter-widgets/controls",
       "_view_module_version": "1.5.0",
       "_view_name": "HBoxView",
       "box_style": "",
       "children": [
        "IPY_MODEL_a3a3dc48a3ee485b9ff9eab0b450ac33",
        "IPY_MODEL_4c46466d655e4a5fab57befec4f4e755",
        "IPY_MODEL_09ecab58f4aa4e0a831f0b99f54b9505"
       ],
       "layout": "IPY_MODEL_f69c8ee0ed5f4112944b9a1eb74e10a9"
      }
     },
     "6ef4530df9ef413495c9eb9fee786ae5": {
      "model_module": "@jupyter-widgets/controls",
      "model_module_version": "1.5.0",
      "model_name": "ProgressStyleModel",
      "state": {
       "_model_module": "@jupyter-widgets/controls",
       "_model_module_version": "1.5.0",
       "_model_name": "ProgressStyleModel",
       "_view_count": null,
       "_view_module": "@jupyter-widgets/base",
       "_view_module_version": "1.2.0",
       "_view_name": "StyleView",
       "bar_color": null,
       "description_width": ""
      }
     },
     "7195aabc515c4932bf5b3a87e3f38016": {
      "model_module": "@jupyter-widgets/controls",
      "model_module_version": "1.5.0",
      "model_name": "FloatProgressModel",
      "state": {
       "_dom_classes": [],
       "_model_module": "@jupyter-widgets/controls",
       "_model_module_version": "1.5.0",
       "_model_name": "FloatProgressModel",
       "_view_count": null,
       "_view_module": "@jupyter-widgets/controls",
       "_view_module_version": "1.5.0",
       "_view_name": "ProgressView",
       "bar_style": "success",
       "description": "",
       "description_tooltip": null,
       "layout": "IPY_MODEL_95f042c7424e41c7a2e7789cbc3acc8b",
       "max": 1885418496.0,
       "min": 0.0,
       "orientation": "horizontal",
       "style": "IPY_MODEL_47f201a31b214050a2186c4c048c85f6",
       "value": 1885418496.0
      }
     },
     "8da44972647d409799b1d4ae6509bfec": {
      "model_module": "@jupyter-widgets/controls",
      "model_module_version": "1.5.0",
      "model_name": "HBoxModel",
      "state": {
       "_dom_classes": [],
       "_model_module": "@jupyter-widgets/controls",
       "_model_module_version": "1.5.0",
       "_model_name": "HBoxModel",
       "_view_count": null,
       "_view_module": "@jupyter-widgets/controls",
       "_view_module_version": "1.5.0",
       "_view_name": "HBoxView",
       "box_style": "",
       "children": [
        "IPY_MODEL_a7cc40f0328d4dfc8a44af4cd732e6aa",
        "IPY_MODEL_eac8a1907d65461eb6e02bbffb94beb1",
        "IPY_MODEL_989ad86f4c294d19b179aa22b2188058"
       ],
       "layout": "IPY_MODEL_c75094eef24747499e9f4787c132e56d"
      }
     },
     "8fbee29dbd9c443fb8b04f05236a2ff0": {
      "model_module": "@jupyter-widgets/base",
      "model_module_version": "1.2.0",
      "model_name": "LayoutModel",
      "state": {
       "_model_module": "@jupyter-widgets/base",
       "_model_module_version": "1.2.0",
       "_model_name": "LayoutModel",
       "_view_count": null,
       "_view_module": "@jupyter-widgets/base",
       "_view_module_version": "1.2.0",
       "_view_name": "LayoutView",
       "align_content": null,
       "align_items": null,
       "align_self": null,
       "border": null,
       "bottom": null,
       "display": null,
       "flex": null,
       "flex_flow": null,
       "grid_area": null,
       "grid_auto_columns": null,
       "grid_auto_flow": null,
       "grid_auto_rows": null,
       "grid_column": null,
       "grid_gap": null,
       "grid_row": null,
       "grid_template_areas": null,
       "grid_template_columns": null,
       "grid_template_rows": null,
       "height": null,
       "justify_content": null,
       "justify_items": null,
       "left": null,
       "margin": null,
       "max_height": null,
       "max_width": null,
       "min_height": null,
       "min_width": null,
       "object_fit": null,
       "object_position": null,
       "order": null,
       "overflow": null,
       "overflow_x": null,
       "overflow_y": null,
       "padding": null,
       "right": null,
       "top": null,
       "visibility": null,
       "width": null
      }
     },
     "939b71bca11f44a1b0e8572699457cde": {
      "model_module": "@jupyter-widgets/controls",
      "model_module_version": "1.5.0",
      "model_name": "DescriptionStyleModel",
      "state": {
       "_model_module": "@jupyter-widgets/controls",
       "_model_module_version": "1.5.0",
       "_model_name": "DescriptionStyleModel",
       "_view_count": null,
       "_view_module": "@jupyter-widgets/base",
       "_view_module_version": "1.2.0",
       "_view_name": "StyleView",
       "description_width": ""
      }
     },
     "95f042c7424e41c7a2e7789cbc3acc8b": {
      "model_module": "@jupyter-widgets/base",
      "model_module_version": "1.2.0",
      "model_name": "LayoutModel",
      "state": {
       "_model_module": "@jupyter-widgets/base",
       "_model_module_version": "1.2.0",
       "_model_name": "LayoutModel",
       "_view_count": null,
       "_view_module": "@jupyter-widgets/base",
       "_view_module_version": "1.2.0",
       "_view_name": "LayoutView",
       "align_content": null,
       "align_items": null,
       "align_self": null,
       "border": null,
       "bottom": null,
       "display": null,
       "flex": null,
       "flex_flow": null,
       "grid_area": null,
       "grid_auto_columns": null,
       "grid_auto_flow": null,
       "grid_auto_rows": null,
       "grid_column": null,
       "grid_gap": null,
       "grid_row": null,
       "grid_template_areas": null,
       "grid_template_columns": null,
       "grid_template_rows": null,
       "height": null,
       "justify_content": null,
       "justify_items": null,
       "left": null,
       "margin": null,
       "max_height": null,
       "max_width": null,
       "min_height": null,
       "min_width": null,
       "object_fit": null,
       "object_position": null,
       "order": null,
       "overflow": null,
       "overflow_x": null,
       "overflow_y": null,
       "padding": null,
       "right": null,
       "top": null,
       "visibility": null,
       "width": null
      }
     },
     "989ad86f4c294d19b179aa22b2188058": {
      "model_module": "@jupyter-widgets/controls",
      "model_module_version": "1.5.0",
      "model_name": "HTMLModel",
      "state": {
       "_dom_classes": [],
       "_model_module": "@jupyter-widgets/controls",
       "_model_module_version": "1.5.0",
       "_model_name": "HTMLModel",
       "_view_count": null,
       "_view_module": "@jupyter-widgets/controls",
       "_view_module_version": "1.5.0",
       "_view_name": "HTMLView",
       "description": "",
       "description_tooltip": null,
       "layout": "IPY_MODEL_415e5ddb5d0f4f6cbc497b8d1bf9638f",
       "placeholder": "​",
       "style": "IPY_MODEL_939b71bca11f44a1b0e8572699457cde",
       "value": " 615/615 [00:00&lt;00:00, 18.3kB/s]"
      }
     },
     "9e9d6b951b184bc4a1e28e59c7a53177": {
      "model_module": "@jupyter-widgets/base",
      "model_module_version": "1.2.0",
      "model_name": "LayoutModel",
      "state": {
       "_model_module": "@jupyter-widgets/base",
       "_model_module_version": "1.2.0",
       "_model_name": "LayoutModel",
       "_view_count": null,
       "_view_module": "@jupyter-widgets/base",
       "_view_module_version": "1.2.0",
       "_view_name": "LayoutView",
       "align_content": null,
       "align_items": null,
       "align_self": null,
       "border": null,
       "bottom": null,
       "display": null,
       "flex": null,
       "flex_flow": null,
       "grid_area": null,
       "grid_auto_columns": null,
       "grid_auto_flow": null,
       "grid_auto_rows": null,
       "grid_column": null,
       "grid_gap": null,
       "grid_row": null,
       "grid_template_areas": null,
       "grid_template_columns": null,
       "grid_template_rows": null,
       "height": null,
       "justify_content": null,
       "justify_items": null,
       "left": null,
       "margin": null,
       "max_height": null,
       "max_width": null,
       "min_height": null,
       "min_width": null,
       "object_fit": null,
       "object_position": null,
       "order": null,
       "overflow": null,
       "overflow_x": null,
       "overflow_y": null,
       "padding": null,
       "right": null,
       "top": null,
       "visibility": null,
       "width": null
      }
     },
     "9f3093695f00440897a08ca01ee4cae4": {
      "model_module": "@jupyter-widgets/controls",
      "model_module_version": "1.5.0",
      "model_name": "HBoxModel",
      "state": {
       "_dom_classes": [],
       "_model_module": "@jupyter-widgets/controls",
       "_model_module_version": "1.5.0",
       "_model_name": "HBoxModel",
       "_view_count": null,
       "_view_module": "@jupyter-widgets/controls",
       "_view_module_version": "1.5.0",
       "_view_name": "HBoxView",
       "box_style": "",
       "children": [
        "IPY_MODEL_fd73e278744543fb9ca6c449b36bae35",
        "IPY_MODEL_3746c507dbb849f5ba38dffe505ab5de",
        "IPY_MODEL_047fea35912f40458a39d06ab35b6790"
       ],
       "layout": "IPY_MODEL_5e439e4a27c84b6a88bb4368e8c947be"
      }
     },
     "a0a40a4e54a343928b4f9eb7df9ff485": {
      "model_module": "@jupyter-widgets/controls",
      "model_module_version": "1.5.0",
      "model_name": "ProgressStyleModel",
      "state": {
       "_model_module": "@jupyter-widgets/controls",
       "_model_module_version": "1.5.0",
       "_model_name": "ProgressStyleModel",
       "_view_count": null,
       "_view_module": "@jupyter-widgets/base",
       "_view_module_version": "1.2.0",
       "_view_name": "StyleView",
       "bar_color": null,
       "description_width": ""
      }
     },
     "a3a3dc48a3ee485b9ff9eab0b450ac33": {
      "model_module": "@jupyter-widgets/controls",
      "model_module_version": "1.5.0",
      "model_name": "HTMLModel",
      "state": {
       "_dom_classes": [],
       "_model_module": "@jupyter-widgets/controls",
       "_model_module_version": "1.5.0",
       "_model_name": "HTMLModel",
       "_view_count": null,
       "_view_module": "@jupyter-widgets/controls",
       "_view_module_version": "1.5.0",
       "_view_name": "HTMLView",
       "description": "",
       "description_tooltip": null,
       "layout": "IPY_MODEL_8fbee29dbd9c443fb8b04f05236a2ff0",
       "placeholder": "​",
       "style": "IPY_MODEL_12ccf88afc764164bd6557a254478eff",
       "value": "Downloading: 100%"
      }
     },
     "a7cc40f0328d4dfc8a44af4cd732e6aa": {
      "model_module": "@jupyter-widgets/controls",
      "model_module_version": "1.5.0",
      "model_name": "HTMLModel",
      "state": {
       "_dom_classes": [],
       "_model_module": "@jupyter-widgets/controls",
       "_model_module_version": "1.5.0",
       "_model_name": "HTMLModel",
       "_view_count": null,
       "_view_module": "@jupyter-widgets/controls",
       "_view_module_version": "1.5.0",
       "_view_name": "HTMLView",
       "description": "",
       "description_tooltip": null,
       "layout": "IPY_MODEL_2562be8c0bc54f1a8157f0804e5b31bd",
       "placeholder": "​",
       "style": "IPY_MODEL_d8ab8c86ce0d44a7833b0add526ced5e",
       "value": "Downloading: 100%"
      }
     },
     "abe81862aebb4e37835f047351aed8a5": {
      "model_module": "@jupyter-widgets/controls",
      "model_module_version": "1.5.0",
      "model_name": "DescriptionStyleModel",
      "state": {
       "_model_module": "@jupyter-widgets/controls",
       "_model_module_version": "1.5.0",
       "_model_name": "DescriptionStyleModel",
       "_view_count": null,
       "_view_module": "@jupyter-widgets/base",
       "_view_module_version": "1.2.0",
       "_view_name": "StyleView",
       "description_width": ""
      }
     },
     "ae1341d1ddc1474a8d76d316401dd889": {
      "model_module": "@jupyter-widgets/base",
      "model_module_version": "1.2.0",
      "model_name": "LayoutModel",
      "state": {
       "_model_module": "@jupyter-widgets/base",
       "_model_module_version": "1.2.0",
       "_model_name": "LayoutModel",
       "_view_count": null,
       "_view_module": "@jupyter-widgets/base",
       "_view_module_version": "1.2.0",
       "_view_name": "LayoutView",
       "align_content": null,
       "align_items": null,
       "align_self": null,
       "border": null,
       "bottom": null,
       "display": null,
       "flex": null,
       "flex_flow": null,
       "grid_area": null,
       "grid_auto_columns": null,
       "grid_auto_flow": null,
       "grid_auto_rows": null,
       "grid_column": null,
       "grid_gap": null,
       "grid_row": null,
       "grid_template_areas": null,
       "grid_template_columns": null,
       "grid_template_rows": null,
       "height": null,
       "justify_content": null,
       "justify_items": null,
       "left": null,
       "margin": null,
       "max_height": null,
       "max_width": null,
       "min_height": null,
       "min_width": null,
       "object_fit": null,
       "object_position": null,
       "order": null,
       "overflow": null,
       "overflow_x": null,
       "overflow_y": null,
       "padding": null,
       "right": null,
       "top": null,
       "visibility": null,
       "width": null
      }
     },
     "b7528d369a314444b4341def68ebe463": {
      "model_module": "@jupyter-widgets/controls",
      "model_module_version": "1.5.0",
      "model_name": "DescriptionStyleModel",
      "state": {
       "_model_module": "@jupyter-widgets/controls",
       "_model_module_version": "1.5.0",
       "_model_name": "DescriptionStyleModel",
       "_view_count": null,
       "_view_module": "@jupyter-widgets/base",
       "_view_module_version": "1.2.0",
       "_view_name": "StyleView",
       "description_width": ""
      }
     },
     "c75094eef24747499e9f4787c132e56d": {
      "model_module": "@jupyter-widgets/base",
      "model_module_version": "1.2.0",
      "model_name": "LayoutModel",
      "state": {
       "_model_module": "@jupyter-widgets/base",
       "_model_module_version": "1.2.0",
       "_model_name": "LayoutModel",
       "_view_count": null,
       "_view_module": "@jupyter-widgets/base",
       "_view_module_version": "1.2.0",
       "_view_name": "LayoutView",
       "align_content": null,
       "align_items": null,
       "align_self": null,
       "border": null,
       "bottom": null,
       "display": null,
       "flex": null,
       "flex_flow": null,
       "grid_area": null,
       "grid_auto_columns": null,
       "grid_auto_flow": null,
       "grid_auto_rows": null,
       "grid_column": null,
       "grid_gap": null,
       "grid_row": null,
       "grid_template_areas": null,
       "grid_template_columns": null,
       "grid_template_rows": null,
       "height": null,
       "justify_content": null,
       "justify_items": null,
       "left": null,
       "margin": null,
       "max_height": null,
       "max_width": null,
       "min_height": null,
       "min_width": null,
       "object_fit": null,
       "object_position": null,
       "order": null,
       "overflow": null,
       "overflow_x": null,
       "overflow_y": null,
       "padding": null,
       "right": null,
       "top": null,
       "visibility": null,
       "width": null
      }
     },
     "ca182b48b3174f8e978ab4e9c7beab85": {
      "model_module": "@jupyter-widgets/base",
      "model_module_version": "1.2.0",
      "model_name": "LayoutModel",
      "state": {
       "_model_module": "@jupyter-widgets/base",
       "_model_module_version": "1.2.0",
       "_model_name": "LayoutModel",
       "_view_count": null,
       "_view_module": "@jupyter-widgets/base",
       "_view_module_version": "1.2.0",
       "_view_name": "LayoutView",
       "align_content": null,
       "align_items": null,
       "align_self": null,
       "border": null,
       "bottom": null,
       "display": null,
       "flex": null,
       "flex_flow": null,
       "grid_area": null,
       "grid_auto_columns": null,
       "grid_auto_flow": null,
       "grid_auto_rows": null,
       "grid_column": null,
       "grid_gap": null,
       "grid_row": null,
       "grid_template_areas": null,
       "grid_template_columns": null,
       "grid_template_rows": null,
       "height": null,
       "justify_content": null,
       "justify_items": null,
       "left": null,
       "margin": null,
       "max_height": null,
       "max_width": null,
       "min_height": null,
       "min_width": null,
       "object_fit": null,
       "object_position": null,
       "order": null,
       "overflow": null,
       "overflow_x": null,
       "overflow_y": null,
       "padding": null,
       "right": null,
       "top": null,
       "visibility": null,
       "width": null
      }
     },
     "d8198e4155924ea089f1a54884c179a8": {
      "model_module": "@jupyter-widgets/base",
      "model_module_version": "1.2.0",
      "model_name": "LayoutModel",
      "state": {
       "_model_module": "@jupyter-widgets/base",
       "_model_module_version": "1.2.0",
       "_model_name": "LayoutModel",
       "_view_count": null,
       "_view_module": "@jupyter-widgets/base",
       "_view_module_version": "1.2.0",
       "_view_name": "LayoutView",
       "align_content": null,
       "align_items": null,
       "align_self": null,
       "border": null,
       "bottom": null,
       "display": null,
       "flex": null,
       "flex_flow": null,
       "grid_area": null,
       "grid_auto_columns": null,
       "grid_auto_flow": null,
       "grid_auto_rows": null,
       "grid_column": null,
       "grid_gap": null,
       "grid_row": null,
       "grid_template_areas": null,
       "grid_template_columns": null,
       "grid_template_rows": null,
       "height": null,
       "justify_content": null,
       "justify_items": null,
       "left": null,
       "margin": null,
       "max_height": null,
       "max_width": null,
       "min_height": null,
       "min_width": null,
       "object_fit": null,
       "object_position": null,
       "order": null,
       "overflow": null,
       "overflow_x": null,
       "overflow_y": null,
       "padding": null,
       "right": null,
       "top": null,
       "visibility": null,
       "width": null
      }
     },
     "d8ab8c86ce0d44a7833b0add526ced5e": {
      "model_module": "@jupyter-widgets/controls",
      "model_module_version": "1.5.0",
      "model_name": "DescriptionStyleModel",
      "state": {
       "_model_module": "@jupyter-widgets/controls",
       "_model_module_version": "1.5.0",
       "_model_name": "DescriptionStyleModel",
       "_view_count": null,
       "_view_module": "@jupyter-widgets/base",
       "_view_module_version": "1.2.0",
       "_view_name": "StyleView",
       "description_width": ""
      }
     },
     "da11f1897a1a461d8ca029759accb5e5": {
      "model_module": "@jupyter-widgets/base",
      "model_module_version": "1.2.0",
      "model_name": "LayoutModel",
      "state": {
       "_model_module": "@jupyter-widgets/base",
       "_model_module_version": "1.2.0",
       "_model_name": "LayoutModel",
       "_view_count": null,
       "_view_module": "@jupyter-widgets/base",
       "_view_module_version": "1.2.0",
       "_view_name": "LayoutView",
       "align_content": null,
       "align_items": null,
       "align_self": null,
       "border": null,
       "bottom": null,
       "display": null,
       "flex": null,
       "flex_flow": null,
       "grid_area": null,
       "grid_auto_columns": null,
       "grid_auto_flow": null,
       "grid_auto_rows": null,
       "grid_column": null,
       "grid_gap": null,
       "grid_row": null,
       "grid_template_areas": null,
       "grid_template_columns": null,
       "grid_template_rows": null,
       "height": null,
       "justify_content": null,
       "justify_items": null,
       "left": null,
       "margin": null,
       "max_height": null,
       "max_width": null,
       "min_height": null,
       "min_width": null,
       "object_fit": null,
       "object_position": null,
       "order": null,
       "overflow": null,
       "overflow_x": null,
       "overflow_y": null,
       "padding": null,
       "right": null,
       "top": null,
       "visibility": null,
       "width": null
      }
     },
     "e05f7ea37874485bbdb2db6804636d49": {
      "model_module": "@jupyter-widgets/base",
      "model_module_version": "1.2.0",
      "model_name": "LayoutModel",
      "state": {
       "_model_module": "@jupyter-widgets/base",
       "_model_module_version": "1.2.0",
       "_model_name": "LayoutModel",
       "_view_count": null,
       "_view_module": "@jupyter-widgets/base",
       "_view_module_version": "1.2.0",
       "_view_name": "LayoutView",
       "align_content": null,
       "align_items": null,
       "align_self": null,
       "border": null,
       "bottom": null,
       "display": null,
       "flex": null,
       "flex_flow": null,
       "grid_area": null,
       "grid_auto_columns": null,
       "grid_auto_flow": null,
       "grid_auto_rows": null,
       "grid_column": null,
       "grid_gap": null,
       "grid_row": null,
       "grid_template_areas": null,
       "grid_template_columns": null,
       "grid_template_rows": null,
       "height": null,
       "justify_content": null,
       "justify_items": null,
       "left": null,
       "margin": null,
       "max_height": null,
       "max_width": null,
       "min_height": null,
       "min_width": null,
       "object_fit": null,
       "object_position": null,
       "order": null,
       "overflow": null,
       "overflow_x": null,
       "overflow_y": null,
       "padding": null,
       "right": null,
       "top": null,
       "visibility": null,
       "width": null
      }
     },
     "e954382b786d40a3b260fcbfe5ef9845": {
      "model_module": "@jupyter-widgets/controls",
      "model_module_version": "1.5.0",
      "model_name": "DescriptionStyleModel",
      "state": {
       "_model_module": "@jupyter-widgets/controls",
       "_model_module_version": "1.5.0",
       "_model_name": "DescriptionStyleModel",
       "_view_count": null,
       "_view_module": "@jupyter-widgets/base",
       "_view_module_version": "1.2.0",
       "_view_name": "StyleView",
       "description_width": ""
      }
     },
     "eac8a1907d65461eb6e02bbffb94beb1": {
      "model_module": "@jupyter-widgets/controls",
      "model_module_version": "1.5.0",
      "model_name": "FloatProgressModel",
      "state": {
       "_dom_classes": [],
       "_model_module": "@jupyter-widgets/controls",
       "_model_module_version": "1.5.0",
       "_model_name": "FloatProgressModel",
       "_view_count": null,
       "_view_module": "@jupyter-widgets/controls",
       "_view_module_version": "1.5.0",
       "_view_name": "ProgressView",
       "bar_style": "success",
       "description": "",
       "description_tooltip": null,
       "layout": "IPY_MODEL_d8198e4155924ea089f1a54884c179a8",
       "max": 615.0,
       "min": 0.0,
       "orientation": "horizontal",
       "style": "IPY_MODEL_01d10616d5fa4acc95384575abe34821",
       "value": 615.0
      }
     },
     "f0b2acbff63a4c8d87126d645823fe79": {
      "model_module": "@jupyter-widgets/controls",
      "model_module_version": "1.5.0",
      "model_name": "HTMLModel",
      "state": {
       "_dom_classes": [],
       "_model_module": "@jupyter-widgets/controls",
       "_model_module_version": "1.5.0",
       "_model_name": "HTMLModel",
       "_view_count": null,
       "_view_module": "@jupyter-widgets/controls",
       "_view_module_version": "1.5.0",
       "_view_name": "HTMLView",
       "description": "",
       "description_tooltip": null,
       "layout": "IPY_MODEL_0f7b8db56b6d4ffc8870625a1654da4a",
       "placeholder": "​",
       "style": "IPY_MODEL_00f4943d0acd4f19840f1dcc9f72c4c4",
       "value": "Downloading: 100%"
      }
     },
     "f69c8ee0ed5f4112944b9a1eb74e10a9": {
      "model_module": "@jupyter-widgets/base",
      "model_module_version": "1.2.0",
      "model_name": "LayoutModel",
      "state": {
       "_model_module": "@jupyter-widgets/base",
       "_model_module_version": "1.2.0",
       "_model_name": "LayoutModel",
       "_view_count": null,
       "_view_module": "@jupyter-widgets/base",
       "_view_module_version": "1.2.0",
       "_view_name": "LayoutView",
       "align_content": null,
       "align_items": null,
       "align_self": null,
       "border": null,
       "bottom": null,
       "display": null,
       "flex": null,
       "flex_flow": null,
       "grid_area": null,
       "grid_auto_columns": null,
       "grid_auto_flow": null,
       "grid_auto_rows": null,
       "grid_column": null,
       "grid_gap": null,
       "grid_row": null,
       "grid_template_areas": null,
       "grid_template_columns": null,
       "grid_template_rows": null,
       "height": null,
       "justify_content": null,
       "justify_items": null,
       "left": null,
       "margin": null,
       "max_height": null,
       "max_width": null,
       "min_height": null,
       "min_width": null,
       "object_fit": null,
       "object_position": null,
       "order": null,
       "overflow": null,
       "overflow_x": null,
       "overflow_y": null,
       "padding": null,
       "right": null,
       "top": null,
       "visibility": null,
       "width": null
      }
     },
     "f73a56c2e73d4519be05dfefb1af3724": {
      "model_module": "@jupyter-widgets/controls",
      "model_module_version": "1.5.0",
      "model_name": "HBoxModel",
      "state": {
       "_dom_classes": [],
       "_model_module": "@jupyter-widgets/controls",
       "_model_module_version": "1.5.0",
       "_model_name": "HBoxModel",
       "_view_count": null,
       "_view_module": "@jupyter-widgets/controls",
       "_view_module_version": "1.5.0",
       "_view_name": "HBoxView",
       "box_style": "",
       "children": [
        "IPY_MODEL_f0b2acbff63a4c8d87126d645823fe79",
        "IPY_MODEL_7195aabc515c4932bf5b3a87e3f38016",
        "IPY_MODEL_4fed24cf570c4d80bed075e982f1c8c1"
       ],
       "layout": "IPY_MODEL_e05f7ea37874485bbdb2db6804636d49"
      }
     },
     "fbcd2004dfbc4238bcfa7307872af5e9": {
      "model_module": "@jupyter-widgets/base",
      "model_module_version": "1.2.0",
      "model_name": "LayoutModel",
      "state": {
       "_model_module": "@jupyter-widgets/base",
       "_model_module_version": "1.2.0",
       "_model_name": "LayoutModel",
       "_view_count": null,
       "_view_module": "@jupyter-widgets/base",
       "_view_module_version": "1.2.0",
       "_view_name": "LayoutView",
       "align_content": null,
       "align_items": null,
       "align_self": null,
       "border": null,
       "bottom": null,
       "display": null,
       "flex": null,
       "flex_flow": null,
       "grid_area": null,
       "grid_auto_columns": null,
       "grid_auto_flow": null,
       "grid_auto_rows": null,
       "grid_column": null,
       "grid_gap": null,
       "grid_row": null,
       "grid_template_areas": null,
       "grid_template_columns": null,
       "grid_template_rows": null,
       "height": null,
       "justify_content": null,
       "justify_items": null,
       "left": null,
       "margin": null,
       "max_height": null,
       "max_width": null,
       "min_height": null,
       "min_width": null,
       "object_fit": null,
       "object_position": null,
       "order": null,
       "overflow": null,
       "overflow_x": null,
       "overflow_y": null,
       "padding": null,
       "right": null,
       "top": null,
       "visibility": null,
       "width": null
      }
     },
     "fd73e278744543fb9ca6c449b36bae35": {
      "model_module": "@jupyter-widgets/controls",
      "model_module_version": "1.5.0",
      "model_name": "HTMLModel",
      "state": {
       "_dom_classes": [],
       "_model_module": "@jupyter-widgets/controls",
       "_model_module_version": "1.5.0",
       "_model_name": "HTMLModel",
       "_view_count": null,
       "_view_module": "@jupyter-widgets/controls",
       "_view_module_version": "1.5.0",
       "_view_name": "HTMLView",
       "description": "",
       "description_tooltip": null,
       "layout": "IPY_MODEL_fbcd2004dfbc4238bcfa7307872af5e9",
       "placeholder": "​",
       "style": "IPY_MODEL_5bef9f6d0d9140a6a7b2e130161366b1",
       "value": "Downloading: 100%"
      }
     }
    },
    "version_major": 2,
    "version_minor": 0
   }
  }
 },
 "nbformat": 4,
 "nbformat_minor": 5
}
