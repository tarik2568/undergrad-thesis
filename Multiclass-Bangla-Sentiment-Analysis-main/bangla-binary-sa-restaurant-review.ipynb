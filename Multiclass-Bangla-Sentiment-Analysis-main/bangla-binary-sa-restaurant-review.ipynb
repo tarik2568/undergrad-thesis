{
 "cells": [
  {
   "cell_type": "code",
   "execution_count": 1,
   "id": "d00ea555",
   "metadata": {
    "execution": {
     "iopub.execute_input": "2022-04-17T20:33:37.689187Z",
     "iopub.status.busy": "2022-04-17T20:33:37.688614Z",
     "iopub.status.idle": "2022-04-17T20:33:44.036459Z",
     "shell.execute_reply": "2022-04-17T20:33:44.035698Z"
    },
    "papermill": {
     "duration": 6.372841,
     "end_time": "2022-04-17T20:33:44.038783",
     "exception": false,
     "start_time": "2022-04-17T20:33:37.665942",
     "status": "completed"
    },
    "tags": []
   },
   "outputs": [],
   "source": [
    "import numpy as np\n",
    "import keras\n",
    "import pandas as pd \n",
    "from keras.models import Sequential\n",
    "from keras.layers import Dense, Dropout, Embedding, LSTM,Bidirectional\n",
    "import re\n",
    "import tensorflow as tf\n",
    "from keras.preprocessing.text import Tokenizer"
   ]
  },
  {
   "cell_type": "code",
   "execution_count": 2,
   "id": "2e983d1f",
   "metadata": {
    "execution": {
     "iopub.execute_input": "2022-04-17T20:33:44.080936Z",
     "iopub.status.busy": "2022-04-17T20:33:44.080478Z",
     "iopub.status.idle": "2022-04-17T20:33:45.266211Z",
     "shell.execute_reply": "2022-04-17T20:33:45.265512Z"
    },
    "papermill": {
     "duration": 1.209468,
     "end_time": "2022-04-17T20:33:45.268636",
     "exception": false,
     "start_time": "2022-04-17T20:33:44.059168",
     "status": "completed"
    },
    "tags": []
   },
   "outputs": [],
   "source": [
    "from keras.preprocessing.sequence import pad_sequences\n",
    "from keras.layers import Activation, Conv2D, Input, Embedding, Reshape, MaxPool1D, Concatenate, Flatten, Dropout, Dense, Conv1D\n",
    "from keras.models import Model\n",
    "from keras.callbacks import ModelCheckpoint\n",
    "from tensorflow.keras.optimizers import Adam,SGD\n",
    "import warnings\n",
    "warnings.filterwarnings('ignore')\n",
    "import seaborn as sns"
   ]
  },
  {
   "cell_type": "code",
   "execution_count": 3,
   "id": "ba25964b",
   "metadata": {
    "execution": {
     "iopub.execute_input": "2022-04-17T20:33:45.310090Z",
     "iopub.status.busy": "2022-04-17T20:33:45.309612Z",
     "iopub.status.idle": "2022-04-17T20:33:45.321266Z",
     "shell.execute_reply": "2022-04-17T20:33:45.320361Z"
    },
    "papermill": {
     "duration": 0.034933,
     "end_time": "2022-04-17T20:33:45.323630",
     "exception": false,
     "start_time": "2022-04-17T20:33:45.288697",
     "status": "completed"
    },
    "tags": []
   },
   "outputs": [
    {
     "name": "stdout",
     "output_type": "stream",
     "text": [
      "/kaggle/input/sa-bangla-binary-restaurant-review/Bert_Preprocessed_Restaurant_Review_Dataset.xlsx\n"
     ]
    }
   ],
   "source": [
    "import os\n",
    "for dirname, _, filenames in os.walk('/kaggle/input'):\n",
    "    for filename in filenames:\n",
    "        print(os.path.join(dirname, filename))"
   ]
  },
  {
   "cell_type": "code",
   "execution_count": 4,
   "id": "47c870c8",
   "metadata": {
    "execution": {
     "iopub.execute_input": "2022-04-17T20:33:45.367598Z",
     "iopub.status.busy": "2022-04-17T20:33:45.366810Z",
     "iopub.status.idle": "2022-04-17T20:33:58.246832Z",
     "shell.execute_reply": "2022-04-17T20:33:58.245674Z"
    },
    "papermill": {
     "duration": 12.903495,
     "end_time": "2022-04-17T20:33:58.249104",
     "exception": false,
     "start_time": "2022-04-17T20:33:45.345609",
     "status": "completed"
    },
    "tags": []
   },
   "outputs": [
    {
     "name": "stdout",
     "output_type": "stream",
     "text": [
      "Collecting openpyxl\r\n",
      "  Downloading openpyxl-3.0.9-py2.py3-none-any.whl (242 kB)\r\n",
      "\u001b[2K     \u001b[90m━━━━━━━━━━━━━━━━━━━━━━━━━━━━━━━━━━━━━\u001b[0m \u001b[32m242.2/242.2 KB\u001b[0m \u001b[31m448.7 kB/s\u001b[0m eta \u001b[36m0:00:00\u001b[0m\r\n",
      "\u001b[?25hCollecting et-xmlfile\r\n",
      "  Downloading et_xmlfile-1.1.0-py3-none-any.whl (4.7 kB)\r\n",
      "Installing collected packages: et-xmlfile, openpyxl\r\n",
      "Successfully installed et-xmlfile-1.1.0 openpyxl-3.0.9\r\n",
      "\u001b[33mWARNING: Running pip as the 'root' user can result in broken permissions and conflicting behaviour with the system package manager. It is recommended to use a virtual environment instead: https://pip.pypa.io/warnings/venv\u001b[0m\u001b[33m\r\n",
      "\u001b[0mNote: you may need to restart the kernel to use updated packages.\n"
     ]
    }
   ],
   "source": [
    "pip install openpyxl"
   ]
  },
  {
   "cell_type": "code",
   "execution_count": 5,
   "id": "ea24009a",
   "metadata": {
    "execution": {
     "iopub.execute_input": "2022-04-17T20:33:58.301952Z",
     "iopub.status.busy": "2022-04-17T20:33:58.301630Z",
     "iopub.status.idle": "2022-04-17T20:33:58.883001Z",
     "shell.execute_reply": "2022-04-17T20:33:58.881856Z"
    },
    "papermill": {
     "duration": 0.610601,
     "end_time": "2022-04-17T20:33:58.885266",
     "exception": false,
     "start_time": "2022-04-17T20:33:58.274665",
     "status": "completed"
    },
    "tags": []
   },
   "outputs": [
    {
     "name": "stdout",
     "output_type": "stream",
     "text": [
      "<class 'pandas.core.frame.DataFrame'>\n",
      "RangeIndex: 1431 entries, 0 to 1430\n",
      "Data columns (total 8 columns):\n",
      " #   Column        Non-Null Count  Dtype \n",
      "---  ------        --------------  ----- \n",
      " 0   Unnamed: 0    1431 non-null   int64 \n",
      " 1   Unnamed: 0.1  1431 non-null   int64 \n",
      " 2   Reviews       1431 non-null   object\n",
      " 3   Sentiment     1431 non-null   object\n",
      " 4   Text          1431 non-null   object\n",
      " 5   Label         1431 non-null   int64 \n",
      " 6   Token         1431 non-null   object\n",
      " 7   Token_ID      1431 non-null   object\n",
      "dtypes: int64(3), object(5)\n",
      "memory usage: 89.6+ KB\n"
     ]
    }
   ],
   "source": [
    "df=pd.read_excel('/kaggle/input/sa-bangla-binary-restaurant-review/Bert_Preprocessed_Restaurant_Review_Dataset.xlsx')\n",
    "df.info()"
   ]
  },
  {
   "cell_type": "code",
   "execution_count": 6,
   "id": "a36e1493",
   "metadata": {
    "execution": {
     "iopub.execute_input": "2022-04-17T20:33:58.940522Z",
     "iopub.status.busy": "2022-04-17T20:33:58.940045Z",
     "iopub.status.idle": "2022-04-17T20:33:58.957080Z",
     "shell.execute_reply": "2022-04-17T20:33:58.956499Z"
    },
    "papermill": {
     "duration": 0.047826,
     "end_time": "2022-04-17T20:33:58.959129",
     "exception": false,
     "start_time": "2022-04-17T20:33:58.911303",
     "status": "completed"
    },
    "tags": []
   },
   "outputs": [
    {
     "data": {
      "text/html": [
       "<div>\n",
       "<style scoped>\n",
       "    .dataframe tbody tr th:only-of-type {\n",
       "        vertical-align: middle;\n",
       "    }\n",
       "\n",
       "    .dataframe tbody tr th {\n",
       "        vertical-align: top;\n",
       "    }\n",
       "\n",
       "    .dataframe thead th {\n",
       "        text-align: right;\n",
       "    }\n",
       "</style>\n",
       "<table border=\"1\" class=\"dataframe\">\n",
       "  <thead>\n",
       "    <tr style=\"text-align: right;\">\n",
       "      <th></th>\n",
       "      <th>Unnamed: 0</th>\n",
       "      <th>Unnamed: 0.1</th>\n",
       "      <th>Reviews</th>\n",
       "      <th>Sentiment</th>\n",
       "      <th>Text</th>\n",
       "      <th>Label</th>\n",
       "      <th>Token</th>\n",
       "      <th>Token_ID</th>\n",
       "    </tr>\n",
       "  </thead>\n",
       "  <tbody>\n",
       "    <tr>\n",
       "      <th>0</th>\n",
       "      <td>501</td>\n",
       "      <td>501</td>\n",
       "      <td>পরিবেশ খাদ্য ও সেবা ছিল মহান</td>\n",
       "      <td>positive</td>\n",
       "      <td>পরিবেশ খাদ্য ও সেবা ছিল মহান</td>\n",
       "      <td>1</td>\n",
       "      <td>['পরিবেশ', 'খাদ', '##য', 'ও', 'সেবা', 'ছিল', '...</td>\n",
       "      <td>[2679, 19673, 9294, 2038, 2872, 2072, 4444]</td>\n",
       "    </tr>\n",
       "    <tr>\n",
       "      <th>1</th>\n",
       "      <td>264</td>\n",
       "      <td>264</td>\n",
       "      <td>খাবারগুলো এত ইয়াম্মিইইইই...ইচ্ছে করে প্রতিদিন ...</td>\n",
       "      <td>positive</td>\n",
       "      <td>খাবারগুলো এত ইয়াম্মিইইইইইচ্ছে করে প্রতিদিন খাই</td>\n",
       "      <td>1</td>\n",
       "      <td>['খাবার', '##গলে', '##া', 'এত', 'ই', '##যাম', ...</td>\n",
       "      <td>[2545, 64716, 2395, 2592, 2554, 71968, 6968, 2...</td>\n",
       "    </tr>\n",
       "    <tr>\n",
       "      <th>2</th>\n",
       "      <td>405</td>\n",
       "      <td>405</td>\n",
       "      <td>শহরে সেরা মুরগির রেসিপি জন্য নিঃসন্দেহে জায়গা</td>\n",
       "      <td>positive</td>\n",
       "      <td>শহরে সেরা মুরগির রেসিপি জন্য নিঃসন্দেহে জায়গা</td>\n",
       "      <td>1</td>\n",
       "      <td>['শহরে', 'সেরা', 'মর', '##গির', 'রেসিপি', 'জন'...</td>\n",
       "      <td>[2881, 2617, 18849, 25654, 10643, 2181, 9294, ...</td>\n",
       "    </tr>\n",
       "    <tr>\n",
       "      <th>3</th>\n",
       "      <td>435</td>\n",
       "      <td>435</td>\n",
       "      <td>আজ রাতে আমি কাবাব ও খাদ্য এ আমার পরিবারের সাথে...</td>\n",
       "      <td>positive</td>\n",
       "      <td>আজ রাতে আমি কাবাব ও খাদ্য এ আমার পরিবারের সাথে...</td>\n",
       "      <td>1</td>\n",
       "      <td>['আজ', 'রাতে', 'আমি', 'কাবাব', 'ও', 'খাদ', '##...</td>\n",
       "      <td>[2145, 2736, 2169, 12677, 2038, 19673, 9294, 2...</td>\n",
       "    </tr>\n",
       "    <tr>\n",
       "      <th>4</th>\n",
       "      <td>1001</td>\n",
       "      <td>1001</td>\n",
       "      <td>বেইলি রোড শাখাতে সুপার ধীর সেবা</td>\n",
       "      <td>negative</td>\n",
       "      <td>বেইলি রোড শাখাতে সুপার ধীর সেবা</td>\n",
       "      <td>0</td>\n",
       "      <td>['বেইলি', 'রে', '##াড', 'শাখা', '##তে', 'সপ', ...</td>\n",
       "      <td>[14379, 4972, 35897, 3574, 2200, 73835, 3187, ...</td>\n",
       "    </tr>\n",
       "  </tbody>\n",
       "</table>\n",
       "</div>"
      ],
      "text/plain": [
       "   Unnamed: 0  Unnamed: 0.1  \\\n",
       "0         501           501   \n",
       "1         264           264   \n",
       "2         405           405   \n",
       "3         435           435   \n",
       "4        1001          1001   \n",
       "\n",
       "                                             Reviews Sentiment  \\\n",
       "0                       পরিবেশ খাদ্য ও সেবা ছিল মহান  positive   \n",
       "1  খাবারগুলো এত ইয়াম্মিইইইই...ইচ্ছে করে প্রতিদিন ...  positive   \n",
       "2     শহরে সেরা মুরগির রেসিপি জন্য নিঃসন্দেহে জায়গা  positive   \n",
       "3  আজ রাতে আমি কাবাব ও খাদ্য এ আমার পরিবারের সাথে...  positive   \n",
       "4                    বেইলি রোড শাখাতে সুপার ধীর সেবা  negative   \n",
       "\n",
       "                                                Text  Label  \\\n",
       "0                       পরিবেশ খাদ্য ও সেবা ছিল মহান      1   \n",
       "1     খাবারগুলো এত ইয়াম্মিইইইইইচ্ছে করে প্রতিদিন খাই      1   \n",
       "2     শহরে সেরা মুরগির রেসিপি জন্য নিঃসন্দেহে জায়গা      1   \n",
       "3  আজ রাতে আমি কাবাব ও খাদ্য এ আমার পরিবারের সাথে...      1   \n",
       "4                    বেইলি রোড শাখাতে সুপার ধীর সেবা      0   \n",
       "\n",
       "                                               Token  \\\n",
       "0  ['পরিবেশ', 'খাদ', '##য', 'ও', 'সেবা', 'ছিল', '...   \n",
       "1  ['খাবার', '##গলে', '##া', 'এত', 'ই', '##যাম', ...   \n",
       "2  ['শহরে', 'সেরা', 'মর', '##গির', 'রেসিপি', 'জন'...   \n",
       "3  ['আজ', 'রাতে', 'আমি', 'কাবাব', 'ও', 'খাদ', '##...   \n",
       "4  ['বেইলি', 'রে', '##াড', 'শাখা', '##তে', 'সপ', ...   \n",
       "\n",
       "                                            Token_ID  \n",
       "0        [2679, 19673, 9294, 2038, 2872, 2072, 4444]  \n",
       "1  [2545, 64716, 2395, 2592, 2554, 71968, 6968, 2...  \n",
       "2  [2881, 2617, 18849, 25654, 10643, 2181, 9294, ...  \n",
       "3  [2145, 2736, 2169, 12677, 2038, 19673, 9294, 2...  \n",
       "4  [14379, 4972, 35897, 3574, 2200, 73835, 3187, ...  "
      ]
     },
     "execution_count": 6,
     "metadata": {},
     "output_type": "execute_result"
    }
   ],
   "source": [
    "df.head()"
   ]
  },
  {
   "cell_type": "code",
   "execution_count": 7,
   "id": "4c0b5357",
   "metadata": {
    "execution": {
     "iopub.execute_input": "2022-04-17T20:33:59.012545Z",
     "iopub.status.busy": "2022-04-17T20:33:59.012029Z",
     "iopub.status.idle": "2022-04-17T20:33:59.216348Z",
     "shell.execute_reply": "2022-04-17T20:33:59.215519Z"
    },
    "papermill": {
     "duration": 0.233155,
     "end_time": "2022-04-17T20:33:59.218354",
     "exception": false,
     "start_time": "2022-04-17T20:33:58.985199",
     "status": "completed"
    },
    "tags": []
   },
   "outputs": [
    {
     "data": {
      "text/plain": [
       "<AxesSubplot:xlabel='Sentiment', ylabel='count'>"
      ]
     },
     "execution_count": 7,
     "metadata": {},
     "output_type": "execute_result"
    },
    {
     "data": {
      "image/png": "[encoded data removed]",
      "text/plain": [
       "<Figure size 432x288 with 1 Axes>"
      ]
     },
     "metadata": {
      "needs_background": "light"
     },
     "output_type": "display_data"
    }
   ],
   "source": [
    "sns.countplot(df['Sentiment'])"
   ]
  },
  {
   "cell_type": "code",
   "execution_count": 8,
   "id": "b5214aeb",
   "metadata": {
    "execution": {
     "iopub.execute_input": "2022-04-17T20:33:59.273296Z",
     "iopub.status.busy": "2022-04-17T20:33:59.272841Z",
     "iopub.status.idle": "2022-04-17T20:33:59.279851Z",
     "shell.execute_reply": "2022-04-17T20:33:59.279210Z"
    },
    "papermill": {
     "duration": 0.036808,
     "end_time": "2022-04-17T20:33:59.281668",
     "exception": false,
     "start_time": "2022-04-17T20:33:59.244860",
     "status": "completed"
    },
    "tags": []
   },
   "outputs": [
    {
     "data": {
      "text/plain": [
       "(negative    794\n",
       " positive    637\n",
       " Name: Sentiment, dtype: int64,\n",
       " 1431)"
      ]
     },
     "execution_count": 8,
     "metadata": {},
     "output_type": "execute_result"
    }
   ],
   "source": [
    "df.Sentiment.value_counts(), len(df)"
   ]
  },
  {
   "cell_type": "code",
   "execution_count": 9,
   "id": "7ab9ad56",
   "metadata": {
    "execution": {
     "iopub.execute_input": "2022-04-17T20:33:59.336987Z",
     "iopub.status.busy": "2022-04-17T20:33:59.336421Z",
     "iopub.status.idle": "2022-04-17T20:33:59.340582Z",
     "shell.execute_reply": "2022-04-17T20:33:59.339942Z"
    },
    "papermill": {
     "duration": 0.034008,
     "end_time": "2022-04-17T20:33:59.342269",
     "exception": false,
     "start_time": "2022-04-17T20:33:59.308261",
     "status": "completed"
    },
    "tags": []
   },
   "outputs": [],
   "source": [
    "maxlen = 200\n",
    "max_features = 10000\n",
    "batch_size = 32"
   ]
  },
  {
   "cell_type": "code",
   "execution_count": 10,
   "id": "d1f4957b",
   "metadata": {
    "execution": {
     "iopub.execute_input": "2022-04-17T20:33:59.397934Z",
     "iopub.status.busy": "2022-04-17T20:33:59.397329Z",
     "iopub.status.idle": "2022-04-17T20:33:59.402410Z",
     "shell.execute_reply": "2022-04-17T20:33:59.401835Z"
    },
    "papermill": {
     "duration": 0.035264,
     "end_time": "2022-04-17T20:33:59.404279",
     "exception": false,
     "start_time": "2022-04-17T20:33:59.369015",
     "status": "completed"
    },
    "tags": []
   },
   "outputs": [],
   "source": [
    "df['Text']=df['Text'].astype('str')"
   ]
  },
  {
   "cell_type": "code",
   "execution_count": 11,
   "id": "abffe508",
   "metadata": {
    "execution": {
     "iopub.execute_input": "2022-04-17T20:33:59.460144Z",
     "iopub.status.busy": "2022-04-17T20:33:59.459751Z",
     "iopub.status.idle": "2022-04-17T20:33:59.658097Z",
     "shell.execute_reply": "2022-04-17T20:33:59.657246Z"
    },
    "papermill": {
     "duration": 0.229573,
     "end_time": "2022-04-17T20:33:59.660677",
     "exception": false,
     "start_time": "2022-04-17T20:33:59.431104",
     "status": "completed"
    },
    "tags": []
   },
   "outputs": [],
   "source": [
    "from sklearn.model_selection import train_test_split\n",
    "x_train, x_test, y_train, y_test = train_test_split(df['Text'],df['Label'] , test_size=0.1,random_state=2)\n",
    "x_train, x_validation, y_train, y_validation = train_test_split(x_train,y_train,test_size=0.1,random_state=42)"
   ]
  },
  {
   "cell_type": "code",
   "execution_count": 12,
   "id": "07f03f09",
   "metadata": {
    "execution": {
     "iopub.execute_input": "2022-04-17T20:33:59.716257Z",
     "iopub.status.busy": "2022-04-17T20:33:59.715837Z",
     "iopub.status.idle": "2022-04-17T20:33:59.719844Z",
     "shell.execute_reply": "2022-04-17T20:33:59.719039Z"
    },
    "papermill": {
     "duration": 0.034005,
     "end_time": "2022-04-17T20:33:59.721652",
     "exception": false,
     "start_time": "2022-04-17T20:33:59.687647",
     "status": "completed"
    },
    "tags": []
   },
   "outputs": [],
   "source": [
    "vocab_size=15000"
   ]
  },
  {
   "cell_type": "code",
   "execution_count": 13,
   "id": "6ccd74dd",
   "metadata": {
    "execution": {
     "iopub.execute_input": "2022-04-17T20:33:59.779019Z",
     "iopub.status.busy": "2022-04-17T20:33:59.778494Z",
     "iopub.status.idle": "2022-04-17T20:33:59.874774Z",
     "shell.execute_reply": "2022-04-17T20:33:59.873764Z"
    },
    "papermill": {
     "duration": 0.127454,
     "end_time": "2022-04-17T20:33:59.876992",
     "exception": false,
     "start_time": "2022-04-17T20:33:59.749538",
     "status": "completed"
    },
    "tags": []
   },
   "outputs": [],
   "source": [
    "tokenizer  = Tokenizer(num_words = max_features,oov_token = \"<OOV>\")\n",
    "tokenizer.fit_on_texts(df['Text'])\n",
    "\n",
    "train_seq =  tokenizer.texts_to_sequences(x_train)\n",
    "val_seq =  tokenizer.texts_to_sequences(x_validation)\n",
    "test_seq = tokenizer.texts_to_sequences(x_test)"
   ]
  },
  {
   "cell_type": "code",
   "execution_count": 14,
   "id": "ae8fade4",
   "metadata": {
    "execution": {
     "iopub.execute_input": "2022-04-17T20:33:59.934167Z",
     "iopub.status.busy": "2022-04-17T20:33:59.933881Z",
     "iopub.status.idle": "2022-04-17T20:33:59.944551Z",
     "shell.execute_reply": "2022-04-17T20:33:59.943712Z"
    },
    "papermill": {
     "duration": 0.042035,
     "end_time": "2022-04-17T20:33:59.946835",
     "exception": false,
     "start_time": "2022-04-17T20:33:59.904800",
     "status": "completed"
    },
    "tags": []
   },
   "outputs": [],
   "source": [
    "x_train = pad_sequences(train_seq, maxlen=maxlen, dtype='int32', padding='post',truncating='post') #maxlen = maxlen, padding='post')\n",
    "x_validation = pad_sequences(val_seq, maxlen=maxlen, dtype='int32', padding='post',truncating='post') #maxlen = maxlen, padding='post')\n",
    "x_test = pad_sequences(test_seq, maxlen=maxlen, dtype='int32', padding='post',truncating='post') #maxlen = maxlen, padding='post')"
   ]
  },
  {
   "cell_type": "code",
   "execution_count": 15,
   "id": "378f9b47",
   "metadata": {
    "execution": {
     "iopub.execute_input": "2022-04-17T20:34:00.003016Z",
     "iopub.status.busy": "2022-04-17T20:34:00.002550Z",
     "iopub.status.idle": "2022-04-17T20:34:01.187120Z",
     "shell.execute_reply": "2022-04-17T20:34:01.186189Z"
    },
    "papermill": {
     "duration": 1.214998,
     "end_time": "2022-04-17T20:34:01.189345",
     "exception": false,
     "start_time": "2022-04-17T20:33:59.974347",
     "status": "completed"
    },
    "tags": []
   },
   "outputs": [
    {
     "name": "stderr",
     "output_type": "stream",
     "text": [
      "2022-04-17 20:34:00.048760: I tensorflow/core/common_runtime/process_util.cc:146] Creating new thread pool with default inter op setting: 2. Tune using inter_op_parallelism_threads for best performance.\n"
     ]
    },
    {
     "name": "stdout",
     "output_type": "stream",
     "text": [
      "Model: \"sequential\"\n",
      "_________________________________________________________________\n",
      "Layer (type)                 Output Shape              Param #   \n",
      "=================================================================\n",
      "Embedding (Embedding)        (None, 200, 40)           600000    \n",
      "_________________________________________________________________\n",
      "conv1d (Conv1D)              (None, 198, 200)          24200     \n",
      "_________________________________________________________________\n",
      "bidirectional (Bidirectional (None, 198, 256)          336896    \n",
      "_________________________________________________________________\n",
      "dropout (Dropout)            (None, 198, 256)          0         \n",
      "_________________________________________________________________\n",
      "bidirectional_1 (Bidirection (None, 128)               164352    \n",
      "_________________________________________________________________\n",
      "dropout_1 (Dropout)          (None, 128)               0         \n",
      "_________________________________________________________________\n",
      "dense (Dense)                (None, 50)                6450      \n",
      "_________________________________________________________________\n",
      "dropout_2 (Dropout)          (None, 50)                0         \n",
      "_________________________________________________________________\n",
      "dense_1 (Dense)              (None, 25)                1275      \n",
      "_________________________________________________________________\n",
      "dropout_3 (Dropout)          (None, 25)                0         \n",
      "_________________________________________________________________\n",
      "dense_2 (Dense)              (None, 12)                312       \n",
      "_________________________________________________________________\n",
      "flatten (Flatten)            (None, 12)                0         \n",
      "_________________________________________________________________\n",
      "dense_3 (Dense)              (None, 1)                 13        \n",
      "=================================================================\n",
      "Total params: 1,133,498\n",
      "Trainable params: 1,133,498\n",
      "Non-trainable params: 0\n",
      "_________________________________________________________________\n"
     ]
    }
   ],
   "source": [
    "model= Sequential()\n",
    "model.add(Embedding(vocab_size,40,input_length=maxlen,name='Embedding'))\n",
    "model.add(Conv1D(200, kernel_size=3, activation = \"relu\"))\n",
    "model.add(Bidirectional(LSTM(128, return_sequences=True)))\n",
    "model.add(Dropout(0.25))\n",
    "model.add(Bidirectional(LSTM(64)))\n",
    "model.add(Dropout(0.1))\n",
    "model.add(Dense(50, activation='relu'))\n",
    "model.add(Dropout(0.2))\n",
    "model.add(Dense(25, activation='relu'))\n",
    "model.add(Dropout(0.1))\n",
    "model.add(Dense(12, activation='relu'))\n",
    "model.add(Flatten())\n",
    "model.add(Dense(units=1, activation='sigmoid'))\n",
    "adam=Adam(learning_rate=0.003)\n",
    "model.summary()\n",
    "model.compile(loss='binary_crossentropy',optimizer='adam',metrics=['binary_accuracy'])"
   ]
  },
  {
   "cell_type": "code",
   "execution_count": 16,
   "id": "c4d0a34d",
   "metadata": {
    "execution": {
     "iopub.execute_input": "2022-04-17T20:34:01.247396Z",
     "iopub.status.busy": "2022-04-17T20:34:01.246524Z",
     "iopub.status.idle": "2022-04-17T20:34:01.251210Z",
     "shell.execute_reply": "2022-04-17T20:34:01.250384Z"
    },
    "papermill": {
     "duration": 0.036071,
     "end_time": "2022-04-17T20:34:01.253200",
     "exception": false,
     "start_time": "2022-04-17T20:34:01.217129",
     "status": "completed"
    },
    "tags": []
   },
   "outputs": [],
   "source": [
    "early_stopping = keras.callbacks.EarlyStopping(\n",
    "    patience=5,\n",
    "    min_delta=0.001,\n",
    "    restore_best_weights=True,\n",
    ")"
   ]
  },
  {
   "cell_type": "code",
   "execution_count": 17,
   "id": "9834b190",
   "metadata": {
    "execution": {
     "iopub.execute_input": "2022-04-17T20:34:01.310013Z",
     "iopub.status.busy": "2022-04-17T20:34:01.309665Z",
     "iopub.status.idle": "2022-04-17T20:37:44.899704Z",
     "shell.execute_reply": "2022-04-17T20:37:44.898965Z"
    },
    "papermill": {
     "duration": 223.620909,
     "end_time": "2022-04-17T20:37:44.901946",
     "exception": false,
     "start_time": "2022-04-17T20:34:01.281037",
     "status": "completed"
    },
    "tags": []
   },
   "outputs": [
    {
     "name": "stderr",
     "output_type": "stream",
     "text": [
      "2022-04-17 20:34:01.623335: I tensorflow/compiler/mlir/mlir_graph_optimization_pass.cc:185] None of the MLIR Optimization Passes are enabled (registered 2)\n"
     ]
    },
    {
     "name": "stdout",
     "output_type": "stream",
     "text": [
      "Epoch 1/30\n",
      "37/37 [==============================] - 42s 884ms/step - loss: 0.6441 - binary_accuracy: 0.6183 - val_loss: 0.4952 - val_binary_accuracy: 0.7829\n",
      "Epoch 2/30\n",
      "37/37 [==============================] - 31s 844ms/step - loss: 0.3691 - binary_accuracy: 0.8670 - val_loss: 0.4014 - val_binary_accuracy: 0.8372\n",
      "Epoch 3/30\n",
      "37/37 [==============================] - 30s 805ms/step - loss: 0.1667 - binary_accuracy: 0.9465 - val_loss: 0.4247 - val_binary_accuracy: 0.8372\n",
      "Epoch 4/30\n",
      "37/37 [==============================] - 30s 815ms/step - loss: 0.0833 - binary_accuracy: 0.9775 - val_loss: 0.7097 - val_binary_accuracy: 0.8372\n",
      "Epoch 5/30\n",
      "37/37 [==============================] - 30s 813ms/step - loss: 0.0556 - binary_accuracy: 0.9845 - val_loss: 0.6288 - val_binary_accuracy: 0.8682\n",
      "Epoch 6/30\n",
      "37/37 [==============================] - 30s 809ms/step - loss: 0.0404 - binary_accuracy: 0.9922 - val_loss: 0.6798 - val_binary_accuracy: 0.8760\n",
      "Epoch 7/30\n",
      "37/37 [==============================] - 30s 814ms/step - loss: 0.0082 - binary_accuracy: 0.9974 - val_loss: 1.1027 - val_binary_accuracy: 0.8372\n"
     ]
    }
   ],
   "source": [
    "history = model.fit(x_train, y_train, batch_size=batch_size, epochs=30, callbacks=[early_stopping],verbose=1, validation_data=(x_validation, y_validation))"
   ]
  },
  {
   "cell_type": "code",
   "execution_count": 18,
   "id": "625a79c3",
   "metadata": {
    "execution": {
     "iopub.execute_input": "2022-04-17T20:37:45.109998Z",
     "iopub.status.busy": "2022-04-17T20:37:45.109676Z",
     "iopub.status.idle": "2022-04-17T20:37:46.585172Z",
     "shell.execute_reply": "2022-04-17T20:37:46.584185Z"
    },
    "papermill": {
     "duration": 1.582134,
     "end_time": "2022-04-17T20:37:46.587319",
     "exception": false,
     "start_time": "2022-04-17T20:37:45.005185",
     "status": "completed"
    },
    "tags": []
   },
   "outputs": [
    {
     "data": {
      "image/png": "[encoded data removed]",
      "text/plain": [
       "<IPython.core.display.Image object>"
      ]
     },
     "execution_count": 18,
     "metadata": {},
     "output_type": "execute_result"
    }
   ],
   "source": [
    "tf.keras.utils.plot_model(model, to_file='model.png', show_shapes=False,show_layer_names=True, rankdir='TB', expand_nested=False, dpi=96)"
   ]
  },
  {
   "cell_type": "code",
   "execution_count": 19,
   "id": "016febc7",
   "metadata": {
    "execution": {
     "iopub.execute_input": "2022-04-17T20:37:46.795476Z",
     "iopub.status.busy": "2022-04-17T20:37:46.794488Z",
     "iopub.status.idle": "2022-04-17T20:37:47.840102Z",
     "shell.execute_reply": "2022-04-17T20:37:47.839045Z"
    },
    "papermill": {
     "duration": 1.152057,
     "end_time": "2022-04-17T20:37:47.842268",
     "exception": false,
     "start_time": "2022-04-17T20:37:46.690211",
     "status": "completed"
    },
    "tags": []
   },
   "outputs": [
    {
     "name": "stdout",
     "output_type": "stream",
     "text": [
      "5/5 [==============================] - 1s 188ms/step - loss: 0.3402 - binary_accuracy: 0.8542\n"
     ]
    },
    {
     "data": {
      "text/plain": [
       "[0.3402409851551056, 0.8541666865348816]"
      ]
     },
     "execution_count": 19,
     "metadata": {},
     "output_type": "execute_result"
    }
   ],
   "source": [
    "model.evaluate(x_test, y_test)"
   ]
  },
  {
   "cell_type": "code",
   "execution_count": 20,
   "id": "9b2655d1",
   "metadata": {
    "execution": {
     "iopub.execute_input": "2022-04-17T20:37:48.053952Z",
     "iopub.status.busy": "2022-04-17T20:37:48.053050Z",
     "iopub.status.idle": "2022-04-17T20:37:48.312639Z",
     "shell.execute_reply": "2022-04-17T20:37:48.311756Z"
    },
    "papermill": {
     "duration": 0.367626,
     "end_time": "2022-04-17T20:37:48.314723",
     "exception": false,
     "start_time": "2022-04-17T20:37:47.947097",
     "status": "completed"
    },
    "tags": []
   },
   "outputs": [
    {
     "data": {
      "image/png": "[encoded data removed]",
      "text/plain": [
       "<Figure size 432x288 with 1 Axes>"
      ]
     },
     "metadata": {
      "needs_background": "light"
     },
     "output_type": "display_data"
    }
   ],
   "source": [
    "import matplotlib.pyplot as plt\n",
    "\n",
    "plt.plot(history.history['binary_accuracy'], label=\"Accuracy\")\n",
    "plt.plot(history.history['val_binary_accuracy'], label=\"Validation accuracy\")\n",
    "plt.title('Accuracy')\n",
    "plt.xlabel('Epoch')\n",
    "plt.ylabel('Accuracy')\n",
    "plt.legend()\n",
    "plt.tight_layout()\n",
    "plt.show()"
   ]
  },
  {
   "cell_type": "code",
   "execution_count": 21,
   "id": "fd0456fb",
   "metadata": {
    "execution": {
     "iopub.execute_input": "2022-04-17T20:37:48.527459Z",
     "iopub.status.busy": "2022-04-17T20:37:48.526896Z",
     "iopub.status.idle": "2022-04-17T20:37:48.756702Z",
     "shell.execute_reply": "2022-04-17T20:37:48.756034Z"
    },
    "papermill": {
     "duration": 0.33895,
     "end_time": "2022-04-17T20:37:48.758973",
     "exception": false,
     "start_time": "2022-04-17T20:37:48.420023",
     "status": "completed"
    },
    "tags": []
   },
   "outputs": [
    {
     "data": {
      "image/png": "[encoded data removed]",
      "text/plain": [
       "<Figure size 432x288 with 1 Axes>"
      ]
     },
     "metadata": {
      "needs_background": "light"
     },
     "output_type": "display_data"
    }
   ],
   "source": [
    "import matplotlib.pyplot as plt\n",
    "\n",
    "plt.plot(history.history['loss'], label=\"Train loss\")\n",
    "plt.plot(history.history['val_loss'], label=\"Validation loss\")\n",
    "plt.title('Loss')\n",
    "plt.xlabel('Epoch')\n",
    "plt.ylabel('Loss')\n",
    "plt.legend()\n",
    "plt.tight_layout()\n",
    "plt.show()"
   ]
  },
  {
   "cell_type": "code",
   "execution_count": 22,
   "id": "c15e88f8",
   "metadata": {
    "execution": {
     "iopub.execute_input": "2022-04-17T20:37:48.978456Z",
     "iopub.status.busy": "2022-04-17T20:37:48.977840Z",
     "iopub.status.idle": "2022-04-17T20:37:51.683539Z",
     "shell.execute_reply": "2022-04-17T20:37:51.682804Z"
    },
    "papermill": {
     "duration": 2.818509,
     "end_time": "2022-04-17T20:37:51.686038",
     "exception": false,
     "start_time": "2022-04-17T20:37:48.867529",
     "status": "completed"
    },
    "tags": []
   },
   "outputs": [],
   "source": [
    "from sklearn.metrics import classification_report\n",
    "\n",
    "y_pred = model.predict(x_test)"
   ]
  },
  {
   "cell_type": "code",
   "execution_count": 23,
   "id": "9e66810b",
   "metadata": {
    "execution": {
     "iopub.execute_input": "2022-04-17T20:37:51.924915Z",
     "iopub.status.busy": "2022-04-17T20:37:51.924327Z",
     "iopub.status.idle": "2022-04-17T20:37:51.929186Z",
     "shell.execute_reply": "2022-04-17T20:37:51.928167Z"
    },
    "papermill": {
     "duration": 0.139247,
     "end_time": "2022-04-17T20:37:51.931770",
     "exception": false,
     "start_time": "2022-04-17T20:37:51.792523",
     "status": "completed"
    },
    "tags": []
   },
   "outputs": [],
   "source": [
    "y_pred = y_pred.reshape(-1,1)\n",
    "y_pred = np.round(y_pred)"
   ]
  },
  {
   "cell_type": "code",
   "execution_count": 24,
   "id": "c2284fc5",
   "metadata": {
    "execution": {
     "iopub.execute_input": "2022-04-17T20:37:52.174186Z",
     "iopub.status.busy": "2022-04-17T20:37:52.173640Z",
     "iopub.status.idle": "2022-04-17T20:37:52.183347Z",
     "shell.execute_reply": "2022-04-17T20:37:52.181082Z"
    },
    "papermill": {
     "duration": 0.131622,
     "end_time": "2022-04-17T20:37:52.185457",
     "exception": false,
     "start_time": "2022-04-17T20:37:52.053835",
     "status": "completed"
    },
    "tags": []
   },
   "outputs": [
    {
     "name": "stdout",
     "output_type": "stream",
     "text": [
      "[[0.]\n",
      " [0.]\n",
      " [0.]\n",
      " [0.]\n",
      " [0.]\n",
      " [1.]\n",
      " [1.]\n",
      " [1.]\n",
      " [0.]\n",
      " [1.]\n",
      " [1.]\n",
      " [1.]\n",
      " [0.]\n",
      " [1.]\n",
      " [0.]\n",
      " [1.]\n",
      " [1.]\n",
      " [1.]\n",
      " [1.]\n",
      " [0.]\n",
      " [1.]\n",
      " [1.]\n",
      " [0.]\n",
      " [1.]\n",
      " [0.]\n",
      " [0.]\n",
      " [1.]\n",
      " [1.]\n",
      " [0.]\n",
      " [0.]\n",
      " [1.]\n",
      " [0.]\n",
      " [0.]\n",
      " [1.]\n",
      " [1.]\n",
      " [1.]\n",
      " [0.]\n",
      " [1.]\n",
      " [1.]\n",
      " [0.]\n",
      " [0.]\n",
      " [0.]\n",
      " [0.]\n",
      " [1.]\n",
      " [1.]\n",
      " [0.]\n",
      " [0.]\n",
      " [0.]\n",
      " [0.]\n",
      " [1.]\n",
      " [0.]\n",
      " [0.]\n",
      " [1.]\n",
      " [0.]\n",
      " [1.]\n",
      " [0.]\n",
      " [1.]\n",
      " [0.]\n",
      " [0.]\n",
      " [1.]\n",
      " [0.]\n",
      " [0.]\n",
      " [0.]\n",
      " [1.]\n",
      " [0.]\n",
      " [0.]\n",
      " [0.]\n",
      " [1.]\n",
      " [0.]\n",
      " [1.]\n",
      " [1.]\n",
      " [0.]\n",
      " [0.]\n",
      " [0.]\n",
      " [1.]\n",
      " [1.]\n",
      " [1.]\n",
      " [1.]\n",
      " [0.]\n",
      " [1.]\n",
      " [1.]\n",
      " [1.]\n",
      " [0.]\n",
      " [0.]\n",
      " [1.]\n",
      " [1.]\n",
      " [1.]\n",
      " [0.]\n",
      " [0.]\n",
      " [0.]\n",
      " [0.]\n",
      " [0.]\n",
      " [0.]\n",
      " [0.]\n",
      " [1.]\n",
      " [0.]\n",
      " [1.]\n",
      " [1.]\n",
      " [0.]\n",
      " [1.]\n",
      " [0.]\n",
      " [0.]\n",
      " [0.]\n",
      " [1.]\n",
      " [0.]\n",
      " [0.]\n",
      " [1.]\n",
      " [0.]\n",
      " [0.]\n",
      " [1.]\n",
      " [0.]\n",
      " [0.]\n",
      " [0.]\n",
      " [0.]\n",
      " [0.]\n",
      " [1.]\n",
      " [1.]\n",
      " [0.]\n",
      " [0.]\n",
      " [0.]\n",
      " [0.]\n",
      " [1.]\n",
      " [1.]\n",
      " [1.]\n",
      " [1.]\n",
      " [1.]\n",
      " [0.]\n",
      " [0.]\n",
      " [0.]\n",
      " [1.]\n",
      " [0.]\n",
      " [1.]\n",
      " [0.]\n",
      " [0.]\n",
      " [0.]\n",
      " [0.]\n",
      " [1.]\n",
      " [0.]\n",
      " [0.]\n",
      " [0.]\n",
      " [0.]\n",
      " [0.]\n",
      " [0.]\n",
      " [1.]]\n",
      "1355    0\n",
      "553     0\n",
      "1195    0\n",
      "1389    1\n",
      "551     0\n",
      "       ..\n",
      "801     1\n",
      "365     0\n",
      "477     0\n",
      "839     0\n",
      "1064    1\n",
      "Name: Label, Length: 144, dtype: int64\n"
     ]
    }
   ],
   "source": [
    "print(y_pred)\n",
    "print(y_test)"
   ]
  },
  {
   "cell_type": "code",
   "execution_count": 25,
   "id": "03973bfa",
   "metadata": {
    "execution": {
     "iopub.execute_input": "2022-04-17T20:37:52.422096Z",
     "iopub.status.busy": "2022-04-17T20:37:52.421057Z",
     "iopub.status.idle": "2022-04-17T20:37:52.431858Z",
     "shell.execute_reply": "2022-04-17T20:37:52.430795Z"
    },
    "papermill": {
     "duration": 0.133281,
     "end_time": "2022-04-17T20:37:52.433980",
     "exception": false,
     "start_time": "2022-04-17T20:37:52.300699",
     "status": "completed"
    },
    "tags": []
   },
   "outputs": [
    {
     "name": "stdout",
     "output_type": "stream",
     "text": [
      "              precision    recall  f1-score   support\n",
      "\n",
      "    negative       0.82      0.92      0.87        74\n",
      "    positive       0.90      0.79      0.84        70\n",
      "\n",
      "    accuracy                           0.85       144\n",
      "   macro avg       0.86      0.85      0.85       144\n",
      "weighted avg       0.86      0.85      0.85       144\n",
      "\n"
     ]
    }
   ],
   "source": [
    "categories = ['negative','positive']\n",
    "print(classification_report(y_test, y_pred, target_names=categories))"
   ]
  },
  {
   "cell_type": "code",
   "execution_count": 26,
   "id": "71d58fdf",
   "metadata": {
    "execution": {
     "iopub.execute_input": "2022-04-17T20:37:52.671197Z",
     "iopub.status.busy": "2022-04-17T20:37:52.670533Z",
     "iopub.status.idle": "2022-04-17T20:37:53.039215Z",
     "shell.execute_reply": "2022-04-17T20:37:53.038288Z"
    },
    "papermill": {
     "duration": 0.4922,
     "end_time": "2022-04-17T20:37:53.041326",
     "exception": false,
     "start_time": "2022-04-17T20:37:52.549126",
     "status": "completed"
    },
    "tags": []
   },
   "outputs": [
    {
     "data": {
      "image/png": "[encoded data removed]",
      "text/plain": [
       "<Figure size 1152x1008 with 2 Axes>"
      ]
     },
     "metadata": {
      "needs_background": "light"
     },
     "output_type": "display_data"
    }
   ],
   "source": [
    "import seaborn as sns\n",
    "import matplotlib.pyplot as plt\n",
    "\n",
    "### Confusion Matrix\n",
    "from sklearn.metrics import confusion_matrix\n",
    "#predictions = model.predict(x_test, steps=len(x_test), verbose=0)\n",
    "#y_pred=model.predict(x_test)\n",
    "#y_pred = np.round(y_pred)\n",
    "\n",
    "\n",
    "cm = confusion_matrix(y_test, y_pred)\n",
    "\n",
    "## Get Class Labels\n",
    "labels = 2\n",
    "#[0,1,2,3,4,5]_\n",
    "class_names = categories \n",
    "\n",
    "# Plot confusion matrix in a beautiful manner\n",
    "fig = plt.figure(figsize=(16, 14))\n",
    "ax= plt.subplot()\n",
    "sns.heatmap(cm, annot=True, ax = ax, fmt = 'g'); #annot=True to annotate cells\n",
    "# labels, title and ticks\n",
    "ax.set_xlabel('Predicted', fontsize=20)\n",
    "ax.xaxis.set_label_position('bottom')\n",
    "plt.xticks(rotation=90)\n",
    "ax.xaxis.set_ticklabels(class_names, fontsize = 10)\n",
    "ax.xaxis.tick_bottom()\n",
    "\n",
    "ax.set_ylabel('True', fontsize=20)\n",
    "ax.yaxis.set_ticklabels(class_names, fontsize = 10)\n",
    "plt.yticks(rotation=0)\n",
    "\n",
    "plt.title('Refined Confusion Matrix', fontsize=20)\n",
    "\n",
    "plt.savefig('ConMat24.png')\n",
    "plt.show()"
   ]
  }
 ],
 "metadata": {
  "kernelspec": {
   "display_name": "Python 3",
   "language": "python",
   "name": "python3"
  },
  "language_info": {
   "codemirror_mode": {
    "name": "ipython",
    "version": 3
   },
   "file_extension": ".py",
   "mimetype": "text/x-python",
   "name": "python",
   "nbconvert_exporter": "python",
   "pygments_lexer": "ipython3",
   "version": "3.7.12"
  },
  "papermill": {
   "default_parameters": {},
   "duration": 267.649855,
   "end_time": "2022-04-17T20:37:56.143296",
   "environment_variables": {},
   "exception": null,
   "input_path": "__notebook__.ipynb",
   "output_path": "__notebook__.ipynb",
   "parameters": {},
   "start_time": "2022-04-17T20:33:28.493441",
   "version": "2.3.4"
  }
 },
 "nbformat": 4,
 "nbformat_minor": 5
}
