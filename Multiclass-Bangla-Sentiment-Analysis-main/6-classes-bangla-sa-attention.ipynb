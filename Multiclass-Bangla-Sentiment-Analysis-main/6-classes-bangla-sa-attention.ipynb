{
 "cells": [
  {
   "cell_type": "code",
   "execution_count": 1,
   "id": "b5b55033",
   "metadata": {
    "_cell_guid": "b1076dfc-b9ad-4769-8c92-a6c4dae69d19",
    "_uuid": "8f2839f25d086af736a60e9eeb907d3b93b6e0e5",
    "execution": {
     "iopub.execute_input": "2022-04-18T14:12:54.846675Z",
     "iopub.status.busy": "2022-04-18T14:12:54.846349Z",
     "iopub.status.idle": "2022-04-18T14:13:00.814876Z",
     "shell.execute_reply": "2022-04-18T14:13:00.813854Z"
    },
    "papermill": {
     "duration": 5.988916,
     "end_time": "2022-04-18T14:13:00.817499",
     "exception": false,
     "start_time": "2022-04-18T14:12:54.828583",
     "status": "completed"
    },
    "tags": []
   },
   "outputs": [],
   "source": [
    "import os\n",
    "import pandas as pd\n",
    "from keras.preprocessing.text import Tokenizer"
   ]
  },
  {
   "cell_type": "code",
   "execution_count": 2,
   "id": "c4718ddb",
   "metadata": {
    "execution": {
     "iopub.execute_input": "2022-04-18T14:13:00.848671Z",
     "iopub.status.busy": "2022-04-18T14:13:00.848398Z",
     "iopub.status.idle": "2022-04-18T14:13:00.859182Z",
     "shell.execute_reply": "2022-04-18T14:13:00.858086Z"
    },
    "papermill": {
     "duration": 0.028186,
     "end_time": "2022-04-18T14:13:00.861610",
     "exception": false,
     "start_time": "2022-04-18T14:13:00.833424",
     "status": "completed"
    },
    "tags": []
   },
   "outputs": [
    {
     "name": "stdout",
     "output_type": "stream",
     "text": [
      "/kaggle/input/6-class-bert-preprocessed-dataset/Bert_Preprocessed_Dataset.xlsx\n"
     ]
    }
   ],
   "source": [
    "import os\n",
    "for dirname, _, filenames in os.walk('/kaggle/input'):\n",
    "    for filename in filenames:\n",
    "        print(os.path.join(dirname, filename))"
   ]
  },
  {
   "cell_type": "code",
   "execution_count": 3,
   "id": "9a155edb",
   "metadata": {
    "execution": {
     "iopub.execute_input": "2022-04-18T14:13:00.895440Z",
     "iopub.status.busy": "2022-04-18T14:13:00.894702Z",
     "iopub.status.idle": "2022-04-18T14:13:11.706132Z",
     "shell.execute_reply": "2022-04-18T14:13:11.705077Z"
    },
    "papermill": {
     "duration": 10.830737,
     "end_time": "2022-04-18T14:13:11.708945",
     "exception": false,
     "start_time": "2022-04-18T14:13:00.878208",
     "status": "completed"
    },
    "tags": []
   },
   "outputs": [
    {
     "name": "stdout",
     "output_type": "stream",
     "text": [
      "Collecting openpyxl\r\n",
      "  Downloading openpyxl-3.0.9-py2.py3-none-any.whl (242 kB)\r\n",
      "\u001b[2K     \u001b[90m━━━━━━━━━━━━━━━━━━━━━━━━━━━━━━━━━━━━━━━\u001b[0m \u001b[32m242.2/242.2 KB\u001b[0m \u001b[31m5.1 MB/s\u001b[0m eta \u001b[36m0:00:00\u001b[0m\r\n",
      "\u001b[?25hCollecting et-xmlfile\r\n",
      "  Downloading et_xmlfile-1.1.0-py3-none-any.whl (4.7 kB)\r\n",
      "Installing collected packages: et-xmlfile, openpyxl\r\n",
      "Successfully installed et-xmlfile-1.1.0 openpyxl-3.0.9\r\n",
      "\u001b[33mWARNING: Running pip as the 'root' user can result in broken permissions and conflicting behaviour with the system package manager. It is recommended to use a virtual environment instead: https://pip.pypa.io/warnings/venv\u001b[0m\u001b[33m\r\n",
      "\u001b[0mNote: you may need to restart the kernel to use updated packages.\n"
     ]
    }
   ],
   "source": [
    "pip install openpyxl"
   ]
  },
  {
   "cell_type": "code",
   "execution_count": 4,
   "id": "a43c8e11",
   "metadata": {
    "execution": {
     "iopub.execute_input": "2022-04-18T14:13:11.742521Z",
     "iopub.status.busy": "2022-04-18T14:13:11.742228Z",
     "iopub.status.idle": "2022-04-18T14:13:12.983322Z",
     "shell.execute_reply": "2022-04-18T14:13:12.982684Z"
    },
    "papermill": {
     "duration": 1.261301,
     "end_time": "2022-04-18T14:13:12.986464",
     "exception": false,
     "start_time": "2022-04-18T14:13:11.725163",
     "status": "completed"
    },
    "tags": []
   },
   "outputs": [
    {
     "name": "stdout",
     "output_type": "stream",
     "text": [
      "<class 'pandas.core.frame.DataFrame'>\n",
      "RangeIndex: 6405 entries, 0 to 6404\n",
      "Data columns (total 7 columns):\n",
      " #   Column      Non-Null Count  Dtype \n",
      "---  ------      --------------  ----- \n",
      " 0   Unnamed: 0  6405 non-null   int64 \n",
      " 1   ID          6404 non-null   object\n",
      " 2   Text        6404 non-null   object\n",
      " 3   Sentiment   6405 non-null   object\n",
      " 4   Label       6405 non-null   int64 \n",
      " 5   Token       6405 non-null   object\n",
      " 6   Token_ID    6405 non-null   object\n",
      "dtypes: int64(2), object(5)\n",
      "memory usage: 350.4+ KB\n"
     ]
    }
   ],
   "source": [
    "df=pd.read_excel('/kaggle/input/6-class-bert-preprocessed-dataset/Bert_Preprocessed_Dataset.xlsx')\n",
    "df.info()"
   ]
  },
  {
   "cell_type": "code",
   "execution_count": 5,
   "id": "909dbcd9",
   "metadata": {
    "execution": {
     "iopub.execute_input": "2022-04-18T14:13:13.020552Z",
     "iopub.status.busy": "2022-04-18T14:13:13.019858Z",
     "iopub.status.idle": "2022-04-18T14:13:13.448649Z",
     "shell.execute_reply": "2022-04-18T14:13:13.447581Z"
    },
    "papermill": {
     "duration": 0.447699,
     "end_time": "2022-04-18T14:13:13.451075",
     "exception": false,
     "start_time": "2022-04-18T14:13:13.003376",
     "status": "completed"
    },
    "tags": []
   },
   "outputs": [],
   "source": [
    "import tensorflow as tf\n",
    "import tensorflow.keras as keras\n",
    "from tensorflow.keras.preprocessing.text import Tokenizer\n",
    "from tensorflow.keras.preprocessing.sequence import pad_sequences\n",
    "from tensorflow.keras.layers import Concatenate, Dense, Input, LSTM, Embedding, Dropout, Activation, GRU, Flatten\n",
    "from tensorflow.keras.layers import Bidirectional, GlobalMaxPool1D\n",
    "from tensorflow.keras.models import Model, Sequential\n",
    "from tensorflow.keras.layers import Convolution1D\n",
    "from tensorflow.keras import initializers, regularizers, constraints, optimizers, layers\n",
    "from tensorflow.keras.layers import Add, BatchNormalization, Activation, Dropout"
   ]
  },
  {
   "cell_type": "code",
   "execution_count": 6,
   "id": "bd80ed1f",
   "metadata": {
    "execution": {
     "iopub.execute_input": "2022-04-18T14:13:13.483632Z",
     "iopub.status.busy": "2022-04-18T14:13:13.483338Z",
     "iopub.status.idle": "2022-04-18T14:13:13.692570Z",
     "shell.execute_reply": "2022-04-18T14:13:13.691917Z"
    },
    "papermill": {
     "duration": 0.227995,
     "end_time": "2022-04-18T14:13:13.694684",
     "exception": false,
     "start_time": "2022-04-18T14:13:13.466689",
     "status": "completed"
    },
    "tags": []
   },
   "outputs": [],
   "source": [
    "MAX_FEATURES = 10000\n",
    "EMBED_SIZE = 128\n",
    "tokenizer = Tokenizer(num_words=MAX_FEATURES)\n",
    "df['Text']=df['Text'].astype(str)\n",
    "tokenizer.fit_on_texts(df['Text'])\n",
    "\n"
   ]
  },
  {
   "cell_type": "code",
   "execution_count": 7,
   "id": "67af9a3e",
   "metadata": {
    "execution": {
     "iopub.execute_input": "2022-04-18T14:13:13.727959Z",
     "iopub.status.busy": "2022-04-18T14:13:13.727339Z",
     "iopub.status.idle": "2022-04-18T14:13:13.735705Z",
     "shell.execute_reply": "2022-04-18T14:13:13.734769Z"
    },
    "papermill": {
     "duration": 0.027082,
     "end_time": "2022-04-18T14:13:13.737680",
     "exception": false,
     "start_time": "2022-04-18T14:13:13.710598",
     "status": "completed"
    },
    "tags": []
   },
   "outputs": [],
   "source": [
    "train=df[:int(.8*len(df))]\n",
    "test=df[int(.8*len(df)):int(.9*len(df))]\n",
    "validation=df[int(.9*len(df)):]\n",
    "x_train=train['Text'].astype(str)\n",
    "y_train=train['Label']\n",
    "x_validation=validation['Text'].astype(str)\n",
    "y_validation=validation['Label']\n",
    "x_test=test['Text'].astype(str)\n",
    "y_test=test['Label']"
   ]
  },
  {
   "cell_type": "code",
   "execution_count": 8,
   "id": "a77550ae",
   "metadata": {
    "execution": {
     "iopub.execute_input": "2022-04-18T14:13:13.770111Z",
     "iopub.status.busy": "2022-04-18T14:13:13.769819Z",
     "iopub.status.idle": "2022-04-18T14:13:13.933091Z",
     "shell.execute_reply": "2022-04-18T14:13:13.931825Z"
    },
    "papermill": {
     "duration": 0.182446,
     "end_time": "2022-04-18T14:13:13.935521",
     "exception": false,
     "start_time": "2022-04-18T14:13:13.753075",
     "status": "completed"
    },
    "tags": []
   },
   "outputs": [],
   "source": [
    "\n",
    "list_tokenized_train = tokenizer.texts_to_sequences(x_train)\n",
    "list_tokenized_val = tokenizer.texts_to_sequences(x_validation)  \n",
    "list_tokenized_test = tokenizer.texts_to_sequences(x_test)  \n",
    "RNN_CELL_SIZE = 100\n",
    "  \n",
    "MAX_LEN = 70  \n",
    "X_train = pad_sequences(list_tokenized_train, maxlen=MAX_LEN)\n",
    "X_valid = pad_sequences(list_tokenized_val, maxlen=MAX_LEN)\n",
    "X_test = pad_sequences(list_tokenized_test, maxlen=MAX_LEN)"
   ]
  },
  {
   "cell_type": "code",
   "execution_count": 9,
   "id": "f6d490db",
   "metadata": {
    "execution": {
     "iopub.execute_input": "2022-04-18T14:13:13.968265Z",
     "iopub.status.busy": "2022-04-18T14:13:13.967677Z",
     "iopub.status.idle": "2022-04-18T14:13:13.974925Z",
     "shell.execute_reply": "2022-04-18T14:13:13.974102Z"
    },
    "papermill": {
     "duration": 0.025596,
     "end_time": "2022-04-18T14:13:13.976749",
     "exception": false,
     "start_time": "2022-04-18T14:13:13.951153",
     "status": "completed"
    },
    "tags": []
   },
   "outputs": [],
   "source": [
    "class Attention(tf.keras.Model):\n",
    "    def __init__(self, units):\n",
    "        super(Attention, self).__init__()\n",
    "        self.W1 = tf.keras.layers.Dense(units)\n",
    "        self.W2 = tf.keras.layers.Dense(units)\n",
    "        self.V = tf.keras.layers.Dense(1)\n",
    "\n",
    "    def call(self, features, hidden):\n",
    "        # hidden shape == (batch_size, hidden size)\n",
    "        # hidden_with_time_axis shape == (batch_size, 1, hidden size)\n",
    "        # we are doing this to perform addition to calculate the score\n",
    "        hidden_with_time_axis = tf.expand_dims(hidden, 1)\n",
    "          \n",
    "        # score shape == (batch_size, max_length, 1)\n",
    "        # we get 1 at the last axis because we are applying score to self.V\n",
    "        # the shape of the tensor before applying self.V is (batch_size, max_length, units)\n",
    "        score = tf.nn.tanh(\n",
    "            self.W1(features) + self.W2(hidden_with_time_axis))\n",
    "        # attention_weights shape == (batch_size, max_length, 1)\n",
    "        attention_weights = tf.nn.softmax(self.V(score), axis=1)\n",
    "          \n",
    "        # context_vector shape after sum == (batch_size, hidden_size)\n",
    "        context_vector = attention_weights * features\n",
    "        context_vector = tf.reduce_sum(context_vector, axis=1)\n",
    "        return context_vector, attention_weights"
   ]
  },
  {
   "cell_type": "code",
   "execution_count": 10,
   "id": "426f5604",
   "metadata": {
    "execution": {
     "iopub.execute_input": "2022-04-18T14:13:14.009169Z",
     "iopub.status.busy": "2022-04-18T14:13:14.008812Z",
     "iopub.status.idle": "2022-04-18T14:13:14.115485Z",
     "shell.execute_reply": "2022-04-18T14:13:14.114358Z"
    },
    "papermill": {
     "duration": 0.125363,
     "end_time": "2022-04-18T14:13:14.117581",
     "exception": false,
     "start_time": "2022-04-18T14:13:13.992218",
     "status": "completed"
    },
    "tags": []
   },
   "outputs": [
    {
     "name": "stderr",
     "output_type": "stream",
     "text": [
      "2022-04-18 14:13:14.058388: I tensorflow/core/common_runtime/process_util.cc:146] Creating new thread pool with default inter op setting: 2. Tune using inter_op_parallelism_threads for best performance.\n"
     ]
    }
   ],
   "source": [
    "sequence_input = Input(shape=(MAX_LEN,), dtype=\"int32\")\n",
    "embedded_sequences = Embedding(MAX_FEATURES, EMBED_SIZE)(sequence_input)"
   ]
  },
  {
   "cell_type": "code",
   "execution_count": 11,
   "id": "94ae9a60",
   "metadata": {
    "execution": {
     "iopub.execute_input": "2022-04-18T14:13:14.150674Z",
     "iopub.status.busy": "2022-04-18T14:13:14.150141Z",
     "iopub.status.idle": "2022-04-18T14:13:15.286077Z",
     "shell.execute_reply": "2022-04-18T14:13:15.285214Z"
    },
    "papermill": {
     "duration": 1.15487,
     "end_time": "2022-04-18T14:13:15.288295",
     "exception": false,
     "start_time": "2022-04-18T14:13:14.133425",
     "status": "completed"
    },
    "tags": []
   },
   "outputs": [],
   "source": [
    "#conv = Convolution1D(128,5,activation='relu')(embedded_sequences)\n",
    "#pol = GlobalMaxPool1D()(conv)\n",
    "\n",
    "lstm = Bidirectional(LSTM(64, return_sequences = True), name=\"bi_lstm_0\")(embedded_sequences)\n",
    "\n",
    "# Getting our LSTM outputs\n",
    "(lstm, forward_h, forward_c, backward_h, backward_c) = Bidirectional(LSTM(64, return_sequences=True, return_state=True), name=\"bi_lstm_1\")(lstm)"
   ]
  },
  {
   "cell_type": "code",
   "execution_count": 12,
   "id": "25da5783",
   "metadata": {
    "execution": {
     "iopub.execute_input": "2022-04-18T14:13:15.321544Z",
     "iopub.status.busy": "2022-04-18T14:13:15.321267Z",
     "iopub.status.idle": "2022-04-18T14:13:15.502436Z",
     "shell.execute_reply": "2022-04-18T14:13:15.501415Z"
    },
    "papermill": {
     "duration": 0.200871,
     "end_time": "2022-04-18T14:13:15.504905",
     "exception": false,
     "start_time": "2022-04-18T14:13:15.304034",
     "status": "completed"
    },
    "tags": []
   },
   "outputs": [],
   "source": [
    "state_h = Concatenate()([forward_h, backward_h])\n",
    "state_c = Concatenate()([forward_c, backward_c])\n",
    "context_vector, attention_weights = Attention(20)(lstm, state_h)\n",
    "dense1 = Dense(20, activation=\"relu\")(context_vector)\n",
    "dropout = Dropout(0.1)(dense1)\n",
    "output = Dense(6, activation=\"softmax\")(dropout)\n",
    "  \n",
    "model = keras.Model(inputs=sequence_input, outputs=output)"
   ]
  },
  {
   "cell_type": "code",
   "execution_count": 13,
   "id": "1342b9fe",
   "metadata": {
    "execution": {
     "iopub.execute_input": "2022-04-18T14:13:15.541090Z",
     "iopub.status.busy": "2022-04-18T14:13:15.540786Z",
     "iopub.status.idle": "2022-04-18T14:13:15.558004Z",
     "shell.execute_reply": "2022-04-18T14:13:15.556860Z"
    },
    "papermill": {
     "duration": 0.039881,
     "end_time": "2022-04-18T14:13:15.560735",
     "exception": false,
     "start_time": "2022-04-18T14:13:15.520854",
     "status": "completed"
    },
    "tags": []
   },
   "outputs": [],
   "source": [
    "model.compile(loss='sparse_categorical_crossentropy',\n",
    "              optimizer= keras.optimizers.Adam(learning_rate = 0.001),\n",
    "              metrics=['accuracy'])"
   ]
  },
  {
   "cell_type": "code",
   "execution_count": 14,
   "id": "e0386e5f",
   "metadata": {
    "execution": {
     "iopub.execute_input": "2022-04-18T14:13:15.597726Z",
     "iopub.status.busy": "2022-04-18T14:13:15.597471Z",
     "iopub.status.idle": "2022-04-18T14:19:12.477331Z",
     "shell.execute_reply": "2022-04-18T14:19:12.476281Z"
    },
    "papermill": {
     "duration": 356.902211,
     "end_time": "2022-04-18T14:19:12.480128",
     "exception": false,
     "start_time": "2022-04-18T14:13:15.577917",
     "status": "completed"
    },
    "tags": []
   },
   "outputs": [
    {
     "name": "stderr",
     "output_type": "stream",
     "text": [
      "2022-04-18 14:13:15.661122: I tensorflow/compiler/mlir/mlir_graph_optimization_pass.cc:185] None of the MLIR Optimization Passes are enabled (registered 2)\n"
     ]
    },
    {
     "name": "stdout",
     "output_type": "stream",
     "text": [
      "Epoch 1/20\n",
      "81/81 [==============================] - 27s 237ms/step - loss: 1.6407 - accuracy: 0.3247 - val_loss: 1.5297 - val_accuracy: 0.3682\n",
      "Epoch 2/20\n",
      "81/81 [==============================] - 16s 202ms/step - loss: 1.4028 - accuracy: 0.4383 - val_loss: 1.4814 - val_accuracy: 0.3994\n",
      "Epoch 3/20\n",
      "81/81 [==============================] - 17s 210ms/step - loss: 1.1643 - accuracy: 0.5482 - val_loss: 1.5348 - val_accuracy: 0.4540\n",
      "Epoch 4/20\n",
      "81/81 [==============================] - 17s 204ms/step - loss: 0.8760 - accuracy: 0.6805 - val_loss: 1.7127 - val_accuracy: 0.4493\n",
      "Epoch 5/20\n",
      "81/81 [==============================] - 17s 213ms/step - loss: 0.6237 - accuracy: 0.7873 - val_loss: 1.9759 - val_accuracy: 0.4571\n",
      "Epoch 6/20\n",
      "81/81 [==============================] - 16s 202ms/step - loss: 0.4640 - accuracy: 0.8501 - val_loss: 2.1855 - val_accuracy: 0.4431\n",
      "Epoch 7/20\n",
      "81/81 [==============================] - 17s 211ms/step - loss: 0.3778 - accuracy: 0.8829 - val_loss: 2.3168 - val_accuracy: 0.4446\n",
      "Epoch 8/20\n",
      "81/81 [==============================] - 16s 202ms/step - loss: 0.3126 - accuracy: 0.9091 - val_loss: 2.5819 - val_accuracy: 0.4165\n",
      "Epoch 9/20\n",
      "81/81 [==============================] - 18s 226ms/step - loss: 0.2435 - accuracy: 0.9299 - val_loss: 2.7807 - val_accuracy: 0.4072\n",
      "Epoch 10/20\n",
      "81/81 [==============================] - 17s 212ms/step - loss: 0.2163 - accuracy: 0.9407 - val_loss: 2.8861 - val_accuracy: 0.4134\n",
      "Epoch 11/20\n",
      "81/81 [==============================] - 18s 225ms/step - loss: 0.1743 - accuracy: 0.9508 - val_loss: 2.9610 - val_accuracy: 0.4119\n",
      "Epoch 12/20\n",
      "81/81 [==============================] - 19s 230ms/step - loss: 0.1499 - accuracy: 0.9588 - val_loss: 2.9912 - val_accuracy: 0.4243\n",
      "Epoch 13/20\n",
      "81/81 [==============================] - 17s 215ms/step - loss: 0.1367 - accuracy: 0.9621 - val_loss: 3.0552 - val_accuracy: 0.4290\n",
      "Epoch 14/20\n",
      "81/81 [==============================] - 17s 214ms/step - loss: 0.1430 - accuracy: 0.9582 - val_loss: 3.0664 - val_accuracy: 0.4290\n",
      "Epoch 15/20\n",
      "81/81 [==============================] - 17s 208ms/step - loss: 0.1357 - accuracy: 0.9617 - val_loss: 3.2628 - val_accuracy: 0.4087\n",
      "Epoch 16/20\n",
      "81/81 [==============================] - 20s 243ms/step - loss: 0.1071 - accuracy: 0.9678 - val_loss: 3.5403 - val_accuracy: 0.4009\n",
      "Epoch 17/20\n",
      "81/81 [==============================] - 18s 218ms/step - loss: 0.0967 - accuracy: 0.9729 - val_loss: 3.6307 - val_accuracy: 0.4072\n",
      "Epoch 18/20\n",
      "81/81 [==============================] - 18s 222ms/step - loss: 0.0953 - accuracy: 0.9705 - val_loss: 3.7942 - val_accuracy: 0.4087\n",
      "Epoch 19/20\n",
      "81/81 [==============================] - 17s 214ms/step - loss: 0.0896 - accuracy: 0.9733 - val_loss: 4.0226 - val_accuracy: 0.4041\n",
      "Epoch 20/20\n",
      "81/81 [==============================] - 17s 209ms/step - loss: 0.0925 - accuracy: 0.9688 - val_loss: 3.9838 - val_accuracy: 0.4041\n"
     ]
    }
   ],
   "source": [
    "BATCH_SIZE = 64\n",
    "EPOCHS = 20\n",
    "history = model.fit(X_train,y_train,\n",
    "                    batch_size=BATCH_SIZE,\n",
    "                    epochs=EPOCHS,\n",
    "                    validation_data=(X_valid, y_validation))"
   ]
  },
  {
   "cell_type": "code",
   "execution_count": 15,
   "id": "4576378c",
   "metadata": {
    "execution": {
     "iopub.execute_input": "2022-04-18T14:19:13.417017Z",
     "iopub.status.busy": "2022-04-18T14:19:13.416455Z",
     "iopub.status.idle": "2022-04-18T14:19:14.191320Z",
     "shell.execute_reply": "2022-04-18T14:19:14.190168Z"
    },
    "papermill": {
     "duration": 1.250764,
     "end_time": "2022-04-18T14:19:14.193866",
     "exception": false,
     "start_time": "2022-04-18T14:19:12.943102",
     "status": "completed"
    },
    "tags": []
   },
   "outputs": [],
   "source": [
    "import numpy as np\n",
    "from sklearn.metrics import classification_report"
   ]
  },
  {
   "cell_type": "code",
   "execution_count": 16,
   "id": "599d6d95",
   "metadata": {
    "execution": {
     "iopub.execute_input": "2022-04-18T14:19:15.132899Z",
     "iopub.status.busy": "2022-04-18T14:19:15.132276Z",
     "iopub.status.idle": "2022-04-18T14:19:17.707643Z",
     "shell.execute_reply": "2022-04-18T14:19:17.706598Z"
    },
    "papermill": {
     "duration": 3.049626,
     "end_time": "2022-04-18T14:19:17.709593",
     "exception": false,
     "start_time": "2022-04-18T14:19:14.659967",
     "status": "completed"
    },
    "tags": []
   },
   "outputs": [
    {
     "name": "stdout",
     "output_type": "stream",
     "text": [
      "              precision    recall  f1-score   support\n",
      "\n",
      "           0       0.42      0.51      0.46       144\n",
      "           1       0.18      0.18      0.18        66\n",
      "           2       0.09      0.09      0.09        32\n",
      "           3       0.70      0.57      0.63       187\n",
      "           4       0.37      0.34      0.36       148\n",
      "           5       0.21      0.27      0.23        63\n",
      "\n",
      "    accuracy                           0.41       640\n",
      "   macro avg       0.33      0.33      0.33       640\n",
      "weighted avg       0.43      0.41      0.42       640\n",
      "\n"
     ]
    }
   ],
   "source": [
    "y_pred = np.argmax(model.predict(X_test),axis = -1)\n",
    "print(classification_report(y_test, y_pred))"
   ]
  }
 ],
 "metadata": {
  "kernelspec": {
   "display_name": "Python 3",
   "language": "python",
   "name": "python3"
  },
  "language_info": {
   "codemirror_mode": {
    "name": "ipython",
    "version": 3
   },
   "file_extension": ".py",
   "mimetype": "text/x-python",
   "name": "python",
   "nbconvert_exporter": "python",
   "pygments_lexer": "ipython3",
   "version": "3.7.12"
  },
  "papermill": {
   "default_parameters": {},
   "duration": 394.717041,
   "end_time": "2022-04-18T14:19:21.119937",
   "environment_variables": {},
   "exception": null,
   "input_path": "__notebook__.ipynb",
   "output_path": "__notebook__.ipynb",
   "parameters": {},
   "start_time": "2022-04-18T14:12:46.402896",
   "version": "2.3.4"
  }
 },
 "nbformat": 4,
 "nbformat_minor": 5
}
